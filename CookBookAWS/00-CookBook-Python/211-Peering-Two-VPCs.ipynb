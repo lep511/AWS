{
 "cells": [
  {
   "cell_type": "markdown",
   "metadata": {},
   "source": [
    "### Unir dos VPCs para la comunicación de red entre VPCs\n",
    "\n",
    "#### Problema\n",
    "Necesita habilitar dos instancias en VPCs separadas para que se comuniquen entre sí de una manera simple y rentable.\n",
    "\n",
    "#### Solución\n",
    "Solicite una conexión de peering entre dos VPC, acepte la conexión de peering, actualice las tablas de rutas para cada subred de la VPC y, finalmente, pruebe la conexión de una instancia a otra.\n",
    "\n",
    "<img src=\"https://learning.oreilly.com/api/v2/epubs/urn:orm:book:9781492092599/files/assets/awsc_0215.png\" width=\"650\">"
   ]
  },
  {
   "cell_type": "code",
   "execution_count": null,
   "metadata": {},
   "outputs": [],
   "source": [
    "import boto3\n",
    "import json\n",
    "import time\n",
    "\n",
    "region_aws = 'us-east-1'\n",
    "\n",
    "ec2 = boto3.resource('ec2', region_name=region_aws)\n",
    "ec2_client = boto3.client('ec2', region_name=region_aws)"
   ]
  },
  {
   "cell_type": "code",
   "execution_count": 2,
   "metadata": {},
   "outputs": [
    {
     "data": {
      "text/plain": [
       "ec2.RouteTableAssociation(id='rtbassoc-098cd028ca37dda75')"
      ]
     },
     "execution_count": 2,
     "metadata": {},
     "output_type": "execute_result"
    }
   ],
   "source": [
    "# Create two VPCs\n",
    "vpc1 = ec2.create_vpc(CidrBlock='10.10.0.0/16')\n",
    "vpc1.create_tags(Tags=[{\"Key\": \"Name\", \"Value\": \"AWSCookBookVPC-1\"}])\n",
    "vpc2 = ec2.create_vpc(CidrBlock='10.11.0.0/16')\n",
    "vpc2.create_tags(Tags=[{\"Key\": \"Name\", \"Value\": \"AWSCookBookVPC-2\"}])\n",
    "vpc2.wait_until_available()\n",
    "\n",
    "\n",
    "# Create two subnets for each VPC\n",
    "vpc1_subnet1 = ec2.create_subnet(\n",
    "    CidrBlock='10.10.1.0/24', \n",
    "    VpcId=vpc1.id,\n",
    "    AvailabilityZone=region_aws+'a'\n",
    ")\n",
    "vpc1_subnet2 = ec2.create_subnet(\n",
    "    CidrBlock='10.10.2.0/24',\n",
    "    VpcId=vpc1.id\n",
    ")\n",
    "\n",
    "vpc2_subnet1 = ec2.create_subnet(\n",
    "    CidrBlock='10.11.1.0/24',\n",
    "    VpcId=vpc2.id\n",
    ")\n",
    "vpc2_subnet2 = ec2.create_subnet(\n",
    "    CidrBlock='10.11.2.0/24',\n",
    "    VpcId=vpc2.id\n",
    ")\n",
    "\n",
    "\n",
    "# Create tags for subnets\n",
    "vpc1_subnet1.create_tags(Tags=[{\"Key\": \"Name\", \"Value\": \"AWSCookBookVPC-1-Subnet-1\"}])\n",
    "vpc1_subnet2.create_tags(Tags=[{\"Key\": \"Name\", \"Value\": \"AWSCookBookVPC-1-Subnet-2\"}])\n",
    "vpc2_subnet1.create_tags(Tags=[{\"Key\": \"Name\", \"Value\": \"AWSCookBookVPC-2-Subnet-1\"}])\n",
    "vpc2_subnet2.create_tags(Tags=[{\"Key\": \"Name\", \"Value\": \"AWSCookBookVPC-2-Subnet-2\"}])\n",
    "\n",
    "\n",
    "# Create route tables for each VPC\n",
    "vpc1_route_table = vpc1.create_route_table()\n",
    "vpc1_route_table.create_tags(Tags=[{\"Key\": \"Name\", \"Value\": \"AWSCookBookVPC-1-Route-Table\"}])\n",
    "vpc2_route_table = vpc2.create_route_table()\n",
    "vpc2_route_table.create_tags(Tags=[{\"Key\": \"Name\", \"Value\": \"AWSCookBookVPC-2-Route-Table\"}])\n",
    "\n",
    "\n",
    "# Associate subnets with route tables\n",
    "vpc1_route_table.associate_with_subnet(SubnetId=vpc1_subnet1.id)\n",
    "vpc1_route_table.associate_with_subnet(SubnetId=vpc1_subnet2.id)\n",
    "vpc2_route_table.associate_with_subnet(SubnetId=vpc2_subnet1.id)\n",
    "vpc2_route_table.associate_with_subnet(SubnetId=vpc2_subnet2.id)"
   ]
  },
  {
   "cell_type": "markdown",
   "metadata": {},
   "source": [
    "#### Crear una conexión VPC peering para conectar VPC1 con VPC2\n",
    "\n",
    "Las conexiones de peering de VPC pueden establecerse desde una cuenta de AWS a otra cuenta de AWS. Si decide establecer conexiones de pares de VPC entre cuentas de AWS, debe asegurarse de tener la configuración correcta de IAM para crear y aceptar la conexión de pares dentro de cada cuenta. En este ejemplo será dentro de la misma cuenta."
   ]
  },
  {
   "cell_type": "code",
   "execution_count": 3,
   "metadata": {},
   "outputs": [],
   "source": [
    "vpc_peering_connection = ec2_client.create_vpc_peering_connection(\n",
    "    VpcId=vpc1.id,\n",
    "    PeerVpcId=vpc2.id\n",
    ")"
   ]
  },
  {
   "cell_type": "code",
   "execution_count": 5,
   "metadata": {},
   "outputs": [
    {
     "name": "stdout",
     "output_type": "stream",
     "text": [
      "VPC Peering Connection is active\n"
     ]
    }
   ],
   "source": [
    "vpc_peering_connection_id = vpc_peering_connection['VpcPeeringConnection']['VpcPeeringConnectionId']\n",
    "response = ec2_client.accept_vpc_peering_connection(VpcPeeringConnectionId=vpc_peering_connection_id)\n",
    "if response['VpcPeeringConnection']['Status']['Code'] == 'active':\n",
    "    print('VPC Peering Connection is active')"
   ]
  },
  {
   "cell_type": "code",
   "execution_count": 6,
   "metadata": {},
   "outputs": [
    {
     "data": {
      "text/plain": [
       "ec2.Route(route_table_id='rtb-0f59c14cc6b21e234', destination_cidr_block='10.10.0.0/16')"
      ]
     },
     "execution_count": 6,
     "metadata": {},
     "output_type": "execute_result"
    }
   ],
   "source": [
    "# Create a route in the route table of VPC1 to send traffic to VPC2\n",
    "vpc1_route_table.create_route(\n",
    "    DestinationCidrBlock=vpc2.cidr_block,\n",
    "    VpcPeeringConnectionId=vpc_peering_connection_id\n",
    ")\n",
    "\n",
    "# Create a route in the route table of VPC2 to send traffic to VPC1\n",
    "vpc2_route_table.create_route(\n",
    "    DestinationCidrBlock=vpc1.cidr_block,\n",
    "    VpcPeeringConnectionId=vpc_peering_connection_id\n",
    ")"
   ]
  },
  {
   "cell_type": "code",
   "execution_count": 16,
   "metadata": {},
   "outputs": [
    {
     "name": "stdout",
     "output_type": "stream",
     "text": [
      "En la terminal ejecute el siguiente comando:\n",
      "    python create_ec2_ssm.py --vpc vpc-025e778f159d2df44 --subnet subnet-05b127a57bf739e16\n"
     ]
    }
   ],
   "source": [
    "print(\"En la terminal ejecute el siguiente comando:\")\n",
    "print(\"    python create_ec2_ssm.py --vpc {} --subnet {}\".format(vpc1.id, vpc1_subnet1.id))"
   ]
  },
  {
   "cell_type": "code",
   "execution_count": 17,
   "metadata": {},
   "outputs": [
    {
     "name": "stdout",
     "output_type": "stream",
     "text": [
      "También ejecute el siguiente comando:\n",
      "    python create_ec2_ssm.py --vpc vpc-08e6b3d19d517ad2c --subnet subnet-0eb66a12a1655fe9e\n"
     ]
    }
   ],
   "source": [
    "print(\"También ejecute el siguiente comando:\")\n",
    "print(\"    python create_ec2_ssm.py --vpc {} --subnet {}\".format(vpc2.id, vpc2_subnet1.id))"
   ]
  },
  {
   "cell_type": "code",
   "execution_count": 56,
   "metadata": {},
   "outputs": [
    {
     "name": "stdout",
     "output_type": "stream",
     "text": [
      "Instance in VPC1: i-03508e373ce9ddafb\n"
     ]
    }
   ],
   "source": [
    "# List of the instances in the VPC1\n",
    "instances = ec2.instances.filter(\n",
    "    Filters=[{'Name': 'vpc-id', 'Values': [vpc1.id]}]\n",
    ")\n",
    "for instance in instances:\n",
    "    instance1 = instance\n",
    "    print(\"Instance in VPC1: {}\".format(instance1.id))"
   ]
  },
  {
   "cell_type": "code",
   "execution_count": 57,
   "metadata": {},
   "outputs": [
    {
     "name": "stdout",
     "output_type": "stream",
     "text": [
      "Instance in VPC2: i-0940367df644f22df\n"
     ]
    }
   ],
   "source": [
    "# List of the instances in the VPC2\n",
    "instances = ec2.instances.filter(\n",
    "    Filters=[{'Name': 'vpc-id', 'Values': [vpc2.id]}]\n",
    ")\n",
    "for instance in instances:\n",
    "    instance2 = instance\n",
    "    print(\"Instance in VPC2: {}\".format(instance2.id))"
   ]
  },
  {
   "cell_type": "code",
   "execution_count": 58,
   "metadata": {},
   "outputs": [],
   "source": [
    "# Select the security group of the instance\n",
    "sg_1 = ec2.SecurityGroup(instance1.security_groups[0]['GroupId'])\n",
    "sg_2 = ec2.SecurityGroup(instance2.security_groups[0]['GroupId'])"
   ]
  },
  {
   "cell_type": "code",
   "execution_count": 73,
   "metadata": {},
   "outputs": [],
   "source": [
    "# Add an ingress rule to instance 2’s security group that allows ICMPv4 access from instance 1’s security group:\n",
    "response = ec2_client.authorize_security_group_ingress(\n",
    "    GroupId=sg_2.id,\n",
    "    IpPermissions=[\n",
    "        {\n",
    "            'IpProtocol': 'icmp',\n",
    "            'FromPort': -1,\n",
    "            'ToPort': -1,\n",
    "            'UserIdGroupPairs': [\n",
    "                {\n",
    "                    'GroupId': sg_1.id,\n",
    "                    'Description': 'Allow ICMPv4 access'\n",
    "                },\n",
    "            ]\n",
    "        },\n",
    "    ]\n",
    ")"
   ]
  },
  {
   "cell_type": "code",
   "execution_count": 74,
   "metadata": {},
   "outputs": [
    {
     "name": "stdout",
     "output_type": "stream",
     "text": [
      "Conectese a la instancia 1:\n",
      "   aws ssm start-session --target i-03508e373ce9ddafb\n"
     ]
    }
   ],
   "source": [
    "print(\"Conectese a la instancia 1:\")\n",
    "print(\"   aws ssm start-session --target {}\".format(instance1.id))"
   ]
  },
  {
   "cell_type": "code",
   "execution_count": 49,
   "metadata": {},
   "outputs": [
    {
     "name": "stdout",
     "output_type": "stream",
     "text": [
      "Desde la instancia 1 ejecute el siguiente comando: \n",
      "    ping -c 4 10.11.1.157\n"
     ]
    }
   ],
   "source": [
    "print(\"Desde la instancia 1 ejecute el siguiente comando: \")\n",
    "print(\"    ping -c 4 {}\".format(instance2.private_ip_address))"
   ]
  },
  {
   "cell_type": "markdown",
   "metadata": {},
   "source": [
    "Puede buscar el ID de un grupo de seguridad en la consola de la VPC para mostrar todos los grupos de seguridad que hacen referencia a otros. También puede ejecutar el comando CLI `aws ec2 describe-security-group-references` para conseguirlo. Esto es útil para obtener información sobre qué grupos de seguridad hacen referencia a otros. Puede hacer referencia a grupos de seguridad en VPCs peered que pertenecen a otras cuentas de AWS pero que no se encuentran en otras regiones.\n",
    "\n",
    "#### Discusión\n",
    "Las conexiones VPC peering son no transitivas. Cada VPC necesita hacer peering con cada una de las otras VPC con las que necesita comunicarse. Este tipo de conexión es ideal cuando se tiene una VPC que aloja servicios compartidos a los que otras VPCs necesitan acceder, mientras que las VPCs \"spoke\" no se comunican entre sí.\n",
    "\n",
    "Además de las conexiones de peering, es necesario configurar las tablas de rutas asociadas a las subredes de la VPC para enviar el tráfico destinado al CIDR de la VPC peered a la conexión de peering (PCX). En otras palabras, para que la VPC1 pueda comunicarse con la VPC2, la ruta de destino debe estar presente en la VPC1 y la ruta de retorno también debe estar presente en la VPC2.\n",
    "\n",
    "Si se agrega una tercera VPC a esta receta, y se necesita que todas las VPC puedan comunicarse entre sí, habría que emparejar esa tercera VPC con las dos anteriores y actualizar todas las tablas de rutas de las VPC en consecuencia para permitir que todas las VPC se comuniquen entre sí. A medida que se añaden más VPCs a una arquitectura de red como ésta, se puede notar que el número de conexiones de peering y las actualizaciones de la tabla de rutas requeridas comienzan a aumentar exponencialmente. Debido a esto, el gateway de tránsito es una mejor opción para la comunicación transitiva de VPC utilizando tablas de rutas de gateway de tránsito.\n",
    "\n",
    "Puede utilizar el peering de VPC de forma cruzada si es necesario, y también puede referenciar grupos de seguridad en VPCs peered de forma similar a la referencia de grupos de seguridad dentro de una única VPC. Esto le permite utilizar el mismo tipo de estrategia con la forma de administrar los grupos de seguridad en todo su entorno de AWS al utilizar el peering de VPC.\n",
    "\n",
    "**NOTA:** La conexión de VPCs entre sí requiere rangos CIDR no superpuestos para que el enrutamiento funcione normalmente. Las tablas de rutas de la VPC deben incluir una ruta específica que dirija el tráfico destinado a la VPC conectada al peering.\n",
    "\n",
    "\n",
    "#### Desafío\n",
    "Las conexiones de peering de VPC pueden establecerse en todas las regiones de AWS. Conecte una VPC en otra región a la VPC que implementó en la región utilizada en el ejemplo."
   ]
  }
 ],
 "metadata": {
  "kernelspec": {
   "display_name": "Python 3.9.12 ('base')",
   "language": "python",
   "name": "python3"
  },
  "language_info": {
   "codemirror_mode": {
    "name": "ipython",
    "version": 3
   },
   "file_extension": ".py",
   "mimetype": "text/x-python",
   "name": "python",
   "nbconvert_exporter": "python",
   "pygments_lexer": "ipython3",
   "version": "3.9.12"
  },
  "orig_nbformat": 4,
  "vscode": {
   "interpreter": {
    "hash": "c9cdd2fa3b32da9704bd8048bdba085d67219855a318f4adc7f095bb5cfa603b"
   }
  }
 },
 "nbformat": 4,
 "nbformat_minor": 2
}
