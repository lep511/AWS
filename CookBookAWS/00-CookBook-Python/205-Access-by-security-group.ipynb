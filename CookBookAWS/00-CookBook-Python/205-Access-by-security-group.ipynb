{
 "cells": [
  {
   "cell_type": "markdown",
   "metadata": {},
   "source": [
    "### Concesión de acceso dinámico por referencia a grupos de seguridad\n",
    "\n",
    "*Problema*\n",
    "Usted tiene un grupo de aplicaciones que actualmente consiste en dos instancias y necesita permitir Secure Shell (SSH) entre ellas. Esto necesita ser configurado de una manera que permita el crecimiento futuro del número de instancias de forma segura y fácil.\n",
    "\n",
    "*Solución*\n",
    "\n",
    "**ADVERTENCIA**: Un error común es pensar que simplemente asociando el mismo grupo de seguridad a las ENIs para múltiples instancias EC2, permitirá la comunicación entre ellas (ver Figura).\n",
    "\n",
    "<img src=\"https://learning.oreilly.com/api/v2/epubs/urn:orm:book:9781492092599/files/assets/awsc_0206.png\" width=\"500\">\n",
    "\n",
    "En esta receta, crearemos un grupo de seguridad y asociaremos cada uno a las ENIs de dos instancias EC2. Por último, crearemos una regla de entrada que autorice al grupo de seguridad a llegar a sí mismo en el puerto TCP 22.\n",
    "\n",
    "<img src=\"https://learning.oreilly.com/api/v2/epubs/urn:orm:book:9781492092599/files/assets/awsc_0207.png\" width=\"500\">"
   ]
  },
  {
   "cell_type": "code",
   "execution_count": 1,
   "metadata": {},
   "outputs": [],
   "source": [
    "import boto3\n",
    "import json\n",
    "import time\n",
    "\n",
    "region_aws = 'us-east-1'\n",
    "\n",
    "ec2 = boto3.resource('ec2', region_name=region_aws)\n",
    "ec2_client = boto3.client('ec2', region_name=region_aws)"
   ]
  },
  {
   "cell_type": "code",
   "execution_count": 2,
   "metadata": {},
   "outputs": [],
   "source": [
    "# create VPC\n",
    "vpc = ec2.create_vpc(CidrBlock='174.17.0.0/16')\n",
    "vpc.create_tags(Tags=[{\"Key\": \"Name\", \"Value\": \"AWSCookBookVPC\"}])\n",
    "vpc.wait_until_available()"
   ]
  },
  {
   "cell_type": "code",
   "execution_count": 3,
   "metadata": {},
   "outputs": [
    {
     "data": {
      "text/plain": [
       "[ec2.Tag(resource_id='rtb-0c8ec5f83fe8094cc', key='Name', value='AWSCookbookVPC-RT')]"
      ]
     },
     "execution_count": 3,
     "metadata": {},
     "output_type": "execute_result"
    }
   ],
   "source": [
    "# Crear routable\n",
    "routetable = vpc.create_route_table()\n",
    "routetable.create_tags(Tags=[{\"Key\": \"Name\", \"Value\": \"AWSCookbookVPC-RT\"}])"
   ]
  },
  {
   "cell_type": "code",
   "execution_count": 4,
   "metadata": {},
   "outputs": [
    {
     "data": {
      "text/plain": [
       "[ec2.Tag(resource_id='subnet-0b557c73f95eb3cf7', key='Name', value='AWSCookbook-SN')]"
      ]
     },
     "execution_count": 4,
     "metadata": {},
     "output_type": "execute_result"
    }
   ],
   "source": [
    "# Cree una subrede:\n",
    "subnet = ec2.create_subnet(\n",
    "    CidrBlock='174.17.0.0/24', \n",
    "    VpcId=vpc.id,\n",
    "    AvailabilityZone='us-east-1a'\n",
    ")\n",
    "subnet.create_tags(Tags=[{\"Key\": \"Name\", \"Value\": \"AWSCookbook-SN\"}])"
   ]
  },
  {
   "cell_type": "code",
   "execution_count": 5,
   "metadata": {},
   "outputs": [
    {
     "data": {
      "text/plain": [
       "ec2.RouteTableAssociation(id='rtbassoc-05f638bb70d03e0e0')"
      ]
     },
     "execution_count": 5,
     "metadata": {},
     "output_type": "execute_result"
    }
   ],
   "source": [
    "# Asociar la tabla de rutas con la subred:\n",
    "routetable.associate_with_subnet(SubnetId = subnet.id)"
   ]
  },
  {
   "cell_type": "code",
   "execution_count": 6,
   "metadata": {},
   "outputs": [],
   "source": [
    "# Crear un grupo de seguridad\n",
    "security_group = vpc.create_security_group(\n",
    "    GroupName='AWSCookbook-SG-SSH',\n",
    "    Description='Allow SSH access',\n",
    "    VpcId=vpc.id\n",
    ")"
   ]
  },
  {
   "cell_type": "code",
   "execution_count": 7,
   "metadata": {},
   "outputs": [
    {
     "data": {
      "text/plain": [
       "{'Return': True,\n",
       " 'SecurityGroupRules': [{'SecurityGroupRuleId': 'sgr-04be783df489252b2',\n",
       "   'GroupId': 'sg-0033f0a59bae7980c',\n",
       "   'GroupOwnerId': '329364475115',\n",
       "   'IsEgress': False,\n",
       "   'IpProtocol': 'tcp',\n",
       "   'FromPort': 22,\n",
       "   'ToPort': 22,\n",
       "   'ReferencedGroupInfo': {'GroupId': 'sg-0033f0a59bae7980c',\n",
       "    'UserId': '329364475115'},\n",
       "   'Description': 'Allow SSH access'}],\n",
       " 'ResponseMetadata': {'RequestId': '3b66f522-5ff5-4844-aee0-0615e5061285',\n",
       "  'HTTPStatusCode': 200,\n",
       "  'HTTPHeaders': {'x-amzn-requestid': '3b66f522-5ff5-4844-aee0-0615e5061285',\n",
       "   'cache-control': 'no-cache, no-store',\n",
       "   'strict-transport-security': 'max-age=31536000; includeSubDomains',\n",
       "   'content-type': 'text/xml;charset=UTF-8',\n",
       "   'content-length': '903',\n",
       "   'date': 'Tue, 04 Oct 2022 23:59:18 GMT',\n",
       "   'server': 'AmazonEC2'},\n",
       "  'RetryAttempts': 0}}"
      ]
     },
     "execution_count": 7,
     "metadata": {},
     "output_type": "execute_result"
    }
   ],
   "source": [
    "# Añada una regla de entrada al grupo de seguridad que permita el acceso en el puerto TCP 22 desde sí mismo:\n",
    "ec2_client.authorize_security_group_ingress(\n",
    "    GroupId=security_group.id,\n",
    "    IpPermissions=[\n",
    "        {'IpProtocol': 'tcp',\n",
    "            'FromPort': 22,\n",
    "            'ToPort': 22,\n",
    "            'UserIdGroupPairs': [\n",
    "                {\n",
    "                    'Description': 'Allow SSH access',\n",
    "                    'GroupId': security_group.id\n",
    "                }\n",
    "            ]\n",
    "        } \n",
    "    ]\n",
    ")"
   ]
  },
  {
   "cell_type": "markdown",
   "metadata": {},
   "source": [
    "Este tipo de regla de grupo de seguridad se denomina regla de autorreferencia (*self-referencing rule*). Permite el acceso al puerto específico desde el tráfico que se origina en ENIs (no un rango estático de IPs) que tienen este mismo grupo de seguridad adjunto."
   ]
  },
  {
   "cell_type": "markdown",
   "metadata": {},
   "source": [
    "#### Crear dos instancias y conectarse mediante el gestor de sesiones SSM"
   ]
  },
  {
   "cell_type": "code",
   "execution_count": 8,
   "metadata": {},
   "outputs": [],
   "source": [
    "iam = boto3.client('iam')\n",
    "ssm = boto3.client('ssm')"
   ]
  },
  {
   "cell_type": "code",
   "execution_count": 9,
   "metadata": {},
   "outputs": [],
   "source": [
    "# Create a role\n",
    "role_name = 'Cookbook-SSM-Role'\n",
    "policy_document = {\n",
    "  \"Version\": \"2012-10-17\",\n",
    "  \"Statement\": [\n",
    "  {\n",
    "    \"Effect\": \"Allow\",\n",
    "    \"Principal\": {\n",
    "      \"Service\": \"ec2.amazonaws.com\"\n",
    "    },\n",
    "    \"Action\": \"sts:AssumeRole\"\n",
    "  }\n",
    "  ]\n",
    "}\n",
    "\n",
    "ssm_role = iam.create_role(\n",
    "    RoleName=role_name,\n",
    "    AssumeRolePolicyDocument=json.dumps(policy_document)\n",
    ")"
   ]
  },
  {
   "cell_type": "code",
   "execution_count": 10,
   "metadata": {},
   "outputs": [
    {
     "data": {
      "text/plain": [
       "{'ResponseMetadata': {'RequestId': '548975f0-d5a8-4b2c-b053-9629a77004b7',\n",
       "  'HTTPStatusCode': 200,\n",
       "  'HTTPHeaders': {'x-amzn-requestid': '548975f0-d5a8-4b2c-b053-9629a77004b7',\n",
       "   'content-type': 'text/xml',\n",
       "   'content-length': '212',\n",
       "   'date': 'Tue, 04 Oct 2022 23:59:28 GMT'},\n",
       "  'RetryAttempts': 0}}"
      ]
     },
     "execution_count": 10,
     "metadata": {},
     "output_type": "execute_result"
    }
   ],
   "source": [
    "# Attach the policy to the role\n",
    "iam.attach_role_policy(\n",
    "    RoleName=role_name,\n",
    "    PolicyArn='arn:aws:iam::aws:policy/AmazonSSMManagedInstanceCore'\n",
    ")"
   ]
  },
  {
   "cell_type": "code",
   "execution_count": 11,
   "metadata": {},
   "outputs": [],
   "source": [
    "# Create an instance profile\n",
    "instance_profile_name = 'Cookbook-SSM-Profile'\n",
    "instance_profile = iam.create_instance_profile(\n",
    "    InstanceProfileName=instance_profile_name\n",
    ")"
   ]
  },
  {
   "cell_type": "code",
   "execution_count": 12,
   "metadata": {},
   "outputs": [
    {
     "data": {
      "text/plain": [
       "{'ResponseMetadata': {'RequestId': '25565f08-a7ba-4d45-a8f6-d04fe8b68bb5',\n",
       "  'HTTPStatusCode': 200,\n",
       "  'HTTPHeaders': {'x-amzn-requestid': '25565f08-a7ba-4d45-a8f6-d04fe8b68bb5',\n",
       "   'content-type': 'text/xml',\n",
       "   'content-length': '228',\n",
       "   'date': 'Tue, 04 Oct 2022 23:59:33 GMT'},\n",
       "  'RetryAttempts': 0}}"
      ]
     },
     "execution_count": 12,
     "metadata": {},
     "output_type": "execute_result"
    }
   ],
   "source": [
    "# Add the role that you created to the instance profile:\n",
    "iam.add_role_to_instance_profile(\n",
    "    InstanceProfileName=instance_profile_name,\n",
    "    RoleName=role_name\n",
    ")"
   ]
  },
  {
   "cell_type": "code",
   "execution_count": 13,
   "metadata": {},
   "outputs": [
    {
     "data": {
      "text/plain": [
       "{'ResponseMetadata': {'RequestId': 'ccf6318c-7fc4-4bd2-a8be-b041b98579e0',\n",
       "  'HTTPStatusCode': 200,\n",
       "  'HTTPHeaders': {'x-amzn-requestid': 'ccf6318c-7fc4-4bd2-a8be-b041b98579e0',\n",
       "   'cache-control': 'no-cache, no-store',\n",
       "   'strict-transport-security': 'max-age=31536000; includeSubDomains',\n",
       "   'content-type': 'text/xml;charset=UTF-8',\n",
       "   'content-length': '237',\n",
       "   'date': 'Tue, 04 Oct 2022 23:59:35 GMT',\n",
       "   'server': 'AmazonEC2'},\n",
       "  'RetryAttempts': 0}}"
      ]
     },
     "execution_count": 13,
     "metadata": {},
     "output_type": "execute_result"
    }
   ],
   "source": [
    "# Enable Dns in VPC\n",
    "vpc.modify_attribute(EnableDnsSupport={'Value': True})\n",
    "vpc.modify_attribute(EnableDnsHostnames={'Value': True})"
   ]
  },
  {
   "cell_type": "code",
   "execution_count": 14,
   "metadata": {},
   "outputs": [
    {
     "data": {
      "text/plain": [
       "{'Return': True,\n",
       " 'SecurityGroupRules': [{'SecurityGroupRuleId': 'sgr-0ca68ca9714c40f3b',\n",
       "   'GroupId': 'sg-030d53b18a75f21fc',\n",
       "   'GroupOwnerId': '329364475115',\n",
       "   'IsEgress': False,\n",
       "   'IpProtocol': 'tcp',\n",
       "   'FromPort': 443,\n",
       "   'ToPort': 443,\n",
       "   'CidrIpv4': '174.17.0.0/16',\n",
       "   'Description': 'Allow HTTPS access'}],\n",
       " 'ResponseMetadata': {'RequestId': '2a13d3f3-63f0-4f4c-9be1-992b1b27a67c',\n",
       "  'HTTPStatusCode': 200,\n",
       "  'HTTPHeaders': {'x-amzn-requestid': '2a13d3f3-63f0-4f4c-9be1-992b1b27a67c',\n",
       "   'cache-control': 'no-cache, no-store',\n",
       "   'strict-transport-security': 'max-age=31536000; includeSubDomains',\n",
       "   'content-type': 'text/xml;charset=UTF-8',\n",
       "   'content-length': '783',\n",
       "   'date': 'Tue, 04 Oct 2022 23:59:40 GMT',\n",
       "   'server': 'AmazonEC2'},\n",
       "  'RetryAttempts': 0}}"
      ]
     },
     "execution_count": 14,
     "metadata": {},
     "output_type": "execute_result"
    }
   ],
   "source": [
    "# Create security group enable HHTPS:\n",
    "security_group_https = vpc.create_security_group(\n",
    "    GroupName='AWSCookbook-SG-HTTPS',\n",
    "    Description='Allow HTTPS access',\n",
    "    VpcId=vpc.id,\n",
    ")\n",
    "\n",
    "ec2_client.authorize_security_group_ingress(\n",
    "    GroupId=security_group_https.id,\n",
    "    IpPermissions=[\n",
    "        {'FromPort': 443,\n",
    "            'IpProtocol': 'tcp',\n",
    "            'IpRanges': [\n",
    "                {\n",
    "                    'CidrIp': vpc.cidr_block,\n",
    "                    'Description': 'Allow HTTPS access'\n",
    "                }\n",
    "            ],\n",
    "            'ToPort': 443\n",
    "        }\n",
    "    ]\n",
    ")"
   ]
  },
  {
   "cell_type": "code",
   "execution_count": 15,
   "metadata": {},
   "outputs": [],
   "source": [
    "# Creates a VPC endpoint for SSM:\n",
    "vpc_endpoint_ssm = ec2_client.create_vpc_endpoint(\n",
    "    VpcId=vpc.id,\n",
    "    ServiceName='com.amazonaws.' + region_aws + '.ssm',\n",
    "    VpcEndpointType='Interface',\n",
    "    SubnetIds=[subnet.id],\n",
    "    PrivateDnsEnabled=True,\n",
    "    SecurityGroupIds=[security_group_https.id]\n",
    ")"
   ]
  },
  {
   "cell_type": "code",
   "execution_count": 16,
   "metadata": {},
   "outputs": [],
   "source": [
    "# Creates a VPC endpoint for EC2 messages:\n",
    "vpc_endpoint_ec2msg = ec2_client.create_vpc_endpoint(\n",
    "    VpcId=vpc.id,\n",
    "    ServiceName='com.amazonaws.' + region_aws + '.ec2messages',\n",
    "    VpcEndpointType='Interface',\n",
    "    SubnetIds=[subnet.id],\n",
    "    PrivateDnsEnabled=True,\n",
    "    SecurityGroupIds=[security_group_https.id]\n",
    ")"
   ]
  },
  {
   "cell_type": "code",
   "execution_count": 17,
   "metadata": {},
   "outputs": [],
   "source": [
    "# Creates a VPC endpoint for SSMMessages:\n",
    "vpc_endpoint_ssm = ec2_client.create_vpc_endpoint(\n",
    "    VpcId=vpc.id,\n",
    "    ServiceName='com.amazonaws.' + region_aws + '.ssmmessages',\n",
    "    VpcEndpointType='Interface',\n",
    "    SubnetIds=[subnet.id],\n",
    "    PrivateDnsEnabled=True,\n",
    "    SecurityGroupIds=[security_group_https.id]\n",
    ")"
   ]
  },
  {
   "cell_type": "code",
   "execution_count": 18,
   "metadata": {},
   "outputs": [],
   "source": [
    "def vpc_endpoint_status(vpc_endpoint_id):\n",
    "    vpc_endpoint = ec2_client.describe_vpc_endpoints(\n",
    "        VpcEndpointIds=[vpc_endpoint_id]\n",
    "    )\n",
    "    return vpc_endpoint['VpcEndpoints'][0]['State']"
   ]
  },
  {
   "cell_type": "code",
   "execution_count": 30,
   "metadata": {},
   "outputs": [
    {
     "name": "stdout",
     "output_type": "stream",
     "text": [
      "Waiting for VPC endpoints to be available...\n",
      "SSM endpoint is available\n"
     ]
    }
   ],
   "source": [
    "print('Waiting for VPC endpoints to be available...')\n",
    "while vpc_endpoint_status(vpc_endpoint_ssm['VpcEndpoint']['VpcEndpointId']) != 'available':\n",
    "    time.sleep(5)\n",
    "    print('SSM endpoint is not available yet...')   \n",
    "print('SSM endpoint is available')"
   ]
  },
  {
   "cell_type": "code",
   "execution_count": 20,
   "metadata": {},
   "outputs": [],
   "source": [
    "# Consulte en SSM el último ID de AMI de Amazon Linux 2 disponible en su región y guárdelo como variable de entorno:\n",
    "ssm_response = ssm.get_parameter(\n",
    "    Name='/aws/service/ami-amazon-linux-latest/amzn2-ami-hvm-x86_64-gp2'\n",
    ")"
   ]
  },
  {
   "cell_type": "code",
   "execution_count": 21,
   "metadata": {},
   "outputs": [],
   "source": [
    "# Create a key pair\n",
    "key_name = 'AWSCookbook-KeyPair-Instance'\n",
    "keypair = ec2.create_key_pair(KeyName=key_name)"
   ]
  },
  {
   "cell_type": "code",
   "execution_count": 32,
   "metadata": {},
   "outputs": [],
   "source": [
    "# Cear dos instancias EC2 que se puedan conectar a través de SSM\n",
    "instances = ec2.create_instances(\n",
    "    ImageId=ssm_response['Parameter']['Value'],\n",
    "    MinCount=1,\n",
    "    MaxCount=1,\n",
    "    InstanceType='t2.micro',\n",
    "    KeyName=key_name,\n",
    "    SubnetId=subnet.id,\n",
    "    IamInstanceProfile={\n",
    "        'Name': instance_profile_name\n",
    "    },\n",
    "    TagSpecifications=[\n",
    "        {\n",
    "            'ResourceType': 'instance',\n",
    "            'Tags': [\n",
    "                {\n",
    "                    'Key': 'Name',\n",
    "                    'Value': 'Cookbook-SSM-Instance'\n",
    "                },\n",
    "            ]\n",
    "        },\n",
    "    ]\n",
    ")"
   ]
  },
  {
   "cell_type": "code",
   "execution_count": 33,
   "metadata": {},
   "outputs": [],
   "source": [
    "# Esperar a que la instancia esté disponible\n",
    "instances[-1].wait_until_running()"
   ]
  },
  {
   "cell_type": "code",
   "execution_count": 34,
   "metadata": {},
   "outputs": [],
   "source": [
    "# Adjunte el grupo de seguridad a las instancias 1 y 2:\n",
    "for instance in instances:\n",
    "    instance.modify_attribute(Groups=[security_group.id])"
   ]
  },
  {
   "cell_type": "code",
   "execution_count": 35,
   "metadata": {},
   "outputs": [
    {
     "name": "stdout",
     "output_type": "stream",
     "text": [
      "En la terminal ejecute el siguiente comando:\n",
      "   aws ssm start-session --target i-04da9e09e97594a17\n"
     ]
    }
   ],
   "source": [
    "instance_id = ssm.describe_instance_information()['InstanceInformationList'][0]['InstanceId']\n",
    "print(\"En la terminal ejecute el siguiente comando:\")\n",
    "print(\"   aws ssm start-session --target \" + instance_id)"
   ]
  },
  {
   "cell_type": "markdown",
   "metadata": {},
   "source": [
    "En la terminal:\n",
    "\n",
    "* Instale la utilidad Ncat:"
   ]
  },
  {
   "cell_type": "code",
   "execution_count": null,
   "metadata": {
    "vscode": {
     "languageId": "shellscript"
    }
   },
   "outputs": [],
   "source": [
    "sudo yum -y install nc"
   ]
  },
  {
   "cell_type": "markdown",
   "metadata": {},
   "source": [
    "Pruebe la conectividad SSH con la instancia 2 (utilice la IP de la instancia 2 que ha indicado anteriormente):"
   ]
  },
  {
   "cell_type": "code",
   "execution_count": null,
   "metadata": {
    "vscode": {
     "languageId": "shellscript"
    }
   },
   "outputs": [],
   "source": [
    "nc -vz $INSTANCE_IP_2 22"
   ]
  },
  {
   "cell_type": "markdown",
   "metadata": {},
   "source": [
    "Debería ver una salida similar a la siguiente:\n",
    "\n",
    "`Ncat: Version 7.50 ( https://nmap.org/ncat )`<br>\n",
    "`Ncat: Connected to 10.10.0.48:22.`<br>\n",
    "`Ncat: 0 bytes sent, 0 bytes received in 0.01 seconds.`<br>\n",
    "`sh-4.2$`"
   ]
  },
  {
   "cell_type": "markdown",
   "metadata": {},
   "source": [
    "#### Discusión\n",
    "La naturaleza bajo demanda de la nube (por ejemplo, el autoescalado) presenta una oportunidad de elasticidad. Los mecanismos de seguridad de la red, como las referencias de grupos de seguridad, son adecuados para ello. Tradicionalmente, los arquitectos de redes podían autorizar rangos CIDR dentro de las configuraciones de los cortafuegos. Este tipo de autorización se conoce generalmente como referencias estáticas. Esta práctica heredada no es escalable de forma dinámica, ya que se pueden añadir o eliminar instancias de las cargas de trabajo.\n",
    "\n",
    "Un grupo de seguridad actúa como un cortafuegos virtual con estado para las ENIs. El comportamiento por defecto de los grupos de seguridad es bloquear implícitamente todas las entradas y permitir todas las salidas. Puede asociar varios grupos de seguridad con un ENI. Hay una cuota inicial de 5 grupos de seguridad por ENI y 60 reglas (de entrada o salida) por grupo de seguridad.\n",
    "\n",
    "También puede especificar la notación CIDR para las autorizaciones. Por ejemplo, para una autorización destinada a permitir el acceso RDP desde su sucursal de Nueva York, utilizaría lo siguiente:"
   ]
  },
  {
   "cell_type": "code",
   "execution_count": 38,
   "metadata": {
    "vscode": {
     "languageId": "shellscript"
    }
   },
   "outputs": [
    {
     "data": {
      "text/plain": [
       "{'Return': True,\n",
       " 'SecurityGroupRules': [{'SecurityGroupRuleId': 'sgr-08074dd828b77769d',\n",
       "   'GroupId': 'sg-030d53b18a75f21fc',\n",
       "   'GroupOwnerId': '329364475115',\n",
       "   'IsEgress': False,\n",
       "   'IpProtocol': 'tcp',\n",
       "   'FromPort': 3389,\n",
       "   'ToPort': 3389,\n",
       "   'CidrIpv4': '108.62.211.0/24',\n",
       "   'Description': 'Allow RDP from home'}],\n",
       " 'ResponseMetadata': {'RequestId': 'fd312a6c-0505-4b37-81fc-244482b84d21',\n",
       "  'HTTPStatusCode': 200,\n",
       "  'HTTPHeaders': {'x-amzn-requestid': 'fd312a6c-0505-4b37-81fc-244482b84d21',\n",
       "   'cache-control': 'no-cache, no-store',\n",
       "   'strict-transport-security': 'max-age=31536000; includeSubDomains',\n",
       "   'content-type': 'text/xml;charset=UTF-8',\n",
       "   'content-length': '788',\n",
       "   'date': 'Wed, 05 Oct 2022 00:46:25 GMT',\n",
       "   'server': 'AmazonEC2'},\n",
       "  'RetryAttempts': 0}}"
      ]
     },
     "execution_count": 38,
     "metadata": {},
     "output_type": "execute_result"
    }
   ],
   "source": [
    "ec2_client.authorize_security_group_ingress(\n",
    "    GroupId=security_group_https.id,\n",
    "    IpPermissions=[\n",
    "        {\n",
    "            'FromPort': 3389,\n",
    "            'IpProtocol': 'tcp',\n",
    "            'IpRanges': [\n",
    "                {\n",
    "                    'CidrIp': '108.62.211.0/24',\n",
    "                    'Description': 'Allow RDP from home'\n",
    "                },\n",
    "            ],\n",
    "            'ToPort': 3389\n",
    "        },\n",
    "    ]\n",
    ")"
   ]
  }
 ],
 "metadata": {
  "kernelspec": {
   "display_name": "Python 3.9.12 ('base')",
   "language": "python",
   "name": "python3"
  },
  "language_info": {
   "codemirror_mode": {
    "name": "ipython",
    "version": 3
   },
   "file_extension": ".py",
   "mimetype": "text/x-python",
   "name": "python",
   "nbconvert_exporter": "python",
   "pygments_lexer": "ipython3",
   "version": "3.9.12"
  },
  "orig_nbformat": 4,
  "vscode": {
   "interpreter": {
    "hash": "c9cdd2fa3b32da9704bd8048bdba085d67219855a318f4adc7f095bb5cfa603b"
   }
  }
 },
 "nbformat": 4,
 "nbformat_minor": 2
}
