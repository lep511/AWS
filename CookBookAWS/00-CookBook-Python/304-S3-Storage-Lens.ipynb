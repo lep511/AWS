{
 "cells": [
  {
   "cell_type": "markdown",
   "metadata": {
    "pycharm": {
     "name": "#%% md\n"
    }
   },
   "source": [
    "### Observación de las métricas de almacenamiento y acceso de S3 mediante Storage Lens\n",
    "\n",
    "Todas las cuentas de AWS tienen un panel de control predeterminado asociado que muestra las métricas gratuitas disponibles a través de S3 Storage Lens. La activación de las métricas avanzadas le proporciona una visión más profunda de su uso de S3 y también le ofrece recomendaciones de ahorro de costes que puede llevar a cabo para optimizar los costes. Puede utilizar el panel de control predeterminado y/o crear el suyo propio. El resto de estos pasos le mostrarán cómo crear el suyo propio."
   ]
  },
  {
   "cell_type": "code",
   "execution_count": 6,
   "metadata": {
    "pycharm": {
     "name": "#%%\n"
    }
   },
   "outputs": [],
   "source": [
    "import boto3\n",
    "import json\n",
    "import random\n",
    "from pprint import pprint \n",
    "\n",
    "region_aws = 'us-east-1'\n",
    "\n",
    "ec2 = boto3.resource('ec2', region_name=region_aws)\n",
    "ec2_client = boto3.client('ec2', region_name=region_aws)\n",
    "s3 = boto3.resource('s3')\n",
    "s3_client = boto3.client('s3')\n",
    "s3control = boto3.client('s3control', region_name=region_aws)\n",
    "\n",
    "iam = boto3.resource('iam')\n",
    "iam_client = boto3.client('iam')"
   ]
  },
  {
   "cell_type": "code",
   "execution_count": 2,
   "metadata": {
    "pycharm": {
     "name": "#%%\n"
    }
   },
   "outputs": [
    {
     "name": "stdout",
     "output_type": "stream",
     "text": [
      "Bucket name: cookbook-895493\n"
     ]
    }
   ],
   "source": [
    "# Create a bucket\n",
    "bucket_name = 'cookbook-{}'.format(random.randint(10000, 1000000))\n",
    "bucket = s3.create_bucket(Bucket=bucket_name)\n",
    "print(\"Bucket name: {}\".format(bucket_name))\n",
    "\n",
    "# Por defecto cuando creamos un bucket, las opciones de **Block all public access** (Bloquear todo el acceso público) \n",
    "# están desactivadas por defecto.\n",
    "\n",
    "response = s3_client.put_public_access_block(\n",
    "        Bucket=bucket_name,\n",
    "        PublicAccessBlockConfiguration={\n",
    "            'BlockPublicAcls': True,\n",
    "            'IgnorePublicAcls': True,\n",
    "            'BlockPublicPolicy': True,\n",
    "            'RestrictPublicBuckets': True\n",
    "        }\n",
    ")"
   ]
  },
  {
   "cell_type": "code",
   "execution_count": 7,
   "metadata": {
    "pycharm": {
     "name": "#%%\n"
    }
   },
   "outputs": [],
   "source": [
    "# Get account ID and bucket ARN\n",
    "account_id = boto3.client('sts').get_caller_identity().get('Account')\n",
    "bucket_arn = 'arn:aws:s3:::{}'.format(bucket_name)"
   ]
  },
  {
   "cell_type": "code",
   "execution_count": 19,
   "metadata": {
    "pycharm": {
     "name": "#%%\n"
    }
   },
   "outputs": [],
   "source": [
    "policy_s3_lens = {\n",
    "     \"Id\": \"SampleS3StorageLensConfiguration\", # Use this property to identify S3 Storage Lens configuration.\n",
    "     \"AccountLevel\": {\n",
    "        \"ActivityMetrics\": {\n",
    "           \"IsEnabled\": True\n",
    "        },\n",
    "        \"BucketLevel\": {\n",
    "           \"ActivityMetrics\": {\n",
    "              \"IsEnabled\":True #Mark this as false if you only want Free Metrics metrics.\n",
    "           },\n",
    "           \"PrefixLevel\":{\n",
    "              \"StorageMetrics\":{\n",
    "                 \"IsEnabled\":True, #Mark this as false if you only want Free Metrics metrics.\n",
    "                 \"SelectionCriteria\":{\n",
    "                    \"MaxDepth\":5,\n",
    "                    \"MinStorageBytesPercentage\":1.25,\n",
    "                    \"Delimiter\":\"/\"\n",
    "                 }\n",
    "              }\n",
    "           }\n",
    "        }\n",
    "     },\n",
    "     \"Exclude\": { #Replace with include if you prefer to include regions.\n",
    "        \"Regions\": [\n",
    "           \"eu-west-1\"\n",
    "        ],\n",
    "        \"Buckets\": [ #This attribute is not supported for  Organizations-level configurations.\n",
    "           \"arn:aws:s3:::source_bucket1\" \n",
    "        ]\n",
    "     },\n",
    "     \"IsEnabled\": True, #Whether the configuration is enabled\n",
    "     \"DataExport\": { #Details about the metrics export\n",
    "        \"S3BucketDestination\": {\n",
    "           \"OutputSchemaVersion\": \"V_1\",\n",
    "           \"Format\": \"CSV\", #You can add \"Parquet\" if you prefer.\n",
    "           \"AccountId\": account_id,\n",
    "           \"Arn\": bucket_arn, # The destination bucket for your metrics export must be in the same Region as your S3 Storage Lens configuration. \n",
    "           \"Prefix\": \"/data\",\n",
    "           \"Encryption\": {\n",
    "              \"SSES3\": {}\n",
    "           }\n",
    "        }\n",
    "     }\n",
    "  }"
   ]
  },
  {
   "cell_type": "markdown",
   "metadata": {
    "pycharm": {
     "name": "#%% md\n"
    }
   },
   "source": [
    "Mediante el parámetro `DataExport` puedes habilitar una exportación automatizada para exportar periódicamente tus métricas a formatos CSV y Apache Parquet y enviarlas a un bucket S3 de tu elección para ejecutar tus propios informes y visualizaciones."
   ]
  },
  {
   "cell_type": "code",
   "execution_count": 23,
   "metadata": {
    "pycharm": {
     "name": "#%%\n"
    }
   },
   "outputs": [
    {
     "name": "stdout",
     "output_type": "stream",
     "text": [
      "{'ResponseMetadata': {'HTTPHeaders': {'date': 'Mon, 17 Oct 2022 12:14:21 GMT',\n",
      "                                      'server': 'AmazonS3',\n",
      "                                      'x-amz-id-2': '0DKCHkdGvs9pmWp/pCZvm92Gbv3SrMRj5brYfuXtulT6rB5YL1DQeqee12Ozhm6FtlWJtZz9f9A=',\n",
      "                                      'x-amz-request-id': 'V4GB9H55CNKSA822'},\n",
      "                      'HTTPStatusCode': 204,\n",
      "                      'HostId': '0DKCHkdGvs9pmWp/pCZvm92Gbv3SrMRj5brYfuXtulT6rB5YL1DQeqee12Ozhm6FtlWJtZz9f9A=',\n",
      "                      'RequestId': 'V4GB9H55CNKSA822',\n",
      "                      'RetryAttempts': 0}}\n"
     ]
    }
   ],
   "source": [
    "# Enable S3 Storage Lens\n",
    "response = s3control.put_storage_lens_configuration(\n",
    "    AccountId=account_id,\n",
    "    ConfigId='SampleS3StorageLensConfiguration',\n",
    "    StorageLensConfiguration=policy_s3_lens,\n",
    "    Tags=[{\n",
    "        \"Key\": \"key1\",\n",
    "        \"Value\": \"value1\"\n",
    "    },\n",
    "    {\n",
    "        \"Key\": \"key2\",\n",
    "        \"Value\": \"value2\"\n",
    "    }]\n",
    ")\n",
    "\n",
    "pprint(response)"
   ]
  },
  {
   "cell_type": "markdown",
   "metadata": {
    "pycharm": {
     "name": "#%% md\n"
    }
   },
   "source": [
    "Las métricas avanzadas pueden tardar hasta 48 horas en empezar a acumularse para tus patrones de uso y acceso. Mientras tanto, puedes ver el panel por defecto para las métricas gratuitas asociadas a tu uso de S3 para todos los buckets de tu cuenta.\n"
   ]
  },
  {
   "cell_type": "code",
   "execution_count": 24,
   "metadata": {
    "pycharm": {
     "name": "#%%\n"
    }
   },
   "outputs": [
    {
     "name": "stdout",
     "output_type": "stream",
     "text": [
      "{'ResponseMetadata': {'HTTPHeaders': {'content-length': '1142',\n",
      "                                      'date': 'Mon, 17 Oct 2022 12:21:10 GMT',\n",
      "                                      'server': 'AmazonS3',\n",
      "                                      'x-amz-id-2': 'GaPy7B5NwdHF9G/pNCgKhBB6NaQRl68X+MxjFDsULvfYUh95j0P6Je19eqVDSCkZ8tbdXGqn5aA=',\n",
      "                                      'x-amz-request-id': 'FBM551Q3NNE8XC17'},\n",
      "                      'HTTPStatusCode': 200,\n",
      "                      'HostId': 'GaPy7B5NwdHF9G/pNCgKhBB6NaQRl68X+MxjFDsULvfYUh95j0P6Je19eqVDSCkZ8tbdXGqn5aA=',\n",
      "                      'RequestId': 'FBM551Q3NNE8XC17',\n",
      "                      'RetryAttempts': 0},\n",
      " 'StorageLensConfiguration': {'AccountLevel': {'ActivityMetrics': {'IsEnabled': True},\n",
      "                                               'BucketLevel': {'ActivityMetrics': {'IsEnabled': True},\n",
      "                                                               'PrefixLevel': {'StorageMetrics': {'IsEnabled': True,\n",
      "                                                                                                  'SelectionCriteria': {'Delimiter': '/',\n",
      "                                                                                                                        'MaxDepth': 5,\n",
      "                                                                                                                        'MinStorageBytesPercentage': 1.25}}}}},\n",
      "                              'DataExport': {'S3BucketDestination': {'AccountId': '094002318819',\n",
      "                                                                     'Arn': 'arn:aws:s3:::cookbook-895493',\n",
      "                                                                     'Encryption': {'SSES3': {}},\n",
      "                                                                     'Format': 'CSV',\n",
      "                                                                     'OutputSchemaVersion': 'V_1',\n",
      "                                                                     'Prefix': '/data'}},\n",
      "                              'Exclude': {'Buckets': ['arn:aws:s3:::source_bucket1'],\n",
      "                                          'Regions': ['eu-west-1']},\n",
      "                              'Id': 'SampleS3StorageLensConfiguration',\n",
      "                              'IsEnabled': True,\n",
      "                              'StorageLensArn': 'arn:aws:s3:us-east-1:094002318819:storage-lens/SampleS3StorageLensConfiguration'}}\n"
     ]
    }
   ],
   "source": [
    "# Get S3 Storage Lens\n",
    "response = s3control.get_storage_lens_configuration(\n",
    "    AccountId=account_id,\n",
    "    ConfigId='SampleS3StorageLensConfiguration'\n",
    ")\n",
    "\n",
    "pprint(response)"
   ]
  },
  {
   "cell_type": "markdown",
   "metadata": {
    "pycharm": {
     "name": "#%% md\n"
    }
   },
   "source": [
    "Puede profundizar en las métricas de \"Eficiencia de costes\" y \"Protección de datos\" desde el panel de control. Después de algún tiempo, podrá ver datos históricos que le permitirán tomar medidas para mover sus objetos a niveles de almacenamiento que satisfagan sus necesidades de patrones de acceso a los datos y requisitos de disponibilidad.\n",
    "\n",
    "#### Discusión\n",
    "S3 fue uno de los primeros servicios de AWS, y como resultado, muchos clientes han estado utilizando S3 durante mucho tiempo. A medida que el uso de almacenamiento de los clientes creció exponencialmente, la capacidad de analizar lo que se está almacenando se convirtió en una capacidad clara y deseada. S3 Storage Lens le ofrece la posibilidad de \"ver\" el uso de S3 en sus cuentas de AWS. Analizar el uso de los cubos, observar los costes de almacenamiento y descubrir anomalías (por ejemplo, fragmentos de carga multiparte no eliminados) son sólo algunos de los muchos casos de uso que ofrece S3 Storage Lens.\n",
    "\n",
    "Con Storage Lens, puede descubrir dónde se almacenan sus objetos con un panel visual respaldado por un potente motor de análisis, de modo que pueda realizar ajustes para optimizar los costes sin afectar al rendimiento. También puede habilitar métricas avanzadas en su tablero para obtener información más profunda y recomendaciones de ahorro de costes para sus buckets de S3.\n",
    "\n",
    "**NOTA:** S3 Storage Lens utiliza métricas para ayudarle a visualizar su uso y actividad. Hay métricas gratuitas disponibles y métricas avanzadas que también le dan recomendaciones sobre su uso. Para más información sobre los diferentes tipos de métricas y sus costes asociados, consulte el [documento de soporte](https://oreil.ly/HQcLH)."
   ]
  }
 ],
 "metadata": {
  "kernelspec": {
   "display_name": "Python 3.9.12 ('base')",
   "language": "python",
   "name": "python3"
  },
  "language_info": {
   "codemirror_mode": {
    "name": "ipython",
    "version": 3
   },
   "file_extension": ".py",
   "mimetype": "text/x-python",
   "name": "python",
   "nbconvert_exporter": "python",
   "pygments_lexer": "ipython3",
   "version": "3.9.12"
  },
  "orig_nbformat": 4,
  "vscode": {
   "interpreter": {
    "hash": "c9cdd2fa3b32da9704bd8048bdba085d67219855a318f4adc7f095bb5cfa603b"
   }
  }
 },
 "nbformat": 4,
 "nbformat_minor": 2
}