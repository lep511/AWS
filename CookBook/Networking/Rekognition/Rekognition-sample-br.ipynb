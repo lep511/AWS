{
 "cells": [
  {
   "cell_type": "code",
   "execution_count": 13,
   "id": "9c6e9780-dde1-41c5-ae14-103bb9565a79",
   "metadata": {},
   "outputs": [],
   "source": [
    "import logging\n",
    "from pprint import pprint\n",
    "import boto3\n",
    "from botocore.exceptions import ClientError\n",
    "from rekognition_objects import RekognitionFace\n",
    "from rekognition_image_detection import RekognitionImage\n",
    "from os import environ\n",
    "\n",
    "logger = logging.getLogger(__name__)"
   ]
  },
  {
   "cell_type": "code",
   "execution_count": 2,
   "id": "2fbcde4d-e3f8-4137-997b-ae64a7bc6824",
   "metadata": {},
   "outputs": [],
   "source": [
    "class RekognitionCollection:\n",
    "    \"\"\"\n",
    "    Encapsulates an Amazon Rekognition collection. This class is a thin wrapper\n",
    "    around parts of the Boto3 Amazon Rekognition API.\n",
    "    \"\"\"\n",
    "    def __init__(self, collection, rekognition_client):\n",
    "        \"\"\"\n",
    "        Initializes a collection object.\n",
    "\n",
    "        :param collection: Collection data in the format returned by a call to\n",
    "                           create_collection.\n",
    "        :param rekognition_client: A Boto3 Rekognition client.\n",
    "        \"\"\"\n",
    "        self.collection_id = collection['CollectionId']\n",
    "        self.collection_arn, self.face_count, self.created = self._unpack_collection(\n",
    "            collection)\n",
    "        self.rekognition_client = rekognition_client\n",
    "\n",
    "    @staticmethod\n",
    "    def _unpack_collection(collection):\n",
    "        \"\"\"\n",
    "        Unpacks optional parts of a collection that can be returned by\n",
    "        describe_collection.\n",
    "\n",
    "        :param collection: The collection data.\n",
    "        :return: A tuple of the data in the collection.\n",
    "        \"\"\"\n",
    "        return (\n",
    "            collection.get('CollectionArn'),\n",
    "            collection.get('FaceCount', 0),\n",
    "            collection.get('CreationTimestamp'))\n",
    "\n",
    "    def to_dict(self):\n",
    "        \"\"\"\n",
    "        Renders parts of the collection data to a dict.\n",
    "\n",
    "        :return: The collection data as a dict.\n",
    "        \"\"\"\n",
    "        rendering = {\n",
    "            'collection_id': self.collection_id,\n",
    "            'collection_arn': self.collection_arn,\n",
    "            'face_count': self.face_count,\n",
    "            'created': self.created\n",
    "        }\n",
    "        return rendering\n",
    "\n",
    "    def describe_collection(self):\n",
    "        \"\"\"\n",
    "        Gets data about the collection from the Amazon Rekognition service.\n",
    "\n",
    "        :return: The collection rendered as a dict.\n",
    "        \"\"\"\n",
    "        try:\n",
    "            response = self.rekognition_client.describe_collection(\n",
    "                CollectionId=self.collection_id)\n",
    "            # Work around capitalization of Arn vs. ARN\n",
    "            response['CollectionArn'] = response.get('CollectionARN')\n",
    "            (self.collection_arn, self.face_count,\n",
    "             self.created) = self._unpack_collection(response)\n",
    "            logger.info(\"Got data for collection %s.\", self.collection_id)\n",
    "        except ClientError:\n",
    "            logger.exception(\"Couldn't get data for collection %s.\", self.collection_id)\n",
    "            raise\n",
    "        else:\n",
    "            return self.to_dict()\n",
    "\n",
    "    def delete_collection(self):\n",
    "        \"\"\"\n",
    "        Deletes the collection.\n",
    "        \"\"\"\n",
    "        try:\n",
    "            self.rekognition_client.delete_collection(CollectionId=self.collection_id)\n",
    "            logger.info(\"Deleted collection %s.\", self.collection_id)\n",
    "            self.collection_id = None\n",
    "        except ClientError:\n",
    "            logger.exception(\"Couldn't delete collection %s.\", self.collection_id)\n",
    "            raise\n",
    "\n",
    "    def index_faces(self, image, max_faces):\n",
    "        \"\"\"\n",
    "        Finds faces in the specified image, indexes them, and stores them in the\n",
    "        collection.\n",
    "\n",
    "        :param image: The image to index.\n",
    "        :param max_faces: The maximum number of faces to index.\n",
    "        :return: A tuple. The first element is a list of indexed faces.\n",
    "                 The second element is a list of faces that couldn't be indexed.\n",
    "        \"\"\"\n",
    "        try:\n",
    "            response = self.rekognition_client.index_faces(\n",
    "                CollectionId=self.collection_id, Image=image.image,\n",
    "                ExternalImageId=image.image_name, MaxFaces=max_faces,\n",
    "                DetectionAttributes=['ALL'])\n",
    "            indexed_faces = [\n",
    "                RekognitionFace({**face['Face'], **face['FaceDetail']})\n",
    "                for face in response['FaceRecords']]\n",
    "            unindexed_faces = [\n",
    "                RekognitionFace(face['FaceDetail'])\n",
    "                for face in response['UnindexedFaces']]\n",
    "            logger.info(\n",
    "                \"Indexed %s faces in %s. Could not index %s faces.\", len(indexed_faces),\n",
    "                image.image_name, len(unindexed_faces))\n",
    "        except ClientError:\n",
    "            logger.exception(\"Couldn't index faces in image %s.\", image.image_name)\n",
    "            raise\n",
    "        else:\n",
    "            return indexed_faces, unindexed_faces\n",
    "\n",
    "    def list_faces(self, max_results):\n",
    "        \"\"\"\n",
    "        Lists the faces currently indexed in the collection.\n",
    "\n",
    "        :param max_results: The maximum number of faces to return.\n",
    "        :return: The list of faces in the collection.\n",
    "        \"\"\"\n",
    "        try:\n",
    "            response = self.rekognition_client.list_faces(\n",
    "                CollectionId=self.collection_id, MaxResults=max_results)\n",
    "            faces = [RekognitionFace(face) for face in response['Faces']]\n",
    "            logger.info(\n",
    "                \"Found %s faces in collection %s.\", len(faces), self.collection_id)\n",
    "        except ClientError:\n",
    "            logger.exception(\n",
    "                \"Couldn't list faces in collection %s.\", self.collection_id)\n",
    "            raise\n",
    "        else:\n",
    "            return faces\n",
    "\n",
    "    def search_faces_by_image(self, image, threshold, max_faces):\n",
    "        \"\"\"\n",
    "        Searches for faces in the collection that match the largest face in the\n",
    "        reference image.\n",
    "\n",
    "        :param image: The image that contains the reference face to search for.\n",
    "        :param threshold: The match confidence must be greater than this value\n",
    "                          for a face to be included in the results.\n",
    "        :param max_faces: The maximum number of faces to return.\n",
    "        :return: A tuple. The first element is the face found in the reference image.\n",
    "                 The second element is the list of matching faces found in the\n",
    "                 collection.\n",
    "        \"\"\"\n",
    "        try:\n",
    "            response = self.rekognition_client.search_faces_by_image(\n",
    "                CollectionId=self.collection_id, Image=image.image,\n",
    "                FaceMatchThreshold=threshold, MaxFaces=max_faces)\n",
    "            image_face = RekognitionFace({\n",
    "                'BoundingBox': response['SearchedFaceBoundingBox'],\n",
    "                'Confidence': response['SearchedFaceConfidence']\n",
    "            })\n",
    "            collection_faces = [\n",
    "                RekognitionFace(face['Face']) for face in response['FaceMatches']]\n",
    "            logger.info(\"Found %s faces in the collection that match the largest \"\n",
    "                        \"face in %s.\", len(collection_faces), image.image_name)\n",
    "        except ClientError:\n",
    "            logger.exception(\n",
    "                \"Couldn't search for faces in %s that match %s.\", self.collection_id,\n",
    "                image.image_name)\n",
    "            raise\n",
    "        else:\n",
    "            return image_face, collection_faces\n",
    "\n",
    "    def search_faces(self, face_id, threshold, max_faces):\n",
    "        \"\"\"\n",
    "        Searches for faces in the collection that match another face from the\n",
    "        collection.\n",
    "\n",
    "        :param face_id: The ID of the face in the collection to search for.\n",
    "        :param threshold: The match confidence must be greater than this value\n",
    "                          for a face to be included in the results.\n",
    "        :param max_faces: The maximum number of faces to return.\n",
    "        :return: The list of matching faces found in the collection. This list does\n",
    "                 not contain the face specified by `face_id`.\n",
    "        \"\"\"\n",
    "        try:\n",
    "            response = self.rekognition_client.search_faces(\n",
    "                CollectionId=self.collection_id, FaceId=face_id,\n",
    "                FaceMatchThreshold=threshold, MaxFaces=max_faces)\n",
    "            faces = [RekognitionFace(face['Face']) for face in response['FaceMatches']]\n",
    "            logger.info(\n",
    "                \"Found %s faces in %s that match %s.\", len(faces), self.collection_id,\n",
    "                face_id)\n",
    "        except ClientError:\n",
    "            logger.exception(\n",
    "                \"Couldn't search for faces in %s that match %s.\", self.collection_id,\n",
    "                face_id)\n",
    "            raise\n",
    "        else:\n",
    "            return faces\n",
    "\n",
    "    def delete_faces(self, face_ids):\n",
    "        \"\"\"\n",
    "        Deletes faces from the collection.\n",
    "\n",
    "        :param face_ids: The list of IDs of faces to delete.\n",
    "        :return: The list of IDs of faces that were deleted.\n",
    "        \"\"\"\n",
    "        try:\n",
    "            response = self.rekognition_client.delete_faces(\n",
    "                CollectionId=self.collection_id, FaceIds=face_ids)\n",
    "            deleted_ids = response['DeletedFaces']\n",
    "            logger.info(\n",
    "                \"Deleted %s faces from %s.\", len(deleted_ids), self.collection_id)\n",
    "        except ClientError:\n",
    "            logger.exception(\"Couldn't delete faces from %s.\", self.collection_id)\n",
    "            raise\n",
    "        else:\n",
    "            return deleted_ids"
   ]
  },
  {
   "cell_type": "code",
   "execution_count": 3,
   "id": "8726fa21-90b9-4081-8286-bf0fd0ac5c58",
   "metadata": {},
   "outputs": [],
   "source": [
    "class RekognitionCollectionManager:\n",
    "    \"\"\"\n",
    "    Encapsulates Amazon Rekognition collection management functions.\n",
    "    This class is a thin wrapper around parts of the Boto3 Amazon Rekognition API.\n",
    "    \"\"\"\n",
    "    def __init__(self, rekognition_client):\n",
    "        \"\"\"\n",
    "        Initializes the collection manager object.\n",
    "\n",
    "        :param rekognition_client: A Boto3 Rekognition client.\n",
    "        \"\"\"\n",
    "        self.rekognition_client = rekognition_client\n",
    "\n",
    "    def create_collection(self, collection_id):\n",
    "        \"\"\"\n",
    "        Creates an empty collection.\n",
    "\n",
    "        :param collection_id: Text that identifies the collection.\n",
    "        :return: The newly created collection.\n",
    "        \"\"\"\n",
    "        try:\n",
    "            response = self.rekognition_client.create_collection(\n",
    "                CollectionId=collection_id)\n",
    "            response['CollectionId'] = collection_id\n",
    "            collection = RekognitionCollection(response, self.rekognition_client)\n",
    "            logger.info(\"Created collection %s.\", collection_id)\n",
    "        except ClientError:\n",
    "            logger.exception(\"Couldn't create collection %s.\", collection_id)\n",
    "            raise\n",
    "        else:\n",
    "            return collection\n",
    "\n",
    "    def list_collections(self, max_results):\n",
    "        \"\"\"\n",
    "        Lists collections for the current account.\n",
    "\n",
    "        :param max_results: The maximum number of collections to return.\n",
    "        :return: The list of collections for the current account.\n",
    "        \"\"\"\n",
    "        try:\n",
    "            response = self.rekognition_client.list_collections(MaxResults=max_results)\n",
    "            collections = [\n",
    "                RekognitionCollection({'CollectionId': col_id}, self.rekognition_client)\n",
    "                for col_id in response['CollectionIds']]\n",
    "        except ClientError:\n",
    "            logger.exception(\"Couldn't list collections.\")\n",
    "            raise\n",
    "        else:\n",
    "            return collections"
   ]
  },
  {
   "cell_type": "code",
   "execution_count": 4,
   "id": "c89e767e-c4fc-43ed-9fae-e95ca95d6631",
   "metadata": {},
   "outputs": [],
   "source": [
    "logging.basicConfig(level=logging.INFO, format='%(levelname)s: %(message)s')"
   ]
  },
  {
   "cell_type": "code",
   "execution_count": 5,
   "id": "2a37c169-97d6-43ca-9083-8bb9f4d05b9b",
   "metadata": {},
   "outputs": [
    {
     "name": "stderr",
     "output_type": "stream",
     "text": [
      "INFO: Found credentials in shared credentials file: ~/.aws/credentials\n"
     ]
    }
   ],
   "source": [
    "rekognition_client = boto3.client('rekognition')"
   ]
  },
  {
   "cell_type": "code",
   "execution_count": 8,
   "id": "b1721f60-9620-41fd-a919-60cb40b48810",
   "metadata": {},
   "outputs": [],
   "source": [
    "images = [\n",
    "        RekognitionImage.from_file(\n",
    "            'images/data01.jpg', rekognition_client,\n",
    "            image_name='sitting'),\n",
    "        RekognitionImage.from_file(\n",
    "            'images/data02.jpg', rekognition_client,\n",
    "            image_name='hopping'),\n",
    "        RekognitionImage.from_file(\n",
    "            'images/data03.jpg', rekognition_client,\n",
    "            image_name='biking')]"
   ]
  },
  {
   "cell_type": "code",
   "execution_count": 17,
   "id": "dda15926-47d5-4640-8d5f-559ec32a6153",
   "metadata": {},
   "outputs": [
    {
     "name": "stderr",
     "output_type": "stream",
     "text": [
      "INFO: Created collection doc-example-collection-demo.\n",
      "INFO: Got data for collection doc-example-collection-demo.\n"
     ]
    },
    {
     "name": "stdout",
     "output_type": "stream",
     "text": [
      "Created collection doc-example-collection-demo:\n",
      "{'collection_arn': 'arn:aws:rekognition:us-east-1:089715336747:collection/doc-example-collection-demo',\n",
      " 'collection_id': 'doc-example-collection-demo',\n",
      " 'created': datetime.datetime(2022, 9, 12, 20, 18, 27, 976000, tzinfo=tzlocal()),\n",
      " 'face_count': 0}\n"
     ]
    }
   ],
   "source": [
    "collection_mgr = RekognitionCollectionManager(rekognition_client)\n",
    "collection = collection_mgr.create_collection('doc-example-collection-demo')\n",
    "print(f\"Created collection {collection.collection_id}:\")\n",
    "pprint(collection.describe_collection())"
   ]
  },
  {
   "cell_type": "code",
   "execution_count": 18,
   "id": "dcc0df0b-b44a-470c-b21e-68fed67cc9b9",
   "metadata": {},
   "outputs": [
    {
     "name": "stdout",
     "output_type": "stream",
     "text": [
      "Indexing faces from three images:\n"
     ]
    },
    {
     "name": "stderr",
     "output_type": "stream",
     "text": [
      "INFO: Indexed 3 faces in sitting. Could not index 0 faces.\n",
      "INFO: Indexed 2 faces in hopping. Could not index 1 faces.\n",
      "INFO: Indexed 3 faces in biking. Could not index 0 faces.\n"
     ]
    }
   ],
   "source": [
    "print(\"Indexing faces from three images:\")\n",
    "for image in images:\n",
    "    collection.index_faces(image, 10)"
   ]
  },
  {
   "cell_type": "code",
   "execution_count": 19,
   "id": "ac537939-f28f-4624-9363-d5697d55bda6",
   "metadata": {},
   "outputs": [
    {
     "name": "stderr",
     "output_type": "stream",
     "text": [
      "INFO: Found 8 faces in collection doc-example-collection-demo.\n"
     ]
    },
    {
     "name": "stdout",
     "output_type": "stream",
     "text": [
      "Listing faces in collection:\n",
      "{'bounding_box': {'Height': 0.05230399966239929,\n",
      "                  'Left': 0.5142009854316711,\n",
      "                  'Top': 0.4133940041065216,\n",
      "                  'Width': 0.033563900738954544},\n",
      " 'face_id': '0ea3debe-7f27-4e86-a5a2-cec154afc364',\n",
      " 'image_id': '6a4af9f0-38e9-3797-98fb-490688b87a96'}\n",
      "{'bounding_box': {'Height': 0.06860210001468658,\n",
      "                  'Left': 0.5122920274734497,\n",
      "                  'Top': 0.2063249945640564,\n",
      "                  'Width': 0.03965099900960922},\n",
      " 'face_id': '17f4c797-f428-439f-b51c-6507611cc501',\n",
      " 'image_id': 'e90468dc-9fa1-353c-9267-8b287b8deb6d'}\n",
      "{'bounding_box': {'Height': 0.06226009875535965,\n",
      "                  'Left': 0.5168030261993408,\n",
      "                  'Top': 0.6083589792251587,\n",
      "                  'Width': 0.03173350170254707},\n",
      " 'face_id': '22092d66-998c-4225-82df-5ee03ea9dcdf',\n",
      " 'image_id': '84d6d94a-da31-39dd-901d-74dd5eaa3201'}\n",
      "{'bounding_box': {'Height': 0.05588740110397339,\n",
      "                  'Left': 0.3462449908256531,\n",
      "                  'Top': 0.3652209937572479,\n",
      "                  'Width': 0.02970289997756481},\n",
      " 'face_id': '2d0b08c6-0bf2-4cb1-8b03-0a201a5a6d8b',\n",
      " 'image_id': '6a4af9f0-38e9-3797-98fb-490688b87a96'}\n",
      "{'bounding_box': {'Height': 0.0684150978922844,\n",
      "                  'Left': 0.6103690266609192,\n",
      "                  'Top': 0.5590559840202332,\n",
      "                  'Width': 0.03207569941878319},\n",
      " 'face_id': '61b7d82d-79fb-4d2b-bc98-54c48d2f870b',\n",
      " 'image_id': '84d6d94a-da31-39dd-901d-74dd5eaa3201'}\n",
      "{'bounding_box': {'Height': 0.07275070250034332,\n",
      "                  'Left': 0.36083900928497314,\n",
      "                  'Top': 0.5398619771003723,\n",
      "                  'Width': 0.0357959009706974},\n",
      " 'face_id': '6e526c28-8236-43dc-8946-a2463b1a2dfa',\n",
      " 'image_id': '84d6d94a-da31-39dd-901d-74dd5eaa3201'}\n",
      "{'bounding_box': {'Height': 0.06541279703378677,\n",
      "                  'Left': 0.6546130180358887,\n",
      "                  'Top': 0.3479740023612976,\n",
      "                  'Width': 0.03941959887742996},\n",
      " 'face_id': 'e7fa441d-661b-473d-a76f-3c2632b83ebc',\n",
      " 'image_id': 'e90468dc-9fa1-353c-9267-8b287b8deb6d'}\n",
      "{'bounding_box': {'Height': 0.053440701216459274,\n",
      "                  'Left': 0.655243992805481,\n",
      "                  'Top': 0.42155298590660095,\n",
      "                  'Width': 0.02871290035545826},\n",
      " 'face_id': 'fdd27a02-858e-4028-a6a3-dbf5ba2f0ae0',\n",
      " 'image_id': '6a4af9f0-38e9-3797-98fb-490688b87a96'}\n"
     ]
    }
   ],
   "source": [
    "print(\"Listing faces in collection:\")\n",
    "faces = collection.list_faces(10)\n",
    "for face in faces:\n",
    "    pprint(face.to_dict())"
   ]
  },
  {
   "cell_type": "code",
   "execution_count": 20,
   "id": "7005cebe-0e2a-4511-a622-98bee1ba05a2",
   "metadata": {},
   "outputs": [
    {
     "name": "stderr",
     "output_type": "stream",
     "text": [
      "INFO: Found 2 faces in doc-example-collection-demo that match 0ea3debe-7f27-4e86-a5a2-cec154afc364.\n"
     ]
    },
    {
     "name": "stdout",
     "output_type": "stream",
     "text": [
      "Searching for faces in the collection that match the first face in the list (Face ID: 0ea3debe-7f27-4e86-a5a2-cec154afc364.\n",
      "Found 2 matching faces.\n",
      "{'bounding_box': {'Height': 0.06541279703378677,\n",
      "                  'Left': 0.6546130180358887,\n",
      "                  'Top': 0.3479740023612976,\n",
      "                  'Width': 0.03941959887742996},\n",
      " 'face_id': 'e7fa441d-661b-473d-a76f-3c2632b83ebc',\n",
      " 'image_id': 'e90468dc-9fa1-353c-9267-8b287b8deb6d'}\n",
      "{'bounding_box': {'Height': 0.06226009875535965,\n",
      "                  'Left': 0.5168030261993408,\n",
      "                  'Top': 0.6083589792251587,\n",
      "                  'Width': 0.03173350170254707},\n",
      " 'face_id': '22092d66-998c-4225-82df-5ee03ea9dcdf',\n",
      " 'image_id': '84d6d94a-da31-39dd-901d-74dd5eaa3201'}\n"
     ]
    }
   ],
   "source": [
    "print(f\"Searching for faces in the collection that match the first face in the \"\n",
    "      f\"list (Face ID: {faces[0].face_id}.\")\n",
    "found_faces = collection.search_faces(faces[0].face_id, 80, 10)\n",
    "print(f\"Found {len(found_faces)} matching faces.\")\n",
    "for face in found_faces:\n",
    "    pprint(face.to_dict())"
   ]
  },
  {
   "cell_type": "code",
   "execution_count": 21,
   "id": "04d1a7b3-5ddf-4c08-8fc2-5e34426aeaeb",
   "metadata": {},
   "outputs": [
    {
     "name": "stdout",
     "output_type": "stream",
     "text": [
      "Searching for faces in the collection that match the largest face in sitting.\n"
     ]
    },
    {
     "name": "stderr",
     "output_type": "stream",
     "text": [
      "INFO: Found 3 faces in the collection that match the largest face in sitting.\n"
     ]
    },
    {
     "name": "stdout",
     "output_type": "stream",
     "text": [
      "The largest face in sitting is:\n",
      "{'bounding_box': {'Height': 0.052303995937108994,\n",
      "                  'Left': 0.5142008066177368,\n",
      "                  'Top': 0.41339370608329773,\n",
      "                  'Width': 0.03356394171714783}}\n",
      "Found 3 matching faces.\n",
      "{'bounding_box': {'Height': 0.05230399966239929,\n",
      "                  'Left': 0.5142009854316711,\n",
      "                  'Top': 0.4133940041065216,\n",
      "                  'Width': 0.033563900738954544},\n",
      " 'face_id': '0ea3debe-7f27-4e86-a5a2-cec154afc364',\n",
      " 'image_id': '6a4af9f0-38e9-3797-98fb-490688b87a96'}\n",
      "{'bounding_box': {'Height': 0.06541279703378677,\n",
      "                  'Left': 0.6546130180358887,\n",
      "                  'Top': 0.3479740023612976,\n",
      "                  'Width': 0.03941959887742996},\n",
      " 'face_id': 'e7fa441d-661b-473d-a76f-3c2632b83ebc',\n",
      " 'image_id': 'e90468dc-9fa1-353c-9267-8b287b8deb6d'}\n",
      "{'bounding_box': {'Height': 0.06226009875535965,\n",
      "                  'Left': 0.5168030261993408,\n",
      "                  'Top': 0.6083589792251587,\n",
      "                  'Width': 0.03173350170254707},\n",
      " 'face_id': '22092d66-998c-4225-82df-5ee03ea9dcdf',\n",
      " 'image_id': '84d6d94a-da31-39dd-901d-74dd5eaa3201'}\n"
     ]
    }
   ],
   "source": [
    "print(f\"Searching for faces in the collection that match the largest face in \"\n",
    "      f\"{images[0].image_name}.\")\n",
    "image_face, match_faces = collection.search_faces_by_image(images[0], 80, 10)\n",
    "print(f\"The largest face in {images[0].image_name} is:\")\n",
    "pprint(image_face.to_dict())\n",
    "print(f\"Found {len(match_faces)} matching faces.\")\n",
    "for face in match_faces:\n",
    "    pprint(face.to_dict())"
   ]
  },
  {
   "cell_type": "code",
   "execution_count": 22,
   "id": "54cb07c5-93b3-427e-8737-99c0781321e6",
   "metadata": {},
   "outputs": [
    {
     "name": "stderr",
     "output_type": "stream",
     "text": [
      "INFO: Deleted collection doc-example-collection-demo.\n"
     ]
    }
   ],
   "source": [
    "collection.delete_collection()"
   ]
  },
  {
   "cell_type": "code",
   "execution_count": 23,
   "id": "bee48835-544d-4750-becc-41013e5211a2",
   "metadata": {},
   "outputs": [],
   "source": [
    "def detect_labels_local_file(photo):\n",
    "    client=boto3.client('rekognition')\n",
    "   \n",
    "    with open(photo, 'rb') as image:\n",
    "        response = client.detect_labels(Image={'Bytes': image.read()})\n",
    "        \n",
    "    print('Detected labels in ' + photo)    \n",
    "    for label in response['Labels']:\n",
    "        print (label['Name'] + ' : ' + str(label['Confidence']))\n",
    "\n",
    "    return len(response['Labels'])"
   ]
  },
  {
   "cell_type": "code",
   "execution_count": 28,
   "id": "d3fdace2-00f7-4fe9-8316-32addb2e72fb",
   "metadata": {},
   "outputs": [
    {
     "name": "stdout",
     "output_type": "stream",
     "text": [
      "Detected labels in images/data04.jpg\n",
      "Flag : 99.80938720703125\n",
      "Symbol : 99.80938720703125\n",
      "Person : 97.58856964111328\n",
      "Human : 97.58856964111328\n",
      "Shorts : 91.00053405761719\n",
      "Clothing : 91.00053405761719\n",
      "Apparel : 91.00053405761719\n",
      "Field : 79.60782623291016\n",
      "American Flag : 77.86731719970703\n",
      "Labels detected: 9\n"
     ]
    }
   ],
   "source": [
    "photo = 'images/data04.jpg'\n",
    "label_count = detect_labels_local_file(photo)\n",
    "print(\"Labels detected: \" + str(label_count))"
   ]
  },
  {
   "cell_type": "code",
   "execution_count": null,
   "id": "32db6abb-5bab-44fd-9996-fde58e515787",
   "metadata": {},
   "outputs": [],
   "source": []
  }
 ],
 "metadata": {
  "kernelspec": {
   "display_name": "default:Python",
   "language": "python",
   "name": "conda-env-default-py"
  },
  "language_info": {
   "codemirror_mode": {
    "name": "ipython",
    "version": 3
   },
   "file_extension": ".py",
   "mimetype": "text/x-python",
   "name": "python",
   "nbconvert_exporter": "python",
   "pygments_lexer": "ipython3",
   "version": "3.9.10"
  }
 },
 "nbformat": 4,
 "nbformat_minor": 5
}
