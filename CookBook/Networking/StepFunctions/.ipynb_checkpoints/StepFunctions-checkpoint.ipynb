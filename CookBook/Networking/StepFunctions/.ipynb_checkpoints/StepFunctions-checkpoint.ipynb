{
 "cells": [
  {
   "cell_type": "code",
   "execution_count": 1,
   "id": "d4641391-19a3-49ea-be78-fabca74e57b0",
   "metadata": {},
   "outputs": [],
   "source": [
    "import boto3\n",
    "import json\n",
    "from zipfile import ZipFile"
   ]
  },
  {
   "cell_type": "code",
   "execution_count": 2,
   "id": "650b4861-80bc-493f-99ba-d747cceb3736",
   "metadata": {},
   "outputs": [],
   "source": [
    "def prety_json(json_text):\n",
    "    print(json.dumps(\n",
    "        json_text, \n",
    "        indent=4, \n",
    "        sort_keys=True, \n",
    "        default=str)\n",
    "    )"
   ]
  },
  {
   "cell_type": "markdown",
   "id": "64267757-0427-4448-be6e-af15c5de294a",
   "metadata": {},
   "source": [
    "## Create Lambda Functions"
   ]
  },
  {
   "cell_type": "code",
   "execution_count": 3,
   "id": "d243f975-f0e4-4bfc-bcc1-f2068672d70d",
   "metadata": {},
   "outputs": [],
   "source": [
    "iam_client = boto3.client('iam')\n",
    "lambda_client = boto3.client('lambda')"
   ]
  },
  {
   "cell_type": "code",
   "execution_count": 6,
   "id": "a7aa2fd3-cafe-48a7-9287-3ee87d767968",
   "metadata": {},
   "outputs": [
    {
     "name": "stdout",
     "output_type": "stream",
     "text": [
      "Writing purchase.py\n"
     ]
    }
   ],
   "source": [
    "%%writefile purchase.py\n",
    "def lambda_handler(event, context):\n",
    "    print('event:', event)\n",
    "\n",
    "    response = {\n",
    "        'TransactionType': event['TransactionType'],\n",
    "        'Message': 'From Process Purchase',\n",
    "    }\n",
    "\n",
    "    return response\n"
   ]
  },
  {
   "cell_type": "code",
   "execution_count": 7,
   "id": "5a0beef2-74b3-40b7-90fa-1cddd6b45bd4",
   "metadata": {},
   "outputs": [
    {
     "name": "stdout",
     "output_type": "stream",
     "text": [
      "Writing refund.py\n"
     ]
    }
   ],
   "source": [
    "%%writefile refund.py\n",
    "def lambda_handler(event, context):\n",
    "    print('event:', event)\n",
    "\n",
    "    response = {\n",
    "        'TransactionType': event['TransactionType'],\n",
    "        'Message': 'From Process Refund',\n",
    "    }\n",
    "\n",
    "    return response\n"
   ]
  },
  {
   "cell_type": "code",
   "execution_count": 9,
   "id": "9baf72a7-3a03-4bf2-9bce-741ed6c72b56",
   "metadata": {},
   "outputs": [],
   "source": [
    "with ZipFile('process_purchase.zip', 'w') as myzip:\n",
    "    myzip.write('purchase.py')\n",
    "with ZipFile('process_refund.zip', 'w') as myzip:\n",
    "    myzip.write('refund.py')"
   ]
  },
  {
   "cell_type": "code",
   "execution_count": 4,
   "id": "aa690373-b7cc-4d05-9e1d-f119fdba9f5d",
   "metadata": {},
   "outputs": [],
   "source": [
    "with open('process_purchase.zip', 'rb') as f:\n",
    "    process_purchase_zip = f.read()\n",
    "\n",
    "with open('process_refund.zip', 'rb') as f:\n",
    "    process_refund_zip = f.read()"
   ]
  },
  {
   "cell_type": "markdown",
   "id": "4fcda7f4-78cc-4a51-992c-a146b9166c8c",
   "metadata": {},
   "source": [
    "## Create Role"
   ]
  },
  {
   "cell_type": "code",
   "execution_count": 5,
   "id": "7b7f5be4-1906-49d5-8363-02daad6a2aab",
   "metadata": {},
   "outputs": [],
   "source": [
    "path = '/'\n",
    "role_name = 'ProjectStepFunctionLambdaSampleRole'\n",
    "description = 'Lambda function role'"
   ]
  },
  {
   "cell_type": "code",
   "execution_count": 6,
   "id": "a6d466d5-6f26-4514-98d9-f3c0693a4075",
   "metadata": {},
   "outputs": [],
   "source": [
    "trust_policy={\n",
    "    \"Version\": \"2012-10-17\",\n",
    "    \"Statement\": [\n",
    "        {\n",
    "            \"Effect\": \"Allow\",\n",
    "            \"Action\": [\n",
    "                \"sts:AssumeRole\"\n",
    "            ],\n",
    "            \"Principal\": {\n",
    "                \"Service\": [\n",
    "                    \"lambda.amazonaws.com\"\n",
    "                ]\n",
    "            }\n",
    "        }\n",
    "    ]\n",
    "}"
   ]
  },
  {
   "cell_type": "code",
   "execution_count": 7,
   "id": "13b203e3-6833-4bbb-a90d-742261cb27fa",
   "metadata": {},
   "outputs": [],
   "source": [
    "# MaxSessionDuration: this setting can have a value from 1 hour to 12 hour\n",
    "# Minimum value of 3600. Maximum value of 43200.\n",
    "response = iam_client.create_role(\n",
    "    Path=path,\n",
    "    RoleName=role_name,\n",
    "    AssumeRolePolicyDocument=json.dumps(trust_policy),\n",
    "    Description=description,\n",
    "    MaxSessionDuration=43200 \n",
    "\n",
    ")"
   ]
  },
  {
   "cell_type": "code",
   "execution_count": 8,
   "id": "b3892a4e-2d2e-45f1-8ab0-f220442ac655",
   "metadata": {},
   "outputs": [],
   "source": [
    "policy_arn = [\n",
    "    \"arn:aws:iam::aws:policy/service-role/AWSLambdaBasicExecutionRole\"\n",
    "]"
   ]
  },
  {
   "cell_type": "code",
   "execution_count": 9,
   "id": "fecd9998-6442-407f-ae07-64b90e8963a3",
   "metadata": {},
   "outputs": [],
   "source": [
    "for policy in policy_arn:\n",
    "    response_iam = iam_client.attach_role_policy(\n",
    "        PolicyArn=policy,\n",
    "        RoleName=role_name\n",
    "    )"
   ]
  },
  {
   "cell_type": "code",
   "execution_count": 10,
   "id": "a0dc87fd-6be9-4eb5-9277-3b29ca0e59f5",
   "metadata": {},
   "outputs": [],
   "source": [
    "role_arn = response['Role']['Arn']"
   ]
  },
  {
   "cell_type": "markdown",
   "id": "e14a6d98-e3ce-46b6-b969-a0cd46312a95",
   "metadata": {},
   "source": [
    "### Upload lambda function"
   ]
  },
  {
   "cell_type": "code",
   "execution_count": 11,
   "id": "13d9c493-1b1d-488b-bfb8-a2b4b477aeef",
   "metadata": {},
   "outputs": [],
   "source": [
    "process_purchase_response = lambda_client.create_function(\n",
    "    FunctionName='process_purchase_sample',\n",
    "    Runtime='python3.9',\n",
    "    Role=role_arn,\n",
    "    Handler='process_purchase.lambda_handler',\n",
    "    Code=dict(ZipFile=process_purchase_zip),\n",
    "    Timeout=300, # Maximum allowable timeout\n",
    ")"
   ]
  },
  {
   "cell_type": "code",
   "execution_count": 12,
   "id": "72db1741-ca0c-4743-9f9c-82518a3a12d7",
   "metadata": {},
   "outputs": [],
   "source": [
    "process_refund_response = lambda_client.create_function(\n",
    "    FunctionName='process_refund_sample',\n",
    "    Runtime='python3.9',\n",
    "    Role=role_arn,\n",
    "    Handler='process_refund.lambda_handler',\n",
    "    Code=dict(ZipFile=process_refund_zip),\n",
    "    Timeout=300, # Maximum allowable timeout\n",
    ")"
   ]
  },
  {
   "cell_type": "code",
   "execution_count": 13,
   "id": "04af7588-1e06-4329-a806-ad0406576e7e",
   "metadata": {},
   "outputs": [
    {
     "name": "stdout",
     "output_type": "stream",
     "text": [
      "arn:aws:lambda:us-east-1:791903720429:function:process_purchase_sample\n",
      "arn:aws:lambda:us-east-1:791903720429:function:process_refund_sample\n"
     ]
    }
   ],
   "source": [
    "process_purchase_arn = process_purchase_response['FunctionArn']\n",
    "process_refund_arn = process_refund_response['FunctionArn']\n",
    "print(process_purchase_arn)\n",
    "print(process_refund_arn)"
   ]
  },
  {
   "cell_type": "markdown",
   "id": "2113499a-146e-4806-8b19-1301e1bd9dec",
   "metadata": {},
   "source": [
    "## Grant Step Functions permissions to trigger Lambda functions"
   ]
  },
  {
   "cell_type": "code",
   "execution_count": 38,
   "id": "0a91005b-8595-4f6d-ac65-179c05015f23",
   "metadata": {},
   "outputs": [],
   "source": [
    "role_policy = {\n",
    "  \"Version\": \"2012-10-17\",\n",
    "  \"Statement\": [\n",
    "    {\n",
    "      \"Sid\": \"\",\n",
    "      \"Effect\": \"Allow\",\n",
    "      \"Principal\": {\n",
    "        \"Service\": \"states.amazonaws.com\"\n",
    "      },\n",
    "      \"Action\": \"sts:AssumeRole\"\n",
    "    }\n",
    "  ]\n",
    "}"
   ]
  },
  {
   "cell_type": "code",
   "execution_count": 48,
   "id": "f0b83751-be58-4a59-84b8-52f52b77b935",
   "metadata": {},
   "outputs": [],
   "source": [
    "role_name_stf = 'ProjectStepFunctionRole'"
   ]
  },
  {
   "cell_type": "code",
   "execution_count": 39,
   "id": "59e7c5cb-4161-4929-8057-e76182223d12",
   "metadata": {},
   "outputs": [],
   "source": [
    "response = iam_client.create_role(\n",
    "  RoleName=role_name_stf,\n",
    "  AssumeRolePolicyDocument=json.dumps(role_policy),\n",
    ")"
   ]
  },
  {
   "cell_type": "code",
   "execution_count": 47,
   "id": "f09eb909-a38c-421e-b43f-19f533254d63",
   "metadata": {},
   "outputs": [],
   "source": [
    "aws_role_stf = response['Role']['Arn']"
   ]
  },
  {
   "cell_type": "code",
   "execution_count": 40,
   "id": "3f603f20-02af-4715-8653-e4d351b6ff07",
   "metadata": {},
   "outputs": [],
   "source": [
    "attach_policy_response = iam_client.attach_role_policy(\n",
    "    RoleName='StepFunctionLambdaBasicExecution',\n",
    "    PolicyArn='arn:aws:iam::aws:policy/service-role/AWSLambdaRole'\n",
    ")"
   ]
  },
  {
   "cell_type": "code",
   "execution_count": 41,
   "id": "a80ec12e-c709-4f79-904f-84b6713cf55d",
   "metadata": {},
   "outputs": [
    {
     "name": "stdout",
     "output_type": "stream",
     "text": [
      "Status code: 200\n"
     ]
    }
   ],
   "source": [
    "print(\"Status code: \" + str(attach_policy_response['ResponseMetadata']['HTTPStatusCode']))"
   ]
  },
  {
   "cell_type": "markdown",
   "id": "b4b19fdd-9899-49ef-9a23-45f55ba773dc",
   "metadata": {},
   "source": [
    "## Deploy the Step Functions workflow"
   ]
  },
  {
   "cell_type": "code",
   "execution_count": 21,
   "id": "ac0b82e3-f2fa-4e46-bf06-2b98ed59105a",
   "metadata": {},
   "outputs": [],
   "source": [
    "sfn_client = boto3.client('stepfunctions')"
   ]
  },
  {
   "cell_type": "code",
   "execution_count": 22,
   "id": "88629d24-3475-4779-a671-a679fa36336d",
   "metadata": {},
   "outputs": [],
   "source": [
    "process_purchase_lambda = lambda_client.get_function(\n",
    "    FunctionName='process_purchase'\n",
    ")"
   ]
  },
  {
   "cell_type": "code",
   "execution_count": 23,
   "id": "0ebc2c2b-12f7-4919-8988-0890a7de80ae",
   "metadata": {},
   "outputs": [],
   "source": [
    "process_refund_lambda = lambda_client.get_function(\n",
    "    FunctionName='process_refund'\n",
    ")"
   ]
  },
  {
   "cell_type": "code",
   "execution_count": 49,
   "id": "8fbe7a3d-56f3-4c76-bd81-b7ad70cb339a",
   "metadata": {},
   "outputs": [],
   "source": [
    "role = iam_client.get_role(RoleName=role_name_stf)"
   ]
  },
  {
   "cell_type": "code",
   "execution_count": 50,
   "id": "51257e73-0838-4f06-8639-c819d3b55174",
   "metadata": {},
   "outputs": [],
   "source": [
    "asl_definition = {\n",
    "    'Comment': 'Transaction Processor State Machine',\n",
    "    'StartAt': 'ProcessTransaction',\n",
    "    'States': {\n",
    "        'ProcessTransaction': {\n",
    "            'Type': 'Choice',\n",
    "            'Choices': [\n",
    "                {\n",
    "                    'Variable': '$.TransactionType',\n",
    "                    'StringEquals': 'PURCHASE',\n",
    "                    'Next': 'ProcessPurchase'\n",
    "                },\n",
    "                {\n",
    "                    'Variable': '$.TransactionType',\n",
    "                    'StringEquals': 'REFUND',\n",
    "                    'Next': 'ProcessRefund'\n",
    "                }\n",
    "            ]\n",
    "        },\n",
    "        'ProcessPurchase': {\n",
    "            'Type': 'Task',\n",
    "            'Resource': process_purchase_arn,\n",
    "            'End': True\n",
    "        },\n",
    "        'ProcessRefund': {\n",
    "            'Type': 'Task',\n",
    "            'Resource': process_refund_arn,\n",
    "            'End': True\n",
    "        }\n",
    "    }\n",
    "}"
   ]
  },
  {
   "cell_type": "code",
   "execution_count": 51,
   "id": "2cd50fb2-ac4d-4900-ac3e-7223d1bd6a39",
   "metadata": {},
   "outputs": [],
   "source": [
    "response = sfn_client.create_state_machine(\n",
    "    name='ProcessTransactionStateMachineSampleOb',\n",
    "    definition=json.dumps(asl_definition),\n",
    "    roleArn=aws_role_stf\n",
    ")"
   ]
  },
  {
   "cell_type": "code",
   "execution_count": 52,
   "id": "bc333732-fe7c-45e4-926f-19ce0dd9c6f0",
   "metadata": {},
   "outputs": [
    {
     "name": "stdout",
     "output_type": "stream",
     "text": [
      "Status code: 200\n"
     ]
    }
   ],
   "source": [
    "state_machine_arn = response['stateMachineArn']\n",
    "print(\"Status code: \" + str(attach_policy_response['ResponseMetadata']['HTTPStatusCode']))"
   ]
  },
  {
   "cell_type": "markdown",
   "id": "60a3f9d9-9032-4482-a125-3a32ab8898fc",
   "metadata": {},
   "source": [
    "## Describe Step Functions workflow"
   ]
  },
  {
   "cell_type": "code",
   "execution_count": 53,
   "id": "a1e90413-6f3e-4141-a7d2-7ad7bb682cf4",
   "metadata": {},
   "outputs": [],
   "source": [
    "response = sfn_client.describe_state_machine(\n",
    "    stateMachineArn=state_machine_arn\n",
    ")"
   ]
  },
  {
   "cell_type": "code",
   "execution_count": 54,
   "id": "231127ec-86dd-41f1-9b34-81a19c51ba36",
   "metadata": {},
   "outputs": [
    {
     "name": "stdout",
     "output_type": "stream",
     "text": [
      "{\n",
      "    \"ResponseMetadata\": {\n",
      "        \"HTTPHeaders\": {\n",
      "            \"content-length\": \"1201\",\n",
      "            \"content-type\": \"application/x-amz-json-1.0\",\n",
      "            \"date\": \"Thu, 14 Jul 2022 14:26:57 GMT\",\n",
      "            \"x-amzn-requestid\": \"b97bfcaa-8ee6-4803-8265-c772d50a421f\"\n",
      "        },\n",
      "        \"HTTPStatusCode\": 200,\n",
      "        \"RequestId\": \"b97bfcaa-8ee6-4803-8265-c772d50a421f\",\n",
      "        \"RetryAttempts\": 0\n",
      "    },\n",
      "    \"creationDate\": \"2022-07-14 14:26:50.387000+00:00\",\n",
      "    \"definition\": \"{\\\"Comment\\\": \\\"Transaction Processor State Machine\\\", \\\"StartAt\\\": \\\"ProcessTransaction\\\", \\\"States\\\": {\\\"ProcessTransaction\\\": {\\\"Type\\\": \\\"Choice\\\", \\\"Choices\\\": [{\\\"Variable\\\": \\\"$.TransactionType\\\", \\\"StringEquals\\\": \\\"PURCHASE\\\", \\\"Next\\\": \\\"ProcessPurchase\\\"}, {\\\"Variable\\\": \\\"$.TransactionType\\\", \\\"StringEquals\\\": \\\"REFUND\\\", \\\"Next\\\": \\\"ProcessRefund\\\"}]}, \\\"ProcessPurchase\\\": {\\\"Type\\\": \\\"Task\\\", \\\"Resource\\\": \\\"arn:aws:lambda:us-east-1:791903720429:function:process_purchase_sample\\\", \\\"End\\\": true}, \\\"ProcessRefund\\\": {\\\"Type\\\": \\\"Task\\\", \\\"Resource\\\": \\\"arn:aws:lambda:us-east-1:791903720429:function:process_refund_sample\\\", \\\"End\\\": true}}}\",\n",
      "    \"loggingConfiguration\": {\n",
      "        \"includeExecutionData\": false,\n",
      "        \"level\": \"OFF\"\n",
      "    },\n",
      "    \"name\": \"ProcessTransactionStateMachineSampleOb\",\n",
      "    \"roleArn\": \"arn:aws:iam::791903720429:role/ProjectStepFunctionRole\",\n",
      "    \"stateMachineArn\": \"arn:aws:states:us-east-1:791903720429:stateMachine:ProcessTransactionStateMachineSampleOb\",\n",
      "    \"status\": \"ACTIVE\",\n",
      "    \"tracingConfiguration\": {\n",
      "        \"enabled\": false\n",
      "    },\n",
      "    \"type\": \"STANDARD\"\n",
      "}\n"
     ]
    }
   ],
   "source": [
    "prety_json(response)"
   ]
  },
  {
   "cell_type": "markdown",
   "id": "5961c73e-31a3-40f6-82dd-794515b7baaa",
   "metadata": {},
   "source": [
    "## Execute Step Functions workflow"
   ]
  },
  {
   "cell_type": "code",
   "execution_count": 55,
   "id": "b2fed898-ec7f-4311-bb22-d6d03b826b23",
   "metadata": {},
   "outputs": [],
   "source": [
    "# State Machine input example:\n",
    "# {\n",
    "#     TransactionType: \"PURCHASE\"\n",
    "# }\n",
    "state_machine_input = json.dumps({ 'TransactionType': 'PURCHASE' })"
   ]
  },
  {
   "cell_type": "code",
   "execution_count": 56,
   "id": "9a13191c-34eb-4f70-80c0-187908663acc",
   "metadata": {},
   "outputs": [],
   "source": [
    "response = sfn_client.start_execution(\n",
    "    stateMachineArn=state_machine_arn,\n",
    "    name='test1',\n",
    "    input=state_machine_input\n",
    ")"
   ]
  },
  {
   "cell_type": "code",
   "execution_count": 57,
   "id": "ccd6284a-02ce-47eb-81c3-8f15a1feda5e",
   "metadata": {},
   "outputs": [
    {
     "name": "stdout",
     "output_type": "stream",
     "text": [
      "{\n",
      "    \"ResponseMetadata\": {\n",
      "        \"HTTPHeaders\": {\n",
      "            \"content-length\": \"139\",\n",
      "            \"content-type\": \"application/x-amz-json-1.0\",\n",
      "            \"date\": \"Thu, 14 Jul 2022 14:27:07 GMT\",\n",
      "            \"x-amzn-requestid\": \"e5d0a4f9-a01e-4059-8e92-3a0fbb8c1157\"\n",
      "        },\n",
      "        \"HTTPStatusCode\": 200,\n",
      "        \"RequestId\": \"e5d0a4f9-a01e-4059-8e92-3a0fbb8c1157\",\n",
      "        \"RetryAttempts\": 0\n",
      "    },\n",
      "    \"executionArn\": \"arn:aws:states:us-east-1:791903720429:execution:ProcessTransactionStateMachineSampleOb:test1\",\n",
      "    \"startDate\": \"2022-07-14 14:27:07.930000+00:00\"\n",
      "}\n"
     ]
    }
   ],
   "source": [
    "prety_json(response)"
   ]
  },
  {
   "cell_type": "markdown",
   "id": "60769d32-d7a1-4ceb-b6cb-67e862d8d782",
   "metadata": {},
   "source": [
    "### List Step Functions workflows"
   ]
  },
  {
   "cell_type": "code",
   "execution_count": 58,
   "id": "b7c98f13-186e-4304-84e3-6eff282053bf",
   "metadata": {
    "tags": []
   },
   "outputs": [],
   "source": [
    "response = sfn_client.list_state_machines()"
   ]
  },
  {
   "cell_type": "code",
   "execution_count": 59,
   "id": "7a365686-5610-4189-bb49-20a07d14bee2",
   "metadata": {},
   "outputs": [
    {
     "name": "stdout",
     "output_type": "stream",
     "text": [
      "{\n",
      "    \"ResponseMetadata\": {\n",
      "        \"HTTPHeaders\": {\n",
      "            \"content-length\": \"818\",\n",
      "            \"content-type\": \"application/x-amz-json-1.0\",\n",
      "            \"date\": \"Thu, 14 Jul 2022 14:27:11 GMT\",\n",
      "            \"x-amzn-requestid\": \"0c98b845-06aa-45d1-8ad5-78030829b313\"\n",
      "        },\n",
      "        \"HTTPStatusCode\": 200,\n",
      "        \"RequestId\": \"0c98b845-06aa-45d1-8ad5-78030829b313\",\n",
      "        \"RetryAttempts\": 0\n",
      "    },\n",
      "    \"stateMachines\": [\n",
      "        {\n",
      "            \"creationDate\": \"2022-07-14 11:20:54.536000+00:00\",\n",
      "            \"name\": \"InputOutputProcessingMachine\",\n",
      "            \"stateMachineArn\": \"arn:aws:states:us-east-1:791903720429:stateMachine:InputOutputProcessingMachine\",\n",
      "            \"type\": \"STANDARD\"\n",
      "        },\n",
      "        {\n",
      "            \"creationDate\": \"2022-07-14 13:46:06.382000+00:00\",\n",
      "            \"name\": \"ProcessTransactionStateMachine\",\n",
      "            \"stateMachineArn\": \"arn:aws:states:us-east-1:791903720429:stateMachine:ProcessTransactionStateMachine\",\n",
      "            \"type\": \"STANDARD\"\n",
      "        },\n",
      "        {\n",
      "            \"creationDate\": \"2022-07-14 14:20:08.910000+00:00\",\n",
      "            \"name\": \"ProcessTransactionStateMachineSample\",\n",
      "            \"stateMachineArn\": \"arn:aws:states:us-east-1:791903720429:stateMachine:ProcessTransactionStateMachineSample\",\n",
      "            \"type\": \"STANDARD\"\n",
      "        },\n",
      "        {\n",
      "            \"creationDate\": \"2022-07-14 14:26:50.387000+00:00\",\n",
      "            \"name\": \"ProcessTransactionStateMachineSampleOb\",\n",
      "            \"stateMachineArn\": \"arn:aws:states:us-east-1:791903720429:stateMachine:ProcessTransactionStateMachineSampleOb\",\n",
      "            \"type\": \"STANDARD\"\n",
      "        }\n",
      "    ]\n",
      "}\n"
     ]
    }
   ],
   "source": [
    "prety_json(response)"
   ]
  },
  {
   "cell_type": "code",
   "execution_count": null,
   "id": "3a3ccd27-7eac-4d5d-a355-3899abbdb592",
   "metadata": {},
   "outputs": [],
   "source": []
  }
 ],
 "metadata": {
  "kernelspec": {
   "display_name": "default:Python",
   "language": "python",
   "name": "conda-env-default-py"
  },
  "language_info": {
   "codemirror_mode": {
    "name": "ipython",
    "version": 3
   },
   "file_extension": ".py",
   "mimetype": "text/x-python",
   "name": "python",
   "nbconvert_exporter": "python",
   "pygments_lexer": "ipython3",
   "version": "3.9.10"
  }
 },
 "nbformat": 4,
 "nbformat_minor": 5
}
