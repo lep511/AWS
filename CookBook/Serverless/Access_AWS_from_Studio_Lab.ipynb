{
 "cells": [
  {
   "cell_type": "markdown",
   "id": "fa8a43b3-d3ff-46df-8bb5-463c0357f29b",
   "metadata": {},
   "source": [
    "# Using SageMaker Studio Lab with AWS Resources\n",
    "\n",
    "[![Open In Studio Lab](https://studiolab.sagemaker.aws/studiolab.svg)](https://studiolab.sagemaker.aws/import/github/aws/studio-lab-examples/blob/main/connect-to-aws/Access_AWS_from_Studio_Lab.ipynb)\n",
    "\n",
    "Following guidance here\n",
    "https://boto3.amazonaws.com/v1/documentation/api/latest/guide/quickstart.html"
   ]
  },
  {
   "cell_type": "markdown",
   "id": "75c10a5f-5cf1-4217-aff4-a520e7f10b5c",
   "metadata": {},
   "source": [
    "### Step 0. Install AWS CLI, boto3, and configure with your AWS credentials. \n",
    " Also create and paste in your SageMaker execution role. "
   ]
  },
  {
   "cell_type": "code",
   "execution_count": null,
   "id": "e5164c77-3696-48ef-9c91-72918b44b29e",
   "metadata": {
    "tags": []
   },
   "outputs": [],
   "source": [
    "%pip install boto3"
   ]
  },
  {
   "cell_type": "code",
   "execution_count": null,
   "id": "e63e9d47-b46c-4669-98c9-425e65b4b785",
   "metadata": {
    "tags": []
   },
   "outputs": [],
   "source": [
    "%pip install awscli"
   ]
  },
  {
   "cell_type": "code",
   "execution_count": null,
   "id": "da0ef255-285a-4637-b2ea-99f4da3319a3",
   "metadata": {},
   "outputs": [],
   "source": [
    "!mkdir ~/.aws"
   ]
  },
  {
   "cell_type": "markdown",
   "id": "9a57d662-5705-4c2b-a8ca-9cd7a4494fc9",
   "metadata": {},
   "source": [
    "---\n",
    "# Exercise Caution on Using AWS Credentials\n",
    "The next step should only be undertaken by professionals who are already comfortable using AWS access and secret keys. These credentials are similar to the keys to a car - if someone takes them inadvertenly, they can steal your vehicle. While there are additional AWS permissions you can apply, the basic concept still stands. Under no circumstances should you share these resources publicly. \n",
    "\n",
    "Please refer here for getting started with your AWS credentials.\n",
    "https://docs.aws.amazon.com/general/latest/gr/aws-sec-cred-types.html \n",
    "\n",
    "That being said, if you are handling your keys carefully, you can in fact access your AWS account from Studio Lab. We'll walk through that here."
   ]
  },
  {
   "cell_type": "code",
   "execution_count": null,
   "id": "9e9b9094-090e-4465-9ef5-6b70a0bb03c5",
   "metadata": {
    "tags": []
   },
   "outputs": [],
   "source": [
    "%%writefile ~/.aws/credentials\n",
    "\n",
    "[default]\n",
    "aws_access_key_id =  < paste your access key here, run this cell, then delete the cell >\n",
    "aws_secret_access_key = < paste your secret key here, run this cell, then delete the cell > "
   ]
  },
  {
   "cell_type": "code",
   "execution_count": null,
   "id": "08a81657-8b85-4d46-9f92-9956079595eb",
   "metadata": {
    "tags": []
   },
   "outputs": [],
   "source": [
    "%%writefile ~/.aws/config\n",
    "\n",
    "[default]\n",
    "region=us-east-1"
   ]
  },
  {
   "cell_type": "code",
   "execution_count": null,
   "id": "4c2adb43-37a0-4de9-a226-53f845aa566e",
   "metadata": {
    "tags": []
   },
   "outputs": [],
   "source": [
    "!pip install --upgrade sagemaker"
   ]
  },
  {
   "cell_type": "markdown",
   "id": "4370662b-6253-4aab-90b7-8ec66f3b88a8",
   "metadata": {},
   "source": [
    "If you are already used to using SageMaker within your own AWS account, please copy and paste the arn for your execution role below. If you are new to thise, follow the steps to create one here.\n",
    "\n",
    "https://docs.aws.amazon.com/glue/latest/dg/create-an-iam-role-sagemaker-notebook.html\n",
    "\n",
    "Please note, in order to complete this you will need to have already created this SageMaker IAM Execution role."
   ]
  },
  {
   "cell_type": "code",
   "execution_count": 21,
   "id": "ab6826b5-9291-4eb3-911a-891af1964411",
   "metadata": {},
   "outputs": [],
   "source": [
    "import sagemaker\n",
    "\n",
    "# create a sagemaker execution role via the AWS SageMaker console, then paste in the arn here\n",
    "role = 'AmazonSageMaker-ExecutionRole-20220328T145246'"
   ]
  },
  {
   "cell_type": "markdown",
   "id": "1843a796-5bcf-4f49-be8f-42a28f614599",
   "metadata": {},
   "source": [
    "### Step 1. Copy your local data to your preferred S3 bucket, or vice versa \n",
    "This notebook will assume you already have access to a training dataset relevant for language translation. If you don't, please step through this notebook to create the relevant train files locally.\n",
    "- https://github.com/aws/studio-lab-examples/blob/main/natural-language-processing/NLP_Disaster_Recovery_Translation.ipynb \n",
    "\n",
    "We'll demonstrate copying that data up to your AWS account via the cli here, but you can also upload through the UI, or use boto3. Many good options here."
   ]
  },
  {
   "cell_type": "code",
   "execution_count": 22,
   "id": "cb8b9500-b7e3-4d6e-b4f1-f5351fa203d3",
   "metadata": {},
   "outputs": [],
   "source": [
    "bucket_name = 'sagemaker-studio-195566616656-cr8w4ma55a9'\n",
    "train_file_name = 'train.json'\n",
    "s3_data_path = 's3://{}/data/{}'.format(bucket_name, train_file_name)"
   ]
  },
  {
   "cell_type": "code",
   "execution_count": 6,
   "id": "525767bf-49ed-4cfc-8afc-e1c5fff8d7ea",
   "metadata": {},
   "outputs": [
    {
     "name": "stdout",
     "output_type": "stream",
     "text": [
      "\n",
      "The user-provided path ./notebooks/data/ does not exist.\n"
     ]
    }
   ],
   "source": [
    "!aws s3 sync ./notebooks/data/ {s3_data_path}"
   ]
  },
  {
   "cell_type": "code",
   "execution_count": 23,
   "id": "da423f04-548d-4d88-b2c3-e1192f0c454c",
   "metadata": {},
   "outputs": [],
   "source": [
    "import boto3\n",
    "\n",
    "# Let's use Amazon S3\n",
    "s3 = boto3.resource('s3')"
   ]
  },
  {
   "cell_type": "code",
   "execution_count": 24,
   "id": "e624ec86-4d02-424b-8383-0ea791e74f9e",
   "metadata": {},
   "outputs": [
    {
     "name": "stdout",
     "output_type": "stream",
     "text": [
      "mydata-bucket-39009\n",
      "sagemaker-studio-rlawwl08e4\n",
      "sagemaker-us-east-1-808640880671\n",
      "studio-lab-300-220\n",
      "studio-lab-300-221\n"
     ]
    }
   ],
   "source": [
    "# Print out bucket names\n",
    "for bucket in s3.buckets.all():\n",
    "    print(bucket.name)"
   ]
  },
  {
   "cell_type": "code",
   "execution_count": null,
   "id": "7bad80a0-5e92-40bf-b8b9-03816925a8dc",
   "metadata": {},
   "outputs": [],
   "source": [
    "# Upload a new file\n",
    "data = open('Untitled.ipynb', 'rb')\n",
    "s3.Bucket('sagemaker-studio-195566616656-cr8w4ma55a9').put_object(Key='Untitled.ipynb', Body=data)"
   ]
  },
  {
   "cell_type": "markdown",
   "id": "f1b9c5d1-33bd-4c1f-b418-41d141d37217",
   "metadata": {},
   "source": [
    "## Amazon DynamoDB\n",
    "\n",
    "By following this guide, you will learn how to use the DynamoDB.ServiceResource and DynamoDB.Table resources in order to create tables, write items to tables, modify existing items, retrieve items, and query/filter the items in the table."
   ]
  },
  {
   "cell_type": "code",
   "execution_count": 25,
   "id": "6b7e02a0-ebfe-4632-9e71-7bcbf2ec91fb",
   "metadata": {},
   "outputs": [],
   "source": [
    "import boto3"
   ]
  },
  {
   "cell_type": "code",
   "execution_count": 26,
   "id": "8fe49a0d-9602-4ce6-9c38-603e54abbf0a",
   "metadata": {},
   "outputs": [],
   "source": [
    "# Get the service resource.\n",
    "dynamodb = boto3.resource('dynamodb')"
   ]
  },
  {
   "cell_type": "code",
   "execution_count": 27,
   "id": "17ff1df9-fce8-4d5a-8d76-e0e353c3f678",
   "metadata": {},
   "outputs": [
    {
     "ename": "ResourceInUseException",
     "evalue": "An error occurred (ResourceInUseException) when calling the CreateTable operation: Table already exists: users-data",
     "output_type": "error",
     "traceback": [
      "\u001b[0;31m---------------------------------------------------------------------------\u001b[0m",
      "\u001b[0;31mResourceInUseException\u001b[0m                    Traceback (most recent call last)",
      "\u001b[0;32m/tmp/ipykernel_129/3334964736.py\u001b[0m in \u001b[0;36m<module>\u001b[0;34m\u001b[0m\n\u001b[1;32m      1\u001b[0m \u001b[0;31m# Create the DynamoDB table.\u001b[0m\u001b[0;34m\u001b[0m\u001b[0;34m\u001b[0m\u001b[0m\n\u001b[0;32m----> 2\u001b[0;31m table = dynamodb.create_table(\n\u001b[0m\u001b[1;32m      3\u001b[0m     \u001b[0mTableName\u001b[0m\u001b[0;34m=\u001b[0m\u001b[0;34m'users-data'\u001b[0m\u001b[0;34m,\u001b[0m\u001b[0;34m\u001b[0m\u001b[0;34m\u001b[0m\u001b[0m\n\u001b[1;32m      4\u001b[0m     KeySchema=[\n\u001b[1;32m      5\u001b[0m         {\n",
      "\u001b[0;32m~/.conda/envs/default/lib/python3.9/site-packages/boto3/resources/factory.py\u001b[0m in \u001b[0;36mdo_action\u001b[0;34m(self, *args, **kwargs)\u001b[0m\n\u001b[1;32m    578\u001b[0m             \u001b[0;31m# instance via ``self``.\u001b[0m\u001b[0;34m\u001b[0m\u001b[0;34m\u001b[0m\u001b[0m\n\u001b[1;32m    579\u001b[0m             \u001b[0;32mdef\u001b[0m \u001b[0mdo_action\u001b[0m\u001b[0;34m(\u001b[0m\u001b[0mself\u001b[0m\u001b[0;34m,\u001b[0m \u001b[0;34m*\u001b[0m\u001b[0margs\u001b[0m\u001b[0;34m,\u001b[0m \u001b[0;34m**\u001b[0m\u001b[0mkwargs\u001b[0m\u001b[0;34m)\u001b[0m\u001b[0;34m:\u001b[0m\u001b[0;34m\u001b[0m\u001b[0;34m\u001b[0m\u001b[0m\n\u001b[0;32m--> 580\u001b[0;31m                 \u001b[0mresponse\u001b[0m \u001b[0;34m=\u001b[0m \u001b[0maction\u001b[0m\u001b[0;34m(\u001b[0m\u001b[0mself\u001b[0m\u001b[0;34m,\u001b[0m \u001b[0;34m*\u001b[0m\u001b[0margs\u001b[0m\u001b[0;34m,\u001b[0m \u001b[0;34m**\u001b[0m\u001b[0mkwargs\u001b[0m\u001b[0;34m)\u001b[0m\u001b[0;34m\u001b[0m\u001b[0;34m\u001b[0m\u001b[0m\n\u001b[0m\u001b[1;32m    581\u001b[0m \u001b[0;34m\u001b[0m\u001b[0m\n\u001b[1;32m    582\u001b[0m                 \u001b[0;32mif\u001b[0m \u001b[0mhasattr\u001b[0m\u001b[0;34m(\u001b[0m\u001b[0mself\u001b[0m\u001b[0;34m,\u001b[0m \u001b[0;34m'load'\u001b[0m\u001b[0;34m)\u001b[0m\u001b[0;34m:\u001b[0m\u001b[0;34m\u001b[0m\u001b[0;34m\u001b[0m\u001b[0m\n",
      "\u001b[0;32m~/.conda/envs/default/lib/python3.9/site-packages/boto3/resources/action.py\u001b[0m in \u001b[0;36m__call__\u001b[0;34m(self, parent, *args, **kwargs)\u001b[0m\n\u001b[1;32m     86\u001b[0m         )\n\u001b[1;32m     87\u001b[0m \u001b[0;34m\u001b[0m\u001b[0m\n\u001b[0;32m---> 88\u001b[0;31m         \u001b[0mresponse\u001b[0m \u001b[0;34m=\u001b[0m \u001b[0mgetattr\u001b[0m\u001b[0;34m(\u001b[0m\u001b[0mparent\u001b[0m\u001b[0;34m.\u001b[0m\u001b[0mmeta\u001b[0m\u001b[0;34m.\u001b[0m\u001b[0mclient\u001b[0m\u001b[0;34m,\u001b[0m \u001b[0moperation_name\u001b[0m\u001b[0;34m)\u001b[0m\u001b[0;34m(\u001b[0m\u001b[0;34m*\u001b[0m\u001b[0margs\u001b[0m\u001b[0;34m,\u001b[0m \u001b[0;34m**\u001b[0m\u001b[0mparams\u001b[0m\u001b[0;34m)\u001b[0m\u001b[0;34m\u001b[0m\u001b[0;34m\u001b[0m\u001b[0m\n\u001b[0m\u001b[1;32m     89\u001b[0m \u001b[0;34m\u001b[0m\u001b[0m\n\u001b[1;32m     90\u001b[0m         \u001b[0mlogger\u001b[0m\u001b[0;34m.\u001b[0m\u001b[0mdebug\u001b[0m\u001b[0;34m(\u001b[0m\u001b[0;34m'Response: %r'\u001b[0m\u001b[0;34m,\u001b[0m \u001b[0mresponse\u001b[0m\u001b[0;34m)\u001b[0m\u001b[0;34m\u001b[0m\u001b[0;34m\u001b[0m\u001b[0m\n",
      "\u001b[0;32m~/.conda/envs/default/lib/python3.9/site-packages/botocore/client.py\u001b[0m in \u001b[0;36m_api_call\u001b[0;34m(self, *args, **kwargs)\u001b[0m\n\u001b[1;32m    399\u001b[0m                     \"%s() only accepts keyword arguments.\" % py_operation_name)\n\u001b[1;32m    400\u001b[0m             \u001b[0;31m# The \"self\" in this scope is referring to the BaseClient.\u001b[0m\u001b[0;34m\u001b[0m\u001b[0;34m\u001b[0m\u001b[0m\n\u001b[0;32m--> 401\u001b[0;31m             \u001b[0;32mreturn\u001b[0m \u001b[0mself\u001b[0m\u001b[0;34m.\u001b[0m\u001b[0m_make_api_call\u001b[0m\u001b[0;34m(\u001b[0m\u001b[0moperation_name\u001b[0m\u001b[0;34m,\u001b[0m \u001b[0mkwargs\u001b[0m\u001b[0;34m)\u001b[0m\u001b[0;34m\u001b[0m\u001b[0;34m\u001b[0m\u001b[0m\n\u001b[0m\u001b[1;32m    402\u001b[0m \u001b[0;34m\u001b[0m\u001b[0m\n\u001b[1;32m    403\u001b[0m         \u001b[0m_api_call\u001b[0m\u001b[0;34m.\u001b[0m\u001b[0m__name__\u001b[0m \u001b[0;34m=\u001b[0m \u001b[0mstr\u001b[0m\u001b[0;34m(\u001b[0m\u001b[0mpy_operation_name\u001b[0m\u001b[0;34m)\u001b[0m\u001b[0;34m\u001b[0m\u001b[0;34m\u001b[0m\u001b[0m\n",
      "\u001b[0;32m~/.conda/envs/default/lib/python3.9/site-packages/botocore/client.py\u001b[0m in \u001b[0;36m_make_api_call\u001b[0;34m(self, operation_name, api_params)\u001b[0m\n\u001b[1;32m    729\u001b[0m             \u001b[0merror_code\u001b[0m \u001b[0;34m=\u001b[0m \u001b[0mparsed_response\u001b[0m\u001b[0;34m.\u001b[0m\u001b[0mget\u001b[0m\u001b[0;34m(\u001b[0m\u001b[0;34m\"Error\"\u001b[0m\u001b[0;34m,\u001b[0m \u001b[0;34m{\u001b[0m\u001b[0;34m}\u001b[0m\u001b[0;34m)\u001b[0m\u001b[0;34m.\u001b[0m\u001b[0mget\u001b[0m\u001b[0;34m(\u001b[0m\u001b[0;34m\"Code\"\u001b[0m\u001b[0;34m)\u001b[0m\u001b[0;34m\u001b[0m\u001b[0;34m\u001b[0m\u001b[0m\n\u001b[1;32m    730\u001b[0m             \u001b[0merror_class\u001b[0m \u001b[0;34m=\u001b[0m \u001b[0mself\u001b[0m\u001b[0;34m.\u001b[0m\u001b[0mexceptions\u001b[0m\u001b[0;34m.\u001b[0m\u001b[0mfrom_code\u001b[0m\u001b[0;34m(\u001b[0m\u001b[0merror_code\u001b[0m\u001b[0;34m)\u001b[0m\u001b[0;34m\u001b[0m\u001b[0;34m\u001b[0m\u001b[0m\n\u001b[0;32m--> 731\u001b[0;31m             \u001b[0;32mraise\u001b[0m \u001b[0merror_class\u001b[0m\u001b[0;34m(\u001b[0m\u001b[0mparsed_response\u001b[0m\u001b[0;34m,\u001b[0m \u001b[0moperation_name\u001b[0m\u001b[0;34m)\u001b[0m\u001b[0;34m\u001b[0m\u001b[0;34m\u001b[0m\u001b[0m\n\u001b[0m\u001b[1;32m    732\u001b[0m         \u001b[0;32melse\u001b[0m\u001b[0;34m:\u001b[0m\u001b[0;34m\u001b[0m\u001b[0;34m\u001b[0m\u001b[0m\n\u001b[1;32m    733\u001b[0m             \u001b[0;32mreturn\u001b[0m \u001b[0mparsed_response\u001b[0m\u001b[0;34m\u001b[0m\u001b[0;34m\u001b[0m\u001b[0m\n",
      "\u001b[0;31mResourceInUseException\u001b[0m: An error occurred (ResourceInUseException) when calling the CreateTable operation: Table already exists: users-data"
     ]
    }
   ],
   "source": [
    "# Create the DynamoDB table.\n",
    "table = dynamodb.create_table(\n",
    "    TableName='users-data',\n",
    "    KeySchema=[\n",
    "        {\n",
    "            'AttributeName': 'username',\n",
    "            'KeyType': 'HASH'\n",
    "        },\n",
    "        {\n",
    "            'AttributeName': 'last_name',\n",
    "            'KeyType': 'RANGE'\n",
    "        }\n",
    "    ],\n",
    "    AttributeDefinitions=[\n",
    "        {\n",
    "            'AttributeName': 'username',\n",
    "            'AttributeType': 'S'\n",
    "        },\n",
    "        {\n",
    "            'AttributeName': 'last_name',\n",
    "            'AttributeType': 'S'\n",
    "        },\n",
    "    ],\n",
    "    ProvisionedThroughput={\n",
    "        'ReadCapacityUnits': 5,\n",
    "        'WriteCapacityUnits': 5\n",
    "    }\n",
    ")"
   ]
  },
  {
   "cell_type": "code",
   "execution_count": 28,
   "id": "c8ccb001-8021-4c23-b4b4-64a6119be920",
   "metadata": {},
   "outputs": [],
   "source": [
    "# Wait until the table exists.\n",
    "table.wait_until_exists()"
   ]
  },
  {
   "cell_type": "code",
   "execution_count": 29,
   "id": "b1470e9c-2beb-46af-bbce-a0ab6ba29637",
   "metadata": {},
   "outputs": [
    {
     "name": "stdout",
     "output_type": "stream",
     "text": [
      "0\n"
     ]
    }
   ],
   "source": [
    "# Print out some data about the table.\n",
    "print(table.item_count)"
   ]
  },
  {
   "cell_type": "markdown",
   "id": "b2c6f343-2b36-4810-8dc2-a199a496ea41",
   "metadata": {},
   "source": [
    "This creates a table named users that respectively has the hash and range primary keys username and last_name. This method will return a DynamoDB.Table resource to call additional methods on the created table."
   ]
  },
  {
   "cell_type": "code",
   "execution_count": 47,
   "id": "05ae9d45-d6c7-40a4-a773-f9c16e4333ec",
   "metadata": {},
   "outputs": [
    {
     "name": "stdout",
     "output_type": "stream",
     "text": [
      "2022-05-05 21:53:25.363000+00:00\n"
     ]
    }
   ],
   "source": [
    "# Instantiate a table resource object without actually\n",
    "# creating a DynamoDB table. Note that the attributes of this table\n",
    "# are lazy-loaded: a request is not made nor are the attribute\n",
    "# values populated until the attributes\n",
    "# on the table resource are accessed or its load() method is called.\n",
    "table = dynamodb.Table('users')\n",
    "\n",
    "# Print out some data about the table.\n",
    "# This will cause a request to be made to DynamoDB and its attribute\n",
    "# values will be set based on the response.\n",
    "print(table.creation_date_time)"
   ]
  },
  {
   "cell_type": "markdown",
   "id": "168892b9-3c56-4c71-b6ed-27b18e9539bb",
   "metadata": {},
   "source": [
    "Once you have a DynamoDB.Table resource you can add new items to the table using DynamoDB.Table.put_item():"
   ]
  },
  {
   "cell_type": "code",
   "execution_count": 50,
   "id": "6a2e3424-9bc2-4b32-8347-003d3d8c66ee",
   "metadata": {},
   "outputs": [
    {
     "data": {
      "text/plain": [
       "{'ResponseMetadata': {'RequestId': '32LAH48MGIP791RMMKJ21UEUTJVV4KQNSO5AEMVJF66Q9ASUAAJG',\n",
       "  'HTTPStatusCode': 200,\n",
       "  'HTTPHeaders': {'server': 'Server',\n",
       "   'date': 'Thu, 05 May 2022 22:09:45 GMT',\n",
       "   'content-type': 'application/x-amz-json-1.0',\n",
       "   'content-length': '2',\n",
       "   'connection': 'keep-alive',\n",
       "   'x-amzn-requestid': '32LAH48MGIP791RMMKJ21UEUTJVV4KQNSO5AEMVJF66Q9ASUAAJG',\n",
       "   'x-amz-crc32': '2745614147'},\n",
       "  'RetryAttempts': 0}}"
      ]
     },
     "execution_count": 50,
     "metadata": {},
     "output_type": "execute_result"
    }
   ],
   "source": [
    "table.put_item(\n",
    "   Item={\n",
    "        'username': 'janedoe',\n",
    "        'first_name': 'Mak',\n",
    "        'last_name': 'Doe',\n",
    "        'age': 25,\n",
    "        'account_type': 'standard_user',\n",
    "        'IMX': 66\n",
    "    }\n",
    ")"
   ]
  },
  {
   "cell_type": "code",
   "execution_count": 51,
   "id": "e4fbb0d7-854b-4477-8f16-8a38f5ab3c3b",
   "metadata": {},
   "outputs": [
    {
     "ename": "KeyError",
     "evalue": "'Item'",
     "output_type": "error",
     "traceback": [
      "\u001b[0;31m---------------------------------------------------------------------------\u001b[0m",
      "\u001b[0;31mKeyError\u001b[0m                                  Traceback (most recent call last)",
      "\u001b[0;32m/tmp/ipykernel_129/2941390059.py\u001b[0m in \u001b[0;36m<module>\u001b[0;34m\u001b[0m\n\u001b[1;32m      6\u001b[0m     }\n\u001b[1;32m      7\u001b[0m )\n\u001b[0;32m----> 8\u001b[0;31m \u001b[0mitem\u001b[0m \u001b[0;34m=\u001b[0m \u001b[0mresponse\u001b[0m\u001b[0;34m[\u001b[0m\u001b[0;34m'Item'\u001b[0m\u001b[0;34m]\u001b[0m\u001b[0;34m\u001b[0m\u001b[0;34m\u001b[0m\u001b[0m\n\u001b[0m\u001b[1;32m      9\u001b[0m \u001b[0mprint\u001b[0m\u001b[0;34m(\u001b[0m\u001b[0mitem\u001b[0m\u001b[0;34m)\u001b[0m\u001b[0;34m\u001b[0m\u001b[0;34m\u001b[0m\u001b[0m\n",
      "\u001b[0;31mKeyError\u001b[0m: 'Item'"
     ]
    }
   ],
   "source": [
    "# Getting an item\n",
    "response = table.get_item(\n",
    "    Key={\n",
    "        'username': 'janedoe',\n",
    "        'last_name': 'Mak'\n",
    "    }\n",
    ")\n",
    "item = response['Item']\n",
    "print(item)"
   ]
  },
  {
   "cell_type": "code",
   "execution_count": 46,
   "id": "44c31730-9e16-4812-acad-dd1b98b8eb6a",
   "metadata": {},
   "outputs": [
    {
     "data": {
      "text/plain": [
       "{'ResponseMetadata': {'RequestId': 'NTFRN9THJ4L0BTPGL97PNJ0F1NVV4KQNSO5AEMVJF66Q9ASUAAJG',\n",
       "  'HTTPStatusCode': 200,\n",
       "  'HTTPHeaders': {'server': 'Server',\n",
       "   'date': 'Thu, 05 May 2022 22:08:04 GMT',\n",
       "   'content-type': 'application/x-amz-json-1.0',\n",
       "   'content-length': '2',\n",
       "   'connection': 'keep-alive',\n",
       "   'x-amzn-requestid': 'NTFRN9THJ4L0BTPGL97PNJ0F1NVV4KQNSO5AEMVJF66Q9ASUAAJG',\n",
       "   'x-amz-crc32': '2745614147'},\n",
       "  'RetryAttempts': 0}}"
      ]
     },
     "execution_count": 46,
     "metadata": {},
     "output_type": "execute_result"
    }
   ],
   "source": [
    "# Updating an item\n",
    "table.update_item(\n",
    "    Key={\n",
    "        'username': 'janedoe',\n",
    "        'last_name': 'Doe'\n",
    "    },\n",
    "    UpdateExpression='SET age = :val1',\n",
    "    ExpressionAttributeValues={\n",
    "        ':val1': 26\n",
    "    }\n",
    ")"
   ]
  },
  {
   "cell_type": "code",
   "execution_count": 12,
   "id": "69e09acc-d70e-4344-98d4-ea28c440944b",
   "metadata": {},
   "outputs": [
    {
     "data": {
      "text/plain": [
       "{'ResponseMetadata': {'RequestId': 'AQROGE2NR1C60O6TQRUTSQPUDNVV4KQNSO5AEMVJF66Q9ASUAAJG',\n",
       "  'HTTPStatusCode': 200,\n",
       "  'HTTPHeaders': {'server': 'Server',\n",
       "   'date': 'Thu, 05 May 2022 21:54:57 GMT',\n",
       "   'content-type': 'application/x-amz-json-1.0',\n",
       "   'content-length': '2',\n",
       "   'connection': 'keep-alive',\n",
       "   'x-amzn-requestid': 'AQROGE2NR1C60O6TQRUTSQPUDNVV4KQNSO5AEMVJF66Q9ASUAAJG',\n",
       "   'x-amz-crc32': '2745614147'},\n",
       "  'RetryAttempts': 0}}"
      ]
     },
     "execution_count": 12,
     "metadata": {},
     "output_type": "execute_result"
    }
   ],
   "source": [
    "# Deleting an item\n",
    "table.delete_item(\n",
    "    Key={\n",
    "        'username': 'janedoe',\n",
    "        'last_name': 'Doe'\n",
    "    }\n",
    ")"
   ]
  },
  {
   "cell_type": "markdown",
   "id": "7c357173-1d96-468e-ab1d-5c26da4994e3",
   "metadata": {},
   "source": [
    "## Batch writing\n",
    "If you are loading a lot of data at a time, you can make use of DynamoDB.Table.batch_writer() so you can both speed up the process and reduce the number of write requests made to the service.\n",
    "\n",
    "This method returns a handle to a batch writer object that will automatically handle buffering and sending items in batches. In addition, the batch writer will also automatically handle any unprocessed items and resend them as needed. All you need to do is call put_item for any items you want to add, and delete_item for any items you want to delete:"
   ]
  },
  {
   "cell_type": "code",
   "execution_count": 13,
   "id": "834984a5-a221-430c-85fc-9956b6d33b19",
   "metadata": {},
   "outputs": [],
   "source": [
    "with table.batch_writer() as batch:\n",
    "    batch.put_item(\n",
    "        Item={\n",
    "            'account_type': 'standard_user',\n",
    "            'username': 'johndoe',\n",
    "            'first_name': 'John',\n",
    "            'last_name': 'Doe',\n",
    "            'age': 25,\n",
    "            'address': {\n",
    "                'road': '1 Jefferson Street',\n",
    "                'city': 'Los Angeles',\n",
    "                'state': 'CA',\n",
    "                'zipcode': 90001\n",
    "            }\n",
    "        }\n",
    "    )\n",
    "    batch.put_item(\n",
    "        Item={\n",
    "            'account_type': 'super_user',\n",
    "            'username': 'janedoering',\n",
    "            'first_name': 'Jane',\n",
    "            'last_name': 'Doering',\n",
    "            'age': 40,\n",
    "            'address': {\n",
    "                'road': '2 Washington Avenue',\n",
    "                'city': 'Seattle',\n",
    "                'state': 'WA',\n",
    "                'zipcode': 98109\n",
    "            }\n",
    "        }\n",
    "    )\n",
    "    batch.put_item(\n",
    "        Item={\n",
    "            'account_type': 'standard_user',\n",
    "            'username': 'bobsmith',\n",
    "            'first_name': 'Bob',\n",
    "            'last_name':  'Smith',\n",
    "            'age': 18,\n",
    "            'address': {\n",
    "                'road': '3 Madison Lane',\n",
    "                'city': 'Louisville',\n",
    "                'state': 'KY',\n",
    "                'zipcode': 40213\n",
    "            }\n",
    "        }\n",
    "    )\n",
    "    batch.put_item(\n",
    "        Item={\n",
    "            'account_type': 'super_user',\n",
    "            'username': 'alicedoe',\n",
    "            'first_name': 'Alice',\n",
    "            'last_name': 'Doe',\n",
    "            'age': 27,\n",
    "            'address': {\n",
    "                'road': '1 Jefferson Street',\n",
    "                'city': 'Los Angeles',\n",
    "                'state': 'CA',\n",
    "                'zipcode': 90001\n",
    "            }\n",
    "        }\n",
    "    )"
   ]
  },
  {
   "cell_type": "markdown",
   "id": "a698a25f-2160-4759-874d-f3949e41998c",
   "metadata": {},
   "source": [
    "The batch writer is even able to handle a very large amount of writes to the table."
   ]
  },
  {
   "cell_type": "code",
   "execution_count": 18,
   "id": "b73603fe-7143-4c73-a140-e8a139218129",
   "metadata": {},
   "outputs": [],
   "source": [
    "with table.batch_writer() as batch:\n",
    "    for i in range(50):\n",
    "        batch.put_item(\n",
    "            Item={\n",
    "                'account_type': 'anonymous',\n",
    "                'username': 'user' + str(i),\n",
    "                'first_name': 'unknown',\n",
    "                'last_name': 'unknown'\n",
    "            }\n",
    "        )"
   ]
  },
  {
   "cell_type": "code",
   "execution_count": 15,
   "id": "ac3c4ea8-58cd-48ac-92ea-a6f4f64bd05a",
   "metadata": {},
   "outputs": [],
   "source": [
    "from boto3.dynamodb.conditions import Key, Attr\n",
    "from pprint import pprint"
   ]
  },
  {
   "cell_type": "code",
   "execution_count": 16,
   "id": "362ddbb3-4889-4cda-8521-724394a6984e",
   "metadata": {},
   "outputs": [
    {
     "name": "stdout",
     "output_type": "stream",
     "text": [
      "[{'account_type': 'standard_user',\n",
      "  'address': {'city': 'Los Angeles',\n",
      "              'road': '1 Jefferson Street',\n",
      "              'state': 'CA',\n",
      "              'zipcode': Decimal('90001')},\n",
      "  'age': Decimal('25'),\n",
      "  'first_name': 'John',\n",
      "  'last_name': 'Doe',\n",
      "  'username': 'johndoe'}]\n"
     ]
    }
   ],
   "source": [
    "response = table.query(\n",
    "    KeyConditionExpression=Key('username').eq('johndoe')\n",
    ")\n",
    "items = response['Items']\n",
    "pprint(items)"
   ]
  },
  {
   "cell_type": "code",
   "execution_count": null,
   "id": "7058a51d-db37-4f3e-9df0-3cd128423f55",
   "metadata": {},
   "outputs": [],
   "source": []
  }
 ],
 "metadata": {
  "kernelspec": {
   "display_name": "default:Python",
   "language": "python",
   "name": "conda-env-default-py"
  },
  "language_info": {
   "codemirror_mode": {
    "name": "ipython",
    "version": 3
   },
   "file_extension": ".py",
   "mimetype": "text/x-python",
   "name": "python",
   "nbconvert_exporter": "python",
   "pygments_lexer": "ipython3",
   "version": "3.9.10"
  }
 },
 "nbformat": 4,
 "nbformat_minor": 5
}
