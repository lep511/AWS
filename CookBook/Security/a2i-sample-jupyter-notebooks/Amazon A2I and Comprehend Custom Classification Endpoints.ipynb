{
 "cells": [
  {
   "cell_type": "code",
   "execution_count": 5,
   "metadata": {},
   "outputs": [],
   "source": [
    "import botocore\n",
    "import sagemaker\n",
    "import boto3\n",
    "import io\n",
    "import json\n",
    "import uuid\n",
    "import time\n",
    "\n"
   ]
  },
  {
   "cell_type": "markdown",
   "metadata": {},
   "source": [
    "# Environment Setup¶\n",
    "\n",
    "We need to set up the following data:\n",
    "\n",
    "REGION - Region to call A2I.\n",
    "\n",
    "BUCKET_NAME - A S3 bucket accessible by the given role\n",
    "    Used to store the input files and output results\n",
    "    Must be within the same region A2I is called from\n",
    "    \n",
    "WORKTEAM_ARN - To create your Private Workteam, visit the instructions here: https://docs.aws.amazon.com/sagemaker/latest/dg/sms-workforce-private.html After you have created your workteam, replace \\<YOUR-WORKTEAM-ARN> below\n",
    "\n",
    "ENDPOINT_ARN- Comprehend Custom Classifier endpoint.\n",
    "For instructions to create a Comprehend Custom Classifier and its endpoint refer to this blog:\n",
    "https://aws.amazon.com/blogs/machine-learning/active-learning-workflow-for-amazon-comprehend-custom-classification-models-part-1/\n",
    "\n",
    "ROLE - The IAM role used as part of StartHumanLoop. By default, this notebook will use the execution role. You can learn more about IAM Policies here https://docs.aws.amazon.com/IAM/latest/UserGuide/access_policies.html\n",
    "\n"
   ]
  },
  {
   "cell_type": "code",
   "execution_count": null,
   "metadata": {},
   "outputs": [],
   "source": [
    "# REGION = 'us-east-1'\n",
    "WORKTEAM_ARN= \"<Your worker team ARN>\"\n",
    "BUCKET = \"<Your S3 bucket>\"\n",
    "ENDPOINT_ARN='<Your Custom Classification Endpoint>'\n",
    "role = sagemaker.get_execution_role()\n",
    "region = boto3.session.Session().region_name\n",
    "prefix = \"custom-classify\" + str(uuid.uuid1())"
   ]
  },
  {
   "cell_type": "markdown",
   "metadata": {},
   "source": [
    "# Client Setup\n",
    "\n",
    "Let's setup the clients for Amazon SageMaker, Amazon A2I Runtime and Amazon Comprehend.\n"
   ]
  },
  {
   "cell_type": "code",
   "execution_count": null,
   "metadata": {},
   "outputs": [],
   "source": [
    "# Amazon SageMaker client\n",
    "sagemaker = boto3.client('sagemaker', REGION)\n",
    "# A2I Runtime client\n",
    "a2i_runtime_client = boto3.client('sagemaker-a2i-runtime', REGION)\n",
    "#Comprehend Client\n",
    "comprehend = boto3.client('comprehend',REGION)"
   ]
  },
  {
   "cell_type": "code",
   "execution_count": 7,
   "metadata": {},
   "outputs": [],
   "source": [
    "\n",
    "import pprint\n",
    "\n",
    "# Pretty print setup\n",
    "pp = pprint.PrettyPrinter(indent=2)\n",
    "\n",
    "# Function to pretty-print AWS SDK responses\n",
    "def print_response(response):\n",
    "    if 'ResponseMetadata' in response:\n",
    "        del response['ResponseMetadata']\n",
    "    pp.pprint(response)\n",
    "\n"
   ]
  },
  {
   "cell_type": "markdown",
   "metadata": {},
   "source": [
    "# Setting up an Amazon A2I human loop\n",
    "\n",
    "In this section, you set up a human review loop for low-confidence detection in Amazon A2I. It includes the following steps:\n",
    "\n",
    "    Step 1. Create a Worker Task template.\n",
    "    Step 2. Create a Human review workflow.\n",
    "    Step 3. Creating and Starting A2I human loop\n",
    "    Step 4. Check the human loop status and start labelling\n",
    "\n",
    "# Step 1. Create a Worker Task template\n",
    "\n",
    "It is 2 step process:\n",
    "    \n",
    "    1. Select the UI template you want to use For over 70 pre built UIs, check: https://github.com/aws-samples/amazon-a2i-sample-task-uis\n",
    "    \n",
    "    2. Create Task template using create_human_task_ui API or you can do the same thing using the AWS Console.\n",
    "Refer to this blog to follow AWS Console steps: https://aws.amazon.com/blogs/machine-learning/active-learning-workflow-for-amazon-comprehend-custom-classification-models-part-1/\n",
    "\n"
   ]
  },
  {
   "cell_type": "code",
   "execution_count": 46,
   "metadata": {},
   "outputs": [],
   "source": [
    "#1. Select the UI template for custom classification and modify the categories based on your labels\n",
    "template = \"\"\"<script src=\"https://assets.crowd.aws/crowd-html-elements.js\"></script>\n",
    "\n",
    "<crowd-form>\n",
    "    <crowd-classifier-multi-select\n",
    "      name=\"category\"\n",
    "      categories=\"['World', 'SciTech', 'Business','Sports']\"\n",
    "      header=\"Select the relevant categories\"\n",
    "    >\n",
    "      <classification-target>\n",
    "        {{ task.input.taskObject }}\n",
    "      </classification-target>\n",
    "      \n",
    "      <full-instructions header=\"Text Categorization Instructions\">\n",
    "        <p><strong>World</strong>Related to world events</p>\n",
    "        <p><strong>SciTech</strong>Anything realted to science or Technology</p>\n",
    "        <p><strong>Business</strong>Anything related to driving business</p>\n",
    "         <p><strong>Sports</strong>Anything related to sports</p>\n",
    "      </full-instructions>\n",
    "\n",
    "      <short-instructions>\n",
    "       Choose all categories that are expressed by the text. \n",
    "      </short-instructions>\n",
    "    </crowd-classifier-multi-select>\n",
    "</crowd-form>\n",
    "\"\"\""
   ]
  },
  {
   "cell_type": "markdown",
   "metadata": {},
   "source": [
    "# Create a worker task template using boto3 API\n",
    "\n",
    "response = client.create_human_task_ui(\n",
    "    \n",
    "    HumanTaskUiName='string',\n",
    "    \n",
    "    UiTemplate={\n",
    "        'Content': 'string'\n",
    "    },\n",
    "    \n",
    "    Tags=[\n",
    "        {\n",
    "            'Key': 'string',\n",
    "            'Value': 'string'\n",
    "        },\n",
    "    ]\n",
    ")\n",
    "\n",
    "https://boto3.amazonaws.com/v1/documentation/api/latest/reference/services/sagemaker.html#SageMaker.Client.create_human_task_ui"
   ]
  },
  {
   "cell_type": "code",
   "execution_count": 21,
   "metadata": {},
   "outputs": [],
   "source": [
    "def create_task_ui():\n",
    "    '''\n",
    "    Creates a Human Task UI resource.\n",
    "\n",
    "    Returns:\n",
    "    struct: HumanTaskUiArn\n",
    "    '''\n",
    "    response = sagemaker.create_human_task_ui(\n",
    "        HumanTaskUiName=taskUIName,\n",
    "        UiTemplate={'Content': template})\n",
    "    return response"
   ]
  },
  {
   "cell_type": "code",
   "execution_count": 22,
   "metadata": {},
   "outputs": [
    {
     "name": "stdout",
     "output_type": "stream",
     "text": [
      "arn:aws:sagemaker:us-east-1:186389221476:human-task-ui/custom-classify2c31660c-fcec-11ea-b54e-0f3f86ad49f5-ui\n"
     ]
    }
   ],
   "source": [
    "# Task UI name - this value is unique per account and region. You can also provide your own value here.\n",
    "taskUIName = prefix + '-ui' \n",
    "\n",
    "# Create task UI\n",
    "humanTaskUiResponse = create_task_ui()\n",
    "humanTaskUiArn = humanTaskUiResponse['HumanTaskUiArn']\n",
    "print(humanTaskUiArn)"
   ]
  },
  {
   "cell_type": "markdown",
   "metadata": {},
   "source": [
    "# Step 2. Create a Human review workflow\n",
    "Use an Amazon Augmented AI (Amazon A2I) human review workflow, or flow definition, to specify the following: \n",
    "  \n",
    "\n",
    "     The workforce that your tasks will be sent to.\n",
    "\n",
    "     The instructions that your workforce will receive, which is called a worker task template.\n",
    "\n",
    "     The configuration of your worker tasks, including the number of workers that receive a task and time limits to complete tasks.\n",
    "\n",
    "     Where your output data will be stored.\n",
    "        \n",
    "To create a flow definition using the SageMaker API, you use the CreateFlowDefinition operation\n",
    "\n",
    "This demo is going to use the API, but you can optionally create this workflow definition in the console as well.\n",
    "\n",
    "For more details and instructions, see: https://docs.aws.amazon.com/sagemaker/latest/dg/a2i-create-flow-definition.html.\n"
   ]
  },
  {
   "cell_type": "code",
   "execution_count": 23,
   "metadata": {},
   "outputs": [],
   "source": [
    "\n",
    "\n",
    "# Flow definition name - this value is unique per account and region. You can also provide your own value here.\n",
    "flowDefinitionName = prefix + '-fd-a2i' \n",
    "\n",
    "create_workflow_definition_response = sagemaker.create_flow_definition(\n",
    "        FlowDefinitionName= flowDefinitionName,\n",
    "        RoleArn= role,\n",
    "        HumanLoopConfig= {\n",
    "            \"WorkteamArn\": WORKTEAM_ARN,\n",
    "            \"HumanTaskUiArn\": humanTaskUiArn,\n",
    "            \"TaskCount\": 1,\n",
    "            \"TaskDescription\": \"Read the instructions\",\n",
    "            \"TaskTitle\": \"Classify the text\"\n",
    "        },\n",
    "        OutputConfig={\n",
    "            \"S3OutputPath\" : \"s3://\"+BUCKET+\"/output\"\n",
    "        }\n",
    "    )\n",
    "flowDefinitionArn = create_workflow_definition_response['FlowDefinitionArn'] # let's save this ARN for future use\n",
    "\n",
    "\n",
    "\n"
   ]
  },
  {
   "cell_type": "code",
   "execution_count": 24,
   "metadata": {},
   "outputs": [
    {
     "name": "stdout",
     "output_type": "stream",
     "text": [
      "Active\n",
      "Flow Definition is active\n"
     ]
    }
   ],
   "source": [
    "# Describe flow definition - status should be active\n",
    "for x in range(60):\n",
    "    describeFlowDefinitionResponse = sagemaker.describe_flow_definition(FlowDefinitionName=flowDefinitionName)\n",
    "    print(describeFlowDefinitionResponse['FlowDefinitionStatus'])\n",
    "    if (describeFlowDefinitionResponse['FlowDefinitionStatus'] == 'Active'):\n",
    "        print(\"Flow Definition is active\")\n",
    "        break\n",
    "    time.sleep(2)"
   ]
  },
  {
   "cell_type": "code",
   "execution_count": 25,
   "metadata": {},
   "outputs": [
    {
     "name": "stdout",
     "output_type": "stream",
     "text": [
      "arn:aws:sagemaker:us-east-1:186389221476:flow-definition/custom-classify2c31660c-fcec-11ea-b54e-0f3f86ad49f5-fd-a2i\n"
     ]
    }
   ],
   "source": [
    "\n",
    "\n",
    "print(flowDefinitionArn)\n",
    "\n"
   ]
  },
  {
   "cell_type": "markdown",
   "metadata": {},
   "source": [
    "# Sample Data to Test Comprehend Endpoint and create a request for A2I"
   ]
  },
  {
   "cell_type": "code",
   "execution_count": 26,
   "metadata": {},
   "outputs": [
    {
     "name": "stdout",
     "output_type": "stream",
     "text": [
      "{'Classes': [{'Name': 'SPORTS', 'Score': 0.7070213556289673}, {'Name': 'WORLD', 'Score': 0.1983727365732193}, {'Name': 'SCI_TECH', 'Score': 0.07924257218837738}], 'ResponseMetadata': {'RequestId': '319d6c0a-02d1-48a6-a6c8-ebe061b50393', 'HTTPStatusCode': 200, 'HTTPHeaders': {'x-amzn-requestid': '319d6c0a-02d1-48a6-a6c8-ebe061b50393', 'content-type': 'application/x-amz-json-1.1', 'content-length': '150', 'date': 'Tue, 22 Sep 2020 17:08:18 GMT'}, 'RetryAttempts': 0}}\n",
      "{'utterance': 'MS Dhoni retired from cricket', 'prediction': 'SPORTS', 'confidence': 0.7070213556289673}\n"
     ]
    }
   ],
   "source": [
    "sentence='MS Dhoni retired from cricket'\n",
    "response = comprehend.classify_document(\n",
    "    Text= sentence,\n",
    "    EndpointArn=ENDPOINT_ARN\n",
    ")\n",
    "print(response)\n",
    "p = response['Classes'][0]['Name']\n",
    "score = response['Classes'][0]['Score']\n",
    "        #print(f\"S:{sentence}, Score:{score}\")\n",
    "response = {}\n",
    "response['utterance']=sentence\n",
    "response['prediction']=p\n",
    "response['confidence'] = score\n",
    "print(response)"
   ]
  },
  {
   "cell_type": "markdown",
   "metadata": {},
   "source": [
    "# Step 3. Creating and Starting A2I human loop \n",
    "For more information https://docs.aws.amazon.com/sagemaker/latest/dg/a2i-start-human-loop.html#a2i-instructions-starthumanloop\n",
    "\n",
    "When using Amazon A2I for a custom task, a human loops starts when StartHumanLoop is called in your application. \n",
    "Prerequisites\n",
    "\n",
    "To complete this procedure, you need:\n",
    "\n",
    "    Input data formatted as a string representation of a JSON-formatted file.\n",
    "\n",
    "    The Amazon Resource Name (ARN) of your flow definition\n",
    "\n",
    "\n",
    "response = client.start_human_loop(\n",
    "    \n",
    "    HumanLoopName='string',\n",
    "    \n",
    "    FlowDefinitionArn='string',\n",
    "    \n",
    "    HumanLoopInput={\n",
    "        'InputContent': 'string'\n",
    "    },\n",
    "    \n",
    "    DataAttributes={\n",
    "        'ContentClassifiers': [\n",
    "            'FreeOfPersonallyIdentifiableInformation'|'FreeOfAdultContent',\n",
    "        ]\n",
    "    }\n",
    ")\n",
    "\n"
   ]
  },
  {
   "cell_type": "code",
   "execution_count": 27,
   "metadata": {},
   "outputs": [
    {
     "name": "stdout",
     "output_type": "stream",
     "text": [
      "{'taskObject': 'MS Dhoni retired from cricket'}\n",
      "Score is less than the threshold of 0.3\n",
      "Starting human loop with name: c6bc21a2-cfa9-41dd-b28d-90264c6b8f0a  \n",
      "\n"
     ]
    }
   ],
   "source": [
    "\n",
    "human_loops_started = []\n",
    "\n",
    "import json\n",
    "\n",
    "CONFIDENCE_SCORE_THRESHOLD = .30\n",
    "\n",
    "\n",
    "if(response['confidence'] > CONFIDENCE_SCORE_THRESHOLD):\n",
    "        humanLoopName = str(uuid.uuid4())\n",
    "        human_loop_input = {}\n",
    "  \n",
    "        human_loop_input['taskObject'] = response['utterance']\n",
    "        start_loop_response = a2i_runtime_client.start_human_loop(\n",
    "        HumanLoopName=humanLoopName,\n",
    "        FlowDefinitionArn=flowDefinitionArn,\n",
    "        HumanLoopInput={\n",
    "                \"InputContent\": json.dumps(human_loop_input)\n",
    "            }\n",
    "        )\n",
    "        print(human_loop_input)\n",
    "        human_loops_started.append(humanLoopName)\n",
    "        print(f'Score is less than the threshold of {CONFIDENCE_SCORE_THRESHOLD}')\n",
    "        print(f'Starting human loop with name: {humanLoopName}  \\n')\n",
    "else:\n",
    "         print('No human loop created. \\n')"
   ]
  },
  {
   "cell_type": "markdown",
   "metadata": {},
   "source": [
    "# Display status of the Human Loop"
   ]
  },
  {
   "cell_type": "code",
   "execution_count": 28,
   "metadata": {},
   "outputs": [
    {
     "name": "stdout",
     "output_type": "stream",
     "text": [
      "HumanLoop Name: c6bc21a2-cfa9-41dd-b28d-90264c6b8f0a\n",
      "HumanLoop Status: InProgress\n",
      "HumanLoop Output Destination: {'OutputS3Uri': 's3://comprehend-demo0804/output/custom-classify2c31660c-fcec-11ea-b54e-0f3f86ad49f5-fd-a2i/2020/09/22/17/08/20/c6bc21a2-cfa9-41dd-b28d-90264c6b8f0a/output.json'}\n",
      "\n",
      "\n"
     ]
    }
   ],
   "source": [
    "\n",
    "\n",
    "completed_human_loops = []\n",
    "for human_loop_name in human_loops_started:\n",
    "    resp = a2i_runtime_client.describe_human_loop(HumanLoopName=human_loop_name)\n",
    "    print(f'HumanLoop Name: {human_loop_name}')\n",
    "    print(f'HumanLoop Status: {resp[\"HumanLoopStatus\"]}')\n",
    "    print(f'HumanLoop Output Destination: {resp[\"HumanLoopOutput\"]}')\n",
    "    print('\\n')\n",
    "    \n",
    "    if resp[\"HumanLoopStatus\"] == \"Completed\":\n",
    "        completed_human_loops.append(resp)\n",
    "\n"
   ]
  },
  {
   "cell_type": "markdown",
   "metadata": {},
   "source": [
    "# Navigate to the private worker portal and start Labelling!\n",
    "Make sure you've invited yourself to your workteam!"
   ]
  },
  {
   "cell_type": "code",
   "execution_count": 29,
   "metadata": {},
   "outputs": [
    {
     "name": "stdout",
     "output_type": "stream",
     "text": [
      "Navigate to the private worker portal and do the tasks. Make sure you've invited yourself to your workteam!\n",
      "https://nm77hcfvpb.labeling.us-east-1.sagemaker.aws\n"
     ]
    }
   ],
   "source": [
    "workteamName = WORKTEAM_ARN[WORKTEAM_ARN.rfind('/') + 1:]\n",
    "print(\"Navigate to the private worker portal and do the tasks. Make sure you've invited yourself to your workteam!\")\n",
    "print('https://' + sagemaker.describe_workteam(WorkteamName=workteamName)['Workteam']['SubDomain'])"
   ]
  },
  {
   "cell_type": "markdown",
   "metadata": {},
   "source": [
    "# Check the status of human loops if the workers have completed labelling"
   ]
  },
  {
   "cell_type": "code",
   "execution_count": 30,
   "metadata": {},
   "outputs": [
    {
     "name": "stdout",
     "output_type": "stream",
     "text": [
      "HumanLoop Name: c6bc21a2-cfa9-41dd-b28d-90264c6b8f0a\n",
      "HumanLoop Status: Completed\n",
      "HumanLoop Output Destination: {'OutputS3Uri': 's3://comprehend-demo0804/output/custom-classify2c31660c-fcec-11ea-b54e-0f3f86ad49f5-fd-a2i/2020/09/22/17/08/20/c6bc21a2-cfa9-41dd-b28d-90264c6b8f0a/output.json'}\n",
      "\n",
      "\n"
     ]
    }
   ],
   "source": [
    "completed_human_loops = []\n",
    "for human_loop_name in human_loops_started:\n",
    "    resp = a2i_runtime_client.describe_human_loop(HumanLoopName=human_loop_name)\n",
    "    print(f'HumanLoop Name: {human_loop_name}')\n",
    "    print(f'HumanLoop Status: {resp[\"HumanLoopStatus\"]}')\n",
    "    print(f'HumanLoop Output Destination: {resp[\"HumanLoopOutput\"]}')\n",
    "    print('\\n')\n",
    "    \n",
    "    if resp[\"HumanLoopStatus\"] == \"Completed\":\n",
    "        completed_human_loops.append(resp)"
   ]
  },
  {
   "cell_type": "markdown",
   "metadata": {},
   "source": [
    "# Review the labelling results in Amazon S3"
   ]
  },
  {
   "cell_type": "code",
   "execution_count": 34,
   "metadata": {},
   "outputs": [
    {
     "name": "stdout",
     "output_type": "stream",
     "text": [
      "{'flowDefinitionArn': 'arn:aws:sagemaker:us-east-1:186389221476:flow-definition/custom-classify2c31660c-fcec-11ea-b54e-0f3f86ad49f5-fd-a2i', 'humanAnswers': [{'answerContent': {'category': {'labels': ['World']}}, 'submissionTime': '2020-09-22T17:08:37.840Z', 'workerId': 'a4d8700afb91b37f', 'workerMetadata': {'identityData': {'identityProviderType': 'Cognito', 'issuer': 'https://cognito-idp.us-east-1.amazonaws.com/us-east-1_VHJkg7Dra', 'sub': 'd0b307cb-3a7d-483f-9933-e6bb2f2a2aec'}}}], 'humanLoopName': 'c6bc21a2-cfa9-41dd-b28d-90264c6b8f0a', 'inputContent': {'taskObject': 'MS Dhoni retired from cricket'}}\n"
     ]
    }
   ],
   "source": [
    "# I selected the last output.json entry from the list of human loops that were completed above\n",
    "s3 = boto3.client('s3')\n",
    "\n",
    "s3obj = s3.get_object(Bucket=BUCKET, Key='output/custom-classify2c31660c-fcec-11ea-b54e-0f3f86ad49f5-fd-a2i/2020/09/22/17/08/20/c6bc21a2-cfa9-41dd-b28d-90264c6b8f0a/output.json')\n",
    "s3data = s3obj['Body'].read().decode('utf-8')\n",
    "abc = json.loads(s3data)\n",
    "print(str(abc))"
   ]
  },
  {
   "cell_type": "code",
   "execution_count": null,
   "metadata": {},
   "outputs": [],
   "source": []
  }
 ],
 "metadata": {
  "kernelspec": {
   "display_name": "conda_python3",
   "language": "python",
   "name": "conda_python3"
  },
  "language_info": {
   "codemirror_mode": {
    "name": "ipython",
    "version": 3
   },
   "file_extension": ".py",
   "mimetype": "text/x-python",
   "name": "python",
   "nbconvert_exporter": "python",
   "pygments_lexer": "ipython3",
   "version": "3.6.10"
  }
 },
 "nbformat": 4,
 "nbformat_minor": 4
}
