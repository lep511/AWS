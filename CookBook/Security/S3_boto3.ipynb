{
 "cells": [
  {
   "cell_type": "code",
   "execution_count": 16,
   "id": "e88a3468-e388-4c13-b053-d6b35af08f89",
   "metadata": {},
   "outputs": [],
   "source": [
    "import boto3"
   ]
  },
  {
   "cell_type": "code",
   "execution_count": 17,
   "id": "2e554a44-94b1-4bbb-a5b6-cf022dc132fc",
   "metadata": {},
   "outputs": [],
   "source": [
    "s3 = boto3.resource('s3')\n",
    "s3_client = boto3.client('s3')"
   ]
  },
  {
   "cell_type": "code",
   "execution_count": 18,
   "id": "1ec188aa-e9e6-476a-a0b5-c1bcf92c4a28",
   "metadata": {},
   "outputs": [
    {
     "name": "stdout",
     "output_type": "stream",
     "text": [
      "amplify-quick-notes-devq-135648-deployment\n",
      "aws-athena-query-results-195566616656-us-east-1\n",
      "aws-cloudtrail-logs-195566616656-b3fa9acf\n",
      "aws-codestar-us-east-1-195566616656\n",
      "aws-codestar-us-east-1-195566616656-server-web-pipe\n",
      "aws-codestar-us-east-2-195566616656\n",
      "aws-glue-assets-195566616656-us-east-1\n",
      "aws-logs-195566616656-us-east-2\n",
      "aws-sam-cli-managed-default-samclisourcebucket-1l14o7t8ihk0h\n",
      "data-app-course-coursera\n",
      "databricks-workspace-stack-lambdazipsbucket-xmiq9lsbfmes\n",
      "databricks-workspace-v2-lambdazipsbucket-1e1qssqp5wdyj\n",
      "db-308de43a77e20c85ff32214379cd1fd0-s3-root-bucket\n",
      "db-e2ec78621f433c23ec10c3a120fcb301-s3-root-bucket\n",
      "employee-photo-bucket-epb-305\n",
      "sagemaker-studio-195566616656-cr8w4ma55a9\n",
      "sagemaker-us-east-1-195566616656\n",
      "snowflake-sagemaker-workshop-195566616656\n"
     ]
    }
   ],
   "source": [
    "for bucket in s3_client.list_buckets()['Buckets']:\n",
    "    print(bucket['Name'])"
   ]
  },
  {
   "cell_type": "code",
   "execution_count": 19,
   "id": "d955fd9a-1bdf-4662-bfd1-9eef088e6ae1",
   "metadata": {},
   "outputs": [
    {
     "name": "stdout",
     "output_type": "stream",
     "text": [
      "employee_pic/4a145c0fdbf8968f.png\n",
      "employee_pic/9e9fbecc3be1fd76.png\n",
      "employee_pic/c49ffcd8c538ee71.png\n",
      "employee_pic/c61688b8a416a3c8.png\n",
      "employee_pic/cc1e53735516c4f7.png\n",
      "william-felker-4lbniAdMzcc-unsplash.jpg\n"
     ]
    }
   ],
   "source": [
    "bucket = s3.Bucket('employee-photo-bucket-epb-305')\n",
    "for obj in bucket.objects.all():\n",
    "    print(obj.key)"
   ]
  },
  {
   "cell_type": "code",
   "execution_count": 20,
   "id": "28071ab3-a957-49bf-a1ae-6527e9da2106",
   "metadata": {},
   "outputs": [
    {
     "name": "stdout",
     "output_type": "stream",
     "text": [
      "employee_pic/\n"
     ]
    }
   ],
   "source": [
    "client = boto3.client('s3')\n",
    "paginator = client.get_paginator('list_objects')\n",
    "result = paginator.paginate(Bucket='employee-photo-bucket-epb-305', Delimiter='/')\n",
    "for prefix in result.search('CommonPrefixes'):\n",
    "    print(prefix.get('Prefix'))"
   ]
  },
  {
   "cell_type": "code",
   "execution_count": 21,
   "id": "3ed92a45-244b-447a-8775-a642f9b8ad5c",
   "metadata": {},
   "outputs": [],
   "source": [
    "# Uploading files\n",
    "import logging\n",
    "import boto3\n",
    "from botocore.exceptions import ClientError\n",
    "import os\n",
    "\n",
    "\n",
    "def upload_file(file_name, bucket, object_name=None):\n",
    "    \"\"\"Upload a file to an S3 bucket\n",
    "\n",
    "    :param file_name: File to upload\n",
    "    :param bucket: Bucket to upload to\n",
    "    :param object_name: S3 object name. If not specified then file_name is used\n",
    "    :return: True if file was uploaded, else False\n",
    "    \"\"\"\n",
    "\n",
    "    # If S3 object_name was not specified, use file_name\n",
    "    if object_name is None:\n",
    "        object_name = os.path.basename(file_name)\n",
    "\n",
    "    # Upload the file\n",
    "    s3_client = boto3.client('s3')\n",
    "    try:\n",
    "        response = s3_client.upload_file(file_name, bucket, object_name)\n",
    "    except ClientError as e:\n",
    "        logging.error(e)\n",
    "        return False\n",
    "    return True"
   ]
  },
  {
   "cell_type": "code",
   "execution_count": 22,
   "id": "de398056-2a07-4b09-9326-b67d57ed07a6",
   "metadata": {},
   "outputs": [],
   "source": [
    "with open(\"books_gr.csv\", \"rb\") as f:\n",
    "    s3_client.upload_fileobj(f, \"sagemaker-us-east-1-195566616656\", \"books_gr.csv\")"
   ]
  }
 ],
 "metadata": {
  "kernelspec": {
   "display_name": "default:Python",
   "language": "python",
   "name": "conda-env-default-py"
  },
  "language_info": {
   "codemirror_mode": {
    "name": "ipython",
    "version": 3
   },
   "file_extension": ".py",
   "mimetype": "text/x-python",
   "name": "python",
   "nbconvert_exporter": "python",
   "pygments_lexer": "ipython3",
   "version": "3.9.10"
  }
 },
 "nbformat": 4,
 "nbformat_minor": 5
}
