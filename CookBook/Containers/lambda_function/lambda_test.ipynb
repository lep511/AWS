{
 "cells": [
  {
   "cell_type": "code",
   "execution_count": 17,
   "id": "b1df3ca3-2b40-4014-9d48-ec0241034d4a",
   "metadata": {},
   "outputs": [],
   "source": [
    "import os\n",
    "import boto3\n",
    "from zipfile import ZipFile\n",
    "import shutil"
   ]
  },
  {
   "cell_type": "code",
   "execution_count": 1,
   "id": "e278150c-9727-4359-b034-aca1cf7bb837",
   "metadata": {},
   "outputs": [],
   "source": [
    "lambda_name = \"Test\"\n",
    "file_lambda = \"test.zip\"\n",
    "lambda_py = lambda_name + \".py\""
   ]
  },
  {
   "cell_type": "code",
   "execution_count": 3,
   "id": "33a9259c-1f24-456d-bccd-12e30a33524c",
   "metadata": {},
   "outputs": [
    {
     "name": "stdout",
     "output_type": "stream",
     "text": [
      "Writing lambda_py\n"
     ]
    }
   ],
   "source": [
    "%%writefile lambda_py\n",
    "import json\n",
    "import pandas\n",
    "\n",
    "def lambda_handler(event, context):\n",
    "    return {\n",
    "        'statusCode': 200,\n",
    "        'body': json.dumps('Pandas was succesfully imported good job!')"
   ]
  },
  {
   "cell_type": "code",
   "execution_count": 6,
   "id": "e889a432-fa3d-4885-8370-b92950674fbe",
   "metadata": {},
   "outputs": [],
   "source": [
    "os.rename(\"lambda_py\", lambda_py)\n",
    "with ZipFile(file_lambda, 'w') as myzip:\n",
    "    myzip.write(lambda_py)"
   ]
  },
  {
   "cell_type": "code",
   "execution_count": 1,
   "id": "f6abf9dc-1ca0-40e5-80c6-12789900ac9d",
   "metadata": {},
   "outputs": [
    {
     "name": "stdout",
     "output_type": "stream",
     "text": [
      "Requirement already satisfied: wheel in /home/studio-lab-user/.conda/envs/default/lib/python3.9/site-packages (0.37.1)\n"
     ]
    }
   ],
   "source": [
    "!pip install wheel"
   ]
  },
  {
   "cell_type": "code",
   "execution_count": 2,
   "id": "159f604c-9cc2-48f7-8549-f48b73c9d397",
   "metadata": {},
   "outputs": [
    {
     "name": "stdout",
     "output_type": "stream",
     "text": [
      "--2022-06-30 20:11:50--  https://files.pythonhosted.org/packages/45/be/6cba7d58f50ddea41209cc3e2ccd3b2f1551cb62b786c502f483e9961b50/pandas-1.4.3-cp38-cp38-manylinux_2_17_aarch64.manylinux2014_aarch64.whl\n",
      "Resolving files.pythonhosted.org (files.pythonhosted.org)... 146.75.37.63, 2a04:4e42:79::319\n",
      "Connecting to files.pythonhosted.org (files.pythonhosted.org)|146.75.37.63|:443... connected.\n",
      "HTTP request sent, awaiting response... 200 OK\n",
      "Length: 11033230 (11M) [application/octet-stream]\n",
      "Saving to: 'pandas-1.4.3-cp38-cp38-manylinux_2_17_aarch64.manylinux2014_aarch64.whl'\n",
      "\n",
      "pandas-1.4.3-cp38-c 100%[===================>]  10.52M  --.-KB/s    in 0.1s    \n",
      "\n",
      "2022-06-30 20:11:50 (95.2 MB/s) - 'pandas-1.4.3-cp38-cp38-manylinux_2_17_aarch64.manylinux2014_aarch64.whl' saved [11033230/11033230]\n",
      "\n"
     ]
    }
   ],
   "source": [
    "!wget https://files.pythonhosted.org/packages/45/be/6cba7d58f50ddea41209cc3e2ccd3b2f1551cb62b786c502f483e9961b50/pandas-1.4.3-cp38-cp38-manylinux_2_17_aarch64.manylinux2014_aarch64.whl"
   ]
  },
  {
   "cell_type": "code",
   "execution_count": 3,
   "id": "c2e26864-ef5c-4847-ab89-37b82d79667d",
   "metadata": {},
   "outputs": [
    {
     "name": "stdout",
     "output_type": "stream",
     "text": [
      "--2022-06-30 20:13:47--  https://files.pythonhosted.org/packages/60/2e/dec1cc18c51b8df33c7c4d0a321b084cf38e1733b98f9d15018880fb4970/pytz-2022.1-py2.py3-none-any.whl\n",
      "Resolving files.pythonhosted.org (files.pythonhosted.org)... 146.75.33.63, 2a04:4e42:78::319\n",
      "Connecting to files.pythonhosted.org (files.pythonhosted.org)|146.75.33.63|:443... connected.\n",
      "HTTP request sent, awaiting response... 200 OK\n",
      "Length: 503520 (492K) [application/octet-stream]\n",
      "Saving to: 'pytz-2022.1-py2.py3-none-any.whl'\n",
      "\n",
      "pytz-2022.1-py2.py3 100%[===================>] 491.72K  --.-KB/s    in 0.04s   \n",
      "\n",
      "2022-06-30 20:13:47 (11.6 MB/s) - 'pytz-2022.1-py2.py3-none-any.whl' saved [503520/503520]\n",
      "\n"
     ]
    }
   ],
   "source": [
    "!wget https://files.pythonhosted.org/packages/60/2e/dec1cc18c51b8df33c7c4d0a321b084cf38e1733b98f9d15018880fb4970/pytz-2022.1-py2.py3-none-any.whl"
   ]
  },
  {
   "cell_type": "code",
   "execution_count": 5,
   "id": "3229287a-26c2-41b3-a60c-cecc7ffd6bc8",
   "metadata": {},
   "outputs": [
    {
     "name": "stdout",
     "output_type": "stream",
     "text": [
      "Unpacking to: ./pandas-1.4.3...OK\n"
     ]
    }
   ],
   "source": [
    "!wheel unpack pandas-1.4.3-cp38-cp38-manylinux_2_17_aarch64.manylinux2014_aarch64.whl"
   ]
  },
  {
   "cell_type": "code",
   "execution_count": 6,
   "id": "b14eb785-24fb-4a63-ba9a-17c88572200f",
   "metadata": {},
   "outputs": [
    {
     "name": "stdout",
     "output_type": "stream",
     "text": [
      "Unpacking to: ./pytz-2022.1...OK\n"
     ]
    }
   ],
   "source": [
    "!wheel unpack pytz-2022.1-py2.py3-none-any.whl"
   ]
  },
  {
   "cell_type": "code",
   "execution_count": 7,
   "id": "2dab7925-d194-48df-856d-d6daab6bb2d7",
   "metadata": {},
   "outputs": [],
   "source": [
    "!rm pandas-1.4.3-cp38-cp38-manylinux_2_17_aarch64.manylinux2014_aarch64.whl\n",
    "!rm pytz-2022.1-py2.py3-none-any.whl"
   ]
  },
  {
   "cell_type": "code",
   "execution_count": 8,
   "id": "96056c6d-deb8-4139-9e45-0404949bfb31",
   "metadata": {},
   "outputs": [],
   "source": [
    "!mkdir python"
   ]
  },
  {
   "cell_type": "code",
   "execution_count": 16,
   "id": "469fb2b8-31b8-4a3f-9a76-f731eb9b316c",
   "metadata": {},
   "outputs": [],
   "source": [
    "!cp pandas-1.4.3/* python -r\n",
    "!cp pytz-2022.1/* python -r"
   ]
  },
  {
   "cell_type": "code",
   "execution_count": 20,
   "id": "31a3c129-f273-461d-901a-570a243ae32d",
   "metadata": {},
   "outputs": [
    {
     "data": {
      "text/plain": [
       "'/home/studio-lab-user/AWS/lambda_function/python_pack.zip'"
      ]
     },
     "execution_count": 20,
     "metadata": {},
     "output_type": "execute_result"
    }
   ],
   "source": [
    "output_filename = 'python_pack'\n",
    "dir_name = 'python'\n",
    "shutil.make_archive(output_filename, 'zip', dir_name)"
   ]
  },
  {
   "cell_type": "code",
   "execution_count": null,
   "id": "41aa4f4c-9652-4a8b-9c9b-7c5a10e26041",
   "metadata": {},
   "outputs": [],
   "source": []
  }
 ],
 "metadata": {
  "kernelspec": {
   "display_name": "default:Python",
   "language": "python",
   "name": "conda-env-default-py"
  },
  "language_info": {
   "codemirror_mode": {
    "name": "ipython",
    "version": 3
   },
   "file_extension": ".py",
   "mimetype": "text/x-python",
   "name": "python",
   "nbconvert_exporter": "python",
   "pygments_lexer": "ipython3",
   "version": "3.9.10"
  }
 },
 "nbformat": 4,
 "nbformat_minor": 5
}
