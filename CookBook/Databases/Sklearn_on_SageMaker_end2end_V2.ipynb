{
 "cells": [
  {
   "cell_type": "markdown",
   "metadata": {},
   "source": [
    "## Use boto3 para entrenar y actualizar un SageMaker Endpoint existente con un modelo de bosque aleatorio de Scikit-Learn recién entrenado\n",
    "\n",
    "En este cuaderno, mostramos cómo usar Amazon SageMaker para desarrollar, entrenar e implementar un modelo de ML basado en Scikit-Learn (Random Forest). Luego mostramos cómo actualizar un SageMaker Endpoint existente con un modelo recién entrenado, <b>mientras no haya pérdida de disponibilidad</b>.\n",
    "\n",
    "Esto se hace usando `boto3`, un cliente de bajo nivel que representa el servicio Amazon SageMaker. El uso de `boto3` es muy útil cuando se usan los servicios de SageMaker desde otros recursos que no sean portátiles, como las funciones de Lambda, Airflow o Jenkins.\n",
    "\n",
    "Ejecutará los siguientes pasos usando `boto3`:\n",
    " - Preparar los datos de entrenamiento/prueba y escribir un script de modo de secuencia de comandos.\n",
    " - Lanzar el 1er trabajo de entrenamiento.\n",
    " - Implemente el primer modelo en un punto final de SageMaker y realice pocas solicitudes de inferencia.\n",
    " - Lanzar el segundo trabajo de entrenamiento.\n",
    " - Actualice SageMaker Endpoint con el segundo modelo y realice pocas solicitudes de inferencia.\n",
    " - Limpieza opcional.\n",
    "\n",
    "\n",
    "Puede encontrar más información sobre boto3 en la [página de documentación de Boto3 SageMaker] (https://boto3.amazonaws.com/v1/documentation/api/latest/reference/services/sagemaker.html#client).\n",
    "\n",
    "Puede encontrar más información sobre Scikit-Learn en la [página de documentación de Scikit-Learn] (https://scikit-learn.org/stable/index.html).\n",
    "\n",
    "Usamos el [conjunto de datos de vivienda de California](https://scikit-learn.org/stable/modules/generated/sklearn.datasets.fetch_california_housing.html), presente en Scikit-Learn.\n",
    "\n",
    "Más información sobre el conjunto de datos:\n",
    "\n",
    "Este conjunto de datos se obtuvo del repositorio `StatLib`. http://lib.stat.cmu.edu/datasets/\n",
    "\n",
    "La variable objetivo es el valor medio de la vivienda para los distritos de California.\n",
    "\n",
    "Este conjunto de datos se derivó del censo de EE. UU. de 1990, utilizando una fila por grupo de bloques censales. Un grupo de bloques es la unidad geográfica más pequeña para la que la Oficina del Censo de EE. UU. publica datos de muestra (un grupo de bloques suele tener una población de 600 a 3000 personas).\n",
    "\n",
    "Se puede descargar/cargar usando la función `sklearn.datasets.fetch_california_housing`.\n",
    " "
   ]
  },
  {
   "cell_type": "markdown",
   "metadata": {},
   "source": [
    "## Importar bibliotecas de Python\n",
    "\n",
    "Ahora importa bibliotecas de Python como `sklearn`, `pandas`, `numpy` y `boto3`.\n",
    "\n",
    "También importamos `sagemaker`, que es el SDK de SageMaker Python de alto nivel. Esto tiene como objetivo obtener el depósito y la función de ejecución predeterminados de SageMaker. Aparte de eso, toda la funcionalidad de SageMaker se demostrará usando `boto3`."
   ]
  },
  {
   "cell_type": "code",
   "execution_count": 4,
   "metadata": {},
   "outputs": [
    {
     "name": "stdout",
     "output_type": "stream",
     "text": [
      "Using bucket sagemaker-us-east-1-808640880671\n"
     ]
    }
   ],
   "source": [
    "import datetime\n",
    "import time\n",
    "import tarfile\n",
    "\n",
    "import boto3\n",
    "import pandas as pd\n",
    "import numpy as np\n",
    "from sagemaker import get_execution_role\n",
    "import sagemaker\n",
    "from sklearn.model_selection import train_test_split\n",
    "from sklearn.datasets import fetch_california_housing\n",
    "\n",
    "\n",
    "sm_boto3 = boto3.client(\"sagemaker\")\n",
    "\n",
    "sess = sagemaker.Session()\n",
    "\n",
    "region = sess.boto_session.region_name\n",
    "\n",
    "bucket = sess.default_bucket()  # this could also be a hard-coded bucket name\n",
    "\n",
    "print(\"Using bucket \" + bucket)"
   ]
  },
  {
   "cell_type": "markdown",
   "metadata": {},
   "source": [
    "## Preparar datos\n",
    "Cargamos un conjunto de datos de `sklearn`, lo dividimos y lo enviamos a S3"
   ]
  },
  {
   "cell_type": "code",
   "execution_count": 5,
   "metadata": {},
   "outputs": [
    {
     "name": "stderr",
     "output_type": "stream",
     "text": [
      "Downloading Cal. housing from https://ndownloader.figshare.com/files/5976036 to /root/scikit_learn_data\n"
     ]
    }
   ],
   "source": [
    "# usamos el conjunto de datos de vivienda de California\n",
    "data = fetch_california_housing()"
   ]
  },
  {
   "cell_type": "code",
   "execution_count": 6,
   "metadata": {},
   "outputs": [],
   "source": [
    "X_train, X_test, y_train, y_test = train_test_split(\n",
    "    data.data, data.target, test_size=0.25, random_state=42\n",
    ")\n",
    "\n",
    "trainX = pd.DataFrame(X_train, columns=data.feature_names)\n",
    "trainX[\"target\"] = y_train\n",
    "\n",
    "testX = pd.DataFrame(X_test, columns=data.feature_names)\n",
    "testX[\"target\"] = y_test"
   ]
  },
  {
   "cell_type": "code",
   "execution_count": 7,
   "metadata": {},
   "outputs": [
    {
     "data": {
      "text/html": [
       "<div>\n",
       "<style scoped>\n",
       "    .dataframe tbody tr th:only-of-type {\n",
       "        vertical-align: middle;\n",
       "    }\n",
       "\n",
       "    .dataframe tbody tr th {\n",
       "        vertical-align: top;\n",
       "    }\n",
       "\n",
       "    .dataframe thead th {\n",
       "        text-align: right;\n",
       "    }\n",
       "</style>\n",
       "<table border=\"1\" class=\"dataframe\">\n",
       "  <thead>\n",
       "    <tr style=\"text-align: right;\">\n",
       "      <th></th>\n",
       "      <th>MedInc</th>\n",
       "      <th>HouseAge</th>\n",
       "      <th>AveRooms</th>\n",
       "      <th>AveBedrms</th>\n",
       "      <th>Population</th>\n",
       "      <th>AveOccup</th>\n",
       "      <th>Latitude</th>\n",
       "      <th>Longitude</th>\n",
       "      <th>target</th>\n",
       "    </tr>\n",
       "  </thead>\n",
       "  <tbody>\n",
       "    <tr>\n",
       "      <th>0</th>\n",
       "      <td>4.2143</td>\n",
       "      <td>37.0</td>\n",
       "      <td>5.288235</td>\n",
       "      <td>0.973529</td>\n",
       "      <td>860.0</td>\n",
       "      <td>2.529412</td>\n",
       "      <td>33.81</td>\n",
       "      <td>-118.12</td>\n",
       "      <td>2.285</td>\n",
       "    </tr>\n",
       "    <tr>\n",
       "      <th>1</th>\n",
       "      <td>5.3468</td>\n",
       "      <td>42.0</td>\n",
       "      <td>6.364322</td>\n",
       "      <td>1.087940</td>\n",
       "      <td>957.0</td>\n",
       "      <td>2.404523</td>\n",
       "      <td>37.16</td>\n",
       "      <td>-121.98</td>\n",
       "      <td>2.799</td>\n",
       "    </tr>\n",
       "    <tr>\n",
       "      <th>2</th>\n",
       "      <td>3.9191</td>\n",
       "      <td>36.0</td>\n",
       "      <td>6.110063</td>\n",
       "      <td>1.059748</td>\n",
       "      <td>711.0</td>\n",
       "      <td>2.235849</td>\n",
       "      <td>38.45</td>\n",
       "      <td>-122.69</td>\n",
       "      <td>1.830</td>\n",
       "    </tr>\n",
       "    <tr>\n",
       "      <th>3</th>\n",
       "      <td>6.3703</td>\n",
       "      <td>32.0</td>\n",
       "      <td>6.000000</td>\n",
       "      <td>0.990196</td>\n",
       "      <td>1159.0</td>\n",
       "      <td>2.272549</td>\n",
       "      <td>34.16</td>\n",
       "      <td>-118.41</td>\n",
       "      <td>4.658</td>\n",
       "    </tr>\n",
       "    <tr>\n",
       "      <th>4</th>\n",
       "      <td>2.3684</td>\n",
       "      <td>17.0</td>\n",
       "      <td>4.795858</td>\n",
       "      <td>1.035503</td>\n",
       "      <td>706.0</td>\n",
       "      <td>2.088757</td>\n",
       "      <td>38.57</td>\n",
       "      <td>-121.33</td>\n",
       "      <td>1.500</td>\n",
       "    </tr>\n",
       "  </tbody>\n",
       "</table>\n",
       "</div>"
      ],
      "text/plain": [
       "   MedInc  HouseAge  AveRooms  AveBedrms  Population  AveOccup  Latitude  \\\n",
       "0  4.2143      37.0  5.288235   0.973529       860.0  2.529412     33.81   \n",
       "1  5.3468      42.0  6.364322   1.087940       957.0  2.404523     37.16   \n",
       "2  3.9191      36.0  6.110063   1.059748       711.0  2.235849     38.45   \n",
       "3  6.3703      32.0  6.000000   0.990196      1159.0  2.272549     34.16   \n",
       "4  2.3684      17.0  4.795858   1.035503       706.0  2.088757     38.57   \n",
       "\n",
       "   Longitude  target  \n",
       "0    -118.12   2.285  \n",
       "1    -121.98   2.799  \n",
       "2    -122.69   1.830  \n",
       "3    -118.41   4.658  \n",
       "4    -121.33   1.500  "
      ]
     },
     "execution_count": 7,
     "metadata": {},
     "output_type": "execute_result"
    }
   ],
   "source": [
    "trainX.head()"
   ]
  },
  {
   "cell_type": "code",
   "execution_count": 9,
   "metadata": {},
   "outputs": [],
   "source": [
    "trainX.to_csv(\"california_train.csv\")\n",
    "testX.to_csv(\"california_test.csv\")"
   ]
  },
  {
   "cell_type": "code",
   "execution_count": 10,
   "metadata": {},
   "outputs": [],
   "source": [
    "# enviar datos a S3. SageMaker tomará \n",
    "# datos de entrenamiento de s3\n",
    "trainpath = sess.upload_data(\n",
    "    path=\"california_train.csv\", bucket=bucket, key_prefix=\"sagemaker/sklearn-california\"\n",
    ")\n",
    "\n",
    "testpath = sess.upload_data(\n",
    "    path=\"california_test.csv\", bucket=bucket, key_prefix=\"sagemaker/sklearn-california\"\n",
    ")"
   ]
  },
  {
   "cell_type": "markdown",
   "metadata": {},
   "source": [
    "## Escribiendo codigo en *Modo Script*\n",
    "La siguiente secuencia de comandos contiene funciones de capacitación e inferencia y puede ejecutarse tanto en el hardware de capacitación de SageMaker como localmente (escritorio, computadora portátil SageMaker, en las instalaciones, etc.). Puede encontrar instrucciones detalladas en la [página de documentación del SDK de SageMaker Python de Scikit-learn](https://sagemaker.readthedocs.io/en/stable/using_sklearn.html#preparing-the-scikit-learn-training-script)."
   ]
  },
  {
   "cell_type": "code",
   "execution_count": 11,
   "metadata": {},
   "outputs": [
    {
     "name": "stdout",
     "output_type": "stream",
     "text": [
      "Writing script.py\n"
     ]
    }
   ],
   "source": [
    "%%writefile script.py\n",
    "\n",
    "import argparse\n",
    "import joblib\n",
    "import os\n",
    "\n",
    "import numpy as np\n",
    "import pandas as pd\n",
    "from sklearn.ensemble import RandomForestRegressor\n",
    "\n",
    "\n",
    "# inference functions ---------------\n",
    "def model_fn(model_dir):\n",
    "    clf = joblib.load(os.path.join(model_dir, \"model.joblib\"))\n",
    "    return clf\n",
    "\n",
    "\n",
    "if __name__ == \"__main__\":\n",
    "\n",
    "    print(\"extracting arguments\")\n",
    "    parser = argparse.ArgumentParser()\n",
    "\n",
    "    # hyperparameters sent by the client are passed as command-line arguments to the script.\n",
    "    # to simplify the demo we don't use all sklearn RandomForest hyperparameters\n",
    "    parser.add_argument(\"--n-estimators\", type=int, default=10)\n",
    "    parser.add_argument(\"--min-samples-leaf\", type=int, default=3)\n",
    "\n",
    "    # Data, model, and output directories\n",
    "    parser.add_argument(\"--model-dir\", type=str, default=os.environ.get(\"SM_MODEL_DIR\"))\n",
    "    parser.add_argument(\"--train\", type=str, default=os.environ.get(\"SM_CHANNEL_TRAIN\"))\n",
    "    parser.add_argument(\"--test\", type=str, default=os.environ.get(\"SM_CHANNEL_TEST\"))\n",
    "    parser.add_argument(\"--train-file\", type=str, default=\"california_train.csv\")\n",
    "    parser.add_argument(\"--test-file\", type=str, default=\"california_test.csv\")\n",
    "    parser.add_argument(\n",
    "        \"--features\", type=str\n",
    "    )  # in this script we ask user to explicitly name features\n",
    "    parser.add_argument(\n",
    "        \"--target\", type=str\n",
    "    )  # in this script we ask user to explicitly name the target\n",
    "\n",
    "    args, _ = parser.parse_known_args()\n",
    "\n",
    "    print(\"reading data\")\n",
    "    train_df = pd.read_csv(os.path.join(args.train, args.train_file))\n",
    "    test_df = pd.read_csv(os.path.join(args.test, args.test_file))\n",
    "\n",
    "    print(\"building training and testing datasets\")\n",
    "    X_train = train_df[args.features.split()]\n",
    "    X_test = test_df[args.features.split()]\n",
    "    y_train = train_df[args.target]\n",
    "    y_test = test_df[args.target]\n",
    "\n",
    "    # train\n",
    "    print(\"training model\")\n",
    "    model = RandomForestRegressor(\n",
    "        n_estimators=args.n_estimators, min_samples_leaf=args.min_samples_leaf, n_jobs=-1\n",
    "    )\n",
    "\n",
    "    model.fit(X_train, y_train)\n",
    "\n",
    "    # print abs error\n",
    "    print(\"validating model\")\n",
    "    abs_err = np.abs(model.predict(X_test) - y_test)\n",
    "\n",
    "    # print couple perf metrics\n",
    "    for q in [10, 50, 90]:\n",
    "        print(\"AE-at-\" + str(q) + \"th-percentile: \" + str(np.percentile(a=abs_err, q=q)))\n",
    "\n",
    "    # persist model\n",
    "    path = os.path.join(args.model_dir, \"model.joblib\")\n",
    "    joblib.dump(model, path)\n",
    "    print(\"model persisted at \" + path)\n",
    "    print(args.min_samples_leaf)"
   ]
  },
  {
   "cell_type": "markdown",
   "metadata": {},
   "source": [
    "## Entrenamiento de SageMaker\n",
    "### Lanzamiento de un entrenamiento con `boto3`\n",
    "`boto3` es más detallado pero brinda más visibilidad en los detalles de bajo nivel de Amazon SageMaker"
   ]
  },
  {
   "cell_type": "code",
   "execution_count": 13,
   "metadata": {},
   "outputs": [],
   "source": [
    "# primero comprima el código y envíelo a S3\n",
    "\n",
    "source = \"source.tar.gz\"\n",
    "project = \"scikitlearn-california-train-from-boto3\"\n",
    "\n",
    "tar = tarfile.open(source, \"w:gz\")\n",
    "tar.add(\"script.py\")\n",
    "tar.close()\n",
    "\n",
    "s3 = boto3.client(\"s3\")\n",
    "s3.upload_file(source, bucket, project + \"/\" + source)"
   ]
  },
  {
   "cell_type": "markdown",
   "metadata": {},
   "source": [
    "Cuando usamos `boto3` para iniciar un trabajo de entrenamiento, debemos apuntar explícitamente a una imagen de Docker."
   ]
  },
  {
   "cell_type": "code",
   "execution_count": 14,
   "metadata": {},
   "outputs": [
    {
     "name": "stdout",
     "output_type": "stream",
     "text": [
      "683313688378.dkr.ecr.us-east-1.amazonaws.com/sagemaker-scikit-learn:0.23-1-cpu-py3\n"
     ]
    }
   ],
   "source": [
    "from sagemaker import image_uris\n",
    "\n",
    "FRAMEWORK_VERSION = \"0.23-1\"\n",
    "\n",
    "training_image = image_uris.retrieve(\n",
    "    framework=\"sklearn\",\n",
    "    region=region,\n",
    "    version=FRAMEWORK_VERSION,\n",
    "    py_version=\"py3\",\n",
    "    instance_type=\"ml.c5.xlarge\",\n",
    ")\n",
    "print(training_image)"
   ]
  },
  {
   "cell_type": "markdown",
   "metadata": {},
   "source": [
    "## Lanzar el primer trabajo de entrenamiento\n",
    "\n",
    "Esto iniciará un trabajo de entrenamiento modelo. Una vez que finaliza el entrenamiento, Amazon SageMaker guarda los artefactos del modelo resultante en una ubicación de Amazon S3 que especifique.\n",
    "\n",
    "Si elige alojar su modelo mediante los servicios de alojamiento de Amazon SageMaker, puede utilizar los artefactos del modelo resultante como parte del modelo. También puede usar los artefactos en un servicio de aprendizaje automático que no sea Amazon SageMaker, siempre que sepa cómo usarlos para la inferencia.\n",
    "\n",
    "Puede encontrar más información sobre `create_training_job` en la [página de documentación de Boto3 SageMaker] (https://boto3.amazonaws.com/v1/documentation/api/latest/reference/services/sagemaker.html#SageMaker.Client.create_training_job) ."
   ]
  },
  {
   "cell_type": "code",
   "execution_count": 15,
   "metadata": {},
   "outputs": [
    {
     "data": {
      "text/plain": [
       "{'TrainingJobArn': 'arn:aws:sagemaker:us-east-1:808640880671:training-job/sklearn-boto3-1-2022-05-04-13-19-28',\n",
       " 'ResponseMetadata': {'RequestId': '8dcada3a-a618-4383-aa22-4e0ea01a0205',\n",
       "  'HTTPStatusCode': 200,\n",
       "  'HTTPHeaders': {'x-amzn-requestid': '8dcada3a-a618-4383-aa22-4e0ea01a0205',\n",
       "   'content-type': 'application/x-amz-json-1.1',\n",
       "   'content-length': '110',\n",
       "   'date': 'Wed, 04 May 2022 13:19:29 GMT'},\n",
       "  'RetryAttempts': 0}}"
      ]
     },
     "execution_count": 15,
     "metadata": {},
     "output_type": "execute_result"
    }
   ],
   "source": [
    "training_job_1_name = \"sklearn-boto3-1-\" + datetime.datetime.now().strftime(\"%Y-%m-%d-%H-%M-%S\")\n",
    "\n",
    "training_job_1_response = sm_boto3.create_training_job(\n",
    "    TrainingJobName=training_job_1_name,\n",
    "    HyperParameters={\n",
    "        \"n_estimators\": \"300\",\n",
    "        \"min_samples_leaf\": \"3\",\n",
    "        \"sagemaker_program\": \"script.py\",\n",
    "        \"features\": \"MedInc HouseAge AveRooms AveBedrms Population AveOccup Latitude Longitude\",\n",
    "        \"target\": \"target\",\n",
    "        \"sagemaker_submit_directory\": \"s3://\" + bucket + \"/\" + project + \"/\" + source,\n",
    "    },\n",
    "    AlgorithmSpecification={\n",
    "        \"TrainingImage\": training_image,\n",
    "        \"TrainingInputMode\": \"File\",\n",
    "        \"MetricDefinitions\": [\n",
    "            {\"Name\": \"median-AE\", \"Regex\": \"AE-at-50th-percentile: ([0-9.]+).*$\"},\n",
    "        ],\n",
    "    },\n",
    "    RoleArn=get_execution_role(),\n",
    "    InputDataConfig=[\n",
    "        {\n",
    "            \"ChannelName\": \"train\",\n",
    "            \"DataSource\": {\n",
    "                \"S3DataSource\": {\n",
    "                    \"S3DataType\": \"S3Prefix\",\n",
    "                    \"S3Uri\": trainpath,\n",
    "                    \"S3DataDistributionType\": \"FullyReplicated\",\n",
    "                }\n",
    "            },\n",
    "        },\n",
    "        {\n",
    "            \"ChannelName\": \"test\",\n",
    "            \"DataSource\": {\n",
    "                \"S3DataSource\": {\n",
    "                    \"S3DataType\": \"S3Prefix\",\n",
    "                    \"S3Uri\": testpath,\n",
    "                    \"S3DataDistributionType\": \"FullyReplicated\",\n",
    "                }\n",
    "            },\n",
    "        },\n",
    "    ],\n",
    "    OutputDataConfig={\"S3OutputPath\": \"s3://\" + bucket + \"/sagemaker-sklearn-artifact/\"},\n",
    "    ResourceConfig={\"InstanceType\": \"ml.c5.xlarge\", \"InstanceCount\": 1, \"VolumeSizeInGB\": 10},\n",
    "    StoppingCondition={\"MaxRuntimeInSeconds\": 86400},\n",
    "    EnableNetworkIsolation=False,\n",
    ")\n",
    "\n",
    "training_job_1_response"
   ]
  },
  {
   "cell_type": "markdown",
   "metadata": {},
   "source": [
    "### Espere a que finalice el primer trabajo de entrenamiento"
   ]
  },
  {
   "cell_type": "code",
   "execution_count": 18,
   "metadata": {},
   "outputs": [
    {
     "name": "stdout",
     "output_type": "stream",
     "text": [
      "Completed\n",
      "Completed\n"
     ]
    },
    {
     "data": {
      "text/plain": [
       "{'TrainingJobName': 'sklearn-boto3-1-2022-05-04-13-19-28',\n",
       " 'TrainingJobArn': 'arn:aws:sagemaker:us-east-1:808640880671:training-job/sklearn-boto3-1-2022-05-04-13-19-28',\n",
       " 'ModelArtifacts': {'S3ModelArtifacts': 's3://sagemaker-us-east-1-808640880671/sagemaker-sklearn-artifact/sklearn-boto3-1-2022-05-04-13-19-28/output/model.tar.gz'},\n",
       " 'TrainingJobStatus': 'Completed',\n",
       " 'SecondaryStatus': 'Completed',\n",
       " 'HyperParameters': {'features': 'MedInc HouseAge AveRooms AveBedrms Population AveOccup Latitude Longitude',\n",
       "  'min_samples_leaf': '3',\n",
       "  'n_estimators': '300',\n",
       "  'sagemaker_program': 'script.py',\n",
       "  'sagemaker_submit_directory': 's3://sagemaker-us-east-1-808640880671/scikitlearn-california-train-from-boto3/source.tar.gz',\n",
       "  'target': 'target'},\n",
       " 'AlgorithmSpecification': {'TrainingImage': '683313688378.dkr.ecr.us-east-1.amazonaws.com/sagemaker-scikit-learn:0.23-1-cpu-py3',\n",
       "  'TrainingInputMode': 'File',\n",
       "  'MetricDefinitions': [{'Name': 'median-AE',\n",
       "    'Regex': 'AE-at-50th-percentile: ([0-9.]+).*$'}],\n",
       "  'EnableSageMakerMetricsTimeSeries': False},\n",
       " 'RoleArn': 'arn:aws:iam::808640880671:role/service-role/AmazonSageMaker-ExecutionRole-20220503T130588',\n",
       " 'InputDataConfig': [{'ChannelName': 'train',\n",
       "   'DataSource': {'S3DataSource': {'S3DataType': 'S3Prefix',\n",
       "     'S3Uri': 's3://sagemaker-us-east-1-808640880671/sagemaker/sklearn-california/california_train.csv',\n",
       "     'S3DataDistributionType': 'FullyReplicated'}},\n",
       "   'CompressionType': 'None',\n",
       "   'RecordWrapperType': 'None'},\n",
       "  {'ChannelName': 'test',\n",
       "   'DataSource': {'S3DataSource': {'S3DataType': 'S3Prefix',\n",
       "     'S3Uri': 's3://sagemaker-us-east-1-808640880671/sagemaker/sklearn-california/california_test.csv',\n",
       "     'S3DataDistributionType': 'FullyReplicated'}},\n",
       "   'CompressionType': 'None',\n",
       "   'RecordWrapperType': 'None'}],\n",
       " 'OutputDataConfig': {'KmsKeyId': '',\n",
       "  'S3OutputPath': 's3://sagemaker-us-east-1-808640880671/sagemaker-sklearn-artifact/'},\n",
       " 'ResourceConfig': {'InstanceType': 'ml.c5.xlarge',\n",
       "  'InstanceCount': 1,\n",
       "  'VolumeSizeInGB': 10},\n",
       " 'StoppingCondition': {'MaxRuntimeInSeconds': 86400},\n",
       " 'CreationTime': datetime.datetime(2022, 5, 4, 13, 19, 29, 204000, tzinfo=tzlocal()),\n",
       " 'TrainingStartTime': datetime.datetime(2022, 5, 4, 13, 21, 2, 425000, tzinfo=tzlocal()),\n",
       " 'TrainingEndTime': datetime.datetime(2022, 5, 4, 13, 22, 14, 281000, tzinfo=tzlocal()),\n",
       " 'LastModifiedTime': datetime.datetime(2022, 5, 4, 13, 22, 14, 281000, tzinfo=tzlocal()),\n",
       " 'SecondaryStatusTransitions': [{'Status': 'Starting',\n",
       "   'StartTime': datetime.datetime(2022, 5, 4, 13, 19, 29, 204000, tzinfo=tzlocal()),\n",
       "   'EndTime': datetime.datetime(2022, 5, 4, 13, 21, 2, 425000, tzinfo=tzlocal()),\n",
       "   'StatusMessage': 'Preparing the instances for training'},\n",
       "  {'Status': 'Downloading',\n",
       "   'StartTime': datetime.datetime(2022, 5, 4, 13, 21, 2, 425000, tzinfo=tzlocal()),\n",
       "   'EndTime': datetime.datetime(2022, 5, 4, 13, 21, 27, 920000, tzinfo=tzlocal()),\n",
       "   'StatusMessage': 'Downloading input data'},\n",
       "  {'Status': 'Training',\n",
       "   'StartTime': datetime.datetime(2022, 5, 4, 13, 21, 27, 920000, tzinfo=tzlocal()),\n",
       "   'EndTime': datetime.datetime(2022, 5, 4, 13, 22, 8, 826000, tzinfo=tzlocal()),\n",
       "   'StatusMessage': 'Training image download completed. Training in progress.'},\n",
       "  {'Status': 'Uploading',\n",
       "   'StartTime': datetime.datetime(2022, 5, 4, 13, 22, 8, 826000, tzinfo=tzlocal()),\n",
       "   'EndTime': datetime.datetime(2022, 5, 4, 13, 22, 14, 281000, tzinfo=tzlocal()),\n",
       "   'StatusMessage': 'Uploading generated training model'},\n",
       "  {'Status': 'Completed',\n",
       "   'StartTime': datetime.datetime(2022, 5, 4, 13, 22, 14, 281000, tzinfo=tzlocal()),\n",
       "   'EndTime': datetime.datetime(2022, 5, 4, 13, 22, 14, 281000, tzinfo=tzlocal()),\n",
       "   'StatusMessage': 'Training job completed'}],\n",
       " 'FinalMetricDataList': [{'MetricName': 'median-AE',\n",
       "   'Value': 0.2195112109184265,\n",
       "   'Timestamp': datetime.datetime(2022, 5, 4, 13, 22, 2, tzinfo=tzlocal())}],\n",
       " 'EnableNetworkIsolation': False,\n",
       " 'EnableInterContainerTrafficEncryption': False,\n",
       " 'EnableManagedSpotTraining': False,\n",
       " 'TrainingTimeInSeconds': 72,\n",
       " 'BillableTimeInSeconds': 72,\n",
       " 'ProfilingStatus': 'Disabled',\n",
       " 'ResponseMetadata': {'RequestId': '7c197abf-825c-4bf2-9e95-1e9386332480',\n",
       "  'HTTPStatusCode': 200,\n",
       "  'HTTPHeaders': {'x-amzn-requestid': '7c197abf-825c-4bf2-9e95-1e9386332480',\n",
       "   'content-type': 'application/x-amz-json-1.1',\n",
       "   'content-length': '3501',\n",
       "   'date': 'Wed, 04 May 2022 13:23:49 GMT'},\n",
       "  'RetryAttempts': 0}}"
      ]
     },
     "execution_count": 18,
     "metadata": {},
     "output_type": "execute_result"
    }
   ],
   "source": [
    "client = boto3.client(\"sagemaker\")\n",
    "\n",
    "training_job_1_details = client.describe_training_job(TrainingJobName=training_job_1_name)\n",
    "print(training_job_1_details[\"TrainingJobStatus\"])\n",
    "\n",
    "while training_job_1_details[\"TrainingJobStatus\"] == \"InProgress\":\n",
    "    training_job_1_details = client.describe_training_job(TrainingJobName=training_job_1_name)\n",
    "    time.sleep(15)\n",
    "\n",
    "print(training_job_1_details[\"TrainingJobStatus\"])\n",
    "training_job_1_details"
   ]
  },
  {
   "cell_type": "markdown",
   "metadata": {},
   "source": [
    "## Crear un modelo para el primer trabajo de entrenamiento\n",
    "\n",
    "Esto creará un modelo en Amazon SageMaker. En la solicitud, nombra el modelo y describe un contenedor principal. Para el contenedor principal, especifica la imagen de Docker que contiene el código de inferencia, los artefactos (del entrenamiento anterior) y un mapa de entorno personalizado que usa el código de inferencia cuando implementa el modelo para las predicciones.\n",
    "\n",
    "Puede encontrar más información sobre `create_model` en la [página de documentación de Boto3 SageMaker](https://boto3.amazonaws.com/v1/documentation/api/latest/reference/services/sagemaker.html#SageMaker.Client.create_model) ."
   ]
  },
  {
   "cell_type": "code",
   "execution_count": 19,
   "metadata": {},
   "outputs": [
    {
     "data": {
      "text/plain": [
       "{'ModelArn': 'arn:aws:sagemaker:us-east-1:808640880671:model/sklearn-model-1-2022-05-04-13-25-18',\n",
       " 'ResponseMetadata': {'RequestId': '19cd4e35-437e-40ab-86a9-8660e33aa14b',\n",
       "  'HTTPStatusCode': 200,\n",
       "  'HTTPHeaders': {'x-amzn-requestid': '19cd4e35-437e-40ab-86a9-8660e33aa14b',\n",
       "   'content-type': 'application/x-amz-json-1.1',\n",
       "   'content-length': '97',\n",
       "   'date': 'Wed, 04 May 2022 13:25:17 GMT'},\n",
       "  'RetryAttempts': 0}}"
      ]
     },
     "execution_count": 19,
     "metadata": {},
     "output_type": "execute_result"
    }
   ],
   "source": [
    "model_1_name = \"sklearn-model-1-\" + datetime.datetime.now().strftime(\"%Y-%m-%d-%H-%M-%S\")\n",
    "\n",
    "create_model_1_response = client.create_model(\n",
    "    ModelName=model_1_name,\n",
    "    PrimaryContainer={\n",
    "        \"Image\": training_job_1_details[\"AlgorithmSpecification\"][\"TrainingImage\"],\n",
    "        \"Mode\": \"SingleModel\",\n",
    "        \"ModelDataUrl\": training_job_1_details[\"ModelArtifacts\"][\"S3ModelArtifacts\"],\n",
    "        \"Environment\": {\n",
    "            \"SAGEMAKER_CONTAINER_LOG_LEVEL\": \"20\",\n",
    "            \"SAGEMAKER_PROGRAM\": training_job_1_details[\"HyperParameters\"][\"sagemaker_program\"],\n",
    "            \"SAGEMAKER_REGION\": region,\n",
    "            \"SAGEMAKER_SUBMIT_DIRECTORY\": training_job_1_details[\"HyperParameters\"][\n",
    "                \"sagemaker_submit_directory\"\n",
    "            ],\n",
    "        },\n",
    "    },\n",
    "    ExecutionRoleArn=get_execution_role(),\n",
    ")\n",
    "\n",
    "create_model_1_response"
   ]
  },
  {
   "cell_type": "markdown",
   "metadata": {},
   "source": [
    "Ahora describirá el modelo que creó utilizando la API `describe_model`.\n",
    "\n",
    "Puede encontrar más información sobre `describe_model` en la [página de documentación de Boto3 SageMaker](https://boto3.amazonaws.com/v1/documentation/api/latest/reference/services/sagemaker.html#SageMaker.Client.describe_model) ."
   ]
  },
  {
   "cell_type": "code",
   "execution_count": 20,
   "metadata": {},
   "outputs": [
    {
     "data": {
      "text/plain": [
       "{'ModelName': 'sklearn-model-1-2022-05-04-13-25-18',\n",
       " 'PrimaryContainer': {'Image': '683313688378.dkr.ecr.us-east-1.amazonaws.com/sagemaker-scikit-learn:0.23-1-cpu-py3',\n",
       "  'Mode': 'SingleModel',\n",
       "  'ModelDataUrl': 's3://sagemaker-us-east-1-808640880671/sagemaker-sklearn-artifact/sklearn-boto3-1-2022-05-04-13-19-28/output/model.tar.gz',\n",
       "  'Environment': {'SAGEMAKER_CONTAINER_LOG_LEVEL': '20',\n",
       "   'SAGEMAKER_PROGRAM': 'script.py',\n",
       "   'SAGEMAKER_REGION': 'us-east-1',\n",
       "   'SAGEMAKER_SUBMIT_DIRECTORY': 's3://sagemaker-us-east-1-808640880671/scikitlearn-california-train-from-boto3/source.tar.gz'}},\n",
       " 'ExecutionRoleArn': 'arn:aws:iam::808640880671:role/service-role/AmazonSageMaker-ExecutionRole-20220503T130588',\n",
       " 'CreationTime': datetime.datetime(2022, 5, 4, 13, 25, 18, 682000, tzinfo=tzlocal()),\n",
       " 'ModelArn': 'arn:aws:sagemaker:us-east-1:808640880671:model/sklearn-model-1-2022-05-04-13-25-18',\n",
       " 'EnableNetworkIsolation': False,\n",
       " 'ResponseMetadata': {'RequestId': 'a36d49f5-5689-445c-bbc7-bdf834652fe1',\n",
       "  'HTTPStatusCode': 200,\n",
       "  'HTTPHeaders': {'x-amzn-requestid': 'a36d49f5-5689-445c-bbc7-bdf834652fe1',\n",
       "   'content-type': 'application/x-amz-json-1.1',\n",
       "   'content-length': '833',\n",
       "   'date': 'Wed, 04 May 2022 13:27:10 GMT'},\n",
       "  'RetryAttempts': 0}}"
      ]
     },
     "execution_count": 20,
     "metadata": {},
     "output_type": "execute_result"
    }
   ],
   "source": [
    "client.describe_model(ModelName=model_1_name)"
   ]
  },
  {
   "cell_type": "markdown",
   "metadata": {},
   "source": [
    "## Crear una configuración de endpoint desde el primer modelo\n",
    "\n",
    "Esto creará una configuración de punto de enlace que los servicios de alojamiento de Amazon SageMaker utilizan para implementar modelos. En la configuración, identifica uno o más modelos, creados con la API `CreateModel`, para implementar y los recursos que desea que Amazon SageMaker aprovisione. Luego llamas a la API `CreateEndpoint`.\n",
    "\n",
    "Puede encontrar más información sobre `create_endpoint_config` en la [página de documentación de Boto3 SageMaker](https://boto3.amazonaws.com/v1/documentation/api/latest/reference/services/sagemaker.html#SageMaker.Client.create_endpoint_config) ."
   ]
  },
  {
   "cell_type": "code",
   "execution_count": 21,
   "metadata": {},
   "outputs": [
    {
     "data": {
      "text/plain": [
       "{'EndpointConfigArn': 'arn:aws:sagemaker:us-east-1:808640880671:endpoint-config/sklearn-endpoint-config-1-2022-05-04-13-28-46',\n",
       " 'ResponseMetadata': {'RequestId': '0863719e-ad4d-40eb-bc04-e5cc88ee1a8b',\n",
       "  'HTTPStatusCode': 200,\n",
       "  'HTTPHeaders': {'x-amzn-requestid': '0863719e-ad4d-40eb-bc04-e5cc88ee1a8b',\n",
       "   'content-type': 'application/x-amz-json-1.1',\n",
       "   'content-length': '126',\n",
       "   'date': 'Wed, 04 May 2022 13:28:46 GMT'},\n",
       "  'RetryAttempts': 0}}"
      ]
     },
     "execution_count": 21,
     "metadata": {},
     "output_type": "execute_result"
    }
   ],
   "source": [
    "endpoint_config_1_name = \"sklearn-endpoint-config-1-\" + datetime.datetime.now().strftime(\n",
    "    \"%Y-%m-%d-%H-%M-%S\"\n",
    ")\n",
    "\n",
    "endpoint_config_1_response = client.create_endpoint_config(\n",
    "    EndpointConfigName=endpoint_config_1_name,\n",
    "    ProductionVariants=[\n",
    "        {\n",
    "            \"VariantName\": \"AllTrafficVariant\",\n",
    "            \"ModelName\": model_1_name,\n",
    "            \"InitialInstanceCount\": 1,\n",
    "            \"InstanceType\": \"ml.c5.large\",\n",
    "            \"InitialVariantWeight\": 1,\n",
    "        },\n",
    "    ],\n",
    ")\n",
    "\n",
    "endpoint_config_1_response"
   ]
  },
  {
   "cell_type": "markdown",
   "metadata": {},
   "source": [
    "## Implemente la primera configuración del endpoint en un endpoint en tiempo real\n",
    "\n",
    "Esto creará un punto final utilizando la configuración de punto final especificada en la solicitud. Amazon SageMaker utiliza el punto de enlace para aprovisionar recursos e implementar modelos. Tenga en cuenta que ya ha creado la configuración del punto final con la API `CreateEndpointConfig` en el paso anterior.\n",
    "\n",
    "Puede encontrar más información sobre `create_endpoint` en la [página de documentación de Boto3 SageMaker](https://boto3.amazonaws.com/v1/documentation/api/latest/reference/services/sagemaker.html#SageMaker.Client.create_endpoint) ."
   ]
  },
  {
   "cell_type": "code",
   "execution_count": 22,
   "metadata": {},
   "outputs": [
    {
     "data": {
      "text/plain": [
       "{'EndpointArn': 'arn:aws:sagemaker:us-east-1:808640880671:endpoint/sklearn-endpoint-2022-05-04-13-29-56',\n",
       " 'ResponseMetadata': {'RequestId': 'ff277040-f86d-4fc3-9991-8ee45ad4ec06',\n",
       "  'HTTPStatusCode': 200,\n",
       "  'HTTPHeaders': {'x-amzn-requestid': 'ff277040-f86d-4fc3-9991-8ee45ad4ec06',\n",
       "   'content-type': 'application/x-amz-json-1.1',\n",
       "   'content-length': '104',\n",
       "   'date': 'Wed, 04 May 2022 13:29:56 GMT'},\n",
       "  'RetryAttempts': 0}}"
      ]
     },
     "execution_count": 22,
     "metadata": {},
     "output_type": "execute_result"
    }
   ],
   "source": [
    "endpoint_name = \"sklearn-endpoint-\" + datetime.datetime.now().strftime(\"%Y-%m-%d-%H-%M-%S\")\n",
    "\n",
    "create_endpoint_response = client.create_endpoint(\n",
    "    EndpointName=endpoint_name,\n",
    "    EndpointConfigName=endpoint_config_1_name,\n",
    ")\n",
    "\n",
    "create_endpoint_response"
   ]
  },
  {
   "cell_type": "markdown",
   "metadata": {},
   "source": [
    "### Espere a que Endpoint esté listo"
   ]
  },
  {
   "cell_type": "code",
   "execution_count": 27,
   "metadata": {},
   "outputs": [
    {
     "name": "stdout",
     "output_type": "stream",
     "text": [
      "InService...\n",
      "InService\n"
     ]
    },
    {
     "data": {
      "text/plain": [
       "{'EndpointName': 'sklearn-endpoint-2022-05-04-13-29-56',\n",
       " 'EndpointArn': 'arn:aws:sagemaker:us-east-1:808640880671:endpoint/sklearn-endpoint-2022-05-04-13-29-56',\n",
       " 'EndpointConfigName': 'sklearn-endpoint-config-1-2022-05-04-13-28-46',\n",
       " 'ProductionVariants': [{'VariantName': 'AllTrafficVariant',\n",
       "   'DeployedImages': [{'SpecifiedImage': '683313688378.dkr.ecr.us-east-1.amazonaws.com/sagemaker-scikit-learn:0.23-1-cpu-py3',\n",
       "     'ResolvedImage': '683313688378.dkr.ecr.us-east-1.amazonaws.com/sagemaker-scikit-learn@sha256:1b1a557ceb336c12d1f8ade5f0cd79781a8df07dde3128544dfef6679feb261e',\n",
       "     'ResolutionTime': datetime.datetime(2022, 5, 4, 13, 29, 57, 717000, tzinfo=tzlocal())}],\n",
       "   'CurrentWeight': 1.0,\n",
       "   'DesiredWeight': 1.0,\n",
       "   'CurrentInstanceCount': 1,\n",
       "   'DesiredInstanceCount': 1}],\n",
       " 'EndpointStatus': 'InService',\n",
       " 'CreationTime': datetime.datetime(2022, 5, 4, 13, 29, 57, 80000, tzinfo=tzlocal()),\n",
       " 'LastModifiedTime': datetime.datetime(2022, 5, 4, 13, 32, 17, 324000, tzinfo=tzlocal()),\n",
       " 'ResponseMetadata': {'RequestId': '062a941e-ee5d-4a35-82e3-231ebd18edaa',\n",
       "  'HTTPStatusCode': 200,\n",
       "  'HTTPHeaders': {'x-amzn-requestid': '062a941e-ee5d-4a35-82e3-231ebd18edaa',\n",
       "   'content-type': 'application/x-amz-json-1.1',\n",
       "   'content-length': '787',\n",
       "   'date': 'Wed, 04 May 2022 13:33:56 GMT'},\n",
       "  'RetryAttempts': 0}}"
      ]
     },
     "execution_count": 27,
     "metadata": {},
     "output_type": "execute_result"
    }
   ],
   "source": [
    "describe_endpoint_response = client.describe_endpoint(EndpointName=endpoint_name)\n",
    "print(describe_endpoint_response[\"EndpointStatus\"] + \"...\")\n",
    "\n",
    "while describe_endpoint_response[\"EndpointStatus\"] == \"Creating\":\n",
    "    describe_endpoint_response = client.describe_endpoint(EndpointName=endpoint_name)\n",
    "    time.sleep(15)\n",
    "\n",
    "print(describe_endpoint_response[\"EndpointStatus\"])\n",
    "describe_endpoint_response"
   ]
  },
  {
   "cell_type": "markdown",
   "metadata": {},
   "source": [
    "## Invocar Endpoint con `boto3`\n",
    "\n",
    "Después de implementar un modelo en producción mediante los servicios de alojamiento de Amazon SageMaker, sus aplicaciones cliente utilizan esta API para obtener inferencias del modelo alojado en el punto de enlace especificado.\n",
    "\n",
    "Para obtener una descripción general de Amazon SageMaker, [consulte Cómo funciona](https://docs.aws.amazon.com/sagemaker/latest/dg/how-it-works.html).\n",
    "\n",
    "Amazon SageMaker elimina todos los encabezados POST, excepto los que admite la API. Amazon SageMaker podría agregar encabezados adicionales. No debe confiar en el comportamiento de los encabezados fuera de los enumerados en la sintaxis de la solicitud.\n",
    "\n",
    "Las llamadas a `InvokeEndpoint` se autentican mediante AWS Signature Version 4. Para obtener más información, consulte Solicitudes de autenticación (AWS Signature Version 4) en la Referencia de la API de Amazon S3.\n",
    "\n",
    "Los contenedores modelo de un cliente deben responder a las solicitudes en un plazo de 60 segundos. El modelo en sí puede tener un tiempo máximo de procesamiento de 60 segundos antes de responder a las invocaciones. Si su modelo va a tardar entre 50 y 60 segundos de tiempo de procesamiento, el tiempo de espera del zócalo del SDK debe establecerse en 70 segundos.\n",
    "\n",
    "Puede encontrar más información sobre `invoke_endpoint` en la [página de documentación de Boto3 SageMakerRuntime](https://boto3.amazonaws.com/v1/documentation/api/latest/reference/services/sagemaker-runtime.html#SageMakerRuntime.Client. invocar_punto final)."
   ]
  },
  {
   "cell_type": "code",
   "execution_count": 28,
   "metadata": {},
   "outputs": [],
   "source": [
    "runtime = boto3.client(\"sagemaker-runtime\")"
   ]
  },
  {
   "cell_type": "code",
   "execution_count": 38,
   "metadata": {},
   "outputs": [
    {
     "name": "stdout",
     "output_type": "stream",
     "text": [
      "b'[0.5246552380952382, 0.7116836940836941, 4.884692129545455, 2.553313333333333, 2.196873214285714, 1.6397502380952382, 2.303477359307359, 1.6989849206349206, 2.888873, 4.779673844444446, 1.2125477777777778, 2.016068452380952, 1.5302851370851374, 1.9184233333333336, 2.54005, 1.58476, 1.9199190476190473, 1.6213527777777776, 1.440369285714286, 0.976126111111111, 3.987773273809524, 3.4530853511904764, 1.6839254761904763, 3.9077470833333336, 1.7549811904761907, 0.548842619047619, 1.587321031746032, 0.'\n"
     ]
    }
   ],
   "source": [
    "# csv serialization\n",
    "response = runtime.invoke_endpoint(\n",
    "    EndpointName=endpoint_name,\n",
    "    Body=testX[data.feature_names].to_csv(header=False, index=False).encode(\"utf-8\"),\n",
    "    ContentType=\"text/csv\",\n",
    ")\n",
    "\n",
    "print(response[\"Body\"].read()[:500])"
   ]
  },
  {
   "cell_type": "markdown",
   "metadata": {},
   "source": [
    "## Inicie el segundo trabajo de entrenamiento\n",
    "\n",
    "Esto iniciará el segundo trabajo de entrenamiento del modelo. Una vez completada la capacitación, creará un modelo, una configuración de punto final y actualizará el punto final existente con la configuración de punto final recién creada."
   ]
  },
  {
   "cell_type": "code",
   "execution_count": 39,
   "metadata": {},
   "outputs": [
    {
     "data": {
      "text/plain": [
       "{'TrainingJobArn': 'arn:aws:sagemaker:us-east-1:808640880671:training-job/sklearn-boto3-2-2022-05-04-13-37-15',\n",
       " 'ResponseMetadata': {'RequestId': '662ff5f4-1d79-4d59-8f36-25a51a166cb3',\n",
       "  'HTTPStatusCode': 200,\n",
       "  'HTTPHeaders': {'x-amzn-requestid': '662ff5f4-1d79-4d59-8f36-25a51a166cb3',\n",
       "   'content-type': 'application/x-amz-json-1.1',\n",
       "   'content-length': '110',\n",
       "   'date': 'Wed, 04 May 2022 13:37:14 GMT'},\n",
       "  'RetryAttempts': 0}}"
      ]
     },
     "execution_count": 39,
     "metadata": {},
     "output_type": "execute_result"
    }
   ],
   "source": [
    "training_job_2_name = \"sklearn-boto3-2-\" + datetime.datetime.now().strftime(\"%Y-%m-%d-%H-%M-%S\")\n",
    "\n",
    "training_job_2_response = sm_boto3.create_training_job(\n",
    "    TrainingJobName=training_job_2_name,\n",
    "    HyperParameters={\n",
    "        \"n_estimators\": \"300\",\n",
    "        \"min_samples_leaf\": \"3\",\n",
    "        \"sagemaker_program\": \"script.py\",\n",
    "        \"features\": \"MedInc HouseAge AveRooms AveBedrms Population AveOccup Latitude Longitude\",\n",
    "        \"target\": \"target\",\n",
    "        \"sagemaker_submit_directory\": \"s3://\" + bucket + \"/\" + project + \"/\" + source,\n",
    "    },\n",
    "    AlgorithmSpecification={\n",
    "        \"TrainingImage\": training_image,\n",
    "        \"TrainingInputMode\": \"File\",\n",
    "        \"MetricDefinitions\": [\n",
    "            {\"Name\": \"median-AE\", \"Regex\": \"AE-at-50th-percentile: ([0-9.]+).*$\"},\n",
    "        ],\n",
    "    },\n",
    "    RoleArn=get_execution_role(),\n",
    "    InputDataConfig=[\n",
    "        {\n",
    "            \"ChannelName\": \"train\",\n",
    "            \"DataSource\": {\n",
    "                \"S3DataSource\": {\n",
    "                    \"S3DataType\": \"S3Prefix\",\n",
    "                    \"S3Uri\": trainpath,\n",
    "                    \"S3DataDistributionType\": \"FullyReplicated\",\n",
    "                }\n",
    "            },\n",
    "        },\n",
    "        {\n",
    "            \"ChannelName\": \"test\",\n",
    "            \"DataSource\": {\n",
    "                \"S3DataSource\": {\n",
    "                    \"S3DataType\": \"S3Prefix\",\n",
    "                    \"S3Uri\": testpath,\n",
    "                    \"S3DataDistributionType\": \"FullyReplicated\",\n",
    "                }\n",
    "            },\n",
    "        },\n",
    "    ],\n",
    "    OutputDataConfig={\"S3OutputPath\": \"s3://\" + bucket + \"/sagemaker-sklearn-artifact/\"},\n",
    "    ResourceConfig={\"InstanceType\": \"ml.c5.xlarge\", \"InstanceCount\": 1, \"VolumeSizeInGB\": 10},\n",
    "    StoppingCondition={\"MaxRuntimeInSeconds\": 86400},\n",
    "    EnableNetworkIsolation=False,\n",
    ")\n",
    "\n",
    "training_job_2_response"
   ]
  },
  {
   "cell_type": "markdown",
   "metadata": {},
   "source": [
    "### Espere a que finalice el segundo trabajo de entrenamiento"
   ]
  },
  {
   "cell_type": "code",
   "execution_count": 41,
   "metadata": {},
   "outputs": [
    {
     "name": "stdout",
     "output_type": "stream",
     "text": [
      "InProgress...\n",
      "Completed\n"
     ]
    },
    {
     "data": {
      "text/plain": [
       "{'TrainingJobName': 'sklearn-boto3-2-2022-05-04-13-37-15',\n",
       " 'TrainingJobArn': 'arn:aws:sagemaker:us-east-1:808640880671:training-job/sklearn-boto3-2-2022-05-04-13-37-15',\n",
       " 'ModelArtifacts': {'S3ModelArtifacts': 's3://sagemaker-us-east-1-808640880671/sagemaker-sklearn-artifact/sklearn-boto3-2-2022-05-04-13-37-15/output/model.tar.gz'},\n",
       " 'TrainingJobStatus': 'Completed',\n",
       " 'SecondaryStatus': 'Completed',\n",
       " 'HyperParameters': {'features': 'MedInc HouseAge AveRooms AveBedrms Population AveOccup Latitude Longitude',\n",
       "  'min_samples_leaf': '3',\n",
       "  'n_estimators': '300',\n",
       "  'sagemaker_program': 'script.py',\n",
       "  'sagemaker_submit_directory': 's3://sagemaker-us-east-1-808640880671/scikitlearn-california-train-from-boto3/source.tar.gz',\n",
       "  'target': 'target'},\n",
       " 'AlgorithmSpecification': {'TrainingImage': '683313688378.dkr.ecr.us-east-1.amazonaws.com/sagemaker-scikit-learn:0.23-1-cpu-py3',\n",
       "  'TrainingInputMode': 'File',\n",
       "  'MetricDefinitions': [{'Name': 'median-AE',\n",
       "    'Regex': 'AE-at-50th-percentile: ([0-9.]+).*$'}],\n",
       "  'EnableSageMakerMetricsTimeSeries': False},\n",
       " 'RoleArn': 'arn:aws:iam::808640880671:role/service-role/AmazonSageMaker-ExecutionRole-20220503T130588',\n",
       " 'InputDataConfig': [{'ChannelName': 'train',\n",
       "   'DataSource': {'S3DataSource': {'S3DataType': 'S3Prefix',\n",
       "     'S3Uri': 's3://sagemaker-us-east-1-808640880671/sagemaker/sklearn-california/california_train.csv',\n",
       "     'S3DataDistributionType': 'FullyReplicated'}},\n",
       "   'CompressionType': 'None',\n",
       "   'RecordWrapperType': 'None'},\n",
       "  {'ChannelName': 'test',\n",
       "   'DataSource': {'S3DataSource': {'S3DataType': 'S3Prefix',\n",
       "     'S3Uri': 's3://sagemaker-us-east-1-808640880671/sagemaker/sklearn-california/california_test.csv',\n",
       "     'S3DataDistributionType': 'FullyReplicated'}},\n",
       "   'CompressionType': 'None',\n",
       "   'RecordWrapperType': 'None'}],\n",
       " 'OutputDataConfig': {'KmsKeyId': '',\n",
       "  'S3OutputPath': 's3://sagemaker-us-east-1-808640880671/sagemaker-sklearn-artifact/'},\n",
       " 'ResourceConfig': {'InstanceType': 'ml.c5.xlarge',\n",
       "  'InstanceCount': 1,\n",
       "  'VolumeSizeInGB': 10},\n",
       " 'StoppingCondition': {'MaxRuntimeInSeconds': 86400},\n",
       " 'CreationTime': datetime.datetime(2022, 5, 4, 13, 37, 15, 354000, tzinfo=tzlocal()),\n",
       " 'TrainingStartTime': datetime.datetime(2022, 5, 4, 13, 38, 48, 35000, tzinfo=tzlocal()),\n",
       " 'TrainingEndTime': datetime.datetime(2022, 5, 4, 13, 39, 59, 982000, tzinfo=tzlocal()),\n",
       " 'LastModifiedTime': datetime.datetime(2022, 5, 4, 13, 39, 59, 982000, tzinfo=tzlocal()),\n",
       " 'SecondaryStatusTransitions': [{'Status': 'Starting',\n",
       "   'StartTime': datetime.datetime(2022, 5, 4, 13, 37, 15, 354000, tzinfo=tzlocal()),\n",
       "   'EndTime': datetime.datetime(2022, 5, 4, 13, 38, 48, 35000, tzinfo=tzlocal()),\n",
       "   'StatusMessage': 'Preparing the instances for training'},\n",
       "  {'Status': 'Downloading',\n",
       "   'StartTime': datetime.datetime(2022, 5, 4, 13, 38, 48, 35000, tzinfo=tzlocal()),\n",
       "   'EndTime': datetime.datetime(2022, 5, 4, 13, 39, 8, 481000, tzinfo=tzlocal()),\n",
       "   'StatusMessage': 'Downloading input data'},\n",
       "  {'Status': 'Training',\n",
       "   'StartTime': datetime.datetime(2022, 5, 4, 13, 39, 8, 481000, tzinfo=tzlocal()),\n",
       "   'EndTime': datetime.datetime(2022, 5, 4, 13, 39, 54, 449000, tzinfo=tzlocal()),\n",
       "   'StatusMessage': 'Training image download completed. Training in progress.'},\n",
       "  {'Status': 'Uploading',\n",
       "   'StartTime': datetime.datetime(2022, 5, 4, 13, 39, 54, 449000, tzinfo=tzlocal()),\n",
       "   'EndTime': datetime.datetime(2022, 5, 4, 13, 39, 59, 982000, tzinfo=tzlocal()),\n",
       "   'StatusMessage': 'Uploading generated training model'},\n",
       "  {'Status': 'Completed',\n",
       "   'StartTime': datetime.datetime(2022, 5, 4, 13, 39, 59, 982000, tzinfo=tzlocal()),\n",
       "   'EndTime': datetime.datetime(2022, 5, 4, 13, 39, 59, 982000, tzinfo=tzlocal()),\n",
       "   'StatusMessage': 'Training job completed'}],\n",
       " 'FinalMetricDataList': [{'MetricName': 'median-AE',\n",
       "   'Value': 0.21409393846988678,\n",
       "   'Timestamp': datetime.datetime(2022, 5, 4, 13, 39, 48, tzinfo=tzlocal())}],\n",
       " 'EnableNetworkIsolation': False,\n",
       " 'EnableInterContainerTrafficEncryption': False,\n",
       " 'EnableManagedSpotTraining': False,\n",
       " 'TrainingTimeInSeconds': 71,\n",
       " 'BillableTimeInSeconds': 71,\n",
       " 'ProfilingStatus': 'Disabled',\n",
       " 'ResponseMetadata': {'RequestId': '0dd40290-f483-4738-b425-09d24ce2bf84',\n",
       "  'HTTPStatusCode': 200,\n",
       "  'HTTPHeaders': {'x-amzn-requestid': '0dd40290-f483-4738-b425-09d24ce2bf84',\n",
       "   'content-type': 'application/x-amz-json-1.1',\n",
       "   'content-length': '3504',\n",
       "   'date': 'Wed, 04 May 2022 13:40:02 GMT'},\n",
       "  'RetryAttempts': 0}}"
      ]
     },
     "execution_count": 41,
     "metadata": {},
     "output_type": "execute_result"
    }
   ],
   "source": [
    "import boto3\n",
    "import time\n",
    "\n",
    "client = boto3.client(\"sagemaker\")\n",
    "\n",
    "training_job_2_details = client.describe_training_job(TrainingJobName=training_job_2_name)\n",
    "print(training_job_2_details[\"TrainingJobStatus\"] + \"...\")\n",
    "\n",
    "while training_job_2_details[\"TrainingJobStatus\"] == \"InProgress\":\n",
    "    training_job_2_details = client.describe_training_job(TrainingJobName=training_job_2_name)\n",
    "    time.sleep(15)\n",
    "\n",
    "print(training_job_2_details[\"TrainingJobStatus\"])\n",
    "training_job_2_details"
   ]
  },
  {
   "cell_type": "markdown",
   "metadata": {},
   "source": [
    "## Crear un modelo para el segundo trabajo de entrenamiento"
   ]
  },
  {
   "cell_type": "code",
   "execution_count": 42,
   "metadata": {},
   "outputs": [
    {
     "data": {
      "text/plain": [
       "{'ModelArn': 'arn:aws:sagemaker:us-east-1:808640880671:model/sklearn-model-2-2022-05-04-13-41-46',\n",
       " 'ResponseMetadata': {'RequestId': '490cb53b-d5be-462d-a8ae-11a902604d16',\n",
       "  'HTTPStatusCode': 200,\n",
       "  'HTTPHeaders': {'x-amzn-requestid': '490cb53b-d5be-462d-a8ae-11a902604d16',\n",
       "   'content-type': 'application/x-amz-json-1.1',\n",
       "   'content-length': '97',\n",
       "   'date': 'Wed, 04 May 2022 13:41:46 GMT'},\n",
       "  'RetryAttempts': 0}}"
      ]
     },
     "execution_count": 42,
     "metadata": {},
     "output_type": "execute_result"
    }
   ],
   "source": [
    "model_2_name = \"sklearn-model-2-\" + datetime.datetime.now().strftime(\"%Y-%m-%d-%H-%M-%S\")\n",
    "\n",
    "create_model_2_response = client.create_model(\n",
    "    ModelName=model_2_name,\n",
    "    PrimaryContainer={\n",
    "        \"Image\": training_job_2_details[\"AlgorithmSpecification\"][\"TrainingImage\"],\n",
    "        \"Mode\": \"SingleModel\",\n",
    "        \"ModelDataUrl\": training_job_2_details[\"ModelArtifacts\"][\"S3ModelArtifacts\"],\n",
    "        \"Environment\": {\n",
    "            \"SAGEMAKER_CONTAINER_LOG_LEVEL\": \"20\",\n",
    "            \"SAGEMAKER_PROGRAM\": training_job_2_details[\"HyperParameters\"][\"sagemaker_program\"],\n",
    "            \"SAGEMAKER_REGION\": region,\n",
    "            \"SAGEMAKER_SUBMIT_DIRECTORY\": training_job_2_details[\"HyperParameters\"][\n",
    "                \"sagemaker_submit_directory\"\n",
    "            ],\n",
    "        },\n",
    "    },\n",
    "    ExecutionRoleArn=get_execution_role(),\n",
    ")\n",
    "\n",
    "create_model_2_response"
   ]
  },
  {
   "cell_type": "code",
   "execution_count": 43,
   "metadata": {},
   "outputs": [
    {
     "data": {
      "text/plain": [
       "{'ModelName': 'sklearn-model-2-2022-05-04-13-41-46',\n",
       " 'PrimaryContainer': {'Image': '683313688378.dkr.ecr.us-east-1.amazonaws.com/sagemaker-scikit-learn:0.23-1-cpu-py3',\n",
       "  'Mode': 'SingleModel',\n",
       "  'ModelDataUrl': 's3://sagemaker-us-east-1-808640880671/sagemaker-sklearn-artifact/sklearn-boto3-2-2022-05-04-13-37-15/output/model.tar.gz',\n",
       "  'Environment': {'SAGEMAKER_CONTAINER_LOG_LEVEL': '20',\n",
       "   'SAGEMAKER_PROGRAM': 'script.py',\n",
       "   'SAGEMAKER_REGION': 'us-east-1',\n",
       "   'SAGEMAKER_SUBMIT_DIRECTORY': 's3://sagemaker-us-east-1-808640880671/scikitlearn-california-train-from-boto3/source.tar.gz'}},\n",
       " 'ExecutionRoleArn': 'arn:aws:iam::808640880671:role/service-role/AmazonSageMaker-ExecutionRole-20220503T130588',\n",
       " 'CreationTime': datetime.datetime(2022, 5, 4, 13, 41, 46, 670000, tzinfo=tzlocal()),\n",
       " 'ModelArn': 'arn:aws:sagemaker:us-east-1:808640880671:model/sklearn-model-2-2022-05-04-13-41-46',\n",
       " 'EnableNetworkIsolation': False,\n",
       " 'ResponseMetadata': {'RequestId': '18a7724b-4655-4767-ba0a-7bf33a9756a2',\n",
       "  'HTTPStatusCode': 200,\n",
       "  'HTTPHeaders': {'x-amzn-requestid': '18a7724b-4655-4767-ba0a-7bf33a9756a2',\n",
       "   'content-type': 'application/x-amz-json-1.1',\n",
       "   'content-length': '832',\n",
       "   'date': 'Wed, 04 May 2022 13:41:48 GMT'},\n",
       "  'RetryAttempts': 0}}"
      ]
     },
     "execution_count": 43,
     "metadata": {},
     "output_type": "execute_result"
    }
   ],
   "source": [
    "client.describe_model(ModelName=model_2_name)"
   ]
  },
  {
   "cell_type": "markdown",
   "metadata": {},
   "source": [
    "## Crear una configuración de punto final a partir del segundo modelo"
   ]
  },
  {
   "cell_type": "code",
   "execution_count": 44,
   "metadata": {},
   "outputs": [
    {
     "data": {
      "text/plain": [
       "{'EndpointConfigArn': 'arn:aws:sagemaker:us-east-1:808640880671:endpoint-config/sklearn-endpoint-config-2-2022-05-04-13-41-52',\n",
       " 'ResponseMetadata': {'RequestId': 'ed248eb7-c651-4b0d-8197-c8943aca107a',\n",
       "  'HTTPStatusCode': 200,\n",
       "  'HTTPHeaders': {'x-amzn-requestid': 'ed248eb7-c651-4b0d-8197-c8943aca107a',\n",
       "   'content-type': 'application/x-amz-json-1.1',\n",
       "   'content-length': '126',\n",
       "   'date': 'Wed, 04 May 2022 13:41:51 GMT'},\n",
       "  'RetryAttempts': 0}}"
      ]
     },
     "execution_count": 44,
     "metadata": {},
     "output_type": "execute_result"
    }
   ],
   "source": [
    "endpoint_config_2_name = \"sklearn-endpoint-config-2-\" + datetime.datetime.now().strftime(\n",
    "    \"%Y-%m-%d-%H-%M-%S\"\n",
    ")\n",
    "\n",
    "endpoint_config_2_response = client.create_endpoint_config(\n",
    "    EndpointConfigName=endpoint_config_2_name,\n",
    "    ProductionVariants=[\n",
    "        {\n",
    "            \"VariantName\": \"AllTrafficVariant\",\n",
    "            \"ModelName\": model_2_name,\n",
    "            \"InitialInstanceCount\": 1,\n",
    "            \"InstanceType\": \"ml.c5.large\",\n",
    "            \"InitialVariantWeight\": 1,\n",
    "        },\n",
    "    ],\n",
    ")\n",
    "\n",
    "endpoint_config_2_response"
   ]
  },
  {
   "cell_type": "markdown",
   "metadata": {},
   "source": [
    "## Actualice el punto final en tiempo real con la configuración del segundo punto final\n",
    "\n",
    "Esto implementará el nuevo `EndpointConfig` especificado en la solicitud, cambiará a usar el punto final recién creado y luego eliminará los recursos aprovisionados para el punto final usando el `EndpointConfig` anterior (no hay pérdida de disponibilidad).\n",
    "\n",
    "Puede encontrar más información sobre `update_endpoint` en la [página de documentación de Boto3 SageMaker](https://boto3.amazonaws.com/v1/documentation/api/latest/reference/services/sagemaker.html#SageMaker.Client.update_endpoint) ."
   ]
  },
  {
   "cell_type": "code",
   "execution_count": 45,
   "metadata": {},
   "outputs": [
    {
     "data": {
      "text/plain": [
       "{'EndpointArn': 'arn:aws:sagemaker:us-east-1:808640880671:endpoint/sklearn-endpoint-2022-05-04-13-29-56',\n",
       " 'ResponseMetadata': {'RequestId': '9514c767-cf08-4ae9-8fe3-1c0bbbfc2d03',\n",
       "  'HTTPStatusCode': 200,\n",
       "  'HTTPHeaders': {'x-amzn-requestid': '9514c767-cf08-4ae9-8fe3-1c0bbbfc2d03',\n",
       "   'content-type': 'application/x-amz-json-1.1',\n",
       "   'content-length': '104',\n",
       "   'date': 'Wed, 04 May 2022 13:42:03 GMT'},\n",
       "  'RetryAttempts': 0}}"
      ]
     },
     "execution_count": 45,
     "metadata": {},
     "output_type": "execute_result"
    }
   ],
   "source": [
    "update_endpoint_response = client.update_endpoint(\n",
    "    EndpointName=endpoint_name, EndpointConfigName=endpoint_config_2_name\n",
    ")\n",
    "\n",
    "update_endpoint_response"
   ]
  },
  {
   "cell_type": "markdown",
   "metadata": {},
   "source": [
    "## Espere a que Endpoint esté listo\n",
    "\n",
    "Navegando a los puntos finales de SageMaker, en la pestaña \"Componentes y registros de SageMaker\", verá el punto final en el estado \"Actualizando\"."
   ]
  },
  {
   "cell_type": "code",
   "execution_count": 46,
   "metadata": {},
   "outputs": [
    {
     "name": "stdout",
     "output_type": "stream",
     "text": [
      "InService...\n",
      "InService\n"
     ]
    },
    {
     "data": {
      "text/plain": [
       "{'EndpointName': 'sklearn-endpoint-2022-05-04-13-29-56',\n",
       " 'EndpointArn': 'arn:aws:sagemaker:us-east-1:808640880671:endpoint/sklearn-endpoint-2022-05-04-13-29-56',\n",
       " 'EndpointConfigName': 'sklearn-endpoint-config-2-2022-05-04-13-41-52',\n",
       " 'ProductionVariants': [{'VariantName': 'AllTrafficVariant',\n",
       "   'DeployedImages': [{'SpecifiedImage': '683313688378.dkr.ecr.us-east-1.amazonaws.com/sagemaker-scikit-learn:0.23-1-cpu-py3',\n",
       "     'ResolvedImage': '683313688378.dkr.ecr.us-east-1.amazonaws.com/sagemaker-scikit-learn@sha256:1b1a557ceb336c12d1f8ade5f0cd79781a8df07dde3128544dfef6679feb261e',\n",
       "     'ResolutionTime': datetime.datetime(2022, 5, 4, 13, 42, 5, 569000, tzinfo=tzlocal())}],\n",
       "   'CurrentWeight': 1.0,\n",
       "   'DesiredWeight': 1.0,\n",
       "   'CurrentInstanceCount': 1,\n",
       "   'DesiredInstanceCount': 1}],\n",
       " 'EndpointStatus': 'InService',\n",
       " 'CreationTime': datetime.datetime(2022, 5, 4, 13, 29, 57, 80000, tzinfo=tzlocal()),\n",
       " 'LastModifiedTime': datetime.datetime(2022, 5, 4, 13, 44, 30, 194000, tzinfo=tzlocal()),\n",
       " 'ResponseMetadata': {'RequestId': '5278d977-613e-455e-94e1-ab5001ec49ee',\n",
       "  'HTTPStatusCode': 200,\n",
       "  'HTTPHeaders': {'x-amzn-requestid': '5278d977-613e-455e-94e1-ab5001ec49ee',\n",
       "   'content-type': 'application/x-amz-json-1.1',\n",
       "   'content-length': '787',\n",
       "   'date': 'Wed, 04 May 2022 13:45:22 GMT'},\n",
       "  'RetryAttempts': 0}}"
      ]
     },
     "execution_count": 46,
     "metadata": {},
     "output_type": "execute_result"
    }
   ],
   "source": [
    "describe_endpoint_response = client.describe_endpoint(EndpointName=endpoint_name)\n",
    "print(describe_endpoint_response[\"EndpointStatus\"] + \"...\")\n",
    "\n",
    "while describe_endpoint_response[\"EndpointStatus\"] == \"Updating\":\n",
    "    describe_endpoint_response = client.describe_endpoint(EndpointName=endpoint_name)\n",
    "    time.sleep(15)\n",
    "\n",
    "print(describe_endpoint_response[\"EndpointStatus\"])\n",
    "describe_endpoint_response"
   ]
  },
  {
   "cell_type": "markdown",
   "metadata": {},
   "source": [
    "### Invocar Endpoint con boto3"
   ]
  },
  {
   "cell_type": "code",
   "execution_count": 47,
   "metadata": {},
   "outputs": [],
   "source": [
    "runtime = boto3.client(\"sagemaker-runtime\")"
   ]
  },
  {
   "cell_type": "code",
   "execution_count": 48,
   "metadata": {},
   "outputs": [
    {
     "name": "stdout",
     "output_type": "stream",
     "text": [
      "b'[0.49067607142857145, 0.7042345238095238, 4.791390233333334, 2.398275497835498, 2.4403161904761905, 1.5348933333333332, 2.2082266269841275, 1.6368474206349208, 2.9379210833333333, 4.900203, 1.1210192857142858, 1.9788625000000004, 1.6527335714285711, 1.893759126984127, 2.5468676190476183, 1.69058, 1.8855438095238095, 1.6929411111111112, 1.504462142857143, 0.9678378571428572, 3.756083711904761, 4.036424303174603, 1.4885551587301586, 4.089558314285715, 1.6904919372294374, 0.5535566666666666, 1.6606'\n"
     ]
    }
   ],
   "source": [
    "# csv serialization\n",
    "response = runtime.invoke_endpoint(\n",
    "    EndpointName=endpoint_name,\n",
    "    Body=testX[data.feature_names].to_csv(header=False, index=False).encode(\"utf-8\"),\n",
    "    ContentType=\"text/csv\",\n",
    ")\n",
    "\n",
    "print(response[\"Body\"].read()[:500])"
   ]
  },
  {
   "cell_type": "markdown",
   "metadata": {},
   "source": [
    "## Limpiar\n",
    "\n",
    "Los puntos finales deben eliminarse cuando ya no se usan, ya que (según la [página de precios de SageMaker](https://aws.amazon.com/sagemaker/pricing/)) se facturan por tiempo de implementación."
   ]
  },
  {
   "cell_type": "code",
   "execution_count": 49,
   "metadata": {},
   "outputs": [
    {
     "data": {
      "text/plain": [
       "{'ResponseMetadata': {'RequestId': '3107cd6b-37ea-4000-8d98-f8f7d180182d',\n",
       "  'HTTPStatusCode': 200,\n",
       "  'HTTPHeaders': {'x-amzn-requestid': '3107cd6b-37ea-4000-8d98-f8f7d180182d',\n",
       "   'content-type': 'application/x-amz-json-1.1',\n",
       "   'content-length': '0',\n",
       "   'date': 'Wed, 04 May 2022 13:53:57 GMT'},\n",
       "  'RetryAttempts': 0}}"
      ]
     },
     "execution_count": 49,
     "metadata": {},
     "output_type": "execute_result"
    }
   ],
   "source": [
    "sm_boto3.delete_endpoint(EndpointName=endpoint_name)"
   ]
  },
  {
   "cell_type": "code",
   "execution_count": null,
   "metadata": {},
   "outputs": [],
   "source": []
  }
 ],
 "metadata": {
  "instance_type": "ml.m5.xlarge",
  "kernelspec": {
   "display_name": "Python 3 (Data Science)",
   "language": "python",
   "name": "python3__SAGEMAKER_INTERNAL__arn:aws:sagemaker:us-east-1:081325390199:image/datascience-1.0"
  },
  "language_info": {
   "codemirror_mode": {
    "name": "ipython",
    "version": 3
   },
   "file_extension": ".py",
   "mimetype": "text/x-python",
   "name": "python",
   "nbconvert_exporter": "python",
   "pygments_lexer": "ipython3",
   "version": "3.7.10"
  }
 },
 "nbformat": 4,
 "nbformat_minor": 4
}
