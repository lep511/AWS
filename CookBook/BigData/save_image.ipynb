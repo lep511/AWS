{
 "cells": [
  {
   "cell_type": "code",
   "execution_count": 6,
   "id": "b0d22add-f972-4172-8e24-456f1b802ba4",
   "metadata": {},
   "outputs": [],
   "source": [
    "## Importing Necessary Modules\n",
    "import requests # to get image from the web\n",
    "import shutil # to save it locally"
   ]
  },
  {
   "cell_type": "code",
   "execution_count": 7,
   "id": "eb8f4fc3-82e1-4fe5-a9d2-698c78e51e40",
   "metadata": {},
   "outputs": [],
   "source": [
    "## Set up the image URL and filename\n",
    "image_url = \"https://cdn.pixabay.com/photo/2020/02/06/09/39/summer-4823612_960_720.jpg\"\n",
    "filename = \"data_img/summer.jpg\""
   ]
  },
  {
   "cell_type": "code",
   "execution_count": 8,
   "id": "b1628e2c-3668-468d-a780-74bd8c2acbe6",
   "metadata": {},
   "outputs": [],
   "source": [
    "# Open the url image, set stream to True, this will return the stream content.\n",
    "r = requests.get(image_url, stream = True)"
   ]
  },
  {
   "cell_type": "code",
   "execution_count": 9,
   "id": "b722caec-d61d-4b45-b6be-2f56fc640c44",
   "metadata": {},
   "outputs": [
    {
     "name": "stdout",
     "output_type": "stream",
     "text": [
      "Image sucessfully Downloaded:  data_img/summer.jpg\n"
     ]
    }
   ],
   "source": [
    "# Check if the image was retrieved successfully\n",
    "if r.status_code == 200:\n",
    "    # Set decode_content value to True, otherwise the downloaded image file's size will be zero.\n",
    "    r.raw.decode_content = True\n",
    "    \n",
    "    # Open a local file with wb ( write binary ) permission.\n",
    "    with open(filename,'wb') as f:\n",
    "        shutil.copyfileobj(r.raw, f)\n",
    "        \n",
    "    print('Image sucessfully Downloaded: ',filename)\n",
    "else:\n",
    "    print('Image Couldn\\'t be retreived')"
   ]
  },
  {
   "cell_type": "code",
   "execution_count": 13,
   "id": "54f17f19-0984-4013-9ea2-35c2442cbf8b",
   "metadata": {},
   "outputs": [
    {
     "data": {
      "text/plain": [
       "True"
      ]
     },
     "execution_count": 13,
     "metadata": {},
     "output_type": "execute_result"
    }
   ],
   "source": [
    "r.raw.decode_content"
   ]
  },
  {
   "cell_type": "code",
   "execution_count": 10,
   "id": "c84344bb-4042-408e-8732-11d911480501",
   "metadata": {},
   "outputs": [
    {
     "name": "stdout",
     "output_type": "stream",
     "text": [
      "mkdir: cannot create directory 'data_img': File exists\n"
     ]
    }
   ],
   "source": []
  },
  {
   "cell_type": "code",
   "execution_count": 23,
   "id": "2a475c21-afb1-4b72-8029-ddb4a3ef96bb",
   "metadata": {},
   "outputs": [
    {
     "data": {
      "text/plain": [
       "3953677721554473661"
      ]
     },
     "execution_count": 23,
     "metadata": {},
     "output_type": "execute_result"
    }
   ],
   "source": [
    "abs(hash((\"Dflf dkdk\", \"dddl\")))"
   ]
  },
  {
   "cell_type": "code",
   "execution_count": 94,
   "id": "ecd34f9c-1105-4545-a9a5-e65cc98d207c",
   "metadata": {},
   "outputs": [
    {
     "data": {
      "text/plain": [
       "'cf22997b7135f19b'"
      ]
     },
     "execution_count": 94,
     "metadata": {},
     "output_type": "execute_result"
    }
   ],
   "source": [
    "from hashlib import blake2b\n",
    "BLOCK_HASH_PERSON = b'Mympp dkdk Hash'\n",
    "h = blake2b(digest_size=8, person=BLOCK_HASH_PERSON)\n",
    "h.hexdigest()"
   ]
  },
  {
   "cell_type": "code",
   "execution_count": 90,
   "id": "a8e4e927-ed30-4b6c-b8dd-49cf1ef20c0c",
   "metadata": {},
   "outputs": [],
   "source": [
    "import pandas as pd"
   ]
  },
  {
   "cell_type": "code",
   "execution_count": 91,
   "id": "0527f05c-836d-41a8-a183-c73677dac58f",
   "metadata": {},
   "outputs": [],
   "source": [
    "df = pd.read_csv(\"books.csv\",  \n",
    "                 sep=\";\",\n",
    "                 on_bad_lines = 'skip',\n",
    "                 low_memory=False,\n",
    "                 encoding=\"latin-1\"\n",
    ")"
   ]
  },
  {
   "cell_type": "code",
   "execution_count": 92,
   "id": "c7215b03-6160-40cb-989d-5293bef8d5b8",
   "metadata": {},
   "outputs": [],
   "source": [
    "df_s = df.sample(200)"
   ]
  },
  {
   "cell_type": "code",
   "execution_count": 107,
   "id": "6c83b694-b564-41f9-844d-f3f705d9c7d3",
   "metadata": {},
   "outputs": [
    {
     "data": {
      "text/plain": [
       "'http://images.amazon.com/images/P/1843335921.01.LZZZZZZZ.jpg'"
      ]
     },
     "execution_count": 107,
     "metadata": {},
     "output_type": "execute_result"
    }
   ],
   "source": [
    "df_s.iloc[25, 7]"
   ]
  }
 ],
 "metadata": {
  "kernelspec": {
   "display_name": "default:Python",
   "language": "python",
   "name": "conda-env-default-py"
  },
  "language_info": {
   "codemirror_mode": {
    "name": "ipython",
    "version": 3
   },
   "file_extension": ".py",
   "mimetype": "text/x-python",
   "name": "python",
   "nbconvert_exporter": "python",
   "pygments_lexer": "ipython3",
   "version": "3.9.10"
  }
 },
 "nbformat": 4,
 "nbformat_minor": 5
}
