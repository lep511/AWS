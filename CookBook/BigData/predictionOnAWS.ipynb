{
 "cells": [
  {
   "cell_type": "markdown",
   "id": "8a730427",
   "metadata": {},
   "source": [
    "## Crea recomendaciones de películas personalizadas en tiempo real con Amazon Personalize\n",
    "\n",
    "Imagine que está construyendo un sitio web de recomendaciones. En su sitio web, los usuarios ven recomendaciones personalizadas de títulos de películas en tiempo real.\n",
    "Como parte de su sitio, quiere generar recomendaciones de títulos de películas para los usuarios del sitio web. Estas recomendaciones de títulos de películas deben basarse en el historial de navegación y visualización de los usuarios.\n",
    "\n",
    "En este laboratorio, aprenderá a utilizar **Amazon Personalize** para entrenar una solución de recomendaciones de títulos de películas. Utilizará el *SDK de AWS para Python* para preparar los datos; a continuación, creará una solución y una campaña, e implementará el modelo de recomendación en Amazon Personalize.\n",
    "\n",
    "Para hacer recomendaciones, **Amazon Personalize** utiliza un modelo de aprendizaje automático que se entrena con sus datos. Los datos utilizados para entrenar el modelo se almacenan en conjuntos de datos relacionados en un grupo de conjuntos de datos. Cada modelo se entrena utilizando una receta que contiene un algoritmo para un caso de uso específico. En **Amazon Personalize**, un modelo entrenado se conoce como versión de la solución. Una versión de la solución se despliega para su uso en una campaña. Los usuarios de sus aplicaciones pueden recibir recomendaciones a través de la campaña. Por ejemplo, una campaña puede mostrar recomendaciones de películas en un sitio web o una aplicación donde el título mostrado se basa en los hábitos de visualización que formaban parte del conjunto de datos."
   ]
  },
  {
   "cell_type": "markdown",
   "id": "e512d437",
   "metadata": {},
   "source": [
    "### Descargar y preparar el conjunto de datos\n",
    "\n",
    "Los grupos de datos de Amazon Personalize son contenedores de datos. Un grupo de conjuntos de datos es una colección de conjuntos de datos relacionados (interacciones, usuarios y artículos). Existen tres tipos de conjuntos de datos en Amazon Personalize:\n",
    "\n",
    "* *Interactions*: Este conjunto de datos almacena datos históricos y en tiempo real de las interacciones entre los usuarios y los artículos. Estos datos pueden incluir datos de impresiones y metadatos contextuales sobre el contexto de navegación de tus usuarios, como su ubicación o dispositivo (móvil, tableta, escritorio, etc.). Debe crear, como mínimo, un conjunto de datos de Interacciones.\n",
    "\n",
    "* *Users*: Este conjunto de datos almacena metadatos sobre sus usuarios. Puede incluir información como la edad, el sexo o la afiliación, que puede ser importante en los sistemas de personalización.\n",
    "\n",
    "* *Items*: Este conjunto de datos almacena metadatos sobre sus artículos. Puede incluir información como el precio, el tipo de SKU o la disponibilidad.\n",
    "En este tutorial, sólo se utilizan los datos de Interacciones. Para el uso avanzado de otros tipos de conjuntos de datos, consulte [conjuntos de datos y esquemas](https://grouplens.org/datasets/movielens/).\n",
    "\n",
    "Su modelo de Amazon Personalize se entrenará en el conjunto de datos MovieLens Latest Small que contiene 100.000 valoraciones y 3.600 aplicaciones de etiquetas aplicadas a 9.000 películas por 600 usuarios. El conjunto de datos de MovieLens está comisariado por GroupLens Research.\n",
    "\n"
   ]
  },
  {
   "cell_type": "code",
   "execution_count": 32,
   "id": "7bb48a54",
   "metadata": {},
   "outputs": [
    {
     "name": "stdout",
     "output_type": "stream",
     "text": [
      "links.csv  movies.csv  ratings.csv  README.txt\ttags.csv\r\n"
     ]
    }
   ],
   "source": [
    "# data_dir = \"data\"\n",
    "# !mkdir $data_dir\n",
    "\n",
    "# !cd $data_dir && wget http://files.grouplens.org/datasets/movielens/ml-latest-small.zip\n",
    "# !cd $data_dir && unzip ml-latest-small.zip\n",
    "# dataset_dir = data_dir + \"/ml-latest-small/\"\n",
    "!ls $dataset_dir"
   ]
  },
  {
   "cell_type": "code",
   "execution_count": 33,
   "id": "4e4ea331",
   "metadata": {},
   "outputs": [],
   "source": [
    "data_dir = \"data\"\n",
    "dataset_dir = data_dir + \"/ml-latest-small/\"\n",
    "import time\n",
    "from time import sleep\n",
    "import json\n",
    "from datetime import datetime\n",
    "import boto3\n",
    "import pandas as pd"
   ]
  },
  {
   "cell_type": "code",
   "execution_count": 34,
   "id": "8b914929",
   "metadata": {},
   "outputs": [
    {
     "name": "stdout",
     "output_type": "stream",
     "text": [
      "<class 'pandas.core.frame.DataFrame'>\n",
      "RangeIndex: 100836 entries, 0 to 100835\n",
      "Data columns (total 4 columns):\n",
      " #   Column     Non-Null Count   Dtype  \n",
      "---  ------     --------------   -----  \n",
      " 0   userId     100836 non-null  int64  \n",
      " 1   movieId    100836 non-null  int64  \n",
      " 2   rating     100836 non-null  float64\n",
      " 3   timestamp  100836 non-null  int64  \n",
      "dtypes: float64(1), int64(3)\n",
      "memory usage: 3.1 MB\n"
     ]
    }
   ],
   "source": [
    "original_data = pd.read_csv(dataset_dir + '/ratings.csv')\n",
    "original_data.info()"
   ]
  },
  {
   "cell_type": "code",
   "execution_count": 35,
   "id": "0052abb1",
   "metadata": {},
   "outputs": [
    {
     "data": {
      "text/html": [
       "<div>\n",
       "<style scoped>\n",
       "    .dataframe tbody tr th:only-of-type {\n",
       "        vertical-align: middle;\n",
       "    }\n",
       "\n",
       "    .dataframe tbody tr th {\n",
       "        vertical-align: top;\n",
       "    }\n",
       "\n",
       "    .dataframe thead th {\n",
       "        text-align: right;\n",
       "    }\n",
       "</style>\n",
       "<table border=\"1\" class=\"dataframe\">\n",
       "  <thead>\n",
       "    <tr style=\"text-align: right;\">\n",
       "      <th></th>\n",
       "      <th>userId</th>\n",
       "      <th>movieId</th>\n",
       "      <th>rating</th>\n",
       "      <th>timestamp</th>\n",
       "    </tr>\n",
       "  </thead>\n",
       "  <tbody>\n",
       "    <tr>\n",
       "      <th>0</th>\n",
       "      <td>1</td>\n",
       "      <td>1</td>\n",
       "      <td>4.0</td>\n",
       "      <td>964982703</td>\n",
       "    </tr>\n",
       "    <tr>\n",
       "      <th>1</th>\n",
       "      <td>1</td>\n",
       "      <td>3</td>\n",
       "      <td>4.0</td>\n",
       "      <td>964981247</td>\n",
       "    </tr>\n",
       "    <tr>\n",
       "      <th>2</th>\n",
       "      <td>1</td>\n",
       "      <td>6</td>\n",
       "      <td>4.0</td>\n",
       "      <td>964982224</td>\n",
       "    </tr>\n",
       "    <tr>\n",
       "      <th>3</th>\n",
       "      <td>1</td>\n",
       "      <td>47</td>\n",
       "      <td>5.0</td>\n",
       "      <td>964983815</td>\n",
       "    </tr>\n",
       "    <tr>\n",
       "      <th>4</th>\n",
       "      <td>1</td>\n",
       "      <td>50</td>\n",
       "      <td>5.0</td>\n",
       "      <td>964982931</td>\n",
       "    </tr>\n",
       "  </tbody>\n",
       "</table>\n",
       "</div>"
      ],
      "text/plain": [
       "   userId  movieId  rating  timestamp\n",
       "0       1        1     4.0  964982703\n",
       "1       1        3     4.0  964981247\n",
       "2       1        6     4.0  964982224\n",
       "3       1       47     5.0  964983815\n",
       "4       1       50     5.0  964982931"
      ]
     },
     "execution_count": 35,
     "metadata": {},
     "output_type": "execute_result"
    }
   ],
   "source": [
    "original_data.head()"
   ]
  },
  {
   "cell_type": "markdown",
   "id": "9f9f13d9",
   "metadata": {},
   "source": [
    "A partir de esto, se puede ver que hay un total de 100.836 entradas en el conjunto de datos, con 4 columnas, y cada celda almacenada como formato `int64`, con la excepción de rating que es un `float64`.\n",
    "\n",
    "Recuerde que los datos que necesita son los de la interacción con el usuario, que en este caso son *userId*, *movieId* y *timestamp*. Este conjunto de datos tiene una columna adicional, *rating*, que puede ser eliminada del conjunto de datos después de haberla utilizado para centrarse en las interacciones positivas."
   ]
  },
  {
   "cell_type": "markdown",
   "id": "99ef1034",
   "metadata": {},
   "source": [
    "### Preparar los datos\n",
    "\n",
    "En este paso, se definen dos variables en el conjunto de datos para filtrar las películas que no gustan y simular mejor los datos recogidos por una plataforma de vídeo bajo demanda (VOD).\n",
    "\n",
    "Dado que se trata de un conjunto de datos de calificación de películas con retroalimentación explícita, incluye películas calificadas de 1 a 5. Para este tutorial, se desea incluir sólo los movimientos que \"gustaron\" a los usuarios, y simular un conjunto de datos implícito que sea similar a los datos recogidos por una plataforma de vídeo bajo demanda (VOD). Para ello, a continuación se filtran todas las interacciones por debajo de 2 sobre 5, y se crean dos variables EVENT_TYPE: click y watch. Todas las películas calificadas con 2 o más se asignan como clic, y todas las películas calificadas con 4 o más se asignan como clic y ver."
   ]
  },
  {
   "cell_type": "code",
   "execution_count": 36,
   "id": "93e74285",
   "metadata": {},
   "outputs": [],
   "source": [
    "watched_df = original_data.copy()\n",
    "watched_df = watched_df[watched_df['rating'] > 3]\n",
    "watched_df = watched_df[['userId', 'movieId', 'timestamp']]\n",
    "watched_df['EVENT_TYPE']='watch'\n",
    "\n",
    "clicked_df = original_data.copy()\n",
    "clicked_df = clicked_df[clicked_df['rating'] > 1]\n",
    "clicked_df = clicked_df[['userId', 'movieId', 'timestamp']]\n",
    "clicked_df['EVENT_TYPE']='click'\n",
    "\n",
    "interactions_df = clicked_df.copy()\n",
    "interactions_df = interactions_df.append(watched_df)\n",
    "interactions_df.sort_values(\"timestamp\", axis = 0, ascending = True, \n",
    "                 inplace = True, na_position ='last')"
   ]
  },
  {
   "cell_type": "code",
   "execution_count": 37,
   "id": "b60c9e67",
   "metadata": {},
   "outputs": [],
   "source": [
    "interactions_df.rename(columns = {'userId':'USER_ID', 'movieId':'ITEM_ID', \n",
    "                              'timestamp':'TIMESTAMP'}, inplace = True) \n",
    "interactions_filename = \"interactions.csv\"\n",
    "interactions_df.to_csv((data_dir+\"/\"+interactions_filename), index=False, float_format='%.0f')"
   ]
  },
  {
   "cell_type": "markdown",
   "id": "d3b75c77",
   "metadata": {},
   "source": [
    "### Crear el grupo de conjuntos de datos\n",
    "\n",
    "Un grupo de conjuntos de datos es una colección de conjuntos de datos relacionados. Para este paso, se crea un nuevo grupo de conjuntos de datos denominado ***personalize-demo-movielens*** y se activa.\n"
   ]
  },
  {
   "cell_type": "code",
   "execution_count": 39,
   "id": "034411fd",
   "metadata": {},
   "outputs": [
    {
     "name": "stdout",
     "output_type": "stream",
     "text": [
      "{\n",
      "  \"datasetGroupArn\": \"arn:aws:personalize:us-east-2:528038902135:dataset-group/personalize-demo-movielens3\",\n",
      "  \"ResponseMetadata\": {\n",
      "    \"RequestId\": \"a455f130-c541-491e-84a1-f1c1e5a4792e\",\n",
      "    \"HTTPStatusCode\": 200,\n",
      "    \"HTTPHeaders\": {\n",
      "      \"content-type\": \"application/x-amz-json-1.1\",\n",
      "      \"date\": \"Fri, 04 Mar 2022 11:03:01 GMT\",\n",
      "      \"x-amzn-requestid\": \"a455f130-c541-491e-84a1-f1c1e5a4792e\",\n",
      "      \"content-length\": \"106\",\n",
      "      \"connection\": \"keep-alive\"\n",
      "    },\n",
      "    \"RetryAttempts\": 0\n",
      "  }\n",
      "}\n"
     ]
    }
   ],
   "source": [
    "# Configure the SDK to Personalize:\n",
    "personalize = boto3.client('personalize')\n",
    "personalize_runtime = boto3.client('personalize-runtime')\n",
    "\n",
    "create_dataset_group_response = personalize.create_dataset_group(\n",
    "    name = \"personalize-demo-movielens3\"\n",
    ")\n",
    "\n",
    "dataset_group_arn = create_dataset_group_response['datasetGroupArn']\n",
    "print(json.dumps(create_dataset_group_response, indent=2))"
   ]
  },
  {
   "cell_type": "markdown",
   "id": "12ef51ff",
   "metadata": {},
   "source": [
    "Antes de poder utilizar el grupo de conjuntos de datos, éste debe estar activo. Ejecute el siguiente bloque de código y espere a que la salida imprima un estado ACTIVO.\n",
    "\n",
    "**Nota**: El estado del grupo de datos se comprueba cada segundo, hasta un máximo de 3 horas."
   ]
  },
  {
   "cell_type": "code",
   "execution_count": 40,
   "id": "410ce6d0",
   "metadata": {},
   "outputs": [
    {
     "name": "stdout",
     "output_type": "stream",
     "text": [
      "DatasetGroup: CREATE PENDING\n",
      "DatasetGroup: ACTIVE\n",
      "CPU times: user 10.8 ms, sys: 0 ns, total: 10.8 ms\n",
      "Wall time: 1min\n"
     ]
    }
   ],
   "source": [
    "%%time\n",
    "max_time = time.time() + 3*60*60 # 3 hours\n",
    "while time.time() < max_time:\n",
    "    describe_dataset_group_response = personalize.describe_dataset_group(\n",
    "        datasetGroupArn = dataset_group_arn\n",
    "    )\n",
    "    status = describe_dataset_group_response[\"datasetGroup\"][\"status\"]\n",
    "    print(\"DatasetGroup: {}\".format(status))\n",
    "    \n",
    "    if status == \"ACTIVE\" or status == \"CREATE FAILED\":\n",
    "        break\n",
    "        \n",
    "    time.sleep(60)"
   ]
  },
  {
   "cell_type": "markdown",
   "id": "b30e54c8",
   "metadata": {},
   "source": [
    "### Crear el esquema y el conjunto de datos\n",
    "\n",
    "Amazon Personalize necesita un esquema para entender sus datos. El siguiente bloque de código crea el esquema apropiado para el conjunto de datos MovieLens y lo proporciona a Personalize. Este bloque de código también crea el conjunto de datos de interacciones dentro del grupo de conjuntos de datos. Personalize utiliza este conjunto de datos para entrenar el modelo de recomendación."
   ]
  },
  {
   "cell_type": "code",
   "execution_count": 42,
   "id": "84e3da6f",
   "metadata": {},
   "outputs": [
    {
     "name": "stdout",
     "output_type": "stream",
     "text": [
      "{\n",
      "  \"schemaArn\": \"arn:aws:personalize:us-east-2:528038902135:schema/personalize-demo-movielens-interactions_3\",\n",
      "  \"ResponseMetadata\": {\n",
      "    \"RequestId\": \"fa39195f-982f-46e8-9242-d05a0b397b90\",\n",
      "    \"HTTPStatusCode\": 200,\n",
      "    \"HTTPHeaders\": {\n",
      "      \"content-type\": \"application/x-amz-json-1.1\",\n",
      "      \"date\": \"Fri, 04 Mar 2022 11:04:41 GMT\",\n",
      "      \"x-amzn-requestid\": \"fa39195f-982f-46e8-9242-d05a0b397b90\",\n",
      "      \"content-length\": \"107\",\n",
      "      \"connection\": \"keep-alive\"\n",
      "    },\n",
      "    \"RetryAttempts\": 0\n",
      "  }\n",
      "}\n",
      "{\n",
      "  \"datasetArn\": \"arn:aws:personalize:us-east-2:528038902135:dataset/personalize-demo-movielens3/INTERACTIONS\",\n",
      "  \"ResponseMetadata\": {\n",
      "    \"RequestId\": \"250ff8d8-485b-4fcf-b9c1-d91b4a384b50\",\n",
      "    \"HTTPStatusCode\": 200,\n",
      "    \"HTTPHeaders\": {\n",
      "      \"content-type\": \"application/x-amz-json-1.1\",\n",
      "      \"date\": \"Fri, 04 Mar 2022 11:04:42 GMT\",\n",
      "      \"x-amzn-requestid\": \"250ff8d8-485b-4fcf-b9c1-d91b4a384b50\",\n",
      "      \"content-length\": \"108\",\n",
      "      \"connection\": \"keep-alive\"\n",
      "    },\n",
      "    \"RetryAttempts\": 0\n",
      "  }\n",
      "}\n"
     ]
    }
   ],
   "source": [
    "interactions_schema = {\n",
    "    \"type\": \"record\",\n",
    "    \"name\": \"Interactions\",\n",
    "    \"namespace\": \"com.amazonaws.personalize.schema\",\n",
    "    \"fields\": [\n",
    "        {\n",
    "            \"name\": \"USER_ID\",\n",
    "            \"type\": \"string\"\n",
    "        },\n",
    "        {\n",
    "            \"name\": \"ITEM_ID\",\n",
    "            \"type\": \"string\"\n",
    "        },\n",
    "        {\n",
    "            \"name\": \"EVENT_TYPE\",\n",
    "            \"type\": \"string\"\n",
    "        },\n",
    "        {\n",
    "            \"name\": \"TIMESTAMP\",\n",
    "            \"type\": \"long\"\n",
    "        }\n",
    "    ],\n",
    "    \"version\": \"1.0\"\n",
    "}\n",
    "\n",
    "create_schema_response = personalize.create_schema(\n",
    "    name = \"personalize-demo-movielens-interactions_3\",\n",
    "    schema = json.dumps(interactions_schema)\n",
    ")\n",
    "\n",
    "interaction_schema_arn = create_schema_response['schemaArn']\n",
    "print(json.dumps(create_schema_response, indent=2))\n",
    "\n",
    "dataset_type = \"INTERACTIONS\"\n",
    "create_dataset_response = personalize.create_dataset(\n",
    "    name = \"personalize-demo-movielens-ints\",\n",
    "    datasetType = dataset_type,\n",
    "    datasetGroupArn = dataset_group_arn,\n",
    "    schemaArn = interaction_schema_arn\n",
    ")\n",
    "\n",
    "interactions_dataset_arn = create_dataset_response['datasetArn']\n",
    "print(json.dumps(create_dataset_response, indent=2))"
   ]
  },
  {
   "cell_type": "markdown",
   "id": "0cd4d69d",
   "metadata": {},
   "source": [
    "### Configura tu bucket de Amazon S3 e importa los datos"
   ]
  },
  {
   "cell_type": "code",
   "execution_count": 45,
   "id": "aa15a9d1",
   "metadata": {},
   "outputs": [
    {
     "name": "stdout",
     "output_type": "stream",
     "text": [
      "528038902135-us-east-2-personalizedemoml\n"
     ]
    }
   ],
   "source": [
    "# Este script crea un bucket de Amazon S3 con un \n",
    "# nombre [id de cuenta]-[región]-personalizedemoml.\n",
    "\n",
    "session = boto3.session.Session()\n",
    "region = session.region_name\n",
    "s3 = boto3.client('s3')\n",
    "account_id = boto3.client('sts').get_caller_identity().get('Account')\n",
    "bucket_name = account_id + \"-\" + region + \"-\" + \"personalizedemoml\"\n",
    "print(bucket_name)\n",
    "if region == \"us-east-1\":\n",
    "    s3.create_bucket(Bucket=bucket_name)\n",
    "else:\n",
    "    s3.create_bucket(\n",
    "        Bucket=bucket_name,\n",
    "        CreateBucketConfiguration={'LocationConstraint': region}\n",
    "        )"
   ]
  },
  {
   "cell_type": "code",
   "execution_count": 46,
   "id": "ac084849",
   "metadata": {},
   "outputs": [],
   "source": [
    "# A continuación, cargue los datos.\n",
    "interactions_file_path = data_dir + \"/\" + interactions_filename\n",
    "boto3.Session().resource('s3').Bucket(bucket_name).Object(interactions_filename).upload_file(interactions_file_path)\n",
    "interactions_s3DataPath = \"s3://\"+bucket_name+\"/\"+interactions_filename"
   ]
  },
  {
   "cell_type": "markdown",
   "id": "0568993a",
   "metadata": {},
   "source": [
    "#### Configurar la política del bucket de S3\n",
    "\n",
    "En este paso, se configura la política del bucket de Amazon S3 para que Amazon Personalize pueda leer el contenido de su bucket de S3. Ejecuta el siguiente bloque de código para crear y adjuntar la política adecuada."
   ]
  },
  {
   "cell_type": "code",
   "execution_count": 47,
   "id": "d586432e",
   "metadata": {},
   "outputs": [
    {
     "data": {
      "text/plain": [
       "{'ResponseMetadata': {'RequestId': 'QJ5W9T98ZWY1NV7W',\n",
       "  'HostId': 'lIgqM9EZnQRdut9L3gayIVPTaF2cE51UsV/q6ziEr5z5pGXwGeXkopYpQoxhw5tL2v+QGP6mhtk=',\n",
       "  'HTTPStatusCode': 204,\n",
       "  'HTTPHeaders': {'x-amz-id-2': 'lIgqM9EZnQRdut9L3gayIVPTaF2cE51UsV/q6ziEr5z5pGXwGeXkopYpQoxhw5tL2v+QGP6mhtk=',\n",
       "   'x-amz-request-id': 'QJ5W9T98ZWY1NV7W',\n",
       "   'date': 'Fri, 04 Mar 2022 11:06:30 GMT',\n",
       "   'server': 'AmazonS3'},\n",
       "  'RetryAttempts': 0}}"
      ]
     },
     "execution_count": 47,
     "metadata": {},
     "output_type": "execute_result"
    }
   ],
   "source": [
    "policy = {\n",
    "    \"Version\": \"2012-10-17\",\n",
    "    \"Id\": \"PersonalizeS3BucketAccessPolicy\",\n",
    "    \"Statement\": [\n",
    "        {\n",
    "            \"Sid\": \"PersonalizeS3BucketAccessPolicy\",\n",
    "            \"Effect\": \"Allow\",\n",
    "            \"Principal\": {\n",
    "                \"Service\": \"personalize.amazonaws.com\"\n",
    "            },\n",
    "            \"Action\": [\n",
    "                \"s3:*Object\",\n",
    "                \"s3:ListBucket\"\n",
    "            ],\n",
    "            \"Resource\": [\n",
    "                \"arn:aws:s3:::{}\".format(bucket_name),\n",
    "                \"arn:aws:s3:::{}/*\".format(bucket_name)\n",
    "            ]\n",
    "        }\n",
    "    ]\n",
    "}\n",
    "\n",
    "s3.put_bucket_policy(Bucket=bucket_name, Policy=json.dumps(policy))"
   ]
  },
  {
   "cell_type": "code",
   "execution_count": 49,
   "id": "7d069b4f",
   "metadata": {},
   "outputs": [
    {
     "name": "stdout",
     "output_type": "stream",
     "text": [
      "arn:aws:iam::528038902135:role/PersonalizeRolePOC3\n"
     ]
    }
   ],
   "source": [
    "iam = boto3.client(\"iam\")\n",
    "\n",
    "role_name = \"PersonalizeRolePOC3\"\n",
    "assume_role_policy_document = {\n",
    "    \"Version\": \"2012-10-17\",\n",
    "    \"Statement\": [\n",
    "        {\n",
    "          \"Effect\": \"Allow\",\n",
    "          \"Principal\": {\n",
    "            \"Service\": \"personalize.amazonaws.com\"\n",
    "          },\n",
    "          \"Action\": \"sts:AssumeRole\"\n",
    "        }\n",
    "    ]\n",
    "}\n",
    "\n",
    "create_role_response = iam.create_role(\n",
    "    RoleName = role_name,\n",
    "    AssumeRolePolicyDocument = json.dumps(assume_role_policy_document)\n",
    ")\n",
    "\n",
    "# AmazonPersonalizeFullAccess provides access to any S3 bucket with a name that includes \"personalize\" or \"Personalize\" \n",
    "# if you would like to use a bucket with a different name, please consider creating and attaching a new policy\n",
    "# that provides read access to your bucket or attaching the AmazonS3ReadOnlyAccess policy to the role\n",
    "policy_arn = \"arn:aws:iam::aws:policy/service-role/AmazonPersonalizeFullAccess\"\n",
    "iam.attach_role_policy(\n",
    "    RoleName = role_name,\n",
    "    PolicyArn = policy_arn\n",
    ")\n",
    "\n",
    "# Now add S3 support\n",
    "iam.attach_role_policy(\n",
    "    PolicyArn='arn:aws:iam::aws:policy/AmazonS3FullAccess',\n",
    "    RoleName=role_name\n",
    ")\n",
    "time.sleep(60) # wait for a minute to allow IAM role policy attachment to propagate\n",
    "\n",
    "role_arn = create_role_response[\"Role\"][\"Arn\"]\n",
    "print(role_arn)"
   ]
  },
  {
   "cell_type": "markdown",
   "id": "788cb15d",
   "metadata": {},
   "source": [
    "### Importar el conjunto de datos a Amazon Personalize\n",
    "\n",
    "Recuerde que creó el grupo de conjuntos de datos y el conjunto de datos en el paso 2. Ahora, puede crear el trabajo de importación que carga los datos de Amazon S3 en Amazon Personalize para utilizarlos en su modelo."
   ]
  },
  {
   "cell_type": "code",
   "execution_count": 50,
   "id": "081390ac",
   "metadata": {},
   "outputs": [
    {
     "name": "stdout",
     "output_type": "stream",
     "text": [
      "{\n",
      "  \"datasetImportJobArn\": \"arn:aws:personalize:us-east-2:528038902135:dataset-import-job/personalize-demo-import1\",\n",
      "  \"ResponseMetadata\": {\n",
      "    \"RequestId\": \"26202ced-9390-47be-8cf6-f6ee9c5abcdc\",\n",
      "    \"HTTPStatusCode\": 200,\n",
      "    \"HTTPHeaders\": {\n",
      "      \"content-type\": \"application/x-amz-json-1.1\",\n",
      "      \"date\": \"Fri, 04 Mar 2022 11:07:48 GMT\",\n",
      "      \"x-amzn-requestid\": \"26202ced-9390-47be-8cf6-f6ee9c5abcdc\",\n",
      "      \"content-length\": \"112\",\n",
      "      \"connection\": \"keep-alive\"\n",
      "    },\n",
      "    \"RetryAttempts\": 0\n",
      "  }\n",
      "}\n"
     ]
    }
   ],
   "source": [
    "create_dataset_import_job_response = personalize.create_dataset_import_job(\n",
    "    jobName = \"personalize-demo-import1\",\n",
    "    datasetArn = interactions_dataset_arn,\n",
    "    dataSource = {\n",
    "        \"dataLocation\": \"s3://{}/{}\".format(bucket_name, interactions_filename)\n",
    "    },\n",
    "    roleArn = role_arn\n",
    ")\n",
    "\n",
    "dataset_import_job_arn = create_dataset_import_job_response['datasetImportJobArn']\n",
    "print(json.dumps(create_dataset_import_job_response, indent=2))"
   ]
  },
  {
   "cell_type": "code",
   "execution_count": 51,
   "id": "1cbebb5f",
   "metadata": {},
   "outputs": [
    {
     "name": "stdout",
     "output_type": "stream",
     "text": [
      "DatasetImportJob: CREATE IN_PROGRESS\n",
      "DatasetImportJob: CREATE IN_PROGRESS\n",
      "DatasetImportJob: CREATE IN_PROGRESS\n",
      "DatasetImportJob: ACTIVE\n",
      "CPU times: user 20.8 ms, sys: 2.34 ms, total: 23.1 ms\n",
      "Wall time: 3min\n"
     ]
    }
   ],
   "source": [
    "%%time\n",
    "max_time = time.time() + 6*60*60 # 6 hours\n",
    "while time.time() < max_time:\n",
    "    describe_dataset_import_job_response = personalize.describe_dataset_import_job(\n",
    "        datasetImportJobArn = dataset_import_job_arn\n",
    "    )\n",
    "    status = describe_dataset_import_job_response[\"datasetImportJob\"]['status']\n",
    "    print(\"DatasetImportJob: {}\".format(status))\n",
    "    \n",
    "    if status == \"ACTIVE\" or status == \"CREATE FAILED\":\n",
    "        break\n",
    "        \n",
    "    time.sleep(60)"
   ]
  },
  {
   "cell_type": "markdown",
   "id": "89d5e3c4",
   "metadata": {},
   "source": [
    "La salida informa del estado del trabajo cada minuto. Espere a que el estado de DatasetImportJob muestre ACTIVE en su cuaderno. Este paso tarda entre 10 y 15 minutos."
   ]
  },
  {
   "cell_type": "markdown",
   "id": "e5478b9c",
   "metadata": {},
   "source": [
    "### Crear y evaluar una solución\n",
    "\n",
    "En este módulo, se crea una solución de Amazon Personalize. Una solución se refiere a la combinación de una fórmula de Amazon Personalize, parámetros personalizados y una o más versiones de la solución (modelos entrenados). Una vez creada una solución con una versión de solución, puede crear una campaña para desplegar la versión de solución y obtener recomendaciones. Para crear una solución en Amazon Personalize, debes hacer lo siguiente:\n",
    "\n",
    "* *Elegir una fórmula* - Una fórmula es un término de Amazon Personalize que especifica un algoritmo apropiado para entrenar para un caso de uso determinado. Para obtener más detalles, consulte [cómo elegir una fórmula](https://docs.aws.amazon.com/personalize/latest/dg/working-with-predefined-recipes.html).\n",
    "\n",
    "* *Configurar una solución* - Personalice los parámetros de la solución y los hiperparámetros específicos de la receta para que el modelo satisfaga sus necesidades empresariales específicas. Para más detalles, vea Configurar una solución.\n",
    "\n",
    "* *Crear una versión de la solución (entrenar un modelo)* - Entrenar el modelo de aprendizaje automático que Amazon Personalize utilizará para generar recomendaciones para sus clientes. Para obtener más detalles, consulte Creación de una versión de la solución.\n",
    "\n",
    "* *Evaluar la versión de la solución* - Utilice las métricas que Amazon Personalize genera a partir de la nueva versión de la solución para evaluar el rendimiento del modelo. Para obtener más detalles, consulte Evaluación de la versión de la solución.\n",
    "\n",
    "Amazon Personalize proporciona tres tipos de fórmulas, pero en este tutorial sólo se utilizará la fórmula *User_Personalization*.\n",
    " \n",
    "La fórmula User-Personalization (aws-user-personalization) está optimizada para todos los escenarios de recomendación de *User_Personalization*. Al recomendar artículos, esta fórmula utiliza la exploración automática de artículos.\n",
    " \n",
    "Con la exploración automática, Amazon Personalize prueba automáticamente diferentes recomendaciones de artículos, aprende de la forma en que los usuarios interactúan con estos artículos recomendados y potencia las recomendaciones de artículos que impulsan un mejor compromiso y conversión. Esto mejora el descubrimiento de artículos y el compromiso cuando los datos de interacción se actualizan con frecuencia y hay nuevos usuarios y nuevos artículos.\n",
    "Se puede equilibrar cuánto explorar (donde los artículos con menos datos de interacciones o relevancia se recomiendan con más frecuencia) frente a cuánto explotar (donde las recomendaciones se basan en lo que conocemos o en la relevancia). Amazon Personalize ajusta automáticamente las recomendaciones futuras basándose en los comentarios implícitos de los usuarios."
   ]
  },
  {
   "cell_type": "code",
   "execution_count": 52,
   "id": "aa42933f",
   "metadata": {},
   "outputs": [],
   "source": [
    "# aws-user-personalization selected for demo purposes\n",
    "recipe_arn = \"arn:aws:personalize:::recipe/aws-user-personalization\""
   ]
  },
  {
   "cell_type": "markdown",
   "id": "2901fa0f",
   "metadata": {},
   "source": [
    "En este paso, se crea la solución (modelo) y se configura para el entrenamiento del modelo. La configuración de la solución le permite personalizar los parámetros de la solución y los hiperparámetros específicos de la fórmula para que el modelo satisfaga sus necesidades empresariales específicas."
   ]
  },
  {
   "cell_type": "code",
   "execution_count": 53,
   "id": "c6b42249",
   "metadata": {},
   "outputs": [
    {
     "name": "stdout",
     "output_type": "stream",
     "text": [
      "{\n",
      "  \"solutionArn\": \"arn:aws:personalize:us-east-2:528038902135:solution/personalize-demo-soln-user-personalization\",\n",
      "  \"ResponseMetadata\": {\n",
      "    \"RequestId\": \"825fee24-12e8-4ad7-b7eb-422360b6f7c0\",\n",
      "    \"HTTPStatusCode\": 200,\n",
      "    \"HTTPHeaders\": {\n",
      "      \"content-type\": \"application/x-amz-json-1.1\",\n",
      "      \"date\": \"Fri, 04 Mar 2022 11:21:14 GMT\",\n",
      "      \"x-amzn-requestid\": \"825fee24-12e8-4ad7-b7eb-422360b6f7c0\",\n",
      "      \"content-length\": \"112\",\n",
      "      \"connection\": \"keep-alive\"\n",
      "    },\n",
      "    \"RetryAttempts\": 0\n",
      "  }\n",
      "}\n"
     ]
    }
   ],
   "source": [
    "create_solution_response = personalize.create_solution(\n",
    "    name = \"personalize-demo-soln-user-personalization\",\n",
    "    datasetGroupArn = dataset_group_arn,\n",
    "    recipeArn = recipe_arn\n",
    ")\n",
    "\n",
    "solution_arn = create_solution_response['solutionArn']\n",
    "print(json.dumps(create_solution_response, indent=2))"
   ]
  },
  {
   "cell_type": "markdown",
   "id": "46010c13",
   "metadata": {},
   "source": [
    "#### Crear una versión de la solución (entrenar un modelo)\n",
    "\n",
    "En el codigo anterior definiste una solución (modelo), ahora puedes entrenar el modelo. En Amazon Personalize, el entrenamiento del modelo se denomina creación de una versión de la solución. Puede pensar en cada versión como un modelo entrenado utilizando los conjuntos de datos actuales."
   ]
  },
  {
   "cell_type": "code",
   "execution_count": 54,
   "id": "2846b73a",
   "metadata": {},
   "outputs": [
    {
     "name": "stdout",
     "output_type": "stream",
     "text": [
      "{\n",
      "  \"solutionVersionArn\": \"arn:aws:personalize:us-east-2:528038902135:solution/personalize-demo-soln-user-personalization/8d183d5f\",\n",
      "  \"ResponseMetadata\": {\n",
      "    \"RequestId\": \"67664a4d-b06b-4ef6-95c1-7afb9ae70f05\",\n",
      "    \"HTTPStatusCode\": 200,\n",
      "    \"HTTPHeaders\": {\n",
      "      \"content-type\": \"application/x-amz-json-1.1\",\n",
      "      \"date\": \"Fri, 04 Mar 2022 11:22:47 GMT\",\n",
      "      \"x-amzn-requestid\": \"67664a4d-b06b-4ef6-95c1-7afb9ae70f05\",\n",
      "      \"content-length\": \"128\",\n",
      "      \"connection\": \"keep-alive\"\n",
      "    },\n",
      "    \"RetryAttempts\": 0\n",
      "  }\n",
      "}\n"
     ]
    }
   ],
   "source": [
    "create_solution_version_response = personalize.create_solution_version(\n",
    "    solutionArn = solution_arn\n",
    ")\n",
    "\n",
    "solution_version_arn = create_solution_version_response['solutionVersionArn']\n",
    "print(json.dumps(create_solution_version_response, indent=2))"
   ]
  },
  {
   "cell_type": "markdown",
   "id": "0441577c",
   "metadata": {},
   "source": [
    "Para entrenar el modelo, ejecute el siguiente bloque de código y espere a que la versión de la solución imprima un estado ACTIVO. **Este paso tarda aproximadamente 40-50 minutos.**"
   ]
  },
  {
   "cell_type": "code",
   "execution_count": 55,
   "id": "57644a87",
   "metadata": {},
   "outputs": [
    {
     "name": "stdout",
     "output_type": "stream",
     "text": [
      "SolutionVersion: CREATE IN_PROGRESS\n",
      "SolutionVersion: CREATE IN_PROGRESS\n",
      "SolutionVersion: CREATE IN_PROGRESS\n",
      "SolutionVersion: CREATE IN_PROGRESS\n",
      "SolutionVersion: CREATE IN_PROGRESS\n",
      "SolutionVersion: CREATE IN_PROGRESS\n",
      "SolutionVersion: CREATE IN_PROGRESS\n",
      "SolutionVersion: CREATE IN_PROGRESS\n",
      "SolutionVersion: CREATE IN_PROGRESS\n",
      "SolutionVersion: CREATE IN_PROGRESS\n",
      "SolutionVersion: CREATE IN_PROGRESS\n",
      "SolutionVersion: CREATE IN_PROGRESS\n",
      "SolutionVersion: CREATE IN_PROGRESS\n",
      "SolutionVersion: CREATE IN_PROGRESS\n",
      "SolutionVersion: CREATE IN_PROGRESS\n",
      "SolutionVersion: CREATE IN_PROGRESS\n",
      "SolutionVersion: CREATE IN_PROGRESS\n",
      "SolutionVersion: CREATE IN_PROGRESS\n",
      "SolutionVersion: CREATE IN_PROGRESS\n",
      "SolutionVersion: CREATE IN_PROGRESS\n",
      "SolutionVersion: CREATE IN_PROGRESS\n",
      "SolutionVersion: ACTIVE\n",
      "CPU times: user 133 ms, sys: 9.64 ms, total: 142 ms\n",
      "Wall time: 21min 1s\n"
     ]
    }
   ],
   "source": [
    "%%time\n",
    "max_time = time.time() + 3*60*60 # 3 hours\n",
    "while time.time() < max_time:\n",
    "    describe_solution_version_response = personalize.describe_solution_version(\n",
    "        solutionVersionArn = solution_version_arn\n",
    "    )\n",
    "    status = describe_solution_version_response[\"solutionVersion\"][\"status\"]\n",
    "    print(\"SolutionVersion: {}\".format(status))\n",
    "    \n",
    "    if status == \"ACTIVE\" or status == \"CREATE FAILED\":\n",
    "        break\n",
    "        \n",
    "    time.sleep(60)"
   ]
  },
  {
   "cell_type": "markdown",
   "id": "7c651cae",
   "metadata": {},
   "source": [
    "### Evaluar la versión de la solución\n",
    "\n",
    "Cuando crea una versión de la solución, Amazon Personalize genera métricas que puede utilizar para evaluar el rendimiento del modelo antes de crear una campaña y proporcionar recomendaciones. Las métricas le permiten ver los efectos de la modificación de los hiperparámetros de una solución. También puede utilizar las métricas para comparar los resultados entre soluciones que utilizan los mismos datos de entrenamiento pero que se crearon con diferentes fórmulas.\n",
    "\n",
    "Amazon Personalize proporciona las siguientes métricas. Para cada métrica, los números más altos son mejores que los números más bajos.\n",
    "\n",
    "* *coverage* - la proporción de artículos únicos recomendados de todas las consultas sobre el número total de artículos únicos en los conjuntos de datos de interacciones y artículos.\n",
    "\n",
    "\n",
    "* *mean_reciprocal_rank_at_K* - la media de los rangos recíprocos de la primera recomendación relevante de las K principales recomendaciones sobre todas las consultas. Esta métrica es apropiada si está interesado en la única recomendación mejor clasificada.\n",
    "\n",
    "\n",
    "* *normalized_discounted_cumulative_gain_at_K* - la ganancia descontada supone que las recomendaciones más bajas de una lista de recomendaciones son menos relevantes que las recomendaciones más altas. Por lo tanto, cada recomendación se descuenta (se le da un menor peso) por un factor que depende de su posición. Para obtener la ganancia acumulada descontada (DCG) en K, se suman todas las recomendaciones relevantes descontadas en las K primeras recomendaciones. La ganancia acumulativa descontada normalizada (NDCG) es la DCG dividida por la DCG ideal, de forma que la NDCG está entre 0 y 1. (La DCG ideal es aquella en la que las K primeras recomendaciones están ordenadas por relevancia). Amazon Personalize utiliza un factor de ponderación de 1/log(1 + posición), donde la parte superior de la lista es la posición 1. Esta métrica premia los artículos relevantes que aparecen cerca de la parte superior de la lista, porque la parte superior de una lista suele llamar más la atención.\n",
    "\n",
    "\n",
    "* *precision_at_K* - El número de recomendaciones relevantes de las K primeras recomendaciones dividido por K. Esta métrica premia la recomendación precisa de los elementos relevantes.\n",
    "Para obtener más información sobre estas métricas, consulte Evaluación de una versión de la solución\n"
   ]
  },
  {
   "cell_type": "code",
   "execution_count": 57,
   "id": "577cd677",
   "metadata": {},
   "outputs": [
    {
     "name": "stdout",
     "output_type": "stream",
     "text": [
      "{\n",
      "  \"solutionVersionArn\": \"arn:aws:personalize:us-east-2:528038902135:solution/personalize-demo-soln-user-personalization/8d183d5f\",\n",
      "  \"metrics\": {\n",
      "    \"coverage\": 0.0768,\n",
      "    \"mean_reciprocal_rank_at_25\": 0.3324,\n",
      "    \"normalized_discounted_cumulative_gain_at_10\": 0.3331,\n",
      "    \"normalized_discounted_cumulative_gain_at_25\": 0.3629,\n",
      "    \"normalized_discounted_cumulative_gain_at_5\": 0.319,\n",
      "    \"precision_at_10\": 0.05,\n",
      "    \"precision_at_25\": 0.0286,\n",
      "    \"precision_at_5\": 0.0857\n",
      "  },\n",
      "  \"ResponseMetadata\": {\n",
      "    \"RequestId\": \"29756f46-4b06-4bd7-8cdb-854f801988fb\",\n",
      "    \"HTTPStatusCode\": 200,\n",
      "    \"HTTPHeaders\": {\n",
      "      \"content-type\": \"application/x-amz-json-1.1\",\n",
      "      \"date\": \"Fri, 04 Mar 2022 11:45:24 GMT\",\n",
      "      \"x-amzn-requestid\": \"29756f46-4b06-4bd7-8cdb-854f801988fb\",\n",
      "      \"content-length\": \"423\",\n",
      "      \"connection\": \"keep-alive\"\n",
      "    },\n",
      "    \"RetryAttempts\": 0\n",
      "  }\n",
      "}\n"
     ]
    }
   ],
   "source": [
    "get_solution_metrics_response = personalize.get_solution_metrics(\n",
    "    solutionVersionArn = solution_version_arn\n",
    ")\n",
    "\n",
    "print(json.dumps(get_solution_metrics_response, indent=2))"
   ]
  },
  {
   "cell_type": "markdown",
   "id": "167c2553",
   "metadata": {},
   "source": [
    "La ganancia acumulada descontada normalizada anterior indica que, con 5 artículos, hay un 31% de posibilidades de que una recomendación forme parte de la interacción de un usuario. Alrededor del 7% de los elementos recomendados son únicos, y hay una precisión de alrededor del 8,5% en los 5 elementos más recomendados.\n",
    "\n",
    "Hay que tener en cuenta que este modelo utiliza datos de calificación para las interacciones porque MovieLens es un conjunto de datos explícito basado en calificaciones. Las marcas de tiempo también son del momento en que se calificó la película, no del momento en que se vio, por lo que el orden no es el mismo que el orden en que un espectador vería las películas. "
   ]
  },
  {
   "cell_type": "markdown",
   "id": "34ae6a5d",
   "metadata": {},
   "source": [
    "### Crear una campaña y obtener recomendaciones para los usuarios\n",
    "\n",
    "Una campaña se utiliza para hacer recomendaciones a sus usuarios. En este módulo, usted crea una campaña desplegando su versión de la solución. Para desplegar una versión de la solución, se crea una campaña en la consola o llamando a la API CreateCampaign. Usted elige la versión de la solución que desea utilizar.\n",
    "\n",
    "En los siguientes pasos, se crea la campaña y se espera a que el estado de la campaña se active. A continuación, utiliza su campaña para obtener recomendaciones de títulos de películas en tiempo real para los usuarios desde Amazon Personalize.\n",
    "\n",
    "En este paso, se crea una campaña para la versión de la solución que se ha entrenado utilizando la receta de personalización de usuario. Esta fórmula incluye las opciones explorationWeight y explorationItemAgeCutOff para itemExplorationConfig. Para obtener más información, consulte [personalización del usuario](https://docs.aws.amazon.com/personalize/latest/dg/native-recipe-new-item-USER_PERSONALIZATION.html)."
   ]
  },
  {
   "cell_type": "code",
   "execution_count": 58,
   "id": "07aa86e0",
   "metadata": {},
   "outputs": [
    {
     "name": "stdout",
     "output_type": "stream",
     "text": [
      "{\n",
      "  \"campaignArn\": \"arn:aws:personalize:us-east-2:528038902135:campaign/personalize-demo-camp\",\n",
      "  \"ResponseMetadata\": {\n",
      "    \"RequestId\": \"910c47d7-2a04-44e7-803e-466fe787cc19\",\n",
      "    \"HTTPStatusCode\": 200,\n",
      "    \"HTTPHeaders\": {\n",
      "      \"content-type\": \"application/x-amz-json-1.1\",\n",
      "      \"date\": \"Fri, 04 Mar 2022 11:47:14 GMT\",\n",
      "      \"x-amzn-requestid\": \"910c47d7-2a04-44e7-803e-466fe787cc19\",\n",
      "      \"content-length\": \"91\",\n",
      "      \"connection\": \"keep-alive\"\n",
      "    },\n",
      "    \"RetryAttempts\": 0\n",
      "  }\n",
      "}\n",
      "Campaign: CREATE PENDING\n",
      "Campaign: CREATE IN_PROGRESS\n",
      "Campaign: CREATE IN_PROGRESS\n",
      "Campaign: CREATE IN_PROGRESS\n",
      "Campaign: CREATE IN_PROGRESS\n",
      "Campaign: CREATE IN_PROGRESS\n",
      "Campaign: CREATE IN_PROGRESS\n",
      "Campaign: CREATE IN_PROGRESS\n",
      "Campaign: ACTIVE\n"
     ]
    }
   ],
   "source": [
    "create_campaign_response = personalize.create_campaign(\n",
    "    name = \"personalize-demo-camp\",\n",
    "    solutionVersionArn = solution_version_arn,\n",
    "    minProvisionedTPS = 1,\n",
    "    campaignConfig = {\n",
    "        \"itemExplorationConfig\": {\n",
    "            \"explorationWeight\": \"0.3\",\n",
    "\t\"explorationItemAgeCutOff\": \"30\"\n",
    "        }\n",
    "    }\n",
    ")\n",
    "\n",
    "campaign_arn = create_campaign_response['campaignArn']\n",
    "print(json.dumps(create_campaign_response, indent=2))\n",
    "\n",
    "max_time = time.time() + 3*60*60 # 3 hours\n",
    "while time.time() < max_time:\n",
    "    describe_campaign_response = personalize.describe_campaign(\n",
    "        campaignArn = campaign_arn\n",
    "    )\n",
    "    status = describe_campaign_response[\"campaign\"][\"status\"]\n",
    "    print(\"Campaign: {}\".format(status))\n",
    "    \n",
    "    if status == \"ACTIVE\" or status == \"CREATE FAILED\":\n",
    "        break\n",
    "        \n",
    "    time.sleep(60)"
   ]
  },
  {
   "cell_type": "markdown",
   "id": "a9b56290",
   "metadata": {},
   "source": [
    "Espere a que el estado de la campaña se muestre como ACTIVO. Este paso puede tardar entre 10 y 15 minutos."
   ]
  },
  {
   "cell_type": "markdown",
   "id": "05c2b1b7",
   "metadata": {},
   "source": [
    "En el siguient codigo se utiliza una muestra, user_id aleatorio y se obtiene la recomendación para ese user_id. Tenga en cuenta que puede ver un resultado diferente porque esta recomendación es para un usuario aleatorio."
   ]
  },
  {
   "cell_type": "code",
   "execution_count": 65,
   "id": "65a72596",
   "metadata": {},
   "outputs": [
    {
     "name": "stdout",
     "output_type": "stream",
     "text": [
      "Recommendations for user:  380\n"
     ]
    },
    {
     "data": {
      "text/html": [
       "<div>\n",
       "<style scoped>\n",
       "    .dataframe tbody tr th:only-of-type {\n",
       "        vertical-align: middle;\n",
       "    }\n",
       "\n",
       "    .dataframe tbody tr th {\n",
       "        vertical-align: top;\n",
       "    }\n",
       "\n",
       "    .dataframe thead th {\n",
       "        text-align: right;\n",
       "    }\n",
       "</style>\n",
       "<table border=\"1\" class=\"dataframe\">\n",
       "  <thead>\n",
       "    <tr style=\"text-align: right;\">\n",
       "      <th></th>\n",
       "      <th>OriginalRecs</th>\n",
       "    </tr>\n",
       "  </thead>\n",
       "  <tbody>\n",
       "    <tr>\n",
       "      <th>0</th>\n",
       "      <td>Avengers: Age of Ultron (2015)</td>\n",
       "    </tr>\n",
       "    <tr>\n",
       "      <th>1</th>\n",
       "      <td>The Hunger Games: Mockingjay - Part 2 (2015)</td>\n",
       "    </tr>\n",
       "    <tr>\n",
       "      <th>2</th>\n",
       "      <td>Minions (2015)</td>\n",
       "    </tr>\n",
       "    <tr>\n",
       "      <th>3</th>\n",
       "      <td>Elysium (2013)</td>\n",
       "    </tr>\n",
       "    <tr>\n",
       "      <th>4</th>\n",
       "      <td>Boyhood (2014)</td>\n",
       "    </tr>\n",
       "  </tbody>\n",
       "</table>\n",
       "</div>"
      ],
      "text/plain": [
       "                                   OriginalRecs\n",
       "0                Avengers: Age of Ultron (2015)\n",
       "1  The Hunger Games: Mockingjay - Part 2 (2015)\n",
       "2                                Minions (2015)\n",
       "3                                Elysium (2013)\n",
       "4                                Boyhood (2014)"
      ]
     },
     "execution_count": 65,
     "metadata": {},
     "output_type": "execute_result"
    }
   ],
   "source": [
    "# Build a map to convert a movie id to the movie title\n",
    "movies = pd.read_csv(dataset_dir + '/movies.csv', usecols=[0,1])\n",
    "movies['movieId'] = movies['movieId'].astype(str)\n",
    "movie_map = dict(movies.values)\n",
    "\n",
    "# Getting a random user:\n",
    "user_id, item_id = interactions_df[['USER_ID', 'ITEM_ID']].sample().values[0]\n",
    "\n",
    "get_recommendations_response = personalize_runtime.get_recommendations(\n",
    "    campaignArn = campaign_arn,\n",
    "    userId = str(user_id),\n",
    ")\n",
    "# Update DF rendering\n",
    "pd.set_option('display.max_rows', 30)\n",
    "\n",
    "print(\"Recommendations for user: \", user_id)\n",
    "\n",
    "item_list = get_recommendations_response['itemList']\n",
    "\n",
    "recommendation_list = []\n",
    "\n",
    "for item in item_list:\n",
    "    title = movie_map[item['itemId']]\n",
    "    recommendation_list.append(title)\n",
    "    \n",
    "recommendations_df = pd.DataFrame(recommendation_list, columns = ['OriginalRecs'])\n",
    "recommendations_df.head()"
   ]
  },
  {
   "cell_type": "markdown",
   "id": "9ccef5d0",
   "metadata": {},
   "source": [
    "En este ejemplo, puede ver las principales recomendaciones de títulos de películas para este usuario. Estas son las películas que el modelo cree que le gustarán al usuario basándose en los datos de interacción de los usuarios.\n",
    "\n",
    "Genial. Has generado recomendaciones de títulos de películas en tiempo real para un usuario."
   ]
  },
  {
   "cell_type": "markdown",
   "id": "225fd999",
   "metadata": {},
   "source": [
    "### Limpieza y próximos pasos\n",
    "\n",
    "#### Eliminar los recursos de Amazon Personalize"
   ]
  },
  {
   "cell_type": "code",
   "execution_count": null,
   "id": "1adb75ca",
   "metadata": {},
   "outputs": [],
   "source": [
    "# Delete the campaign\n",
    "personalize.delete_campaign(campaignArn=campaign_arn)\n",
    "time.sleep(300)\n",
    "print(\"delete_campaign done\")\n",
    "# Delete the solution\n",
    "personalize.delete_solution(solutionArn=solution_arn)\n",
    "time.sleep(60)\n",
    "print(\"delete_solution done\")\n",
    "# Delete the interaction dataset\n",
    "personalize.delete_dataset(datasetArn=interactions_dataset_arn)\n",
    "time.sleep(60)\n",
    "print(\"delete_dataset done\")\n",
    "# Delete the schema\n",
    "personalize.delete_schema(schemaArn=interaction_schema_arn)\n",
    "time.sleep(60)\n",
    "print(\"delete_schema done\")\n",
    "# Delete the dataset group\n",
    "personalize.delete_dataset_group(datasetGroupArn = dataset_group_arn)\n",
    "time.sleep(60)\n",
    "print(\"delete_dataset_group done\")"
   ]
  },
  {
   "cell_type": "markdown",
   "id": "4e883359",
   "metadata": {},
   "source": [
    "#### Eliminar el bucket de Amazon S3 y las políticas de IAM"
   ]
  },
  {
   "cell_type": "code",
   "execution_count": null,
   "id": "c621315f",
   "metadata": {},
   "outputs": [],
   "source": [
    "# Empty S3 Bucket\n",
    "boto3.Session().resource('s3').Bucket(bucket_name).Object(interactions_filename).delete()\n",
    "# IAM policies should also be removed\n",
    "iam = boto3.client(\"iam\")\n",
    "iam.detach_role_policy(PolicyArn=\"arn:aws:iam::aws:policy/AmazonS3FullAccess\", RoleName=role_name)\n",
    "iam.detach_role_policy(PolicyArn=\"arn:aws:iam::aws:policy/service-role/AmazonPersonalizeFullAccess\",RoleName=role_name)\n",
    "iam.detach_role_policy(PolicyArn=\"arn:aws:iam::aws:policy/service-role/IAMFullAccess\",RoleName=role_name)\n",
    "iam.delete_role(RoleName=role_name)"
   ]
  },
  {
   "cell_type": "markdown",
   "id": "98cc1d51",
   "metadata": {},
   "source": [
    "A continuación, detenga y elimine su instancia de Amazon SageMaker Notebook.\n",
    "\n",
    "1. Abra la consola de SageMaker.\n",
    "2. En Notebooks, seleccione instancias de Notebook.\n",
    "3. Elija la instancia de notebook que creó para este tutorial y, a continuación, seleccione Acciones, Detener. La instancia de Notebook tarda varios minutos en detenerse. Cuando el estado cambie a Detenido, pase al siguiente paso.\n",
    "4. Seleccione Acciones, y luego Eliminar.\n",
    "5. Seleccione Eliminar."
   ]
  },
  {
   "cell_type": "code",
   "execution_count": null,
   "id": "551116ca",
   "metadata": {},
   "outputs": [],
   "source": []
  }
 ],
 "metadata": {
  "kernelspec": {
   "display_name": "conda_python3",
   "language": "python",
   "name": "conda_python3"
  },
  "language_info": {
   "codemirror_mode": {
    "name": "ipython",
    "version": 3
   },
   "file_extension": ".py",
   "mimetype": "text/x-python",
   "name": "python",
   "nbconvert_exporter": "python",
   "pygments_lexer": "ipython3",
   "version": "3.6.13"
  }
 },
 "nbformat": 4,
 "nbformat_minor": 5
}
