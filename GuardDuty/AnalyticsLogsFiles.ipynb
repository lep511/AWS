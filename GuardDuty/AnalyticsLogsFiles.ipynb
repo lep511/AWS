{
 "cells": [
  {
   "cell_type": "markdown",
   "metadata": {},
   "source": [
    "## Exportación de resultados en S3\n",
    "\n",
    "GuardDuty admite la exportación de hallazgos activos a CloudWatch Events y, opcionalmente, a un bucket de Amazon S3. Los nuevos hallazgos activos que se GuardDuty generen se exportan automáticamente unos 5 minutos después de generarse el hallazgo. Puede establecer la frecuencia con la que las actualizaciones de los hallazgos activos se exportan a CloudWatch Eventos. La frecuencia que seleccione se aplica a la exportación de nuevas apariciones de hallazgos existentes a CloudWatch Events, su bucket de S3 (si está configurado) y Detective (si está integrado). Para obtener más información sobre las actualizaciones de los resultados existentes, consulte Agregación de búsquedas de GuardDuty ."
   ]
  },
  {
   "cell_type": "code",
   "execution_count": 1,
   "metadata": {},
   "outputs": [],
   "source": [
    "import boto3\n",
    "import json\n",
    "from botocore.exceptions import ClientError\n",
    "import pandas as pd\n",
    "import gzip\n",
    "import os"
   ]
  },
  {
   "cell_type": "code",
   "execution_count": 2,
   "metadata": {},
   "outputs": [],
   "source": [
    "# Get the account number\n",
    "account_number = boto3.client('sts').get_caller_identity().get('Account')\n",
    "region = 'us-east-1'\n",
    "# Create the S3 client\n",
    "s3 = boto3.client('s3')\n",
    "bucket = \"guardduty-export-results-09443\"\n",
    "prefix = f\"AWSLogs/{account_number}/GuardDuty/{region}/2024/02/14\""
   ]
  },
  {
   "cell_type": "code",
   "execution_count": 3,
   "metadata": {},
   "outputs": [],
   "source": [
    "response = s3.list_objects_v2(Bucket=bucket, Prefix=prefix)\n",
    "files = response['Contents']"
   ]
  },
  {
   "cell_type": "code",
   "execution_count": null,
   "metadata": {},
   "outputs": [],
   "source": [
    "count = 0\n",
    "# Download all the files\n",
    "for file in files:\n",
    "  key = file['Key'] \n",
    "  if key.endswith('.jsonl.gz'):\n",
    "    count += 1\n",
    "    response = s3.get_object(Bucket=bucket, Key=key)\n",
    "    key_download = key.split('/')[-1]\n",
    "    s3.download_file(bucket, key, \"logs/\" + key_download)\n",
    "print(f\"Downloaded {count} files.\")"
   ]
  },
  {
   "cell_type": "code",
   "execution_count": 5,
   "metadata": {},
   "outputs": [],
   "source": [
    "all_data = []\n",
    "# Unzip all the files and read the contents\n",
    "for file in os.listdir(\"logs/\"):\n",
    "  if file.endswith('.jsonl.gz'):\n",
    "    with gzip.open(\"logs/\" + file, 'rb') as f:\n",
    "      file_content = f.read().decode('utf-8').splitlines()\n",
    "    all_data.append(file_content)"
   ]
  },
  {
   "cell_type": "code",
   "execution_count": 6,
   "metadata": {},
   "outputs": [],
   "source": [
    "df_inter = pd.DataFrame()\n",
    "for data in all_data:\n",
    "  df = pd.DataFrame([json.loads(x) for x in data])\n",
    "  df_inter = pd.concat([df_inter, df])\n",
    "df_inter.sort_values(by='severity', ascending=False, inplace=True)\n",
    "df_inter.reset_index(drop=True, inplace=True)"
   ]
  },
  {
   "cell_type": "code",
   "execution_count": 7,
   "metadata": {},
   "outputs": [
    {
     "data": {
      "text/plain": [
       "Index(['schemaVersion', 'accountId', 'region', 'partition', 'id', 'arn',\n",
       "       'type', 'resource', 'service', 'severity', 'createdAt', 'updatedAt',\n",
       "       'title', 'description'],\n",
       "      dtype='object')"
      ]
     },
     "execution_count": 7,
     "metadata": {},
     "output_type": "execute_result"
    }
   ],
   "source": [
    "df_inter.columns"
   ]
  },
  {
   "cell_type": "code",
   "execution_count": 8,
   "metadata": {},
   "outputs": [
    {
     "data": {
      "text/html": [
       "<div>\n",
       "<style scoped>\n",
       "    .dataframe tbody tr th:only-of-type {\n",
       "        vertical-align: middle;\n",
       "    }\n",
       "\n",
       "    .dataframe tbody tr th {\n",
       "        vertical-align: top;\n",
       "    }\n",
       "\n",
       "    .dataframe thead th {\n",
       "        text-align: right;\n",
       "    }\n",
       "</style>\n",
       "<table border=\"1\" class=\"dataframe\">\n",
       "  <thead>\n",
       "    <tr style=\"text-align: right;\">\n",
       "      <th></th>\n",
       "      <th>schemaVersion</th>\n",
       "      <th>accountId</th>\n",
       "      <th>region</th>\n",
       "      <th>partition</th>\n",
       "      <th>id</th>\n",
       "      <th>arn</th>\n",
       "      <th>type</th>\n",
       "      <th>resource</th>\n",
       "      <th>service</th>\n",
       "      <th>severity</th>\n",
       "      <th>createdAt</th>\n",
       "      <th>updatedAt</th>\n",
       "      <th>title</th>\n",
       "      <th>description</th>\n",
       "    </tr>\n",
       "  </thead>\n",
       "  <tbody>\n",
       "    <tr>\n",
       "      <th>0</th>\n",
       "      <td>2.0</td>\n",
       "      <td>655680117358</td>\n",
       "      <td>us-east-1</td>\n",
       "      <td>aws</td>\n",
       "      <td>fac6d3831a6554da8dbc1231fe2e0e61</td>\n",
       "      <td>arn:aws:guardduty:us-east-1:655680117358:detec...</td>\n",
       "      <td>CryptoCurrency:EC2/BitcoinTool.B!DNS</td>\n",
       "      <td>{'resourceType': 'Instance', 'instanceDetails'...</td>\n",
       "      <td>{'serviceName': 'guardduty', 'detectorId': '8e...</td>\n",
       "      <td>8</td>\n",
       "      <td>2024-02-14T09:50:18.314Z</td>\n",
       "      <td>2024-02-14T12:10:24.763Z</td>\n",
       "      <td>The EC2 instance i-0b5c23d5710ea37d8 queried a...</td>\n",
       "      <td>The EC2 instance i-0b5c23d5710ea37d8 is queryi...</td>\n",
       "    </tr>\n",
       "    <tr>\n",
       "      <th>1</th>\n",
       "      <td>2.0</td>\n",
       "      <td>655680117358</td>\n",
       "      <td>us-east-1</td>\n",
       "      <td>aws</td>\n",
       "      <td>a2c6d3831ac49a7da469202dab2fb336</td>\n",
       "      <td>arn:aws:guardduty:us-east-1:655680117358:detec...</td>\n",
       "      <td>Backdoor:EC2/C&amp;CActivity.B!DNS</td>\n",
       "      <td>{'resourceType': 'Instance', 'instanceDetails'...</td>\n",
       "      <td>{'serviceName': 'guardduty', 'detectorId': '8e...</td>\n",
       "      <td>8</td>\n",
       "      <td>2024-02-14T09:50:18.505Z</td>\n",
       "      <td>2024-02-14T13:55:22.886Z</td>\n",
       "      <td>The EC2 instance i-0b5c23d5710ea37d8 queried a...</td>\n",
       "      <td>The EC2 instance i-0b5c23d5710ea37d8 is queryi...</td>\n",
       "    </tr>\n",
       "    <tr>\n",
       "      <th>2</th>\n",
       "      <td>2.0</td>\n",
       "      <td>655680117358</td>\n",
       "      <td>us-east-1</td>\n",
       "      <td>aws</td>\n",
       "      <td>fac6d3831a6554da8dbc1231fe2e0e61</td>\n",
       "      <td>arn:aws:guardduty:us-east-1:655680117358:detec...</td>\n",
       "      <td>CryptoCurrency:EC2/BitcoinTool.B!DNS</td>\n",
       "      <td>{'resourceType': 'Instance', 'instanceDetails'...</td>\n",
       "      <td>{'serviceName': 'guardduty', 'detectorId': '8e...</td>\n",
       "      <td>8</td>\n",
       "      <td>2024-02-14T09:50:18.314Z</td>\n",
       "      <td>2024-02-14T18:25:25.208Z</td>\n",
       "      <td>The EC2 instance i-0b5c23d5710ea37d8 queried a...</td>\n",
       "      <td>The EC2 instance i-0b5c23d5710ea37d8 is queryi...</td>\n",
       "    </tr>\n",
       "    <tr>\n",
       "      <th>3</th>\n",
       "      <td>2.0</td>\n",
       "      <td>655680117358</td>\n",
       "      <td>us-east-1</td>\n",
       "      <td>aws</td>\n",
       "      <td>a2c6d3831ac49a7da469202dab2fb336</td>\n",
       "      <td>arn:aws:guardduty:us-east-1:655680117358:detec...</td>\n",
       "      <td>Backdoor:EC2/C&amp;CActivity.B!DNS</td>\n",
       "      <td>{'resourceType': 'Instance', 'instanceDetails'...</td>\n",
       "      <td>{'serviceName': 'guardduty', 'detectorId': '8e...</td>\n",
       "      <td>8</td>\n",
       "      <td>2024-02-14T09:50:18.505Z</td>\n",
       "      <td>2024-02-14T12:25:22.717Z</td>\n",
       "      <td>The EC2 instance i-0b5c23d5710ea37d8 queried a...</td>\n",
       "      <td>The EC2 instance i-0b5c23d5710ea37d8 is queryi...</td>\n",
       "    </tr>\n",
       "    <tr>\n",
       "      <th>4</th>\n",
       "      <td>2.0</td>\n",
       "      <td>655680117358</td>\n",
       "      <td>us-east-1</td>\n",
       "      <td>aws</td>\n",
       "      <td>82c6d386aa454a5ab75656331890b229</td>\n",
       "      <td>arn:aws:guardduty:us-east-1:655680117358:detec...</td>\n",
       "      <td>Trojan:EC2/DNSDataExfiltration</td>\n",
       "      <td>{'resourceType': 'Instance', 'instanceDetails'...</td>\n",
       "      <td>{'serviceName': 'guardduty', 'detectorId': '8e...</td>\n",
       "      <td>8</td>\n",
       "      <td>2024-02-14T09:58:05.194Z</td>\n",
       "      <td>2024-02-14T16:58:18.415Z</td>\n",
       "      <td>Data exfiltration through DNS queries from the...</td>\n",
       "      <td>The EC2 instance i-0b5c23d5710ea37d8 is attemp...</td>\n",
       "    </tr>\n",
       "  </tbody>\n",
       "</table>\n",
       "</div>"
      ],
      "text/plain": [
       "  schemaVersion     accountId     region partition  \\\n",
       "0           2.0  655680117358  us-east-1       aws   \n",
       "1           2.0  655680117358  us-east-1       aws   \n",
       "2           2.0  655680117358  us-east-1       aws   \n",
       "3           2.0  655680117358  us-east-1       aws   \n",
       "4           2.0  655680117358  us-east-1       aws   \n",
       "\n",
       "                                 id  \\\n",
       "0  fac6d3831a6554da8dbc1231fe2e0e61   \n",
       "1  a2c6d3831ac49a7da469202dab2fb336   \n",
       "2  fac6d3831a6554da8dbc1231fe2e0e61   \n",
       "3  a2c6d3831ac49a7da469202dab2fb336   \n",
       "4  82c6d386aa454a5ab75656331890b229   \n",
       "\n",
       "                                                 arn  \\\n",
       "0  arn:aws:guardduty:us-east-1:655680117358:detec...   \n",
       "1  arn:aws:guardduty:us-east-1:655680117358:detec...   \n",
       "2  arn:aws:guardduty:us-east-1:655680117358:detec...   \n",
       "3  arn:aws:guardduty:us-east-1:655680117358:detec...   \n",
       "4  arn:aws:guardduty:us-east-1:655680117358:detec...   \n",
       "\n",
       "                                   type  \\\n",
       "0  CryptoCurrency:EC2/BitcoinTool.B!DNS   \n",
       "1        Backdoor:EC2/C&CActivity.B!DNS   \n",
       "2  CryptoCurrency:EC2/BitcoinTool.B!DNS   \n",
       "3        Backdoor:EC2/C&CActivity.B!DNS   \n",
       "4        Trojan:EC2/DNSDataExfiltration   \n",
       "\n",
       "                                            resource  \\\n",
       "0  {'resourceType': 'Instance', 'instanceDetails'...   \n",
       "1  {'resourceType': 'Instance', 'instanceDetails'...   \n",
       "2  {'resourceType': 'Instance', 'instanceDetails'...   \n",
       "3  {'resourceType': 'Instance', 'instanceDetails'...   \n",
       "4  {'resourceType': 'Instance', 'instanceDetails'...   \n",
       "\n",
       "                                             service  severity  \\\n",
       "0  {'serviceName': 'guardduty', 'detectorId': '8e...         8   \n",
       "1  {'serviceName': 'guardduty', 'detectorId': '8e...         8   \n",
       "2  {'serviceName': 'guardduty', 'detectorId': '8e...         8   \n",
       "3  {'serviceName': 'guardduty', 'detectorId': '8e...         8   \n",
       "4  {'serviceName': 'guardduty', 'detectorId': '8e...         8   \n",
       "\n",
       "                  createdAt                 updatedAt  \\\n",
       "0  2024-02-14T09:50:18.314Z  2024-02-14T12:10:24.763Z   \n",
       "1  2024-02-14T09:50:18.505Z  2024-02-14T13:55:22.886Z   \n",
       "2  2024-02-14T09:50:18.314Z  2024-02-14T18:25:25.208Z   \n",
       "3  2024-02-14T09:50:18.505Z  2024-02-14T12:25:22.717Z   \n",
       "4  2024-02-14T09:58:05.194Z  2024-02-14T16:58:18.415Z   \n",
       "\n",
       "                                               title  \\\n",
       "0  The EC2 instance i-0b5c23d5710ea37d8 queried a...   \n",
       "1  The EC2 instance i-0b5c23d5710ea37d8 queried a...   \n",
       "2  The EC2 instance i-0b5c23d5710ea37d8 queried a...   \n",
       "3  The EC2 instance i-0b5c23d5710ea37d8 queried a...   \n",
       "4  Data exfiltration through DNS queries from the...   \n",
       "\n",
       "                                         description  \n",
       "0  The EC2 instance i-0b5c23d5710ea37d8 is queryi...  \n",
       "1  The EC2 instance i-0b5c23d5710ea37d8 is queryi...  \n",
       "2  The EC2 instance i-0b5c23d5710ea37d8 is queryi...  \n",
       "3  The EC2 instance i-0b5c23d5710ea37d8 is queryi...  \n",
       "4  The EC2 instance i-0b5c23d5710ea37d8 is attemp...  "
      ]
     },
     "execution_count": 8,
     "metadata": {},
     "output_type": "execute_result"
    }
   ],
   "source": [
    "df_inter.head()"
   ]
  },
  {
   "cell_type": "code",
   "execution_count": 22,
   "metadata": {},
   "outputs": [
    {
     "data": {
      "image/png": "[encoded data removed]",
      "text/plain": [
       "<Figure size 640x480 with 1 Axes>"
      ]
     },
     "metadata": {},
     "output_type": "display_data"
    }
   ],
   "source": [
    "# Horizontal bar plot\n",
    "df_inter.value_counts('severity').plot(kind='bar', title='Severity Counts', rot=0);"
   ]
  },
  {
   "cell_type": "code",
   "execution_count": 23,
   "metadata": {},
   "outputs": [
    {
     "data": {
      "image/png": "[encoded data removed]",
      "text/plain": [
       "<Figure size 640x480 with 1 Axes>"
      ]
     },
     "metadata": {},
     "output_type": "display_data"
    }
   ],
   "source": [
    "df_inter['resource_specifc'] = df_inter['resource'].apply(lambda x: x['resourceType'] if 'resourceType' in x else 'None')\n",
    "df_inter.value_counts('resource_specifc').plot(kind='bar', title='Resource Type Counts', rot=0, xlabel='');"
   ]
  }
 ],
 "metadata": {
  "kernelspec": {
   "display_name": "base",
   "language": "python",
   "name": "python3"
  },
  "language_info": {
   "codemirror_mode": {
    "name": "ipython",
    "version": 3
   },
   "file_extension": ".py",
   "mimetype": "text/x-python",
   "name": "python",
   "nbconvert_exporter": "python",
   "pygments_lexer": "ipython3",
   "version": "3.11.3"
  }
 },
 "nbformat": 4,
 "nbformat_minor": 2
}
