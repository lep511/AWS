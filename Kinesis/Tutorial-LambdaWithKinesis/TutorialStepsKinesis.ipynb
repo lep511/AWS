{
 "cells": [
  {
   "cell_type": "markdown",
   "metadata": {},
   "source": [
    "# Tutorial: Uso de AWS Lambda con Amazon Kinesis\n",
    "\n",
    "En este tutorial, creará una función de Lambda para consumir eventos de un flujo de datos de Kinesis.\n",
    "\n",
    "* Una aplicación personalizada escribe los registros en el flujo.\n",
    "\n",
    "* AWS Lambda sondea el flujo y, cuando detecta registros nuevos en él, llama a la función de Lambda.\n",
    "\n",
    "* AWS Lambda ejecuta la función de Lambda asumiendo el rol de ejecución que se especificó en el momento de crear la función de Lambda."
   ]
  },
  {
   "cell_type": "code",
   "execution_count": 1,
   "metadata": {},
   "outputs": [],
   "source": [
    "import boto3\n",
    "import json\n",
    "from zipfile import ZipFile\n",
    "\n",
    "lambda_client = boto3.client('lambda')\n",
    "iam = boto3.client('iam')\n",
    "kinesis_client = boto3.client('kinesis')\n",
    "account_id = boto3.client('sts').get_caller_identity().get('Account')\n"
   ]
  },
  {
   "cell_type": "markdown",
   "metadata": {},
   "source": [
    "Cree el rol de ejecución que concederá a su función permiso para obtener acceso a los recursos de AWS."
   ]
  },
  {
   "cell_type": "code",
   "execution_count": 3,
   "metadata": {},
   "outputs": [
    {
     "name": "stdout",
     "output_type": "stream",
     "text": [
      "Role created successfully\n"
     ]
    }
   ],
   "source": [
    "# Create the role\n",
    "role_name = 'LambdaToKinesisRole'\n",
    "\n",
    "role = iam.create_role(\n",
    "    RoleName=role_name,\n",
    "    AssumeRolePolicyDocument=json.dumps({\n",
    "        'Version': '2012-10-17',\n",
    "        'Statement': [{\n",
    "            'Effect': 'Allow',\n",
    "            'Principal': {\n",
    "                'Service': 'lambda.amazonaws.com'\n",
    "            },\n",
    "            'Action': 'sts:AssumeRole'\n",
    "        }]\n",
    "    })\n",
    ")\n",
    "\n",
    "# Attach the policy to the role\n",
    "response = iam.attach_role_policy(\n",
    "    RoleName=role_name,\n",
    "    PolicyArn='arn:aws:iam::aws:policy/service-role/AWSLambdaKinesisExecutionRole'\n",
    ")\n",
    "\n",
    "if response['ResponseMetadata']['HTTPStatusCode'] == 200:\n",
    "    print('Role created successfully')"
   ]
  },
  {
   "cell_type": "code",
   "execution_count": 4,
   "metadata": {},
   "outputs": [
    {
     "name": "stdout",
     "output_type": "stream",
     "text": [
      "Overwriting lambda_function.py\n"
     ]
    }
   ],
   "source": [
    "%%writefile lambda_function.py\n",
    "import json\n",
    "import base64\n",
    "\n",
    "print('Loading function')\n",
    "\n",
    "def lambda_handler(event, context):\n",
    "    #print(json.dumps(event, indent=2))\n",
    "    for record in event['Records']:\n",
    "        # Kinesis data is base64 encoded so decode here\n",
    "        decode_record = base64.b64decode(record['kinesis']['data'])\n",
    "        payload = decode_record.decode('utf-8')\n",
    "        print('Decoded payload:', payload)"
   ]
  },
  {
   "cell_type": "code",
   "execution_count": 5,
   "metadata": {},
   "outputs": [],
   "source": [
    "# Create the zip file\n",
    "with ZipFile('lambda_function.zip', 'w') as myzip:\n",
    "    myzip.write('lambda_function.py')\n",
    "# Read the zip file into memory\n",
    "with open('lambda_function.zip', 'rb') as f:\n",
    "    zipped_code = f.read()"
   ]
  },
  {
   "cell_type": "code",
   "execution_count": 6,
   "metadata": {},
   "outputs": [],
   "source": [
    "# Create the Lambda function\n",
    "response = lambda_client.create_function(\n",
    "    FunctionName='KinesisLambdaFunction',\n",
    "    Runtime='python3.9',\n",
    "    Role='arn:aws:iam::{}:role/{}'.format(account_id, role_name),\n",
    "    Handler='lambda_function.lambda_handler',\n",
    "    Code={\n",
    "        'ZipFile': zipped_code\n",
    "    },\n",
    "    Description='Lambda function to process Kinesis data',\n",
    "    Timeout=3,\n",
    "    MemorySize=128,\n",
    "    Publish=True,\n",
    "    Environment={\n",
    "        'Variables': {\n",
    "            'ENVIRONMENT': 'DEV'\n",
    "        }\n",
    "    }\n",
    ")"
   ]
  },
  {
   "cell_type": "code",
   "execution_count": 7,
   "metadata": {},
   "outputs": [],
   "source": [
    "# Read the test event\n",
    "with open('test_event.json', 'r') as f:\n",
    "    test_event = json.load(f)"
   ]
  },
  {
   "cell_type": "code",
   "execution_count": 9,
   "metadata": {},
   "outputs": [
    {
     "name": "stdout",
     "output_type": "stream",
     "text": [
      "Lambda function invoked successfully\n"
     ]
    }
   ],
   "source": [
    "# Test the Lambda function\n",
    "response = lambda_client.invoke(\n",
    "    FunctionName='KinesisLambda',\n",
    "    InvocationType='RequestResponse',\n",
    "    Payload=json.dumps(test_event)\n",
    ")\n",
    "\n",
    "if response['ResponseMetadata']['HTTPStatusCode'] == 200:\n",
    "    print('Lambda function invoked successfully')"
   ]
  },
  {
   "cell_type": "markdown",
   "metadata": {},
   "source": [
    "Utilice la función `create_stream()` para crear un flujo."
   ]
  },
  {
   "cell_type": "code",
   "execution_count": 10,
   "metadata": {},
   "outputs": [],
   "source": [
    "# Create the Kinesis stream\n",
    "response = kinesis_client.create_stream(\n",
    "    StreamName='KinesisStreamToLambda',\n",
    "    ShardCount=1\n",
    ")"
   ]
  },
  {
   "cell_type": "code",
   "execution_count": 11,
   "metadata": {},
   "outputs": [
    {
     "name": "stdout",
     "output_type": "stream",
     "text": [
      "arn:aws:kinesis:us-east-1:448244794999:stream/KinesisStreamToLambda\n"
     ]
    }
   ],
   "source": [
    "# Get the ARN of the Kiensis stream\n",
    "kinesis_arn = kinesis_client.describe_stream(StreamName='KinesisStreamToLambda')['StreamDescription']['StreamARN']\n",
    "print(kinesis_arn)"
   ]
  },
  {
   "cell_type": "code",
   "execution_count": 12,
   "metadata": {},
   "outputs": [],
   "source": [
    "# Add event to the Lambda function\n",
    "response = lambda_client.create_event_source_mapping(\n",
    "    FunctionName='KinesisLambdaFunction',\n",
    "    EventSourceArn=kinesis_arn,\n",
    "    BatchSize=100,\n",
    "    StartingPosition='LATEST'\n",
    ")"
   ]
  },
  {
   "cell_type": "code",
   "execution_count": 13,
   "metadata": {},
   "outputs": [
    {
     "name": "stdout",
     "output_type": "stream",
     "text": [
      "Status: Enabled\n"
     ]
    }
   ],
   "source": [
    "# List the event sources mapped to the Lambda function\n",
    "kinesis_mapped = lambda_client.list_event_source_mappings(\n",
    "    FunctionName='KinesisLambdaFunction'\n",
    ")\n",
    "print(\"Status: \" + kinesis_mapped['EventSourceMappings'][0]['State'])"
   ]
  },
  {
   "cell_type": "markdown",
   "metadata": {},
   "source": [
    "En la respuesta, puede verificar que el valor de estado es enabled. Los mapeos de orígenes de eventos se pueden deshabilitar para poner en pausa temporalmente el sondeo sin perder de registros."
   ]
  },
  {
   "cell_type": "markdown",
   "metadata": {},
   "source": [
    "Para probar el mapeo de origen de eventos, agregue los registros de eventos a su flujo de Kinesis."
   ]
  },
  {
   "cell_type": "code",
   "execution_count": 31,
   "metadata": {},
   "outputs": [],
   "source": [
    "# Put records into the Kinesis stream\t\n",
    "response = kinesis_client.put_records(\n",
    "    Records=[\n",
    "        {\n",
    "            'Data': 'Hello, this is a test number 1',\n",
    "            'PartitionKey': '1'\n",
    "        },\n",
    "        {\n",
    "            'Data': 'Hello, this is a test number 2',\n",
    "            'PartitionKey': '2'\n",
    "        },\n",
    "        {\n",
    "            'Data': 'Hello, this is a test number 3',\n",
    "            'PartitionKey': '3'\n",
    "        }\n",
    "    ],\n",
    "    StreamName='KinesisStream'\n",
    ")"
   ]
  },
  {
   "cell_type": "code",
   "execution_count": 20,
   "metadata": {},
   "outputs": [],
   "source": [
    "# List all cloudwatch logs\n",
    "logs_client = boto3.client('logs')\n",
    "response = logs_client.describe_log_groups()\n",
    "for log in response['logGroups']:\n",
    "    # If log contain kinesis, print the log stream\n",
    "    if 'Kinesis' in log['logGroupName']:\n",
    "        log_group_name = log['logGroupName']"
   ]
  },
  {
   "cell_type": "markdown",
   "metadata": {},
   "source": [
    "Lambda utiliza el rol de ejecución para leer los registros desde el flujo. A continuación, se invoca la función de Lambda y se pasan lotes de registros. La función descodifica los datos de cada registro y los registra, enviando la salida a CloudWatch Logs. Puede ver los registros en la consola de CloudWatch."
   ]
  },
  {
   "cell_type": "code",
   "execution_count": 40,
   "metadata": {},
   "outputs": [
    {
     "name": "stdout",
     "output_type": "stream",
     "text": [
      "START RequestId: a4a0264f-4715-4d79-a56d-9dd4027d98b3 Version: $LATEST\n",
      "\n",
      "Decoded payload: Hello, this is a test number 1\n",
      "\n",
      "Decoded payload: Hello, this is a test number 2\n",
      "\n",
      "Decoded payload: Hello, this is a test number 3\n",
      "\n",
      "END RequestId: a4a0264f-4715-4d79-a56d-9dd4027d98b3\n",
      "\n",
      "REPORT RequestId: a4a0264f-4715-4d79-a56d-9dd4027d98b3\tDuration: 11.55 ms\tBilled Duration: 12 ms\tMemory Size: 128 MB\tMax Memory Used: 37 MB\t\n",
      "\n"
     ]
    }
   ],
   "source": [
    "# Print cloudwatch logs from the Lambda function\n",
    "logs_client = boto3.client('logs')\n",
    "log_stream_name = logs_client.describe_log_streams(\n",
    "    logGroupName=log_group_name,\n",
    "    orderBy='LastEventTime',\n",
    "    descending=True\n",
    ")['logStreams'][0]['logStreamName']\n",
    "\n",
    "response = logs_client.get_log_events(\n",
    "    logGroupName=log_group_name,\n",
    "    logStreamName=log_stream_name\n",
    ")\n",
    "\n",
    "for event in response['events']:\n",
    "    print(event['message'])"
   ]
  }
 ],
 "metadata": {
  "kernelspec": {
   "display_name": "Python 3.9.12 ('base')",
   "language": "python",
   "name": "python3"
  },
  "language_info": {
   "codemirror_mode": {
    "name": "ipython",
    "version": 3
   },
   "file_extension": ".py",
   "mimetype": "text/x-python",
   "name": "python",
   "nbconvert_exporter": "python",
   "pygments_lexer": "ipython3",
   "version": "3.9.12"
  },
  "orig_nbformat": 4,
  "vscode": {
   "interpreter": {
    "hash": "c9cdd2fa3b32da9704bd8048bdba085d67219855a318f4adc7f095bb5cfa603b"
   }
  }
 },
 "nbformat": 4,
 "nbformat_minor": 2
}
