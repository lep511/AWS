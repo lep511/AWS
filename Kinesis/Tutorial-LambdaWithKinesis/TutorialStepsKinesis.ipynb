{
 "cells": [
  {
   "cell_type": "markdown",
   "metadata": {},
   "source": [
    "# Tutorial: Uso de AWS Lambda con Amazon Kinesis\n",
    "\n",
    "En este tutorial, creará una función de Lambda para consumir eventos de un flujo de datos de Kinesis.\n",
    "\n",
    "* Una aplicación personalizada escribe los registros en el flujo.\n",
    "\n",
    "* AWS Lambda sondea el flujo y, cuando detecta registros nuevos en él, llama a la función de Lambda.\n",
    "\n",
    "* AWS Lambda ejecuta la función de Lambda asumiendo el rol de ejecución que se especificó en el momento de crear la función de Lambda."
   ]
  },
  {
   "cell_type": "code",
   "execution_count": 1,
   "metadata": {},
   "outputs": [],
   "source": [
    "import boto3\n",
    "import json\n",
    "from zipfile import ZipFile\n",
    "\n",
    "lambda_client = boto3.client('lambda')\n",
    "iam = boto3.client('iam')\n",
    "kinesis_client = boto3.client('kinesis')\n",
    "account_id = boto3.client('sts').get_caller_identity().get('Account')\n"
   ]
  },
  {
   "cell_type": "markdown",
   "metadata": {},
   "source": [
    "Cree el rol de ejecución que concederá a su función permiso para obtener acceso a los recursos de AWS."
   ]
  },
  {
   "cell_type": "code",
   "execution_count": 2,
   "metadata": {},
   "outputs": [
    {
     "name": "stdout",
     "output_type": "stream",
     "text": [
      "Role created successfully\n"
     ]
    }
   ],
   "source": [
    "# Create the role\n",
    "role_name = 'LambdaToKinesisRole'\n",
    "\n",
    "role = iam.create_role(\n",
    "    RoleName=role_name,\n",
    "    AssumeRolePolicyDocument=json.dumps({\n",
    "        'Version': '2012-10-17',\n",
    "        'Statement': [{\n",
    "            'Effect': 'Allow',\n",
    "            'Principal': {\n",
    "                'Service': 'lambda.amazonaws.com'\n",
    "            },\n",
    "            'Action': 'sts:AssumeRole'\n",
    "        }]\n",
    "    })\n",
    ")\n",
    "\n",
    "# Attach the policy to the role\n",
    "response = iam.attach_role_policy(\n",
    "    RoleName=role_name,\n",
    "    PolicyArn='arn:aws:iam::aws:policy/service-role/AWSLambdaKinesisExecutionRole'\n",
    ")\n",
    "\n",
    "if response['ResponseMetadata']['HTTPStatusCode'] == 200:\n",
    "    print('Role created successfully')"
   ]
  },
  {
   "cell_type": "code",
   "execution_count": 3,
   "metadata": {},
   "outputs": [
    {
     "name": "stdout",
     "output_type": "stream",
     "text": [
      "Overwriting lambda_function.py\n"
     ]
    }
   ],
   "source": [
    "%%writefile lambda_function.py\n",
    "import json\n",
    "import base64\n",
    "\n",
    "print('#### Loading function ########')\n",
    "\n",
    "def lambda_handler(event, context):\n",
    "    output = []\n",
    "    json_event = json.dumps(event)\n",
    "    # print(\"--event: \" + json_event)\n",
    "    \n",
    "    for record in event['Records']:\n",
    "        # Print stream as source only data here\n",
    "        kinesisMetadata = record['kinesis']\n",
    "        # print('Kinesis schema version: ' +  kinesisMetadata['kinesisSchemaVersion'])\n",
    "        # print('Partition key: ' + kinesisMetadata['partitionKey'])\n",
    "        # print('Seguqnece number: ' + kinesisMetadata['sequenceNumber'])\n",
    "        # print('Data: ' + kinesisMetadata['data'])\n",
    "        # print('Approximate arrival time: ' + str(kinesisMetadata['approximateArrivalTimestamp']))\n",
    "\n",
    "        # Do custom processing on the payload here\n",
    "        payload = base64.b64decode(kinesisMetadata['data'])\n",
    "        output_record = {\n",
    "            'eventId': record['eventID'],\n",
    "            'result': 'Ok',\n",
    "            'data': base64.b64encode(payload)\n",
    "        }\n",
    "        output.append(output_record)\n",
    "\n",
    "    print('Successfully processed {} records.'.format(len(event['Records'])))\n",
    "\n",
    "    return {'records': output}"
   ]
  },
  {
   "cell_type": "code",
   "execution_count": 4,
   "metadata": {},
   "outputs": [],
   "source": [
    "# Create the zip file\n",
    "with ZipFile('lambda_function.zip', 'w') as myzip:\n",
    "    myzip.write('lambda_function.py')\n",
    "# Read the zip file into memory\n",
    "with open('lambda_function.zip', 'rb') as f:\n",
    "    zipped_code = f.read()"
   ]
  },
  {
   "cell_type": "code",
   "execution_count": 5,
   "metadata": {},
   "outputs": [],
   "source": [
    "# Create the Lambda function\n",
    "response = lambda_client.create_function(\n",
    "    FunctionName='KinesisLambdaFunction',\n",
    "    Runtime='python3.9',\n",
    "    Role='arn:aws:iam::{}:role/{}'.format(account_id, role_name),\n",
    "    Handler='lambda_function.lambda_handler',\n",
    "    Code={\n",
    "        'ZipFile': zipped_code\n",
    "    },\n",
    "    Description='Lambda function to process Kinesis data',\n",
    "    Timeout=3,\n",
    "    MemorySize=128,\n",
    "    Publish=True,\n",
    "    Environment={\n",
    "        'Variables': {\n",
    "            'ENVIRONMENT': 'DEV'\n",
    "        }\n",
    "    }\n",
    ")"
   ]
  },
  {
   "cell_type": "code",
   "execution_count": 6,
   "metadata": {},
   "outputs": [],
   "source": [
    "# Read the test event\n",
    "with open('test_event.json', 'r') as f:\n",
    "    test_event = json.load(f)"
   ]
  },
  {
   "cell_type": "code",
   "execution_count": 8,
   "metadata": {},
   "outputs": [
    {
     "name": "stdout",
     "output_type": "stream",
     "text": [
      "Lambda function invoked successfully\n"
     ]
    }
   ],
   "source": [
    "# Test the Lambda function\n",
    "response = lambda_client.invoke(\n",
    "    FunctionName='KinesisLambdaFunction',\n",
    "    InvocationType='RequestResponse',\n",
    "    Payload=json.dumps(test_event)\n",
    ")\n",
    "\n",
    "if response['ResponseMetadata']['HTTPStatusCode'] == 200:\n",
    "    print('Lambda function invoked successfully')"
   ]
  },
  {
   "cell_type": "markdown",
   "metadata": {},
   "source": [
    "Utilice la función `create_stream()` para crear un flujo."
   ]
  },
  {
   "cell_type": "code",
   "execution_count": 9,
   "metadata": {},
   "outputs": [],
   "source": [
    "# Create the Kinesis stream\n",
    "response = kinesis_client.create_stream(\n",
    "    StreamName='KinesisStreamToLambda',\n",
    "    ShardCount=1\n",
    ")"
   ]
  },
  {
   "cell_type": "code",
   "execution_count": 10,
   "metadata": {},
   "outputs": [
    {
     "name": "stdout",
     "output_type": "stream",
     "text": [
      "arn:aws:kinesis:us-east-1:931487333316:stream/KinesisStreamToLambda\n"
     ]
    }
   ],
   "source": [
    "# Get the ARN of the Kiensis stream\n",
    "kinesis_arn = kinesis_client.describe_stream(StreamName='KinesisStreamToLambda')['StreamDescription']['StreamARN']\n",
    "print(kinesis_arn)"
   ]
  },
  {
   "cell_type": "code",
   "execution_count": 11,
   "metadata": {},
   "outputs": [],
   "source": [
    "# Add event to the Lambda function\n",
    "response = lambda_client.create_event_source_mapping(\n",
    "    FunctionName='KinesisLambdaFunction',\n",
    "    EventSourceArn=kinesis_arn,\n",
    "    BatchSize=100,\n",
    "    StartingPosition='LATEST'\n",
    ")"
   ]
  },
  {
   "cell_type": "code",
   "execution_count": 12,
   "metadata": {},
   "outputs": [
    {
     "name": "stdout",
     "output_type": "stream",
     "text": [
      "Status: Enabled\n"
     ]
    }
   ],
   "source": [
    "# List the event sources mapped to the Lambda function\n",
    "kinesis_mapped = lambda_client.list_event_source_mappings(\n",
    "    FunctionName='KinesisLambdaFunction'\n",
    ")\n",
    "print(\"Status: \" + kinesis_mapped['EventSourceMappings'][0]['State'])"
   ]
  },
  {
   "cell_type": "markdown",
   "metadata": {},
   "source": [
    "En la respuesta, puede verificar que el valor de estado es enabled. Los mapeos de orígenes de eventos se pueden deshabilitar para poner en pausa temporalmente el sondeo sin perder de registros."
   ]
  },
  {
   "cell_type": "markdown",
   "metadata": {},
   "source": [
    "Para probar el mapeo de origen de eventos, agregue los registros de eventos a su flujo de Kinesis."
   ]
  },
  {
   "cell_type": "code",
   "execution_count": 33,
   "metadata": {},
   "outputs": [],
   "source": [
    "# Put records into the Kinesis stream\t\n",
    "response = kinesis_client.put_records(\n",
    "    Records=[\n",
    "        {\n",
    "            'Data': 'Hello, this is a test number 1',\n",
    "            'PartitionKey': '1'\n",
    "        },\n",
    "        {\n",
    "            'Data': 'Hello, this is a test number 2',\n",
    "            'PartitionKey': '2'\n",
    "        },\n",
    "        {\n",
    "            'Data': 'Hello, this is a test number 3',\n",
    "            'PartitionKey': '3'\n",
    "        }\n",
    "    ],\n",
    "    StreamName='KinesisStreamToLambda'\n",
    ")"
   ]
  },
  {
   "cell_type": "code",
   "execution_count": 34,
   "metadata": {},
   "outputs": [],
   "source": [
    "# List all cloudwatch logs\n",
    "logs_client = boto3.client('logs')\n",
    "response = logs_client.describe_log_groups()\n",
    "for log in response['logGroups']:\n",
    "    # If log contain kinesis, print the log stream\n",
    "    if 'Kinesis' in log['logGroupName']:\n",
    "        log_group_name = log['logGroupName']"
   ]
  },
  {
   "cell_type": "markdown",
   "metadata": {},
   "source": [
    "Lambda utiliza el rol de ejecución para leer los registros desde el flujo. A continuación, se invoca la función de Lambda y se pasan lotes de registros. La función descodifica los datos de cada registro y los registra, enviando la salida a CloudWatch Logs. Puede ver los registros en la consola de CloudWatch."
   ]
  },
  {
   "cell_type": "code",
   "execution_count": 35,
   "metadata": {},
   "outputs": [
    {
     "name": "stdout",
     "output_type": "stream",
     "text": [
      "#### Loading function ########\n",
      "\n",
      "START RequestId: d5c94b1a-42cf-4239-9848-2d613fc5968c Version: $LATEST\n",
      "\n",
      "--event: {\"Records\": [{\"kinesis\": {\"kinesisSchemaVersion\": \"1.0\", \"partitionKey\": \"1\", \"sequenceNumber\": \"49634899697840343357826152006645684660464636328964784130\", \"data\": \"SGVsbG8sIHRoaXMgaXMgYSB0ZXN0IG51bWJlciAx\", \"approximateArrivalTimestamp\": 1667665288.535}, \"eventSource\": \"aws:kinesis\", \"eventVersion\": \"1.0\", \"eventID\": \"shardId-000000000000:49634899697840343357826152006645684660464636328964784130\", \"eventName\": \"aws:kinesis:record\", \"invokeIdentityArn\": \"arn:aws:iam::931487333316:role/LambdaToKinesisRole\", \"awsRegion\": \"us-east-1\", \"eventSourceARN\": \"arn:aws:kinesis:us-east-1:931487333316:stream/KinesisStreamToLambda\"}, {\"kinesis\": {\"kinesisSchemaVersion\": \"1.0\", \"partitionKey\": \"2\", \"sequenceNumber\": \"49634899697840343357826152006646893586284250958139490306\", \"data\": \"SGVsbG8sIHRoaXMgaXMgYSB0ZXN0IG51bWJlciAy\", \"approximateArrivalTimestamp\": 1667665288.538}, \"eventSource\": \"aws:kinesis\", \"eventVersion\": \"1.0\", \"eventID\": \"shardId-000000000000:49634899697840343357826152006646893586284250958139490306\", \"eventName\": \"aws:kinesis:record\", \"invokeIdentityArn\": \"arn:aws:iam::931487333316:role/LambdaToKinesisRole\", \"awsRegion\": \"us-east-1\", \"eventSourceARN\": \"arn:aws:kinesis:us-east-1:931487333316:stream/KinesisStreamToLambda\"}, {\"kinesis\": {\"kinesisSchemaVersion\": \"1.0\", \"partitionKey\": \"3\", \"sequenceNumber\": \"49634899697840343357826152006648102512103865587314196482\", \"data\": \"SGVsbG8sIHRoaXMgaXMgYSB0ZXN0IG51bWJlciAz\", \"approximateArrivalTimestamp\": 1667665288.538}, \"eventSource\": \"aws:kinesis\", \"eventVersion\": \"1.0\", \"eventID\": \"shardId-000000000000:49634899697840343357826152006648102512103865587314196482\", \"eventName\": \"aws:kinesis:record\", \"invokeIdentityArn\": \"arn:aws:iam::931487333316:role/LambdaToKinesisRole\", \"awsRegion\": \"us-east-1\", \"eventSourceARN\": \"arn:aws:kinesis:us-east-1:931487333316:stream/KinesisStreamToLambda\"}]}\n",
      "\n",
      "Kinesis schema version: 1.0\n",
      "\n",
      "Partition key: 1\n",
      "\n",
      "Seguqnece number: 49634899697840343357826152006645684660464636328964784130\n",
      "\n",
      "Data: SGVsbG8sIHRoaXMgaXMgYSB0ZXN0IG51bWJlciAx\n",
      "\n",
      "Approximate arrival time: 1667665288.535\n",
      "\n",
      "Kinesis schema version: 1.0\n",
      "\n",
      "Partition key: 2\n",
      "\n",
      "Seguqnece number: 49634899697840343357826152006646893586284250958139490306\n",
      "\n",
      "Data: SGVsbG8sIHRoaXMgaXMgYSB0ZXN0IG51bWJlciAy\n",
      "\n",
      "Approximate arrival time: 1667665288.538\n",
      "\n",
      "Kinesis schema version: 1.0\n",
      "\n",
      "Partition key: 3\n",
      "\n",
      "Seguqnece number: 49634899697840343357826152006648102512103865587314196482\n",
      "\n",
      "Data: SGVsbG8sIHRoaXMgaXMgYSB0ZXN0IG51bWJlciAz\n",
      "\n",
      "Approximate arrival time: 1667665288.538\n",
      "\n",
      "Successfully processed 3 records.\n",
      "\n",
      "END RequestId: d5c94b1a-42cf-4239-9848-2d613fc5968c\n",
      "\n",
      "REPORT RequestId: d5c94b1a-42cf-4239-9848-2d613fc5968c\tDuration: 1.53 ms\tBilled Duration: 2 ms\tMemory Size: 128 MB\tMax Memory Used: 36 MB\tInit Duration: 120.70 ms\t\n",
      "\n"
     ]
    }
   ],
   "source": [
    "# Print cloudwatch logs from the Lambda function\n",
    "logs_client = boto3.client('logs')\n",
    "log_stream_name = logs_client.describe_log_streams(\n",
    "    logGroupName=log_group_name,\n",
    "    orderBy='LastEventTime',\n",
    "    descending=True\n",
    ")['logStreams'][0]['logStreamName']\n",
    "\n",
    "response = logs_client.get_log_events(\n",
    "    logGroupName=log_group_name,\n",
    "    logStreamName=log_stream_name\n",
    ")\n",
    "\n",
    "for event in response['events']:\n",
    "    print(event['message'])"
   ]
  }
 ],
 "metadata": {
  "kernelspec": {
   "display_name": "Python 3.9.12 ('base')",
   "language": "python",
   "name": "python3"
  },
  "language_info": {
   "codemirror_mode": {
    "name": "ipython",
    "version": 3
   },
   "file_extension": ".py",
   "mimetype": "text/x-python",
   "name": "python",
   "nbconvert_exporter": "python",
   "pygments_lexer": "ipython3",
   "version": "3.9.12"
  },
  "orig_nbformat": 4,
  "vscode": {
   "interpreter": {
    "hash": "c9cdd2fa3b32da9704bd8048bdba085d67219855a318f4adc7f095bb5cfa603b"
   }
  }
 },
 "nbformat": 4,
 "nbformat_minor": 2
}
