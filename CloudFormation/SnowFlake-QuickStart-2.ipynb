{
 "cells": [
  {
   "cell_type": "code",
   "execution_count": 3,
   "id": "06bef231-94e8-4848-8c3b-7ef4a3f7abdf",
   "metadata": {
    "tags": []
   },
   "outputs": [],
   "source": [
    "#!pip install snowflake-snowpark-python[pandas]"
   ]
  },
  {
   "cell_type": "code",
   "execution_count": 46,
   "id": "f7767bce-0a01-4d34-b98e-280ef9e06724",
   "metadata": {
    "tags": []
   },
   "outputs": [],
   "source": [
    "import sys\n",
    "from snowflake.snowpark.session import Session\n",
    "import snowflake.snowpark.functions as F\n",
    "import snowflake.snowpark.types as T\n",
    "from snowflake.snowpark.window import Window\n",
    "\n",
    "import getpass\n",
    "import pandas as pd\n",
    "import matplotlib.pyplot as plt\n",
    "import numpy as np"
   ]
  },
  {
   "cell_type": "code",
   "execution_count": 10,
   "id": "fec51af9-a156-438f-b921-6f6072bcc331",
   "metadata": {
    "tags": []
   },
   "outputs": [
    {
     "name": "stdout",
     "output_type": "stream",
     "text": [
      "ORGNAME-ACCOUNTNAME (separated by minus sign):\n"
     ]
    },
    {
     "name": "stdin",
     "output_type": "stream",
     "text": [
      " ········\n"
     ]
    },
    {
     "name": "stdout",
     "output_type": "stream",
     "text": [
      "SNOWFLAKE-USERNAME:\n"
     ]
    },
    {
     "name": "stdin",
     "output_type": "stream",
     "text": [
      " ········\n"
     ]
    },
    {
     "name": "stdout",
     "output_type": "stream",
     "text": [
      "SNOWFLAKE-PASSWORD:\n"
     ]
    },
    {
     "name": "stdin",
     "output_type": "stream",
     "text": [
      " ········\n"
     ]
    }
   ],
   "source": [
    "print(\"ORGNAME-ACCOUNTNAME (separated by minus sign):\")\n",
    "accountname = getpass.getpass() \n",
    "print(\"SNOWFLAKE-USERNAME:\")\n",
    "username = getpass.getpass()  \n",
    "print(\"SNOWFLAKE-PASSWORD:\")\n",
    "password = getpass.getpass() "
   ]
  },
  {
   "cell_type": "code",
   "execution_count": 14,
   "id": "2096a170-9549-4f15-9479-fdde151b1274",
   "metadata": {
    "tags": []
   },
   "outputs": [],
   "source": [
    "connection_parameters = {\n",
    "    \"account\": accountname,\n",
    "    \"user\": username,\n",
    "    \"password\": password,\n",
    "    \"role\": \"ACCOUNTADMIN\",\n",
    "    \"database\": \"HOL_DB\",\n",
    "    \"schema\": \"PUBLIC\",\n",
    "    \"warehouse\": \"HOL_WH\"\n",
    "}\n",
    "\n",
    "session = Session.builder.configs(connection_parameters).create()"
   ]
  },
  {
   "cell_type": "markdown",
   "id": "7dd1ee3f-73d6-44d3-9272-a805a9a10818",
   "metadata": {},
   "source": [
    "## Explore and Prepare Data"
   ]
  },
  {
   "cell_type": "markdown",
   "id": "36c67ea4-08e2-43b6-9061-540f09f9deac",
   "metadata": {
    "tags": []
   },
   "source": [
    "![Image](https://www.linkpicture.com/q/descarga_23.png)"
   ]
  },
  {
   "cell_type": "code",
   "execution_count": 15,
   "id": "a88ae119-708f-4c5b-aa9e-7cc506245f48",
   "metadata": {
    "tags": []
   },
   "outputs": [],
   "source": [
    "# Creating a Snowpark DataFrame\n",
    "application_record_sdf = session.table('APPLICATION_RECORD')\n",
    "credit_record_sdf = session.table('CREDIT_RECORD')"
   ]
  },
  {
   "cell_type": "code",
   "execution_count": 16,
   "id": "e3f3e91b-944f-4258-8c51-daa46b3512c5",
   "metadata": {
    "tags": []
   },
   "outputs": [
    {
     "data": {
      "text/plain": [
       "438557"
      ]
     },
     "execution_count": 16,
     "metadata": {},
     "output_type": "execute_result"
    }
   ],
   "source": [
    "# How many records do we have?\n",
    "application_record_sdf.count()"
   ]
  },
  {
   "cell_type": "markdown",
   "id": "ea3d0f7b-fc5c-4a66-95c2-930a51d92f1d",
   "metadata": {},
   "source": [
    "### Explore and Prepare Data"
   ]
  },
  {
   "cell_type": "code",
   "execution_count": 17,
   "id": "b33264ab-504c-4436-bd2c-e22fca5c6ec5",
   "metadata": {
    "tags": []
   },
   "outputs": [],
   "source": [
    "# Creating a Snowpark DataFrame\n",
    "application_record_sdf = session.table('APPLICATION_RECORD')\n",
    "credit_record_sdf = session.table('CREDIT_RECORD')"
   ]
  },
  {
   "cell_type": "code",
   "execution_count": 18,
   "id": "2f4bf710-a95e-4832-b6a9-9ab2a70ef547",
   "metadata": {
    "tags": []
   },
   "outputs": [
    {
     "data": {
      "text/plain": [
       "438557"
      ]
     },
     "execution_count": 18,
     "metadata": {},
     "output_type": "execute_result"
    }
   ],
   "source": [
    "# How many records do we have?\n",
    "application_record_sdf.count()"
   ]
  },
  {
   "cell_type": "code",
   "execution_count": 19,
   "id": "3a49305b-1c8d-4be1-911a-4afc601c64f0",
   "metadata": {
    "tags": []
   },
   "outputs": [
    {
     "name": "stdout",
     "output_type": "stream",
     "text": [
      "Number Duplicates: 47\n"
     ]
    }
   ],
   "source": [
    "# Check for duplicate records\n",
    "duplicates_sdf = application_record_sdf.group_by('ID').agg(F.count(('ID'))).filter(F.col('COUNT(ID)') > 1)\n",
    "print('Number Duplicates:', duplicates_sdf.count())"
   ]
  },
  {
   "cell_type": "code",
   "execution_count": 20,
   "id": "ea5aa861-a1a7-445e-8a4a-b0568449322d",
   "metadata": {
    "tags": []
   },
   "outputs": [
    {
     "data": {
      "text/plain": [
       "438510"
      ]
     },
     "execution_count": 20,
     "metadata": {},
     "output_type": "execute_result"
    }
   ],
   "source": [
    "# Lets drop duplicates\n",
    "application_record_sdf = application_record_sdf.drop_duplicates('ID')\n",
    "application_record_sdf.count()"
   ]
  },
  {
   "cell_type": "code",
   "execution_count": 21,
   "id": "d8110679-39e1-421b-92f4-ebab3f718f63",
   "metadata": {
    "tags": []
   },
   "outputs": [
    {
     "data": {
      "text/html": [
       "<div>\n",
       "<style scoped>\n",
       "    .dataframe tbody tr th:only-of-type {\n",
       "        vertical-align: middle;\n",
       "    }\n",
       "\n",
       "    .dataframe tbody tr th {\n",
       "        vertical-align: top;\n",
       "    }\n",
       "\n",
       "    .dataframe thead th {\n",
       "        text-align: right;\n",
       "    }\n",
       "</style>\n",
       "<table border=\"1\" class=\"dataframe\">\n",
       "  <thead>\n",
       "    <tr style=\"text-align: right;\">\n",
       "      <th></th>\n",
       "      <th>SUMMARY</th>\n",
       "      <th>ID</th>\n",
       "      <th>CODE_GENDER</th>\n",
       "      <th>FLAG_OWN_CAR</th>\n",
       "      <th>FLAG_OWN_REALTY</th>\n",
       "      <th>CNT_CHILDREN</th>\n",
       "      <th>AMT_INCOME_TOTAL</th>\n",
       "      <th>NAME_INCOME_TYPE</th>\n",
       "      <th>NAME_EDUCATION_TYPE</th>\n",
       "      <th>NAME_FAMILY_STATUS</th>\n",
       "      <th>NAME_HOUSING_TYPE</th>\n",
       "      <th>DAYS_BIRTH</th>\n",
       "      <th>DAYS_EMPLOYED</th>\n",
       "      <th>FLAG_MOBIL</th>\n",
       "      <th>FLAG_WORK_PHONE</th>\n",
       "      <th>FLAG_PHONE</th>\n",
       "      <th>FLAG_EMAIL</th>\n",
       "      <th>OCCUPATION_TYPE</th>\n",
       "      <th>CNT_FAM_MEMBERS</th>\n",
       "    </tr>\n",
       "  </thead>\n",
       "  <tbody>\n",
       "    <tr>\n",
       "      <th>0</th>\n",
       "      <td>stddev</td>\n",
       "      <td>5.714962e+05</td>\n",
       "      <td>None</td>\n",
       "      <td>None</td>\n",
       "      <td>None</td>\n",
       "      <td>0.724874</td>\n",
       "      <td>1.100893e+05</td>\n",
       "      <td>None</td>\n",
       "      <td>None</td>\n",
       "      <td>None</td>\n",
       "      <td>None</td>\n",
       "      <td>4185.016222</td>\n",
       "      <td>138770.072835</td>\n",
       "      <td>0.0</td>\n",
       "      <td>0.404523</td>\n",
       "      <td>0.452724</td>\n",
       "      <td>0.310633</td>\n",
       "      <td>None</td>\n",
       "      <td>0.897192</td>\n",
       "    </tr>\n",
       "    <tr>\n",
       "      <th>1</th>\n",
       "      <td>mean</td>\n",
       "      <td>6.022035e+06</td>\n",
       "      <td>None</td>\n",
       "      <td>None</td>\n",
       "      <td>None</td>\n",
       "      <td>0.427381</td>\n",
       "      <td>1.875254e+05</td>\n",
       "      <td>None</td>\n",
       "      <td>None</td>\n",
       "      <td>None</td>\n",
       "      <td>None</td>\n",
       "      <td>-15998.022996</td>\n",
       "      <td>60566.188769</td>\n",
       "      <td>1.0</td>\n",
       "      <td>0.206128</td>\n",
       "      <td>0.287770</td>\n",
       "      <td>0.108200</td>\n",
       "      <td>None</td>\n",
       "      <td>2.194463</td>\n",
       "    </tr>\n",
       "    <tr>\n",
       "      <th>2</th>\n",
       "      <td>count</td>\n",
       "      <td>4.385100e+05</td>\n",
       "      <td>438510</td>\n",
       "      <td>438510</td>\n",
       "      <td>438510</td>\n",
       "      <td>438510.000000</td>\n",
       "      <td>4.385100e+05</td>\n",
       "      <td>438510</td>\n",
       "      <td>438510</td>\n",
       "      <td>438510</td>\n",
       "      <td>438510</td>\n",
       "      <td>438510.000000</td>\n",
       "      <td>438510.000000</td>\n",
       "      <td>438510.0</td>\n",
       "      <td>438510.000000</td>\n",
       "      <td>438510.000000</td>\n",
       "      <td>438510.000000</td>\n",
       "      <td>304317</td>\n",
       "      <td>438510.000000</td>\n",
       "    </tr>\n",
       "    <tr>\n",
       "      <th>3</th>\n",
       "      <td>min</td>\n",
       "      <td>5.008804e+06</td>\n",
       "      <td>F</td>\n",
       "      <td>N</td>\n",
       "      <td>N</td>\n",
       "      <td>0.000000</td>\n",
       "      <td>2.610000e+04</td>\n",
       "      <td>Commercial associate</td>\n",
       "      <td>Academic degree</td>\n",
       "      <td>Civil marriage</td>\n",
       "      <td>Co-op apartment</td>\n",
       "      <td>-25201.000000</td>\n",
       "      <td>-17531.000000</td>\n",
       "      <td>1.0</td>\n",
       "      <td>0.000000</td>\n",
       "      <td>0.000000</td>\n",
       "      <td>0.000000</td>\n",
       "      <td>Accountants</td>\n",
       "      <td>1.000000</td>\n",
       "    </tr>\n",
       "    <tr>\n",
       "      <th>4</th>\n",
       "      <td>max</td>\n",
       "      <td>7.999952e+06</td>\n",
       "      <td>M</td>\n",
       "      <td>Y</td>\n",
       "      <td>Y</td>\n",
       "      <td>19.000000</td>\n",
       "      <td>6.750000e+06</td>\n",
       "      <td>Working</td>\n",
       "      <td>Secondary / secondary special</td>\n",
       "      <td>Widow</td>\n",
       "      <td>With parents</td>\n",
       "      <td>-7489.000000</td>\n",
       "      <td>365243.000000</td>\n",
       "      <td>1.0</td>\n",
       "      <td>1.000000</td>\n",
       "      <td>1.000000</td>\n",
       "      <td>1.000000</td>\n",
       "      <td>Waiters/barmen staff</td>\n",
       "      <td>20.000000</td>\n",
       "    </tr>\n",
       "  </tbody>\n",
       "</table>\n",
       "</div>"
      ],
      "text/plain": [
       "  SUMMARY            ID CODE_GENDER FLAG_OWN_CAR FLAG_OWN_REALTY  \\\n",
       "0  stddev  5.714962e+05        None         None            None   \n",
       "1    mean  6.022035e+06        None         None            None   \n",
       "2   count  4.385100e+05      438510       438510          438510   \n",
       "3     min  5.008804e+06           F            N               N   \n",
       "4     max  7.999952e+06           M            Y               Y   \n",
       "\n",
       "    CNT_CHILDREN  AMT_INCOME_TOTAL      NAME_INCOME_TYPE  \\\n",
       "0       0.724874      1.100893e+05                  None   \n",
       "1       0.427381      1.875254e+05                  None   \n",
       "2  438510.000000      4.385100e+05                438510   \n",
       "3       0.000000      2.610000e+04  Commercial associate   \n",
       "4      19.000000      6.750000e+06               Working   \n",
       "\n",
       "             NAME_EDUCATION_TYPE NAME_FAMILY_STATUS NAME_HOUSING_TYPE  \\\n",
       "0                           None               None              None   \n",
       "1                           None               None              None   \n",
       "2                         438510             438510            438510   \n",
       "3                Academic degree     Civil marriage   Co-op apartment   \n",
       "4  Secondary / secondary special              Widow      With parents   \n",
       "\n",
       "      DAYS_BIRTH  DAYS_EMPLOYED  FLAG_MOBIL  FLAG_WORK_PHONE     FLAG_PHONE  \\\n",
       "0    4185.016222  138770.072835         0.0         0.404523       0.452724   \n",
       "1  -15998.022996   60566.188769         1.0         0.206128       0.287770   \n",
       "2  438510.000000  438510.000000    438510.0    438510.000000  438510.000000   \n",
       "3  -25201.000000  -17531.000000         1.0         0.000000       0.000000   \n",
       "4   -7489.000000  365243.000000         1.0         1.000000       1.000000   \n",
       "\n",
       "      FLAG_EMAIL       OCCUPATION_TYPE  CNT_FAM_MEMBERS  \n",
       "0       0.310633                  None         0.897192  \n",
       "1       0.108200                  None         2.194463  \n",
       "2  438510.000000                304317    438510.000000  \n",
       "3       0.000000           Accountants         1.000000  \n",
       "4       1.000000  Waiters/barmen staff        20.000000  "
      ]
     },
     "execution_count": 21,
     "metadata": {},
     "output_type": "execute_result"
    }
   ],
   "source": [
    "# Obtaining simple statistics per column - why are some statistics missing?\n",
    "# Can you already identify problems in our data?\n",
    "# Hint: ID variables are useless for ML models (but we need it for joining)\n",
    "# Hint: Missing values for OCCUPATION_TYPE\n",
    "# Hint: Max Value for DAYS_EMPLOYED seems wrong\n",
    "application_record_sdf.describe().to_pandas()"
   ]
  },
  {
   "cell_type": "code",
   "execution_count": 22,
   "id": "5345c71d-0f91-4f28-8b10-a51a64d16d1a",
   "metadata": {
    "tags": []
   },
   "outputs": [
    {
     "data": {
      "text/html": [
       "<div>\n",
       "<style scoped>\n",
       "    .dataframe tbody tr th:only-of-type {\n",
       "        vertical-align: middle;\n",
       "    }\n",
       "\n",
       "    .dataframe tbody tr th {\n",
       "        vertical-align: top;\n",
       "    }\n",
       "\n",
       "    .dataframe thead th {\n",
       "        text-align: right;\n",
       "    }\n",
       "</style>\n",
       "<table border=\"1\" class=\"dataframe\">\n",
       "  <thead>\n",
       "    <tr style=\"text-align: right;\">\n",
       "      <th></th>\n",
       "      <th>SUMMARY</th>\n",
       "      <th>ID</th>\n",
       "      <th>CODE_GENDER</th>\n",
       "      <th>FLAG_OWN_CAR</th>\n",
       "      <th>FLAG_OWN_REALTY</th>\n",
       "      <th>CNT_CHILDREN</th>\n",
       "      <th>AMT_INCOME_TOTAL</th>\n",
       "      <th>NAME_INCOME_TYPE</th>\n",
       "      <th>NAME_EDUCATION_TYPE</th>\n",
       "      <th>NAME_FAMILY_STATUS</th>\n",
       "      <th>NAME_HOUSING_TYPE</th>\n",
       "      <th>DAYS_BIRTH</th>\n",
       "      <th>DAYS_EMPLOYED</th>\n",
       "      <th>FLAG_MOBIL</th>\n",
       "      <th>FLAG_WORK_PHONE</th>\n",
       "      <th>FLAG_PHONE</th>\n",
       "      <th>FLAG_EMAIL</th>\n",
       "      <th>OCCUPATION_TYPE</th>\n",
       "      <th>CNT_FAM_MEMBERS</th>\n",
       "    </tr>\n",
       "  </thead>\n",
       "  <tbody>\n",
       "    <tr>\n",
       "      <th>0</th>\n",
       "      <td>count</td>\n",
       "      <td>4.385100e+05</td>\n",
       "      <td>438510</td>\n",
       "      <td>438510</td>\n",
       "      <td>438510</td>\n",
       "      <td>438510.000000</td>\n",
       "      <td>4.385100e+05</td>\n",
       "      <td>438510</td>\n",
       "      <td>438510</td>\n",
       "      <td>438510</td>\n",
       "      <td>438510</td>\n",
       "      <td>438510.000000</td>\n",
       "      <td>438510.000000</td>\n",
       "      <td>438510.0</td>\n",
       "      <td>438510.000000</td>\n",
       "      <td>438510.000000</td>\n",
       "      <td>438510.000000</td>\n",
       "      <td>438510</td>\n",
       "      <td>438510.000000</td>\n",
       "    </tr>\n",
       "    <tr>\n",
       "      <th>1</th>\n",
       "      <td>mean</td>\n",
       "      <td>6.022035e+06</td>\n",
       "      <td>None</td>\n",
       "      <td>None</td>\n",
       "      <td>None</td>\n",
       "      <td>0.427381</td>\n",
       "      <td>1.875254e+05</td>\n",
       "      <td>None</td>\n",
       "      <td>None</td>\n",
       "      <td>None</td>\n",
       "      <td>None</td>\n",
       "      <td>-15998.022996</td>\n",
       "      <td>60566.188769</td>\n",
       "      <td>1.0</td>\n",
       "      <td>0.206128</td>\n",
       "      <td>0.287770</td>\n",
       "      <td>0.108200</td>\n",
       "      <td>None</td>\n",
       "      <td>2.194463</td>\n",
       "    </tr>\n",
       "    <tr>\n",
       "      <th>2</th>\n",
       "      <td>min</td>\n",
       "      <td>5.008804e+06</td>\n",
       "      <td>F</td>\n",
       "      <td>N</td>\n",
       "      <td>N</td>\n",
       "      <td>0.000000</td>\n",
       "      <td>2.610000e+04</td>\n",
       "      <td>Commercial associate</td>\n",
       "      <td>Academic degree</td>\n",
       "      <td>Civil marriage</td>\n",
       "      <td>Co-op apartment</td>\n",
       "      <td>-25201.000000</td>\n",
       "      <td>-17531.000000</td>\n",
       "      <td>1.0</td>\n",
       "      <td>0.000000</td>\n",
       "      <td>0.000000</td>\n",
       "      <td>0.000000</td>\n",
       "      <td>Accountants</td>\n",
       "      <td>1.000000</td>\n",
       "    </tr>\n",
       "    <tr>\n",
       "      <th>3</th>\n",
       "      <td>stddev</td>\n",
       "      <td>5.714962e+05</td>\n",
       "      <td>None</td>\n",
       "      <td>None</td>\n",
       "      <td>None</td>\n",
       "      <td>0.724874</td>\n",
       "      <td>1.100893e+05</td>\n",
       "      <td>None</td>\n",
       "      <td>None</td>\n",
       "      <td>None</td>\n",
       "      <td>None</td>\n",
       "      <td>4185.016222</td>\n",
       "      <td>138770.072835</td>\n",
       "      <td>0.0</td>\n",
       "      <td>0.404523</td>\n",
       "      <td>0.452724</td>\n",
       "      <td>0.310633</td>\n",
       "      <td>None</td>\n",
       "      <td>0.897192</td>\n",
       "    </tr>\n",
       "    <tr>\n",
       "      <th>4</th>\n",
       "      <td>max</td>\n",
       "      <td>7.999952e+06</td>\n",
       "      <td>M</td>\n",
       "      <td>Y</td>\n",
       "      <td>Y</td>\n",
       "      <td>19.000000</td>\n",
       "      <td>6.750000e+06</td>\n",
       "      <td>Working</td>\n",
       "      <td>Secondary / secondary special</td>\n",
       "      <td>Widow</td>\n",
       "      <td>With parents</td>\n",
       "      <td>-7489.000000</td>\n",
       "      <td>365243.000000</td>\n",
       "      <td>1.0</td>\n",
       "      <td>1.000000</td>\n",
       "      <td>1.000000</td>\n",
       "      <td>1.000000</td>\n",
       "      <td>Waiters/barmen staff</td>\n",
       "      <td>20.000000</td>\n",
       "    </tr>\n",
       "  </tbody>\n",
       "</table>\n",
       "</div>"
      ],
      "text/plain": [
       "  SUMMARY            ID CODE_GENDER FLAG_OWN_CAR FLAG_OWN_REALTY  \\\n",
       "0   count  4.385100e+05      438510       438510          438510   \n",
       "1    mean  6.022035e+06        None         None            None   \n",
       "2     min  5.008804e+06           F            N               N   \n",
       "3  stddev  5.714962e+05        None         None            None   \n",
       "4     max  7.999952e+06           M            Y               Y   \n",
       "\n",
       "    CNT_CHILDREN  AMT_INCOME_TOTAL      NAME_INCOME_TYPE  \\\n",
       "0  438510.000000      4.385100e+05                438510   \n",
       "1       0.427381      1.875254e+05                  None   \n",
       "2       0.000000      2.610000e+04  Commercial associate   \n",
       "3       0.724874      1.100893e+05                  None   \n",
       "4      19.000000      6.750000e+06               Working   \n",
       "\n",
       "             NAME_EDUCATION_TYPE NAME_FAMILY_STATUS NAME_HOUSING_TYPE  \\\n",
       "0                         438510             438510            438510   \n",
       "1                           None               None              None   \n",
       "2                Academic degree     Civil marriage   Co-op apartment   \n",
       "3                           None               None              None   \n",
       "4  Secondary / secondary special              Widow      With parents   \n",
       "\n",
       "      DAYS_BIRTH  DAYS_EMPLOYED  FLAG_MOBIL  FLAG_WORK_PHONE     FLAG_PHONE  \\\n",
       "0  438510.000000  438510.000000    438510.0    438510.000000  438510.000000   \n",
       "1  -15998.022996   60566.188769         1.0         0.206128       0.287770   \n",
       "2  -25201.000000  -17531.000000         1.0         0.000000       0.000000   \n",
       "3    4185.016222  138770.072835         0.0         0.404523       0.452724   \n",
       "4   -7489.000000  365243.000000         1.0         1.000000       1.000000   \n",
       "\n",
       "      FLAG_EMAIL       OCCUPATION_TYPE  CNT_FAM_MEMBERS  \n",
       "0  438510.000000                438510    438510.000000  \n",
       "1       0.108200                  None         2.194463  \n",
       "2       0.000000           Accountants         1.000000  \n",
       "3       0.310633                  None         0.897192  \n",
       "4       1.000000  Waiters/barmen staff        20.000000  "
      ]
     },
     "execution_count": 22,
     "metadata": {},
     "output_type": "execute_result"
    }
   ],
   "source": [
    "# We found missing values in OCCUPATION_TYPE - let's impute them\n",
    "application_record_sdf = application_record_sdf.fillna(value='OTHER', subset=['OCCUPATION_TYPE'])\n",
    "application_record_sdf.describe().to_pandas()"
   ]
  },
  {
   "cell_type": "code",
   "execution_count": 23,
   "id": "7aba25b4-778c-4464-8c82-196deb996805",
   "metadata": {
    "tags": []
   },
   "outputs": [
    {
     "data": {
      "text/html": [
       "<div>\n",
       "<style scoped>\n",
       "    .dataframe tbody tr th:only-of-type {\n",
       "        vertical-align: middle;\n",
       "    }\n",
       "\n",
       "    .dataframe tbody tr th {\n",
       "        vertical-align: top;\n",
       "    }\n",
       "\n",
       "    .dataframe thead th {\n",
       "        text-align: right;\n",
       "    }\n",
       "</style>\n",
       "<table border=\"1\" class=\"dataframe\">\n",
       "  <thead>\n",
       "    <tr style=\"text-align: right;\">\n",
       "      <th></th>\n",
       "      <th>COLUMN_NAME</th>\n",
       "      <th>NUM_UNIQUE_VALUES</th>\n",
       "    </tr>\n",
       "  </thead>\n",
       "  <tbody>\n",
       "    <tr>\n",
       "      <th>0</th>\n",
       "      <td>ID</td>\n",
       "      <td>438510</td>\n",
       "    </tr>\n",
       "    <tr>\n",
       "      <th>1</th>\n",
       "      <td>CODE_GENDER</td>\n",
       "      <td>2</td>\n",
       "    </tr>\n",
       "    <tr>\n",
       "      <th>2</th>\n",
       "      <td>FLAG_OWN_CAR</td>\n",
       "      <td>2</td>\n",
       "    </tr>\n",
       "    <tr>\n",
       "      <th>3</th>\n",
       "      <td>FLAG_OWN_REALTY</td>\n",
       "      <td>2</td>\n",
       "    </tr>\n",
       "    <tr>\n",
       "      <th>4</th>\n",
       "      <td>CNT_CHILDREN</td>\n",
       "      <td>12</td>\n",
       "    </tr>\n",
       "    <tr>\n",
       "      <th>5</th>\n",
       "      <td>AMT_INCOME_TOTAL</td>\n",
       "      <td>866</td>\n",
       "    </tr>\n",
       "    <tr>\n",
       "      <th>6</th>\n",
       "      <td>NAME_INCOME_TYPE</td>\n",
       "      <td>5</td>\n",
       "    </tr>\n",
       "    <tr>\n",
       "      <th>7</th>\n",
       "      <td>NAME_EDUCATION_TYPE</td>\n",
       "      <td>5</td>\n",
       "    </tr>\n",
       "    <tr>\n",
       "      <th>8</th>\n",
       "      <td>NAME_FAMILY_STATUS</td>\n",
       "      <td>5</td>\n",
       "    </tr>\n",
       "    <tr>\n",
       "      <th>9</th>\n",
       "      <td>NAME_HOUSING_TYPE</td>\n",
       "      <td>6</td>\n",
       "    </tr>\n",
       "    <tr>\n",
       "      <th>10</th>\n",
       "      <td>DAYS_BIRTH</td>\n",
       "      <td>16379</td>\n",
       "    </tr>\n",
       "    <tr>\n",
       "      <th>11</th>\n",
       "      <td>DAYS_EMPLOYED</td>\n",
       "      <td>9406</td>\n",
       "    </tr>\n",
       "    <tr>\n",
       "      <th>12</th>\n",
       "      <td>FLAG_MOBIL</td>\n",
       "      <td>1</td>\n",
       "    </tr>\n",
       "    <tr>\n",
       "      <th>13</th>\n",
       "      <td>FLAG_WORK_PHONE</td>\n",
       "      <td>2</td>\n",
       "    </tr>\n",
       "    <tr>\n",
       "      <th>14</th>\n",
       "      <td>FLAG_PHONE</td>\n",
       "      <td>2</td>\n",
       "    </tr>\n",
       "    <tr>\n",
       "      <th>15</th>\n",
       "      <td>FLAG_EMAIL</td>\n",
       "      <td>2</td>\n",
       "    </tr>\n",
       "    <tr>\n",
       "      <th>16</th>\n",
       "      <td>OCCUPATION_TYPE</td>\n",
       "      <td>19</td>\n",
       "    </tr>\n",
       "    <tr>\n",
       "      <th>17</th>\n",
       "      <td>CNT_FAM_MEMBERS</td>\n",
       "      <td>13</td>\n",
       "    </tr>\n",
       "  </tbody>\n",
       "</table>\n",
       "</div>"
      ],
      "text/plain": [
       "            COLUMN_NAME  NUM_UNIQUE_VALUES\n",
       "0                    ID             438510\n",
       "1           CODE_GENDER                  2\n",
       "2          FLAG_OWN_CAR                  2\n",
       "3       FLAG_OWN_REALTY                  2\n",
       "4          CNT_CHILDREN                 12\n",
       "5      AMT_INCOME_TOTAL                866\n",
       "6      NAME_INCOME_TYPE                  5\n",
       "7   NAME_EDUCATION_TYPE                  5\n",
       "8    NAME_FAMILY_STATUS                  5\n",
       "9     NAME_HOUSING_TYPE                  6\n",
       "10           DAYS_BIRTH              16379\n",
       "11        DAYS_EMPLOYED               9406\n",
       "12           FLAG_MOBIL                  1\n",
       "13      FLAG_WORK_PHONE                  2\n",
       "14           FLAG_PHONE                  2\n",
       "15           FLAG_EMAIL                  2\n",
       "16      OCCUPATION_TYPE                 19\n",
       "17      CNT_FAM_MEMBERS                 13"
      ]
     },
     "execution_count": 23,
     "metadata": {},
     "output_type": "execute_result"
    }
   ],
   "source": [
    "# How many distinct values do we have per column?\n",
    "# Hint: Constant values are probably irrelevant\n",
    "# Hint: Variables with many different values can be problematic\n",
    "unique_values = []\n",
    "for column in application_record_sdf.columns:\n",
    "    unique_values.append([column, application_record_sdf.select(column).distinct().count()])\n",
    "pd.DataFrame(unique_values, columns=['COLUMN_NAME','NUM_UNIQUE_VALUES'])"
   ]
  },
  {
   "cell_type": "code",
   "execution_count": 24,
   "id": "2426c7d2-d073-4ff8-a77c-713a640dd65b",
   "metadata": {
    "tags": []
   },
   "outputs": [],
   "source": [
    "# We found FLAG_MOBIL to be constant, lets drop it\n",
    "application_record_sdf = application_record_sdf.drop('FLAG_MOBIL')"
   ]
  },
  {
   "cell_type": "code",
   "execution_count": 25,
   "id": "414fc013-6bb0-4bb6-9ac3-b00e9d1dac6c",
   "metadata": {
    "tags": []
   },
   "outputs": [
    {
     "data": {
      "text/html": [
       "<div>\n",
       "<style scoped>\n",
       "    .dataframe tbody tr th:only-of-type {\n",
       "        vertical-align: middle;\n",
       "    }\n",
       "\n",
       "    .dataframe tbody tr th {\n",
       "        vertical-align: top;\n",
       "    }\n",
       "\n",
       "    .dataframe thead th {\n",
       "        text-align: right;\n",
       "    }\n",
       "</style>\n",
       "<table border=\"1\" class=\"dataframe\">\n",
       "  <thead>\n",
       "    <tr style=\"text-align: right;\">\n",
       "      <th></th>\n",
       "      <th>SUMMARY</th>\n",
       "      <th>ID</th>\n",
       "      <th>MONTHS_BALANCE</th>\n",
       "      <th>STATUS</th>\n",
       "    </tr>\n",
       "  </thead>\n",
       "  <tbody>\n",
       "    <tr>\n",
       "      <th>0</th>\n",
       "      <td>count</td>\n",
       "      <td>1.048575e+06</td>\n",
       "      <td>1.048575e+06</td>\n",
       "      <td>1048575</td>\n",
       "    </tr>\n",
       "    <tr>\n",
       "      <th>1</th>\n",
       "      <td>mean</td>\n",
       "      <td>5.068286e+06</td>\n",
       "      <td>-1.913700e+01</td>\n",
       "      <td>None</td>\n",
       "    </tr>\n",
       "    <tr>\n",
       "      <th>2</th>\n",
       "      <td>stddev</td>\n",
       "      <td>4.615058e+04</td>\n",
       "      <td>1.402350e+01</td>\n",
       "      <td>None</td>\n",
       "    </tr>\n",
       "    <tr>\n",
       "      <th>3</th>\n",
       "      <td>min</td>\n",
       "      <td>5.001711e+06</td>\n",
       "      <td>-6.000000e+01</td>\n",
       "      <td>0</td>\n",
       "    </tr>\n",
       "    <tr>\n",
       "      <th>4</th>\n",
       "      <td>max</td>\n",
       "      <td>5.150487e+06</td>\n",
       "      <td>0.000000e+00</td>\n",
       "      <td>X</td>\n",
       "    </tr>\n",
       "  </tbody>\n",
       "</table>\n",
       "</div>"
      ],
      "text/plain": [
       "  SUMMARY            ID  MONTHS_BALANCE   STATUS\n",
       "0   count  1.048575e+06    1.048575e+06  1048575\n",
       "1    mean  5.068286e+06   -1.913700e+01     None\n",
       "2  stddev  4.615058e+04    1.402350e+01     None\n",
       "3     min  5.001711e+06   -6.000000e+01        0\n",
       "4     max  5.150487e+06    0.000000e+00        X"
      ]
     },
     "execution_count": 25,
     "metadata": {},
     "output_type": "execute_result"
    }
   ],
   "source": [
    "credit_record_sdf.describe().to_pandas()"
   ]
  },
  {
   "cell_type": "markdown",
   "id": "e90e46b7-d14f-4946-a7ca-ec3c4f8eefc2",
   "metadata": {
    "tags": []
   },
   "source": [
    "### Response Variable (Target)\n",
    "\n",
    "Explanation of Status Variable:\n",
    "* 0: 1-29 days past due\n",
    "* 1: 30-59 days past due\n",
    "* 2: 60-89 days overdue\n",
    "* 3: 90-119 days overdue\n",
    "* 4: 120-149 days overdue\n",
    "* 5: Overdue or bad debts, write-offs for more than 150 days\n",
    "* C: paid off that month\n",
    "* X: No loan for the month\n",
    "\n",
    "We will flag credit customers high-risk (1), if during any month they are late on payments by 60 days or more.\n",
    "All other customers are low-risk (0)."
   ]
  },
  {
   "cell_type": "code",
   "execution_count": 27,
   "id": "fdd09b36-9811-4caf-814e-f3e9733827f7",
   "metadata": {
    "tags": []
   },
   "outputs": [
    {
     "data": {
      "text/html": [
       "<div>\n",
       "<style scoped>\n",
       "    .dataframe tbody tr th:only-of-type {\n",
       "        vertical-align: middle;\n",
       "    }\n",
       "\n",
       "    .dataframe tbody tr th {\n",
       "        vertical-align: top;\n",
       "    }\n",
       "\n",
       "    .dataframe thead th {\n",
       "        text-align: right;\n",
       "    }\n",
       "</style>\n",
       "<table border=\"1\" class=\"dataframe\">\n",
       "  <thead>\n",
       "    <tr style=\"text-align: right;\">\n",
       "      <th></th>\n",
       "      <th>STATUS</th>\n",
       "      <th>COUNT</th>\n",
       "    </tr>\n",
       "  </thead>\n",
       "  <tbody>\n",
       "    <tr>\n",
       "      <th>0</th>\n",
       "      <td>0</td>\n",
       "      <td>383120</td>\n",
       "    </tr>\n",
       "    <tr>\n",
       "      <th>1</th>\n",
       "      <td>1</td>\n",
       "      <td>11090</td>\n",
       "    </tr>\n",
       "    <tr>\n",
       "      <th>2</th>\n",
       "      <td>2</td>\n",
       "      <td>868</td>\n",
       "    </tr>\n",
       "    <tr>\n",
       "      <th>3</th>\n",
       "      <td>3</td>\n",
       "      <td>320</td>\n",
       "    </tr>\n",
       "    <tr>\n",
       "      <th>4</th>\n",
       "      <td>4</td>\n",
       "      <td>223</td>\n",
       "    </tr>\n",
       "    <tr>\n",
       "      <th>5</th>\n",
       "      <td>5</td>\n",
       "      <td>1693</td>\n",
       "    </tr>\n",
       "    <tr>\n",
       "      <th>6</th>\n",
       "      <td>C</td>\n",
       "      <td>442031</td>\n",
       "    </tr>\n",
       "    <tr>\n",
       "      <th>7</th>\n",
       "      <td>X</td>\n",
       "      <td>209230</td>\n",
       "    </tr>\n",
       "  </tbody>\n",
       "</table>\n",
       "</div>"
      ],
      "text/plain": [
       "  STATUS   COUNT\n",
       "0      0  383120\n",
       "1      1   11090\n",
       "2      2     868\n",
       "3      3     320\n",
       "4      4     223\n",
       "5      5    1693\n",
       "6      C  442031\n",
       "7      X  209230"
      ]
     },
     "execution_count": 27,
     "metadata": {},
     "output_type": "execute_result"
    }
   ],
   "source": [
    "credit_record_sdf.group_by('STATUS').count().sort('STATUS').to_pandas()"
   ]
  },
  {
   "cell_type": "code",
   "execution_count": 28,
   "id": "af8aee3b-ec4c-4542-8e72-5876062d73ef",
   "metadata": {
    "tags": []
   },
   "outputs": [],
   "source": [
    "credit_record_sdf = credit_record_sdf.with_column('TARGET', \n",
    "                                                  F.when((F.col('STATUS') == '2') | \n",
    "                                                         (F.col('STATUS') == '3') | \n",
    "                                                         (F.col('STATUS') == '4') | \n",
    "                                                         (F.col('STATUS') == '5'), 'YES'))"
   ]
  },
  {
   "cell_type": "code",
   "execution_count": 29,
   "id": "2c168238-6625-4213-8e22-b489417326e1",
   "metadata": {
    "tags": []
   },
   "outputs": [],
   "source": [
    "cpunt = credit_record_sdf.group_by('ID').agg(F.count('TARGET').as_('TARGET'))\n",
    "cpunt = cpunt.with_column('TARGET', F.when(F.col('TARGET') > 0, 1).otherwise(0))\n",
    "cpunt = cpunt.drop('DEP_VALUE')"
   ]
  },
  {
   "cell_type": "code",
   "execution_count": 31,
   "id": "ff0d580d-faf2-45aa-914d-05dd1e59bf2d",
   "metadata": {
    "tags": []
   },
   "outputs": [
    {
     "data": {
      "text/html": [
       "<div>\n",
       "<style scoped>\n",
       "    .dataframe tbody tr th:only-of-type {\n",
       "        vertical-align: middle;\n",
       "    }\n",
       "\n",
       "    .dataframe tbody tr th {\n",
       "        vertical-align: top;\n",
       "    }\n",
       "\n",
       "    .dataframe thead th {\n",
       "        text-align: right;\n",
       "    }\n",
       "</style>\n",
       "<table border=\"1\" class=\"dataframe\">\n",
       "  <thead>\n",
       "    <tr style=\"text-align: right;\">\n",
       "      <th></th>\n",
       "      <th>TARGET</th>\n",
       "      <th>COUNT(TARGET)</th>\n",
       "    </tr>\n",
       "  </thead>\n",
       "  <tbody>\n",
       "    <tr>\n",
       "      <th>0</th>\n",
       "      <td>0</td>\n",
       "      <td>45318</td>\n",
       "    </tr>\n",
       "    <tr>\n",
       "      <th>1</th>\n",
       "      <td>1</td>\n",
       "      <td>667</td>\n",
       "    </tr>\n",
       "  </tbody>\n",
       "</table>\n",
       "</div>"
      ],
      "text/plain": [
       "   TARGET  COUNT(TARGET)\n",
       "0       0          45318\n",
       "1       1            667"
      ]
     },
     "execution_count": 31,
     "metadata": {},
     "output_type": "execute_result"
    }
   ],
   "source": [
    "# Target Variable Distribution\n",
    "# Hint: Highly imbalanced target variables can be problematic\n",
    "cpunt.group_by('TARGET').agg(F.count('TARGET')).to_pandas()"
   ]
  },
  {
   "cell_type": "code",
   "execution_count": 32,
   "id": "7f5ff47b-434a-4184-b892-a876f181e1a9",
   "metadata": {
    "tags": []
   },
   "outputs": [
    {
     "data": {
      "text/plain": [
       "36457"
      ]
     },
     "execution_count": 32,
     "metadata": {},
     "output_type": "execute_result"
    }
   ],
   "source": [
    "# Joining our target variable to our customer records\n",
    "application_record_sdf = application_record_sdf.join(cpunt, using_columns='ID', join_type='inner')\n",
    "# Finally we can drop the ID variable as we won't use it for training\n",
    "application_record_sdf = application_record_sdf.drop('ID')\n",
    "application_record_sdf.count()"
   ]
  },
  {
   "cell_type": "markdown",
   "id": "70168ca2-6cce-47a5-9f32-ac3a5d7009ee",
   "metadata": {},
   "source": [
    "## Feature Engineering\n",
    "For many ML algorithms we need numeric data, so we'll encode our variables.\n",
    "Sometimes this requires simple replacement, but sometimes we also need other techniques like buckets.\n",
    "\n",
    "### Binary Variables\n",
    "\n",
    "#### Gender"
   ]
  },
  {
   "cell_type": "code",
   "execution_count": 33,
   "id": "b5fa2ca8-f284-470e-ab2b-6275bb264f5f",
   "metadata": {
    "tags": []
   },
   "outputs": [
    {
     "data": {
      "text/html": [
       "<div>\n",
       "<style scoped>\n",
       "    .dataframe tbody tr th:only-of-type {\n",
       "        vertical-align: middle;\n",
       "    }\n",
       "\n",
       "    .dataframe tbody tr th {\n",
       "        vertical-align: top;\n",
       "    }\n",
       "\n",
       "    .dataframe thead th {\n",
       "        text-align: right;\n",
       "    }\n",
       "</style>\n",
       "<table border=\"1\" class=\"dataframe\">\n",
       "  <thead>\n",
       "    <tr style=\"text-align: right;\">\n",
       "      <th></th>\n",
       "      <th>CODE_GENDER</th>\n",
       "      <th>COUNT</th>\n",
       "      <th>HIGH_RISK</th>\n",
       "      <th>HIGH_RISK_RATIO</th>\n",
       "    </tr>\n",
       "  </thead>\n",
       "  <tbody>\n",
       "    <tr>\n",
       "      <th>0</th>\n",
       "      <td>F</td>\n",
       "      <td>24430</td>\n",
       "      <td>379</td>\n",
       "      <td>0.015514</td>\n",
       "    </tr>\n",
       "    <tr>\n",
       "      <th>1</th>\n",
       "      <td>M</td>\n",
       "      <td>12027</td>\n",
       "      <td>237</td>\n",
       "      <td>0.019706</td>\n",
       "    </tr>\n",
       "  </tbody>\n",
       "</table>\n",
       "</div>"
      ],
      "text/plain": [
       "  CODE_GENDER  COUNT  HIGH_RISK HIGH_RISK_RATIO\n",
       "0           F  24430        379        0.015514\n",
       "1           M  12027        237        0.019706"
      ]
     },
     "execution_count": 33,
     "metadata": {},
     "output_type": "execute_result"
    }
   ],
   "source": [
    "# High Risk Ratio for CODE_GENDER\n",
    "var_analysis = application_record_sdf.group_by('CODE_GENDER')\n",
    "var_analysis = var_analysis.agg([F.count('CODE_GENDER').as_('COUNT'), \n",
    "                                 F.sum('TARGET').as_('HIGH_RISK')])\n",
    "var_analysis = var_analysis.with_column('HIGH_RISK_RATIO', F.col('HIGH_RISK') / F.col('COUNT'))\n",
    "var_analysis.sort('CODE_GENDER').to_pandas()"
   ]
  },
  {
   "cell_type": "code",
   "execution_count": 34,
   "id": "1e3b3568-0bb5-4ea8-8b08-83d05f66f617",
   "metadata": {
    "tags": []
   },
   "outputs": [],
   "source": [
    "# Encoding M/F to 0/1\n",
    "application_record_sdf = application_record_sdf.with_column('CODE_GENDER', \n",
    "                                                            F.iff(F.col('CODE_GENDER') == 'F', 0, 1))"
   ]
  },
  {
   "cell_type": "markdown",
   "id": "7f1f3e71-0d4a-490a-849e-0282c1f281de",
   "metadata": {},
   "source": [
    "### Car"
   ]
  },
  {
   "cell_type": "code",
   "execution_count": 35,
   "id": "122f44f7-34c1-4f59-a747-dce6031ca7fd",
   "metadata": {
    "tags": []
   },
   "outputs": [
    {
     "data": {
      "text/html": [
       "<div>\n",
       "<style scoped>\n",
       "    .dataframe tbody tr th:only-of-type {\n",
       "        vertical-align: middle;\n",
       "    }\n",
       "\n",
       "    .dataframe tbody tr th {\n",
       "        vertical-align: top;\n",
       "    }\n",
       "\n",
       "    .dataframe thead th {\n",
       "        text-align: right;\n",
       "    }\n",
       "</style>\n",
       "<table border=\"1\" class=\"dataframe\">\n",
       "  <thead>\n",
       "    <tr style=\"text-align: right;\">\n",
       "      <th></th>\n",
       "      <th>FLAG_OWN_CAR</th>\n",
       "      <th>COUNT</th>\n",
       "      <th>HIGH_RISK</th>\n",
       "      <th>HIGH_RISK_RATIO</th>\n",
       "    </tr>\n",
       "  </thead>\n",
       "  <tbody>\n",
       "    <tr>\n",
       "      <th>0</th>\n",
       "      <td>N</td>\n",
       "      <td>22614</td>\n",
       "      <td>392</td>\n",
       "      <td>0.017334</td>\n",
       "    </tr>\n",
       "    <tr>\n",
       "      <th>1</th>\n",
       "      <td>Y</td>\n",
       "      <td>13843</td>\n",
       "      <td>224</td>\n",
       "      <td>0.016181</td>\n",
       "    </tr>\n",
       "  </tbody>\n",
       "</table>\n",
       "</div>"
      ],
      "text/plain": [
       "  FLAG_OWN_CAR  COUNT  HIGH_RISK HIGH_RISK_RATIO\n",
       "0            N  22614        392        0.017334\n",
       "1            Y  13843        224        0.016181"
      ]
     },
     "execution_count": 35,
     "metadata": {},
     "output_type": "execute_result"
    }
   ],
   "source": [
    "# High Risk Ratio for FLAG_OWN_CAR\n",
    "var_analysis = application_record_sdf.group_by('FLAG_OWN_CAR')\n",
    "var_analysis = var_analysis.agg([F.count('FLAG_OWN_CAR').as_('COUNT'), \n",
    "                                 F.sum('TARGET').as_('HIGH_RISK')])\n",
    "var_analysis = var_analysis.with_column('HIGH_RISK_RATIO', F.col('HIGH_RISK') / F.col('COUNT'))\n",
    "var_analysis.sort('FLAG_OWN_CAR').to_pandas()"
   ]
  },
  {
   "cell_type": "code",
   "execution_count": 36,
   "id": "00a828e1-1f75-45a1-b2f4-c198a4278b79",
   "metadata": {
    "tags": []
   },
   "outputs": [],
   "source": [
    "# Encoding N/Y to 0/1\n",
    "application_record_sdf = application_record_sdf.with_column('FLAG_OWN_CAR', \n",
    "                                                            F.iff(F.col('FLAG_OWN_CAR') == 'N', 0, 1))"
   ]
  },
  {
   "cell_type": "markdown",
   "id": "aaba35c5-931e-4275-aa84-46ebc7a1562d",
   "metadata": {},
   "source": [
    "### Realty"
   ]
  },
  {
   "cell_type": "code",
   "execution_count": 37,
   "id": "ff47ab1a-6410-46c5-a031-c80680b3a817",
   "metadata": {
    "tags": []
   },
   "outputs": [
    {
     "data": {
      "text/html": [
       "<div>\n",
       "<style scoped>\n",
       "    .dataframe tbody tr th:only-of-type {\n",
       "        vertical-align: middle;\n",
       "    }\n",
       "\n",
       "    .dataframe tbody tr th {\n",
       "        vertical-align: top;\n",
       "    }\n",
       "\n",
       "    .dataframe thead th {\n",
       "        text-align: right;\n",
       "    }\n",
       "</style>\n",
       "<table border=\"1\" class=\"dataframe\">\n",
       "  <thead>\n",
       "    <tr style=\"text-align: right;\">\n",
       "      <th></th>\n",
       "      <th>FLAG_OWN_REALTY</th>\n",
       "      <th>COUNT</th>\n",
       "      <th>HIGH_RISK</th>\n",
       "      <th>HIGH_RISK_RATIO</th>\n",
       "    </tr>\n",
       "  </thead>\n",
       "  <tbody>\n",
       "    <tr>\n",
       "      <th>0</th>\n",
       "      <td>N</td>\n",
       "      <td>11951</td>\n",
       "      <td>251</td>\n",
       "      <td>0.021002</td>\n",
       "    </tr>\n",
       "    <tr>\n",
       "      <th>1</th>\n",
       "      <td>Y</td>\n",
       "      <td>24506</td>\n",
       "      <td>365</td>\n",
       "      <td>0.014894</td>\n",
       "    </tr>\n",
       "  </tbody>\n",
       "</table>\n",
       "</div>"
      ],
      "text/plain": [
       "  FLAG_OWN_REALTY  COUNT  HIGH_RISK HIGH_RISK_RATIO\n",
       "0               N  11951        251        0.021002\n",
       "1               Y  24506        365        0.014894"
      ]
     },
     "execution_count": 37,
     "metadata": {},
     "output_type": "execute_result"
    }
   ],
   "source": [
    "# High Risk Ratio for FLAG_OWN_CAR\n",
    "var_analysis = application_record_sdf.group_by('FLAG_OWN_REALTY')\n",
    "var_analysis = var_analysis.agg([F.count('FLAG_OWN_REALTY').as_('COUNT'), \n",
    "                                 F.sum('TARGET').as_('HIGH_RISK')])\n",
    "var_analysis = var_analysis.with_column('HIGH_RISK_RATIO', F.col('HIGH_RISK') / F.col('COUNT'))\n",
    "var_analysis.sort('FLAG_OWN_REALTY').to_pandas()"
   ]
  },
  {
   "cell_type": "code",
   "execution_count": 38,
   "id": "4e95e110-d2e5-4d0b-89e9-5e84ab6e7a5d",
   "metadata": {
    "tags": []
   },
   "outputs": [],
   "source": [
    "# Encoding N/Y to 0/1\n",
    "application_record_sdf = application_record_sdf.with_column('FLAG_OWN_REALTY', \n",
    "                                                            F.iff(F.col('FLAG_OWN_REALTY') == 'N', 0, 1))"
   ]
  },
  {
   "cell_type": "markdown",
   "id": "ff79068a-ef6a-40c9-8469-bb35774f0105",
   "metadata": {
    "tags": []
   },
   "source": [
    "## Continious Variables\n",
    "\n",
    "### Children"
   ]
  },
  {
   "cell_type": "code",
   "execution_count": 40,
   "id": "f6752227-1acd-47bb-8c07-1a8ce3e992c7",
   "metadata": {
    "tags": []
   },
   "outputs": [
    {
     "data": {
      "text/html": [
       "<div>\n",
       "<style scoped>\n",
       "    .dataframe tbody tr th:only-of-type {\n",
       "        vertical-align: middle;\n",
       "    }\n",
       "\n",
       "    .dataframe tbody tr th {\n",
       "        vertical-align: top;\n",
       "    }\n",
       "\n",
       "    .dataframe thead th {\n",
       "        text-align: right;\n",
       "    }\n",
       "</style>\n",
       "<table border=\"1\" class=\"dataframe\">\n",
       "  <thead>\n",
       "    <tr style=\"text-align: right;\">\n",
       "      <th></th>\n",
       "      <th>CNT_CHILDREN</th>\n",
       "      <th>COUNT</th>\n",
       "      <th>HIGH_RISK</th>\n",
       "      <th>HIGH_RISK_RATIO</th>\n",
       "    </tr>\n",
       "  </thead>\n",
       "  <tbody>\n",
       "    <tr>\n",
       "      <th>0</th>\n",
       "      <td>0</td>\n",
       "      <td>25201</td>\n",
       "      <td>431</td>\n",
       "      <td>0.017102</td>\n",
       "    </tr>\n",
       "    <tr>\n",
       "      <th>1</th>\n",
       "      <td>1</td>\n",
       "      <td>7492</td>\n",
       "      <td>120</td>\n",
       "      <td>0.016017</td>\n",
       "    </tr>\n",
       "    <tr>\n",
       "      <th>2</th>\n",
       "      <td>2</td>\n",
       "      <td>3256</td>\n",
       "      <td>52</td>\n",
       "      <td>0.015971</td>\n",
       "    </tr>\n",
       "    <tr>\n",
       "      <th>3</th>\n",
       "      <td>3</td>\n",
       "      <td>419</td>\n",
       "      <td>12</td>\n",
       "      <td>0.028640</td>\n",
       "    </tr>\n",
       "    <tr>\n",
       "      <th>4</th>\n",
       "      <td>4</td>\n",
       "      <td>63</td>\n",
       "      <td>1</td>\n",
       "      <td>0.015873</td>\n",
       "    </tr>\n",
       "    <tr>\n",
       "      <th>5</th>\n",
       "      <td>5</td>\n",
       "      <td>20</td>\n",
       "      <td>0</td>\n",
       "      <td>0.000000</td>\n",
       "    </tr>\n",
       "    <tr>\n",
       "      <th>6</th>\n",
       "      <td>7</td>\n",
       "      <td>2</td>\n",
       "      <td>0</td>\n",
       "      <td>0.000000</td>\n",
       "    </tr>\n",
       "    <tr>\n",
       "      <th>7</th>\n",
       "      <td>14</td>\n",
       "      <td>3</td>\n",
       "      <td>0</td>\n",
       "      <td>0.000000</td>\n",
       "    </tr>\n",
       "    <tr>\n",
       "      <th>8</th>\n",
       "      <td>19</td>\n",
       "      <td>1</td>\n",
       "      <td>0</td>\n",
       "      <td>0.000000</td>\n",
       "    </tr>\n",
       "  </tbody>\n",
       "</table>\n",
       "</div>"
      ],
      "text/plain": [
       "   CNT_CHILDREN  COUNT  HIGH_RISK HIGH_RISK_RATIO\n",
       "0             0  25201        431        0.017102\n",
       "1             1   7492        120        0.016017\n",
       "2             2   3256         52        0.015971\n",
       "3             3    419         12        0.028640\n",
       "4             4     63          1        0.015873\n",
       "5             5     20          0        0.000000\n",
       "6             7      2          0        0.000000\n",
       "7            14      3          0        0.000000\n",
       "8            19      1          0        0.000000"
      ]
     },
     "execution_count": 40,
     "metadata": {},
     "output_type": "execute_result"
    }
   ],
   "source": [
    "# High Risk Ratio for CNT_CHILDREN\n",
    "var_analysis = application_record_sdf.group_by('CNT_CHILDREN')\n",
    "var_analysis = var_analysis.agg([F.count('CNT_CHILDREN').as_('COUNT'), \n",
    "                                 F.sum('TARGET').as_('HIGH_RISK')])\n",
    "var_analysis = var_analysis.with_column('HIGH_RISK_RATIO', F.col('HIGH_RISK') / F.col('COUNT'))\n",
    "var_analysis.sort('CNT_CHILDREN').to_pandas()"
   ]
  },
  {
   "cell_type": "markdown",
   "id": "67d3bc0f-30cf-4b71-928b-c84c2d50baba",
   "metadata": {},
   "source": [
    "### One-Hot-Encoding"
   ]
  },
  {
   "cell_type": "code",
   "execution_count": 45,
   "id": "e92da747-cfa8-4c55-9eaa-f3c3876b92c7",
   "metadata": {
    "tags": []
   },
   "outputs": [
    {
     "name": "stdout",
     "output_type": "stream",
     "text": [
      "Cloning into 'snowpark-python-demos'...\n",
      "remote: Enumerating objects: 867, done.\u001b[K\n",
      "remote: Counting objects: 100% (92/92), done.\u001b[K\n",
      "remote: Compressing objects: 100% (71/71), done.\u001b[K\n",
      "remote: Total 867 (delta 29), reused 68 (delta 21), pack-reused 775\u001b[K\n",
      "Receiving objects: 100% (867/867), 219.99 MiB | 34.82 MiB/s, done.\n",
      "Resolving deltas: 100% (431/431), done.\n",
      "Checking out files: 100% (140/140), done.\n"
     ]
    }
   ],
   "source": [
    "!git clone https://github.com/Snowflake-Labs/snowpark-python-demos.git"
   ]
  }
 ],
 "metadata": {
  "availableInstances": [
   {
    "_defaultOrder": 0,
    "_isFastLaunch": true,
    "category": "General purpose",
    "gpuNum": 0,
    "hideHardwareSpecs": false,
    "memoryGiB": 4,
    "name": "ml.t3.medium",
    "vcpuNum": 2
   },
   {
    "_defaultOrder": 1,
    "_isFastLaunch": false,
    "category": "General purpose",
    "gpuNum": 0,
    "hideHardwareSpecs": false,
    "memoryGiB": 8,
    "name": "ml.t3.large",
    "vcpuNum": 2
   },
   {
    "_defaultOrder": 2,
    "_isFastLaunch": false,
    "category": "General purpose",
    "gpuNum": 0,
    "hideHardwareSpecs": false,
    "memoryGiB": 16,
    "name": "ml.t3.xlarge",
    "vcpuNum": 4
   },
   {
    "_defaultOrder": 3,
    "_isFastLaunch": false,
    "category": "General purpose",
    "gpuNum": 0,
    "hideHardwareSpecs": false,
    "memoryGiB": 32,
    "name": "ml.t3.2xlarge",
    "vcpuNum": 8
   },
   {
    "_defaultOrder": 4,
    "_isFastLaunch": true,
    "category": "General purpose",
    "gpuNum": 0,
    "hideHardwareSpecs": false,
    "memoryGiB": 8,
    "name": "ml.m5.large",
    "vcpuNum": 2
   },
   {
    "_defaultOrder": 5,
    "_isFastLaunch": false,
    "category": "General purpose",
    "gpuNum": 0,
    "hideHardwareSpecs": false,
    "memoryGiB": 16,
    "name": "ml.m5.xlarge",
    "vcpuNum": 4
   },
   {
    "_defaultOrder": 6,
    "_isFastLaunch": false,
    "category": "General purpose",
    "gpuNum": 0,
    "hideHardwareSpecs": false,
    "memoryGiB": 32,
    "name": "ml.m5.2xlarge",
    "vcpuNum": 8
   },
   {
    "_defaultOrder": 7,
    "_isFastLaunch": false,
    "category": "General purpose",
    "gpuNum": 0,
    "hideHardwareSpecs": false,
    "memoryGiB": 64,
    "name": "ml.m5.4xlarge",
    "vcpuNum": 16
   },
   {
    "_defaultOrder": 8,
    "_isFastLaunch": false,
    "category": "General purpose",
    "gpuNum": 0,
    "hideHardwareSpecs": false,
    "memoryGiB": 128,
    "name": "ml.m5.8xlarge",
    "vcpuNum": 32
   },
   {
    "_defaultOrder": 9,
    "_isFastLaunch": false,
    "category": "General purpose",
    "gpuNum": 0,
    "hideHardwareSpecs": false,
    "memoryGiB": 192,
    "name": "ml.m5.12xlarge",
    "vcpuNum": 48
   },
   {
    "_defaultOrder": 10,
    "_isFastLaunch": false,
    "category": "General purpose",
    "gpuNum": 0,
    "hideHardwareSpecs": false,
    "memoryGiB": 256,
    "name": "ml.m5.16xlarge",
    "vcpuNum": 64
   },
   {
    "_defaultOrder": 11,
    "_isFastLaunch": false,
    "category": "General purpose",
    "gpuNum": 0,
    "hideHardwareSpecs": false,
    "memoryGiB": 384,
    "name": "ml.m5.24xlarge",
    "vcpuNum": 96
   },
   {
    "_defaultOrder": 12,
    "_isFastLaunch": false,
    "category": "General purpose",
    "gpuNum": 0,
    "hideHardwareSpecs": false,
    "memoryGiB": 8,
    "name": "ml.m5d.large",
    "vcpuNum": 2
   },
   {
    "_defaultOrder": 13,
    "_isFastLaunch": false,
    "category": "General purpose",
    "gpuNum": 0,
    "hideHardwareSpecs": false,
    "memoryGiB": 16,
    "name": "ml.m5d.xlarge",
    "vcpuNum": 4
   },
   {
    "_defaultOrder": 14,
    "_isFastLaunch": false,
    "category": "General purpose",
    "gpuNum": 0,
    "hideHardwareSpecs": false,
    "memoryGiB": 32,
    "name": "ml.m5d.2xlarge",
    "vcpuNum": 8
   },
   {
    "_defaultOrder": 15,
    "_isFastLaunch": false,
    "category": "General purpose",
    "gpuNum": 0,
    "hideHardwareSpecs": false,
    "memoryGiB": 64,
    "name": "ml.m5d.4xlarge",
    "vcpuNum": 16
   },
   {
    "_defaultOrder": 16,
    "_isFastLaunch": false,
    "category": "General purpose",
    "gpuNum": 0,
    "hideHardwareSpecs": false,
    "memoryGiB": 128,
    "name": "ml.m5d.8xlarge",
    "vcpuNum": 32
   },
   {
    "_defaultOrder": 17,
    "_isFastLaunch": false,
    "category": "General purpose",
    "gpuNum": 0,
    "hideHardwareSpecs": false,
    "memoryGiB": 192,
    "name": "ml.m5d.12xlarge",
    "vcpuNum": 48
   },
   {
    "_defaultOrder": 18,
    "_isFastLaunch": false,
    "category": "General purpose",
    "gpuNum": 0,
    "hideHardwareSpecs": false,
    "memoryGiB": 256,
    "name": "ml.m5d.16xlarge",
    "vcpuNum": 64
   },
   {
    "_defaultOrder": 19,
    "_isFastLaunch": false,
    "category": "General purpose",
    "gpuNum": 0,
    "hideHardwareSpecs": false,
    "memoryGiB": 384,
    "name": "ml.m5d.24xlarge",
    "vcpuNum": 96
   },
   {
    "_defaultOrder": 20,
    "_isFastLaunch": false,
    "category": "General purpose",
    "gpuNum": 0,
    "hideHardwareSpecs": true,
    "memoryGiB": 0,
    "name": "ml.geospatial.interactive",
    "supportedImageNames": [
     "sagemaker-geospatial-v1-0"
    ],
    "vcpuNum": 0
   },
   {
    "_defaultOrder": 21,
    "_isFastLaunch": true,
    "category": "Compute optimized",
    "gpuNum": 0,
    "hideHardwareSpecs": false,
    "memoryGiB": 4,
    "name": "ml.c5.large",
    "vcpuNum": 2
   },
   {
    "_defaultOrder": 22,
    "_isFastLaunch": false,
    "category": "Compute optimized",
    "gpuNum": 0,
    "hideHardwareSpecs": false,
    "memoryGiB": 8,
    "name": "ml.c5.xlarge",
    "vcpuNum": 4
   },
   {
    "_defaultOrder": 23,
    "_isFastLaunch": false,
    "category": "Compute optimized",
    "gpuNum": 0,
    "hideHardwareSpecs": false,
    "memoryGiB": 16,
    "name": "ml.c5.2xlarge",
    "vcpuNum": 8
   },
   {
    "_defaultOrder": 24,
    "_isFastLaunch": false,
    "category": "Compute optimized",
    "gpuNum": 0,
    "hideHardwareSpecs": false,
    "memoryGiB": 32,
    "name": "ml.c5.4xlarge",
    "vcpuNum": 16
   },
   {
    "_defaultOrder": 25,
    "_isFastLaunch": false,
    "category": "Compute optimized",
    "gpuNum": 0,
    "hideHardwareSpecs": false,
    "memoryGiB": 72,
    "name": "ml.c5.9xlarge",
    "vcpuNum": 36
   },
   {
    "_defaultOrder": 26,
    "_isFastLaunch": false,
    "category": "Compute optimized",
    "gpuNum": 0,
    "hideHardwareSpecs": false,
    "memoryGiB": 96,
    "name": "ml.c5.12xlarge",
    "vcpuNum": 48
   },
   {
    "_defaultOrder": 27,
    "_isFastLaunch": false,
    "category": "Compute optimized",
    "gpuNum": 0,
    "hideHardwareSpecs": false,
    "memoryGiB": 144,
    "name": "ml.c5.18xlarge",
    "vcpuNum": 72
   },
   {
    "_defaultOrder": 28,
    "_isFastLaunch": false,
    "category": "Compute optimized",
    "gpuNum": 0,
    "hideHardwareSpecs": false,
    "memoryGiB": 192,
    "name": "ml.c5.24xlarge",
    "vcpuNum": 96
   },
   {
    "_defaultOrder": 29,
    "_isFastLaunch": true,
    "category": "Accelerated computing",
    "gpuNum": 1,
    "hideHardwareSpecs": false,
    "memoryGiB": 16,
    "name": "ml.g4dn.xlarge",
    "vcpuNum": 4
   },
   {
    "_defaultOrder": 30,
    "_isFastLaunch": false,
    "category": "Accelerated computing",
    "gpuNum": 1,
    "hideHardwareSpecs": false,
    "memoryGiB": 32,
    "name": "ml.g4dn.2xlarge",
    "vcpuNum": 8
   },
   {
    "_defaultOrder": 31,
    "_isFastLaunch": false,
    "category": "Accelerated computing",
    "gpuNum": 1,
    "hideHardwareSpecs": false,
    "memoryGiB": 64,
    "name": "ml.g4dn.4xlarge",
    "vcpuNum": 16
   },
   {
    "_defaultOrder": 32,
    "_isFastLaunch": false,
    "category": "Accelerated computing",
    "gpuNum": 1,
    "hideHardwareSpecs": false,
    "memoryGiB": 128,
    "name": "ml.g4dn.8xlarge",
    "vcpuNum": 32
   },
   {
    "_defaultOrder": 33,
    "_isFastLaunch": false,
    "category": "Accelerated computing",
    "gpuNum": 4,
    "hideHardwareSpecs": false,
    "memoryGiB": 192,
    "name": "ml.g4dn.12xlarge",
    "vcpuNum": 48
   },
   {
    "_defaultOrder": 34,
    "_isFastLaunch": false,
    "category": "Accelerated computing",
    "gpuNum": 1,
    "hideHardwareSpecs": false,
    "memoryGiB": 256,
    "name": "ml.g4dn.16xlarge",
    "vcpuNum": 64
   },
   {
    "_defaultOrder": 35,
    "_isFastLaunch": false,
    "category": "Accelerated computing",
    "gpuNum": 1,
    "hideHardwareSpecs": false,
    "memoryGiB": 61,
    "name": "ml.p3.2xlarge",
    "vcpuNum": 8
   },
   {
    "_defaultOrder": 36,
    "_isFastLaunch": false,
    "category": "Accelerated computing",
    "gpuNum": 4,
    "hideHardwareSpecs": false,
    "memoryGiB": 244,
    "name": "ml.p3.8xlarge",
    "vcpuNum": 32
   },
   {
    "_defaultOrder": 37,
    "_isFastLaunch": false,
    "category": "Accelerated computing",
    "gpuNum": 8,
    "hideHardwareSpecs": false,
    "memoryGiB": 488,
    "name": "ml.p3.16xlarge",
    "vcpuNum": 64
   },
   {
    "_defaultOrder": 38,
    "_isFastLaunch": false,
    "category": "Accelerated computing",
    "gpuNum": 8,
    "hideHardwareSpecs": false,
    "memoryGiB": 768,
    "name": "ml.p3dn.24xlarge",
    "vcpuNum": 96
   },
   {
    "_defaultOrder": 39,
    "_isFastLaunch": false,
    "category": "Memory Optimized",
    "gpuNum": 0,
    "hideHardwareSpecs": false,
    "memoryGiB": 16,
    "name": "ml.r5.large",
    "vcpuNum": 2
   },
   {
    "_defaultOrder": 40,
    "_isFastLaunch": false,
    "category": "Memory Optimized",
    "gpuNum": 0,
    "hideHardwareSpecs": false,
    "memoryGiB": 32,
    "name": "ml.r5.xlarge",
    "vcpuNum": 4
   },
   {
    "_defaultOrder": 41,
    "_isFastLaunch": false,
    "category": "Memory Optimized",
    "gpuNum": 0,
    "hideHardwareSpecs": false,
    "memoryGiB": 64,
    "name": "ml.r5.2xlarge",
    "vcpuNum": 8
   },
   {
    "_defaultOrder": 42,
    "_isFastLaunch": false,
    "category": "Memory Optimized",
    "gpuNum": 0,
    "hideHardwareSpecs": false,
    "memoryGiB": 128,
    "name": "ml.r5.4xlarge",
    "vcpuNum": 16
   },
   {
    "_defaultOrder": 43,
    "_isFastLaunch": false,
    "category": "Memory Optimized",
    "gpuNum": 0,
    "hideHardwareSpecs": false,
    "memoryGiB": 256,
    "name": "ml.r5.8xlarge",
    "vcpuNum": 32
   },
   {
    "_defaultOrder": 44,
    "_isFastLaunch": false,
    "category": "Memory Optimized",
    "gpuNum": 0,
    "hideHardwareSpecs": false,
    "memoryGiB": 384,
    "name": "ml.r5.12xlarge",
    "vcpuNum": 48
   },
   {
    "_defaultOrder": 45,
    "_isFastLaunch": false,
    "category": "Memory Optimized",
    "gpuNum": 0,
    "hideHardwareSpecs": false,
    "memoryGiB": 512,
    "name": "ml.r5.16xlarge",
    "vcpuNum": 64
   },
   {
    "_defaultOrder": 46,
    "_isFastLaunch": false,
    "category": "Memory Optimized",
    "gpuNum": 0,
    "hideHardwareSpecs": false,
    "memoryGiB": 768,
    "name": "ml.r5.24xlarge",
    "vcpuNum": 96
   },
   {
    "_defaultOrder": 47,
    "_isFastLaunch": false,
    "category": "Accelerated computing",
    "gpuNum": 1,
    "hideHardwareSpecs": false,
    "memoryGiB": 16,
    "name": "ml.g5.xlarge",
    "vcpuNum": 4
   },
   {
    "_defaultOrder": 48,
    "_isFastLaunch": false,
    "category": "Accelerated computing",
    "gpuNum": 1,
    "hideHardwareSpecs": false,
    "memoryGiB": 32,
    "name": "ml.g5.2xlarge",
    "vcpuNum": 8
   },
   {
    "_defaultOrder": 49,
    "_isFastLaunch": false,
    "category": "Accelerated computing",
    "gpuNum": 1,
    "hideHardwareSpecs": false,
    "memoryGiB": 64,
    "name": "ml.g5.4xlarge",
    "vcpuNum": 16
   },
   {
    "_defaultOrder": 50,
    "_isFastLaunch": false,
    "category": "Accelerated computing",
    "gpuNum": 1,
    "hideHardwareSpecs": false,
    "memoryGiB": 128,
    "name": "ml.g5.8xlarge",
    "vcpuNum": 32
   },
   {
    "_defaultOrder": 51,
    "_isFastLaunch": false,
    "category": "Accelerated computing",
    "gpuNum": 1,
    "hideHardwareSpecs": false,
    "memoryGiB": 256,
    "name": "ml.g5.16xlarge",
    "vcpuNum": 64
   },
   {
    "_defaultOrder": 52,
    "_isFastLaunch": false,
    "category": "Accelerated computing",
    "gpuNum": 4,
    "hideHardwareSpecs": false,
    "memoryGiB": 192,
    "name": "ml.g5.12xlarge",
    "vcpuNum": 48
   },
   {
    "_defaultOrder": 53,
    "_isFastLaunch": false,
    "category": "Accelerated computing",
    "gpuNum": 4,
    "hideHardwareSpecs": false,
    "memoryGiB": 384,
    "name": "ml.g5.24xlarge",
    "vcpuNum": 96
   },
   {
    "_defaultOrder": 54,
    "_isFastLaunch": false,
    "category": "Accelerated computing",
    "gpuNum": 8,
    "hideHardwareSpecs": false,
    "memoryGiB": 768,
    "name": "ml.g5.48xlarge",
    "vcpuNum": 192
   }
  ],
  "instance_type": "ml.m5.8xlarge",
  "kernelspec": {
   "display_name": "Python 3 (Data Science 2.0)",
   "language": "python",
   "name": "python3__SAGEMAKER_INTERNAL__arn:aws:sagemaker:us-east-1:081325390199:image/sagemaker-data-science-38"
  },
  "language_info": {
   "codemirror_mode": {
    "name": "ipython",
    "version": 3
   },
   "file_extension": ".py",
   "mimetype": "text/x-python",
   "name": "python",
   "nbconvert_exporter": "python",
   "pygments_lexer": "ipython3",
   "version": "3.8.13"
  }
 },
 "nbformat": 4,
 "nbformat_minor": 5
}
