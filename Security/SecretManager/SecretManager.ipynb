{
 "cells": [
  {
   "cell_type": "code",
   "execution_count": 11,
   "id": "3fc4b1d1-3c19-459d-b59b-896f3f307c93",
   "metadata": {},
   "outputs": [],
   "source": [
    "import boto3\n",
    "import json\n",
    "from botocore.exceptions import ClientError\n",
    "import logging\n",
    "logger = logging.getLogger(__name__)"
   ]
  },
  {
   "cell_type": "code",
   "execution_count": 2,
   "id": "eea545ac-6295-4619-baee-e26536c9e5a2",
   "metadata": {},
   "outputs": [],
   "source": [
    "client = boto3.client(service_name='secretsmanager')"
   ]
  },
  {
   "cell_type": "code",
   "execution_count": 16,
   "id": "242c81dc-af7f-4ba4-bc96-df885eb2cdcc",
   "metadata": {},
   "outputs": [],
   "source": [
    "def get_secret():\n",
    "\n",
    "    secret_name = \"test/MySQLProxy\"\n",
    "    region_name = \"us-east-1\"\n",
    "\n",
    "    # Create a Secrets Manager client\n",
    "    session = boto3.session.Session()\n",
    "    client = session.client(\n",
    "        service_name='secretsmanager',\n",
    "        region_name=region_name\n",
    "    )\n",
    "\n",
    "    try:\n",
    "        get_secret_value_response = client.get_secret_value(\n",
    "            SecretId=secret_name\n",
    "        )\n",
    "    except ClientError as e:\n",
    "        # For a list of exceptions thrown, see\n",
    "        # https://docs.aws.amazon.com/secretsmanager/latest/apireference/API_GetSecretValue.html\n",
    "        raise e\n",
    "    else:\n",
    "        secret = get_secret_value_response['SecretString']\n",
    "        return json.loads(secret)"
   ]
  },
  {
   "cell_type": "code",
   "execution_count": 17,
   "id": "8bdfdd92",
   "metadata": {},
   "outputs": [
    {
     "name": "stdout",
     "output_type": "stream",
     "text": [
      "admin\n"
     ]
    }
   ],
   "source": [
    "secret = get_secret()\n",
    "print(secret['username'])"
   ]
  },
  {
   "cell_type": "code",
   "execution_count": 18,
   "id": "5162726b",
   "metadata": {},
   "outputs": [
    {
     "data": {
      "text/plain": [
       "{'username': 'admin',\n",
       " 'password': 'passworD$',\n",
       " 'engine': 'mysql',\n",
       " 'host': 'database-1.cluster-cywjvduoxnim.us-east-1.rds.amazonaws.com',\n",
       " 'port': 3306,\n",
       " 'dbClusterIdentifier': 'database-1'}"
      ]
     },
     "execution_count": 18,
     "metadata": {},
     "output_type": "execute_result"
    }
   ],
   "source": [
    "secret"
   ]
  },
  {
   "cell_type": "code",
   "execution_count": 12,
   "id": "04efe80f",
   "metadata": {},
   "outputs": [
    {
     "data": {
      "text/plain": [
       "{'username': 'admin',\n",
       " 'password': 'passworD$',\n",
       " 'engine': 'mysql',\n",
       " 'host': 'database-1.cluster-cywjvduoxnim.us-east-1.rds.amazonaws.com',\n",
       " 'port': 3306,\n",
       " 'dbClusterIdentifier': 'database-1'}"
      ]
     },
     "execution_count": 12,
     "metadata": {},
     "output_type": "execute_result"
    }
   ],
   "source": []
  },
  {
   "cell_type": "code",
   "execution_count": 58,
   "id": "d663145a-0d44-4590-b269-3e1569ae1f26",
   "metadata": {},
   "outputs": [],
   "source": [
    "def create_secret(secret_name, secret_string):\n",
    "    try:\n",
    "        response = client.create_secret(\n",
    "            Name=secret_name,\n",
    "            SecretString=secret_string\n",
    "        )\n",
    "    except ClientError as e:\n",
    "        if e.response['Error']['Code'] == 'ResourceExistsException':\n",
    "            logger.error(\"The secret already exists: %s\", secret_name)\n",
    "            raise\n",
    "        else:\n",
    "            logger.error(\"Error: %s\", e)\n",
    "            raise\n",
    "    else:\n",
    "        print(\"Secret created successfully.\")"
   ]
  },
  {
   "cell_type": "code",
   "execution_count": 60,
   "id": "05dc3cdf-6d48-4c53-a3db-232f646f5ead",
   "metadata": {},
   "outputs": [
    {
     "name": "stdout",
     "output_type": "stream",
     "text": [
      "Secret created successfully.\n"
     ]
    },
    {
     "data": {
      "text/plain": [
       "True"
      ]
     },
     "execution_count": 60,
     "metadata": {},
     "output_type": "execute_result"
    }
   ],
   "source": [
    "name=\"DatabaseProdFun\"\n",
    "sec_string='{\"username\": \"prod\", \"password\": \"hello-world\"}'\n",
    "\n",
    "create_secret(name, sec_string)"
   ]
  },
  {
   "cell_type": "code",
   "execution_count": 13,
   "id": "d3faab21-b6b1-4477-8e36-7fe43a7513d9",
   "metadata": {},
   "outputs": [],
   "source": [
    "def get_secret(secret_name):\n",
    "    try:\n",
    "        get_secret_value_response = client.get_secret_value(\n",
    "            SecretId=secret_name\n",
    "        )\n",
    "    except ClientError as e:\n",
    "        if e.response['Error']['Code'] == 'ResourceNotFoundException':\n",
    "            print(\"The requested secret \" + secret_name + \" was not found\")\n",
    "        elif e.response['Error']['Code'] == 'InvalidRequestException':\n",
    "            print(\"The request was invalid due to:\", e)\n",
    "        elif e.response['Error']['Code'] == 'InvalidParameterException':\n",
    "            print(\"The request had invalid params:\", e)\n",
    "        elif e.response['Error']['Code'] == 'DecryptionFailure':\n",
    "            print(\"The requested secret can't be decrypted using the provided KMS key:\", e)\n",
    "        elif e.response['Error']['Code'] == 'InternalServiceError':\n",
    "            print(\"An error occurred on service side:\", e)\n",
    "    else:\n",
    "        # Secrets Manager decrypts the secret value using the associated KMS CMK\n",
    "        # Depending on whether the secret was a string or binary, only one of these fields will be populated\n",
    "        if 'SecretString' in get_secret_value_response:\n",
    "            return get_secret_value_response['SecretString']\n",
    "        else:\n",
    "            return get_secret_value_response['SecretBinary']"
   ]
  },
  {
   "cell_type": "code",
   "execution_count": 34,
   "id": "09c407ff-7518-4458-bc7a-7c5d8f2bcf78",
   "metadata": {},
   "outputs": [],
   "source": [
    "sect = get_secret(\"DatabaseProdFun\")"
   ]
  },
  {
   "cell_type": "code",
   "execution_count": 35,
   "id": "129940c4-9cd7-461a-8464-12db65d7f67b",
   "metadata": {},
   "outputs": [
    {
     "data": {
      "text/plain": [
       "'{\"username\": \"prod\", \"password\": \"hello-world\"}'"
      ]
     },
     "execution_count": 35,
     "metadata": {},
     "output_type": "execute_result"
    }
   ],
   "source": [
    "sect"
   ]
  },
  {
   "cell_type": "code",
   "execution_count": null,
   "id": "11d1cd03-8d2e-4459-ab4f-885c249a2d5a",
   "metadata": {},
   "outputs": [],
   "source": []
  }
 ],
 "metadata": {
  "kernelspec": {
   "display_name": "personal",
   "language": "python",
   "name": "python3"
  },
  "language_info": {
   "codemirror_mode": {
    "name": "ipython",
    "version": 3
   },
   "file_extension": ".py",
   "mimetype": "text/x-python",
   "name": "python",
   "nbconvert_exporter": "python",
   "pygments_lexer": "ipython3",
   "version": "3.11.3"
  }
 },
 "nbformat": 4,
 "nbformat_minor": 5
}
