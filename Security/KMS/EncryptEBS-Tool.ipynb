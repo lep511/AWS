{
 "cells": [
  {
   "cell_type": "code",
   "execution_count": 1,
   "metadata": {},
   "outputs": [],
   "source": [
    "import boto3\n",
    "import json\n",
    "from botocore.exceptions import ClientError\n",
    "from botocore.exceptions import EndpointConnectionError\n",
    "import time\n",
    "\n",
    "region_aws = 'us-east-1'\n",
    "\n",
    "# Create session\n",
    "session = boto3.Session(profile_name='badbob')\n",
    "ec2_client = session.client('ec2', region_name=region_aws)\n",
    "ec2_resource = session.resource('ec2', region_name=region_aws)\n",
    "kms_client = session.client('kms', region_name=region_aws)\n",
    "autoscaling_client = session.client('autoscaling')"
   ]
  },
  {
   "cell_type": "code",
   "execution_count": 50,
   "metadata": {},
   "outputs": [],
   "source": [
    "instance_id = 'i-053acd466af88d6ac'\n",
    "kms_key = 'alias/aws/ebs'"
   ]
  },
  {
   "cell_type": "markdown",
   "metadata": {},
   "source": [
    "### 0) Check the instance"
   ]
  },
  {
   "cell_type": "code",
   "execution_count": 53,
   "metadata": {},
   "outputs": [
    {
     "name": "stdout",
     "output_type": "stream",
     "text": [
      "Instance i-053acd466af88d6ac exists\n",
      "\n",
      "-- Instance is attached to an Auto Scaling group --\n",
      "If you stop the instances, Amazon EC2 Auto Scaling might launch replacement instances automatically.             \n",
      "If you do not want Amazon EC2 Auto Scaling to launch replacement instances, first detach the instances             \n",
      "from the Auto Scaling group.\n",
      "\n",
      "Auto Scaling group name: cfn-ECSAutoScalingGroup-IX1LXS9NH2F2\n",
      "\n",
      "Try to suspend the Auto Scaling processes: https://docs.aws.amazon.com/autoscaling/ec2/userguide/get-started-with-ec2-auto-scaling.html?icmpid=docs_ec2as_help_panel\n"
     ]
    }
   ],
   "source": [
    "try:\n",
    "    # Is the instance is in the good state (or exists) ?\n",
    "    # If not, raise exception\n",
    "    ec2_client.describe_instances(InstanceIds=[instance_id])\n",
    "    instance = ec2_resource.Instance(id=instance_id)\n",
    "    print(f'Instance {instance_id} exists')\n",
    "    \n",
    "except (EndpointConnectionError, ValueError) as error:\n",
    "    print(f'Problem with your AWS region ? {error}')\n",
    "\n",
    "except (ClientError, TypeError) as error:\n",
    "    print(f'Problem with the instance {error}')\n",
    "\n",
    "else:\n",
    "    # Check if the instance are attached to an Auto Scaling group:\n",
    "    response = autoscaling_client.describe_auto_scaling_instances(InstanceIds=[instance_id])\n",
    "    if len(response['AutoScalingInstances']) > 0:\n",
    "        asg_name = response['AutoScalingInstances'][0]['AutoScalingGroupName']\n",
    "        print(\"\\n-- Instance is attached to an Auto Scaling group --\")\n",
    "        print(\"If you stop the instances, Amazon EC2 Auto Scaling might launch replacement instances automatically. \\\n",
    "            \\nIf you do not want Amazon EC2 Auto Scaling to launch replacement instances, first detach the instances \\\n",
    "            \\nfrom the Auto Scaling group.\")\n",
    "        print(f'\\nAuto Scaling group name: {asg_name}\\n')\n",
    "        print(\"Try to suspend the Auto Scaling processes: https://docs.aws.amazon.com/autoscaling/ec2/userguide/get-started-with-ec2-auto-scaling.html?icmpid=docs_ec2as_help_panel\")"
   ]
  },
  {
   "cell_type": "markdown",
   "metadata": {},
   "source": [
    "### 1) Create Snapshot"
   ]
  },
  {
   "cell_type": "code",
   "execution_count": 41,
   "metadata": {},
   "outputs": [
    {
     "name": "stdout",
     "output_type": "stream",
     "text": [
      "The root volume is vol-0a563dd467ab6bc94\n",
      "Wait for the snapshot to be completed...\n"
     ]
    }
   ],
   "source": [
    "# Get the root volume ID of the EBS volume attached to the EC2 instance\n",
    "for device in instance.block_device_mappings:\n",
    "    if device['DeviceName']==instance.root_device_name:\n",
    "        volume_id = device['Ebs']['VolumeId']\n",
    "        print(\"The root volume is\", volume_id)\n",
    "    else:\n",
    "        print(\"The additional ebs volume is\", device['Ebs']['VolumeId'])\n",
    "\n",
    "volume = ec2_resource.Volume(volume_id)\n",
    "volume.create_tags(Tags=[{'Key': 'volume_source', 'Value': volume_id}])\n",
    "snapshot = volume.create_snapshot(Description=f'Snapshot of {volume_id}', TagSpecifications=[{'ResourceType': 'snapshot', 'Tags': volume.tags}])\n",
    "snapshot.create_tags(Tags=[{'Key': 'volume_source', 'Value': volume_id}])\n",
    "snapshot_id = snapshot.id\n",
    "\n",
    "snapshot.create_tags(Tags=[{'Key': 'Name', 'Value': f'SNAP - {volume.id}'}])\n",
    "\n",
    "print(\"Wait for the snapshot to be completed...\")\n",
    "while snapshot.state != 'completed':\n",
    "    time.sleep(10)\n",
    "    snapshot.reload()"
   ]
  },
  {
   "cell_type": "markdown",
   "metadata": {},
   "source": [
    "### 2) Encrypt the Snapshot"
   ]
  },
  {
   "cell_type": "code",
   "execution_count": 42,
   "metadata": {},
   "outputs": [
    {
     "name": "stdout",
     "output_type": "stream",
     "text": [
      "Encrypting the snapshot\n",
      "Wait for the encrypted snapshot to be completed...\n"
     ]
    }
   ],
   "source": [
    "if snapshot.encrypted == True:\n",
    "    print(\"Snapshot is already encrypted go to next step\")\n",
    "else:\n",
    "    # Encrypt the snapshot\n",
    "    print(\"Encrypting the snapshot\")\n",
    "    response = ec2_client.copy_snapshot(\n",
    "        SourceRegion=region_aws,\n",
    "        SourceSnapshotId=snapshot_id,\n",
    "        Description='Encrypted copy of snapshot ' + snapshot_id,\n",
    "        Encrypted=True,\n",
    "        KmsKeyId=kms_key,\n",
    "        TagSpecifications=[\n",
    "            {\n",
    "                'ResourceType': 'snapshot',\n",
    "                'Tags': snapshot.tags\n",
    "            }\n",
    "        ]\n",
    "    )\n",
    "    encrypted_snapshot_id = response['SnapshotId']\n",
    "    snapshot_encypted = ec2_resource.Snapshot(encrypted_snapshot_id)\n",
    "\n",
    "snapshot_encypted.create_tags(Tags=[{'Key': 'Name', 'Value': f'SNAP - encrypt - {volume.id}'}])\n",
    "\n",
    "print(\"Wait for the encrypted snapshot to be completed...\")\n",
    "while snapshot_encypted.state != 'completed':\n",
    "    time.sleep(20)\n",
    "    snapshot_encypted.reload()"
   ]
  },
  {
   "cell_type": "markdown",
   "metadata": {},
   "source": [
    "### 3) Create volume encrypted from snapshot"
   ]
  },
  {
   "cell_type": "code",
   "execution_count": 43,
   "metadata": {},
   "outputs": [
    {
     "data": {
      "text/plain": [
       "[ec2.Tag(resource_id='vol-083ca0ea898b8aea5', key='Name', value='EBS encrypt -vol-0a563dd467ab6bc94')]"
      ]
     },
     "execution_count": 43,
     "metadata": {},
     "output_type": "execute_result"
    }
   ],
   "source": [
    "volume_type = volume.volume_type\n",
    "az = volume.availability_zone\n",
    "\n",
    "volume_encrypted = ec2_resource.create_volume(\n",
    "        SnapshotId=encrypted_snapshot_id,\n",
    "        VolumeType=volume_type,\n",
    "        TagSpecifications=[\n",
    "            {\n",
    "                'ResourceType': 'volume',\n",
    "                'Tags': snapshot_encypted.tags\n",
    "            }\n",
    "        ],\n",
    "        AvailabilityZone = az\n",
    ")\n",
    "\n",
    "volume_encrypted.create_tags(Tags=[{'Key': 'Name', 'Value': f'EBS encrypt -{volume.id}'}])"
   ]
  },
  {
   "cell_type": "markdown",
   "metadata": {},
   "source": [
    "### 4) Stop instance!"
   ]
  },
  {
   "cell_type": "code",
   "execution_count": 54,
   "metadata": {},
   "outputs": [
    {
     "name": "stdout",
     "output_type": "stream",
     "text": [
      "Stopping instance i-053acd466af88d6ac ...\n",
      "Wait for the encrypted snapshot to be available...\n",
      "Wait for stop instance...\n"
     ]
    }
   ],
   "source": [
    "if instance.state['Name'] != 'stopped':\n",
    "    # Stop instance\n",
    "    response = ec2_client.stop_instances(InstanceIds=[instance_id])\n",
    "    print(f'Stopping instance {instance_id} ...')\n",
    "else:\n",
    "    print(f'Instance {instance_id} already stopped !')\n",
    "            \n",
    "print(\"Wait for the encrypted snapshot to be available...\")\n",
    "while volume_encrypted.state != 'available':\n",
    "    time.sleep(10)\n",
    "    volume_encrypted.reload()\n",
    "\n",
    "print(\"Wait for stop instance...\")\n",
    "while instance.state['Name'] != 'stopped':\n",
    "    time.sleep(10)\n",
    "    instance.reload()"
   ]
  },
  {
   "cell_type": "markdown",
   "metadata": {},
   "source": [
    "### 4) Unmount the EBS volume"
   ]
  },
  {
   "cell_type": "code",
   "execution_count": 55,
   "metadata": {},
   "outputs": [
    {
     "name": "stdout",
     "output_type": "stream",
     "text": [
      "Volume vol-0dec0c136de581baa detached from i-053acd466af88d6ac and attached vol-083ca0ea898b8aea5\n"
     ]
    }
   ],
   "source": [
    "# Extract device name (ex: /dev/xvda) and DeleteOnTermination flag\n",
    "device = volume.attachments[0]['Device']\n",
    "flag = volume.attachments[0]['DeleteOnTermination']\n",
    "\n",
    "try:\n",
    "    response_deatch = volume.detach_from_instance(InstanceId=instance_id, Device=device)\n",
    "    time.sleep(5)\n",
    "    response_attach = instance.attach_volume(Device=device, VolumeId=volume_encrypted.id)\n",
    "    time.sleep(5)\n",
    "except Exception as e:\n",
    "    print(f\"Error: {e}\")\n",
    "else:\n",
    "    print(f\"Volume {volume.id} detached from {instance_id} and attached {volume_encrypted.id}\")"
   ]
  },
  {
   "cell_type": "markdown",
   "metadata": {},
   "source": [
    "### 5) Start instance"
   ]
  },
  {
   "cell_type": "code",
   "execution_count": 56,
   "metadata": {},
   "outputs": [
    {
     "name": "stdout",
     "output_type": "stream",
     "text": [
      "Wait until the encrypted volume is in use...\n",
      "Start the instance i-053acd466af88d6ac...\n"
     ]
    },
    {
     "data": {
      "text/plain": [
       "{'StartingInstances': [{'CurrentState': {'Code': 0, 'Name': 'pending'},\n",
       "   'InstanceId': 'i-053acd466af88d6ac',\n",
       "   'PreviousState': {'Code': 80, 'Name': 'stopped'}}],\n",
       " 'ResponseMetadata': {'RequestId': 'e1e2c6f5-d466-4ae5-8b63-b6d0df70db80',\n",
       "  'HTTPStatusCode': 200,\n",
       "  'HTTPHeaders': {'x-amzn-requestid': 'e1e2c6f5-d466-4ae5-8b63-b6d0df70db80',\n",
       "   'cache-control': 'no-cache, no-store',\n",
       "   'strict-transport-security': 'max-age=31536000; includeSubDomains',\n",
       "   'content-type': 'text/xml;charset=UTF-8',\n",
       "   'content-length': '579',\n",
       "   'date': 'Fri, 28 Jul 2023 20:54:39 GMT',\n",
       "   'server': 'AmazonEC2'},\n",
       "  'RetryAttempts': 0}}"
      ]
     },
     "execution_count": 56,
     "metadata": {},
     "output_type": "execute_result"
    }
   ],
   "source": [
    "print(\"Wait until the encrypted volume is in use...\")\n",
    "while volume_encrypted.state != 'in-use':\n",
    "    time.sleep(5)\n",
    "    volume_encrypted.reload()\n",
    "\n",
    "print(f\"Start the instance {instance.id}...\")\n",
    "instance.start()"
   ]
  },
  {
   "cell_type": "markdown",
   "metadata": {},
   "source": [
    "### 6) Clean up"
   ]
  },
  {
   "cell_type": "markdown",
   "metadata": {},
   "source": [
    "#### Delete the volume unencrypted"
   ]
  },
  {
   "cell_type": "code",
   "execution_count": 57,
   "metadata": {},
   "outputs": [
    {
     "name": "stdout",
     "output_type": "stream",
     "text": [
      "Deleting unencrypted volume vol-0dec0c136de581baa...  \n"
     ]
    }
   ],
   "source": [
    "print(f\"Deleting unencrypted volume {volume.id}...  \")\n",
    "response_vol = volume.delete()"
   ]
  },
  {
   "cell_type": "markdown",
   "metadata": {},
   "source": [
    "#### Delete snapshots"
   ]
  },
  {
   "cell_type": "code",
   "execution_count": 58,
   "metadata": {},
   "outputs": [
    {
     "name": "stdout",
     "output_type": "stream",
     "text": [
      "Deleting unencrypted snapshot snap-0bd6e7de553cfd6c3...  \n",
      "Deleting encrypted snapshot snap-0e0d85c69676ef1ef...  \n"
     ]
    }
   ],
   "source": [
    "print(f\"Deleting unencrypted snapshot {snapshot.id}...  \")\n",
    "response_snap = snapshot.delete()\n",
    "\n",
    "print(f\"Deleting encrypted snapshot {snapshot_encypted.id}...  \")\n",
    "response_snap_encrypted = snapshot_encypted.delete()"
   ]
  }
 ],
 "metadata": {
  "kernelspec": {
   "display_name": "personal",
   "language": "python",
   "name": "python3"
  },
  "language_info": {
   "codemirror_mode": {
    "name": "ipython",
    "version": 3
   },
   "file_extension": ".py",
   "mimetype": "text/x-python",
   "name": "python",
   "nbconvert_exporter": "python",
   "pygments_lexer": "ipython3",
   "version": "3.11.3"
  },
  "orig_nbformat": 4
 },
 "nbformat": 4,
 "nbformat_minor": 2
}
