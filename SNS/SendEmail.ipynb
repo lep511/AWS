{
 "cells": [
  {
   "cell_type": "code",
   "execution_count": 14,
   "metadata": {},
   "outputs": [],
   "source": [
    "import boto3\n",
    "import json\n",
    "from botocore.exceptions import ClientError"
   ]
  },
  {
   "cell_type": "code",
   "execution_count": 3,
   "metadata": {},
   "outputs": [],
   "source": [
    "ses = boto3.client('ses')"
   ]
  },
  {
   "cell_type": "code",
   "execution_count": 16,
   "metadata": {},
   "outputs": [],
   "source": [
    "SENDER = 'digar17256@alibrs.com'\n",
    "RECIPIENT = 'digar17256@alibrs.com'\n",
    "CHARSET = \"UTF-8\""
   ]
  },
  {
   "cell_type": "code",
   "execution_count": 22,
   "metadata": {},
   "outputs": [],
   "source": [
    "vinnum = '1G1ZD5ST0JF122000'\n",
    "name = 'John Doe'\n",
    "city = 'New York'\n",
    "postalcode = '10001'"
   ]
  },
  {
   "cell_type": "code",
   "execution_count": 23,
   "metadata": {},
   "outputs": [],
   "source": [
    "SUBJECT = \"Notification of Vehicle Arrivals\"\n",
    "\n",
    "BODY_TEXT = (\"Vehicle with specified vin number test01 has reached the specified address below \\r\\n\"\n",
    "                \" frisco, texas\"\n",
    "                )\n",
    "\n",
    "BODY_HTML = f\"\"\"<html>\n",
    "<head></head>\n",
    "<body>\n",
    "<p>Dear Customer,</p>\n",
    "<p></p>\n",
    "    <p>Vehicle with vin number <b> {vinnum} </b>  has reached the address below.<br>\n",
    "    <u> {name} <br> {city}, {postalcode} </u></p>\n",
    "    <p></p>\n",
    "    <p>Thank you, <br>\n",
    "    VCS Team</p>\n",
    "    <p></p>\n",
    "    <p>Note: Please do not reply to this automated email message. Contact <a href=''>support</a> for any assistance neede.</p>\n",
    "</body>\n",
    "</html>\n",
    "\"\"\""
   ]
  },
  {
   "cell_type": "code",
   "execution_count": 26,
   "metadata": {},
   "outputs": [
    {
     "name": "stdout",
     "output_type": "stream",
     "text": [
      "Email sent! Message ID:\n",
      "0100018d7ee37077-c3b27c82-258b-4942-9cf0-08939ccc1e84-000000\n"
     ]
    }
   ],
   "source": [
    "try:\n",
    "    response = ses.send_email(\n",
    "        Destination={\n",
    "            'ToAddresses': [\n",
    "                RECIPIENT,\n",
    "            ],\n",
    "        },\n",
    "        Message={\n",
    "            'Body': {\n",
    "                'Html': {\n",
    "                    'Charset': CHARSET,\n",
    "                    'Data': BODY_HTML,\n",
    "                },\n",
    "                'Text': {\n",
    "                    'Charset': CHARSET,\n",
    "                    'Data': BODY_TEXT,\n",
    "                },\n",
    "            },\n",
    "            'Subject': {\n",
    "                'Charset': CHARSET,\n",
    "                'Data': SUBJECT,\n",
    "            },\n",
    "        },\n",
    "        Source=SENDER,\n",
    "    )\n",
    "# Display an error if something goes wrong.\n",
    "except ClientError as e:\n",
    "    print(e.response['Error']['Message'])\n",
    "else:\n",
    "    print(\"Email sent! Message ID:\"),\n",
    "    print(response['MessageId'])"
   ]
  }
 ],
 "metadata": {
  "kernelspec": {
   "display_name": "personal",
   "language": "python",
   "name": "python3"
  },
  "language_info": {
   "codemirror_mode": {
    "name": "ipython",
    "version": 3
   },
   "file_extension": ".py",
   "mimetype": "text/x-python",
   "name": "python",
   "nbconvert_exporter": "python",
   "pygments_lexer": "ipython3",
   "version": "3.11.3"
  }
 },
 "nbformat": 4,
 "nbformat_minor": 2
}
