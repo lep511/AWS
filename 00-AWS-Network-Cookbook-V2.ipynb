{
 "cells": [
  {
   "cell_type": "markdown",
   "metadata": {},
   "source": [
    "# Redes\n",
    "\n",
    "Muchos temas apasionantes, como la visión por ordenador, el Internet de las cosas (IoT) y los bots de chat con IA, dominan los titulares. Esto hace que se olviden las tecnologías básicas tradicionales. Aunque es fantástico tener muchas capacidades nuevas al alcance de la mano, es importante darse cuenta de que estas tecnologías no serían posibles sin una base sólida de conectividad fiable y segura. El procesamiento de datos sólo es útil si los resultados se entregan de forma fiable y son accesibles a través de una red. Los contenedores son un método fantástico de despliegue de aplicaciones, pero proporcionan la mejor experiencia para los usuarios cuando están conectados en red.\n",
    "\n",
    "Los servicios y características de red dentro de AWS son la columna vertebral de casi todos los grandes servicios que cubrimos en este libro. AWS tiene muchas características excelentes para que conectes lo que quieras, donde quieras y como quieras. Obtener una mejor comprensión de las redes le permitirá tener una mejor comprensión de la nube y por lo tanto estar más cómodo usándola."
   ]
  },
  {
   "cell_type": "code",
   "execution_count": 59,
   "metadata": {},
   "outputs": [],
   "source": [
    "import boto3\n",
    "import json\n",
    "\n",
    "region_aws = 'us-east-1'\n",
    "\n",
    "ec2 = boto3.resource('ec2', region_name=region_aws)\n",
    "ec2_client = boto3.client('ec2', region_name=region_aws)"
   ]
  },
  {
   "cell_type": "markdown",
   "metadata": {},
   "source": [
    "### Definición de su red virtual privada en la nube mediante la creación de una VPC de Amazon\n",
    "\n",
    "<img src=\"https://learning.oreilly.com/api/v2/epubs/urn:orm:book:9781492092599/files/assets/awsc_0201.png\" width=\"650\">"
   ]
  },
  {
   "cell_type": "code",
   "execution_count": 26,
   "metadata": {},
   "outputs": [],
   "source": [
<<<<<<< HEAD:00-AWS-Network-Cookbook-V2.ipynb
    "# create VPC\n",
    "vpc = ec2.create_vpc(CidrBlock='174.16.0.0/16')\n",
    "vpc.create_tags(Tags=[{\"Key\": \"Name\", \"Value\": \"AWSCookBook\"}])\n",
    "vpc.wait_until_available()"
=======
    "%%bash\n",
    "VPC_ID=$(aws ec2 create-vpc --cidr-block 10.10.0.0/16 \\\n",
    "    --tag-specifications 'ResourceType=vpc,Tags=[{Key=Name,Value=AWSCookbook201}]' \\\n",
    "    --output text --query Vpc.VpcId)"
>>>>>>> 8ddc5571489c8d2cf3f02fc921f5e4fd612139b2:00-AWS-Network-Cookbook.ipynb
   ]
  },
  {
   "cell_type": "markdown",
   "metadata": {},
   "source": [
    "*Cuando se crea una VPC, la documentación indica que el mayor tamaño de bloque para los CIDR IPv4 de la VPC es una máscara de red /16 (65.536 direcciones IP). El más pequeño es una máscara de red /28 (16 direcciones IP).*"
   ]
  },
  {
   "cell_type": "code",
<<<<<<< HEAD:00-AWS-Network-Cookbook-V2.ipynb
   "execution_count": 42,
   "metadata": {},
   "outputs": [
    {
     "name": "stdout",
     "output_type": "stream",
     "text": [
      "{\n",
      "    \"CidrBlock\": \"174.16.0.0/16\",\n",
      "    \"CidrBlockAssociationSet\": [\n",
      "        {\n",
      "            \"AssociationId\": \"vpc-cidr-assoc-0dd64af620f257db3\",\n",
      "            \"CidrBlock\": \"174.16.0.0/16\",\n",
      "            \"CidrBlockState\": {\n",
      "                \"State\": \"associated\"\n",
      "            }\n",
      "        }\n",
      "    ],\n",
      "    \"DhcpOptionsId\": \"dopt-059a5b4da7c970033\",\n",
      "    \"InstanceTenancy\": \"default\",\n",
      "    \"IsDefault\": false,\n",
      "    \"OwnerId\": \"416496057868\",\n",
      "    \"State\": \"available\",\n",
      "    \"Tags\": [\n",
      "        {\n",
      "            \"Key\": \"Name\",\n",
      "            \"Value\": \"AWSCookBook\"\n",
      "        }\n",
      "    ],\n",
      "    \"VpcId\": \"vpc-0932d4457a217bfb4\"\n",
      "}\n"
     ]
    }
   ],
   "source": [
    "vpc_decribe = ec2_client.describe_vpcs(VpcIds=[vpc.id])[\"Vpcs\"][0]\n",
    "print(json.dumps(vpc_decribe, sort_keys=True, indent=4))"
=======
   "execution_count": 1,
   "metadata": {
    "vscode": {
     "languageId": "shellscript"
    }
   },
   "outputs": [
    {
     "name": "stderr",
     "output_type": "stream",
     "text": [
      "\n",
      "An error occurred (AuthFailure) when calling the DescribeVpcs operation: AWS was not able to validate the provided access credentials\n"
     ]
    },
    {
     "ename": "CalledProcessError",
     "evalue": "Command 'b'# Utilice este comando para verificar que el estado de la VPC est\\xc3\\xa1 disponible:\\naws ec2 describe-vpcs --vpc-ids $VPC_ID\\n'' returned non-zero exit status 254.",
     "output_type": "error",
     "traceback": [
      "\u001b[0;31m---------------------------------------------------------------------------\u001b[0m",
      "\u001b[0;31mCalledProcessError\u001b[0m                        Traceback (most recent call last)",
      "\u001b[1;32m/home/lep511/AWS/00-AWS-Network-Cookbook.ipynb Celda 5\u001b[0m in \u001b[0;36m<cell line: 1>\u001b[0;34m()\u001b[0m\n\u001b[0;32m----> <a href='vscode-notebook-cell://wsl%2Bdebian/home/lep511/AWS/00-AWS-Network-Cookbook.ipynb#W4sdnNjb2RlLXJlbW90ZQ%3D%3D?line=0'>1</a>\u001b[0m get_ipython()\u001b[39m.\u001b[39;49mrun_cell_magic(\u001b[39m'\u001b[39;49m\u001b[39mbash\u001b[39;49m\u001b[39m'\u001b[39;49m, \u001b[39m'\u001b[39;49m\u001b[39m'\u001b[39;49m, \u001b[39m'\u001b[39;49m\u001b[39m# Utilice este comando para verificar que el estado de la VPC está disponible:\u001b[39;49m\u001b[39m\\n\u001b[39;49;00m\u001b[39maws ec2 describe-vpcs --vpc-ids $VPC_ID\u001b[39;49m\u001b[39m\\n\u001b[39;49;00m\u001b[39m'\u001b[39;49m)\n",
      "File \u001b[0;32m~/miniconda3/lib/python3.9/site-packages/IPython/core/interactiveshell.py:2358\u001b[0m, in \u001b[0;36mInteractiveShell.run_cell_magic\u001b[0;34m(self, magic_name, line, cell)\u001b[0m\n\u001b[1;32m   2356\u001b[0m \u001b[39mwith\u001b[39;00m \u001b[39mself\u001b[39m\u001b[39m.\u001b[39mbuiltin_trap:\n\u001b[1;32m   2357\u001b[0m     args \u001b[39m=\u001b[39m (magic_arg_s, cell)\n\u001b[0;32m-> 2358\u001b[0m     result \u001b[39m=\u001b[39m fn(\u001b[39m*\u001b[39;49margs, \u001b[39m*\u001b[39;49m\u001b[39m*\u001b[39;49mkwargs)\n\u001b[1;32m   2359\u001b[0m \u001b[39mreturn\u001b[39;00m result\n",
      "File \u001b[0;32m~/miniconda3/lib/python3.9/site-packages/IPython/core/magics/script.py:153\u001b[0m, in \u001b[0;36mScriptMagics._make_script_magic.<locals>.named_script_magic\u001b[0;34m(line, cell)\u001b[0m\n\u001b[1;32m    151\u001b[0m \u001b[39melse\u001b[39;00m:\n\u001b[1;32m    152\u001b[0m     line \u001b[39m=\u001b[39m script\n\u001b[0;32m--> 153\u001b[0m \u001b[39mreturn\u001b[39;00m \u001b[39mself\u001b[39;49m\u001b[39m.\u001b[39;49mshebang(line, cell)\n",
      "File \u001b[0;32m~/miniconda3/lib/python3.9/site-packages/IPython/core/magics/script.py:305\u001b[0m, in \u001b[0;36mScriptMagics.shebang\u001b[0;34m(self, line, cell)\u001b[0m\n\u001b[1;32m    300\u001b[0m \u001b[39mif\u001b[39;00m args\u001b[39m.\u001b[39mraise_error \u001b[39mand\u001b[39;00m p\u001b[39m.\u001b[39mreturncode \u001b[39m!=\u001b[39m \u001b[39m0\u001b[39m:\n\u001b[1;32m    301\u001b[0m     \u001b[39m# If we get here and p.returncode is still None, we must have\u001b[39;00m\n\u001b[1;32m    302\u001b[0m     \u001b[39m# killed it but not yet seen its return code. We don't wait for it,\u001b[39;00m\n\u001b[1;32m    303\u001b[0m     \u001b[39m# in case it's stuck in uninterruptible sleep. -9 = SIGKILL\u001b[39;00m\n\u001b[1;32m    304\u001b[0m     rc \u001b[39m=\u001b[39m p\u001b[39m.\u001b[39mreturncode \u001b[39mor\u001b[39;00m \u001b[39m-\u001b[39m\u001b[39m9\u001b[39m\n\u001b[0;32m--> 305\u001b[0m     \u001b[39mraise\u001b[39;00m CalledProcessError(rc, cell)\n",
      "\u001b[0;31mCalledProcessError\u001b[0m: Command 'b'# Utilice este comando para verificar que el estado de la VPC est\\xc3\\xa1 disponible:\\naws ec2 describe-vpcs --vpc-ids $VPC_ID\\n'' returned non-zero exit status 254."
     ]
    }
   ],
   "source": [
    "%%bash\n",
    "# Utilice este comando para verificar que el estado de la VPC está disponible:\n",
    "aws ec2 describe-vpcs --vpc-ids $VPC_ID"
>>>>>>> 8ddc5571489c8d2cf3f02fc921f5e4fd612139b2:00-AWS-Network-Cookbook.ipynb
   ]
  },
  {
   "cell_type": "markdown",
   "metadata": {},
   "source": [
    "Hay dos razones importantes para seleccionar cuidadosamente los bloques CIDR para su VPC:\n",
    "\n",
    "* Una vez que un bloque CIDR está asociado a una VPC, no puede ser modificado (aunque puede ser ampliado). Si desea modificar un bloque CIDR, deberá eliminarlo (y todos los recursos que contiene) y volver a crearlo.\n",
    "\n",
    "* Si una VPC está conectada a otras redes mediante peering o pasarelas (por ejemplo, Tránsito y VPN), tener rangos de IP superpuestos causará problemas no deseados.\n",
    "\n",
    "Puede añadir espacio IPv4 a la VPC utilizando el comando aws ec2 associate-vpc-cidr-block para especificar el espacio IPv4 adicional. Cuando el espacio IP escasea por el uso y el subaprovisionamiento, es bueno saber que no es necesario dedicar un gran bloque a una VPC, especialmente si no está seguro de que se utilizará todo."
   ]
  },
  {
   "cell_type": "code",
   "execution_count": 44,
   "metadata": {},
   "outputs": [
    {
     "data": {
      "text/plain": [
       "{'CidrBlockAssociation': {'AssociationId': 'vpc-cidr-assoc-07c2d5e3235dca838',\n",
       "  'CidrBlock': '174.17.0.0/16',\n",
       "  'CidrBlockState': {'State': 'associating'}},\n",
       " 'VpcId': 'vpc-0932d4457a217bfb4',\n",
       " 'ResponseMetadata': {'RequestId': '98e11d41-cb5d-4cdb-b1a2-160da388bef5',\n",
       "  'HTTPStatusCode': 200,\n",
       "  'HTTPHeaders': {'x-amzn-requestid': '98e11d41-cb5d-4cdb-b1a2-160da388bef5',\n",
       "   'cache-control': 'no-cache, no-store',\n",
       "   'strict-transport-security': 'max-age=31536000; includeSubDomains',\n",
       "   'vary': 'accept-encoding',\n",
       "   'content-type': 'text/xml;charset=UTF-8',\n",
       "   'transfer-encoding': 'chunked',\n",
       "   'date': 'Sat, 01 Oct 2022 15:37:26 GMT',\n",
       "   'server': 'AmazonEC2'},\n",
       "  'RetryAttempts': 0}}"
      ]
     },
     "execution_count": 44,
     "metadata": {},
     "output_type": "execute_result"
    }
   ],
   "source": [
    "# Este es un ejemplo de asociación de un bloque CIDR IPv4 adicional a su VPC:\n",
    "ec2_client.associate_vpc_cidr_block(\n",
    "    VpcId=vpc.id,\n",
    "    CidrBlock='174.17.0.0/16'\n",
    ")"
   ]
  },
  {
   "cell_type": "markdown",
   "metadata": {},
   "source": [
    "Amazon VPC admite direcciones IPv4 e IPv6 y tiene cuotas de tamaño de bloque de CIDR diferentes para cada una de ellas. De forma predeterminada, todas las VPC y subredes deben tener bloques de CIDR IPv4. Esto no se puede cambiar. Si lo desea, puede asociar un bloque de CIDR IPv6 a su VPC especificando la opción --amazon-provided-ipv6-cidr-block. \n",
    "\n",
    "Este es un ejemplo de creación de una VPC con un bloque CIDR IPv6:"
   ]
  },
  {
   "cell_type": "code",
   "execution_count": 45,
   "metadata": {},
   "outputs": [],
   "source": [
    "vpc = ec2.create_vpc(CidrBlock='10.10.0.0/16', AmazonProvidedIpv6CidrBlock=True)\n",
    "vpc.create_tags(Tags=[{\"Key\": \"Name\", \"Value\": \"AWSCookBook-IPv6\"}])\n",
    "vpc.wait_until_available()"
   ]
  },
  {
   "cell_type": "markdown",
   "metadata": {},
   "source": [
    "Una VPC es una construcción regional en AWS. Una región es un área geográfica, y las zonas de disponibilidad son centros de datos físicos que residen en una región. Las regiones abarcan todas las zonas de disponibilidad (AZ), que son grupos de centros de datos físicos aislados. El número de AZs por región varía, pero todas las regiones tienen al menos tres. Para obtener la información más actualizada sobre las regiones y las zonas de disponibilidad de AWS, consulte este artículo sobre [\"Regiones y zonas de disponibilidad\"](https://aws.amazon.com/es/about-aws/global-infrastructure/regions_az/).\n",
    "\n",
    "Según la guía del usuario de la VPC, la cuota inicial de bloques CIDR IPv4 por VPC es de 5. Puede aumentarse a 50. El número permitido de bloques CIDR IPv6 por VPC es 1."
   ]
  },
  {
   "cell_type": "markdown",
   "metadata": {},
   "source": [
    "### Creación de un nivel de red con subredes y una tabla de rutas en una VPC\n",
    "\n",
    "Cree una tabla de rutas dentro de su VPC. Cree dos subredes en zonas de disponibilidad separadas en una VPC. Asocie la tabla de rutas con las subredes.\n",
    "\n",
    "<img src=\"https://learning.oreilly.com/api/v2/epubs/urn:orm:book:9781492092599/files/assets/awsc_0202.png\" width=\"650\">\n"
   ]
  },
  {
   "cell_type": "code",
   "execution_count": 46,
   "metadata": {},
   "outputs": [
    {
     "data": {
      "text/plain": [
       "[ec2.Tag(resource_id='rtb-03da4796f4918b533', key='Name', value='AWSCookbook-RT')]"
      ]
     },
     "execution_count": 46,
     "metadata": {},
     "output_type": "execute_result"
    }
   ],
   "source": [
    "# Crear una tabla de rutas. Esto le permitirá crear rutas de tráfico personalizadas para las subredes asociadas:\n",
    "routetable = vpc.create_route_table()\n",
    "routetable.create_tags(Tags=[{\"Key\": \"Name\", \"Value\": \"AWSCookbook-RT\"}])"
   ]
  },
  {
   "cell_type": "code",
   "execution_count": 47,
   "metadata": {},
   "outputs": [],
   "source": [
    "# Cree dos subredes, una en cada AZ. Esto definirá los espacios de direcciones para que pueda crear recursos para su VPC:\n",
    "subnet_1 = ec2.create_subnet(\n",
    "    CidrBlock='10.10.0.0/24', \n",
    "    VpcId=vpc.id,\n",
    "    AvailabilityZone='us-east-1a'\n",
    ")\n",
    "subnet_2 = ec2.create_subnet(\n",
    "    CidrBlock='10.10.1.0/24',\n",
    "    VpcId=vpc.id,\n",
    "    AvailabilityZone='us-east-1b'\n",
    ")"
   ]
  },
  {
   "cell_type": "code",
   "execution_count": 52,
   "metadata": {},
   "outputs": [
    {
     "data": {
      "text/plain": [
       "[ec2.Tag(resource_id='subnet-028dcc29a33c1c77d', key='Name', value='AWSCookbook-Subnet-2')]"
      ]
     },
     "execution_count": 52,
     "metadata": {},
     "output_type": "execute_result"
    }
   ],
   "source": [
    "subnet_1.create_tags(Tags=[{\"Key\": \"Name\", \"Value\": \"AWSCookbook-Subnet-1\"}])\n",
    "subnet_2.create_tags(Tags=[{\"Key\": \"Name\", \"Value\": \"AWSCookbook-Subnet-2\"}])"
   ]
  },
  {
   "cell_type": "markdown",
   "metadata": {},
   "source": [
    "En los comandos anteriores, el parámetro `--availability-zone` utiliza una variable de entorno para su región añadiendo caracteres a o b en minúsculas para indicar qué AZ lógica (por ejemplo, us-east-1a) debe aprovisionar cada subred. AWS afirma que estos nombres son aleatorios por cuenta para equilibrar los recursos entre las AZ.\n",
    "\n",
    "Si utiliza varias cuentas de AWS y desea encontrar ID de zona de disponibilidad para una región que sean coherentes, ejecute este comando:"
   ]
  },
  {
   "cell_type": "code",
   "execution_count": 58,
   "metadata": {},
   "outputs": [
    {
     "name": "stdout",
     "output_type": "stream",
     "text": [
      "us-east-1a\n",
      "us-east-1b\n",
      "us-east-1c\n",
      "us-east-1d\n",
      "us-east-1e\n",
      "us-east-1f\n"
     ]
    }
   ],
   "source": [
    "for i in ec2_client.describe_availability_zones()[\"AvailabilityZones\"]:\n",
    "    print(i[\"ZoneName\"])"
   ]
  },
  {
   "cell_type": "code",
   "execution_count": 60,
   "metadata": {},
   "outputs": [
    {
     "data": {
      "text/plain": [
       "ec2.RouteTableAssociation(id='rtbassoc-00c44b59105af750d')"
      ]
     },
     "execution_count": 60,
     "metadata": {},
     "output_type": "execute_result"
    }
   ],
   "source": [
    "# Asociar la tabla de rutas con las dos subredes:\n",
    "routetable.associate_with_subnet(SubnetId=subnet_1.id)\n",
    "routetable.associate_with_subnet(SubnetId=subnet_2.id)"
   ]
  },
  {
   "cell_type": "code",
   "execution_count": 66,
   "metadata": {},
   "outputs": [
    {
     "name": "stdout",
     "output_type": "stream",
     "text": [
      "[\n",
      "    {\n",
      "        \"AssignIpv6AddressOnCreation\": false,\n",
      "        \"AvailabilityZone\": \"us-east-1a\",\n",
      "        \"AvailabilityZoneId\": \"use1-az1\",\n",
      "        \"AvailableIpAddressCount\": 251,\n",
      "        \"CidrBlock\": \"10.10.0.0/24\",\n",
      "        \"DefaultForAz\": false,\n",
      "        \"EnableDns64\": false,\n",
      "        \"Ipv6CidrBlockAssociationSet\": [],\n",
      "        \"Ipv6Native\": false,\n",
      "        \"MapCustomerOwnedIpOnLaunch\": false,\n",
      "        \"MapPublicIpOnLaunch\": false,\n",
      "        \"OwnerId\": \"416496057868\",\n",
      "        \"PrivateDnsNameOptionsOnLaunch\": {\n",
      "            \"EnableResourceNameDnsAAAARecord\": false,\n",
      "            \"EnableResourceNameDnsARecord\": false,\n",
      "            \"HostnameType\": \"ip-name\"\n",
      "        },\n",
      "        \"State\": \"available\",\n",
      "        \"SubnetArn\": \"arn:aws:ec2:us-east-1:416496057868:subnet/subnet-0d7b3c1e09e324a62\",\n",
      "        \"SubnetId\": \"subnet-0d7b3c1e09e324a62\",\n",
      "        \"Tags\": [\n",
      "            {\n",
      "                \"Key\": \"Name\",\n",
      "                \"Value\": \"AWSCookbook-Subnet-1\"\n",
      "            }\n",
      "        ],\n",
      "        \"VpcId\": \"vpc-029dc790f8213185e\"\n",
      "    },\n",
      "    {\n",
      "        \"AssignIpv6AddressOnCreation\": false,\n",
      "        \"AvailabilityZone\": \"us-east-1b\",\n",
      "        \"AvailabilityZoneId\": \"use1-az2\",\n",
      "        \"AvailableIpAddressCount\": 251,\n",
      "        \"CidrBlock\": \"10.10.1.0/24\",\n",
      "        \"DefaultForAz\": false,\n",
      "        \"EnableDns64\": false,\n",
      "        \"Ipv6CidrBlockAssociationSet\": [],\n",
      "        \"Ipv6Native\": false,\n",
      "        \"MapCustomerOwnedIpOnLaunch\": false,\n",
      "        \"MapPublicIpOnLaunch\": false,\n",
      "        \"OwnerId\": \"416496057868\",\n",
      "        \"PrivateDnsNameOptionsOnLaunch\": {\n",
      "            \"EnableResourceNameDnsAAAARecord\": false,\n",
      "            \"EnableResourceNameDnsARecord\": false,\n",
      "            \"HostnameType\": \"ip-name\"\n",
      "        },\n",
      "        \"State\": \"available\",\n",
      "        \"SubnetArn\": \"arn:aws:ec2:us-east-1:416496057868:subnet/subnet-028dcc29a33c1c77d\",\n",
      "        \"SubnetId\": \"subnet-028dcc29a33c1c77d\",\n",
      "        \"Tags\": [\n",
      "            {\n",
      "                \"Key\": \"Name\",\n",
      "                \"Value\": \"AWSCookbook-Subnet-2\"\n",
      "            }\n",
      "        ],\n",
      "        \"VpcId\": \"vpc-029dc790f8213185e\"\n",
      "    }\n",
      "]\n"
     ]
    }
   ],
   "source": [
    "# Recupere la configuración de las subredes que creó y verifique que están en la misma VPC pero en diferentes AZs:\n",
    "subnet_data = ec2_client.describe_subnets(SubnetIds=[subnet_1.id, subnet_2.id])['Subnets']\n",
    "print(json.dumps(subnet_data, sort_keys=True, indent=4))"
   ]
  },
  {
   "cell_type": "code",
   "execution_count": 70,
   "metadata": {},
   "outputs": [
    {
     "data": {
      "text/plain": [
       "[{'Associations': [{'Main': False,\n",
       "    'RouteTableAssociationId': 'rtbassoc-00c44b59105af750d',\n",
       "    'RouteTableId': 'rtb-03da4796f4918b533',\n",
       "    'SubnetId': 'subnet-028dcc29a33c1c77d',\n",
       "    'AssociationState': {'State': 'associated'}},\n",
       "   {'Main': False,\n",
       "    'RouteTableAssociationId': 'rtbassoc-061ee3a81f6661f8d',\n",
       "    'RouteTableId': 'rtb-03da4796f4918b533',\n",
       "    'SubnetId': 'subnet-0d7b3c1e09e324a62',\n",
       "    'AssociationState': {'State': 'associated'}}],\n",
       "  'PropagatingVgws': [],\n",
       "  'RouteTableId': 'rtb-03da4796f4918b533',\n",
       "  'Routes': [{'DestinationCidrBlock': '10.10.0.0/16',\n",
       "    'GatewayId': 'local',\n",
       "    'Origin': 'CreateRouteTable',\n",
       "    'State': 'active'},\n",
       "   {'DestinationIpv6CidrBlock': '2600:1f18:604d:5a00::/56',\n",
       "    'GatewayId': 'local',\n",
       "    'Origin': 'CreateRouteTable',\n",
       "    'State': 'active'}],\n",
       "  'Tags': [{'Key': 'Name', 'Value': 'AWSCookbook-RT'}],\n",
       "  'VpcId': 'vpc-029dc790f8213185e',\n",
       "  'OwnerId': '416496057868'}]"
      ]
     },
     "execution_count": 70,
     "metadata": {},
     "output_type": "execute_result"
    }
   ],
   "source": [
    "# Valida que la tabla de rutas que has creado está asociada a las dos subredes:\n",
    "ec2_client.describe_route_tables(RouteTableIds=[routetable.id])['RouteTables']"
   ]
  },
  {
   "cell_type": "markdown",
   "metadata": {},
   "source": [
    "Al diseñar una estrategia de subred, debe elegir tamaños de subred que se ajusten a sus necesidades actuales y tengan en cuenta el crecimiento futuro de su aplicación. Las subredes se utilizan para la colocación de la interfaz de red elástica (ENI) para los recursos de AWS. Esto significa que una ENI concreta vive dentro de una única AZ.\n",
    "\n",
    "AWS reserva las cuatro primeras y la última dirección IP del bloque CIDR de cada subred para características y funcionalidades cuando se crea una subred. Estas no están disponibles para su uso. Según la documentación, estas son las direcciones reservadas en el caso de su ejemplo:\n",
    "\n",
    "* *.0* - Dirección de red.\n",
    "* *.1* - Reservada por AWS para el router de la VPC.\n",
    "* *.2* - Reservada por AWS para la dirección IP del servidor DNS. Siempre se establece el rango de red de la VPC más dos.\n",
    "* *.3* - Reservada por AWS para uso futuro.\n",
    "* *.255* - Dirección de difusión de la red. No se admite la difusión en una VPC.\n",
    "\n",
    "Una subred tiene una tabla de rutas asociada a ella. Las tablas de rutas pueden estar asociadas a una o más subredes y dirigir el tráfico a un destino de su elección (más adelante se hablará de esto con las recetas de pasarela NAT, gateway de Internet y gateway de tránsito). Las entradas dentro de las tablas de rutas se llaman rutas y se definen como pares de Destinos y Objetivos. Al crear la tabla de rutas, se añadió automáticamente una ruta local por defecto que gestiona el tráfico intra-VPC. Tiene la posibilidad de crear rutas personalizadas que se ajusten a sus necesidades. Para obtener una lista completa de los destinos disponibles para utilizar dentro de las tablas de rutas, consulte este [documento de soporte](https://oreil.ly/oKVq1).\n",
    "\n",
    "*Las ENIs reciben una dirección IP de un servidor DHCP administrado por AWS dentro de su VPC. El conjunto de opciones DHCP se configura automáticamente con valores predeterminados para asignar direcciones dentro de las subredes que usted defina.*\n",
    "\n",
    "\n",
    "Cuando se crea una VPC en una región, es una buena práctica repartir las subredes entre las AZ de ese nivel de red. El número de AZs varía según la región, pero la mayoría tienen al menos tres. Un ejemplo de esto en la práctica sería que si tuvieras un tier público y un tier aislado repartidos en dos AZs, tendrías un total de cuatro subredes: 2 tiers × 2 subredes por tier (una por AZ).\n",
    "\n",
    "<img src=\"https://learning.oreilly.com/api/v2/epubs/urn:orm:book:9781492092599/files/assets/awsc_0203.png\" width=\"600\">"
   ]
  },
  {
   "cell_type": "markdown",
   "metadata": {},
   "source": [
    "### Conexión de su VPC a Internet mediante un gateway de Internet\n",
    "\n",
    "Crearás un gateway de internet y lo adjuntarás a tu VPC. A continuación, modificará la tabla de rutas asociada a la subred en la que se encuentra la instancia EC2. Añadirás una ruta que envíe el tráfico de las subredes a la gateway de Internet. Por último, crea una IP elástica (EIP) y asóciala a la instancia:\n",
    "\n",
    "<img src=\"https://learning.oreilly.com/api/v2/epubs/urn:orm:book:9781492092599/files/assets/awsc_0204.png\" width=\"700\">"
   ]
  },
  {
   "cell_type": "code",
   "execution_count": 71,
   "metadata": {},
   "outputs": [
    {
     "data": {
      "text/plain": [
       "{'ResponseMetadata': {'RequestId': '8d883ae4-656b-453e-ad56-1a8cd4d7db50',\n",
       "  'HTTPStatusCode': 200,\n",
       "  'HTTPHeaders': {'x-amzn-requestid': '8d883ae4-656b-453e-ad56-1a8cd4d7db50',\n",
       "   'cache-control': 'no-cache, no-store',\n",
       "   'strict-transport-security': 'max-age=31536000; includeSubDomains',\n",
       "   'content-type': 'text/xml;charset=UTF-8',\n",
       "   'content-length': '243',\n",
       "   'date': 'Sat, 01 Oct 2022 16:20:13 GMT',\n",
       "   'server': 'AmazonEC2'},\n",
       "  'RetryAttempts': 0}}"
      ]
     },
     "execution_count": 71,
     "metadata": {},
     "output_type": "execute_result"
    }
   ],
   "source": [
    "# Crear un gateway de Internet (IGW):\n",
    "internetgateway = ec2.create_internet_gateway(\n",
    "    TagSpecifications=[{\"ResourceType\": \"internet-gateway\", \n",
    "    \"Tags\": [{\n",
    "            \"Key\": \"Name\", \n",
    "            \"Value\": \"AWSCookbook-IGW\"}\n",
    "            ]}\n",
    "    ]\n",
    ")"
   ]
  },
  {
   "cell_type": "code",
   "execution_count": null,
   "metadata": {},
   "outputs": [],
   "source": [
    "# Adjunte el gateway de Internet a la VPC existente:\n",
    "vpc.attach_internet_gateway(InternetGatewayId=internetgateway.id)"
   ]
  },
  {
   "cell_type": "code",
   "execution_count": 72,
   "metadata": {},
   "outputs": [],
   "source": [
    "# En la tabla de rutas de su VPC, cree una ruta que establezca el destino de la ruta por defecto a la gateway de Internet:\n",
    "route = routetable.create_route(DestinationCidrBlock='0.0.0.0/0', GatewayId=internetgateway.id)"
   ]
  },
  {
   "cell_type": "code",
   "execution_count": 75,
   "metadata": {},
   "outputs": [],
   "source": [
    "# Crear una EIP (dirección IP elástica):\n",
    "allocation_id = ec2_client.allocate_address(Domain='vpc')['AllocationId']"
   ]
  },
  {
   "cell_type": "markdown",
   "metadata": {},
   "source": [
    "*AWS define una dirección IP elástica (EIP) como \"una dirección IPv4 estática diseñada para la computación dinámica en la nube. Una dirección EIP se asigna a su cuenta de AWS y es suya hasta que la libere\".*"
   ]
  },
  {
   "cell_type": "code",
   "execution_count": 78,
   "metadata": {},
   "outputs": [
    {
     "data": {
      "text/plain": [
       "{'AssociationId': 'eipassoc-010845c5dd808b439',\n",
       " 'ResponseMetadata': {'RequestId': 'e5e46ec9-1df0-42ec-bae5-5af29a0dfbc3',\n",
       "  'HTTPStatusCode': 200,\n",
       "  'HTTPHeaders': {'x-amzn-requestid': 'e5e46ec9-1df0-42ec-bae5-5af29a0dfbc3',\n",
       "   'cache-control': 'no-cache, no-store',\n",
       "   'strict-transport-security': 'max-age=31536000; includeSubDomains',\n",
       "   'content-type': 'text/xml;charset=UTF-8',\n",
       "   'content-length': '295',\n",
       "   'date': 'Sat, 01 Oct 2022 16:36:44 GMT',\n",
       "   'server': 'AmazonEC2'},\n",
       "  'RetryAttempts': 0}}"
      ]
     },
     "execution_count": 78,
     "metadata": {},
     "output_type": "execute_result"
    }
   ],
   "source": [
    "# Asocie el EIP con la instancia EC2 existente:\n",
    "ec2_client.associate_address(\n",
    "    AllocationId = allocation_id, \n",
    "    InstanceId = 'i-00b555777daa2e67c'\n",
    ")"
   ]
  },
  {
   "cell_type": "code",
   "execution_count": null,
   "metadata": {
    "vscode": {
     "languageId": "shellscript"
    }
   },
   "outputs": [],
   "source": [
    "# Haz ping a un host en Internet para probar la conectividad a Internet:\n",
    "ping -c 4 homestarrunner.com"
   ]
  },
  {
   "cell_type": "markdown",
   "metadata": {},
   "source": [
    "La ruta que ha creado en su entrada de la tabla de rutas envía todo el tráfico no local al IGW que proporciona la conectividad a Internet de su VPC. Debido a que estaba trabajando con una instancia EC2 existente en ejecución, necesitaba crear una IP elástica y asociarla con la instancia. Estos pasos permitieron la comunicación por Internet con la instancia sin tener que interactuar con ella. Existe una opción para habilitar la autoasignación de direcciones IPv4 públicas para las instancias recién lanzadas en una subred. Sin embargo, si utiliza la autoasignación, las IPs públicas cambiarán después de cada reinicio de la instancia. Las EIPs asociadas a una instancia no cambiarán tras los reinicios.\n",
    "\n",
    "*NOTA: Las tablas de rutas dan prioridad a la ruta más específica. AWS también permite crear rutas más específicas que la ruta local por defecto.*\n",
    "\n",
    "El grupo de seguridad asociado a su instancia no permite el acceso entrante. Si desea permitir el acceso entrante a Internet a una instancia en una subred pública, tendrá que configurar una regla de entrada de grupo de seguridad para ello.\n",
    "\n",
    "Una subred que tenga una ruta 0.0.0.0/0 asociada a un IGW se considera una subred pública. Se considera una práctica recomendada de seguridad colocar sólo en este tipo de nivel instancias que requieran acceso entrante desde la Internet pública. Los equilibradores de carga orientados al usuario final suelen colocarse en subredes públicas. Una subred pública no sería una opción ideal para un servidor de aplicaciones o una base de datos. En estos casos, puede crear un nivel privado o un nivel aislado que se adapte a sus necesidades con el enrutamiento adecuado y utilizar una gateway NAT para dirigir el tráfico de la subred a la puerta de enlace de Internet sólo cuando se requiera el acceso a Internet saliente."
   ]
  },
  {
   "cell_type": "markdown",
   "metadata": {},
   "source": [
    "### Uso de una gateway NAT para el acceso saliente a Internet desde subredes privadas\n",
    "\n",
    "*Problema*\n",
    "Usted tiene subredes públicas en su VPC que tienen una ruta a un gateway de Internet. Desea aprovechar esta configuración para proporcionar acceso a Internet sólo de salida para una instancia en subredes privadas.\n",
    "\n",
    "*Solución*\n",
    "Cree un gateway NAT en una de las subredes públicas. A continuación, cree una IP elástica y asóciela a la gateway NAT. En la tabla de rutas asociada a las subredes privadas, añada una ruta para el tráfico de salida a Internet que tenga como objetivo la gateway NAT.\n",
    "\n",
    "<img src=\"https://learning.oreilly.com/api/v2/epubs/urn:orm:book:9781492092599/files/assets/awsc_0205.png\" width=\"700\">"
   ]
  },
  {
   "cell_type": "code",
   "execution_count": null,
   "metadata": {},
   "outputs": [],
   "source": []
  }
 ],
 "metadata": {
  "kernelspec": {
   "display_name": "Python 3.9.12 ('base')",
   "language": "python",
   "name": "python3"
  },
  "language_info": {
   "codemirror_mode": {
    "name": "ipython",
    "version": 3
   },
   "file_extension": ".py",
   "mimetype": "text/x-python",
   "name": "python",
   "nbconvert_exporter": "python",
   "pygments_lexer": "ipython3",
   "version": "3.9.12"
  },
  "vscode": {
   "interpreter": {
    "hash": "c9cdd2fa3b32da9704bd8048bdba085d67219855a318f4adc7f095bb5cfa603b"
   }
  }
 },
 "nbformat": 4,
 "nbformat_minor": 4
}
