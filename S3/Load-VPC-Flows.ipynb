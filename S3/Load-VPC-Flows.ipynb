{
 "cells": [
  {
   "cell_type": "code",
   "execution_count": 1,
   "metadata": {},
   "outputs": [],
   "source": [
    "import boto3\n",
    "import json\n",
    "import pandas as pd\n",
    "import os\n",
    "from datetime import datetime, timedelta, timezone\n",
    "import awswrangler as wr\n",
    "\n",
    "s3 = boto3.resource('s3')\n",
    "s3_client = boto3.client('s3')"
   ]
  },
  {
   "cell_type": "code",
   "execution_count": 2,
   "metadata": {},
   "outputs": [],
   "source": [
    "bucket_name = \"logs-bucket-440-55865\"\n",
    "key = \"AWSLogs\""
   ]
  },
  {
   "cell_type": "code",
   "execution_count": 3,
   "metadata": {},
   "outputs": [],
   "source": [
    "# Show all files from S3\n",
    "response = s3_client.list_objects_v2(\n",
    "    Bucket=bucket_name,\n",
    "    MaxKeys=10,\n",
    ")\n",
    "\n",
    "files = []\n",
    "for file in response['Contents']:\n",
    "    date_file = file['LastModified']\n",
    "    now_time = datetime.now(timezone.utc)\n",
    "    if file['Key'].endswith('gz') and date_file > now_time - timedelta(days=1):\n",
    "        files.append(file['Key'])"
   ]
  },
  {
   "cell_type": "code",
   "execution_count": 4,
   "metadata": {},
   "outputs": [
    {
     "data": {
      "text/plain": [
       "['AWSLogs/600063542128/vpcdnsquerylogs/vpc-0b5dd461956ad93a2/2024/04/10/vpc-0b5dd461956ad93a2_vpcdnsquerylogs_600063542128_20240410T2220Z_fe71af19.log.gz',\n",
       " 'AWSLogs/600063542128/vpcdnsquerylogs/vpc-0b5dd461956ad93a2/2024/04/10/vpc-0b5dd461956ad93a2_vpcdnsquerylogs_600063542128_20240410T2225Z_2299484c.log.gz',\n",
       " 'AWSLogs/600063542128/vpcdnsquerylogs/vpc-0b5dd461956ad93a2/2024/04/10/vpc-0b5dd461956ad93a2_vpcdnsquerylogs_600063542128_20240410T2225Z_d3bcfa92.log.gz',\n",
       " 'AWSLogs/600063542128/vpcdnsquerylogs/vpc-0b5dd461956ad93a2/2024/04/10/vpc-0b5dd461956ad93a2_vpcdnsquerylogs_600063542128_20240410T2230Z_039523e5.log.gz',\n",
       " 'AWSLogs/600063542128/vpcdnsquerylogs/vpc-0b5dd461956ad93a2/2024/04/10/vpc-0b5dd461956ad93a2_vpcdnsquerylogs_600063542128_20240410T2230Z_df6b87f2.log.gz',\n",
       " 'AWSLogs/600063542128/vpcdnsquerylogs/vpc-0b5dd461956ad93a2/2024/04/10/vpc-0b5dd461956ad93a2_vpcdnsquerylogs_600063542128_20240410T2235Z_7f7e8aa6.log.gz',\n",
       " 'AWSLogs/600063542128/vpcdnsquerylogs/vpc-0b5dd461956ad93a2/2024/04/10/vpc-0b5dd461956ad93a2_vpcdnsquerylogs_600063542128_20240410T2235Z_82872eef.log.gz',\n",
       " 'AWSLogs/600063542128/vpcdnsquerylogs/vpc-0b5dd461956ad93a2/2024/04/10/vpc-0b5dd461956ad93a2_vpcdnsquerylogs_600063542128_20240410T2240Z_949d0078.log.gz',\n",
       " 'AWSLogs/600063542128/vpcdnsquerylogs/vpc-0b5dd461956ad93a2/2024/04/10/vpc-0b5dd461956ad93a2_vpcdnsquerylogs_600063542128_20240410T2240Z_e6ed068d.log.gz']"
      ]
     },
     "execution_count": 4,
     "metadata": {},
     "output_type": "execute_result"
    }
   ],
   "source": [
    "files"
   ]
  },
  {
   "cell_type": "code",
   "execution_count": 22,
   "metadata": {},
   "outputs": [],
   "source": [
    "df = wr.s3.read_csv(f\"s3://{bucket_name}/AWSLogs/600063542128/vpcflowlogs/us-west-2/2024/04/11/\", dataset=True, sep=\" \")\n",
    "df_protocol = pd.read_csv(\"https://www.iana.org/assignments/protocol-numbers/protocol-numbers-1.csv\")"
   ]
  },
  {
   "cell_type": "code",
   "execution_count": 23,
   "metadata": {},
   "outputs": [
    {
     "data": {
      "text/html": [
       "<div>\n",
       "<style scoped>\n",
       "    .dataframe tbody tr th:only-of-type {\n",
       "        vertical-align: middle;\n",
       "    }\n",
       "\n",
       "    .dataframe tbody tr th {\n",
       "        vertical-align: top;\n",
       "    }\n",
       "\n",
       "    .dataframe thead th {\n",
       "        text-align: right;\n",
       "    }\n",
       "</style>\n",
       "<table border=\"1\" class=\"dataframe\">\n",
       "  <thead>\n",
       "    <tr style=\"text-align: right;\">\n",
       "      <th></th>\n",
       "      <th>Decimal</th>\n",
       "      <th>Keyword</th>\n",
       "      <th>Protocol</th>\n",
       "      <th>IPv6 Extension Header</th>\n",
       "      <th>Reference</th>\n",
       "    </tr>\n",
       "  </thead>\n",
       "  <tbody>\n",
       "    <tr>\n",
       "      <th>0</th>\n",
       "      <td>0</td>\n",
       "      <td>HOPOPT</td>\n",
       "      <td>IPv6 Hop-by-Hop Option</td>\n",
       "      <td>Y</td>\n",
       "      <td>[RFC8200]</td>\n",
       "    </tr>\n",
       "    <tr>\n",
       "      <th>1</th>\n",
       "      <td>1</td>\n",
       "      <td>ICMP</td>\n",
       "      <td>Internet Control Message</td>\n",
       "      <td>NaN</td>\n",
       "      <td>[RFC792]</td>\n",
       "    </tr>\n",
       "    <tr>\n",
       "      <th>2</th>\n",
       "      <td>2</td>\n",
       "      <td>IGMP</td>\n",
       "      <td>Internet Group Management</td>\n",
       "      <td>NaN</td>\n",
       "      <td>[RFC1112]</td>\n",
       "    </tr>\n",
       "    <tr>\n",
       "      <th>3</th>\n",
       "      <td>3</td>\n",
       "      <td>GGP</td>\n",
       "      <td>Gateway-to-Gateway</td>\n",
       "      <td>NaN</td>\n",
       "      <td>[RFC823]</td>\n",
       "    </tr>\n",
       "    <tr>\n",
       "      <th>4</th>\n",
       "      <td>4</td>\n",
       "      <td>IPv4</td>\n",
       "      <td>IPv4 encapsulation</td>\n",
       "      <td>NaN</td>\n",
       "      <td>[RFC2003]</td>\n",
       "    </tr>\n",
       "    <tr>\n",
       "      <th>...</th>\n",
       "      <td>...</td>\n",
       "      <td>...</td>\n",
       "      <td>...</td>\n",
       "      <td>...</td>\n",
       "      <td>...</td>\n",
       "    </tr>\n",
       "    <tr>\n",
       "      <th>145</th>\n",
       "      <td>145</td>\n",
       "      <td>NSH</td>\n",
       "      <td>Network Service Header</td>\n",
       "      <td>N</td>\n",
       "      <td>[RFC9491]</td>\n",
       "    </tr>\n",
       "    <tr>\n",
       "      <th>146</th>\n",
       "      <td>146-252</td>\n",
       "      <td>NaN</td>\n",
       "      <td>Unassigned</td>\n",
       "      <td>NaN</td>\n",
       "      <td>[Internet_Assigned_Numbers_Authority]</td>\n",
       "    </tr>\n",
       "    <tr>\n",
       "      <th>147</th>\n",
       "      <td>253</td>\n",
       "      <td>NaN</td>\n",
       "      <td>Use for experimentation and testing</td>\n",
       "      <td>Y</td>\n",
       "      <td>[RFC3692]</td>\n",
       "    </tr>\n",
       "    <tr>\n",
       "      <th>148</th>\n",
       "      <td>254</td>\n",
       "      <td>NaN</td>\n",
       "      <td>Use for experimentation and testing</td>\n",
       "      <td>Y</td>\n",
       "      <td>[RFC3692]</td>\n",
       "    </tr>\n",
       "    <tr>\n",
       "      <th>149</th>\n",
       "      <td>255</td>\n",
       "      <td>Reserved</td>\n",
       "      <td>NaN</td>\n",
       "      <td>NaN</td>\n",
       "      <td>[Internet_Assigned_Numbers_Authority]</td>\n",
       "    </tr>\n",
       "  </tbody>\n",
       "</table>\n",
       "<p>150 rows × 5 columns</p>\n",
       "</div>"
      ],
      "text/plain": [
       "     Decimal   Keyword                             Protocol  \\\n",
       "0          0    HOPOPT               IPv6 Hop-by-Hop Option   \n",
       "1          1      ICMP             Internet Control Message   \n",
       "2          2      IGMP            Internet Group Management   \n",
       "3          3       GGP                   Gateway-to-Gateway   \n",
       "4          4      IPv4                   IPv4 encapsulation   \n",
       "..       ...       ...                                  ...   \n",
       "145      145       NSH               Network Service Header   \n",
       "146  146-252       NaN                           Unassigned   \n",
       "147      253       NaN  Use for experimentation and testing   \n",
       "148      254       NaN  Use for experimentation and testing   \n",
       "149      255  Reserved                                  NaN   \n",
       "\n",
       "    IPv6 Extension Header                              Reference  \n",
       "0                       Y                              [RFC8200]  \n",
       "1                     NaN                               [RFC792]  \n",
       "2                     NaN                              [RFC1112]  \n",
       "3                     NaN                               [RFC823]  \n",
       "4                     NaN                              [RFC2003]  \n",
       "..                    ...                                    ...  \n",
       "145                     N                              [RFC9491]  \n",
       "146                   NaN  [Internet_Assigned_Numbers_Authority]  \n",
       "147                     Y                              [RFC3692]  \n",
       "148                     Y                              [RFC3692]  \n",
       "149                   NaN  [Internet_Assigned_Numbers_Authority]  \n",
       "\n",
       "[150 rows x 5 columns]"
      ]
     },
     "execution_count": 23,
     "metadata": {},
     "output_type": "execute_result"
    }
   ],
   "source": [
    "df_protocol"
   ]
  },
  {
   "cell_type": "code",
   "execution_count": 26,
   "metadata": {},
   "outputs": [
    {
     "data": {
      "text/plain": [
       "Index(['version', 'account-id', 'interface-id', 'srcaddr', 'dstaddr',\n",
       "       'srcport', 'dstport', 'protocol', 'packets', 'bytes', 'start', 'end',\n",
       "       'action', 'log-status', 'protocol_exp'],\n",
       "      dtype='object')"
      ]
     },
     "execution_count": 26,
     "metadata": {},
     "output_type": "execute_result"
    }
   ],
   "source": [
    "df.columns"
   ]
  },
  {
   "cell_type": "code",
   "execution_count": 24,
   "metadata": {},
   "outputs": [],
   "source": [
    "m = df_protocol.iloc[6]"
   ]
  },
  {
   "cell_type": "code",
   "execution_count": 27,
   "metadata": {},
   "outputs": [],
   "source": [
    "def protocol_func(x):\n",
    "    try:\n",
    "        item = df_protocol.iloc[int(x)]\n",
    "        protocol = item['Protocol']\n",
    "        return protocol\n",
    "    except:\n",
    "        return \"No data\"\n",
    "    \n",
    "df['protocol_exp'] = df.apply(lambda x: protocol_func(x.protocol), axis=1)"
   ]
  },
  {
   "cell_type": "code",
   "execution_count": 28,
   "metadata": {},
   "outputs": [
    {
     "data": {
      "image/png": "[encoded data removed]",
      "text/plain": [
       "<Figure size 640x480 with 1 Axes>"
      ]
     },
     "metadata": {},
     "output_type": "display_data"
    }
   ],
   "source": [
    "df.protocol_exp.value_counts().plot(kind='barh');"
   ]
  },
  {
   "cell_type": "code",
   "execution_count": 29,
   "metadata": {},
   "outputs": [
    {
     "data": {
      "text/html": [
       "<div>\n",
       "<style scoped>\n",
       "    .dataframe tbody tr th:only-of-type {\n",
       "        vertical-align: middle;\n",
       "    }\n",
       "\n",
       "    .dataframe tbody tr th {\n",
       "        vertical-align: top;\n",
       "    }\n",
       "\n",
       "    .dataframe thead th {\n",
       "        text-align: right;\n",
       "    }\n",
       "</style>\n",
       "<table border=\"1\" class=\"dataframe\">\n",
       "  <thead>\n",
       "    <tr style=\"text-align: right;\">\n",
       "      <th></th>\n",
       "      <th>version</th>\n",
       "      <th>account-id</th>\n",
       "      <th>interface-id</th>\n",
       "      <th>srcaddr</th>\n",
       "      <th>dstaddr</th>\n",
       "      <th>srcport</th>\n",
       "      <th>dstport</th>\n",
       "      <th>protocol</th>\n",
       "      <th>packets</th>\n",
       "      <th>bytes</th>\n",
       "      <th>start</th>\n",
       "      <th>end</th>\n",
       "      <th>action</th>\n",
       "      <th>log-status</th>\n",
       "      <th>protocol_exp</th>\n",
       "    </tr>\n",
       "  </thead>\n",
       "  <tbody>\n",
       "    <tr>\n",
       "      <th>0</th>\n",
       "      <td>2</td>\n",
       "      <td>600063542128</td>\n",
       "      <td>eni-01b825a9284326be5</td>\n",
       "      <td>10.1.0.15</td>\n",
       "      <td>10.1.0.53</td>\n",
       "      <td>38954</td>\n",
       "      <td>443</td>\n",
       "      <td>6</td>\n",
       "      <td>16</td>\n",
       "      <td>5571</td>\n",
       "      <td>1712793541</td>\n",
       "      <td>1712793601</td>\n",
       "      <td>ACCEPT</td>\n",
       "      <td>OK</td>\n",
       "      <td>Transmission Control</td>\n",
       "    </tr>\n",
       "    <tr>\n",
       "      <th>1</th>\n",
       "      <td>2</td>\n",
       "      <td>600063542128</td>\n",
       "      <td>eni-04e41c1305a4b787d</td>\n",
       "      <td>-</td>\n",
       "      <td>-</td>\n",
       "      <td>-</td>\n",
       "      <td>-</td>\n",
       "      <td>-</td>\n",
       "      <td>-</td>\n",
       "      <td>-</td>\n",
       "      <td>1712793530</td>\n",
       "      <td>1712793600</td>\n",
       "      <td>-</td>\n",
       "      <td>NODATA</td>\n",
       "      <td>No data</td>\n",
       "    </tr>\n",
       "    <tr>\n",
       "      <th>2</th>\n",
       "      <td>2</td>\n",
       "      <td>600063542128</td>\n",
       "      <td>eni-0f6584c211597174d</td>\n",
       "      <td>-</td>\n",
       "      <td>-</td>\n",
       "      <td>-</td>\n",
       "      <td>-</td>\n",
       "      <td>-</td>\n",
       "      <td>-</td>\n",
       "      <td>-</td>\n",
       "      <td>1712793530</td>\n",
       "      <td>1712793600</td>\n",
       "      <td>-</td>\n",
       "      <td>NODATA</td>\n",
       "      <td>No data</td>\n",
       "    </tr>\n",
       "    <tr>\n",
       "      <th>3</th>\n",
       "      <td>2</td>\n",
       "      <td>600063542128</td>\n",
       "      <td>eni-01b825a9284326be5</td>\n",
       "      <td>10.1.0.15</td>\n",
       "      <td>10.1.0.53</td>\n",
       "      <td>40264</td>\n",
       "      <td>443</td>\n",
       "      <td>6</td>\n",
       "      <td>23</td>\n",
       "      <td>5875</td>\n",
       "      <td>1712793542</td>\n",
       "      <td>1712793602</td>\n",
       "      <td>ACCEPT</td>\n",
       "      <td>OK</td>\n",
       "      <td>Transmission Control</td>\n",
       "    </tr>\n",
       "    <tr>\n",
       "      <th>4</th>\n",
       "      <td>2</td>\n",
       "      <td>600063542128</td>\n",
       "      <td>eni-04e41c1305a4b787d</td>\n",
       "      <td>-</td>\n",
       "      <td>-</td>\n",
       "      <td>-</td>\n",
       "      <td>-</td>\n",
       "      <td>-</td>\n",
       "      <td>-</td>\n",
       "      <td>-</td>\n",
       "      <td>1712793528</td>\n",
       "      <td>1712793600</td>\n",
       "      <td>-</td>\n",
       "      <td>NODATA</td>\n",
       "      <td>No data</td>\n",
       "    </tr>\n",
       "    <tr>\n",
       "      <th>...</th>\n",
       "      <td>...</td>\n",
       "      <td>...</td>\n",
       "      <td>...</td>\n",
       "      <td>...</td>\n",
       "      <td>...</td>\n",
       "      <td>...</td>\n",
       "      <td>...</td>\n",
       "      <td>...</td>\n",
       "      <td>...</td>\n",
       "      <td>...</td>\n",
       "      <td>...</td>\n",
       "      <td>...</td>\n",
       "      <td>...</td>\n",
       "      <td>...</td>\n",
       "      <td>...</td>\n",
       "    </tr>\n",
       "    <tr>\n",
       "      <th>90754</th>\n",
       "      <td>2</td>\n",
       "      <td>600063542128</td>\n",
       "      <td>eni-04e41c1305a4b787d</td>\n",
       "      <td>-</td>\n",
       "      <td>-</td>\n",
       "      <td>-</td>\n",
       "      <td>-</td>\n",
       "      <td>-</td>\n",
       "      <td>-</td>\n",
       "      <td>-</td>\n",
       "      <td>1712846328</td>\n",
       "      <td>1712846400</td>\n",
       "      <td>-</td>\n",
       "      <td>NODATA</td>\n",
       "      <td>No data</td>\n",
       "    </tr>\n",
       "    <tr>\n",
       "      <th>90755</th>\n",
       "      <td>2</td>\n",
       "      <td>600063542128</td>\n",
       "      <td>eni-01b825a9284326be5</td>\n",
       "      <td>10.1.0.53</td>\n",
       "      <td>10.1.0.15</td>\n",
       "      <td>443</td>\n",
       "      <td>52142</td>\n",
       "      <td>6</td>\n",
       "      <td>4</td>\n",
       "      <td>519</td>\n",
       "      <td>1712846342</td>\n",
       "      <td>1712846402</td>\n",
       "      <td>ACCEPT</td>\n",
       "      <td>OK</td>\n",
       "      <td>Transmission Control</td>\n",
       "    </tr>\n",
       "    <tr>\n",
       "      <th>90756</th>\n",
       "      <td>2</td>\n",
       "      <td>600063542128</td>\n",
       "      <td>eni-0f6584c211597174d</td>\n",
       "      <td>10.1.1.171</td>\n",
       "      <td>10.1.0.26</td>\n",
       "      <td>57772</td>\n",
       "      <td>443</td>\n",
       "      <td>6</td>\n",
       "      <td>4</td>\n",
       "      <td>197</td>\n",
       "      <td>1712846341</td>\n",
       "      <td>1712846401</td>\n",
       "      <td>ACCEPT</td>\n",
       "      <td>OK</td>\n",
       "      <td>Transmission Control</td>\n",
       "    </tr>\n",
       "    <tr>\n",
       "      <th>90757</th>\n",
       "      <td>2</td>\n",
       "      <td>600063542128</td>\n",
       "      <td>eni-01b825a9284326be5</td>\n",
       "      <td>10.1.0.15</td>\n",
       "      <td>10.1.0.53</td>\n",
       "      <td>55964</td>\n",
       "      <td>443</td>\n",
       "      <td>6</td>\n",
       "      <td>18</td>\n",
       "      <td>5627</td>\n",
       "      <td>1712846346</td>\n",
       "      <td>1712846406</td>\n",
       "      <td>ACCEPT</td>\n",
       "      <td>OK</td>\n",
       "      <td>Transmission Control</td>\n",
       "    </tr>\n",
       "    <tr>\n",
       "      <th>90758</th>\n",
       "      <td>2</td>\n",
       "      <td>600063542128</td>\n",
       "      <td>eni-04e41c1305a4b787d</td>\n",
       "      <td>-</td>\n",
       "      <td>-</td>\n",
       "      <td>-</td>\n",
       "      <td>-</td>\n",
       "      <td>-</td>\n",
       "      <td>-</td>\n",
       "      <td>-</td>\n",
       "      <td>1712846326</td>\n",
       "      <td>1712846406</td>\n",
       "      <td>-</td>\n",
       "      <td>NODATA</td>\n",
       "      <td>No data</td>\n",
       "    </tr>\n",
       "  </tbody>\n",
       "</table>\n",
       "<p>90759 rows × 15 columns</p>\n",
       "</div>"
      ],
      "text/plain": [
       "       version    account-id           interface-id     srcaddr    dstaddr  \\\n",
       "0            2  600063542128  eni-01b825a9284326be5   10.1.0.15  10.1.0.53   \n",
       "1            2  600063542128  eni-04e41c1305a4b787d           -          -   \n",
       "2            2  600063542128  eni-0f6584c211597174d           -          -   \n",
       "3            2  600063542128  eni-01b825a9284326be5   10.1.0.15  10.1.0.53   \n",
       "4            2  600063542128  eni-04e41c1305a4b787d           -          -   \n",
       "...        ...           ...                    ...         ...        ...   \n",
       "90754        2  600063542128  eni-04e41c1305a4b787d           -          -   \n",
       "90755        2  600063542128  eni-01b825a9284326be5   10.1.0.53  10.1.0.15   \n",
       "90756        2  600063542128  eni-0f6584c211597174d  10.1.1.171  10.1.0.26   \n",
       "90757        2  600063542128  eni-01b825a9284326be5   10.1.0.15  10.1.0.53   \n",
       "90758        2  600063542128  eni-04e41c1305a4b787d           -          -   \n",
       "\n",
       "      srcport dstport protocol packets bytes       start         end  action  \\\n",
       "0       38954     443        6      16  5571  1712793541  1712793601  ACCEPT   \n",
       "1           -       -        -       -     -  1712793530  1712793600       -   \n",
       "2           -       -        -       -     -  1712793530  1712793600       -   \n",
       "3       40264     443        6      23  5875  1712793542  1712793602  ACCEPT   \n",
       "4           -       -        -       -     -  1712793528  1712793600       -   \n",
       "...       ...     ...      ...     ...   ...         ...         ...     ...   \n",
       "90754       -       -        -       -     -  1712846328  1712846400       -   \n",
       "90755     443   52142        6       4   519  1712846342  1712846402  ACCEPT   \n",
       "90756   57772     443        6       4   197  1712846341  1712846401  ACCEPT   \n",
       "90757   55964     443        6      18  5627  1712846346  1712846406  ACCEPT   \n",
       "90758       -       -        -       -     -  1712846326  1712846406       -   \n",
       "\n",
       "      log-status          protocol_exp  \n",
       "0             OK  Transmission Control  \n",
       "1         NODATA               No data  \n",
       "2         NODATA               No data  \n",
       "3             OK  Transmission Control  \n",
       "4         NODATA               No data  \n",
       "...          ...                   ...  \n",
       "90754     NODATA               No data  \n",
       "90755         OK  Transmission Control  \n",
       "90756         OK  Transmission Control  \n",
       "90757         OK  Transmission Control  \n",
       "90758     NODATA               No data  \n",
       "\n",
       "[90759 rows x 15 columns]"
      ]
     },
     "execution_count": 29,
     "metadata": {},
     "output_type": "execute_result"
    }
   ],
   "source": [
    "df"
   ]
  },
  {
   "cell_type": "code",
   "execution_count": 34,
   "metadata": {},
   "outputs": [],
   "source": [
    "df = wr.s3.read_json(f\"s3://{bucket_name}/AWSLogs/600063542128/vpcdnsquerylogs/vpc-0b5dd461956ad93a2/2024/04/11/\", dataset=True)"
   ]
  },
  {
   "cell_type": "code",
   "execution_count": 37,
   "metadata": {},
   "outputs": [
    {
     "data": {
      "text/plain": [
       "Index(['version', 'account_id', 'region', 'vpc_id', 'query_timestamp',\n",
       "       'query_name', 'query_type', 'query_class', 'rcode', 'answers',\n",
       "       'srcaddr', 'srcport', 'transport', 'srcids', 'firewall_rule_action',\n",
       "       'firewall_rule_group_id', 'firewall_domain_list_id'],\n",
       "      dtype='object')"
      ]
     },
     "execution_count": 37,
     "metadata": {},
     "output_type": "execute_result"
    }
   ],
   "source": [
    "df.columns"
   ]
  },
  {
   "cell_type": "code",
   "execution_count": 38,
   "metadata": {},
   "outputs": [
    {
     "data": {
      "text/plain": [
       "(2733, 17)"
      ]
     },
     "execution_count": 38,
     "metadata": {},
     "output_type": "execute_result"
    }
   ],
   "source": [
    "df.shape"
   ]
  },
  {
   "cell_type": "code",
   "execution_count": 39,
   "metadata": {},
   "outputs": [
    {
     "data": {
      "text/html": [
       "<div>\n",
       "<style scoped>\n",
       "    .dataframe tbody tr th:only-of-type {\n",
       "        vertical-align: middle;\n",
       "    }\n",
       "\n",
       "    .dataframe tbody tr th {\n",
       "        vertical-align: top;\n",
       "    }\n",
       "\n",
       "    .dataframe thead th {\n",
       "        text-align: right;\n",
       "    }\n",
       "</style>\n",
       "<table border=\"1\" class=\"dataframe\">\n",
       "  <thead>\n",
       "    <tr style=\"text-align: right;\">\n",
       "      <th></th>\n",
       "      <th>version</th>\n",
       "      <th>account_id</th>\n",
       "      <th>region</th>\n",
       "      <th>vpc_id</th>\n",
       "      <th>query_timestamp</th>\n",
       "      <th>query_name</th>\n",
       "      <th>query_type</th>\n",
       "      <th>query_class</th>\n",
       "      <th>rcode</th>\n",
       "      <th>answers</th>\n",
       "      <th>srcaddr</th>\n",
       "      <th>srcport</th>\n",
       "      <th>transport</th>\n",
       "      <th>srcids</th>\n",
       "      <th>firewall_rule_action</th>\n",
       "      <th>firewall_rule_group_id</th>\n",
       "      <th>firewall_domain_list_id</th>\n",
       "    </tr>\n",
       "  </thead>\n",
       "  <tbody>\n",
       "    <tr>\n",
       "      <th>0</th>\n",
       "      <td>1.1</td>\n",
       "      <td>600063542128</td>\n",
       "      <td>us-west-2</td>\n",
       "      <td>vpc-0b5dd461956ad93a2</td>\n",
       "      <td>2024-04-11T00:02:45Z</td>\n",
       "      <td>ssm.us-west-2.amazonaws.com.</td>\n",
       "      <td>A</td>\n",
       "      <td>IN</td>\n",
       "      <td>NOERROR</td>\n",
       "      <td>[{'Rdata': '10.1.0.161', 'Type': 'A', 'Class':...</td>\n",
       "      <td>10.1.1.171</td>\n",
       "      <td>60908</td>\n",
       "      <td>UDP</td>\n",
       "      <td>{'instance': 'i-0f2de777b4aa850a8'}</td>\n",
       "      <td>NaN</td>\n",
       "      <td>NaN</td>\n",
       "      <td>NaN</td>\n",
       "    </tr>\n",
       "    <tr>\n",
       "      <th>1</th>\n",
       "      <td>1.1</td>\n",
       "      <td>600063542128</td>\n",
       "      <td>us-west-2</td>\n",
       "      <td>vpc-0b5dd461956ad93a2</td>\n",
       "      <td>2024-04-11T00:03:03Z</td>\n",
       "      <td>ec2messages.us-west-2.amazonaws.com.</td>\n",
       "      <td>A</td>\n",
       "      <td>IN</td>\n",
       "      <td>NOERROR</td>\n",
       "      <td>[{'Rdata': '10.1.0.53', 'Type': 'A', 'Class': ...</td>\n",
       "      <td>10.1.0.15</td>\n",
       "      <td>33131</td>\n",
       "      <td>UDP</td>\n",
       "      <td>{'instance': 'i-037033597f60d8129'}</td>\n",
       "      <td>NaN</td>\n",
       "      <td>NaN</td>\n",
       "      <td>NaN</td>\n",
       "    </tr>\n",
       "    <tr>\n",
       "      <th>2</th>\n",
       "      <td>1.1</td>\n",
       "      <td>600063542128</td>\n",
       "      <td>us-west-2</td>\n",
       "      <td>vpc-0b5dd461956ad93a2</td>\n",
       "      <td>2024-04-11T00:04:04Z</td>\n",
       "      <td>ec2messages.us-west-2.amazonaws.com.</td>\n",
       "      <td>A</td>\n",
       "      <td>IN</td>\n",
       "      <td>NOERROR</td>\n",
       "      <td>[{'Rdata': '10.1.0.53', 'Type': 'A', 'Class': ...</td>\n",
       "      <td>10.1.0.15</td>\n",
       "      <td>49050</td>\n",
       "      <td>UDP</td>\n",
       "      <td>{'instance': 'i-037033597f60d8129'}</td>\n",
       "      <td>NaN</td>\n",
       "      <td>NaN</td>\n",
       "      <td>NaN</td>\n",
       "    </tr>\n",
       "    <tr>\n",
       "      <th>3</th>\n",
       "      <td>1.1</td>\n",
       "      <td>600063542128</td>\n",
       "      <td>us-west-2</td>\n",
       "      <td>vpc-0b5dd461956ad93a2</td>\n",
       "      <td>2024-04-11T00:04:04Z</td>\n",
       "      <td>ec2messages.us-west-2.amazonaws.com.</td>\n",
       "      <td>AAAA</td>\n",
       "      <td>IN</td>\n",
       "      <td>NOERROR</td>\n",
       "      <td>[]</td>\n",
       "      <td>10.1.0.15</td>\n",
       "      <td>34329</td>\n",
       "      <td>UDP</td>\n",
       "      <td>{'instance': 'i-037033597f60d8129'}</td>\n",
       "      <td>NaN</td>\n",
       "      <td>NaN</td>\n",
       "      <td>NaN</td>\n",
       "    </tr>\n",
       "    <tr>\n",
       "      <th>4</th>\n",
       "      <td>1.1</td>\n",
       "      <td>600063542128</td>\n",
       "      <td>us-west-2</td>\n",
       "      <td>vpc-0b5dd461956ad93a2</td>\n",
       "      <td>2024-04-11T00:04:52Z</td>\n",
       "      <td>ip-10-1-1-171.us-west-2.compute.internal.</td>\n",
       "      <td>AAAA</td>\n",
       "      <td>IN</td>\n",
       "      <td>NOERROR</td>\n",
       "      <td>[]</td>\n",
       "      <td>10.1.1.171</td>\n",
       "      <td>46323</td>\n",
       "      <td>UDP</td>\n",
       "      <td>{'instance': 'i-0f2de777b4aa850a8'}</td>\n",
       "      <td>NaN</td>\n",
       "      <td>NaN</td>\n",
       "      <td>NaN</td>\n",
       "    </tr>\n",
       "  </tbody>\n",
       "</table>\n",
       "</div>"
      ],
      "text/plain": [
       "   version    account_id     region                 vpc_id  \\\n",
       "0      1.1  600063542128  us-west-2  vpc-0b5dd461956ad93a2   \n",
       "1      1.1  600063542128  us-west-2  vpc-0b5dd461956ad93a2   \n",
       "2      1.1  600063542128  us-west-2  vpc-0b5dd461956ad93a2   \n",
       "3      1.1  600063542128  us-west-2  vpc-0b5dd461956ad93a2   \n",
       "4      1.1  600063542128  us-west-2  vpc-0b5dd461956ad93a2   \n",
       "\n",
       "        query_timestamp                                 query_name query_type  \\\n",
       "0  2024-04-11T00:02:45Z               ssm.us-west-2.amazonaws.com.          A   \n",
       "1  2024-04-11T00:03:03Z       ec2messages.us-west-2.amazonaws.com.          A   \n",
       "2  2024-04-11T00:04:04Z       ec2messages.us-west-2.amazonaws.com.          A   \n",
       "3  2024-04-11T00:04:04Z       ec2messages.us-west-2.amazonaws.com.       AAAA   \n",
       "4  2024-04-11T00:04:52Z  ip-10-1-1-171.us-west-2.compute.internal.       AAAA   \n",
       "\n",
       "  query_class    rcode                                            answers  \\\n",
       "0          IN  NOERROR  [{'Rdata': '10.1.0.161', 'Type': 'A', 'Class':...   \n",
       "1          IN  NOERROR  [{'Rdata': '10.1.0.53', 'Type': 'A', 'Class': ...   \n",
       "2          IN  NOERROR  [{'Rdata': '10.1.0.53', 'Type': 'A', 'Class': ...   \n",
       "3          IN  NOERROR                                                 []   \n",
       "4          IN  NOERROR                                                 []   \n",
       "\n",
       "      srcaddr  srcport transport                               srcids  \\\n",
       "0  10.1.1.171    60908       UDP  {'instance': 'i-0f2de777b4aa850a8'}   \n",
       "1   10.1.0.15    33131       UDP  {'instance': 'i-037033597f60d8129'}   \n",
       "2   10.1.0.15    49050       UDP  {'instance': 'i-037033597f60d8129'}   \n",
       "3   10.1.0.15    34329       UDP  {'instance': 'i-037033597f60d8129'}   \n",
       "4  10.1.1.171    46323       UDP  {'instance': 'i-0f2de777b4aa850a8'}   \n",
       "\n",
       "  firewall_rule_action firewall_rule_group_id firewall_domain_list_id  \n",
       "0                  NaN                    NaN                     NaN  \n",
       "1                  NaN                    NaN                     NaN  \n",
       "2                  NaN                    NaN                     NaN  \n",
       "3                  NaN                    NaN                     NaN  \n",
       "4                  NaN                    NaN                     NaN  "
      ]
     },
     "execution_count": 39,
     "metadata": {},
     "output_type": "execute_result"
    }
   ],
   "source": [
    "df.head()"
   ]
  },
  {
   "cell_type": "code",
   "execution_count": 45,
   "metadata": {},
   "outputs": [
    {
     "data": {
      "image/png": "[encoded data removed]",
      "text/plain": [
       "<Figure size 640x480 with 1 Axes>"
      ]
     },
     "metadata": {},
     "output_type": "display_data"
    }
   ],
   "source": [
    "df_nxdomain = df[df.rcode == \"NXDOMAIN\"]\n",
    "df_nxdomain.query_name.value_counts().head(10).plot(kind=\"barh\").invert_yaxis();"
   ]
  },
  {
   "cell_type": "code",
   "execution_count": 42,
   "metadata": {},
   "outputs": [
    {
     "data": {
      "text/plain": [
       "array([nan, 'rslvr-frg-5c5f01f601d944c4'], dtype=object)"
      ]
     },
     "execution_count": 42,
     "metadata": {},
     "output_type": "execute_result"
    }
   ],
   "source": [
    "df.firewall_rule_group_id.unique()"
   ]
  },
  {
   "cell_type": "code",
   "execution_count": 43,
   "metadata": {},
   "outputs": [
    {
     "data": {
      "text/plain": [
       "array([nan, 'BLOCK'], dtype=object)"
      ]
     },
     "execution_count": 43,
     "metadata": {},
     "output_type": "execute_result"
    }
   ],
   "source": [
    "df.firewall_rule_action.unique()"
   ]
  },
  {
   "cell_type": "code",
   "execution_count": 44,
   "metadata": {},
   "outputs": [
    {
     "data": {
      "text/plain": [
       "array([nan, 'rslvr-fdl-ab51ecd168e34d57'], dtype=object)"
      ]
     },
     "execution_count": 44,
     "metadata": {},
     "output_type": "execute_result"
    }
   ],
   "source": [
    "df.firewall_domain_list_id.unique()"
   ]
  },
  {
   "cell_type": "code",
   "execution_count": 41,
   "metadata": {},
   "outputs": [
    {
     "data": {
      "text/plain": [
       "array([nan, 'BLOCK'], dtype=object)"
      ]
     },
     "execution_count": 41,
     "metadata": {},
     "output_type": "execute_result"
    }
   ],
   "source": [
    "df.firewall_rule_action.unique()"
   ]
  }
 ],
 "metadata": {
  "kernelspec": {
   "display_name": "myenv",
   "language": "python",
   "name": "python3"
  },
  "language_info": {
   "codemirror_mode": {
    "name": "ipython",
    "version": 3
   },
   "file_extension": ".py",
   "mimetype": "text/x-python",
   "name": "python",
   "nbconvert_exporter": "python",
   "pygments_lexer": "ipython3",
   "version": "3.12.2"
  }
 },
 "nbformat": 4,
 "nbformat_minor": 2
}
