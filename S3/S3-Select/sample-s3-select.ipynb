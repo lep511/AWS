{
 "cells": [
  {
   "cell_type": "markdown",
   "metadata": {},
   "source": [
    "## Consulta de datos sin servidores ni bases de datos mediante Amazon S3 Select\n",
    "\n",
    "Anteriormente, era necesario cargar los datos en una base de datos para poder consultarlos. Además de implementar una base de datos, el cliente habría necesitado implementar una aplicación y un sitio web para habilitar la búsqueda. En lugar de desplegar una base de datos y los recursos asociados, aprovechamos una característica de S3 llamada [S3 Select](https://docs.aws.amazon.com/AmazonS3/latest/userguide/selecting-content-from-objects.html) para crear una herramienta de búsqueda en la guía telefónica completamente sin servidor.\n",
    "\n",
    "Los clientes aprovechan Amazon S3 para almacenar y proteger cualquier cantidad de datos sin aprovisionar almacenamiento ni administrar infraestructura. Amazon S3 Select y Amazon S3 Glacier Select permiten a los clientes ejecutar consultas SQL en lenguaje de consulta estructurado directamente en los datos almacenados en S3 y Amazon S3 Glacier. Con S3 Select, solo tiene que almacenar sus datos en S3 y realizar consultas mediante instrucciones SQL para filtrar el contenido de los objetos de S3 y recuperar únicamente los datos que necesita. Al recuperar solo un subconjunto de los datos, los clientes reducen la cantidad de datos que Amazon S3 transfiere, lo que reduce el coste y la latencia de la recuperación de estos datos. La reducción del costo y la complejidad permite a los clientes de AWS avanzar más rápido y reducir la cantidad de tiempo necesaria para ofrecer valor a sus empresas y a sus clientes.\n",
    "\n",
    "S3 Select funciona con objetos almacenados en formato CSV, JSON o Apache Parquet. S3 Select también admite compresión en objetos CSV y JSON con GZIP o BZIP2, y objetos cifrados en el lado del servidor. Puede realizar consultas SQL mediante los SDK de AWS, la API REST de SELECT Object Content, la interfaz de línea de comandos de AWS (CLI de AWS) o la consola de administración de AWS."
   ]
  },
  {
   "cell_type": "code",
   "execution_count": 22,
   "metadata": {},
   "outputs": [],
   "source": [
    "import boto3\n",
    "import json\n",
    "import math\n",
    "\n",
    "session = boto3.Session(profile_name='workshop')\n",
    "s3 = session.client('s3')"
   ]
  },
  {
   "cell_type": "code",
   "execution_count": 16,
   "metadata": {},
   "outputs": [],
   "source": [
    "# Function to convert bytes to KB, MB, etc\n",
    "def convert_size(size_bytes):\n",
    "   if size_bytes == 0:\n",
    "       return \"0B\"\n",
    "   size_name = (\"B\", \"KB\", \"MB\", \"GB\", \"TB\", \"PB\", \"EB\", \"ZB\", \"YB\")\n",
    "   i = int(math.floor(math.log(size_bytes, 1024)))\n",
    "   p = math.pow(1024, i)\n",
    "   s = round(size_bytes / p, 2)\n",
    "   return \"%s %s\" % (s, size_name[i])"
   ]
  },
  {
   "cell_type": "code",
   "execution_count": 23,
   "metadata": {},
   "outputs": [],
   "source": [
    "#Upload the file to S3\n",
    "bucket_name = 'doc-example-001-sensitive-data'\n",
    "file_name = 'compagnie_français.csv'\n",
    "\n",
    "s3.upload_file(file_name, bucket_name, file_name)"
   ]
  },
  {
   "cell_type": "code",
   "execution_count": 24,
   "metadata": {},
   "outputs": [],
   "source": [
    "resp = s3.select_object_content(\n",
    "    Bucket=bucket_name,\n",
    "    Key=file_name,\n",
    "    ExpressionType='SQL',\n",
    "    Expression=\"SELECT * FROM s3object s where s.\\\"Names\\\" = 'John Doe'\",\n",
    "    InputSerialization = {'CSV': {\"FileHeaderInfo\": \"Use\"}, 'CompressionType': 'NONE'},\n",
    "    OutputSerialization = {'CSV': {}},\n",
    ")"
   ]
  },
  {
   "cell_type": "code",
   "execution_count": 25,
   "metadata": {},
   "outputs": [
    {
     "name": "stdout",
     "output_type": "stream",
     "text": [
      "43DC7847-426D-374B-66DB-F4235668650B,John Doe,johndoe@example.com,Example Corp.,29-Jan-20,351 322 706-00000\n",
      "BFEB70BE-49D9-91FA-AFAC-FBF90F071280,John Doe,johndoe@example.net,Example Corp.,22-Feb-21,863811113-00001\n",
      "44F79BF2-2923-1D16-30E9-3B24EB960945,John Doe,johndoe@example.org,Example Corp.,11-Dec-20,898606835-00004\n",
      "19F22A2E-E477-B93A-BDE1-60A64089717D,John Doe,johndoe@example.io,Example Corp.,15-Dec-20,487726333-00007\n",
      "5DFD2087-EA86-B01B-7514-55846AEFE126,John Doe,johndoe@example.edu,Example Corp.,28-Jul-19,757331780-00002\n",
      "63AB89C4-3AE7-0E4D-059D-30B722ECE5B7,John Doe,johndoe@example.co,Example Corp.,27-Sep-19,607991817-00000\n",
      "46894AC0-91FC-A832-67F7-C7EF743F1952,John Doe,johndoe@example.ca,Example Corp.,9-Jun-19,797558954-00005\n",
      "\n",
      "Stats details bytesScanned:  21.94 KB\n",
      "Stats details bytesProcessed:  21.94 KB\n",
      "Stats details bytesReturned:  747.0 B\n"
     ]
    }
   ],
   "source": [
    "for event in resp['Payload']:\n",
    "    if 'Records' in event:\n",
    "        records = event['Records']['Payload'].decode('utf-8')\n",
    "        print(records)\n",
    "    elif 'Stats' in event:\n",
    "        statsDetails = event['Stats']['Details']\n",
    "        print(\"Stats details bytesScanned: \", convert_size(statsDetails['BytesScanned']))\n",
    "        print(\"Stats details bytesProcessed: \", convert_size(statsDetails['BytesProcessed']))\n",
    "        print(\"Stats details bytesReturned: \", convert_size(statsDetails['BytesReturned']))"
   ]
  }
 ],
 "metadata": {
  "kernelspec": {
   "display_name": "personal",
   "language": "python",
   "name": "python3"
  },
  "language_info": {
   "codemirror_mode": {
    "name": "ipython",
    "version": 3
   },
   "file_extension": ".py",
   "mimetype": "text/x-python",
   "name": "python",
   "nbconvert_exporter": "python",
   "pygments_lexer": "ipython3",
   "version": "3.11.3"
  },
  "orig_nbformat": 4
 },
 "nbformat": 4,
 "nbformat_minor": 2
}
