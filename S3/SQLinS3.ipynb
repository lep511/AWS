{
 "cells": [
  {
   "cell_type": "code",
   "execution_count": 1,
   "id": "533d30b6-6a38-4680-b241-79286e03b1d4",
   "metadata": {},
   "outputs": [],
   "source": [
    "import boto3\n",
    "import json\n",
    "import jsonpickle"
   ]
  },
  {
   "cell_type": "code",
   "execution_count": 38,
   "id": "1a4a553b-c10d-485e-b480-3dcd6bbd5e06",
   "metadata": {},
   "outputs": [],
   "source": [
    "s3 = boto3.client('s3','us-east-1')"
   ]
  },
  {
   "cell_type": "code",
   "execution_count": 39,
   "id": "8ef56c2e-61ca-4715-965e-68856b4329e2",
   "metadata": {},
   "outputs": [],
   "source": [
    "expression = \"SELECT s.* FROM S3Object s\""
   ]
  },
  {
   "cell_type": "code",
   "execution_count": 76,
   "id": "c7b36817-f2aa-4121-ae5e-f722daa1509e",
   "metadata": {},
   "outputs": [],
   "source": [
    "result = s3.select_object_content(\n",
    "            Bucket=,\n",
    "            Key='data_file.json',\n",
    "            Expression=expression,\n",
    "            ExpressionType='SQL',\n",
    "            InputSerialization={\n",
    "                'JSON': {\n",
    "                    'Type': 'DOCUMENT'\n",
    "                }\n",
    "            },\n",
    "            OutputSerialization={\n",
    "                'JSON': {\n",
    "                    'RecordDelimiter': ','\n",
    "                }\n",
    "        }\n",
    "    )"
   ]
  }
 ],
 "metadata": {
  "kernelspec": {
   "display_name": "default:Python",
   "language": "python",
   "name": "conda-env-default-py"
  },
  "language_info": {
   "codemirror_mode": {
    "name": "ipython",
    "version": 3
   },
   "file_extension": ".py",
   "mimetype": "text/x-python",
   "name": "python",
   "nbconvert_exporter": "python",
   "pygments_lexer": "ipython3",
   "version": "3.9.10"
  }
 },
 "nbformat": 4,
 "nbformat_minor": 5
}
