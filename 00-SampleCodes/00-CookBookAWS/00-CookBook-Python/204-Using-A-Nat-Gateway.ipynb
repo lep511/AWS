{
 "cells": [
  {
   "cell_type": "markdown",
   "metadata": {},
   "source": [
    "### Uso de una gateway NAT para el acceso saliente a Internet desde subredes privadas\n",
    "\n",
    "*Problema*\n",
    "Usted tiene subredes públicas en su VPC que tienen una ruta a un gateway de Internet. Desea aprovechar esta configuración para proporcionar acceso a Internet sólo de salida para una instancia en subredes privadas.\n",
    "\n",
    "*Solución*\n",
    "Cree un gateway NAT en una de las subredes públicas. A continuación, cree una IP elástica y asóciela a la gateway NAT. En la tabla de rutas asociada a las subredes privadas, añada una ruta para el tráfico de salida a Internet que tenga como objetivo la gateway NAT.\n",
    "\n",
    "<img src=\"https://learning.oreilly.com/api/v2/epubs/urn:orm:book:9781492092599/files/assets/awsc_0205.png\" width=\"700\">"
   ]
  },
  {
   "cell_type": "code",
   "execution_count": 34,
   "metadata": {},
   "outputs": [],
   "source": [
    "import boto3\n",
    "import json\n",
    "import time\n",
    "\n",
    "region_aws = 'us-east-1'\n",
    "\n",
    "ec2 = boto3.resource('ec2', region_name=region_aws)\n",
    "ec2_client = boto3.client('ec2', region_name=region_aws)"
   ]
  },
  {
   "cell_type": "code",
   "execution_count": 2,
   "metadata": {},
   "outputs": [],
   "source": [
    "# create VPC\n",
    "vpc = ec2.create_vpc(CidrBlock='174.16.0.0/16')\n",
    "vpc.create_tags(Tags=[{\"Key\": \"Name\", \"Value\": \"AWSCookBook\"}])\n",
    "vpc.wait_until_available()"
   ]
  },
  {
   "cell_type": "code",
   "execution_count": 3,
   "metadata": {},
   "outputs": [
    {
     "data": {
      "text/plain": [
       "[ec2.Tag(resource_id='rtb-02c87c5edfac8c3dd', key='Name', value='AWSCookbook-RT-Private2')]"
      ]
     },
     "execution_count": 3,
     "metadata": {},
     "output_type": "execute_result"
    }
   ],
   "source": [
    "# Crear routables\n",
    "routetable_public = vpc.create_route_table()\n",
    "routetable_public.create_tags(Tags=[{\"Key\": \"Name\", \"Value\": \"AWSCookbook-RT-Public\"}])\n",
    "\n",
    "routetable_private1 = vpc.create_route_table()\n",
    "routetable_private1.create_tags(Tags=[{\"Key\": \"Name\", \"Value\": \"AWSCookbook-RT-Private1\"}])\n",
    "\n",
    "routetable_private2 = vpc.create_route_table()\n",
    "routetable_private2.create_tags(Tags=[{\"Key\": \"Name\", \"Value\": \"AWSCookbook-RT-Private2\"}])"
   ]
  },
  {
   "cell_type": "code",
   "execution_count": 4,
   "metadata": {},
   "outputs": [],
   "source": [
    "# Cree cuatro subredes:\n",
    "subnet_1 = ec2.create_subnet(\n",
    "    CidrBlock='174.16.0.0/24', \n",
    "    VpcId=vpc.id,\n",
    "    AvailabilityZone='us-east-1a'\n",
    ")\n",
    "subnet_2 = ec2.create_subnet(\n",
    "    CidrBlock='174.16.1.0/24',\n",
    "    VpcId=vpc.id,\n",
    "    AvailabilityZone='us-east-1b'\n",
    ")\n",
    "subnet_3 = ec2.create_subnet(\n",
    "    CidrBlock='174.16.2.0/24', \n",
    "    VpcId=vpc.id,\n",
    "    AvailabilityZone='us-east-1a'\n",
    ")\n",
    "subnet_4 = ec2.create_subnet(\n",
    "    CidrBlock='174.16.3.0/24',\n",
    "    VpcId=vpc.id,\n",
    "    AvailabilityZone='us-east-1b'\n",
    ")"
   ]
  },
  {
   "cell_type": "code",
   "execution_count": 5,
   "metadata": {},
   "outputs": [
    {
     "data": {
      "text/plain": [
       "[ec2.Tag(resource_id='subnet-08f58abdc493e8e5b', key='Name', value='AWSCookbook-Private-SN-2')]"
      ]
     },
     "execution_count": 5,
     "metadata": {},
     "output_type": "execute_result"
    }
   ],
   "source": [
    "subnet_1.create_tags(Tags=[{\"Key\": \"Name\", \"Value\": \"AWSCookbook-Public-SN-1\"}])\n",
    "subnet_2.create_tags(Tags=[{\"Key\": \"Name\", \"Value\": \"AWSCookbook-Public-SN-2\"}])\n",
    "subnet_3.create_tags(Tags=[{\"Key\": \"Name\", \"Value\": \"AWSCookbook-Private-SN-1\"}])\n",
    "subnet_4.create_tags(Tags=[{\"Key\": \"Name\", \"Value\": \"AWSCookbook-Private-SN-2\"}])"
   ]
  },
  {
   "cell_type": "code",
   "execution_count": 6,
   "metadata": {},
   "outputs": [],
   "source": [
    "# Crear un gateway de Internet (IGW):\n",
    "internetgateway = ec2.create_internet_gateway(\n",
    "    TagSpecifications=[{\"ResourceType\": \"internet-gateway\", \n",
    "    \"Tags\": [{\n",
    "            \"Key\": \"Name\", \n",
    "            \"Value\": \"AWSCookbook-IGW\"}\n",
    "            ]}\n",
    "    ]\n",
    ")"
   ]
  },
  {
   "cell_type": "code",
   "execution_count": 7,
   "metadata": {},
   "outputs": [
    {
     "data": {
      "text/plain": [
       "{'ResponseMetadata': {'RequestId': '80d6ebd7-de3b-4a93-8b9d-67f5b23ac971',\n",
       "  'HTTPStatusCode': 200,\n",
       "  'HTTPHeaders': {'x-amzn-requestid': '80d6ebd7-de3b-4a93-8b9d-67f5b23ac971',\n",
       "   'cache-control': 'no-cache, no-store',\n",
       "   'strict-transport-security': 'max-age=31536000; includeSubDomains',\n",
       "   'content-type': 'text/xml;charset=UTF-8',\n",
       "   'content-length': '243',\n",
       "   'date': 'Mon, 03 Oct 2022 18:44:32 GMT',\n",
       "   'server': 'AmazonEC2'},\n",
       "  'RetryAttempts': 0}}"
      ]
     },
     "execution_count": 7,
     "metadata": {},
     "output_type": "execute_result"
    }
   ],
   "source": [
    "# Adjunte el gateway de Internet a la VPC existente:\n",
    "vpc.attach_internet_gateway(InternetGatewayId=internetgateway.id)"
   ]
  },
  {
   "cell_type": "code",
   "execution_count": 8,
   "metadata": {},
   "outputs": [
    {
     "data": {
      "text/plain": [
       "ec2.Route(route_table_id='rtb-0eeeb4d26dcb06f9a', destination_cidr_block='0.0.0.0/0')"
      ]
     },
     "execution_count": 8,
     "metadata": {},
     "output_type": "execute_result"
    }
   ],
   "source": [
    "# Cree una ruta de Internet para la tabla de enrutamiento pública:\n",
    "routetable_public.create_route(\n",
    "    DestinationCidrBlock='0.0.0.0/0',\n",
    "    GatewayId=internetgateway.id\n",
    ")\n"
   ]
  },
  {
   "cell_type": "code",
   "execution_count": 9,
   "metadata": {},
   "outputs": [
    {
     "data": {
      "text/plain": [
       "ec2.RouteTableAssociation(id='rtbassoc-034a88ab00fc350c2')"
      ]
     },
     "execution_count": 9,
     "metadata": {},
     "output_type": "execute_result"
    }
   ],
   "source": [
    "# Asociar la tabla de rutas con las subredes:\n",
    "routetable_public.associate_with_subnet(SubnetId = subnet_1.id)\n",
    "routetable_public.associate_with_subnet(SubnetId = subnet_2.id)\n",
    "routetable_private1.associate_with_subnet(SubnetId = subnet_3.id)\n",
    "routetable_private2.associate_with_subnet(SubnetId = subnet_4.id)\n"
   ]
  },
  {
   "cell_type": "code",
   "execution_count": 10,
   "metadata": {},
   "outputs": [
    {
     "data": {
      "text/plain": [
       "{'Return': True,\n",
       " 'SecurityGroupRules': [{'SecurityGroupRuleId': 'sgr-0e88b71f39a09fa96',\n",
       "   'GroupId': 'sg-07072c1d8d846ee1d',\n",
       "   'GroupOwnerId': '655734544982',\n",
       "   'IsEgress': False,\n",
       "   'IpProtocol': 'tcp',\n",
       "   'FromPort': 22,\n",
       "   'ToPort': 22,\n",
       "   'CidrIpv4': '174.16.0.0/16'}],\n",
       " 'ResponseMetadata': {'RequestId': '8f09afaf-b637-4deb-8eb0-e26089448baf',\n",
       "  'HTTPStatusCode': 200,\n",
       "  'HTTPHeaders': {'x-amzn-requestid': '8f09afaf-b637-4deb-8eb0-e26089448baf',\n",
       "   'cache-control': 'no-cache, no-store',\n",
       "   'strict-transport-security': 'max-age=31536000; includeSubDomains',\n",
       "   'content-type': 'text/xml;charset=UTF-8',\n",
       "   'content-length': '723',\n",
       "   'date': 'Mon, 03 Oct 2022 18:44:35 GMT',\n",
       "   'server': 'AmazonEC2'},\n",
       "  'RetryAttempts': 0}}"
      ]
     },
     "execution_count": 10,
     "metadata": {},
     "output_type": "execute_result"
    }
   ],
   "source": [
    "# Create a security group\n",
    "security_group = vpc.create_security_group(\n",
    "    GroupName='AWSCookbook-SG-SSH',\n",
    "    Description='Allow SSH access',\n",
    "    VpcId=vpc.id\n",
    ")\n",
    "security_group.authorize_ingress(\n",
    "    CidrIp=vpc.cidr_block,\n",
    "    IpProtocol='tcp',\n",
    "    FromPort=22,\n",
    "    ToPort=22\n",
    ")"
   ]
  },
  {
   "cell_type": "code",
   "execution_count": 12,
   "metadata": {},
   "outputs": [],
   "source": [
    "# Create a key pair\n",
    "key_name = 'AWSCookbook-KeyPair-1'\n",
    "keypair = ec2.create_key_pair(KeyName=key_name)"
   ]
  },
  {
   "cell_type": "code",
   "execution_count": 13,
   "metadata": {},
   "outputs": [],
   "source": [
    "# Cear una instancia EC2\n",
    "instance_1 = ec2.create_instances(\n",
    "    ImageId='ami-0c2b8ca1dad447f8a',\n",
    "    MinCount=1,\n",
    "    MaxCount=1,\n",
    "    InstanceType='t2.micro',\n",
    "    KeyName=key_name,\n",
    "    SubnetId=subnet_3.id,\n",
    "    SecurityGroupIds=[security_group.id],\n",
    "    TagSpecifications=[{\"ResourceType\": \"instance\",\n",
    "                        \"Tags\": [{\"Key\": \"Name\", \"Value\": \"AWSCookbook-Instance-Private-1\"}]}]\n",
    "\n",
    ")"
   ]
  },
  {
   "cell_type": "code",
   "execution_count": 94,
   "metadata": {},
   "outputs": [],
   "source": [
    "instance1_id = instance_1[0].id"
   ]
  },
  {
   "cell_type": "code",
   "execution_count": 14,
   "metadata": {},
   "outputs": [],
   "source": [
    "# Crear una Elastic IP address\n",
    "elastic_ip = ec2_client.allocate_address(Domain='vpc')"
   ]
  },
  {
   "cell_type": "code",
   "execution_count": 36,
   "metadata": {},
   "outputs": [],
   "source": [
    "# Crear un NAT gateway\n",
    "natgateway = ec2_client.create_nat_gateway(\n",
    "    AllocationId=elastic_ip['AllocationId'],\n",
    "    SubnetId=subnet_1.id\n",
    ")\n"
   ]
  },
  {
   "cell_type": "code",
   "execution_count": 52,
   "metadata": {},
   "outputs": [],
   "source": [
    "try:\n",
    "    natgateway_id = natgateway['NatGateways'][0]['NatGatewayId']\n",
    "except:\n",
    "    natgateway_id = natgateway['NatGateway']['NatGatewayId']"
   ]
  },
  {
   "cell_type": "markdown",
   "metadata": {},
   "source": [
    "El estado tardará unos instantes en estar disponible:"
   ]
  },
  {
   "cell_type": "code",
   "execution_count": 53,
   "metadata": {},
   "outputs": [
    {
     "name": "stdout",
     "output_type": "stream",
     "text": [
      "NAT Gateway created successfully\n",
      "Waiting for NAT Gateway to be available...\n",
      "NAT Gateway is available\n"
     ]
    }
   ],
   "source": [
    "if natgateway['ResponseMetadata']['HTTPStatusCode'] == 200:\n",
    "    print('NAT Gateway created successfully')\n",
    "    print('Waiting for NAT Gateway to be available...')\n",
    "    while True:\n",
    "        time.sleep(10)\n",
    "        natgateway_status = ec2_client.describe_nat_gateways(NatGatewayIds=[natgateway_id])\n",
    "        if natgateway_status['NatGateways'][0]['State'] == 'available':\n",
    "            print('NAT Gateway is available')\n",
    "            break"
   ]
  },
  {
   "cell_type": "markdown",
   "metadata": {},
   "source": [
    "Añade una ruta por defecto para 0.0.0.0/0 con destino a la gateway NAT a las dos tablas de rutas del nivel privado. Esta ruta por defecto envía todo el tráfico que no coincide con una ruta más específica al destino especificado:"
   ]
  },
  {
   "cell_type": "code",
   "execution_count": 55,
   "metadata": {},
   "outputs": [
    {
     "data": {
      "text/plain": [
       "ec2.Route(route_table_id='rtb-02c87c5edfac8c3dd', destination_cidr_block='0.0.0.0/0')"
      ]
     },
     "execution_count": 55,
     "metadata": {},
     "output_type": "execute_result"
    }
   ],
   "source": [
    "routetable_private1.create_route(\n",
    "    DestinationCidrBlock='0.0.0.0/0',\n",
    "    NatGatewayId=natgateway_id\n",
    ")\n",
    "routetable_private2.create_route(\n",
    "    DestinationCidrBlock='0.0.0.0/0',\n",
    "    NatGatewayId=natgateway_id\n",
    ")"
   ]
  },
  {
   "cell_type": "markdown",
   "metadata": {},
   "source": [
    "#### Conéctese a la instancia 1 de EC2 mediante el gestor de sesiones SSM"
   ]
  },
  {
   "cell_type": "code",
   "execution_count": 56,
   "metadata": {},
   "outputs": [],
   "source": [
    "iam = boto3.client('iam')\n",
    "ssm = boto3.client('ssm')"
   ]
  },
  {
   "cell_type": "code",
   "execution_count": 57,
   "metadata": {},
   "outputs": [],
   "source": [
    "# Create a role\n",
    "role_name = 'Cookbook-SSM-Role'\n",
    "policy_document = {\n",
    "  \"Version\": \"2012-10-17\",\n",
    "  \"Statement\": [\n",
    "  {\n",
    "    \"Effect\": \"Allow\",\n",
    "    \"Principal\": {\n",
    "      \"Service\": \"ec2.amazonaws.com\"\n",
    "    },\n",
    "    \"Action\": \"sts:AssumeRole\"\n",
    "  }\n",
    "  ]\n",
    "}\n",
    "\n",
    "ssm_role = iam.create_role(\n",
    "    RoleName=role_name,\n",
    "    AssumeRolePolicyDocument=json.dumps(policy_document)\n",
    ")"
   ]
  },
  {
   "cell_type": "code",
   "execution_count": 58,
   "metadata": {},
   "outputs": [
    {
     "data": {
      "text/plain": [
       "{'ResponseMetadata': {'RequestId': '13bfa2a6-13ae-420d-84dd-c6e1ba04bbd0',\n",
       "  'HTTPStatusCode': 200,\n",
       "  'HTTPHeaders': {'x-amzn-requestid': '13bfa2a6-13ae-420d-84dd-c6e1ba04bbd0',\n",
       "   'content-type': 'text/xml',\n",
       "   'content-length': '212',\n",
       "   'date': 'Mon, 03 Oct 2022 19:04:47 GMT'},\n",
       "  'RetryAttempts': 0}}"
      ]
     },
     "execution_count": 58,
     "metadata": {},
     "output_type": "execute_result"
    }
   ],
   "source": [
    "# Attach the policy to the role\n",
    "iam.attach_role_policy(\n",
    "    RoleName=role_name,\n",
    "    PolicyArn='arn:aws:iam::aws:policy/AmazonSSMManagedInstanceCore'\n",
    ")"
   ]
  },
  {
   "cell_type": "code",
   "execution_count": 59,
   "metadata": {},
   "outputs": [],
   "source": [
    "# Create an instance profile\n",
    "instance_profile_name = 'Cookbook-SSM-Profile'\n",
    "instance_profile = iam.create_instance_profile(\n",
    "    InstanceProfileName=instance_profile_name\n",
    ")\n"
   ]
  },
  {
   "cell_type": "code",
   "execution_count": 60,
   "metadata": {},
   "outputs": [
    {
     "data": {
      "text/plain": [
       "{'ResponseMetadata': {'RequestId': '7e70f148-691f-47e0-b1f9-15d131eb995f',\n",
       "  'HTTPStatusCode': 200,\n",
       "  'HTTPHeaders': {'x-amzn-requestid': '7e70f148-691f-47e0-b1f9-15d131eb995f',\n",
       "   'content-type': 'text/xml',\n",
       "   'content-length': '228',\n",
       "   'date': 'Mon, 03 Oct 2022 19:04:53 GMT'},\n",
       "  'RetryAttempts': 0}}"
      ]
     },
     "execution_count": 60,
     "metadata": {},
     "output_type": "execute_result"
    }
   ],
   "source": [
    "# Add the role that you created to the instance profile:\n",
    "iam.add_role_to_instance_profile(\n",
    "    InstanceProfileName=instance_profile_name,\n",
    "    RoleName=role_name\n",
    ")"
   ]
  },
  {
   "cell_type": "code",
   "execution_count": 61,
   "metadata": {},
   "outputs": [],
   "source": [
    "# Consulte en SSM el último ID de AMI de Amazon Linux 2 disponible en su región y guárdelo como variable de entorno:\n",
    "ssm_response = ssm.get_parameter(\n",
    "    Name='/aws/service/ami-amazon-linux-latest/amzn2-ami-hvm-x86_64-gp2'\n",
    ")"
   ]
  },
  {
   "cell_type": "code",
   "execution_count": 62,
   "metadata": {},
   "outputs": [],
   "source": [
    "# Create a key pair\n",
    "key_name = 'AWSCookbook-KeyPair-SSM-Instance'\n",
    "keypair = ec2.create_key_pair(KeyName=key_name)"
   ]
  },
  {
   "cell_type": "code",
   "execution_count": 63,
   "metadata": {},
   "outputs": [],
   "source": [
    "instance = ec2.create_instances(\n",
    "    ImageId=ssm_response['Parameter']['Value'],\n",
    "    MinCount=1,\n",
    "    MaxCount=1,\n",
    "    InstanceType='t2.micro',\n",
    "    KeyName=key_name,\n",
    "    SubnetId=subnet_3.id,\n",
    "    IamInstanceProfile={\n",
    "        'Name': 'Cookbook-SSM-Profile'\n",
    "    },\n",
    "    TagSpecifications=[\n",
    "        {\n",
    "            'ResourceType': 'instance',\n",
    "            'Tags': [\n",
    "                {\n",
    "                    'Key': 'Name',\n",
    "                    'Value': 'Cookbook-SSM-Instance'\n",
    "                },\n",
    "            ]\n",
    "        },\n",
    "    ]\n",
    ")"
   ]
  },
  {
   "cell_type": "code",
   "execution_count": 88,
   "metadata": {},
   "outputs": [],
   "source": [
    "# Esperar a que la instancia esté disponible\n",
    "instance[0].wait_until_running()"
   ]
  },
  {
   "cell_type": "code",
   "execution_count": 84,
   "metadata": {},
   "outputs": [
    {
     "name": "stdout",
     "output_type": "stream",
     "text": [
      "En la terminal ejecute el siguiente comando:\n",
      "   aws ssm start-session --target i-07447844b7aa3152d\n"
     ]
    }
   ],
   "source": [
    "instance_id = ssm.describe_instance_information()['InstanceInformationList'][0]['InstanceId']\n",
    "print(\"En la terminal ejecute el siguiente comando:\")\n",
    "print(\"   aws ssm start-session --target \" + instance_id)"
   ]
  },
  {
   "cell_type": "markdown",
   "metadata": {},
   "source": [
    "Prueba el acceso a Internet con un ping:"
   ]
  },
  {
   "cell_type": "code",
   "execution_count": null,
   "metadata": {
    "vscode": {
     "languageId": "shellscript"
    }
   },
   "outputs": [],
   "source": [
    "ping -c 4 homestarrunner.com"
   ]
  },
  {
   "cell_type": "markdown",
   "metadata": {},
   "source": [
    "#### Discusión\n",
    "Esta arquitectura le da un nivel de subred que permite el acceso saliente pero no permite el acceso entrante directo de Internet a los recursos dentro de ella. Una forma de permitir el acceso entrante de los recursos de Internet a los servicios que se ejecutan en los recursos de las subredes privadas es utilizar un equilibrador de carga en las subredes públicas. Veremos más sobre este tipo de configuración en la Receta 2.7.\n",
    "\n",
    "La EIP asociada a su gateway NAT se convierte en la dirección IP externa para toda la comunicación que pasa por ella. Por ejemplo, si un proveedor necesitara añadir su IP a una lista de permitidos, el EIP de la pasarela NAT sería la dirección IP \"de origen\" proporcionada al proveedor. Tu EIP seguirá siendo el mismo mientras lo mantengas provisionado dentro de tu cuenta.\n",
    "\n",
    "TIP:\n",
    "* Si ha creado una VPC con capacidad para IPv6, también puede crear una gateway de Internet de sólo salida para permitir el acceso a Internet saliente para subredes privadas, como se explica en un artículo de AWS.\n",
    "\n",
    "Este gateway NAT se aprovisionó dentro de un AZ en su VPC. Si bien esta es una forma rentable de lograr el acceso a Internet saliente para sus subredes privadas, para las aplicaciones de producción y de misión crítica, debería considerar el aprovisionamiento de gateways NAT en cada AZ para proporcionar resiliencia y reducir la cantidad de tráfico entre zonas. Esto también requeriría la creación de tablas de rutas para cada una de sus subredes privadas para que pueda dirigir el tráfico 0.0.0/0 a la gateway NAT en la AZ de esa subred en particular. Consulte el reto de esta receta.\n",
    "\n",
    "**NOTA:** Si tiene requisitos personalizados o desea un control más granular del enrutamiento saliente para su implementación de NAT, puede crear una instancia de NAT. Para una comparación de las gateways NAT y las instancias NAT, consulte este documento de soporte.\n",
    "\n",
    "<br>\n",
    "<br>\n",
    "\n",
    "-------------\n",
    "\n",
    "**Desafío**\n",
    "\n",
    "Cree un segundo gateway NAT en la subred pública en AZ2. A continuación, modifique la ruta por defecto en la tabla de rutas asociada a la subred privada en AZ2. Cambie el destino a la gateway NAT recién creada."
   ]
  },
  {
   "cell_type": "markdown",
   "metadata": {},
   "source": [
    "#### Limpieza"
   ]
  },
  {
   "cell_type": "code",
   "execution_count": 96,
   "metadata": {
    "vscode": {
     "languageId": "shellscript"
    }
   },
   "outputs": [
    {
     "data": {
      "text/plain": [
       "{'TerminatingInstances': [{'CurrentState': {'Code': 48, 'Name': 'terminated'},\n",
       "   'InstanceId': 'i-0e30ec0f49b19f419',\n",
       "   'PreviousState': {'Code': 80, 'Name': 'stopped'}}],\n",
       " 'ResponseMetadata': {'RequestId': 'db309906-399a-4816-83a3-53a8c7b85d1a',\n",
       "  'HTTPStatusCode': 200,\n",
       "  'HTTPHeaders': {'x-amzn-requestid': 'db309906-399a-4816-83a3-53a8c7b85d1a',\n",
       "   'cache-control': 'no-cache, no-store',\n",
       "   'strict-transport-security': 'max-age=31536000; includeSubDomains',\n",
       "   'vary': 'accept-encoding',\n",
       "   'content-type': 'text/xml;charset=UTF-8',\n",
       "   'transfer-encoding': 'chunked',\n",
       "   'date': 'Mon, 03 Oct 2022 19:25:41 GMT',\n",
       "   'server': 'AmazonEC2'},\n",
       "  'RetryAttempts': 0}}"
      ]
     },
     "execution_count": 96,
     "metadata": {},
     "output_type": "execute_result"
    }
   ],
   "source": [
    "# delete instances\n",
    "ec2_client.terminate_instances(InstanceIds=[instance_id])\n",
    "ec2_client.terminate_instances(InstanceIds=[instance1_id])\n",
    "# delete security group\n",
    "ec2_client.delete_security_group(GroupId=security_group.id)\n",
    "# delete the NAT gateway\n",
    "ec2_client.delete_nat_gateway(NatGatewayId=natgateway_id)\n",
    "# delete internet gateway\n",
    "ec2_client.detach_internet_gateway(InternetGatewayId=internetgateway.id, VpcId=vpc.id)\n",
    "ec2_client.delete_internet_gateway(InternetGatewayId=internetgateway.id)\n",
    "# delete subnet\n",
    "ec2_client.delete_subnet(SubnetId=subnet_1.id)\n",
    "ec2_client.delete_subnet(SubnetId=subnet_2.id)\n",
    "ec2_client.delete_subnet(SubnetId=subnet_3.id)\n",
    "ec2_client.delete_subnet(SubnetId=subnet_4.id)\n",
    "# delete route table\n",
    "ec2_client.delete_route_table(RouteTableId=routetable_public.id)\n",
    "ec2_client.delete_route_table(RouteTableId=routetable_private1.id)\n",
    "ec2_client.delete_route_table(RouteTableId=routetable_private2.id)\n",
    "# delete a elastic IP\n",
    "ec2_client.release_address(AllocationId=elastic_ip['AllocationId'])\n",
    "# delete VPC\n",
    "ec2_client.delete_vpc(VpcId=vpc.id)\n",
    "# remove roles from instance profile\n",
    "iam.remove_role_from_instance_profile(\n",
    "    InstanceProfileName=instance_profile_name,\n",
    "    RoleName=ssm_role['Role']['RoleName']\n",
    ")\n",
    "# delete instance profile\n",
    "iam.delete_instance_profile(InstanceProfileName=instance_profile_name)"
   ]
  },
  {
   "cell_type": "code",
   "execution_count": null,
   "metadata": {
    "vscode": {
     "languageId": "shellscript"
    }
   },
   "outputs": [],
   "source": [
    "# delete role\n",
    "iam.delete_role(RoleName=ssm_role['Role']['RoleName'])"
   ]
  }
 ],
 "metadata": {
  "kernelspec": {
   "display_name": "Python 3.9.12 ('base')",
   "language": "python",
   "name": "python3"
  },
  "language_info": {
   "codemirror_mode": {
    "name": "ipython",
    "version": 3
   },
   "file_extension": ".py",
   "mimetype": "text/x-python",
   "name": "python",
   "nbconvert_exporter": "python",
   "pygments_lexer": "ipython3",
   "version": "3.9.12"
  },
  "orig_nbformat": 4,
  "vscode": {
   "interpreter": {
    "hash": "c9cdd2fa3b32da9704bd8048bdba085d67219855a318f4adc7f095bb5cfa603b"
   }
  }
 },
 "nbformat": 4,
 "nbformat_minor": 2
}
