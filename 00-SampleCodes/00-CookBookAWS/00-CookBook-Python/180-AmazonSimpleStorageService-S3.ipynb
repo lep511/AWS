{
 "cells": [
  {
   "cell_type": "markdown",
   "metadata": {},
   "source": [
    "## Introduction to Amazon Simple Storage Service (S3)\n",
    "\n",
    "#### INFORMACIÓN GENERAL\n",
    "Amazon Simple Storage Service (Amazon S3) es un servicio de almacenamiento de objetos que ofrece escalabilidad, disponibilidad de datos, seguridad y rendimiento líderes en el sector. Es decir que los clientes de todos los tamaños y sectores pueden almacenar y proteger cualquier cantidad de datos para una serie de casos de uso, como sitios web, aplicaciones móviles, procesos de copia de seguridad y restauración, archivos, aplicaciones para empresas, dispositivos del Internet de las cosas (IoT) y análisis de big data. Amazon S3 proporciona características de administración fáciles de utilizar que le permiten organizar los datos y configurar controles de accesos precisos para satisfacer sus requisitos empresariales, organizativos y de conformidad específicos. Amazon S3 está diseñado para ofrecer una durabilidad del 99,999999999 % (11 nueves) y almacena los datos de millones de aplicaciones para empresas de todo el mundo.\n",
    "\n",
    "#### SITUACIÓN DE LABORATORIO\n",
    "Usted trabaja en una empresa que utiliza Amazon S3 para el almacenamiento de datos. Una aplicación que se encuentra en una instancia EC2 tiene que enviar a diario los datos de informes a un bucket de S3. Se ocupa de crear un bucket de S3 a fin de que su empresa lo utilice para almacenar estos datos de informes. Para una implementación exitosa, tiene que garantizar que la instancia EC2 tenga suficientes privilegios como para poder cargar y recuperar los datos del bucket de S3. Por razones de seguridad, solo la instancia EC2 puede escribir datos en el bucket de S3. Los archivos del bucket de S3 también requieren protección contra la eliminación accidental. Este laboratorio sigue al curso digital Getting Started with Amazon S3."
   ]
  },
  {
   "cell_type": "code",
   "execution_count": 1,
   "metadata": {},
   "outputs": [],
   "source": [
    "import boto3\n",
    "import json\n",
    "import random\n",
    "\n",
    "region_aws = 'us-east-1'\n",
    "\n",
    "ec2 = boto3.resource('ec2', region_name=region_aws)\n",
    "ec2_client = boto3.client('ec2', region_name=region_aws)\n",
    "s3 = boto3.resource('s3')\n",
    "s3_client = boto3.client('s3')"
   ]
  },
  {
   "cell_type": "code",
   "execution_count": 2,
   "metadata": {},
   "outputs": [],
   "source": [
    "# create VPC\n",
    "vpc = ec2.create_vpc(CidrBlock='10.10.0.0/16')\n",
    "vpc.create_tags(Tags=[{\"Key\": \"Name\", \"Value\": \"AWSCookBookVPC\"}])\n",
    "vpc.wait_until_available()"
   ]
  },
  {
   "cell_type": "code",
   "execution_count": 3,
   "metadata": {},
   "outputs": [
    {
     "data": {
      "text/plain": [
       "[ec2.Tag(resource_id='rtb-01952e9e45da52423', key='Name', value='AWSCookbookVPC-RT')]"
      ]
     },
     "execution_count": 3,
     "metadata": {},
     "output_type": "execute_result"
    }
   ],
   "source": [
    "# Crear routable\n",
    "routetable = vpc.create_route_table()\n",
    "routetable.create_tags(Tags=[{\"Key\": \"Name\", \"Value\": \"AWSCookbookVPC-RT\"}])"
   ]
  },
  {
   "cell_type": "code",
   "execution_count": 4,
   "metadata": {},
   "outputs": [
    {
     "data": {
      "text/plain": [
       "[ec2.Tag(resource_id='subnet-08d4c9c2037eeaa42', key='Name', value='AWSCookbook-SN')]"
      ]
     },
     "execution_count": 4,
     "metadata": {},
     "output_type": "execute_result"
    }
   ],
   "source": [
    "# Cree una subrede:\n",
    "subnet = ec2.create_subnet(\n",
    "    CidrBlock='10.10.1.0/24', \n",
    "    VpcId=vpc.id,\n",
    "    AvailabilityZone='us-east-1a'\n",
    ")\n",
    "subnet.create_tags(Tags=[{\"Key\": \"Name\", \"Value\": \"AWSCookbook-SN\"}])"
   ]
  },
  {
   "cell_type": "code",
   "execution_count": 5,
   "metadata": {},
   "outputs": [
    {
     "data": {
      "text/plain": [
       "ec2.RouteTableAssociation(id='rtbassoc-0da6e1ef60d8425e4')"
      ]
     },
     "execution_count": 5,
     "metadata": {},
     "output_type": "execute_result"
    }
   ],
   "source": [
    "# Asociar la tabla de rutas con la subred:\n",
    "routetable.associate_with_subnet(SubnetId = subnet.id)"
   ]
  },
  {
   "cell_type": "code",
   "execution_count": 7,
   "metadata": {},
   "outputs": [
    {
     "data": {
      "text/plain": [
       "[ec2.Tag(resource_id='igw-0cfb762647424783e', key='Name', value='AWSCookbook-IGW')]"
      ]
     },
     "execution_count": 7,
     "metadata": {},
     "output_type": "execute_result"
    }
   ],
   "source": [
    "# Crear un internet gateway:\n",
    "internetgateway = ec2.create_internet_gateway()\n",
    "internetgateway.wait_until_available()  # Esperar a que el gateway esté disponible\n",
    "internetgateway.create_tags(Tags=[{\"Key\": \"Name\", \"Value\": \"AWSCookbook-IGW\"}])"
   ]
  },
  {
   "cell_type": "code",
   "execution_count": 8,
   "metadata": {},
   "outputs": [
    {
     "data": {
      "text/plain": [
       "{'ResponseMetadata': {'RequestId': 'e9ddd90c-0afa-4d8f-8ee8-46bcb549ceef',\n",
       "  'HTTPStatusCode': 200,\n",
       "  'HTTPHeaders': {'x-amzn-requestid': 'e9ddd90c-0afa-4d8f-8ee8-46bcb549ceef',\n",
       "   'cache-control': 'no-cache, no-store',\n",
       "   'strict-transport-security': 'max-age=31536000; includeSubDomains',\n",
       "   'content-type': 'text/xml;charset=UTF-8',\n",
       "   'content-length': '243',\n",
       "   'date': 'Wed, 12 Oct 2022 11:34:37 GMT',\n",
       "   'server': 'AmazonEC2'},\n",
       "  'RetryAttempts': 0}}"
      ]
     },
     "execution_count": 8,
     "metadata": {},
     "output_type": "execute_result"
    }
   ],
   "source": [
    "# Asociar el gateway de internet con la VPC:\n",
    "internetgateway.attach_to_vpc(VpcId=vpc.id)"
   ]
  },
  {
   "cell_type": "code",
   "execution_count": 9,
   "metadata": {},
   "outputs": [
    {
     "data": {
      "text/plain": [
       "ec2.Route(route_table_id='rtb-01952e9e45da52423', destination_cidr_block='0.0.0.0/0')"
      ]
     },
     "execution_count": 9,
     "metadata": {},
     "output_type": "execute_result"
    }
   ],
   "source": [
    "# Cree una ruta de Internet:\n",
    "routetable.create_route(\n",
    "    DestinationCidrBlock='0.0.0.0/0',\n",
    "    GatewayId=internetgateway.id\n",
    ")"
   ]
  },
  {
   "cell_type": "markdown",
   "metadata": {},
   "source": [
    "#### Tarea 1: Crear un bucket"
   ]
  },
  {
   "cell_type": "markdown",
   "metadata": {},
   "source": [
    " Los nombres de bucket deben tener entre 3 y 63 caracteres, y contener solo letras minúsculas, números o guiones. El nombre del bucket debe ser único en forma global en todo Amazon S3, independientemente de la cuenta o la región, y no se puede cambiar una vez creado el bucket."
   ]
  },
  {
   "cell_type": "code",
   "execution_count": 18,
   "metadata": {},
   "outputs": [
    {
     "name": "stdout",
     "output_type": "stream",
     "text": [
      "Bucket name: reportbucket-26053\n"
     ]
    }
   ],
   "source": [
    "# Create a bucket\n",
    "bucket_name = 'reportbucket-{}'.format(random.randint(1000, 100000))\n",
    "bucket = s3.create_bucket(Bucket=bucket_name)\n",
    "print(\"Bucket name: {}\".format(bucket_name))"
   ]
  },
  {
   "cell_type": "markdown",
   "metadata": {},
   "source": [
    "Por defecto cuando creamos un bucket, las opciones de **Block all public access** (Bloquear todo el acceso público) están desactivadas por defecto. Tanto las ACL como las políticas de bucket se utilizan más adelante en el laboratorio, por lo que todas permanecen sin seleccionar en esta tarea. En un entorno de producción, se recomienda utilizar la configuración con la menor cantidad de permisos posible."
   ]
  },
  {
   "cell_type": "code",
   "execution_count": 13,
   "metadata": {},
   "outputs": [
    {
     "data": {
      "text/plain": [
       "{'ResponseMetadata': {'RequestId': 'GDXPV6WX8VYCZHVE',\n",
       "  'HostId': 'GQGCeuurCLkc4EFbishuezzOJBO0pNGUro8h3j20bM8iXYU1okS1wTyQESTacP2rXEYLxP3CNOs=',\n",
       "  'HTTPStatusCode': 200,\n",
       "  'HTTPHeaders': {'x-amz-id-2': 'GQGCeuurCLkc4EFbishuezzOJBO0pNGUro8h3j20bM8iXYU1okS1wTyQESTacP2rXEYLxP3CNOs=',\n",
       "   'x-amz-request-id': 'GDXPV6WX8VYCZHVE',\n",
       "   'date': 'Wed, 12 Oct 2022 11:40:03 GMT',\n",
       "   'server': 'AmazonS3',\n",
       "   'content-length': '0'},\n",
       "  'RetryAttempts': 0}}"
      ]
     },
     "execution_count": 13,
     "metadata": {},
     "output_type": "execute_result"
    }
   ],
   "source": [
    "s3_client.put_public_access_block(\n",
    "    Bucket=bucket_name,\n",
    "    PublicAccessBlockConfiguration={\n",
    "        'BlockPublicAcls': False,\n",
    "        'IgnorePublicAcls': False,\n",
    "        'BlockPublicPolicy': False,\n",
    "        'RestrictPublicBuckets': False\n",
    "    }\n",
    ")"
   ]
  },
  {
   "cell_type": "markdown",
   "metadata": {},
   "source": [
    "#### Tarea 2: Cargar un objeto en el bucket"
   ]
  },
  {
   "cell_type": "code",
   "execution_count": 20,
   "metadata": {},
   "outputs": [
    {
     "data": {
      "text/plain": [
       "{'ResponseMetadata': {'RequestId': 'WDWV2B4WE6X01WV0',\n",
       "  'HostId': 'hoNEZrBVSUInJco+idNLYBVXWSbxv5Q8Iuf/GoppDtpiUxhTGsxlaEPCty+xp6QKgmvbr8K21aM=',\n",
       "  'HTTPStatusCode': 200,\n",
       "  'HTTPHeaders': {'x-amz-id-2': 'hoNEZrBVSUInJco+idNLYBVXWSbxv5Q8Iuf/GoppDtpiUxhTGsxlaEPCty+xp6QKgmvbr8K21aM=',\n",
       "   'x-amz-request-id': 'WDWV2B4WE6X01WV0',\n",
       "   'date': 'Wed, 12 Oct 2022 11:52:19 GMT',\n",
       "   'etag': '\"75acf5a0dd2f6bdd67c36fa2748a1a19\"',\n",
       "   'server': 'AmazonS3',\n",
       "   'content-length': '0'},\n",
       "  'RetryAttempts': 0},\n",
       " 'ETag': '\"75acf5a0dd2f6bdd67c36fa2748a1a19\"'}"
      ]
     },
     "execution_count": 20,
     "metadata": {},
     "output_type": "execute_result"
    }
   ],
   "source": [
    "# Upload the file to the bucket\n",
    "file_name = 'new-report.png'\n",
    "s3.Object(bucket_name, file_name).put(Body=open(file_name, 'rb'))"
   ]
  },
  {
   "cell_type": "markdown",
   "metadata": {},
   "source": [
    "#### Tarea 3: Hacer que un objeto sea público"
   ]
  },
  {
   "cell_type": "code",
   "execution_count": 21,
   "metadata": {},
   "outputs": [
    {
     "name": "stdout",
     "output_type": "stream",
     "text": [
      "URL: https://reportbucket-26053.s3.amazonaws.com/new-report.png\n"
     ]
    }
   ],
   "source": [
    "# Get url for the file in the bucket\n",
    "url = \"https://{}.s3.amazonaws.com/{}\".format(bucket_name, file_name)\n",
    "print(\"URL: {}\".format(url))"
   ]
  },
  {
   "cell_type": "markdown",
   "metadata": {},
   "source": [
    "* Abra una nueva pestaña del navegador, pegue el enlace de la URL del objeto en el campo de dirección y, a continuación, presione Intro.\n",
    "\n",
    "* A continuación, verá el error Access Denied (Acceso denegado). Esto se debe a que los objetos de Amazon S3 son privados de forma predeterminada.\n",
    "\n",
    "* Este error se muestra debido a que este bucket está configurado para no permitir el acceso público. La configuración del bucket anula los permisos aplicados a objetos individuales. Si quiere que el objeto sea visible para el público general, tiene que desactivar el bloqueo de acceso público (BPA)."
   ]
  },
  {
   "cell_type": "code",
   "execution_count": 22,
   "metadata": {},
   "outputs": [
    {
     "data": {
      "text/plain": [
       "{'ResponseMetadata': {'RequestId': 'Q2HKFWE6Q0YPPANY',\n",
       "  'HostId': '2yed8K681XXLqQpaj33NbzafLvyJy4CuTw1J15PeruBG+207LU9q+5qHzyYD3CAxwvJxyoKe0dY=',\n",
       "  'HTTPStatusCode': 200,\n",
       "  'HTTPHeaders': {'x-amz-id-2': '2yed8K681XXLqQpaj33NbzafLvyJy4CuTw1J15PeruBG+207LU9q+5qHzyYD3CAxwvJxyoKe0dY=',\n",
       "   'x-amz-request-id': 'Q2HKFWE6Q0YPPANY',\n",
       "   'date': 'Wed, 12 Oct 2022 11:52:49 GMT',\n",
       "   'server': 'AmazonS3',\n",
       "   'content-length': '0'},\n",
       "  'RetryAttempts': 0}}"
      ]
     },
     "execution_count": 22,
     "metadata": {},
     "output_type": "execute_result"
    }
   ],
   "source": [
    "# Make the file public:\n",
    "s3.Object(bucket_name, file_name).Acl().put(ACL='public-read')"
   ]
  },
  {
   "cell_type": "markdown",
   "metadata": {},
   "source": [
    "Regrese a la otra pestaña del navegador en la que se muestra Access Denied (Acceso denegado) para new-report.png y actualice la página, new-report.png ahora se muestra de forma correcta porque es accesible públicamente.\n",
    "\n",
    "En este ejemplo, concedió acceso de lectura únicamente para un objeto específico. Si quiere conceder acceso a todo el bucket, tiene que utilizar una política de bucket, lo cual se cubre más adelante en este laboratorio."
   ]
  },
  {
   "cell_type": "markdown",
   "metadata": {},
   "source": [
    "#### Probar la conectividad con el bucket S3"
   ]
  },
  {
   "cell_type": "code",
   "execution_count": 24,
   "metadata": {},
   "outputs": [],
   "source": [
    "iam = boto3.client('iam')"
   ]
  },
  {
   "cell_type": "code",
   "execution_count": 25,
   "metadata": {},
   "outputs": [],
   "source": [
    "# Create a security group:\n",
    "secgroup = ec2.create_security_group(\n",
    "    GroupName='AWSCookbook-SG-HHTPS',\n",
    "    Description='Allow HTTP and HTTPS',\n",
    "    VpcId=vpc.id\n",
    ")"
   ]
  },
  {
   "cell_type": "code",
   "execution_count": 26,
   "metadata": {},
   "outputs": [
    {
     "data": {
      "text/plain": [
       "{'Return': True,\n",
       " 'SecurityGroupRules': [{'SecurityGroupRuleId': 'sgr-05680d82d16c5c2cc',\n",
       "   'GroupId': 'sg-02e209afd5638aa64',\n",
       "   'GroupOwnerId': '782265949238',\n",
       "   'IsEgress': False,\n",
       "   'IpProtocol': 'tcp',\n",
       "   'FromPort': 443,\n",
       "   'ToPort': 443,\n",
       "   'CidrIpv4': '0.0.0.0/0'}],\n",
       " 'ResponseMetadata': {'RequestId': 'ab728051-0ddc-409a-abfb-3c1ed977c6d5',\n",
       "  'HTTPStatusCode': 200,\n",
       "  'HTTPHeaders': {'x-amzn-requestid': 'ab728051-0ddc-409a-abfb-3c1ed977c6d5',\n",
       "   'cache-control': 'no-cache, no-store',\n",
       "   'strict-transport-security': 'max-age=31536000; includeSubDomains',\n",
       "   'content-type': 'text/xml;charset=UTF-8',\n",
       "   'content-length': '721',\n",
       "   'date': 'Wed, 12 Oct 2022 11:54:43 GMT',\n",
       "   'server': 'AmazonEC2'},\n",
       "  'RetryAttempts': 0}}"
      ]
     },
     "execution_count": 26,
     "metadata": {},
     "output_type": "execute_result"
    }
   ],
   "source": [
    "# Add rules to the security group:\n",
    "secgroup.authorize_ingress(\n",
    "    CidrIp='0.0.0.0/0',\n",
    "    IpProtocol='tcp',\n",
    "    FromPort=80,\n",
    "    ToPort=80\n",
    ")\n",
    "\n",
    "secgroup.authorize_ingress(\n",
    "    CidrIp='0.0.0.0/0',\n",
    "    IpProtocol='tcp',\n",
    "    FromPort=443,\n",
    "    ToPort=443\n",
    ")"
   ]
  },
  {
   "cell_type": "code",
   "execution_count": 27,
   "metadata": {},
   "outputs": [],
   "source": [
    "# Create a role\n",
    "role_name = 'SSM-Role-EC2-Public'\n",
    "policy_document = {\n",
    "\"Version\": \"2012-10-17\",\n",
    "\"Statement\": [\n",
    "        {   \n",
    "            \"Effect\": \"Allow\",\n",
    "            \"Principal\": {\n",
    "            \"Service\": \"ec2.amazonaws.com\"\n",
    "            },\n",
    "            \"Action\": \"sts:AssumeRole\"\n",
    "        }\n",
    "    ]\n",
    "}"
   ]
  },
  {
   "cell_type": "code",
   "execution_count": 28,
   "metadata": {},
   "outputs": [],
   "source": [
    "instance_profile_name = 'Profile-SSM-Role-Public'\n",
    "ssm_role = iam.create_role(\n",
    "    RoleName=role_name,\n",
    "    AssumeRolePolicyDocument=json.dumps(policy_document)\n",
    ")\n",
    "\n",
    "# Attach the policy to the role\n",
    "response = iam.attach_role_policy(\n",
    "    RoleName=role_name,\n",
    "    PolicyArn='arn:aws:iam::aws:policy/AmazonSSMManagedInstanceCore'\n",
    ")\n",
    "\n",
    "# Create an instance profile\n",
    "instance_profile = iam.create_instance_profile(\n",
    "    InstanceProfileName=instance_profile_name\n",
    ")\n",
    "# Add the role that you created to the instance profile:\n",
    "response = iam.add_role_to_instance_profile(\n",
    "    InstanceProfileName=instance_profile_name,\n",
    "    RoleName=role_name\n",
    ")"
   ]
  },
  {
   "cell_type": "code",
   "execution_count": 29,
   "metadata": {},
   "outputs": [],
   "source": [
    "# Create a instance EC2 with IP public and SSM and connect SSM:\n",
    "instance = ec2.create_instances(\n",
    "    ImageId='ami-0c2b8ca1dad447f8a',\n",
    "    MinCount=1,\n",
    "    MaxCount=1,\n",
    "    InstanceType='t2.micro',\n",
    "    SecurityGroupIds=[secgroup.id],\n",
    "    IamInstanceProfile={\n",
    "            'Name': instance_profile_name\n",
    "        },\n",
    "    SubnetId=subnet.id,\n",
    "    TagSpecifications=[\n",
    "        {\n",
    "            'ResourceType': 'instance',\n",
    "            'Tags': [\n",
    "                {\n",
    "                    'Key': 'Name',\n",
    "                    'Value': 'AWSCookbook-EC2'\n",
    "                },\n",
    "            ]\n",
    "        },\n",
    "    ]\n",
    ")"
   ]
  },
  {
   "cell_type": "code",
   "execution_count": 30,
   "metadata": {},
   "outputs": [],
   "source": [
    "# Wait for the instance to enter the running state\n",
    "instance[0].wait_until_running()"
   ]
  },
  {
   "cell_type": "code",
   "execution_count": 31,
   "metadata": {},
   "outputs": [],
   "source": [
    "# Create a IP elastic:\n",
    "ec2_client = boto3.client('ec2')\n",
    "response = ec2_client.allocate_address(\n",
    "    Domain='vpc'\n",
    ")"
   ]
  },
  {
   "cell_type": "code",
   "execution_count": 32,
   "metadata": {},
   "outputs": [],
   "source": [
    "# Associate IP elastic with instance EC2:\n",
    "response = ec2_client.associate_address(\n",
    "    InstanceId=instance[0].id,\n",
    "    AllocationId=response['AllocationId']\n",
    ")"
   ]
  },
  {
   "cell_type": "code",
   "execution_count": 37,
   "metadata": {},
   "outputs": [],
   "source": [
    "# Reboot instance EC2:\n",
    "response = instance[0].reboot()"
   ]
  },
  {
   "cell_type": "markdown",
   "metadata": {},
   "source": [
    "Agregar una politica al rol con el fin de permitir que la instancia EC2 enumere los objetos y los buckets de S3."
   ]
  },
  {
   "cell_type": "code",
   "execution_count": 41,
   "metadata": {},
   "outputs": [
    {
     "data": {
      "text/plain": [
       "{'ResponseMetadata': {'RequestId': 'ecd0f1be-bd5c-438d-8ca7-7d3b6621c6fb',\n",
       "  'HTTPStatusCode': 200,\n",
       "  'HTTPHeaders': {'x-amzn-requestid': 'ecd0f1be-bd5c-438d-8ca7-7d3b6621c6fb',\n",
       "   'content-type': 'text/xml',\n",
       "   'content-length': '212',\n",
       "   'date': 'Wed, 12 Oct 2022 12:04:53 GMT'},\n",
       "  'RetryAttempts': 0}}"
      ]
     },
     "execution_count": 41,
     "metadata": {},
     "output_type": "execute_result"
    }
   ],
   "source": [
    "iam.attach_role_policy(\n",
    "    RoleName=role_name,\n",
    "    PolicyArn='arn:aws:iam::aws:policy/AmazonS3ReadOnlyAccess'\n",
    ")"
   ]
  },
  {
   "cell_type": "code",
   "execution_count": 36,
   "metadata": {},
   "outputs": [
    {
     "name": "stdout",
     "output_type": "stream",
     "text": [
      "Connecting to the last instance created with SSM...\n",
      "   aws ssm start-session --target i-03171797c93592a0f\n"
     ]
    }
   ],
   "source": [
    "print(\"Connecting to the last instance created with SSM...\")\n",
    "print(\"   aws ssm start-session --target \" + instance[0].id)"
   ]
  },
  {
   "cell_type": "markdown",
   "metadata": {},
   "source": [
    "En la sesión de la instancia, ingrese el siguiente comando para cambiar al directorio principal (/home/ssm-user/):"
   ]
  },
  {
   "cell_type": "code",
   "execution_count": null,
   "metadata": {
    "vscode": {
     "languageId": "shellscript"
    }
   },
   "outputs": [],
   "source": [
    "cd ~"
   ]
  },
  {
   "cell_type": "markdown",
   "metadata": {},
   "source": [
    "Ingrese el siguiente comando para comprobar que se encuentra en el directorio principal:"
   ]
  },
  {
   "cell_type": "code",
   "execution_count": null,
   "metadata": {
    "vscode": {
     "languageId": "shellscript"
    }
   },
   "outputs": [],
   "source": [
    "pwd"
   ]
  },
  {
   "cell_type": "markdown",
   "metadata": {},
   "source": [
    "Este debe ser el resultado: `/home/ssm-user`\n",
    "\n",
    "Ingrese el siguiente comando para enumerar todos los buckets de S3."
   ]
  },
  {
   "cell_type": "code",
   "execution_count": null,
   "metadata": {
    "vscode": {
     "languageId": "shellscript"
    }
   },
   "outputs": [],
   "source": [
    "aws s3 ls"
   ]
  },
  {
   "cell_type": "code",
   "execution_count": 38,
   "metadata": {},
   "outputs": [
    {
     "name": "stdout",
     "output_type": "stream",
     "text": [
      "aws s3 ls s3://reportbucket-26053/\n"
     ]
    }
   ],
   "source": [
    "# Ingrese el siguiente comando para enumerar todos los objetos de reportbucket\n",
    "print(\"aws s3 ls s3://{}/\".format(bucket_name))"
   ]
  },
  {
   "cell_type": "markdown",
   "metadata": {},
   "source": [
    "Escriba lo siguiente para ver si puede copiar un archivo en el bucket de S3"
   ]
  },
  {
   "cell_type": "code",
   "execution_count": null,
   "metadata": {
    "vscode": {
     "languageId": "shellscript"
    }
   },
   "outputs": [],
   "source": [
    "wget https://stats.govt.nz/assets/Uploads/Business-operations-survey/Business-operations-survey-2021/Download-data/bos2021ModC.csv"
   ]
  },
  {
   "cell_type": "markdown",
   "metadata": {},
   "source": [
    "Y a continuación:"
   ]
  },
  {
   "cell_type": "code",
   "execution_count": 56,
   "metadata": {},
   "outputs": [
    {
     "name": "stdout",
     "output_type": "stream",
     "text": [
      "aws s3 cp bos2021ModC.csv s3://reportbucket-26053\n"
     ]
    }
   ],
   "source": [
    "file_name = 'bos2021ModC.csv'\n",
    "print(\"aws s3 cp {} s3://{}\".format(file_name, bucket_name))"
   ]
  },
  {
   "cell_type": "markdown",
   "metadata": {},
   "source": [
    "El resultado indica un error upload failed (error al cargar). Esto se debe a que tenemos derechos de solo lectura para el bucket y no tenemos los permisos para realizar la operación PutObject."
   ]
  },
  {
   "cell_type": "markdown",
   "metadata": {},
   "source": [
    "#### Crear una política de bucket\n",
    "\n",
    "Una política de bucket es un conjunto de permisos asociados a un bucket de S3. Se utiliza para controlar el acceso a un bucket completo o a directorios específicos dentro de un bucket.\n",
    "\n",
    "Este es el rol que utiliza la instancia EC2 para conectarse a S3:\n"
   ]
  },
  {
   "cell_type": "code",
   "execution_count": 43,
   "metadata": {},
   "outputs": [
    {
     "name": "stdout",
     "output_type": "stream",
     "text": [
      "SSM-Role-EC2-Public\n"
     ]
    }
   ],
   "source": [
    "print(role_name)"
   ]
  },
  {
   "cell_type": "code",
   "execution_count": 53,
   "metadata": {},
   "outputs": [
    {
     "name": "stdout",
     "output_type": "stream",
     "text": [
      "arn:aws:iam::782265949238:role/SSM-Role-EC2-Public\n"
     ]
    }
   ],
   "source": [
    "# Obtener el ARN del rol:\n",
    "response = iam.get_role(\n",
    "    RoleName=role_name\n",
    ")\n",
    "role_arn = response['Role']['Arn']\n",
    "print(role_arn)"
   ]
  },
  {
   "cell_type": "markdown",
   "metadata": {},
   "source": [
    "Los nombres de recursos de Amazon (ARN) identifican de forma exclusiva los recursos de AWS en todo AWS. Cada sección del ARN está separada por “:” y representa una parte específica de la ruta al recurso especificado. Las secciones pueden variar levemente de acuerdo con el servicio al que se hace referencia, pero en general siguen este formato:\n",
    "\n",
    "* `arn:partition:service:region:account-id:resource`\n",
    "\n",
    "Amazon S3 no requiere parámetros de region (región) o de account-id en los ARN, por lo que esas secciones se dejan en blanco. Sin embargo, se utilizan “:” para separar las secciones, por lo que se ve similar a `arn:aws:s3:::reportbucket987987`."
   ]
  },
  {
   "cell_type": "code",
   "execution_count": 51,
   "metadata": {},
   "outputs": [],
   "source": [
    "policy_document_s3 = {\n",
    "    \"Version\": \"2012-10-17\",\n",
    "    \"Id\": \"Policy1604361694227\",\n",
    "    \"Statement\": [\n",
    "        {\n",
    "            \"Sid\": \"Stmt1604361692117\",\n",
    "            \"Effect\": \"Allow\",\n",
    "            \"Action\": [\n",
    "                \"s3:GetObject\",\n",
    "                \"s3:PutObject\"\n",
    "            ],\n",
    "            \"Resource\": \"arn:aws:s3:::{}/*\".format(bucket_name)\n",
    "        }\n",
    "    ]\n",
    "}"
   ]
  },
  {
   "cell_type": "markdown",
   "metadata": {},
   "source": [
    "* La acción de obtener GetObject concede permiso para obtener objetos de Amazon S3. Consulte la sección Recursos adicionales al final del laboratorio y acceda a enlaces con más información sobre las acciones disponibles para utilizar en las políticas de Amazon S3.\n",
    "\n",
    "* Un nombre de recurso de Amazon (ARN) es una forma estándar de referirse a los recursos en AWS. En este caso, el ARN se refiere a su bucket de S3. Cuando se agrega /* al final del nombre del bucket, se permite que la política se aplique a todos los objetos dentro del bucket."
   ]
  },
  {
   "cell_type": "code",
   "execution_count": 52,
   "metadata": {},
   "outputs": [],
   "source": [
    "# Attach the policy to the role:\n",
    "response = iam.put_role_policy(\n",
    "    RoleName=role_name,\n",
    "    PolicyName='Policy-SSM-instance-S3',\n",
    "    PolicyDocument=json.dumps(policy_document_s3)\n",
    ")\n"
   ]
  },
  {
   "cell_type": "markdown",
   "metadata": {},
   "source": [
    "Escriba lo siguiente para tratar de copiar el archivo bos2021ModC.csv en el bucket de S3."
   ]
  },
  {
   "cell_type": "code",
   "execution_count": 54,
   "metadata": {},
   "outputs": [
    {
     "name": "stdout",
     "output_type": "stream",
     "text": [
      "aws s3 cp bos2021ModC.csv s3://reportbucket-26053\n"
     ]
    }
   ],
   "source": [
    "print(\"aws s3 cp {} s3://{}\".format(file_name, bucket_name))"
   ]
  },
  {
   "cell_type": "markdown",
   "metadata": {},
   "source": [
    "Ha cargado correctamente (PutObject) un archivo de la instancia EC2 en su bucket de S3.\n",
    "\n",
    "Ahora escriba el siguiente comando para recuperar (GetObject) un archivo de S3 a la instancia EC2."
   ]
  },
  {
   "cell_type": "code",
   "execution_count": 57,
   "metadata": {},
   "outputs": [
    {
     "name": "stdout",
     "output_type": "stream",
     "text": [
      "aws s3 cp s3://reportbucket-26053/new-report.png new-report.png\n"
     ]
    }
   ],
   "source": [
    "file_name_report = 'new-report.png'\n",
    "print(\"aws s3 cp s3://{b}/{f} {f}\".format(b = bucket_name, f = file_name_report))"
   ]
  },
  {
   "cell_type": "markdown",
   "metadata": {},
   "source": [
    "Regrese a la pestaña del navegador y pegue la siguiente dirección:"
   ]
  },
  {
   "cell_type": "code",
   "execution_count": 59,
   "metadata": {},
   "outputs": [
    {
     "name": "stdout",
     "output_type": "stream",
     "text": [
      "URL: https://reportbucket-26053.s3.amazonaws.com/bos2021ModC.csv\n"
     ]
    }
   ],
   "source": [
    "url = \"https://{}.s3.amazonaws.com/{}\".format(bucket_name, file_name)\n",
    "print(\"URL: {}\".format(url))"
   ]
  },
  {
   "cell_type": "markdown",
   "metadata": {},
   "source": [
    "La página sigue mostrando un mensaje de error porque la política de bucket solo otorgó los derechos a la entidad principal que es el rol asociado con la instancia.\n",
    "\n",
    "A continuación creará una polítca para el bucket que permite acceder a **TODOS** los archivos de forma pública."
   ]
  },
  {
   "cell_type": "code",
   "execution_count": 60,
   "metadata": {},
   "outputs": [],
   "source": [
    "# Attach the policy to S3\n",
    "response = s3.BucketPolicy(bucket_name).put(\n",
    "    Policy=json.dumps({\n",
    "        \"Version\": \"2012-10-17\",\n",
    "        \"Statement\": [\n",
    "            {\n",
    "                \"Sid\": \"PublicReadGetObject\",\n",
    "                \"Effect\": \"Allow\",\n",
    "                \"Principal\": \"*\",\n",
    "                \"Action\": \"s3:GetObject\",\n",
    "                \"Resource\": \"arn:aws:s3:::{}/*\".format(bucket_name)\n",
    "            }\n",
    "        ]\n",
    "    })\n",
    ")\n"
   ]
  },
  {
   "cell_type": "markdown",
   "metadata": {},
   "source": [
    "Pruebe acceder nuevamente a la dirección:"
   ]
  },
  {
   "cell_type": "code",
   "execution_count": 61,
   "metadata": {},
   "outputs": [
    {
     "name": "stdout",
     "output_type": "stream",
     "text": [
      "URL: https://reportbucket-26053.s3.amazonaws.com/bos2021ModC.csv\n"
     ]
    }
   ],
   "source": [
    "url = \"https://{}.s3.amazonaws.com/{}\".format(bucket_name, file_name)\n",
    "print(\"URL: {}\".format(url))"
   ]
  },
  {
   "cell_type": "markdown",
   "metadata": {},
   "source": [
    "#### Explorar el control de versiones\n",
    "\n",
    "El control de versiones es una forma de conservar diversas variantes de un objeto en el mismo bucket. Puede utilizar el control de versiones para conservar, recuperar y restablecer todas las versiones de todos los objetos almacenados en su bucket de Amazon S3. Con el control de versiones, puede recuperarse fácilmente de acciones no deseadas del usuario y de errores de la aplicación.\n",
    "\n",
    "*Por razones de auditoría y conformidad, tiene que habilitar el control de versiones en reportbucket. El control de versiones debe proteger los informes de reportbucket contra la eliminación accidental. Como usuario, desea validar qué tan cierta es esta funcionalidad. En esta tarea, habilitará el control de versiones y probará la característica al cargar una versión modificada del archivo bos2021ModC.csv de la tarea anterior.*"
   ]
  },
  {
   "cell_type": "code",
   "execution_count": 64,
   "metadata": {},
   "outputs": [
    {
     "name": "stdout",
     "output_type": "stream",
     "text": [
      "Bucket versioning enabled\n"
     ]
    }
   ],
   "source": [
    "# Activar la auditoría de S3:\n",
    "response = s3.BucketVersioning(bucket_name).enable()\n",
    "if response['ResponseMetadata']['HTTPStatusCode'] == 200:\n",
    "    print(\"Bucket versioning enabled\")"
   ]
  },
  {
   "cell_type": "markdown",
   "metadata": {},
   "source": [
    "* El control de versiones está habilitado para un bucket completo y todos los objetos dentro del bucket. No se puede habilitar para los objetos individuales.\n",
    "\n",
    "* También hay consideraciones de costo al habilitar el control de versiones. Consulte las [preguntas frecuentes](https://aws.amazon.com/es/s3/faqs/) para más información."
   ]
  },
  {
   "cell_type": "markdown",
   "metadata": {},
   "source": [
    "Copie los siguientes comandos en la terminal:"
   ]
  },
  {
   "cell_type": "code",
   "execution_count": null,
   "metadata": {
    "vscode": {
     "languageId": "shellscript"
    }
   },
   "outputs": [],
   "source": [
    "cat > sample-file.txt << EOF\n",
    "\n",
    "This sample text file is used to illustrate the use of versioning in an Amazon S3 bucket.\n",
    "\n",
    "Make it a great day!\n",
    "\n",
    "EOF\n"
   ]
  },
  {
   "cell_type": "code",
   "execution_count": 66,
   "metadata": {},
   "outputs": [
    {
     "name": "stdout",
     "output_type": "stream",
     "text": [
      "aws s3 cp sample-file.txt s3://reportbucket-26053/sample-file.txt\n"
     ]
    }
   ],
   "source": [
    "print(\"aws s3 cp sample-file.txt s3://{}/sample-file.txt\".format(bucket_name))"
   ]
  },
  {
   "cell_type": "code",
   "execution_count": null,
   "metadata": {
    "vscode": {
     "languageId": "shellscript"
    }
   },
   "outputs": [],
   "source": [
    "cat > sample-file.txt << EOF\n",
    "\n",
    "This sample text file is used to illustrate the use of versioning in an Amazon S3 bucket.\n",
    "\n",
    "This file has been modified.\n",
    "\n",
    "This is version 2 of the file.\n",
    "\n",
    "Have a lovely day!\n",
    "\n",
    "EOF\n"
   ]
  },
  {
   "cell_type": "code",
   "execution_count": 67,
   "metadata": {
    "vscode": {
     "languageId": "shellscript"
    }
   },
   "outputs": [
    {
     "name": "stdout",
     "output_type": "stream",
     "text": [
      "aws s3 cp sample-file.txt s3://reportbucket-26053/sample-file.txt\n"
     ]
    }
   ],
   "source": [
    "print(\"aws s3 cp sample-file.txt s3://{}/sample-file.txt\".format(bucket_name))"
   ]
  },
  {
   "cell_type": "code",
   "execution_count": 73,
   "metadata": {},
   "outputs": [
    {
     "name": "stdout",
     "output_type": "stream",
     "text": [
      "Version ID: tHxR7_KH0cT.gvxVZN8vRm7W9UrV0oVW\n",
      "Last modified: 2022-10-12 12:58:53+00:00\n",
      "Is latest: True\n",
      "\n",
      "Version ID: iikIbrac2r7RdTQtdppp0SUtGw6cfbr0\n",
      "Last modified: 2022-10-12 12:57:04+00:00\n",
      "Is latest: False\n",
      "\n"
     ]
    }
   ],
   "source": [
    "# List versions of the file:\n",
    "response = s3_client.list_object_versions(\n",
    "    Bucket=bucket_name,\n",
    "    Prefix='sample-file.txt'\n",
    ")\n",
    "\n",
    "for version in response['Versions']:\n",
    "    print(\"Version ID: {}\".format(version['VersionId']))\n",
    "    print(\"Last modified: {}\".format(version['LastModified']))\n",
    "    print(\"Is latest: {}\".format(version['IsLatest']))\n",
    "    print(\"\")"
   ]
  },
  {
   "cell_type": "markdown",
   "metadata": {},
   "source": [
    "Amazon S3 siempre devuelve la versión más reciente de un objeto si no se especifica una versión"
   ]
  },
  {
   "cell_type": "code",
   "execution_count": 75,
   "metadata": {},
   "outputs": [],
   "source": [
    "# Download a file:\n",
    "response = s3_client.get_object(\n",
    "    Bucket=bucket_name,\n",
    "    Key='sample-file.txt',\n",
    ")\n",
    "\n",
    "# Save the file:\n",
    "with open('sample-file.txt', 'wb') as f:\n",
    "    f.write(response['Body'].read())"
   ]
  },
  {
   "cell_type": "markdown",
   "metadata": {},
   "source": [
    "Para descargar la primer versión:"
   ]
  },
  {
   "cell_type": "code",
   "execution_count": 76,
   "metadata": {},
   "outputs": [],
   "source": [
    "# Download a file:\n",
    "response = s3_client.get_object(\n",
    "    Bucket=bucket_name,\n",
    "    Key='sample-file.txt',\n",
    "    VersionId='iikIbrac2r7RdTQtdppp0SUtGw6cfbr0'\n",
    ")\n",
    "\n",
    "# Save the file:\n",
    "with open('sample-file.txt', 'wb') as f:\n",
    "    f.write(response['Body'].read())"
   ]
  },
  {
   "cell_type": "markdown",
   "metadata": {},
   "source": [
    "Para hacer la versión primera la principal:"
   ]
  },
  {
   "cell_type": "code",
   "execution_count": 77,
   "metadata": {},
   "outputs": [],
   "source": [
    "response = s3_client.copy_object(\n",
    "    Bucket=bucket_name,\n",
    "    CopySource={\n",
    "        'Bucket': bucket_name,\n",
    "        'Key': 'sample-file.txt',\n",
    "        'VersionId': 'iikIbrac2r7RdTQtdppp0SUtGw6cfbr0'\n",
    "    },\n",
    "    Key='sample-file.txt'\n",
    ")"
   ]
  },
  {
   "cell_type": "code",
   "execution_count": 79,
   "metadata": {},
   "outputs": [],
   "source": [
    "# Download a file:\n",
    "response = s3_client.get_object(\n",
    "    Bucket=bucket_name,\n",
    "    Key='sample-file.txt',\n",
    ")\n",
    "\n",
    "# Save the file:\n",
    "with open('sample-file.txt', 'wb') as f:\n",
    "    f.write(response['Body'].read())"
   ]
  }
 ],
 "metadata": {
  "kernelspec": {
   "display_name": "Python 3.9.12 ('base')",
   "language": "python",
   "name": "python3"
  },
  "language_info": {
   "codemirror_mode": {
    "name": "ipython",
    "version": 3
   },
   "file_extension": ".py",
   "mimetype": "text/x-python",
   "name": "python",
   "nbconvert_exporter": "python",
   "pygments_lexer": "ipython3",
   "version": "3.9.12"
  },
  "orig_nbformat": 4,
  "vscode": {
   "interpreter": {
    "hash": "c9cdd2fa3b32da9704bd8048bdba085d67219855a318f4adc7f095bb5cfa603b"
   }
  }
 },
 "nbformat": 4,
 "nbformat_minor": 2
}
