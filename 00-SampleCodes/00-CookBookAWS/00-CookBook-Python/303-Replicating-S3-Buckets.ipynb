{
 "cells": [
  {
   "cell_type": "markdown",
   "metadata": {},
   "source": [
    "### Replicación de cubos de S3 para cumplir con los objetivos del punto de recuperación\n",
    "\n",
    "#### Problema\n",
    "La política de seguridad de datos de su empresa exige que los objetos se repliquen dentro de la misma región para cumplir un objetivo de punto de recuperación de 15 minutos.\n",
    "\n",
    "#### Solución\n",
    "En primer lugar, cree cubos S3 de origen y destino con el control de versiones activado. A continuación, cree una función de IAM y adjunte una política de IAM que permita a S3 copiar objetos del cubo de origen al de destino. Por último, cree una política de replicación de S3 que haga referencia a la función de IAM y aplique esa política al bucket de origen.\n",
    "<br>\n",
    "<br>\n",
    "<img src=\"https://learning.oreilly.com/api/v2/epubs/urn:orm:book:9781492092599/files/assets/awsc_0303.png\" width=\"400\">"
   ]
  },
  {
   "cell_type": "code",
   "execution_count": 12,
   "metadata": {},
   "outputs": [],
   "source": [
    "import boto3\n",
    "import json\n",
    "import random\n",
    "from pprint import pprint \n",
    "\n",
    "region_aws = 'us-east-1'\n",
    "\n",
    "ec2 = boto3.resource('ec2', region_name=region_aws)\n",
    "ec2_client = boto3.client('ec2', region_name=region_aws)\n",
    "s3 = boto3.resource('s3')\n",
    "s3_client = boto3.client('s3')\n",
    "\n",
    "iam = boto3.resource('iam')\n",
    "iam_client = boto3.client('iam')"
   ]
  },
  {
   "cell_type": "code",
   "execution_count": 3,
   "metadata": {},
   "outputs": [
    {
     "name": "stdout",
     "output_type": "stream",
     "text": [
      "Bucket name: cookbook-143157\n"
     ]
    }
   ],
   "source": [
    "# Create a bucket\n",
    "bucket_name = 'cookbook-{}'.format(random.randint(10000, 1000000))\n",
    "bucket = s3.create_bucket(Bucket=bucket_name)\n",
    "print(\"Bucket name: {}\".format(bucket_name))\n",
    "\n",
    "# Por defecto cuando creamos un bucket, las opciones de **Block all public access** (Bloquear todo el acceso público) \n",
    "# están desactivadas por defecto.\n",
    "\n",
    "response = s3_client.put_public_access_block(\n",
    "        Bucket=bucket_name,\n",
    "        PublicAccessBlockConfiguration={\n",
    "            'BlockPublicAcls': True,\n",
    "            'IgnorePublicAcls': True,\n",
    "            'BlockPublicPolicy': True,\n",
    "            'RestrictPublicBuckets': True\n",
    "        }\n",
    ")"
   ]
  },
  {
   "cell_type": "code",
   "execution_count": 9,
   "metadata": {},
   "outputs": [
    {
     "name": "stdout",
     "output_type": "stream",
     "text": [
      "Bucket versioning enabled\n"
     ]
    }
   ],
   "source": [
    "# Activate versioning enabled in the bucket:\n",
    "response = s3_client.put_bucket_versioning(\n",
    "    Bucket=bucket_name,\n",
    "    VersioningConfiguration={\n",
    "        'Status': 'Enabled'\n",
    "    }\n",
    ")\n",
    "\n",
    "if response['ResponseMetadata']['HTTPStatusCode'] == 200:\n",
    "    print(\"Bucket versioning enabled\")\n",
    "else:\n",
    "    print(\"Bucket versioning not enabled\")"
   ]
  },
  {
   "cell_type": "markdown",
   "metadata": {},
   "source": [
    "#### Cree el bucket S3 de destino"
   ]
  },
  {
   "cell_type": "code",
   "execution_count": 6,
   "metadata": {},
   "outputs": [
    {
     "name": "stdout",
     "output_type": "stream",
     "text": [
      "Bucket name: cookbook-dest-623494\n"
     ]
    }
   ],
   "source": [
    "# Create a bucket\n",
    "bucket_dest_name = 'cookbook-dest-{}'.format(random.randint(10000, 1000000))\n",
    "bucket = s3.create_bucket(Bucket=bucket_dest_name)\n",
    "print(\"Bucket name: {}\".format(bucket_dest_name))\n",
    "\n",
    "# Por defecto cuando creamos un bucket, las opciones de **Block all public access** (Bloquear todo el acceso público) \n",
    "# están desactivadas por defecto.\n",
    "\n",
    "response = s3_client.put_public_access_block(\n",
    "        Bucket=bucket_dest_name,\n",
    "        PublicAccessBlockConfiguration={\n",
    "            'BlockPublicAcls': True,\n",
    "            'IgnorePublicAcls': True,\n",
    "            'BlockPublicPolicy': True,\n",
    "            'RestrictPublicBuckets': True\n",
    "        }\n",
    ")"
   ]
  },
  {
   "cell_type": "code",
   "execution_count": 10,
   "metadata": {},
   "outputs": [
    {
     "name": "stdout",
     "output_type": "stream",
     "text": [
      "Bucket versioning enabled\n"
     ]
    }
   ],
   "source": [
    "# Activate versioning enabled in the bucket:\n",
    "response = s3_client.put_bucket_versioning(\n",
    "    Bucket=bucket_dest_name,\n",
    "    VersioningConfiguration={\n",
    "        'Status': 'Enabled'\n",
    "    }\n",
    ")\n",
    "\n",
    "if response['ResponseMetadata']['HTTPStatusCode'] == 200:\n",
    "    print(\"Bucket versioning enabled\")\n",
    "else:\n",
    "    print(\"Bucket versioning not enabled\")"
   ]
  },
  {
   "cell_type": "code",
   "execution_count": 11,
   "metadata": {},
   "outputs": [],
   "source": [
    "assume_role_policy = {\n",
    "  \"Version\": \"2012-10-17\",\n",
    "  \"Statement\": [\n",
    "  {\n",
    "    \"Effect\": \"Allow\",\n",
    "    \"Principal\": {\n",
    "      \"Service\": \"s3.amazonaws.com\"\n",
    "    },\n",
    "    \"Action\": \"sts:AssumeRole\"\n",
    "  }\n",
    "  ]\n",
    "}"
   ]
  },
  {
   "cell_type": "code",
   "execution_count": 14,
   "metadata": {},
   "outputs": [],
   "source": [
    "# Create an IAM role using the statement in the variable assume_role_policy\n",
    "role_name = 'Cookbook-S3-role-{}'.format(random.randint(100, 1000))\n",
    "role = iam.create_role(\n",
    "    RoleName=role_name,\n",
    "    AssumeRolePolicyDocument=json.dumps(assume_role_policy),\n",
    "    Description='Role for cookbook'\n",
    ")"
   ]
  },
  {
   "cell_type": "code",
   "execution_count": 16,
   "metadata": {},
   "outputs": [],
   "source": [
    "s3_perms_policy = {\n",
    "  \"Version\":\"2012-10-17\",\n",
    "  \"Statement\":[\n",
    "  {\n",
    "    \"Effect\":\"Allow\",\n",
    "    \"Action\":[\n",
    "    \"s3:GetObjectVersionForReplication\",\n",
    "    \"s3:GetObjectVersionAcl\",\n",
    "    \"s3:GetObjectVersionTagging\"\n",
    "    ],\n",
    "    \"Resource\":[\n",
    "    \"arn:aws:s3:::{}/*\".format(bucket_name)\n",
    "    ]\n",
    "  },\n",
    "  {\n",
    "    \"Effect\":\"Allow\",\n",
    "    \"Action\":[\n",
    "    \"s3:ListBucket\",\n",
    "    \"s3:GetReplicationConfiguration\"\n",
    "    ],\n",
    "    \"Resource\":[\n",
    "         \"arn:aws:s3:::{}\".format(bucket_name)\n",
    "         ]\n",
    "    },\n",
    "    {\n",
    "    \"Effect\":\"Allow\",\n",
    "    \"Action\":[\n",
    "    \"s3:ReplicateObject\",\n",
    "    \"s3:ReplicateDelete\",\n",
    "    \"s3:ReplicateTags\",\n",
    "    \"s3:GetObjectVersionTagging\"\n",
    "    ],\n",
    "    \"Resource\":\"arn:aws:s3:::{}/*\".format(bucket_dest_name)\n",
    "  }\n",
    "  ]\n",
    "}"
   ]
  },
  {
   "cell_type": "code",
   "execution_count": 17,
   "metadata": {},
   "outputs": [],
   "source": [
    "# Attach the policy to the role you just created:\n",
    "response = iam_client.put_role_policy(\n",
    "    RoleName=role_name,\n",
    "    PolicyName='s3-permissions',\n",
    "    PolicyDocument=json.dumps(s3_perms_policy)\n",
    ")"
   ]
  },
  {
   "cell_type": "code",
   "execution_count": 19,
   "metadata": {},
   "outputs": [],
   "source": [
    "# Get the role arn:\n",
    "role_arn = iam_client.get_role(RoleName=role_name)['Role']['Arn']"
   ]
  },
  {
   "cell_type": "code",
   "execution_count": 25,
   "metadata": {},
   "outputs": [],
   "source": [
    "s3_replication_policy = {\n",
    "  \"Rules\": [\n",
    "  {\n",
    "    \"Status\": \"Enabled\",\n",
    "    \"Filter\": {\n",
    "      \"Prefix\": \"\"\n",
    "    },\n",
    "    \"Destination\": {\n",
    "      \"Bucket\": \"arn:aws:s3:::{}\".format(bucket_dest_name),\n",
    "      \"Metrics\": {\n",
    "        \"Status\": \"Enabled\",\n",
    "        \"EventThreshold\": {\n",
    "        \"Minutes\": 15\n",
    "        }\n",
    "      },\n",
    "      \"ReplicationTime\": {\n",
    "        \"Status\": \"Enabled\",\n",
    "        \"Time\": {\n",
    "        \"Minutes\": 15\n",
    "        }\n",
    "      }\n",
    "    },\n",
    "    \"DeleteMarkerReplication\": {\n",
    "      \"Status\": \"Disabled\"\n",
    "    },\n",
    "    \"Priority\": 1\n",
    "  }\n",
    "  ],\n",
    "  \"Role\": role_arn\n",
    "}\n"
   ]
  },
  {
   "cell_type": "markdown",
   "metadata": {},
   "source": [
    "Configurar la política de replicación para el bucket S3 de origen"
   ]
  },
  {
   "cell_type": "code",
   "execution_count": 26,
   "metadata": {},
   "outputs": [],
   "source": [
    "response = s3_client.put_bucket_replication(\n",
    "    Bucket=bucket_name,\n",
    "    ReplicationConfiguration=s3_replication_policy\n",
    ")"
   ]
  },
  {
   "cell_type": "markdown",
   "metadata": {},
   "source": [
    "#### Controles de validación"
   ]
  },
  {
   "cell_type": "code",
   "execution_count": 29,
   "metadata": {},
   "outputs": [
    {
     "name": "stdout",
     "output_type": "stream",
     "text": [
      "{'Role': 'arn:aws:iam::831466106657:role/Cookbook-S3-role-502',\n",
      " 'Rules': [{'DeleteMarkerReplication': {'Status': 'Disabled'},\n",
      "            'Destination': {'Bucket': 'arn:aws:s3:::cookbook-dest-623494',\n",
      "                            'Metrics': {'EventThreshold': {'Minutes': 15},\n",
      "                                        'Status': 'Enabled'},\n",
      "                            'ReplicationTime': {'Status': 'Enabled',\n",
      "                                                'Time': {'Minutes': 15}}},\n",
      "            'Filter': {'Prefix': ''},\n",
      "            'ID': 'ZmI3OGZlMWMtZDAwMi00MTNlLWJkYmUtZWE5YzZlNGQ5YzE1',\n",
      "            'Priority': 1,\n",
      "            'Status': 'Enabled'}]}\n"
     ]
    }
   ],
   "source": [
    "# View the replication configuration for the source bucket:\n",
    "response = s3_client.get_bucket_replication(\n",
    "    Bucket=bucket_name\n",
    ")\n",
    "\n",
    "pprint(response['ReplicationConfiguration'])"
   ]
  },
  {
   "cell_type": "code",
   "execution_count": 30,
   "metadata": {},
   "outputs": [],
   "source": [
    "# Upload an object to the source bucket:\n",
    "response = s3_client.put_object(\n",
    "    Bucket=bucket_name,\n",
    "    Key='test.txt',\n",
    "    Body='---This is a test---'\n",
    ")"
   ]
  },
  {
   "cell_type": "code",
   "execution_count": 32,
   "metadata": {},
   "outputs": [
    {
     "name": "stdout",
     "output_type": "stream",
     "text": [
      "{'AcceptRanges': 'bytes',\n",
      " 'ContentLength': 20,\n",
      " 'ContentType': 'binary/octet-stream',\n",
      " 'ETag': '\"6fb061ed5ad2c24aae4ee903406606aa\"',\n",
      " 'LastModified': datetime.datetime(2022, 10, 16, 14, 48, 42, tzinfo=tzutc()),\n",
      " 'Metadata': {},\n",
      " 'ReplicationStatus': 'COMPLETED',\n",
      " 'ResponseMetadata': {'HTTPHeaders': {'accept-ranges': 'bytes',\n",
      "                                      'content-length': '20',\n",
      "                                      'content-type': 'binary/octet-stream',\n",
      "                                      'date': 'Sun, 16 Oct 2022 14:51:38 GMT',\n",
      "                                      'etag': '\"6fb061ed5ad2c24aae4ee903406606aa\"',\n",
      "                                      'last-modified': 'Sun, 16 Oct 2022 '\n",
      "                                                       '14:48:42 GMT',\n",
      "                                      'server': 'AmazonS3',\n",
      "                                      'x-amz-id-2': 'rHVXfljxO6WEx2aQlPuW+aIvuxOWm0qKCdr0x8gq2LI4OTNvJKSIZeXVEwdrFHaVw6vz2rbpRWH4x2QMhWU3Sw==',\n",
      "                                      'x-amz-replication-status': 'COMPLETED',\n",
      "                                      'x-amz-request-id': '8QNYPX5PYAACCF76',\n",
      "                                      'x-amz-version-id': 'TGW3nB0OJvt80iJfR78nkE93XNkXzXi1'},\n",
      "                      'HTTPStatusCode': 200,\n",
      "                      'HostId': 'rHVXfljxO6WEx2aQlPuW+aIvuxOWm0qKCdr0x8gq2LI4OTNvJKSIZeXVEwdrFHaVw6vz2rbpRWH4x2QMhWU3Sw==',\n",
      "                      'RequestId': '8QNYPX5PYAACCF76',\n",
      "                      'RetryAttempts': 0},\n",
      " 'VersionId': 'TGW3nB0OJvt80iJfR78nkE93XNkXzXi1'}\n"
     ]
    }
   ],
   "source": [
    "# View the replication status for the file that you uploaded to the source bucket:\n",
    "response = s3_client.head_object(\n",
    "    Bucket=bucket_name,\n",
    "    Key='test.txt'\n",
    ")\n",
    "\n",
    "pprint(response)"
   ]
  },
  {
   "cell_type": "markdown",
   "metadata": {},
   "source": [
    "Vea el estado de la replicación después de algunos minutos y confirme que `ReplicationStatus` es COMPLETED"
   ]
  },
  {
   "cell_type": "markdown",
   "metadata": {},
   "source": [
    "### Discusión\n",
    "\n",
    "Si eres un ingeniero, desarrollador o arquitecto que trabaja en AWS, es muy probable que acabes utilizando S3. Es posible que tenga que implementar algún tipo de replicación en S3 para sus aplicaciones; S3 ofrece dos tipos de replicación para satisfacer sus necesidades específicas: Replicación en la misma región (SRR) y Replicación entre regiones (CRR). El tiempo de replicación es un parámetro configurable de S3 Replication Time Control (S3 RTC) y está documentado para cumplir un objetivo de punto de recuperación (RPO) de 15 minutos respaldado por un acuerdo de nivel de servicio (SLA).\n",
    "\n",
    "SRR utiliza una función IAM, un bucket de origen y de destino, y una configuración de replicación que hace referencia a la función y a los buckets. En esta receta se utiliza SRR para configurar una replicación unidireccional; puede utilizar SRR para facilitar muchos tipos de casos de uso:\n",
    "\n",
    "* Agregación de registros a un bucket central para su indexación\n",
    "* Replicación de datos entre entornos de producción y de prueba\n",
    "* Redundancia de datos conservando los metadatos de los objetos\n",
    "* Diseño de la redundancia en torno a la soberanía de los datos y los requisitos de cumplimiento.\n",
    "* Propósitos de copia de seguridad y archivo\n",
    "\n",
    "CRR utiliza un rol de IAM similar, un bucket de origen y de destino, y una configuración de replicación que hace referencia al rol y a los buckets. Puede utilizar CRR para ampliar las posibilidades de lo que permite SRR:\n",
    "\n",
    "* Cumplir con los requisitos de almacenamiento y archivo de datos en todas las regiones\n",
    "* Ubicar conjuntos de datos similares más cerca de sus necesidades regionales de computación y acceso para reducir la latencia\n",
    "\n",
    "**NOTA:** Los buckets de S3 que tienen control de versiones añaden marcadores a los objetos que se han eliminado. Ambos tipos de replicación de S3 son capaces de replicar los marcadores de eliminación a su cubo de destino si así lo desea. Para obtener más información, consulte el documento de soporte.\n",
    "\n"
   ]
  }
 ],
 "metadata": {
  "kernelspec": {
   "display_name": "Python 3.9.12 ('base')",
   "language": "python",
   "name": "python3"
  },
  "language_info": {
   "codemirror_mode": {
    "name": "ipython",
    "version": 3
   },
   "file_extension": ".py",
   "mimetype": "text/x-python",
   "name": "python",
   "nbconvert_exporter": "python",
   "pygments_lexer": "ipython3",
   "version": "3.9.12"
  },
  "orig_nbformat": 4,
  "vscode": {
   "interpreter": {
    "hash": "c9cdd2fa3b32da9704bd8048bdba085d67219855a318f4adc7f095bb5cfa603b"
   }
  }
 },
 "nbformat": 4,
 "nbformat_minor": 2
}
