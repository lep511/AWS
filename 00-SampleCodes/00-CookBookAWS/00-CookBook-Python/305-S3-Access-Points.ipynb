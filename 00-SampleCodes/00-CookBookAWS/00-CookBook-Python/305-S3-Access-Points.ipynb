{
 "cells": [
  {
   "cell_type": "markdown",
   "metadata": {},
   "source": [
    "### Configuración de los punstos de acceso de los bucket para aplicaciones\n",
    "\n",
    "#### Problema\n",
    "Tienes un bucket de S3 y dos aplicaciones. Necesita conceder acceso de lectura/escritura a una de sus aplicaciones y acceso de sólo lectura a otra aplicación. No desea utilizar las políticas de los cubos de S3, ya que espera tener que añadir aplicaciones adicionales con requisitos de seguridad más precisos en el futuro.\n",
    "\n",
    "#### Solución\n",
    "Cree dos puntos de acceso de S3 y aplique una política que conceda las acciones *S3:PutObject* y *S3:GetObject* a uno de los puntos de acceso y *S3:GetObject* al otro punto de acceso. A continuación, configure su aplicación para utilizar el nombre DNS del punto de acceso respectivo.\n",
    "<br>\n",
    "<br>\n",
    "<img src=\"https://learning.oreilly.com/api/v2/epubs/urn:orm:book:9781492092599/files/assets/awsc_0309.png\" width=\"500\">\n"
   ]
  },
  {
   "cell_type": "code",
   "execution_count": 1,
   "metadata": {},
   "outputs": [],
   "source": [
    "import boto3\n",
    "import json\n",
    "import random\n",
    "\n",
    "\n",
    "region_aws = 'us-east-1'\n",
    "\n",
    "s3 = boto3.resource('s3')\n",
    "s3_client = boto3.client('s3')\n",
    "s3control = boto3.client('s3control', region_name=region_aws)\n",
    "ec2 = boto3.resource('ec2', region_name=region_aws)\n",
    "ec2_client = boto3.client('ec2', region_name=region_aws)"
   ]
  },
  {
   "cell_type": "code",
   "execution_count": 2,
   "metadata": {},
   "outputs": [],
   "source": [
    "# Create a private VPC\n",
    "vpc = ec2.create_vpc(CidrBlock='10.10.0.0/16')"
   ]
  },
  {
   "cell_type": "code",
   "execution_count": 3,
   "metadata": {},
   "outputs": [],
   "source": [
    "# Crear 2 subredes para la VPC\n",
    "vpc_subnet_private1 = ec2.create_subnet(\n",
    "    CidrBlock='10.10.1.0/24',\n",
    "    VpcId=vpc.id,\n",
    "    AvailabilityZone=region_aws+'a'\n",
    ")\n",
    "vpc_subnet_private2 = ec2.create_subnet(\n",
    "    CidrBlock='10.10.2.0/24', \n",
    "    VpcId=vpc.id,\n",
    "    AvailabilityZone=region_aws+'b'\n",
    ")"
   ]
  },
  {
   "cell_type": "code",
   "execution_count": 4,
   "metadata": {},
   "outputs": [
    {
     "data": {
      "text/plain": [
       "[ec2.Tag(resource_id='subnet-033e41fe395a7d74e', key='Name', value='AWSCookBookVPC-Private-2')]"
      ]
     },
     "execution_count": 4,
     "metadata": {},
     "output_type": "execute_result"
    }
   ],
   "source": [
    "# Create tags\n",
    "vpc_subnet_private1.create_tags(Tags=[{\"Key\": \"Name\", \"Value\": \"AWSCookBookVPC-Private-1\"}])\n",
    "vpc_subnet_private2.create_tags(Tags=[{\"Key\": \"Name\", \"Value\": \"AWSCookBookVPC-Private-2\"}])"
   ]
  },
  {
   "cell_type": "code",
   "execution_count": 5,
   "metadata": {},
   "outputs": [
    {
     "data": {
      "text/plain": [
       "[ec2.Tag(resource_id='rtb-09cd083101da76de0', key='Name', value='AWSCookBookVPC-Private-Route-Table-b')]"
      ]
     },
     "execution_count": 5,
     "metadata": {},
     "output_type": "execute_result"
    }
   ],
   "source": [
    "# Crear routables para la VPC\n",
    "vpc_route_table_private_1 = ec2.create_route_table(VpcId=vpc.id)\n",
    "vpc_route_table_private_1.create_tags(Tags=[{\"Key\": \"Name\", \"Value\": \"AWSCookBookVPC-Private-Route-Table-a\"}])\n",
    "vpc_route_table_private_2 = ec2.create_route_table(VpcId=vpc.id)\n",
    "vpc_route_table_private_2.create_tags(Tags=[{\"Key\": \"Name\", \"Value\": \"AWSCookBookVPC-Private-Route-Table-b\"}])"
   ]
  },
  {
   "cell_type": "code",
   "execution_count": 6,
   "metadata": {},
   "outputs": [
    {
     "data": {
      "text/plain": [
       "ec2.RouteTableAssociation(id='rtbassoc-088e2ee51e3d0ab9e')"
      ]
     },
     "execution_count": 6,
     "metadata": {},
     "output_type": "execute_result"
    }
   ],
   "source": [
    "# Asoociar la tabla de rutas a la subred privada de VPC1\n",
    "vpc_route_table_private_1.associate_with_subnet(SubnetId=vpc_subnet_private1.id)\n",
    "vpc_route_table_private_2.associate_with_subnet(SubnetId=vpc_subnet_private2.id)"
   ]
  },
  {
   "cell_type": "code",
   "execution_count": 8,
   "metadata": {},
   "outputs": [
    {
     "data": {
      "text/plain": [
       "{'ResponseMetadata': {'RequestId': '4f0eb560-7eb3-4789-bf13-72bc42e6acfc',\n",
       "  'HTTPStatusCode': 200,\n",
       "  'HTTPHeaders': {'x-amzn-requestid': '4f0eb560-7eb3-4789-bf13-72bc42e6acfc',\n",
       "   'cache-control': 'no-cache, no-store',\n",
       "   'strict-transport-security': 'max-age=31536000; includeSubDomains',\n",
       "   'content-type': 'text/xml;charset=UTF-8',\n",
       "   'content-length': '237',\n",
       "   'date': 'Mon, 17 Oct 2022 14:42:55 GMT',\n",
       "   'server': 'AmazonEC2'},\n",
       "  'RetryAttempts': 0}}"
      ]
     },
     "execution_count": 8,
     "metadata": {},
     "output_type": "execute_result"
    }
   ],
   "source": [
    "# Habilitar la resolución de DNS en la VPC\n",
    "vpc.modify_attribute(EnableDnsSupport={'Value': True})\n",
    "vpc.modify_attribute(EnableDnsHostnames={'Value': True})"
   ]
  },
  {
   "cell_type": "code",
   "execution_count": 9,
   "metadata": {},
   "outputs": [
    {
     "name": "stdout",
     "output_type": "stream",
     "text": [
      "En la terminal ejecute el siguiente comando:\n",
      "    python create_ec2_ssm.py --vpc vpc-0b26bc7d95f5b8547 --subnet subnet-0139f19e0ecd931ad --tag Cookbook-SSM-Instance-1\n"
     ]
    }
   ],
   "source": [
    "print(\"En la terminal ejecute el siguiente comando:\")\n",
    "print(\"    python create_ec2_ssm.py --vpc {} --subnet {} --tag Cookbook-SSM-Instance-1\".format(vpc.id, vpc_subnet_private1.id))"
   ]
  },
  {
   "cell_type": "code",
   "execution_count": 10,
   "metadata": {},
   "outputs": [
    {
     "name": "stdout",
     "output_type": "stream",
     "text": [
      "También ejecute el siguiente comando:\n",
      "    python create_ec2_ssm.py --vpc vpc-0b26bc7d95f5b8547 --subnet subnet-033e41fe395a7d74e --tag Cookbook-SSM-Instance-2\n"
     ]
    }
   ],
   "source": [
    "print(\"También ejecute el siguiente comando:\")\n",
    "print(\"    python create_ec2_ssm.py --vpc {} --subnet {} --tag Cookbook-SSM-Instance-2\".format(vpc.id, vpc_subnet_private2.id))"
   ]
  },
  {
   "cell_type": "code",
   "execution_count": 11,
   "metadata": {},
   "outputs": [
    {
     "name": "stdout",
     "output_type": "stream",
     "text": [
      "Bucket name: cookbook-558513\n"
     ]
    }
   ],
   "source": [
    "# Create a bucket\n",
    "bucket_name = 'cookbook-{}'.format(random.randint(10000, 1000000))\n",
    "bucket = s3.create_bucket(Bucket=bucket_name)\n",
    "print(\"Bucket name: {}\".format(bucket_name))\n",
    "\n",
    "# Por defecto cuando creamos un bucket, las opciones de **Block all public access** (Bloquear todo el acceso público) \n",
    "# están desactivadas por defecto.\n",
    "\n",
    "response = s3_client.put_public_access_block(\n",
    "        Bucket=bucket_name,\n",
    "        PublicAccessBlockConfiguration={\n",
    "            'BlockPublicAcls': True,\n",
    "            'IgnorePublicAcls': True,\n",
    "            'BlockPublicPolicy': True,\n",
    "            'RestrictPublicBuckets': True\n",
    "        }\n",
    ")"
   ]
  },
  {
   "cell_type": "code",
   "execution_count": 25,
   "metadata": {},
   "outputs": [],
   "source": [
    "# Get account ID\n",
    "account_id = boto3.client('sts').get_caller_identity().get('Account')"
   ]
  },
  {
   "cell_type": "code",
   "execution_count": 26,
   "metadata": {},
   "outputs": [],
   "source": [
    "app1_ap_name = 'cookbook305-app-1'\n",
    "app2_ap_name = 'cookbook305-app-2'"
   ]
  },
  {
   "cell_type": "code",
   "execution_count": 27,
   "metadata": {},
   "outputs": [],
   "source": [
    "# Create an access point for Application 1\n",
    "response_1 = s3control.create_access_point(\n",
    "    AccountId=account_id,\n",
    "    Name=app1_ap_name,\n",
    "    Bucket=bucket_name,\n",
    "    PublicAccessBlockConfiguration={\n",
    "        'BlockPublicAcls': False,\n",
    "        'IgnorePublicAcls': False,\n",
    "        'BlockPublicPolicy': False,\n",
    "        'RestrictPublicBuckets': False\n",
    "    },\n",
    "    VpcConfiguration={\n",
    "        'VpcId': vpc.id,\n",
    "    }\n",
    ")\n",
    "\n",
    "# Create an access point for Application 2\n",
    "response_2 = s3control.create_access_point(\n",
    "    AccountId=account_id,\n",
    "    Name=app2_ap_name,\n",
    "    Bucket=bucket_name,\n",
    "    PublicAccessBlockConfiguration={\n",
    "        'BlockPublicAcls': False,\n",
    "        'IgnorePublicAcls': False,\n",
    "        'BlockPublicPolicy': False,\n",
    "        'RestrictPublicBuckets': False\n",
    "    },\n",
    "    VpcConfiguration={\n",
    "        'VpcId': vpc.id,\n",
    "    }\n",
    ")"
   ]
  },
  {
   "cell_type": "code",
   "execution_count": 28,
   "metadata": {},
   "outputs": [],
   "source": [
    "# Get EC2 instance profile\n",
    "ec2_instance_profile = ec2_client.describe_iam_instance_profile_associations()['IamInstanceProfileAssociations'][0]['IamInstanceProfile']['Arn']\n",
    "ec2_instance_profile_name = ec2_instance_profile.split(\"/\")[-1]"
   ]
  },
  {
   "cell_type": "code",
   "execution_count": 48,
   "metadata": {},
   "outputs": [],
   "source": [
    "app1_policy = {\n",
    "  \"Version\":\"2012-10-17\",\n",
    "  \"Statement\": [\n",
    "  {\n",
    "    \"Effect\": \"Allow\",\n",
    "    \"Principal\": \"*\",\n",
    "    \"Action\": [\n",
    "      \"s3:GetObject\",\n",
    "      \"s3:PutObject\"\n",
    "      ],\n",
    "    \"Resource\": \"arn:aws:s3:{}:{}:accesspoint/{}/object/*\".format(region_aws, account_id, app1_ap_name)\n",
    "  }]\n",
    "}"
   ]
  },
  {
   "cell_type": "code",
   "execution_count": 54,
   "metadata": {},
   "outputs": [],
   "source": [
    "# Put the policy you created on the access point for Application 1:\n",
    "response = s3control.put_access_point_policy(\n",
    "    AccountId=account_id,\n",
    "    Name=app1_ap_name,\n",
    "    Policy=json.dumps(app1_policy)\n",
    ")"
   ]
  },
  {
   "cell_type": "code",
   "execution_count": 38,
   "metadata": {},
   "outputs": [],
   "source": [
    "app2_policy = {\n",
    "  \"Version\":\"2012-10-17\",\n",
    "  \"Statement\": [\n",
    "  {\n",
    "    \"Effect\": \"Allow\",\n",
    "    \"Principal\": \"*\",\n",
    "    \"Action\": [\n",
    "      \"s3:GetObject\"\n",
    "      ],\n",
    "    \"Resource\": \"arn:aws:s3:{}:{}:accesspoint/{}/object/*\".format(region_aws, account_id, app2_ap_name)\n",
    "  }]\n",
    "}"
   ]
  },
  {
   "cell_type": "code",
   "execution_count": 39,
   "metadata": {},
   "outputs": [],
   "source": [
    "# Put the policy you created on the access point for Application 1:\n",
    "response = s3control.put_access_point_policy(\n",
    "    AccountId=account_id,\n",
    "    Name=app2_ap_name,\n",
    "    Policy=json.dumps(app2_policy)\n",
    ")"
   ]
  },
  {
   "cell_type": "code",
   "execution_count": 24,
   "metadata": {},
   "outputs": [
    {
     "data": {
      "text/plain": [
       "{'ResponseMetadata': {'RequestId': '1W5V7X8EM39ANZK8',\n",
       "  'HostId': 'ODWb08lJg5FSlqN5YBpwP+eXrPikKptiq+WUR13e7M/Rubyb5N9aHQnDS02OBdpHXydfBytzl4E=',\n",
       "  'HTTPStatusCode': 200,\n",
       "  'HTTPHeaders': {'x-amz-id-2': 'ODWb08lJg5FSlqN5YBpwP+eXrPikKptiq+WUR13e7M/Rubyb5N9aHQnDS02OBdpHXydfBytzl4E=',\n",
       "   'x-amz-request-id': '1W5V7X8EM39ANZK8',\n",
       "   'date': 'Mon, 17 Oct 2022 15:01:48 GMT',\n",
       "   'etag': '\"5c2c4b2214e4768ff9b6ee021664bda8\"',\n",
       "   'server': 'AmazonS3',\n",
       "   'content-length': '0'},\n",
       "  'RetryAttempts': 0},\n",
       " 'ETag': '\"5c2c4b2214e4768ff9b6ee021664bda8\"'}"
      ]
     },
     "execution_count": 24,
     "metadata": {},
     "output_type": "execute_result"
    }
   ],
   "source": [
    "# Upload a file to the bucket\n",
    "s3.Object(bucket_name, 'cookbook305-app-1/object/Recipe305Test.txt').put(Body=open('sample-file.txt', 'rb'))"
   ]
  }
 ],
 "metadata": {
  "kernelspec": {
   "display_name": "Python 3.9.12 ('base')",
   "language": "python",
   "name": "python3"
  },
  "language_info": {
   "codemirror_mode": {
    "name": "ipython",
    "version": 3
   },
   "file_extension": ".py",
   "mimetype": "text/x-python",
   "name": "python",
   "nbconvert_exporter": "python",
   "pygments_lexer": "ipython3",
   "version": "3.9.12"
  },
  "orig_nbformat": 4,
  "vscode": {
   "interpreter": {
    "hash": "c9cdd2fa3b32da9704bd8048bdba085d67219855a318f4adc7f095bb5cfa603b"
   }
  }
 },
 "nbformat": 4,
 "nbformat_minor": 2
}
