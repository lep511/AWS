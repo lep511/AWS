{
 "cells": [
  {
   "cell_type": "code",
   "execution_count": 1,
   "metadata": {},
   "outputs": [],
   "source": [
    "import boto3\n",
    "import json\n",
    "import time\n",
    "\n",
    "region_aws = 'us-east-1'\n",
    "\n",
    "ec2 = boto3.resource('ec2', region_name=region_aws)\n",
    "ec2_client = boto3.client('ec2', region_name=region_aws)\n",
    "elbv2 = boto3.client('elbv2')"
   ]
  },
  {
   "cell_type": "markdown",
   "metadata": {},
   "source": [
    "### Create VPC - Applicance"
   ]
  },
  {
   "cell_type": "code",
   "execution_count": null,
   "metadata": {},
   "outputs": [],
   "source": [
    "# Create VPC\n",
    "vpc_applic = ec2.create_vpc(CidrBlock='192.168.1.0/24')\n",
    "vpc_applic.create_tags(Tags=[{\"Key\": \"Name\", \"Value\": \"Applicance\"}]);"
   ]
  },
  {
   "cell_type": "code",
   "execution_count": null,
   "metadata": {},
   "outputs": [],
   "source": [
    "# Create 6 subnets in VPC Applicance\n",
    "sn_appliance_transit_a = ec2.create_subnet(\n",
    "    VpcId=vpc_applic.id,\n",
    "    CidrBlock='192.168.1.0/28',\n",
    "    AvailabilityZone=region_aws+'a'\n",
    ")\n",
    "sn_appliance_transit_b = ec2.create_subnet(\n",
    "    VpcId=vpc_applic.id,\n",
    "    CidrBlock='192.168.1.48/28',\n",
    "    AvailabilityZone=region_aws+'b'\n",
    ")\n",
    "sn_appliance_server_a = ec2.create_subnet(\n",
    "    VpcId=vpc_applic.id,\n",
    "    CidrBlock='192.168.1.16/28',\n",
    "    AvailabilityZone=region_aws+'a'\n",
    ")\n",
    "sn_appliance_server_b = ec2.create_subnet(\n",
    "    VpcId=vpc_applic.id,\n",
    "    CidrBlock='192.168.1.64/28',\n",
    "    AvailabilityZone=region_aws+'b'\n",
    ")\n",
    "sn_appliance_nat_a = ec2.create_subnet(\n",
    "    VpcId=vpc_applic.id,\n",
    "    CidrBlock='192.168.1.32/28',\n",
    "    AvailabilityZone=region_aws+'a'\n",
    ")\n",
    "sn_appliance_nat_b = ec2.create_subnet(\n",
    "    VpcId=vpc_applic.id,\n",
    "    CidrBlock='192.168.1.80/28',\n",
    "    AvailabilityZone=region_aws+'b'\n",
    ")"
   ]
  },
  {
   "cell_type": "code",
   "execution_count": null,
   "metadata": {},
   "outputs": [],
   "source": [
    "# Tag subnets\n",
    "sn_appliance_transit_a.create_tags(Tags=[{\"Key\": \"Name\", \"Value\": \"Applicance-Transit-Gateway-a\"}])\n",
    "sn_appliance_transit_b.create_tags(Tags=[{\"Key\": \"Name\", \"Value\": \"Applicance-Transit-Gateway-b\"}])\n",
    "sn_appliance_server_a.create_tags(Tags=[{\"Key\": \"Name\", \"Value\": \"Applicance-Server-a\"}])\n",
    "sn_appliance_server_b.create_tags(Tags=[{\"Key\": \"Name\", \"Value\": \"Applicance-Server-b\"}])\n",
    "sn_appliance_nat_a.create_tags(Tags=[{\"Key\": \"Name\", \"Value\": \"Applicance-NAT-a\"}])\n",
    "sn_appliance_nat_b.create_tags(Tags=[{\"Key\": \"Name\", \"Value\": \"Applicance-NAT-b\"}])"
   ]
  },
  {
   "cell_type": "code",
   "execution_count": null,
   "metadata": {},
   "outputs": [],
   "source": [
    "# Create route table for the VPC Applicance\n",
    "rt_appliance_transit_a = vpc_applic.create_route_table()\n",
    "rt_appliance_transit_b = vpc_applic.create_route_table()\n",
    "rt_appliance_server_a = vpc_applic.create_route_table()\n",
    "rt_appliance_server_b = vpc_applic.create_route_table()\n",
    "rt_appliance_nat_a = vpc_applic.create_route_table()\n",
    "rt_appliance_nat_b = vpc_applic.create_route_table()\n",
    "\n",
    "# Tags Route Tables\n",
    "rt_appliance_transit_a.create_tags(Tags=[{\"Key\": \"Name\", \"Value\": \"Spoke-2-Transit-Gateway-a\"}])\n",
    "rt_appliance_transit_b.create_tags(Tags=[{\"Key\": \"Name\", \"Value\": \"Spoke-2-Transit-Gateway-b\"}])\n",
    "rt_appliance_server_a.create_tags(Tags=[{\"Key\": \"Name\", \"Value\": \"Spoke-1-Server-a\"}])\n",
    "rt_appliance_server_b.create_tags(Tags=[{\"Key\": \"Name\", \"Value\": \"Spoke-2-Server-b\"}])\n",
    "rt_appliance_nat_a.create_tags(Tags=[{\"Key\": \"Name\", \"Value\": \"Spoke-1-NAT-a\"}])\n",
    "rt_appliance_nat_b.create_tags(Tags=[{\"Key\": \"Name\", \"Value\": \"Spoke-2-NAT-b\"}])"
   ]
  },
  {
   "cell_type": "code",
   "execution_count": null,
   "metadata": {},
   "outputs": [],
   "source": [
    "# Attach the route table to the subnets\n",
    "rt_appliance_transit_a.associate_with_subnet(SubnetId=sn_appliance_transit_a.id)\n",
    "rt_appliance_transit_b.associate_with_subnet(SubnetId=sn_appliance_transit_b.id)\n",
    "rt_appliance_server_a.associate_with_subnet(SubnetId=sn_appliance_server_a.id)\n",
    "rt_appliance_server_b.associate_with_subnet(SubnetId=sn_appliance_server_b.id)\n",
    "rt_appliance_nat_a.associate_with_subnet(SubnetId=sn_appliance_nat_a.id)\n",
    "rt_appliance_nat_b.associate_with_subnet(SubnetId=sn_appliance_nat_b.id)"
   ]
  },
  {
   "cell_type": "code",
   "execution_count": null,
   "metadata": {},
   "outputs": [],
   "source": [
    "# Create Internet Gateway\n",
    "igw = ec2.create_internet_gateway()\n",
    "\n",
    "# Attach Internet Gateway to VPC Applicance\n",
    "vpc_applic.attach_internet_gateway(InternetGatewayId=igw.id);"
   ]
  },
  {
   "cell_type": "code",
   "execution_count": null,
   "metadata": {},
   "outputs": [],
   "source": [
    "# Crear una Elastic IP address\n",
    "elastic_ip_1 = ec2_client.allocate_address(Domain='vpc')\n",
    "elastic_ip_2 = ec2_client.allocate_address(Domain='vpc')"
   ]
  },
  {
   "cell_type": "code",
   "execution_count": null,
   "metadata": {},
   "outputs": [],
   "source": [
    "# Crear un NAT gateway en VPC Applicance\n",
    "natgateway_1 = ec2_client.create_nat_gateway(\n",
    "    AllocationId=elastic_ip_1['AllocationId'],\n",
    "    SubnetId=sn_appliance_nat_a.id\n",
    ")\n",
    "natgateway_2 = ec2_client.create_nat_gateway(\n",
    "    AllocationId=elastic_ip_2['AllocationId'],\n",
    "    SubnetId=sn_appliance_nat_b.id\n",
    ")"
   ]
  },
  {
   "cell_type": "code",
   "execution_count": null,
   "metadata": {},
   "outputs": [
    {
     "data": {
      "text/plain": [
       "ec2.Route(route_table_id='rtb-0af8aab9aa7278e49', destination_cidr_block='0.0.0.0/0')"
      ]
     },
     "metadata": {},
     "output_type": "display_data"
    }
   ],
   "source": [
    "# Añada una ruta a la tabla de enrutamiento de la VPC Applicance para el internet natgateway\n",
    "rt_appliance_nat_a.create_route(\n",
    "    DestinationCidrBlock='0.0.0.0/0',\n",
    "    GatewayId=igw.id\n",
    ")\n",
    "rt_appliance_nat_b.create_route(\n",
    "    DestinationCidrBlock='0.0.0.0/0',\n",
    "    GatewayId=igw.id\n",
    ")"
   ]
  },
  {
   "cell_type": "code",
   "execution_count": null,
   "metadata": {},
   "outputs": [
    {
     "data": {
      "text/plain": [
       "ec2.Route(route_table_id='rtb-0a25d5ccbce3fd7b7', destination_cidr_block='0.0.0.0/0')"
      ]
     },
     "metadata": {},
     "output_type": "display_data"
    }
   ],
   "source": [
    "# Añada una ruta a la tabla de enrutamiento de la VPC Applicance para el NAT gateway\n",
    "rt_appliance_server_a.create_route(\n",
    "    DestinationCidrBlock='0.0.0.0/0',\n",
    "    NatGatewayId=natgateway_1['NatGateway']['NatGatewayId']\n",
    ")\n",
    "rt_appliance_server_b.create_route(\n",
    "    DestinationCidrBlock='0.0.0.0/0',\n",
    "    NatGatewayId=natgateway_2['NatGateway']['NatGatewayId']\n",
    ")"
   ]
  },
  {
   "cell_type": "code",
   "execution_count": null,
   "metadata": {},
   "outputs": [],
   "source": [
    "# Create a security group\n",
    "sg_appliance = ec2.create_security_group(\n",
    "    GroupName='ApplicanceVPC-Bastion-SG',\n",
    "    Description='Access to bastion instance: allow SSH and ICMP access from appropriate location. Allow all traffic from VPC CIDR',\n",
    "    VpcId=vpc_applic.id\n",
    ")\n",
    "\n",
    "# Add rules to the security group\n",
    "sg_appliance.authorize_ingress(\n",
    "    CidrIp='0.0.0.0/0',\n",
    "    IpProtocol='tcp',\n",
    "    FromPort=22,\n",
    "    ToPort=22\n",
    ")\n",
    "sg_appliance.authorize_ingress(\n",
    "    CidrIp='0.0.0.0/0',\n",
    "    IpProtocol='icmp',\n",
    "    FromPort=-1,\n",
    "    ToPort=-1\n",
    ")"
   ]
  },
  {
   "cell_type": "code",
   "execution_count": null,
   "metadata": {},
   "outputs": [],
   "source": [
    "# Create Gateway Load Balancer\n",
    "glb = elbv2.create_load_balancer(\n",
    "    Name='ApplicanceVPC-GLB',\n",
    "    Type='gateway',\n",
    "    Subnets=[\n",
    "        sn_appliance_server_a.id, \n",
    "        sn_appliance_server_b.id\n",
    "        ]\n",
    ")\n",
    "\n",
    "# Tag Gateway Load Balancer\n",
    "elbv2.add_tags(\n",
    "    ResourceArns=[\n",
    "        glb['LoadBalancers'][0]['LoadBalancerArn']\n",
    "    ],\n",
    "    Tags=[\n",
    "        {\n",
    "            'Key': 'Name',\n",
    "            'Value': 'ApplicanceVPC-GLB'\n",
    "        }\n",
    "    ]\n",
    ")"
   ]
  },
  {
   "cell_type": "code",
   "execution_count": null,
   "metadata": {},
   "outputs": [],
   "source": [
    "# Create Target Group\n",
    "tg = elbv2.create_target_group(\n",
    "    Name='ApplicanceVPC-TG',\n",
    "    Port=6081,\n",
    "    Protocol='GENEVE',\n",
    "    TargetGroupAttributes=[\n",
    "        {\n",
    "            'Key': 'deregistration_delay.timeout_seconds',\n",
    "            'Value': '20'\n",
    "        }\n",
    "    ],\n",
    "    VpcId=vpc_applic.id,\n",
    "    HealthCheckPort='traffic-port',\n",
    "    HealthCheckProtocol='GENEVE'\n",
    ")\n",
    "\n",
    "# Tag Target Group\n",
    "elbv2.add_tags(\n",
    "    ResourceArns=[\n",
    "        tg['TargetGroups'][0]['TargetGroupArn']\n",
    "    ],\n",
    "    Tags=[\n",
    "        {\n",
    "            'Key': 'Name',\n",
    "            'Value': 'ApplicanceVPC-TG'\n",
    "        }\n",
    "    ]\n",
    ")\n",
    "\n",
    "# Attach Target Group to Instance\n",
    "elbv2.register_targets(\n",
    "    TargetGroupArn=tg['TargetGroups'][0]['TargetGroupArn'],\n",
    "    Targets=[\n",
    "        {\n",
    "            'Id': instance.id\n",
    "        }\n",
    "    ]\n",
    ")\n",
    "\n"
   ]
  },
  {
   "cell_type": "code",
   "execution_count": null,
   "metadata": {},
   "outputs": [],
   "source": [
    "# Create a Transit Gateway\n",
    "transit_gateway = ec2_client.create_transit_gateway(\n",
    "    Description='Transit Gateway',\n",
    "    Options={\n",
    "        'AmazonSideAsn': 64512,\n",
    "        'AutoAcceptSharedAttachments': 'enable',\n",
    "        'DefaultRouteTableAssociation': 'disable',\n",
    "        'DefaultRouteTablePropagation': 'enable',\n",
    "        'DnsSupport': 'enable',\n",
    "        'VpnEcmpSupport': 'enable'\n",
    "    }\n",
    ")"
   ]
  },
  {
   "cell_type": "code",
   "execution_count": null,
   "metadata": {},
   "outputs": [],
   "source": [
    "# Tag Transit Gateway\n",
    "ec2_client.create_tags(\n",
    "    Resources=[\n",
    "        transit_gateway['TransitGateway']['TransitGatewayId'],\n",
    "    ],\n",
    "    Tags=[\n",
    "        {\n",
    "            'Key': 'Name',\n",
    "            'Value': 'Transit Gateway'\n",
    "        },\n",
    "    ]\n",
    ");"
   ]
  },
  {
   "cell_type": "code",
   "execution_count": null,
   "metadata": {},
   "outputs": [
    {
     "name": "stdout",
     "output_type": "stream",
     "text": [
      "Creating Transit Gateway: tgw-001448bfcd69e57c9...\n",
      "Transit Gateway status: available\n"
     ]
    }
   ],
   "source": [
    "# Check the status of the Transit Gateway\n",
    "transit_gateway_id = transit_gateway['TransitGateway']['TransitGatewayId']\n",
    "transit_gateway_status = ec2_client.describe_transit_gateways(\n",
    "    TransitGatewayIds=[transit_gateway_id]\n",
    ")['TransitGateways'][0]['State']\n",
    "print(\"Creating Transit Gateway: {}...\".format(transit_gateway_id))\n",
    "while transit_gateway_status != 'available':\n",
    "    time.sleep(15)\n",
    "    transit_gateway_status = ec2_client.describe_transit_gateways(\n",
    "        TransitGatewayIds=[transit_gateway_id]\n",
    "    )['TransitGateways'][0]['State']\n",
    "print(\"Transit Gateway status: \" + transit_gateway_status)"
   ]
  },
  {
   "cell_type": "markdown",
   "metadata": {},
   "source": [
    "--------------------------------------------------"
   ]
  },
  {
   "cell_type": "code",
   "execution_count": 2,
   "metadata": {},
   "outputs": [],
   "source": [
    "vpc_spoke1 = ec2.create_vpc(CidrBlock='10.0.0.0/24')\n",
    "vpc_spoke2 = ec2.create_vpc(CidrBlock='10.0.1.0/24')\n",
    "\n",
    "\n",
    "# Tag VPCs\n",
    "vpc_spoke1.create_tags(Tags=[{\"Key\": \"Name\", \"Value\": \"Spoke-1\"}])\n",
    "vpc_spoke2.create_tags(Tags=[{\"Key\": \"Name\", \"Value\": \"Spoke-2\"}])\n"
   ]
  },
  {
   "cell_type": "code",
   "execution_count": 3,
   "metadata": {},
   "outputs": [],
   "source": [
    "# Create 4 subnets in VPC 1\n",
    "sn_spoke1_server_a = ec2.create_subnet(\n",
    "    VpcId=vpc_spoke1.id,\n",
    "    CidrBlock='10.0.0.32/28',\n",
    "    AvailabilityZone=region_aws+'a'\n",
    ")\n",
    "sn_spoke1_server_b = ec2.create_subnet(\n",
    "    VpcId=vpc_spoke1.id,\n",
    "    CidrBlock='10.0.0.0/28',\n",
    "    AvailabilityZone=region_aws+'b'\n",
    ")\n",
    "sn_spoke1_transit_a = ec2.create_subnet(\n",
    "    VpcId=vpc_spoke1.id,\n",
    "    CidrBlock='10.0.0.48/28',\n",
    "    AvailabilityZone=region_aws+'a'\n",
    ")\n",
    "sn_spoke1_transit_b = ec2.create_subnet(\n",
    "    VpcId=vpc_spoke1.id,\n",
    "    CidrBlock='10.0.0.16/28',\n",
    "    AvailabilityZone=region_aws+'b'\n",
    ")"
   ]
  },
  {
   "cell_type": "code",
   "execution_count": 4,
   "metadata": {},
   "outputs": [],
   "source": [
    "# Create 4 subnets in VPC 2\n",
    "sn_spoke2_server_a = ec2.create_subnet(\n",
    "    VpcId=vpc_spoke2.id, \n",
    "    CidrBlock='10.0.1.0/28',\n",
    "    AvailabilityZone=region_aws+'a'\n",
    ")\n",
    "sn_spoke2_server_b = ec2.create_subnet(\n",
    "    VpcId=vpc_spoke2.id,\n",
    "    CidrBlock='10.0.1.32/28',\n",
    "    AvailabilityZone=region_aws+'b'\n",
    ")\n",
    "sn_spoke2_transit_a = ec2.create_subnet(\n",
    "    VpcId=vpc_spoke2.id,\n",
    "    CidrBlock='10.0.1.48/28',\n",
    "    AvailabilityZone=region_aws+'a'\n",
    ")\n",
    "sn_spoke2_transit_b = ec2.create_subnet(\n",
    "    VpcId=vpc_spoke2.id,\n",
    "    CidrBlock='10.0.1.16/28',\n",
    "    AvailabilityZone=region_aws+'b'\n",
    ")"
   ]
  },
  {
   "cell_type": "code",
   "execution_count": 6,
   "metadata": {},
   "outputs": [
    {
     "data": {
      "text/plain": [
       "[ec2.Tag(resource_id='subnet-08595cc3f59a6aef7', key='Name', value='Applicance-NAT-b')]"
      ]
     },
     "execution_count": 6,
     "metadata": {},
     "output_type": "execute_result"
    }
   ],
   "source": [
    "# Tags Subnets\n",
    "sn_spoke1_server_a.create_tags(Tags=[{\"Key\": \"Name\", \"Value\": \"Spoke-1-Server-a\"}])\n",
    "sn_spoke1_server_b.create_tags(Tags=[{\"Key\": \"Name\", \"Value\": \"Spoke-1-Server-b\"}])\n",
    "sn_spoke1_transit_a.create_tags(Tags=[{\"Key\": \"Name\", \"Value\": \"Spoke-1-Transit-Gateway-a\"}])\n",
    "sn_spoke1_transit_b.create_tags(Tags=[{\"Key\": \"Name\", \"Value\": \"Spoke-1-Transit-Gateway-b\"}])\n",
    "\n",
    "sn_spoke2_server_a.create_tags(Tags=[{\"Key\": \"Name\", \"Value\": \"Spoke-2-Server-a\"}])\n",
    "sn_spoke2_server_b.create_tags(Tags=[{\"Key\": \"Name\", \"Value\": \"Spoke-2-Server-b\"}])\n",
    "sn_spoke2_transit_a.create_tags(Tags=[{\"Key\": \"Name\", \"Value\": \"Spoke-2-Transit-Gateway-a\"}])\n",
    "sn_spoke2_transit_b.create_tags(Tags=[{\"Key\": \"Name\", \"Value\": \"Spoke-2-Transit-Gateway-b\"}])\n",
    "\n"
   ]
  },
  {
   "cell_type": "code",
   "execution_count": 7,
   "metadata": {},
   "outputs": [
    {
     "data": {
      "text/plain": [
       "[ec2.Tag(resource_id='rtb-0d11768faf25cba5a', key='Name', value='Spoke-1-Transit-Gateway-b')]"
      ]
     },
     "execution_count": 7,
     "metadata": {},
     "output_type": "execute_result"
    }
   ],
   "source": [
    "# Create route table for the VPC1\n",
    "rt_spoke1_server_a = vpc_spoke1.create_route_table()\n",
    "rt_spoke1_server_b = vpc_spoke1.create_route_table()\n",
    "rt_spoke1_transit_a = vpc_spoke1.create_route_table()\n",
    "rt_spoke1_transit_b = vpc_spoke1.create_route_table()\n",
    "\n",
    "# Tags Route Tables\n",
    "rt_spoke1_server_a.create_tags(Tags=[{\"Key\": \"Name\", \"Value\": \"Spoke-1-Server-a\"}])\n",
    "rt_spoke1_server_b.create_tags(Tags=[{\"Key\": \"Name\", \"Value\": \"Spoke-1-Server-b\"}])\n",
    "rt_spoke1_transit_a.create_tags(Tags=[{\"Key\": \"Name\", \"Value\": \"Spoke-1-Transit-Gateway-a\"}])\n",
    "rt_spoke1_transit_b.create_tags(Tags=[{\"Key\": \"Name\", \"Value\": \"Spoke-1-Transit-Gateway-b\"}])"
   ]
  },
  {
   "cell_type": "code",
   "execution_count": 8,
   "metadata": {},
   "outputs": [
    {
     "data": {
      "text/plain": [
       "[ec2.Tag(resource_id='rtb-07e10df00443919e8', key='Name', value='Spoke-2-Transit-Gateway-b')]"
      ]
     },
     "execution_count": 8,
     "metadata": {},
     "output_type": "execute_result"
    }
   ],
   "source": [
    "# Create route table for the vpc2\n",
    "rt_spoke2_server_a = vpc_spoke2.create_route_table()\n",
    "rt_spoke2_server_b = vpc_spoke2.create_route_table()\n",
    "rt_spoke2_transit_a = vpc_spoke2.create_route_table()\n",
    "rt_spoke2_transit_b = vpc_spoke2.create_route_table()\n",
    "\n",
    "# Tags Route Tables\n",
    "rt_spoke2_server_a.create_tags(Tags=[{\"Key\": \"Name\", \"Value\": \"Spoke-2-Server-a\"}])\n",
    "rt_spoke2_server_b.create_tags(Tags=[{\"Key\": \"Name\", \"Value\": \"Spoke-2-Server-b\"}])\n",
    "rt_spoke2_transit_a.create_tags(Tags=[{\"Key\": \"Name\", \"Value\": \"Spoke-1-Transit-Gateway-a\"}])\n",
    "rt_spoke2_transit_b.create_tags(Tags=[{\"Key\": \"Name\", \"Value\": \"Spoke-2-Transit-Gateway-b\"}])"
   ]
  },
  {
   "cell_type": "code",
   "execution_count": 9,
   "metadata": {},
   "outputs": [
    {
     "data": {
      "text/plain": [
       "[ec2.Tag(resource_id='rtb-0af8aab9aa7278e49', key='Name', value='Spoke-2-NAT-b')]"
      ]
     },
     "execution_count": 9,
     "metadata": {},
     "output_type": "execute_result"
    }
   ],
   "source": []
  },
  {
   "cell_type": "code",
   "execution_count": 11,
   "metadata": {},
   "outputs": [
    {
     "data": {
      "text/plain": [
       "ec2.RouteTableAssociation(id='rtbassoc-027e639f43d1b3633')"
      ]
     },
     "execution_count": 11,
     "metadata": {},
     "output_type": "execute_result"
    }
   ],
   "source": [
    "# Attach the route table to the subnets\n",
    "rt_spoke1_server_a.associate_with_subnet(SubnetId=sn_spoke1_server_a.id)\n",
    "rt_spoke1_server_b.associate_with_subnet(SubnetId=sn_spoke1_server_b.id)\n",
    "rt_spoke1_transit_a.associate_with_subnet(SubnetId=sn_spoke1_transit_a.id)\n",
    "rt_spoke1_transit_b.associate_with_subnet(SubnetId=sn_spoke1_transit_b.id)\n",
    "\n",
    "rt_spoke2_server_a.associate_with_subnet(SubnetId=sn_spoke2_server_a.id)\n",
    "rt_spoke2_server_b.associate_with_subnet(SubnetId=sn_spoke2_server_b.id)\n",
    "rt_spoke2_transit_a.associate_with_subnet(SubnetId=sn_spoke2_transit_a.id)\n",
    "rt_spoke2_transit_b.associate_with_subnet(SubnetId=sn_spoke2_transit_b.id)\n",
    "\n"
   ]
  },
  {
   "cell_type": "code",
   "execution_count": 12,
   "metadata": {},
   "outputs": [],
   "source": []
  },
  {
   "cell_type": "code",
   "execution_count": 22,
   "metadata": {},
   "outputs": [],
   "source": [
    "# Attach VPC 1 to Transit Gateway\n",
    "transit_gateway_attachment_spoke1 = ec2_client.create_transit_gateway_vpc_attachment(\n",
    "    TransitGatewayId=transit_gateway['TransitGateway']['TransitGatewayId'],\n",
    "    VpcId=vpc_spoke1.id,\n",
    "    SubnetIds=[\n",
    "        sn_spoke1_transit_a.id,\n",
    "        sn_spoke1_transit_b.id\n",
    "    ],\n",
    "    Options={\n",
    "        'ApplianceModeSupport': 'enable',\n",
    "        'DnsSupport': 'enable',\n",
    "        'Ipv6Support': 'disable'\n",
    "    }\n",
    ")"
   ]
  },
  {
   "cell_type": "code",
   "execution_count": 23,
   "metadata": {},
   "outputs": [],
   "source": [
    "# Tag Transit Gateway Attachment VPC 1\n",
    "ec2_client.create_tags(\n",
    "    Resources=[\n",
    "        transit_gateway_attachment_spoke1['TransitGatewayVpcAttachment']['TransitGatewayAttachmentId'],\n",
    "    ],\n",
    "    Tags=[\n",
    "        {\n",
    "            'Key': 'Name',\n",
    "            'Value': 'Spoke 1 VPC Association'\n",
    "        },\n",
    "    ]\n",
    ");"
   ]
  },
  {
   "cell_type": "code",
   "execution_count": 24,
   "metadata": {},
   "outputs": [],
   "source": [
    "# Attach VPC 2 to Transit Gateway\n",
    "transit_gateway_attachment_spoke2 = ec2_client.create_transit_gateway_vpc_attachment(\n",
    "    TransitGatewayId=transit_gateway['TransitGateway']['TransitGatewayId'],\n",
    "    VpcId=vpc_spoke2.id,\n",
    "    SubnetIds=[\n",
    "        sn_spoke2_transit_a.id,\n",
    "        sn_spoke2_transit_b.id\n",
    "    ],\n",
    "    Options={\n",
    "        'ApplianceModeSupport': 'enable',\n",
    "        'DnsSupport': 'enable',\n",
    "        'Ipv6Support': 'disable'\n",
    "    }\n",
    ")"
   ]
  },
  {
   "cell_type": "code",
   "execution_count": 25,
   "metadata": {},
   "outputs": [],
   "source": [
    "# Tag Transit Gateway Attachment VPC 2\n",
    "ec2_client.create_tags(\n",
    "    Resources=[\n",
    "        transit_gateway_attachment_spoke2['TransitGatewayVpcAttachment']['TransitGatewayAttachmentId'],\n",
    "    ],\n",
    "    Tags=[\n",
    "        {\n",
    "            'Key': 'Name',\n",
    "            'Value': 'Spoke 2 VPC Association'\n",
    "        },\n",
    "    ]\n",
    ");"
   ]
  },
  {
   "cell_type": "code",
   "execution_count": 26,
   "metadata": {},
   "outputs": [],
   "source": [
    "# Attach VPC 3 to Transit Gateway\n",
    "transit_gateway_attachment_applic = ec2_client.create_transit_gateway_vpc_attachment(\n",
    "    TransitGatewayId=transit_gateway['TransitGateway']['TransitGatewayId'],\n",
    "    VpcId=vpc_applic.id,\n",
    "    SubnetIds=[\n",
    "        sn_appliance_transit_a.id,\n",
    "        sn_appliance_transit_b.id\n",
    "    ],\n",
    "    Options={\n",
    "        'ApplianceModeSupport': 'enable',\n",
    "        'DnsSupport': 'enable',\n",
    "        'Ipv6Support': 'disable'\n",
    "    }\n",
    ")"
   ]
  },
  {
   "cell_type": "code",
   "execution_count": 27,
   "metadata": {},
   "outputs": [],
   "source": [
    "# Tag Transit Gateway Attachment VPC 3\n",
    "ec2_client.create_tags(\n",
    "    Resources=[\n",
    "        transit_gateway_attachment_applic['TransitGatewayVpcAttachment']['TransitGatewayAttachmentId'],\n",
    "    ],\n",
    "    Tags=[\n",
    "        {\n",
    "            'Key': 'Name',\n",
    "            'Value': 'Applicance VPC Association'\n",
    "        },\n",
    "    ]\n",
    ");"
   ]
  },
  {
   "cell_type": "code",
   "execution_count": 28,
   "metadata": {},
   "outputs": [],
   "source": [
    "# Create Transit Gateway Route Table: Egress\n",
    "egress_tg_rt = ec2_client.create_transit_gateway_route_table(\n",
    "    TransitGatewayId=transit_gateway['TransitGateway']['TransitGatewayId']\n",
    ")\n",
    "# Tag the Transit Gateway Route Table\n",
    "ec2_client.create_tags(\n",
    "    Resources=[\n",
    "        egress_tg_rt['TransitGatewayRouteTable']['TransitGatewayRouteTableId']\n",
    "    ],\n",
    "    Tags=[\n",
    "        {\n",
    "            'Key': 'Name',\n",
    "            'Value': 'Egress Route Table'\n",
    "        },\n",
    "    ]\n",
    ");"
   ]
  },
  {
   "cell_type": "code",
   "execution_count": 29,
   "metadata": {},
   "outputs": [],
   "source": [
    "# Create Transit Gateway Route Table: Transit\n",
    "transit_tg_rt = ec2_client.create_transit_gateway_route_table(\n",
    "    TransitGatewayId=transit_gateway['TransitGateway']['TransitGatewayId']\n",
    ")\n",
    "# Tag the Transit Gateway Route Table\n",
    "ec2_client.create_tags(\n",
    "    Resources=[\n",
    "        transit_tg_rt['TransitGatewayRouteTable']['TransitGatewayRouteTableId']\n",
    "    ],\n",
    "    Tags=[\n",
    "        {\n",
    "            'Key': 'Name',\n",
    "            'Value': 'Transit Route Table'\n",
    "        },\n",
    "    ]\n",
    ");"
   ]
  },
  {
   "cell_type": "code",
   "execution_count": 32,
   "metadata": {},
   "outputs": [
    {
     "name": "stdout",
     "output_type": "stream",
     "text": [
      "Creating Transit Gateway Route Tables...\n"
     ]
    }
   ],
   "source": [
    "print(\"Creating Transit Gateway Route Tables...\")\n",
    "time.sleep(30)"
   ]
  },
  {
   "cell_type": "code",
   "execution_count": 33,
   "metadata": {},
   "outputs": [],
   "source": [
    "# Associate Route Table: Egress with VPC 3\n",
    "ec2_client.associate_transit_gateway_route_table(\n",
    "    TransitGatewayRouteTableId=egress_tg_rt['TransitGatewayRouteTable']['TransitGatewayRouteTableId'],\n",
    "    TransitGatewayAttachmentId=transit_gateway_attachment_applic['TransitGatewayVpcAttachment']['TransitGatewayAttachmentId']\n",
    ");"
   ]
  },
  {
   "cell_type": "code",
   "execution_count": 34,
   "metadata": {},
   "outputs": [],
   "source": [
    "# Associate Route Table: Transit with VPC 1\n",
    "ec2_client.associate_transit_gateway_route_table(\n",
    "    TransitGatewayRouteTableId=transit_tg_rt['TransitGatewayRouteTable']['TransitGatewayRouteTableId'],\n",
    "    TransitGatewayAttachmentId=transit_gateway_attachment_spoke1['TransitGatewayVpcAttachment']['TransitGatewayAttachmentId']\n",
    ");"
   ]
  },
  {
   "cell_type": "code",
   "execution_count": 35,
   "metadata": {},
   "outputs": [],
   "source": [
    "# Associate Route Table: Transit with VPC 2\n",
    "ec2_client.associate_transit_gateway_route_table(\n",
    "    TransitGatewayRouteTableId=transit_tg_rt['TransitGatewayRouteTable']['TransitGatewayRouteTableId'],\n",
    "    TransitGatewayAttachmentId=transit_gateway_attachment_spoke2['TransitGatewayVpcAttachment']['TransitGatewayAttachmentId']\n",
    ");"
   ]
  },
  {
   "cell_type": "code",
   "execution_count": 37,
   "metadata": {},
   "outputs": [
    {
     "data": {
      "text/plain": [
       "ec2.Route(route_table_id='rtb-0d11768faf25cba5a', destination_cidr_block='0.0.0.0/0')"
      ]
     },
     "execution_count": 37,
     "metadata": {},
     "output_type": "execute_result"
    }
   ],
   "source": [
    "rt_spoke1_server_a.create_route(\n",
    "    DestinationCidrBlock='0.0.0.0/0',\n",
    "    TransitGatewayId=transit_gateway['TransitGateway']['TransitGatewayId']\n",
    ")\n",
    "rt_spoke1_server_b.create_route(\n",
    "    DestinationCidrBlock='0.0.0.0/0',\n",
    "    TransitGatewayId=transit_gateway['TransitGateway']['TransitGatewayId']\n",
    ")\n",
    "rt_spoke1_transit_a.create_route(\n",
    "    DestinationCidrBlock='0.0.0.0/0',\n",
    "    TransitGatewayId=transit_gateway['TransitGateway']['TransitGatewayId']\n",
    ")\n",
    "rt_spoke1_transit_b.create_route(\n",
    "    DestinationCidrBlock='0.0.0.0/0',\n",
    "    TransitGatewayId=transit_gateway['TransitGateway']['TransitGatewayId']\n",
    ")"
   ]
  },
  {
   "cell_type": "code",
   "execution_count": 38,
   "metadata": {},
   "outputs": [
    {
     "data": {
      "text/plain": [
       "ec2.Route(route_table_id='rtb-07e10df00443919e8', destination_cidr_block='0.0.0.0/0')"
      ]
     },
     "execution_count": 38,
     "metadata": {},
     "output_type": "execute_result"
    }
   ],
   "source": [
    "rt_spoke2_server_a.create_route(\n",
    "    DestinationCidrBlock='0.0.0.0/0',\n",
    "    TransitGatewayId=transit_gateway['TransitGateway']['TransitGatewayId']\n",
    ")\n",
    "rt_spoke2_server_b.create_route(\n",
    "    DestinationCidrBlock='0.0.0.0/0',\n",
    "    TransitGatewayId=transit_gateway['TransitGateway']['TransitGatewayId']\n",
    ")\n",
    "rt_spoke2_transit_a.create_route(\n",
    "    DestinationCidrBlock='0.0.0.0/0',\n",
    "    TransitGatewayId=transit_gateway['TransitGateway']['TransitGatewayId']\n",
    ")\n",
    "rt_spoke2_transit_b.create_route(\n",
    "    DestinationCidrBlock='0.0.0.0/0',\n",
    "    TransitGatewayId=transit_gateway['TransitGateway']['TransitGatewayId']\n",
    ")"
   ]
  },
  {
   "cell_type": "code",
   "execution_count": 39,
   "metadata": {},
   "outputs": [
    {
     "data": {
      "text/plain": [
       "ec2.Route(route_table_id='rtb-0f09ce72fd810352b', destination_cidr_block='0.0.0.0/0')"
      ]
     },
     "execution_count": 39,
     "metadata": {},
     "output_type": "execute_result"
    }
   ],
   "source": [
    "rt_appliance_transit_a.create_route(\n",
    "    DestinationCidrBlock='0.0.0.0/0',\n",
    "    TransitGatewayId=transit_gateway['TransitGateway']['TransitGatewayId']\n",
    ")\n",
    "rt_appliance_transit_b.create_route(\n",
    "    DestinationCidrBlock='0.0.0.0/0',\n",
    "    TransitGatewayId=transit_gateway['TransitGateway']['TransitGatewayId']\n",
    ")"
   ]
  },
  {
   "cell_type": "code",
   "execution_count": 43,
   "metadata": {},
   "outputs": [
    {
     "name": "stdout",
     "output_type": "stream",
     "text": [
      "En la terminal ejecute el siguiente comando:\n",
      "    python create_ec2_ssm.py --vpc vpc-0c2b46ce58febf19f --subnet subnet-01fdedac7f46223ef --tag SSM-Instance-Spoke1\n"
     ]
    }
   ],
   "source": [
    "print(\"En la terminal ejecute el siguiente comando:\")\n",
    "print(\"    python create_ec2_ssm.py --vpc {} --subnet {} --tag SSM-Instance-Spoke1\".format(vpc_spoke1.id, sn_spoke1_server_a.id))"
   ]
  },
  {
   "cell_type": "code",
   "execution_count": 41,
   "metadata": {},
   "outputs": [
    {
     "data": {
      "text/plain": [
       "'vpc-0c2b46ce58febf19f'"
      ]
     },
     "execution_count": 41,
     "metadata": {},
     "output_type": "execute_result"
    }
   ],
   "source": []
  }
 ],
 "metadata": {
  "kernelspec": {
   "display_name": "Python 3.9.12 ('base')",
   "language": "python",
   "name": "python3"
  },
  "language_info": {
   "codemirror_mode": {
    "name": "ipython",
    "version": 3
   },
   "file_extension": ".py",
   "mimetype": "text/x-python",
   "name": "python",
   "nbconvert_exporter": "python",
   "pygments_lexer": "ipython3",
   "version": "3.9.12"
  },
  "orig_nbformat": 4,
  "vscode": {
   "interpreter": {
    "hash": "c9cdd2fa3b32da9704bd8048bdba085d67219855a318f4adc7f095bb5cfa603b"
   }
  }
 },
 "nbformat": 4,
 "nbformat_minor": 2
}
