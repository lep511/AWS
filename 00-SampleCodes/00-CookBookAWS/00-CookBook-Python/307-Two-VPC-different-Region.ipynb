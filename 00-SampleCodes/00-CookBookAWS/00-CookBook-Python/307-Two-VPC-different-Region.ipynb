{
 "cells": [
  {
   "cell_type": "code",
   "execution_count": 21,
   "metadata": {},
   "outputs": [],
   "source": [
    "import boto3\n",
    "import json\n",
    "\n",
    "aws_backup = boto3.client('backup')\n",
    "\n",
    "region_1 = 'us-east-1'\n",
    "ec2_r1 = boto3.resource('ec2', region_name=region_1)\n",
    "ec2_client_r1 = boto3.client('ec2', region_name=region_1)\n",
    "\n",
    "region_2 = 'us-west-2'\n",
    "ec2_r2 = boto3.resource('ec2', region_name=region_2)\n",
    "ec2_client_r2 = boto3.client('ec2', region_name=region_2)"
   ]
  },
  {
   "cell_type": "markdown",
   "metadata": {},
   "source": [
    "#### Crear una VPC privada en la región 1 (us-east-1)"
   ]
  },
  {
   "cell_type": "code",
   "execution_count": 2,
   "metadata": {},
   "outputs": [],
   "source": [
    "vpc_r1 = ec2_r1.create_vpc(CidrBlock='10.10.0.0/16')"
   ]
  },
  {
   "cell_type": "code",
   "execution_count": 16,
   "metadata": {},
   "outputs": [
    {
     "data": {
      "text/plain": [
       "[ec2.Tag(resource_id='vpc-0d00128544fc208d8', key='Name', value='AWSCookBookVPC - Region 1')]"
      ]
     },
     "execution_count": 16,
     "metadata": {},
     "output_type": "execute_result"
    }
   ],
   "source": [
    "# Tag the VPC\n",
    "vpc_r1.create_tags(Tags=[{\"Key\": \"Name\", \"Value\": \"AWSCookBookVPC - Region 1\"}])"
   ]
  },
  {
   "cell_type": "code",
   "execution_count": 4,
   "metadata": {},
   "outputs": [],
   "source": [
    "# Crear 2 subredes para la VPC\n",
    "vpc_subnet_private1_r1 = ec2_r1.create_subnet(\n",
    "    CidrBlock='10.10.1.0/24',\n",
    "    VpcId=vpc_r1.id,\n",
    "    AvailabilityZone=region_1+'a'\n",
    ")\n",
    "vpc_subnet_private2_r1 = ec2_r1.create_subnet(\n",
    "    CidrBlock='10.10.2.0/24', \n",
    "    VpcId=vpc_r1.id,\n",
    "    AvailabilityZone=region_1+'b'\n",
    ")"
   ]
  },
  {
   "cell_type": "code",
   "execution_count": 6,
   "metadata": {},
   "outputs": [
    {
     "data": {
      "text/plain": [
       "[ec2.Tag(resource_id='subnet-084997a7b39efb93e', key='Name', value='AWSCookBookVPC-Private-2')]"
      ]
     },
     "execution_count": 6,
     "metadata": {},
     "output_type": "execute_result"
    }
   ],
   "source": [
    "# Create tags\n",
    "vpc_subnet_private1_r1.create_tags(Tags=[{\"Key\": \"Name\", \"Value\": \"AWSCookBookVPC-Private-1\"}])\n",
    "vpc_subnet_private2_r1.create_tags(Tags=[{\"Key\": \"Name\", \"Value\": \"AWSCookBookVPC-Private-2\"}])"
   ]
  },
  {
   "cell_type": "code",
   "execution_count": 8,
   "metadata": {},
   "outputs": [
    {
     "data": {
      "text/plain": [
       "[ec2.Tag(resource_id='rtb-0fa46e2127c379bae', key='Name', value='AWSCookBookVPC-Private-Route-Table-b')]"
      ]
     },
     "execution_count": 8,
     "metadata": {},
     "output_type": "execute_result"
    }
   ],
   "source": [
    "# Crear routables para la VPC\n",
    "vpc_route_table_private_1_r1 = ec2_r1.create_route_table(VpcId=vpc_r1.id)\n",
    "vpc_route_table_private_1_r1.create_tags(Tags=[{\"Key\": \"Name\", \"Value\": \"AWSCookBookVPC-Private-Route-Table-a\"}])\n",
    "vpc_route_table_private_2_r1 = ec2_r1.create_route_table(VpcId=vpc_r1.id)\n",
    "vpc_route_table_private_2_r1.create_tags(Tags=[{\"Key\": \"Name\", \"Value\": \"AWSCookBookVPC-Private-Route-Table-b\"}])"
   ]
  },
  {
   "cell_type": "code",
   "execution_count": 9,
   "metadata": {},
   "outputs": [
    {
     "data": {
      "text/plain": [
       "ec2.RouteTableAssociation(id='rtbassoc-0873f013d6d2085ed')"
      ]
     },
     "execution_count": 9,
     "metadata": {},
     "output_type": "execute_result"
    }
   ],
   "source": [
    "# Asoociar la tabla de rutas a la subred privada de VPC1\n",
    "vpc_route_table_private_1_r1.associate_with_subnet(SubnetId=vpc_subnet_private1_r1.id)\n",
    "vpc_route_table_private_2_r1.associate_with_subnet(SubnetId=vpc_subnet_private2_r1.id)"
   ]
  },
  {
   "cell_type": "markdown",
   "metadata": {},
   "source": [
    "#### Crear una VPC privada en la región 2 (us-west-2)"
   ]
  },
  {
   "cell_type": "code",
   "execution_count": 12,
   "metadata": {},
   "outputs": [],
   "source": [
    "vpc_r2 = ec2_r2.create_vpc(CidrBlock='10.12.0.0/16')"
   ]
  },
  {
   "cell_type": "code",
   "execution_count": 17,
   "metadata": {},
   "outputs": [
    {
     "data": {
      "text/plain": [
       "[ec2.Tag(resource_id='vpc-09e189c6b468ea3fe', key='Name', value='AWSCookBookVPC - Region 2')]"
      ]
     },
     "execution_count": 17,
     "metadata": {},
     "output_type": "execute_result"
    }
   ],
   "source": [
    "# Tag the VPC\n",
    "vpc_r2.create_tags(Tags=[{\"Key\": \"Name\", \"Value\": \"AWSCookBookVPC - Region 2\"}])"
   ]
  },
  {
   "cell_type": "code",
   "execution_count": 15,
   "metadata": {},
   "outputs": [
    {
     "data": {
      "text/plain": [
       "ec2.RouteTableAssociation(id='rtbassoc-0613a758f473fb985')"
      ]
     },
     "execution_count": 15,
     "metadata": {},
     "output_type": "execute_result"
    }
   ],
   "source": [
    "# Crear 2 subredes para la VPC\n",
    "vpc_subnet_private1_r2 = ec2_r2.create_subnet(\n",
    "    CidrBlock='10.12.1.0/24',\n",
    "    VpcId=vpc_r2.id,\n",
    "    AvailabilityZone=region_2+'a'\n",
    ")\n",
    "vpc_subnet_private2_r2 = ec2_r2.create_subnet(\n",
    "    CidrBlock='10.12.2.0/24', \n",
    "    VpcId=vpc_r2.id,\n",
    "    AvailabilityZone=region_2+'b'\n",
    ")\n",
    "\n",
    "# Create tags\n",
    "vpc_subnet_private1_r2.create_tags(Tags=[{\"Key\": \"Name\", \"Value\": \"AWSCookBookVPC-Private-1\"}])\n",
    "vpc_subnet_private2_r2.create_tags(Tags=[{\"Key\": \"Name\", \"Value\": \"AWSCookBookVPC-Private-2\"}])\n",
    "\n",
    "# Crear routables para la VPC\n",
    "vpc_route_table_private_1_r2 = ec2_r2.create_route_table(VpcId=vpc_r2.id)\n",
    "vpc_route_table_private_1_r2.create_tags(Tags=[{\"Key\": \"Name\", \"Value\": \"AWSCookBookVPC-Private-Route-Table-a\"}])\n",
    "vpc_route_table_private_2_r2 = ec2_r2.create_route_table(VpcId=vpc_r2.id)\n",
    "vpc_route_table_private_2_r2.create_tags(Tags=[{\"Key\": \"Name\", \"Value\": \"AWSCookBookVPC-Private-Route-Table-b\"}])\n",
    "\n",
    "# Asoociar la tabla de rutas a la subred privada de VPC1\n",
    "vpc_route_table_private_1_r2.associate_with_subnet(SubnetId=vpc_subnet_private1_r2.id)\n",
    "vpc_route_table_private_2_r2.associate_with_subnet(SubnetId=vpc_subnet_private2_r2.id)"
   ]
  },
  {
   "cell_type": "markdown",
   "metadata": {},
   "source": [
    "#### Crear una instancia de EC2 en la VPC de la región 1"
   ]
  },
  {
   "cell_type": "code",
   "execution_count": 20,
   "metadata": {},
   "outputs": [
    {
     "name": "stdout",
     "output_type": "stream",
     "text": [
      "En la terminal ejecute el siguiente comando:\n",
      "    python create_ec2_ssm.py --vpc vpc-0d00128544fc208d8 --tag SSM-Instance-Region1\n"
     ]
    }
   ],
   "source": [
    "print(\"En la terminal ejecute el siguiente comando:\")\n",
    "print(\"    python create_ec2_ssm.py --vpc {} --tag SSM-Instance-Region1\".format(vpc_r1.id))"
   ]
  },
  {
   "cell_type": "code",
   "execution_count": 22,
   "metadata": {},
   "outputs": [],
   "source": [
    "# Cambie el id de la instancia con el que acaba de crear\n",
    "account_id = boto3.client('sts').get_caller_identity().get('Account')\n",
    "instance_id = 'i-0423abb2c223f061c'"
   ]
  }
 ],
 "metadata": {
  "kernelspec": {
   "display_name": "Python 3.9.12 ('base')",
   "language": "python",
   "name": "python3"
  },
  "language_info": {
   "codemirror_mode": {
    "name": "ipython",
    "version": 3
   },
   "file_extension": ".py",
   "mimetype": "text/x-python",
   "name": "python",
   "nbconvert_exporter": "python",
   "pygments_lexer": "ipython3",
   "version": "3.9.12"
  },
  "orig_nbformat": 4,
  "vscode": {
   "interpreter": {
    "hash": "c9cdd2fa3b32da9704bd8048bdba085d67219855a318f4adc7f095bb5cfa603b"
   }
  }
 },
 "nbformat": 4,
 "nbformat_minor": 2
}
