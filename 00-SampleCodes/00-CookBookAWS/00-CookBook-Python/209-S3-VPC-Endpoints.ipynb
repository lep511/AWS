{
 "cells": [
  {
   "cell_type": "markdown",
   "metadata": {},
   "source": [
    "### Controlar el acceso de red a S3 desde su VPC utilizando puntos finales de VPC\n",
    "\n",
    "#### Problema\n",
    "Los recursos dentro de su VPC deben ser capaces de acceder sólo a un cubo S3 específico. Además, este tráfico de S3 no debe atravesar Internet por razones de seguridad y para mantener bajos los costes de ancho de banda.\n",
    "\n",
    "#### Solución\n",
    "Creará un punto final de la VPC de gateway para S3, lo asociará con una tabla de rutas y personalizará su documento de políticas.\n",
    "\n",
    "<img src=\"https://learning.oreilly.com/api/v2/epubs/urn:orm:book:9781492092599/files/assets/awsc_0213.png\" width=\"500\">"
   ]
  },
  {
   "cell_type": "code",
   "execution_count": 1,
   "metadata": {},
   "outputs": [],
   "source": [
    "import boto3\n",
    "import json\n",
    "import time\n",
    "\n",
    "region_aws = 'us-east-1'\n",
    "\n",
    "ec2 = boto3.resource('ec2', region_name=region_aws)\n",
    "ec2_client = boto3.client('ec2', region_name=region_aws)"
   ]
  },
  {
   "cell_type": "code",
   "execution_count": 2,
   "metadata": {},
   "outputs": [],
   "source": [
    "# create VPC\n",
    "vpc = ec2.create_vpc(CidrBlock='174.17.0.0/16')\n",
    "vpc.create_tags(Tags=[{\"Key\": \"Name\", \"Value\": \"AWSCookBookVPC\"}])\n",
    "vpc.wait_until_available()"
   ]
  },
  {
   "cell_type": "code",
   "execution_count": 3,
   "metadata": {},
   "outputs": [
    {
     "data": {
      "text/plain": [
       "[ec2.Tag(resource_id='rtb-06dec9332ddedc283', key='Name', value='AWSCookbookVPC-RT-2')]"
      ]
     },
     "execution_count": 3,
     "metadata": {},
     "output_type": "execute_result"
    }
   ],
   "source": [
    "# Crear routable\n",
    "routetable_1 = vpc.create_route_table()\n",
    "routetable_2 = vpc.create_route_table()\n",
    "routetable_1.create_tags(Tags=[{\"Key\": \"Name\", \"Value\": \"AWSCookbookVPC-RT-1\"}])\n",
    "routetable_2.create_tags(Tags=[{\"Key\": \"Name\", \"Value\": \"AWSCookbookVPC-RT-2\"}])"
   ]
  },
  {
   "cell_type": "code",
   "execution_count": 4,
   "metadata": {},
   "outputs": [
    {
     "data": {
      "text/plain": [
       "[ec2.Tag(resource_id='subnet-06a0a8ba06f52c432', key='Name', value='AWSCookbook-SN-Private-2')]"
      ]
     },
     "execution_count": 4,
     "metadata": {},
     "output_type": "execute_result"
    }
   ],
   "source": [
    "# Cree dos subredes:\n",
    "subnet_1 = ec2.create_subnet(\n",
    "    CidrBlock='174.17.0.0/24', \n",
    "    VpcId=vpc.id,\n",
    "    AvailabilityZone='us-east-1a'\n",
    ")\n",
    "\n",
    "subnet_2 = ec2.create_subnet(\n",
    "    CidrBlock='174.17.1.0/24', \n",
    "    VpcId=vpc.id,\n",
    "    AvailabilityZone='us-east-1b'\n",
    ")\n",
    "\n",
    "subnet_1.create_tags(Tags=[{\"Key\": \"Name\", \"Value\": \"AWSCookbook-SN-Private-1\"}])\n",
    "subnet_2.create_tags(Tags=[{\"Key\": \"Name\", \"Value\": \"AWSCookbook-SN-Private-2\"}])"
   ]
  },
  {
   "cell_type": "code",
   "execution_count": 5,
   "metadata": {},
   "outputs": [
    {
     "data": {
      "text/plain": [
       "ec2.RouteTableAssociation(id='rtbassoc-0a9b4b4ac2346dcf7')"
      ]
     },
     "execution_count": 5,
     "metadata": {},
     "output_type": "execute_result"
    }
   ],
   "source": [
    "# Asociar las tablas de rutas con las subred:\n",
    "routetable_1.associate_with_subnet(SubnetId = subnet_1.id)\n",
    "routetable_2.associate_with_subnet(SubnetId = subnet_2.id)"
   ]
  },
  {
   "cell_type": "code",
   "execution_count": 6,
   "metadata": {},
   "outputs": [],
   "source": [
    "import random\n",
    "# generate random number\n",
    "random_number_1 = random.randint(100, 10000)\n",
    "random_number_2 = random.randint(100, 1000)"
   ]
  },
  {
   "cell_type": "code",
   "execution_count": 7,
   "metadata": {},
   "outputs": [
    {
     "name": "stdout",
     "output_type": "stream",
     "text": [
      "Bucket created: awscookbookbucket-6523-197 \n"
     ]
    }
   ],
   "source": [
    "# Crear un bucket de S3\n",
    "s3 = boto3.resource('s3')\n",
    "s3_name = 'awscookbookbucket-' + str(random_number_1) + '-' + str(random_number_2)\n",
    "\n",
    "try:\n",
    "    bucket = s3.create_bucket(\n",
    "        Bucket=s3_name,\n",
    "    )\n",
    "except Exception as e:\n",
    "    print(e)\n",
    "else:\n",
    "    print('Bucket created: {} '.format(bucket.name))"
   ]
  },
  {
   "cell_type": "code",
   "execution_count": 8,
   "metadata": {},
   "outputs": [
    {
     "name": "stdout",
     "output_type": "stream",
     "text": [
      "Crear una instancia EC2 con permisos SSM\n",
      "En la terminal ejecute:\n",
      "    python create_ec2_ssm.py --vpc vpc-0736f29a836ec7e55\n"
     ]
    }
   ],
   "source": [
    "print(\"Crear una instancia EC2 con permisos SSM\")\n",
    "print(\"En la terminal ejecute:\")\n",
    "print(\"    python create_ec2_ssm.py --vpc {}\".format(vpc.id))"
   ]
  },
  {
   "cell_type": "markdown",
   "metadata": {},
   "source": [
    "Cree un gateway-endpoint en su VPC y asocie el endpoint con las tablas de rutas aisladas:\n"
   ]
  },
  {
   "cell_type": "code",
   "execution_count": 9,
   "metadata": {},
   "outputs": [],
   "source": [
    "gateway_endpoint = ec2_client.create_vpc_endpoint(\n",
    "    VpcId=vpc.id,\n",
    "    ServiceName='com.amazonaws.{}.s3'.format(region_aws),\n",
    "    VpcEndpointType='Gateway',\n",
    "    RouteTableIds=[\n",
    "        routetable_1.id,\n",
    "        routetable_2.id\n",
    "    ]\n",
    ")\n"
   ]
  },
  {
   "cell_type": "markdown",
   "metadata": {},
   "source": [
    "Cree un archivo de política de punto final de plantilla llamado policy.json con el siguiente contenido. Esto se utiliza para limitar el acceso sólo al bucket de S3 que creó en los pasos de preparación:"
   ]
  },
  {
   "cell_type": "code",
   "execution_count": 10,
   "metadata": {},
   "outputs": [],
   "source": [
    "policy_endpoint = {\n",
    "  \"Statement\": [\n",
    "    {\n",
    "      \"Sid\": \"RestrictToOneBucket\",\n",
    "      \"Principal\": \"*\",\n",
    "      \"Action\": [\n",
    "        \"s3:GetObject\",\n",
    "        \"s3:PutObject\"\n",
    "      ],\n",
    "      \"Effect\": \"Allow\",\n",
    "      \"Resource\": [\"arn:aws:s3:::\" + s3_name + \"/\",\n",
    "                   \"arn:aws:s3:::\" + s3_name + \"/*\"]\n",
    "    }\n",
    "  ]\n",
    "}"
   ]
  },
  {
   "cell_type": "markdown",
   "metadata": {},
   "source": [
    "Modificar el documento de políticas del endpoint. Las políticas del endpoint limitan o restringen los recursos a los que se puede acceder a través del endpoint de la VPC:"
   ]
  },
  {
   "cell_type": "code",
   "execution_count": 11,
   "metadata": {},
   "outputs": [
    {
     "data": {
      "text/plain": [
       "{'Return': True,\n",
       " 'ResponseMetadata': {'RequestId': 'e9349ff2-d74b-4c2a-a2d3-d2974de79303',\n",
       "  'HTTPStatusCode': 200,\n",
       "  'HTTPHeaders': {'x-amzn-requestid': 'e9349ff2-d74b-4c2a-a2d3-d2974de79303',\n",
       "   'cache-control': 'no-cache, no-store',\n",
       "   'strict-transport-security': 'max-age=31536000; includeSubDomains',\n",
       "   'vary': 'accept-encoding',\n",
       "   'content-type': 'text/xml;charset=UTF-8',\n",
       "   'transfer-encoding': 'chunked',\n",
       "   'date': 'Mon, 10 Oct 2022 21:54:21 GMT',\n",
       "   'server': 'AmazonEC2'},\n",
       "  'RetryAttempts': 0}}"
      ]
     },
     "execution_count": 11,
     "metadata": {},
     "output_type": "execute_result"
    }
   ],
   "source": [
    "ec2_client.modify_vpc_endpoint(\n",
    "    VpcEndpointId=gateway_endpoint['VpcEndpoint']['VpcEndpointId'],\n",
    "    PolicyDocument=json.dumps(policy_endpoint)\n",
    ")"
   ]
  },
  {
   "cell_type": "markdown",
   "metadata": {},
   "source": [
    "#### Comprobaciones de validación\n",
    "\n",
    "Imprime el nombre de tu S3 Bucket para que puedas referirte a él cuando estés conectado a tu Instancia EC2:"
   ]
  },
  {
   "cell_type": "code",
   "execution_count": 33,
   "metadata": {},
   "outputs": [],
   "source": [
    "# Subir un archivo de prueba al bucket de S3\n",
    "bucket.upload_file('ip-ranges.json', 'test_file')"
   ]
  },
  {
   "cell_type": "code",
   "execution_count": 12,
   "metadata": {},
   "outputs": [
    {
     "name": "stdout",
     "output_type": "stream",
     "text": [
      "awscookbookbucket-6523-197\n"
     ]
    }
   ],
   "source": [
    "print(s3_name)"
   ]
  },
  {
   "cell_type": "markdown",
   "metadata": {},
   "source": [
    "Conéctese a la instancia EC2 mediante el gestor de sesiones SSM "
   ]
  },
  {
   "cell_type": "code",
   "execution_count": 37,
   "metadata": {},
   "outputs": [
    {
     "name": "stdout",
     "output_type": "stream",
     "text": [
      "En la terminal ejecute:\n",
      "    python create_ec2_ssm.py --last\n"
     ]
    }
   ],
   "source": [
    "print(\"En la terminal ejecute:\")\n",
    "print(\"    python create_ec2_ssm.py --last\")"
   ]
  },
  {
   "cell_type": "markdown",
   "metadata": {},
   "source": [
    "A la instancia SSM otórguele permisos para acceder al bucket s3 "
   ]
  },
  {
   "cell_type": "markdown",
   "metadata": {},
   "source": [
    "En la instancia ejecute:"
   ]
  },
  {
   "cell_type": "code",
   "execution_count": null,
   "metadata": {
    "vscode": {
     "languageId": "shellscript"
    }
   },
   "outputs": [],
   "source": [
    "export AWS_DEFAULT_REGION=$(curl \\\n",
    "--silent http://169.254.169.254/latest/dynamic/instance-identity/document \\\n",
    "| awk -F'\"' ' /region/ {print $4}')"
   ]
  },
  {
   "cell_type": "code",
   "execution_count": null,
   "metadata": {
    "vscode": {
     "languageId": "shellscript"
    }
   },
   "outputs": [],
   "source": [
    "BUCKET_NAME=\"<BUCKET_NAME>\""
   ]
  },
  {
   "cell_type": "markdown",
   "metadata": {},
   "source": [
    "El comando a continuación debería ejecutarse correctamente si la instancia tiene los roles correctos para acceder a S3:"
   ]
  },
  {
   "cell_type": "code",
   "execution_count": null,
   "metadata": {
    "vscode": {
     "languageId": "shellscript"
    }
   },
   "outputs": [],
   "source": [
    "aws s3 cp s3://${BUCKET_NAME}/test_file /home/ssm-user/"
   ]
  },
  {
   "cell_type": "markdown",
   "metadata": {},
   "source": [
    "El siguiente comando está intentando listar un bucket S3 público. Sin embargo, debido a la política de punto final que hemos configurado, se espera que esto falle:"
   ]
  },
  {
   "cell_type": "code",
   "execution_count": null,
   "metadata": {
    "vscode": {
     "languageId": "shellscript"
    }
   },
   "outputs": [],
   "source": [
    "aws s3 ls s3://osm-pds/"
   ]
  },
  {
   "cell_type": "markdown",
   "metadata": {},
   "source": [
    "#### Discusión\n",
    "El uso de una política de punto final es una implementación de seguridad útil para restringir el acceso a los cubos de S3. Esto se aplica no sólo a los cubos de S3 propiedad de su cuenta, sino también a todos los cubos de S3 a nivel global en AWS.\n",
    "\n",
    "**TIP**\n",
    "Recientemente, AWS ha anunciado la compatibilidad con los puntos finales de la interfaz de S3. Sin embargo, vale la pena señalar que si bien estos son grandes para algunos casos de uso (por ejemplo, cuando se desea controlar el tráfico con los grupos de seguridad), no son ideales para este problema debido a los costos asociados con los puntos finales de la interfaz.\n",
    "\n",
    "Según la Guía del usuario de la VPC, los puntos finales de la VPC de gateway son gratuitos y se utilizan dentro de las tablas de rutas de su VPC para mantener el tráfico destinado a los servicios de AWS dentro de la red troncal de AWS sin atravesar la red. Esto le permite crear VPCs que no necesitan gateways de Internet para aplicaciones que no los requieren pero que necesitan acceso a otros servicios de AWS como S3 y DynamoDB. Todo el tráfico destinado a estos servicios será dirigido por la tabla de rutas al punto final de la VPC en lugar de la ruta pública de Internet, ya que la entrada de la tabla de rutas del punto final de la VPC es más específica que la ruta predeterminada 0.0.0.0/0.\n",
    "\n",
    "Las políticas del punto final de la VPC S3 aprovechan los documentos de política JSON que pueden ser tan detallados como sus necesidades lo requieran. Puede utilizar condicionales, direcciones IP de origen, ID de puntos finales de VPC, nombres de cubos de S3, etc. Para obtener más información sobre los elementos de política disponibles, consulte el documento de soporte.\n",
    "\n",
    "\n"
   ]
  }
 ],
 "metadata": {
  "kernelspec": {
   "display_name": "Python 3.9.12 ('base')",
   "language": "python",
   "name": "python3"
  },
  "language_info": {
   "codemirror_mode": {
    "name": "ipython",
    "version": 3
   },
   "file_extension": ".py",
   "mimetype": "text/x-python",
   "name": "python",
   "nbconvert_exporter": "python",
   "pygments_lexer": "ipython3",
   "version": "3.9.12"
  },
  "orig_nbformat": 4,
  "vscode": {
   "interpreter": {
    "hash": "c9cdd2fa3b32da9704bd8048bdba085d67219855a318f4adc7f095bb5cfa603b"
   }
  }
 },
 "nbformat": 4,
 "nbformat_minor": 2
}
