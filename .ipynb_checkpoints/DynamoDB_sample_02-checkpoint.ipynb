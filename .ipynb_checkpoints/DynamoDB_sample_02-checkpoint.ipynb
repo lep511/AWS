{
 "cells": [
  {
   "cell_type": "markdown",
   "id": "72a98fdd-7f1d-45ce-a69a-e8449381d2bd",
   "metadata": {},
   "source": [
    "# Modelling a product catalog in DynamoDB\n",
    "\n",
    "### [Link](https://aws-blog.de/2021/03/modelling-a-product-catalog-in-dynamodb.html)"
   ]
  },
  {
   "cell_type": "code",
   "execution_count": 9,
   "id": "f50fa9d0-04a1-4da2-bb0b-20e82210ed73",
   "metadata": {},
   "outputs": [],
   "source": [
    "import typing\n",
    "import boto3\n",
    "import boto3.dynamodb.conditions as conditions"
   ]
  },
  {
   "cell_type": "code",
   "execution_count": null,
   "id": "c76e0cd8-3e38-4a51-86d0-28b55fdc9571",
   "metadata": {},
   "outputs": [],
   "source": []
  },
  {
   "cell_type": "code",
   "execution_count": 13,
   "id": "0c09b3cd-86e0-4266-bc7f-ed2fabc2d6f7",
   "metadata": {},
   "outputs": [
    {
     "data": {
      "text/plain": [
       "[{'IMX': Decimal('66'),\n",
       "  'last_name': 'Doe',\n",
       "  'first_name': 'Mak',\n",
       "  'username': 'janedoe',\n",
       "  'account_type': 'standard_user',\n",
       "  'age': Decimal('25')}]"
      ]
     },
     "execution_count": 13,
     "metadata": {},
     "output_type": "execute_result"
    }
   ],
   "source": [
    "def get_all_brands(table, key, eq) -> typing.List[dict]:\n",
    "    table_f = boto3.resource(\"dynamodb\").Table(table)\n",
    "    response = table_f.query(\n",
    "        KeyConditionExpression=conditions.Key(key).eq(eq)\n",
    "    )\n",
    "    return response[\"Items\"]\n",
    "\n",
    "get_all_brands(\"users\", \"username\", \"janedoe\")"
   ]
  },
  {
   "cell_type": "code",
   "execution_count": null,
   "id": "6d640a33-08cb-4fdc-b47c-0c5e65dba94d",
   "metadata": {},
   "outputs": [],
   "source": []
  }
 ],
 "metadata": {
  "kernelspec": {
   "display_name": "default:Python",
   "language": "python",
   "name": "conda-env-default-py"
  },
  "language_info": {
   "codemirror_mode": {
    "name": "ipython",
    "version": 3
   },
   "file_extension": ".py",
   "mimetype": "text/x-python",
   "name": "python",
   "nbconvert_exporter": "python",
   "pygments_lexer": "ipython3",
   "version": "3.9.10"
  }
 },
 "nbformat": 4,
 "nbformat_minor": 5
}
