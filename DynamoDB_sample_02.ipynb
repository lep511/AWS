{
 "cells": [
  {
   "cell_type": "markdown",
   "id": "72a98fdd-7f1d-45ce-a69a-e8449381d2bd",
   "metadata": {},
   "source": [
    "# Modelling a product catalog in DynamoDB\n",
    "\n",
    "### [Link](https://aws-blog.de/2021/03/modelling-a-product-catalog-in-dynamodb.html)"
   ]
  },
  {
   "cell_type": "code",
   "execution_count": 1,
   "id": "f50fa9d0-04a1-4da2-bb0b-20e82210ed73",
   "metadata": {},
   "outputs": [],
   "source": [
    "import typing\n",
    "import boto3\n",
    "import boto3.dynamodb.conditions as conditions"
   ]
  },
  {
   "cell_type": "code",
   "execution_count": 6,
   "id": "0c09b3cd-86e0-4266-bc7f-ed2fabc2d6f7",
   "metadata": {},
   "outputs": [
    {
     "data": {
      "text/plain": [
       "[{'LanguageCode': 'en-US',\n",
       "  'Title': 'Edgar A. Poe: Mournful and Never-ending Remembrance',\n",
       "  'PageCount': Decimal('592'),\n",
       "  'AverageRating': '4.01',\n",
       "  'RatingsCount': Decimal('295'),\n",
       "  'ISBN': '978-0060923310',\n",
       "  'Authors': 'Kenneth Silverman',\n",
       "  'YearOfPublication': '2008',\n",
       "  'Publisher': 'Harper Perennial',\n",
       "  'TextReviewsCount': Decimal('34'),\n",
       "  'Id': 'A01-00005135'}]"
      ]
     },
     "execution_count": 6,
     "metadata": {},
     "output_type": "execute_result"
    }
   ],
   "source": [
    "def get_all_brands(table, key, eq) -> typing.List[dict]:\n",
    "    table_f = boto3.resource(\"dynamodb\").Table(table)\n",
    "    response = table_f.query(\n",
    "        KeyConditionExpression=conditions.Key(key).eq(eq)\n",
    "    )\n",
    "    return response[\"Items\"]\n",
    "\n",
    "get_all_brands(\"ProductCatalog\", \"Id\", \"A01-00005135\")"
   ]
  },
  {
   "cell_type": "code",
   "execution_count": 15,
   "id": "6d640a33-08cb-4fdc-b47c-0c5e65dba94d",
   "metadata": {},
   "outputs": [
    {
     "data": {
      "text/plain": [
       "5663"
      ]
     },
     "execution_count": 15,
     "metadata": {},
     "output_type": "execute_result"
    }
   ],
   "source": [
    "def count_items(table):\n",
    "    \"Count items for a table\"\n",
    "    try:\n",
    "        dynamodb = boto3.resource('dynamodb')\n",
    "        table = dynamodb.Table(table)\n",
    "        return table.item_count\n",
    "    except:\n",
    "        return 0\n",
    "\n",
    "list_items(\"ProductCatalog\")"
   ]
  },
  {
   "cell_type": "code",
   "execution_count": 11,
   "id": "7d809795-ee14-4dee-9ea6-b79fd1b64fc1",
   "metadata": {},
   "outputs": [],
   "source": [
    "dynamodb = boto3.resource('dynamodb')\n",
    "table = dynamodb.Table(\"ProductCatalog\")"
   ]
  },
  {
   "cell_type": "code",
   "execution_count": 13,
   "id": "a3ea6100-eeca-4bf3-acee-cef5344e4110",
   "metadata": {},
   "outputs": [
    {
     "data": {
      "text/plain": [
       "5663"
      ]
     },
     "execution_count": 13,
     "metadata": {},
     "output_type": "execute_result"
    }
   ],
   "source": [
    "table.item_count"
   ]
  }
 ],
 "metadata": {
  "kernelspec": {
   "display_name": "default:Python",
   "language": "python",
   "name": "conda-env-default-py"
  },
  "language_info": {
   "codemirror_mode": {
    "name": "ipython",
    "version": 3
   },
   "file_extension": ".py",
   "mimetype": "text/x-python",
   "name": "python",
   "nbconvert_exporter": "python",
   "pygments_lexer": "ipython3",
   "version": "3.9.10"
  }
 },
 "nbformat": 4,
 "nbformat_minor": 5
}
