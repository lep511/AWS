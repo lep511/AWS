{
 "cells": [
  {
   "cell_type": "code",
   "execution_count": 1,
   "metadata": {
    "id": "BXP-idkm1nmk"
   },
   "outputs": [
    {
     "name": "stdout",
     "output_type": "stream",
     "text": [
      "\u001b[33m  WARNING: The script fastavro is installed in '/usr/local/python/3.10.13/bin' which is not on PATH.\n",
      "  Consider adding this directory to PATH or, if you prefer to suppress this warning, use --no-warn-script-location.\u001b[0m\u001b[33m\n",
      "\u001b[0m"
     ]
    }
   ],
   "source": [
    "!pip install cohere -q --upgrade"
   ]
  },
  {
   "cell_type": "code",
   "execution_count": 1,
   "metadata": {
    "id": "-t7a1xBw1rXe"
   },
   "outputs": [],
   "source": [
    "with open('apikey', 'r') as f:\n",
    "    token=f.read()"
   ]
  },
  {
   "cell_type": "code",
   "execution_count": 50,
   "metadata": {},
   "outputs": [],
   "source": [
    "import cohere\n",
    "co = cohere.Client(token)"
   ]
  },
  {
   "cell_type": "markdown",
   "metadata": {},
   "source": [
    "### Add examples"
   ]
  },
  {
   "cell_type": "code",
   "execution_count": 3,
   "metadata": {
    "id": "jfoUVq6b1rL5"
   },
   "outputs": [],
   "source": [
    "from cohere.responses.classify import Example\n",
    "\n",
    "examples=[\n",
    "  Example(\"The order came 5 days early\", \"positive\"), \n",
    "  Example(\"The item exceeded my expectations\", \"positive\"), \n",
    "  Example(\"I ordered more for my friends\", \"positive\"), \n",
    "  Example(\"I would buy this again\", \"positive\"), \n",
    "  Example(\"I would recommend this to others\", \"positive\"), \n",
    "  Example(\"The package was damaged\", \"negative\"), \n",
    "  Example(\"The order is 5 days late\", \"negative\"), \n",
    "  Example(\"The order was incorrect\", \"negative\"), \n",
    "  Example(\"I want to return my item\", \"negative\"), \n",
    "  Example(\"The item\\'s material feels low quality\", \"negative\"), \n",
    "  Example(\"The product was okay\", \"neutral\"), \n",
    "  Example(\"I received five items in total\", \"neutral\"), \n",
    "  Example(\"I bought it from the website\", \"neutral\"), \n",
    "  Example(\"I used the product this morning\", \"neutral\"), \n",
    "  Example(\"The product arrived yesterday\", \"neutral\"),\n",
    "]"
   ]
  },
  {
   "cell_type": "markdown",
   "metadata": {},
   "source": [
    "### Add inputs"
   ]
  },
  {
   "cell_type": "code",
   "execution_count": 4,
   "metadata": {
    "id": "k1h6_AVJ17Df"
   },
   "outputs": [],
   "source": [
    "inputs=[\n",
    "  \"This item was broken when it arrived\",\n",
    "  \"The product is amazing\",\n",
    "  \"The product was not too bad\",\n",
    "]"
   ]
  },
  {
   "cell_type": "markdown",
   "metadata": {},
   "source": [
    "### Get classifications"
   ]
  },
  {
   "cell_type": "code",
   "execution_count": 24,
   "metadata": {
    "colab": {
     "base_uri": "https://localhost:8080/"
    },
    "id": "-Pj0H1Mt19ZI",
    "outputId": "e090e4af-3941-4c4c-ecac-381fefd91573"
   },
   "outputs": [
    {
     "name": "stdout",
     "output_type": "stream",
     "text": [
      "['negative'] [0.98535657]\n",
      "['neutral'] [0.9019442]\n",
      "['neutral'] [0.9977495]\n"
     ]
    }
   ],
   "source": [
    "response = co.classify(\n",
    "  model='large',\n",
    "  inputs=inputs,\n",
    "  examples=examples,\n",
    ")\n",
    "\n",
    "for i in response.classifications:\n",
    "    print(i.predictions, i.confidences)"
   ]
  },
  {
   "cell_type": "markdown",
   "metadata": {
    "id": "cUdWX4Ye3qSo"
   },
   "source": [
    "## /generate\n",
    "[Link](https://docs.cohere.ai/reference/generate)"
   ]
  },
  {
   "cell_type": "code",
   "execution_count": 38,
   "metadata": {
    "id": "hj6oE2RP3XrK"
   },
   "outputs": [
    {
     "data": {
      "text/html": [
       "<table border=\"1\" class=\"dataframe\">\n",
       "  <thead>\n",
       "    <tr style=\"text-align: right;\">\n",
       "      <th></th>\n",
       "      <th>prompt</th>\n",
       "      <th>text</th>\n",
       "    </tr>\n",
       "  </thead>\n",
       "  <tbody>\n",
       "    <tr>\n",
       "      <th>0</th>\n",
       "      <td>Please explain to me how LLMs work</td>\n",
       "      <td>LLMs, or Large Language Models, are a type of neural network architecture designed to understand and generate human-like language. They are called \"large\" because they are trained on massive amounts of text data, which can range from hundreds of millions to billions of words. This extensive training enables them to capture a wide range of linguistic patterns and produce coherent and contextually relevant responses.\n",
       "\n",
       "At a high level, the training process of an LLM involves feeding vast amounts of text data into a neural network and adjusting the network's internal weights and biases based on how well it performs on a task, such as predicting the next word in a sequence or answering questions. This process is known as reinforcement learning, and it helps the model learn to make informed predictions by rewarding or penalizing its performance on the task.\n",
       "\n",
       "There are different architectures used for LLMs, but one of the common approaches is the transformer architecture, which was introduced in the paper \"Attention Is All You Need\" by Vaswani et al. in 2017. The transformer architecture relies on a mechanism called \"attention\" to weigh the importance of different input words when making predictions, allowing the model to understand the context of a word based on the words surrounding it.\n",
       "\n",
       "When an LLM is presented with a new input, such as a sentence or a prompt, it uses its learned representations and patterns from the training data to generate a response. It achieves this by propagating the input through the layers of the neural network, making predictions at each step and adjusting them based on the context provided by the attention mechanism.\n",
       "\n",
       "One of the remarkable capabilities of LLMs is their ability to continue a prompt or generate coherent text over multiple steps, a task known as conditional generation. This is made possible by the model's memory, which is often implemented as a hidden state that is updated at each step based on the current input and the previous hidden state. This allows the model to maintain context and generate relevant and coherent responses over an extended period.\n",
       "\n",
       "It's important to note that while LLMs have shown impressive capabilities in generating human-like language, they are trained models that reflect the patterns and biases present in the training data. Therefore, they may sometimes produce biased or inaccurate responses, especially when faced with unfamiliar or complex scenarios.\n",
       "\n",
       "In summary, LLMs are powerful tools that have significantly advanced the field of natural language processing. Their ability to understand and generate language based on vast amounts of training data has opened up new possibilities in various applications, including language translation, text summarization, question-answering, and more. However, it is crucial to be aware of their limitations and potential biases, and to use them responsibly and thoughtfully in real-world applications. \n",
       "\n",
       "I hope this explanation helps you understand how LLMs work and their potential applications. If you have any specific questions or would like to delve deeper into any particular aspect, please let me know!</td>\n",
       "    </tr>\n",
       "  </tbody>\n",
       "</table>"
      ],
      "text/plain": [
       "Generations([cohere.Generation {\n",
       "             \tid: aad7a1dc-8e40-40d6-91c7-87d4b8b136d2\n",
       "             \tprompt: Please explain to me how LLMs work\n",
       "             \ttext:  LLMs, or Large Language Models, are a type of neural network architecture designed to understand and generate human-like language. They are called \"large\" because they are trained on massive amounts of text data, which can range from hundreds of millions to billions of words. This extensive training enables them to capture a wide range of linguistic patterns and produce coherent and contextually relevant responses.\n",
       "             \n",
       "             At a high level, the training process of an LLM involves feeding vast amounts of text data into a neural network and adjusting the network's internal weights and biases based on how well it performs on a task, such as predicting the next word in a sequence or answering questions. This process is known as reinforcement learning, and it helps the model learn to make informed predictions by rewarding or penalizing its performance on the task.\n",
       "             \n",
       "             There are different architectures used for LLMs, but one of the common approaches is the transformer architecture, which was introduced in the paper \"Attention Is All You Need\" by Vaswani et al. in 2017. The transformer architecture relies on a mechanism called \"attention\" to weigh the importance of different input words when making predictions, allowing the model to understand the context of a word based on the words surrounding it.\n",
       "             \n",
       "             When an LLM is presented with a new input, such as a sentence or a prompt, it uses its learned representations and patterns from the training data to generate a response. It achieves this by propagating the input through the layers of the neural network, making predictions at each step and adjusting them based on the context provided by the attention mechanism.\n",
       "             \n",
       "             One of the remarkable capabilities of LLMs is their ability to continue a prompt or generate coherent text over multiple steps, a task known as conditional generation. This is made possible by the model's memory, which is often implemented as a hidden state that is updated at each step based on the current input and the previous hidden state. This allows the model to maintain context and generate relevant and coherent responses over an extended period.\n",
       "             \n",
       "             It's important to note that while LLMs have shown impressive capabilities in generating human-like language, they are trained models that reflect the patterns and biases present in the training data. Therefore, they may sometimes produce biased or inaccurate responses, especially when faced with unfamiliar or complex scenarios.\n",
       "             \n",
       "             In summary, LLMs are powerful tools that have significantly advanced the field of natural language processing. Their ability to understand and generate language based on vast amounts of training data has opened up new possibilities in various applications, including language translation, text summarization, question-answering, and more. However, it is crucial to be aware of their limitations and potential biases, and to use them responsibly and thoughtfully in real-world applications. \n",
       "             \n",
       "             I hope this explanation helps you understand how LLMs work and their potential applications. If you have any specific questions or would like to delve deeper into any particular aspect, please let me know! \n",
       "             \tlikelihood: None\n",
       "             \tfinish_reason: COMPLETE\n",
       "             \ttoken_likelihoods: None\n",
       "             }])"
      ]
     },
     "execution_count": 38,
     "metadata": {},
     "output_type": "execute_result"
    }
   ],
   "source": [
    "response = co.generate(\n",
    "  prompt='Please explain to me how LLMs work',\n",
    ")\n",
    "response"
   ]
  },
  {
   "cell_type": "markdown",
   "metadata": {},
   "source": [
    "### /chat (Beta)"
   ]
  },
  {
   "cell_type": "code",
   "execution_count": 51,
   "metadata": {},
   "outputs": [
    {
     "name": "stdout",
     "output_type": "stream",
     "text": [
      "cohere.Chat {\n",
      "\tid: ff42e01c-5095-479c-ae03-3bc6e4160a24\n",
      "\tresponse_id: ff42e01c-5095-479c-ae03-3bc6e4160a24\n",
      "\tgeneration_id: f3186d84-1116-4ad6-b845-7bbc8f084d06\n",
      "\tmessage: What year was he born?\n",
      "\ttext: Isaac Newton was born on December 25 1642 (January 4 1643 New Style), in Woolsthorpe, Lincolnshire.\n",
      "\tconversation_id: 40e5cd31-9188-43cd-88e7-3d42e116f119\n",
      "\tprompt: None\n",
      "\tchat_history: None\n",
      "\tpreamble: None\n",
      "\tclient: <cohere.client.Client object at 0x7f975478a0b0>\n",
      "\ttoken_count: {'prompt_tokens': 1376, 'response_tokens': 26, 'total_tokens': 1402, 'billed_tokens': 49}\n",
      "\tmeta: {'api_version': {'version': '1'}, 'billed_units': {'input_tokens': 23, 'output_tokens': 26}}\n",
      "\tis_search_required: None\n",
      "\tcitations: [{'start': 25, 'end': 36, 'text': 'December 25', 'document_ids': ['web-search_5:3', 'web-search_7:1', 'web-search_2:1', 'web-search_4:69']}, {'start': 37, 'end': 41, 'text': '1642', 'document_ids': ['web-search_5:3', 'web-search_7:1', 'web-search_2:1', 'web-search_4:69']}, {'start': 42, 'end': 52, 'text': '(January 4', 'document_ids': ['web-search_5:3', 'web-search_7:1', 'web-search_2:1', 'web-search_8:1', 'web-search_4:69']}, {'start': 53, 'end': 57, 'text': '1643', 'document_ids': ['web-search_5:3', 'web-search_7:1', 'web-search_2:1', 'web-search_8:1', 'web-search_4:69']}, {'start': 58, 'end': 67, 'text': 'New Style', 'document_ids': ['web-search_7:1', 'web-search_2:1', 'web-search_4:69']}, {'start': 73, 'end': 84, 'text': 'Woolsthorpe', 'document_ids': ['web-search_5:3', 'web-search_7:1', 'web-search_2:1', 'web-search_8:1']}, {'start': 86, 'end': 99, 'text': 'Lincolnshire.', 'document_ids': ['web-search_5:3', 'web-search_7:1', 'web-search_2:1']}]\n",
      "\tdocuments: [{'id': 'web-search_5:3', 'snippet': '\\n\\nIsaac Newton was born 25 December 1642 Old Style (4 January 1643 on the Gregorian calendar, which is now used) at Woolsthorpe Manor in Woolsthorpe-by-Colsterworth, a hamlet in the county of Lincolnshire. (At the time of Newton\\'s birth, England had not adopted the Gregorian calendar and therefore his date of birth was recorded as 25 December, according to the Julian calendar.)\\n\\nNewton was born two months after the death of his father, a prosperous farmer also named Isaac Newton. His father was described as a \"wealthy and uneducated man\". Born prematurely, young Isaac was a small child; his mother Hannah Ayscough reportedly said that he could have fit inside a quart mug.', 'title': 'Early life of Isaac Newton - Wikipedia', 'url': 'https://en.wikipedia.org/wiki/Early_life_of_Isaac_Newton'}, {'id': 'web-search_7:1', 'snippet': \" Three centuries later the resulting structure - classical mechanics - continues to be a useful but no less elegant monument to his genius.\\n\\n- Isaac Newton was born prematurely on Christmas day 1642 (4 January 1643, New Style) in Woolsthorpe, a hamlet near Grantham in Lincolnshire. The posthumous son of an illiterate yeoman (also named Isaac), the fatherless infant was small enough at birth to fit 'into a quartpot.' When he was barely three years old Newton's mother, Hanna (Ayscough), placed her first born with his grandmother in order to remarry and raise a second family with Barnabas Smith, a wealthy rector from nearby North Witham.\", 'title': \"Isaac Newton Biography - Newton's Life, Career, Work - Dr Robert A. Hatch\", 'url': 'https://users.clas.ufl.edu/ufhatch/pages/01-courses/current-courses/08sr-newton.htm'}, {'id': 'web-search_2:1', 'snippet': ' In 1705, he was knighted by Queen Anne of England, making him Sir Isaac Newton.\\n\\nEarly Life and Family\\n\\nNewton was born on January 4, 1643, in Woolsthorpe, Lincolnshire, England. Using the \"old\" Julian calendar, Newton\\'s birth date is sometimes displayed as December 25, 1642.\\n\\nNewton was the only son of a prosperous local farmer, also named Isaac, who died three months before he was born. A premature baby born tiny and weak, Newton was not expected to survive.\\n\\nWhen he was 3 years old, his mother, Hannah Ayscough Newton, remarried a well-to-do minister, Barnabas Smith, and went to live with him, leaving young Newton with his maternal grandmother.', 'title': 'Isaac Newton - Quotes, Facts & Laws', 'url': 'https://www.biography.com/scientists/isaac-newton'}, {'id': 'web-search_4:69', 'snippet': \" At Newton's birth, Gregorian dates were ten days ahead of Julian dates; thus, his birth is recorded as taking place on 25 December 1642 Old Style, but it can be converted to a New Style (modern) date of 4 January 1643. By the time of his death, the difference between the calendars had increased to eleven days. Moreover, he died in the period after the start of the New Style year on 1 January but before that of the Old Style new year on 25 March. His death occurred on 20 March 1726, according to the Old Style calendar, but the year is usually adjusted to 1727. A full conversion to New Style gives the date 31 March 1727.\\n\\n^ This claim was made by William Stukeley in 1727, in a letter about Newton written to Richard Mead.\", 'title': 'Isaac Newton - Wikipedia', 'url': 'https://en.wikipedia.org/wiki/Isaac_Newton'}, {'id': 'web-search_8:1', 'snippet': ' Early Life Isaac Newton was born in Woolsthorpe, England on January 4, 1643. His father, a farmer who was also named Isaac Newton, had died three months before his birth. His mother remarried when Isaac was three years old and left young Isaac in the care of his grandparents. Isaac attended school where he was an adequate student. At one point his mother tried to take him out of school so he could help on the farm, but Isaac had no interest in becoming a farmer and was soon back at school. Isaac grew up mostly alone. For the rest of his life he would prefer to work and live alone focused on his writing and his studies.', 'title': 'Biography for Kids: Scientist - Isaac Newton', 'url': 'https://www.ducksters.com/biography/scientists/isaac_newton.php'}]\n",
      "\tsearch_results: [{'search_query': {'text': 'Isaac Newton birth year', 'generation_id': 'fac2ca2f-c9e2-4e8b-80eb-e11ad7370d92'}, 'document_ids': ['web-search_2:1', 'web-search_4:69', 'web-search_5:3', 'web-search_7:1', 'web-search_8:1'], 'connector': {'id': 'web-search'}}]\n",
      "\tsearch_queries: [{'text': 'Isaac Newton birth year', 'generation_id': 'fac2ca2f-c9e2-4e8b-80eb-e11ad7370d92'}]\n",
      "}\n"
     ]
    }
   ],
   "source": [
    "response = co.chat(\n",
    "  chat_history=[\n",
    "    {\"role\": \"USER\", \"message\": \"Who discovered gravity?\"},\n",
    "    {\"role\": \"CHATBOT\", \"message\": \"The man who is widely credited with discovering gravity is Sir Isaac Newton\"}\n",
    "  ],\n",
    "  message=\"What year was he born?\",\n",
    "  # perform web search before answering the question. You can also use your own custom connector.\n",
    "  connectors=[{\"id\": \"web-search\"}] \n",
    ")\n",
    "print(response)"
   ]
  },
  {
   "cell_type": "code",
   "execution_count": 64,
   "metadata": {},
   "outputs": [
    {
     "name": "stdout",
     "output_type": "stream",
     "text": [
      "Sir Isaac Newton discovered gravity. He was an English mathematician, physicist, astronomer, theologian, and author who is widely recognized as one of the most influential scientists in history. In 1687, Newton published his theory of gravity in a book called \"Philosophiæ Naturalis Principia Mathematica\" (Mathematical Principles of Natural Philosophy), which is known as the Principia.\n",
      "\n",
      "In this work, Newton presented his laws of motion, which included the law of universal gravitation. This law states that every particle in the universe attracts every other particle with a force that is directly proportional to the product of their masses and inversely proportional to the square of the distance between their centers.\n",
      "\n",
      "Newton's theory of gravity revolutionized our understanding of the natural world and laid the foundation for classical mechanics and physics. It explained numerous phenomena, including the motions of planets, the tides, the trajectories of projectiles, and the structure of the solar system.\n",
      "\n",
      "It is important to note that while Sir Isaac Newton is credited with discovering gravity, it is believed that other scientists had postulated similar ideas before him. For example, Aristotle believed that objects fell toward the Earth because the Earth was the center of the universe and attracted all matter towards it. However, Newton was the first to provide a mathematical framework for understanding gravity and its effects on objects, thereby establishing gravity as a fundamental force of nature. \n",
      "\n",
      "Would you like to know more about Sir Isaac Newton's contributions to science?\n"
     ]
    }
   ],
   "source": [
    "prediction = co.chat(message='Who discovered gravity?', model='command', conversation_id='gravity-3049-55')\n",
    "print(prediction.text)"
   ]
  },
  {
   "cell_type": "code",
   "execution_count": 65,
   "metadata": {},
   "outputs": [
    {
     "name": "stdout",
     "output_type": "stream",
     "text": [
      "Sir Isaac Newton made numerous contributions to the fields of mathematics, physics, astronomy, and theology throughout his career, many of which have had lasting impact on our understanding of the natural world and continue to shape contemporary scientific thought. Here are some of his key contributions:\n",
      "1. Laws of Motion and Universal Gravitation: Newton's most renowned contribution is his formulation of the laws of motion, followed by his theory of universal gravitation. The three laws of motion articulated by Newton are:\n",
      "- Law of Inertia: An object at rest stays at rest, and an object in motion stays in motion with the same speed and in the same direction unless acted upon by an unbalanced force.\n",
      "- Law of Acceleration: The force imposed on an object is equal to its mass multiplied by its acceleration.\n",
      "- Law of Action-Reaction: Every action has an equal and opposite reaction.\n",
      "\n",
      "Newton's law of universal gravitation states that every particle in the universe attracts every other particle with a force that is directly proportional to the product of their masses and inversely proportional to the square of the distance between their centers.\n",
      "\n",
      "2. Theory of Color: Newton was also interested in optics and light phenomena. He conducted experiments with prisms and discovered that white light is composed of multiple colors when it passes through a prism, the visible spectrum is separated into its component colors. This discovery led to the understanding that color is a property of light, not an inherent property of objects.\n",
      "\n",
      "3. Improved Telescope Design: Newton applied his understanding of optics to the design of telescopes. He realized that using mirrors instead of lenses could eliminate chromatic aberrations (color distortions) caused by the dispersion of light in traditional lenses. His design, known as the Newtonian telescope, was smaller and easier to use than previous telescope designs, and it paved the way for modern reflector telescopes.\n",
      "\n",
      "4. Laws of Thermodynamics: While not the first to investigate the nature of heat, Newton made significant contributions to the understanding of thermodynamics. He established the concept of Newton's Law of Cooling, which describes how objects cool down. This work built upon earlier ideas and helped establish the field of thermodynamics.\n",
      "\n",
      "5. Mathematical Discoveries: Newton was also highly proficient in mathematics, and some of his discoveries in this field include the general binomial theorem, Newton's method for approximating the roots of a function, and Newton's method for interpolating data. These mathematical techniques have applications in a wide range of fields and continue to be used today.\n",
      "\n",
      "6. Theory of Universal Gravitation and Celestial Mechanics: Newton's theory of universal gravitation provided a explanation for why the Moon orbits the Earth and why the Earth orbits the Sun. This theory also explained the tides, the precession of the equinoxes, and other complex motions of the celestial bodies.\n",
      "\n",
      "7. Religious and Philosophical Views: Newton was also deeply interested in theology and alchemy. He wrote extensively on these subjects, including works on the interpretation of biblical prophecies and manuscripts on alchemical philosophy. Despite being a contentious figure in his lifetime for his unorthodox religious views, Newton's theological works demonstrate his profound interest in theology and his desire to reconcile science and religion. \n",
      "\n",
      "These contributions, along with his groundbreaking work on gravity and the laws of motion, have cemented Sir Isaac Newton's legacy as one of the most influential scientists in history. His work continues to shape modern scientific understanding and has paved the way for countless other discoveries in physics, astronomy, and mathematics. \n",
      "\n",
      "Would you like to know more about any of these contributions or delve deeper into Sir Isaac Newton's life and works?\n"
     ]
    }
   ],
   "source": [
    "prediction = co.chat(message='Yes', model='command', conversation_id='gravity-3049-55')\n",
    "print(prediction.text)"
   ]
  },
  {
   "cell_type": "code",
   "execution_count": 66,
   "metadata": {},
   "outputs": [
    {
     "name": "stdout",
     "output_type": "stream",
     "text": [
      "No, Isaac Newton and Albert Einstein were not contemporaries. They lived approximately 230 years apart, representing a significant gap in history between their lifetimes and scientific careers. \n",
      "\n",
      "Here is a brief timeline outlining their periods of existence:\n",
      "1. Sir Isaac Newton: \n",
      " - Born: Isaac Newton was born on January 4, 1643 in Woolsthorpe, England.\n",
      " - Career: He began his scientific work in the mid-1660s, culminating in the publication of his most renowned works, \"Philosophiæ Naturalis Principia Mathematica\" and \"Principia Mathématica\" in 1687. \n",
      " - Death: He passed away on March 31, 1727 at the age of 84. \n",
      "\n",
      "2. Albert Einstein: \n",
      " - Born: Albert Einstein was born on March 14, 1879 in Ulm, Germany. \n",
      " - Career: He began his career as a physicist in the late 19th century, culminating in the publication of his theory of relativity in 1905. \n",
      " - Death: He passed away on April 18, 1955 at the age of 76. \n",
      "\n",
      "Because of this significant difference in time, Newton and Einstein did not have the opportunity to interact or engage in direct scientific collaboration. Their contributions to science were influenced by different historical and cultural contexts, and they worked with the scientific knowledge and understanding available in their respective eras. \n",
      "\n",
      "Despite their separation in time, both Newton and Einstein are widely regarded as two of the most renowned physicists in history, having made groundbreaking contributions that revolutionized our understanding of the natural world. \n",
      "\n",
      "Would you like to know more about the lives and achievements of Sir Isaac Newton or Albert Einstein?\n"
     ]
    }
   ],
   "source": [
    "prediction = co.chat(message='Was he a contemporary of Einstein?', model='command', conversation_id='gravity-3049-55')\n",
    "print(prediction.text)"
   ]
  },
  {
   "cell_type": "code",
   "execution_count": 67,
   "metadata": {},
   "outputs": [
    {
     "name": "stdout",
     "output_type": "stream",
     "text": [
      "While both Sir Isaac Newton and Albert Einstein are renowned scientists known for their groundbreaking contributions to their respective fields, their most famous works are distinct and reflect the nature of their contributions. \n",
      "\n",
      "Here are some of the most renowned contributions from each of these figures:\n",
      "Sir Isaac Newton:\n",
      "1. \"Philosophiæ Naturalis Principia Mathematica\" (\"Mathematical Principles of Natural Philosophy\") or simply \"Principia\": This work, published in 1687, is considered Newton's most famous. In it, he laid out his theories on the laws of motion and universal gravitation. These laws provided a framework for understanding the physical world and have been foundational to classical mechanics.\n",
      "2. An Historical Account of Two Notable Corruptions of Scripture: In addition to his work in physics, Newton was also known for his textual criticism and studies of the Bible. This work focused on the historical accuracy of biblical texts.\n",
      "\n",
      "Albert Einstein:\n",
      "1. Special Theory of Relativity (1905): In this paper, Einstein's famous equation E=mc^2, demonstrated the equivalence of mass and energy, and highlighted the phenomenon of the photoelectric effect, which helped earn him the Nobel Prize in Physics in 1921.\n",
      "2. General Theory of Relativity (1916): This theory is considered Einstein's crowning achievement and a monumental advancement in the understanding of\n"
     ]
    }
   ],
   "source": [
    "prediction = co.chat(message='What are your most famous works?', model='command', conversation_id='gravity-3049-55', connectors=[{\"id\": \"web-search\"}])\n",
    "print(prediction.text)"
   ]
  },
  {
   "cell_type": "code",
   "execution_count": 70,
   "metadata": {},
   "outputs": [
    {
     "data": {
      "text/plain": [
       "[{'id': 'web-search_10:3',\n",
       "  'snippet': ' In 1703, he was elected as president of the Royal Society, a fellowship of scientists that still exists today. He was knighted by Queen Anne in 1705. He never married.\\n\\nWhat are Isaac Newton\\'s laws of motion?\\n\\nNewton\\'s most famous work came with the publication of his \"\\n\\nPhilosophiae Naturalis Principia Mathematica\" (\"Mathematical Principles of Natural Philosophy\"), generally called Principia. In it, he determined the three laws of motion for\\n\\nNewton\\'s first law describes how objects move at the same velocity unless an outside force acts upon them. (A force is something that causes or changes motion.) Thus, an object sitting on a table remains on the table until a force — the push of a hand, or\\n\\ngravity — acts upon it.',\n",
       "  'title': 'Sir Isaac Newton biography — Inventions, laws and quotes | Space',\n",
       "  'url': 'https://www.space.com/15898-isaac-newton.html'},\n",
       " {'id': 'web-search_0:20',\n",
       "  'snippet': ' Titled \"Eine neue Bestimmung der Moleküldimensionen\" (\"A New Determination of Molecular Dimensions\") and dedicated to his friend Marcel Grossman, it was completed on 30 April 1905 and approved by Professor Alfred Kleiner of the University of Zurich three months later. (Einstein was formally awarded his PhD on 15 January 1906.) Four other pieces of work that Einstein completed in 1905—his famous papers on the photoelectric effect, Brownian motion, his special theory of relativity and the equivalence of mass and energy—have led to the year\\'s being celebrated as an annus mirabilis for physics almost as wonderful as 1666 (the year in which Isaac Newton experienced his greatest epiphanies).',\n",
       "  'title': 'Albert Einstein - Wikipedia',\n",
       "  'url': 'https://en.wikipedia.org/wiki/Albert_Einstein'},\n",
       " {'id': 'web-search_14:43',\n",
       "  'snippet': '\\n\\nAlthough the laws of motion and universal gravitation became Newton\\'s best-known discoveries, he warned against using them to view the Universe as a mere machine, as if akin to a great clock. He said, \"So then gravity may put the planets into motion, but without the Divine Power it could never put them into such a circulating motion, as they have about the sun\".\\n\\nAlong with his scientific fame, Newton\\'s studies of the Bible and of the early Church Fathers were also noteworthy. Newton wrote works on textual criticism, most notably An Historical Account of Two Notable Corruptions of Scripture and Observations upon the Prophecies of Daniel, and the Apocalypse of St. John.',\n",
       "  'title': 'Isaac Newton - Wikipedia',\n",
       "  'url': 'https://en.wikipedia.org//wiki/Isaac_Newton'},\n",
       " {'id': 'web-search_5:5',\n",
       "  'snippet': '\\n\\nEinstein’s researches are, of course, well chronicled and his more important works include Special Theory of Relativity (1905), Relativity (English translations, 1920 and 1950), General Theory of Relativity (1916), Investigations on Theory of Brownian Movement (1926), and The Evolution of Physics (1938). Among his non-scientific works, About Zionism (1930), Why War? (1933), My Philosophy (1934), and Out of My Later Years (1950) are perhaps the most important.\\n\\nAlbert Einstein received honorary doctorate degrees in science, medicine and philosophy from many European and American universities. During the 1920’s he lectured in Europe, America and the Far East, and he was awarded Fellowships or Memberships of all the leading scientific academies throughout the world.',\n",
       "  'title': 'Albert Einstein – Biographical - NobelPrize.org',\n",
       "  'url': 'https://www.nobelprize.org/prizes/physics/1921/einstein/biographical/'},\n",
       " {'id': 'web-search_3:1',\n",
       "  'snippet': \" \\n\\nThe scientist's equation that helped explain special relativity – E = mc^2 – is famous even among those who don't understand its underlying physics. Einstein is also known for his theory of general relativity (an explanation of gravity), and the photoelectric effect (which explains the behavior of electrons under certain circumstances); his work on the latter earned him a Nobel Prize in Physics in 1921.\\n\\nEinstein also tried in vain to unify all the forces of the universe in a single theory, or a theory of everything, which he was still working on at the time of his death.\\n\\nRelated: What is the Theory of Everything?\",\n",
       "  'title': 'Albert Einstein: His life, theories and impact on science | Space',\n",
       "  'url': 'https://www.space.com/15524-albert-einstein.html'}]"
      ]
     },
     "execution_count": 70,
     "metadata": {},
     "output_type": "execute_result"
    }
   ],
   "source": [
    "prediction.documents"
   ]
  }
 ],
 "metadata": {
  "colab": {
   "provenance": []
  },
  "kernelspec": {
   "display_name": "Python 3",
   "language": "python",
   "name": "python3"
  },
  "language_info": {
   "codemirror_mode": {
    "name": "ipython",
    "version": 3
   },
   "file_extension": ".py",
   "mimetype": "text/x-python",
   "name": "python",
   "nbconvert_exporter": "python",
   "pygments_lexer": "ipython3",
   "version": "3.10.13"
  }
 },
 "nbformat": 4,
 "nbformat_minor": 4
}
