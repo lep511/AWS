{
 "cells": [
  {
   "cell_type": "code",
   "execution_count": 1,
   "metadata": {},
   "outputs": [],
   "source": [
    "import boto3\n",
    "import json\n",
    "from botocore.exceptions import ClientError"
   ]
  },
  {
   "cell_type": "code",
   "execution_count": 3,
   "metadata": {},
   "outputs": [],
   "source": [
    "session = boto3.Session(profile_name='workshop')\n",
    "config = session.client('config', region_name='us-west-2')"
   ]
  },
  {
   "cell_type": "code",
   "execution_count": 9,
   "metadata": {},
   "outputs": [],
   "source": [
    "def create_custom_rule(rule_name, rule_description, resource_type, rule_content, input_parameters=None):\n",
    "    rule = {\n",
    "        'ConfigRuleName': rule_name,\n",
    "        'Description': rule_description,\n",
    "        'Scope': {\n",
    "            'ComplianceResourceTypes': [\n",
    "                resource_type,\n",
    "            ],\n",
    "        },\n",
    "        'Source': {\n",
    "            'Owner': 'CUSTOM_POLICY',\n",
    "            'SourceDetails': [\n",
    "                {\n",
    "                    'EventSource': 'aws.config',\n",
    "                    'MessageType': 'ConfigurationItemChangeNotification'\n",
    "                },\n",
    "            ],\n",
    "            'CustomPolicyDetails': {\n",
    "                'PolicyRuntime': 'guard-2.x.x',\n",
    "                'PolicyText': rule_content,\n",
    "                'EnableDebugLogDelivery': True,\n",
    "            },\n",
    "        }\n",
    "    }\n",
    "    if input_parameters is not None:\n",
    "        rule['InputParameters'] = input_parameters\n",
    "    try:\n",
    "        response = config.put_config_rule(ConfigRule=rule)\n",
    "        print('Successfully created Config rule: ' + json.dumps(response, indent=2, default=str))\n",
    "    except ClientError as e:\n",
    "        print('Error creating Config rule: ' + e.response['Error']['Code'])\n",
    "    except Exception as e:\n",
    "        print('Error creating Config rule: ' + str(e))"
   ]
  },
  {
   "cell_type": "code",
   "execution_count": 10,
   "metadata": {},
   "outputs": [
    {
     "name": "stdout",
     "output_type": "stream",
     "text": [
      "Successfully created Config rule: {\n",
      "  \"ResponseMetadata\": {\n",
      "    \"RequestId\": \"931a0ec1-7880-4281-addf-adca7746b822\",\n",
      "    \"HTTPStatusCode\": 200,\n",
      "    \"HTTPHeaders\": {\n",
      "      \"x-amzn-requestid\": \"931a0ec1-7880-4281-addf-adca7746b822\",\n",
      "      \"strict-transport-security\": \"max-age=86400\",\n",
      "      \"content-type\": \"application/x-amz-json-1.1\",\n",
      "      \"content-length\": \"0\",\n",
      "      \"date\": \"Wed, 31 May 2023 02:16:21 GMT\"\n",
      "    },\n",
      "    \"RetryAttempts\": 0\n",
      "  }\n",
      "}\n"
     ]
    }
   ],
   "source": [
    "rule_name = 's3-bucket-versioning-enabled-test'\n",
    "rule_description = 'Checks that S3 buckets have versioning enabled'\n",
    "resource_type = 'AWS::S3::Bucket'\n",
    "rule_content = \"\"\"rule check_bucketversioning {\n",
    "     supplementaryConfiguration.BucketVersioningConfiguration.status == \"Enabled\" <<\n",
    "     result: NON_COMPLIANT\n",
    "     message: S3 Bucket Versioning is NOT enabled.\n",
    "     >>\n",
    "}\n",
    "\"\"\"\n",
    "create_custom_rule(rule_name, rule_description, resource_type, rule_content)"
   ]
  },
  {
   "cell_type": "code",
   "execution_count": 5,
   "metadata": {},
   "outputs": [
    {
     "name": "stdout",
     "output_type": "stream",
     "text": [
      "Successfully created Config rule: {\n",
      "  \"ResponseMetadata\": {\n",
      "    \"RequestId\": \"5138d6d7-4c41-44f7-bb3d-fd135dbbd800\",\n",
      "    \"HTTPStatusCode\": 200,\n",
      "    \"HTTPHeaders\": {\n",
      "      \"x-amzn-requestid\": \"5138d6d7-4c41-44f7-bb3d-fd135dbbd800\",\n",
      "      \"strict-transport-security\": \"max-age=86400\",\n",
      "      \"content-type\": \"application/x-amz-json-1.1\",\n",
      "      \"content-length\": \"0\",\n",
      "      \"date\": \"Wed, 31 May 2023 02:09:17 GMT\"\n",
      "    },\n",
      "    \"RetryAttempts\": 0\n",
      "  }\n",
      "}\n"
     ]
    }
   ],
   "source": [
    "rule_name = 'ec2-eip-running-test-new'\n",
    "rule_description = 'Checks that EC2 EIPs are associated with running instances'\n",
    "resource_type = 'AWS::EC2::Instance'\n",
    "input_parameters = \"{\\\"volumeType\\\":\\\"gp3\\\"}\"\n",
    "rule_content = \"\"\"let eipresource = relationships.*[ resourceType  == 'AWS::EC2::EIP' ]\n",
    "\n",
    "\n",
    "rule check_ec2_eip_compliance {\n",
    "    when %eipresource !empty {\n",
    "    configuration.state.name == \"running\"\n",
    "}\n",
    "}\n",
    "\"\"\"\n",
    "create_custom_rule(rule_name, rule_description, resource_type, rule_content, input_parameters)"
   ]
  },
  {
   "cell_type": "code",
   "execution_count": 11,
   "metadata": {},
   "outputs": [],
   "source": [
    "# Upload a file to S3 bucket\n",
    "s3_client = session.client('s3')\n",
    "file = 'conf_pack.yaml'\n",
    "response = s3_client.upload_file(file, 'config-bucket-949951905621', file)"
   ]
  },
  {
   "cell_type": "code",
   "execution_count": 13,
   "metadata": {},
   "outputs": [
    {
     "name": "stdout",
     "output_type": "stream",
     "text": [
      "{'ConformancePackArn': 'arn:aws:config:us-west-2:949951905621:conformance-pack/conformance-pack-1/conformance-pack-4dja86bgm', 'ResponseMetadata': {'RequestId': '8eeb7dfd-73ed-49cf-ad75-a7b758bdd529', 'HTTPStatusCode': 200, 'HTTPHeaders': {'x-amzn-requestid': '8eeb7dfd-73ed-49cf-ad75-a7b758bdd529', 'strict-transport-security': 'max-age=86400', 'content-type': 'application/x-amz-json-1.1', 'content-length': '125', 'date': 'Wed, 31 May 2023 02:59:37 GMT'}, 'RetryAttempts': 0}}\n"
     ]
    }
   ],
   "source": [
    "# Create conformance pack\n",
    "response = config.put_conformance_pack(\n",
    "    ConformancePackName='conformance-pack-1',\n",
    "    TemplateS3Uri='s3://config-bucket-949951905621/conf_pack.yaml',\n",
    "    DeliveryS3Bucket='config-bucket-949951905621',\n",
    "    TemplateBody='string',\n",
    "    ConformancePackInputParameters=[\n",
    "        {\n",
    "            'ParameterName': 'SnsTopicForPublishNotificationArn',\n",
    "            'ParameterValue': 'arn...'\n",
    "        },\n",
    "    ]\n",
    ")\n",
    "print(response)"
   ]
  }
 ],
 "metadata": {
  "kernelspec": {
   "display_name": "myenv",
   "language": "python",
   "name": "python3"
  },
  "language_info": {
   "codemirror_mode": {
    "name": "ipython",
    "version": 3
   },
   "file_extension": ".py",
   "mimetype": "text/x-python",
   "name": "python",
   "nbconvert_exporter": "python",
   "pygments_lexer": "ipython3",
   "version": "3.9.13"
  },
  "orig_nbformat": 4
 },
 "nbformat": 4,
 "nbformat_minor": 2
}
