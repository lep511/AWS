{
 "cells": [
  {
   "cell_type": "code",
   "execution_count": 1,
   "metadata": {},
   "outputs": [],
   "source": [
    "import boto3\n",
    "import json\n",
    "from botocore.exceptions import ClientError"
   ]
  },
  {
   "cell_type": "code",
   "execution_count": 3,
   "metadata": {},
   "outputs": [],
   "source": [
    "#session = boto3.Session(profile_name='workshop')\n",
    "#config = session.client('config', region_name='us-west-2')\n",
    "#s3_client = session.client('s3')"
   ]
  },
  {
   "cell_type": "code",
   "execution_count": 10,
   "metadata": {},
   "outputs": [],
   "source": [
    "config = boto3.client('config')\n",
    "s3_client = boto3.client('s3')"
   ]
  },
  {
   "cell_type": "code",
   "execution_count": 20,
   "metadata": {},
   "outputs": [],
   "source": [
    "def create_custom_rule(rule_name, rule_description, resource_type, rule_content, input_parameters=None, enable_debug=False, tags=None):\n",
    "    rule = {\n",
    "        'ConfigRuleName': rule_name,\n",
    "        'Description': rule_description,\n",
    "        'Scope': {\n",
    "            'ComplianceResourceTypes': [\n",
    "                resource_type,\n",
    "            ],\n",
    "        },\n",
    "        'Source': {\n",
    "            'Owner': 'CUSTOM_POLICY',\n",
    "            'SourceDetails': [\n",
    "                {\n",
    "                    'EventSource': 'aws.config',\n",
    "                    'MessageType': 'ConfigurationItemChangeNotification'\n",
    "                },\n",
    "            ],\n",
    "            'CustomPolicyDetails': {\n",
    "                'PolicyRuntime': 'guard-2.x.x',\n",
    "                'PolicyText': rule_content,\n",
    "                'EnableDebugLogDelivery': enable_debug,\n",
    "            },\n",
    "        }\n",
    "    }\n",
    "    if input_parameters is not None:\n",
    "        rule['InputParameters'] = input_parameters\n",
    "    if tags is None:\n",
    "        tags = []\n",
    "    try:\n",
    "        response = config.put_config_rule(ConfigRule=rule, Tags=tags)\n",
    "        print('Successfully created Config rule: ' + json.dumps(response, indent=2, default=str))\n",
    "    except ClientError as e:\n",
    "        print('Error creating Config rule: ' + e.response['Error']['Code'])\n",
    "    except Exception as e:\n",
    "        print('Error creating Config rule: ' + str(e))"
   ]
  },
  {
   "cell_type": "code",
   "execution_count": 7,
   "metadata": {},
   "outputs": [
    {
     "name": "stdout",
     "output_type": "stream",
     "text": [
      "Successfully created Config rule: {\n",
      "  \"ResponseMetadata\": {\n",
      "    \"RequestId\": \"8488a7da-69da-401e-877e-f49a233794c1\",\n",
      "    \"HTTPStatusCode\": 200,\n",
      "    \"HTTPHeaders\": {\n",
      "      \"x-amzn-requestid\": \"8488a7da-69da-401e-877e-f49a233794c1\",\n",
      "      \"strict-transport-security\": \"max-age=86400\",\n",
      "      \"content-type\": \"application/x-amz-json-1.1\",\n",
      "      \"content-length\": \"0\",\n",
      "      \"date\": \"Wed, 31 May 2023 12:33:04 GMT\"\n",
      "    },\n",
      "    \"RetryAttempts\": 0\n",
      "  }\n",
      "}\n"
     ]
    }
   ],
   "source": [
    "rule_name = 'dynamodb-pitr-enabled'\n",
    "rule_description = 'Checks if DynamoDB table has Point-in-time Recovery enabled'\n",
    "resource_type = 'AWS::DynamoDB::Table'\n",
    "rule_content = \"\"\"let status = ['ACTIVE']\n",
    "\n",
    "rule tableisactive when\n",
    "    resourceType == \"AWS::DynamoDB::Table\" {\n",
    "    configuration.tableStatus == %status\n",
    "}\n",
    "\n",
    "rule checkcompliance when\n",
    "    resourceType == \"AWS::DynamoDB::Table\"\n",
    "    tableisactive {\n",
    "        let pitr = supplementaryConfiguration.ContinuousBackupsDescription.pointInTimeRecoveryDescription.pointInTimeRecoveryStatus\n",
    "        %pitr == \"ENABLED\"\n",
    "}\"\"\"\n",
    "create_custom_rule(rule_name, rule_description, resource_type, rule_content, enable_debug=True)\n"
   ]
  },
  {
   "cell_type": "code",
   "execution_count": 22,
   "metadata": {},
   "outputs": [
    {
     "name": "stdout",
     "output_type": "stream",
     "text": [
      "Successfully created Config rule: {\n",
      "  \"ResponseMetadata\": {\n",
      "    \"RequestId\": \"773f412a-7bfb-4436-9ef7-ed619b85927d\",\n",
      "    \"HTTPStatusCode\": 200,\n",
      "    \"HTTPHeaders\": {\n",
      "      \"x-amzn-requestid\": \"773f412a-7bfb-4436-9ef7-ed619b85927d\",\n",
      "      \"strict-transport-security\": \"max-age=86400\",\n",
      "      \"content-type\": \"application/x-amz-json-1.1\",\n",
      "      \"content-length\": \"0\",\n",
      "      \"date\": \"Wed, 31 May 2023 12:58:51 GMT\"\n",
      "    },\n",
      "    \"RetryAttempts\": 0\n",
      "  }\n",
      "}\n"
     ]
    }
   ],
   "source": [
    "rule_name = 's3-bucket-versioning-enabled-test-new'\n",
    "rule_description = 'Checks that S3 buckets have versioning enabled'\n",
    "resource_type = 'AWS::S3::Bucket'\n",
    "rule_content = \"\"\"rule check_bucketversioning {\n",
    "     supplementaryConfiguration.BucketVersioningConfiguration.status == \"Enabled\" <<\n",
    "     result: NON_COMPLIANT\n",
    "     message: S3 Bucket Versioning is NOT enabled.\n",
    "     >>\n",
    "}\n",
    "\"\"\"\n",
    "create_custom_rule(rule_name, rule_description, resource_type, rule_content)"
   ]
  },
  {
   "cell_type": "code",
   "execution_count": 21,
   "metadata": {},
   "outputs": [
    {
     "name": "stdout",
     "output_type": "stream",
     "text": [
      "Successfully created Config rule: {\n",
      "  \"ResponseMetadata\": {\n",
      "    \"RequestId\": \"ffad402e-8e54-4a86-b9f5-7b87f89d93fb\",\n",
      "    \"HTTPStatusCode\": 200,\n",
      "    \"HTTPHeaders\": {\n",
      "      \"x-amzn-requestid\": \"ffad402e-8e54-4a86-b9f5-7b87f89d93fb\",\n",
      "      \"strict-transport-security\": \"max-age=86400\",\n",
      "      \"content-type\": \"application/x-amz-json-1.1\",\n",
      "      \"content-length\": \"0\",\n",
      "      \"date\": \"Wed, 31 May 2023 12:53:54 GMT\"\n",
      "    },\n",
      "    \"RetryAttempts\": 0\n",
      "  }\n",
      "}\n"
     ]
    }
   ],
   "source": [
    "rule_name = 'ec2-eip-running-test-new'\n",
    "rule_description = 'Checks that EC2 EIPs are associated with running instances'\n",
    "resource_type = 'AWS::EC2::Instance'\n",
    "input_parameters = \"{\\\"volumeType\\\":\\\"gp3\\\"}\"\n",
    "tags = [{'Key': 'Config', 'Value': 'customRule'}]\n",
    "rule_content = \"\"\"let eipresource = relationships.*[ resourceType  == 'AWS::EC2::EIP' ]\n",
    "\n",
    "\n",
    "rule check_ec2_eip_compliance {\n",
    "    when %eipresource !empty {\n",
    "    configuration.state.name == \"running\"\n",
    "}\n",
    "}\n",
    "\"\"\"\n",
    "create_custom_rule(rule_name, rule_description, resource_type, rule_content, input_parameters, tags=tags)"
   ]
  },
  {
   "attachments": {},
   "cell_type": "markdown",
   "metadata": {},
   "source": [
    "### Conformance packs"
   ]
  },
  {
   "cell_type": "code",
   "execution_count": 11,
   "metadata": {},
   "outputs": [],
   "source": [
    "# Upload a file to S3 bucket\n",
    "file = 'conf_pack.yaml'\n",
    "bucket_name = 'config-bucket-089715336747'\n",
    "s3_client.upload_file(file, bucket_name, file)"
   ]
  },
  {
   "cell_type": "code",
   "execution_count": 13,
   "metadata": {},
   "outputs": [],
   "source": [
    "# Create a sns topic and get the arn\n",
    "sns_client = boto3.client('sns')\n",
    "response = sns_client.create_topic(Name='config-topic')\n",
    "topic_arn = response['TopicArn']"
   ]
  },
  {
   "cell_type": "code",
   "execution_count": 15,
   "metadata": {},
   "outputs": [
    {
     "name": "stdout",
     "output_type": "stream",
     "text": [
      "{'ConformancePackArn': 'arn:aws:config:us-east-1:089715336747:conformance-pack/conformance-pack-1/conformance-pack-8myse008n', 'ResponseMetadata': {'RequestId': '024810b6-2fc5-49b3-bb53-7718cb1cd8b2', 'HTTPStatusCode': 200, 'HTTPHeaders': {'x-amzn-requestid': '024810b6-2fc5-49b3-bb53-7718cb1cd8b2', 'strict-transport-security': 'max-age=86400', 'content-type': 'application/x-amz-json-1.1', 'content-length': '125', 'date': 'Wed, 31 May 2023 12:36:38 GMT'}, 'RetryAttempts': 0}}\n"
     ]
    }
   ],
   "source": [
    "# Create conformance pack\n",
    "response = config.put_conformance_pack(\n",
    "    ConformancePackName='conformance-pack-1',\n",
    "    TemplateS3Uri=f's3://{bucket_name}/{file}',\n",
    "    DeliveryS3Bucket=bucket_name,\n",
    "    TemplateBody='string',\n",
    "    ConformancePackInputParameters=[\n",
    "        {\n",
    "            'ParameterName': 'SnsTopicForPublishNotificationArn',\n",
    "            'ParameterValue': topic_arn\n",
    "        },\n",
    "    ]\n",
    ")\n",
    "print(response)"
   ]
  }
 ],
 "metadata": {
  "kernelspec": {
   "display_name": "myenv",
   "language": "python",
   "name": "python3"
  },
  "language_info": {
   "codemirror_mode": {
    "name": "ipython",
    "version": 3
   },
   "file_extension": ".py",
   "mimetype": "text/x-python",
   "name": "python",
   "nbconvert_exporter": "python",
   "pygments_lexer": "ipython3",
   "version": "3.10.8"
  },
  "orig_nbformat": 4
 },
 "nbformat": 4,
 "nbformat_minor": 2
}
