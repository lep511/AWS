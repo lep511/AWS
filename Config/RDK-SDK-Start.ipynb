{
 "cells": [
  {
   "cell_type": "markdown",
   "metadata": {},
   "source": [
    "## AWS RDK\n",
    " \n",
    "El kit de desarrollo de reglas (RDK) de AWS Config ayuda a los desarrolladores a configurar, crear y probar reglas personalizadas de AWS Config. El RDK está diseñado para admitir un flujo de trabajo de conformidad como código que sea intuitivo y productivo. Abstrae el trabajo pesado no diferenciado asociado con la implementación de reglas de AWS Config respaldadas por funciones Lambda personalizadas y proporciona un proceso iterativo optimizado de desarrollo, implementación y monitorización. Mediante el uso conjunto del RDK y CodeWhisperer, un desarrollador experimentado o principiante puede crear reglas personalizadas de AWS Config de manera eficaz e implementarlas fácilmente en su entorno de AWS.\n",
    "\n",
    "**[Link repositorio](https://github.com/awslabs/aws-config-rdk)**"
   ]
  },
  {
   "cell_type": "code",
   "execution_count": null,
   "metadata": {},
   "outputs": [],
   "source": [
    "!pip install rdk"
   ]
  },
  {
   "cell_type": "code",
   "execution_count": null,
   "metadata": {},
   "outputs": [],
   "source": [
    "rdk init"
   ]
  },
  {
   "cell_type": "markdown",
   "metadata": {},
   "source": [
    "Cuando cree la regla, especifique que el tiempo de ejecución es python3.9, que el tipo de recurso es un volumen EBS y los parámetros de entrada adecuados. En este ejemplo, el tipo deseado es volúmenes gp3."
   ]
  },
  {
   "cell_type": "code",
   "execution_count": null,
   "metadata": {},
   "outputs": [],
   "source": [
    "rdk create ebs-volume_desired_type --runtime python3.9 --resource-types AWS::EC2::Volume --input-parameters '{\"desiredvolumeType\":\"gp3\"}'"
   ]
  },
  {
   "cell_type": "markdown",
   "metadata": {},
   "source": [
    "Sus archivos de reglas locales ya están creados. Vaya al archivo parameters.json. Asegúrese de que ha configurado los parámetros adecuados.\n",
    "Asegúrese de que el par clave:valor en la línea 10 es \"SourceEvents\": \"AWS::EC2::Volume\"\n",
    "\n",
    "A continuación, añada la lógica personalizada para marcar cualquier volumen EBS como no conforme si no es del tipo gp3.\n",
    "Para ello, abra el archivo ebs-volume-desired-type.py. Navegue hasta la línea 50, donde dice # Add your custom logic here. Aquí es donde añadirá el código de la función que genere con CodeWhisperer."
   ]
  },
  {
   "cell_type": "code",
   "execution_count": null,
   "metadata": {},
   "outputs": [],
   "source": [
    "#check if AWS Config configuration item is for a desired volume type matching valid_rule_parameters for desiredvolumeType and return compliant else return non-compliant\n",
    "if configuration_item[\"configuration\"][\"volumeType\"] == valid_rule_parameters[\"desiredvolumeType\"]:\n",
    "    return \"COMPLIANT\"\n",
    "else:\n",
    "    return \"NON_COMPLIANT\""
   ]
  },
  {
   "cell_type": "code",
   "execution_count": null,
   "metadata": {},
   "outputs": [],
   "source": [
    "rdk test-local ebs-volume_desired_type"
   ]
  },
  {
   "cell_type": "code",
   "execution_count": null,
   "metadata": {},
   "outputs": [],
   "source": [
    "rdk deploy ebs-volume_desired_type"
   ]
  },
  {
   "cell_type": "markdown",
   "metadata": {},
   "source": [
    "### Conclusión\n",
    "En esta muestra has podido crear una regla personalizada de AWS Config para evaluar los volúmenes EBS en tu cuenta de AWS para el tipo de volumen deseado.  Dado que los volúmenes gp3 pueden ser extremadamente rentables, querrá asegurarse de aprovechar estos tipos de volumen siempre que sea posible.  Gracias a CodeWhisperer, ha podido crear una regla personalizada de AWS Config con un conocimiento mínimo de Python o del RDK.  CodeWhisperer puede generar recomendaciones de código que le ayudarán a desarrollar código de forma eficaz, independientemente de su experiencia en codificación.\n"
   ]
  }
 ],
 "metadata": {
  "language_info": {
   "name": "python"
  }
 },
 "nbformat": 4,
 "nbformat_minor": 2
}
