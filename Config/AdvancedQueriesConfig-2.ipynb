{
 "cells": [
  {
   "cell_type": "code",
   "execution_count": 1,
   "metadata": {},
   "outputs": [],
   "source": [
    "import boto3\n",
    "import json\n",
    "from botocore.exceptions import ClientError\n",
    "import pandas as pd"
   ]
  },
  {
   "cell_type": "code",
   "execution_count": 2,
   "metadata": {},
   "outputs": [
    {
     "name": "stdout",
     "output_type": "stream",
     "text": [
      "Instance ID: subnet-01823c248428bd705\n",
      "Region: us-east-1\n",
      "arn: arn:aws:ec2:us-east-1:146519783010:subnet/subnet-01823c248428bd705\n",
      "---------------------------------\n",
      "Instance ID: subnet-0352063657d0f0117\n",
      "Region: us-east-1\n",
      "arn: arn:aws:ec2:us-east-1:146519783010:subnet/subnet-0352063657d0f0117\n",
      "---------------------------------\n",
      "Instance ID: subnet-03af3ec536c985703\n",
      "Region: us-east-1\n",
      "arn: arn:aws:ec2:us-east-1:146519783010:subnet/subnet-03af3ec536c985703\n",
      "---------------------------------\n",
      "Instance ID: subnet-057f7e414e7ad0475\n",
      "Region: us-east-1\n",
      "arn: arn:aws:ec2:us-east-1:146519783010:subnet/subnet-057f7e414e7ad0475\n",
      "---------------------------------\n",
      "Instance ID: subnet-07cb0007d64835194\n",
      "Region: us-east-1\n",
      "arn: arn:aws:ec2:us-east-1:146519783010:subnet/subnet-07cb0007d64835194\n",
      "---------------------------------\n",
      "Instance ID: subnet-0882ad9c959a6f590\n",
      "Region: us-east-1\n",
      "arn: arn:aws:ec2:us-east-1:146519783010:subnet/subnet-0882ad9c959a6f590\n",
      "---------------------------------\n",
      "Instance ID: subnet-0f6d2a305872b226f\n",
      "Region: us-east-1\n",
      "arn: arn:aws:ec2:us-east-1:146519783010:subnet/subnet-0f6d2a305872b226f\n",
      "---------------------------------\n"
     ]
    }
   ],
   "source": [
    "region = 'us-east-1'\n",
    "config = boto3.client('config', region_name=region)\n",
    "paginator = config.get_paginator('select_resource_config')\n",
    "try:\n",
    "    iterator = paginator.paginate(\n",
    "        Expression=\"SELECT * WHERE resourceType = 'AWS::EC2::Subnet'\",\n",
    "        Limit=60,\n",
    "    )\n",
    "    for page in iterator:\n",
    "        for resource in page['Results']:\n",
    "            resource = json.loads(resource)\n",
    "            print(\"Instance ID:\", resource['resourceId'])\n",
    "            print(\"Region:\", resource['awsRegion'])\n",
    "            print(\"arn:\", resource['arn'])\n",
    "            print(\"---------------------------------\")\n",
    "except ClientError as e:\n",
    "    print(f\"Error in region {region} with message: \\n{e}\")\n"
   ]
  },
  {
   "cell_type": "code",
   "execution_count": 23,
   "metadata": {},
   "outputs": [
    {
     "name": "stdout",
     "output_type": "stream",
     "text": [
      "{'COUNT(*)': 2, 'configuration': {'instanceType': 'm4.large'}}\n",
      "{'COUNT(*)': 3, 'configuration': {'instanceType': 't3.micro'}}\n"
     ]
    }
   ],
   "source": [
    "region = 'us-east-1'\n",
    "config = boto3.client('config', region_name=region)\n",
    "paginator = config.get_paginator('select_resource_config')\n",
    "try:\n",
    "    iterator = paginator.paginate(\n",
    "        Expression=\"SELECT configuration.instanceType, COUNT(*) WHERE resourceType = 'AWS::EC2::Instance' GROUP BY configuration.instanceType\",\n",
    "        Limit=60,\n",
    "    )\n",
    "    for page in iterator:\n",
    "        for resource in page['Results']:\n",
    "            resource = json.loads(resource)\n",
    "            print(resource)\n",
    "except ClientError as e:\n",
    "    print(f\"Error in region {region} with message: \\n{e}\")"
   ]
  },
  {
   "cell_type": "code",
   "execution_count": 15,
   "metadata": {},
   "outputs": [],
   "source": [
    "keys = []\n",
    "values = []\n",
    "for key, value in resource.items():\n",
    "    keys.append(key)\n",
    "    values.append(value)\n",
    "df = pd.DataFrame(columns=keys, data=[values])"
   ]
  },
  {
   "cell_type": "code",
   "execution_count": 16,
   "metadata": {},
   "outputs": [
    {
     "data": {
      "text/html": [
       "<div>\n",
       "<style scoped>\n",
       "    .dataframe tbody tr th:only-of-type {\n",
       "        vertical-align: middle;\n",
       "    }\n",
       "\n",
       "    .dataframe tbody tr th {\n",
       "        vertical-align: top;\n",
       "    }\n",
       "\n",
       "    .dataframe thead th {\n",
       "        text-align: right;\n",
       "    }\n",
       "</style>\n",
       "<table border=\"1\" class=\"dataframe\">\n",
       "  <thead>\n",
       "    <tr style=\"text-align: right;\">\n",
       "      <th></th>\n",
       "      <th>accountId</th>\n",
       "      <th>resourceId</th>\n",
       "      <th>awsRegion</th>\n",
       "      <th>arn</th>\n",
       "      <th>configurationItemCaptureTime</th>\n",
       "      <th>availabilityZone</th>\n",
       "      <th>version</th>\n",
       "      <th>resourceType</th>\n",
       "    </tr>\n",
       "  </thead>\n",
       "  <tbody>\n",
       "    <tr>\n",
       "      <th>0</th>\n",
       "      <td>146519783010</td>\n",
       "      <td>subnet-0f6d2a305872b226f</td>\n",
       "      <td>us-east-1</td>\n",
       "      <td>arn:aws:ec2:us-east-1:146519783010:subnet/subn...</td>\n",
       "      <td>2023-08-16T15:10:12.575Z</td>\n",
       "      <td>us-east-1d</td>\n",
       "      <td>1.3</td>\n",
       "      <td>AWS::EC2::Subnet</td>\n",
       "    </tr>\n",
       "  </tbody>\n",
       "</table>\n",
       "</div>"
      ],
      "text/plain": [
       "      accountId                resourceId  awsRegion  \\\n",
       "0  146519783010  subnet-0f6d2a305872b226f  us-east-1   \n",
       "\n",
       "                                                 arn  \\\n",
       "0  arn:aws:ec2:us-east-1:146519783010:subnet/subn...   \n",
       "\n",
       "  configurationItemCaptureTime availabilityZone version      resourceType  \n",
       "0     2023-08-16T15:10:12.575Z       us-east-1d     1.3  AWS::EC2::Subnet  "
      ]
     },
     "execution_count": 16,
     "metadata": {},
     "output_type": "execute_result"
    }
   ],
   "source": [
    "df"
   ]
  }
 ],
 "metadata": {
  "kernelspec": {
   "display_name": "myenv",
   "language": "python",
   "name": "python3"
  },
  "language_info": {
   "codemirror_mode": {
    "name": "ipython",
    "version": 3
   },
   "file_extension": ".py",
   "mimetype": "text/x-python",
   "name": "python",
   "nbconvert_exporter": "python",
   "pygments_lexer": "ipython3",
   "version": "3.11.3"
  },
  "orig_nbformat": 4
 },
 "nbformat": 4,
 "nbformat_minor": 2
}
