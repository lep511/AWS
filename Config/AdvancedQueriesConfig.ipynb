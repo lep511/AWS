{
 "cells": [
  {
   "cell_type": "code",
   "execution_count": 1,
   "metadata": {},
   "outputs": [],
   "source": [
    "import boto3\n",
    "import json\n",
    "from botocore.exceptions import ClientError"
   ]
  },
  {
   "cell_type": "code",
   "execution_count": 2,
   "metadata": {},
   "outputs": [],
   "source": [
    "session = boto3.Session(profile_name='workshop')\n",
    "config = session.client('config', region_name='us-west-2')"
   ]
  },
  {
   "cell_type": "code",
   "execution_count": 12,
   "metadata": {},
   "outputs": [],
   "source": [
    "# All instances\n",
    "query = \"\"\"\n",
    "SELECT *\n",
    "WHERE resourceType = 'AWS::EC2::Instance'\n",
    "\"\"\""
   ]
  },
  {
   "cell_type": "code",
   "execution_count": 13,
   "metadata": {},
   "outputs": [
    {
     "name": "stdout",
     "output_type": "stream",
     "text": [
      "Instance ID: i-0616c27f400776065\n",
      "Region: us-west-2\n",
      "arn: arn:aws:ec2:us-west-2:508595720710:instance/i-0616c27f400776065\n",
      "---------------------------------\n",
      "Instance ID: i-0f1cb3200020d87a7\n",
      "Region: us-west-2\n",
      "arn: arn:aws:ec2:us-west-2:508595720710:instance/i-0f1cb3200020d87a7\n",
      "---------------------------------\n"
     ]
    }
   ],
   "source": [
    "# Advanced queries\n",
    "paginator = config.get_paginator('select_resource_config')\n",
    "try:\n",
    "    iterator = paginator.paginate(\n",
    "        Expression=query,\n",
    "        Limit=60,\n",
    "    )\n",
    "    for page in iterator:\n",
    "        for resource in page['Results']:\n",
    "            resource = json.loads(resource)\n",
    "            print(\"Instance ID:\", resource['resourceId'])\n",
    "            print(\"Region:\", resource['awsRegion'])\n",
    "            print(\"arn:\", resource['arn'])\n",
    "            print(\"---------------------------------\")\n",
    "except ClientError as e:\n",
    "    print(f\"Error in region {region} with message: \\n{e}\")"
   ]
  },
  {
   "cell_type": "code",
   "execution_count": 32,
   "metadata": {},
   "outputs": [],
   "source": [
    "query = \"\"\"\n",
    "SELECT\n",
    "  resourceId,\n",
    "  resourceType,\n",
    "  supplementaryConfiguration.BucketVersioningConfiguration.status\n",
    "WHERE\n",
    "  resourceType = 'AWS::S3::Bucket'\n",
    "  AND supplementaryConfiguration.BucketVersioningConfiguration.status != 'Enabled'\n",
    "\"\"\""
   ]
  },
  {
   "cell_type": "code",
   "execution_count": 33,
   "metadata": {},
   "outputs": [
    {
     "name": "stdout",
     "output_type": "stream",
     "text": [
      "Bucket Name: cca-workshop-resources-workshops3bucket1-fv3hrwssaat3\n",
      "Versioning: Off\n",
      "---------------------------------\n",
      "Bucket Name: cca-workshop-resources-workshops3bucket2-1tqh4wugpxnmc\n",
      "Versioning: Off\n",
      "---------------------------------\n",
      "Bucket Name: cf-templates-br4e7sfl2kha-us-west-2\n",
      "Versioning: Off\n",
      "---------------------------------\n",
      "Bucket Name: newdats-configbucket-yr1bo5siwwes\n",
      "Versioning: Off\n",
      "---------------------------------\n"
     ]
    }
   ],
   "source": [
    "paginator = config.get_paginator('select_resource_config')\n",
    "try:\n",
    "    iterator = paginator.paginate(\n",
    "        Expression=query,\n",
    "        Limit=60,\n",
    "    )\n",
    "    for page in iterator:\n",
    "        for resource in page['Results']:\n",
    "            resource = json.loads(resource)\n",
    "            print(\"Bucket Name:\", resource['resourceId'])\n",
    "            print(\"Versioning:\", resource['supplementaryConfiguration']['BucketVersioningConfiguration']['status'])\n",
    "            print(\"---------------------------------\")\n",
    "except ClientError as e:\n",
    "    print(f\"Error in region {region} with message: \\n{e}\")"
   ]
  },
  {
   "cell_type": "code",
   "execution_count": 39,
   "metadata": {},
   "outputs": [],
   "source": [
    "# Create custom rule\n",
    "\n",
    "rule_name = 's3-bucket-versioning-enabled-test'\n",
    "description = 'Checks that S3 buckets have versioning enabled'\n",
    "resource_type = 'AWS::S3::Bucket'\n",
    "rule_content = \"\"\"rule check_bucketversioning {\n",
    "     supplementaryConfiguration.BucketVersioningConfiguration.status == \"Enabled\" <<\n",
    "     result: NON_COMPLIANT\n",
    "     message: S3 Bucket Versioning is NOT enabled.\n",
    "     >>\n",
    "}\n",
    "\"\"\"\n",
    "\n",
    "rule = {\n",
    "    'ConfigRuleName': rule_name,\n",
    "    'Description': description,\n",
    "    'Scope': {\n",
    "        'ComplianceResourceTypes': [\n",
    "            resource_type,\n",
    "        ],\n",
    "    },\n",
    "    'Source': {\n",
    "        'Owner': 'CUSTOM_POLICY',\n",
    "        'SourceDetails': [\n",
    "            {\n",
    "                'EventSource': 'aws.config',\n",
    "                'MessageType': 'ConfigurationItemChangeNotification'\n",
    "            },\n",
    "        ],\n",
    "        'CustomPolicyDetails': {\n",
    "            'PolicyRuntime': 'guard-2.x.x',\n",
    "            'PolicyText': rule_content,\n",
    "            'EnableDebugLogDelivery': True,\n",
    "        },\n",
    "    },\n",
    "}\n",
    "\n",
    "response = config.put_config_rule(ConfigRule=rule)   \n"
   ]
  },
  {
   "cell_type": "code",
   "execution_count": 40,
   "metadata": {},
   "outputs": [
    {
     "data": {
      "text/plain": [
       "{'ResponseMetadata': {'RequestId': '13c584ad-9836-4c3c-8cd1-7aa47d9555f0',\n",
       "  'HTTPStatusCode': 200,\n",
       "  'HTTPHeaders': {'x-amzn-requestid': '13c584ad-9836-4c3c-8cd1-7aa47d9555f0',\n",
       "   'strict-transport-security': 'max-age=86400',\n",
       "   'content-type': 'application/x-amz-json-1.1',\n",
       "   'content-length': '0',\n",
       "   'date': 'Tue, 30 May 2023 20:00:24 GMT'},\n",
       "  'RetryAttempts': 0}}"
      ]
     },
     "execution_count": 40,
     "metadata": {},
     "output_type": "execute_result"
    }
   ],
   "source": [
    "response"
   ]
  },
  {
   "cell_type": "code",
   "execution_count": null,
   "metadata": {},
   "outputs": [],
   "source": [
    "# This rule checks if point in time recovery (PITR) is enabled on active Amazon DynamoDB tables\n",
    "let status = ['ACTIVE']\n",
    "\n",
    "rule tableisactive when\n",
    "    resourceType == \"AWS::DynamoDB::Table\" {\n",
    "    configuration.tableStatus == %status\n",
    "}\n",
    "\n",
    "rule checkcompliance when\n",
    "    resourceType == \"AWS::DynamoDB::Table\"\n",
    "    tableisactive {\n",
    "        let pitr = supplementaryConfiguration.ContinuousBackupsDescription.pointInTimeRecoveryDescription.pointInTimeRecoveryStatus\n",
    "        %pitr == \"ENABLED\"\n",
    "}\n",
    "                        "
   ]
  }
 ],
 "metadata": {
  "kernelspec": {
   "display_name": "myenv",
   "language": "python",
   "name": "python3"
  },
  "language_info": {
   "codemirror_mode": {
    "name": "ipython",
    "version": 3
   },
   "file_extension": ".py",
   "mimetype": "text/x-python",
   "name": "python",
   "nbconvert_exporter": "python",
   "pygments_lexer": "ipython3",
   "version": "3.10.8"
  },
  "orig_nbformat": 4
 },
 "nbformat": 4,
 "nbformat_minor": 2
}
