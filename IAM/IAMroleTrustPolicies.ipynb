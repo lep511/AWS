{
 "cells": [
  {
   "attachments": {},
   "cell_type": "markdown",
   "metadata": {},
   "source": [
    "# Cómo utilizar las políticas de confianza con los roles de IAM\n",
    "\n",
    "Existen varios escenarios diferentes en los que se pueden utilizar los roles de IAM en AWS:\n",
    "\n",
    "* **Un servicio o recurso de AWS accede a otro recurso de AWS en su cuenta** - Cuando un recurso de AWS necesita acceder a otros servicios, funciones o recursos de AWS, puede crear un rol que tenga los permisos adecuados para que lo utilice ese recurso de AWS. Servicios como AWS Lambda y Amazon Elastic Container Service (Amazon ECS) asumen roles para entregar credenciales temporales a su código que se ejecuta en ellos.\n",
    "\n",
    "* **Un servicio de AWS genera credenciales de AWS para ser utilizadas por dispositivos que se ejecutan fuera de AWS** -\n",
    "Las instancias híbridas de AWS IAM Roles Anywhere, AWS IoT Core y AWS Systems Manager pueden entregar credenciales de sesión de rol a aplicaciones, dispositivos y servidores que no se ejecutan en AWS.\n",
    "\n",
    "* **Una cuenta de AWS accede a otra cuenta de AWS** - Este caso de uso se conoce comúnmente como un patrón de rol entre cuentas. Permite que los responsables de IAM humanos o mecánicos de una cuenta de AWS asuman este rol y actúen sobre los recursos de una segunda cuenta de AWS. Se asume un rol para permitir este comportamiento cuando el recurso en la cuenta de destino no tiene una política basada en recursos que podría utilizarse para conceder acceso entre cuentas.\n",
    "\n",
    "* **Un usuario final autenticado con un proveedor de identidad web u OpenID Connect (OIDC) necesita acceder a sus recursos de AWS** - Este caso de uso permite que las identidades de Facebook o de proveedores de OIDC como GitHub, Amazon Cognito u otros proveedores genéricos de OIDC asuman un rol para acceder a los recursos de su cuenta de AWS.\n",
    "\n",
    "* **Un cliente realiza la autenticación de la fuerza de trabajo mediante la federación de SAML 2.0** - Esto ocurre cuando los clientes federan a sus usuarios en AWS desde su proveedor de identidades corporativas (IdP), como Okta, Microsoft Azure Active Directory o Active Directory Federation Services (ADFS), o desde el Centro de identidades de AWS IAM (sucesor de AWS Single Sign-On)."
   ]
  },
  {
   "cell_type": "code",
   "execution_count": 1,
   "metadata": {},
   "outputs": [],
   "source": [
    "import boto3\n",
    "import json"
   ]
  },
  {
   "cell_type": "code",
   "execution_count": 2,
   "metadata": {},
   "outputs": [],
   "source": [
    "# Create IAM client\n",
    "iam = boto3.client('iam')"
   ]
  },
  {
   "cell_type": "code",
   "execution_count": 17,
   "metadata": {},
   "outputs": [],
   "source": [
    "policy_ro = {\n",
    "    \"Version\": \"2012-10-17\",\n",
    "    \"Statement\": [\n",
    "        {\n",
    "            \"Effect\": \"Allow\",\n",
    "            \"Action\": [\n",
    "                \"ec2:Describe*\",\n",
    "                \"rds:Describe*\",\n",
    "                \"sts:AssumeRole\"\n",
    "            ],\n",
    "            \"Resource\": \"*\"\n",
    "        }\n",
    "    ]\n",
    "}"
   ]
  },
  {
   "cell_type": "code",
   "execution_count": 19,
   "metadata": {},
   "outputs": [],
   "source": [
    "# Create a policy\n",
    "response = iam.create_policy(\n",
    "    PolicyName='ReadOnlyAccessPolicy',\n",
    "    PolicyDocument=json.dumps(policy_ro)\n",
    ")"
   ]
  },
  {
   "cell_type": "code",
   "execution_count": 8,
   "metadata": {},
   "outputs": [
    {
     "name": "stdout",
     "output_type": "stream",
     "text": [
      "ARN Policy: arn:aws:iam::925404979403:policy/ReadOnlyAccess\n"
     ]
    }
   ],
   "source": [
    "arn_policy = response['Policy']['Arn']\n",
    "print(\"ARN Policy:\", arn_policy)"
   ]
  },
  {
   "cell_type": "code",
   "execution_count": 21,
   "metadata": {},
   "outputs": [],
   "source": [
    "account_id = boto3.client('sts').get_caller_identity().get('Account')"
   ]
  },
  {
   "cell_type": "code",
   "execution_count": 24,
   "metadata": {},
   "outputs": [],
   "source": [
    "role_policy = {\n",
    "    \"Version\": \"2012-10-17\",\n",
    "    \"Statement\": [\n",
    "        {\n",
    "            \"Effect\": \"Allow\",\n",
    "            \"Principal\": {\n",
    "                \"AWS\": \"arn:aws:iam::\" + str(account_id) + \":root\"\n",
    "            },\n",
    "            \"Action\": \"sts:AssumeRole\",\n",
    "            \"Condition\": {}\n",
    "        }\n",
    "    ]\n",
    "}"
   ]
  },
  {
   "cell_type": "code",
   "execution_count": 27,
   "metadata": {},
   "outputs": [],
   "source": [
    "# Create a role\n",
    "response = iam.create_role(\n",
    "    RoleName='ReadOnlyAccessRole',\n",
    "    AssumeRolePolicyDocument=json.dumps(role_policy)\n",
    ")"
   ]
  },
  {
   "cell_type": "code",
   "execution_count": 29,
   "metadata": {},
   "outputs": [
    {
     "name": "stdout",
     "output_type": "stream",
     "text": [
      "Role ARN: arn:aws:iam::925404979403:role/ReadOnlyAccessRole\n"
     ]
    }
   ],
   "source": [
    "role_arn = response['Role']['Arn']\n",
    "print(\"Role ARN:\", role_arn)"
   ]
  },
  {
   "cell_type": "code",
   "execution_count": 30,
   "metadata": {},
   "outputs": [],
   "source": [
    "# Attach policy to role\n",
    "response = iam.attach_role_policy(\n",
    "    RoleName='ReadOnlyAccessRole',\n",
    "    PolicyArn=arn_policy\n",
    ")"
   ]
  },
  {
   "cell_type": "code",
   "execution_count": 31,
   "metadata": {},
   "outputs": [],
   "source": [
    "# Switch to the role\n",
    "sts_client = boto3.client('sts')\n",
    "assumed_role_object = sts_client.assume_role(\n",
    "    RoleArn=role_arn,\n",
    "    RoleSessionName=\"AssumeRoleSession1\"\n",
    ")"
   ]
  },
  {
   "attachments": {},
   "cell_type": "markdown",
   "metadata": {},
   "source": [
    "----------------------"
   ]
  },
  {
   "cell_type": "code",
   "execution_count": 6,
   "metadata": {},
   "outputs": [],
   "source": [
    "import boto3\n",
    "import json\n",
    "from botocore.exceptions import ClientError"
   ]
  },
  {
   "cell_type": "code",
   "execution_count": 18,
   "metadata": {},
   "outputs": [],
   "source": [
    "file_json = 'policy_filter_tag.json'\n",
    "policy_name = 'dynamodb-policy-test-sample'\n",
    "policy = json.load(open(file_json, 'r'))"
   ]
  },
  {
   "cell_type": "code",
   "execution_count": 19,
   "metadata": {},
   "outputs": [
    {
     "name": "stdout",
     "output_type": "stream",
     "text": [
      "Policy dynamodb-policy-test-sample updated successfully. Arn: arn:aws:iam::089715336747:policy/dynamodb-policy-test-sample\n"
     ]
    }
   ],
   "source": [
    "iam = boto3.client('iam')\n",
    "try:\n",
    "    response = iam.create_policy(\n",
    "        PolicyName=policy_name,\n",
    "        PolicyDocument=json.dumps(policy)\n",
    "    )\n",
    "    print(f\"Policy {policy_name} created successfully. Arn: {response['Policy']['Arn']}\")\n",
    "\n",
    "except ClientError as e:\n",
    "    if e.response['Error']['Code'] == 'EntityAlreadyExists':\n",
    "        #Update policy\n",
    "        account_id = boto3.client('sts').get_caller_identity().get('Account')\n",
    "        response = iam.get_policy(PolicyArn=f\"arn:aws:iam::{account_id}:policy/{policy_name}\")\n",
    "        policy_arn = response['Policy']['Arn']\n",
    "        # Delete all policy versions except the default version\n",
    "        response = iam.list_policy_versions(PolicyArn=f\"arn:aws:iam::{account_id}:policy/{policy_name}\")\n",
    "        for version in response['Versions']:\n",
    "            if not version['IsDefaultVersion']:\n",
    "                response = iam.delete_policy_version(\n",
    "                    PolicyArn=policy_arn,\n",
    "                    VersionId=version['VersionId']\n",
    "                )   \n",
    "        response = iam.create_policy_version(\n",
    "            PolicyArn=policy_arn,\n",
    "            PolicyDocument=json.dumps(policy),\n",
    "            SetAsDefault=True\n",
    "        )\n",
    "        print(f\"Policy {policy_name} updated successfully. Arn: {policy_arn}\")\n",
    "    else:\n",
    "        print(\"Unexpected error: %s\" % e)\n",
    "    "
   ]
  },
  {
   "cell_type": "code",
   "execution_count": 2,
   "metadata": {},
   "outputs": [],
   "source": [
    "session = boto3.Session(profile_name='089715336747_DynamoAttributes')\n",
    "dynamo_client = session.client('dynamodb', region_name='us-east-1')\n",
    "s3_client = session.client('s3', region_name='us-east-1')"
   ]
  },
  {
   "cell_type": "code",
   "execution_count": 5,
   "metadata": {},
   "outputs": [],
   "source": [
    "# Get object from S3\n",
    "response = s3_client.get_object(\n",
    "    Bucket='workshop-redshift-394-33',\n",
    "    Key='Nation.csv'\n",
    ")"
   ]
  }
 ],
 "metadata": {
  "kernelspec": {
   "display_name": "base",
   "language": "python",
   "name": "python3"
  },
  "language_info": {
   "codemirror_mode": {
    "name": "ipython",
    "version": 3
   },
   "file_extension": ".py",
   "mimetype": "text/x-python",
   "name": "python",
   "nbconvert_exporter": "python",
   "pygments_lexer": "ipython3",
   "version": "3.10.8"
  },
  "orig_nbformat": 4,
  "vscode": {
   "interpreter": {
    "hash": "c9cdd2fa3b32da9704bd8048bdba085d67219855a318f4adc7f095bb5cfa603b"
   }
  }
 },
 "nbformat": 4,
 "nbformat_minor": 2
}
