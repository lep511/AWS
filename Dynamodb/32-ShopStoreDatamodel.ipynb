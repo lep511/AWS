{
 "cells": [
  {
   "cell_type": "markdown",
   "metadata": {},
   "source": [
    "## Shop Store Example\n",
    "\n",
    "![image](images/diagram-01.jpeg)\n",
    "\n",
    "#### ¿Por qué utilizar una sola tabla en lugar de varias?\n",
    "Porque nuestros datos forman parte del mismo conjunto de datos. El concepto de tabla en DynamoDB es comparable al concepto de base de datos en motores como Postgres o MySQL. Si los datos están relacionados y necesitamos consultarlos juntos, van a la misma tabla de DynamoDB.\n",
    "Si estuviéramos construyendo microservicios, cada microservicio tendría su propia Tabla, porque tiene sus propios datos.\n",
    "\n",
    "#### ¿Qué son los índices secundarios locales y los índices secundarios globales en DynamoDB?\n",
    "Son estructuras de datos que contienen un subconjunto de atributos de una tabla y una clave principal diferente. Los índices secundarios locales tienen la misma clave de partición y una clave de ordenación diferente, mientras que los índices secundarios globales tienen una clave de partición y una clave de ordenación diferentes. Usted define los atributos que desea proyectar en el índice, y DynamoDB copia estos atributos en el índice, junto con los atributos de clave primaria de la tabla base. A continuación, puede consultar o escanear el índice del mismo modo que consultaría o escanearía una tabla.\n",
    "Las consultas contra la clave primaria son realmente rápidas y baratas, y las consultas que no son contra la clave primaria son realmente lentas y caras. Los índices nos proporcionan una clave primaria diferente para los mismos atributos, por lo que podemos consultar los mismos datos de diferentes maneras.\n",
    "\n",
    "\n",
    "[Link to Access Patterns](https://docs.google.com/spreadsheets/d/1TU0IrwYBBC6xzqyx_jJkOjZaGuq2Cd2i4xngqFGsS6Y/edit?usp=sharing)"
   ]
  },
  {
   "cell_type": "code",
   "execution_count": 1,
   "metadata": {},
   "outputs": [],
   "source": [
    "import boto3\n",
    "from botocore.exceptions import ClientError\n",
    "import pandas as pd\n",
    "import base64\n",
    "from spdynamodb import DynamoTable\n",
    "from datetime import datetime\n",
    "import json\n",
    "import time\n",
    "from decimal import Decimal"
   ]
  },
  {
   "cell_type": "code",
   "execution_count": 2,
   "metadata": {},
   "outputs": [
    {
     "name": "stdout",
     "output_type": "stream",
     "text": [
      "- Table name: ShopSampleTable            \n",
      "- Table arn: arn:aws:dynamodb:us-east-1:637423169504:table/ShopSampleTable            \n",
      "- Table creation: 2024-07-22 14:38:40            \n",
      "- [{'AttributeName': 'PK', 'KeyType': 'HASH'}, {'AttributeName': 'SK', 'KeyType': 'RANGE'}]            \n",
      "- [{'AttributeName': 'GSI1-PK', 'AttributeType': 'S'}, {'AttributeName': 'GSI1-SK', 'AttributeType': 'S'}, {'AttributeName': 'GSI2-PK', 'AttributeType': 'S'}, {'AttributeName': 'GSI2-SK', 'AttributeType': 'S'}, {'AttributeName': 'PK', 'AttributeType': 'S'}, {'AttributeName': 'SK', 'AttributeType': 'S'}]            \n",
      "- Point-in-time recovery status: DISABLED  |  Delete protection: False\n"
     ]
    }
   ],
   "source": [
    "dt = DynamoTable()\n",
    "try:\n",
    "    dt.select_table('ShopSampleTable')\n",
    "    print(dt)\n",
    "except:\n",
    "    dt.create_table(\n",
    "        table_name='ShopSampleTable',\n",
    "        partition_key='PK',\n",
    "        partition_key_type='S',\n",
    "        sort_key=\"SK\",\n",
    "        sort_key_type=\"S\"\n",
    ")"
   ]
  },
  {
   "cell_type": "code",
   "execution_count": null,
   "metadata": {},
   "outputs": [],
   "source": [
    "dt.create_global_secondary_index(\n",
    "    att_name=\"GSI1-PK\",\n",
    "    att_type=\"S\",\n",
    "    sort_index=\"GSI1-SK\",\n",
    "    sort_type=\"S\",\n",
    "    index_name=\"GSI1\",\n",
    "    read_capacity=5,\n",
    "    write_capacity=5\n",
    ")"
   ]
  },
  {
   "cell_type": "code",
   "execution_count": null,
   "metadata": {},
   "outputs": [],
   "source": [
    "status = dt.check_status_gsi()\n",
    "while status == 'CREATING':\n",
    "    status = dt.check_status_gsi()\n",
    "    time.sleep(30)\n",
    "print(\"Global secondary index created.\")"
   ]
  },
  {
   "cell_type": "code",
   "execution_count": null,
   "metadata": {},
   "outputs": [],
   "source": [
    "dt.create_global_secondary_index(\n",
    "    att_name=\"GSI2-PK\",\n",
    "    att_type=\"S\",\n",
    "    sort_index=\"GSI2-SK\",\n",
    "    sort_type=\"S\",\n",
    "    index_name=\"GSI2\",\n",
    "    read_capacity=5,\n",
    "    write_capacity=5\n",
    ")"
   ]
  },
  {
   "cell_type": "code",
   "execution_count": null,
   "metadata": {},
   "outputs": [],
   "source": [
    "status = dt.check_status_gsi()\n",
    "while status == 'CREATING':\n",
    "    status = dt.check_status_gsi()\n",
    "    time.sleep(30)\n",
    "print(\"Global secondary index created.\")"
   ]
  },
  {
   "cell_type": "markdown",
   "metadata": {},
   "source": [
    "### Add Customers"
   ]
  },
  {
   "cell_type": "code",
   "execution_count": null,
   "metadata": {},
   "outputs": [],
   "source": [
    "dt.add_item({\n",
    "    \"PK\": \"c#20656\",\n",
    "    \"SK\": \"c#20656\",\n",
    "    \"EntityType\": \"Client\",\n",
    "    \"Email\": \"joe@example.com\",\n",
    "    \"FirstName\": \"Joe\",\n",
    "    \"LastName\": \"Smith\",\n",
    "    \"Addres\": {\n",
    "        \"Street\": \"123 Main St\",\n",
    "        \"City\": \"Anytown\",\n",
    "        \"State\": \"CA\",\n",
    "        \"Zip\": \"12345\"\n",
    "    },\n",
    "    \"Date\": \"2023-12-05T12:33:10\"\n",
    "})\n",
    "dt.add_item({\n",
    "    \"PK\": \"c#81294\",\n",
    "    \"SK\": \"c#81294\",\n",
    "    \"EntityType\": \"Client\",\n",
    "    \"Email\": \"jane.doe@email.com\",\n",
    "    \"FirstName\": \"Jane\",\n",
    "    \"LastName\": \"Doe\",\n",
    "    \"Addres\": {  \n",
    "        \"Street\": \"45 Elm Street\",\n",
    "        \"City\": \"Springfield\",\n",
    "        \"State\": \"IL\",\n",
    "        \"Zip\": \"62704\"\n",
    "    },\n",
    "    \"Date\": \"2024-02-18T09:15:42\" \n",
    "})\n",
    "dt.add_item({\n",
    "    \"PK\": \"c#39712\",\n",
    "    \"SK\": \"c#39712\",\n",
    "    \"EntityType\": \"Client\",\n",
    "    \"Email\": \"michael.johnson@domain.net\",\n",
    "    \"FirstName\": \"Michael\",\n",
    "    \"LastName\": \"Johnson\",\n",
    "    \"Addres\": {  \n",
    "        \"Street\": \"987 Oak Avenue\",\n",
    "        \"City\": \"Austin\",\n",
    "        \"State\": \"TX\",\n",
    "        \"Zip\": \"78701\"\n",
    "    },\n",
    "    \"Date\": \"2023-08-22T16:08:33\" \n",
    "})\n",
    "dt.add_item({\n",
    "    \"PK\": \"c#55038\",\n",
    "    \"SK\": \"c#55038\",\n",
    "    \"EntityType\": \"Client\",\n",
    "    \"Email\": \"emily.davis@company.org\",\n",
    "    \"FirstName\": \"Emily\",\n",
    "    \"LastName\": \"Davis\",\n",
    "    \"Addres\": {  \n",
    "        \"Street\": \"65 Pine Lane\",\n",
    "        \"City\": \"New York\",\n",
    "        \"State\": \"NY\",\n",
    "        \"Zip\": \"10001\"\n",
    "    },\n",
    "    \"Date\": \"2023-05-03T11:29:57\" \n",
    "})"
   ]
  },
  {
   "cell_type": "markdown",
   "metadata": {},
   "source": [
    "### Add Products"
   ]
  },
  {
   "cell_type": "code",
   "execution_count": null,
   "metadata": {},
   "outputs": [],
   "source": [
    "dt.add_item({\n",
    "    \"PK\": \"p#1244\",\n",
    "    \"SK\": \"p#1244\",\n",
    "    \"EntityType\": \"Product\",\n",
    "    \"Detail\": {\n",
    "        \"Name\": \"War and Peace\",\n",
    "        \"Description\": \"Novel by Leon Tolstoy\"\n",
    "    },\n",
    "    \"Stock\": 39,\n",
    "    \"Price\": 12.99,\n",
    "    \"Date\": \"2023-05-03T11:29:57\" \n",
    "})\n",
    "dt.add_item({\n",
    "    \"PK\": \"p#6745\",\n",
    "    \"SK\": \"p#6745\",\n",
    "    \"EntityType\": \"Product\",\n",
    "    \"Detail\": {\n",
    "        \"Name\": \"Building Block Set - 500 Pieces\",\n",
    "        \"Description\": \"Colorful plastic building blocks for creative construction\",\n",
    "        \"Category\": \"Toys\",\n",
    "        \"AgeRange\": \"3+\",\n",
    "        \"Brand\": \"BlockMasters\"\n",
    "    },\n",
    "    \"Stock\": 85,\n",
    "    \"Price\": 24.99,\n",
    "    \"Date\": \"2023-11-18T10:35:08\" \n",
    "})\n",
    "dt.add_item({\n",
    "    \"PK\": \"p#3398\",\n",
    "    \"SK\": \"p#3398\",\n",
    "    \"EntityType\": \"Product\",\n",
    "    \"Detail\": {\n",
    "        \"Name\": \"Stainless Steel Kitchen Knife Set - 5 Piece\",\n",
    "        \"Description\": \"High-quality knife set for professional and home chefs\",\n",
    "        \"Category\": \"Kitchen\",\n",
    "        \"Material\": \"Stainless Steel\",\n",
    "        \"Brand\": \"CutleryPro\"\n",
    "    },\n",
    "    \"Stock\": 32,\n",
    "    \"Price\": 49.95,\n",
    "    \"Date\": \"2023-09-25T14:10:22\" \n",
    "})\n",
    "dt.add_item({\n",
    "    \"PK\": \"p#7129\",\n",
    "    \"SK\": \"p#7129\",\n",
    "    \"EntityType\": \"Product\",\n",
    "    \"Detail\": {\n",
    "        \"Name\": \"Men's Denim Jeans - Slim Fit\",\n",
    "        \"Description\": \"Classic slim-fit jeans in dark wash denim\",\n",
    "        \"Category\": \"Clothing\",\n",
    "        \"SubCategory\": \"Men's\",\n",
    "        \"Size\": \"32W 32L\",\n",
    "        \"Color\": \"Dark Blue\",\n",
    "        \"Brand\": \"UrbanWear\"\n",
    "    },\n",
    "    \"Stock\": 18,\n",
    "    \"Price\": 59.00,\n",
    "    \"Date\": \"2023-12-03T08:55:17\" \n",
    "})\n"
   ]
  },
  {
   "cell_type": "markdown",
   "metadata": {},
   "source": [
    "### Add Orders"
   ]
  },
  {
   "cell_type": "code",
   "execution_count": null,
   "metadata": {},
   "outputs": [],
   "source": [
    "dt.add_item({\n",
    "    \"PK\": \"o#39488\",\n",
    "    \"SK\": \"c#20656\",\n",
    "    \"EntityType\": \"Order\",\n",
    "    \"OrderDate\": \"2023-07-15T10:35:28\",\n",
    "    \"CustomerName\": \"John Doe\",\n",
    "    \"ShippingAddress\": {\n",
    "        \"Street\": \"123 Main St\",\n",
    "        \"City\": \"Anytown\",\n",
    "        \"State\": \"CA\",\n",
    "        \"ZIP\": \"12345\"\n",
    "    },\n",
    "    \"Items\": [\n",
    "        {\"ProductSK\": \"p#2891\", \"Quantity\": 2, \"Price\": 14.99},\n",
    "        {\"ProductSK\": \"p#5603\", \"Quantity\": 1, \"Price\": 29.95}\n",
    "    ],\n",
    "    \"OrderStatus\": \"Pending\"\n",
    "})\n",
    "dt.add_item({\n",
    "    \"PK\": \"o#81255\",\n",
    "    \"SK\": \"c#98765\",\n",
    "    \"EntityType\": \"Order\",\n",
    "    \"OrderDate\": \"2023-11-22T18:12:05\",\n",
    "    \"CustomerName\": \"Jane Smith\",\n",
    "    \"ShippingAddress\": {\n",
    "        \"Street\": \"456 Elm St\",\n",
    "        \"City\": \"Otherville\",\n",
    "        \"State\": \"NY\",\n",
    "        \"ZIP\": \"54321\"\n",
    "    },\n",
    "    \"Items\": [\n",
    "        {\"ProductSK\": \"p#6745\", \"Quantity\": 3, \"Price\": 9.50}\n",
    "    ],\n",
    "    \"OrderStatus\": \"Shipped\"\n",
    "})\n",
    "dt.add_item({\n",
    "    \"PK\": \"o#10032\",\n",
    "    \"SK\": \"c#45123\",\n",
    "    \"EntityType\": \"Order\",\n",
    "    \"OrderDate\": \"2024-01-08T09:00:43\",\n",
    "    \"CustomerName\": \"Mike Johnson\",\n",
    "    \"ShippingAddress\": {\n",
    "        \"Street\": \"789 Oak St\",\n",
    "        \"City\": \"Someplace\",\n",
    "        \"State\": \"FL\",\n",
    "        \"ZIP\": \"98765\"\n",
    "    },\n",
    "    \"Items\": [\n",
    "        {\"ProductSK\": \"p#9822\", \"Quantity\": 1, \"Price\": 19.99},\n",
    "        {\"ProductSK\": \"p#3398\", \"Quantity\": 1, \"Price\": 35.00}\n",
    "    ],\n",
    "    \"OrderStatus\": \"Delivered\"\n",
    "})"
   ]
  },
  {
   "cell_type": "markdown",
   "metadata": {},
   "source": [
    "### Add OderItems"
   ]
  },
  {
   "cell_type": "code",
   "execution_count": null,
   "metadata": {},
   "outputs": [],
   "source": [
    "p#7129"
   ]
  },
  {
   "cell_type": "code",
   "execution_count": null,
   "metadata": {},
   "outputs": [],
   "source": [
    "dt.add_item({\n",
    "    \"PK\": \"o#39488\",\n",
    "    \"SK\": \"p#6745\",\n",
    "    \"EntityType\": \"OrderItem\",\n",
    "    \"GSI1-PK\": \"p#6745\",\n",
    "    \"GSI1-SK\": \"2023-11-06T18:07:00\",\n",
    "    \"GSI2-PK\": \"c#20656\",\n",
    "    \"GSI2-SK\": \"p#2023-11-06T18:07:00\",\n",
    "    \"Price\": 20.99,\n",
    "    \"Quantity\": 4\n",
    "})\n",
    "dt.add_item({\n",
    "    \"PK\": \"o#39488\",\n",
    "    \"SK\": \"p#7129\",\n",
    "    \"EntityType\": \"OrderItem\",\n",
    "    \"GSI1-PK\": \"p#7129\",\n",
    "    \"GSI1-SK\": \"2024-06-11T09:02:14\",\n",
    "    \"GSI2-PK\": \"c#20656\",\n",
    "    \"GSI2-SK\": \"p#2024-06-11T09:02:14\",\n",
    "    \"Price\": 20.99,\n",
    "    \"Quantity\": 4\n",
    "})\n",
    "dt.add_item({\n",
    "    \"PK\": \"o#31655\",\n",
    "    \"SK\": \"p#7129\",\n",
    "    \"EntityType\": \"OrderItem\",\n",
    "    \"GSI1-PK\": \"p#7129\",\n",
    "    \"GSI1-SK\": \"2022-12-05T12:02:14\",\n",
    "    \"GSI2-PK\": \"c#20656\",\n",
    "    \"GSI2-SK\": \"p#2022-12-05T12:02:14\",\n",
    "    \"Price\": 20.99,\n",
    "    \"Quantity\": 4\n",
    "})\n",
    "dt.add_item({\n",
    "    \"PK\": \"o#36885\",\n",
    "    \"SK\": \"p#7129\",\n",
    "    \"EntityType\": \"OrderItem\",\n",
    "    \"GSI1-PK\": \"p#7129\",\n",
    "    \"GSI1-SK\": \"2021-02-10T03:02:14\",\n",
    "    \"GSI2-PK\": \"c#20656\",\n",
    "    \"GSI2-SK\": \"p#2021-02-10T03:02:14\",\n",
    "    \"Price\": 20.99,\n",
    "    \"Quantity\": 4\n",
    "})"
   ]
  },
  {
   "cell_type": "markdown",
   "metadata": {},
   "source": [
    "### Add Invoice"
   ]
  },
  {
   "cell_type": "code",
   "execution_count": 6,
   "metadata": {},
   "outputs": [],
   "source": [
    "dt.add_item({\n",
    "    \"PK\": \"o#39488\",\n",
    "    \"SK\": \"i#15889\",\n",
    "    \"EntityType\": \"Invoice\",\n",
    "    \"GSI1-PK\": \"i#15889\",\n",
    "    \"GSI1-SK\": \"i#15889\",\n",
    "    \"GSI2-PK\": \"c#20656\",\n",
    "    \"GSI2-SK\": \"i#2024-05-15T08:10:14\",\n",
    "    \"Amount\": 125.55,\n",
    "    \"Date\": \"2024-05-15T08:10:14\"\n",
    "})\n",
    "dt.add_item({\n",
    "    \"PK\": \"o#39488\",\n",
    "    \"SK\": \"i#85466\",\n",
    "    \"EntityType\": \"Invoice\",\n",
    "    \"GSI1-PK\": \"i#85466\",\n",
    "    \"GSI1-SK\": \"i#85466\",\n",
    "    \"GSI2-PK\": \"c#20656\",\n",
    "    \"GSI2-SK\": \"i#2022-02-18T08:10:14\",\n",
    "    \"Amount\": 203.99,\n",
    "    \"Date\": \"2022-02-18T08:10:14\"\n",
    "})\n",
    "dt.add_item({\n",
    "    \"PK\": \"o#39488\",\n",
    "    \"SK\": \"i#66584\",\n",
    "    \"EntityType\": \"Invoice\",\n",
    "    \"GSI1-PK\": \"i#66584\",\n",
    "    \"GSI1-SK\": \"i#66584\",\n",
    "    \"GSI2-PK\": \"c#20656\",\n",
    "    \"GSI2-SK\": \"i#2023-09-22T08:10:14\",\n",
    "    \"Amount\": 70.99,\n",
    "    \"Date\": \"2023-09-22T08:10:14\"\n",
    "})"
   ]
  },
  {
   "cell_type": "markdown",
   "metadata": {},
   "source": [
    "### 1. Get customer for a given customerId"
   ]
  },
  {
   "cell_type": "code",
   "execution_count": null,
   "metadata": {},
   "outputs": [],
   "source": [
    "dt.get_item(\n",
    "    pk_value=\"c#20656\",\n",
    "    sk_value=\"c#20656\"\n",
    ")"
   ]
  },
  {
   "cell_type": "markdown",
   "metadata": {},
   "source": [
    "### 2. Get product for a given productId"
   ]
  },
  {
   "cell_type": "code",
   "execution_count": null,
   "metadata": {},
   "outputs": [],
   "source": [
    "dt.get_item(\n",
    "    pk_value=\"p#1244\",\n",
    "    sk_value=\"p#1244\"\n",
    ")"
   ]
  },
  {
   "cell_type": "markdown",
   "metadata": {},
   "source": [
    "### 3. Get order for a given orderId"
   ]
  },
  {
   "cell_type": "code",
   "execution_count": null,
   "metadata": {},
   "outputs": [],
   "source": [
    "dt.query(\n",
    "    pk_value=\"o#39488\",\n",
    "    to_pandas=True\n",
    ")"
   ]
  },
  {
   "cell_type": "markdown",
   "metadata": {},
   "source": [
    "### 4. Get all products for a given orderId"
   ]
  },
  {
   "cell_type": "code",
   "execution_count": null,
   "metadata": {},
   "outputs": [],
   "source": [
    "dt.query(\n",
    "    pk_value=\"o#39488\",\n",
    "    sk_value=\"p#*\",\n",
    "    to_pandas=True\n",
    ")"
   ]
  },
  {
   "cell_type": "markdown",
   "metadata": {},
   "source": [
    "### 5. Get invoice for a given orderId"
   ]
  },
  {
   "cell_type": "code",
   "execution_count": null,
   "metadata": {},
   "outputs": [],
   "source": [
    "dt.query(\n",
    "    pk_value=\"o#39488\",\n",
    "    sk_value=\"i#*\",\n",
    "    to_pandas=True\n",
    ")"
   ]
  },
  {
   "cell_type": "markdown",
   "metadata": {},
   "source": [
    "### 6. Get all orders for a given productId for a given date range"
   ]
  },
  {
   "cell_type": "code",
   "execution_count": 13,
   "metadata": {},
   "outputs": [
    {
     "data": {
      "text/html": [
       "<div>\n",
       "<style scoped>\n",
       "    .dataframe tbody tr th:only-of-type {\n",
       "        vertical-align: middle;\n",
       "    }\n",
       "\n",
       "    .dataframe tbody tr th {\n",
       "        vertical-align: top;\n",
       "    }\n",
       "\n",
       "    .dataframe thead th {\n",
       "        text-align: right;\n",
       "    }\n",
       "</style>\n",
       "<table border=\"1\" class=\"dataframe\">\n",
       "  <thead>\n",
       "    <tr style=\"text-align: right;\">\n",
       "      <th></th>\n",
       "      <th>GSI2-SK</th>\n",
       "      <th>Price</th>\n",
       "      <th>SK</th>\n",
       "      <th>GSI1-SK</th>\n",
       "      <th>GSI1-PK</th>\n",
       "      <th>Quantity</th>\n",
       "      <th>GSI2-PK</th>\n",
       "      <th>PK</th>\n",
       "      <th>EntityType</th>\n",
       "    </tr>\n",
       "  </thead>\n",
       "  <tbody>\n",
       "    <tr>\n",
       "      <th>0</th>\n",
       "      <td>p#2021-02-10T03:02:14</td>\n",
       "      <td>20.99</td>\n",
       "      <td>p#7129</td>\n",
       "      <td>2021-02-10T03:02:14</td>\n",
       "      <td>p#7129</td>\n",
       "      <td>4</td>\n",
       "      <td>c#20656</td>\n",
       "      <td>o#36885</td>\n",
       "      <td>OrderItem</td>\n",
       "    </tr>\n",
       "    <tr>\n",
       "      <th>1</th>\n",
       "      <td>p#2022-12-05T12:02:14</td>\n",
       "      <td>20.99</td>\n",
       "      <td>p#7129</td>\n",
       "      <td>2022-12-05T12:02:14</td>\n",
       "      <td>p#7129</td>\n",
       "      <td>4</td>\n",
       "      <td>c#20656</td>\n",
       "      <td>o#31655</td>\n",
       "      <td>OrderItem</td>\n",
       "    </tr>\n",
       "    <tr>\n",
       "      <th>2</th>\n",
       "      <td>p#2024-06-11T09:02:14</td>\n",
       "      <td>20.99</td>\n",
       "      <td>p#7129</td>\n",
       "      <td>2024-06-11T09:02:14</td>\n",
       "      <td>p#7129</td>\n",
       "      <td>4</td>\n",
       "      <td>c#20656</td>\n",
       "      <td>o#39488</td>\n",
       "      <td>OrderItem</td>\n",
       "    </tr>\n",
       "  </tbody>\n",
       "</table>\n",
       "</div>"
      ],
      "text/plain": [
       "                 GSI2-SK  Price      SK              GSI1-SK GSI1-PK  \\\n",
       "0  p#2021-02-10T03:02:14  20.99  p#7129  2021-02-10T03:02:14  p#7129   \n",
       "1  p#2022-12-05T12:02:14  20.99  p#7129  2022-12-05T12:02:14  p#7129   \n",
       "2  p#2024-06-11T09:02:14  20.99  p#7129  2024-06-11T09:02:14  p#7129   \n",
       "\n",
       "   Quantity  GSI2-PK       PK EntityType  \n",
       "0         4  c#20656  o#36885  OrderItem  \n",
       "1         4  c#20656  o#31655  OrderItem  \n",
       "2         4  c#20656  o#39488  OrderItem  "
      ]
     },
     "execution_count": 13,
     "metadata": {},
     "output_type": "execute_result"
    }
   ],
   "source": [
    "dt.query(\n",
    "    pk_value=\"p#7129\",\n",
    "    sk_value=\"2021-02-10T03:02:14_2024-12-10T12:10:14\",\n",
    "    index_name=\"GSI1\",\n",
    "    to_pandas=True\n",
    ")"
   ]
  },
  {
   "cell_type": "markdown",
   "metadata": {},
   "source": [
    "### 7. Get invoice for a given invoiceId"
   ]
  },
  {
   "cell_type": "code",
   "execution_count": null,
   "metadata": {},
   "outputs": [],
   "source": [
    "dt.query(\n",
    "    pk_value=\"i#15889\",\n",
    "    sk_value=\"i#15889\",\n",
    "    index_name=\"GSI1\"\n",
    ")"
   ]
  },
  {
   "cell_type": "markdown",
   "metadata": {},
   "source": [
    "### 8. Get all payments for a given invoiceId"
   ]
  },
  {
   "cell_type": "code",
   "execution_count": null,
   "metadata": {},
   "outputs": [],
   "source": [
    "# ToDo"
   ]
  },
  {
   "cell_type": "markdown",
   "metadata": {},
   "source": [
    "### 9. Get all invoices for a given customerId for a given date range"
   ]
  },
  {
   "cell_type": "code",
   "execution_count": 3,
   "metadata": {},
   "outputs": [
    {
     "data": {
      "text/plain": [
       "[{'Date': '2023-09-22T08:10:14',\n",
       "  'GSI2-SK': 'i#2023-09-22T08:10:14',\n",
       "  'GSI1-SK': 'i#66584',\n",
       "  'SK': 'i#66584',\n",
       "  'GSI1-PK': 'i#66584',\n",
       "  'GSI2-PK': 'c#20656',\n",
       "  'Amount': 70.99,\n",
       "  'PK': 'o#39488',\n",
       "  'EntityType': 'Invoice'},\n",
       " {'Date': '2024-05-15T08:10:14',\n",
       "  'GSI2-SK': 'i#2024-05-15T08:10:14',\n",
       "  'GSI1-SK': 'i#15889',\n",
       "  'SK': 'i#15889',\n",
       "  'GSI1-PK': 'i#15889',\n",
       "  'GSI2-PK': 'c#20656',\n",
       "  'Amount': 125.55,\n",
       "  'PK': 'o#39488',\n",
       "  'EntityType': 'Invoice'}]"
      ]
     },
     "execution_count": 3,
     "metadata": {},
     "output_type": "execute_result"
    }
   ],
   "source": [
    "dt.query(\n",
    "    pk_value=\"c#20656\",\n",
    "    sk_value=\"i#2023-04-01_i#2024-12-30\",\n",
    "    index_name=\"GSI2\"\n",
    ")"
   ]
  },
  {
   "cell_type": "markdown",
   "metadata": {},
   "source": [
    "### 10. Get all products ordered by a given customerId for a given date range"
   ]
  },
  {
   "cell_type": "code",
   "execution_count": 18,
   "metadata": {},
   "outputs": [
    {
     "name": "stdout",
     "output_type": "stream",
     "text": [
      "Consumed Capacity: 0.5\n"
     ]
    },
    {
     "data": {
      "text/plain": [
       "[{'GSI2-SK': 'p#2022-12-05T12:02:14',\n",
       "  'GSI1-SK': '2022-12-05T12:02:14',\n",
       "  'Price': 20.99,\n",
       "  'SK': 'p#7129',\n",
       "  'GSI1-PK': 'p#7129',\n",
       "  'GSI2-PK': 'c#20656',\n",
       "  'Quantity': 4,\n",
       "  'PK': 'o#31655',\n",
       "  'EntityType': 'OrderItem'},\n",
       " {'GSI2-SK': 'p#2023-11-06T18:07:00',\n",
       "  'GSI1-SK': '2023-11-06T18:07:00',\n",
       "  'Price': 20.99,\n",
       "  'SK': 'p#6745',\n",
       "  'GSI1-PK': 'p#6745',\n",
       "  'GSI2-PK': 'c#20656',\n",
       "  'Quantity': 4,\n",
       "  'PK': 'o#39488',\n",
       "  'EntityType': 'OrderItem'},\n",
       " {'GSI2-SK': 'p#2024-06-11T09:02:14',\n",
       "  'GSI1-SK': '2024-06-11T09:02:14',\n",
       "  'Price': 20.99,\n",
       "  'SK': 'p#7129',\n",
       "  'GSI1-PK': 'p#7129',\n",
       "  'GSI2-PK': 'c#20656',\n",
       "  'Quantity': 4,\n",
       "  'PK': 'o#39488',\n",
       "  'EntityType': 'OrderItem'}]"
      ]
     },
     "execution_count": 18,
     "metadata": {},
     "output_type": "execute_result"
    }
   ],
   "source": [
    "dt.query(\n",
    "    pk_value=\"c#20656\",\n",
    "    sk_value=\"p#2021-04-01_p#2024-12-30\",\n",
    "    index_name=\"GSI2\",\n",
    "    consumed_capacity=True\n",
    ")"
   ]
  },
  {
   "cell_type": "markdown",
   "metadata": {},
   "source": [
    "### Prácticas recomendadas para Amazon DynamoDB\n",
    "\n",
    "#### Excelencia operativa\n",
    "* Elija la consistencia de lectura correcta: Las lecturas de DynamoDB son finalmente consistentes por defecto. También puede realizar lecturas fuertemente consistentes, que cuestan el doble.\n",
    "\n",
    "* Utilice transacciones cuando sea necesario: Las operaciones son atómicas, pero si necesita realizar más de una operación de forma atómica, puede utilizar una transacción. El coste es el doble de las operaciones normales.\n",
    "\n",
    "* Monitorizar y optimizar: CloudWatch ofrece información muy útil sobre cómo se utiliza DynamoDB. Utilice esta información para optimizar su tabla.\n",
    "\n",
    "#### Seguridad\n",
    "* Utilice permisos IAM y privilegios mínimos: Debe conceder permisos para DynamoDB explícitamente, utilizando IAM. Puede otorgar permisos a su rol de IAM solo en una tabla, solo para algunas operaciones, e incluso puede hacerlo por elemento o por atributo. Conceda los permisos mínimos necesarios, no más.\n",
    "\n",
    "#### Fiabilidad\n",
    "* Añade una cola SQS para limitar las escrituras: En el modo aprovisionado, si excedes las unidades de capacidad de escritura disponibles, tu operación fallará. Su backend puede volver a intentarlo, pero esto aumenta el tiempo de respuesta y añade aún más carga a la tabla de DynamoDB. En su lugar, considere hacer la escritura asíncrona enviando todas las escrituras a una cola SQS y haciendo que un proceso consuma desde la cola SQS a un ritmo controlado. Esto es especialmente importante cuando se utilizan funciones Lambda, ya que tienden a superar la escala del modo aprovisionado de DynamoDB durante grandes picos.\n",
    "\n",
    "* Realice copias de seguridad de los datos: Puede configurar copias de seguridad programadas o hacerlas bajo demanda. En cualquier caso, haga copias de seguridad.\n",
    "\n",
    "* Considere una tabla global: DynamoDB tiene una función llamada Tabla Global, que es básicamente una entidad única y global respaldada por tablas regulares en diferentes regiones. Es la mejor opción para cualquier tipo de configuración multirregión, incluida la recuperación ante desastres."
   ]
  },
  {
   "cell_type": "markdown",
   "metadata": {},
   "source": [
    "#### Rendimiento eficaz\n",
    "* Diseñe las claves de partición con cuidado: DynamoDB utiliza varios nodos entre bastidores, y la clave de partición es lo que determina qué nodo almacena qué elemento. Si elige una clave de partición incorrecta, la mayoría de las solicitudes se dirigirán al mismo nodo, lo que afectará al rendimiento. Elija una clave de partición que esté distribuida uniformemente, como un ID aleatorio. Aquí hay una gran lectura sobre el tema.\n",
    "\n",
    "* Consulta siempre sobre índices: Cuando consulta un índice, DynamoDB solo lee los elementos que coinciden con la consulta y solo le cobra por ello. Cuando consulta un atributo no indexado, DynamoDB explora toda la tabla y le cobra por leer cada elemento (después los filtra).\n",
    "\n",
    "* Utilice Consulta, no Exploración: La exploración lee toda la tabla, mientras que la consulta utiliza un índice. La exploración sólo debe utilizarse para atributos no indexados o para leer todos los elementos. No los mezcle.\n",
    "\n",
    "* Utilice el almacenamiento en caché: DynamoDB suele ser lo suficientemente rápido (si no lo es, utilice DAX). Sin embargo, ElastiCache puede resultar más económico para los datos que se actualizan con poca frecuencia."
   ]
  },
  {
   "cell_type": "markdown",
   "metadata": {},
   "source": [
    "#### Optimización de costes\n",
    "* No lea todo el elemento: Las unidades de capacidad de lectura utilizadas se basan en la cantidad de datos leídos. Utilice expresiones de proyección para definir qué atributos se recuperarán, de modo que sólo lea los datos que necesita.\n",
    "\n",
    "* Filtre y ordene siempre basándose en la clave de ordenación: Puede filtrar y ordenar basándose en cualquier atributo. Si lo hace basándose en un atributo que es una clave de ordenación, DynamoDB utiliza el índice y usted solo paga por los elementos leídos. Si utiliza un atributo que no es una clave de ordenación, DynamoDB escanea toda la tabla y le cobra por cada elemento de la tabla. Esto es independiente de si consulta la clave de partición o no.\n",
    "\n",
    "* No se exceda con los índices secundarios: Cada vez que escribe en una tabla, DynamoDB utiliza unidades de capacidad de escritura adicionales para actualizar los índices de esa tabla, lo que supone un coste adicional. Cree los índices que necesite, pero no más.\n",
    "\n",
    "* Utilice la capacidad reservada: Puede reservar unidades de capacidad, igual que reservaría instancias en RDS.\n",
    "\n",
    "* Prefiera el modo aprovisionado al modo bajo demanda: El modo bajo demanda es más sencillo, pero 5 veces más caro (sin capacidad reservada). El modo aprovisionado suele escalar lo suficientemente rápido, intente utilizarlo si su tráfico no aumenta tan rápido.\n",
    "\n",
    "* Considere una tabla Standard-IA: Para la mayoría de las cargas de trabajo, una tabla estándar es la mejor opción. Pero para las cargas de trabajo que se leen con poca frecuencia, utilice la clase de tabla Standard-IA para reducir costes.\n",
    "\n",
    "* Establecer un TTL: Algunos datos deben almacenarse para siempre, pero otros pueden eliminarse transcurrido cierto tiempo. Puedes automatizar esto estableciendo un TTL en cada elemento.\n",
    "\n",
    "* No tenga miedo de utilizar varias bases de datos: DynamoDB es increíble para consultas sencillas con diferentes parámetros, y terrible para análisis complejos. No tenga miedo de utilizar una base de datos diferente para datos o casos de uso que no se ajusten a los puntos fuertes de DynamoDB."
   ]
  }
 ],
 "metadata": {
  "kernelspec": {
   "display_name": "myenv",
   "language": "python",
   "name": "python3"
  },
  "language_info": {
   "codemirror_mode": {
    "name": "ipython",
    "version": 3
   },
   "file_extension": ".py",
   "mimetype": "text/x-python",
   "name": "python",
   "nbconvert_exporter": "python",
   "pygments_lexer": "ipython3",
   "version": "3.12.2"
  }
 },
 "nbformat": 4,
 "nbformat_minor": 2
}
