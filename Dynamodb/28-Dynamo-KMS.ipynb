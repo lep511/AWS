{
 "cells": [
  {
   "cell_type": "markdown",
   "metadata": {},
   "source": [
    "## ¿Cómo Amazon DynamoDB utiliza AWS KMS?\n",
    "\n",
    "El cifrado disponible en DynamoDB ayuda a configurar una capa adicional de seguridad para que los datos transmitidos no sean visibles para terceros. Admite tanto el cifrado del lado del cliente como el cifrado en reposo. DynamoDB implementa su cifrado en:\n",
    "\n",
    "* Datos en reposo\n",
    "* Datos en tránsito\n",
    "\n",
    "Los datos se cifrarán y firmarán antes de enviarse a AWS DynamoDB. Mientras se almacenan, los datos pasarán por un proceso de cifrado, proporcionando así una protección de extremo a extremo contra cambios no autorizados en los datos.\n",
    "\n",
    "DynamoDB se integra con AWS Key Management Service (AWS KMS) para admitir una característica de cifrado del lado del servidor de cifrado en reposo. Con el cifrado en reposo, DynamoDB cifra de forma transparente todos los datos de los clientes en una tabla de DynamoDB, incluida su clave principal y los índices secundarios locales y globales, siempre que la tabla se almacene en el disco. (Si la tabla tiene una clave de ordenación, algunas de las claves de ordenación que marcan los límites del intervalo se almacenan en texto no cifrado en los metadatos de la tabla). Cuando obtiene acceso a la tabla, DynamoDB descifra los datos de la tabla de forma transparente. No es necesario que cambie sus aplicaciones para utilizar o administrar tablas cifradas.\n",
    "\n",
    "El cifrado en reposo protege también las secuencias de DynamoDB, las tablas globales y las copias de seguridad siempre que estos objetos se guardan en un soporte duradero. Las instrucciones acerca de las tablas de este tema se aplican también a estos objetos.\n",
    "\n",
    "Todas las tablas de DynamoDB están cifradas. No existe la opción de habilitar o deshabilitar el cifrado para tablas nuevas o existentes. De forma predeterminada, todas las tablas están cifradas en una Clave propiedad de AWS en la cuenta de servicio de DynamoDB. Sin embargo, puede seleccionar una opción para cifrar algunas o todas las tablas con una clave administrada por el cliente o la Clave administrada por AWS para DynamoDB en su cuenta."
   ]
  },
  {
   "cell_type": "code",
   "execution_count": 1,
   "metadata": {},
   "outputs": [],
   "source": [
    "import boto3\n",
    "from botocore.exceptions import ClientError\n",
    "import pandas as pd\n",
    "import base64\n",
    "from spdynamodb import DynamoTable\n",
    "from datetime import datetime\n",
    "import json\n",
    "import time\n",
    "from decimal import Decimal"
   ]
  },
  {
   "cell_type": "code",
   "execution_count": 2,
   "metadata": {},
   "outputs": [
    {
     "name": "stdout",
     "output_type": "stream",
     "text": [
      "Table created successfully!\n"
     ]
    }
   ],
   "source": [
    "dt=DynamoTable()\n",
    "try:\n",
    "    dt.select_table('Books')\n",
    "    print(dt)\n",
    "except:\n",
    "    dt.create_table(\n",
    "        table_name='Books',\n",
    "        partition_key='Author',\n",
    "        partition_key_type='S',\n",
    "        sort_key='Title',\n",
    "        sort_key_type='S',\n",
    "    )"
   ]
  },
  {
   "cell_type": "code",
   "execution_count": 5,
   "metadata": {},
   "outputs": [],
   "source": [
    "# Create a Books Dataframe\n",
    "\n",
    "df = pd.DataFrame({\n",
    "    'Title': ['The Great Gatsby','To Kill a Mockingbird','1984', 'Pride and Prejudice', 'The Odyssey'],\n",
    "    'Author': ['F. Scott Fitzgerald','Harper Lee','George Orwell', 'Jane Austen', 'Homer'],\n",
    "    'Length': [180, 281, 328, 226, 374],\n",
    "    'Published': [1925, 1960, 1949, 1813, 1922],\n",
    "    'Publisher': ['Charles Scribner\\'s Sons','J.B. Lippincott & Co.','Secker & Warburg', 'Penguin','Scribner']\n",
    "})\n",
    "dt.batch_pandas(df)"
   ]
  },
  {
   "cell_type": "markdown",
   "metadata": {},
   "source": [
    "Al crear una tabla nueva, puede elegir uno de los siguientes tipos de AWS KMS key para cifrarla. Puede cambiar entre estos tipos de claves en cualquier momento.\n",
    "\n",
    "* **Clave propiedad de AWS**: tipo de cifrado predeterminado. La clave es propiedad de DynamoDB (sin cargo adicional).\n",
    "\n",
    "* **Clave administrada por AWS**: la clave se almacena en la cuenta y la administra AWS KMS (se aplican los cargos de AWS KMS).\n",
    "\n",
    "* **Customer managed key** (Clave administrada por el cliente): la clave se almacena en la cuenta y usted la crea, posee y administra. Usted controla plenamente la clave KMS (se aplican los cargos de AWS KMS)."
   ]
  },
  {
   "cell_type": "code",
   "execution_count": 8,
   "metadata": {},
   "outputs": [],
   "source": [
    "# Create an STS client\n",
    "sts = boto3.client('sts')\n",
    "\n",
    "identity = sts.get_caller_identity()\n",
    "account_id = identity['Account']"
   ]
  },
  {
   "cell_type": "code",
   "execution_count": 9,
   "metadata": {},
   "outputs": [],
   "source": [
    "policy = {\n",
    "    \"Id\": \"protected-cmk-policy\",\n",
    "    \"Version\": \"2012-10-17\",\n",
    "    \"Statement\": [\n",
    "        {\n",
    "            \"Sid\": \"Enable IAM User Permissions\",\n",
    "            \"Effect\": \"Allow\",\n",
    "            \"Principal\": {\n",
    "                \"AWS\": f\"arn:aws:iam::{account_id}:root\"\n",
    "            },\n",
    "            \"Action\": \"kms:*\",\n",
    "            \"Resource\": \"*\"\n",
    "        },\n",
    "        {\n",
    "            \"Sid\": \"Allow access for Key Administrators\",\n",
    "            \"Effect\": \"Allow\",\n",
    "            \"Principal\": {\n",
    "                \"AWS\": f\"arn:aws:iam::{account_id}:user/cloud_user\"\n",
    "            },\n",
    "            \"Action\": [\n",
    "                \"kms:Create*\",\n",
    "                \"kms:Describe*\",\n",
    "                \"kms:Enable*\",\n",
    "                \"kms:List*\",\n",
    "                \"kms:Put*\",\n",
    "                \"kms:Update*\",\n",
    "                \"kms:Revoke*\",\n",
    "                \"kms:Disable*\",\n",
    "                \"kms:Get*\",\n",
    "                \"kms:Delete*\",\n",
    "                \"kms:TagResource\",\n",
    "                \"kms:UntagResource\",\n",
    "                \"kms:ScheduleKeyDeletion\",\n",
    "                \"kms:CancelKeyDeletion\"\n",
    "            ],\n",
    "            \"Resource\": \"*\"\n",
    "        },\n",
    "        {\n",
    "            \"Sid\": \"Allow use of the key\",\n",
    "            \"Effect\": \"Allow\",\n",
    "            \"Principal\": {\n",
    "                \"AWS\": f\"arn:aws:iam::{account_id}:user/cloud_user\"\n",
    "            },\n",
    "            \"Action\": [\n",
    "                \"kms:Encrypt\",\n",
    "                \"kms:Decrypt\",\n",
    "                \"kms:ReEncrypt*\",\n",
    "                \"kms:GenerateDataKey*\",\n",
    "                \"kms:DescribeKey\"\n",
    "            ],\n",
    "            \"Resource\": \"*\"\n",
    "        },\n",
    "        {\n",
    "            \"Sid\": \"Allow attachment of persistent resources\",\n",
    "            \"Effect\": \"Allow\",\n",
    "            \"Principal\": {\n",
    "                \"AWS\": f\"arn:aws:iam::{account_id}:user/cloud_user\"\n",
    "            },\n",
    "            \"Action\": [\n",
    "                \"kms:CreateGrant\",\n",
    "                \"kms:ListGrants\",\n",
    "                \"kms:RevokeGrant\"\n",
    "            ],\n",
    "            \"Resource\": \"*\",\n",
    "            \"Condition\": {\n",
    "                \"Bool\": {\n",
    "                    \"kms:GrantIsForAWSResource\": \"true\"\n",
    "                }\n",
    "            }\n",
    "        }\n",
    "    ]\n",
    "}"
   ]
  },
  {
   "cell_type": "code",
   "execution_count": 10,
   "metadata": {},
   "outputs": [
    {
     "name": "stdout",
     "output_type": "stream",
     "text": [
      "Key ID: f4de6897-c3b5-4acd-92fa-dd08e7f04ea3\n",
      "Key ARN: arn:aws:kms:us-east-1:175189267104:key/f4de6897-c3b5-4acd-92fa-dd08e7f04ea3\n"
     ]
    }
   ],
   "source": [
    "kms = boto3.client('kms')\n",
    "try:\n",
    "   response = kms.create_key(\n",
    "       Policy=json.dumps(policy),\n",
    "       Description='Customer Master Key for DynamoDB Data Encryption',\n",
    "   )\n",
    "except ClientError as e:\n",
    "   print(e)\n",
    "else:\n",
    "   key_id = response[\"KeyMetadata\"][\"KeyId\"]\n",
    "   key_arn = response[\"KeyMetadata\"][\"Arn\"]\n",
    "   print(\"Key ID:\", key_id)\n",
    "   print(\"Key ARN:\", key_arn)"
   ]
  },
  {
   "cell_type": "code",
   "execution_count": 30,
   "metadata": {},
   "outputs": [
    {
     "name": "stdout",
     "output_type": "stream",
     "text": [
      "{'ResponseMetadata': {'RequestId': '88d24ee1-21b0-43f6-9651-389359c6a2f1', 'HTTPStatusCode': 200, 'HTTPHeaders': {'x-amzn-requestid': '88d24ee1-21b0-43f6-9651-389359c6a2f1', 'cache-control': 'no-cache, no-store, must-revalidate, private', 'expires': '0', 'pragma': 'no-cache', 'date': 'Tue, 05 Dec 2023 00:36:02 GMT', 'content-type': 'application/x-amz-json-1.1', 'content-length': '0', 'connection': 'keep-alive'}, 'RetryAttempts': 0}}\n"
     ]
    }
   ],
   "source": [
    "alias = 'alias/DynamoDBTableDataCMK'\n",
    "try:\n",
    "    response = kms.create_alias(\n",
    "        AliasName=alias,\n",
    "        TargetKeyId=key_id\n",
    "    )\n",
    "    print(response)\n",
    "except Exception as e:\n",
    "    print(e)"
   ]
  },
  {
   "cell_type": "code",
   "execution_count": 39,
   "metadata": {},
   "outputs": [
    {
     "data": {
      "text/plain": [
       "dynamodb.Table(name='Books')"
      ]
     },
     "execution_count": 39,
     "metadata": {},
     "output_type": "execute_result"
    }
   ],
   "source": [
    "dt.table.update(\n",
    "    SSESpecification={\n",
    "        \"Enabled\": True,\n",
    "        \"SSEType\": \"KMS\",\n",
    "        \"KMSMasterKeyId\": key_id\n",
    "    }\n",
    ")"
   ]
  },
  {
   "cell_type": "code",
   "execution_count": 40,
   "metadata": {},
   "outputs": [
    {
     "data": {
      "text/plain": [
       "{'Status': 'UPDATING',\n",
       " 'SSEType': 'KMS',\n",
       " 'KMSMasterKeyArn': 'arn:aws:kms:us-east-1:827456662682:key/6aefe290-028d-45d0-ae5d-c20a2bf7102e'}"
      ]
     },
     "execution_count": 40,
     "metadata": {},
     "output_type": "execute_result"
    }
   ],
   "source": [
    "dt.table.sse_description"
   ]
  },
  {
   "cell_type": "code",
   "execution_count": 140,
   "metadata": {},
   "outputs": [],
   "source": [
    "class KeyClass:\n",
    "    def __init__(self, kms_client):\n",
    "        self.kms_client = kms_client\n",
    "\n",
    "    def encrypt(self, key_id, text):\n",
    "        \"\"\"\n",
    "        Encrypts text by using the specified key.\n",
    "\n",
    "        :param key_id: The ARN or ID of the key to use for encryption.\n",
    "        :return: The encrypted version of the text.\n",
    "        \"\"\"\n",
    "        try:\n",
    "            cipher_text = self.kms_client.encrypt(\n",
    "                KeyId=key_id, Plaintext=text.encode()\n",
    "            )[\"CiphertextBlob\"]\n",
    "        except ClientError as err:\n",
    "            print(\n",
    "                f\"Couldn't encrypt text. Here's why: {err.response['Error']['Message']}\"\n",
    "            )\n",
    "        else:\n",
    "            return cipher_text\n",
    "\n",
    "\n",
    "    def decrypt(self, key_id, cipher_text):\n",
    "        \"\"\"\n",
    "        Decrypts text previously encrypted with a key.\n",
    "\n",
    "        :param key_id: The ARN or ID of the key used to decrypt the data.\n",
    "        :param cipher_text: The encrypted text to decrypt.\n",
    "        \"\"\"\n",
    "        try:\n",
    "            text = self.kms_client.decrypt(\n",
    "                KeyId=key_id, CiphertextBlob=cipher_text\n",
    "            )[\"Plaintext\"]\n",
    "        except ClientError as err:\n",
    "            print(\n",
    "                f\"Couldn't decrypt your ciphertext. Here's why: {err.response['Error']['Message']}\"\n",
    "            )\n",
    "        else:\n",
    "            return text.decode()"
   ]
  },
  {
   "cell_type": "code",
   "execution_count": 143,
   "metadata": {},
   "outputs": [
    {
     "name": "stdout",
     "output_type": "stream",
     "text": [
      "Your ciphertext is: b'\\x01\\x02\\x02\\x00xs\\xd5No\\x1d:#\\xbeP4kU~G\\x8d\\xea\\xe1c\",\\xea\\x8e\\xaatX\\xe9\\xa7d\\xf3\\xa3\\xa4\\x93\\x01\\xe3\\xe5\\xb5*\\xf6\\xb0\\x99\\x94C\\x8d)G*D\\x87\\xfb\\x00\\x00\\x00g0e\\x06\\t*\\x86H\\x86\\xf7\\r\\x01\\x07\\x06\\xa0X0V\\x02\\x01\\x000Q\\x06\\t*\\x86H\\x86\\xf7\\r\\x01\\x07\\x010\\x1e\\x06\\t`\\x86H\\x01e\\x03\\x04\\x01.0\\x11\\x04\\x0c\\x0e\\x03:\\xf7$,(\\x83\\xc9_\\x07A\\x02\\x01\\x10\\x80$\\xd8l\\x95\\x1eJN\\x9e@\\xba.c7y\\x1adjY\\xf5d\\x17\\x8a\\xcb\\r\\xce\\xece@[\\xa8\\x11\\xf1\\x90\\xdf(\\x1c0'\n"
     ]
    }
   ],
   "source": [
    "kms = boto3.client('kms')\n",
    "key_class = KeyClass(kms)\n",
    "encrpyt_text = key_class.encrypt(key_id, \"Some text\")\n",
    "print(f\"Your ciphertext is: {encrpyt_text}\")"
   ]
  },
  {
   "cell_type": "code",
   "execution_count": 142,
   "metadata": {},
   "outputs": [
    {
     "name": "stdout",
     "output_type": "stream",
     "text": [
      "Your plaintext is: Some text\n"
     ]
    }
   ],
   "source": [
    "decrypt_text = key_class.decrypt(key_id, encrpy_text)\n",
    "print(f\"Your plaintext is: {decrypt_text}\")"
   ]
  }
 ],
 "metadata": {
  "kernelspec": {
   "display_name": "personal",
   "language": "python",
   "name": "python3"
  },
  "language_info": {
   "codemirror_mode": {
    "name": "ipython",
    "version": 3
   },
   "file_extension": ".py",
   "mimetype": "text/x-python",
   "name": "python",
   "nbconvert_exporter": "python",
   "pygments_lexer": "ipython3",
   "version": "3.11.3"
  }
 },
 "nbformat": 4,
 "nbformat_minor": 2
}
