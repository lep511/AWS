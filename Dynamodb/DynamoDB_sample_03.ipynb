{
 "cells": [
  {
   "cell_type": "code",
   "execution_count": 1,
   "id": "16cd82a1-686f-4848-ba42-9c700b7bf6d9",
   "metadata": {},
   "outputs": [],
   "source": [
    "import boto3\n",
    "import pandas as pd\n",
    "import numpy as np\n",
    "from datetime import datetime\n",
    "import os"
   ]
  },
  {
   "cell_type": "code",
   "execution_count": 2,
   "id": "6b7948b8-b734-426e-a05f-ddcb1f2cb05d",
   "metadata": {},
   "outputs": [],
   "source": [
    "# Get the service resource.\n",
    "dynamodb = boto3.resource('dynamodb')"
   ]
  },
  {
   "cell_type": "code",
   "execution_count": 3,
   "id": "2cd0e6d6-cdb1-4f36-8ffb-ac37821c248f",
   "metadata": {},
   "outputs": [],
   "source": [
    "df = pd.read_csv(\"music.csv\")"
   ]
  },
  {
   "cell_type": "code",
   "execution_count": 4,
   "id": "ebd99384-7cbd-4774-b3b6-e0034002457e",
   "metadata": {},
   "outputs": [],
   "source": [
    "df.drop(\"lyrics\", axis=1, inplace=True)"
   ]
  },
  {
   "cell_type": "code",
   "execution_count": 5,
   "id": "18443769-2858-4fab-824a-7290ed667fdc",
   "metadata": {},
   "outputs": [
    {
     "data": {
      "text/html": [
       "<div><div id=107dec2e-d1fd-4f35-9b65-593082f4ec3f style=\"display:none; background-color:#9D6CFF; color:white; width:200px; height:30px; padding-left:5px; border-radius:4px; flex-direction:row; justify-content:space-around; align-items:center;\" onmouseover=\"this.style.backgroundColor='#BA9BF8'\" onmouseout=\"this.style.backgroundColor='#9D6CFF'\" onclick=\"window.commands?.execute('create-mitosheet-from-dataframe-output');\">See Full Dataframe in Mito</div> <script> if (window.commands.hasCommand('create-mitosheet-from-dataframe-output')) document.getElementById('107dec2e-d1fd-4f35-9b65-593082f4ec3f').style.display = 'flex' </script> <table border=\"1\" class=\"dataframe\">\n",
       "  <thead>\n",
       "    <tr style=\"text-align: right;\">\n",
       "      <th></th>\n",
       "      <th>Unnamed: 0</th>\n",
       "      <th>artist_name</th>\n",
       "      <th>track_name</th>\n",
       "      <th>release_date</th>\n",
       "      <th>genre</th>\n",
       "      <th>len</th>\n",
       "      <th>dating</th>\n",
       "      <th>violence</th>\n",
       "      <th>world/life</th>\n",
       "      <th>night/time</th>\n",
       "      <th>...</th>\n",
       "      <th>sadness</th>\n",
       "      <th>feelings</th>\n",
       "      <th>danceability</th>\n",
       "      <th>loudness</th>\n",
       "      <th>acousticness</th>\n",
       "      <th>instrumentalness</th>\n",
       "      <th>valence</th>\n",
       "      <th>energy</th>\n",
       "      <th>topic</th>\n",
       "      <th>age</th>\n",
       "    </tr>\n",
       "  </thead>\n",
       "  <tbody>\n",
       "    <tr>\n",
       "      <th>0</th>\n",
       "      <td>0</td>\n",
       "      <td>mukesh</td>\n",
       "      <td>mohabbat bhi jhoothi</td>\n",
       "      <td>1950</td>\n",
       "      <td>pop</td>\n",
       "      <td>95</td>\n",
       "      <td>0.000598</td>\n",
       "      <td>0.063746</td>\n",
       "      <td>0.000598</td>\n",
       "      <td>0.000598</td>\n",
       "      <td>...</td>\n",
       "      <td>0.380299</td>\n",
       "      <td>0.117175</td>\n",
       "      <td>0.357739</td>\n",
       "      <td>0.454119</td>\n",
       "      <td>0.997992</td>\n",
       "      <td>0.901822</td>\n",
       "      <td>0.339448</td>\n",
       "      <td>0.137110</td>\n",
       "      <td>sadness</td>\n",
       "      <td>1.0</td>\n",
       "    </tr>\n",
       "    <tr>\n",
       "      <th>1</th>\n",
       "      <td>4</td>\n",
       "      <td>frankie laine</td>\n",
       "      <td>i believe</td>\n",
       "      <td>1950</td>\n",
       "      <td>pop</td>\n",
       "      <td>51</td>\n",
       "      <td>0.035537</td>\n",
       "      <td>0.096777</td>\n",
       "      <td>0.443435</td>\n",
       "      <td>0.001284</td>\n",
       "      <td>...</td>\n",
       "      <td>0.001284</td>\n",
       "      <td>0.001284</td>\n",
       "      <td>0.331745</td>\n",
       "      <td>0.647540</td>\n",
       "      <td>0.954819</td>\n",
       "      <td>0.000002</td>\n",
       "      <td>0.325021</td>\n",
       "      <td>0.263240</td>\n",
       "      <td>world/life</td>\n",
       "      <td>1.0</td>\n",
       "    </tr>\n",
       "    <tr>\n",
       "      <th>2</th>\n",
       "      <td>6</td>\n",
       "      <td>johnnie ray</td>\n",
       "      <td>cry</td>\n",
       "      <td>1950</td>\n",
       "      <td>pop</td>\n",
       "      <td>24</td>\n",
       "      <td>0.002770</td>\n",
       "      <td>0.002770</td>\n",
       "      <td>0.002770</td>\n",
       "      <td>0.002770</td>\n",
       "      <td>...</td>\n",
       "      <td>0.002770</td>\n",
       "      <td>0.225422</td>\n",
       "      <td>0.456298</td>\n",
       "      <td>0.585288</td>\n",
       "      <td>0.840361</td>\n",
       "      <td>0.000000</td>\n",
       "      <td>0.351814</td>\n",
       "      <td>0.139112</td>\n",
       "      <td>music</td>\n",
       "      <td>1.0</td>\n",
       "    </tr>\n",
       "    <tr>\n",
       "      <th>3</th>\n",
       "      <td>10</td>\n",
       "      <td>pérez prado</td>\n",
       "      <td>patricia</td>\n",
       "      <td>1950</td>\n",
       "      <td>pop</td>\n",
       "      <td>54</td>\n",
       "      <td>0.048249</td>\n",
       "      <td>0.001548</td>\n",
       "      <td>0.001548</td>\n",
       "      <td>0.001548</td>\n",
       "      <td>...</td>\n",
       "      <td>0.225889</td>\n",
       "      <td>0.001548</td>\n",
       "      <td>0.686992</td>\n",
       "      <td>0.744404</td>\n",
       "      <td>0.083935</td>\n",
       "      <td>0.199393</td>\n",
       "      <td>0.775350</td>\n",
       "      <td>0.743736</td>\n",
       "      <td>romantic</td>\n",
       "      <td>1.0</td>\n",
       "    </tr>\n",
       "    <tr>\n",
       "      <th>4</th>\n",
       "      <td>12</td>\n",
       "      <td>giorgos papadopoulos</td>\n",
       "      <td>apopse eida oneiro</td>\n",
       "      <td>1950</td>\n",
       "      <td>pop</td>\n",
       "      <td>48</td>\n",
       "      <td>0.001350</td>\n",
       "      <td>0.001350</td>\n",
       "      <td>0.417772</td>\n",
       "      <td>0.001350</td>\n",
       "      <td>...</td>\n",
       "      <td>0.068800</td>\n",
       "      <td>0.001350</td>\n",
       "      <td>0.291671</td>\n",
       "      <td>0.646489</td>\n",
       "      <td>0.975904</td>\n",
       "      <td>0.000246</td>\n",
       "      <td>0.597073</td>\n",
       "      <td>0.394375</td>\n",
       "      <td>romantic</td>\n",
       "      <td>1.0</td>\n",
       "    </tr>\n",
       "  </tbody>\n",
       "</table></div>"
      ],
      "text/plain": [
       "   Unnamed: 0           artist_name            track_name  release_date genre  \\\n",
       "0           0                mukesh  mohabbat bhi jhoothi          1950   pop   \n",
       "1           4         frankie laine             i believe          1950   pop   \n",
       "2           6           johnnie ray                   cry          1950   pop   \n",
       "3          10           pérez prado              patricia          1950   pop   \n",
       "4          12  giorgos papadopoulos    apopse eida oneiro          1950   pop   \n",
       "\n",
       "   len    dating  violence  world/life  night/time  ...   sadness  feelings  \\\n",
       "0   95  0.000598  0.063746    0.000598    0.000598  ...  0.380299  0.117175   \n",
       "1   51  0.035537  0.096777    0.443435    0.001284  ...  0.001284  0.001284   \n",
       "2   24  0.002770  0.002770    0.002770    0.002770  ...  0.002770  0.225422   \n",
       "3   54  0.048249  0.001548    0.001548    0.001548  ...  0.225889  0.001548   \n",
       "4   48  0.001350  0.001350    0.417772    0.001350  ...  0.068800  0.001350   \n",
       "\n",
       "   danceability  loudness  acousticness  instrumentalness   valence    energy  \\\n",
       "0      0.357739  0.454119      0.997992          0.901822  0.339448  0.137110   \n",
       "1      0.331745  0.647540      0.954819          0.000002  0.325021  0.263240   \n",
       "2      0.456298  0.585288      0.840361          0.000000  0.351814  0.139112   \n",
       "3      0.686992  0.744404      0.083935          0.199393  0.775350  0.743736   \n",
       "4      0.291671  0.646489      0.975904          0.000246  0.597073  0.394375   \n",
       "\n",
       "        topic  age  \n",
       "0     sadness  1.0  \n",
       "1  world/life  1.0  \n",
       "2       music  1.0  \n",
       "3    romantic  1.0  \n",
       "4    romantic  1.0  \n",
       "\n",
       "[5 rows x 30 columns]"
      ]
     },
     "execution_count": 5,
     "metadata": {},
     "output_type": "execute_result"
    }
   ],
   "source": [
    "df.head()"
   ]
  },
  {
   "cell_type": "code",
   "execution_count": 6,
   "id": "0cd76cb6-aa3e-43aa-800f-c01c05ef138c",
   "metadata": {},
   "outputs": [],
   "source": [
    "table = dynamodb.create_table(\n",
    "    TableName='MusicSong',\n",
    "    KeySchema=[\n",
    "        {\n",
    "            'AttributeName': 'ArtistName',\n",
    "            'KeyType': 'HASH'\n",
    "        },\n",
    "        {\n",
    "            'AttributeName': 'SongName',\n",
    "            'KeyType': 'RANGE'\n",
    "        }\n",
    "    ],\n",
    "    AttributeDefinitions=[\n",
    "        {\n",
    "            'AttributeName': 'ArtistName',\n",
    "            'AttributeType': 'S'\n",
    "        },\n",
    "        {\n",
    "            'AttributeName': 'SongName',\n",
    "            'AttributeType': 'S'\n",
    "        },\n",
    "    ],\n",
    "    ProvisionedThroughput={\n",
    "        'ReadCapacityUnits': 5,\n",
    "        'WriteCapacityUnits': 5\n",
    "    }\n",
    ")\n",
    "\n",
    "# Wait until the table exists.\n",
    "table.wait_until_exists()"
   ]
  },
  {
   "cell_type": "code",
   "execution_count": 7,
   "id": "4e9f8579-2d4f-4c46-a7d5-6eb2183b95e1",
   "metadata": {},
   "outputs": [],
   "source": [
    "table = dynamodb.Table(name='MusicSong')"
   ]
  },
  {
   "cell_type": "code",
   "execution_count": 8,
   "id": "a4191944-62cd-4932-9b5b-80f07f69d1a6",
   "metadata": {},
   "outputs": [],
   "source": [
    "df = df.sample(1000).reset_index(drop=True)"
   ]
  },
  {
   "cell_type": "code",
   "execution_count": 9,
   "id": "559cf30c-6614-4087-b993-3748c74b1f8f",
   "metadata": {},
   "outputs": [],
   "source": [
    "with table.batch_writer() as batch:\n",
    "    for i in range(len(df)):\n",
    "        num_r = np.random.randint(1,6)\n",
    "        item={\n",
    "            'ArtistName': df.iloc[i][1].title(),\n",
    "            'SongName': df.iloc[i][2].title(),\n",
    "            'RelaseDate': int(df.iloc[i][3]),\n",
    "            'Genre': df.iloc[i][4].title(),\n",
    "            'Length': int(df.iloc[i][5]),\n",
    "            'Rating': int(num_r)\n",
    "        }\n",
    "        batch.put_item(Item=item)"
   ]
  },
  {
   "cell_type": "code",
   "execution_count": 10,
   "id": "c683d66e-f869-45ff-9a91-24546c075867",
   "metadata": {},
   "outputs": [],
   "source": [
    "import typing\n",
    "import json\n",
    "import boto3.dynamodb.conditions as conditions"
   ]
  },
  {
   "cell_type": "code",
   "execution_count": 11,
   "id": "fe9d8c7f-085b-4854-8072-810cd99d6bce",
   "metadata": {},
   "outputs": [],
   "source": [
    "from decimal import Decimal\n",
    "\n",
    "class DecimalEncoder(json.JSONEncoder):\n",
    "  def default(self, obj):\n",
    "    if isinstance(obj, Decimal):\n",
    "      return float(obj)\n",
    "    return json.JSONEncoder.default(self, obj)"
   ]
  },
  {
   "cell_type": "code",
   "execution_count": 45,
   "id": "3e08113b-db4a-4831-8564-62ad7f6a5b2a",
   "metadata": {},
   "outputs": [],
   "source": [
    "def get_all_artist(key, eq) -> typing.List[dict]:\n",
    "    if not isinstance(eq, list):\n",
    "        eq = [eq]\n",
    "    response = []\n",
    "    for elem in eq:\n",
    "        r = table.query(\n",
    "            KeyConditionExpression=conditions.Key(key).eq(elem.title())\n",
    "        )\n",
    "        response.append(r[\"Items\"])\n",
    "    return response\n",
    "\n",
    "dm = get_all_artist(\"ArtistName\", [\"Jimi Hendrix\", \"Metallica\"])"
   ]
  },
  {
   "cell_type": "code",
   "execution_count": 46,
   "id": "bb032275-fd37-4c40-8416-41fc3645a4ba",
   "metadata": {},
   "outputs": [],
   "source": [
    "dm = json.dumps(dm, cls=DecimalEncoder, indent=4)\n",
    "rs = json.loads(dm)"
   ]
  },
  {
   "cell_type": "code",
   "execution_count": 47,
   "id": "c777ddcb-5a2a-4e7a-90c1-768f9bd7962f",
   "metadata": {},
   "outputs": [
    {
     "name": "stdout",
     "output_type": "stream",
     "text": [
      "Jimi Hendrix - Are You Experienced?. This song have 55.0 years.\n",
      "Jimi Hendrix - Introduction (Live At Woodstock). This song have 23.0 years.\n",
      "Metallica - Sabbra Cadabra. This song have 24.0 years.\n"
     ]
    }
   ],
   "source": [
    "for m in rs:\n",
    "    for i in m:\n",
    "        age = datetime.today().year - i[\"RelaseDate\"]\n",
    "        print(f\"{i['ArtistName']} - {i['SongName']}. This song have {age} years.\")"
   ]
  },
  {
   "cell_type": "code",
   "execution_count": 28,
   "id": "af73dad9-4532-4133-a004-d6678b7a6203",
   "metadata": {},
   "outputs": [
    {
     "name": "stdout",
     "output_type": "stream",
     "text": [
      "Table not have secondary indexes.\n"
     ]
    }
   ],
   "source": [
    "try:\n",
    "    table.global_secondary_indexes[0][\"IndexName\"]\n",
    "except:\n",
    "    print(\"Table not have secondary indexes.\")"
   ]
  },
  {
   "cell_type": "code",
   "execution_count": 32,
   "id": "5f8037ab-5979-432e-bf1d-cf82d93d6a0f",
   "metadata": {},
   "outputs": [
    {
     "name": "stdout",
     "output_type": "stream",
     "text": [
      "The table does not have the specified index: Genre-Rating-index\n"
     ]
    }
   ],
   "source": [
    "def get_all_genre(key, eq, index_name) -> typing.List[dict]:\n",
    "    try:\n",
    "        response = table.query(\n",
    "            IndexName= index_name, \n",
    "            KeyConditionExpression=conditions.Key(key).eq(eq)\n",
    "        )\n",
    "    except:\n",
    "        print(f\"The table does not have the specified index: {index_name}\")\n",
    "        response = None\n",
    "    return response\n",
    "\n",
    "dm = get_all_genre(\"Genre\", \"Blues\", \"Genre-Rating-index\")"
   ]
  },
  {
   "cell_type": "code",
   "execution_count": 52,
   "id": "d330bdb5-b680-449e-a321-311383d6e060",
   "metadata": {},
   "outputs": [],
   "source": [
    "dm = json.dumps(dm, cls=DecimalEncoder, indent=4)\n",
    "rs = json.loads(dm)['Items']"
   ]
  },
  {
   "cell_type": "code",
   "execution_count": 53,
   "id": "15072b93-d6ed-47f9-8180-6038bff1196f",
   "metadata": {},
   "outputs": [
    {
     "data": {
      "text/plain": [
       "161"
      ]
     },
     "execution_count": 53,
     "metadata": {},
     "output_type": "execute_result"
    }
   ],
   "source": [
    "len(rs)"
   ]
  }
 ],
 "metadata": {
  "kernelspec": {
   "display_name": "default:Python",
   "language": "python",
   "name": "conda-env-default-py"
  },
  "language_info": {
   "codemirror_mode": {
    "name": "ipython",
    "version": 3
   },
   "file_extension": ".py",
   "mimetype": "text/x-python",
   "name": "python",
   "nbconvert_exporter": "python",
   "pygments_lexer": "ipython3",
   "version": "3.9.10"
  }
 },
 "nbformat": 4,
 "nbformat_minor": 5
}
