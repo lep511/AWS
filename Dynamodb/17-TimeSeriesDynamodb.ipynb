{
 "cells": [
  {
   "attachments": {},
   "cell_type": "markdown",
   "metadata": {},
   "source": [
    "## Prácticas recomendadas para administrar los datos de serie temporal en DynamoDB\n",
    "\n",
    "Los principios generales de diseño de Amazon DynamoDB recomiendan utilizar la menor cantidad de tablas posible. En la mayoría de las aplicaciones, solo se necesita una tabla. Sin embargo, para los datos de series temporales, a menudo lo mejor para administrarlos es usar una tabla por aplicación y periodo.\n",
    "\n",
    "### Patrón de diseño de los datos de serie temporal\n",
    "Imagine un caso típico de una serie temporal en el que quiere hacer un seguimiento de una gran cantidad de eventos. Tiene un patrón de acceso de escritura que establece que se registren todos los eventos con la fecha de hoy. El patrón de acceso de lectura podría establecer que los eventos de hoy se lean con más frecuencia, que los eventos de ayer se lean con mucha menos frecuencia y que los eventos más antiguos apenas se lean. Una manera de administrarlo consiste en incorporar la fecha y hora actuales en la clave principal.\n",
    "\n",
    "Normalmente, el siguiente patrón de diseño sirve para administrar este tipo de escenarios eficazmente:\n",
    "\n",
    "* Cree una tabla por periodo, aprovisionada con la capacidad requerida de lectura y escritura y con los índices que se necesitan.\n",
    "\n",
    "* Antes de que termine cada periodo, precompile la tabla para el siguiente periodo. Justo cuando termine el período actual, dirija el tráfico de los eventos a la nueva tabla. Puede asignar nombres a estas tablas que indiquen los períodos que contienen.\n",
    "\n",
    "* Tan pronto como la tabla deje de estar disponible para escribir en ella, reduzca su capacidad de escritura aprovisionada a un valor menor (por ejemplo, 1 WCU) y aprovisione la capacidad de lectura apropiada, según proceda. Reduzca la capacidad de lectura aprovisionada de las tablas anteriores a medida que vayan venciendo. Puede optar por archivar o eliminar las tablas cuyo contenido va a necesitar en pocas ocasiones o no va a necesitar nunca.\n",
    "\n",
    "Se trata de asignar, para el periodo actual, los recursos requeridos que vayan a experimentar el máximo volumen de tráfico y de reducir el aprovisionamiento de las tablas más antiguas que no se utilizan activamente, con lo que se ahorra en costos. En función de sus necesidades de negocio, podría plantearse fragmentar la escritura con el fin de distribuir el tráfico de manera uniforme en la clave de partición lógica.\n"
   ]
  },
  {
   "cell_type": "code",
   "execution_count": 1,
   "metadata": {},
   "outputs": [],
   "source": [
    "import boto3\n",
    "import random\n",
    "import uuid\n",
    "from botocore.exceptions import ClientError\n",
    "import pandas as pd\n",
    "from spdynamodb import DynamoTable\n",
    "import json\n",
    "import time\n",
    "from decimal import Decimal\n",
    "from datetime import datetime, timedelta"
   ]
  },
  {
   "attachments": {},
   "cell_type": "markdown",
   "metadata": {},
   "source": [
    "### Crear 3 tablas para los datos de serie temporal"
   ]
  },
  {
   "cell_type": "code",
   "execution_count": 2,
   "metadata": {},
   "outputs": [
    {
     "name": "stdout",
     "output_type": "stream",
     "text": [
      "Table name today:             TimeSeries-2023-06-23\n",
      "Table name yesterday:         TimeSeries-2023-06-22\n",
      "Table name before yesterday:  TimeSeries-2023-06-21\n"
     ]
    }
   ],
   "source": [
    "today = datetime.today().strftime('%Y-%m-%d')\n",
    "yesterday = (datetime.today() - timedelta(days=1)).strftime('%Y-%m-%d')\n",
    "before_yesterday = (datetime.today() - timedelta(days=2)).strftime('%Y-%m-%d')\n",
    "\n",
    "table_name_today = 'TimeSeries-' + today\n",
    "table_name_yesterday = 'TimeSeries-' + yesterday\n",
    "table_name_before_yesterday = 'TimeSeries-' + before_yesterday\n",
    "\n",
    "print(\"Table name today:            \", table_name_today)\n",
    "print(\"Table name yesterday:        \", table_name_yesterday)\n",
    "print(\"Table name before yesterday: \", table_name_before_yesterday)"
   ]
  },
  {
   "cell_type": "code",
   "execution_count": 3,
   "metadata": {},
   "outputs": [
    {
     "name": "stdout",
     "output_type": "stream",
     "text": [
      "Table created successfully!\n"
     ]
    }
   ],
   "source": [
    "dt_now=DynamoTable()\n",
    "try:\n",
    "    dt_now.select_table(table_name_today)\n",
    "    print(dt)\n",
    "except:\n",
    "    dt_now.create_table(\n",
    "        table_name=table_name_today,\n",
    "        partition_key='PK',\n",
    "        partition_key_type='S',\n",
    "        sort_key='SK',\n",
    "        sort_key_type='S',\n",
    "        wcu=300,\n",
    "        rcu=100\n",
    "    )"
   ]
  },
  {
   "cell_type": "code",
   "execution_count": 4,
   "metadata": {},
   "outputs": [
    {
     "name": "stdout",
     "output_type": "stream",
     "text": [
      "Table created successfully!\n"
     ]
    }
   ],
   "source": [
    "dt_yesterday=DynamoTable()\n",
    "try:\n",
    "    dt_yesterday.select_table(table_name_yesterday)\n",
    "    print(dt)\n",
    "except:\n",
    "    dt_yesterday.create_table(\n",
    "        table_name=table_name_yesterday,\n",
    "        partition_key='PK',\n",
    "        partition_key_type='S',\n",
    "        sort_key='SK',\n",
    "        sort_key_type='S',\n",
    "        wcu=1,\n",
    "        rcu=50\n",
    "    )"
   ]
  },
  {
   "cell_type": "code",
   "execution_count": 5,
   "metadata": {},
   "outputs": [
    {
     "name": "stdout",
     "output_type": "stream",
     "text": [
      "Table created successfully!\n"
     ]
    }
   ],
   "source": [
    "dt_byesterday=DynamoTable()\n",
    "try:\n",
    "    dt_byesterday.select_table(table_name_before_yesterday)\n",
    "    print(dt)\n",
    "except:\n",
    "    dt_byesterday.create_table(\n",
    "        table_name=table_name_before_yesterday,\n",
    "        partition_key='PK',\n",
    "        partition_key_type='S',\n",
    "        sort_key='SK',\n",
    "        sort_key_type='S',\n",
    "        wcu=1,\n",
    "        rcu=1\n",
    "    )"
   ]
  },
  {
   "cell_type": "code",
   "execution_count": 6,
   "metadata": {},
   "outputs": [],
   "source": [
    "def random_time():\n",
    "    hour = random.randint(0, 23)\n",
    "    minute = random.randint(0, 59)\n",
    "    second = random.randint(0, 59)\n",
    "    mills = random.randint(2, 500)\n",
    "    return f'{hour:02}:{minute:02}:{second:02}.{mills:03}'\n",
    "\n",
    "def radian_int():\n",
    "    return str(random.randint(15000, 28000)) + ' W/Sr'\n",
    "\n",
    "def wavelength_int():\n",
    "    return str(random.randint(400, 700)) + ' nm'\n",
    "\n",
    "def frequency_int():\n",
    "    return str(random.randint(400, 700)) + ' THz'\n",
    "\n",
    "def amplitude_int():\n",
    "    return str(random.randint(0, 100)) + ' dBm'\n",
    "\n",
    "#?==================== Generate Data ====================\n",
    "def generate_data(total_items=300, day=\"Today\"):\n",
    "    count_total = 0\n",
    "    if day == \"Today\":\n",
    "        day_date = datetime.today().strftime('%Y-%m-%d')\n",
    "    elif day == \"Yesterday\":\n",
    "        day_date = (datetime.today() - timedelta(days=1)).strftime('%Y-%m-%d')\n",
    "    elif day == \"Before Yesterday\":\n",
    "        day_date = (datetime.today() - timedelta(days=2)).strftime('%Y-%m-%d')\n",
    "    else:\n",
    "        print(\"Error day must be: 'Today', 'Yesterday' or 'Before Yesterday'\")\n",
    "        return\n",
    "    pk, sk, RadiantIntensity, Wavelenght, Frequency, Amplitude = [], [], [], [], [], []\n",
    "    for i in range(total_items):\n",
    "        if count_total == total_items:\n",
    "            break\n",
    "        else:\n",
    "            pk.append(day_date)\n",
    "            sk.append(random_time())\n",
    "            RadiantIntensity.append(radian_int())\n",
    "            Wavelenght.append(wavelength_int())\n",
    "            Frequency.append(frequency_int())\n",
    "            Amplitude.append(amplitude_int())\n",
    "        \n",
    "    df_main = pd.DataFrame(\n",
    "        {\n",
    "            \"PK\": pk,\n",
    "            \"SK\": sk,\n",
    "            \"RadiantIntensity\": RadiantIntensity,\n",
    "            \"Wavelenght\": Wavelenght,\n",
    "            \"Frequency\": Frequency,\n",
    "            \"Amplitude\": Amplitude\n",
    "        }\n",
    "    )   \n",
    "    return df_main\n"
   ]
  },
  {
   "cell_type": "code",
   "execution_count": 7,
   "metadata": {},
   "outputs": [],
   "source": [
    "df = generate_data(total_items=300, day=\"Today\")\n",
    "dt_now.batch_pandas(df)\n",
    "df = generate_data(total_items=150, day=\"Yesterday\")\n",
    "dt_yesterday.batch_pandas(df)\n",
    "df = generate_data(total_items=50, day=\"Before Yesterday\")\n",
    "dt_byesterday.batch_pandas(df)"
   ]
  },
  {
   "attachments": {},
   "cell_type": "markdown",
   "metadata": {},
   "source": [
    "### Cambio de periodo de la tabla"
   ]
  },
  {
   "cell_type": "code",
   "execution_count": 8,
   "metadata": {},
   "outputs": [
    {
     "name": "stdout",
     "output_type": "stream",
     "text": [
      "Table name tomorrow:  TimeSeries-2023-06-24\n"
     ]
    }
   ],
   "source": [
    "# Create table for tomorrow\n",
    "tomorrow = datetime.now() + timedelta(days=1)\n",
    "table_name_tomorrow = 'TimeSeries-' + str(tomorrow.strftime('%Y-%m-%d'))\n",
    "print(\"Table name tomorrow: \", table_name_tomorrow)"
   ]
  },
  {
   "cell_type": "code",
   "execution_count": 9,
   "metadata": {},
   "outputs": [
    {
     "name": "stdout",
     "output_type": "stream",
     "text": [
      "Table created successfully!\n"
     ]
    }
   ],
   "source": [
    "dt_tomorrow=DynamoTable()\n",
    "try:\n",
    "    dt_tomorrow.select_table(table_name_tomorrow)\n",
    "    print(dt)\n",
    "except:\n",
    "    dt_tomorrow.create_table(\n",
    "        table_name=table_name_tomorrow,\n",
    "        partition_key='PK',\n",
    "        partition_key_type='S',\n",
    "        sort_key='SK',\n",
    "        sort_key_type='S',\n",
    "        wcu=300,\n",
    "        rcu=100\n",
    "    )"
   ]
  },
  {
   "cell_type": "code",
   "execution_count": 10,
   "metadata": {},
   "outputs": [
    {
     "data": {
      "text/plain": [
       "dynamodb.Table(name='TimeSeries-2023-06-23')"
      ]
     },
     "execution_count": 10,
     "metadata": {},
     "output_type": "execute_result"
    }
   ],
   "source": [
    "# Change ProvisionedThroughput\n",
    "dt_now.table.update(\n",
    "    ProvisionedThroughput={\n",
    "        'ReadCapacityUnits': 50,\n",
    "        'WriteCapacityUnits': 1\n",
    "    }\n",
    ")"
   ]
  },
  {
   "cell_type": "code",
   "execution_count": 11,
   "metadata": {},
   "outputs": [
    {
     "data": {
      "text/plain": [
       "{'TableDescription': {'TableName': 'TimeSeries-2023-06-21',\n",
       "  'TableStatus': 'DELETING',\n",
       "  'ProvisionedThroughput': {'NumberOfDecreasesToday': 0,\n",
       "   'ReadCapacityUnits': 1,\n",
       "   'WriteCapacityUnits': 1},\n",
       "  'TableSizeBytes': 0,\n",
       "  'ItemCount': 0,\n",
       "  'TableArn': 'arn:aws:dynamodb:us-east-1:234736309150:table/TimeSeries-2023-06-21',\n",
       "  'TableId': 'b78c9284-78fc-454d-ae04-3393262f70e0',\n",
       "  'DeletionProtectionEnabled': False},\n",
       " 'ResponseMetadata': {'RequestId': 'ON2E0JQ6OAL0R11J7JU7IRQHQFVV4KQNSO5AEMVJF66Q9ASUAAJG',\n",
       "  'HTTPStatusCode': 200,\n",
       "  'HTTPHeaders': {'server': 'Server',\n",
       "   'date': 'Fri, 23 Jun 2023 14:09:48 GMT',\n",
       "   'content-type': 'application/x-amz-json-1.0',\n",
       "   'content-length': '378',\n",
       "   'connection': 'keep-alive',\n",
       "   'x-amzn-requestid': 'ON2E0JQ6OAL0R11J7JU7IRQHQFVV4KQNSO5AEMVJF66Q9ASUAAJG',\n",
       "   'x-amz-crc32': '62922297'},\n",
       "  'RetryAttempts': 0}}"
      ]
     },
     "execution_count": 11,
     "metadata": {},
     "output_type": "execute_result"
    }
   ],
   "source": [
    "# Delete table before yesterday\n",
    "dt_byesterday.table.delete()"
   ]
  },
  {
   "cell_type": "code",
   "execution_count": 12,
   "metadata": {},
   "outputs": [
    {
     "data": {
      "text/plain": [
       "dynamodb.Table(name='TimeSeries-2023-06-22')"
      ]
     },
     "execution_count": 12,
     "metadata": {},
     "output_type": "execute_result"
    }
   ],
   "source": [
    "# Change ProvisionedThroughput from table yesterday\n",
    "dt_yesterday.table.update(\n",
    "    ProvisionedThroughput={\n",
    "        'ReadCapacityUnits': 1,\n",
    "        'WriteCapacityUnits': 1\n",
    "    } \n",
    ")"
   ]
  }
 ],
 "metadata": {
  "kernelspec": {
   "display_name": "personal",
   "language": "python",
   "name": "python3"
  },
  "language_info": {
   "codemirror_mode": {
    "name": "ipython",
    "version": 3
   },
   "file_extension": ".py",
   "mimetype": "text/x-python",
   "name": "python",
   "nbconvert_exporter": "python",
   "pygments_lexer": "ipython3",
   "version": "3.11.3"
  },
  "orig_nbformat": 4
 },
 "nbformat": 4,
 "nbformat_minor": 2
}
