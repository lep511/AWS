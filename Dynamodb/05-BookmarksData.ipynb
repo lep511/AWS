{
 "cells": [
  {
   "cell_type": "markdown",
   "metadata": {},
   "source": [
    "## Modelo de datos de marcadores\n",
    "#### Este modelo de datos se utiliza marcadores de tienda para los clientes.\n",
    "\n",
    "Un cliente puede tener muchos marcadores y un marcador puede pertenecer a muchos clientes. Este modelo de datos representa una relación de muchos a muchos.\n",
    "\n",
    "Los patrones de acceso que este modelo de datos facilita son:\n",
    "\n",
    "* Una sola consulta de customerId ahora puede devolver datos de clientes, así como marcadores.\n",
    "\n",
    "* Un índice ByEmail de consulta devuelve los datos del cliente por dirección de correo electrónico. Tenga en cuenta que este índice no recupera los marcadores.\n",
    "\n",
    "* Un índice de consulta ByUrl obtiene datos de marcadores por URL. Tenga en cuenta que tenemos customerId como clave de ordenación para el índice porque la misma URL puede ser reservada por varios clientes.\n",
    "\n",
    "* Un índice de consulta ByCustomerFolder obtiene marcadores por carpeta para cada cliente."
   ]
  },
  {
   "cell_type": "code",
   "execution_count": 1,
   "metadata": {},
   "outputs": [],
   "source": [
    "import pandas as pd\n",
    "from spdynamodb import DynamoTable\n",
    "import json\n",
    "from decimal import Decimal\n",
    "from time import sleep\n",
    "import boto3"
   ]
  },
  {
   "cell_type": "code",
   "execution_count": 6,
   "metadata": {},
   "outputs": [
    {
     "name": "stdout",
     "output_type": "stream",
     "text": [
      "Table created successfully!\n"
     ]
    }
   ],
   "source": [
    "dt = DynamoTable()\n",
    "try:\n",
    "    dt.select_table('CustomerBookmark')\n",
    "    print(dt)\n",
    "except:\n",
    "    dt.create_table(\n",
    "        table_name='CustomerBookmark',\n",
    "        partition_key='customerId',\n",
    "        partition_key_type='N',\n",
    "        sort_key=\"sk\",\n",
    "        sort_key_type=\"S\"\n",
    ")"
   ]
  },
  {
   "cell_type": "code",
   "execution_count": 7,
   "metadata": {},
   "outputs": [],
   "source": [
    "dt.load_json(\"bookmarks.json\")"
   ]
  },
  {
   "attachments": {},
   "cell_type": "markdown",
   "metadata": {},
   "source": [
    "#### [GSI] ByEmail"
   ]
  },
  {
   "cell_type": "code",
   "execution_count": 8,
   "metadata": {},
   "outputs": [],
   "source": [
    "dt.create_global_secondary_index(\n",
    "    att_name=\"email\",\n",
    "    att_type=\"S\",\n",
    "    i_name=\"ByEmail\",\n",
    "    proj_type=[\"sk\", \"fullName\", \"userPreferences\"]\n",
    "    i_rcu=1,\n",
    "    i_wcu=1\n",
    ")"
   ]
  },
  {
   "cell_type": "code",
   "execution_count": 9,
   "metadata": {},
   "outputs": [
    {
     "name": "stdout",
     "output_type": "stream",
     "text": [
      "Global secondary index created.\n"
     ]
    }
   ],
   "source": [
    "status = dt.check_status_gsi()\n",
    "while status == 'CREATING':\n",
    "    status = dt.check_status_gsi()\n",
    "    sleep(30)\n",
    "print(\"Global secondary index created.\")"
   ]
  },
  {
   "attachments": {},
   "cell_type": "markdown",
   "metadata": {},
   "source": [
    "#### [GSI] ByUrl"
   ]
  },
  {
   "cell_type": "code",
   "execution_count": 10,
   "metadata": {},
   "outputs": [],
   "source": [
    "dt.create_global_secondary_index(\n",
    "    att_name=\"url\",\n",
    "    att_type=\"S\",\n",
    "    sort_index=\"customerId\",\n",
    "    sort_type=\"N\",\n",
    "    i_name=\"ByUrl\",\n",
    "    proj_type=[\"sk\", \"createDate\", \"updateDate\", \"folder\", \"title\", \"description\"],\n",
    "    i_rcu=1,\n",
    "    i_wcu=1\n",
    ")"
   ]
  },
  {
   "cell_type": "code",
   "execution_count": 11,
   "metadata": {},
   "outputs": [
    {
     "name": "stdout",
     "output_type": "stream",
     "text": [
      "Global secondary index created.\n"
     ]
    }
   ],
   "source": [
    "status = dt.check_status_gsi()\n",
    "while status == 'CREATING':\n",
    "    status = dt.check_status_gsi()\n",
    "    sleep(30)\n",
    "print(\"Global secondary index created.\")"
   ]
  },
  {
   "attachments": {},
   "cell_type": "markdown",
   "metadata": {},
   "source": [
    "#### [GSI] ByCustomerFolder"
   ]
  },
  {
   "cell_type": "code",
   "execution_count": 12,
   "metadata": {},
   "outputs": [],
   "source": [
    "dt.create_global_secondary_index(\n",
    "    att_name=\"customerId\",\n",
    "    att_type=\"N\",\n",
    "    sort_index=\"folder\",\n",
    "    sort_type=\"S\",\n",
    "    i_name=\"ByCustomerFolder\",\n",
    "    proj_type=[\"sk\", \"createDate\", \"updateDate\", \"title\", \"description\", \"url\"],\n",
    "    i_rcu=1,\n",
    "    i_wcu=1\n",
    ")"
   ]
  },
  {
   "cell_type": "code",
   "execution_count": 13,
   "metadata": {},
   "outputs": [
    {
     "name": "stdout",
     "output_type": "stream",
     "text": [
      "Global secondary index created.\n"
     ]
    }
   ],
   "source": [
    "status = dt.check_status_gsi()\n",
    "while status == 'CREATING':\n",
    "    status = dt.check_status_gsi()\n",
    "    sleep(30)\n",
    "print(\"Global secondary index created.\")"
   ]
  },
  {
   "cell_type": "code",
   "execution_count": 14,
   "metadata": {},
   "outputs": [
    {
     "data": {
      "text/plain": [
       "['ByEmail', 'ByUrl', 'ByCustomerFolder']"
      ]
     },
     "execution_count": 14,
     "metadata": {},
     "output_type": "execute_result"
    }
   ],
   "source": [
    "dt.list_gsi"
   ]
  }
 ],
 "metadata": {
  "kernelspec": {
   "display_name": "base",
   "language": "python",
   "name": "python3"
  },
  "language_info": {
   "codemirror_mode": {
    "name": "ipython",
    "version": 3
   },
   "file_extension": ".py",
   "mimetype": "text/x-python",
   "name": "python",
   "nbconvert_exporter": "python",
   "pygments_lexer": "ipython3",
   "version": "3.9.12"
  },
  "orig_nbformat": 4
 },
 "nbformat": 4,
 "nbformat_minor": 2
}
