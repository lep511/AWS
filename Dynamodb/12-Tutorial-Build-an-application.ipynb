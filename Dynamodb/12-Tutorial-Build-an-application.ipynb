{
 "cells": [
  {
   "attachments": {},
   "cell_type": "markdown",
   "metadata": {},
   "source": [
    "## Construir una aplicación utilizando un almacén de datos clave-valor NoSQL\n",
    "\n",
    "En este tutorial, crearás una aplicación de librería que muestre un catálogo de productos. Los productos suelen contener identificadores únicos y atributos como descripciones, cantidades, ubicaciones y precios. El método para recuperar este tipo de atributos (en concreto, el patrón de acceso) suele ser una búsqueda clave-valor basada en el identificador único del producto. Esto significa que una aplicación puede recuperar estos otros atributos cuando se proporciona el identificador único de un producto.\n",
    "\n",
    "Si bien el catálogo de productos puede comenzar con unos pocos productos, debe tener la capacidad de escalar a miles de millones si es necesario sin tener que cambiar su arquitectura o requerir una base de datos diferente. También debe mantener un desempeño rápido y predecible a cualquier escala para estas búsquedas de valores clave. Teniendo en cuenta estos requisitos, Amazon DynamoDB es una buena opción como sistema de registro duradero para la librería, ya que ofrece un desempeño de baja latencia y se escala a medida que crece la aplicación. Otra ventaja es que no necesita administrar ningún servidor ni clúster.\n",
    "\n",
    "![image.png](https://d1.awsstatic.com/nosql-key-value-data-store/Initial%20Visualization.1944529d4d62522171b6091ee74bb343bcdd940f.jpg)\n"
   ]
  },
  {
   "attachments": {},
   "cell_type": "markdown",
   "metadata": {},
   "source": [
    "### Introducción\n",
    "Como se mencionó al principio de este tutorial, vas a crear una aplicación de librería online con un amplio catálogo de productos. Cuando un usuario accede a esta aplicación, se mostrarán los libros que están en stock e información básica sobre esos libros, como autor, título, categoría y más.\n",
    "\n",
    "La aplicación debe ser capaz de recuperar un libro concreto mediante una combinación de su título y autor para que el usuario pueda obtener información adicional sobre el libro. La aplicación también debe permitir a los usuarios ver todos los libros de una categoría determinada, como historia o biografía, para facilitar el descubrimiento de libros en el catálogo. Estos libros también pueden tener distintos formatos, como tapa dura, rústica o audiolibro. Estos formatos pueden actualizarse con el tiempo.\n",
    "\n",
    "Terminología y conceptos\n",
    "Los siguientes conceptos de DynamoDB desempeñan un papel clave en este tutorial:\n",
    " \n",
    "* **Tabla**: Se trata simplemente de una colección de datos. Una tabla es específicamente la estructura en la que DynamoDB almacena estos datos. En nuestro caso, tendremos una tabla books para almacenar nuestro catálogo de productos.\n",
    "\n",
    "* **Elemento**: Un único registro de datos en una tabla de DynamoDB. Es comparable a una fila en una base de datos relacional. Cada elemento de nuestra tabla corresponderá a un libro de nuestro catálogo de productos.\n",
    "\n",
    "* **Atributo**: Un único elemento de datos de un elemento. Es comparable a una columna en una base de datos relacional. Sin embargo, a diferencia de las columnas de una base de datos relacional, no es necesario especificar los atributos al crear la tabla, salvo la clave primaria. En nuestro caso, los atributos consistirán en elementos como Título, Autor y Categoría.\n",
    "\n",
    "* **Clave primaria**: Una clave primaria es un identificador único para un solo elemento en una tabla DynamoDB. Al crear una tabla, debe especificar el nombre y el tipo de la clave primaria. La clave primaria identifica de forma única cada elemento escrito en una tabla. Una clave primaria simple consta de un único atributo, y una clave primaria compuesta consta de dos atributos. Por ejemplo, utilizaremos una combinación de Título y Autor como identificador único para cada libro.\n",
    "\n",
    "* **PartiQL**: Se trata de un lenguaje de consulta compatible con SQL que le permite codificar sus operaciones de datos de DynamoDB utilizando sintaxis SQL."
   ]
  },
  {
   "attachments": {},
   "cell_type": "markdown",
   "metadata": {},
   "source": [
    "### Modelo de datos\n",
    "Al crear una aplicación, siempre hay que dedicar tiempo a diseñar los modelos de datos necesarios en la lógica de la aplicación. El diseño del modelo de datos debe tener en cuenta las necesidades de acceso a los datos de la aplicación, tanto para la lectura como para la escritura de datos.\n",
    "\n",
    "DynamoDB es una base de datos no relacional, lo que significa que no es necesario especificar el esquema completo por adelantado al crear una tabla. Solo tiene que declarar la clave principal de la tabla, que identifica de forma exclusiva cada registro de la tabla. Esto reduce el coste inicial del diseño del modelo de datos, ya que se puede modificar fácilmente el esquema a medida que cambian las necesidades de la aplicación.\n",
    "\n",
    "Como se ha mencionado anteriormente, su aplicación necesita recuperar un libro individual por su título y autor. Dado que la combinación de título y autor es un identificador único de un libro, puede utilizar estos atributos como clave principal de la tabla. Su aplicación también necesita almacenar información sobre la categoría de nuestro libro, como historia o biografía, así como los formatos disponibles de su libro -cubierta dura, tapa blanda o audiolibro- que se asignan a los números de artículo en su sistema de inventario."
   ]
  },
  {
   "attachments": {},
   "cell_type": "markdown",
   "metadata": {},
   "source": [
    "### Crear la tabla"
   ]
  },
  {
   "cell_type": "code",
   "execution_count": 1,
   "metadata": {},
   "outputs": [],
   "source": [
    "import boto3\n",
    "from botocore.exceptions import ClientError\n",
    "import pandas as pd\n",
    "import base64\n",
    "from spdynamodb import DynamoTable\n",
    "from datetime import datetime\n",
    "import json\n",
    "import time\n",
    "from decimal import Decimal"
   ]
  },
  {
   "cell_type": "code",
   "execution_count": 2,
   "metadata": {},
   "outputs": [
    {
     "name": "stdout",
     "output_type": "stream",
     "text": [
      "- Table name: Bookks            \n",
      "- Table arn: arn:aws:dynamodb:us-east-1:089715336747:table/Bookks            \n",
      "- Table creation: 2023-05-27 19:49:51            \n",
      "- [{'AttributeName': 'Author', 'KeyType': 'HASH'}, {'AttributeName': 'Title', 'KeyType': 'RANGE'}]            \n",
      "- [{'AttributeName': 'Author', 'AttributeType': 'S'}, {'AttributeName': 'Category', 'AttributeType': 'S'}, {'AttributeName': 'Title', 'AttributeType': 'S'}]            \n",
      "- Point-in-time recovery status: DISABLED  |  Delete protection: False\n"
     ]
    }
   ],
   "source": [
    "#dt = DynamoTable(profile_name='my-profile')\n",
    "dt=DynamoTable()\n",
    "try:\n",
    "    dt.select_table('Bookks')\n",
    "    print(dt)\n",
    "except:\n",
    "    dt.create_table(\n",
    "        table_name='Bookks',\n",
    "        partition_key='Author',\n",
    "        partition_key_type='S',\n",
    "        sort_key='Title',\n",
    "        sort_key_type='S',\n",
    "    )"
   ]
  },
  {
   "attachments": {},
   "cell_type": "markdown",
   "metadata": {},
   "source": [
    "### Insertar elementos en nuestra tabla"
   ]
  },
  {
   "cell_type": "code",
   "execution_count": 10,
   "metadata": {},
   "outputs": [
    {
     "name": "stdout",
     "output_type": "stream",
     "text": [
      "Overwriting partiqlbatch.json\n"
     ]
    }
   ],
   "source": [
    "%%writefile partiqlbatch.json\n",
    "[\n",
    "    {\n",
    "        \"Author\": \"John Grisham\",\n",
    "        \"Title\": \"The Rainmaker\",\n",
    "        \"Category\": \"Suspense\",\n",
    "        \"Formats\": {\n",
    "            \"Hardcover\": true,\n",
    "            \"Paperback\": true,\n",
    "            \"Audiobook\": true\n",
    "        }\n",
    "    },\n",
    "    {\n",
    "        \"Author\": \"William Shakespeare\",\n",
    "        \"Title\": \"The Tempest\",\n",
    "        \"Category\": \"Romance\",\n",
    "        \"Formats\": {\n",
    "            \"Hardcover\": true,\n",
    "            \"Paperback\": true,\n",
    "            \"Audiobook\": false\n",
    "        }\n",
    "    },\n",
    "    {\n",
    "        \"Author\": \"Charles Dickens\",\n",
    "        \"Title\": \"Great Expectations\",\n",
    "        \"Category\": \"Romance\",\n",
    "        \"Formats\": {\n",
    "            \"Hardcover\": false,\n",
    "            \"Paperback\": true,\n",
    "            \"Audiobook\": false\n",
    "        }\n",
    "    },\n",
    "    {\n",
    "        \"Author\": \"James Patterson\",\n",
    "        \"Title\": \"Along Came a Spider\",\n",
    "        \"Category\": \"Suspense\",\n",
    "        \"Formats\": {\n",
    "            \"Hardcover\": true,\n",
    "            \"Paperback\": true,\n",
    "            \"Audiobook\": true\n",
    "        }\n",
    "    },\n",
    "    {\n",
    "        \"Author\": \"Dr. Seuss\",\n",
    "        \"Title\": \"Green Eggs and Ham\",\n",
    "        \"Category\": \"Children\",\n",
    "        \"Formats\": {\n",
    "            \"Hardcover\": true,\n",
    "            \"Paperback\": true,\n",
    "            \"Audiobook\": true\n",
    "        }\n",
    "    },\n",
    "    {\n",
    "        \"Author\": \"Julie Simon\",\n",
    "        \"Title\": \"Learn Amazon SageMaker\",\n",
    "        \"Category\": \"Technology\",\n",
    "        \"Formats\": {\n",
    "            \"Hardcover\": true,\n",
    "            \"Paperback\": false,\n",
    "            \"Audiobook\": false\n",
    "        }\n",
    "    }\n",
    "]"
   ]
  },
  {
   "cell_type": "code",
   "execution_count": 11,
   "metadata": {},
   "outputs": [],
   "source": [
    "dt.load_json(\"partiqlbatch.json\")"
   ]
  },
  {
   "cell_type": "code",
   "execution_count": 3,
   "metadata": {},
   "outputs": [
    {
     "name": "stdout",
     "output_type": "stream",
     "text": [
      "Consumed Capacity: 0.5\n"
     ]
    },
    {
     "data": {
      "text/plain": [
       "{'Title': 'Green Eggs and Ham',\n",
       " 'Formats': {'Hardcover': True, 'Paperback': True, 'Audiobook': True},\n",
       " 'Author': 'Dr. Seuss',\n",
       " 'Category': 'Children'}"
      ]
     },
     "execution_count": 3,
     "metadata": {},
     "output_type": "execute_result"
    }
   ],
   "source": [
    "dt.query(pk_value=\"Dr. Seuss\", sk_value=\"Green Eggs and Ham\", consumed_capacity=True)"
   ]
  },
  {
   "attachments": {},
   "cell_type": "markdown",
   "metadata": {},
   "source": [
    "### Crear índice secundario global"
   ]
  },
  {
   "cell_type": "code",
   "execution_count": 5,
   "metadata": {},
   "outputs": [
    {
     "name": "stdout",
     "output_type": "stream",
     "text": [
      "Global secondary index is being created, this may take a few minutes...\n",
      "Global secondary index created.\n"
     ]
    }
   ],
   "source": [
    "dt.create_global_secondary_index(\n",
    "    att_name=\"Category\",\n",
    "    att_type=\"S\",\n",
    "    i_name=\"CategoryIndex\"\n",
    ")\n",
    "\n",
    "status = dt.check_status_gsi()\n",
    "if status == 'CREATING':\n",
    "    print(\"Global secondary index is being created, this may take a few minutes...\")\n",
    "    while status == 'CREATING':\n",
    "        status = dt.check_status_gsi()\n",
    "        time.sleep(30)\n",
    "print(\"Global secondary index created.\")"
   ]
  },
  {
   "cell_type": "code",
   "execution_count": 19,
   "metadata": {},
   "outputs": [
    {
     "name": "stdout",
     "output_type": "stream",
     "text": [
      "ExecuteStatement executed successfully.\n"
     ]
    },
    {
     "data": {
      "text/plain": [
       "[{'Title': 'Learn Amazon SageMaker',\n",
       "  'Formats': {'Hardcover': True, 'Paperback': False, 'Audiobook': False},\n",
       "  'Author': 'Julie Simon',\n",
       "  'Category': 'Technology'}]"
      ]
     },
     "execution_count": 19,
     "metadata": {},
     "output_type": "execute_result"
    }
   ],
   "source": [
    "dt.query_partiql('SELECT * FROM Bookks.CategoryIndex WHERE Category = \\'Technology\\'')"
   ]
  },
  {
   "attachments": {},
   "cell_type": "markdown",
   "metadata": {},
   "source": [
    "### Update"
   ]
  },
  {
   "cell_type": "code",
   "execution_count": 8,
   "metadata": {},
   "outputs": [
    {
     "name": "stdout",
     "output_type": "stream",
     "text": [
      "ExecuteStatement executed successfully.\n",
      "Consumed Capacity: 1.0\n",
      "Not found any items\n"
     ]
    }
   ],
   "source": [
    "dt.query_partiql('UPDATE Bookks SET Formats.Audiobook = \\'JCV555\\' WHERE Author = \\'James Patterson\\' AND Title = \\'Along Came a Spider\\'', consumed_capacity='TOTAL')"
   ]
  },
  {
   "cell_type": "code",
   "execution_count": 10,
   "metadata": {},
   "outputs": [
    {
     "name": "stdout",
     "output_type": "stream",
     "text": [
      "ExecuteStatement executed successfully.\n",
      "Consumed Capacity: 2.0\n",
      "Not found any items\n"
     ]
    }
   ],
   "source": [
    "dt.query_partiql('UPDATE Bookks REMOVE Formats.Audiobook WHERE Author = \\'James Patterson\\' AND Title = \\'Along Came a Spider\\'', consumed_capacity='TOTAL')"
   ]
  },
  {
   "cell_type": "code",
   "execution_count": 38,
   "metadata": {},
   "outputs": [
    {
     "data": {
      "text/plain": [
       "{'ConsumedCapacity': {'TableName': 'Bookks', 'CapacityUnits': 1.0},\n",
       " 'ResponseMetadata': {'RequestId': '7PQRG7N4SFUPA4TV97R0UJHQSRVV4KQNSO5AEMVJF66Q9ASUAAJG',\n",
       "  'HTTPStatusCode': 200,\n",
       "  'HTTPHeaders': {'server': 'Server',\n",
       "   'date': 'Sun, 28 May 2023 00:27:00 GMT',\n",
       "   'content-type': 'application/x-amz-json-1.0',\n",
       "   'content-length': '63',\n",
       "   'connection': 'keep-alive',\n",
       "   'x-amzn-requestid': '7PQRG7N4SFUPA4TV97R0UJHQSRVV4KQNSO5AEMVJF66Q9ASUAAJG',\n",
       "   'x-amz-crc32': '3447348954'},\n",
       "  'RetryAttempts': 0}}"
      ]
     },
     "execution_count": 38,
     "metadata": {},
     "output_type": "execute_result"
    }
   ],
   "source": [
    "dt.table.delete_item(Key={'Author': 'Charles Dickens', 'Title': 'Great Expectations'}, ReturnValues='ALL_OLD', ReturnConsumedCapacity='TOTAL')"
   ]
  }
 ],
 "metadata": {
  "kernelspec": {
   "display_name": "myenv",
   "language": "python",
   "name": "python3"
  },
  "language_info": {
   "codemirror_mode": {
    "name": "ipython",
    "version": 3
   },
   "file_extension": ".py",
   "mimetype": "text/x-python",
   "name": "python",
   "nbconvert_exporter": "python",
   "pygments_lexer": "ipython3",
   "version": "3.10.8"
  },
  "orig_nbformat": 4
 },
 "nbformat": 4,
 "nbformat_minor": 2
}
