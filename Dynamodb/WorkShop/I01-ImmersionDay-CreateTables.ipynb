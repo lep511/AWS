{
 "cells": [
  {
   "cell_type": "markdown",
   "metadata": {},
   "source": [
    "## Amazon DynamoDB Immersion Day - Part 1"
   ]
  },
  {
   "cell_type": "code",
   "execution_count": 2,
   "metadata": {},
   "outputs": [],
   "source": [
    "import boto3\n",
    "from botocore.exceptions import ClientError\n",
    "import pandas as pd\n",
    "import numpy as np\n",
    "import sys\n",
    "sys.path.append('../')\n",
    "from spdynamodb import DynamoTable\n",
    "from datetime import datetime\n",
    "import json\n",
    "import time\n",
    "from decimal import Decimal\n",
    "\n",
    "dynamodb_client = boto3.client('dynamodb')"
   ]
  },
  {
   "cell_type": "markdown",
   "metadata": {},
   "source": [
    "#### Product Catalog Table"
   ]
  },
  {
   "cell_type": "code",
   "execution_count": 6,
   "metadata": {},
   "outputs": [
    {
     "name": "stdout",
     "output_type": "stream",
     "text": [
      "Table info:\n",
      " - Table name: ProductCatalog\n",
      " - Table arn: arn:aws:dynamodb:us-east-1:010928219371:table/ProductCatalog\n",
      " - Table creation: 2024-08-27T15:31:20\n",
      " - Key schema: [{'AttributeName': 'Id', 'KeyType': 'HASH'}]\n",
      " - Attribute definitions: [{'AttributeName': 'Id', 'AttributeType': 'N'}]\n",
      " - Table class: STANDARD\n",
      " - Point-in-time recovery status: DISABLED\n",
      " - Delete protection: False\n",
      " - Stream enabled: OFF\n",
      " - Tags: [{'Key': 'workshop', 'Value': 'ImmersionDay'}]\n",
      "\n"
     ]
    }
   ],
   "source": [
    "product_table = DynamoTable()\n",
    "try:\n",
    "    product_table.select_table('ProductCatalog')\n",
    "    print(product_table)\n",
    "except:\n",
    "    product_table.create_table(\n",
    "        table_name='ProductCatalog',\n",
    "        partition_key='Id',\n",
    "        partition_key_type='N',\n",
    "        provisioned=True,\n",
    "        read_capacity=10,\n",
    "        write_capacity=5,\n",
    "        tags=[{'Key': 'workshop', 'Value': 'ImmersionDay'}]\n",
    ")"
   ]
  },
  {
   "cell_type": "markdown",
   "metadata": {},
   "source": [
    "#### Forum Table"
   ]
  },
  {
   "cell_type": "code",
   "execution_count": 7,
   "metadata": {},
   "outputs": [
    {
     "name": "stdout",
     "output_type": "stream",
     "text": [
      "Table info:\n",
      " - Table name: Forum\n",
      " - Table arn: arn:aws:dynamodb:us-east-1:010928219371:table/Forum\n",
      " - Table creation: 2024-08-27T15:32:29\n",
      " - Key schema: [{'AttributeName': 'Name', 'KeyType': 'HASH'}]\n",
      " - Attribute definitions: [{'AttributeName': 'Name', 'AttributeType': 'S'}]\n",
      " - Table class: STANDARD\n",
      " - Point-in-time recovery status: DISABLED\n",
      " - Delete protection: False\n",
      " - Stream enabled: OFF\n",
      " - Tags: [{'Key': 'workshop', 'Value': 'ImmersionDay'}]\n",
      "\n"
     ]
    }
   ],
   "source": [
    "forum_table = DynamoTable()\n",
    "try:\n",
    "    forum_table.select_table('Forum')\n",
    "    print(forum_table)\n",
    "except:\n",
    "    forum_table.create_table(\n",
    "        table_name='Forum',\n",
    "        partition_key='Name',\n",
    "        partition_key_type='S',\n",
    "        provisioned=True,\n",
    "        read_capacity=10,\n",
    "        write_capacity=5,\n",
    "        tags=[{'Key': 'workshop', 'Value': 'ImmersionDay'}]\n",
    ")"
   ]
  },
  {
   "cell_type": "markdown",
   "metadata": {},
   "source": [
    "#### Thread Table"
   ]
  },
  {
   "cell_type": "code",
   "execution_count": 8,
   "metadata": {},
   "outputs": [
    {
     "name": "stdout",
     "output_type": "stream",
     "text": [
      "Table info:\n",
      " - Table name: Thread\n",
      " - Table arn: arn:aws:dynamodb:us-east-1:010928219371:table/Thread\n",
      " - Table creation: 2024-08-27T15:33:36\n",
      " - Key schema: [{'AttributeName': 'ForumName', 'KeyType': 'HASH'}, {'AttributeName': 'Subject', 'KeyType': 'RANGE'}]\n",
      " - Attribute definitions: [{'AttributeName': 'ForumName', 'AttributeType': 'S'}, {'AttributeName': 'Subject', 'AttributeType': 'S'}]\n",
      " - Table class: STANDARD\n",
      " - Point-in-time recovery status: DISABLED\n",
      " - Delete protection: False\n",
      " - Stream enabled: OFF\n",
      " - Tags: [{'Key': 'workshop', 'Value': 'ImmersionDay'}]\n",
      "\n"
     ]
    }
   ],
   "source": [
    "thread_table = DynamoTable()\n",
    "try:\n",
    "    thread_table.select_table('Thread')\n",
    "    print(thread_table)\n",
    "except:\n",
    "    thread_table.create_table(\n",
    "        table_name='Thread',\n",
    "        partition_key='ForumName',\n",
    "        partition_key_type='S',\n",
    "        sort_key='Subject',\n",
    "        sort_key_type='S',\n",
    "        provisioned=True,\n",
    "        read_capacity=10,\n",
    "        write_capacity=5,\n",
    "        tags=[{'Key': 'workshop', 'Value': 'ImmersionDay'}]\n",
    ")"
   ]
  },
  {
   "cell_type": "markdown",
   "metadata": {},
   "source": [
    "#### Reply Table"
   ]
  },
  {
   "cell_type": "code",
   "execution_count": 9,
   "metadata": {},
   "outputs": [
    {
     "name": "stdout",
     "output_type": "stream",
     "text": [
      "Table info:\n",
      " - Table name: Reply\n",
      " - Table arn: arn:aws:dynamodb:us-east-1:010928219371:table/Reply\n",
      " - Table creation: 2024-08-27T15:34:36\n",
      " - Key schema: [{'AttributeName': 'Id', 'KeyType': 'HASH'}, {'AttributeName': 'ReplyDateTime', 'KeyType': 'RANGE'}]\n",
      " - Attribute definitions: [{'AttributeName': 'Id', 'AttributeType': 'S'}, {'AttributeName': 'ReplyDateTime', 'AttributeType': 'S'}]\n",
      " - Table class: STANDARD\n",
      " - Point-in-time recovery status: DISABLED\n",
      " - Delete protection: False\n",
      " - Stream enabled: OFF\n",
      " - Tags: [{'Key': 'workshop', 'Value': 'ImmersionDay'}]\n",
      "\n"
     ]
    }
   ],
   "source": [
    "reply_table = DynamoTable()\n",
    "try:\n",
    "    reply_table.select_table('Reply')\n",
    "    print(reply_table)\n",
    "except:\n",
    "    reply_table.create_table(\n",
    "        table_name='Reply',\n",
    "        partition_key='Id',\n",
    "        partition_key_type='S',\n",
    "        sort_key='ReplyDateTime',\n",
    "        sort_key_type='S',\n",
    "        provisioned=True,\n",
    "        read_capacity=10,\n",
    "        write_capacity=5,\n",
    "        tags=[{'Key': 'workshop', 'Value': 'ImmersionDay'}]\n",
    ")"
   ]
  },
  {
   "cell_type": "markdown",
   "metadata": {},
   "source": [
    "### Read Sample Data"
   ]
  },
  {
   "cell_type": "code",
   "execution_count": 32,
   "metadata": {},
   "outputs": [],
   "source": [
    "product_catalog_json = json.load(open('data/ProductCatalog.json', 'r'))\n",
    "reply_json = json.load(open('data/Reply.json', 'r'))\n",
    "thread_json = json.load(open('data/Thread.json', 'r'))\n",
    "forum_json = json.load(open('data/Forum.json', 'r'))"
   ]
  },
  {
   "cell_type": "code",
   "execution_count": 34,
   "metadata": {},
   "outputs": [
    {
     "data": {
      "text/plain": [
       "{'UnprocessedItems': {},\n",
       " 'ResponseMetadata': {'RequestId': 'KNHKFAF2LC5SK9V7IGGQSFVSSRVV4KQNSO5AEMVJF66Q9ASUAAJG',\n",
       "  'HTTPStatusCode': 200,\n",
       "  'HTTPHeaders': {'server': 'Server',\n",
       "   'date': 'Tue, 27 Aug 2024 18:51:48 GMT',\n",
       "   'content-type': 'application/x-amz-json-1.0',\n",
       "   'content-length': '23',\n",
       "   'connection': 'keep-alive',\n",
       "   'x-amzn-requestid': 'KNHKFAF2LC5SK9V7IGGQSFVSSRVV4KQNSO5AEMVJF66Q9ASUAAJG',\n",
       "   'x-amz-crc32': '4185382651'},\n",
       "  'RetryAttempts': 0}}"
      ]
     },
     "execution_count": 34,
     "metadata": {},
     "output_type": "execute_result"
    }
   ],
   "source": [
    "dynamodb_client.batch_write_item(RequestItems=reply_json)"
   ]
  },
  {
   "cell_type": "code",
   "execution_count": 37,
   "metadata": {},
   "outputs": [
    {
     "data": {
      "text/plain": [
       "{'UnprocessedItems': {},\n",
       " 'ResponseMetadata': {'RequestId': '9NAKLI98SAL4UCUP63VQKTKJF7VV4KQNSO5AEMVJF66Q9ASUAAJG',\n",
       "  'HTTPStatusCode': 200,\n",
       "  'HTTPHeaders': {'server': 'Server',\n",
       "   'date': 'Tue, 27 Aug 2024 18:52:46 GMT',\n",
       "   'content-type': 'application/x-amz-json-1.0',\n",
       "   'content-length': '23',\n",
       "   'connection': 'keep-alive',\n",
       "   'x-amzn-requestid': '9NAKLI98SAL4UCUP63VQKTKJF7VV4KQNSO5AEMVJF66Q9ASUAAJG',\n",
       "   'x-amz-crc32': '4185382651'},\n",
       "  'RetryAttempts': 0}}"
      ]
     },
     "execution_count": 37,
     "metadata": {},
     "output_type": "execute_result"
    }
   ],
   "source": [
    "dynamodb_client.batch_write_item(RequestItems=product_catalog_json)"
   ]
  },
  {
   "cell_type": "code",
   "execution_count": 35,
   "metadata": {},
   "outputs": [
    {
     "data": {
      "text/plain": [
       "{'UnprocessedItems': {},\n",
       " 'ResponseMetadata': {'RequestId': '171B5EBM6664QB0O3EHAD120UBVV4KQNSO5AEMVJF66Q9ASUAAJG',\n",
       "  'HTTPStatusCode': 200,\n",
       "  'HTTPHeaders': {'server': 'Server',\n",
       "   'date': 'Tue, 27 Aug 2024 18:52:38 GMT',\n",
       "   'content-type': 'application/x-amz-json-1.0',\n",
       "   'content-length': '23',\n",
       "   'connection': 'keep-alive',\n",
       "   'x-amzn-requestid': '171B5EBM6664QB0O3EHAD120UBVV4KQNSO5AEMVJF66Q9ASUAAJG',\n",
       "   'x-amz-crc32': '4185382651'},\n",
       "  'RetryAttempts': 0}}"
      ]
     },
     "execution_count": 35,
     "metadata": {},
     "output_type": "execute_result"
    }
   ],
   "source": [
    "dynamodb_client.batch_write_item(RequestItems=thread_json)"
   ]
  },
  {
   "cell_type": "code",
   "execution_count": 36,
   "metadata": {},
   "outputs": [
    {
     "data": {
      "text/plain": [
       "{'UnprocessedItems': {},\n",
       " 'ResponseMetadata': {'RequestId': 'JEG34Q0PUSSF30VCRU2IE9EU57VV4KQNSO5AEMVJF66Q9ASUAAJG',\n",
       "  'HTTPStatusCode': 200,\n",
       "  'HTTPHeaders': {'server': 'Server',\n",
       "   'date': 'Tue, 27 Aug 2024 18:52:42 GMT',\n",
       "   'content-type': 'application/x-amz-json-1.0',\n",
       "   'content-length': '23',\n",
       "   'connection': 'keep-alive',\n",
       "   'x-amzn-requestid': 'JEG34Q0PUSSF30VCRU2IE9EU57VV4KQNSO5AEMVJF66Q9ASUAAJG',\n",
       "   'x-amz-crc32': '4185382651'},\n",
       "  'RetryAttempts': 0}}"
      ]
     },
     "execution_count": 36,
     "metadata": {},
     "output_type": "execute_result"
    }
   ],
   "source": [
    "dynamodb_client.batch_write_item(RequestItems=forum_json)"
   ]
  },
  {
   "cell_type": "markdown",
   "metadata": {},
   "source": [
    "DynamoDB proporciona la API Scan, que puede invocarse mediante el comando CLI scan . La exploración realizará una exploración completa de la tabla y devolverá los elementos en trozos de 1 MB. El escaneado es la forma más lenta y costosa de obtener datos de DynamoDB; el escaneado de una tabla de gran tamaño desde la CLI puede ser difícil de manejar, pero sabemos que solo hay unos pocos elementos en nuestros datos de muestra, por lo que no hay problema en hacerlo aquí:"
   ]
  },
  {
   "cell_type": "code",
   "execution_count": 41,
   "metadata": {},
   "outputs": [
    {
     "data": {
      "text/plain": [
       "{'Items': [{'Title': '18-Bike-204',\n",
       "   'Price': Decimal('500'),\n",
       "   'Brand': 'Brand-Company C',\n",
       "   'Description': '205 Description',\n",
       "   'Color': ['Red', 'Black'],\n",
       "   'ProductCategory': 'Bicycle',\n",
       "   'Id': Decimal('205'),\n",
       "   'BicycleType': 'Hybrid'},\n",
       "  {'Title': '19-Bike-203',\n",
       "   'Price': Decimal('300'),\n",
       "   'Brand': 'Brand-Company B',\n",
       "   'Description': '203 Description',\n",
       "   'Color': ['Red', 'Green', 'Black'],\n",
       "   'ProductCategory': 'Bicycle',\n",
       "   'Id': Decimal('203'),\n",
       "   'BicycleType': 'Road'},\n",
       "  {'Title': '21-Bike-202',\n",
       "   'Price': Decimal('200'),\n",
       "   'Brand': 'Brand-Company A',\n",
       "   'Description': '202 Description',\n",
       "   'Color': ['Green', 'Black'],\n",
       "   'ProductCategory': 'Bicycle',\n",
       "   'Id': Decimal('202'),\n",
       "   'BicycleType': 'Road'},\n",
       "  {'Title': '18-Bike-201',\n",
       "   'Price': Decimal('100'),\n",
       "   'Brand': 'Mountain A',\n",
       "   'Description': '201 Description',\n",
       "   'Color': ['Red', 'Black'],\n",
       "   'ProductCategory': 'Bicycle',\n",
       "   'Id': Decimal('201'),\n",
       "   'BicycleType': 'Road'},\n",
       "  {'Title': '18-Bike-204',\n",
       "   'Price': Decimal('400'),\n",
       "   'Brand': 'Brand-Company B',\n",
       "   'Description': '204 Description',\n",
       "   'Color': ['Red'],\n",
       "   'ProductCategory': 'Bicycle',\n",
       "   'Id': Decimal('204'),\n",
       "   'BicycleType': 'Mountain'},\n",
       "  {'Title': 'Book 102 Title',\n",
       "   'InPublication': True,\n",
       "   'PageCount': Decimal('600'),\n",
       "   'Dimensions': '8.5 x 11.0 x 0.8',\n",
       "   'ISBN': '222-2222222222',\n",
       "   'Authors': ['Author1', 'Author2'],\n",
       "   'Price': Decimal('20'),\n",
       "   'ProductCategory': 'Book',\n",
       "   'Id': Decimal('102')},\n",
       "  {'Title': 'Book 103 Title',\n",
       "   'InPublication': False,\n",
       "   'PageCount': Decimal('600'),\n",
       "   'Dimensions': '8.5 x 11.0 x 1.5',\n",
       "   'ISBN': '333-3333333333',\n",
       "   'Authors': ['Author1', 'Author2'],\n",
       "   'Price': Decimal('2000'),\n",
       "   'ProductCategory': 'Book',\n",
       "   'Id': Decimal('103')},\n",
       "  {'Title': 'Book 101 Title',\n",
       "   'InPublication': True,\n",
       "   'PageCount': Decimal('500'),\n",
       "   'Dimensions': '8.5 x 11.0 x 0.5',\n",
       "   'ISBN': '111-1111111111',\n",
       "   'Authors': ['Author1'],\n",
       "   'Price': Decimal('2'),\n",
       "   'ProductCategory': 'Book',\n",
       "   'Id': Decimal('101')}],\n",
       " 'Count': 8,\n",
       " 'ScannedCount': 8,\n",
       " 'ResponseMetadata': {'RequestId': '8IQHI11H8US4GLSRJVQ7U3JSKNVV4KQNSO5AEMVJF66Q9ASUAAJG',\n",
       "  'HTTPStatusCode': 200,\n",
       "  'HTTPHeaders': {'server': 'Server',\n",
       "   'date': 'Tue, 27 Aug 2024 18:56:33 GMT',\n",
       "   'content-type': 'application/x-amz-json-1.0',\n",
       "   'content-length': '2043',\n",
       "   'connection': 'keep-alive',\n",
       "   'x-amzn-requestid': '8IQHI11H8US4GLSRJVQ7U3JSKNVV4KQNSO5AEMVJF66Q9ASUAAJG',\n",
       "   'x-amz-crc32': '873234463'},\n",
       "  'RetryAttempts': 0}}"
      ]
     },
     "execution_count": 41,
     "metadata": {},
     "output_type": "execute_result"
    }
   ],
   "source": [
    "product_table.table.scan()"
   ]
  },
  {
   "cell_type": "code",
   "execution_count": 46,
   "metadata": {},
   "outputs": [
    {
     "data": {
      "text/plain": [
       "{'Title': 'Book 101 Title',\n",
       " 'InPublication': True,\n",
       " 'PageCount': Decimal('500'),\n",
       " 'Dimensions': '8.5 x 11.0 x 0.5',\n",
       " 'ISBN': '111-1111111111',\n",
       " 'Authors': ['Author1'],\n",
       " 'Price': Decimal('2'),\n",
       " 'ProductCategory': 'Book',\n",
       " 'Id': Decimal('101')}"
      ]
     },
     "execution_count": 46,
     "metadata": {},
     "output_type": "execute_result"
    }
   ],
   "source": [
    "product_table.get_item(pk_value=101, consistent_read=True)"
   ]
  },
  {
   "cell_type": "code",
   "execution_count": 48,
   "metadata": {},
   "outputs": [
    {
     "name": "stdout",
     "output_type": "stream",
     "text": [
      "Help on method query in module spdynamodb.main:\n",
      "\n",
      "query(pk_value, sk_value=None, index_name=None, consistent_read=False, consumed_capacity=None, limit=None, reverse=True, to_pandas=False) method of spdynamodb.main.DynamoTable instance\n",
      "    Queries an Amazon DynamoDB table and returns the matching items.\n",
      "    :param pk_value: Primary key value.\n",
      "    :param sk_value: Sort key value if exist. Default: None.\n",
      "    :param index_name: The name of the index to query. If None, then the table itself is queried.\n",
      "    :param consistent_read: If True, then a strongly consistent read is used.\n",
      "    :param consumed_capacity: Return the consumed capacity. Valid values: None, \"TOTAL\", \"INDEXES\". Default: None.\n",
      "    :param to_pandas: If True, returns a pandas DataFrame. Default: True.\n",
      "    :param limit: The maximum number of items to return. Default: None.\n",
      "    :param reverse: If True, then the order of the search is ascending. If False, then the order of the search is descending. Default: True.\n",
      "    :return: The item/items matching the query.\n",
      "\n"
     ]
    }
   ],
   "source": [
    "help(reply_table.query)"
   ]
  },
  {
   "cell_type": "code",
   "execution_count": 50,
   "metadata": {},
   "outputs": [
    {
     "name": "stdout",
     "output_type": "stream",
     "text": [
      "Consumed Capacity: 0.5\n"
     ]
    },
    {
     "data": {
      "text/plain": [
       "[{'ReplyDateTime': '2015-09-15T19:58:22.947Z',\n",
       "  'Message': 'DynamoDB Thread 1 Reply 1 text',\n",
       "  'PostedBy': 'User A',\n",
       "  'Id': 'Amazon DynamoDB#DynamoDB Thread 1'},\n",
       " {'ReplyDateTime': '2015-09-22T19:58:22.947Z',\n",
       "  'Message': 'DynamoDB Thread 1 Reply 2 text',\n",
       "  'PostedBy': 'User B',\n",
       "  'Id': 'Amazon DynamoDB#DynamoDB Thread 1'}]"
      ]
     },
     "execution_count": 50,
     "metadata": {},
     "output_type": "execute_result"
    }
   ],
   "source": [
    "reply_table.query(pk_value=\"Amazon DynamoDB#DynamoDB Thread 1\", consumed_capacity=True)"
   ]
  },
  {
   "cell_type": "markdown",
   "metadata": {},
   "source": [
    "Dado que la clave de ordenación en esta tabla es una marca de tiempo, podríamos especificar una expresión de condición clave para devolver sólo las respuestas de un hilo que se publicaron después de una hora determinada añadiendo una condición de clave de ordenación:"
   ]
  },
  {
   "cell_type": "code",
   "execution_count": 57,
   "metadata": {},
   "outputs": [
    {
     "name": "stdout",
     "output_type": "stream",
     "text": [
      "Consumed Capacity: 0.5\n"
     ]
    },
    {
     "data": {
      "text/plain": [
       "[{'ReplyDateTime': '2015-09-22T19:58:22.947Z',\n",
       "  'Message': 'DynamoDB Thread 1 Reply 2 text',\n",
       "  'PostedBy': 'User B',\n",
       "  'Id': 'Amazon DynamoDB#DynamoDB Thread 1'}]"
      ]
     },
     "execution_count": 57,
     "metadata": {},
     "output_type": "execute_result"
    }
   ],
   "source": [
    "reply_table.query(\n",
    "    pk_value=\"Amazon DynamoDB#DynamoDB Thread 1\", \n",
    "    sk_value=\"2015-09-21_2029-01-01\", \n",
    "    consumed_capacity=True\n",
    ")"
   ]
  },
  {
   "cell_type": "code",
   "execution_count": 76,
   "metadata": {},
   "outputs": [
    {
     "data": {
      "text/plain": [
       "[{'ReplyDateTime': '2015-09-22T19:58:22.947Z',\n",
       "  'Message': 'DynamoDB Thread 1 Reply 2 text',\n",
       "  'PostedBy': 'User B',\n",
       "  'Id': 'Amazon DynamoDB#DynamoDB Thread 1'}]"
      ]
     },
     "execution_count": 76,
     "metadata": {},
     "output_type": "execute_result"
    }
   ],
   "source": [
    "reply_table.query(\n",
    "    pk_value=\"Amazon DynamoDB#DynamoDB Thread 1\",\n",
    "    limit=1,\n",
    "    reverse=False\n",
    ")"
   ]
  },
  {
   "cell_type": "code",
   "execution_count": 22,
   "metadata": {},
   "outputs": [
    {
     "data": {
      "text/plain": [
       "Table info:\n",
       " - Table name: Reply\n",
       " - Table arn: arn:aws:dynamodb:us-east-1:010928219371:table/Reply\n",
       " - Table creation: 2024-08-27T15:34:36\n",
       " - Key schema: [{'AttributeName': 'Id', 'KeyType': 'HASH'}, {'AttributeName': 'ReplyDateTime', 'KeyType': 'RANGE'}]\n",
       " - Attribute definitions: [{'AttributeName': 'Id', 'AttributeType': 'S'}, {'AttributeName': 'ReplyDateTime', 'AttributeType': 'S'}]\n",
       " - Table class: STANDARD\n",
       " - Point-in-time recovery status: DISABLED\n",
       " - Delete protection: False\n",
       " - Stream enabled: OFF\n",
       " - Tags: [{'Key': 'workshop', 'Value': 'ImmersionDay'}]"
      ]
     },
     "execution_count": 22,
     "metadata": {},
     "output_type": "execute_result"
    }
   ],
   "source": [
    "reply_table"
   ]
  },
  {
   "cell_type": "code",
   "execution_count": 23,
   "metadata": {},
   "outputs": [],
   "source": [
    "reply_table.add_item(\n",
    "    item={\n",
    "        \"Id\": \"Amazon DynamoDB#DynamoDB Thread 2\",\n",
    "        \"ReplyDateTime\": \"2021-04-27T17:47:30Z\",\n",
    "        \"Message\": \"DynamoDB Thread 2 Reply 3 text\",\n",
    "        \"PostedBy\": \"User C\"\n",
    "    }\n",
    ")"
   ]
  },
  {
   "cell_type": "markdown",
   "metadata": {},
   "source": [
    "### Transactions\n",
    "\n",
    "TransactWriteItems es una operación de escritura sincrónica que agrupa hasta 100 solicitudes de acción. Estas acciones pueden dirigirse a elementos de diferentes tablas, pero no a diferentes cuentas o regiones de Amazon Web Services, y no puede haber dos acciones dirigidas al mismo elemento. Por ejemplo, no se puede aplicar ConditionCheck y Update al mismo elemento. El tamaño agregado de los elementos de la transacción no puede superar los 4 MB.\n",
    "\n",
    "Las acciones se completan de forma atómica, de modo que o bien todas se ejecutan correctamente o bien todas fallan.\n",
    "\n",
    "Las transacciones en DynamoDB respetan el concepto de idempotencia. La idempotencia permite enviar la misma transacción más de una vez, pero DynamoDB solo la ejecutará una vez. Esto resulta especialmente útil cuando se utilizan API que no son idempotentes, como UpdateItem para aumentar o disminuir un campo numérico, por ejemplo. Cuando se ejecuta una transacción se especifica una cadena que representa el ClientRequestToken (también conocido como Idempotency Token)."
   ]
  },
  {
   "cell_type": "code",
   "execution_count": 39,
   "metadata": {},
   "outputs": [
    {
     "data": {
      "text/plain": [
       "{'ConsumedCapacity': [{'TableName': 'Reply',\n",
       "   'CapacityUnits': 2.0,\n",
       "   'WriteCapacityUnits': 2.0},\n",
       "  {'TableName': 'Forum', 'CapacityUnits': 2.0, 'WriteCapacityUnits': 2.0}],\n",
       " 'ResponseMetadata': {'RequestId': 'RVE18V4BJ4151ULD3IBPLE957NVV4KQNSO5AEMVJF66Q9ASUAAJG',\n",
       "  'HTTPStatusCode': 200,\n",
       "  'HTTPHeaders': {'server': 'Server',\n",
       "   'date': 'Tue, 27 Aug 2024 19:47:50 GMT',\n",
       "   'content-type': 'application/x-amz-json-1.0',\n",
       "   'content-length': '156',\n",
       "   'connection': 'keep-alive',\n",
       "   'x-amzn-requestid': 'RVE18V4BJ4151ULD3IBPLE957NVV4KQNSO5AEMVJF66Q9ASUAAJG',\n",
       "   'x-amz-crc32': '2086271600'},\n",
       "  'RetryAttempts': 0}}"
      ]
     },
     "execution_count": 39,
     "metadata": {},
     "output_type": "execute_result"
    }
   ],
   "source": [
    "dynamodb_client.transact_write_items(\n",
    "    TransactItems=[\n",
    "        {\n",
    "            'Put': {\n",
    "                'TableName': 'Reply',\n",
    "                'Item': {\n",
    "                    \"Id\" : {\"S\": \"Amazon DynamoDB#DynamoDB Thread 2\"},\n",
    "                    \"ReplyDateTime\" : {\"S\": \"2021-04-27T17:47:30Z\"},\n",
    "                    \"Message\" : {\"S\": \"DynamoDB Thread 2 Reply 3 text\"},\n",
    "                    \"PostedBy\" : {\"S\": \"User C\"}\n",
    "                }\n",
    "            }\n",
    "        },\n",
    "        {\n",
    "            'Update': {\n",
    "                'TableName': 'Forum',\n",
    "                'Key': {\n",
    "                    'Name': {'S': 'Amazon DynamoDB'}\n",
    "                },\n",
    "                \"UpdateExpression\": \"ADD Messages :inc\",\n",
    "                \"ExpressionAttributeValues\" : { \":inc\": {\"N\" : \"1\"} }\n",
    "            }\n",
    "        }\n",
    "    ],\n",
    "    ReturnConsumedCapacity='TOTAL',\n",
    "    ClientRequestToken='TRANSACTION01'\n",
    ")"
   ]
  },
  {
   "cell_type": "code",
   "execution_count": 40,
   "metadata": {},
   "outputs": [
    {
     "data": {
      "text/plain": [
       "{'Threads': Decimal('2'),\n",
       " 'Category': 'Amazon Web Services',\n",
       " 'Messages': Decimal('1007'),\n",
       " 'Name': 'Amazon DynamoDB',\n",
       " 'Views': Decimal('1000')}"
      ]
     },
     "execution_count": 40,
     "metadata": {},
     "output_type": "execute_result"
    }
   ],
   "source": [
    "forum_table.get_item(pk_value=\"Amazon DynamoDB\")"
   ]
  },
  {
   "cell_type": "markdown",
   "metadata": {},
   "source": [
    "Ahora necesitamos hacer otra transacción para revertir la operación anterior y limpiar la tabla:"
   ]
  },
  {
   "cell_type": "code",
   "execution_count": 41,
   "metadata": {},
   "outputs": [
    {
     "data": {
      "text/plain": [
       "{'ConsumedCapacity': [{'TableName': 'Reply',\n",
       "   'CapacityUnits': 2.0,\n",
       "   'WriteCapacityUnits': 2.0},\n",
       "  {'TableName': 'Forum', 'CapacityUnits': 2.0, 'WriteCapacityUnits': 2.0}],\n",
       " 'ResponseMetadata': {'RequestId': 'SH9A6PVDNN6C0RRFA6KT3FBKLJVV4KQNSO5AEMVJF66Q9ASUAAJG',\n",
       "  'HTTPStatusCode': 200,\n",
       "  'HTTPHeaders': {'server': 'Server',\n",
       "   'date': 'Tue, 27 Aug 2024 19:49:50 GMT',\n",
       "   'content-type': 'application/x-amz-json-1.0',\n",
       "   'content-length': '156',\n",
       "   'connection': 'keep-alive',\n",
       "   'x-amzn-requestid': 'SH9A6PVDNN6C0RRFA6KT3FBKLJVV4KQNSO5AEMVJF66Q9ASUAAJG',\n",
       "   'x-amz-crc32': '2086271600'},\n",
       "  'RetryAttempts': 0}}"
      ]
     },
     "execution_count": 41,
     "metadata": {},
     "output_type": "execute_result"
    }
   ],
   "source": [
    "dynamodb_client.transact_write_items(\n",
    "    TransactItems=[\n",
    "        {\n",
    "            'Delete': {\n",
    "                \"TableName\" : \"Reply\",\n",
    "                \"Key\" : {\n",
    "                    \"Id\" : {\"S\": \"Amazon DynamoDB#DynamoDB Thread 2\"},\n",
    "                    \"ReplyDateTime\" : {\"S\": \"2021-04-27T17:47:30Z\"}\n",
    "                }\n",
    "            }\n",
    "        },\n",
    "        {\n",
    "            'Update': {\n",
    "                'TableName': 'Forum',\n",
    "                'Key': {\n",
    "                    'Name': {'S': 'Amazon DynamoDB'}\n",
    "                },\n",
    "                \"UpdateExpression\": \"ADD Messages :inc\",\n",
    "                \"ExpressionAttributeValues\" : { \":inc\": {\"N\" : \"-1\"} }\n",
    "            }\n",
    "        }\n",
    "    ],\n",
    "    ReturnConsumedCapacity='TOTAL',\n",
    "    ClientRequestToken='TRANSACTION02'\n",
    ")"
   ]
  }
 ],
 "metadata": {
  "kernelspec": {
   "display_name": "myenv",
   "language": "python",
   "name": "python3"
  },
  "language_info": {
   "codemirror_mode": {
    "name": "ipython",
    "version": 3
   },
   "file_extension": ".py",
   "mimetype": "text/x-python",
   "name": "python",
   "nbconvert_exporter": "python",
   "pygments_lexer": "ipython3",
   "version": "3.12.2"
  }
 },
 "nbformat": 4,
 "nbformat_minor": 2
}
