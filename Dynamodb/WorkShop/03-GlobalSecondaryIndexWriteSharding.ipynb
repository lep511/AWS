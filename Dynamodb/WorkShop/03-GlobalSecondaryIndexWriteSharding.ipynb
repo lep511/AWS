{
 "cells": [
  {
   "cell_type": "markdown",
   "metadata": {},
   "source": [
    "## Fragmentación de escritura del índice secundario global\n",
    "La clave principal de una tabla de DynamoDB o un índice secundario global consta de una clave de partición y una clave de ordenación opcional. La forma de diseñar el contenido de estas claves es extremadamente importante para la estructura y el rendimiento de su base de datos. Los valores de la clave de partición determinan las particiones lógicas en las que se almacenan los datos. Por lo tanto, es importante elegir un valor de clave de partición que distribuya uniformemente la carga de trabajo entre todas las particiones de la tabla o índice secundario global.\n",
    "\n",
    "En este ejercicio, aprenderá sobre la fragmentación de escritura del índice secundario global, que es un patrón de diseño eficaz para consultar de forma selectiva los elementos distribuidos en diferentes particiones lógicas de una tabla muy grande. Revisemos el ejemplo de los registros de acceso al servidor del Ejercicio 1, que está basado en los registros de acceso al servicio de Apache. Esta vez, consulta los elementos con código de respuesta 4xx. Tenga en cuenta que los elementos con código de respuesta 4xx son un porcentaje muy pequeño de los datos totales y no tienen una distribución uniforme por código de respuesta. Por ejemplo, el código de respuesta 200 OK tiene más registros que los demás, lo cual es esperable para cualquier aplicación web.\n",
    "\n",
    "El siguiente gráfico muestra la distribución de los registros de log por código de respuesta para el archivo de muestra, logfile_medium1.csv.\n",
    "\n",
    "![img](images/image8.jpg)"
   ]
  },
  {
   "cell_type": "code",
   "execution_count": 105,
   "metadata": {},
   "outputs": [],
   "source": [
    "import boto3\n",
    "from botocore.exceptions import ClientError\n",
    "import pandas as pd\n",
    "import numpy as np\n",
    "import sys\n",
    "sys.path.append('../')\n",
    "from spdynamodb import DynamoTable\n",
    "import random\n",
    "import json\n",
    "import time\n",
    "from decimal import Decimal"
   ]
  },
  {
   "cell_type": "code",
   "execution_count": 2,
   "metadata": {},
   "outputs": [
    {
     "name": "stdout",
     "output_type": "stream",
     "text": [
      "Table info:\n",
      " - Table name: logfile\n",
      " - Table arn: arn:aws:dynamodb:us-east-1:637423169504:table/logfile\n",
      " - Table creation: 2024-07-24T11:04:19\n",
      " - Key schema: [{'AttributeName': 'PK', 'KeyType': 'HASH'}]\n",
      " - Attribute definitions: [{'AttributeName': 'GSI1-PK', 'AttributeType': 'S'}, {'AttributeName': 'GSI1-SK', 'AttributeType': 'S'}, {'AttributeName': 'PK', 'AttributeType': 'S'}]\n",
      " - Point-in-time recovery status: DISABLED\n",
      " - Delete protection: False\n",
      " - Stream enabled: OFF\n",
      " - Tags: [{'Key': 'workshop-design-patterns', 'Value': 'targeted-for-cleanup'}]\n",
      "\n"
     ]
    }
   ],
   "source": [
    "dt = DynamoTable()\n",
    "try:\n",
    "    dt.select_table('logfile')\n",
    "    print(dt)\n",
    "except:\n",
    "    dt.create_table(\n",
    "        table_name='logfile',\n",
    "        partition_key='PK',\n",
    "        partition_key_type='S',\n",
    "        read_capacity=5,\n",
    "        write_capacity=5,\n",
    "        tags=[{'Key': 'workshop-design-patterns', 'Value': 'targeted-for-cleanup'}]\n",
    ")"
   ]
  },
  {
   "cell_type": "markdown",
   "metadata": {},
   "source": [
    "Creará un índice secundario global de escritura separada en una tabla para aleatorizar las escrituras a través de múltiples valores de clave de partición lógica. En efecto, esto aumenta el rendimiento de escritura y lectura de la aplicación. Para aplicar este patrón de diseño, puedes crear un número aleatorio de un conjunto fijo (por ejemplo, de 1 a 10), y utilizar este número como la clave de partición lógica para un índice secundario global. Al aleatorizar la clave de partición, las escrituras en la tabla se distribuyen uniformemente entre todos los valores de la clave de partición, independientemente de cualquier atributo. Esto producirá un mejor paralelismo y un mayor rendimiento general. Además, si la aplicación necesita consultar los registros por un código de respuesta específico en una fecha específica, puede crear una clave de ordenación compuesta utilizando una combinación del código de respuesta y la fecha.\n",
    "\n",
    "En este ejercicio, se crea un índice secundario global utilizando valores aleatorios para la clave de partición y la clave compuesta `responsecode#date#hourofday` como clave de ordenación. La tabla logfile_scan que creó y rellenó durante la fase de preparación del taller ya tiene estos dos atributos. Si no completó los pasos de configuración, vuelva a Configuración - Paso 6 y complete el paso. Estos atributos se crearon utilizando el siguiente código."
   ]
  },
  {
   "cell_type": "code",
   "execution_count": 4,
   "metadata": {},
   "outputs": [],
   "source": [
    "dt.create_global_secondary_index(\n",
    "    att_name=\"GSI1-PK\",\n",
    "    att_type=\"S\",\n",
    "    sort_index=\"GSI1-SK\",\n",
    "    sort_type=\"S\",\n",
    "    index_name=\"GSI1\",\n",
    "    proj_type=[\"bytessent\"],\n",
    "    read_capacity=5,\n",
    "    write_capacity=5\n",
    ")"
   ]
  },
  {
   "cell_type": "code",
   "execution_count": 5,
   "metadata": {},
   "outputs": [],
   "source": [
    "status = dt.check_status_gsi()\n",
    "while status == 'CREATING':\n",
    "    status = dt.check_status_gsi()\n",
    "    time.sleep(30)\n",
    "print(\"Global secondary index created.\")"
   ]
  },
  {
   "cell_type": "code",
   "execution_count": 124,
   "metadata": {},
   "outputs": [],
   "source": [
    "columns = ['requestid','host','date','hourofday','timezone','method','url','responsecode','bytessent','useragent']\n",
    "df_logs = pd.read_csv('data/logfile_small1.csv', names=columns, header=None)\n",
    "\n",
    "df_logs['PK'] = df_logs['requestid'].astype(str)\n",
    "df_logs['PK'] = df_logs.apply(lambda x: str(\"request#\" + x['PK']), axis=1)\n",
    "\n",
    "SHARDS = 10\n",
    "df_logs['GSI1-PK'] = df_logs.apply(lambda x: 'shard' + '#' + str(random.randint(1, SHARDS)), axis=1)\n",
    "df_logs['GSI1-SK'] = df_logs.apply(lambda x: str(x['responsecode']) + '#' + x['date'] + '#' + str(x['hourofday']), axis=1)"
   ]
  },
  {
   "cell_type": "code",
   "execution_count": 125,
   "metadata": {},
   "outputs": [
    {
     "data": {
      "text/html": [
       "<div>\n",
       "<style scoped>\n",
       "    .dataframe tbody tr th:only-of-type {\n",
       "        vertical-align: middle;\n",
       "    }\n",
       "\n",
       "    .dataframe tbody tr th {\n",
       "        vertical-align: top;\n",
       "    }\n",
       "\n",
       "    .dataframe thead th {\n",
       "        text-align: right;\n",
       "    }\n",
       "</style>\n",
       "<table border=\"1\" class=\"dataframe\">\n",
       "  <thead>\n",
       "    <tr style=\"text-align: right;\">\n",
       "      <th></th>\n",
       "      <th>requestid</th>\n",
       "      <th>host</th>\n",
       "      <th>date</th>\n",
       "      <th>hourofday</th>\n",
       "      <th>timezone</th>\n",
       "      <th>method</th>\n",
       "      <th>url</th>\n",
       "      <th>responsecode</th>\n",
       "      <th>bytessent</th>\n",
       "      <th>useragent</th>\n",
       "      <th>PK</th>\n",
       "      <th>GSI1-PK</th>\n",
       "      <th>GSI1-SK</th>\n",
       "    </tr>\n",
       "  </thead>\n",
       "  <tbody>\n",
       "    <tr>\n",
       "      <th>0</th>\n",
       "      <td>1</td>\n",
       "      <td>66.249.67.3</td>\n",
       "      <td>2009-07-20</td>\n",
       "      <td>20</td>\n",
       "      <td>GMT-0700</td>\n",
       "      <td>GET</td>\n",
       "      <td>/gallery/main.php?g2_controller=exif.SwitchDet...</td>\n",
       "      <td>302</td>\n",
       "      <td>5</td>\n",
       "      <td>Mozilla/5.0 (compatible; Googlebot/2.1; +http:...</td>\n",
       "      <td>request#1</td>\n",
       "      <td>shard#3</td>\n",
       "      <td>302#2009-07-20#20</td>\n",
       "    </tr>\n",
       "    <tr>\n",
       "      <th>1</th>\n",
       "      <td>2</td>\n",
       "      <td>66.249.67.3</td>\n",
       "      <td>2009-07-20</td>\n",
       "      <td>20</td>\n",
       "      <td>GMT-0700</td>\n",
       "      <td>GET</td>\n",
       "      <td>/gallery/main.php?g2_itemId=15741&amp;g2_fromNavId...</td>\n",
       "      <td>200</td>\n",
       "      <td>8068</td>\n",
       "      <td>Mozilla/5.0 (compatible; Googlebot/2.1; +http:...</td>\n",
       "      <td>request#2</td>\n",
       "      <td>shard#7</td>\n",
       "      <td>200#2009-07-20#20</td>\n",
       "    </tr>\n",
       "    <tr>\n",
       "      <th>2</th>\n",
       "      <td>3</td>\n",
       "      <td>64.233.172.17</td>\n",
       "      <td>2009-07-20</td>\n",
       "      <td>20</td>\n",
       "      <td>GMT-0700</td>\n",
       "      <td>GET</td>\n",
       "      <td>/gwidgets/alexa.xml</td>\n",
       "      <td>200</td>\n",
       "      <td>2969</td>\n",
       "      <td>Mozilla/5.0 (compatible) Feedfetcher-Google; (...</td>\n",
       "      <td>request#3</td>\n",
       "      <td>shard#9</td>\n",
       "      <td>200#2009-07-20#20</td>\n",
       "    </tr>\n",
       "    <tr>\n",
       "      <th>3</th>\n",
       "      <td>4</td>\n",
       "      <td>74.125.74.193</td>\n",
       "      <td>2009-07-20</td>\n",
       "      <td>20</td>\n",
       "      <td>GMT-0700</td>\n",
       "      <td>GET</td>\n",
       "      <td>/gwidgets/alexa.xml</td>\n",
       "      <td>200</td>\n",
       "      <td>2969</td>\n",
       "      <td>Mozilla/5.0 (compatible) Feedfetcher-Google; (...</td>\n",
       "      <td>request#4</td>\n",
       "      <td>shard#7</td>\n",
       "      <td>200#2009-07-20#20</td>\n",
       "    </tr>\n",
       "    <tr>\n",
       "      <th>4</th>\n",
       "      <td>5</td>\n",
       "      <td>192.168.1.198</td>\n",
       "      <td>2009-07-20</td>\n",
       "      <td>20</td>\n",
       "      <td>GMT-0700</td>\n",
       "      <td>GET</td>\n",
       "      <td>/</td>\n",
       "      <td>200</td>\n",
       "      <td>17935</td>\n",
       "      <td>Mozilla/5.0 (Macintosh; U; Intel Mac OS X 10_5...</td>\n",
       "      <td>request#5</td>\n",
       "      <td>shard#7</td>\n",
       "      <td>200#2009-07-20#20</td>\n",
       "    </tr>\n",
       "  </tbody>\n",
       "</table>\n",
       "</div>"
      ],
      "text/plain": [
       "   requestid           host        date  hourofday  timezone method  \\\n",
       "0          1    66.249.67.3  2009-07-20         20  GMT-0700    GET   \n",
       "1          2    66.249.67.3  2009-07-20         20  GMT-0700    GET   \n",
       "2          3  64.233.172.17  2009-07-20         20  GMT-0700    GET   \n",
       "3          4  74.125.74.193  2009-07-20         20  GMT-0700    GET   \n",
       "4          5  192.168.1.198  2009-07-20         20  GMT-0700    GET   \n",
       "\n",
       "                                                 url  responsecode  bytessent  \\\n",
       "0  /gallery/main.php?g2_controller=exif.SwitchDet...           302          5   \n",
       "1  /gallery/main.php?g2_itemId=15741&g2_fromNavId...           200       8068   \n",
       "2                                /gwidgets/alexa.xml           200       2969   \n",
       "3                                /gwidgets/alexa.xml           200       2969   \n",
       "4                                                  /           200      17935   \n",
       "\n",
       "                                           useragent         PK  GSI1-PK  \\\n",
       "0  Mozilla/5.0 (compatible; Googlebot/2.1; +http:...  request#1  shard#3   \n",
       "1  Mozilla/5.0 (compatible; Googlebot/2.1; +http:...  request#2  shard#7   \n",
       "2  Mozilla/5.0 (compatible) Feedfetcher-Google; (...  request#3  shard#9   \n",
       "3  Mozilla/5.0 (compatible) Feedfetcher-Google; (...  request#4  shard#7   \n",
       "4  Mozilla/5.0 (Macintosh; U; Intel Mac OS X 10_5...  request#5  shard#7   \n",
       "\n",
       "             GSI1-SK  \n",
       "0  302#2009-07-20#20  \n",
       "1  200#2009-07-20#20  \n",
       "2  200#2009-07-20#20  \n",
       "3  200#2009-07-20#20  \n",
       "4  200#2009-07-20#20  "
      ]
     },
     "execution_count": 125,
     "metadata": {},
     "output_type": "execute_result"
    }
   ],
   "source": [
    "df_logs.head()"
   ]
  },
  {
   "cell_type": "code",
   "execution_count": 110,
   "metadata": {},
   "outputs": [
    {
     "name": "stdout",
     "output_type": "stream",
     "text": [
      "Data loaded successfully in 10.55 seconds.\n"
     ]
    }
   ],
   "source": [
    "dt.batch_pandas(df_logs)"
   ]
  },
  {
   "cell_type": "code",
   "execution_count": 126,
   "metadata": {},
   "outputs": [
    {
     "data": {
      "text/plain": [
       "responsecode\n",
       "200    420\n",
       "302     66\n",
       "404      8\n",
       "304      6\n",
       "Name: count, dtype: int64"
      ]
     },
     "execution_count": 126,
     "metadata": {},
     "output_type": "execute_result"
    }
   ],
   "source": [
    "df_logs.responsecode.value_counts()"
   ]
  },
  {
   "cell_type": "code",
   "execution_count": 132,
   "metadata": {},
   "outputs": [],
   "source": [
    "df = pd.DataFrame()\n",
    "for i in range(1, SHARDS + 1):\n",
    "    df_c = dt.query(\n",
    "        pk_value=f\"shard#{i}\",\n",
    "        sk_value=\"302*\",\n",
    "        index_name=\"GSI1\", \n",
    "        to_pandas=True\n",
    "    )\n",
    "    df_c = pd.concat([df, df_c])\n",
    "    df = df_c"
   ]
  },
  {
   "cell_type": "code",
   "execution_count": 135,
   "metadata": {},
   "outputs": [
    {
     "data": {
      "text/html": [
       "<div>\n",
       "<style scoped>\n",
       "    .dataframe tbody tr th:only-of-type {\n",
       "        vertical-align: middle;\n",
       "    }\n",
       "\n",
       "    .dataframe tbody tr th {\n",
       "        vertical-align: top;\n",
       "    }\n",
       "\n",
       "    .dataframe thead th {\n",
       "        text-align: right;\n",
       "    }\n",
       "</style>\n",
       "<table border=\"1\" class=\"dataframe\">\n",
       "  <thead>\n",
       "    <tr style=\"text-align: right;\">\n",
       "      <th></th>\n",
       "      <th>GSI1-SK</th>\n",
       "      <th>bytessent</th>\n",
       "      <th>GSI1-PK</th>\n",
       "      <th>PK</th>\n",
       "    </tr>\n",
       "  </thead>\n",
       "  <tbody>\n",
       "    <tr>\n",
       "      <th>0</th>\n",
       "      <td>302#2009-07-20#20</td>\n",
       "      <td>5</td>\n",
       "      <td>shard#1</td>\n",
       "      <td>request#145</td>\n",
       "    </tr>\n",
       "    <tr>\n",
       "      <th>1</th>\n",
       "      <td>302#2009-07-20#20</td>\n",
       "      <td>5</td>\n",
       "      <td>shard#1</td>\n",
       "      <td>request#114</td>\n",
       "    </tr>\n",
       "    <tr>\n",
       "      <th>2</th>\n",
       "      <td>302#2009-07-20#21</td>\n",
       "      <td>5</td>\n",
       "      <td>shard#1</td>\n",
       "      <td>request#287</td>\n",
       "    </tr>\n",
       "    <tr>\n",
       "      <th>3</th>\n",
       "      <td>302#2009-07-20#21</td>\n",
       "      <td>0</td>\n",
       "      <td>shard#1</td>\n",
       "      <td>request#378</td>\n",
       "    </tr>\n",
       "    <tr>\n",
       "      <th>4</th>\n",
       "      <td>302#2009-07-20#21</td>\n",
       "      <td>5</td>\n",
       "      <td>shard#1</td>\n",
       "      <td>request#438</td>\n",
       "    </tr>\n",
       "  </tbody>\n",
       "</table>\n",
       "</div>"
      ],
      "text/plain": [
       "             GSI1-SK  bytessent  GSI1-PK           PK\n",
       "0  302#2009-07-20#20          5  shard#1  request#145\n",
       "1  302#2009-07-20#20          5  shard#1  request#114\n",
       "2  302#2009-07-20#21          5  shard#1  request#287\n",
       "3  302#2009-07-20#21          0  shard#1  request#378\n",
       "4  302#2009-07-20#21          5  shard#1  request#438"
      ]
     },
     "execution_count": 135,
     "metadata": {},
     "output_type": "execute_result"
    }
   ],
   "source": [
    "df.head()"
   ]
  },
  {
   "cell_type": "code",
   "execution_count": 134,
   "metadata": {},
   "outputs": [
    {
     "data": {
      "text/plain": [
       "66"
      ]
     },
     "execution_count": 134,
     "metadata": {},
     "output_type": "execute_result"
    }
   ],
   "source": [
    "len(df)"
   ]
  }
 ],
 "metadata": {
  "kernelspec": {
   "display_name": "myenv",
   "language": "python",
   "name": "python3"
  },
  "language_info": {
   "codemirror_mode": {
    "name": "ipython",
    "version": 3
   },
   "file_extension": ".py",
   "mimetype": "text/x-python",
   "name": "python",
   "nbconvert_exporter": "python",
   "pygments_lexer": "ipython3",
   "version": "3.12.2"
  }
 },
 "nbformat": 4,
 "nbformat_minor": 2
}
