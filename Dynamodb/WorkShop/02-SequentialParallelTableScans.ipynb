{
 "cells": [
  {
   "cell_type": "markdown",
   "metadata": {},
   "source": [
    "## Escaneado de tablas secuencial y paralelo\n",
    "\n",
    "Aunque DynamoDB distribuye los elementos en varias particiones físicas, una operación de exploración solo puede leer una partición a la vez. Por este motivo, el rendimiento de una exploración está limitado por el rendimiento máximo de una única partición.\n",
    "\n",
    "Para maximizar la utilización del aprovisionamiento a nivel de tabla, utilice una Exploración paralela para dividir lógicamente una tabla (o índice secundario) en múltiples segmentos lógicos, y utilice múltiples trabajadores de aplicación para explorar estos segmentos lógicos en paralelo. Cada trabajador de aplicación puede ser un hilo en lenguajes de programación que admitan multihilo o un proceso del sistema operativo. Para obtener más información sobre cómo implementar una exploración paralela, consulte nuestra página de documentación para desarrolladores sobre exploraciones paralelas . La API de Escaneo no es adecuada para todos los patrones de consulta, y para más información sobre por qué los escaneos son menos eficientes que las consultas, por favor lea sobre las implicaciones de rendimiento del Escaneo en nuestra documentación.\n",
    "\n",
    "El siguiente diagrama muestra cómo una aplicación multihilo realiza una exploración paralela con tres subprocesos de aplicación. La aplicación crea tres subprocesos y cada uno de ellos emite una petición de exploración, explora su segmento designado, recuperando datos de 1 MB cada vez, y devuelve los datos al subproceso principal de la aplicación.\n",
    "\n",
    "\n",
    "![img](images/image7.jpg)"
   ]
  },
  {
   "cell_type": "code",
   "execution_count": 1,
   "metadata": {},
   "outputs": [],
   "source": [
    "import boto3\n",
    "from botocore.exceptions import ClientError\n",
    "import pandas as pd\n",
    "import numpy as np\n",
    "import sys\n",
    "sys.path.append('../')\n",
    "from spdynamodb import DynamoTable\n",
    "from datetime import datetime\n",
    "import json\n",
    "import time\n",
    "from decimal import Decimal"
   ]
  },
  {
   "cell_type": "code",
   "execution_count": 2,
   "metadata": {},
   "outputs": [
    {
     "name": "stdout",
     "output_type": "stream",
     "text": [
      "Table info:\n",
      " - Table name: logfile\n",
      " - Table arn: arn:aws:dynamodb:us-east-1:637423169504:table/logfile\n",
      " - Table creation: 2024-07-23T13:09:50\n",
      " - Key schema: [{'AttributeName': 'PK', 'KeyType': 'HASH'}]\n",
      " - Attribute definitions: [{'AttributeName': 'GSI1-PK', 'AttributeType': 'S'}, {'AttributeName': 'PK', 'AttributeType': 'S'}]\n",
      " - Point-in-time recovery status: DISABLED\n",
      " - Delete protection: False\n",
      " - Stream enabled: OFF\n",
      " - Tags: [{'Key': 'workshop-design-patterns', 'Value': 'targeted-for-cleanup'}]\n",
      "\n"
     ]
    }
   ],
   "source": [
    "dt = DynamoTable()\n",
    "try:\n",
    "    dt.select_table('logfile')\n",
    "    print(dt)\n",
    "except:\n",
    "    dt.create_table(\n",
    "        table_name='logfile',\n",
    "        partition_key='PK',\n",
    "        partition_key_type='S',\n",
    "        read_capacity=5,\n",
    "        write_capacity=5,\n",
    "        tags=[{'Key': 'workshop-design-patterns', 'Value': 'targeted-for-cleanup'}]\n",
    ")"
   ]
  },
  {
   "cell_type": "markdown",
   "metadata": {},
   "source": [
    "En primer lugar, ejecute una Exploración simple (secuencial) para calcular el total de bytes enviados para todos los registros con código de respuesta <> 200. Puede ejecutar una exploración con una expresión de filtro para filtrar los registros no relacionados. A continuación, el trabajador de aplicaciones sumará los valores de todos los registros devueltos en los que el código de respuesta <> 200."
   ]
  },
  {
   "cell_type": "code",
   "execution_count": 5,
   "metadata": {},
   "outputs": [],
   "source": [
    "fe = \"responsecode <> :f\"\n",
    "eav = {\":f\": 200}\n",
    "pageSize = 100"
   ]
  },
  {
   "cell_type": "code",
   "execution_count": 6,
   "metadata": {},
   "outputs": [],
   "source": [
    "response = dt.table.scan(\n",
    "                FilterExpression=fe,\n",
    "                ExpressionAttributeValues=eav,\n",
    "                Limit=pageSize,\n",
    "                ProjectionExpression='bytessent'\n",
    ")"
   ]
  },
  {
   "cell_type": "markdown",
   "metadata": {},
   "source": [
    "Observe que hay un parámetro Límite establecido en el comando Escanear. Una única operación de Escaneado leerá hasta el número máximo de elementos establecidos (si se utiliza el parámetro Límite) o un máximo de 1 MB de datos, y luego aplicará cualquier filtro a los resultados utilizando FilterExpression. Si el número total de elementos escaneados supera el máximo establecido por el parámetro límite o el límite de tamaño del conjunto de datos de 1 MB, el escaneo se detiene y los resultados se devuelven al usuario como un valor LastEvaluatedKey. Este valor puede utilizarse en una operación posterior para poder continuar donde se dejó."
   ]
  },
  {
   "cell_type": "code",
   "execution_count": 14,
   "metadata": {},
   "outputs": [
    {
     "data": {
      "text/plain": [
       "{'PK': '2225'}"
      ]
     },
     "execution_count": 14,
     "metadata": {},
     "output_type": "execute_result"
    }
   ],
   "source": [
    "response['LastEvaluatedKey']"
   ]
  },
  {
   "cell_type": "code",
   "execution_count": 16,
   "metadata": {},
   "outputs": [],
   "source": [
    "totalbytessent = 0\n",
    "\n",
    "while 'LastEvaluatedKey' in response:\n",
    "    response = dt.table.scan(\n",
    "        FilterExpression=fe,\n",
    "        ExpressionAttributeValues=eav,\n",
    "        Limit=pageSize,\n",
    "        ExclusiveStartKey=response['LastEvaluatedKey'],\n",
    "        ProjectionExpression='bytessent')\n",
    "    for i in response['Items']:\n",
    "        totalbytessent += i['bytessent']"
   ]
  },
  {
   "cell_type": "code",
   "execution_count": 17,
   "metadata": {},
   "outputs": [
    {
     "data": {
      "text/plain": [
       "Decimal('23536')"
      ]
     },
     "execution_count": 17,
     "metadata": {},
     "output_type": "execute_result"
    }
   ],
   "source": [
    "totalbytessent"
   ]
  },
  {
   "cell_type": "markdown",
   "metadata": {},
   "source": [
    "### Ejecutar una exploración paralela\n",
    "\n",
    "Para realizar una exploración en paralelo, cada trabajador de aplicación emite su propia solicitud de exploración con los siguientes parámetros:\n",
    "\n",
    "* **Segment**: El segmento a escanear por un trabajador de aplicación específico. Cada trabajador debe utilizar un valor diferente para Segment.\n",
    "* **TotalSegments**: El número total de segmentos para el escaneo paralelo. Este valor debe ser el mismo que el número de trabajadores que utilizará su aplicación.\n",
    "\n",
    "Ejectue el siguiente comando:\n",
    "\n",
    "```bash\n",
    "python scan_logfile_parallel.py logfile_scan 2\n",
    "```"
   ]
  }
 ],
 "metadata": {
  "kernelspec": {
   "display_name": "myenv",
   "language": "python",
   "name": "python3"
  },
  "language_info": {
   "codemirror_mode": {
    "name": "ipython",
    "version": 3
   },
   "file_extension": ".py",
   "mimetype": "text/x-python",
   "name": "python",
   "nbconvert_exporter": "python",
   "pygments_lexer": "ipython3",
   "version": "3.12.2"
  }
 },
 "nbformat": 4,
 "nbformat_minor": 2
}
