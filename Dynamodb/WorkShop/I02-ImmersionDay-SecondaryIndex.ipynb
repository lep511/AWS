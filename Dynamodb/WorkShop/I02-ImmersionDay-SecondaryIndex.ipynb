{
 "cells": [
  {
   "cell_type": "markdown",
   "metadata": {},
   "source": [
    "## Amazon DynamoDB Immersion Day - Part 2"
   ]
  },
  {
   "cell_type": "code",
   "execution_count": 1,
   "metadata": {},
   "outputs": [],
   "source": [
    "import boto3\n",
    "from botocore.exceptions import ClientError\n",
    "import pandas as pd\n",
    "import numpy as np\n",
    "import sys\n",
    "sys.path.append('../')\n",
    "from spdynamodb import DynamoTable\n",
    "from datetime import datetime\n",
    "import json\n",
    "import time\n",
    "from decimal import Decimal\n",
    "\n",
    "dynamodb_client = boto3.client('dynamodb')"
   ]
  },
  {
   "cell_type": "markdown",
   "metadata": {},
   "source": [
    "#### Product Catalog Table"
   ]
  },
  {
   "cell_type": "code",
   "execution_count": 3,
   "metadata": {},
   "outputs": [
    {
     "name": "stdout",
     "output_type": "stream",
     "text": [
      "Table info:\n",
      " - Table name: ProductCatalog\n",
      " - Table arn: arn:aws:dynamodb:us-east-1:006662441764:table/ProductCatalog\n",
      " - Table creation: 2024-08-28T09:27:41\n",
      " - Key schema: [{'AttributeName': 'Id', 'KeyType': 'HASH'}]\n",
      " - Attribute definitions: [{'AttributeName': 'Id', 'AttributeType': 'N'}]\n",
      " - Table class: STANDARD\n",
      " - Point-in-time recovery status: DISABLED\n",
      " - Delete protection: False\n",
      " - Stream enabled: OFF\n",
      " - Tags: [{'Key': 'workshop', 'Value': 'ImmersionDay'}]\n",
      "\n"
     ]
    }
   ],
   "source": [
    "product_table = DynamoTable()\n",
    "product_table.select_table('ProductCatalog')\n",
    "print(product_table)"
   ]
  },
  {
   "cell_type": "markdown",
   "metadata": {},
   "source": [
    "#### Forum Table"
   ]
  },
  {
   "cell_type": "code",
   "execution_count": 7,
   "metadata": {},
   "outputs": [
    {
     "name": "stdout",
     "output_type": "stream",
     "text": [
      "Table info:\n",
      " - Table name: Forum\n",
      " - Table arn: arn:aws:dynamodb:us-east-1:006662441764:table/Forum\n",
      " - Table creation: 2024-08-28T09:28:05\n",
      " - Key schema: [{'AttributeName': 'Name', 'KeyType': 'HASH'}]\n",
      " - Attribute definitions: [{'AttributeName': 'Name', 'AttributeType': 'S'}]\n",
      " - Table class: STANDARD\n",
      " - Point-in-time recovery status: DISABLED\n",
      " - Delete protection: False\n",
      " - Stream enabled: OFF\n",
      " - Tags: [{'Key': 'workshop', 'Value': 'ImmersionDay'}]\n",
      "\n"
     ]
    }
   ],
   "source": [
    "forum_table = DynamoTable()\n",
    "forum_table.select_table('Forum')\n",
    "print(forum_table)"
   ]
  },
  {
   "cell_type": "markdown",
   "metadata": {},
   "source": [
    "#### Thread Table"
   ]
  },
  {
   "cell_type": "code",
   "execution_count": 5,
   "metadata": {},
   "outputs": [
    {
     "name": "stdout",
     "output_type": "stream",
     "text": [
      "Table info:\n",
      " - Table name: Thread\n",
      " - Table arn: arn:aws:dynamodb:us-east-1:006662441764:table/Thread\n",
      " - Table creation: 2024-08-28T09:28:30\n",
      " - Key schema: [{'AttributeName': 'ForumName', 'KeyType': 'HASH'}, {'AttributeName': 'Subject', 'KeyType': 'RANGE'}]\n",
      " - Attribute definitions: [{'AttributeName': 'ForumName', 'AttributeType': 'S'}, {'AttributeName': 'Subject', 'AttributeType': 'S'}]\n",
      " - Table class: STANDARD\n",
      " - Point-in-time recovery status: DISABLED\n",
      " - Delete protection: False\n",
      " - Stream enabled: OFF\n",
      " - Tags: [{'Key': 'workshop', 'Value': 'ImmersionDay'}]\n",
      "\n"
     ]
    }
   ],
   "source": [
    "thread_table = DynamoTable()\n",
    "thread_table.select_table('Thread')\n",
    "print(thread_table)"
   ]
  },
  {
   "cell_type": "markdown",
   "metadata": {},
   "source": [
    "#### Reply Table"
   ]
  },
  {
   "cell_type": "code",
   "execution_count": 6,
   "metadata": {},
   "outputs": [
    {
     "name": "stdout",
     "output_type": "stream",
     "text": [
      "Table info:\n",
      " - Table name: Reply\n",
      " - Table arn: arn:aws:dynamodb:us-east-1:006662441764:table/Reply\n",
      " - Table creation: 2024-08-28T09:28:54\n",
      " - Key schema: [{'AttributeName': 'Id', 'KeyType': 'HASH'}, {'AttributeName': 'ReplyDateTime', 'KeyType': 'RANGE'}]\n",
      " - Attribute definitions: [{'AttributeName': 'Id', 'AttributeType': 'S'}, {'AttributeName': 'ReplyDateTime', 'AttributeType': 'S'}]\n",
      " - Table class: STANDARD\n",
      " - Point-in-time recovery status: DISABLED\n",
      " - Delete protection: False\n",
      " - Stream enabled: OFF\n",
      " - Tags: [{'Key': 'workshop', 'Value': 'ImmersionDay'}]\n",
      "\n"
     ]
    }
   ],
   "source": [
    "reply_table = DynamoTable()\n",
    "reply_table.select_table('Reply')\n",
    "print(reply_table)"
   ]
  },
  {
   "cell_type": "markdown",
   "metadata": {},
   "source": [
    "### Global Secondary Indexes\n",
    "\n",
    "Hasta ahora nos habíamos ocupado de acceder a los datos basándonos en los atributos clave. Si queríamos buscar elementos basados en atributos no clave, teníamos que realizar una exploración completa de la tabla y utilizar condiciones de filtrado para encontrar lo que queríamos, lo que sería muy lento y costoso para los sistemas que funcionan a gran escala.\n",
    "\n",
    "DynamoDB ofrece una función llamada Índices Secundarios Globales (GSI) que pivota automáticamente los datos en torno a diferentes claves de partición y ordenación. Los datos se pueden reagrupar y reordenar para permitir que se sirvan más patrones de acceso rápidamente con las API de consulta y exploración.\n",
    "\n",
    "Recuerde el ejemplo anterior en el que queríamos encontrar todas las respuestas en la tabla Respuestas que fueron publicadas por el Usuario A:"
   ]
  },
  {
   "cell_type": "code",
   "execution_count": 13,
   "metadata": {},
   "outputs": [
    {
     "name": "stdout",
     "output_type": "stream",
     "text": [
      "Consumed Capacity: 0.5\n"
     ]
    },
    {
     "data": {
      "text/plain": [
       "[{'ReplyDateTime': '2015-09-15T19:58:22.947Z',\n",
       "  'Message': 'DynamoDB Thread 1 Reply 1 text',\n",
       "  'PostedBy': 'User A',\n",
       "  'Id': 'Amazon DynamoDB#DynamoDB Thread 1'},\n",
       " {'ReplyDateTime': '2015-09-29T19:58:22.947Z',\n",
       "  'Message': 'DynamoDB Thread 2 Reply 1 text',\n",
       "  'PostedBy': 'User A',\n",
       "  'Id': 'Amazon DynamoDB#DynamoDB Thread 2'},\n",
       " {'ReplyDateTime': '2015-10-05T19:58:22.947Z',\n",
       "  'Message': 'DynamoDB Thread 2 Reply 2 text',\n",
       "  'PostedBy': 'User A',\n",
       "  'Id': 'Amazon DynamoDB#DynamoDB Thread 2'}]"
      ]
     },
     "execution_count": 13,
     "metadata": {},
     "output_type": "execute_result"
    }
   ],
   "source": [
    "reply_table.scan_att(att_name=\"PostedBy\", query=\"User A\", consumed_capacity=True)"
   ]
  },
  {
   "cell_type": "markdown",
   "metadata": {},
   "source": [
    "Al ejecutar esa operación de escaneo, pudimos ver que el recuento devuelto era diferente del recuento escaneado. Si hubiera habido mil millones de elementos de respuesta pero sólo tres de ellos hubieran sido enviados por el usuario A, tendríamos que pagar (tanto en tiempo como en dinero) para escanear mil millones de elementos sólo para encontrar los tres que queríamos.\n",
    "\n",
    "Con estos conocimientos sobre los GSI, podemos crear un GSI en la tabla Reply para dar servicio a este nuevo patrón de acceso. Los GSI pueden crearse y eliminarse en cualquier momento, incluso si la tabla ya contiene datos. Este nuevo GSI utilizará el atributo PostedBy como clave de partición (HASH) y mantendrá los mensajes ordenados por ReplyDateTime como clave de ordenación (RANGE). Queremos que todos los atributos de la tabla se copien (proyecten) en el GSI, por lo que utilizaremos el ProjectionType ALL. Observe que el nombre del índice que creamos es PostedBy-ReplyDateTime-gsi.\n"
   ]
  },
  {
   "cell_type": "code",
   "execution_count": 14,
   "metadata": {},
   "outputs": [
    {
     "name": "stdout",
     "output_type": "stream",
     "text": [
      "Help on method create_global_secondary_index in module spdynamodb.main:\n",
      "\n",
      "create_global_secondary_index(att_name, att_type, index_name=None, sort_index=None, sort_type=None, proj_type='ALL', read_capacity=5, write_capacity=5) method of spdynamodb.main.DynamoTable instance\n",
      "    Add a global secondary index to a DynamoDB table\n",
      "    :param att_name: Name of attribute.\n",
      "    :param att_type: Attribute type (S-String, N-Number, B-Binary).\n",
      "    :param sort_index: Name of sort index. Default: None\n",
      "    :param sort_type: Attribute type (S-String, N-Number, B-Binary). Default: None\n",
      "    :param index_name: Name of index. Default: <att_name>-index\n",
      "    :param proj_type: Represents attributes that are copied (projected) from the table into the global secondary index\n",
      "                      (ALL, KEYS_ONLY, [list of INCLUDE non-key attribute])\n",
      "    :param read_capacity: Read capacity units. Default: 5\n",
      "    :param write_capacity: Write capacity units. Default: 5\n",
      "\n"
     ]
    }
   ],
   "source": [
    "help(reply_table.create_global_secondary_index)"
   ]
  },
  {
   "cell_type": "code",
   "execution_count": 16,
   "metadata": {},
   "outputs": [
    {
     "name": "stdout",
     "output_type": "stream",
     "text": [
      "Global secondary index is being created, this may take a few minutes...\n",
      "Global secondary index created. Time elapsed: 6.03 minute\n"
     ]
    }
   ],
   "source": [
    "reply_table.create_global_secondary_index(\n",
    "    att_name=\"PostedBy\",\n",
    "    att_type=\"S\",\n",
    "    sort_index=\"ReplyDateTime\",\n",
    "    sort_type=\"S\",\n",
    "    index_name=\"PostedBy-ReplyDateTime-gsi\"\n",
    ")\n",
    "\n",
    "status = reply_table.check_status_gsi()\n",
    "if status == 'CREATING':\n",
    "    print(\"Global secondary index is being created, this may take a few minutes...\")\n",
    "    start = time.time()\n",
    "    while status == 'CREATING':\n",
    "        status = reply_table.check_status_gsi()\n",
    "        time.sleep(30)\n",
    "    end = time.time()\n",
    "    minute = (end - start) / 60\n",
    "    print(\"Global secondary index created. Time elapsed: {0:.2f} minute\".format(minute))"
   ]
  },
  {
   "cell_type": "code",
   "execution_count": 17,
   "metadata": {},
   "outputs": [
    {
     "name": "stdout",
     "output_type": "stream",
     "text": [
      "Help on method query in module spdynamodb.main:\n",
      "\n",
      "query(pk_value, sk_value=None, index_name=None, consistent_read=False, consumed_capacity=None, limit=None, reverse=True, to_pandas=False) method of spdynamodb.main.DynamoTable instance\n",
      "    Queries an Amazon DynamoDB table and returns the matching items.\n",
      "    :param pk_value: Primary key value.\n",
      "    :param sk_value: Sort key value if exist. Default: None.\n",
      "    :param index_name: The name of the index to query. If None, then the table itself is queried.\n",
      "    :param consistent_read: If True, then a strongly consistent read is used.\n",
      "    :param consumed_capacity: Return the consumed capacity. Valid values: None, \"TOTAL\", \"INDEXES\". Default: None.\n",
      "    :param to_pandas: If True, returns a pandas DataFrame. Default: True.\n",
      "    :param limit: The maximum number of items to return. Default: None.\n",
      "    :param reverse: If True, then the order of the search is ascending. If False, then the order of the search is descending. Default: True.\n",
      "    :return: The item/items matching the query.\n",
      "\n"
     ]
    }
   ],
   "source": [
    "help(reply_table.query)"
   ]
  },
  {
   "cell_type": "code",
   "execution_count": 19,
   "metadata": {},
   "outputs": [
    {
     "name": "stdout",
     "output_type": "stream",
     "text": [
      "Consumed Capacity: 0.5\n"
     ]
    },
    {
     "data": {
      "text/html": [
       "<div>\n",
       "<style scoped>\n",
       "    .dataframe tbody tr th:only-of-type {\n",
       "        vertical-align: middle;\n",
       "    }\n",
       "\n",
       "    .dataframe tbody tr th {\n",
       "        vertical-align: top;\n",
       "    }\n",
       "\n",
       "    .dataframe thead th {\n",
       "        text-align: right;\n",
       "    }\n",
       "</style>\n",
       "<table border=\"1\" class=\"dataframe\">\n",
       "  <thead>\n",
       "    <tr style=\"text-align: right;\">\n",
       "      <th></th>\n",
       "      <th>ReplyDateTime</th>\n",
       "      <th>PostedBy</th>\n",
       "      <th>Message</th>\n",
       "      <th>Id</th>\n",
       "    </tr>\n",
       "  </thead>\n",
       "  <tbody>\n",
       "    <tr>\n",
       "      <th>0</th>\n",
       "      <td>2015-09-15T19:58:22.947Z</td>\n",
       "      <td>User A</td>\n",
       "      <td>DynamoDB Thread 1 Reply 1 text</td>\n",
       "      <td>Amazon DynamoDB#DynamoDB Thread 1</td>\n",
       "    </tr>\n",
       "    <tr>\n",
       "      <th>1</th>\n",
       "      <td>2015-09-29T19:58:22.947Z</td>\n",
       "      <td>User A</td>\n",
       "      <td>DynamoDB Thread 2 Reply 1 text</td>\n",
       "      <td>Amazon DynamoDB#DynamoDB Thread 2</td>\n",
       "    </tr>\n",
       "    <tr>\n",
       "      <th>2</th>\n",
       "      <td>2015-10-05T19:58:22.947Z</td>\n",
       "      <td>User A</td>\n",
       "      <td>DynamoDB Thread 2 Reply 2 text</td>\n",
       "      <td>Amazon DynamoDB#DynamoDB Thread 2</td>\n",
       "    </tr>\n",
       "  </tbody>\n",
       "</table>\n",
       "</div>"
      ],
      "text/plain": [
       "              ReplyDateTime PostedBy                         Message  \\\n",
       "0  2015-09-15T19:58:22.947Z   User A  DynamoDB Thread 1 Reply 1 text   \n",
       "1  2015-09-29T19:58:22.947Z   User A  DynamoDB Thread 2 Reply 1 text   \n",
       "2  2015-10-05T19:58:22.947Z   User A  DynamoDB Thread 2 Reply 2 text   \n",
       "\n",
       "                                  Id  \n",
       "0  Amazon DynamoDB#DynamoDB Thread 1  \n",
       "1  Amazon DynamoDB#DynamoDB Thread 2  \n",
       "2  Amazon DynamoDB#DynamoDB Thread 2  "
      ]
     },
     "execution_count": 19,
     "metadata": {},
     "output_type": "execute_result"
    }
   ],
   "source": [
    "reply_table.query(\n",
    "    index_name=\"PostedBy-ReplyDateTime-gsi\",\n",
    "    pk_value=\"User A\",\n",
    "    consumed_capacity=True,\n",
    "    to_pandas=True\n",
    ")   "
   ]
  }
 ],
 "metadata": {
  "kernelspec": {
   "display_name": "myenv",
   "language": "python",
   "name": "python3"
  },
  "language_info": {
   "codemirror_mode": {
    "name": "ipython",
    "version": 3
   },
   "file_extension": ".py",
   "mimetype": "text/x-python",
   "name": "python",
   "nbconvert_exporter": "python",
   "pygments_lexer": "ipython3",
   "version": "3.12.2"
  }
 },
 "nbformat": 4,
 "nbformat_minor": 2
}
