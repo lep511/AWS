{
 "cells": [
  {
   "cell_type": "markdown",
   "metadata": {},
   "source": [
    "## Sobrecarga de claves de índices secundarios globales\n",
    "Puede crear 20 índices secundarios globales para una tabla de DynamoDB en el momento en que se escribió esta página. Sin embargo, en ocasiones, es posible que su aplicación necesite admitir varios patrones de acceso y superar el límite actual de índices secundarios globales por tabla. El patrón de diseño de sobrecarga de claves de índice secundario global se habilita designando y reutilizando un nombre de atributo (encabezado de columna) en diferentes tipos de elementos y almacenando un valor en ese atributo en función del contexto del tipo de elemento. Cuando se crea un índice secundario global en ese atributo, se está indexando para múltiples patrones de acceso, cada uno para un tipo de elemento diferente, y sólo se ha utilizado 1 índice secundario global. Por ejemplo, una tabla de empleados. Un empleado puede contener elementos de tipo metadatos (para los detalles del empleado), empleado-título (todos los títulos de trabajo que ha tenido el empleado) o empleado-ubicación (todos los edificios de oficinas y ubicaciones donde ha trabajado el empleado).\n",
    "\n",
    "Los patrones de acceso necesarios para este escenario son\n",
    "\n",
    "* Consulta de todos los empleados de un estado\n",
    "* Consulta de todos los empleados con un título actual específico\n",
    "* Consulta de todos los empleados que han tenido alguna vez un cargo específico\n",
    "* Consulta de empleados por nombre"
   ]
  },
  {
   "cell_type": "code",
   "execution_count": null,
   "metadata": {},
   "outputs": [],
   "source": [
    "import boto3\n",
    "from botocore.exceptions import ClientError\n",
    "import pandas as pd\n",
    "import numpy as np\n",
    "import sys\n",
    "sys.path.append('../')\n",
    "from spdynamodb import DynamoTable\n",
    "import random\n",
    "import json\n",
    "import time\n",
    "from decimal import Decimal"
   ]
  },
  {
   "cell_type": "code",
   "execution_count": null,
   "metadata": {},
   "outputs": [],
   "source": [
    "dt = DynamoTable()\n",
    "try:\n",
    "    dt.select_table('employees')\n",
    "    print(dt)\n",
    "except:\n",
    "    dt.create_table(\n",
    "        table_name='employees',\n",
    "        partition_key='PK',\n",
    "        partition_key_type='S',\n",
    "        sort_key='SK',\n",
    "        sort_key_type='S',\n",
    "        read_capacity=5,\n",
    "        write_capacity=5,\n",
    "        tags=[{'Key': 'workshop-design-patterns', 'Value': 'targeted-for-cleanup'}]\n",
    ")"
   ]
  },
  {
   "cell_type": "code",
   "execution_count": null,
   "metadata": {},
   "outputs": [],
   "source": [
    "dt.create_global_secondary_index(\n",
    "    att_name=\"GSI1-PK\",\n",
    "    att_type=\"S\",\n",
    "    sort_index=\"GSI1-SK\",\n",
    "    sort_type=\"S\",\n",
    "    index_name=\"GSI1\",\n",
    "    read_capacity=5,\n",
    "    write_capacity=5\n",
    ")"
   ]
  },
  {
   "cell_type": "code",
   "execution_count": null,
   "metadata": {},
   "outputs": [],
   "source": [
    "status = dt.check_status_gsi()\n",
    "while status == 'CREATING':\n",
    "    status = dt.check_status_gsi()\n",
    "    time.sleep(30)\n",
    "print(\"Global secondary index created.\")"
   ]
  },
  {
   "cell_type": "code",
   "execution_count": null,
   "metadata": {},
   "outputs": [],
   "source": [
    "columns = ['EmployeeID', 'Name', 'JobTitle', 'Department', 'Location', 'State', 'HireDate', 'TerminationDate', 'NewJobTitle', 'PromotionDate', 'ManagerID']\n",
    "df = pd.read_csv(\"data/employees.csv\", names=columns, header=None)\n",
    "df['PK'] = df.apply(lambda x: 'e#' + str(x['EmployeeID']), axis=1)\n",
    "df.head()"
   ]
  },
  {
   "cell_type": "markdown",
   "metadata": {},
   "source": [
    "| Attribute Name (Type) | Special Attribute? | Attribute Use Case | Sample Attribute Value |\n",
    "|-----------------------|--------------------|---------------------|------------------------|\n",
    "| PK (STRING)           | Partition Key      | Employee ID         | e#129                  |\n",
    "| SK (STRING)           | Sort key           | Derived value       | root, state#MIGSI_1_PK |\n",
    "| GSI_1_PK (STRING)     | GSI_1 partition key| Derived value       | root, state            |\n",
    "| GSI_1_SK (STRING)     | GSI_1 sort key     | Employee name       | Christine Milsted      |\n"
   ]
  },
  {
   "cell_type": "code",
   "execution_count": null,
   "metadata": {},
   "outputs": [],
   "source": [
    "from python_code.load_employees import import_csv\n",
    "\n",
    "import_csv(\n",
    "    fileName=\"data/employees.csv\",\n",
    "    dynamodb_table=dt.table\n",
    ")"
   ]
  }
 ],
 "metadata": {
  "kernelspec": {
   "display_name": "myenv",
   "language": "python",
   "name": "python3"
  },
  "language_info": {
   "codemirror_mode": {
    "name": "ipython",
    "version": 3
   },
   "file_extension": ".py",
   "mimetype": "text/x-python",
   "name": "python",
   "nbconvert_exporter": "python",
   "pygments_lexer": "ipython3",
   "version": "3.12.2"
  }
 },
 "nbformat": 4,
 "nbformat_minor": 2
}
