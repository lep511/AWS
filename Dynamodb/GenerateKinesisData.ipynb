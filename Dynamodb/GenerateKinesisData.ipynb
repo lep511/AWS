{
 "cells": [
  {
   "cell_type": "code",
   "execution_count": 1,
   "metadata": {},
   "outputs": [],
   "source": [
    "import pandas as pd\n",
    "import json\n",
    "from decimal import Decimal\n",
    "import uuid\n",
    "import random\n",
    "import numpy as np\n",
    "import boto3\n",
    "from tqdm import tqdm"
   ]
  },
  {
   "cell_type": "code",
   "execution_count": 6,
   "metadata": {},
   "outputs": [],
   "source": [
    "def random_date_generator():\n",
    "    days_to_add = np.arange(0, 365)\n",
    "    random_date = np.datetime64('2019-01-01') + np.random.choice(365)\n",
    "    return random_date.item().strftime('%-m/%-d/%Y')"
   ]
  },
  {
   "cell_type": "code",
   "execution_count": 10,
   "metadata": {},
   "outputs": [],
   "source": [
    "clientkinesis = boto3.client('kinesis',region_name='us-east-1')\n",
    "kdsname='test'\n",
    "\n",
    "aws_services = [\"Amazon DynamoDB\", \"Amazon Simple Notification Service\", \"Amazon Simple Queue Service\"\n",
    "                \"Amazon MQ\", \"Amazon EMR\", \"AWS Data Pipeline\", \"Amazon Athena\", \"AWS Step Functions\"]\n",
    "subject_list = [\"FO-CAT\", \"TH-\", \"RE-\"]\n",
    "title = [\"Tagging tables\", \"On-demand and transactions\", \"Some Question about logging\"]\n",
    "message =  [\"DynamoDB on-demand and transactions now available in the AWS GovCloud (US) Regions\",\n",
    "            \"DynamoDB now supports tagging tables when you create them in the AWS GovCloud (US) Regions\",\n",
    "            \"Testing the monitoring and alarm features as you approach your account limits in DynamoDB\",\n",
    "            \"Ability to delete a global secondary index before its creation is completed will be very useful\",\n",
    "            \"I really love the support for 25 unique items and 4 MB of data per transactional request\",\n",
    "            \"Ability to delete a global secondary index before its creation is completed will be very useful\"]\n",
    "email = [\"carlos@example.com\", \"nikhil@example.com\", \"richard@example.com\", \"mary@example.com\", \"marcosdipalma@yahoo.com\"]"
   ]
  },
  {
   "cell_type": "code",
   "execution_count": 11,
   "metadata": {},
   "outputs": [],
   "source": [
    "def generate_data():\n",
    "    service = np.random.choice(aws_services)\n",
    "    subject = np.random.choice(subject_list, p=[0.2, 0.4, 0.4])\n",
    "    new_dict = {\"ForumName\": service}\n",
    "\n",
    "    if subject == \"FO-CAT\":\n",
    "        new_dict[\"Subject\"] = subject + \"-\" + str(uuid.uuid4())\n",
    "        new_dict[\"Category\"] = \"Amazon Web Services\"\n",
    "        new_dict[\"Threads\"] = np.random.randint(1, 60)\n",
    "        new_dict[\"Messages\"] = np.random.randint(15, 95)\n",
    "        new_dict[\"Views\"] = np.random.randint(80, 1005)\n",
    "    elif subject == \"TH-\":\n",
    "        new_dict[\"Title\"] = np.random.choice(title)\n",
    "        new_dict[\"Subject\"] = subject + str(uuid.uuid4())\n",
    "        new_dict[\"Message\"] = np.random.choice(message)\n",
    "        new_dict[\"LastPostedBy\"] = np.random.choice(email)\n",
    "        new_dict[\"Replies\"] = np.random.randint(1, 30)\n",
    "        new_dict[\"Views\"] = np.random.randint(20, 350)\n",
    "        new_dict[\"CreatedDate\"] = random_date_generator()\n",
    "    else:\n",
    "        new_dict[\"Subject\"] = subject + str(uuid.uuid4())\n",
    "        new_dict[\"ReplyDateTime\"] = random_date_generator()\n",
    "        new_dict[\"Message\"] = np.random.choice(message)\n",
    "        new_dict[\"PostedBy\"] = np.random.choice(email)\n",
    "\n",
    "    return new_dict"
   ]
  },
  {
   "cell_type": "code",
   "execution_count": 13,
   "metadata": {},
   "outputs": [
    {
     "name": "stderr",
     "output_type": "stream",
     "text": [
      "Progress Bar: 100%|██████████| 1500/1500 [03:45<00:00,  6.65it/s]\n"
     ]
    }
   ],
   "source": [
    "repeat = 1500\n",
    "\n",
    "for i in tqdm(range(repeat), desc = 'Progress Bar'):\n",
    "    item = generate_data()\n",
    "    _id='id' + str(np.random.randint(1665586, 8888888))\n",
    "    response=clientkinesis.put_record(StreamName=kdsname, Data=json.dumps(item), PartitionKey=_id)\n",
    "    if not response['ResponseMetadata']['HTTPStatusCode'] == 200:\n",
    "        print(\"Error...\")\n",
    "        print(response)"
   ]
  }
 ],
 "metadata": {
  "kernelspec": {
   "display_name": "base",
   "language": "python",
   "name": "python3"
  },
  "language_info": {
   "codemirror_mode": {
    "name": "ipython",
    "version": 3
   },
   "file_extension": ".py",
   "mimetype": "text/x-python",
   "name": "python",
   "nbconvert_exporter": "python",
   "pygments_lexer": "ipython3",
   "version": "3.9.12"
  },
  "orig_nbformat": 4
 },
 "nbformat": 4,
 "nbformat_minor": 2
}
