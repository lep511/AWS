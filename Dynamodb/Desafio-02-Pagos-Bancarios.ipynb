{
 "cells": [
  {
   "attachments": {},
   "cell_type": "markdown",
   "metadata": {},
   "source": [
    "## Escenario de pagos bancarios\n",
    "\n",
    "Un banco le ha pedido que desarrolle un nuevo sistema backend para gestionar sus pagos programados.\n",
    "\n",
    "Se trata principalmente de una carga de trabajo OLTP (Procesamiento de Transacciones En Línea) con procesos por lotes diarios. Los elementos de la(s) tabla(s) representan pagos programados entre cuentas. A medida que se insertan las partidas, se programan en una fecha específica para que se procese el pago. Cada día, las partidas se envían regularmente a un sistema transaccional para su procesamiento, momento en el que su estado cambia a `PENDING`. Cuando la transacción se realiza correctamente, el estado de la partida pasa a `PROCESSED` y se actualiza con un nuevo ID de transacción.\n",
    "\n",
    "Dimensiones de la carga de trabajo:\n",
    "\n",
    "* Las cuentas pueden tener varios pagos programados para cualquier día en el futuro.\n",
    "* Los pagos tienen los siguientes campos de datos: AccountID, ScheduledDate, Status (`SCHEDULED`, `PENDING` o `PROCESSED`), DataBlob (el tamaño total del artículo es <= 8 KB)\n",
    "* Un millón de pagos programados automatizados se añaden cada día a la 1:00 AM para ese día, que deben completarse en 30 minutos.\n",
    "* Cada día se añaden un millón de pagos con el estado `SCHEDULED`, principalmente en el horario de 6 AM a 6 PM.\n",
    "* Durante el día, se ejecuta regularmente un trabajo por lotes para consultar los pagos `SCHEDULED` de hoy. Este servicio envía las partidas `SCHEDULED` al servicio de transacciones. Al enviar las partidas al servicio de transacciones, el estado del pago cambia a `PENDING`.\n",
    "* Cuando el servicio de transacciones finaliza, el estado de un artículo cambia a `PROCESSED` y se añade un nuevo ID de transacción al artículo.\n",
    "* Es necesario devolver artículos para una cuenta específica cuyo pago está programado para los próximos 90 días.\n",
    "* El servicio transaccional tiene que recuperar todos los artículos para una fecha específica (por ejemplo, hoy) en todas las cuentas. Tiene que ser capaz de recuperar artículos que estén específicamente `SCHEDULED` o `PENDING`.\n",
    "\n",
    "**Su reto:** Desarrollar un modelo de datos NoSQL para el banco que cumpla los requisitos de pagos programados.\n",
    "\n",
    "**Desafío extra:** Al final de cada día, todas las partidas que fueron `PROCESSED` deben trasladarse a una tabla a largo plazo (debido al cumplimiento, los datos deben estar en una tabla separada). Diseñe un segundo modelo de datos que cumpla los mismos requisitos de acceso que el anterior y añada otro requisito para devolver un artículo específico asociado a un ID de transacción.\n",
    "\n",
    "#### Patrones de acceso\n",
    "\n",
    "*Los patrones de acceso en el escenario son los siguientes:*\n",
    "\n",
    "* Insertar pagos programados.\n",
    "* Devolver pagos programados por usuario para los próximos 90 días.\n",
    "* Devolver pagos de todos los usuarios para una fecha específica por estado (`SCHEDULED` o `PENDING`).\n",
    "\n",
    "*Identificar posibles claves de partición para cumplir con el patrón de acceso primario:*\n",
    "\n",
    "* ¿Qué atributo de elemento (AccountID, ScheduledDate, Status, DataBlob) se ajusta a los patrones de acceso?\n",
    "* ¿Cuál es la organización natural de las partidas de pago relacionadas (para devolver las partidas recogidas en relación con los patrones de acceso anteriores)?\n",
    "* Considere la dimensión del acceso: tanto lecturas como escrituras.\n",
    "\n",
    "*A la hora de determinar cómo organizar los elementos relacionados con el patrón de acceso principal:*\n",
    "\n",
    "* ¿Con qué organización deben escribirse los elementos para devolver los elementos por usuario para un intervalo de fechas (ordenar por)?\n",
    "* ¿Cuál es la jerarquía de las relaciones y cuándo se aplica (de más general a más específico)?\n",
    "\n",
    "*Cumplimiento del tercer patrón de acceso:*\n",
    "\n",
    "* El tercer patrón de acceso es OLTP y puede cumplirse directamente en DynamoDB"
   ]
  },
  {
   "cell_type": "code",
   "execution_count": null,
   "metadata": {},
   "outputs": [],
   "source": [
    "import boto3\n",
    "import random\n",
    "import uuid\n",
    "from botocore.exceptions import ClientError\n",
    "import pandas as pd\n",
    "from spdynamodb import DynamoTable\n",
    "import json\n",
    "import time\n",
    "from decimal import Decimal\n",
    "from datetime import datetime, timedelta\n",
    "\n",
    "client = boto3.client(\"dynamodb\", region_name=\"us-east-1\")"
   ]
  },
  {
   "cell_type": "code",
   "execution_count": null,
   "metadata": {},
   "outputs": [],
   "source": [
    "#dt = DynamoTable(profile_name='089715336747_DynamoAttributes')\n",
    "dt=DynamoTable()\n",
    "try:\n",
    "    dt.select_table('BankPayments')\n",
    "    print(dt)\n",
    "except:\n",
    "    dt.create_table(\n",
    "        table_name='BankPayments',\n",
    "        partition_key='PK',\n",
    "        partition_key_type='S',\n",
    "        sort_key='SK',\n",
    "        sort_key_type='S',\n",
    "    )"
   ]
  },
  {
   "cell_type": "code",
   "execution_count": null,
   "metadata": {},
   "outputs": [],
   "source": [
    "# Create Global Secondary Index\n",
    "dt.create_global_secondary_index(\n",
    "    att_name=\"GSI1PK\",\n",
    "    att_type=\"S\",\n",
    "    sort_index=\"GSI1SK\",\n",
    "    sort_type=\"S\",\n",
    "    i_name=\"GSI1\"\n",
    ")"
   ]
  },
  {
   "cell_type": "code",
   "execution_count": null,
   "metadata": {},
   "outputs": [],
   "source": [
    "status = dt.check_status_gsi()\n",
    "if status == 'CREATING':\n",
    "    print(\"Global secondary index is being created, this may take a few minutes...\")\n",
    "    start = time.time()\n",
    "    while status == 'CREATING':\n",
    "        status = dt.check_status_gsi()\n",
    "        time.sleep(30)\n",
    "end = time.time()\n",
    "minute = (end - start) / 60\n",
    "print(\"Global secondary index created. Time elapsed: {0:.2f} minute\".format(minute))"
   ]
  },
  {
   "attachments": {},
   "cell_type": "markdown",
   "metadata": {},
   "source": [
    "### Insertar pagos programados"
   ]
  },
  {
   "cell_type": "code",
   "execution_count": null,
   "metadata": {},
   "outputs": [],
   "source": [
    "# FUNCTION TO GENERATE DATA\n",
    "import json\n",
    "def generate_data(total_items=300):\n",
    "    count_total = 0\n",
    "    pk, sk, AccountId, ScheduledDate, Status, DataBlob, TransactionId, GSI1PK, GSI1SK, GSI2PK, GSI2SK, TransactionDate = [], [], [], [], [], [], [], [], [], [], [], []\n",
    "    for i in range(total_items):\n",
    "        account = str(random.randint(10000000000, 99999999999))\n",
    "        for m in range(1, random.randint(2, 25)):\n",
    "            if count_total == total_items:\n",
    "                break\n",
    "            uid = str(uuid.uuid4()).split(\"-\")[0]\n",
    "            # Get the current date and time\n",
    "            iso_date = datetime.utcnow().isoformat().split('.')[0]+'Z'\n",
    "            # Set the date range\n",
    "            start_date = datetime(2023, 6, 1)\n",
    "            end_date = datetime(2024, 6, 30)\n",
    "            # Generate a random number of days to add to the start date\n",
    "            random_days = random.randint(0, (end_date - start_date).days)\n",
    "            # Calculate the random date\n",
    "            random_date = start_date + timedelta(days=random_days)\n",
    "            # Format the date as a string\n",
    "            random_date_str = random_date.strftime(\"%Y-%m-%d\")\n",
    "            scheduled_date_ns = str(int(random_date.timestamp())) + str(random.randint(111111111, 999999999))\n",
    "            # === Append data to lists =====\n",
    "            pk.append(account+\"#PAYMENT\")\n",
    "            sk.append(\"SCHEDULED#\"+scheduled_date_ns)\n",
    "            AccountId.append(account)\n",
    "            ScheduledDate.append(random_date_str)\n",
    "            Status.append(\"SCHEDULED\")\n",
    "            DataBlob.append({\"Amount\": random.randint(1, 10000), \"Currency\": \"USD\", \"BeneficiaryId\": str(random.randint(10000000000, 99999999999))})\n",
    "            TransactionId.append(uid)\n",
    "            GSI1PK.append(\"SCHEDULED#\" + str(random.randint(1, 5)))\n",
    "            GSI1SK.append(random_date_str)\n",
    "            TransactionDate.append(iso_date)\n",
    "            count_total += 1\n",
    "    df_main = pd.DataFrame(\n",
    "        {\n",
    "            \"PK\": pk,\n",
    "            \"SK\": sk,\n",
    "            \"AccountId\": AccountId,\n",
    "            \"ScheduledDate\": ScheduledDate,\n",
    "            \"Status\": Status,\n",
    "            \"DataBlob\": DataBlob,\n",
    "            \"TransactionId\": TransactionId,\n",
    "            \"GSI1PK\": GSI1PK,\n",
    "            \"GSI1SK\": GSI1SK,\n",
    "            \"TransactionDate\": TransactionDate\n",
    "        }\n",
    "    )   \n",
    "    return df_main"
   ]
  },
  {
   "cell_type": "code",
   "execution_count": null,
   "metadata": {},
   "outputs": [],
   "source": [
    "df = generate_data(total_items=2500)\n",
    "dt.batch_pandas(df)"
   ]
  },
  {
   "attachments": {},
   "cell_type": "markdown",
   "metadata": {},
   "source": [
    "#### Devolver pagos programados por usuario para los próximos 90 días"
   ]
  },
  {
   "cell_type": "code",
   "execution_count": null,
   "metadata": {},
   "outputs": [],
   "source": [
    "account_id = list(df['PK'].value_counts().to_dict().items())[0][0]\n",
    "now_time = datetime.now()\n",
    "delta_date = now_time + timedelta(days=90)\n",
    "now_time_unix = str(int(now_time.timestamp()))\n",
    "delta_time_unix = str(int(delta_date.timestamp()))"
   ]
  },
  {
   "cell_type": "code",
   "execution_count": null,
   "metadata": {},
   "outputs": [],
   "source": [
    "query = f\"SCHEDULED#{now_time_unix}_SCHEDULED#{delta_time_unix}\"\n",
    "response = dt.query(pk_value=account_id, sk_value=query)"
   ]
  },
  {
   "cell_type": "code",
   "execution_count": null,
   "metadata": {},
   "outputs": [],
   "source": [
    "print(\"Total items:\", len(response))\n",
    "print(\"==============\")\n",
    "for item in response:\n",
    "    print(item['PK'], item['SK'], item['DataBlob'], \"- Scheduled Date:\", item['ScheduledDate'])"
   ]
  },
  {
   "attachments": {},
   "cell_type": "markdown",
   "metadata": {},
   "source": [
    "#### Devolver pagos de todos los usuarios para una fecha específica por estado (SCHEDULED o PENDING)"
   ]
  },
  {
   "cell_type": "code",
   "execution_count": null,
   "metadata": {},
   "outputs": [],
   "source": [
    "def create_query_input(gsi_id, select_date, between=False):\n",
    "    if between:\n",
    "        return {\n",
    "            \"TableName\": \"BankPayments\",\n",
    "            \"IndexName\": \"GSI1\",\n",
    "            \"KeyConditionExpression\": \"#3e1e0 = :3e1e0 And #3e1e1 BETWEEN :3e1e1 AND :3e1e2\",\n",
    "            \"ExpressionAttributeNames\": {\"#3e1e0\":\"GSI1PK\",\"#3e1e1\":\"GSI1SK\"},\n",
    "            \"ExpressionAttributeValues\": {\":3e1e0\": {\"S\":gsi_id},\":3e1e1\": {\"S\":select_date[0]},\":3e1e2\": {\"S\":select_date[1]}}\n",
    "        }\n",
    "    else:\n",
    "        return {\n",
    "            \"TableName\": \"BankPayments\",\n",
    "            \"IndexName\": \"GSI1\",\n",
    "            \"KeyConditionExpression\": \"#3e1e0 = :3e1e0 And #3e1e1 = :3e1e1\",\n",
    "            \"ExpressionAttributeNames\": {\"#3e1e0\":\"GSI1PK\",\"#3e1e1\":\"GSI1SK\"},\n",
    "            \"ExpressionAttributeValues\": {\":3e1e0\": {\"S\":gsi_id},\":3e1e1\": {\"S\":select_date}}\n",
    "        }\n",
    "\n",
    "def get_items(select_date, gsi_id):\n",
    "    \"\"\"\n",
    "    Get items from DynamoDB table using GSI1\n",
    "    : select_date: Date to query. If the date is between two dates, pass a list with two dates\n",
    "    : gsi_id: GSI1PK value\n",
    "    \"\"\"\n",
    "    all_items = []\n",
    "    \n",
    "    if gsi_id == \"SCHEDULED\":\n",
    "        for i in range(1, 6):\n",
    "            gsi_id = f\"SCHEDULED#{i}\"\n",
    "            between = True if type(select_date) == list else False\n",
    "            input_data = create_query_input(gsi_id, select_date, between)\n",
    "            try:\n",
    "                response = client.query(**input_data)\n",
    "                all_items.append(response['Items'])\n",
    "            except ClientError as e:\n",
    "                print(f\"Error:\", e)\n",
    "        all_items = [x for y in all_items for x in y]\n",
    "    else:\n",
    "        between = True if type(select_date) == list else False\n",
    "        input_data = create_query_input(gsi_id, select_date, between)\n",
    "        try:\n",
    "            response = client.query(**input_data)\n",
    "            all_items = response['Items']\n",
    "        except ClientError as e:\n",
    "            print(f\"Error:\", e)\n",
    "    return all_items"
   ]
  },
  {
   "cell_type": "code",
   "execution_count": null,
   "metadata": {},
   "outputs": [],
   "source": [
    "all_items = get_items(select_date=\"2023-06-21\", gsi_id=\"SCHEDULED\")   \n",
    "print(\"Total items:\", len(all_items))\n",
    "print(\"==============\")\n",
    "for item in all_items:\n",
    "    print(item['PK'], item['SK'], item['DataBlob'], \"- Scheduled Date:\", item['ScheduledDate'])"
   ]
  },
  {
   "attachments": {},
   "cell_type": "markdown",
   "metadata": {},
   "source": [
    "#### Cambiar estado a pendiente para pagos programados para el día de hoy\n"
   ]
  },
  {
   "cell_type": "code",
   "execution_count": 40,
   "metadata": {},
   "outputs": [
    {
     "name": "stdout",
     "output_type": "stream",
     "text": [
      "Total items:  8\n"
     ]
    }
   ],
   "source": [
    "#today = datetime.now().strftime(\"%Y-%m-%d\")\n",
    "today = \"2023-06-28\"\n",
    "all_items = get_items(select_date=today, gsi_id=\"SCHEDULED\")\n",
    "print(\"Total items: \", len(all_items))"
   ]
  },
  {
   "cell_type": "code",
   "execution_count": 41,
   "metadata": {},
   "outputs": [
    {
     "name": "stdout",
     "output_type": "stream",
     "text": [
      "Success! - ConsumedCapacity: [{'TableName': 'BankPayments', 'CapacityUnits': 64.0, 'WriteCapacityUnits': 64.0}]\n"
     ]
    }
   ],
   "source": [
    "transact_items = []\n",
    "for item in all_items:\n",
    "    new_sk = item['SK']['S'].replace(\"SCHEDULED\", \"PENDING\")\n",
    "    transact = [\n",
    "        {\n",
    "            'Put': {\n",
    "            'TableName': dt.table_name,\n",
    "                'Item': {\n",
    "                        'PK': {'S': item['PK']['S']},\n",
    "                        'SK': {'S': new_sk},\n",
    "                        'AccountId': {'S': item['AccountId']['S']},\n",
    "                        'ScheduledDate': {'S': item['ScheduledDate']['S']},\n",
    "                        'Status': {'S': 'PENDING'},\n",
    "                        'DataBlob': {'M': item['DataBlob']['M']},\n",
    "                        'TransactionId': {'S': item['TransactionId']['S']},\n",
    "                        'GSI1PK': {'S': 'PENDING'},\n",
    "                        'GSI1SK': {'S': item['GSI1SK']['S']},\n",
    "                        'TransactionDate': {'S': item['TransactionDate']['S']}\n",
    "                    }\n",
    "            }\n",
    "        },\n",
    "        {\n",
    "            'Delete': {\n",
    "                'TableName': dt.table_name,\n",
    "                'Key': {\n",
    "                    'PK': {'S': item['PK']['S']},\n",
    "                    'SK': {'S': item['SK']['S']}\n",
    "                }\n",
    "            }\n",
    "        }\n",
    "    ]\n",
    "    transact_items.append(transact)\n",
    "transact_items = [x for y in transact_items for x in y]\n",
    "\n",
    "try:\n",
    "    response = client.transact_write_items(\n",
    "        TransactItems=transact_items,\n",
    "        ReturnConsumedCapacity='TOTAL'\n",
    "    )\n",
    "except ClientError as e:\n",
    "    print(e.response['Error']['Message'])\n",
    "else:\n",
    "    print(f\"Success! - ConsumedCapacity: {response['ConsumedCapacity']}\")    "
   ]
  },
  {
   "cell_type": "code",
   "execution_count": 42,
   "metadata": {},
   "outputs": [
    {
     "name": "stdout",
     "output_type": "stream",
     "text": [
      "Total items: 8\n",
      "==============\n",
      "{'S': '97794918497#PAYMENT'} {'S': 'PENDING#1687921200169250281'} {'M': {'BeneficiaryId': {'S': '10474928557'}, 'Amount': {'N': '5888'}, 'Currency': {'S': 'USD'}}} - Status: PENDING\n",
      "{'S': '51562874714#PAYMENT'} {'S': 'PENDING#1687921200915195778'} {'M': {'BeneficiaryId': {'S': '82351126355'}, 'Amount': {'N': '9739'}, 'Currency': {'S': 'USD'}}} - Status: PENDING\n",
      "{'S': '79271622392#PAYMENT'} {'S': 'PENDING#1687921200918568865'} {'M': {'BeneficiaryId': {'S': '54105439722'}, 'Amount': {'N': '7700'}, 'Currency': {'S': 'USD'}}} - Status: PENDING\n",
      "{'S': '91132915947#PAYMENT'} {'S': 'PENDING#1687921200500675399'} {'M': {'BeneficiaryId': {'S': '79613081313'}, 'Amount': {'N': '6512'}, 'Currency': {'S': 'USD'}}} - Status: PENDING\n",
      "{'S': '62693542379#PAYMENT'} {'S': 'PENDING#1687921200278195558'} {'M': {'BeneficiaryId': {'S': '95884816769'}, 'Amount': {'N': '3047'}, 'Currency': {'S': 'USD'}}} - Status: PENDING\n",
      "{'S': '61678675204#PAYMENT'} {'S': 'PENDING#1687921200597290684'} {'M': {'BeneficiaryId': {'S': '67191927031'}, 'Amount': {'N': '1968'}, 'Currency': {'S': 'USD'}}} - Status: PENDING\n",
      "{'S': '22853057068#PAYMENT'} {'S': 'PENDING#1687921200951214989'} {'M': {'BeneficiaryId': {'S': '49237130584'}, 'Amount': {'N': '6679'}, 'Currency': {'S': 'USD'}}} - Status: PENDING\n",
      "{'S': '63940110945#PAYMENT'} {'S': 'PENDING#1687921200511351367'} {'M': {'BeneficiaryId': {'S': '21641302033'}, 'Amount': {'N': '4526'}, 'Currency': {'S': 'USD'}}} - Status: PENDING\n"
     ]
    }
   ],
   "source": [
    "all_items = get_items(select_date=[\"2023-06-21\", \"2023-09-22\"], gsi_id=\"PENDING\")\n",
    "print(\"Total items:\", len(all_items))\n",
    "print(\"==============\")\n",
    "for item in all_items:\n",
    "    print(item['PK']['S'], item['SK']['S'], item['DataBlob'], \"- Status:\", item['Status']['S'])"
   ]
  },
  {
   "attachments": {},
   "cell_type": "markdown",
   "metadata": {},
   "source": [
    "#### Procesar pagos pendientes"
   ]
  },
  {
   "cell_type": "code",
   "execution_count": 44,
   "metadata": {},
   "outputs": [
    {
     "name": "stdout",
     "output_type": "stream",
     "text": [
      "Total items: 8\n"
     ]
    }
   ],
   "source": [
    "all_items = get_items(select_date=today, gsi_id=\"PENDING\")\n",
    "print(\"Total items:\", len(all_items))"
   ]
  },
  {
   "cell_type": "code",
   "execution_count": 45,
   "metadata": {},
   "outputs": [
    {
     "name": "stdout",
     "output_type": "stream",
     "text": [
      "Success! - ConsumedCapacity: [{'TableName': 'BankPayments', 'CapacityUnits': 64.0, 'WriteCapacityUnits': 64.0}]\n"
     ]
    }
   ],
   "source": [
    "transact_items = []\n",
    "for item in all_items:\n",
    "    new_sk = item['SK']['S'].replace(\"PENDING\", \"PROCESSED\")\n",
    "    uid = str(uuid.uuid4())\n",
    "    iso_date = datetime.utcnow().isoformat().split('.')[0]+'Z'\n",
    "    transact = [\n",
    "        {\n",
    "            'Put': {\n",
    "            'TableName': dt.table_name,\n",
    "                'Item': {\n",
    "                        'PK': {'S': item['PK']['S']},\n",
    "                        'SK': {'S': new_sk},\n",
    "                        'AccountId': {'S': item['AccountId']['S']},\n",
    "                        'ScheduledDate': {'S': item['ScheduledDate']['S']},\n",
    "                        'Status': {'S': 'PROCESSED'},\n",
    "                        'DataBlob': {'M': item['DataBlob']['M']},\n",
    "                        'TransactionId': {'S': uid},\n",
    "                        'GSI1PK': {'S': 'PROCESSED'},\n",
    "                        'GSI1SK': {'S': item['GSI1SK']['S']},\n",
    "                        'TransactionDate': {'S': iso_date}\n",
    "                    }\n",
    "            }\n",
    "        },\n",
    "        {\n",
    "            'Delete': {\n",
    "                'TableName': dt.table_name,\n",
    "                'Key': {\n",
    "                    'PK': {'S': item['PK']['S']},\n",
    "                    'SK': {'S': item['SK']['S']}\n",
    "                }\n",
    "            }\n",
    "        }\n",
    "    ]\n",
    "    transact_items.append(transact)\n",
    "transact_items = [x for y in transact_items for x in y]\n",
    "\n",
    "try:\n",
    "    response = client.transact_write_items(\n",
    "        TransactItems=transact_items,\n",
    "        ReturnConsumedCapacity='TOTAL'\n",
    "    )\n",
    "except ClientError as e:\n",
    "    print(e.response['Error']['Message'])\n",
    "else:\n",
    "    print(f\"Success! - ConsumedCapacity: {response['ConsumedCapacity']}\")  "
   ]
  },
  {
   "cell_type": "code",
   "execution_count": 46,
   "metadata": {},
   "outputs": [
    {
     "name": "stdout",
     "output_type": "stream",
     "text": [
      "Total items: 8\n",
      "==============\n",
      "{'S': '91132915947#PAYMENT'} {'S': 'PROCESSED#1687921200500675399'} {'M': {'BeneficiaryId': {'S': '79613081313'}, 'Amount': {'N': '6512'}, 'Currency': {'S': 'USD'}}} - Status: PROCESSED\n",
      "{'S': '79271622392#PAYMENT'} {'S': 'PROCESSED#1687921200918568865'} {'M': {'BeneficiaryId': {'S': '54105439722'}, 'Amount': {'N': '7700'}, 'Currency': {'S': 'USD'}}} - Status: PROCESSED\n",
      "{'S': '62693542379#PAYMENT'} {'S': 'PROCESSED#1687921200278195558'} {'M': {'BeneficiaryId': {'S': '95884816769'}, 'Amount': {'N': '3047'}, 'Currency': {'S': 'USD'}}} - Status: PROCESSED\n",
      "{'S': '61678675204#PAYMENT'} {'S': 'PROCESSED#1687921200597290684'} {'M': {'BeneficiaryId': {'S': '67191927031'}, 'Amount': {'N': '1968'}, 'Currency': {'S': 'USD'}}} - Status: PROCESSED\n",
      "{'S': '63940110945#PAYMENT'} {'S': 'PROCESSED#1687921200511351367'} {'M': {'BeneficiaryId': {'S': '21641302033'}, 'Amount': {'N': '4526'}, 'Currency': {'S': 'USD'}}} - Status: PROCESSED\n",
      "{'S': '22853057068#PAYMENT'} {'S': 'PROCESSED#1687921200951214989'} {'M': {'BeneficiaryId': {'S': '49237130584'}, 'Amount': {'N': '6679'}, 'Currency': {'S': 'USD'}}} - Status: PROCESSED\n",
      "{'S': '51562874714#PAYMENT'} {'S': 'PROCESSED#1687921200915195778'} {'M': {'BeneficiaryId': {'S': '82351126355'}, 'Amount': {'N': '9739'}, 'Currency': {'S': 'USD'}}} - Status: PROCESSED\n",
      "{'S': '97794918497#PAYMENT'} {'S': 'PROCESSED#1687921200169250281'} {'M': {'BeneficiaryId': {'S': '10474928557'}, 'Amount': {'N': '5888'}, 'Currency': {'S': 'USD'}}} - Status: PROCESSED\n"
     ]
    }
   ],
   "source": [
    "all_items = get_items(select_date=today, gsi_id=\"PROCESSED\")\n",
    "print(\"Total items:\", len(all_items))\n",
    "print(\"==============\")\n",
    "for item in all_items:\n",
    "    print(item['PK']['S'], item['SK']['S'], item['DataBlob'], \"- Status:\", item['Status']['S'])"
   ]
  },
  {
   "attachments": {},
   "cell_type": "markdown",
   "metadata": {},
   "source": [
    "#### Traladar los pagos procesados a una tabla a largo plazo"
   ]
  },
  {
   "cell_type": "code",
   "execution_count": 47,
   "metadata": {},
   "outputs": [
    {
     "name": "stdout",
     "output_type": "stream",
     "text": [
      "- Table name: BankPayments            \n",
      "- Table arn: arn:aws:dynamodb:us-east-1:279069313747:table/BankPayments            \n",
      "- Table creation: 2023-06-21 10:44:46            \n",
      "- [{'AttributeName': 'PK', 'KeyType': 'HASH'}, {'AttributeName': 'SK', 'KeyType': 'RANGE'}]            \n",
      "- [{'AttributeName': 'GSI1PK', 'AttributeType': 'S'}, {'AttributeName': 'GSI1SK', 'AttributeType': 'S'}, {'AttributeName': 'PK', 'AttributeType': 'S'}, {'AttributeName': 'SK', 'AttributeType': 'S'}]            \n",
      "- Point-in-time recovery status: DISABLED  |  Delete protection: False\n"
     ]
    }
   ],
   "source": [
    "dt_processed=DynamoTable()\n",
    "try:\n",
    "    dt_processed.select_table('BankPaymentsProcessed')\n",
    "    print(dt)\n",
    "except:\n",
    "    dt_processed.create_table(\n",
    "        table_name='BankPaymentsProcessed',\n",
    "        partition_key='id',\n",
    "        partition_key_type='S'\n",
    "    )"
   ]
  },
  {
   "cell_type": "code",
   "execution_count": 48,
   "metadata": {},
   "outputs": [
    {
     "name": "stdout",
     "output_type": "stream",
     "text": [
      "Total items: 8\n"
     ]
    }
   ],
   "source": [
    "all_items = get_items(select_date=today, gsi_id=\"PROCESSED\")\n",
    "print(\"Total items:\", len(all_items))"
   ]
  },
  {
   "cell_type": "code",
   "execution_count": 50,
   "metadata": {},
   "outputs": [
    {
     "name": "stdout",
     "output_type": "stream",
     "text": [
      "Success! - ConsumedCapacity: [{'TableName': 'BankPayments', 'CapacityUnits': 48.0, 'WriteCapacityUnits': 48.0}, {'TableName': 'BankPaymentsProcessed', 'CapacityUnits': 16.0, 'WriteCapacityUnits': 16.0}]\n"
     ]
    }
   ],
   "source": [
    "transact_items = []\n",
    "for item in all_items:\n",
    "    iso_date = datetime.utcnow().isoformat().split('.')[0]+'Z'\n",
    "    transact = [\n",
    "        {\n",
    "            'Put': {\n",
    "            'TableName': dt_processed.table_name,\n",
    "                'Item': {\n",
    "                        'id': {'S': item['TransactionId']['S']},\n",
    "                        'AccountId': {'S': item['AccountId']['S']},\n",
    "                        'ScheduledDate': {'S': item['ScheduledDate']['S']},\n",
    "                        'Status': {'S': item['Status']['S']},\n",
    "                        'DataBlob': {'M': item['DataBlob']['M']},\n",
    "                        'TransactionDate': {'S': item['TransactionDate']['S']}\n",
    "                    }\n",
    "            }\n",
    "        },\n",
    "        {\n",
    "            'Update': {\n",
    "                'TableName': dt.table_name,\n",
    "                'Key': {\n",
    "                    'PK': {'S': item['PK']['S']},\n",
    "                    'SK': {'S': item['SK']['S']}\n",
    "                },\n",
    "                'UpdateExpression': 'SET #c = :st, #dc = :dc',\n",
    "                'ExpressionAttributeNames': {'#c': 'Status', '#dc': 'GSI1PK'},\n",
    "                'ExpressionAttributeValues': {':st': {'S': 'ARCHIVED'}, ':dc': {'S': 'ARCHIVED'}}\n",
    "            }\n",
    "        }\n",
    "    ]\n",
    "    transact_items.append(transact)\n",
    "transact_items = [x for y in transact_items for x in y]\n",
    "\n",
    "try:\n",
    "    response = client.transact_write_items(\n",
    "        TransactItems=transact_items,\n",
    "        ReturnConsumedCapacity='TOTAL'\n",
    "    )\n",
    "except ClientError as e:\n",
    "    print(e.response['Error']['Message'])\n",
    "else:\n",
    "    print(f\"Success! - ConsumedCapacity: {response['ConsumedCapacity']}\")  "
   ]
  },
  {
   "cell_type": "code",
   "execution_count": 53,
   "metadata": {},
   "outputs": [
    {
     "name": "stdout",
     "output_type": "stream",
     "text": [
      "Total items: 8\n",
      "==============\n",
      "91132915947#PAYMENT 649002e8-9904-4963-9c8a-7a6fa94b73ba {'M': {'BeneficiaryId': {'S': '79613081313'}, 'Amount': {'N': '6512'}, 'Currency': {'S': 'USD'}}} - Status: ARCHIVED\n",
      "79271622392#PAYMENT d1239f97-c9bd-4631-9078-9020a2f6b816 {'M': {'BeneficiaryId': {'S': '54105439722'}, 'Amount': {'N': '7700'}, 'Currency': {'S': 'USD'}}} - Status: ARCHIVED\n",
      "62693542379#PAYMENT 85c488a8-bc29-4c8c-a32c-8446c89d1eac {'M': {'BeneficiaryId': {'S': '95884816769'}, 'Amount': {'N': '3047'}, 'Currency': {'S': 'USD'}}} - Status: ARCHIVED\n",
      "61678675204#PAYMENT ff8ae03f-0e86-4a89-906e-4a0461d3b9d5 {'M': {'BeneficiaryId': {'S': '67191927031'}, 'Amount': {'N': '1968'}, 'Currency': {'S': 'USD'}}} - Status: ARCHIVED\n",
      "63940110945#PAYMENT ea553308-5240-4b62-aedf-f03b82f781ca {'M': {'BeneficiaryId': {'S': '21641302033'}, 'Amount': {'N': '4526'}, 'Currency': {'S': 'USD'}}} - Status: ARCHIVED\n",
      "22853057068#PAYMENT 5b822cda-2b63-4348-94b1-2c627f297eab {'M': {'BeneficiaryId': {'S': '49237130584'}, 'Amount': {'N': '6679'}, 'Currency': {'S': 'USD'}}} - Status: ARCHIVED\n",
      "51562874714#PAYMENT dc7e9d77-1efa-43f9-b2c5-08c9fb420f1c {'M': {'BeneficiaryId': {'S': '82351126355'}, 'Amount': {'N': '9739'}, 'Currency': {'S': 'USD'}}} - Status: ARCHIVED\n",
      "97794918497#PAYMENT c842a2f6-ad74-4046-8dfd-01a42a2e5cd5 {'M': {'BeneficiaryId': {'S': '10474928557'}, 'Amount': {'N': '5888'}, 'Currency': {'S': 'USD'}}} - Status: ARCHIVED\n"
     ]
    }
   ],
   "source": [
    "all_items = get_items(select_date=today, gsi_id=\"ARCHIVED\")\n",
    "print(\"Total items:\", len(all_items))\n",
    "print(\"==============\")\n",
    "for item in all_items:\n",
    "    print(item['PK']['S'], item['TransactionId']['S'], item['DataBlob'], \"- Status:\", item['Status']['S'])"
   ]
  }
 ],
 "metadata": {
  "kernelspec": {
   "display_name": "personal",
   "language": "python",
   "name": "python3"
  },
  "language_info": {
   "codemirror_mode": {
    "name": "ipython",
    "version": 3
   },
   "file_extension": ".py",
   "mimetype": "text/x-python",
   "name": "python",
   "nbconvert_exporter": "python",
   "pygments_lexer": "ipython3",
   "version": "3.11.3"
  },
  "orig_nbformat": 4
 },
 "nbformat": 4,
 "nbformat_minor": 2
}
