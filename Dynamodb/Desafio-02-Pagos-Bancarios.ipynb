{
 "cells": [
  {
   "attachments": {},
   "cell_type": "markdown",
   "metadata": {},
   "source": [
    "## Escenario de pagos bancarios\n",
    "\n",
    "Un banco le ha pedido que desarrolle un nuevo sistema backend para gestionar sus pagos programados.\n",
    "\n",
    "Se trata principalmente de una carga de trabajo OLTP (Procesamiento de Transacciones En Línea) con procesos por lotes diarios. Los elementos de la(s) tabla(s) representan pagos programados entre cuentas. A medida que se insertan las partidas, se programan en una fecha específica para que se procese el pago. Cada día, las partidas se envían regularmente a un sistema transaccional para su procesamiento, momento en el que su estado cambia a `PENDING`. Cuando la transacción se realiza correctamente, el estado de la partida pasa a `PROCESSED` y se actualiza con un nuevo ID de transacción.\n",
    "\n",
    "Dimensiones de la carga de trabajo:\n",
    "\n",
    "* Las cuentas pueden tener varios pagos programados para cualquier día en el futuro.\n",
    "* Los pagos tienen los siguientes campos de datos: AccountID, ScheduledDate, Status (`SCHEDULED`, `PENDING` o `PROCESSED`), DataBlob (el tamaño total del artículo es <= 8 KB)\n",
    "* Un millón de pagos programados automatizados se añaden cada día a la 1:00 AM para ese día, que deben completarse en 30 minutos.\n",
    "* Cada día se añaden un millón de pagos con el estado `SCHEDULED`, principalmente en el horario de 6 AM a 6 PM.\n",
    "* Durante el día, se ejecuta regularmente un trabajo por lotes para consultar los pagos `SCHEDULED` de hoy. Este servicio envía las partidas `SCHEDULED` al servicio de transacciones. Al enviar las partidas al servicio de transacciones, el estado del pago cambia a `PENDING`.\n",
    "* Cuando el servicio de transacciones finaliza, el estado de un artículo cambia a `PROCESSED` y se añade un nuevo ID de transacción al artículo.\n",
    "* Es necesario devolver artículos para una cuenta específica cuyo pago está programado para los próximos 90 días.\n",
    "* El servicio transaccional tiene que recuperar todos los artículos para una fecha específica (por ejemplo, hoy) en todas las cuentas. Tiene que ser capaz de recuperar artículos que estén específicamente `SCHEDULED` o `PENDING`.\n",
    "\n",
    "**Su reto:** Desarrollar un modelo de datos NoSQL para el banco que cumpla los requisitos de pagos programados.\n",
    "\n",
    "**Desafío extra:** Al final de cada día, todas las partidas que fueron `PROCESSED` deben trasladarse a una tabla a largo plazo (debido al cumplimiento, los datos deben estar en una tabla separada). Diseñe un segundo modelo de datos que cumpla los mismos requisitos de acceso que el anterior y añada otro requisito para devolver un artículo específico asociado a un ID de transacción.\n",
    "\n",
    "#### Patrones de acceso\n",
    "\n",
    "*Los patrones de acceso en el escenario son los siguientes:*\n",
    "\n",
    "* Insertar pagos programados.\n",
    "* Devolver pagos programados por usuario para los próximos 90 días.\n",
    "* Devolver pagos de todos los usuarios para una fecha específica por estado (`SCHEDULED` o `PENDING`).\n",
    "\n",
    "*Identificar posibles claves de partición para cumplir con el patrón de acceso primario:*\n",
    "\n",
    "* ¿Qué atributo de elemento (AccountID, ScheduledDate, Status, DataBlob) se ajusta a los patrones de acceso?\n",
    "* ¿Cuál es la organización natural de las partidas de pago relacionadas (para devolver las partidas recogidas en relación con los patrones de acceso anteriores)?\n",
    "* Considere la dimensión del acceso: tanto lecturas como escrituras.\n",
    "\n",
    "*A la hora de determinar cómo organizar los elementos relacionados con el patrón de acceso principal:*\n",
    "\n",
    "* ¿Con qué organización deben escribirse los elementos para devolver los elementos por usuario para un intervalo de fechas (ordenar por)?\n",
    "* ¿Cuál es la jerarquía de las relaciones y cuándo se aplica (de más general a más específico)?\n",
    "\n",
    "*Cumplimiento del tercer patrón de acceso:*\n",
    "\n",
    "* El tercer patrón de acceso es OLTP y puede cumplirse directamente en DynamoDB"
   ]
  },
  {
   "cell_type": "code",
   "execution_count": 1,
   "metadata": {},
   "outputs": [],
   "source": [
    "import boto3\n",
    "import random\n",
    "import uuid\n",
    "from botocore.exceptions import ClientError\n",
    "import pandas as pd\n",
    "from spdynamodb import DynamoTable\n",
    "import json\n",
    "import time\n",
    "from decimal import Decimal\n",
    "from datetime import datetime, timedelta"
   ]
  },
  {
   "cell_type": "code",
   "execution_count": 2,
   "metadata": {},
   "outputs": [
    {
     "name": "stdout",
     "output_type": "stream",
     "text": [
      "Table created successfully!\n"
     ]
    }
   ],
   "source": [
    "#dt = DynamoTable(profile_name='089715336747_DynamoAttributes')\n",
    "dt=DynamoTable()\n",
    "try:\n",
    "    dt.select_table('BankPayments')\n",
    "    print(dt)\n",
    "except:\n",
    "    dt.create_table(\n",
    "        table_name='BankPayments',\n",
    "        partition_key='PK',\n",
    "        partition_key_type='S',\n",
    "        sort_key='SK',\n",
    "        sort_key_type='S',\n",
    "    )"
   ]
  },
  {
   "cell_type": "code",
   "execution_count": 3,
   "metadata": {},
   "outputs": [],
   "source": [
    "# Create Global Secondary Index\n",
    "dt.create_global_secondary_index(\n",
    "    att_name=\"GSI1PK\",\n",
    "    att_type=\"S\",\n",
    "    sort_index=\"GSI1SK\",\n",
    "    sort_type=\"S\",\n",
    "    i_name=\"GSI1\"\n",
    ")"
   ]
  },
  {
   "cell_type": "code",
   "execution_count": 4,
   "metadata": {},
   "outputs": [
    {
     "name": "stdout",
     "output_type": "stream",
     "text": [
      "Global secondary index is being created, this may take a few minutes...\n",
      "Global secondary index created. Time elapsed: 5.53 minute\n"
     ]
    }
   ],
   "source": [
    "status = dt.check_status_gsi()\n",
    "if status == 'CREATING':\n",
    "    print(\"Global secondary index is being created, this may take a few minutes...\")\n",
    "    start = time.time()\n",
    "    while status == 'CREATING':\n",
    "        status = dt.check_status_gsi()\n",
    "        time.sleep(30)\n",
    "end = time.time()\n",
    "minute = (end - start) / 60\n",
    "print(\"Global secondary index created. Time elapsed: {0:.2f} minute\".format(minute))"
   ]
  },
  {
   "attachments": {},
   "cell_type": "markdown",
   "metadata": {},
   "source": [
    "### Insertar pagos programados"
   ]
  },
  {
   "cell_type": "code",
   "execution_count": 5,
   "metadata": {},
   "outputs": [],
   "source": [
    "# FUNCTION TO GENERATE DATA\n",
    "import json\n",
    "def generate_data(total_items=300):\n",
    "    count_total = 0\n",
    "    pk, sk, AccountId, ScheduledDate, Status, DataBlob, TransactionId, GSI1PK, GSI1SK, GSI2PK, GSI2SK, TransactionDate = [], [], [], [], [], [], [], [], [], [], [], []\n",
    "    for i in range(total_items):\n",
    "        account = str(random.randint(10000000000, 99999999999))\n",
    "        for m in range(1, random.randint(2, 25)):\n",
    "            if count_total == total_items:\n",
    "                break\n",
    "            uid = str(uuid.uuid4()).split(\"-\")[0]\n",
    "            # Get the current date and time\n",
    "            iso_date = datetime.utcnow().isoformat().split('.')[0]+'Z'\n",
    "            # Set the date range\n",
    "            start_date = datetime(2023, 6, 21)\n",
    "            end_date = datetime(2024, 6, 30)\n",
    "            # Generate a random number of days to add to the start date\n",
    "            random_days = random.randint(0, (end_date - start_date).days)\n",
    "            # Calculate the random date\n",
    "            random_date = start_date + timedelta(days=random_days)\n",
    "            # Format the date as a string\n",
    "            random_date_str = random_date.strftime(\"%Y-%m-%d\")\n",
    "            scheduled_date_ns = str(int(random_date.timestamp())) + str(random.randint(111111111, 999999999))\n",
    "            # === Append data to lists =====\n",
    "            pk.append(account+\"#PAYMENT\")\n",
    "            sk.append(\"SCHEDULED#\"+scheduled_date_ns)\n",
    "            AccountId.append(account)\n",
    "            ScheduledDate.append(random_date_str)\n",
    "            Status.append(\"SCHEDULED\")\n",
    "            DataBlob.append(json.dumps({\"Amount\": random.randint(1, 10000), \"Currency\": \"USD\", \"BeneficiaryId\": str(random.randint(10000000000, 99999999999))}))\n",
    "            TransactionId.append(uid)\n",
    "            GSI1PK.append(\"SCHEDULED#\" + str(random.randint(1, 5)))\n",
    "            GSI1SK.append(random_date_str)\n",
    "            TransactionDate.append(iso_date)\n",
    "            count_total += 1\n",
    "    df_main = pd.DataFrame(\n",
    "        {\n",
    "            \"PK\": pk,\n",
    "            \"SK\": sk,\n",
    "            \"AccountId\": AccountId,\n",
    "            \"ScheduledDate\": ScheduledDate,\n",
    "            \"Status\": Status,\n",
    "            \"DataBlob\": DataBlob,\n",
    "            \"TransactionId\": TransactionId,\n",
    "            \"GSI1PK\": GSI1PK,\n",
    "            \"GSI1SK\": GSI1SK,\n",
    "            \"TransactionDate\": TransactionDate\n",
    "        }\n",
    "    )   \n",
    "    return df_main"
   ]
  },
  {
   "cell_type": "code",
   "execution_count": 6,
   "metadata": {},
   "outputs": [],
   "source": [
    "df = generate_data(total_items=2500)\n",
    "dt.batch_pandas(df)"
   ]
  },
  {
   "attachments": {},
   "cell_type": "markdown",
   "metadata": {},
   "source": [
    "#### Devolver pagos programados por usuario para los próximos 90 días"
   ]
  },
  {
   "cell_type": "code",
   "execution_count": 21,
   "metadata": {},
   "outputs": [],
   "source": [
    "top_accounts = df['PK'].value_counts().to_dict()\n",
    "account_id = list(top_accounts.items())[2][0]\n",
    "now_time = datetime.now()\n",
    "delta_date = now_time + timedelta(days=90)\n",
    "now_time_unix = str(int(now_time.timestamp()))\n",
    "delta_time_unix = str(int(delta_date.timestamp()))"
   ]
  },
  {
   "cell_type": "code",
   "execution_count": 22,
   "metadata": {},
   "outputs": [],
   "source": [
    "query = f\"SCHEDULED#{now_time_unix}_SCHEDULED#{delta_time_unix}\"\n",
    "response = dt.query(pk_value=account_id, sk_value=query)"
   ]
  },
  {
   "cell_type": "code",
   "execution_count": 23,
   "metadata": {},
   "outputs": [
    {
     "name": "stdout",
     "output_type": "stream",
     "text": [
      "Total items: 4\n",
      "==============\n",
      "99671330233#PAYMENT SCHEDULED#1687402800547225322 {\"Amount\": 8348, \"Currency\": \"USD\", \"BeneficiaryId\": \"44358325278\"} - Scheduled Date: 2023-06-22\n",
      "99671330233#PAYMENT SCHEDULED#1687402800741858121 {\"Amount\": 8956, \"Currency\": \"USD\", \"BeneficiaryId\": \"44981699270\"} - Scheduled Date: 2023-06-22\n",
      "99671330233#PAYMENT SCHEDULED#1689994800868051562 {\"Amount\": 5717, \"Currency\": \"USD\", \"BeneficiaryId\": \"27532738381\"} - Scheduled Date: 2023-07-22\n",
      "99671330233#PAYMENT SCHEDULED#1693105200142769121 {\"Amount\": 3857, \"Currency\": \"USD\", \"BeneficiaryId\": \"71365032219\"} - Scheduled Date: 2023-08-27\n"
     ]
    }
   ],
   "source": [
    "print(\"Total items:\", len(response))\n",
    "print(\"==============\")\n",
    "for item in response:\n",
    "    print(item['PK'], item['SK'], item['DataBlob'], \"- Scheduled Date:\", item['ScheduledDate'])"
   ]
  },
  {
   "attachments": {},
   "cell_type": "markdown",
   "metadata": {},
   "source": [
    "#### Devolver pagos de todos los usuarios para una fecha específica por estado (SCHEDULED o PENDING)"
   ]
  },
  {
   "cell_type": "code",
   "execution_count": 38,
   "metadata": {},
   "outputs": [],
   "source": [
    "def create_query_input(gsi_id, select_date):\n",
    "    return {\n",
    "        \"TableName\": \"BankPayments\",\n",
    "        \"IndexName\": \"GSI1\",\n",
    "        \"KeyConditionExpression\": \"#3e1e0 = :3e1e0 And #3e1e1 = :3e1e1\",\n",
    "        \"ExpressionAttributeNames\": {\"#3e1e0\":\"GSI1PK\",\"#3e1e1\":\"GSI1SK\"},\n",
    "        \"ExpressionAttributeValues\": {\":3e1e0\": {\"S\":gsi_id},\":3e1e1\": {\"S\":select_date}}\n",
    "    }\n",
    "\n",
    "def get_items(select_date, shards=None):\n",
    "    \"\"\"\n",
    "    Get items from DynamoDB table using GSI1\n",
    "    : select_date: Date to query\n",
    "    : shards: Number of shards to query if not specified, query PENDING items\n",
    "    \"\"\"\n",
    "    client = boto3.client(\"dynamodb\", region_name=\"us-east-1\")\n",
    "    all_items = []\n",
    "    \n",
    "    if shards:\n",
    "        for i in range(1, shards+1):\n",
    "            gsi_id = f\"SCHEDULED#{i}\"\n",
    "            input_data = create_query_input(gsi_id, select_date)\n",
    "            try:\n",
    "                response = client.query(**input_data)\n",
    "                all_items.append(response['Items'])\n",
    "            except ClientError as e:\n",
    "                print(f\"Error:\", e)\n",
    "        all_items = [x for y in all_items for x in y]\n",
    "    else:\n",
    "        gsi_id = \"PENDING\"\n",
    "        input_data = create_query_input(gsi_id, select_date)\n",
    "        try:\n",
    "            response = client.query(**input_data)\n",
    "            all_items = response['Items']\n",
    "        except ClientError as e:\n",
    "            print(f\"Error:\", e)\n",
    "    return all_items"
   ]
  },
  {
   "cell_type": "code",
   "execution_count": 39,
   "metadata": {},
   "outputs": [
    {
     "name": "stdout",
     "output_type": "stream",
     "text": [
      "Total items: 7\n",
      "==============\n",
      "{'S': '10996549155#PAYMENT'} {'S': 'SCHEDULED#1687316400554735836'} {'S': '{\"Amount\": 798, \"Currency\": \"USD\", \"BeneficiaryId\": \"14144899543\"}'} - Scheduled Date: {'S': '2023-06-21'}\n",
      "{'S': '93502270208#PAYMENT'} {'S': 'SCHEDULED#1687316400920510041'} {'S': '{\"Amount\": 4832, \"Currency\": \"USD\", \"BeneficiaryId\": \"88673871306\"}'} - Scheduled Date: {'S': '2023-06-21'}\n",
      "{'S': '46904974369#PAYMENT'} {'S': 'SCHEDULED#1687316400436456411'} {'S': '{\"Amount\": 8133, \"Currency\": \"USD\", \"BeneficiaryId\": \"21813814983\"}'} - Scheduled Date: {'S': '2023-06-21'}\n",
      "{'S': '98645885916#PAYMENT'} {'S': 'SCHEDULED#1687316400253382098'} {'S': '{\"Amount\": 8496, \"Currency\": \"USD\", \"BeneficiaryId\": \"97693213347\"}'} - Scheduled Date: {'S': '2023-06-21'}\n",
      "{'S': '27115523145#PAYMENT'} {'S': 'SCHEDULED#1687316400898654328'} {'S': '{\"Amount\": 8365, \"Currency\": \"USD\", \"BeneficiaryId\": \"75369102191\"}'} - Scheduled Date: {'S': '2023-06-21'}\n",
      "{'S': '20692488563#PAYMENT'} {'S': 'SCHEDULED#1687316400264104277'} {'S': '{\"Amount\": 3543, \"Currency\": \"USD\", \"BeneficiaryId\": \"82713984628\"}'} - Scheduled Date: {'S': '2023-06-21'}\n",
      "{'S': '95669477188#PAYMENT'} {'S': 'SCHEDULED#1687316400844682658'} {'S': '{\"Amount\": 3212, \"Currency\": \"USD\", \"BeneficiaryId\": \"93777274824\"}'} - Scheduled Date: {'S': '2023-06-21'}\n"
     ]
    }
   ],
   "source": [
    "all_items = get_items(select_date=\"2023-06-21\", shards=5)   \n",
    "print(\"Total items:\", len(all_items))\n",
    "print(\"==============\")\n",
    "for item in all_items:\n",
    "    print(item['PK'], item['SK'], item['DataBlob'], \"- Scheduled Date:\", item['ScheduledDate'])"
   ]
  }
 ],
 "metadata": {
  "kernelspec": {
   "display_name": "personal",
   "language": "python",
   "name": "python3"
  },
  "language_info": {
   "codemirror_mode": {
    "name": "ipython",
    "version": 3
   },
   "file_extension": ".py",
   "mimetype": "text/x-python",
   "name": "python",
   "nbconvert_exporter": "python",
   "pygments_lexer": "ipython3",
   "version": "3.11.3"
  },
  "orig_nbformat": 4
 },
 "nbformat": 4,
 "nbformat_minor": 2
}
