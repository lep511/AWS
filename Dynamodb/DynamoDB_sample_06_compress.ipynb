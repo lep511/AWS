{
 "cells": [
  {
   "cell_type": "code",
   "execution_count": 2,
   "id": "39b2de01-fd3b-4650-b4ce-cde1cbe9d7e9",
   "metadata": {},
   "outputs": [],
   "source": [
    "import boto3\n",
    "import pandas as pd\n",
    "import numpy as np\n",
    "import json\n",
    "import gzip\n",
    "import importlib\n",
    "from boto3.dynamodb.conditions import Key, Attr\n",
    "from botocore.exceptions import ClientError\n",
    "from boto3.dynamodb.types import Binary\n",
    "from importlib import reload\n",
    "from dynamodb import DynamoTable"
   ]
  },
  {
   "cell_type": "code",
   "execution_count": 3,
   "id": "6277cefa-61b3-46d4-beff-4e2a033727ae",
   "metadata": {},
   "outputs": [],
   "source": [
    "dt = DynamoTable()"
   ]
  },
  {
   "cell_type": "code",
   "execution_count": 4,
   "id": "59032f0f-84ea-4f8f-9205-415e4c04a268",
   "metadata": {},
   "outputs": [],
   "source": [
    "dt.create_table(table_name=\"dragon_stats\", \n",
    "                partition_key=\"dragon_name\", \n",
    "                partition_key_type=\"S\", \n",
    "                provisioned=False\n",
    ")\n",
    "\n",
    "dt.load_json(\"dragons_dynamo/dragon_stats_one.json\")\n",
    "dt.load_json(\"dragons_dynamo/dragon_stats_two.json\")"
   ]
  },
  {
   "cell_type": "code",
   "execution_count": null,
   "id": "32e12504-8d4a-4f43-8bec-65b8ce05e349",
   "metadata": {},
   "outputs": [],
   "source": [
    "try: \n",
    "    dt.create_table(\"data_name\", \"Inv_ID\", \"S\", \"Bill_ID\", \"S\")\n",
    "except:\n",
    "    dt.select_table(\"data_name\")"
   ]
  },
  {
   "cell_type": "code",
   "execution_count": null,
   "id": "ea1cf17c-f26f-4282-bdad-4187eb711613",
   "metadata": {},
   "outputs": [],
   "source": [
    "list(dt.dyn_resource.tables.all())"
   ]
  },
  {
   "cell_type": "code",
   "execution_count": null,
   "id": "226e037b-2adc-47dd-8f4d-e353aaedc5f3",
   "metadata": {},
   "outputs": [],
   "source": [
    "s_out = \"\"\"Offer for a Basic Digital Access subscription is not open to current digital news s\n",
    "ubscribers. Your payment method will automatically be charged in advance the introductory \n",
    "offer rate every 4 weeks for 1 year, and after 1 year the standard rate every 4 weeks. \n",
    "Your subscription will continue until you cancel. Cancellation takes effect at the end 4\n",
    "of your current billing period. The print edition of The New York Times, Games, Cooking or \n",
    "Wirecutter are not included. Taxes may apply. Offer terms are subject to change.\n",
    "\"\"\"\n",
    "s_out2 = \"\"\"At its fifth hearing on the Capitol riot, the panel plans to show evidence about how Donald Trump tried to manipulate the Justice Department to stay in power.\n",
    "The committee is presenting his actions as a critical strand in a multilayered effort by the former president to subvert the election. Watch the hearing live.\n",
    "\"\"\"\n",
    "s_out3 = \"At itsid Watch the hearing live.\"\n",
    "\n",
    "item1 = {\n",
    "    \"Inv_ID\": \"Invoice-40539\",\n",
    "    \"Bill_ID\": \"Bill-235\",\n",
    "    \"Data1\": s_out,\n",
    "    \"Data2\": s_out2\n",
    "}\n",
    "\n",
    "item3 = {\n",
    "    \"Inv_ID\": \"Invoice-40539\",\n",
    "    \"Bill_ID\": \"Bill-15\",\n",
    "    \"Data2\": s_out3\n",
    "}\n",
    "\n",
    "df = pd.DataFrame([item1, item3], index=range(2))"
   ]
  },
  {
   "cell_type": "code",
   "execution_count": null,
   "id": "1988a25f-6629-4858-ac7a-15ee1f03aedb",
   "metadata": {},
   "outputs": [],
   "source": [
    "import dynamodb\n",
    "importlib.reload(dynamodb)\n",
    "from dynamodb import DynamoTable\n",
    "dt = DynamoTable()\n",
    "dt.select_table(\"data_name\")"
   ]
  },
  {
   "cell_type": "code",
   "execution_count": null,
   "id": "55a6a8e8-d2b7-4ed2-8b9c-27b94a02b3fb",
   "metadata": {},
   "outputs": [],
   "source": [
    "dt.batch_pandas(df, compress=True)"
   ]
  },
  {
   "cell_type": "code",
   "execution_count": null,
   "id": "8d522de5-51d3-4d7a-8bd3-fca9f6f32f9e",
   "metadata": {},
   "outputs": [],
   "source": [
    "dt.query_items(\"Invoice-40539\", to_pandas=True)"
   ]
  },
  {
   "cell_type": "code",
   "execution_count": null,
   "id": "e2ee4ca4-3096-4a95-8461-931c0881448e",
   "metadata": {},
   "outputs": [],
   "source": [
    "dt.select_table(\"dragons\")"
   ]
  },
  {
   "cell_type": "code",
   "execution_count": 22,
   "id": "d8a08e17-ce08-4684-9fe4-2ab6844bddde",
   "metadata": {},
   "outputs": [
    {
     "data": {
      "text/plain": [
       "{'Table': {'AttributeDefinitions': [{'AttributeName': 'dragon_name',\n",
       "    'AttributeType': 'S'}],\n",
       "  'TableName': 'dragons',\n",
       "  'KeySchema': [{'AttributeName': 'dragon_name', 'KeyType': 'HASH'}],\n",
       "  'TableStatus': 'ACTIVE',\n",
       "  'CreationDateTime': datetime.datetime(2022, 6, 24, 20, 22, 25, 751000, tzinfo=tzlocal()),\n",
       "  'ProvisionedThroughput': {'NumberOfDecreasesToday': 0,\n",
       "   'ReadCapacityUnits': 0,\n",
       "   'WriteCapacityUnits': 0},\n",
       "  'TableSizeBytes': 0,\n",
       "  'ItemCount': 0,\n",
       "  'TableArn': 'arn:aws:dynamodb:us-east-1:210229652268:table/dragons',\n",
       "  'TableId': '75f1a5c0-a805-4d43-8bed-36066451c86f',\n",
       "  'BillingModeSummary': {'BillingMode': 'PAY_PER_REQUEST',\n",
       "   'LastUpdateToPayPerRequestDateTime': datetime.datetime(2022, 6, 24, 20, 22, 25, 751000, tzinfo=tzlocal())}},\n",
       " 'ResponseMetadata': {'RequestId': '1I60UJBKKFHM6J5BDUDG2C841BVV4KQNSO5AEMVJF66Q9ASUAAJG',\n",
       "  'HTTPStatusCode': 200,\n",
       "  'HTTPHeaders': {'server': 'Server',\n",
       "   'date': 'Sat, 25 Jun 2022 00:12:15 GMT',\n",
       "   'content-type': 'application/x-amz-json-1.0',\n",
       "   'content-length': '711',\n",
       "   'connection': 'keep-alive',\n",
       "   'x-amzn-requestid': '1I60UJBKKFHM6J5BDUDG2C841BVV4KQNSO5AEMVJF66Q9ASUAAJG',\n",
       "   'x-amz-crc32': '3848666749'},\n",
       "  'RetryAttempts': 0}}"
      ]
     },
     "execution_count": 22,
     "metadata": {},
     "output_type": "execute_result"
    }
   ],
   "source": [
    "dt.dyn_client.describe_table(TableName=\"dragons\")"
   ]
  },
  {
   "cell_type": "code",
   "execution_count": 14,
   "id": "4b0c70b0-faa0-4971-9709-59a4ab28db36",
   "metadata": {},
   "outputs": [
    {
     "data": {
      "text/plain": [
       "- Table name: dragon_stats            \n",
       "- Table arn: arn:aws:dynamodb:us-east-1:254306263884:table/dragon_stats            \n",
       "- Table creation: 2022-06-25 00:28:28.276000+00:00            \n",
       "- [{'AttributeName': 'dragon_name', 'KeyType': 'HASH'}]            \n",
       "- [{'AttributeName': 'dragon_name', 'AttributeType': 'S'}]"
      ]
     },
     "execution_count": 14,
     "metadata": {},
     "output_type": "execute_result"
    }
   ],
   "source": [
    "dt"
   ]
  },
  {
   "cell_type": "code",
   "execution_count": 8,
   "id": "adb9e669-0456-4f42-a265-3e7e61e96747",
   "metadata": {},
   "outputs": [
    {
     "name": "stdout",
     "output_type": "stream",
     "text": [
      "Secondary index added!\n"
     ]
    }
   ],
   "source": [
    "import boto3\n",
    "\n",
    "# Boto3 is the AWS SDK library for Python.\n",
    "# You can use the low-level client to make API calls to DynamoDB.\n",
    "client = boto3.client('dynamodb', region_name='us-east-1')\n",
    "\n",
    "try:\n",
    "    resp = client.update_table(\n",
    "        TableName=\"dragon_stats\",\n",
    "        # Any attributes used in your new global secondary index must be declared in AttributeDefinitions\n",
    "        AttributeDefinitions=[\n",
    "            {\n",
    "                \"AttributeName\": \"family\",\n",
    "                \"AttributeType\": \"S\"\n",
    "            },\n",
    "        ],\n",
    "        # This is where you add, update, or delete any global secondary indexes on your table.\n",
    "        GlobalSecondaryIndexUpdates=[\n",
    "            {\n",
    "                \"Create\": {\n",
    "                    # You need to name your index and specifically refer to it when using it for queries.\n",
    "                    \"IndexName\": \"CategoryIndex\",\n",
    "                    # Like the table itself, you need to specify the key schema for an index.\n",
    "                    # For a global secondary index, you can use a simple or composite key schema.\n",
    "                    \"KeySchema\": [\n",
    "                        {\n",
    "                            \"AttributeName\": \"family\",\n",
    "                            \"KeyType\": \"HASH\"\n",
    "                        }\n",
    "                    ],\n",
    "                    # You can choose to copy only specific attributes from the original item into the index.\n",
    "                    # You might want to copy only a few attributes to save space.\n",
    "                    \"Projection\": {\n",
    "                        \"ProjectionType\": \"ALL\"\n",
    "                    },\n",
    "                    # Global secondary indexes have read and write capacity separate from the underlying table.\n",
    "                    \n",
    "                }\n",
    "            }\n",
    "        ],\n",
    "    )\n",
    "    print(\"Secondary index added!\")\n",
    "except Exception as e:\n",
    "    print(\"Error updating table:\")\n",
    "    print(e)"
   ]
  },
  {
   "cell_type": "code",
   "execution_count": 20,
   "id": "c359c208-2cb3-4df9-b3dc-5b6b565aeacc",
   "metadata": {},
   "outputs": [
    {
     "data": {
      "text/plain": [
       "[{'IndexName': 'CategoryIndex',\n",
       "  'KeySchema': [{'AttributeName': 'family', 'KeyType': 'HASH'}],\n",
       "  'Projection': {'ProjectionType': 'ALL'},\n",
       "  'IndexStatus': 'ACTIVE',\n",
       "  'ProvisionedThroughput': {'NumberOfDecreasesToday': 0,\n",
       "   'ReadCapacityUnits': 0,\n",
       "   'WriteCapacityUnits': 0},\n",
       "  'IndexSizeBytes': 0,\n",
       "  'ItemCount': 0,\n",
       "  'IndexArn': 'arn:aws:dynamodb:us-east-1:254306263884:table/dragon_stats/index/CategoryIndex'}]"
      ]
     },
     "execution_count": 20,
     "metadata": {},
     "output_type": "execute_result"
    }
   ],
   "source": [
    "dt.table.global_secondary_indexes"
   ]
  },
  {
   "cell_type": "code",
   "execution_count": 17,
   "id": "5cf1ddbe-3458-4a97-a528-44660ce1967d",
   "metadata": {},
   "outputs": [],
   "source": [
    "dt.table.reload()"
   ]
  },
  {
   "cell_type": "code",
   "execution_count": 23,
   "id": "ab15bfbb-913e-4716-a897-34dd99d33f0e",
   "metadata": {},
   "outputs": [
    {
     "data": {
      "text/plain": [
       "{'Items': [{'location_neighborhood': 'shank rd',\n",
       "   'damage': Decimal('8'),\n",
       "   'location_city': 'dover',\n",
       "   'family': 'red',\n",
       "   'description': 'Isilier is one of the noblest dragon generals in the fire army. His fire attack is one of the strongest in the fleet.',\n",
       "   'protection': Decimal('7'),\n",
       "   'location_country': 'usa',\n",
       "   'location_state': 'delaware',\n",
       "   'dragon_name': 'Isilier'},\n",
       "  {'location_neighborhood': 'margate st',\n",
       "   'damage': Decimal('4'),\n",
       "   'location_city': 'encino',\n",
       "   'family': 'red',\n",
       "   'description': 'Norslo breathes lava instead of fire. He creates magna flows and traps his enemies.',\n",
       "   'protection': Decimal('7'),\n",
       "   'location_country': 'usa',\n",
       "   'location_state': 'california',\n",
       "   'dragon_name': 'Norslo'},\n",
       "  {'location_neighborhood': 'edna ave',\n",
       "   'damage': Decimal('9'),\n",
       "   'location_city': 'las vegas',\n",
       "   'family': 'red',\n",
       "   'description': 'Crimson is a soldier in the dragon fire army. He breathes fire lightning for a multiple attack.',\n",
       "   'protection': Decimal('3'),\n",
       "   'location_country': 'usa',\n",
       "   'location_state': 'nevada',\n",
       "   'dragon_name': 'Crimson'},\n",
       "  {'location_neighborhood': 'e clark ave',\n",
       "   'damage': Decimal('6'),\n",
       "   'location_city': 'las vegas',\n",
       "   'family': 'red',\n",
       "   'description': \"Xanya is the fire tribe's banished general. She broke ranks and has been wandering ever since.\",\n",
       "   'protection': Decimal('6'),\n",
       "   'location_country': 'usa',\n",
       "   'location_state': 'nevada',\n",
       "   'dragon_name': 'Xanya'},\n",
       "  {'location_neighborhood': 'lakeside dr',\n",
       "   'damage': Decimal('7'),\n",
       "   'location_city': 'homer',\n",
       "   'family': 'red',\n",
       "   'description': \"Ruby has a skin and coat that's as hard as gems. This gives her extra defense against her enemies.\",\n",
       "   'protection': Decimal('9'),\n",
       "   'location_country': 'usa',\n",
       "   'location_state': 'alaska',\n",
       "   'dragon_name': 'Ruby'},\n",
       "  {'location_neighborhood': 'rowe ave',\n",
       "   'damage': Decimal('7'),\n",
       "   'location_city': 'portland',\n",
       "   'family': 'red',\n",
       "   'description': \"Languatha is a noble fire dragon and direct heir to the fire tribe's throne. She is cunning and wise, but has a venomous bite.\",\n",
       "   'protection': Decimal('2'),\n",
       "   'location_country': 'usa',\n",
       "   'location_state': 'maine',\n",
       "   'dragon_name': 'Languatha'},\n",
       "  {'location_neighborhood': 'breckenridge ave',\n",
       "   'damage': Decimal('9'),\n",
       "   'location_city': 'st. cloud',\n",
       "   'family': 'red',\n",
       "   'description': 'Eislex flies with the fire sprites. He protects them and is their guardian.',\n",
       "   'protection': Decimal('3'),\n",
       "   'location_country': 'usa',\n",
       "   'location_state': 'minnesota',\n",
       "   'dragon_name': 'Eislex'},\n",
       "  {'location_neighborhood': 'stillwater ave',\n",
       "   'damage': Decimal('2'),\n",
       "   'location_city': 'bangor',\n",
       "   'family': 'red',\n",
       "   'description': 'Fireball is a young dragon in training. He is learning how to control his fire, but is still lethal.',\n",
       "   'protection': Decimal('6'),\n",
       "   'location_country': 'usa',\n",
       "   'location_state': 'maine',\n",
       "   'dragon_name': 'Fireball'},\n",
       "  {'location_neighborhood': 'e laguna dr',\n",
       "   'damage': Decimal('4'),\n",
       "   'location_city': 'tempe',\n",
       "   'family': 'red',\n",
       "   'description': 'Firestorm can summon a fire storm of hail and rain, that burns his opponents.',\n",
       "   'protection': Decimal('9'),\n",
       "   'location_country': 'usa',\n",
       "   'location_state': 'arizona',\n",
       "   'dragon_name': 'Firestorm'},\n",
       "  {'location_neighborhood': 'westcliff dr',\n",
       "   'damage': Decimal('9'),\n",
       "   'location_city': 'las vegas',\n",
       "   'family': 'red',\n",
       "   'description': \"Tagnaurak's breathe melts and refines precious gems. He covets money and loves shiny things that he obsessively collects.\",\n",
       "   'protection': Decimal('3'),\n",
       "   'location_country': 'usa',\n",
       "   'location_state': 'nevada',\n",
       "   'dragon_name': 'Tagnaurak'},\n",
       "  {'location_neighborhood': 'eagle hills dr',\n",
       "   'damage': Decimal('4'),\n",
       "   'location_city': 'las vegas',\n",
       "   'family': 'red',\n",
       "   'description': 'Omnitrek is a fire dragon that uses his fire breathe to hypnotize his opponents. He is from the fire tribe.',\n",
       "   'protection': Decimal('6'),\n",
       "   'location_country': 'usa',\n",
       "   'location_state': 'nevada',\n",
       "   'dragon_name': 'Omnitrek'},\n",
       "  {'location_neighborhood': 'w fireweed ln',\n",
       "   'damage': Decimal('9'),\n",
       "   'location_city': 'anchorage',\n",
       "   'family': 'red',\n",
       "   'description': 'From the northern fire tribe, Atlas was born from the ashes of his fallen father in combat. He is fearless and does not fear battle.',\n",
       "   'protection': Decimal('7'),\n",
       "   'location_country': 'usa',\n",
       "   'location_state': 'alaska',\n",
       "   'dragon_name': 'Atlas'}],\n",
       " 'Count': 12,\n",
       " 'ScannedCount': 12,\n",
       " 'ResponseMetadata': {'RequestId': '5VO164JIE6EQN708ROB8N42397VV4KQNSO5AEMVJF66Q9ASUAAJG',\n",
       "  'HTTPStatusCode': 200,\n",
       "  'HTTPHeaders': {'server': 'Server',\n",
       "   'date': 'Sat, 25 Jun 2022 00:48:33 GMT',\n",
       "   'content-type': 'application/x-amz-json-1.0',\n",
       "   'content-length': '4365',\n",
       "   'connection': 'keep-alive',\n",
       "   'x-amzn-requestid': '5VO164JIE6EQN708ROB8N42397VV4KQNSO5AEMVJF66Q9ASUAAJG',\n",
       "   'x-amz-crc32': '59669984'},\n",
       "  'RetryAttempts': 0}}"
      ]
     },
     "execution_count": 23,
     "metadata": {},
     "output_type": "execute_result"
    }
   ],
   "source": [
    "dt.table.query(IndexName=\"CategoryIndex\",\n",
    "    KeyConditionExpression=Key('family').eq('red')\n",
    "              )"
   ]
  }
 ],
 "metadata": {
  "kernelspec": {
   "display_name": "Python 3",
   "language": "python",
   "name": "python3"
  },
  "language_info": {
   "codemirror_mode": {
    "name": "ipython",
    "version": 3
   },
   "file_extension": ".py",
   "mimetype": "text/x-python",
   "name": "python",
   "nbconvert_exporter": "python",
   "pygments_lexer": "ipython3",
   "version": "3.9.2"
  }
 },
 "nbformat": 4,
 "nbformat_minor": 5
}
