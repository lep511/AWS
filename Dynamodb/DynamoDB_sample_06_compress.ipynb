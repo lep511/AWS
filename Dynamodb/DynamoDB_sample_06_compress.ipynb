{
 "cells": [
  {
   "cell_type": "code",
   "execution_count": 24,
   "id": "39b2de01-fd3b-4650-b4ce-cde1cbe9d7e9",
   "metadata": {},
   "outputs": [],
   "source": [
    "import boto3\n",
    "import pandas as pd\n",
    "import numpy as np\n",
    "import json\n",
    "import gzip\n",
    "import importlib\n",
    "from boto3.dynamodb.conditions import Key, Attr\n",
    "from botocore.exceptions import ClientError\n",
    "from boto3.dynamodb.types import Binary\n",
    "from importlib import reload\n",
    "from spdynamodb import DynamoTable\n",
    "from time import sleep"
   ]
  },
  {
   "cell_type": "code",
   "execution_count": 2,
   "id": "6277cefa-61b3-46d4-beff-4e2a033727ae",
   "metadata": {},
   "outputs": [],
   "source": [
    "dt = DynamoTable()"
   ]
  },
  {
   "cell_type": "code",
   "execution_count": 3,
   "id": "59032f0f-84ea-4f8f-9205-415e4c04a268",
   "metadata": {},
   "outputs": [
    {
     "name": "stdout",
     "output_type": "stream",
     "text": [
      "Table created successfully!\n"
     ]
    }
   ],
   "source": [
    "dt.create_table(table_name=\"dragon_stats\", \n",
    "                partition_key=\"dragon_name\", \n",
    "                partition_key_type=\"S\", \n",
    "                provisioned=False\n",
    ")\n",
    "\n",
    "dt.load_json(\"dragons_dynamo/dragon_stats_one.json\")\n",
    "dt.load_json(\"dragons_dynamo/dragon_stats_two.json\")"
   ]
  },
  {
   "cell_type": "code",
   "execution_count": 3,
   "id": "38071164",
   "metadata": {},
   "outputs": [],
   "source": [
    "dt.select_table(\"dragon_stats\")"
   ]
  },
  {
   "cell_type": "code",
   "execution_count": 9,
   "id": "32e12504-8d4a-4f43-8bec-65b8ce05e349",
   "metadata": {},
   "outputs": [
    {
     "name": "stdout",
     "output_type": "stream",
     "text": [
      "Table created successfully!\n"
     ]
    }
   ],
   "source": [
    "try: \n",
    "    dt.create_table(\"data_name\", \"Inv_ID\", \"S\", \"Bill_ID\", \"S\")\n",
    "except:\n",
    "    dt.select_table(\"data_name\")"
   ]
  },
  {
   "cell_type": "code",
   "execution_count": 7,
   "id": "ea1cf17c-f26f-4282-bdad-4187eb711613",
   "metadata": {},
   "outputs": [
    {
     "data": {
      "text/plain": [
       "{'Region': 'us-east-1',\n",
       " 'Tables': [dynamodb.Table(name='Employees'),\n",
       "  dynamodb.Table(name='SkiLifts'),\n",
       "  dynamodb.Table(name='Songs'),\n",
       "  dynamodb.Table(name='dragon_stats')]}"
      ]
     },
     "execution_count": 7,
     "metadata": {},
     "output_type": "execute_result"
    }
   ],
   "source": [
    "dt.all_tables"
   ]
  },
  {
   "cell_type": "code",
   "execution_count": 14,
   "id": "226e037b-2adc-47dd-8f4d-e353aaedc5f3",
   "metadata": {},
   "outputs": [],
   "source": [
    "s_out = \"\"\"Offer for a Basic Digital Access subscription is not open to current digital news s\n",
    "ubscribers. Your payment method will automatically be charged in advance the introductory \n",
    "offer rate every 4 weeks for 1 year, and after 1 year the standard rate every 4 weeks. \n",
    "Your subscription will continue until you cancel. Cancellation takes effect at the end 4\n",
    "of your current billing period. The print edition of The New York Times, Games, Cooking or \n",
    "Wirecutter are not included. Taxes may apply. Offer terms are subject to change.\n",
    "\"\"\"\n",
    "s_out2 = \"\"\"At its fifth hearing on the Capitol riot, the panel plans to show evidence about how Donald Trump tried to manipulate the Justice Department to stay in power.\n",
    "The committee is presenting his actions as a critical strand in a multilayered effort by the former president to subvert the election. Watch the hearing live.\n",
    "\"\"\"\n",
    "s_out3 = \"At itsid Watch the hearing live.\"\n",
    "\n",
    "item1 = {\n",
    "    \"Inv_ID\": \"Invoice-40539\",\n",
    "    \"Bill_ID\": \"Bill-235\",\n",
    "    \"Data1\": s_out,\n",
    "    \"Data2\": s_out2\n",
    "}\n",
    "\n",
    "item2 = {\n",
    "    \"Inv_ID\": \"Invoice-40539\",\n",
    "    \"Bill_ID\": \"Bill-15\",\n",
    "    \"Data2\": s_out3\n",
    "}\n",
    "\n",
    "df = pd.DataFrame([item1, item2], index=range(2))"
   ]
  },
  {
   "cell_type": "code",
   "execution_count": 15,
   "id": "55a6a8e8-d2b7-4ed2-8b9c-27b94a02b3fb",
   "metadata": {},
   "outputs": [],
   "source": [
    "dt.batch_pandas(df, compress=True)"
   ]
  },
  {
   "cell_type": "code",
   "execution_count": 16,
   "id": "8d522de5-51d3-4d7a-8bd3-fca9f6f32f9e",
   "metadata": {},
   "outputs": [
    {
     "data": {
      "text/html": [
       "<div>\n",
       "<style scoped>\n",
       "    .dataframe tbody tr th:only-of-type {\n",
       "        vertical-align: middle;\n",
       "    }\n",
       "\n",
       "    .dataframe tbody tr th {\n",
       "        vertical-align: top;\n",
       "    }\n",
       "\n",
       "    .dataframe thead th {\n",
       "        text-align: right;\n",
       "    }\n",
       "</style>\n",
       "<table border=\"1\" class=\"dataframe\">\n",
       "  <thead>\n",
       "    <tr style=\"text-align: right;\">\n",
       "      <th></th>\n",
       "      <th>Data1</th>\n",
       "      <th>Data2</th>\n",
       "      <th>Inv_ID</th>\n",
       "      <th>Bill_ID</th>\n",
       "    </tr>\n",
       "  </thead>\n",
       "  <tbody>\n",
       "    <tr>\n",
       "      <th>0</th>\n",
       "      <td></td>\n",
       "      <td>At itsid Watch the hearing live.</td>\n",
       "      <td>Invoice-40539</td>\n",
       "      <td>Bill-15</td>\n",
       "    </tr>\n",
       "    <tr>\n",
       "      <th>1</th>\n",
       "      <td>Offer for a Basic Digital Access subscription ...</td>\n",
       "      <td>At its fifth hearing on the Capitol riot, the ...</td>\n",
       "      <td>Invoice-40539</td>\n",
       "      <td>Bill-235</td>\n",
       "    </tr>\n",
       "  </tbody>\n",
       "</table>\n",
       "</div>"
      ],
      "text/plain": [
       "                                               Data1  \\\n",
       "0                                                      \n",
       "1  Offer for a Basic Digital Access subscription ...   \n",
       "\n",
       "                                               Data2         Inv_ID   Bill_ID  \n",
       "0                   At itsid Watch the hearing live.  Invoice-40539   Bill-15  \n",
       "1  At its fifth hearing on the Capitol riot, the ...  Invoice-40539  Bill-235  "
      ]
     },
     "execution_count": 16,
     "metadata": {},
     "output_type": "execute_result"
    }
   ],
   "source": [
    "dt.query_items(\"Invoice-40539\", to_pandas=True)"
   ]
  },
  {
   "cell_type": "code",
   "execution_count": 18,
   "id": "e2ee4ca4-3096-4a95-8461-931c0881448e",
   "metadata": {},
   "outputs": [],
   "source": [
    "dt.select_table(\"dragon_stats\")"
   ]
  },
  {
   "cell_type": "code",
   "execution_count": 21,
   "id": "6c15ab82",
   "metadata": {},
   "outputs": [
    {
     "data": {
      "text/plain": [
       "- Table name: dragon_stats            \n",
       "- Table arn: arn:aws:dynamodb:us-east-1:727741534221:table/dragon_stats            \n",
       "- Table creation: 2023-03-19 10:29:41.529000-03:00            \n",
       "- [{'AttributeName': 'dragon_name', 'KeyType': 'HASH'}]            \n",
       "- [{'AttributeName': 'dragon_name', 'AttributeType': 'S'}]"
      ]
     },
     "execution_count": 21,
     "metadata": {},
     "output_type": "execute_result"
    }
   ],
   "source": [
    "dt"
   ]
  },
  {
   "cell_type": "code",
   "execution_count": 22,
   "id": "d48770be",
   "metadata": {},
   "outputs": [],
   "source": [
    "dt.create_global_secondary_index(\n",
    "    att_name=\"family\",\n",
    "    att_type=\"S\",\n",
    "    i_name=\"CategoryIndex\"\n",
    ")"
   ]
  },
  {
   "cell_type": "code",
   "execution_count": 25,
   "id": "a7fd0930",
   "metadata": {},
   "outputs": [
    {
     "name": "stdout",
     "output_type": "stream",
     "text": [
      "Global secondary index created.\n"
     ]
    }
   ],
   "source": [
    "status = dt.check_status_gsi()\n",
    "while status == 'CREATING':\n",
    "    status = dt.check_status_gsi()\n",
    "    sleep(30)\n",
    "print(\"Global secondary index created.\")"
   ]
  },
  {
   "cell_type": "code",
   "execution_count": 26,
   "id": "c359c208-2cb3-4df9-b3dc-5b6b565aeacc",
   "metadata": {},
   "outputs": [
    {
     "data": {
      "text/plain": [
       "'ACTIVE'"
      ]
     },
     "execution_count": 26,
     "metadata": {},
     "output_type": "execute_result"
    }
   ],
   "source": [
    "dt.check_status_gsi()"
   ]
  },
  {
   "cell_type": "code",
   "execution_count": 27,
   "id": "ab15bfbb-913e-4716-a897-34dd99d33f0e",
   "metadata": {},
   "outputs": [],
   "source": [
    "result = dt.table.query(IndexName=\"CategoryIndex\",\n",
    "            KeyConditionExpression=Key('family').eq('red')\n",
    "        )   "
   ]
  },
  {
   "cell_type": "code",
   "execution_count": 30,
   "id": "29588993",
   "metadata": {},
   "outputs": [
    {
     "data": {
      "text/plain": [
       "4"
      ]
     },
     "execution_count": 30,
     "metadata": {},
     "output_type": "execute_result"
    }
   ],
   "source": [
    "len(result)"
   ]
  }
 ],
 "metadata": {
  "kernelspec": {
   "display_name": "Python 3",
   "language": "python",
   "name": "python3"
  },
  "language_info": {
   "codemirror_mode": {
    "name": "ipython",
    "version": 3
   },
   "file_extension": ".py",
   "mimetype": "text/x-python",
   "name": "python",
   "nbconvert_exporter": "python",
   "pygments_lexer": "ipython3",
   "version": "3.9.12"
  }
 },
 "nbformat": 4,
 "nbformat_minor": 5
}
