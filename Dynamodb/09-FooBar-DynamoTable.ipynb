{
 "cells": [
  {
   "cell_type": "code",
   "execution_count": null,
   "metadata": {},
   "outputs": [],
   "source": [
    "import pandas as pd\n",
    "from spdynamodb import DynamoTable\n",
    "from time import sleep\n",
    "import json\n",
    "import time\n",
    "from decimal import Decimal"
   ]
  },
  {
   "cell_type": "code",
   "execution_count": null,
   "metadata": {},
   "outputs": [],
   "source": [
    "#dt = DynamoTable(profile_name='my-profile')\n",
    "dt=DynamoTable()\n",
    "try:\n",
    "    dt.select_table('FooBarTable')\n",
    "    print(dt)\n",
    "except:\n",
    "    dt.create_table(\n",
    "        table_name='FooBarTable',\n",
    "        partition_key='PK',\n",
    "        partition_key_type='S',\n",
    "        sort_key='SK',\n",
    "        sort_key_type='S',\n",
    "    )"
   ]
  },
  {
   "attachments": {},
   "cell_type": "markdown",
   "metadata": {},
   "source": [
    "### Create 3 global secondary indexes"
   ]
  },
  {
   "cell_type": "code",
   "execution_count": null,
   "metadata": {},
   "outputs": [],
   "source": [
    "# 1st Global Secondary Index\n",
    "dt.create_global_secondary_index(\n",
    "    att_name=\"GSI1-PK\",\n",
    "    att_type=\"S\",\n",
    "    sort_index=\"GSI1-SK\",\n",
    "    sort_type=\"S\",\n",
    "    i_name=\"GSI1\"\n",
    ")\n",
    "\n",
    "status = dt.check_status_gsi()\n",
    "if status == 'CREATING':\n",
    "    print(\"1st global secondary index is being created, this may take a few minutes...\")\n",
    "    start = time.time()\n",
    "    while status == 'CREATING':\n",
    "        status = dt.check_status_gsi()\n",
    "        sleep(30)\n",
    "end = time.time()\n",
    "minute = (end - start) / 60\n",
    "print(\"Global secondary index created. Time elapsed: {0:.2f} minute\".format(minute))\n",
    "\n",
    "# 2nd Global Secondary Index\n",
    "dt.create_global_secondary_index(\n",
    "    att_name=\"GSI1-PK\",\n",
    "    att_type=\"S\",\n",
    "    sort_index=\"GSI2-SK\",\n",
    "    sort_type=\"S\",\n",
    "    i_name=\"GSI2\"\n",
    ")\n",
    "\n",
    "status = dt.check_status_gsi()\n",
    "if status == 'CREATING':\n",
    "    print(\"2nd global secondary index is being created, this may take a few minutes...\")\n",
    "    start = time.time()\n",
    "    while status == 'CREATING':\n",
    "        status = dt.check_status_gsi()\n",
    "        sleep(30)\n",
    "end = time.time()\n",
    "minute = (end - start) / 60\n",
    "print(\"Global secondary index created. Time elapsed: {0:.2f} minute\".format(minute))\n",
    "\n",
    "# 3rd Global Secondary Index\n",
    "dt.create_global_secondary_index(\n",
    "    att_name=\"GSI1-PK\",\n",
    "    att_type=\"S\",\n",
    "    sort_index=\"GSI3-SK\",\n",
    "    sort_type=\"N\",\n",
    "    i_name=\"GSI3\"\n",
    ")\n",
    "\n",
    "status = dt.check_status_gsi()\n",
    "if status == 'CREATING':\n",
    "    print(\"3rd global secondary index is being created, this may take a few minutes...\")\n",
    "    start = time.time()\n",
    "    while status == 'CREATING':\n",
    "        status = dt.check_status_gsi()\n",
    "        sleep(30)\n",
    "end = time.time()\n",
    "minute = (end - start) / 60\n",
    "print(\"Global secondary index created. Time elapsed: {0:.2f} minute\".format(minute))"
   ]
  },
  {
   "attachments": {},
   "cell_type": "markdown",
   "metadata": {},
   "source": [
    "### Users Table"
   ]
  },
  {
   "cell_type": "code",
   "execution_count": null,
   "metadata": {},
   "outputs": [],
   "source": [
    "df_users = pd.read_csv('DesigningDynamoDBTable-1/users.csv')\n",
    "\n",
    "df_users['PK'] = 'USER#' + df_users['email'].astype(str)\n",
    "df_users['SK'] = 'USER#' + df_users['email'].astype(str)\n",
    "df_users.head()"
   ]
  },
  {
   "attachments": {},
   "cell_type": "markdown",
   "metadata": {},
   "source": [
    "### Orders Table"
   ]
  },
  {
   "cell_type": "code",
   "execution_count": null,
   "metadata": {},
   "outputs": [],
   "source": [
    "df_orders = pd.read_csv('DesigningDynamoDBTable-1/orders.csv')\n",
    "\n",
    "df_orders['PK'] = 'ORDER#' + df_orders['orderId'].astype(str)\n",
    "df_orders['SK'] = 'ORDER#' + df_orders['orderId'].astype(str)\n",
    "df_orders['GSI1-PK'] = 'USER#' + df_orders['userId'].astype(str)\n",
    "df_orders['GSI1-SK'] = 'OSTATUS#' + df_orders['status'].astype(str)\n",
    "df_orders.head()"
   ]
  },
  {
   "attachments": {},
   "cell_type": "markdown",
   "metadata": {},
   "source": [
    "### Order details Table"
   ]
  },
  {
   "cell_type": "code",
   "execution_count": null,
   "metadata": {},
   "outputs": [],
   "source": [
    "df_order_details = pd.read_csv('DesigningDynamoDBTable-1/order_items.csv')\n",
    "\n",
    "df_order_details['orderId'] = df_order_details['orderId'] + 1000\n",
    "df_order_details['PK'] = 'ORDER#' + df_order_details['orderId'].astype(str)\n",
    "df_order_details['SK'] = 'PRODUCT#' + df_order_details['productId'].astype(str)\n",
    "df_order_details.head()"
   ]
  },
  {
   "attachments": {},
   "cell_type": "markdown",
   "metadata": {},
   "source": [
    "### Products Table"
   ]
  },
  {
   "cell_type": "code",
   "execution_count": null,
   "metadata": {},
   "outputs": [],
   "source": [
    "df_products = pd.read_csv('DesigningDynamoDBTable-1/products.csv')\n",
    "values = [100,101,102,200,201,202,301,400,401,402,500,501,502,601,701,702,801,802,900,902]\n",
    "df_products['productId'] = values\n",
    "df_products['PK'] = 'PRODUCT#' + df_products['productId'].astype(str)\n",
    "df_products['SK'] = 'PRODUCT#' + df_products['productId'].astype(str)\n",
    "df_products['GSI1-PK'] = 'PRODUCT'\n",
    "df_products['GSI1-SK'] = 'PNAME#' + df_products['name'].astype(str).str.lower()\n",
    "df_products['GSI2-SK'] =  df_products['category'].astype(str).str.lower()\n",
    "df_products['GSI3-SK'] =  df_products['price']\n",
    "df_products.head()"
   ]
  },
  {
   "attachments": {},
   "cell_type": "markdown",
   "metadata": {},
   "source": [
    "### Add data to DynamoDB"
   ]
  },
  {
   "cell_type": "code",
   "execution_count": null,
   "metadata": {},
   "outputs": [],
   "source": [
    "dt.batch_pandas(dataframe=df_users)\n",
    "dt.batch_pandas(dataframe=df_orders)\n",
    "dt.batch_pandas(dataframe=df_order_details)\n",
    "dt.batch_pandas(dataframe=df_products)"
   ]
  },
  {
   "attachments": {},
   "cell_type": "markdown",
   "metadata": {},
   "source": [
    "### Querying the table"
   ]
  },
  {
   "cell_type": "code",
   "execution_count": null,
   "metadata": {},
   "outputs": [],
   "source": [
    "dt.query(pk_value=\"ORDER#1009\", to_pandas=True)"
   ]
  },
  {
   "cell_type": "code",
   "execution_count": null,
   "metadata": {},
   "outputs": [],
   "source": [
    "dt.table.put_item(\n",
    "    Item={\n",
    "        'PK': 'ORDER#1011',\n",
    "        'SK': 'ORDER#1011',\n",
    "        'purchaseDate': '2020-03-14T15:32:52'\n",
    "    }\n",
    ")\n",
    "dt.table.put_item(\n",
    "    Item={\n",
    "        'PK': 'ORDER#1011',\n",
    "        'SK': 'ORDER#1012',\n",
    "        'purchaseDate': '2020-03-15T15:32:52'\n",
    "    }\n",
    ")\n",
    "dt.table.put_item(\n",
    "    Item={\n",
    "        'PK': 'ORDER#1011',\n",
    "        'SK': 'ORDER#1013',\n",
    "        'purchaseDate': '2020-03-17T15:32:52'\n",
    "    }\n",
    ")\n",
    "dt.table.put_item(\n",
    "    Item={\n",
    "        'PK': 'ORDER#1011',\n",
    "        'SK': 'ORDER#1014',\n",
    "        'purchaseDate': '2020-03-19T15:32:52'\n",
    "    }\n",
    ")"
   ]
  },
  {
   "cell_type": "code",
   "execution_count": null,
   "metadata": {},
   "outputs": [],
   "source": [
    "query = '2015-01-01T00:00:00_2023-03-17T23:59:59'\n",
    "dt.query(pk_value='ORDER#1011', sk_value=query, consumed_capacity='TOTAL', index_name='GSI4', to_pandas=True)"
   ]
  },
  {
   "cell_type": "code",
   "execution_count": null,
   "metadata": {},
   "outputs": [],
   "source": [
    "dt.query(pk_value='PRODUCT', sk_value=\"==59.99\", consumed_capacity='TOTAL', index_name='GSI3', to_pandas=True)"
   ]
  },
  {
   "cell_type": "code",
   "execution_count": null,
   "metadata": {},
   "outputs": [],
   "source": [
    "dt.query(pk_value='PRODUCT#301', sk_value=\"PRODUCT*\", consumed_capacity='TOTAL', to_pandas=True)"
   ]
  }
 ],
 "metadata": {
  "kernelspec": {
   "display_name": "personal",
   "language": "python",
   "name": "python3"
  },
  "language_info": {
   "codemirror_mode": {
    "name": "ipython",
    "version": 3
   },
   "file_extension": ".py",
   "mimetype": "text/x-python",
   "name": "python",
   "nbconvert_exporter": "python",
   "pygments_lexer": "ipython3",
   "version": "3.11.3"
  },
  "orig_nbformat": 4
 },
 "nbformat": 4,
 "nbformat_minor": 2
}
