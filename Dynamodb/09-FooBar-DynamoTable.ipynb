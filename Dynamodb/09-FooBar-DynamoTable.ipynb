{
 "cells": [
  {
   "cell_type": "code",
   "execution_count": 1,
   "metadata": {},
   "outputs": [],
   "source": [
    "import pandas as pd\n",
    "from spdynamodb import DynamoTable\n",
    "from time import sleep\n",
    "import json\n",
    "import time\n",
    "from decimal import Decimal"
   ]
  },
  {
   "cell_type": "code",
   "execution_count": 2,
   "metadata": {},
   "outputs": [
    {
     "name": "stdout",
     "output_type": "stream",
     "text": [
      "- Table name: FooBarTable            \n",
      "- Table arn: arn:aws:dynamodb:us-east-1:089715336747:table/FooBarTable            \n",
      "- Table creation: 2023-05-09 13:52:59.830000-03:00            \n",
      "- [{'AttributeName': 'PK', 'KeyType': 'HASH'}, {'AttributeName': 'SK', 'KeyType': 'RANGE'}]            \n",
      "- [{'AttributeName': 'GSI1-PK', 'AttributeType': 'S'}, {'AttributeName': 'GSI1-SK', 'AttributeType': 'S'}, {'AttributeName': 'GSI2-SK', 'AttributeType': 'S'}, {'AttributeName': 'GSI3-SK', 'AttributeType': 'N'}, {'AttributeName': 'PK', 'AttributeType': 'S'}, {'AttributeName': 'SK', 'AttributeType': 'S'}]            \n",
      "- Point-in-time recovery status: DISABLED  |  Delete protection: True\n"
     ]
    }
   ],
   "source": [
    "dt = DynamoTable()\n",
    "try:\n",
    "    dt.select_table('FooBarTable')\n",
    "    print(dt)\n",
    "except:\n",
    "    dt.create_table(\n",
    "        table_name='FooBarTable',\n",
    "        partition_key='PK',\n",
    "        partition_key_type='S',\n",
    "        sort_key='SK',\n",
    "        sort_key_type='S',\n",
    "    )"
   ]
  },
  {
   "attachments": {},
   "cell_type": "markdown",
   "metadata": {},
   "source": [
    "### Create 3 global secondary indexes"
   ]
  },
  {
   "cell_type": "code",
   "execution_count": null,
   "metadata": {},
   "outputs": [],
   "source": [
    "# 1st Global Secondary Index\n",
    "dt.create_global_secondary_index(\n",
    "    att_name=\"GSI1-PK\",\n",
    "    att_type=\"S\",\n",
    "    sort_index=\"GSI1-SK\",\n",
    "    sort_type=\"S\",\n",
    "    i_name=\"GSI1\"\n",
    ")\n",
    "\n",
    "status = dt.check_status_gsi()\n",
    "if status == 'CREATING':\n",
    "    print(\"1st global secondary index is being created, this may take a few minutes...\")\n",
    "    start = time.time()\n",
    "    while status == 'CREATING':\n",
    "        status = dt.check_status_gsi()\n",
    "        sleep(30)\n",
    "end = time.time()\n",
    "minute = (end - start) / 60\n",
    "print(\"Global secondary index created. Time elapsed: {0:.2f} minute\".format(minute))\n",
    "\n",
    "# 2nd Global Secondary Index\n",
    "dt.create_global_secondary_index(\n",
    "    att_name=\"GSI1-PK\",\n",
    "    att_type=\"S\",\n",
    "    sort_index=\"GSI2-SK\",\n",
    "    sort_type=\"S\",\n",
    "    i_name=\"GSI2\"\n",
    ")\n",
    "\n",
    "status = dt.check_status_gsi()\n",
    "if status == 'CREATING':\n",
    "    print(\"2nd global secondary index is being created, this may take a few minutes...\")\n",
    "    start = time.time()\n",
    "    while status == 'CREATING':\n",
    "        status = dt.check_status_gsi()\n",
    "        sleep(30)\n",
    "end = time.time()\n",
    "minute = (end - start) / 60\n",
    "print(\"Global secondary index created. Time elapsed: {0:.2f} minute\".format(minute))\n",
    "\n",
    "# 3rd Global Secondary Index\n",
    "dt.create_global_secondary_index(\n",
    "    att_name=\"GSI1-PK\",\n",
    "    att_type=\"S\",\n",
    "    sort_index=\"GSI3-SK\",\n",
    "    sort_type=\"N\",\n",
    "    i_name=\"GSI3\"\n",
    ")\n",
    "\n",
    "status = dt.check_status_gsi()\n",
    "if status == 'CREATING':\n",
    "    print(\"3rd global secondary index is being created, this may take a few minutes...\")\n",
    "    start = time.time()\n",
    "    while status == 'CREATING':\n",
    "        status = dt.check_status_gsi()\n",
    "        sleep(30)\n",
    "end = time.time()\n",
    "minute = (end - start) / 60\n",
    "print(\"Global secondary index created. Time elapsed: {0:.2f} minute\".format(minute))"
   ]
  },
  {
   "attachments": {},
   "cell_type": "markdown",
   "metadata": {},
   "source": [
    "### Users Table"
   ]
  },
  {
   "cell_type": "code",
   "execution_count": null,
   "metadata": {},
   "outputs": [],
   "source": [
    "df_users = pd.read_csv('DesigningDynamoDBTable-1/users.csv')\n",
    "\n",
    "df_users['PK'] = 'USER#' + df_users['email'].astype(str)\n",
    "df_users['SK'] = 'USER#' + df_users['email'].astype(str)\n",
    "df_users.head()"
   ]
  },
  {
   "attachments": {},
   "cell_type": "markdown",
   "metadata": {},
   "source": [
    "### Orders Table"
   ]
  },
  {
   "cell_type": "code",
   "execution_count": 74,
   "metadata": {},
   "outputs": [
    {
     "data": {
      "text/html": [
       "<div>\n",
       "<style scoped>\n",
       "    .dataframe tbody tr th:only-of-type {\n",
       "        vertical-align: middle;\n",
       "    }\n",
       "\n",
       "    .dataframe tbody tr th {\n",
       "        vertical-align: top;\n",
       "    }\n",
       "\n",
       "    .dataframe thead th {\n",
       "        text-align: right;\n",
       "    }\n",
       "</style>\n",
       "<table border=\"1\" class=\"dataframe\">\n",
       "  <thead>\n",
       "    <tr style=\"text-align: right;\">\n",
       "      <th></th>\n",
       "      <th>orderId</th>\n",
       "      <th>userId</th>\n",
       "      <th>purchaseDate</th>\n",
       "      <th>status</th>\n",
       "      <th>totalAmount</th>\n",
       "      <th>totalItems</th>\n",
       "      <th>PK</th>\n",
       "      <th>SK</th>\n",
       "      <th>GSI1-PK</th>\n",
       "      <th>GSI1-SK</th>\n",
       "    </tr>\n",
       "  </thead>\n",
       "  <tbody>\n",
       "    <tr>\n",
       "      <th>0</th>\n",
       "      <td>1001</td>\n",
       "      <td>john@example.com</td>\n",
       "      <td>2022-01-01</td>\n",
       "      <td>completed</td>\n",
       "      <td>100.0</td>\n",
       "      <td>2</td>\n",
       "      <td>ORDER#1001</td>\n",
       "      <td>ORDER#1001</td>\n",
       "      <td>USER#john@example.com</td>\n",
       "      <td>OSTATUS#completed</td>\n",
       "    </tr>\n",
       "    <tr>\n",
       "      <th>1</th>\n",
       "      <td>1002</td>\n",
       "      <td>jane@example.com</td>\n",
       "      <td>2022-01-02</td>\n",
       "      <td>completed</td>\n",
       "      <td>50.0</td>\n",
       "      <td>1</td>\n",
       "      <td>ORDER#1002</td>\n",
       "      <td>ORDER#1002</td>\n",
       "      <td>USER#jane@example.com</td>\n",
       "      <td>OSTATUS#completed</td>\n",
       "    </tr>\n",
       "    <tr>\n",
       "      <th>2</th>\n",
       "      <td>1003</td>\n",
       "      <td>smith@example.com</td>\n",
       "      <td>2022-01-03</td>\n",
       "      <td>shipped</td>\n",
       "      <td>75.0</td>\n",
       "      <td>3</td>\n",
       "      <td>ORDER#1003</td>\n",
       "      <td>ORDER#1003</td>\n",
       "      <td>USER#smith@example.com</td>\n",
       "      <td>OSTATUS#shipped</td>\n",
       "    </tr>\n",
       "    <tr>\n",
       "      <th>3</th>\n",
       "      <td>1004</td>\n",
       "      <td>doe@example.com</td>\n",
       "      <td>2022-01-04</td>\n",
       "      <td>pending</td>\n",
       "      <td>20.0</td>\n",
       "      <td>1</td>\n",
       "      <td>ORDER#1004</td>\n",
       "      <td>ORDER#1004</td>\n",
       "      <td>USER#doe@example.com</td>\n",
       "      <td>OSTATUS#pending</td>\n",
       "    </tr>\n",
       "    <tr>\n",
       "      <th>4</th>\n",
       "      <td>1005</td>\n",
       "      <td>mike@example.com</td>\n",
       "      <td>2022-01-05</td>\n",
       "      <td>completed</td>\n",
       "      <td>30.0</td>\n",
       "      <td>2</td>\n",
       "      <td>ORDER#1005</td>\n",
       "      <td>ORDER#1005</td>\n",
       "      <td>USER#mike@example.com</td>\n",
       "      <td>OSTATUS#completed</td>\n",
       "    </tr>\n",
       "  </tbody>\n",
       "</table>\n",
       "</div>"
      ],
      "text/plain": [
       "   orderId             userId purchaseDate     status  totalAmount  \\\n",
       "0     1001   john@example.com   2022-01-01  completed        100.0   \n",
       "1     1002   jane@example.com   2022-01-02  completed         50.0   \n",
       "2     1003  smith@example.com   2022-01-03    shipped         75.0   \n",
       "3     1004    doe@example.com   2022-01-04    pending         20.0   \n",
       "4     1005   mike@example.com   2022-01-05  completed         30.0   \n",
       "\n",
       "   totalItems          PK          SK                 GSI1-PK  \\\n",
       "0           2  ORDER#1001  ORDER#1001   USER#john@example.com   \n",
       "1           1  ORDER#1002  ORDER#1002   USER#jane@example.com   \n",
       "2           3  ORDER#1003  ORDER#1003  USER#smith@example.com   \n",
       "3           1  ORDER#1004  ORDER#1004    USER#doe@example.com   \n",
       "4           2  ORDER#1005  ORDER#1005   USER#mike@example.com   \n",
       "\n",
       "             GSI1-SK  \n",
       "0  OSTATUS#completed  \n",
       "1  OSTATUS#completed  \n",
       "2    OSTATUS#shipped  \n",
       "3    OSTATUS#pending  \n",
       "4  OSTATUS#completed  "
      ]
     },
     "execution_count": 74,
     "metadata": {},
     "output_type": "execute_result"
    }
   ],
   "source": [
    "df_orders = pd.read_csv('DesigningDynamoDBTable-1/orders.csv')\n",
    "\n",
    "df_orders['PK'] = 'ORDER#' + df_orders['orderId'].astype(str)\n",
    "df_orders['SK'] = 'ORDER#' + df_orders['orderId'].astype(str)\n",
    "df_orders['GSI1-PK'] = 'USER#' + df_orders['userId'].astype(str)\n",
    "df_orders['GSI1-SK'] = 'OSTATUS#' + df_orders['status'].astype(str)\n",
    "df_orders.head()"
   ]
  },
  {
   "attachments": {},
   "cell_type": "markdown",
   "metadata": {},
   "source": [
    "### Order details Table"
   ]
  },
  {
   "cell_type": "code",
   "execution_count": null,
   "metadata": {},
   "outputs": [],
   "source": [
    "df_order_details = pd.read_csv('DesigningDynamoDBTable-1/order_items.csv')\n",
    "\n",
    "df_order_details['orderId'] = df_order_details['orderId'] + 1000\n",
    "df_order_details['PK'] = 'ORDER#' + df_order_details['orderId'].astype(str)\n",
    "df_order_details['SK'] = 'PRODUCT#' + df_order_details['productId'].astype(str)\n",
    "df_order_details.head()"
   ]
  },
  {
   "attachments": {},
   "cell_type": "markdown",
   "metadata": {},
   "source": [
    "### Products Table"
   ]
  },
  {
   "cell_type": "code",
   "execution_count": null,
   "metadata": {},
   "outputs": [],
   "source": [
    "df_products = pd.read_csv('DesigningDynamoDBTable-1/products.csv')\n",
    "values = [100,101,102,200,201,202,301,400,401,402,500,501,502,601,701,702,801,802,900,902]\n",
    "df_products['productId'] = values\n",
    "df_products['PK'] = 'PRODUCT#' + df_products['productId'].astype(str)\n",
    "df_products['SK'] = 'PRODUCT#' + df_products['productId'].astype(str)\n",
    "df_products['GSI1-PK'] = 'PRODUCT'\n",
    "df_products['GSI1-SK'] = 'PNAME#' + df_products['name'].astype(str).str.lower()\n",
    "df_products['GSI2-SK'] =  df_products['category'].astype(str).str.lower()\n",
    "df_products['GSI3-SK'] =  df_products['price']\n",
    "df_products.head()"
   ]
  },
  {
   "attachments": {},
   "cell_type": "markdown",
   "metadata": {},
   "source": [
    "### Add data to DynamoDB"
   ]
  },
  {
   "cell_type": "code",
   "execution_count": null,
   "metadata": {},
   "outputs": [],
   "source": [
    "dt.batch_pandas(dataframe=df_users)"
   ]
  },
  {
   "cell_type": "code",
   "execution_count": 75,
   "metadata": {},
   "outputs": [],
   "source": [
    "dt.batch_pandas(dataframe=df_orders)"
   ]
  },
  {
   "cell_type": "code",
   "execution_count": null,
   "metadata": {},
   "outputs": [],
   "source": [
    "dt.batch_pandas(dataframe=df_order_details)"
   ]
  },
  {
   "cell_type": "code",
   "execution_count": null,
   "metadata": {},
   "outputs": [],
   "source": [
    "dt.batch_pandas(dataframe=df_products)"
   ]
  },
  {
   "attachments": {},
   "cell_type": "markdown",
   "metadata": {},
   "source": [
    "### Querying the table"
   ]
  },
  {
   "cell_type": "code",
   "execution_count": 65,
   "metadata": {},
   "outputs": [
    {
     "data": {
      "text/html": [
       "<div>\n",
       "<style scoped>\n",
       "    .dataframe tbody tr th:only-of-type {\n",
       "        vertical-align: middle;\n",
       "    }\n",
       "\n",
       "    .dataframe tbody tr th {\n",
       "        vertical-align: top;\n",
       "    }\n",
       "\n",
       "    .dataframe thead th {\n",
       "        text-align: right;\n",
       "    }\n",
       "</style>\n",
       "<table border=\"1\" class=\"dataframe\">\n",
       "  <thead>\n",
       "    <tr style=\"text-align: right;\">\n",
       "      <th></th>\n",
       "      <th>purchaseDate</th>\n",
       "      <th>GSI1PK</th>\n",
       "      <th>totalAmount</th>\n",
       "      <th>orderId</th>\n",
       "      <th>userId</th>\n",
       "      <th>status</th>\n",
       "      <th>SK</th>\n",
       "      <th>GSI1SK</th>\n",
       "      <th>PK</th>\n",
       "      <th>totalItems</th>\n",
       "      <th>quantity</th>\n",
       "      <th>productId</th>\n",
       "    </tr>\n",
       "  </thead>\n",
       "  <tbody>\n",
       "    <tr>\n",
       "      <th>0</th>\n",
       "      <td>2022-01-09</td>\n",
       "      <td>USER#dave@example.com</td>\n",
       "      <td>60</td>\n",
       "      <td>1009</td>\n",
       "      <td>dave@example.com</td>\n",
       "      <td>completed</td>\n",
       "      <td>ORDER#1009</td>\n",
       "      <td>OSTATUS#completed</td>\n",
       "      <td>ORDER#1009</td>\n",
       "      <td>3</td>\n",
       "      <td>NaN</td>\n",
       "      <td>NaN</td>\n",
       "    </tr>\n",
       "    <tr>\n",
       "      <th>1</th>\n",
       "      <td>NaN</td>\n",
       "      <td>NaN</td>\n",
       "      <td>27</td>\n",
       "      <td>1009</td>\n",
       "      <td>user9@mail.com</td>\n",
       "      <td>NaN</td>\n",
       "      <td>PRODUCT#901</td>\n",
       "      <td>NaN</td>\n",
       "      <td>ORDER#1009</td>\n",
       "      <td>NaN</td>\n",
       "      <td>2</td>\n",
       "      <td>901</td>\n",
       "    </tr>\n",
       "    <tr>\n",
       "      <th>2</th>\n",
       "      <td>NaN</td>\n",
       "      <td>NaN</td>\n",
       "      <td>21</td>\n",
       "      <td>1009</td>\n",
       "      <td>user9@mail.com</td>\n",
       "      <td>NaN</td>\n",
       "      <td>PRODUCT#902</td>\n",
       "      <td>NaN</td>\n",
       "      <td>ORDER#1009</td>\n",
       "      <td>NaN</td>\n",
       "      <td>1</td>\n",
       "      <td>902</td>\n",
       "    </tr>\n",
       "  </tbody>\n",
       "</table>\n",
       "</div>"
      ],
      "text/plain": [
       "  purchaseDate                 GSI1PK totalAmount orderId            userId  \\\n",
       "0   2022-01-09  USER#dave@example.com          60    1009  dave@example.com   \n",
       "1          NaN                    NaN          27    1009    user9@mail.com   \n",
       "2          NaN                    NaN          21    1009    user9@mail.com   \n",
       "\n",
       "      status           SK             GSI1SK          PK totalItems quantity  \\\n",
       "0  completed   ORDER#1009  OSTATUS#completed  ORDER#1009          3      NaN   \n",
       "1        NaN  PRODUCT#901                NaN  ORDER#1009        NaN        2   \n",
       "2        NaN  PRODUCT#902                NaN  ORDER#1009        NaN        1   \n",
       "\n",
       "  productId  \n",
       "0       NaN  \n",
       "1       901  \n",
       "2       902  "
      ]
     },
     "execution_count": 65,
     "metadata": {},
     "output_type": "execute_result"
    }
   ],
   "source": [
    "dt.query_items(query=\"ORDER#1009\", to_pandas=True)"
   ]
  },
  {
   "cell_type": "code",
   "execution_count": 67,
   "metadata": {},
   "outputs": [
    {
     "data": {
      "text/plain": [
       "{'GSI1-SK': 'PNAME#product 13',\n",
       " 'GSI1-PK': 'PRODUCT',\n",
       " 'name': 'Product 13',\n",
       " 'GSI3-SK': 9.99,\n",
       " 'GSI2-SK': 'category c',\n",
       " 'category': 'Category C',\n",
       " 'images': 'image41.jpg,image42.jpg,image43.jpg,image44.jpg',\n",
       " 'SK': 'PRODUCT#502',\n",
       " 'amountSold': 200,\n",
       " 'description': 'Description for Product 13',\n",
       " 'price': 9.99,\n",
       " 'PK': 'PRODUCT#502',\n",
       " 'writersId': 'Writer 3',\n",
       " 'productId': 502}"
      ]
     },
     "execution_count": 67,
     "metadata": {},
     "output_type": "execute_result"
    }
   ],
   "source": [
    "dt.get_item(pk_value='PRODUCT#502', sk_value='PRODUCT#502')"
   ]
  },
  {
   "cell_type": "code",
   "execution_count": null,
   "metadata": {},
   "outputs": [],
   "source": [
    "# __ begin_with\n",
    "# 304_320 between\n",
    "# < min\n",
    "# <= min equal\n",
    "# > max\n",
    "# >= max equal\n",
    "# == equal"
   ]
  },
  {
   "cell_type": "code",
   "execution_count": 94,
   "metadata": {},
   "outputs": [
    {
     "name": "stdout",
     "output_type": "stream",
     "text": [
      "Help on class Key in module boto3.dynamodb.conditions:\n",
      "\n",
      "class Key(AttributeBase)\n",
      " |  Key(name)\n",
      " |  \n",
      " |  Method resolution order:\n",
      " |      Key\n",
      " |      AttributeBase\n",
      " |      builtins.object\n",
      " |  \n",
      " |  Data and other attributes defined here:\n",
      " |  \n",
      " |  __slotnames__ = []\n",
      " |  \n",
      " |  ----------------------------------------------------------------------\n",
      " |  Methods inherited from AttributeBase:\n",
      " |  \n",
      " |  __and__(self, value)\n",
      " |  \n",
      " |  __eq__(self, other)\n",
      " |      Return self==value.\n",
      " |  \n",
      " |  __init__(self, name)\n",
      " |      Initialize self.  See help(type(self)) for accurate signature.\n",
      " |  \n",
      " |  __invert__(self)\n",
      " |  \n",
      " |  __ne__(self, other)\n",
      " |      Return self!=value.\n",
      " |  \n",
      " |  __or__(self, value)\n",
      " |      Return self|value.\n",
      " |  \n",
      " |  begins_with(self, value)\n",
      " |      Creates a condition where the attribute begins with the value.\n",
      " |      \n",
      " |      :param value: The value that the attribute begins with.\n",
      " |  \n",
      " |  between(self, low_value, high_value)\n",
      " |      Creates a condition where the attribute is greater than or equal\n",
      " |      to the low value and less than or equal to the high value.\n",
      " |      \n",
      " |      :param low_value: The value that the attribute is greater than or equal to.\n",
      " |      :param high_value: The value that the attribute is less than or equal to.\n",
      " |  \n",
      " |  eq(self, value)\n",
      " |      Creates a condition where the attribute is equal to the value.\n",
      " |      \n",
      " |      :param value: The value that the attribute is equal to.\n",
      " |  \n",
      " |  gt(self, value)\n",
      " |      Creates a condition where the attribute is greater than the value.\n",
      " |      \n",
      " |      :param value: The value that the attribute is greater than.\n",
      " |  \n",
      " |  gte(self, value)\n",
      " |      Creates a condition where the attribute is greater than or equal to\n",
      " |         the value.\n",
      " |      \n",
      " |      :param value: The value that the attribute is greater than or equal to.\n",
      " |  \n",
      " |  lt(self, value)\n",
      " |      Creates a condition where the attribute is less than the value.\n",
      " |      \n",
      " |      :param value: The value that the attribute is less than.\n",
      " |  \n",
      " |  lte(self, value)\n",
      " |      Creates a condition where the attribute is less than or equal to the\n",
      " |         value.\n",
      " |      \n",
      " |      :param value: The value that the attribute is less than or equal to.\n",
      " |  \n",
      " |  ----------------------------------------------------------------------\n",
      " |  Data descriptors inherited from AttributeBase:\n",
      " |  \n",
      " |  __dict__\n",
      " |      dictionary for instance variables (if defined)\n",
      " |  \n",
      " |  __weakref__\n",
      " |      list of weak references to the object (if defined)\n",
      " |  \n",
      " |  ----------------------------------------------------------------------\n",
      " |  Data and other attributes inherited from AttributeBase:\n",
      " |  \n",
      " |  __hash__ = None\n",
      "\n"
     ]
    }
   ],
   "source": [
    "help(Key)"
   ]
  },
  {
   "cell_type": "code",
   "execution_count": 97,
   "metadata": {},
   "outputs": [
    {
     "data": {
      "text/plain": [
       "{'Items': [{'GSI1-SK': 'PNAME#product 19',\n",
       "   'GSI1-PK': 'PRODUCT',\n",
       "   'name': 'Product 19',\n",
       "   'GSI3-SK': Decimal('4.99'),\n",
       "   'GSI2-SK': 'category c',\n",
       "   'category': 'Category C',\n",
       "   'images': 'image66.jpg,image67.jpg,image68.jpg,image69.jpg,image70.jpg',\n",
       "   'SK': 'PRODUCT#900',\n",
       "   'amountSold': Decimal('150'),\n",
       "   'description': 'Description for Product 19',\n",
       "   'price': Decimal('4.99'),\n",
       "   'PK': 'PRODUCT#900',\n",
       "   'writersId': 'Writer 9',\n",
       "   'productId': Decimal('900')},\n",
       "  {'GSI1-SK': 'PNAME#product 9',\n",
       "   'GSI1-PK': 'PRODUCT',\n",
       "   'name': 'Product 9',\n",
       "   'GSI3-SK': Decimal('4.99'),\n",
       "   'GSI2-SK': 'category a',\n",
       "   'category': 'Category A',\n",
       "   'images': 'image27.jpg,image28.jpg,image29.jpg,image30.jpg',\n",
       "   'SK': 'PRODUCT#401',\n",
       "   'amountSold': Decimal('150'),\n",
       "   'description': 'Description for Product 9',\n",
       "   'price': Decimal('4.99'),\n",
       "   'PK': 'PRODUCT#401',\n",
       "   'writersId': 'Writer 9',\n",
       "   'productId': Decimal('401')}],\n",
       " 'Count': 2,\n",
       " 'ScannedCount': 2,\n",
       " 'ResponseMetadata': {'RequestId': 'UAK5HUT5QB6AQ434MLB9H7A7L7VV4KQNSO5AEMVJF66Q9ASUAAJG',\n",
       "  'HTTPStatusCode': 200,\n",
       "  'HTTPHeaders': {'server': 'Server',\n",
       "   'date': 'Wed, 10 May 2023 00:07:18 GMT',\n",
       "   'content-type': 'application/x-amz-json-1.0',\n",
       "   'content-length': '915',\n",
       "   'connection': 'keep-alive',\n",
       "   'x-amzn-requestid': 'UAK5HUT5QB6AQ434MLB9H7A7L7VV4KQNSO5AEMVJF66Q9ASUAAJG',\n",
       "   'x-amz-crc32': '1301092324'},\n",
       "  'RetryAttempts': 0}}"
      ]
     },
     "execution_count": 97,
     "metadata": {},
     "output_type": "execute_result"
    }
   ],
   "source": [
    "from boto3.dynamodb.conditions import Key, Attr\n",
    "qry = Key('GSI1-PK').eq('PRODUCT') & Key('GSI3-SK').lt(5)\n",
    "dt.table.query(\n",
    "    IndexName=\"GSI3\",\n",
    "    KeyConditionExpression=qry\n",
    ")"
   ]
  },
  {
   "cell_type": "code",
   "execution_count": null,
   "metadata": {},
   "outputs": [],
   "source": [
    "dt.table.query(\n",
    "    IndexName=\"GSI1\",\n",
    "    KeyConditionExpression=Key('GSI1-PK').eq('"
   ]
  }
 ],
 "metadata": {
  "kernelspec": {
   "display_name": "personal",
   "language": "python",
   "name": "python3"
  },
  "language_info": {
   "codemirror_mode": {
    "name": "ipython",
    "version": 3
   },
   "file_extension": ".py",
   "mimetype": "text/x-python",
   "name": "python",
   "nbconvert_exporter": "python",
   "pygments_lexer": "ipython3",
   "version": "3.11.3"
  },
  "orig_nbformat": 4
 },
 "nbformat": 4,
 "nbformat_minor": 2
}
