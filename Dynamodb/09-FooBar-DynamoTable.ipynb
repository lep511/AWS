{
 "cells": [
  {
   "cell_type": "code",
   "execution_count": 1,
   "metadata": {},
   "outputs": [],
   "source": [
    "import pandas as pd\n",
    "from spdynamodb import DynamoTable\n",
    "from time import sleep\n",
    "import json\n",
    "import time\n",
    "from decimal import Decimal"
   ]
  },
  {
   "cell_type": "code",
   "execution_count": 2,
   "metadata": {},
   "outputs": [
    {
     "name": "stdout",
     "output_type": "stream",
     "text": [
      "- Table name: FooBarTable            \n",
      "- Table arn: arn:aws:dynamodb:us-east-1:089715336747:table/FooBarTable            \n",
      "- Table creation: 2023-05-09 13:52:59.830000-03:00            \n",
      "- [{'AttributeName': 'PK', 'KeyType': 'HASH'}, {'AttributeName': 'SK', 'KeyType': 'RANGE'}]            \n",
      "- [{'AttributeName': 'GSI1-PK', 'AttributeType': 'S'}, {'AttributeName': 'GSI1-SK', 'AttributeType': 'S'}, {'AttributeName': 'GSI2-SK', 'AttributeType': 'S'}, {'AttributeName': 'GSI3-SK', 'AttributeType': 'N'}, {'AttributeName': 'PK', 'AttributeType': 'S'}, {'AttributeName': 'SK', 'AttributeType': 'S'}, {'AttributeName': 'purchaseDate', 'AttributeType': 'S'}]            \n",
      "- Point-in-time recovery status: DISABLED  |  Delete protection: True\n"
     ]
    }
   ],
   "source": [
    "#dt = DynamoTable(profile_name='my-profile')\n",
    "dt=DynamoTable()\n",
    "try:\n",
    "    dt.select_table('FooBarTable')\n",
    "    print(dt)\n",
    "except:\n",
    "    dt.create_table(\n",
    "        table_name='FooBarTable',\n",
    "        partition_key='PK',\n",
    "        partition_key_type='S',\n",
    "        sort_key='SK',\n",
    "        sort_key_type='S',\n",
    "    )"
   ]
  },
  {
   "attachments": {},
   "cell_type": "markdown",
   "metadata": {},
   "source": [
    "### Create 3 global secondary indexes"
   ]
  },
  {
   "cell_type": "code",
   "execution_count": null,
   "metadata": {},
   "outputs": [],
   "source": [
    "# 1st Global Secondary Index\n",
    "dt.create_global_secondary_index(\n",
    "    att_name=\"GSI1-PK\",\n",
    "    att_type=\"S\",\n",
    "    sort_index=\"GSI1-SK\",\n",
    "    sort_type=\"S\",\n",
    "    i_name=\"GSI1\"\n",
    ")\n",
    "\n",
    "status = dt.check_status_gsi()\n",
    "if status == 'CREATING':\n",
    "    print(\"1st global secondary index is being created, this may take a few minutes...\")\n",
    "    start = time.time()\n",
    "    while status == 'CREATING':\n",
    "        status = dt.check_status_gsi()\n",
    "        sleep(30)\n",
    "end = time.time()\n",
    "minute = (end - start) / 60\n",
    "print(\"Global secondary index created. Time elapsed: {0:.2f} minute\".format(minute))\n",
    "\n",
    "# 2nd Global Secondary Index\n",
    "dt.create_global_secondary_index(\n",
    "    att_name=\"GSI1-PK\",\n",
    "    att_type=\"S\",\n",
    "    sort_index=\"GSI2-SK\",\n",
    "    sort_type=\"S\",\n",
    "    i_name=\"GSI2\"\n",
    ")\n",
    "\n",
    "status = dt.check_status_gsi()\n",
    "if status == 'CREATING':\n",
    "    print(\"2nd global secondary index is being created, this may take a few minutes...\")\n",
    "    start = time.time()\n",
    "    while status == 'CREATING':\n",
    "        status = dt.check_status_gsi()\n",
    "        sleep(30)\n",
    "end = time.time()\n",
    "minute = (end - start) / 60\n",
    "print(\"Global secondary index created. Time elapsed: {0:.2f} minute\".format(minute))\n",
    "\n",
    "# 3rd Global Secondary Index\n",
    "dt.create_global_secondary_index(\n",
    "    att_name=\"GSI1-PK\",\n",
    "    att_type=\"S\",\n",
    "    sort_index=\"GSI3-SK\",\n",
    "    sort_type=\"N\",\n",
    "    i_name=\"GSI3\"\n",
    ")\n",
    "\n",
    "status = dt.check_status_gsi()\n",
    "if status == 'CREATING':\n",
    "    print(\"3rd global secondary index is being created, this may take a few minutes...\")\n",
    "    start = time.time()\n",
    "    while status == 'CREATING':\n",
    "        status = dt.check_status_gsi()\n",
    "        sleep(30)\n",
    "end = time.time()\n",
    "minute = (end - start) / 60\n",
    "print(\"Global secondary index created. Time elapsed: {0:.2f} minute\".format(minute))"
   ]
  },
  {
   "attachments": {},
   "cell_type": "markdown",
   "metadata": {},
   "source": [
    "### Users Table"
   ]
  },
  {
   "cell_type": "code",
   "execution_count": null,
   "metadata": {},
   "outputs": [],
   "source": [
    "df_users = pd.read_csv('DesigningDynamoDBTable-1/users.csv')\n",
    "\n",
    "df_users['PK'] = 'USER#' + df_users['email'].astype(str)\n",
    "df_users['SK'] = 'USER#' + df_users['email'].astype(str)\n",
    "df_users.head()"
   ]
  },
  {
   "attachments": {},
   "cell_type": "markdown",
   "metadata": {},
   "source": [
    "### Orders Table"
   ]
  },
  {
   "cell_type": "code",
   "execution_count": 6,
   "metadata": {},
   "outputs": [
    {
     "data": {
      "text/html": [
       "<div>\n",
       "<style scoped>\n",
       "    .dataframe tbody tr th:only-of-type {\n",
       "        vertical-align: middle;\n",
       "    }\n",
       "\n",
       "    .dataframe tbody tr th {\n",
       "        vertical-align: top;\n",
       "    }\n",
       "\n",
       "    .dataframe thead th {\n",
       "        text-align: right;\n",
       "    }\n",
       "</style>\n",
       "<table border=\"1\" class=\"dataframe\">\n",
       "  <thead>\n",
       "    <tr style=\"text-align: right;\">\n",
       "      <th></th>\n",
       "      <th>orderId</th>\n",
       "      <th>userId</th>\n",
       "      <th>purchaseDate</th>\n",
       "      <th>status</th>\n",
       "      <th>totalAmount</th>\n",
       "      <th>totalItems</th>\n",
       "      <th>PK</th>\n",
       "      <th>SK</th>\n",
       "      <th>GSI1-PK</th>\n",
       "      <th>GSI1-SK</th>\n",
       "    </tr>\n",
       "  </thead>\n",
       "  <tbody>\n",
       "    <tr>\n",
       "      <th>0</th>\n",
       "      <td>1001</td>\n",
       "      <td>john@example.com</td>\n",
       "      <td>2022-01-01</td>\n",
       "      <td>completed</td>\n",
       "      <td>100.0</td>\n",
       "      <td>2</td>\n",
       "      <td>ORDER#1001</td>\n",
       "      <td>ORDER#1001</td>\n",
       "      <td>USER#john@example.com</td>\n",
       "      <td>OSTATUS#completed</td>\n",
       "    </tr>\n",
       "    <tr>\n",
       "      <th>1</th>\n",
       "      <td>1002</td>\n",
       "      <td>jane@example.com</td>\n",
       "      <td>2022-01-02</td>\n",
       "      <td>completed</td>\n",
       "      <td>50.0</td>\n",
       "      <td>1</td>\n",
       "      <td>ORDER#1002</td>\n",
       "      <td>ORDER#1002</td>\n",
       "      <td>USER#jane@example.com</td>\n",
       "      <td>OSTATUS#completed</td>\n",
       "    </tr>\n",
       "    <tr>\n",
       "      <th>2</th>\n",
       "      <td>1003</td>\n",
       "      <td>smith@example.com</td>\n",
       "      <td>2022-01-03</td>\n",
       "      <td>shipped</td>\n",
       "      <td>75.0</td>\n",
       "      <td>3</td>\n",
       "      <td>ORDER#1003</td>\n",
       "      <td>ORDER#1003</td>\n",
       "      <td>USER#smith@example.com</td>\n",
       "      <td>OSTATUS#shipped</td>\n",
       "    </tr>\n",
       "    <tr>\n",
       "      <th>3</th>\n",
       "      <td>1004</td>\n",
       "      <td>doe@example.com</td>\n",
       "      <td>2022-01-04</td>\n",
       "      <td>pending</td>\n",
       "      <td>20.0</td>\n",
       "      <td>1</td>\n",
       "      <td>ORDER#1004</td>\n",
       "      <td>ORDER#1004</td>\n",
       "      <td>USER#doe@example.com</td>\n",
       "      <td>OSTATUS#pending</td>\n",
       "    </tr>\n",
       "    <tr>\n",
       "      <th>4</th>\n",
       "      <td>1005</td>\n",
       "      <td>mike@example.com</td>\n",
       "      <td>2022-01-05</td>\n",
       "      <td>completed</td>\n",
       "      <td>30.0</td>\n",
       "      <td>2</td>\n",
       "      <td>ORDER#1005</td>\n",
       "      <td>ORDER#1005</td>\n",
       "      <td>USER#mike@example.com</td>\n",
       "      <td>OSTATUS#completed</td>\n",
       "    </tr>\n",
       "  </tbody>\n",
       "</table>\n",
       "</div>"
      ],
      "text/plain": [
       "   orderId             userId purchaseDate     status  totalAmount  \\\n",
       "0     1001   john@example.com   2022-01-01  completed        100.0   \n",
       "1     1002   jane@example.com   2022-01-02  completed         50.0   \n",
       "2     1003  smith@example.com   2022-01-03    shipped         75.0   \n",
       "3     1004    doe@example.com   2022-01-04    pending         20.0   \n",
       "4     1005   mike@example.com   2022-01-05  completed         30.0   \n",
       "\n",
       "   totalItems          PK          SK                 GSI1-PK  \\\n",
       "0           2  ORDER#1001  ORDER#1001   USER#john@example.com   \n",
       "1           1  ORDER#1002  ORDER#1002   USER#jane@example.com   \n",
       "2           3  ORDER#1003  ORDER#1003  USER#smith@example.com   \n",
       "3           1  ORDER#1004  ORDER#1004    USER#doe@example.com   \n",
       "4           2  ORDER#1005  ORDER#1005   USER#mike@example.com   \n",
       "\n",
       "             GSI1-SK  \n",
       "0  OSTATUS#completed  \n",
       "1  OSTATUS#completed  \n",
       "2    OSTATUS#shipped  \n",
       "3    OSTATUS#pending  \n",
       "4  OSTATUS#completed  "
      ]
     },
     "execution_count": 6,
     "metadata": {},
     "output_type": "execute_result"
    }
   ],
   "source": [
    "df_orders = pd.read_csv('DesigningDynamoDBTable-1/orders.csv')\n",
    "\n",
    "df_orders['PK'] = 'ORDER#' + df_orders['orderId'].astype(str)\n",
    "df_orders['SK'] = 'ORDER#' + df_orders['orderId'].astype(str)\n",
    "df_orders['GSI1-PK'] = 'USER#' + df_orders['userId'].astype(str)\n",
    "df_orders['GSI1-SK'] = 'OSTATUS#' + df_orders['status'].astype(str)\n",
    "df_orders.head()"
   ]
  },
  {
   "cell_type": "code",
   "execution_count": null,
   "metadata": {},
   "outputs": [],
   "source": [
    "df_orders"
   ]
  },
  {
   "attachments": {},
   "cell_type": "markdown",
   "metadata": {},
   "source": [
    "### Order details Table"
   ]
  },
  {
   "cell_type": "code",
   "execution_count": null,
   "metadata": {},
   "outputs": [],
   "source": [
    "df_order_details = pd.read_csv('DesigningDynamoDBTable-1/order_items.csv')\n",
    "\n",
    "df_order_details['orderId'] = df_order_details['orderId'] + 1000\n",
    "df_order_details['PK'] = 'ORDER#' + df_order_details['orderId'].astype(str)\n",
    "df_order_details['SK'] = 'PRODUCT#' + df_order_details['productId'].astype(str)\n",
    "df_order_details.head()"
   ]
  },
  {
   "attachments": {},
   "cell_type": "markdown",
   "metadata": {},
   "source": [
    "### Products Table"
   ]
  },
  {
   "cell_type": "code",
   "execution_count": null,
   "metadata": {},
   "outputs": [],
   "source": [
    "df_products = pd.read_csv('DesigningDynamoDBTable-1/products.csv')\n",
    "values = [100,101,102,200,201,202,301,400,401,402,500,501,502,601,701,702,801,802,900,902]\n",
    "df_products['productId'] = values\n",
    "df_products['PK'] = 'PRODUCT#' + df_products['productId'].astype(str)\n",
    "df_products['SK'] = 'PRODUCT#' + df_products['productId'].astype(str)\n",
    "df_products['GSI1-PK'] = 'PRODUCT'\n",
    "df_products['GSI1-SK'] = 'PNAME#' + df_products['name'].astype(str).str.lower()\n",
    "df_products['GSI2-SK'] =  df_products['category'].astype(str).str.lower()\n",
    "df_products['GSI3-SK'] =  df_products['price']\n",
    "df_products.head()"
   ]
  },
  {
   "attachments": {},
   "cell_type": "markdown",
   "metadata": {},
   "source": [
    "### Add data to DynamoDB"
   ]
  },
  {
   "cell_type": "code",
   "execution_count": null,
   "metadata": {},
   "outputs": [],
   "source": [
    "dt.batch_pandas(dataframe=df_users)"
   ]
  },
  {
   "cell_type": "code",
   "execution_count": 75,
   "metadata": {},
   "outputs": [],
   "source": [
    "dt.batch_pandas(dataframe=df_orders)"
   ]
  },
  {
   "cell_type": "code",
   "execution_count": null,
   "metadata": {},
   "outputs": [],
   "source": [
    "dt.batch_pandas(dataframe=df_order_details)"
   ]
  },
  {
   "cell_type": "code",
   "execution_count": null,
   "metadata": {},
   "outputs": [],
   "source": [
    "dt.batch_pandas(dataframe=df_products)"
   ]
  },
  {
   "attachments": {},
   "cell_type": "markdown",
   "metadata": {},
   "source": [
    "### Querying the table"
   ]
  },
  {
   "cell_type": "code",
   "execution_count": 3,
   "metadata": {},
   "outputs": [
    {
     "data": {
      "text/html": [
       "<div>\n",
       "<style scoped>\n",
       "    .dataframe tbody tr th:only-of-type {\n",
       "        vertical-align: middle;\n",
       "    }\n",
       "\n",
       "    .dataframe tbody tr th {\n",
       "        vertical-align: top;\n",
       "    }\n",
       "\n",
       "    .dataframe thead th {\n",
       "        text-align: right;\n",
       "    }\n",
       "</style>\n",
       "<table border=\"1\" class=\"dataframe\">\n",
       "  <thead>\n",
       "    <tr style=\"text-align: right;\">\n",
       "      <th></th>\n",
       "      <th>purchaseDate</th>\n",
       "      <th>totalAmount</th>\n",
       "      <th>orderId</th>\n",
       "      <th>userId</th>\n",
       "      <th>status</th>\n",
       "      <th>GSI1-SK</th>\n",
       "      <th>SK</th>\n",
       "      <th>GSI1-PK</th>\n",
       "      <th>PK</th>\n",
       "      <th>totalItems</th>\n",
       "      <th>quantity</th>\n",
       "      <th>productId</th>\n",
       "    </tr>\n",
       "  </thead>\n",
       "  <tbody>\n",
       "    <tr>\n",
       "      <th>0</th>\n",
       "      <td>2022-01-09</td>\n",
       "      <td>60</td>\n",
       "      <td>1009</td>\n",
       "      <td>dave@example.com</td>\n",
       "      <td>completed</td>\n",
       "      <td>OSTATUS#completed</td>\n",
       "      <td>ORDER#1009</td>\n",
       "      <td>USER#dave@example.com</td>\n",
       "      <td>ORDER#1009</td>\n",
       "      <td>3</td>\n",
       "      <td>NaN</td>\n",
       "      <td>NaN</td>\n",
       "    </tr>\n",
       "    <tr>\n",
       "      <th>1</th>\n",
       "      <td>NaN</td>\n",
       "      <td>27</td>\n",
       "      <td>1009</td>\n",
       "      <td>user9@mail.com</td>\n",
       "      <td>NaN</td>\n",
       "      <td>NaN</td>\n",
       "      <td>PRODUCT#901</td>\n",
       "      <td>NaN</td>\n",
       "      <td>ORDER#1009</td>\n",
       "      <td>NaN</td>\n",
       "      <td>2</td>\n",
       "      <td>901</td>\n",
       "    </tr>\n",
       "    <tr>\n",
       "      <th>2</th>\n",
       "      <td>NaN</td>\n",
       "      <td>21</td>\n",
       "      <td>1009</td>\n",
       "      <td>user9@mail.com</td>\n",
       "      <td>NaN</td>\n",
       "      <td>NaN</td>\n",
       "      <td>PRODUCT#902</td>\n",
       "      <td>NaN</td>\n",
       "      <td>ORDER#1009</td>\n",
       "      <td>NaN</td>\n",
       "      <td>1</td>\n",
       "      <td>902</td>\n",
       "    </tr>\n",
       "  </tbody>\n",
       "</table>\n",
       "</div>"
      ],
      "text/plain": [
       "  purchaseDate totalAmount orderId            userId     status  \\\n",
       "0   2022-01-09          60    1009  dave@example.com  completed   \n",
       "1          NaN          27    1009    user9@mail.com        NaN   \n",
       "2          NaN          21    1009    user9@mail.com        NaN   \n",
       "\n",
       "             GSI1-SK           SK                GSI1-PK          PK  \\\n",
       "0  OSTATUS#completed   ORDER#1009  USER#dave@example.com  ORDER#1009   \n",
       "1                NaN  PRODUCT#901                    NaN  ORDER#1009   \n",
       "2                NaN  PRODUCT#902                    NaN  ORDER#1009   \n",
       "\n",
       "  totalItems quantity productId  \n",
       "0          3      NaN       NaN  \n",
       "1        NaN        2       901  \n",
       "2        NaN        1       902  "
      ]
     },
     "execution_count": 3,
     "metadata": {},
     "output_type": "execute_result"
    }
   ],
   "source": [
    "dt.query_items(query=\"ORDER#1009\", to_pandas=True)"
   ]
  },
  {
   "cell_type": "code",
   "execution_count": 1,
   "metadata": {},
   "outputs": [],
   "source": [
    "from importlib import reload\n",
    "import spdynamodb\n",
    "reload(spdynamodb)\n",
    "reload(spdynamodb._queries)\n",
    "from spdynamodb import DynamoTable\n",
    "dt = DynamoTable()\n",
    "dt.select_table('FooBarTable')"
   ]
  },
  {
   "cell_type": "code",
   "execution_count": 40,
   "metadata": {},
   "outputs": [
    {
     "data": {
      "text/plain": [
       "'2020-03-14T15:32:52'"
      ]
     },
     "execution_count": 40,
     "metadata": {},
     "output_type": "execute_result"
    }
   ],
   "source": [
    "ts = pd.Timestamp('2020-03-14T15:32:52.192548651')\n",
    "ts.isoformat()\n",
    "ts.isoformat(timespec='seconds')"
   ]
  },
  {
   "cell_type": "code",
   "execution_count": 41,
   "metadata": {},
   "outputs": [
    {
     "data": {
      "text/plain": [
       "{'ResponseMetadata': {'RequestId': '6TU5IQ4VAHLIFCKRGNG0AM49UVVV4KQNSO5AEMVJF66Q9ASUAAJG',\n",
       "  'HTTPStatusCode': 200,\n",
       "  'HTTPHeaders': {'server': 'Server',\n",
       "   'date': 'Thu, 11 May 2023 21:29:32 GMT',\n",
       "   'content-type': 'application/x-amz-json-1.0',\n",
       "   'content-length': '2',\n",
       "   'connection': 'keep-alive',\n",
       "   'x-amzn-requestid': '6TU5IQ4VAHLIFCKRGNG0AM49UVVV4KQNSO5AEMVJF66Q9ASUAAJG',\n",
       "   'x-amz-crc32': '2745614147'},\n",
       "  'RetryAttempts': 0}}"
      ]
     },
     "execution_count": 41,
     "metadata": {},
     "output_type": "execute_result"
    }
   ],
   "source": [
    "dt.table.put_item(\n",
    "    Item={\n",
    "        'PK': 'ORDER#1011',\n",
    "        'SK': 'ORDER#1011',\n",
    "        'purchaseDate': '2020-03-14T15:32:52'\n",
    "    }\n",
    ")\n",
    "dt.table.put_item(\n",
    "    Item={\n",
    "        'PK': 'ORDER#1011',\n",
    "        'SK': 'ORDER#1012',\n",
    "        'purchaseDate': '2020-03-15T15:32:52'\n",
    "    }\n",
    ")\n",
    "dt.table.put_item(\n",
    "    Item={\n",
    "        'PK': 'ORDER#1011',\n",
    "        'SK': 'ORDER#1013',\n",
    "        'purchaseDate': '2020-03-17T15:32:52'\n",
    "    }\n",
    ")\n",
    "dt.table.put_item(\n",
    "    Item={\n",
    "        'PK': 'ORDER#1011',\n",
    "        'SK': 'ORDER#1014',\n",
    "        'purchaseDate': '2020-03-19T15:32:52'\n",
    "    }\n",
    ")"
   ]
  },
  {
   "cell_type": "code",
   "execution_count": 36,
   "metadata": {},
   "outputs": [
    {
     "data": {
      "text/plain": [
       "<re.Match object; span=(6, 9), match='4_5'>"
      ]
     },
     "execution_count": 36,
     "metadata": {},
     "output_type": "execute_result"
    }
   ],
   "source": [
    "import re\n",
    "query = '8881254_5564555555'\n",
    "re.search(r'[0-9]_[0-9]', query)"
   ]
  },
  {
   "cell_type": "code",
   "execution_count": 23,
   "metadata": {},
   "outputs": [
    {
     "name": "stdout",
     "output_type": "stream",
     "text": [
      "Consumed Capacity: 0.5\n"
     ]
    },
    {
     "data": {
      "text/html": [
       "<div>\n",
       "<style scoped>\n",
       "    .dataframe tbody tr th:only-of-type {\n",
       "        vertical-align: middle;\n",
       "    }\n",
       "\n",
       "    .dataframe tbody tr th {\n",
       "        vertical-align: top;\n",
       "    }\n",
       "\n",
       "    .dataframe thead th {\n",
       "        text-align: right;\n",
       "    }\n",
       "</style>\n",
       "<table border=\"1\" class=\"dataframe\">\n",
       "  <thead>\n",
       "    <tr style=\"text-align: right;\">\n",
       "      <th></th>\n",
       "      <th>purchaseDate</th>\n",
       "      <th>SK</th>\n",
       "      <th>PK</th>\n",
       "    </tr>\n",
       "  </thead>\n",
       "  <tbody>\n",
       "    <tr>\n",
       "      <th>0</th>\n",
       "      <td>2020-03-14T15:32:52</td>\n",
       "      <td>ORDER#1011</td>\n",
       "      <td>ORDER#1011</td>\n",
       "    </tr>\n",
       "    <tr>\n",
       "      <th>1</th>\n",
       "      <td>2020-03-15T15:32:52</td>\n",
       "      <td>ORDER#1012</td>\n",
       "      <td>ORDER#1011</td>\n",
       "    </tr>\n",
       "    <tr>\n",
       "      <th>2</th>\n",
       "      <td>2020-03-17T15:32:52</td>\n",
       "      <td>ORDER#1013</td>\n",
       "      <td>ORDER#1011</td>\n",
       "    </tr>\n",
       "    <tr>\n",
       "      <th>3</th>\n",
       "      <td>2020-03-19T15:32:52</td>\n",
       "      <td>ORDER#1014</td>\n",
       "      <td>ORDER#1011</td>\n",
       "    </tr>\n",
       "  </tbody>\n",
       "</table>\n",
       "</div>"
      ],
      "text/plain": [
       "          purchaseDate          SK          PK\n",
       "0  2020-03-14T15:32:52  ORDER#1011  ORDER#1011\n",
       "1  2020-03-15T15:32:52  ORDER#1012  ORDER#1011\n",
       "2  2020-03-17T15:32:52  ORDER#1013  ORDER#1011\n",
       "3  2020-03-19T15:32:52  ORDER#1014  ORDER#1011"
      ]
     },
     "execution_count": 23,
     "metadata": {},
     "output_type": "execute_result"
    }
   ],
   "source": [
    "query = '2015-01-01T00:00:00_2023-03-17T23:59:59'\n",
    "dt.query(pk_value='ORDER#1011', sk_value=query, consumed_capacity='TOTAL', index_name='GSI4', to_pandas=True)"
   ]
  },
  {
   "cell_type": "code",
   "execution_count": 17,
   "metadata": {},
   "outputs": [
    {
     "name": "stdout",
     "output_type": "stream",
     "text": [
      "Consumed Capacity: 0.5\n"
     ]
    },
    {
     "data": {
      "text/html": [
       "<div>\n",
       "<style scoped>\n",
       "    .dataframe tbody tr th:only-of-type {\n",
       "        vertical-align: middle;\n",
       "    }\n",
       "\n",
       "    .dataframe tbody tr th {\n",
       "        vertical-align: top;\n",
       "    }\n",
       "\n",
       "    .dataframe thead th {\n",
       "        text-align: right;\n",
       "    }\n",
       "</style>\n",
       "<table border=\"1\" class=\"dataframe\">\n",
       "  <thead>\n",
       "    <tr style=\"text-align: right;\">\n",
       "      <th></th>\n",
       "      <th>GSI1-SK</th>\n",
       "      <th>GSI1-PK</th>\n",
       "      <th>name</th>\n",
       "      <th>GSI3-SK</th>\n",
       "      <th>GSI2-SK</th>\n",
       "      <th>category</th>\n",
       "      <th>images</th>\n",
       "      <th>SK</th>\n",
       "      <th>amountSold</th>\n",
       "      <th>description</th>\n",
       "      <th>price</th>\n",
       "      <th>PK</th>\n",
       "      <th>writersId</th>\n",
       "      <th>productId</th>\n",
       "    </tr>\n",
       "  </thead>\n",
       "  <tbody>\n",
       "    <tr>\n",
       "      <th>0</th>\n",
       "      <td>PNAME#product 8</td>\n",
       "      <td>PRODUCT</td>\n",
       "      <td>Product 8</td>\n",
       "      <td>59.99</td>\n",
       "      <td>category b</td>\n",
       "      <td>Category B</td>\n",
       "      <td>image24.jpg,image25.jpg,image26.jpg</td>\n",
       "      <td>PRODUCT#400</td>\n",
       "      <td>60</td>\n",
       "      <td>Description for Product 8</td>\n",
       "      <td>59.99</td>\n",
       "      <td>PRODUCT#400</td>\n",
       "      <td>Writer 8</td>\n",
       "      <td>400</td>\n",
       "    </tr>\n",
       "    <tr>\n",
       "      <th>1</th>\n",
       "      <td>PNAME#product 18</td>\n",
       "      <td>PRODUCT</td>\n",
       "      <td>Product 18</td>\n",
       "      <td>59.99</td>\n",
       "      <td>category b</td>\n",
       "      <td>Category B</td>\n",
       "      <td>image62.jpg,image63.jpg,image64.jpg,image65.jpg</td>\n",
       "      <td>PRODUCT#802</td>\n",
       "      <td>60</td>\n",
       "      <td>Description for Product 18</td>\n",
       "      <td>59.99</td>\n",
       "      <td>PRODUCT#802</td>\n",
       "      <td>Writer 8</td>\n",
       "      <td>802</td>\n",
       "    </tr>\n",
       "  </tbody>\n",
       "</table>\n",
       "</div>"
      ],
      "text/plain": [
       "            GSI1-SK  GSI1-PK        name  GSI3-SK     GSI2-SK    category  \\\n",
       "0   PNAME#product 8  PRODUCT   Product 8    59.99  category b  Category B   \n",
       "1  PNAME#product 18  PRODUCT  Product 18    59.99  category b  Category B   \n",
       "\n",
       "                                            images           SK  amountSold  \\\n",
       "0              image24.jpg,image25.jpg,image26.jpg  PRODUCT#400          60   \n",
       "1  image62.jpg,image63.jpg,image64.jpg,image65.jpg  PRODUCT#802          60   \n",
       "\n",
       "                  description  price           PK writersId  productId  \n",
       "0   Description for Product 8  59.99  PRODUCT#400  Writer 8        400  \n",
       "1  Description for Product 18  59.99  PRODUCT#802  Writer 8        802  "
      ]
     },
     "execution_count": 17,
     "metadata": {},
     "output_type": "execute_result"
    }
   ],
   "source": [
    "dt.query(pk_value='PRODUCT', sk_value=\"==59.99\", consumed_capacity='TOTAL', index_name='GSI3', to_pandas=True)"
   ]
  },
  {
   "cell_type": "code",
   "execution_count": 4,
   "metadata": {},
   "outputs": [
    {
     "name": "stdout",
     "output_type": "stream",
     "text": [
      "Consumed Capacity: 0.5\n"
     ]
    },
    {
     "data": {
      "text/html": [
       "<div>\n",
       "<style scoped>\n",
       "    .dataframe tbody tr th:only-of-type {\n",
       "        vertical-align: middle;\n",
       "    }\n",
       "\n",
       "    .dataframe tbody tr th {\n",
       "        vertical-align: top;\n",
       "    }\n",
       "\n",
       "    .dataframe thead th {\n",
       "        text-align: right;\n",
       "    }\n",
       "</style>\n",
       "<table border=\"1\" class=\"dataframe\">\n",
       "  <thead>\n",
       "    <tr style=\"text-align: right;\">\n",
       "      <th></th>\n",
       "      <th>GSI1-SK</th>\n",
       "      <th>GSI1-PK</th>\n",
       "      <th>name</th>\n",
       "      <th>GSI3-SK</th>\n",
       "      <th>GSI2-SK</th>\n",
       "      <th>category</th>\n",
       "      <th>images</th>\n",
       "      <th>SK</th>\n",
       "      <th>amountSold</th>\n",
       "      <th>description</th>\n",
       "      <th>price</th>\n",
       "      <th>PK</th>\n",
       "      <th>writersId</th>\n",
       "      <th>productId</th>\n",
       "    </tr>\n",
       "  </thead>\n",
       "  <tbody>\n",
       "    <tr>\n",
       "      <th>0</th>\n",
       "      <td>PNAME#product 7</td>\n",
       "      <td>PRODUCT</td>\n",
       "      <td>Product 7</td>\n",
       "      <td>49.99</td>\n",
       "      <td>category c</td>\n",
       "      <td>Category C</td>\n",
       "      <td>image20.jpg,image21.jpg,image22.jpg,image23.jpg</td>\n",
       "      <td>PRODUCT#301</td>\n",
       "      <td>90</td>\n",
       "      <td>Description for Product 7</td>\n",
       "      <td>49.99</td>\n",
       "      <td>PRODUCT#301</td>\n",
       "      <td>Writer 7</td>\n",
       "      <td>301</td>\n",
       "    </tr>\n",
       "  </tbody>\n",
       "</table>\n",
       "</div>"
      ],
      "text/plain": [
       "           GSI1-SK  GSI1-PK       name  GSI3-SK     GSI2-SK    category  \\\n",
       "0  PNAME#product 7  PRODUCT  Product 7    49.99  category c  Category C   \n",
       "\n",
       "                                            images           SK  amountSold  \\\n",
       "0  image20.jpg,image21.jpg,image22.jpg,image23.jpg  PRODUCT#301          90   \n",
       "\n",
       "                 description  price           PK writersId  productId  \n",
       "0  Description for Product 7  49.99  PRODUCT#301  Writer 7        301  "
      ]
     },
     "execution_count": 4,
     "metadata": {},
     "output_type": "execute_result"
    }
   ],
   "source": [
    "dt.query(pk_value='PRODUCT#301', sk_value=\"PRODUCT*\", consumed_capacity='TOTAL', to_pandas=True)"
   ]
  }
 ],
 "metadata": {
  "kernelspec": {
   "display_name": "personal",
   "language": "python",
   "name": "python3"
  },
  "language_info": {
   "codemirror_mode": {
    "name": "ipython",
    "version": 3
   },
   "file_extension": ".py",
   "mimetype": "text/x-python",
   "name": "python",
   "nbconvert_exporter": "python",
   "pygments_lexer": "ipython3",
   "version": "3.10.8"
  },
  "orig_nbformat": 4
 },
 "nbformat": 4,
 "nbformat_minor": 2
}
