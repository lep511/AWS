{
 "cells": [
  {
   "attachments": {},
   "cell_type": "markdown",
   "metadata": {},
   "source": [
    "## Estrategias de clasificación\n",
    "\n",
    "Casi todo en DynamoDB fluye a través de las claves primarias. Esto se aplica a las relaciones, al filtrado y a la ordenación. Al igual que con las uniones y el filtrado, necesitas organizar tus elementos para que estén ordenados de antemano.\n",
    "\n",
    "Si necesita un orden específico al recuperar varios elementos en DynamoDB, debe seguir dos reglas principales. En primer lugar, debe utilizar una clave primaria compuesta. En segundo lugar, todo el ordenamiento debe realizarse con la clave de ordenación de una colección de elementos concreta.\n",
    "\n",
    "### Ordenación lexicográfica\n",
    "\n",
    "Una versión simplificada de la ordenación en bytes UTF-8 es decir que la ordenación es lexicográfica. Este orden es básicamente el orden del diccionario con dos salvedades:\n",
    "* Todas las mayúsculas van antes que las minúsculas\n",
    "* Los números y símbolos (por ejemplo, # o $) también son relevantes.\n",
    "\n",
    "Donde más tropiezos veo con el orden lexicográfico es en el olvido de la regla de las mayúsculas. Para evitar comportamientos extraños en torno a esto, se deben estandarizar las claves de ordenación en mayúsculas o minúsculas:\n",
    "\n"
   ]
  },
  {
   "cell_type": "code",
   "execution_count": 1,
   "metadata": {},
   "outputs": [],
   "source": [
    "import boto3\n",
    "from botocore.exceptions import ClientError\n",
    "import pandas as pd\n",
    "from spdynamodb import DynamoTable\n",
    "import json\n",
    "from decimal import Decimal\n",
    "from datetime import datetime\n",
    "from pprint import pprint"
   ]
  },
  {
   "cell_type": "code",
   "execution_count": 2,
   "metadata": {},
   "outputs": [
    {
     "name": "stdout",
     "output_type": "stream",
     "text": [
      "- Table name: SampleTable            \n",
      "- Table arn: arn:aws:dynamodb:us-east-1:466206880806:table/SampleTable            \n",
      "- Table creation: 2023-07-04 17:52:45            \n",
      "- [{'AttributeName': 'PK', 'KeyType': 'HASH'}, {'AttributeName': 'SK', 'KeyType': 'RANGE'}]            \n",
      "- [{'AttributeName': 'PK', 'AttributeType': 'S'}, {'AttributeName': 'SK', 'AttributeType': 'S'}]            \n",
      "- Point-in-time recovery status: DISABLED  |  Delete protection: False\n"
     ]
    }
   ],
   "source": [
    "dt=DynamoTable()\n",
    "try:\n",
    "    dt.select_table('SampleTable')\n",
    "    print(dt)\n",
    "except:\n",
    "    dt.create_table(\n",
    "        table_name='SampleTable',\n",
    "        partition_key='PK',\n",
    "        partition_key_type='S',\n",
    "        sort_key='SK',\n",
    "        sort_key_type='S'\n",
    "    )"
   ]
  },
  {
   "cell_type": "code",
   "execution_count": 5,
   "metadata": {},
   "outputs": [],
   "source": [
    "names = {'DeBrie': 'Alex DeBrie', 'Dean': 'James Dean', 'Dern': 'Laura Dern'}\n",
    "for key, value in names.items():\n",
    "    response = dt.table.put_item(\n",
    "        Item={\n",
    "            'PK': 'D',\n",
    "            'SK': key,\n",
    "            'Name': value\n",
    "        }\n",
    "    )"
   ]
  },
  {
   "cell_type": "code",
   "execution_count": 7,
   "metadata": {},
   "outputs": [
    {
     "name": "stdout",
     "output_type": "stream",
     "text": [
      "[{'SK': 'DeBrie', 'PK': 'D', 'Name': 'Alex DeBrie'}, {'SK': 'Dean', 'PK': 'D', 'Name': 'James Dean'}, {'SK': 'Dern', 'PK': 'D', 'Name': 'Laura Dern'}]\n"
     ]
    }
   ],
   "source": [
    "response = dt.query(pk_value='D')\n",
    "print(response['Items'])"
   ]
  },
  {
   "attachments": {},
   "cell_type": "markdown",
   "metadata": {},
   "source": [
    "Te sorprenderá ver que DeBrie va antes que Dean. Esto se debe a que las mayúsculas preceden a las minúsculas."
   ]
  },
  {
   "cell_type": "code",
   "execution_count": 8,
   "metadata": {},
   "outputs": [],
   "source": [
    "names = {'DEBRIE': 'Alex DeBrie', 'DEAN': 'James Dean', 'DERN': 'Laura Dern'}\n",
    "for key, value in names.items():\n",
    "    response = dt.table.put_item(\n",
    "        Item={\n",
    "            'PK': 'Dnew',\n",
    "            'SK': key,\n",
    "            'Name': value\n",
    "        }\n",
    "    )"
   ]
  },
  {
   "cell_type": "code",
   "execution_count": 9,
   "metadata": {},
   "outputs": [
    {
     "name": "stdout",
     "output_type": "stream",
     "text": [
      "[{'SK': 'DEAN', 'PK': 'Dnew', 'Name': 'James Dean'}, {'SK': 'DEBRIE', 'PK': 'Dnew', 'Name': 'Alex DeBrie'}, {'SK': 'DERN', 'PK': 'Dnew', 'Name': 'Laura Dern'}]\n"
     ]
    }
   ],
   "source": [
    "response = dt.query(pk_value='Dnew')\n",
    "print(response['Items'])"
   ]
  },
  {
   "attachments": {},
   "cell_type": "markdown",
   "metadata": {},
   "source": [
    "Con todos los apellidos en mayúsculas, ahora están ordenados como cabría esperar."
   ]
  },
  {
   "attachments": {},
   "cell_type": "markdown",
   "metadata": {},
   "source": [
    "### ID únicos y ordenables\n",
    "\n",
    "Una necesidad común es tener IDs únicos y ordenables.  Esto ocurre cuando se necesita un identificador único para un elemento (e idealmente un mecanismo que sea amigable con la URL) pero también se quiere poder ordenar un grupo de estos elementos cronológicamente.\n",
    "\n",
    "Hay algunas opciones en este ámbito, pero yo prefiero la implementación de KSUID de la gente de Segment. Un KSUID es un un identificador único al que se antepone una marca de tiempo, pero que también contiene suficiente aleatoriedad para que las colisiones sean muy improbables. En total, se obtiene una cadena de 27 caracteres que es más única que un UUIDv4, al tiempo que conserva la ordenación lexicográfica.\n",
    "\n",
    "**¿Por qué utilizar un KSUID?**\n",
    "\n",
    "* Ordenable por fecha y hora\n",
    "* 128 bits de datos aleatorios\n",
    "* Representaciones portables y clasificables por lexografía"
   ]
  },
  {
   "cell_type": "code",
   "execution_count": 18,
   "metadata": {},
   "outputs": [],
   "source": [
    "#!pip install svix-ksuid\n",
    "from ksuid import Ksuid\n",
    "from ksuid import KsuidMs\n",
    "\n",
    "ksuid = Ksuid()\n",
    "#ksuid = KsuidMs()"
   ]
  },
  {
   "cell_type": "code",
   "execution_count": 21,
   "metadata": {},
   "outputs": [
    {
     "name": "stdout",
     "output_type": "stream",
     "text": [
      "Base62: 2S7lFS9cAv7q20FnKAJvzaHiUhl\n",
      "Datetime: 2023-07-04 21:16:35+00:00\n",
      "Timestamp: 1688505395.0\n",
      "Payload: b'\\xe8+L\\x97/\\xff\\x0b\\x89\\x96\\xe3SkK\\x15\\xbe\\x01'\n"
     ]
    }
   ],
   "source": [
    "print(f\"Base62: {ksuid}\")\n",
    "print(f\"Datetime: {ksuid.datetime}\")\n",
    "print(f\"Timestamp: {ksuid.timestamp}\")\n",
    "print(f\"Payload: {ksuid.payload}\")"
   ]
  },
  {
   "cell_type": "code",
   "execution_count": 36,
   "metadata": {},
   "outputs": [],
   "source": [
    "text = '1YnlHOfSSk3DhX4BR6lMAceAo1V'\n",
    "ksuid_1 = Ksuid.from_base62(data=text)"
   ]
  },
  {
   "cell_type": "code",
   "execution_count": 39,
   "metadata": {},
   "outputs": [
    {
     "name": "stdout",
     "output_type": "stream",
     "text": [
      "Datetime: 2020-03-07 13:02:30+00:00\n",
      "Timestamp: 1583586150.0\n"
     ]
    }
   ],
   "source": [
    "print(f'Datetime: {ksuid_1.datetime}')\n",
    "print(f'Timestamp: {ksuid_1.timestamp}')"
   ]
  },
  {
   "cell_type": "code",
   "execution_count": 49,
   "metadata": {},
   "outputs": [
    {
     "name": "stdout",
     "output_type": "stream",
     "text": [
      "Table created successfully!\n"
     ]
    }
   ],
   "source": [
    "dt=DynamoTable()\n",
    "try:\n",
    "    dt.select_table('newSampleTable')\n",
    "    print(dt)\n",
    "except:\n",
    "    dt.create_table(\n",
    "        table_name='newSampleTable',\n",
    "        partition_key='PK',\n",
    "        partition_key_type='S',\n",
    "        sort_key='SK',\n",
    "        sort_key_type='B'\n",
    "    )"
   ]
  },
  {
   "cell_type": "code",
   "execution_count": 61,
   "metadata": {},
   "outputs": [],
   "source": [
    "orders = ['Product1', 'Product2', 'Product3', 'Product4', 'Product5']\n",
    "for order in orders:\n",
    "    ksuid = Ksuid()\n",
    "    response = dt.table.put_item(\n",
    "        Item={\n",
    "            'PK': 'ORDER#220',\n",
    "            'SK': 'ORDERID#' + str(ksuid),\n",
    "            'Product': order\n",
    "        }\n",
    "    )"
   ]
  },
  {
   "cell_type": "code",
   "execution_count": 62,
   "metadata": {},
   "outputs": [
    {
     "name": "stdout",
     "output_type": "stream",
     "text": [
      "[{'PK': 'ORDER#220',\n",
      "  'Product': 'Product1',\n",
      "  'SK': 'ORDERID#2S7pOaGwsooZHwQF9Cjb73DksHd'},\n",
      " {'PK': 'ORDER#220',\n",
      "  'Product': 'Product2',\n",
      "  'SK': 'ORDERID#2S7pOiNN24LzMKTLwGdXJuWehZ2'},\n",
      " {'PK': 'ORDER#220',\n",
      "  'Product': 'Product3',\n",
      "  'SK': 'ORDERID#2S7pOluIatWmAJkSExVUTtApxnA'},\n",
      " {'PK': 'ORDER#220',\n",
      "  'Product': 'Product4',\n",
      "  'SK': 'ORDERID#2S7pOuwiXwYHEMoUOS0FPyZH6CZ'},\n",
      " {'PK': 'ORDER#220',\n",
      "  'Product': 'Product5',\n",
      "  'SK': 'ORDERID#2S7pOvLtZakgY7sAT9AmCUyzBRv'}]\n"
     ]
    }
   ],
   "source": [
    "response = dt.query(pk_value='ORDER#220')\n",
    "pprint(response['Items'])"
   ]
  },
  {
   "attachments": {},
   "cell_type": "markdown",
   "metadata": {},
   "source": [
    "### Ascendente frente a descendente\n",
    "\n",
    "Se puede utilizar la propiedad `ScanIndexForward` para indicar a DynamoDB cómo ordenar los elementos. Por defecto, DynamoDB leerá los elementos en orden ascendente. Si trabaja con palabras, esto significa que empezará por *aardvark* y seguirá por *zebra*.\n",
    "\n",
    "Si está trabajando con marcas de tiempo, esto significa comenzar en el año 1900 y avanzar hacia el año 2020.\n",
    "Puede invertir esto utilizando ScanIndexForward=False, lo que significa que leerá los elementos en orden descendente. Esto es útil para varias ocasiones, como cuando quieres obtener las marcas de tiempo más recientes o quieres encontrar las puntuaciones más altas en la tabla de clasificación.\n",
    "\n",
    "Por ejemplo, imagine que tiene un dispositivo IoT que envía lecturas ocasionales de sensores. Uno de los patrones de acceso habituales es obtener el elemento Dispositivo y las 5 lecturas más recientes del dispositivo."
   ]
  },
  {
   "cell_type": "code",
   "execution_count": 8,
   "metadata": {},
   "outputs": [],
   "source": [
    "dt.table.put_item(\n",
    "    Item={\n",
    "        'PK': 'DEVICE#123',\n",
    "        'SK': 'DEVICE#123',\n",
    "        'DeviceLocation': 'Omaha, NE'\n",
    "    }\n",
    ")\n",
    "\n",
    "dates = ['2020-03-14T10:33:00', '2020-03-14T10:34:00', '2020-03-14T10:35:00', '2020-03-14T10:36:00', '2020-03-14T10:37:00']\n",
    "temp = [Decimal('72.5'), Decimal('72.6'), Decimal('72.7'), Decimal('72.8'), Decimal('72.9')]\n",
    "for i in range(len(dates)):\n",
    "    response = dt.table.put_item(\n",
    "        Item={\n",
    "            'PK': 'DEVICE#123',\n",
    "            'SK': 'READING#' + dates[i],\n",
    "            'Temperature': temp[i]\n",
    "        }\n",
    "    )"
   ]
  },
  {
   "cell_type": "code",
   "execution_count": 65,
   "metadata": {},
   "outputs": [
    {
     "name": "stdout",
     "output_type": "stream",
     "text": [
      "[{'DeviceLocation': 'Omaha, NE', 'PK': 'DEVICE#123', 'SK': 'DEVICE#123'},\n",
      " {'PK': 'DEVICE#123', 'SK': 'READING#2020-03-14T10:33:00', 'Temperature': 72.5},\n",
      " {'PK': 'DEVICE#123', 'SK': 'READING#2020-03-14T10:34:00', 'Temperature': 72.6},\n",
      " {'PK': 'DEVICE#123', 'SK': 'READING#2020-03-14T10:35:00', 'Temperature': 72.7},\n",
      " {'PK': 'DEVICE#123', 'SK': 'READING#2020-03-14T10:36:00', 'Temperature': 72.8},\n",
      " {'PK': 'DEVICE#123', 'SK': 'READING#2020-03-14T10:37:00', 'Temperature': 72.9}]\n"
     ]
    }
   ],
   "source": [
    "response = dt.query(pk_value='DEVICE#123')\n",
    "pprint(response['Items'])"
   ]
  },
  {
   "attachments": {},
   "cell_type": "markdown",
   "metadata": {},
   "source": [
    "Observe que el elemento principal Dispositivo se encuentra antes que cualquiera de los elementos Lectura porque \"DEVICE\" está antes que \"READING\" en el alfabeto. Debido a esto, nuestra consulta para obtener el Dispositivo y las Lecturas recuperaría los elementos más antiguos. Si nuestra colección de ítems fuera grande, podríamos necesitar hacer múltiples peticiones de paginación para obtener los ítems más recientes.\n",
    "\n",
    "Para evitar esto, podemos añadir un prefijo # a nuestros elementos de lectura(READING)."
   ]
  },
  {
   "cell_type": "code",
   "execution_count": 9,
   "metadata": {},
   "outputs": [],
   "source": [
    "dt.table.put_item(\n",
    "    Item={\n",
    "        'PK': 'DEVICE#124',\n",
    "        'SK': 'DEVICE#124',\n",
    "        'DeviceLocation': 'New York, NY'\n",
    "    }\n",
    ")\n",
    "\n",
    "for i in range(len(dates)):\n",
    "    response = dt.table.put_item(\n",
    "        Item={\n",
    "            'PK': 'DEVICE#124',\n",
    "            'SK': '#READING#' + dates[i],\n",
    "            'Temperature': temp[i]\n",
    "        }\n",
    "    )"
   ]
  },
  {
   "cell_type": "code",
   "execution_count": 11,
   "metadata": {},
   "outputs": [
    {
     "name": "stdout",
     "output_type": "stream",
     "text": [
      "[{'PK': 'DEVICE#124',\n",
      "  'SK': '#READING#2020-03-14T10:33:00',\n",
      "  'Temperature': 72.5},\n",
      " {'PK': 'DEVICE#124',\n",
      "  'SK': '#READING#2020-03-14T10:34:00',\n",
      "  'Temperature': 72.6},\n",
      " {'PK': 'DEVICE#124',\n",
      "  'SK': '#READING#2020-03-14T10:35:00',\n",
      "  'Temperature': 72.7},\n",
      " {'PK': 'DEVICE#124',\n",
      "  'SK': '#READING#2020-03-14T10:36:00',\n",
      "  'Temperature': 72.8},\n",
      " {'PK': 'DEVICE#124',\n",
      "  'SK': '#READING#2020-03-14T10:37:00',\n",
      "  'Temperature': 72.9},\n",
      " {'DeviceLocation': 'New York, NY', 'PK': 'DEVICE#124', 'SK': 'DEVICE#124'}]\n"
     ]
    }
   ],
   "source": [
    "response = dt.query(pk_value='DEVICE#124')\n",
    "pprint(response['Items'])"
   ]
  },
  {
   "attachments": {},
   "cell_type": "markdown",
   "metadata": {},
   "source": [
    "Ahora podemos utilizar la API de consulta para obtener el elemento Dispositivo y los elementos de lectura más recientes empezando por el final de nuestra colección de elementos y utilizando la propiedad ScanIndexForward=False."
   ]
  },
  {
   "cell_type": "code",
   "execution_count": 5,
   "metadata": {},
   "outputs": [
    {
     "name": "stdout",
     "output_type": "stream",
     "text": [
      "[{'DeviceLocation': 'New York, NY', 'PK': 'DEVICE#124', 'SK': 'DEVICE#124'},\n",
      " {'PK': 'DEVICE#124',\n",
      "  'SK': '#READING#2020-03-14T10:37:00',\n",
      "  'Temperature': 72.9},\n",
      " {'PK': 'DEVICE#124',\n",
      "  'SK': '#READING#2020-03-14T10:36:00',\n",
      "  'Temperature': 72.8},\n",
      " {'PK': 'DEVICE#124',\n",
      "  'SK': '#READING#2020-03-14T10:35:00',\n",
      "  'Temperature': 72.7},\n",
      " {'PK': 'DEVICE#124',\n",
      "  'SK': '#READING#2020-03-14T10:34:00',\n",
      "  'Temperature': 72.6},\n",
      " {'PK': 'DEVICE#124',\n",
      "  'SK': '#READING#2020-03-14T10:33:00',\n",
      "  'Temperature': 72.5}]\n"
     ]
    }
   ],
   "source": [
    "response = dt.query(pk_value='DEVICE#124', scan_index_forward=False)\n",
    "pprint(response['Items'])"
   ]
  }
 ],
 "metadata": {
  "kernelspec": {
   "display_name": "personal",
   "language": "python",
   "name": "python3"
  },
  "language_info": {
   "codemirror_mode": {
    "name": "ipython",
    "version": 3
   },
   "file_extension": ".py",
   "mimetype": "text/x-python",
   "name": "python",
   "nbconvert_exporter": "python",
   "pygments_lexer": "ipython3",
   "version": "3.11.3"
  },
  "orig_nbformat": 4
 },
 "nbformat": 4,
 "nbformat_minor": 2
}
