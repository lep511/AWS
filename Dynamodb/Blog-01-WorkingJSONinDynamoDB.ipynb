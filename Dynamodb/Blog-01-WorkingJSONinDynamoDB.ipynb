{
 "cells": [
  {
   "attachments": {},
   "cell_type": "markdown",
   "metadata": {},
   "source": [
    "## Trabajar con datos JSON en Amazon DynamoDB\n",
    "\n",
    "Amazon DynamoDB le permite almacenar objetos JSON en atributos y realizar muchas operaciones con estos objetos, incluidos el filtrado, la actualización y la eliminación. Se trata de una capacidad muy potente, ya que permite a las aplicaciones almacenar objetos (datos JSON, matrices) directamente en las tablas de DynamoDB y conservar la capacidad de utilizar atributos anidados dentro de estos objetos en sus operaciones de base de datos. En esta publicación, exploramos algunas de las cosas que puede hacer con objetos JSON en DynamoDB.\n",
    "\n",
    "Utilizaremos una tabla sencilla de DynamoDB que rastrea información sobre pedidos de comida rápida. El siguiente código es un pedido de ejemplo:\n",
    "\n",
    "`{ PK: 12, SK: 1, details: { entree: “burger”, sides: [ “fries”, “soda” ]}, status: “WIP” }`\n",
    "\n",
    "Una orden completada tiene el siguiente aspecto:\n",
    "\n",
    "`{ PK: 15, SK: 1, details: { entree: “salad”, sides: [ “apple”, “water” ]}, status: “DONE” }`\n",
    "\n",
    "Un pedido con tres artículos tiene el siguiente aspecto:\n",
    "\n",
    "`{ PK: 14, SK: 1, details: { entree: “salad”, sides: [ “apple”, “water” ]}, status: “WIP” }`\n",
    "<br>\n",
    "`{ PK: 14, SK: 2, details: { entree: “BLT sw”, sides: [ “water” ]}, status: “WIP” }`"
   ]
  },
  {
   "cell_type": "code",
   "execution_count": 1,
   "metadata": {},
   "outputs": [],
   "source": [
    "import pandas as pd\n",
    "from spdynamodb import DynamoTable\n",
    "from time import sleep\n",
    "import json\n",
    "from decimal import Decimal"
   ]
  },
  {
   "cell_type": "code",
   "execution_count": 2,
   "metadata": {},
   "outputs": [
    {
     "name": "stdout",
     "output_type": "stream",
     "text": [
      "- Table name: Orders            \n",
      "- Table arn: arn:aws:dynamodb:us-east-1:089715336747:table/Orders            \n",
      "- Table creation: 2023-05-18 09:47:23.073000-03:00            \n",
      "- [{'AttributeName': 'PK', 'KeyType': 'HASH'}, {'AttributeName': 'SK', 'KeyType': 'RANGE'}]            \n",
      "- [{'AttributeName': 'PK', 'AttributeType': 'N'}, {'AttributeName': 'SK', 'AttributeType': 'N'}]            \n",
      "- Point-in-time recovery status: DISABLED  |  Delete protection: False\n"
     ]
    }
   ],
   "source": [
    "dt = DynamoTable()\n",
    "try:\n",
    "    dt.select_table('Orders')\n",
    "    print(dt)\n",
    "except:\n",
    "    dt.create_table(\n",
    "        table_name='Orders',\n",
    "        partition_key='PK',\n",
    "        partition_key_type='N',\n",
    "        sort_key='SK',\n",
    "        sort_key_type='N',\n",
    "        provisioned=False\n",
    "    )"
   ]
  },
  {
   "cell_type": "code",
   "execution_count": 3,
   "metadata": {},
   "outputs": [
    {
     "name": "stdout",
     "output_type": "stream",
     "text": [
      "Writing orders.json\n"
     ]
    }
   ],
   "source": [
    "%%writefile orders.json\n",
    "[\n",
    "    {\n",
    "        \"PK\": 12,\n",
    "        \"SK\": 1,\n",
    "        \"details\": {\"entree\": \"burger\", \"sides\": [\"fries\", \"soda\"]},\n",
    "        \"status\": \"WIP\"\n",
    "    },\n",
    "    {\n",
    "        \"PK\": 12,\n",
    "        \"SK\": 2,\n",
    "        \"details\": {\"entree\": \"BLT sw\", \"sides\": [\"water\"]},\n",
    "        \"status\": \"WIP\"\n",
    "    },\n",
    "    {\n",
    "        \"PK\": 14,\n",
    "        \"SK\": 1,\n",
    "        \"details\": {\"entree\": \"salad\", \"sides\": [\"apple\", \"water\"]},\n",
    "        \"status\": \"WIP\"\n",
    "    },\n",
    "    {\n",
    "        \"PK\": 14,\n",
    "        \"SK\": 2,\n",
    "        \"details\": {\"entree\": \"BLT sw\", \"sides\": [\"water\"]},\n",
    "        \"status\": \"WIP\"\n",
    "    },\n",
    "    {\n",
    "        \"PK\": 15,\n",
    "        \"SK\": 1,\n",
    "        \"details\": {\"entree\": \"burger\", \"sides\": [\"fries\", \"soda\"]},\n",
    "        \"status\": \"DONE\"\n",
    "    }\n",
    "]   "
   ]
  },
  {
   "cell_type": "code",
   "execution_count": 4,
   "metadata": {},
   "outputs": [],
   "source": [
    "dt.load_json(\"orders.json\")"
   ]
  },
  {
   "attachments": {},
   "cell_type": "markdown",
   "metadata": {},
   "source": [
    "### Consultar los datos\n",
    "Puede encontrar el primer elemento de la orden 14 ejecutando la siguiente consulta:"
   ]
  },
  {
   "cell_type": "code",
   "execution_count": 3,
   "metadata": {},
   "outputs": [
    {
     "data": {
      "text/plain": [
       "{'SK': 1,\n",
       " 'details': {'entree': 'salad', 'sides': ['apple', 'water']},\n",
       " 'PK': 14,\n",
       " 'status': 'WIP'}"
      ]
     },
     "execution_count": 3,
     "metadata": {},
     "output_type": "execute_result"
    }
   ],
   "source": [
    "dt.query(pk_value=14, sk_value=1)"
   ]
  },
  {
   "attachments": {},
   "cell_type": "markdown",
   "metadata": {},
   "source": [
    "También puede realizar otras consultas, como encontrar todas las líneas de pedido que incluyen agua y que aún no se ha completado:"
   ]
  },
  {
   "cell_type": "code",
   "execution_count": 12,
   "metadata": {},
   "outputs": [
    {
     "name": "stdout",
     "output_type": "stream",
     "text": [
      "ExecuteStatement executed successfully.\n",
      "Consumed Capacity: 2.0\n"
     ]
    },
    {
     "data": {
      "text/plain": [
       "[{'SK': 2,\n",
       "  'details': {'entree': 'BLT sw', 'sides': ['water']},\n",
       "  'PK': 12,\n",
       "  'status': 'WIP'}]"
      ]
     },
     "execution_count": 12,
     "metadata": {},
     "output_type": "execute_result"
    }
   ],
   "source": [
    "statment = \"SELECT * FROM Orders WHERE status != 'DONE' and contains(details.sides, 'water')\"\n",
    "dt.query_partiql(query=statment, consumed_capacity=\"TOTAL\")"
   ]
  },
  {
   "attachments": {},
   "cell_type": "markdown",
   "metadata": {},
   "source": [
    "Del mismo modo, si una hamburguesa está lista, podemos determinar a qué pedido debe adjuntarse:"
   ]
  },
  {
   "cell_type": "code",
   "execution_count": 4,
   "metadata": {},
   "outputs": [
    {
     "name": "stdout",
     "output_type": "stream",
     "text": [
      "ExecuteStatement executed successfully.\n",
      "Consumed Capacity: 2.0\n"
     ]
    },
    {
     "data": {
      "text/plain": [
       "[{'PK': 12, 'SK': 1}]"
      ]
     },
     "execution_count": 4,
     "metadata": {},
     "output_type": "execute_result"
    }
   ],
   "source": [
    "statment = \"SELECT PK, SK FROM Orders WHERE status = 'WIP' and contains(details.entree, 'burger')\"\n",
    "dt.query_partiql(query=statment, consumed_capacity=\"TOTAL\")"
   ]
  },
  {
   "attachments": {},
   "cell_type": "markdown",
   "metadata": {},
   "source": [
    "### Actualizar elementos\n",
    "\n",
    "También puede actualizar estos pedidos; por ejemplo, el cliente que realizó el pedido 14, artículo 1, cambió de opinión y en lugar de agua desea un refresco:"
   ]
  },
  {
   "cell_type": "code",
   "execution_count": 6,
   "metadata": {},
   "outputs": [
    {
     "data": {
      "text/plain": [
       "{'Attributes': {'details': {'sides': ['soda']}},\n",
       " 'ResponseMetadata': {'RequestId': '4ER8QTL1JNJIK5JSR49FDS37D7VV4KQNSO5AEMVJF66Q9ASUAAJG',\n",
       "  'HTTPStatusCode': 200,\n",
       "  'HTTPHeaders': {'server': 'Server',\n",
       "   'date': 'Thu, 18 May 2023 14:54:01 GMT',\n",
       "   'content-type': 'application/x-amz-json-1.0',\n",
       "   'content-length': '63',\n",
       "   'connection': 'keep-alive',\n",
       "   'x-amzn-requestid': '4ER8QTL1JNJIK5JSR49FDS37D7VV4KQNSO5AEMVJF66Q9ASUAAJG',\n",
       "   'x-amz-crc32': '3120251123'},\n",
       "  'RetryAttempts': 0}}"
      ]
     },
     "execution_count": 6,
     "metadata": {},
     "output_type": "execute_result"
    }
   ],
   "source": [
    "dt.table.update_item(\n",
    "    Key = {\"PK\": 14, \"SK\": 1},\n",
    "    UpdateExpression = \"SET details.sides[1] = :s\",\n",
    "    ExpressionAttributeValues = {\":s\": \"soda\"},\n",
    "    ReturnValues = \"UPDATED_NEW\"\n",
    ")"
   ]
  },
  {
   "attachments": {},
   "cell_type": "markdown",
   "metadata": {},
   "source": [
    "Observe que la actualización hace referencia a elementos de la matriz details.sides por su índice. Aquí se actualiza el segundo elemento (índice 1)."
   ]
  },
  {
   "attachments": {},
   "cell_type": "markdown",
   "metadata": {},
   "source": [
    "### Añadir atributos a un objeto incrustado y eliminarlos de él\n",
    "Si un cliente tiene una petición especial, puede añadirla al pedido:"
   ]
  },
  {
   "cell_type": "code",
   "execution_count": 8,
   "metadata": {},
   "outputs": [
    {
     "data": {
      "text/plain": [
       "{'Attributes': {'details': {'notes': 'extra dressing'}},\n",
       " 'ResponseMetadata': {'RequestId': '77JDF3EJNGCUJ67K0ES25PA017VV4KQNSO5AEMVJF66Q9ASUAAJG',\n",
       "  'HTTPStatusCode': 200,\n",
       "  'HTTPHeaders': {'server': 'Server',\n",
       "   'date': 'Thu, 18 May 2023 15:11:23 GMT',\n",
       "   'content-type': 'application/x-amz-json-1.0',\n",
       "   'content-length': '65',\n",
       "   'connection': 'keep-alive',\n",
       "   'x-amzn-requestid': '77JDF3EJNGCUJ67K0ES25PA017VV4KQNSO5AEMVJF66Q9ASUAAJG',\n",
       "   'x-amz-crc32': '1420992425'},\n",
       "  'RetryAttempts': 0}}"
      ]
     },
     "execution_count": 8,
     "metadata": {},
     "output_type": "execute_result"
    }
   ],
   "source": [
    "dt.table.update_item(\n",
    "    Key = {\"PK\": 14, \"SK\": 1},\n",
    "    UpdateExpression = \"SET details.notes = :s\",\n",
    "    ExpressionAttributeValues = {\":s\": \"extra dressing\"},\n",
    "    ReturnValues = \"UPDATED_NEW\"\n",
    ")"
   ]
  },
  {
   "attachments": {},
   "cell_type": "markdown",
   "metadata": {},
   "source": [
    "Si el cliente que pidió el sándwich BLT decidió que no quería el agua después de todo, podemos utilizar el siguiente código:"
   ]
  },
  {
   "cell_type": "code",
   "execution_count": 11,
   "metadata": {},
   "outputs": [
    {
     "data": {
      "text/plain": [
       "{'ResponseMetadata': {'RequestId': '14L3TJVLS6NK7JFMV48F2Q82S7VV4KQNSO5AEMVJF66Q9ASUAAJG',\n",
       "  'HTTPStatusCode': 200,\n",
       "  'HTTPHeaders': {'server': 'Server',\n",
       "   'date': 'Thu, 18 May 2023 15:31:12 GMT',\n",
       "   'content-type': 'application/x-amz-json-1.0',\n",
       "   'content-length': '2',\n",
       "   'connection': 'keep-alive',\n",
       "   'x-amzn-requestid': '14L3TJVLS6NK7JFMV48F2Q82S7VV4KQNSO5AEMVJF66Q9ASUAAJG',\n",
       "   'x-amz-crc32': '2745614147'},\n",
       "  'RetryAttempts': 0}}"
      ]
     },
     "execution_count": 11,
     "metadata": {},
     "output_type": "execute_result"
    }
   ],
   "source": [
    "dt.table.update_item(\n",
    "    Key = {\"PK\": 14, \"SK\": 2},\n",
    "    UpdateExpression = \"REMOVE details.sides[0]\",\n",
    "    #ExpressionAttributeValues = {\":s\": \"BLT sw\"},\n",
    "    ReturnValues = \"UPDATED_NEW\"\n",
    ")"
   ]
  }
 ],
 "metadata": {
  "kernelspec": {
   "display_name": "personal",
   "language": "python",
   "name": "python3"
  },
  "language_info": {
   "codemirror_mode": {
    "name": "ipython",
    "version": 3
   },
   "file_extension": ".py",
   "mimetype": "text/x-python",
   "name": "python",
   "nbconvert_exporter": "python",
   "pygments_lexer": "ipython3",
   "version": "3.11.3"
  },
  "orig_nbformat": 4
 },
 "nbformat": 4,
 "nbformat_minor": 2
}
