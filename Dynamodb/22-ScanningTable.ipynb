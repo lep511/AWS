{
 "cells": [
  {
   "attachments": {},
   "cell_type": "markdown",
   "metadata": {},
   "source": [
    "## Paginación en Amazon DynamoDB\n",
    "\n",
    "La paginación es el proceso de enviar solicitudes posteriores para continuar cuando una solicitud anterior está incompleta. Una operación Query o Scan en DynamoDB puede devolver resultados que están incompletos y requieren solicitudes posteriores para obtener el conjunto de resultados completo. Esto se debe a que DynamoDB pagina los resultados de una operación Query o Scan y devuelve un máximo de 1 MB de datos en una sola operación. Este es un límite estricto en DynamoDB. Con la paginación, los resultados de las operaciones de análisis y consulta se dividen en páginas de datos que tienen un tamaño de 1 MB o menos.\n",
    "\n",
    "Para paginar los resultados y recuperarlos página a página, compruebe el resultado de bajo nivel de una operación Scan o Query para ver si el resultado contiene el elemento `LastEvaluatedKey`. Puede obtener los resultados restantes de la solicitud inicial mediante otra operación Scan o Query con los mismos parámetros, pero utilizando el valor `LastEvaluatedKey` como el parámetro `ExclusiveStartKey`. Si el resultado no incluye el valor LastEvaluatedKey, no hay elementos que recuperar."
   ]
  },
  {
   "cell_type": "code",
   "execution_count": 1,
   "metadata": {},
   "outputs": [],
   "source": [
    "import boto3\n",
    "from botocore.exceptions import ClientError\n",
    "from spdynamodb import DynamoTable\n",
    "import json\n",
    "from decimal import Decimal\n",
    "from datetime import datetime\n",
    "from ksuid import Ksuid\n",
    "import time\n",
    "import random\n",
    "from pprint import pprint"
   ]
  },
  {
   "cell_type": "code",
   "execution_count": 2,
   "metadata": {},
   "outputs": [
    {
     "name": "stdout",
     "output_type": "stream",
     "text": [
      "- Table name: FacebookTable            \n",
      "- Table arn: arn:aws:dynamodb:us-east-1:999470467758:table/FacebookTable            \n",
      "- Table creation: 2023-07-06 13:20:53            \n",
      "- [{'AttributeName': 'PK', 'KeyType': 'HASH'}, {'AttributeName': 'SK', 'KeyType': 'RANGE'}]            \n",
      "- [{'AttributeName': 'PK', 'AttributeType': 'S'}, {'AttributeName': 'SK', 'AttributeType': 'S'}]            \n",
      "- Point-in-time recovery status: DISABLED  |  Delete protection: False\n"
     ]
    }
   ],
   "source": [
    "dt=DynamoTable()\n",
    "try:\n",
    "    dt.select_table('FacebookTable')\n",
    "    print(dt)\n",
    "except:\n",
    "    dt.create_table(\n",
    "        table_name='FacebookTable',\n",
    "        partition_key='PK',\n",
    "        partition_key_type='S',\n",
    "        sort_key='SK',\n",
    "        sort_key_type='S'\n",
    "    )"
   ]
  },
  {
   "attachments": {},
   "cell_type": "markdown",
   "metadata": {},
   "source": [
    "### Añadir un nuevo tipo de entidad a una colección de elementos existente\n",
    "\n",
    "En este escenario, puede intentar reutilizar una colección de elementos existente. Esto es genial si tu entidad padre está en una colección de ítems que no está siendo usada para una relación existente.\n",
    "\n",
    "Por ejemplo, piense en una aplicación como Facebook antes de que introdujera el botón \"Me gusta\". Es posible que su tabla DynamoDB tuviera elementos Post que representaran una publicación concreta realizada por un usuario."
   ]
  },
  {
   "cell_type": "code",
   "execution_count": 73,
   "metadata": {},
   "outputs": [],
   "source": [
    "count = 500\n",
    "names = ['Alex DeBrie', 'James Dean', 'Laura Dern']\n",
    "all_items = []\n",
    "pk = []\n",
    "\n",
    "# Generate random date \n",
    "start_date = datetime(2019, 1, 1, 00, 00, 00)\n",
    "end_date = datetime(2023, 12, 31, 23, 59, 59)\n",
    "rand_date = [start_date + (end_date - start_date) * random.random() for i in range(int(1400))]\n",
    "\n",
    "for i in range(int(count * 0.6)):\n",
    "    ksuid = Ksuid()\n",
    "    name = random.choice(names)\n",
    "    Item={\n",
    "            'PK': 'POST#' + str(ksuid),\n",
    "            'SK': 'POST#' + str(ksuid),\n",
    "            'PostOwner': name,\n",
    "            'PostContent': 'https://...',\n",
    "            'PostData': random.choice(rand_date).strftime(\"%Y-%m-%d %H:%M:%S\"),\n",
    "            'Type': 'POST'\n",
    "    }\n",
    "    all_items.append(Item)\n",
    "    pk.append('POST#' + str(ksuid))"
   ]
  },
  {
   "attachments": {},
   "cell_type": "markdown",
   "metadata": {},
   "source": [
    "Entonces alguien tiene la brillante idea de permitir a los usuarios \"Me gusta\" a través del botón Me gusta. Cuando queremos añadir esta funcionalidad, tenemos un patrón de acceso de \"Obtener la entrada y los \"Me gusta\" de la entrada\".\n",
    "\n",
    "En esta situación, la entidad Like es un tipo de entidad completamente nuevo, y queremos obtenerla al mismo tiempo que obtenemos la entidad Post. Si miramos nuestra tabla base, la colección de ítems para la entidad Post no está siendo utilizada para nada. Podemos añadir nuestros ítems Like a esa colección utilizando el siguiente patrón de clave primaria para Likes:"
   ]
  },
  {
   "cell_type": "code",
   "execution_count": 74,
   "metadata": {},
   "outputs": [],
   "source": [
    "pk = pk[0:10]\n",
    "for i in range(int(count * 0.2)):\n",
    "    ksuid = Ksuid()\n",
    "    Item={\n",
    "        'PK': random.choice(pk),\n",
    "        'SK': 'LIKE#USERID#' + str(ksuid),\n",
    "        'LikingUser': name,\n",
    "        'Type': 'LIKE'\n",
    "    }\n",
    "    all_items.append(Item)\n",
    "\n",
    "for i in range(int(count * 0.2)):\n",
    "    ksuid = Ksuid()\n",
    "    date_now = random.choice(rand_date).strftime(\"%Y-%m-%d %H:%M:%S\")\n",
    "    Item={\n",
    "        'PK': 'COMMENT#' + str(ksuid),\n",
    "        'SK': 'COMMENT#' + str(ksuid),\n",
    "        'CreatedAt': date_now,\n",
    "        'CommentingUser': random.choice(names),\n",
    "        'Type': 'COMMENT',\n",
    "        'GSI1PK': random.choice(pk),\n",
    "        'GSI1SK': 'COMMENT#' + date_now,\n",
    "    }\n",
    "    all_items.append(Item)"
   ]
  },
  {
   "cell_type": "code",
   "execution_count": 75,
   "metadata": {},
   "outputs": [
    {
     "name": "stdout",
     "output_type": "stream",
     "text": [
      "Data loaded successfully from fb.json.\n"
     ]
    }
   ],
   "source": [
    "# Save to json file\n",
    "with open('fb.json', 'w') as outfile:\n",
    "    json.dump(all_items, outfile, indent=4)\n",
    "\n",
    "# Write to DynamoDB table\n",
    "dt.load_json('fb.json')"
   ]
  },
  {
   "attachments": {},
   "cell_type": "markdown",
   "metadata": {},
   "source": [
    "Ahora queremos añadir Comentarios. Los usuarios pueden comentar una publicación para dar ánimos o discutir sobre algún punto político pedante.\n",
    "\n",
    "Con nuestra nueva entidad Comentario, tenemos un patrón de acceso relacional donde queremos obtener una publicación y los comentarios más recientes para esa publicación. ¿Cómo podemos modelar este nuevo patrón?\n",
    "\n",
    "La colección de elementos Post ya se utiliza en la tabla base. Para manejar este patrón de acceso, necesitaremos crear una nueva colección de elementos en un índice secundario global."
   ]
  },
  {
   "cell_type": "code",
   "execution_count": 25,
   "metadata": {},
   "outputs": [
    {
     "name": "stdout",
     "output_type": "stream",
     "text": [
      "Global secondary index is being created, this may take a few minutes...\n",
      "Global secondary index created. Time elapsed: 12.06 minute\n"
     ]
    }
   ],
   "source": [
    "dt.create_global_secondary_index(\n",
    "    att_name=\"GSI1PK\",\n",
    "    att_type=\"S\",\n",
    "    sort_index=\"GSI1SK\",\n",
    "    sort_type=\"S\",\n",
    "    i_name=\"GSI1\"\n",
    ")\n",
    "\n",
    "status = dt.check_status_gsi()\n",
    "if status == 'CREATING':\n",
    "    print(\"Global secondary index is being created, this may take a few minutes...\")\n",
    "    start = time.time()\n",
    "    while status == 'CREATING':\n",
    "        status = dt.check_status_gsi()\n",
    "        time.sleep(30)\n",
    "end = time.time()\n",
    "minute = (end - start) / 60\n",
    "print(\"Global secondary index created. Time elapsed: {0:.2f} minute\".format(minute))"
   ]
  },
  {
   "attachments": {},
   "cell_type": "markdown",
   "metadata": {},
   "source": [
    "Para ello, vamos a añadir los siguientes atributos al elemento Post:\n",
    "* GSI1PK: POST#<PostId>\n",
    "* GSI1SK: POST#<PostId>\n",
    "\n",
    "Y crearemos un elemento Comentario con los siguientes atributos:\n",
    "* PK: COMMENT#<CommentId>\n",
    "* SK: COMMENT#<CommentId>\n",
    "* GSI1PK: POST#<PostId>\n",
    "* GSI1SK: COMMENT#<Sello de tiempo>\n",
    "\n",
    "Tendrá que ejecutar un escaneo de tabla en su tabla y actualizar cada uno de los elementos Post para añadir estos nuevos atributos.\n"
   ]
  },
  {
   "cell_type": "code",
   "execution_count": 76,
   "metadata": {},
   "outputs": [],
   "source": [
    "dynamodb_client = boto3.client('dynamodb', region_name='us-east-1')\n",
    "\n",
    "params = {\n",
    "    \"TableName\": dt.table_name,\n",
    "\t\"FilterExpression\": \"#3deb0 = :3deb0\",\n",
    "\t\"ExpressionAttributeNames\": {\"#3deb0\":\"Type\"},\n",
    "\t\"ExpressionAttributeValues\": {\":3deb0\": {\"S\":\"POST\"}},\n",
    "\t\"Limit\": 100\n",
    "}"
   ]
  },
  {
   "cell_type": "code",
   "execution_count": 79,
   "metadata": {},
   "outputs": [
    {
     "name": "stdout",
     "output_type": "stream",
     "text": [
      "Scanned 17 items\n",
      "Scanned 17 items\n",
      "Scanned 12 items\n",
      "Scanned 19 items\n",
      "Scanned 15 items\n",
      "No more items to scan.\n"
     ]
    }
   ],
   "source": [
    "total_items = 500\n",
    "while total_items > 0:\n",
    "    last_evaluated = dynamodb_client.scan(**params) \n",
    "    len_items = len(last_evaluated['Items'])\n",
    "    if len_items == 0:\n",
    "        print(\"No more items to scan.\")\n",
    "        break\n",
    "    else:\n",
    "        print(\"Scanned {0} items\".format(len_items))\n",
    "        for item in last_evaluated['Items']:\n",
    "            try:\n",
    "                dynamodb_client.update_item(\n",
    "                    TableName=dt.table_name,\n",
    "                    Key={\n",
    "                        'PK': item['PK'],\n",
    "                        'SK': item['SK']\n",
    "                    },\n",
    "                    UpdateExpression=\"set #3deb0 = :3deb0, #3deb1 = :3deb1, #3deb2 = :3deb2\",\n",
    "                    ExpressionAttributeNames={\n",
    "                        \"#3deb0\": \"GSI1PK\",\n",
    "                        \"#3deb1\": \"GSI1SK\",\n",
    "                        \"#3deb2\": \"Type\"\n",
    "                    },\n",
    "                    ExpressionAttributeValues={\n",
    "                        \":3deb0\": item['PK'],\n",
    "                        \":3deb1\": item['SK'],\n",
    "                        \":3deb2\": {\"S\": \"POST-v1\"}\n",
    "                    }\n",
    "                )\n",
    "            except ClientError as error:\n",
    "                print(f\"Something went wrong while updating item {item['PK']} - {item['SK']}\")\n",
    "                print(error.response['ResponseMetadata'])\n",
    "            \n",
    "        if last_evaluated.get('LastEvaluatedKey'):\n",
    "            if params.get('ExclusiveStartKey') == last_evaluated.get('LastEvaluatedKey'):\n",
    "                break\n",
    "            params['ExclusiveStartKey'] = last_evaluated.get('LastEvaluatedKey')\n",
    "    total_items -= len_items\n",
    "    if total_items <= 0:\n",
    "        print(\"Total items reached.\")"
   ]
  },
  {
   "attachments": {},
   "cell_type": "markdown",
   "metadata": {},
   "source": [
    "#### Obtener los 2 ultimos comentarios de una publicación"
   ]
  },
  {
   "cell_type": "code",
   "execution_count": 95,
   "metadata": {},
   "outputs": [
    {
     "name": "stdout",
     "output_type": "stream",
     "text": [
      "Consumed Capacity: 0.5\n",
      "{'GSI1PK': 'POST#2SCyiZNTmDCDQajYbNQTH1ubaTA',\n",
      " 'GSI1SK': 'POST#2SCyiZNTmDCDQajYbNQTH1ubaTA',\n",
      " 'PK': 'POST#2SCyiZNTmDCDQajYbNQTH1ubaTA',\n",
      " 'PostContent': 'https://...',\n",
      " 'PostData': '2021-08-10 03:01:25',\n",
      " 'PostOwner': 'Alex DeBrie',\n",
      " 'SK': 'POST#2SCyiZNTmDCDQajYbNQTH1ubaTA',\n",
      " 'Type': 'POST-v1'}\n",
      "{'CommentingUser': 'James Dean',\n",
      " 'CreatedAt': '2023-11-18 12:05:16',\n",
      " 'GSI1PK': 'POST#2SCyiZNTmDCDQajYbNQTH1ubaTA',\n",
      " 'GSI1SK': 'COMMENT#2023-11-18 12:05:16',\n",
      " 'PK': 'COMMENT#2SCyjBDRkCY7mNvyr1GtynoExzq',\n",
      " 'SK': 'COMMENT#2SCyjBDRkCY7mNvyr1GtynoExzq',\n",
      " 'Type': 'COMMENT'}\n",
      "{'CommentingUser': 'Laura Dern',\n",
      " 'CreatedAt': '2022-12-12 14:39:03',\n",
      " 'GSI1PK': 'POST#2SCyiZNTmDCDQajYbNQTH1ubaTA',\n",
      " 'GSI1SK': 'COMMENT#2022-12-12 14:39:03',\n",
      " 'PK': 'COMMENT#2SCyjCBp15g7G5YPrADV9ztq3TU',\n",
      " 'SK': 'COMMENT#2SCyjCBp15g7G5YPrADV9ztq3TU',\n",
      " 'Type': 'COMMENT'}\n",
      "Consumed capacity: 0.50\n"
     ]
    }
   ],
   "source": [
    "from pprint import pprint\n",
    "response = dt.query(pk[0], index_name = 'GSI1', scan_index_forward=False, consumed_capacity='TOTAL')\n",
    "for i in range(3):\n",
    "    pprint(response['Items'][i])"
   ]
  },
  {
   "attachments": {},
   "cell_type": "markdown",
   "metadata": {},
   "source": [
    "A medida que recibimos elementos del resultado de la exploración, iteramos sobre ellos y realizamos una solicitud de API UpdateItem para añadir las propiedades relevantes a los elementos existentes.\n",
    "\n",
    "Hay algo de trabajo adicional para manejar el valor LastEvaluatedKey que se recibe en una respuesta de Escaneo. Esto indica si tenemos elementos adicionales para escanear o si hemos llegado al final de la tabla.\n",
    "\n",
    "Hay algunas cosas que se pueden mejorar, como el uso de escaneos paralelos, la adición de tratamiento de errores y la actualización de varios elementos en una solicitud BatchWriteItem, pero esta es la forma general del proceso ETL. Hay una nota sobre los escaneos paralelos al final de este capítulo.\n",
    "\n",
    "Esta es la parte más difícil de una migración, y querrá probar su código a fondo y supervisar el trabajo cuidadosamente para asegurarse de que todo va bien. Sin embargo, no hay mucho que hacer. Mucho de esto se puede parametrizar:\n",
    "* ¿Cómo sé qué artículos quiero?\n",
    "* Una vez que tengo mis artículos, ¿qué nuevos atributos tengo que añadir?\n",
    "\n",
    "A partir de ahí, sólo tienes que tomarte el tiempo necesario para que se ejecute toda la operación de actualización.\n"
   ]
  }
 ],
 "metadata": {
  "kernelspec": {
   "display_name": "personal",
   "language": "python",
   "name": "python3"
  },
  "language_info": {
   "codemirror_mode": {
    "name": "ipython",
    "version": 3
   },
   "file_extension": ".py",
   "mimetype": "text/x-python",
   "name": "python",
   "nbconvert_exporter": "python",
   "pygments_lexer": "ipython3",
   "version": "3.11.3"
  },
  "orig_nbformat": 4
 },
 "nbformat": 4,
 "nbformat_minor": 2
}
