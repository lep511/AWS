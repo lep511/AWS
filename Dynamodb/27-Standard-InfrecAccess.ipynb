{
 "cells": [
  {
   "cell_type": "markdown",
   "metadata": {},
   "source": [
    "## Almacenamiento en frío con DynamoDB\n",
    "\n",
    "DynamoDB ofrece dos clases de almacenamiento distintas: \n",
    "\n",
    "* Estándar \n",
    "* Estándar de Acceso Poco Frecuente (Estándar-IA)\n",
    "\n",
    "La clase **Estándar** es la configuración predeterminada y suele ser adecuada para la mayoría de las cargas de trabajo. Por otro lado, la clase **Estándar-IA** está diseñada específicamente para tablas que almacenan datos a los que se accede con poca frecuencia. Esta clase ofrece un precio más rentable por gigabyte (GB) de datos almacenados. A medida que los datos envejecen y se accede a ellos con menos frecuencia, migrar de una tabla Standard a una Standard-IA se convierte en una estrategia rentable. \n",
    "\n",
    "Las organizaciones pueden ahorrar en costes de almacenamiento a la vez que garantizan el mismo rendimiento y las mismas integraciones que la clase de tabla Estándar de DynamoDB. Este enfoque permite a las empresas alcanzar un equilibrio entre la optimización de costes y la disponibilidad de los datos, haciendo un uso eficiente de las capacidades de almacenamiento de DynamoDB. Los clientes que tengan tablas DynamoDB en las que el almacenamiento represente aproximadamente el 50% o más de sus costes deberían considerar trasladar sus datos a una tabla Standard-IA.\n",
    "\n",
    "El siguiente diagrama ilustra la arquitectura de la solución.\n",
    "\n",
    "![image](https://nathanagez.com/assets/images/diagram-43a73fb3442365f6ca4d01c287bb09f9.png)\n",
    "\n",
    "El flujo de trabajo contiene los siguientes pasos:\n",
    "1. DynamoDB TTL elimina los elementos caducados de las tablas estándar de DynamoDB en función de un atributo de elemento.\n",
    "2. DynamoDB Streams genera registros de flujos que contienen los elementos caducados.\n",
    "3. Lambda procesa el evento de eliminación de DynamoDB Streams. Con el filtrado de eventos de Lambda, Lambda solo es invocado por eventos de eliminación de DynamoDB TTL.\n",
    "4. Los datos se escriben en la tabla DynamoDB Standard-IA.\n"
   ]
  },
  {
   "cell_type": "code",
   "execution_count": 1,
   "metadata": {},
   "outputs": [],
   "source": [
    "import boto3\n",
    "import pandas as pd\n",
    "from botocore.exceptions import ClientError\n",
    "from spdynamodb import DynamoTable\n",
    "import json\n",
    "from decimal import Decimal\n",
    "from datetime import datetime, timedelta\n",
    "import time\n",
    "import uuid\n",
    "import random"
   ]
  },
  {
   "cell_type": "markdown",
   "metadata": {},
   "source": [
    "#### Crear una tabla Standard-IA"
   ]
  },
  {
   "cell_type": "code",
   "execution_count": 2,
   "metadata": {},
   "outputs": [
    {
     "name": "stdout",
     "output_type": "stream",
     "text": [
      "Table info:\n",
      " - Table name: IA-TableExample\n",
      " - Table arn: arn:aws:dynamodb:us-east-1:637423169504:table/IA-TableExample\n",
      " - Table creation: 2024-08-06T12:12:35\n",
      " - Key schema: [{'AttributeName': 'PK', 'KeyType': 'HASH'}]\n",
      " - Attribute definitions: [{'AttributeName': 'PK', 'AttributeType': 'S'}]\n",
      " - Table class: STANDARD_INFREQUENT_ACCESS\n",
      " - Point-in-time recovery status: DISABLED\n",
      " - Delete protection: False\n",
      " - Stream enabled: OFF\n",
      "\n"
     ]
    }
   ],
   "source": [
    "dt_ia = DynamoTable(profile_name='637423169504_AdministratorAccess')\n",
    "try:\n",
    "    dt_ia.select_table('IA-TableExample')\n",
    "    print(dt_ia)\n",
    "except:\n",
    "    dt_ia.create_table(\n",
    "        table_name='IA-TableExample',\n",
    "        partition_key='PK',\n",
    "        partition_key_type='S',\n",
    "        #infrequent_access=True\n",
    "    )"
   ]
  },
  {
   "cell_type": "code",
   "execution_count": 3,
   "metadata": {},
   "outputs": [],
   "source": [
    "dt_ia.infrequent_access = True"
   ]
  },
  {
   "cell_type": "code",
   "execution_count": 4,
   "metadata": {},
   "outputs": [
    {
     "data": {
      "text/plain": [
       "Table info:\n",
       " - Table name: IA-TableExample\n",
       " - Table arn: arn:aws:dynamodb:us-east-1:637423169504:table/IA-TableExample\n",
       " - Table creation: 2024-08-06T12:12:35\n",
       " - Key schema: [{'AttributeName': 'PK', 'KeyType': 'HASH'}]\n",
       " - Attribute definitions: [{'AttributeName': 'PK', 'AttributeType': 'S'}]\n",
       " - Table class: STANDARD_INFREQUENT_ACCESS\n",
       " - Point-in-time recovery status: DISABLED\n",
       " - Delete protection: False\n",
       " - Stream enabled: OFF"
      ]
     },
     "execution_count": 4,
     "metadata": {},
     "output_type": "execute_result"
    }
   ],
   "source": [
    "dt_ia"
   ]
  },
  {
   "cell_type": "markdown",
   "metadata": {},
   "source": [
    "### Crear una tabla standard"
   ]
  },
  {
   "cell_type": "code",
   "execution_count": 5,
   "metadata": {},
   "outputs": [
    {
     "name": "stdout",
     "output_type": "stream",
     "text": [
      "Table info:\n",
      " - Table name: StandardTableExample\n",
      " - Table arn: arn:aws:dynamodb:us-east-1:637423169504:table/StandardTableExample\n",
      " - Table creation: 2024-08-06T13:06:51\n",
      " - Key schema: [{'AttributeName': 'PK', 'KeyType': 'HASH'}]\n",
      " - Attribute definitions: [{'AttributeName': 'PK', 'AttributeType': 'S'}]\n",
      " - Table class: STANDARD\n",
      " - Point-in-time recovery status: DISABLED\n",
      " - Delete protection: False\n",
      " - Stream enabled: NEW_AND_OLD_IMAGES\n",
      " - Stream view type: NEW_AND_OLD_IMAGES\n",
      "\n"
     ]
    }
   ],
   "source": [
    "dt = DynamoTable(profile_name='637423169504_AdministratorAccess')\n",
    "try:\n",
    "    dt.select_table('StandardTableExample')\n",
    "    print(dt)\n",
    "except:\n",
    "    dt.create_table(\n",
    "        table_name='StandardTableExample',\n",
    "        partition_key='PK',\n",
    "        partition_key_type='S',\n",
    "        infrequent_access=False\n",
    "    )"
   ]
  },
  {
   "cell_type": "code",
   "execution_count": 7,
   "metadata": {},
   "outputs": [
    {
     "name": "stdout",
     "output_type": "stream",
     "text": [
      "Data loaded successfully in 2.39 seconds.\n"
     ]
    }
   ],
   "source": [
    "today = datetime.now().strftime('%Y-%m-%d')\n",
    "def generate_data(total_items=300):\n",
    "    count_total = 0  \n",
    "    UserName, SessionId, CreationTime, ExpirationTime, SessionInfo = [], [], [], [], []\n",
    "    for i in range(total_items):\n",
    "        if count_total == total_items:\n",
    "            break\n",
    "        else:\n",
    "            count_total += 1\n",
    "            now_time = datetime.now()\n",
    "            # TTL in 7 days\n",
    "            # ttl_time = now_time + timedelta(days=7)\n",
    "            ttl_time = now_time\n",
    "            uuid_session = str(uuid.uuid4())\n",
    "            SessionId.append(uuid_session)\n",
    "            CreationTime.append(int(now_time.timestamp()))\n",
    "            ExpirationTime.append(int(ttl_time.timestamp()))\n",
    "            SessionInfo.append({'SessionId': uuid_session, 'UserName': 'user'+str(random.randint(1, 100)), 'Date': today})\n",
    "        \n",
    "    df_main = pd.DataFrame(\n",
    "        {\n",
    "            'PK': SessionId,\n",
    "            'CreationTime': CreationTime,\n",
    "            'ExpirationTime': ExpirationTime,\n",
    "            'SessionInfo': SessionInfo\n",
    "        }\n",
    "    )   \n",
    "    return df_main\n",
    "\n",
    "df = generate_data(total_items=10)\n",
    "dt.batch_pandas(df)"
   ]
  },
  {
   "cell_type": "markdown",
   "metadata": {},
   "source": [
    "### Eliminar datos con DynamoDB TTL\n",
    "\n",
    "DynamoDB TTL ofrece una forma cómoda de gestionar el ciclo de vida de sus datos en DynamoDB. Con TTL, puede asignar una marca de tiempo a cada elemento de su tabla, indicando cuándo se considera caducado o que ya no es necesario. Una vez transcurrido el tiempo especificado, DynamoDB elimina automáticamente el elemento de la tabla, por lo que no es necesario eliminarlo manualmente. \n",
    "\n",
    "La principal ventaja del TTL es que permite reducir los volúmenes de datos almacenados eliminando elementos obsoletos o irrelevantes sin sobrecarga operativa. Esto puede resultar especialmente útil en situaciones como la descrita anteriormente, en la que existen grandes cantidades de datos que se vuelven obsoletos con el tiempo. Puede mantener su tabla aligerada y asegurarse de que solo conserva los datos más relevantes y actuales para su carga de trabajo eliminando automáticamente los elementos caducados.\n"
   ]
  },
  {
   "cell_type": "code",
   "execution_count": 5,
   "metadata": {},
   "outputs": [
    {
     "data": {
      "text/plain": [
       "{'TimeToLiveSpecification': {'Enabled': True,\n",
       "  'AttributeName': 'ExpirationTime'},\n",
       " 'ResponseMetadata': {'RequestId': 'O06L5UKJ7U9NGGK67MAROKA7O7VV4KQNSO5AEMVJF66Q9ASUAAJG',\n",
       "  'HTTPStatusCode': 200,\n",
       "  'HTTPHeaders': {'server': 'Server',\n",
       "   'date': 'Tue, 06 Aug 2024 16:07:24 GMT',\n",
       "   'content-type': 'application/x-amz-json-1.0',\n",
       "   'content-length': '77',\n",
       "   'connection': 'keep-alive',\n",
       "   'x-amzn-requestid': 'O06L5UKJ7U9NGGK67MAROKA7O7VV4KQNSO5AEMVJF66Q9ASUAAJG',\n",
       "   'x-amz-crc32': '1019368986'},\n",
       "  'RetryAttempts': 0}}"
      ]
     },
     "execution_count": 5,
     "metadata": {},
     "output_type": "execute_result"
    }
   ],
   "source": [
    "dt.table.meta.client.update_time_to_live(\n",
    "    TableName=dt.table_name,\n",
    "    TimeToLiveSpecification={\n",
    "        'Enabled': True,\n",
    "        'AttributeName': 'ExpirationTime'\n",
    "    }\n",
    ")"
   ]
  },
  {
   "cell_type": "markdown",
   "metadata": {},
   "source": [
    "### DynamoDB Streams\n",
    "DynamoDB Streams proporciona un registro ordenado por tiempo que contiene los cambios realizados en los elementos de una tabla de DynamoDB. Cuando una aplicación crea, actualiza o elimina un elemento de una tabla, se escribe un registro de la modificación en la secuencia correspondiente de la tabla.\n"
   ]
  },
  {
   "cell_type": "code",
   "execution_count": 6,
   "metadata": {},
   "outputs": [
    {
     "name": "stdout",
     "output_type": "stream",
     "text": [
      "DynamoDB streams turned on successfully.\n"
     ]
    }
   ],
   "source": [
    "dt.status_stream = 'ON'"
   ]
  },
  {
   "cell_type": "markdown",
   "metadata": {},
   "source": [
    "### Crear una función Lambda que procese los eventos de eliminación de DynamoDB Streams\n",
    "La función debe tener el siguiente filtro de eventos de DynamoDB Streams:\n",
    "\n",
    "* `{ \"eventName\": [\"REMOVE\"]}`\n",
    "\n",
    "Y la variable de entorno `TABLE_NAME` con el nombre de la tabla infrecuent access."
   ]
  },
  {
   "cell_type": "code",
   "execution_count": 9,
   "metadata": {},
   "outputs": [
    {
     "data": {
      "text/plain": [
       "'IA-TableExample'"
      ]
     },
     "execution_count": 9,
     "metadata": {},
     "output_type": "execute_result"
    }
   ],
   "source": [
    "dt_ia.table_name"
   ]
  },
  {
   "cell_type": "markdown",
   "metadata": {},
   "source": [
    "Codigo de la función:"
   ]
  },
  {
   "cell_type": "code",
   "execution_count": 10,
   "metadata": {},
   "outputs": [],
   "source": [
    "import boto3\n",
    "import json\n",
    "import os\n",
    "\n",
    "table_name = os.getenv(\"TABLE_NAME\")\n",
    "dynamodb = boto3.client('dynamodb', region_name='us-east-1')\n",
    "\n",
    "def lambda_handler(event, context):\n",
    "    item_saved = 0\n",
    "    total_item = 0\n",
    "    \n",
    "    for record in event['Records']:\n",
    "        if record['eventName'] == 'REMOVE':\n",
    "            total_item += 1\n",
    "            pk = record['dynamodb']['Keys']['PK']['S']\n",
    "            creation_time = record['dynamodb']['OldImage'].get('CreationTime')\n",
    "            session_info = record['dynamodb']['OldImage'].get('SessionInfo')\n",
    "\n",
    "            item = {\n",
    "                'PK': {'S': pk},\n",
    "            }\n",
    "            \n",
    "            if creation_time: item['CreationTime'] = {'N': creation_time['N']}\n",
    "            if session_info: item['SessionInfo'] = {'M': session_info['M']}\n",
    "                \n",
    "            try:\n",
    "                response = dynamodb.put_item(\n",
    "                    TableName=table_name,\n",
    "                    Item=item\n",
    "                )\n",
    "            except:\n",
    "                print(f\"[ERROR] Item cannot be stored in DynamoDBB: \\n {record}\")\n",
    "            else:\n",
    "                print(\"Item saved.\", item)\n",
    "                item_saved += 1\n",
    "    \n",
    "    if total_item != item_saved:\n",
    "        error_count = len(event['Records']) - item_saved\n",
    "        msg = f'{item_saved} elements stored in DynamoDB table. {error_count} errors found.'\n",
    "    else:\n",
    "        msg = f'{item_saved} elements stored in DynamoDB table.'\n",
    "    \n",
    "    print(msg)\n",
    "    return {\n",
    "        'statusCode': 200,\n",
    "        'body': json.dumps(msg)\n",
    "    }\n"
   ]
  }
 ],
 "metadata": {
  "kernelspec": {
   "display_name": "base",
   "language": "python",
   "name": "python3"
  },
  "language_info": {
   "codemirror_mode": {
    "name": "ipython",
    "version": 3
   },
   "file_extension": ".py",
   "mimetype": "text/x-python",
   "name": "python",
   "nbconvert_exporter": "python",
   "pygments_lexer": "ipython3",
   "version": "3.12.2"
  },
  "orig_nbformat": 4
 },
 "nbformat": 4,
 "nbformat_minor": 2
}
