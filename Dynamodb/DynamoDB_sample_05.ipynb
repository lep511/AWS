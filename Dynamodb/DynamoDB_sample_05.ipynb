{
 "cells": [
  {
   "cell_type": "markdown",
   "id": "3e354a56-93ff-49e6-affb-e0a917187c41",
   "metadata": {
    "tags": []
   },
   "source": [
    "## [Amazon DynamoDB examples (link)](https://github.com/awsdocs/aws-doc-sdk-examples/tree/main/python/example_code/dynamodb)"
   ]
  },
  {
   "cell_type": "code",
   "execution_count": 1,
   "id": "16cd82a1-686f-4848-ba42-9c700b7bf6d9",
   "metadata": {},
   "outputs": [],
   "source": [
    "from decimal import Decimal\n",
    "from io import BytesIO\n",
    "from datetime import datetime\n",
    "import ast\n",
    "import json\n",
    "import logging\n",
    "import os\n",
    "from pprint import pprint\n",
    "import requests\n",
    "from zipfile import ZipFile\n",
    "import boto3\n",
    "import pandas as pd\n",
    "from spdynamodb import DynamoTable"
   ]
  },
  {
   "cell_type": "code",
   "execution_count": 2,
   "id": "3b376a71-32fe-427e-962d-519930c6b65e",
   "metadata": {},
   "outputs": [],
   "source": [
    "from importlib import reload\n",
    "import spdynamodb\n",
    "reload(spdynamodb)\n",
    "from spdynamodb import DynamoTable"
   ]
  },
  {
   "cell_type": "code",
   "execution_count": 6,
   "id": "d364411d-dc86-4c4d-9c2a-9f6a628b4d52",
   "metadata": {},
   "outputs": [],
   "source": [
    "dt = DynamoTable()"
   ]
  },
  {
   "cell_type": "code",
   "execution_count": 9,
   "id": "962a32cd-62d2-4836-9cb8-2dbb4ab5f4af",
   "metadata": {},
   "outputs": [
    {
     "name": "stdout",
     "output_type": "stream",
     "text": [
      "Table created successfully!\n"
     ]
    }
   ],
   "source": [
    "try:\n",
    "    dt.select_table(\"PromMovies\")\n",
    "except:\n",
    "    dt.create_table(\"PromMovies\", \"title\", \"S\", \"year\", \"N\")"
   ]
  },
  {
   "cell_type": "code",
   "execution_count": 13,
   "id": "0930d4c5-e788-4793-affd-a65339616486",
   "metadata": {},
   "outputs": [],
   "source": [
    "df = pd.read_json(\"moviedata.zip\")\n",
    "df = df.sample(500)"
   ]
  },
  {
   "cell_type": "code",
   "execution_count": 14,
   "id": "9e385663-be63-42ce-a48f-a33266f8d061",
   "metadata": {},
   "outputs": [],
   "source": [
    "dt.batch_pandas(df)"
   ]
  },
  {
   "cell_type": "code",
   "execution_count": 15,
   "id": "12bd0944-2516-4024-bf88-0416a9decc1b",
   "metadata": {},
   "outputs": [
    {
     "data": {
      "text/plain": [
       "[{'info': {'actors': ['Kevin Bacon', 'John Goodman', 'Kelly Preston'],\n",
       "   'release_date': '2007-08-01T00:00:00Z',\n",
       "   'plot': 'Nick Hume is a mild-mannered executive with a perfect life, until one gruesome night he witnesses something that changes him forever. Transformed by grief, Hume eventually comes to the disturbing conclusion that no length is too great when protecting his family.',\n",
       "   'genres': ['Action', 'Crime', 'Drama', 'Thriller'],\n",
       "   'image_url': 'http://ia.media-imdb.com/images/M/MV5BMTM1NDQzMDg1Ml5BMl5BanBnXkFtZTcwNzQ0OTk0MQ@@._V1_SX400_.jpg',\n",
       "   'directors': ['James Wan'],\n",
       "   'rating': Decimal('6.7'),\n",
       "   'rank': Decimal('2133'),\n",
       "   'running_time_secs': Decimal('6300')},\n",
       "  'year': Decimal('2007'),\n",
       "  'title': 'Death Sentence'}]"
      ]
     },
     "execution_count": 15,
     "metadata": {},
     "output_type": "execute_result"
    }
   ],
   "source": [
    "dt.query_items(\"Death Sentence\")"
   ]
  }
 ],
 "metadata": {
  "kernelspec": {
   "display_name": "Python 3",
   "language": "python",
   "name": "python3"
  },
  "language_info": {
   "codemirror_mode": {
    "name": "ipython",
    "version": 3
   },
   "file_extension": ".py",
   "mimetype": "text/x-python",
   "name": "python",
   "nbconvert_exporter": "python",
   "pygments_lexer": "ipython3",
   "version": "3.9.12"
  },
  "vscode": {
   "interpreter": {
    "hash": "3ad933181bd8a04b432d3370b9dc3b0662ad032c4dfaa4e4f1596c548f763858"
   }
  }
 },
 "nbformat": 4,
 "nbformat_minor": 5
}
