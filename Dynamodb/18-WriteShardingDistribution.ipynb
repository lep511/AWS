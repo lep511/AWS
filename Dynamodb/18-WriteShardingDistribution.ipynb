{
 "cells": [
  {
   "attachments": {},
   "cell_type": "markdown",
   "metadata": {},
   "source": [
    "## Uso de la fragmentación de escritura para distribuir cargas de trabajo uniformemente\n",
    "\n",
    "Una forma de distribuir mejor las escrituras entre un espacio de claves de particiones en Amazon DynamoDB consiste en ampliar el espacio. Esto puede hacerse de diferentes maneras. Puede agregar un número aleatorio a los valores de clave de partición para distribuir los elementos entre particiones. O puede usar un número que se calcula en función de algo que esté consultando.\n",
    "\n",
    "### Partición con sufijos aleatorios\n",
    "Una estrategia para distribuir las cargas de forma más uniforme en un espacio de claves de partición consiste en añadir un número aleatorio al final de los valores de la clave de partición. De ese modo, las escrituras se distribuyen aleatoriamente por un espacio mayor.\n",
    "\n",
    "Por ejemplo, para una clave de partición que representara la fecha de hoy, podría elegir un número aleatorio comprendido entre 1 y 200 y concatenarlo a la fecha como sufijo. De este modo, se generarían valores de clave de partición, como 2014-07-09.1, 2014-07-09.2 y así sucesivamente hasta 2014-07-09.200. Al aplicar un número aleatorio a la clave de partición, las escrituras que se producen en la tabla de cada día se distribuyen uniformemente por varias particiones. Como resultado, se mejora el paralelismo y el rendimiento general.\n",
    "\n",
    "Sin embargo, si quisiera leer todos los elementos de un día determinado, tendría que hacer una consulta de todos los sufijos y fusionar después los resultados. Por ejemplo, primero debería emitir una solicitud Query para el valor de la clave de partición 2014-07-09.1. A continuación, emita otra Query para 2014-07-09.2 y, así sucesivamente, hasta 2014-07-09.200. Por último, la aplicación tendría que fusionar los resultados de todas estas solicitudes Query.\n",
    "\n",
    "### Partición con sufijos calculados\n",
    "Aplicar una estrategia de aleatorización puede mejorar considerablemente el rendimiento de la escritura. Sin embargo, dificulta la lectura de un elemento concreto, ya que no es posible saber qué sufijo se utilizó al escribir el elemento. Para facilitar la lectura de elementos concretos, puede usar una estrategia diferente. En lugar de utilizar un número aleatorio para distribuir los elementos entre las particiones, puede utilizar un número que se calculará en función de algo que se quiere consultar.\n",
    "\n",
    "Consideremos el ejemplo anterior, en el que una tabla utiliza la fecha de hoy en la clave de partición. Ahora, supongamos que cada elemento tiene un atributo OrderId (ID de pedido) accesible y que lo que suele necesitar con más frecuencia es buscar elementos por el ID de pedido además de por la fecha. Antes de que la aplicación escriba el elemento en la tabla, se podría calcular un sufijo hash basado en el ID de pedido y anexarlo a la fecha de la clave de partición. El cálculo podría generar un número comprendido entre 1 y 200 que esté bastante bien distribuido, igual que el que se genera con la estrategia aleatoria.\n",
    "\n",
    "Probablemente, bastaría con realizar un sencillo cálculo, como el producto de los valores de punto de código UTF-8 de los caracteres del ID de pedido, módulo 200, +1. El valor de la clave de partición sería la fecha junto con el resultado del cálculo.\n",
    "\n",
    "Con esta estrategia, las escrituras se distribuyen de manera uniforme entre los valores de clave de partición y, por lo tanto, entre las particiones físicas. Es fácil realizar una operación GetItem en un elemento y una fecha determinados, ya que se puede calcular el valor de clave de partición de un valor de OrderId concreto.\n",
    "\n",
    "Para leer todos los elementos de un día determinado, también en este caso deberá utilizar una solicitud Query para cada una de las claves 2014-07-09.N (donde N es un valor comprendido entre 1 y 200) y la aplicación tendría que fusionar todos los resultados. El beneficio es que evitaría que un único valor de clave de partición \"caliente\" acaparase toda la carga de trabajo."
   ]
  },
  {
   "cell_type": "code",
   "execution_count": 1,
   "metadata": {},
   "outputs": [],
   "source": [
    "import boto3\n",
    "from botocore.exceptions import ClientError\n",
    "import pandas as pd\n",
    "from spdynamodb import DynamoTable\n",
    "import json\n",
    "from decimal import Decimal\n",
    "from datetime import datetime\n",
    "import random"
   ]
  },
  {
   "cell_type": "code",
   "execution_count": 2,
   "metadata": {},
   "outputs": [
    {
     "name": "stdout",
     "output_type": "stream",
     "text": [
      "- Table name: ShardingDistributionSample            \n",
      "- Table arn: arn:aws:dynamodb:us-east-1:237195748584:table/ShardingDistributionSample            \n",
      "- Table creation: 2023-06-23 18:31:41            \n",
      "- [{'AttributeName': 'PK', 'KeyType': 'HASH'}, {'AttributeName': 'SK', 'KeyType': 'RANGE'}]            \n",
      "- [{'AttributeName': 'PK', 'AttributeType': 'S'}, {'AttributeName': 'SK', 'AttributeType': 'S'}]            \n",
      "- Point-in-time recovery status: DISABLED  |  Delete protection: False\n"
     ]
    }
   ],
   "source": [
    "dt=DynamoTable()\n",
    "try:\n",
    "    dt.select_table('ShardingDistributionSample')\n",
    "    print(dt)\n",
    "except:\n",
    "    dt.create_table(\n",
    "        table_name='ShardingDistributionSample',\n",
    "        partition_key='PK',\n",
    "        partition_key_type='S',\n",
    "        sort_key='SK',\n",
    "        sort_key_type='S'\n",
    "    )"
   ]
  },
  {
   "cell_type": "code",
   "execution_count": 5,
   "metadata": {},
   "outputs": [],
   "source": [
    "today = datetime.now().strftime('%Y-%m-%d')\n",
    "def generate_base(id):\n",
    "    id = str(id)\n",
    "    total = sum(ord(char) for char in id)\n",
    "    result = (total % 200) + 1\n",
    "    return result\n",
    "\n",
    "def generate_data(total_items=300):\n",
    "    count_total = 0  \n",
    "    pk, sk, OrderId, ProductId, Price, Category, Region = [], [], [], [], [], [], []\n",
    "    for i in range(total_items):\n",
    "        if count_total == total_items:\n",
    "            break\n",
    "        else:\n",
    "            product_id = \"id-\" + str(random.randint(10000, 99999))\n",
    "            price = random.randint(100, 9999)\n",
    "            category = random.choice([\"Electronics\", \"Books\", \"Home\", \"Kitchen\", \"Sports\"])\n",
    "            region = random.choice([\"US\", \"EU\", \"ASIA\"])\n",
    "            order_id = \"order-\" + str(random.randint(10000000, 99999999))\n",
    "            pk.append(today + \".\" + str(generate_base(order_id)))\n",
    "            sk.append(order_id)\n",
    "            OrderId.append(order_id)\n",
    "            ProductId.append(product_id)\n",
    "            Price.append(price)\n",
    "            Category.append(category)\n",
    "            Region.append(region)\n",
    "        \n",
    "    df_main = pd.DataFrame(\n",
    "        {\n",
    "            \"PK\": pk,\n",
    "            \"SK\": sk,\n",
    "            \"OrderId\": OrderId,\n",
    "            \"ProductId\": ProductId,\n",
    "            \"Price\": Price,\n",
    "            \"Category\": Category,\n",
    "            \"Region\": Region\n",
    "        }\n",
    "    )   \n",
    "    return df_main"
   ]
  },
  {
   "cell_type": "code",
   "execution_count": 6,
   "metadata": {},
   "outputs": [],
   "source": [
    "df = generate_data(total_items=500)\n",
    "dt.batch_pandas(df)"
   ]
  },
  {
   "attachments": {},
   "cell_type": "markdown",
   "metadata": {},
   "source": [
    "Para saber a que PK corresponde la orden: `order-xxxxxxxx`\n",
    "\n",
    "Ejecutamos:"
   ]
  },
  {
   "cell_type": "code",
   "execution_count": 7,
   "metadata": {},
   "outputs": [
    {
     "name": "stdout",
     "output_type": "stream",
     "text": [
      "14\n"
     ]
    }
   ],
   "source": [
    "order = 'order-28284983'\n",
    "result = (sum(ord(char) for char in order) % 200) + 1\n",
    "print(result)"
   ]
  },
  {
   "cell_type": "code",
   "execution_count": 17,
   "metadata": {},
   "outputs": [
    {
     "name": "stdout",
     "output_type": "stream",
     "text": [
      "{'ProductId': 'id-89544', 'Region': 'US', 'Price': 2811, 'SK': 'order-28284983', 'PK': '2023-06-23.14', 'Category': 'Home', 'OrderId': 'order-28284983'}\n"
     ]
    }
   ],
   "source": [
    "response = dt.query(\n",
    "    pk_value=today + \".\" + str(result),\n",
    "    sk_value=order\n",
    ")\n",
    "print(response['Items'])"
   ]
  }
 ],
 "metadata": {
  "kernelspec": {
   "display_name": "personal",
   "language": "python",
   "name": "python3"
  },
  "language_info": {
   "codemirror_mode": {
    "name": "ipython",
    "version": 3
   },
   "file_extension": ".py",
   "mimetype": "text/x-python",
   "name": "python",
   "nbconvert_exporter": "python",
   "pygments_lexer": "ipython3",
   "version": "3.11.3"
  },
  "orig_nbformat": 4
 },
 "nbformat": 4,
 "nbformat_minor": 2
}
