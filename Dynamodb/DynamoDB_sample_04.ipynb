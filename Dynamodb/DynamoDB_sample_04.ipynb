{
 "cells": [
  {
   "cell_type": "markdown",
   "id": "3e354a56-93ff-49e6-affb-e0a917187c41",
   "metadata": {
    "tags": []
   },
   "source": [
    "## [Amazon DynamoDB examples (link)](https://github.com/awsdocs/aws-doc-sdk-examples/tree/main/python/example_code/dynamodb)"
   ]
  },
  {
   "cell_type": "code",
   "execution_count": 3,
   "id": "16cd82a1-686f-4848-ba42-9c700b7bf6d9",
   "metadata": {},
   "outputs": [],
   "source": [
    "from decimal import Decimal\n",
    "from io import BytesIO\n",
    "import json\n",
    "import logging\n",
    "import os\n",
    "from pprint import pprint\n",
    "import requests\n",
    "from zipfile import ZipFile\n",
    "import boto3\n",
    "from boto3.dynamodb.conditions import Key\n",
    "from botocore.exceptions import ClientError"
   ]
  },
  {
   "cell_type": "code",
   "execution_count": 4,
   "id": "6b7948b8-b734-426e-a05f-ddcb1f2cb05d",
   "metadata": {},
   "outputs": [],
   "source": [
    "# Get the service resource.\n",
    "dynamodb = boto3.resource('dynamodb')"
   ]
  },
  {
   "cell_type": "code",
   "execution_count": 5,
   "id": "1356d1f5-58f0-4c27-afbc-77550aa7c25a",
   "metadata": {},
   "outputs": [],
   "source": [
    "class DecimalEncoder(json.JSONEncoder):\n",
    "  def default(self, obj):\n",
    "    if isinstance(obj, Decimal):\n",
    "      return float(obj)\n",
    "    return json.JSONEncoder.default(self, obj)"
   ]
  },
  {
   "cell_type": "code",
   "execution_count": 6,
   "id": "bedced2c-2b0b-4218-955f-7281d9e90cdd",
   "metadata": {},
   "outputs": [],
   "source": [
    "class Movies:\n",
    "    \"\"\"Encapsulates an Amazon DynamoDB table of movie data.\"\"\"\n",
    "    def __init__(self, dyn_resource):\n",
    "        \"\"\"\n",
    "        :param dyn_resource: A Boto3 DynamoDB resource.\n",
    "        \"\"\"\n",
    "        self.dyn_resource = dyn_resource\n",
    "        self.table = None\n",
    "\n",
    "    def exists(self, table_name):\n",
    "        \"\"\"\n",
    "        Determines whether a table exists. As a side effect, stores the table in\n",
    "        a member variable.\n",
    "        :param table_name: The name of the table to check.\n",
    "        :return: True when the table exists; otherwise, False.\n",
    "        \"\"\"\n",
    "        try:\n",
    "            table = self.dyn_resource.Table(table_name)\n",
    "            table.load()\n",
    "            exists = True\n",
    "        except ClientError as err:\n",
    "            if err.response['Error']['Code'] == 'ResourceNotFoundException':\n",
    "                exists = False\n",
    "            else:\n",
    "                logger.error(\n",
    "                    \"Couldn't check for existence of %s. Here's why: %s: %s\",\n",
    "                    table_name,\n",
    "                    err.response['Error']['Code'], err.response['Error']['Message'])\n",
    "                raise\n",
    "        else:\n",
    "            self.table = table\n",
    "        return exists\n",
    "\n",
    "    def create_table(self, table_name):\n",
    "        \"\"\"\n",
    "        Creates an Amazon DynamoDB table that can be used to store movie data.\n",
    "        The table uses the release year of the movie as the partition key and the\n",
    "        title as the sort key.\n",
    "        :param table_name: The name of the table to create.\n",
    "        :return: The newly created table.\n",
    "        \"\"\"\n",
    "        try:\n",
    "            self.table = self.dyn_resource.create_table(\n",
    "                TableName=table_name,\n",
    "                KeySchema=[\n",
    "                    {'AttributeName': 'year', 'KeyType': 'HASH'},  # Partition key\n",
    "                    {'AttributeName': 'title', 'KeyType': 'RANGE'}  # Sort key\n",
    "                ],\n",
    "                AttributeDefinitions=[\n",
    "                    {'AttributeName': 'year', 'AttributeType': 'N'},\n",
    "                    {'AttributeName': 'title', 'AttributeType': 'S'}\n",
    "                ],\n",
    "                ProvisionedThroughput={'ReadCapacityUnits': 10, 'WriteCapacityUnits': 10})\n",
    "            self.table.wait_until_exists()\n",
    "        except ClientError as err:\n",
    "            logger.error(\n",
    "                \"Couldn't create table %s. Here's why: %s: %s\", table_name,\n",
    "                err.response['Error']['Code'], err.response['Error']['Message'])\n",
    "            raise\n",
    "        else:\n",
    "            return self.table\n",
    "\n",
    "    def write_batch(self, movies):\n",
    "        \"\"\"\n",
    "        Fills an Amazon DynamoDB table with the specified data, using the Boto3\n",
    "        Table.batch_writer() function to put the items in the table.\n",
    "        Inside the context manager, Table.batch_writer builds a list of\n",
    "        requests. On exiting the context manager, Table.batch_writer starts sending\n",
    "        batches of write requests to Amazon DynamoDB and automatically\n",
    "        handles chunking, buffering, and retrying.\n",
    "        :param movies: The data to put in the table. Each item must contain at least\n",
    "                       the keys required by the schema that was specified when the\n",
    "                       table was created.\n",
    "        \"\"\"\n",
    "        try:\n",
    "            with self.table.batch_writer() as writer:\n",
    "                for movie in movies:\n",
    "                    writer.put_item(Item=movie)\n",
    "        except ClientError as err:\n",
    "            logger.error(\n",
    "                \"Couldn't load data into table %s. Here's why: %s: %s\", self.table.name,\n",
    "                err.response['Error']['Code'], err.response['Error']['Message'])\n",
    "            raise\n",
    "\n",
    "    def add_movie(self, title, year, plot, rating):\n",
    "        \"\"\"\n",
    "        Adds a movie to the table.\n",
    "        :param title: The title of the movie.\n",
    "        :param year: The release year of the movie.\n",
    "        :param plot: The plot summary of the movie.\n",
    "        :param rating: The quality rating of the movie.\n",
    "        \"\"\"\n",
    "        try:\n",
    "            self.table.put_item(\n",
    "                Item={\n",
    "                    'year': year,\n",
    "                    'title': title,\n",
    "                    'info': {'plot': plot, 'rating': Decimal(str(rating))}})\n",
    "        except ClientError as err:\n",
    "            logger.error(\n",
    "                \"Couldn't add movie %s to table %s. Here's why: %s: %s\",\n",
    "                title, self.table.name,\n",
    "                err.response['Error']['Code'], err.response['Error']['Message'])\n",
    "            raise\n",
    "\n",
    "    def get_movie(self, title, year):\n",
    "        \"\"\"\n",
    "        Gets movie data from the table for a specific movie.\n",
    "        :param title: The title of the movie.\n",
    "        :param year: The release year of the movie.\n",
    "        :return: The data about the requested movie.\n",
    "        \"\"\"\n",
    "        response = self.table.get_item(Key={'year': year, 'title': title})\n",
    "        try:\n",
    "            js_data = json.dumps(response['Item'], cls=DecimalEncoder)\n",
    "            result = json.loads(js_data)\n",
    "            return result\n",
    "\n",
    "        except:\n",
    "            return (None, response)\n",
    "\n",
    "    def update_movie(self, title, year, rating, plot):\n",
    "        \"\"\"\n",
    "        Updates rating and plot data for a movie in the table.\n",
    "        :param title: The title of the movie to update.\n",
    "        :param year: The release year of the movie to update.\n",
    "        :param rating: The updated rating to the give the movie.\n",
    "        :param plot: The updated plot summary to give the movie.\n",
    "        :return: The fields that were updated, with their new values.\n",
    "        \"\"\"\n",
    "        try:\n",
    "            response = self.table.update_item(\n",
    "                Key={'year': year, 'title': title},\n",
    "                UpdateExpression=\"set info.rating=:r, info.plot=:p\",\n",
    "                ExpressionAttributeValues={\n",
    "                    ':r': Decimal(str(rating)), ':p': plot},\n",
    "                ReturnValues=\"UPDATED_NEW\")\n",
    "        except ClientError as err:\n",
    "            logger.error(\n",
    "                \"Couldn't update movie %s in table %s. Here's why: %s: %s\",\n",
    "                title, self.table.name,\n",
    "                err.response['Error']['Code'], err.response['Error']['Message'])\n",
    "            raise\n",
    "        else:\n",
    "            return response['Attributes']\n",
    "\n",
    "    def query_movies(self, year):\n",
    "        \"\"\"\n",
    "        Queries for movies that were released in the specified year.\n",
    "        :param year: The year to query.\n",
    "        :return: The list of movies that were released in the specified year.\n",
    "        \"\"\"\n",
    "        try:\n",
    "            response = self.table.query(KeyConditionExpression=Key('year').eq(year))\n",
    "        except ClientError as err:\n",
    "            logger.error(\n",
    "                \"Couldn't query for movies released in %s. Here's why: %s: %s\", year,\n",
    "                err.response['Error']['Code'], err.response['Error']['Message'])\n",
    "            raise\n",
    "        else:\n",
    "            return response['Items']\n",
    "\n",
    "    def scan_movies(self, year_range):\n",
    "        \"\"\"\n",
    "        Scans for movies that were released in a range of years.\n",
    "        Uses a projection expression to return a subset of data for each movie.\n",
    "        :param year_range: The range of years to retrieve.\n",
    "        :return: The list of movies released in the specified years.\n",
    "        \"\"\"\n",
    "        movies = []\n",
    "        scan_kwargs = {\n",
    "            'FilterExpression': Key('year').between(year_range['first'], year_range['second']),\n",
    "            'ProjectionExpression': \"#yr, title, info.rating\",\n",
    "            'ExpressionAttributeNames': {\"#yr\": \"year\"}}\n",
    "        try:\n",
    "            done = False\n",
    "            start_key = None\n",
    "            while not done:\n",
    "                if start_key:\n",
    "                    scan_kwargs['ExclusiveStartKey'] = start_key\n",
    "                response = self.table.scan(**scan_kwargs)\n",
    "                movies.extend(response.get('Items', []))\n",
    "                start_key = response.get('LastEvaluatedKey', None)\n",
    "                done = start_key is None\n",
    "        except ClientError as err:\n",
    "            logger.error(\n",
    "                \"Couldn't scan for movies. Here's why: %s: %s\",\n",
    "                err.response['Error']['Code'], err.response['Error']['Message'])\n",
    "            raise\n",
    "\n",
    "        return movies\n",
    "\n",
    "    def delete_movie(self, title, year):\n",
    "        \"\"\"\n",
    "        Deletes a movie from the table.\n",
    "        :param title: The title of the movie to delete.\n",
    "        :param year: The release year of the movie to delete.\n",
    "        \"\"\"\n",
    "        try:\n",
    "            self.table.delete_item(Key={'year': year, 'title': title})\n",
    "        except ClientError as err:\n",
    "            logger.error(\n",
    "                \"Couldn't delete movie %s. Here's why: %s: %s\", title,\n",
    "                err.response['Error']['Code'], err.response['Error']['Message'])\n",
    "            raise\n",
    "\n",
    "    def delete_table(self):\n",
    "        \"\"\"\n",
    "        Deletes the table.\n",
    "        \"\"\"\n",
    "        try:\n",
    "            self.table.delete()\n",
    "            self.table = None\n",
    "        except ClientError as err:\n",
    "            logger.error(\n",
    "                \"Couldn't delete table. Here's why: %s: %s\",\n",
    "                err.response['Error']['Code'], err.response['Error']['Message'])\n",
    "            raise"
   ]
  },
  {
   "cell_type": "code",
   "execution_count": 7,
   "id": "e37afc29-9eaa-41ea-ae96-b26c95f0a7a8",
   "metadata": {},
   "outputs": [],
   "source": [
    "logger = logging.getLogger(__name__)"
   ]
  },
  {
   "cell_type": "code",
   "execution_count": 8,
   "id": "456252a5-e15e-4786-ba92-956080241d2a",
   "metadata": {},
   "outputs": [],
   "source": [
    "movies = Movies(dynamodb)"
   ]
  },
  {
   "cell_type": "code",
   "execution_count": 9,
   "id": "2b17e0de-962f-44ca-898c-a7b8cf7cd6cf",
   "metadata": {},
   "outputs": [
    {
     "data": {
      "text/plain": [
       "dynamodb.Table(name='movies')"
      ]
     },
     "execution_count": 9,
     "metadata": {},
     "output_type": "execute_result"
    }
   ],
   "source": [
    "movies.create_table(\"movies\")"
   ]
  },
  {
   "cell_type": "code",
   "execution_count": 16,
   "id": "24fc425d-762c-4d89-acbc-e896072b2a5c",
   "metadata": {},
   "outputs": [
    {
     "data": {
      "text/plain": [
       "True"
      ]
     },
     "execution_count": 16,
     "metadata": {},
     "output_type": "execute_result"
    }
   ],
   "source": [
    "movies.exists(\"MusicExample\")"
   ]
  },
  {
   "cell_type": "code",
   "execution_count": 11,
   "id": "b8f0beb4-bcb2-4b65-85b7-f9494d984640",
   "metadata": {},
   "outputs": [],
   "source": [
    "with open('moviedata.json') as movie_file:\n",
    "    movie_data = json.load(movie_file, parse_float=Decimal)"
   ]
  },
  {
   "cell_type": "code",
   "execution_count": 12,
   "id": "31849c3f-c1d5-4d92-94f5-6f0ec7fe363d",
   "metadata": {},
   "outputs": [],
   "source": [
    "movies.write_batch(movie_data)"
   ]
  },
  {
   "cell_type": "code",
   "execution_count": 13,
   "id": "af5bfd19-94df-4bbe-a173-079e62e2a9be",
   "metadata": {},
   "outputs": [
    {
     "data": {
      "text/plain": [
       "{'year': 1975.0,\n",
       " 'info': {'actors': ['Graham Chapman', 'John Cleese', 'Eric Idle'],\n",
       "  'release_date': '1975-03-14T00:00:00Z',\n",
       "  'plot': 'King Arthur and his knights embark on a low-budget search for the Grail, encountering many very silly obstacles.',\n",
       "  'genres': ['Adventure', 'Comedy', 'Fantasy'],\n",
       "  'image_url': 'http://ia.media-imdb.com/images/M/MV5BMTkzODczMTgwM15BMl5BanBnXkFtZTYwNTAwODI5._V1_SX400_.jpg',\n",
       "  'directors': ['Terry Gilliam', 'Terry Jones'],\n",
       "  'rating': 8.3,\n",
       "  'rank': 1063.0,\n",
       "  'running_time_secs': 5460.0},\n",
       " 'title': 'Monty Python and the Holy Grail'}"
      ]
     },
     "execution_count": 13,
     "metadata": {},
     "output_type": "execute_result"
    }
   ],
   "source": [
    "movies.get_movie(\"Monty Python and the Holy Grail\", 1975)"
   ]
  },
  {
   "cell_type": "code",
   "execution_count": null,
   "id": "636f1f21-add9-4b02-be23-e5a4982842e0",
   "metadata": {},
   "outputs": [],
   "source": []
  }
 ],
 "metadata": {
  "kernelspec": {
   "display_name": "default:Python",
   "language": "python",
   "name": "conda-env-default-py"
  },
  "language_info": {
   "codemirror_mode": {
    "name": "ipython",
    "version": 3
   },
   "file_extension": ".py",
   "mimetype": "text/x-python",
   "name": "python",
   "nbconvert_exporter": "python",
   "pygments_lexer": "ipython3",
   "version": "3.9.10"
  }
 },
 "nbformat": 4,
 "nbformat_minor": 5
}
