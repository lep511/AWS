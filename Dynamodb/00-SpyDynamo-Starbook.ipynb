{
 "cells": [
  {
   "cell_type": "code",
   "execution_count": 1,
   "metadata": {},
   "outputs": [],
   "source": [
    "import boto3\n",
    "from botocore.exceptions import ClientError\n",
    "import pandas as pd\n",
    "import base64\n",
    "from spdynamodb import DynamoTable\n",
    "from datetime import datetime\n",
    "import json"
   ]
  },
  {
   "cell_type": "markdown",
   "metadata": {},
   "source": [
    "#### Create a table"
   ]
  },
  {
   "cell_type": "code",
   "execution_count": 2,
   "metadata": {},
   "outputs": [
    {
     "name": "stdout",
     "output_type": "stream",
     "text": [
      "- Table name: Music            \n",
      "- Table arn: arn:aws:dynamodb:us-east-1:637423169504:table/Music            \n",
      "- Table creation: 2024-07-21 15:59:04            \n",
      "- [{'AttributeName': 'Artist', 'KeyType': 'HASH'}, {'AttributeName': 'SongTitle', 'KeyType': 'RANGE'}]            \n",
      "- [{'AttributeName': 'Artist', 'AttributeType': 'S'}, {'AttributeName': 'SongTitle', 'AttributeType': 'S'}]            \n",
      "- Point-in-time recovery status: DISABLED  |  Delete protection: False\n"
     ]
    }
   ],
   "source": [
    "dt=DynamoTable()\n",
    "try:\n",
    "    dt.select_table('Music')\n",
    "    print(dt)\n",
    "except:\n",
    "    dt.create_table(\n",
    "        table_name='Music',\n",
    "        partition_key='Artist',\n",
    "        partition_key_type='S',\n",
    "        sort_key='SongTitle',\n",
    "        sort_key_type='S',\n",
    "        rcu=10,\n",
    "        wcu=5\n",
    "    )"
   ]
  },
  {
   "cell_type": "markdown",
   "metadata": {},
   "source": [
    "#### Write item to a table"
   ]
  },
  {
   "cell_type": "code",
   "execution_count": 3,
   "metadata": {},
   "outputs": [],
   "source": [
    "dt.add_item(\n",
    "    {\n",
    "        \"Artist\": \"Adele\",\n",
    "        \"SongTitle\": \"Rolling in the Deep\",\n",
    "        \"Album\": \"21\",\n",
    "        \"Year\": \"2011\",\n",
    "        \"Genre\": \"Pop\",\n",
    "        \"Length\": \"3:48\",\n",
    "    }\n",
    ")"
   ]
  },
  {
   "cell_type": "markdown",
   "metadata": {},
   "source": [
    "#### Read item from a table"
   ]
  },
  {
   "cell_type": "code",
   "execution_count": 4,
   "metadata": {},
   "outputs": [
    {
     "data": {
      "text/plain": [
       "{'Album': '21',\n",
       " 'Artist': 'Adele',\n",
       " 'Genre': 'Pop',\n",
       " 'Year': '2011',\n",
       " 'Length': '3:48',\n",
       " 'SongTitle': 'Rolling in the Deep'}"
      ]
     },
     "execution_count": 4,
     "metadata": {},
     "output_type": "execute_result"
    }
   ],
   "source": [
    "dt.get_item(\n",
    "    pk_value=\"Adele\", \n",
    "    sk_value=\"Rolling in the Deep\",\n",
    "    #consistent_read=True\n",
    ")"
   ]
  },
  {
   "cell_type": "markdown",
   "metadata": {},
   "source": [
    "#### Delete item from a table"
   ]
  },
  {
   "cell_type": "code",
   "execution_count": 5,
   "metadata": {},
   "outputs": [
    {
     "data": {
      "text/plain": [
       "True"
      ]
     },
     "execution_count": 5,
     "metadata": {},
     "output_type": "execute_result"
    }
   ],
   "source": [
    "dt.delete_item(\n",
    "    pk_value=\"Adele\", \n",
    "    sk_value=\"Rolling in the Deep\"\n",
    ")"
   ]
  },
  {
   "cell_type": "markdown",
   "metadata": {},
   "source": [
    "#### Query a table"
   ]
  },
  {
   "cell_type": "code",
   "execution_count": 11,
   "metadata": {},
   "outputs": [],
   "source": [
    "for i in range(1, 11):\n",
    "    dt.add_item(\n",
    "        {\n",
    "            \"Artist\": \"Adele\",\n",
    "            \"SongTitle\": f\"Rolling in the Deep ver {i}\",\n",
    "            \"Album\": \"21\",\n",
    "            \"Year\": \"2011\",\n",
    "            \"Genre\": \"Pop\",\n",
    "            \"Length\": \"3:48\",\n",
    "        }\n",
    "    )"
   ]
  },
  {
   "cell_type": "code",
   "execution_count": 14,
   "metadata": {},
   "outputs": [
    {
     "data": {
      "text/html": [
       "<div>\n",
       "<style scoped>\n",
       "    .dataframe tbody tr th:only-of-type {\n",
       "        vertical-align: middle;\n",
       "    }\n",
       "\n",
       "    .dataframe tbody tr th {\n",
       "        vertical-align: top;\n",
       "    }\n",
       "\n",
       "    .dataframe thead th {\n",
       "        text-align: right;\n",
       "    }\n",
       "</style>\n",
       "<table border=\"1\" class=\"dataframe\">\n",
       "  <thead>\n",
       "    <tr style=\"text-align: right;\">\n",
       "      <th></th>\n",
       "      <th>Album</th>\n",
       "      <th>Artist</th>\n",
       "      <th>Genre</th>\n",
       "      <th>Year</th>\n",
       "      <th>Length</th>\n",
       "      <th>SongTitle</th>\n",
       "    </tr>\n",
       "  </thead>\n",
       "  <tbody>\n",
       "    <tr>\n",
       "      <th>0</th>\n",
       "      <td>21</td>\n",
       "      <td>Adele</td>\n",
       "      <td>Pop</td>\n",
       "      <td>2011</td>\n",
       "      <td>3:48</td>\n",
       "      <td>Rolling in the Deep ver 2</td>\n",
       "    </tr>\n",
       "  </tbody>\n",
       "</table>\n",
       "</div>"
      ],
      "text/plain": [
       "  Album Artist Genre  Year Length                  SongTitle\n",
       "0    21  Adele   Pop  2011   3:48  Rolling in the Deep ver 2"
      ]
     },
     "execution_count": 14,
     "metadata": {},
     "output_type": "execute_result"
    }
   ],
   "source": [
    "dt.query(\n",
    "    pk_value=\"Adele\",\n",
    "    sk_value=\"Rolling in the Deep ver 2\",\n",
    "    to_pandas=True\n",
    ")"
   ]
  },
  {
   "cell_type": "code",
   "execution_count": 12,
   "metadata": {},
   "outputs": [
    {
     "data": {
      "text/html": [
       "<div>\n",
       "<style scoped>\n",
       "    .dataframe tbody tr th:only-of-type {\n",
       "        vertical-align: middle;\n",
       "    }\n",
       "\n",
       "    .dataframe tbody tr th {\n",
       "        vertical-align: top;\n",
       "    }\n",
       "\n",
       "    .dataframe thead th {\n",
       "        text-align: right;\n",
       "    }\n",
       "</style>\n",
       "<table border=\"1\" class=\"dataframe\">\n",
       "  <thead>\n",
       "    <tr style=\"text-align: right;\">\n",
       "      <th></th>\n",
       "      <th>Album</th>\n",
       "      <th>Artist</th>\n",
       "      <th>Genre</th>\n",
       "      <th>Year</th>\n",
       "      <th>Length</th>\n",
       "      <th>SongTitle</th>\n",
       "    </tr>\n",
       "  </thead>\n",
       "  <tbody>\n",
       "    <tr>\n",
       "      <th>0</th>\n",
       "      <td>21</td>\n",
       "      <td>Adele</td>\n",
       "      <td>Pop</td>\n",
       "      <td>2011</td>\n",
       "      <td>3:48</td>\n",
       "      <td>Rolling in the Deep</td>\n",
       "    </tr>\n",
       "    <tr>\n",
       "      <th>1</th>\n",
       "      <td>21</td>\n",
       "      <td>Adele</td>\n",
       "      <td>Pop</td>\n",
       "      <td>2011</td>\n",
       "      <td>3:48</td>\n",
       "      <td>Rolling in the Deep ver 1</td>\n",
       "    </tr>\n",
       "    <tr>\n",
       "      <th>2</th>\n",
       "      <td>21</td>\n",
       "      <td>Adele</td>\n",
       "      <td>Pop</td>\n",
       "      <td>2011</td>\n",
       "      <td>3:48</td>\n",
       "      <td>Rolling in the Deep ver 10</td>\n",
       "    </tr>\n",
       "    <tr>\n",
       "      <th>3</th>\n",
       "      <td>21</td>\n",
       "      <td>Adele</td>\n",
       "      <td>Pop</td>\n",
       "      <td>2011</td>\n",
       "      <td>3:48</td>\n",
       "      <td>Rolling in the Deep ver 2</td>\n",
       "    </tr>\n",
       "    <tr>\n",
       "      <th>4</th>\n",
       "      <td>21</td>\n",
       "      <td>Adele</td>\n",
       "      <td>Pop</td>\n",
       "      <td>2011</td>\n",
       "      <td>3:48</td>\n",
       "      <td>Rolling in the Deep ver 3</td>\n",
       "    </tr>\n",
       "    <tr>\n",
       "      <th>5</th>\n",
       "      <td>21</td>\n",
       "      <td>Adele</td>\n",
       "      <td>Pop</td>\n",
       "      <td>2011</td>\n",
       "      <td>3:48</td>\n",
       "      <td>Rolling in the Deep ver 4</td>\n",
       "    </tr>\n",
       "    <tr>\n",
       "      <th>6</th>\n",
       "      <td>21</td>\n",
       "      <td>Adele</td>\n",
       "      <td>Pop</td>\n",
       "      <td>2011</td>\n",
       "      <td>3:48</td>\n",
       "      <td>Rolling in the Deep ver 5</td>\n",
       "    </tr>\n",
       "    <tr>\n",
       "      <th>7</th>\n",
       "      <td>21</td>\n",
       "      <td>Adele</td>\n",
       "      <td>Pop</td>\n",
       "      <td>2011</td>\n",
       "      <td>3:48</td>\n",
       "      <td>Rolling in the Deep ver 6</td>\n",
       "    </tr>\n",
       "    <tr>\n",
       "      <th>8</th>\n",
       "      <td>21</td>\n",
       "      <td>Adele</td>\n",
       "      <td>Pop</td>\n",
       "      <td>2011</td>\n",
       "      <td>3:48</td>\n",
       "      <td>Rolling in the Deep ver 7</td>\n",
       "    </tr>\n",
       "    <tr>\n",
       "      <th>9</th>\n",
       "      <td>21</td>\n",
       "      <td>Adele</td>\n",
       "      <td>Pop</td>\n",
       "      <td>2011</td>\n",
       "      <td>3:48</td>\n",
       "      <td>Rolling in the Deep ver 8</td>\n",
       "    </tr>\n",
       "    <tr>\n",
       "      <th>10</th>\n",
       "      <td>21</td>\n",
       "      <td>Adele</td>\n",
       "      <td>Pop</td>\n",
       "      <td>2011</td>\n",
       "      <td>3:48</td>\n",
       "      <td>Rolling in the Deep ver 9</td>\n",
       "    </tr>\n",
       "  </tbody>\n",
       "</table>\n",
       "</div>"
      ],
      "text/plain": [
       "   Album Artist Genre  Year Length                   SongTitle\n",
       "0     21  Adele   Pop  2011   3:48         Rolling in the Deep\n",
       "1     21  Adele   Pop  2011   3:48   Rolling in the Deep ver 1\n",
       "2     21  Adele   Pop  2011   3:48  Rolling in the Deep ver 10\n",
       "3     21  Adele   Pop  2011   3:48   Rolling in the Deep ver 2\n",
       "4     21  Adele   Pop  2011   3:48   Rolling in the Deep ver 3\n",
       "5     21  Adele   Pop  2011   3:48   Rolling in the Deep ver 4\n",
       "6     21  Adele   Pop  2011   3:48   Rolling in the Deep ver 5\n",
       "7     21  Adele   Pop  2011   3:48   Rolling in the Deep ver 6\n",
       "8     21  Adele   Pop  2011   3:48   Rolling in the Deep ver 7\n",
       "9     21  Adele   Pop  2011   3:48   Rolling in the Deep ver 8\n",
       "10    21  Adele   Pop  2011   3:48   Rolling in the Deep ver 9"
      ]
     },
     "execution_count": 12,
     "metadata": {},
     "output_type": "execute_result"
    }
   ],
   "source": [
    "dt.query(\n",
    "    pk_value=\"Adele\",\n",
    "    to_pandas=True\n",
    ")"
   ]
  },
  {
   "cell_type": "markdown",
   "metadata": {},
   "source": [
    "### List table names"
   ]
  },
  {
   "cell_type": "code",
   "execution_count": 3,
   "metadata": {},
   "outputs": [
    {
     "data": {
      "text/plain": [
       "{'Region': 'us-east-1', 'Tables': ['FooBarTable', 'Music']}"
      ]
     },
     "execution_count": 3,
     "metadata": {},
     "output_type": "execute_result"
    }
   ],
   "source": [
    "dt.list_tables()"
   ]
  }
 ],
 "metadata": {
  "kernelspec": {
   "display_name": "myenv",
   "language": "python",
   "name": "python3"
  },
  "language_info": {
   "codemirror_mode": {
    "name": "ipython",
    "version": 3
   },
   "file_extension": ".py",
   "mimetype": "text/x-python",
   "name": "python",
   "nbconvert_exporter": "python",
   "pygments_lexer": "ipython3",
   "version": "3.12.2"
  }
 },
 "nbformat": 4,
 "nbformat_minor": 2
}
