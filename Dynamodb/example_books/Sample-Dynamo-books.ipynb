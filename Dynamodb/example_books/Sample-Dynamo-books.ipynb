{
 "cells": [
  {
   "cell_type": "markdown",
   "id": "3e354a56-93ff-49e6-affb-e0a917187c41",
   "metadata": {
    "tags": []
   },
   "source": [
    "# Crear y administrar una base de datos no relacional\n",
    "\n",
    "### Información general\n",
    "En este tutorial, usted crea una tabla DynamoDB y utiliza la tabla para almacenar y recuperar datos. Utiliza Python y Boto 3, el AWS SDK para Python, para interactuar con las API de DynamoDB. También aprende algunas maneras claves en las que DynamoDB (una base de datos no relacional) difiere de las bases de datos relacionales tradicionales. El tutorial utiliza una aplicación de librería en línea como un ejemplo guía.\n",
    "\n",
    "### Por qué es importante\n",
    "Deberá entender cómo modelar sus datos para que se ajusten tanto a los patrones de acceso a datos de su aplicación como al modelo subyacente de su base de datos. Al diseñar una nueva aplicación, desea saber que su elección de base de datos puede manejar la mayor carga proveniente del uso adicional de su aplicación.\n",
    "\n",
    "DynamoDB proporciona un rendimiento de baja latencia con escalamiento casi infinito, por lo que no necesita preocuparse por los obstáculos de rendimiento a medida que su aplicación crece. Se puede acceder a DynamoDB a través de una API HTTP o un punto de enlace HTTPS, proveyendo un modelo de interacción simple y seguro con su base de datos. Finalmente, DynamoDB es una base de datos NoSQL, que permite un diseño de esquema flexible que puede evolucionar con la aplicación."
   ]
  },
  {
   "cell_type": "code",
   "execution_count": 101,
   "id": "16cd82a1-686f-4848-ba42-9c700b7bf6d9",
   "metadata": {},
   "outputs": [],
   "source": [
    "import sys\n",
    "sys.path.append('../')\n",
    "from decimal import Decimal\n",
    "from io import BytesIO\n",
    "from datetime import datetime\n",
    "import ast\n",
    "import json\n",
    "import logging\n",
    "import os\n",
    "from pprint import pprint\n",
    "import requests\n",
    "from zipfile import ZipFile\n",
    "import boto3\n",
    "import pandas as pd\n",
    "from spdynamodb import DynamoTable\n",
    "import time"
   ]
  },
  {
   "cell_type": "code",
   "execution_count": 162,
   "id": "57304143-6cab-4c73-8067-bc044bb7bb91",
   "metadata": {},
   "outputs": [],
   "source": [
    "from importlib import reload\n",
    "import spdynamodb\n",
    "reload(spdynamodb)\n",
    "from spdynamodb import DynamoTable"
   ]
  },
  {
   "cell_type": "markdown",
   "id": "0d9784a4-b6b6-4337-8454-e0420fdbc649",
   "metadata": {},
   "source": [
    "### Información general\n",
    "\n",
    "Suponga que va a crear una aplicación de una librería en línea. La librería tiene un gran inventario de libros que se almacenan en su almacén para ser vendidos a los clientes. La aplicación debe mostrar a los usuarios los libros que están disponibles para la venta, así como información básica acerca del libro, como el autor.\n",
    "\n",
    "La aplicación debe recuperar un libro específico en función del título y el autor a fin de que el usuario pueda explorar más detalles cuando vea el libro. Además, la aplicación debe permitir a los usuarios navegar por todos los libros de una categoría específica, como Historia o biografías, para permitir el descubrimiento de libros interesantes.\n",
    "\n",
    "Finalmente, puede tener diferentes formatos de un libro, como en tapa dura, tapa blanda o audiolibro. La aplicación debe almacenar los formatos de libros en existencia mediante un mapeo asociado a los números de elemento del sistema de inventario. La aplicación debe permitir la actualización de los formatos a través del tiempo, puesto que es posible que se necesiten agregar o eliminar formatos de un libro determinado.\n",
    "\n",
    "### Terminología\n",
    "Los siguientes conceptos de DynamoDB son importantes para este módulo:\n",
    "\n",
    "* **Tabla**: un conjunto de registros de datos de DynamoDB.\n",
    "\n",
    "* **Elemento**: un solo registro de datos en una tabla de DynamoDB. Es similar a una fila en una base de datos relacional.\n",
    "\n",
    "* **Atributo**: un único componente de datos que corresponde a un elemento. Es similar a una columna en una base de datos relacional. Sin embargo, a diferencia de las columnas de las bases de datos relacionales, no es necesario especificar los atributos al momento de crear la tabla, salvo la clave principal que se aborda más adelante en este módulo. Los atributos pueden ser de tipo simple, como cadenas, valores enteros o booleanos, así como de tipo complejo, tales como listas o mapas.\n",
    "\n",
    "* **Clave principal**: una clave principal es un identificador único de un solo elemento en una tabla de DynamoDB. Tanto el nombre de la clave principal como el tipo se deben especificar al momento de crear la tabla. Además, se debe incluir una clave principal del tipo especificado con cada elemento incluido en la tabla. Una clave principal simple está compuesta por un único atributo, mientras que una clave principal compuesta cuenta con dos atributos: una clave de partición y una clave de ordenación. Por ejemplo, puede crear una clave principal simple con “UserID” como identificador o crear una clave principal compuesta con la combinación de “UserID” y “Creation_Date” como identificador de un elemento."
   ]
  },
  {
   "cell_type": "markdown",
   "id": "5ee16e3b-fddc-457f-9f2a-bea1559efaf5",
   "metadata": {},
   "source": [
    "### Modelo de datos\n",
    "\n",
    "Al momento de crear una aplicación, siempre debe dedicar tiempo al diseño de los modelos de datos necesarios para la lógica de la aplicación. El diseño del modelo de datos debe tener en cuenta las necesidades de acceso a los datos que la aplicación requerirá, tanto para leer como para escribir datos.\n",
    "\n",
    "DynamoDB es una base de datos no relacional. Si se utilizan bases de datos no relacionales, no es necesario especificar el esquema completo de forma anticipada al crear la tabla. Solo es necesario presentar la clave principal para la tabla, la cual identifica cada registro de la tabla de forma exclusiva. Esto reduce el monto de los costos iniciales correspondientes al diseño del modelo de datos, ya que es posible modificar el esquema fácilmente a medida que cambian las necesidades de la aplicación.\n",
    "\n",
    "Como se mencionó en la sección “Contexto de la aplicación” de la “Introducción” a este tutorial, la aplicación debe recuperar un libro específico según el título y el autor. Debido a que la combinación del título y el autor representan el identificador único de un libro, puede utilizar esos atributos como la clave principal de la tabla. La aplicación también debe almacenar información sobre la categoría del libro, como historia o biografía, así como información acerca de los formatos disponibles (encuadernación de tapa dura y tapa blanda, o audiolibro). Esa información se asigna a los números del elemento en el sistema que funciona como inventario.\n",
    "\n",
    "En este contexto, puede utilizar el siguiente esquema para la tabla:\n",
    "\n",
    "* Título (una cadena): el título del libro\n",
    "* Autor (una cadena): el autor del libro\n",
    "* Categoría (una cadena): la categoría a la que pertenece el libro, por ejemplo, historia, biografía y ciencia ficción\n",
    "* Formatos (un mapa): los diferentes formatos que están disponibles para la venta (por ejemplo, encuadernación de tapa dura y tapa blanda, o audiolibro) y los números del elemento correspondientes en el sistema que funciona como inventario"
   ]
  },
  {
   "cell_type": "code",
   "execution_count": 163,
   "id": "d364411d-dc86-4c4d-9c2a-9f6a628b4d52",
   "metadata": {},
   "outputs": [
    {
     "name": "stderr",
     "output_type": "stream",
     "text": [
      "INFO:Found credentials in shared credentials file: ~/.aws/credentials\n"
     ]
    }
   ],
   "source": [
    "dt = DynamoTable()"
   ]
  },
  {
   "cell_type": "code",
   "execution_count": 164,
   "id": "31b507ee-4cfc-4c6a-bf78-4c7788351730",
   "metadata": {},
   "outputs": [
    {
     "name": "stdout",
     "output_type": "stream",
     "text": [
      "- Table name: Books            \n",
      "- Table arn: arn:aws:dynamodb:us-east-1:379442902244:table/Books            \n",
      "- Table creation: 2023-03-20 15:03:39.657000-03:00            \n",
      "- [{'AttributeName': 'Author', 'KeyType': 'HASH'}, {'AttributeName': 'Title', 'KeyType': 'RANGE'}]            \n",
      "- [{'AttributeName': 'Author', 'AttributeType': 'S'}, {'AttributeName': 'Language_code', 'AttributeType': 'S'}, {'AttributeName': 'Title', 'AttributeType': 'S'}]\n"
     ]
    }
   ],
   "source": [
    "try:\n",
    "    dt.select_table('Books')\n",
    "    print(dt)\n",
    "except:\n",
    "    dt.create_table(\n",
    "        table_name=\"Books\",\n",
    "        partition_key=\"Author\",\n",
    "        partition_key_type=\"S\",\n",
    "        sort_key=\"Title\",\n",
    "        sort_key_type=\"S\",\n",
    "        provisioned=False,\n",
    "    ) "
   ]
  },
  {
   "cell_type": "code",
   "execution_count": 4,
   "id": "f1e4f3b4",
   "metadata": {},
   "outputs": [
    {
     "data": {
      "text/html": [
       "<div>\n",
       "<style scoped>\n",
       "    .dataframe tbody tr th:only-of-type {\n",
       "        vertical-align: middle;\n",
       "    }\n",
       "\n",
       "    .dataframe tbody tr th {\n",
       "        vertical-align: top;\n",
       "    }\n",
       "\n",
       "    .dataframe thead th {\n",
       "        text-align: right;\n",
       "    }\n",
       "</style>\n",
       "<table border=\"1\" class=\"dataframe\">\n",
       "  <thead>\n",
       "    <tr style=\"text-align: right;\">\n",
       "      <th></th>\n",
       "      <th>Bookid</th>\n",
       "      <th>Title</th>\n",
       "      <th>Author</th>\n",
       "      <th>Average_rating</th>\n",
       "      <th>Isbn</th>\n",
       "      <th>Isbn13</th>\n",
       "      <th>Language_code</th>\n",
       "      <th>Num_pages</th>\n",
       "      <th>Ratings_count</th>\n",
       "      <th>Text_reviews_count</th>\n",
       "      <th>Publication_date</th>\n",
       "      <th>Publisher</th>\n",
       "    </tr>\n",
       "  </thead>\n",
       "  <tbody>\n",
       "    <tr>\n",
       "      <th>0</th>\n",
       "      <td>1</td>\n",
       "      <td>Harry Potter and the Half-Blood Prince (Harry ...</td>\n",
       "      <td>J.K. Rowling/Mary GrandPré</td>\n",
       "      <td>4.57</td>\n",
       "      <td>0439785960</td>\n",
       "      <td>9780439785969</td>\n",
       "      <td>eng</td>\n",
       "      <td>652</td>\n",
       "      <td>2095690</td>\n",
       "      <td>27591</td>\n",
       "      <td>9/16/2006</td>\n",
       "      <td>Scholastic Inc.</td>\n",
       "    </tr>\n",
       "    <tr>\n",
       "      <th>1</th>\n",
       "      <td>2</td>\n",
       "      <td>Harry Potter and the Order of the Phoenix (Har...</td>\n",
       "      <td>J.K. Rowling/Mary GrandPré</td>\n",
       "      <td>4.49</td>\n",
       "      <td>0439358078</td>\n",
       "      <td>9780439358071</td>\n",
       "      <td>eng</td>\n",
       "      <td>870</td>\n",
       "      <td>2153167</td>\n",
       "      <td>29221</td>\n",
       "      <td>9/1/2004</td>\n",
       "      <td>Scholastic Inc.</td>\n",
       "    </tr>\n",
       "    <tr>\n",
       "      <th>2</th>\n",
       "      <td>4</td>\n",
       "      <td>Harry Potter and the Chamber of Secrets (Harry...</td>\n",
       "      <td>J.K. Rowling</td>\n",
       "      <td>4.42</td>\n",
       "      <td>0439554896</td>\n",
       "      <td>9780439554893</td>\n",
       "      <td>eng</td>\n",
       "      <td>352</td>\n",
       "      <td>6333</td>\n",
       "      <td>244</td>\n",
       "      <td>11/1/2003</td>\n",
       "      <td>Scholastic</td>\n",
       "    </tr>\n",
       "    <tr>\n",
       "      <th>3</th>\n",
       "      <td>5</td>\n",
       "      <td>Harry Potter and the Prisoner of Azkaban (Harr...</td>\n",
       "      <td>J.K. Rowling/Mary GrandPré</td>\n",
       "      <td>4.56</td>\n",
       "      <td>043965548X</td>\n",
       "      <td>9780439655484</td>\n",
       "      <td>eng</td>\n",
       "      <td>435</td>\n",
       "      <td>2339585</td>\n",
       "      <td>36325</td>\n",
       "      <td>5/1/2004</td>\n",
       "      <td>Scholastic Inc.</td>\n",
       "    </tr>\n",
       "    <tr>\n",
       "      <th>4</th>\n",
       "      <td>8</td>\n",
       "      <td>Harry Potter Boxed Set  Books 1-5 (Harry Potte...</td>\n",
       "      <td>J.K. Rowling/Mary GrandPré</td>\n",
       "      <td>4.78</td>\n",
       "      <td>0439682584</td>\n",
       "      <td>9780439682589</td>\n",
       "      <td>eng</td>\n",
       "      <td>2690</td>\n",
       "      <td>41428</td>\n",
       "      <td>164</td>\n",
       "      <td>9/13/2004</td>\n",
       "      <td>Scholastic</td>\n",
       "    </tr>\n",
       "  </tbody>\n",
       "</table>\n",
       "</div>"
      ],
      "text/plain": [
       "   Bookid                                              Title  \\\n",
       "0       1  Harry Potter and the Half-Blood Prince (Harry ...   \n",
       "1       2  Harry Potter and the Order of the Phoenix (Har...   \n",
       "2       4  Harry Potter and the Chamber of Secrets (Harry...   \n",
       "3       5  Harry Potter and the Prisoner of Azkaban (Harr...   \n",
       "4       8  Harry Potter Boxed Set  Books 1-5 (Harry Potte...   \n",
       "\n",
       "                       Author  Average_rating        Isbn         Isbn13  \\\n",
       "0  J.K. Rowling/Mary GrandPré            4.57  0439785960  9780439785969   \n",
       "1  J.K. Rowling/Mary GrandPré            4.49  0439358078  9780439358071   \n",
       "2                J.K. Rowling            4.42  0439554896  9780439554893   \n",
       "3  J.K. Rowling/Mary GrandPré            4.56  043965548X  9780439655484   \n",
       "4  J.K. Rowling/Mary GrandPré            4.78  0439682584  9780439682589   \n",
       "\n",
       "  Language_code  Num_pages  Ratings_count  Text_reviews_count  \\\n",
       "0           eng        652        2095690               27591   \n",
       "1           eng        870        2153167               29221   \n",
       "2           eng        352           6333                 244   \n",
       "3           eng        435        2339585               36325   \n",
       "4           eng       2690          41428                 164   \n",
       "\n",
       "  Publication_date        Publisher  \n",
       "0        9/16/2006  Scholastic Inc.  \n",
       "1         9/1/2004  Scholastic Inc.  \n",
       "2        11/1/2003       Scholastic  \n",
       "3         5/1/2004  Scholastic Inc.  \n",
       "4        9/13/2004       Scholastic  "
      ]
     },
     "execution_count": 4,
     "metadata": {},
     "output_type": "execute_result"
    }
   ],
   "source": [
    "df = pd.read_csv('books_gr.csv', on_bad_lines='skip')\n",
    "\n",
    "data_col = list(df.columns)\n",
    "ref_col = []\n",
    "for i in data_col:\n",
    "    if i == \"authors\":\n",
    "        i = \"Author\"\n",
    "    ref_col.append(i.replace(\" \", \"\").capitalize())\n",
    "df.columns = ref_col\n",
    "df.drop_duplicates(subset=[\"Title\", \"Author\"], inplace=True)\n",
    "\n",
    "df.head()"
   ]
  },
  {
   "cell_type": "code",
   "execution_count": 7,
   "id": "ac1d483c",
   "metadata": {},
   "outputs": [],
   "source": [
    "df = df.sample(1000)"
   ]
  },
  {
   "cell_type": "code",
   "execution_count": 8,
   "id": "02a6a745",
   "metadata": {},
   "outputs": [],
   "source": [
    "dt.batch_pandas(df)"
   ]
  },
  {
   "cell_type": "code",
   "execution_count": 9,
   "id": "4c451040",
   "metadata": {},
   "outputs": [
    {
     "data": {
      "text/plain": [
       "(None,\n",
       " {'ResponseMetadata': {'RequestId': 'BSM5QMRRO8009S4LBM34L9LBBBVV4KQNSO5AEMVJF66Q9ASUAAJG',\n",
       "   'HTTPStatusCode': 200,\n",
       "   'HTTPHeaders': {'server': 'Server',\n",
       "    'date': 'Mon, 20 Mar 2023 18:07:38 GMT',\n",
       "    'content-type': 'application/x-amz-json-1.0',\n",
       "    'content-length': '2',\n",
       "    'connection': 'keep-alive',\n",
       "    'x-amzn-requestid': 'BSM5QMRRO8009S4LBM34L9LBBBVV4KQNSO5AEMVJF66Q9ASUAAJG',\n",
       "    'x-amz-crc32': '2745614147'},\n",
       "   'RetryAttempts': 0}})"
      ]
     },
     "execution_count": 9,
     "metadata": {},
     "output_type": "execute_result"
    }
   ],
   "source": [
    "dt.get_item(\n",
    "    pk_value=\"Charles Simic\",\n",
    "    se_value=\"Dime-Store Alchemy: The Art of Joseph Cornell\"\n",
    ")"
   ]
  },
  {
   "attachments": {},
   "cell_type": "markdown",
   "id": "325a4078",
   "metadata": {},
   "source": [
    "Debido a que cada elemento de la tabla se identifica de forma exclusiva con su clave principal, la llamada a la API GetItem siempre devolverá como máximo un elemento de la tabla."
   ]
  },
  {
   "cell_type": "code",
   "execution_count": 65,
   "id": "f61202ca",
   "metadata": {},
   "outputs": [
    {
     "data": {
      "text/html": [
       "<div>\n",
       "<style scoped>\n",
       "    .dataframe tbody tr th:only-of-type {\n",
       "        vertical-align: middle;\n",
       "    }\n",
       "\n",
       "    .dataframe tbody tr th {\n",
       "        vertical-align: top;\n",
       "    }\n",
       "\n",
       "    .dataframe thead th {\n",
       "        text-align: right;\n",
       "    }\n",
       "</style>\n",
       "<table border=\"1\" class=\"dataframe\">\n",
       "  <thead>\n",
       "    <tr style=\"text-align: right;\">\n",
       "      <th></th>\n",
       "      <th>Num_pages</th>\n",
       "      <th>Isbn13</th>\n",
       "      <th>Publication_date</th>\n",
       "      <th>Isbn</th>\n",
       "      <th>Text_reviews_count</th>\n",
       "      <th>Language_code</th>\n",
       "      <th>Title</th>\n",
       "      <th>Bookid</th>\n",
       "      <th>Ratings_count</th>\n",
       "      <th>Author</th>\n",
       "      <th>Average_rating</th>\n",
       "      <th>Publisher</th>\n",
       "    </tr>\n",
       "  </thead>\n",
       "  <tbody>\n",
       "    <tr>\n",
       "      <th>0</th>\n",
       "      <td>167</td>\n",
       "      <td>9780020421900</td>\n",
       "      <td>4/30/1987</td>\n",
       "      <td>0020421907</td>\n",
       "      <td>72</td>\n",
       "      <td>eng</td>\n",
       "      <td>Seaward</td>\n",
       "      <td>11308</td>\n",
       "      <td>1756</td>\n",
       "      <td>Susan Cooper</td>\n",
       "      <td>3.97</td>\n",
       "      <td>Aladdin Paperbacks</td>\n",
       "    </tr>\n",
       "    <tr>\n",
       "      <th>1</th>\n",
       "      <td>274</td>\n",
       "      <td>9780689840333</td>\n",
       "      <td>12/1/2000</td>\n",
       "      <td>0689840330</td>\n",
       "      <td>507</td>\n",
       "      <td>eng</td>\n",
       "      <td>Silver on the Tree (The Dark is Rising  #5)</td>\n",
       "      <td>11313</td>\n",
       "      <td>27802</td>\n",
       "      <td>Susan Cooper</td>\n",
       "      <td>4.15</td>\n",
       "      <td>Margaret K. McElderry Books</td>\n",
       "    </tr>\n",
       "  </tbody>\n",
       "</table>\n",
       "</div>"
      ],
      "text/plain": [
       "  Num_pages         Isbn13 Publication_date        Isbn Text_reviews_count  \\\n",
       "0       167  9780020421900        4/30/1987  0020421907                 72   \n",
       "1       274  9780689840333        12/1/2000  0689840330                507   \n",
       "\n",
       "  Language_code                                        Title Bookid  \\\n",
       "0           eng                                      Seaward  11308   \n",
       "1           eng  Silver on the Tree (The Dark is Rising  #5)  11313   \n",
       "\n",
       "  Ratings_count        Author Average_rating                    Publisher  \n",
       "0          1756  Susan Cooper           3.97           Aladdin Paperbacks  \n",
       "1         27802  Susan Cooper           4.15  Margaret K. McElderry Books  "
      ]
     },
     "execution_count": 65,
     "metadata": {},
     "output_type": "execute_result"
    }
   ],
   "source": [
    "dt.query_items(\"Susan Cooper\", to_pandas=True)"
   ]
  },
  {
   "attachments": {},
   "cell_type": "markdown",
   "id": "e0d01c6d",
   "metadata": {},
   "source": [
    "Tanto la llamada a la API GetItem para obtener un único libro como la llamada a la API query_items() para recuperar todos los libros escritos por un autor utilizan la clave primaria especificada en la tabla de Libros. Sin embargo, es posible que desee habilitar patrones de acceso adicionales, como recuperar todos los libros de una categoría, como historia o biografías. La Categoría no hace parte de la clave primaria de la tabla, pero se puede crear un índice secundario a fin de permitir patrones de acceso adicionales.\n"
   ]
  },
  {
   "cell_type": "code",
   "execution_count": 66,
   "id": "66ceee72",
   "metadata": {},
   "outputs": [
    {
     "name": "stdout",
     "output_type": "stream",
     "text": [
      "Consumed Capacity: 0.5\n"
     ]
    },
    {
     "data": {
      "text/html": [
       "<div>\n",
       "<style scoped>\n",
       "    .dataframe tbody tr th:only-of-type {\n",
       "        vertical-align: middle;\n",
       "    }\n",
       "\n",
       "    .dataframe tbody tr th {\n",
       "        vertical-align: top;\n",
       "    }\n",
       "\n",
       "    .dataframe thead th {\n",
       "        text-align: right;\n",
       "    }\n",
       "</style>\n",
       "<table border=\"1\" class=\"dataframe\">\n",
       "  <thead>\n",
       "    <tr style=\"text-align: right;\">\n",
       "      <th></th>\n",
       "      <th>Num_pages</th>\n",
       "      <th>Isbn13</th>\n",
       "      <th>Publication_date</th>\n",
       "      <th>Isbn</th>\n",
       "      <th>Text_reviews_count</th>\n",
       "      <th>Language_code</th>\n",
       "      <th>Title</th>\n",
       "      <th>Bookid</th>\n",
       "      <th>Ratings_count</th>\n",
       "      <th>Author</th>\n",
       "      <th>Average_rating</th>\n",
       "      <th>Publisher</th>\n",
       "    </tr>\n",
       "  </thead>\n",
       "  <tbody>\n",
       "    <tr>\n",
       "      <th>0</th>\n",
       "      <td>384</td>\n",
       "      <td>9780449001158</td>\n",
       "      <td>9/10/1997</td>\n",
       "      <td>0449001156</td>\n",
       "      <td>339</td>\n",
       "      <td>eng</td>\n",
       "      <td>The Gift of Asher Lev</td>\n",
       "      <td>11502</td>\n",
       "      <td>6224</td>\n",
       "      <td>Chaim Potok</td>\n",
       "      <td>4.16</td>\n",
       "      <td>Ballantine Books</td>\n",
       "    </tr>\n",
       "  </tbody>\n",
       "</table>\n",
       "</div>"
      ],
      "text/plain": [
       "  Num_pages         Isbn13 Publication_date        Isbn Text_reviews_count  \\\n",
       "0       384  9780449001158        9/10/1997  0449001156                339   \n",
       "\n",
       "  Language_code                  Title Bookid Ratings_count       Author  \\\n",
       "0           eng  The Gift of Asher Lev  11502          6224  Chaim Potok   \n",
       "\n",
       "  Average_rating         Publisher  \n",
       "0           4.16  Ballantine Books  "
      ]
     },
     "execution_count": 66,
     "metadata": {},
     "output_type": "execute_result"
    }
   ],
   "source": [
    "dt.query_items(\n",
    "    query=\"Chaim Potok\", \n",
    "    to_pandas=True, \n",
    "    consumed_capacity=True\n",
    ")"
   ]
  },
  {
   "attachments": {},
   "cell_type": "markdown",
   "id": "e4535a56",
   "metadata": {},
   "source": [
    "### Crear un índice secundario\n",
    "\n",
    "DynamoDB permite la creación de índices secundarios para obtener más patrones de acceso a los datos en la tabla. Los índices secundarios son un medio eficaz para agregar flexibilidad de consulta a la tabla de DynamoDB.\n",
    "\n",
    "DynamoDB tiene dos tipos de índices secundarios: los índices secundarios globales y los índices secundarios locales. En esta sección, se agrega un índice secundario global al atributo de categoría. Este permitirá recuperar todos los libros de una categoría específica."
   ]
  },
  {
   "cell_type": "code",
   "execution_count": 173,
   "id": "127f1a41",
   "metadata": {},
   "outputs": [],
   "source": [
    "dt.create_global_secondary_index(att_name=\"Publisher\", att_type=\"S\")"
   ]
  },
  {
   "cell_type": "code",
   "execution_count": 174,
   "id": "803cc893",
   "metadata": {},
   "outputs": [
    {
     "name": "stdout",
     "output_type": "stream",
     "text": [
      "Global secondary index created in 8 minutes and 33 seconds\n"
     ]
    }
   ],
   "source": [
    "status = dt.check_status_gsi()\n",
    "time_start = time.time()\n",
    "while status == 'CREATING':\n",
    "    status = dt.check_status_gsi()\n",
    "    time.sleep(30)\n",
    "total_time = time.time() - time_start\n",
    "print(\"Global secondary index created in {} minutes and {} seconds.\".format(int(total_time // 60), int(total_time % 60)))"
   ]
  },
  {
   "attachments": {},
   "cell_type": "markdown",
   "id": "b704cf2d",
   "metadata": {},
   "source": [
    "Crear un índice secundario global es muy parecido a crear una tabla. Se especifican el nombre del índice, los atributos que estarán dentro del índice, el esquema de la clave del índice y el rendimiento aprovisionado (la capacidad máxima que una aplicación puede consumir de una tabla o de un índice). El rendimiento aprovisionado en cada índice es independiente del rendimiento aprovisionado en una tabla. Esto permite definir el rendimiento con detalle a fin de satisfacer las necesidades de la aplicación."
   ]
  },
  {
   "cell_type": "code",
   "execution_count": null,
   "id": "a0330403",
   "metadata": {},
   "outputs": [],
   "source": [
    "dt.list_gsi"
   ]
  },
  {
   "cell_type": "code",
   "execution_count": 167,
   "id": "d1dd2ea3",
   "metadata": {},
   "outputs": [],
   "source": [
    "df = dt.query_items(query=\"en-GB\", index_name=\"Publisher\", to_pandas=True)"
   ]
  },
  {
   "cell_type": "code",
   "execution_count": 169,
   "id": "cfab3ca3",
   "metadata": {},
   "outputs": [
    {
     "data": {
      "text/html": [
       "<div>\n",
       "<style scoped>\n",
       "    .dataframe tbody tr th:only-of-type {\n",
       "        vertical-align: middle;\n",
       "    }\n",
       "\n",
       "    .dataframe tbody tr th {\n",
       "        vertical-align: top;\n",
       "    }\n",
       "\n",
       "    .dataframe thead th {\n",
       "        text-align: right;\n",
       "    }\n",
       "</style>\n",
       "<table border=\"1\" class=\"dataframe\">\n",
       "  <thead>\n",
       "    <tr style=\"text-align: right;\">\n",
       "      <th></th>\n",
       "      <th>Num_pages</th>\n",
       "      <th>Isbn13</th>\n",
       "      <th>Publication_date</th>\n",
       "      <th>Isbn</th>\n",
       "      <th>Text_reviews_count</th>\n",
       "      <th>Language_code</th>\n",
       "      <th>Title</th>\n",
       "      <th>Bookid</th>\n",
       "      <th>Ratings_count</th>\n",
       "      <th>Author</th>\n",
       "      <th>Average_rating</th>\n",
       "      <th>Publisher</th>\n",
       "    </tr>\n",
       "  </thead>\n",
       "  <tbody>\n",
       "    <tr>\n",
       "      <th>0</th>\n",
       "      <td>240</td>\n",
       "      <td>9780974935997</td>\n",
       "      <td>10/1/2005</td>\n",
       "      <td>0974935999</td>\n",
       "      <td>90</td>\n",
       "      <td>en-GB</td>\n",
       "      <td>The Mind Parasites</td>\n",
       "      <td>14495</td>\n",
       "      <td>927</td>\n",
       "      <td>Colin Wilson</td>\n",
       "      <td>3.77</td>\n",
       "      <td>Monkfish Book Publishing</td>\n",
       "    </tr>\n",
       "    <tr>\n",
       "      <th>1</th>\n",
       "      <td>542</td>\n",
       "      <td>9780131494848</td>\n",
       "      <td>7/7/2005</td>\n",
       "      <td>0131494848</td>\n",
       "      <td>4</td>\n",
       "      <td>en-GB</td>\n",
       "      <td>Leadership in Organizations</td>\n",
       "      <td>1255</td>\n",
       "      <td>55</td>\n",
       "      <td>Gary Yukl</td>\n",
       "      <td>3.68</td>\n",
       "      <td>Prentice Hall</td>\n",
       "    </tr>\n",
       "    <tr>\n",
       "      <th>2</th>\n",
       "      <td>354</td>\n",
       "      <td>9780465008025</td>\n",
       "      <td>6/26/2003</td>\n",
       "      <td>046500802X</td>\n",
       "      <td>78</td>\n",
       "      <td>en-GB</td>\n",
       "      <td>The Evolution Of Desire: Strategies of Human M...</td>\n",
       "      <td>27491</td>\n",
       "      <td>1459</td>\n",
       "      <td>David M. Buss</td>\n",
       "      <td>4.08</td>\n",
       "      <td>Basic Books</td>\n",
       "    </tr>\n",
       "    <tr>\n",
       "      <th>3</th>\n",
       "      <td>259</td>\n",
       "      <td>9780898709193</td>\n",
       "      <td>4/30/2006</td>\n",
       "      <td>0898709199</td>\n",
       "      <td>7</td>\n",
       "      <td>en-GB</td>\n",
       "      <td>No Price Too High: A Pentecostal Preacher Beco...</td>\n",
       "      <td>848</td>\n",
       "      <td>51</td>\n",
       "      <td>Alex C. Jones/Diane M. Hanson/Stephen K. Ray</td>\n",
       "      <td>4.27</td>\n",
       "      <td>Ignatius Press</td>\n",
       "    </tr>\n",
       "    <tr>\n",
       "      <th>4</th>\n",
       "      <td>328</td>\n",
       "      <td>9780330485388</td>\n",
       "      <td>6/1/2003</td>\n",
       "      <td>0330485385</td>\n",
       "      <td>966</td>\n",
       "      <td>en-GB</td>\n",
       "      <td>The Lovely Bones</td>\n",
       "      <td>537</td>\n",
       "      <td>6485</td>\n",
       "      <td>Alice Sebold</td>\n",
       "      <td>3.81</td>\n",
       "      <td>Picador</td>\n",
       "    </tr>\n",
       "  </tbody>\n",
       "</table>\n",
       "</div>"
      ],
      "text/plain": [
       "  Num_pages         Isbn13 Publication_date        Isbn Text_reviews_count  \\\n",
       "0       240  9780974935997        10/1/2005  0974935999                 90   \n",
       "1       542  9780131494848         7/7/2005  0131494848                  4   \n",
       "2       354  9780465008025        6/26/2003  046500802X                 78   \n",
       "3       259  9780898709193        4/30/2006  0898709199                  7   \n",
       "4       328  9780330485388         6/1/2003  0330485385                966   \n",
       "\n",
       "  Language_code                                              Title Bookid  \\\n",
       "0         en-GB                                 The Mind Parasites  14495   \n",
       "1         en-GB                        Leadership in Organizations   1255   \n",
       "2         en-GB  The Evolution Of Desire: Strategies of Human M...  27491   \n",
       "3         en-GB  No Price Too High: A Pentecostal Preacher Beco...    848   \n",
       "4         en-GB                                   The Lovely Bones    537   \n",
       "\n",
       "  Ratings_count                                        Author Average_rating  \\\n",
       "0           927                                  Colin Wilson           3.77   \n",
       "1            55                                     Gary Yukl           3.68   \n",
       "2          1459                                 David M. Buss           4.08   \n",
       "3            51  Alex C. Jones/Diane M. Hanson/Stephen K. Ray           4.27   \n",
       "4          6485                                  Alice Sebold           3.81   \n",
       "\n",
       "                  Publisher  \n",
       "0  Monkfish Book Publishing  \n",
       "1             Prentice Hall  \n",
       "2               Basic Books  \n",
       "3            Ignatius Press  \n",
       "4                   Picador  "
      ]
     },
     "execution_count": 169,
     "metadata": {},
     "output_type": "execute_result"
    }
   ],
   "source": [
    "df.head()"
   ]
  },
  {
   "cell_type": "code",
   "execution_count": 170,
   "id": "542a1c55",
   "metadata": {},
   "outputs": [
    {
     "name": "stderr",
     "output_type": "stream",
     "text": [
      "INFO:Consumed Capacity: 0.5\n"
     ]
    }
   ],
   "source": [
    "df = dt.query_items(query=\"Simon Schama\", to_pandas=True, consumed_capacity=True)"
   ]
  },
  {
   "cell_type": "code",
   "execution_count": 171,
   "id": "2d63f285",
   "metadata": {},
   "outputs": [
    {
     "data": {
      "text/html": [
       "<div>\n",
       "<style scoped>\n",
       "    .dataframe tbody tr th:only-of-type {\n",
       "        vertical-align: middle;\n",
       "    }\n",
       "\n",
       "    .dataframe tbody tr th {\n",
       "        vertical-align: top;\n",
       "    }\n",
       "\n",
       "    .dataframe thead th {\n",
       "        text-align: right;\n",
       "    }\n",
       "</style>\n",
       "<table border=\"1\" class=\"dataframe\">\n",
       "  <thead>\n",
       "    <tr style=\"text-align: right;\">\n",
       "      <th></th>\n",
       "      <th>Num_pages</th>\n",
       "      <th>Isbn13</th>\n",
       "      <th>Publication_date</th>\n",
       "      <th>Isbn</th>\n",
       "      <th>Text_reviews_count</th>\n",
       "      <th>Language_code</th>\n",
       "      <th>Title</th>\n",
       "      <th>Bookid</th>\n",
       "      <th>Ratings_count</th>\n",
       "      <th>Author</th>\n",
       "      <th>Average_rating</th>\n",
       "      <th>Publisher</th>\n",
       "    </tr>\n",
       "  </thead>\n",
       "  <tbody>\n",
       "    <tr>\n",
       "      <th>0</th>\n",
       "      <td>825</td>\n",
       "      <td>9780141017273</td>\n",
       "      <td>8/5/2004</td>\n",
       "      <td>0141017279</td>\n",
       "      <td>12</td>\n",
       "      <td>en-GB</td>\n",
       "      <td>Citizens: A Chronicle of the French Revolution</td>\n",
       "      <td>21075</td>\n",
       "      <td>90</td>\n",
       "      <td>Simon Schama</td>\n",
       "      <td>3.99</td>\n",
       "      <td>Penguin</td>\n",
       "    </tr>\n",
       "  </tbody>\n",
       "</table>\n",
       "</div>"
      ],
      "text/plain": [
       "  Num_pages         Isbn13 Publication_date        Isbn Text_reviews_count  \\\n",
       "0       825  9780141017273         8/5/2004  0141017279                 12   \n",
       "\n",
       "  Language_code                                           Title Bookid  \\\n",
       "0         en-GB  Citizens: A Chronicle of the French Revolution  21075   \n",
       "\n",
       "  Ratings_count        Author Average_rating Publisher  \n",
       "0            90  Simon Schama           3.99   Penguin  "
      ]
     },
     "execution_count": 171,
     "metadata": {},
     "output_type": "execute_result"
    }
   ],
   "source": [
    "df.head()"
   ]
  },
  {
   "attachments": {},
   "cell_type": "markdown",
   "id": "bb5a6a00",
   "metadata": {},
   "source": [
    "### Actualización de elementos\n",
    "\n",
    "Además de escribir y leer datos, se busca actualizar regularmente los datos existentes en la base de datos. Es preferible contar con la capacidad de actualizar estos datos mediante una sola llamada a la API, en lugar de primero leer un elemento y luego escribir de regreso el elemento completo con las actualizaciones hechas. DynamoDB permite la actualización de los datos in situ mediante la llamada a la API UpdateItem.\n",
    "\n",
    "Por ejemplo, recuerde que cada elemento tiene un atributo de Formatos. Este es un mapa de todos los diferentes formatos que la librería tiene de un título específico. Con el tiempo, este mapa se debe actualizar para un libro específico, ya sea porque se ha agregado un nuevo formato o porque ya no se utiliza un formato."
   ]
  },
  {
   "cell_type": "code",
   "execution_count": 172,
   "id": "69edaa6e",
   "metadata": {},
   "outputs": [
    {
     "data": {
      "text/plain": [
       "- Table name: Books            \n",
       "- Table arn: arn:aws:dynamodb:us-east-1:379442902244:table/Books            \n",
       "- Table creation: 2023-03-20 15:03:39.657000-03:00            \n",
       "- [{'AttributeName': 'Author', 'KeyType': 'HASH'}, {'AttributeName': 'Title', 'KeyType': 'RANGE'}]            \n",
       "- [{'AttributeName': 'Author', 'AttributeType': 'S'}, {'AttributeName': 'Language_code', 'AttributeType': 'S'}, {'AttributeName': 'Title', 'AttributeType': 'S'}]"
      ]
     },
     "execution_count": 172,
     "metadata": {},
     "output_type": "execute_result"
    }
   ],
   "source": [
    "dt"
   ]
  }
 ],
 "metadata": {
  "kernelspec": {
   "display_name": "myenv",
   "language": "python",
   "name": "python3"
  },
  "language_info": {
   "codemirror_mode": {
    "name": "ipython",
    "version": 3
   },
   "file_extension": ".py",
   "mimetype": "text/x-python",
   "name": "python",
   "nbconvert_exporter": "python",
   "pygments_lexer": "ipython3",
   "version": "3.9.12"
  },
  "vscode": {
   "interpreter": {
    "hash": "8863c83ecab2223a51997af9bdeaa46cb995e00f347fe5412afef9dc59f49334"
   }
  }
 },
 "nbformat": 4,
 "nbformat_minor": 5
}
