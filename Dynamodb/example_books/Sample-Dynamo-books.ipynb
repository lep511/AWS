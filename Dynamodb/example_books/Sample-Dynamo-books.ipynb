{
 "cells": [
  {
   "cell_type": "markdown",
   "id": "3e354a56-93ff-49e6-affb-e0a917187c41",
   "metadata": {
    "tags": []
   },
   "source": [
    "# Crear y administrar una base de datos no relacional\n",
    "\n",
    "### Información general\n",
    "En este tutorial, usted crea una tabla DynamoDB y utiliza la tabla para almacenar y recuperar datos. Utiliza Python y Boto 3, el AWS SDK para Python, para interactuar con las API de DynamoDB. También aprende algunas maneras claves en las que DynamoDB (una base de datos no relacional) difiere de las bases de datos relacionales tradicionales. El tutorial utiliza una aplicación de librería en línea como un ejemplo guía.\n",
    "\n",
    "### Por qué es importante\n",
    "Deberá entender cómo modelar sus datos para que se ajusten tanto a los patrones de acceso a datos de su aplicación como al modelo subyacente de su base de datos. Al diseñar una nueva aplicación, desea saber que su elección de base de datos puede manejar la mayor carga proveniente del uso adicional de su aplicación.\n",
    "\n",
    "DynamoDB proporciona un rendimiento de baja latencia con escalamiento casi infinito, por lo que no necesita preocuparse por los obstáculos de rendimiento a medida que su aplicación crece. Se puede acceder a DynamoDB a través de una API HTTP o un punto de enlace HTTPS, proveyendo un modelo de interacción simple y seguro con su base de datos. Finalmente, DynamoDB es una base de datos NoSQL, que permite un diseño de esquema flexible que puede evolucionar con la aplicación."
   ]
  },
  {
   "cell_type": "code",
   "execution_count": 42,
   "id": "16cd82a1-686f-4848-ba42-9c700b7bf6d9",
   "metadata": {},
   "outputs": [],
   "source": [
    "import sys\n",
    "sys.path.append('../')\n",
    "from decimal import Decimal\n",
    "from io import BytesIO\n",
    "from datetime import datetime\n",
    "import ast\n",
    "import json\n",
    "import logging\n",
    "import os\n",
    "from pprint import pprint\n",
    "import requests\n",
    "from zipfile import ZipFile\n",
    "import boto3\n",
    "import pandas as pd\n",
    "from dynamodb import DynamoTable"
   ]
  },
  {
   "cell_type": "code",
   "execution_count": 64,
   "id": "57304143-6cab-4c73-8067-bc044bb7bb91",
   "metadata": {},
   "outputs": [],
   "source": [
    "from importlib import reload\n",
    "import dynamodb\n",
    "reload(dynamodb)\n",
    "from dynamodb import DynamoTable"
   ]
  },
  {
   "cell_type": "markdown",
   "id": "0d9784a4-b6b6-4337-8454-e0420fdbc649",
   "metadata": {},
   "source": [
    "### Información general\n",
    "\n",
    "Suponga que va a crear una aplicación de una librería en línea. La librería tiene un gran inventario de libros que se almacenan en su almacén para ser vendidos a los clientes. La aplicación debe mostrar a los usuarios los libros que están disponibles para la venta, así como información básica acerca del libro, como el autor.\n",
    "\n",
    "La aplicación debe recuperar un libro específico en función del título y el autor a fin de que el usuario pueda explorar más detalles cuando vea el libro. Además, la aplicación debe permitir a los usuarios navegar por todos los libros de una categoría específica, como Historia o biografías, para permitir el descubrimiento de libros interesantes.\n",
    "\n",
    "Finalmente, puede tener diferentes formatos de un libro, como en tapa dura, tapa blanda o audiolibro. La aplicación debe almacenar los formatos de libros en existencia mediante un mapeo asociado a los números de elemento del sistema de inventario. La aplicación debe permitir la actualización de los formatos a través del tiempo, puesto que es posible que se necesiten agregar o eliminar formatos de un libro determinado.\n",
    "\n",
    "### Terminología\n",
    "Los siguientes conceptos de DynamoDB son importantes para este módulo:\n",
    "\n",
    "* **Tabla**: un conjunto de registros de datos de DynamoDB.\n",
    "\n",
    "* **Elemento**: un solo registro de datos en una tabla de DynamoDB. Es similar a una fila en una base de datos relacional.\n",
    "\n",
    "* **Atributo**: un único componente de datos que corresponde a un elemento. Es similar a una columna en una base de datos relacional. Sin embargo, a diferencia de las columnas de las bases de datos relacionales, no es necesario especificar los atributos al momento de crear la tabla, salvo la clave principal que se aborda más adelante en este módulo. Los atributos pueden ser de tipo simple, como cadenas, valores enteros o booleanos, así como de tipo complejo, tales como listas o mapas.\n",
    "\n",
    "* **Clave principal**: una clave principal es un identificador único de un solo elemento en una tabla de DynamoDB. Tanto el nombre de la clave principal como el tipo se deben especificar al momento de crear la tabla. Además, se debe incluir una clave principal del tipo especificado con cada elemento incluido en la tabla. Una clave principal simple está compuesta por un único atributo, mientras que una clave principal compuesta cuenta con dos atributos: una clave de partición y una clave de ordenación. Por ejemplo, puede crear una clave principal simple con “UserID” como identificador o crear una clave principal compuesta con la combinación de “UserID” y “Creation_Date” como identificador de un elemento."
   ]
  },
  {
   "cell_type": "markdown",
   "id": "5ee16e3b-fddc-457f-9f2a-bea1559efaf5",
   "metadata": {},
   "source": [
    "### Modelo de datos\n",
    "\n",
    "Al momento de crear una aplicación, siempre debe dedicar tiempo al diseño de los modelos de datos necesarios para la lógica de la aplicación. El diseño del modelo de datos debe tener en cuenta las necesidades de acceso a los datos que la aplicación requerirá, tanto para leer como para escribir datos.\n",
    "\n",
    "DynamoDB es una base de datos no relacional. Si se utilizan bases de datos no relacionales, no es necesario especificar el esquema completo de forma anticipada al crear la tabla. Solo es necesario presentar la clave principal para la tabla, la cual identifica cada registro de la tabla de forma exclusiva. Esto reduce el monto de los costos iniciales correspondientes al diseño del modelo de datos, ya que es posible modificar el esquema fácilmente a medida que cambian las necesidades de la aplicación.\n",
    "\n",
    "Como se mencionó en la sección “Contexto de la aplicación” de la “Introducción” a este tutorial, la aplicación debe recuperar un libro específico según el título y el autor. Debido a que la combinación del título y el autor representan el identificador único de un libro, puede utilizar esos atributos como la clave principal de la tabla. La aplicación también debe almacenar información sobre la categoría del libro, como historia o biografía, así como información acerca de los formatos disponibles (encuadernación de tapa dura y tapa blanda, o audiolibro). Esa información se asigna a los números del elemento en el sistema que funciona como inventario.\n",
    "\n",
    "En este contexto, puede utilizar el siguiente esquema para la tabla:\n",
    "\n",
    "* Título (una cadena): el título del libro\n",
    "* Autor (una cadena): el autor del libro\n",
    "* Categoría (una cadena): la categoría a la que pertenece el libro, por ejemplo, historia, biografía y ciencia ficción\n",
    "* Formatos (un mapa): los diferentes formatos que están disponibles para la venta (por ejemplo, encuadernación de tapa dura y tapa blanda, o audiolibro) y los números del elemento correspondientes en el sistema que funciona como inventario"
   ]
  },
  {
   "cell_type": "code",
   "execution_count": 65,
   "id": "d364411d-dc86-4c4d-9c2a-9f6a628b4d52",
   "metadata": {},
   "outputs": [],
   "source": [
    "dt = DynamoTable()"
   ]
  },
  {
   "cell_type": "code",
   "execution_count": 67,
   "id": "342391e3",
   "metadata": {},
   "outputs": [],
   "source": [
    "dt.select_table('Books')"
   ]
  },
  {
   "cell_type": "code",
   "execution_count": 66,
   "id": "31b507ee-4cfc-4c6a-bf78-4c7788351730",
   "metadata": {},
   "outputs": [
    {
     "name": "stderr",
     "output_type": "stream",
     "text": [
      "Couldn't create table Books. Here's why: ResourceInUseException: Table already exists: Books\n"
     ]
    }
   ],
   "source": [
    "dt.create_table(\n",
    "    table_name=\"Books\",\n",
    "    partition_key=\"Author\",\n",
    "    partition_key_type=\"S\",\n",
    "    sort_key=\"Title\",\n",
    "    sort_key_type=\"S\"\n",
    ")  "
   ]
  },
  {
   "cell_type": "code",
   "execution_count": 46,
   "id": "f1e4f3b4",
   "metadata": {},
   "outputs": [
    {
     "data": {
      "text/html": [
       "<div>\n",
       "<style scoped>\n",
       "    .dataframe tbody tr th:only-of-type {\n",
       "        vertical-align: middle;\n",
       "    }\n",
       "\n",
       "    .dataframe tbody tr th {\n",
       "        vertical-align: top;\n",
       "    }\n",
       "\n",
       "    .dataframe thead th {\n",
       "        text-align: right;\n",
       "    }\n",
       "</style>\n",
       "<table border=\"1\" class=\"dataframe\">\n",
       "  <thead>\n",
       "    <tr style=\"text-align: right;\">\n",
       "      <th></th>\n",
       "      <th>Bookid</th>\n",
       "      <th>Title</th>\n",
       "      <th>Author</th>\n",
       "      <th>Average_rating</th>\n",
       "      <th>Isbn</th>\n",
       "      <th>Isbn13</th>\n",
       "      <th>Language_code</th>\n",
       "      <th>Num_pages</th>\n",
       "      <th>Ratings_count</th>\n",
       "      <th>Text_reviews_count</th>\n",
       "      <th>Publication_date</th>\n",
       "      <th>Publisher</th>\n",
       "    </tr>\n",
       "  </thead>\n",
       "  <tbody>\n",
       "    <tr>\n",
       "      <th>0</th>\n",
       "      <td>1</td>\n",
       "      <td>Harry Potter and the Half-Blood Prince (Harry ...</td>\n",
       "      <td>J.K. Rowling/Mary GrandPré</td>\n",
       "      <td>4.57</td>\n",
       "      <td>0439785960</td>\n",
       "      <td>9780439785969</td>\n",
       "      <td>eng</td>\n",
       "      <td>652</td>\n",
       "      <td>2095690</td>\n",
       "      <td>27591</td>\n",
       "      <td>9/16/2006</td>\n",
       "      <td>Scholastic Inc.</td>\n",
       "    </tr>\n",
       "    <tr>\n",
       "      <th>1</th>\n",
       "      <td>2</td>\n",
       "      <td>Harry Potter and the Order of the Phoenix (Har...</td>\n",
       "      <td>J.K. Rowling/Mary GrandPré</td>\n",
       "      <td>4.49</td>\n",
       "      <td>0439358078</td>\n",
       "      <td>9780439358071</td>\n",
       "      <td>eng</td>\n",
       "      <td>870</td>\n",
       "      <td>2153167</td>\n",
       "      <td>29221</td>\n",
       "      <td>9/1/2004</td>\n",
       "      <td>Scholastic Inc.</td>\n",
       "    </tr>\n",
       "    <tr>\n",
       "      <th>2</th>\n",
       "      <td>4</td>\n",
       "      <td>Harry Potter and the Chamber of Secrets (Harry...</td>\n",
       "      <td>J.K. Rowling</td>\n",
       "      <td>4.42</td>\n",
       "      <td>0439554896</td>\n",
       "      <td>9780439554893</td>\n",
       "      <td>eng</td>\n",
       "      <td>352</td>\n",
       "      <td>6333</td>\n",
       "      <td>244</td>\n",
       "      <td>11/1/2003</td>\n",
       "      <td>Scholastic</td>\n",
       "    </tr>\n",
       "    <tr>\n",
       "      <th>3</th>\n",
       "      <td>5</td>\n",
       "      <td>Harry Potter and the Prisoner of Azkaban (Harr...</td>\n",
       "      <td>J.K. Rowling/Mary GrandPré</td>\n",
       "      <td>4.56</td>\n",
       "      <td>043965548X</td>\n",
       "      <td>9780439655484</td>\n",
       "      <td>eng</td>\n",
       "      <td>435</td>\n",
       "      <td>2339585</td>\n",
       "      <td>36325</td>\n",
       "      <td>5/1/2004</td>\n",
       "      <td>Scholastic Inc.</td>\n",
       "    </tr>\n",
       "    <tr>\n",
       "      <th>4</th>\n",
       "      <td>8</td>\n",
       "      <td>Harry Potter Boxed Set  Books 1-5 (Harry Potte...</td>\n",
       "      <td>J.K. Rowling/Mary GrandPré</td>\n",
       "      <td>4.78</td>\n",
       "      <td>0439682584</td>\n",
       "      <td>9780439682589</td>\n",
       "      <td>eng</td>\n",
       "      <td>2690</td>\n",
       "      <td>41428</td>\n",
       "      <td>164</td>\n",
       "      <td>9/13/2004</td>\n",
       "      <td>Scholastic</td>\n",
       "    </tr>\n",
       "  </tbody>\n",
       "</table>\n",
       "</div>"
      ],
      "text/plain": [
       "   Bookid                                              Title  \\\n",
       "0       1  Harry Potter and the Half-Blood Prince (Harry ...   \n",
       "1       2  Harry Potter and the Order of the Phoenix (Har...   \n",
       "2       4  Harry Potter and the Chamber of Secrets (Harry...   \n",
       "3       5  Harry Potter and the Prisoner of Azkaban (Harr...   \n",
       "4       8  Harry Potter Boxed Set  Books 1-5 (Harry Potte...   \n",
       "\n",
       "                       Author  Average_rating        Isbn         Isbn13  \\\n",
       "0  J.K. Rowling/Mary GrandPré            4.57  0439785960  9780439785969   \n",
       "1  J.K. Rowling/Mary GrandPré            4.49  0439358078  9780439358071   \n",
       "2                J.K. Rowling            4.42  0439554896  9780439554893   \n",
       "3  J.K. Rowling/Mary GrandPré            4.56  043965548X  9780439655484   \n",
       "4  J.K. Rowling/Mary GrandPré            4.78  0439682584  9780439682589   \n",
       "\n",
       "  Language_code  Num_pages  Ratings_count  Text_reviews_count  \\\n",
       "0           eng        652        2095690               27591   \n",
       "1           eng        870        2153167               29221   \n",
       "2           eng        352           6333                 244   \n",
       "3           eng        435        2339585               36325   \n",
       "4           eng       2690          41428                 164   \n",
       "\n",
       "  Publication_date        Publisher  \n",
       "0        9/16/2006  Scholastic Inc.  \n",
       "1         9/1/2004  Scholastic Inc.  \n",
       "2        11/1/2003       Scholastic  \n",
       "3         5/1/2004  Scholastic Inc.  \n",
       "4        9/13/2004       Scholastic  "
      ]
     },
     "execution_count": 46,
     "metadata": {},
     "output_type": "execute_result"
    }
   ],
   "source": [
    "df = pd.read_csv('books_gr.csv', on_bad_lines='skip')\n",
    "\n",
    "data_col = list(df.columns)\n",
    "ref_col = []\n",
    "for i in data_col:\n",
    "    if i == \"authors\":\n",
    "        i = \"Author\"\n",
    "    ref_col.append(i.replace(\" \", \"\").capitalize())\n",
    "df.columns = ref_col\n",
    "df.drop_duplicates(subset=[\"Title\", \"Author\"], inplace=True)\n",
    "\n",
    "df.head()"
   ]
  },
  {
   "cell_type": "code",
   "execution_count": 47,
   "id": "02a6a745",
   "metadata": {},
   "outputs": [
    {
     "ename": "KeyboardInterrupt",
     "evalue": "",
     "output_type": "error",
     "traceback": [
      "\u001b[1;31m---------------------------------------------------------------------------\u001b[0m",
      "\u001b[1;31mKeyboardInterrupt\u001b[0m                         Traceback (most recent call last)",
      "\u001b[1;32mh:\\Documentos\\GitHub\\AWS\\AWS\\Dynamodb\\example_books\\Sample-Dynamo-books.ipynb Celda 9\u001b[0m in \u001b[0;36m<cell line: 1>\u001b[1;34m()\u001b[0m\n\u001b[1;32m----> <a href='vscode-notebook-cell:/h%3A/Documentos/GitHub/AWS/AWS/Dynamodb/example_books/Sample-Dynamo-books.ipynb#X40sZmlsZQ%3D%3D?line=0'>1</a>\u001b[0m dt\u001b[39m.\u001b[39;49mbatch_pandas(df)\n",
      "File \u001b[1;32mh:\\Documentos\\GitHub\\AWS\\AWS\\Dynamodb\\example_books\\..\\dynamodb.py:160\u001b[0m, in \u001b[0;36mDynamoTable.batch_pandas\u001b[1;34m(self, dataframe, compress)\u001b[0m\n\u001b[0;32m    158\u001b[0m \u001b[39mif\u001b[39;00m compress:\n\u001b[0;32m    159\u001b[0m     parsed \u001b[39m=\u001b[39m \u001b[39mself\u001b[39m\u001b[39m.\u001b[39mconvert_binary(parsed)      \n\u001b[1;32m--> 160\u001b[0m \u001b[39mself\u001b[39;49m\u001b[39m.\u001b[39;49mwrite_batch(parsed)\n",
      "File \u001b[1;32mh:\\Documentos\\GitHub\\AWS\\AWS\\Dynamodb\\example_books\\..\\dynamodb.py:189\u001b[0m, in \u001b[0;36mDynamoTable.write_batch\u001b[1;34m(self, items)\u001b[0m\n\u001b[0;32m    187\u001b[0m     \u001b[39mwith\u001b[39;00m \u001b[39mself\u001b[39m\u001b[39m.\u001b[39mtable\u001b[39m.\u001b[39mbatch_writer() \u001b[39mas\u001b[39;00m writer:\n\u001b[0;32m    188\u001b[0m         \u001b[39mfor\u001b[39;00m item \u001b[39min\u001b[39;00m items:\n\u001b[1;32m--> 189\u001b[0m             writer\u001b[39m.\u001b[39;49mput_item(Item\u001b[39m=\u001b[39;49mitem)\n\u001b[0;32m    190\u001b[0m \u001b[39mexcept\u001b[39;00m ClientError \u001b[39mas\u001b[39;00m err:\n\u001b[0;32m    191\u001b[0m     logger\u001b[39m.\u001b[39merror(\n\u001b[0;32m    192\u001b[0m         \u001b[39m\"\u001b[39m\u001b[39mCouldn\u001b[39m\u001b[39m'\u001b[39m\u001b[39mt load data into table \u001b[39m\u001b[39m%s\u001b[39;00m\u001b[39m. Here\u001b[39m\u001b[39m'\u001b[39m\u001b[39ms why: \u001b[39m\u001b[39m%s\u001b[39;00m\u001b[39m: \u001b[39m\u001b[39m%s\u001b[39;00m\u001b[39m\"\u001b[39m, \u001b[39mself\u001b[39m\u001b[39m.\u001b[39mtable\u001b[39m.\u001b[39mname,\n\u001b[0;32m    193\u001b[0m         err\u001b[39m.\u001b[39mresponse[\u001b[39m'\u001b[39m\u001b[39mError\u001b[39m\u001b[39m'\u001b[39m][\u001b[39m'\u001b[39m\u001b[39mCode\u001b[39m\u001b[39m'\u001b[39m], err\u001b[39m.\u001b[39mresponse[\u001b[39m'\u001b[39m\u001b[39mError\u001b[39m\u001b[39m'\u001b[39m][\u001b[39m'\u001b[39m\u001b[39mMessage\u001b[39m\u001b[39m'\u001b[39m])\n",
      "File \u001b[1;32mc:\\Users\\esteb\\.conda\\envs\\myenv\\lib\\site-packages\\boto3\\dynamodb\\table.py:103\u001b[0m, in \u001b[0;36mBatchWriter.put_item\u001b[1;34m(self, Item)\u001b[0m\n\u001b[0;32m    102\u001b[0m \u001b[39mdef\u001b[39;00m \u001b[39mput_item\u001b[39m(\u001b[39mself\u001b[39m, Item):\n\u001b[1;32m--> 103\u001b[0m     \u001b[39mself\u001b[39;49m\u001b[39m.\u001b[39;49m_add_request_and_process({\u001b[39m'\u001b[39;49m\u001b[39mPutRequest\u001b[39;49m\u001b[39m'\u001b[39;49m: {\u001b[39m'\u001b[39;49m\u001b[39mItem\u001b[39;49m\u001b[39m'\u001b[39;49m: Item}})\n",
      "File \u001b[1;32mc:\\Users\\esteb\\.conda\\envs\\myenv\\lib\\site-packages\\boto3\\dynamodb\\table.py:112\u001b[0m, in \u001b[0;36mBatchWriter._add_request_and_process\u001b[1;34m(self, request)\u001b[0m\n\u001b[0;32m    110\u001b[0m     \u001b[39mself\u001b[39m\u001b[39m.\u001b[39m_remove_dup_pkeys_request_if_any(request)\n\u001b[0;32m    111\u001b[0m \u001b[39mself\u001b[39m\u001b[39m.\u001b[39m_items_buffer\u001b[39m.\u001b[39mappend(request)\n\u001b[1;32m--> 112\u001b[0m \u001b[39mself\u001b[39;49m\u001b[39m.\u001b[39;49m_flush_if_needed()\n",
      "File \u001b[1;32mc:\\Users\\esteb\\.conda\\envs\\myenv\\lib\\site-packages\\boto3\\dynamodb\\table.py:139\u001b[0m, in \u001b[0;36mBatchWriter._flush_if_needed\u001b[1;34m(self)\u001b[0m\n\u001b[0;32m    137\u001b[0m \u001b[39mdef\u001b[39;00m \u001b[39m_flush_if_needed\u001b[39m(\u001b[39mself\u001b[39m):\n\u001b[0;32m    138\u001b[0m     \u001b[39mif\u001b[39;00m \u001b[39mlen\u001b[39m(\u001b[39mself\u001b[39m\u001b[39m.\u001b[39m_items_buffer) \u001b[39m>\u001b[39m\u001b[39m=\u001b[39m \u001b[39mself\u001b[39m\u001b[39m.\u001b[39m_flush_amount:\n\u001b[1;32m--> 139\u001b[0m         \u001b[39mself\u001b[39;49m\u001b[39m.\u001b[39;49m_flush()\n",
      "File \u001b[1;32mc:\\Users\\esteb\\.conda\\envs\\myenv\\lib\\site-packages\\boto3\\dynamodb\\table.py:144\u001b[0m, in \u001b[0;36mBatchWriter._flush\u001b[1;34m(self)\u001b[0m\n\u001b[0;32m    142\u001b[0m items_to_send \u001b[39m=\u001b[39m \u001b[39mself\u001b[39m\u001b[39m.\u001b[39m_items_buffer[: \u001b[39mself\u001b[39m\u001b[39m.\u001b[39m_flush_amount]\n\u001b[0;32m    143\u001b[0m \u001b[39mself\u001b[39m\u001b[39m.\u001b[39m_items_buffer \u001b[39m=\u001b[39m \u001b[39mself\u001b[39m\u001b[39m.\u001b[39m_items_buffer[\u001b[39mself\u001b[39m\u001b[39m.\u001b[39m_flush_amount :]\n\u001b[1;32m--> 144\u001b[0m response \u001b[39m=\u001b[39m \u001b[39mself\u001b[39;49m\u001b[39m.\u001b[39;49m_client\u001b[39m.\u001b[39;49mbatch_write_item(\n\u001b[0;32m    145\u001b[0m     RequestItems\u001b[39m=\u001b[39;49m{\u001b[39mself\u001b[39;49m\u001b[39m.\u001b[39;49m_table_name: items_to_send}\n\u001b[0;32m    146\u001b[0m )\n\u001b[0;32m    147\u001b[0m unprocessed_items \u001b[39m=\u001b[39m response[\u001b[39m'\u001b[39m\u001b[39mUnprocessedItems\u001b[39m\u001b[39m'\u001b[39m]\n\u001b[0;32m    148\u001b[0m \u001b[39mif\u001b[39;00m \u001b[39mnot\u001b[39;00m unprocessed_items:\n",
      "File \u001b[1;32mc:\\Users\\esteb\\.conda\\envs\\myenv\\lib\\site-packages\\botocore\\client.py:508\u001b[0m, in \u001b[0;36mClientCreator._create_api_method.<locals>._api_call\u001b[1;34m(self, *args, **kwargs)\u001b[0m\n\u001b[0;32m    504\u001b[0m     \u001b[39mraise\u001b[39;00m \u001b[39mTypeError\u001b[39;00m(\n\u001b[0;32m    505\u001b[0m         \u001b[39mf\u001b[39m\u001b[39m\"\u001b[39m\u001b[39m{\u001b[39;00mpy_operation_name\u001b[39m}\u001b[39;00m\u001b[39m() only accepts keyword arguments.\u001b[39m\u001b[39m\"\u001b[39m\n\u001b[0;32m    506\u001b[0m     )\n\u001b[0;32m    507\u001b[0m \u001b[39m# The \"self\" in this scope is referring to the BaseClient.\u001b[39;00m\n\u001b[1;32m--> 508\u001b[0m \u001b[39mreturn\u001b[39;00m \u001b[39mself\u001b[39;49m\u001b[39m.\u001b[39;49m_make_api_call(operation_name, kwargs)\n",
      "File \u001b[1;32mc:\\Users\\esteb\\.conda\\envs\\myenv\\lib\\site-packages\\botocore\\client.py:898\u001b[0m, in \u001b[0;36mBaseClient._make_api_call\u001b[1;34m(self, operation_name, api_params)\u001b[0m\n\u001b[0;32m    896\u001b[0m \u001b[39melse\u001b[39;00m:\n\u001b[0;32m    897\u001b[0m     apply_request_checksum(request_dict)\n\u001b[1;32m--> 898\u001b[0m     http, parsed_response \u001b[39m=\u001b[39m \u001b[39mself\u001b[39;49m\u001b[39m.\u001b[39;49m_make_request(\n\u001b[0;32m    899\u001b[0m         operation_model, request_dict, request_context\n\u001b[0;32m    900\u001b[0m     )\n\u001b[0;32m    902\u001b[0m \u001b[39mself\u001b[39m\u001b[39m.\u001b[39mmeta\u001b[39m.\u001b[39mevents\u001b[39m.\u001b[39memit(\n\u001b[0;32m    903\u001b[0m     \u001b[39m'\u001b[39m\u001b[39mafter-call.\u001b[39m\u001b[39m{service_id}\u001b[39;00m\u001b[39m.\u001b[39m\u001b[39m{operation_name}\u001b[39;00m\u001b[39m'\u001b[39m\u001b[39m.\u001b[39mformat(\n\u001b[0;32m    904\u001b[0m         service_id\u001b[39m=\u001b[39mservice_id, operation_name\u001b[39m=\u001b[39moperation_name\n\u001b[1;32m   (...)\u001b[0m\n\u001b[0;32m    909\u001b[0m     context\u001b[39m=\u001b[39mrequest_context,\n\u001b[0;32m    910\u001b[0m )\n\u001b[0;32m    912\u001b[0m \u001b[39mif\u001b[39;00m http\u001b[39m.\u001b[39mstatus_code \u001b[39m>\u001b[39m\u001b[39m=\u001b[39m \u001b[39m300\u001b[39m:\n",
      "File \u001b[1;32mc:\\Users\\esteb\\.conda\\envs\\myenv\\lib\\site-packages\\botocore\\client.py:921\u001b[0m, in \u001b[0;36mBaseClient._make_request\u001b[1;34m(self, operation_model, request_dict, request_context)\u001b[0m\n\u001b[0;32m    919\u001b[0m \u001b[39mdef\u001b[39;00m \u001b[39m_make_request\u001b[39m(\u001b[39mself\u001b[39m, operation_model, request_dict, request_context):\n\u001b[0;32m    920\u001b[0m     \u001b[39mtry\u001b[39;00m:\n\u001b[1;32m--> 921\u001b[0m         \u001b[39mreturn\u001b[39;00m \u001b[39mself\u001b[39;49m\u001b[39m.\u001b[39;49m_endpoint\u001b[39m.\u001b[39;49mmake_request(operation_model, request_dict)\n\u001b[0;32m    922\u001b[0m     \u001b[39mexcept\u001b[39;00m \u001b[39mException\u001b[39;00m \u001b[39mas\u001b[39;00m e:\n\u001b[0;32m    923\u001b[0m         \u001b[39mself\u001b[39m\u001b[39m.\u001b[39mmeta\u001b[39m.\u001b[39mevents\u001b[39m.\u001b[39memit(\n\u001b[0;32m    924\u001b[0m             \u001b[39m'\u001b[39m\u001b[39mafter-call-error.\u001b[39m\u001b[39m{service_id}\u001b[39;00m\u001b[39m.\u001b[39m\u001b[39m{operation_name}\u001b[39;00m\u001b[39m'\u001b[39m\u001b[39m.\u001b[39mformat(\n\u001b[0;32m    925\u001b[0m                 service_id\u001b[39m=\u001b[39m\u001b[39mself\u001b[39m\u001b[39m.\u001b[39m_service_model\u001b[39m.\u001b[39mservice_id\u001b[39m.\u001b[39mhyphenize(),\n\u001b[1;32m   (...)\u001b[0m\n\u001b[0;32m    929\u001b[0m             context\u001b[39m=\u001b[39mrequest_context,\n\u001b[0;32m    930\u001b[0m         )\n",
      "File \u001b[1;32mc:\\Users\\esteb\\.conda\\envs\\myenv\\lib\\site-packages\\botocore\\endpoint.py:119\u001b[0m, in \u001b[0;36mEndpoint.make_request\u001b[1;34m(self, operation_model, request_dict)\u001b[0m\n\u001b[0;32m    113\u001b[0m \u001b[39mdef\u001b[39;00m \u001b[39mmake_request\u001b[39m(\u001b[39mself\u001b[39m, operation_model, request_dict):\n\u001b[0;32m    114\u001b[0m     logger\u001b[39m.\u001b[39mdebug(\n\u001b[0;32m    115\u001b[0m         \u001b[39m\"\u001b[39m\u001b[39mMaking request for \u001b[39m\u001b[39m%s\u001b[39;00m\u001b[39m with params: \u001b[39m\u001b[39m%s\u001b[39;00m\u001b[39m\"\u001b[39m,\n\u001b[0;32m    116\u001b[0m         operation_model,\n\u001b[0;32m    117\u001b[0m         request_dict,\n\u001b[0;32m    118\u001b[0m     )\n\u001b[1;32m--> 119\u001b[0m     \u001b[39mreturn\u001b[39;00m \u001b[39mself\u001b[39;49m\u001b[39m.\u001b[39;49m_send_request(request_dict, operation_model)\n",
      "File \u001b[1;32mc:\\Users\\esteb\\.conda\\envs\\myenv\\lib\\site-packages\\botocore\\endpoint.py:199\u001b[0m, in \u001b[0;36mEndpoint._send_request\u001b[1;34m(self, request_dict, operation_model)\u001b[0m\n\u001b[0;32m    197\u001b[0m \u001b[39mself\u001b[39m\u001b[39m.\u001b[39m_update_retries_context(context, attempts)\n\u001b[0;32m    198\u001b[0m request \u001b[39m=\u001b[39m \u001b[39mself\u001b[39m\u001b[39m.\u001b[39mcreate_request(request_dict, operation_model)\n\u001b[1;32m--> 199\u001b[0m success_response, exception \u001b[39m=\u001b[39m \u001b[39mself\u001b[39;49m\u001b[39m.\u001b[39;49m_get_response(\n\u001b[0;32m    200\u001b[0m     request, operation_model, context\n\u001b[0;32m    201\u001b[0m )\n\u001b[0;32m    202\u001b[0m \u001b[39mwhile\u001b[39;00m \u001b[39mself\u001b[39m\u001b[39m.\u001b[39m_needs_retry(\n\u001b[0;32m    203\u001b[0m     attempts,\n\u001b[0;32m    204\u001b[0m     operation_model,\n\u001b[1;32m   (...)\u001b[0m\n\u001b[0;32m    207\u001b[0m     exception,\n\u001b[0;32m    208\u001b[0m ):\n\u001b[0;32m    209\u001b[0m     attempts \u001b[39m+\u001b[39m\u001b[39m=\u001b[39m \u001b[39m1\u001b[39m\n",
      "File \u001b[1;32mc:\\Users\\esteb\\.conda\\envs\\myenv\\lib\\site-packages\\botocore\\endpoint.py:241\u001b[0m, in \u001b[0;36mEndpoint._get_response\u001b[1;34m(self, request, operation_model, context)\u001b[0m\n\u001b[0;32m    235\u001b[0m \u001b[39mdef\u001b[39;00m \u001b[39m_get_response\u001b[39m(\u001b[39mself\u001b[39m, request, operation_model, context):\n\u001b[0;32m    236\u001b[0m     \u001b[39m# This will return a tuple of (success_response, exception)\u001b[39;00m\n\u001b[0;32m    237\u001b[0m     \u001b[39m# and success_response is itself a tuple of\u001b[39;00m\n\u001b[0;32m    238\u001b[0m     \u001b[39m# (http_response, parsed_dict).\u001b[39;00m\n\u001b[0;32m    239\u001b[0m     \u001b[39m# If an exception occurs then the success_response is None.\u001b[39;00m\n\u001b[0;32m    240\u001b[0m     \u001b[39m# If no exception occurs then exception is None.\u001b[39;00m\n\u001b[1;32m--> 241\u001b[0m     success_response, exception \u001b[39m=\u001b[39m \u001b[39mself\u001b[39;49m\u001b[39m.\u001b[39;49m_do_get_response(\n\u001b[0;32m    242\u001b[0m         request, operation_model, context\n\u001b[0;32m    243\u001b[0m     )\n\u001b[0;32m    244\u001b[0m     kwargs_to_emit \u001b[39m=\u001b[39m {\n\u001b[0;32m    245\u001b[0m         \u001b[39m'\u001b[39m\u001b[39mresponse_dict\u001b[39m\u001b[39m'\u001b[39m: \u001b[39mNone\u001b[39;00m,\n\u001b[0;32m    246\u001b[0m         \u001b[39m'\u001b[39m\u001b[39mparsed_response\u001b[39m\u001b[39m'\u001b[39m: \u001b[39mNone\u001b[39;00m,\n\u001b[0;32m    247\u001b[0m         \u001b[39m'\u001b[39m\u001b[39mcontext\u001b[39m\u001b[39m'\u001b[39m: context,\n\u001b[0;32m    248\u001b[0m         \u001b[39m'\u001b[39m\u001b[39mexception\u001b[39m\u001b[39m'\u001b[39m: exception,\n\u001b[0;32m    249\u001b[0m     }\n\u001b[0;32m    250\u001b[0m     \u001b[39mif\u001b[39;00m success_response \u001b[39mis\u001b[39;00m \u001b[39mnot\u001b[39;00m \u001b[39mNone\u001b[39;00m:\n",
      "File \u001b[1;32mc:\\Users\\esteb\\.conda\\envs\\myenv\\lib\\site-packages\\botocore\\endpoint.py:281\u001b[0m, in \u001b[0;36mEndpoint._do_get_response\u001b[1;34m(self, request, operation_model, context)\u001b[0m\n\u001b[0;32m    279\u001b[0m     http_response \u001b[39m=\u001b[39m first_non_none_response(responses)\n\u001b[0;32m    280\u001b[0m     \u001b[39mif\u001b[39;00m http_response \u001b[39mis\u001b[39;00m \u001b[39mNone\u001b[39;00m:\n\u001b[1;32m--> 281\u001b[0m         http_response \u001b[39m=\u001b[39m \u001b[39mself\u001b[39;49m\u001b[39m.\u001b[39;49m_send(request)\n\u001b[0;32m    282\u001b[0m \u001b[39mexcept\u001b[39;00m HTTPClientError \u001b[39mas\u001b[39;00m e:\n\u001b[0;32m    283\u001b[0m     \u001b[39mreturn\u001b[39;00m (\u001b[39mNone\u001b[39;00m, e)\n",
      "File \u001b[1;32mc:\\Users\\esteb\\.conda\\envs\\myenv\\lib\\site-packages\\botocore\\endpoint.py:377\u001b[0m, in \u001b[0;36mEndpoint._send\u001b[1;34m(self, request)\u001b[0m\n\u001b[0;32m    376\u001b[0m \u001b[39mdef\u001b[39;00m \u001b[39m_send\u001b[39m(\u001b[39mself\u001b[39m, request):\n\u001b[1;32m--> 377\u001b[0m     \u001b[39mreturn\u001b[39;00m \u001b[39mself\u001b[39;49m\u001b[39m.\u001b[39;49mhttp_session\u001b[39m.\u001b[39;49msend(request)\n",
      "File \u001b[1;32mc:\\Users\\esteb\\.conda\\envs\\myenv\\lib\\site-packages\\botocore\\httpsession.py:448\u001b[0m, in \u001b[0;36mURLLib3Session.send\u001b[1;34m(self, request)\u001b[0m\n\u001b[0;32m    445\u001b[0m     conn\u001b[39m.\u001b[39mproxy_headers[\u001b[39m'\u001b[39m\u001b[39mhost\u001b[39m\u001b[39m'\u001b[39m] \u001b[39m=\u001b[39m host\n\u001b[0;32m    447\u001b[0m request_target \u001b[39m=\u001b[39m \u001b[39mself\u001b[39m\u001b[39m.\u001b[39m_get_request_target(request\u001b[39m.\u001b[39murl, proxy_url)\n\u001b[1;32m--> 448\u001b[0m urllib_response \u001b[39m=\u001b[39m conn\u001b[39m.\u001b[39;49murlopen(\n\u001b[0;32m    449\u001b[0m     method\u001b[39m=\u001b[39;49mrequest\u001b[39m.\u001b[39;49mmethod,\n\u001b[0;32m    450\u001b[0m     url\u001b[39m=\u001b[39;49mrequest_target,\n\u001b[0;32m    451\u001b[0m     body\u001b[39m=\u001b[39;49mrequest\u001b[39m.\u001b[39;49mbody,\n\u001b[0;32m    452\u001b[0m     headers\u001b[39m=\u001b[39;49mrequest\u001b[39m.\u001b[39;49mheaders,\n\u001b[0;32m    453\u001b[0m     retries\u001b[39m=\u001b[39;49mRetry(\u001b[39mFalse\u001b[39;49;00m),\n\u001b[0;32m    454\u001b[0m     assert_same_host\u001b[39m=\u001b[39;49m\u001b[39mFalse\u001b[39;49;00m,\n\u001b[0;32m    455\u001b[0m     preload_content\u001b[39m=\u001b[39;49m\u001b[39mFalse\u001b[39;49;00m,\n\u001b[0;32m    456\u001b[0m     decode_content\u001b[39m=\u001b[39;49m\u001b[39mFalse\u001b[39;49;00m,\n\u001b[0;32m    457\u001b[0m     chunked\u001b[39m=\u001b[39;49m\u001b[39mself\u001b[39;49m\u001b[39m.\u001b[39;49m_chunked(request\u001b[39m.\u001b[39;49mheaders),\n\u001b[0;32m    458\u001b[0m )\n\u001b[0;32m    460\u001b[0m http_response \u001b[39m=\u001b[39m botocore\u001b[39m.\u001b[39mawsrequest\u001b[39m.\u001b[39mAWSResponse(\n\u001b[0;32m    461\u001b[0m     request\u001b[39m.\u001b[39murl,\n\u001b[0;32m    462\u001b[0m     urllib_response\u001b[39m.\u001b[39mstatus,\n\u001b[0;32m    463\u001b[0m     urllib_response\u001b[39m.\u001b[39mheaders,\n\u001b[0;32m    464\u001b[0m     urllib_response,\n\u001b[0;32m    465\u001b[0m )\n\u001b[0;32m    467\u001b[0m \u001b[39mif\u001b[39;00m \u001b[39mnot\u001b[39;00m request\u001b[39m.\u001b[39mstream_output:\n\u001b[0;32m    468\u001b[0m     \u001b[39m# Cause the raw stream to be exhausted immediately. We do it\u001b[39;00m\n\u001b[0;32m    469\u001b[0m     \u001b[39m# this way instead of using preload_content because\u001b[39;00m\n\u001b[0;32m    470\u001b[0m     \u001b[39m# preload_content will never buffer chunked responses\u001b[39;00m\n",
      "File \u001b[1;32mc:\\Users\\esteb\\.conda\\envs\\myenv\\lib\\site-packages\\urllib3\\connectionpool.py:703\u001b[0m, in \u001b[0;36mHTTPConnectionPool.urlopen\u001b[1;34m(self, method, url, body, headers, retries, redirect, assert_same_host, timeout, pool_timeout, release_conn, chunked, body_pos, **response_kw)\u001b[0m\n\u001b[0;32m    700\u001b[0m     \u001b[39mself\u001b[39m\u001b[39m.\u001b[39m_prepare_proxy(conn)\n\u001b[0;32m    702\u001b[0m \u001b[39m# Make the request on the httplib connection object.\u001b[39;00m\n\u001b[1;32m--> 703\u001b[0m httplib_response \u001b[39m=\u001b[39m \u001b[39mself\u001b[39;49m\u001b[39m.\u001b[39;49m_make_request(\n\u001b[0;32m    704\u001b[0m     conn,\n\u001b[0;32m    705\u001b[0m     method,\n\u001b[0;32m    706\u001b[0m     url,\n\u001b[0;32m    707\u001b[0m     timeout\u001b[39m=\u001b[39;49mtimeout_obj,\n\u001b[0;32m    708\u001b[0m     body\u001b[39m=\u001b[39;49mbody,\n\u001b[0;32m    709\u001b[0m     headers\u001b[39m=\u001b[39;49mheaders,\n\u001b[0;32m    710\u001b[0m     chunked\u001b[39m=\u001b[39;49mchunked,\n\u001b[0;32m    711\u001b[0m )\n\u001b[0;32m    713\u001b[0m \u001b[39m# If we're going to release the connection in ``finally:``, then\u001b[39;00m\n\u001b[0;32m    714\u001b[0m \u001b[39m# the response doesn't need to know about the connection. Otherwise\u001b[39;00m\n\u001b[0;32m    715\u001b[0m \u001b[39m# it will also try to release it and we'll have a double-release\u001b[39;00m\n\u001b[0;32m    716\u001b[0m \u001b[39m# mess.\u001b[39;00m\n\u001b[0;32m    717\u001b[0m response_conn \u001b[39m=\u001b[39m conn \u001b[39mif\u001b[39;00m \u001b[39mnot\u001b[39;00m release_conn \u001b[39melse\u001b[39;00m \u001b[39mNone\u001b[39;00m\n",
      "File \u001b[1;32mc:\\Users\\esteb\\.conda\\envs\\myenv\\lib\\site-packages\\urllib3\\connectionpool.py:449\u001b[0m, in \u001b[0;36mHTTPConnectionPool._make_request\u001b[1;34m(self, conn, method, url, timeout, chunked, **httplib_request_kw)\u001b[0m\n\u001b[0;32m    444\u001b[0m             httplib_response \u001b[39m=\u001b[39m conn\u001b[39m.\u001b[39mgetresponse()\n\u001b[0;32m    445\u001b[0m         \u001b[39mexcept\u001b[39;00m \u001b[39mBaseException\u001b[39;00m \u001b[39mas\u001b[39;00m e:\n\u001b[0;32m    446\u001b[0m             \u001b[39m# Remove the TypeError from the exception chain in\u001b[39;00m\n\u001b[0;32m    447\u001b[0m             \u001b[39m# Python 3 (including for exceptions like SystemExit).\u001b[39;00m\n\u001b[0;32m    448\u001b[0m             \u001b[39m# Otherwise it looks like a bug in the code.\u001b[39;00m\n\u001b[1;32m--> 449\u001b[0m             six\u001b[39m.\u001b[39;49mraise_from(e, \u001b[39mNone\u001b[39;49;00m)\n\u001b[0;32m    450\u001b[0m \u001b[39mexcept\u001b[39;00m (SocketTimeout, BaseSSLError, SocketError) \u001b[39mas\u001b[39;00m e:\n\u001b[0;32m    451\u001b[0m     \u001b[39mself\u001b[39m\u001b[39m.\u001b[39m_raise_timeout(err\u001b[39m=\u001b[39me, url\u001b[39m=\u001b[39murl, timeout_value\u001b[39m=\u001b[39mread_timeout)\n",
      "File \u001b[1;32m<string>:3\u001b[0m, in \u001b[0;36mraise_from\u001b[1;34m(value, from_value)\u001b[0m\n",
      "File \u001b[1;32mc:\\Users\\esteb\\.conda\\envs\\myenv\\lib\\site-packages\\urllib3\\connectionpool.py:444\u001b[0m, in \u001b[0;36mHTTPConnectionPool._make_request\u001b[1;34m(self, conn, method, url, timeout, chunked, **httplib_request_kw)\u001b[0m\n\u001b[0;32m    441\u001b[0m \u001b[39mexcept\u001b[39;00m \u001b[39mTypeError\u001b[39;00m:\n\u001b[0;32m    442\u001b[0m     \u001b[39m# Python 3\u001b[39;00m\n\u001b[0;32m    443\u001b[0m     \u001b[39mtry\u001b[39;00m:\n\u001b[1;32m--> 444\u001b[0m         httplib_response \u001b[39m=\u001b[39m conn\u001b[39m.\u001b[39;49mgetresponse()\n\u001b[0;32m    445\u001b[0m     \u001b[39mexcept\u001b[39;00m \u001b[39mBaseException\u001b[39;00m \u001b[39mas\u001b[39;00m e:\n\u001b[0;32m    446\u001b[0m         \u001b[39m# Remove the TypeError from the exception chain in\u001b[39;00m\n\u001b[0;32m    447\u001b[0m         \u001b[39m# Python 3 (including for exceptions like SystemExit).\u001b[39;00m\n\u001b[0;32m    448\u001b[0m         \u001b[39m# Otherwise it looks like a bug in the code.\u001b[39;00m\n\u001b[0;32m    449\u001b[0m         six\u001b[39m.\u001b[39mraise_from(e, \u001b[39mNone\u001b[39;00m)\n",
      "File \u001b[1;32mc:\\Users\\esteb\\.conda\\envs\\myenv\\lib\\http\\client.py:1374\u001b[0m, in \u001b[0;36mHTTPConnection.getresponse\u001b[1;34m(self)\u001b[0m\n\u001b[0;32m   1372\u001b[0m \u001b[39mtry\u001b[39;00m:\n\u001b[0;32m   1373\u001b[0m     \u001b[39mtry\u001b[39;00m:\n\u001b[1;32m-> 1374\u001b[0m         response\u001b[39m.\u001b[39;49mbegin()\n\u001b[0;32m   1375\u001b[0m     \u001b[39mexcept\u001b[39;00m \u001b[39mConnectionError\u001b[39;00m:\n\u001b[0;32m   1376\u001b[0m         \u001b[39mself\u001b[39m\u001b[39m.\u001b[39mclose()\n",
      "File \u001b[1;32mc:\\Users\\esteb\\.conda\\envs\\myenv\\lib\\http\\client.py:318\u001b[0m, in \u001b[0;36mHTTPResponse.begin\u001b[1;34m(self)\u001b[0m\n\u001b[0;32m    316\u001b[0m \u001b[39m# read until we get a non-100 response\u001b[39;00m\n\u001b[0;32m    317\u001b[0m \u001b[39mwhile\u001b[39;00m \u001b[39mTrue\u001b[39;00m:\n\u001b[1;32m--> 318\u001b[0m     version, status, reason \u001b[39m=\u001b[39m \u001b[39mself\u001b[39;49m\u001b[39m.\u001b[39;49m_read_status()\n\u001b[0;32m    319\u001b[0m     \u001b[39mif\u001b[39;00m status \u001b[39m!=\u001b[39m CONTINUE:\n\u001b[0;32m    320\u001b[0m         \u001b[39mbreak\u001b[39;00m\n",
      "File \u001b[1;32mc:\\Users\\esteb\\.conda\\envs\\myenv\\lib\\http\\client.py:279\u001b[0m, in \u001b[0;36mHTTPResponse._read_status\u001b[1;34m(self)\u001b[0m\n\u001b[0;32m    278\u001b[0m \u001b[39mdef\u001b[39;00m \u001b[39m_read_status\u001b[39m(\u001b[39mself\u001b[39m):\n\u001b[1;32m--> 279\u001b[0m     line \u001b[39m=\u001b[39m \u001b[39mstr\u001b[39m(\u001b[39mself\u001b[39;49m\u001b[39m.\u001b[39;49mfp\u001b[39m.\u001b[39;49mreadline(_MAXLINE \u001b[39m+\u001b[39;49m \u001b[39m1\u001b[39;49m), \u001b[39m\"\u001b[39m\u001b[39miso-8859-1\u001b[39m\u001b[39m\"\u001b[39m)\n\u001b[0;32m    280\u001b[0m     \u001b[39mif\u001b[39;00m \u001b[39mlen\u001b[39m(line) \u001b[39m>\u001b[39m _MAXLINE:\n\u001b[0;32m    281\u001b[0m         \u001b[39mraise\u001b[39;00m LineTooLong(\u001b[39m\"\u001b[39m\u001b[39mstatus line\u001b[39m\u001b[39m\"\u001b[39m)\n",
      "File \u001b[1;32mc:\\Users\\esteb\\.conda\\envs\\myenv\\lib\\socket.py:705\u001b[0m, in \u001b[0;36mSocketIO.readinto\u001b[1;34m(self, b)\u001b[0m\n\u001b[0;32m    703\u001b[0m \u001b[39mwhile\u001b[39;00m \u001b[39mTrue\u001b[39;00m:\n\u001b[0;32m    704\u001b[0m     \u001b[39mtry\u001b[39;00m:\n\u001b[1;32m--> 705\u001b[0m         \u001b[39mreturn\u001b[39;00m \u001b[39mself\u001b[39;49m\u001b[39m.\u001b[39;49m_sock\u001b[39m.\u001b[39;49mrecv_into(b)\n\u001b[0;32m    706\u001b[0m     \u001b[39mexcept\u001b[39;00m timeout:\n\u001b[0;32m    707\u001b[0m         \u001b[39mself\u001b[39m\u001b[39m.\u001b[39m_timeout_occurred \u001b[39m=\u001b[39m \u001b[39mTrue\u001b[39;00m\n",
      "File \u001b[1;32mc:\\Users\\esteb\\.conda\\envs\\myenv\\lib\\ssl.py:1274\u001b[0m, in \u001b[0;36mSSLSocket.recv_into\u001b[1;34m(self, buffer, nbytes, flags)\u001b[0m\n\u001b[0;32m   1270\u001b[0m     \u001b[39mif\u001b[39;00m flags \u001b[39m!=\u001b[39m \u001b[39m0\u001b[39m:\n\u001b[0;32m   1271\u001b[0m         \u001b[39mraise\u001b[39;00m \u001b[39mValueError\u001b[39;00m(\n\u001b[0;32m   1272\u001b[0m           \u001b[39m\"\u001b[39m\u001b[39mnon-zero flags not allowed in calls to recv_into() on \u001b[39m\u001b[39m%s\u001b[39;00m\u001b[39m\"\u001b[39m \u001b[39m%\u001b[39m\n\u001b[0;32m   1273\u001b[0m           \u001b[39mself\u001b[39m\u001b[39m.\u001b[39m\u001b[39m__class__\u001b[39m)\n\u001b[1;32m-> 1274\u001b[0m     \u001b[39mreturn\u001b[39;00m \u001b[39mself\u001b[39;49m\u001b[39m.\u001b[39;49mread(nbytes, buffer)\n\u001b[0;32m   1275\u001b[0m \u001b[39melse\u001b[39;00m:\n\u001b[0;32m   1276\u001b[0m     \u001b[39mreturn\u001b[39;00m \u001b[39msuper\u001b[39m()\u001b[39m.\u001b[39mrecv_into(buffer, nbytes, flags)\n",
      "File \u001b[1;32mc:\\Users\\esteb\\.conda\\envs\\myenv\\lib\\ssl.py:1130\u001b[0m, in \u001b[0;36mSSLSocket.read\u001b[1;34m(self, len, buffer)\u001b[0m\n\u001b[0;32m   1128\u001b[0m \u001b[39mtry\u001b[39;00m:\n\u001b[0;32m   1129\u001b[0m     \u001b[39mif\u001b[39;00m buffer \u001b[39mis\u001b[39;00m \u001b[39mnot\u001b[39;00m \u001b[39mNone\u001b[39;00m:\n\u001b[1;32m-> 1130\u001b[0m         \u001b[39mreturn\u001b[39;00m \u001b[39mself\u001b[39;49m\u001b[39m.\u001b[39;49m_sslobj\u001b[39m.\u001b[39;49mread(\u001b[39mlen\u001b[39;49m, buffer)\n\u001b[0;32m   1131\u001b[0m     \u001b[39melse\u001b[39;00m:\n\u001b[0;32m   1132\u001b[0m         \u001b[39mreturn\u001b[39;00m \u001b[39mself\u001b[39m\u001b[39m.\u001b[39m_sslobj\u001b[39m.\u001b[39mread(\u001b[39mlen\u001b[39m)\n",
      "\u001b[1;31mKeyboardInterrupt\u001b[0m: "
     ]
    }
   ],
   "source": [
    "dt.batch_pandas(df)"
   ]
  },
  {
   "cell_type": "code",
   "execution_count": null,
   "id": "4c451040",
   "metadata": {},
   "outputs": [
    {
     "data": {
      "text/plain": [
       "{'Num_pages': 116.0,\n",
       " 'Isbn13': 9781590171707.0,\n",
       " 'Publication_date': '9/12/2006',\n",
       " 'Isbn': '1590171705',\n",
       " 'Text_reviews_count': 12.0,\n",
       " 'Language_code': 'eng',\n",
       " 'Title': 'Dime-Store Alchemy: The Art of Joseph Cornell',\n",
       " 'Bookid': 45336.0,\n",
       " 'Ratings_count': 70.0,\n",
       " 'Author': 'Charles Simic',\n",
       " 'Average_rating': 4.18,\n",
       " 'Publisher': 'NYRB Classics'}"
      ]
     },
     "execution_count": 35,
     "metadata": {},
     "output_type": "execute_result"
    }
   ],
   "source": [
    "dt.get_item(\n",
    "    pk_value=\"Charles Simic\",\n",
    "    se_value=\"Dime-Store Alchemy: The Art of Joseph Cornell\"\n",
    ")"
   ]
  },
  {
   "attachments": {},
   "cell_type": "markdown",
   "id": "325a4078",
   "metadata": {},
   "source": [
    "Debido a que cada elemento de la tabla se identifica de forma exclusiva con su clave principal, la llamada a la API GetItem siempre devolverá como máximo un elemento de la tabla."
   ]
  },
  {
   "cell_type": "code",
   "execution_count": null,
   "id": "f61202ca",
   "metadata": {},
   "outputs": [
    {
     "data": {
      "text/html": [
       "<div>\n",
       "<style scoped>\n",
       "    .dataframe tbody tr th:only-of-type {\n",
       "        vertical-align: middle;\n",
       "    }\n",
       "\n",
       "    .dataframe tbody tr th {\n",
       "        vertical-align: top;\n",
       "    }\n",
       "\n",
       "    .dataframe thead th {\n",
       "        text-align: right;\n",
       "    }\n",
       "</style>\n",
       "<table border=\"1\" class=\"dataframe\">\n",
       "  <thead>\n",
       "    <tr style=\"text-align: right;\">\n",
       "      <th></th>\n",
       "      <th>Num_pages</th>\n",
       "      <th>Isbn13</th>\n",
       "      <th>Publication_date</th>\n",
       "      <th>Isbn</th>\n",
       "      <th>Text_reviews_count</th>\n",
       "      <th>Language_code</th>\n",
       "      <th>Title</th>\n",
       "      <th>Bookid</th>\n",
       "      <th>Ratings_count</th>\n",
       "      <th>Author</th>\n",
       "      <th>Average_rating</th>\n",
       "      <th>Publisher</th>\n",
       "    </tr>\n",
       "  </thead>\n",
       "  <tbody>\n",
       "    <tr>\n",
       "      <th>0</th>\n",
       "      <td>167</td>\n",
       "      <td>9780020421900</td>\n",
       "      <td>4/30/1987</td>\n",
       "      <td>0020421907</td>\n",
       "      <td>72</td>\n",
       "      <td>eng</td>\n",
       "      <td>Seaward</td>\n",
       "      <td>11308</td>\n",
       "      <td>1756</td>\n",
       "      <td>Susan Cooper</td>\n",
       "      <td>3.97</td>\n",
       "      <td>Aladdin Paperbacks</td>\n",
       "    </tr>\n",
       "    <tr>\n",
       "      <th>1</th>\n",
       "      <td>274</td>\n",
       "      <td>9780689840333</td>\n",
       "      <td>12/1/2000</td>\n",
       "      <td>0689840330</td>\n",
       "      <td>507</td>\n",
       "      <td>eng</td>\n",
       "      <td>Silver on the Tree (The Dark is Rising  #5)</td>\n",
       "      <td>11313</td>\n",
       "      <td>27802</td>\n",
       "      <td>Susan Cooper</td>\n",
       "      <td>4.15</td>\n",
       "      <td>Margaret K. McElderry Books</td>\n",
       "    </tr>\n",
       "    <tr>\n",
       "      <th>2</th>\n",
       "      <td>786</td>\n",
       "      <td>9780140316889</td>\n",
       "      <td>10/25/1984</td>\n",
       "      <td>0140316884</td>\n",
       "      <td>16</td>\n",
       "      <td>eng</td>\n",
       "      <td>The Dark Is Rising Sequence</td>\n",
       "      <td>24958</td>\n",
       "      <td>266</td>\n",
       "      <td>Susan Cooper</td>\n",
       "      <td>4.28</td>\n",
       "      <td>Puffin Books (Penguin Books)</td>\n",
       "    </tr>\n",
       "  </tbody>\n",
       "</table>\n",
       "</div>"
      ],
      "text/plain": [
       "  Num_pages         Isbn13 Publication_date        Isbn Text_reviews_count  \\\n",
       "0       167  9780020421900        4/30/1987  0020421907                 72   \n",
       "1       274  9780689840333        12/1/2000  0689840330                507   \n",
       "2       786  9780140316889       10/25/1984  0140316884                 16   \n",
       "\n",
       "  Language_code                                        Title Bookid  \\\n",
       "0           eng                                      Seaward  11308   \n",
       "1           eng  Silver on the Tree (The Dark is Rising  #5)  11313   \n",
       "2           eng                  The Dark Is Rising Sequence  24958   \n",
       "\n",
       "  Ratings_count        Author Average_rating                     Publisher  \n",
       "0          1756  Susan Cooper           3.97            Aladdin Paperbacks  \n",
       "1         27802  Susan Cooper           4.15   Margaret K. McElderry Books  \n",
       "2           266  Susan Cooper           4.28  Puffin Books (Penguin Books)  "
      ]
     },
     "execution_count": 34,
     "metadata": {},
     "output_type": "execute_result"
    }
   ],
   "source": [
    "dt.query_items(\"Susan Cooper\", to_pandas=True)"
   ]
  },
  {
   "attachments": {},
   "cell_type": "markdown",
   "id": "e0d01c6d",
   "metadata": {},
   "source": [
    "Tanto la llamada a la API GetItem para obtener un único libro como la llamada a la API query_items() para recuperar todos los libros escritos por un autor utilizan la clave primaria especificada en la tabla de Libros. Sin embargo, es posible que desee habilitar patrones de acceso adicionales, como recuperar todos los libros de una categoría, como historia o biografías. La Categoría no hace parte de la clave primaria de la tabla, pero se puede crear un índice secundario a fin de permitir patrones de acceso adicionales.\n"
   ]
  },
  {
   "cell_type": "code",
   "execution_count": null,
   "id": "66ceee72",
   "metadata": {},
   "outputs": [
    {
     "name": "stdout",
     "output_type": "stream",
     "text": [
      "Consumed Capacity: 0.5\n"
     ]
    },
    {
     "data": {
      "text/html": [
       "<div>\n",
       "<style scoped>\n",
       "    .dataframe tbody tr th:only-of-type {\n",
       "        vertical-align: middle;\n",
       "    }\n",
       "\n",
       "    .dataframe tbody tr th {\n",
       "        vertical-align: top;\n",
       "    }\n",
       "\n",
       "    .dataframe thead th {\n",
       "        text-align: right;\n",
       "    }\n",
       "</style>\n",
       "<table border=\"1\" class=\"dataframe\">\n",
       "  <thead>\n",
       "    <tr style=\"text-align: right;\">\n",
       "      <th></th>\n",
       "      <th>Num_pages</th>\n",
       "      <th>Isbn13</th>\n",
       "      <th>Publication_date</th>\n",
       "      <th>Isbn</th>\n",
       "      <th>Text_reviews_count</th>\n",
       "      <th>Language_code</th>\n",
       "      <th>Title</th>\n",
       "      <th>Bookid</th>\n",
       "      <th>Ratings_count</th>\n",
       "      <th>Author</th>\n",
       "      <th>Average_rating</th>\n",
       "      <th>Publisher</th>\n",
       "    </tr>\n",
       "  </thead>\n",
       "  <tbody>\n",
       "    <tr>\n",
       "      <th>0</th>\n",
       "      <td>371</td>\n",
       "      <td>9780449911839</td>\n",
       "      <td>8/27/1996</td>\n",
       "      <td>0449911837</td>\n",
       "      <td>314</td>\n",
       "      <td>eng</td>\n",
       "      <td>Davita's Harp</td>\n",
       "      <td>14769</td>\n",
       "      <td>5005</td>\n",
       "      <td>Chaim Potok</td>\n",
       "      <td>3.99</td>\n",
       "      <td>Ballantine Books</td>\n",
       "    </tr>\n",
       "    <tr>\n",
       "      <th>1</th>\n",
       "      <td>416</td>\n",
       "      <td>9780449001134</td>\n",
       "      <td>9/10/1997</td>\n",
       "      <td>044900113X</td>\n",
       "      <td>120</td>\n",
       "      <td>eng</td>\n",
       "      <td>In the Beginning</td>\n",
       "      <td>11503</td>\n",
       "      <td>2222</td>\n",
       "      <td>Chaim Potok</td>\n",
       "      <td>4.08</td>\n",
       "      <td>Ballantine Books</td>\n",
       "    </tr>\n",
       "    <tr>\n",
       "      <th>2</th>\n",
       "      <td>369</td>\n",
       "      <td>9781400031047</td>\n",
       "      <td>3/11/2003</td>\n",
       "      <td>1400031044</td>\n",
       "      <td>2398</td>\n",
       "      <td>eng</td>\n",
       "      <td>My Name Is Asher Lev</td>\n",
       "      <td>11507</td>\n",
       "      <td>32785</td>\n",
       "      <td>Chaim Potok</td>\n",
       "      <td>4.21</td>\n",
       "      <td>Anchor</td>\n",
       "    </tr>\n",
       "    <tr>\n",
       "      <th>3</th>\n",
       "      <td>384</td>\n",
       "      <td>9780449001158</td>\n",
       "      <td>9/10/1997</td>\n",
       "      <td>0449001156</td>\n",
       "      <td>339</td>\n",
       "      <td>eng</td>\n",
       "      <td>The Gift of Asher Lev</td>\n",
       "      <td>11502</td>\n",
       "      <td>6224</td>\n",
       "      <td>Chaim Potok</td>\n",
       "      <td>4.16</td>\n",
       "      <td>Ballantine Books</td>\n",
       "    </tr>\n",
       "    <tr>\n",
       "      <th>4</th>\n",
       "      <td>368</td>\n",
       "      <td>9781400095414</td>\n",
       "      <td>11/8/2005</td>\n",
       "      <td>1400095417</td>\n",
       "      <td>499</td>\n",
       "      <td>eng</td>\n",
       "      <td>The Promise</td>\n",
       "      <td>11499</td>\n",
       "      <td>11255</td>\n",
       "      <td>Chaim Potok</td>\n",
       "      <td>4.15</td>\n",
       "      <td>Anchor Books</td>\n",
       "    </tr>\n",
       "  </tbody>\n",
       "</table>\n",
       "</div>"
      ],
      "text/plain": [
       "  Num_pages         Isbn13 Publication_date        Isbn Text_reviews_count  \\\n",
       "0       371  9780449911839        8/27/1996  0449911837                314   \n",
       "1       416  9780449001134        9/10/1997  044900113X                120   \n",
       "2       369  9781400031047        3/11/2003  1400031044               2398   \n",
       "3       384  9780449001158        9/10/1997  0449001156                339   \n",
       "4       368  9781400095414        11/8/2005  1400095417                499   \n",
       "\n",
       "  Language_code                  Title Bookid Ratings_count       Author  \\\n",
       "0           eng          Davita's Harp  14769          5005  Chaim Potok   \n",
       "1           eng       In the Beginning  11503          2222  Chaim Potok   \n",
       "2           eng   My Name Is Asher Lev  11507         32785  Chaim Potok   \n",
       "3           eng  The Gift of Asher Lev  11502          6224  Chaim Potok   \n",
       "4           eng            The Promise  11499         11255  Chaim Potok   \n",
       "\n",
       "  Average_rating         Publisher  \n",
       "0           3.99  Ballantine Books  \n",
       "1           4.08  Ballantine Books  \n",
       "2           4.21            Anchor  \n",
       "3           4.16  Ballantine Books  \n",
       "4           4.15      Anchor Books  "
      ]
     },
     "execution_count": 37,
     "metadata": {},
     "output_type": "execute_result"
    }
   ],
   "source": [
    "dt.query_items(\n",
    "    query=\"Chaim Potok\", \n",
    "    to_pandas=True, \n",
    "    consumed_capacity=True\n",
    ")"
   ]
  },
  {
   "attachments": {},
   "cell_type": "markdown",
   "id": "e4535a56",
   "metadata": {},
   "source": [
    "### Crear un índice secundario\n",
    "\n",
    "DynamoDB permite la creación de índices secundarios para obtener más patrones de acceso a los datos en la tabla. Los índices secundarios son un medio eficaz para agregar flexibilidad de consulta a la tabla de DynamoDB.\n",
    "\n",
    "DynamoDB tiene dos tipos de índices secundarios: los índices secundarios globales y los índices secundarios locales. En esta sección, se agrega un índice secundario global al atributo de categoría. Este permitirá recuperar todos los libros de una categoría específica."
   ]
  },
  {
   "cell_type": "code",
   "execution_count": null,
   "id": "c6171f86",
   "metadata": {},
   "outputs": [],
   "source": [
    "client = boto3.client('dynamodb')"
   ]
  },
  {
   "cell_type": "code",
   "execution_count": null,
   "id": "3de1dd70",
   "metadata": {},
   "outputs": [
    {
     "name": "stdout",
     "output_type": "stream",
     "text": [
      "Secondary index added!\n"
     ]
    }
   ],
   "source": [
    "try:\n",
    "    resp = client.update_table(\n",
    "        TableName=\"Books\",\n",
    "        # Any attributes used in your new global secondary index must be declared in AttributeDefinitions\n",
    "        AttributeDefinitions=[\n",
    "            {\n",
    "                \"AttributeName\": \"Publisher\",\n",
    "                \"AttributeType\": \"S\"\n",
    "            },\n",
    "        ],\n",
    "        # This is where you add, update, or delete any global secondary indexes on your table.\n",
    "        GlobalSecondaryIndexUpdates=[\n",
    "            {\n",
    "                \"Create\": {\n",
    "                    # You need to name your index and specifically refer to it when using it for queries.\n",
    "                    \"IndexName\": \"PublisherIndex\",\n",
    "                    # Like the table itself, you need to specify the key schema for an index.\n",
    "                    # For a global secondary index, you can use a simple or composite key schema.\n",
    "                    \"KeySchema\": [\n",
    "                        {\n",
    "                            \"AttributeName\": \"Publisher\",\n",
    "                            \"KeyType\": \"HASH\"\n",
    "                        }\n",
    "                    ],\n",
    "                    # You can choose to copy only specific attributes from the original item into the index.\n",
    "                    # You might want to copy only a few attributes to save space.\n",
    "                    \"Projection\": {\n",
    "                        \"ProjectionType\": \"ALL\"\n",
    "                    },\n",
    "                    # Global secondary indexes have read and write capacity separate from the underlying table.\n",
    "                    # If not selected PAY_PER_REQUEST when create table\n",
    "                    # \"ProvisionedThroughput\": {\n",
    "                    #     \"ReadCapacityUnits\": 5,\n",
    "                    #     \"WriteCapacityUnits\": 5,\n",
    "                    # }\n",
    "                }\n",
    "            }\n",
    "        ],\n",
    "    )\n",
    "    print(\"Secondary index added!\")\n",
    "except Exception as e:\n",
    "    print(\"Error updating table:\")\n",
    "    print(e)"
   ]
  },
  {
   "attachments": {},
   "cell_type": "markdown",
   "id": "b704cf2d",
   "metadata": {},
   "source": [
    "Crear un índice secundario global es muy parecido a crear una tabla. Se especifican el nombre del índice, los atributos que estarán dentro del índice, el esquema de la clave del índice y el rendimiento aprovisionado (la capacidad máxima que una aplicación puede consumir de una tabla o de un índice). El rendimiento aprovisionado en cada índice es independiente del rendimiento aprovisionado en una tabla. Esto permite definir el rendimiento con detalle a fin de satisfacer las necesidades de la aplicación."
   ]
  },
  {
   "cell_type": "code",
   "execution_count": 53,
   "id": "8f224fb9",
   "metadata": {},
   "outputs": [
    {
     "name": "stdout",
     "output_type": "stream",
     "text": [
      "The query returned the following items:\n",
      "{'Num_pages': Decimal('234'), 'Isbn13': Decimal('9781414306346'), 'Publication_date': '2/17/2006', 'Isbn': '1414306342', 'Text_reviews_count': Decimal('94'), 'Language_code': 'eng', 'Title': 'Looking for God in Harry Potter', 'Bookid': Decimal('15190'), 'Ratings_count': Decimal('1347'), 'Author': 'John Granger', 'Average_rating': Decimal('4.13'), 'Publisher': 'SaltRiver'}\n"
     ]
    }
   ],
   "source": [
    "import time\n",
    "from boto3.dynamodb.conditions import Key\n",
    "\n",
    "# Boto3 is the AWS SDK library for Python.\n",
    "# The \"resources\" interface allows for a higher-level abstraction than the low-level client interface.\n",
    "# For more details, go to http://boto3.readthedocs.io/en/latest/guide/resources.html\n",
    "dynamodb = boto3.resource('dynamodb')\n",
    "table = dynamodb.Table('Books')\n",
    "\n",
    "# When adding a global secondary index to an existing table, you cannot query the index until it has been backfilled.\n",
    "# This portion of the script waits until the index is in the “ACTIVE” status, indicating it is ready to be queried.\n",
    "while True:\n",
    "    if not table.global_secondary_indexes or table.global_secondary_indexes[0]['IndexStatus'] != 'ACTIVE':\n",
    "        print('Waiting for index to backfill...')\n",
    "        time.sleep(10)\n",
    "        table.reload()\n",
    "    else:\n",
    "        break\n",
    "\n",
    "# When making a Query call, you use the KeyConditionExpression parameter to specify the hash key on which you want to query.\n",
    "# If you want to use a specific index, you also need to pass the IndexName in our API call.\n",
    "resp = table.query(\n",
    "    # Add the name of the index you want to use in your query.\n",
    "    IndexName=\"PublisherIndex\",\n",
    "    KeyConditionExpression=Key('Publisher').eq('SaltRiver'),\n",
    ")\n",
    "\n",
    "print(\"The query returned the following items:\")\n",
    "for item in resp['Items']:\n",
    "    print(item)"
   ]
  },
  {
   "cell_type": "code",
   "execution_count": 68,
   "id": "0e7ee5eb",
   "metadata": {},
   "outputs": [
    {
     "data": {
      "text/plain": [
       "- Table name: Books            \n",
       "- Table arn: arn:aws:dynamodb:us-east-1:830206065100:table/Books            \n",
       "- Table creation: 2022-12-16 16:44:15.221000-03:00            \n",
       "- Billing mode: PAY_PER_REQUEST            \n",
       "- [{'AttributeName': 'Author', 'KeyType': 'HASH'}, {'AttributeName': 'Title', 'KeyType': 'RANGE'}]            \n",
       "- [{'AttributeName': 'Author', 'AttributeType': 'S'}, {'AttributeName': 'Publisher', 'AttributeType': 'S'}, {'AttributeName': 'Title', 'AttributeType': 'S'}]"
      ]
     },
     "execution_count": 68,
     "metadata": {},
     "output_type": "execute_result"
    }
   ],
   "source": [
    "dt"
   ]
  },
  {
   "attachments": {},
   "cell_type": "markdown",
   "id": "bb5a6a00",
   "metadata": {},
   "source": [
    "### Actualización de elementos\n",
    "\n",
    "Además de escribir y leer datos, se busca actualizar regularmente los datos existentes en la base de datos. Es preferible contar con la capacidad de actualizar estos datos mediante una sola llamada a la API, en lugar de primero leer un elemento y luego escribir de regreso el elemento completo con las actualizaciones hechas. DynamoDB permite la actualización de los datos in situ mediante la llamada a la API UpdateItem.\n",
    "\n",
    "Por ejemplo, recuerde que cada elemento tiene un atributo de Formatos. Este es un mapa de todos los diferentes formatos que la librería tiene de un título específico. Con el tiempo, este mapa se debe actualizar para un libro específico, ya sea porque se ha agregado un nuevo formato o porque ya no se utiliza un formato."
   ]
  },
  {
   "cell_type": "code",
   "execution_count": null,
   "id": "69edaa6e",
   "metadata": {},
   "outputs": [],
   "source": [
    "dt."
   ]
  }
 ],
 "metadata": {
  "kernelspec": {
   "display_name": "myenv",
   "language": "python",
   "name": "python3"
  },
  "language_info": {
   "codemirror_mode": {
    "name": "ipython",
    "version": 3
   },
   "file_extension": ".py",
   "mimetype": "text/x-python",
   "name": "python",
   "nbconvert_exporter": "python",
   "pygments_lexer": "ipython3",
   "version": "3.10.8"
  },
  "vscode": {
   "interpreter": {
    "hash": "8863c83ecab2223a51997af9bdeaa46cb995e00f347fe5412afef9dc59f49334"
   }
  }
 },
 "nbformat": 4,
 "nbformat_minor": 5
}
