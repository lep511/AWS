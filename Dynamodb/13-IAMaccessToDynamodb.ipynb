{
 "cells": [
  {
   "cell_type": "code",
   "execution_count": 5,
   "metadata": {},
   "outputs": [],
   "source": [
    "import boto3\n",
    "from botocore.exceptions import ClientError\n",
    "import pandas as pd\n",
    "import base64\n",
    "from spdynamodb import DynamoTable\n",
    "from datetime import datetime\n",
    "import json\n",
    "import time\n",
    "from decimal import Decimal"
   ]
  },
  {
   "cell_type": "code",
   "execution_count": 6,
   "metadata": {},
   "outputs": [
    {
     "name": "stdout",
     "output_type": "stream",
     "text": [
      "Table created successfully!\n"
     ]
    }
   ],
   "source": [
    "dt = DynamoTable()\n",
    "try:\n",
    "    dt.select_table('SkiLifts')\n",
    "    print(dt)\n",
    "except:\n",
    "    dt.create_table(\n",
    "        table_name='SkiLifts',\n",
    "        partition_key='Lift',\n",
    "        partition_key_type='S',\n",
    "        sort_key=\"Metadata\",\n",
    "        sort_key_type=\"S\"\n",
    ")"
   ]
  },
  {
   "cell_type": "code",
   "execution_count": 7,
   "metadata": {},
   "outputs": [],
   "source": [
    "dt.load_json(\"ski.json\")"
   ]
  },
  {
   "attachments": {},
   "cell_type": "markdown",
   "metadata": {},
   "source": [
    "**TABLE:**\n",
    "<br>\n",
    "\n",
    "![SkiResortDataModel.png](images/ski_data01.png)"
   ]
  },
  {
   "cell_type": "code",
   "execution_count": 30,
   "metadata": {},
   "outputs": [],
   "source": [
    "# Policy 1 - Allow access to all items in the table if the user is authenticated and primary key is Lift 23\n",
    "policy = {\n",
    "    \"Version\": \"2012-10-17\",\n",
    "    \"Statement\": [\n",
    "        {\n",
    "            \"Sid\": \"AllowAccessToOnlyItemsMatchingUserID\",\n",
    "            \"Effect\": \"Allow\",\n",
    "            \"Action\": [\n",
    "                \"dynamodb:GetItem\",\n",
    "                \"dynamodb:BatchGetItem\",\n",
    "                \"dynamodb:Query\",\n",
    "                \"dynamodb:PutItem\",\n",
    "                \"dynamodb:UpdateItem\",\n",
    "                \"dynamodb:DeleteItem\",\n",
    "                \"dynamodb:BatchWriteItem\"\n",
    "            ],\n",
    "            \"Resource\": \"arn:aws:dynamodb:us-east-1:089715336747:table/SkiLifts\",\n",
    "            \"Condition\": {\n",
    "                \"ForAllValues:StringEquals\": {\n",
    "                    \"dynamodb:LeadingKeys\": [\n",
    "                        \"Lift 23\"\n",
    "                    ]\n",
    "                }\n",
    "            }\n",
    "        },\n",
    "        {\n",
    "            \"Sid\": \"VisualEditor1\",\n",
    "            \"Effect\": \"Allow\",\n",
    "            \"Action\": \"dynamodb:ListTables\",\n",
    "            \"Resource\": \"*\"\n",
    "        }\n",
    "    ]\n",
    "}\n",
    "policy_name = 'dynamodb-policy-test-sample'"
   ]
  },
  {
   "cell_type": "code",
   "execution_count": 29,
   "metadata": {},
   "outputs": [],
   "source": [
    "# Policy N°2 - Allow access to all items in the table if the user is authenticated and primary \n",
    "# key is Lift 23 and attributes are Lift, Metadata and Item\n",
    "policy = {\n",
    "    \"Version\": \"2012-10-17\",\n",
    "    \"Statement\": [\n",
    "        {\n",
    "            \"Sid\": \"AllowAccessToOnlyItemsMatchingUserID\",\n",
    "            \"Effect\": \"Allow\",\n",
    "            \"Action\": [\n",
    "                \"dynamodb:GetItem\",\n",
    "                \"dynamodb:BatchGetItem\",\n",
    "                \"dynamodb:Query\",\n",
    "                \"dynamodb:PutItem\",\n",
    "                \"dynamodb:UpdateItem\",\n",
    "                \"dynamodb:DeleteItem\",\n",
    "                \"dynamodb:BatchWriteItem\"\n",
    "            ],\n",
    "            \"Resource\": \"arn:aws:dynamodb:us-east-1:089715336747:table/SkiLifts\",\n",
    "            \"Condition\": {\n",
    "                \"ForAllValues:StringEquals\": {\n",
    "                    \"dynamodb:LeadingKeys\": [\n",
    "                        \"Lift 23\"\n",
    "                    ],\n",
    "                \"dynamodb:Attributes\": [\n",
    "                    \"Lift\",\n",
    "                    \"Metadata\",\n",
    "                    \"Item\"\n",
    "                    ]\n",
    "                },\n",
    "                \"StringEqualsIfExists\": {\n",
    "                    \"dynamodb:Select\": \"SPECIFIC_ATTRIBUTES\"\n",
    "                }\n",
    "            }\n",
    "        },\n",
    "        {\n",
    "            \"Sid\": \"VisualEditor1\",\n",
    "            \"Effect\": \"Allow\",\n",
    "            \"Action\": \"dynamodb:ListTables\",\n",
    "            \"Resource\": \"*\"\n",
    "        }\n",
    "    ]\n",
    "}\n",
    "policy_name = 'dynamodb-policy-test-sample'"
   ]
  },
  {
   "cell_type": "code",
   "execution_count": 31,
   "metadata": {},
   "outputs": [
    {
     "name": "stdout",
     "output_type": "stream",
     "text": [
      "Policy dynamodb-policy-test-sample updated successfully. Arn: arn:aws:iam::089715336747:policy/dynamodb-policy-test-sample\n"
     ]
    }
   ],
   "source": [
    "# Update policy or create if it doesn't exist\n",
    "iam = boto3.client('iam')\n",
    "try:\n",
    "    response = iam.create_policy(\n",
    "        PolicyName=policy_name,\n",
    "        PolicyDocument=json.dumps(policy)\n",
    "    )\n",
    "    print(f\"Policy {policy_name} created successfully. Arn: {response['Policy']['Arn']}\")\n",
    "\n",
    "except ClientError as e:\n",
    "    if e.response['Error']['Code'] == 'EntityAlreadyExists':\n",
    "        #Update policy\n",
    "        account_id = boto3.client('sts').get_caller_identity().get('Account')\n",
    "        response = iam.get_policy(PolicyArn=f\"arn:aws:iam::{account_id}:policy/{policy_name}\")\n",
    "        policy_arn = response['Policy']['Arn']\n",
    "        # Delete all policy versions except the default version\n",
    "        response = iam.list_policy_versions(PolicyArn=f\"arn:aws:iam::{account_id}:policy/{policy_name}\")\n",
    "        for version in response['Versions']:\n",
    "            if not version['IsDefaultVersion']:\n",
    "                response = iam.delete_policy_version(\n",
    "                    PolicyArn=policy_arn,\n",
    "                    VersionId=version['VersionId']\n",
    "                )   \n",
    "        response = iam.create_policy_version(\n",
    "            PolicyArn=policy_arn,\n",
    "            PolicyDocument=json.dumps(policy),\n",
    "            SetAsDefault=True\n",
    "        )\n",
    "        print(f\"Policy {policy_name} updated successfully. Arn: {policy_arn}\")\n",
    "    else:\n",
    "        print(\"Unexpected error: %s\" % e)\n",
    "    "
   ]
  },
  {
   "cell_type": "code",
   "execution_count": 32,
   "metadata": {},
   "outputs": [],
   "source": [
    "import boto3\n",
    "session = boto3.Session(profile_name='089715336747_DynamoAttributes')\n",
    "dynamo_client = session.client('dynamodb', region_name='us-east-1')"
   ]
  },
  {
   "attachments": {},
   "cell_type": "markdown",
   "metadata": {},
   "source": [
    "### Policy N° 1"
   ]
  },
  {
   "cell_type": "code",
   "execution_count": null,
   "metadata": {},
   "outputs": [],
   "source": [
    "try:\n",
    "    dynamo_client.get_item(TableName='SkiLifts', Key={'Lift': {'S': 'Lift 20'}, 'Metadata': {'S': 'Static Data'}})\n",
    "except ClientError as e:\n",
    "    print(\"Error:\", e.response['Error']['Code'])"
   ]
  },
  {
   "cell_type": "code",
   "execution_count": null,
   "metadata": {},
   "outputs": [],
   "source": [
    "dynamo_client.get_item(TableName='SkiLifts', Key={'Lift': {'S': 'Lift 23'}, 'Metadata': {'S': 'Static Data'}})"
   ]
  },
  {
   "attachments": {},
   "cell_type": "markdown",
   "metadata": {},
   "source": [
    "### Policy N° 2"
   ]
  },
  {
   "cell_type": "code",
   "execution_count": 38,
   "metadata": {},
   "outputs": [
    {
     "name": "stdout",
     "output_type": "stream",
     "text": [
      "Error: ExpiredTokenException\n"
     ]
    }
   ],
   "source": [
    "try:\n",
    "    response = dynamo_client.get_item(TableName='SkiLifts', Key={'Lift': {'S': 'Lift 23'}, 'Metadata': {'S': 'Static Data'}})\n",
    "    print(response['Item'])\n",
    "except ClientError as e:\n",
    "    print(\"Error:\", e.response['Error']['Code'])"
   ]
  },
  {
   "cell_type": "code",
   "execution_count": 27,
   "metadata": {},
   "outputs": [
    {
     "data": {
      "text/plain": [
       "{'Item': {'Metadata': {'S': 'Static Data'}, 'Lift': {'S': 'Lift 23'}},\n",
       " 'ResponseMetadata': {'RequestId': 'CCBT3FR88VFPRT7GVF8JUMECJRVV4KQNSO5AEMVJF66Q9ASUAAJG',\n",
       "  'HTTPStatusCode': 200,\n",
       "  'HTTPHeaders': {'server': 'Server',\n",
       "   'date': 'Sun, 28 May 2023 22:36:22 GMT',\n",
       "   'content-type': 'application/x-amz-json-1.0',\n",
       "   'content-length': '64',\n",
       "   'connection': 'keep-alive',\n",
       "   'x-amzn-requestid': 'CCBT3FR88VFPRT7GVF8JUMECJRVV4KQNSO5AEMVJF66Q9ASUAAJG',\n",
       "   'x-amz-crc32': '3339958042'},\n",
       "  'RetryAttempts': 0}}"
      ]
     },
     "execution_count": 27,
     "metadata": {},
     "output_type": "execute_result"
    }
   ],
   "source": [
    "dynamo_client.get_item(TableName='SkiLifts', Key={'Lift': {'S': 'Lift 23'}, 'Metadata': {'S': 'Static Data'}}, AttributesToGet=['Lift', 'Metadata', 'Item'])"
   ]
  }
 ],
 "metadata": {
  "kernelspec": {
   "display_name": "myenv",
   "language": "python",
   "name": "python3"
  },
  "language_info": {
   "codemirror_mode": {
    "name": "ipython",
    "version": 3
   },
   "file_extension": ".py",
   "mimetype": "text/x-python",
   "name": "python",
   "nbconvert_exporter": "python",
   "pygments_lexer": "ipython3",
   "version": "3.10.8"
  },
  "orig_nbformat": 4
 },
 "nbformat": 4,
 "nbformat_minor": 2
}
