{
 "cells": [
  {
   "cell_type": "code",
   "execution_count": 7,
   "metadata": {},
   "outputs": [],
   "source": [
    "import boto3\n",
    "from botocore.exceptions import ClientError\n",
    "import pandas as pd\n",
    "import base64\n",
    "from spdynamodb import DynamoTable\n",
    "from datetime import datetime\n",
    "import json\n",
    "import time\n",
    "from decimal import Decimal"
   ]
  },
  {
   "cell_type": "code",
   "execution_count": 2,
   "metadata": {},
   "outputs": [
    {
     "name": "stdout",
     "output_type": "stream",
     "text": [
      "- Table name: SkiLifts            \n",
      "- Table arn: arn:aws:dynamodb:us-east-1:089715336747:table/SkiLifts            \n",
      "- Table creation: 2023-05-28 19:18:27            \n",
      "- [{'AttributeName': 'Lift', 'KeyType': 'HASH'}, {'AttributeName': 'Metadata', 'KeyType': 'RANGE'}]            \n",
      "- [{'AttributeName': 'Lift', 'AttributeType': 'S'}, {'AttributeName': 'Metadata', 'AttributeType': 'S'}]            \n",
      "- Point-in-time recovery status: DISABLED  |  Delete protection: False\n"
     ]
    }
   ],
   "source": [
    "dt = DynamoTable()\n",
    "try:\n",
    "    dt.select_table('SkiLifts')\n",
    "    print(dt)\n",
    "except:\n",
    "    dt.create_table(\n",
    "        table_name='SkiLifts',\n",
    "        partition_key='Lift',\n",
    "        partition_key_type='S',\n",
    "        sort_key=\"Metadata\",\n",
    "        sort_key_type=\"S\"\n",
    ")"
   ]
  },
  {
   "cell_type": "code",
   "execution_count": 7,
   "metadata": {},
   "outputs": [],
   "source": [
    "dt.load_json(\"ski.json\")"
   ]
  },
  {
   "attachments": {},
   "cell_type": "markdown",
   "metadata": {},
   "source": [
    "**TABLE:**\n",
    "<br>\n",
    "\n",
    "![SkiResortDataModel.png](images/ski_data01.png)"
   ]
  },
  {
   "cell_type": "code",
   "execution_count": 30,
   "metadata": {},
   "outputs": [],
   "source": [
    "# Policy 1 - Allow access to all items in the table if the user is authenticated and primary key is Lift 23\n",
    "policy = {\n",
    "    \"Version\": \"2012-10-17\",\n",
    "    \"Statement\": [\n",
    "        {\n",
    "            \"Sid\": \"AllowAccessToOnlyItemsMatchingUserID\",\n",
    "            \"Effect\": \"Allow\",\n",
    "            \"Action\": [\n",
    "                \"dynamodb:GetItem\",\n",
    "                \"dynamodb:BatchGetItem\",\n",
    "                \"dynamodb:Query\",\n",
    "                \"dynamodb:PutItem\",\n",
    "                \"dynamodb:UpdateItem\",\n",
    "                \"dynamodb:DeleteItem\",\n",
    "                \"dynamodb:BatchWriteItem\"\n",
    "            ],\n",
    "            \"Resource\": \"arn:aws:dynamodb:us-east-1:089715336747:table/SkiLifts\",\n",
    "            \"Condition\": {\n",
    "                \"ForAllValues:StringEquals\": {\n",
    "                    \"dynamodb:LeadingKeys\": [\n",
    "                        \"Lift 23\"\n",
    "                    ]\n",
    "                }\n",
    "            }\n",
    "        },\n",
    "        {\n",
    "            \"Sid\": \"VisualEditor1\",\n",
    "            \"Effect\": \"Allow\",\n",
    "            \"Action\": \"dynamodb:ListTables\",\n",
    "            \"Resource\": \"*\"\n",
    "        }\n",
    "    ]\n",
    "}\n",
    "policy_name = 'dynamodb-policy-test-sample'"
   ]
  },
  {
   "cell_type": "code",
   "execution_count": 5,
   "metadata": {},
   "outputs": [],
   "source": [
    "# Policy N°2 - Allow access to all items in the table if the user is authenticated and primary \n",
    "# key is Lift 23 and attributes are Lift, Metadata and Item\n",
    "policy = {\n",
    "    \"Version\": \"2012-10-17\",\n",
    "    \"Statement\": [\n",
    "        {\n",
    "            \"Sid\": \"AllowAccessToOnlyItemsMatchingUserID\",\n",
    "            \"Effect\": \"Allow\",\n",
    "            \"Action\": [\n",
    "                \"dynamodb:GetItem\",\n",
    "                \"dynamodb:BatchGetItem\",\n",
    "                \"dynamodb:Query\",\n",
    "                \"dynamodb:PutItem\",\n",
    "                \"dynamodb:UpdateItem\",\n",
    "                \"dynamodb:DeleteItem\",\n",
    "                \"dynamodb:BatchWriteItem\"\n",
    "            ],\n",
    "            \"Resource\": \"arn:aws:dynamodb:us-east-1:089715336747:table/SkiLifts\",\n",
    "            \"Condition\": {\n",
    "                \"ForAllValues:StringEquals\": {\n",
    "                    \"dynamodb:LeadingKeys\": [\n",
    "                        \"Lift 23\"\n",
    "                    ],\n",
    "                \"dynamodb:Attributes\": [\n",
    "                    \"Lift\",\n",
    "                    \"Metadata\",\n",
    "                    \"Item\"\n",
    "                    ]\n",
    "                },\n",
    "                \"StringEqualsIfExists\": {\n",
    "                    \"dynamodb:Select\": \"SPECIFIC_ATTRIBUTES\"\n",
    "                }\n",
    "            }\n",
    "        },\n",
    "        {\n",
    "            \"Sid\": \"VisualEditor1\",\n",
    "            \"Effect\": \"Allow\",\n",
    "            \"Action\": \"dynamodb:ListTables\",\n",
    "            \"Resource\": \"*\"\n",
    "        }\n",
    "    ]\n",
    "}\n",
    "policy_name = 'dynamodb-policy-test-sample'"
   ]
  },
  {
   "cell_type": "code",
   "execution_count": 10,
   "metadata": {},
   "outputs": [],
   "source": [
    "# Policy N°3 - Allow access to especific table\n",
    "policy = {\n",
    "    \"Version\": \"2012-10-17\",\n",
    "    \"Statement\": [\n",
    "        {\n",
    "            \"Sid\": \"ListAndDescribe\",\n",
    "            \"Effect\": \"Allow\",\n",
    "            \"Action\": [\n",
    "                \"dynamodb:List*\",\n",
    "                \"dynamodb:DescribeReservedCapacity*\",\n",
    "                \"dynamodb:DescribeLimits\",\n",
    "                \"dynamodb:DescribeTimeToLive\"\n",
    "            ],\n",
    "            \"Resource\": \"*\"\n",
    "        },\n",
    "        {\n",
    "            \"Sid\": \"SpecificTable\",\n",
    "            \"Effect\": \"Allow\",\n",
    "            \"Action\": [\n",
    "                \"dynamodb:BatchGet*\",\n",
    "                \"dynamodb:DescribeStream\",\n",
    "                \"dynamodb:DescribeTable\",\n",
    "                \"dynamodb:Get*\",\n",
    "                \"dynamodb:Query\",\n",
    "                \"dynamodb:Scan\",\n",
    "                \"dynamodb:BatchWrite*\",\n",
    "                \"dynamodb:CreateTable\",\n",
    "                \"dynamodb:Delete*\",\n",
    "                \"dynamodb:Update*\",\n",
    "                \"dynamodb:PutItem\"\n",
    "            ],\n",
    "            \"Resource\": \"arn:aws:dynamodb:us-east-1:089715336747:table/SkiLifts\"\n",
    "        }\n",
    "    ]\n",
    "}\n",
    "policy_name = 'dynamodb-policy-test-sample'"
   ]
  },
  {
   "cell_type": "code",
   "execution_count": 2,
   "metadata": {},
   "outputs": [
    {
     "name": "stdout",
     "output_type": "stream",
     "text": [
      "Policy dynamodb-policy-test-sample updated successfully. Arn: arn:aws:iam::089715336747:policy/dynamodb-policy-test-sample\n"
     ]
    }
   ],
   "source": [
    "# Update policy or create if it doesn't exist\n",
    "import boto3\n",
    "from botocore.exceptions import ClientError\n",
    "import json\n",
    "iam = boto3.client('iam')\n",
    "try:\n",
    "    response = iam.create_policy(\n",
    "        PolicyName=policy_name,\n",
    "        PolicyDocument=json.dumps(policy)\n",
    "    )\n",
    "    print(f\"Policy {policy_name} created successfully. Arn: {response['Policy']['Arn']}\")\n",
    "\n",
    "except ClientError as e:\n",
    "    if e.response['Error']['Code'] == 'EntityAlreadyExists':\n",
    "        #Update policy\n",
    "        account_id = boto3.client('sts').get_caller_identity().get('Account')\n",
    "        response = iam.get_policy(PolicyArn=f\"arn:aws:iam::{account_id}:policy/{policy_name}\")\n",
    "        policy_arn = response['Policy']['Arn']\n",
    "        # Delete all policy versions except the default version\n",
    "        response = iam.list_policy_versions(PolicyArn=f\"arn:aws:iam::{account_id}:policy/{policy_name}\")\n",
    "        for version in response['Versions']:\n",
    "            if not version['IsDefaultVersion']:\n",
    "                response = iam.delete_policy_version(\n",
    "                    PolicyArn=policy_arn,\n",
    "                    VersionId=version['VersionId']\n",
    "                )   \n",
    "        response = iam.create_policy_version(\n",
    "            PolicyArn=policy_arn,\n",
    "            PolicyDocument=json.dumps(policy),\n",
    "            SetAsDefault=True\n",
    "        )\n",
    "        print(f\"Policy {policy_name} updated successfully. Arn: {policy_arn}\")\n",
    "    else:\n",
    "        print(\"Unexpected error: %s\" % e)\n",
    "    "
   ]
  },
  {
   "cell_type": "code",
   "execution_count": 11,
   "metadata": {},
   "outputs": [],
   "source": [
    "import boto3\n",
    "from botocore.exceptions import ClientError\n",
    "session = boto3.Session(profile_name='089715336747_DynamoAttributes')\n",
    "dynamo_client = session.client('dynamodb', region_name='us-east-1')"
   ]
  },
  {
   "attachments": {},
   "cell_type": "markdown",
   "metadata": {},
   "source": [
    "### Policy N° 1"
   ]
  },
  {
   "cell_type": "code",
   "execution_count": 9,
   "metadata": {},
   "outputs": [
    {
     "name": "stdout",
     "output_type": "stream",
     "text": [
      "None\n"
     ]
    }
   ],
   "source": [
    "try:\n",
    "    response = dynamo_client.get_item(TableName='SkiLifts', Key={'Lift': {'S': 'Lift 20'}, 'Metadata': {'S': 'Static Data'}})\n",
    "    print(response.get('Item'))\n",
    "except ClientError as e:\n",
    "    print(\"Error:\", e.response['Error']['Code'])"
   ]
  },
  {
   "cell_type": "code",
   "execution_count": 5,
   "metadata": {},
   "outputs": [
    {
     "data": {
      "text/plain": [
       "{'Item': {'VerticalFeet': {'N': '900'},\n",
       "  'Metadata': {'S': 'Static Data'},\n",
       "  'LiftTime': {'S': '5:45'},\n",
       "  'ExperiencedRidersOnly': {'BOOL': True},\n",
       "  'Lift': {'S': 'Lift 23'}},\n",
       " 'ResponseMetadata': {'RequestId': 'O057TNT9KN8EKRSN3M83H2LQFJVV4KQNSO5AEMVJF66Q9ASUAAJG',\n",
       "  'HTTPStatusCode': 200,\n",
       "  'HTTPHeaders': {'server': 'Server',\n",
       "   'date': 'Mon, 29 May 2023 16:55:32 GMT',\n",
       "   'content-type': 'application/x-amz-json-1.0',\n",
       "   'content-length': '153',\n",
       "   'connection': 'keep-alive',\n",
       "   'x-amzn-requestid': 'O057TNT9KN8EKRSN3M83H2LQFJVV4KQNSO5AEMVJF66Q9ASUAAJG',\n",
       "   'x-amz-crc32': '3713276519'},\n",
       "  'RetryAttempts': 0}}"
      ]
     },
     "execution_count": 5,
     "metadata": {},
     "output_type": "execute_result"
    }
   ],
   "source": [
    "dynamo_client.get_item(TableName='SkiLifts', Key={'Lift': {'S': 'Lift 23'}, 'Metadata': {'S': 'Static Data'}})"
   ]
  },
  {
   "attachments": {},
   "cell_type": "markdown",
   "metadata": {},
   "source": [
    "### Policy N° 2"
   ]
  },
  {
   "cell_type": "code",
   "execution_count": 7,
   "metadata": {},
   "outputs": [
    {
     "name": "stdout",
     "output_type": "stream",
     "text": [
      "{'VerticalFeet': {'N': '900'}, 'Metadata': {'S': 'Static Data'}, 'LiftTime': {'S': '5:45'}, 'ExperiencedRidersOnly': {'BOOL': True}, 'Lift': {'S': 'Lift 23'}}\n"
     ]
    }
   ],
   "source": [
    "try:\n",
    "    response = dynamo_client.get_item(TableName='SkiLifts', Key={'Lift': {'S': 'Lift 23'}, 'Metadata': {'S': 'Static Data'}})\n",
    "    print(response.get('Item'))\n",
    "except ClientError as e:\n",
    "    print(\"Error:\", e.response['Error']['Code'])"
   ]
  },
  {
   "cell_type": "code",
   "execution_count": 8,
   "metadata": {},
   "outputs": [
    {
     "data": {
      "text/plain": [
       "{'Item': {'Metadata': {'S': 'Static Data'}, 'Lift': {'S': 'Lift 23'}},\n",
       " 'ResponseMetadata': {'RequestId': '9A0I91H0J10S3I6GUROG3944SFVV4KQNSO5AEMVJF66Q9ASUAAJG',\n",
       "  'HTTPStatusCode': 200,\n",
       "  'HTTPHeaders': {'server': 'Server',\n",
       "   'date': 'Mon, 29 May 2023 17:28:38 GMT',\n",
       "   'content-type': 'application/x-amz-json-1.0',\n",
       "   'content-length': '64',\n",
       "   'connection': 'keep-alive',\n",
       "   'x-amzn-requestid': '9A0I91H0J10S3I6GUROG3944SFVV4KQNSO5AEMVJF66Q9ASUAAJG',\n",
       "   'x-amz-crc32': '3339958042'},\n",
       "  'RetryAttempts': 0}}"
      ]
     },
     "execution_count": 8,
     "metadata": {},
     "output_type": "execute_result"
    }
   ],
   "source": [
    "dynamo_client.get_item(TableName='SkiLifts', Key={'Lift': {'S': 'Lift 23'}, 'Metadata': {'S': 'Static Data'}}, AttributesToGet=['Lift', 'Metadata', 'Item'])"
   ]
  },
  {
   "attachments": {},
   "cell_type": "markdown",
   "metadata": {},
   "source": [
    "### Policy N° 3"
   ]
  },
  {
   "cell_type": "code",
   "execution_count": 12,
   "metadata": {},
   "outputs": [
    {
     "data": {
      "text/plain": [
       "{'Item': {'Metadata': {'S': 'Static Data'}, 'Lift': {'S': 'Lift 23'}},\n",
       " 'ResponseMetadata': {'RequestId': 'EQ89AOBA5AP97EN235C9PTIEANVV4KQNSO5AEMVJF66Q9ASUAAJG',\n",
       "  'HTTPStatusCode': 200,\n",
       "  'HTTPHeaders': {'server': 'Server',\n",
       "   'date': 'Mon, 29 May 2023 17:30:22 GMT',\n",
       "   'content-type': 'application/x-amz-json-1.0',\n",
       "   'content-length': '64',\n",
       "   'connection': 'keep-alive',\n",
       "   'x-amzn-requestid': 'EQ89AOBA5AP97EN235C9PTIEANVV4KQNSO5AEMVJF66Q9ASUAAJG',\n",
       "   'x-amz-crc32': '3339958042'},\n",
       "  'RetryAttempts': 0}}"
      ]
     },
     "execution_count": 12,
     "metadata": {},
     "output_type": "execute_result"
    }
   ],
   "source": [
    "dynamo_client.get_item(TableName='SkiLifts', Key={'Lift': {'S': 'Lift 23'}, 'Metadata': {'S': 'Static Data'}}, AttributesToGet=['Lift', 'Metadata', 'Item'])"
   ]
  },
  {
   "cell_type": "code",
   "execution_count": 13,
   "metadata": {},
   "outputs": [
    {
     "ename": "ClientError",
     "evalue": "An error occurred (AccessDeniedException) when calling the GetItem operation: User: arn:aws:sts::089715336747:assumed-role/AWSReservedSSO_DynamoAttributes_be053d6f391d2619/TestUser is not authorized to perform: dynamodb:GetItem on resource: arn:aws:dynamodb:us-east-1:089715336747:table/Bookks because no identity-based policy allows the dynamodb:GetItem action",
     "output_type": "error",
     "traceback": [
      "\u001b[1;31m---------------------------------------------------------------------------\u001b[0m",
      "\u001b[1;31mClientError\u001b[0m                               Traceback (most recent call last)",
      "\u001b[1;32mh:\\Documentos\\GitHub\\AWS\\AWS\\Dynamodb\\13-IAMaccessToDynamodb.ipynb Celda 18\u001b[0m in \u001b[0;36m<cell line: 1>\u001b[1;34m()\u001b[0m\n\u001b[1;32m----> <a href='vscode-notebook-cell:/h%3A/Documentos/GitHub/AWS/AWS/Dynamodb/13-IAMaccessToDynamodb.ipynb#X23sZmlsZQ%3D%3D?line=0'>1</a>\u001b[0m dynamo_client\u001b[39m.\u001b[39;49mget_item(TableName\u001b[39m=\u001b[39;49m\u001b[39m'\u001b[39;49m\u001b[39mBookks\u001b[39;49m\u001b[39m'\u001b[39;49m, Key\u001b[39m=\u001b[39;49m{\u001b[39m'\u001b[39;49m\u001b[39mAuthor\u001b[39;49m\u001b[39m'\u001b[39;49m: {\u001b[39m'\u001b[39;49m\u001b[39mS\u001b[39;49m\u001b[39m'\u001b[39;49m: \u001b[39m'\u001b[39;49m\u001b[39mWilliam Shakespeare\u001b[39;49m\u001b[39m'\u001b[39;49m}, \u001b[39m'\u001b[39;49m\u001b[39mTitle\u001b[39;49m\u001b[39m'\u001b[39;49m: {\u001b[39m'\u001b[39;49m\u001b[39mS\u001b[39;49m\u001b[39m'\u001b[39;49m: \u001b[39m'\u001b[39;49m\u001b[39mThe Tempest\u001b[39;49m\u001b[39m'\u001b[39;49m}})\n",
      "File \u001b[1;32mc:\\Users\\esteb\\.conda\\envs\\myenv\\lib\\site-packages\\botocore\\client.py:530\u001b[0m, in \u001b[0;36mClientCreator._create_api_method.<locals>._api_call\u001b[1;34m(self, *args, **kwargs)\u001b[0m\n\u001b[0;32m    526\u001b[0m     \u001b[39mraise\u001b[39;00m \u001b[39mTypeError\u001b[39;00m(\n\u001b[0;32m    527\u001b[0m         \u001b[39mf\u001b[39m\u001b[39m\"\u001b[39m\u001b[39m{\u001b[39;00mpy_operation_name\u001b[39m}\u001b[39;00m\u001b[39m() only accepts keyword arguments.\u001b[39m\u001b[39m\"\u001b[39m\n\u001b[0;32m    528\u001b[0m     )\n\u001b[0;32m    529\u001b[0m \u001b[39m# The \"self\" in this scope is referring to the BaseClient.\u001b[39;00m\n\u001b[1;32m--> 530\u001b[0m \u001b[39mreturn\u001b[39;00m \u001b[39mself\u001b[39;49m\u001b[39m.\u001b[39;49m_make_api_call(operation_name, kwargs)\n",
      "File \u001b[1;32mc:\\Users\\esteb\\.conda\\envs\\myenv\\lib\\site-packages\\botocore\\client.py:964\u001b[0m, in \u001b[0;36mBaseClient._make_api_call\u001b[1;34m(self, operation_name, api_params)\u001b[0m\n\u001b[0;32m    962\u001b[0m     error_code \u001b[39m=\u001b[39m parsed_response\u001b[39m.\u001b[39mget(\u001b[39m\"\u001b[39m\u001b[39mError\u001b[39m\u001b[39m\"\u001b[39m, {})\u001b[39m.\u001b[39mget(\u001b[39m\"\u001b[39m\u001b[39mCode\u001b[39m\u001b[39m\"\u001b[39m)\n\u001b[0;32m    963\u001b[0m     error_class \u001b[39m=\u001b[39m \u001b[39mself\u001b[39m\u001b[39m.\u001b[39mexceptions\u001b[39m.\u001b[39mfrom_code(error_code)\n\u001b[1;32m--> 964\u001b[0m     \u001b[39mraise\u001b[39;00m error_class(parsed_response, operation_name)\n\u001b[0;32m    965\u001b[0m \u001b[39melse\u001b[39;00m:\n\u001b[0;32m    966\u001b[0m     \u001b[39mreturn\u001b[39;00m parsed_response\n",
      "\u001b[1;31mClientError\u001b[0m: An error occurred (AccessDeniedException) when calling the GetItem operation: User: arn:aws:sts::089715336747:assumed-role/AWSReservedSSO_DynamoAttributes_be053d6f391d2619/TestUser is not authorized to perform: dynamodb:GetItem on resource: arn:aws:dynamodb:us-east-1:089715336747:table/Bookks because no identity-based policy allows the dynamodb:GetItem action"
     ]
    }
   ],
   "source": [
    "dynamo_client.get_item(TableName='Bookks', Key={'Author': {'S': 'William Shakespeare'}, 'Title': {'S': 'The Tempest'}})"
   ]
  }
 ],
 "metadata": {
  "kernelspec": {
   "display_name": "myenv",
   "language": "python",
   "name": "python3"
  },
  "language_info": {
   "codemirror_mode": {
    "name": "ipython",
    "version": 3
   },
   "file_extension": ".py",
   "mimetype": "text/x-python",
   "name": "python",
   "nbconvert_exporter": "python",
   "pygments_lexer": "ipython3",
   "version": "3.10.8"
  },
  "orig_nbformat": 4
 },
 "nbformat": 4,
 "nbformat_minor": 2
}
