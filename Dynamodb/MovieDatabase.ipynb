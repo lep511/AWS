{
 "cells": [
  {
   "attachments": {},
   "cell_type": "markdown",
   "metadata": {},
   "source": [
    "## Modelo de datos de biblioteca de música\n",
    "\n",
    "Este modelo de datos representa una biblioteca de música que tiene una gran colección de canciones y muestra sus canciones más descargadas casi en tiempo real.\n",
    "\n",
    "Los patrones de acceso que este modelo de datos facilita son:\n",
    "\n",
    "* Recuperación de un disco de canción, facilitada por una tabla llamada Songs.\n",
    "\n",
    "* Recuperación de un registro de descarga específico o todos los registros de descarga de una canción, facilitada por una tabla llamada Songs.\n",
    "\n",
    "* Recuperación de un registro de recuento mensual específico de descargas o todos los registros de recuento de descargas mensuales de una canción, facilitada por una tabla llamada Song.\n",
    "\n",
    "* Recuperación de todos los registros (incluidos los registros de canciones, los registros de descargas y los registros de recuento de descargas mensuales) de una canción, facilitada por una tabla llamada Songs.\n",
    "\n",
    "* Buscar la mayoría de las canciones descargadas, facilitado por el índice secundario global de la tabla Canciones llamado DownloadsByMonth."
   ]
  },
  {
   "cell_type": "code",
   "execution_count": 1,
   "metadata": {},
   "outputs": [],
   "source": [
    "import pandas as pd\n",
    "import dynamodb\n",
    "from dynamodb import DynamoTable\n",
    "import json\n",
    "from decimal import Decimal"
   ]
  },
  {
   "cell_type": "code",
   "execution_count": 2,
   "metadata": {},
   "outputs": [],
   "source": [
    "dt = DynamoTable()"
   ]
  },
  {
   "cell_type": "code",
   "execution_count": 3,
   "metadata": {},
   "outputs": [
    {
     "name": "stdout",
     "output_type": "stream",
     "text": [
      "Table created successfully!\n"
     ]
    }
   ],
   "source": [
    "dt.create_table(\n",
    "    table_name='Songs-c',\n",
    "    partition_key='Id',\n",
    "    partition_key_type='S',\n",
    "    sort_key='Metadata',\n",
    "    sort_key_type='S',\n",
    "    provisioned=True,\n",
    "    rcu=10,\n",
    "    wcu=10\n",
    ")"
   ]
  },
  {
   "cell_type": "code",
   "execution_count": 4,
   "metadata": {},
   "outputs": [
    {
     "data": {
      "text/plain": [
       "- Table name: Songs-c            \n",
       "- Table arn: arn:aws:dynamodb:us-east-1:853075046379:table/Songs-c            \n",
       "- Table creation: 2023-03-06 15:55:50.548000-03:00            \n",
       "- [{'AttributeName': 'Id', 'KeyType': 'HASH'}, {'AttributeName': 'Metadata', 'KeyType': 'RANGE'}]            \n",
       "- [{'AttributeName': 'Id', 'AttributeType': 'S'}, {'AttributeName': 'Metadata', 'AttributeType': 'S'}]"
      ]
     },
     "execution_count": 4,
     "metadata": {},
     "output_type": "execute_result"
    }
   ],
   "source": [
    "dt.select_table('Songs-c')\n",
    "dt"
   ]
  },
  {
   "cell_type": "code",
   "execution_count": 5,
   "metadata": {},
   "outputs": [],
   "source": [
    "# Itireate over json file and add items to table\n",
    "with open('songs.json') as json_file:\n",
    "    songs = json.load(json_file)\n",
    "songs_form = json.loads(json.dumps(songs), parse_float=Decimal)\n",
    "\n",
    "with dt.table.batch_writer() as batch:\n",
    "    for song in songs_form:\n",
    "        batch.put_item(Item=song)"
   ]
  },
  {
   "cell_type": "code",
   "execution_count": 10,
   "metadata": {},
   "outputs": [
    {
     "name": "stdout",
     "output_type": "stream",
     "text": [
      "Consumed Capacity: 0.5\n"
     ]
    },
    {
     "data": {
      "text/html": [
       "<div>\n",
       "<style scoped>\n",
       "    .dataframe tbody tr th:only-of-type {\n",
       "        vertical-align: middle;\n",
       "    }\n",
       "\n",
       "    .dataframe tbody tr th {\n",
       "        vertical-align: top;\n",
       "    }\n",
       "\n",
       "    .dataframe thead th {\n",
       "        text-align: right;\n",
       "    }\n",
       "</style>\n",
       "<table border=\"1\" class=\"dataframe\">\n",
       "  <thead>\n",
       "    <tr style=\"text-align: right;\">\n",
       "      <th></th>\n",
       "      <th>Title</th>\n",
       "      <th>Id</th>\n",
       "      <th>TotalDownloads</th>\n",
       "      <th>Metadata</th>\n",
       "      <th>Artist</th>\n",
       "      <th>DownloadTimestamp</th>\n",
       "      <th>DownloadMonth</th>\n",
       "      <th>TotalDownloadsInMonth</th>\n",
       "    </tr>\n",
       "  </thead>\n",
       "  <tbody>\n",
       "    <tr>\n",
       "      <th>0</th>\n",
       "      <td>One</td>\n",
       "      <td>1</td>\n",
       "      <td>3</td>\n",
       "      <td>Details</td>\n",
       "      <td>Metallica</td>\n",
       "      <td>NaN</td>\n",
       "      <td>NaN</td>\n",
       "      <td>NaN</td>\n",
       "    </tr>\n",
       "    <tr>\n",
       "      <th>1</th>\n",
       "      <td>NaN</td>\n",
       "      <td>1</td>\n",
       "      <td>NaN</td>\n",
       "      <td>Dld-9349823681</td>\n",
       "      <td>NaN</td>\n",
       "      <td>2018-01-01T00:00:07</td>\n",
       "      <td>NaN</td>\n",
       "      <td>NaN</td>\n",
       "    </tr>\n",
       "    <tr>\n",
       "      <th>2</th>\n",
       "      <td>NaN</td>\n",
       "      <td>1</td>\n",
       "      <td>NaN</td>\n",
       "      <td>Dld-9349823682</td>\n",
       "      <td>NaN</td>\n",
       "      <td>2018-01-01T00:20:10</td>\n",
       "      <td>NaN</td>\n",
       "      <td>NaN</td>\n",
       "    </tr>\n",
       "    <tr>\n",
       "      <th>3</th>\n",
       "      <td>NaN</td>\n",
       "      <td>1</td>\n",
       "      <td>NaN</td>\n",
       "      <td>Month-01-2018</td>\n",
       "      <td>NaN</td>\n",
       "      <td>NaN</td>\n",
       "      <td>01-2018</td>\n",
       "      <td>3</td>\n",
       "    </tr>\n",
       "  </tbody>\n",
       "</table>\n",
       "</div>"
      ],
      "text/plain": [
       "  Title Id TotalDownloads        Metadata     Artist    DownloadTimestamp  \\\n",
       "0   One  1              3         Details  Metallica                  NaN   \n",
       "1   NaN  1            NaN  Dld-9349823681        NaN  2018-01-01T00:00:07   \n",
       "2   NaN  1            NaN  Dld-9349823682        NaN  2018-01-01T00:20:10   \n",
       "3   NaN  1            NaN   Month-01-2018        NaN                  NaN   \n",
       "\n",
       "  DownloadMonth TotalDownloadsInMonth  \n",
       "0           NaN                   NaN  \n",
       "1           NaN                   NaN  \n",
       "2           NaN                   NaN  \n",
       "3       01-2018                     3  "
      ]
     },
     "execution_count": 10,
     "metadata": {},
     "output_type": "execute_result"
    }
   ],
   "source": [
    "df = dt.query_items(query=\"1\", to_pandas=True, consumed_capacity=True)\n",
    "df"
   ]
  },
  {
   "cell_type": "code",
   "execution_count": 12,
   "metadata": {},
   "outputs": [
    {
     "ename": "NameError",
     "evalue": "name 'dt__region__' is not defined",
     "output_type": "error",
     "traceback": [
      "\u001b[0;31m---------------------------------------------------------------------------\u001b[0m",
      "\u001b[0;31mNameError\u001b[0m                                 Traceback (most recent call last)",
      "\u001b[1;32m/home/lep511/AWS/Dynamodb/MovieDatabase.ipynb Celda 8\u001b[0m in \u001b[0;36m1\n\u001b[0;32m----> <a href='vscode-notebook-cell://wsl%2Bdebian/home/lep511/AWS/Dynamodb/MovieDatabase.ipynb#X16sdnNjb2RlLXJlbW90ZQ%3D%3D?line=0'>1</a>\u001b[0m dt__region__\n",
      "\u001b[0;31mNameError\u001b[0m: name 'dt__region__' is not defined"
     ]
    }
   ],
   "source": [
    "dt__region__"
   ]
  }
 ],
 "metadata": {
  "kernelspec": {
   "display_name": "Python 3",
   "language": "python",
   "name": "python3"
  },
  "language_info": {
   "codemirror_mode": {
    "name": "ipython",
    "version": 3
   },
   "file_extension": ".py",
   "mimetype": "text/x-python",
   "name": "python",
   "nbconvert_exporter": "python",
   "pygments_lexer": "ipython3",
   "version": "3.9.12"
  },
  "orig_nbformat": 4,
  "vscode": {
   "interpreter": {
    "hash": "3ad933181bd8a04b432d3370b9dc3b0662ad032c4dfaa4e4f1596c548f763858"
   }
  }
 },
 "nbformat": 4,
 "nbformat_minor": 2
}
