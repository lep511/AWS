{
 "cells": [
  {
   "cell_type": "code",
   "execution_count": 18,
   "metadata": {},
   "outputs": [],
   "source": [
    "import pandas as pd\n",
    "import dynamodb\n",
    "from dynamodb import DynamoTable\n",
    "import json\n",
    "from decimal import Decimal"
   ]
  },
  {
   "cell_type": "code",
   "execution_count": 2,
   "metadata": {},
   "outputs": [],
   "source": [
    "dt = DynamoTable()"
   ]
  },
  {
   "cell_type": "code",
   "execution_count": null,
   "metadata": {},
   "outputs": [],
   "source": [
    "dt.create_table(\n",
    "    table_name='Movies',\n",
    "    partition_key='year',\n",
    "    partition_key_type='N',\n",
    "    sort_key='title',\n",
    "    sort_key_type='S',\n",
    "    provisioned=True,\n",
    "    rcu=10,\n",
    "    wcu=10\n",
    ")"
   ]
  },
  {
   "cell_type": "code",
   "execution_count": 5,
   "metadata": {},
   "outputs": [
    {
     "data": {
      "text/plain": [
       "- Table name: Movies            \n",
       "- Table arn: arn:aws:dynamodb:us-east-1:908988413876:table/Movies            \n",
       "- Table creation: 2023-01-09 00:46:03.162000+00:00            \n",
       "- [{'AttributeName': 'year', 'KeyType': 'HASH'}, {'AttributeName': 'title', 'KeyType': 'RANGE'}]            \n",
       "- [{'AttributeName': 'title', 'AttributeType': 'S'}, {'AttributeName': 'year', 'AttributeType': 'N'}]"
      ]
     },
     "execution_count": 5,
     "metadata": {},
     "output_type": "execute_result"
    }
   ],
   "source": [
    "dt.select_table('Movies')\n",
    "dt"
   ]
  },
  {
   "cell_type": "code",
   "execution_count": null,
   "metadata": {},
   "outputs": [],
   "source": [
    "dt.add_item(item)"
   ]
  },
  {
   "cell_type": "code",
   "execution_count": 14,
   "metadata": {},
   "outputs": [],
   "source": [
    "# Itireate over json file and add items to table\n",
    "with open('moviedata.json') as json_file:\n",
    "    movies = json.load(json_file)\n",
    "movies_form = json.loads(json.dumps(movies), parse_float=Decimal)\n",
    "\n",
    "with dt.table.batch_writer() as batch:\n",
    "    for movie in movies_form:\n",
    "        batch.put_item(Item=movie)"
   ]
  },
  {
   "cell_type": "code",
   "execution_count": 30,
   "metadata": {},
   "outputs": [
    {
     "name": "stdout",
     "output_type": "stream",
     "text": [
      "Consumed Capacity: 14.5\n"
     ]
    },
    {
     "data": {
      "text/html": [
       "<div>\n",
       "<style scoped>\n",
       "    .dataframe tbody tr th:only-of-type {\n",
       "        vertical-align: middle;\n",
       "    }\n",
       "\n",
       "    .dataframe tbody tr th {\n",
       "        vertical-align: top;\n",
       "    }\n",
       "\n",
       "    .dataframe thead th {\n",
       "        text-align: right;\n",
       "    }\n",
       "</style>\n",
       "<table border=\"1\" class=\"dataframe\">\n",
       "  <thead>\n",
       "    <tr style=\"text-align: right;\">\n",
       "      <th></th>\n",
       "      <th>year</th>\n",
       "      <th>info</th>\n",
       "      <th>title</th>\n",
       "    </tr>\n",
       "  </thead>\n",
       "  <tbody>\n",
       "    <tr>\n",
       "      <th>0</th>\n",
       "      <td>2010</td>\n",
       "      <td>{'actors': ['James Franco', 'Amber Tamblyn', '...</td>\n",
       "      <td>127 Hours</td>\n",
       "    </tr>\n",
       "    <tr>\n",
       "      <th>1</th>\n",
       "      <td>2010</td>\n",
       "      <td>{'actors': ['Sam Riley', 'Alice Barrett', 'Gab...</td>\n",
       "      <td>13</td>\n",
       "    </tr>\n",
       "    <tr>\n",
       "      <th>2</th>\n",
       "      <td>2010</td>\n",
       "      <td>{'actors': ['Emma Roberts', 'Tamsin Egerton', ...</td>\n",
       "      <td>4.3.2.1</td>\n",
       "    </tr>\n",
       "    <tr>\n",
       "      <th>3</th>\n",
       "      <td>2010</td>\n",
       "      <td>{'actors': ['Rupert Friend', 'Emmanuelle Chriq...</td>\n",
       "      <td>5 Days of War</td>\n",
       "    </tr>\n",
       "    <tr>\n",
       "      <th>4</th>\n",
       "      <td>2010</td>\n",
       "      <td>{'actors': ['Jackie Earle Haley', 'Rooney Mara...</td>\n",
       "      <td>A Nightmare on Elm Street</td>\n",
       "    </tr>\n",
       "  </tbody>\n",
       "</table>\n",
       "</div>"
      ],
      "text/plain": [
       "   year                                               info  \\\n",
       "0  2010  {'actors': ['James Franco', 'Amber Tamblyn', '...   \n",
       "1  2010  {'actors': ['Sam Riley', 'Alice Barrett', 'Gab...   \n",
       "2  2010  {'actors': ['Emma Roberts', 'Tamsin Egerton', ...   \n",
       "3  2010  {'actors': ['Rupert Friend', 'Emmanuelle Chriq...   \n",
       "4  2010  {'actors': ['Jackie Earle Haley', 'Rooney Mara...   \n",
       "\n",
       "                       title  \n",
       "0                  127 Hours  \n",
       "1                         13  \n",
       "2                    4.3.2.1  \n",
       "3              5 Days of War  \n",
       "4  A Nightmare on Elm Street  "
      ]
     },
     "execution_count": 30,
     "metadata": {},
     "output_type": "execute_result"
    }
   ],
   "source": [
    "df = dt.query_items(query=2010, to_pandas=True, consumed_capacity=True)\n",
    "df.head()"
   ]
  },
  {
   "cell_type": "code",
   "execution_count": 36,
   "metadata": {},
   "outputs": [
    {
     "name": "stdout",
     "output_type": "stream",
     "text": [
      "Consumed Capacity: 256.0\n"
     ]
    },
    {
     "data": {
      "text/html": [
       "<div>\n",
       "<style scoped>\n",
       "    .dataframe tbody tr th:only-of-type {\n",
       "        vertical-align: middle;\n",
       "    }\n",
       "\n",
       "    .dataframe tbody tr th {\n",
       "        vertical-align: top;\n",
       "    }\n",
       "\n",
       "    .dataframe thead th {\n",
       "        text-align: right;\n",
       "    }\n",
       "</style>\n",
       "<table border=\"1\" class=\"dataframe\">\n",
       "  <thead>\n",
       "    <tr style=\"text-align: right;\">\n",
       "      <th></th>\n",
       "      <th>year</th>\n",
       "      <th>info</th>\n",
       "      <th>title</th>\n",
       "    </tr>\n",
       "  </thead>\n",
       "  <tbody>\n",
       "    <tr>\n",
       "      <th>0</th>\n",
       "      <td>1972</td>\n",
       "      <td>{'actors': ['Marlon Brando', 'Al Pacino', 'Jam...</td>\n",
       "      <td>The Godfather</td>\n",
       "    </tr>\n",
       "  </tbody>\n",
       "</table>\n",
       "</div>"
      ],
      "text/plain": [
       "   year                                               info          title\n",
       "0  1972  {'actors': ['Marlon Brando', 'Al Pacino', 'Jam...  The Godfather"
      ]
     },
     "execution_count": 36,
     "metadata": {},
     "output_type": "execute_result"
    }
   ],
   "source": [
    "dt.scan_att('title', 'The Godfather', consumed_capacity=True)"
   ]
  },
  {
   "cell_type": "code",
   "execution_count": 37,
   "metadata": {},
   "outputs": [
    {
     "data": {
      "text/plain": [
       "{'info': {'plot': 'The aging patriarch of an organized crime dynasty transfers control of his clandestine empire to his reluctant son.',\n",
       "  'rating': Decimal('9.2')}}"
      ]
     },
     "execution_count": 37,
     "metadata": {},
     "output_type": "execute_result"
    }
   ],
   "source": [
    "movie_rating = Decimal('9.2')\n",
    "movie_plot = \"The aging patriarch of an organized crime dynasty transfers control of his clandestine empire to his reluctant son.\"\n",
    "dt.update_item('The Godfather', 1972, movie_rating, movie_plot)"
   ]
  }
 ],
 "metadata": {
  "kernelspec": {
   "display_name": "Python 3",
   "language": "python",
   "name": "python3"
  },
  "language_info": {
   "codemirror_mode": {
    "name": "ipython",
    "version": 3
   },
   "file_extension": ".py",
   "mimetype": "text/x-python",
   "name": "python",
   "nbconvert_exporter": "python",
   "pygments_lexer": "ipython3",
   "version": "3.10.4"
  },
  "orig_nbformat": 4,
  "vscode": {
   "interpreter": {
    "hash": "3ad933181bd8a04b432d3370b9dc3b0662ad032c4dfaa4e4f1596c548f763858"
   }
  }
 },
 "nbformat": 4,
 "nbformat_minor": 2
}
