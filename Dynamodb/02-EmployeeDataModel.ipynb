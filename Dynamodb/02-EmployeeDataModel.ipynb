{
 "cells": [
  {
   "attachments": {},
   "cell_type": "markdown",
   "metadata": {},
   "source": [
    "## Modelo de datos de empleados\n",
    "\n",
    "#### Este modelo de datos es un modelo introductorio. Representa los detalles básicos de un empleado, como un alias único, nombre, apellido, designación, gerente y habilidades.\n",
    "\n",
    "Este modelo de datos representa algunas técnicas como el manejo de atributos complejos, como tener más de una habilidad. Este modelo es también un ejemplo de relación uno a muchos a través del gerente y sus empleados de informes que se ha logrado mediante el índice secundario DirectReports.\n",
    "\n",
    "Los patrones de acceso que este modelo de datos facilita son:\n",
    "\n",
    "* Recuperación de un registro de empleado utilizando el alias de inicio de sesión del empleado, facilitada por una tabla llamada Employee.\n",
    "\n",
    "* Buscar empleados por nombre, facilitado por el índice secundario global de la tabla Empleado llamado Name.\n",
    "\n",
    "* Recuperación de todos los informes directos de un gerente utilizando el alias de inicio de sesión del gerente, facilitada por el índice secundario global de la tabla Empleado llamado DirectReports.\n",
    "\n",
    "TABLE:\n",
    "<br>\n",
    "![image.png](images/employees01.png)\n",
    "\n",
    "GSI: Name\n",
    "<br>\n",
    "![image.png](images/employees02.png)\n",
    "\n",
    "GSI: DirectReports\n",
    "<br>\n",
    "![image.png](images/employees03.png)"
   ]
  },
  {
   "cell_type": "code",
   "execution_count": 1,
   "metadata": {},
   "outputs": [],
   "source": [
    "import pandas as pd\n",
    "from spdynamodb import DynamoTable\n",
    "from time import sleep\n",
    "import json\n",
    "from decimal import Decimal"
   ]
  },
  {
   "cell_type": "code",
   "execution_count": 2,
   "metadata": {},
   "outputs": [
    {
     "name": "stdout",
     "output_type": "stream",
     "text": [
      "Table created successfully!\n"
     ]
    }
   ],
   "source": [
    "dt = DynamoTable()\n",
    "try:\n",
    "    dt.select_table('Employees')\n",
    "    print(dt)\n",
    "except:\n",
    "    dt.create_table(\n",
    "        table_name='Employees',\n",
    "        partition_key='LoginAlias',\n",
    "        partition_key_type='S',\n",
    "        provisioned=True,\n",
    ")"
   ]
  },
  {
   "cell_type": "code",
   "execution_count": 3,
   "metadata": {},
   "outputs": [],
   "source": [
    "dt.load_json(\"employees.json\")"
   ]
  },
  {
   "cell_type": "code",
   "execution_count": 4,
   "metadata": {},
   "outputs": [
    {
     "data": {
      "text/plain": [
       "'PROVISIONED'"
      ]
     },
     "execution_count": 4,
     "metadata": {},
     "output_type": "execute_result"
    }
   ],
   "source": [
    "dt.bill_mode"
   ]
  },
  {
   "attachments": {},
   "cell_type": "markdown",
   "metadata": {},
   "source": [
    "**Los índices secundarios globales tienen capacidad de lectura y escritura independiente de la tabla subyacente.**\n",
    "<br>\n",
    "Si no se selecciona PAY_PER_REQUEST al crear la tabla"
   ]
  },
  {
   "cell_type": "code",
   "execution_count": 5,
   "metadata": {},
   "outputs": [],
   "source": [
    "dt.create_global_secondary_index(\n",
    "    att_name=\"FirstName\",\n",
    "    att_type=\"S\",\n",
    "    sort_index=\"LastName\",\n",
    "    sort_type=\"S\",\n",
    "    i_name=\"NameIndex\",\n",
    "    i_rcu=1,\n",
    "    i_wcu=1\n",
    ")"
   ]
  },
  {
   "cell_type": "code",
   "execution_count": 6,
   "metadata": {},
   "outputs": [],
   "source": [
    "status = dt.check_status_gsi()\n",
    "while status == 'CREATING':\n",
    "    status = dt.check_status_gsi()\n",
    "    sleep(30)\n",
    "print(\"Global secondary index created.\")"
   ]
  },
  {
   "cell_type": "code",
   "execution_count": null,
   "metadata": {},
   "outputs": [],
   "source": [
    "dt.create_global_secondary_index(\n",
    "    att_name=\"ManagerLoginAlias\",\n",
    "    att_type=\"S\",\n",
    "    i_name=\"DirectReportsIndex\",\n",
    "    proj_type=[\"FirstName\", \"LastName\"],\n",
    "    i_rcu=10,\n",
    "    i_wcu=10\n",
    ")"
   ]
  },
  {
   "cell_type": "code",
   "execution_count": null,
   "metadata": {},
   "outputs": [],
   "source": [
    "status = dt.check_status_gsi()\n",
    "while status == 'CREATING':\n",
    "    status = dt.check_status_gsi()\n",
    "    sleep(30)\n",
    "print(\"Global secondary index created.\")"
   ]
  },
  {
   "cell_type": "code",
   "execution_count": 11,
   "metadata": {},
   "outputs": [
    {
     "data": {
      "text/plain": [
       "['NameIndex']"
      ]
     },
     "execution_count": 11,
     "metadata": {},
     "output_type": "execute_result"
    }
   ],
   "source": [
    "dt.list_gsi"
   ]
  },
  {
   "cell_type": "code",
   "execution_count": 12,
   "metadata": {},
   "outputs": [
    {
     "data": {
      "text/plain": [
       "'ACTIVE'"
      ]
     },
     "execution_count": 12,
     "metadata": {},
     "output_type": "execute_result"
    }
   ],
   "source": [
    "dt.check_status_gsi()"
   ]
  },
  {
   "cell_type": "code",
   "execution_count": 8,
   "metadata": {},
   "outputs": [
    {
     "data": {
      "text/html": [
       "<div>\n",
       "<style scoped>\n",
       "    .dataframe tbody tr th:only-of-type {\n",
       "        vertical-align: middle;\n",
       "    }\n",
       "\n",
       "    .dataframe tbody tr th {\n",
       "        vertical-align: top;\n",
       "    }\n",
       "\n",
       "    .dataframe thead th {\n",
       "        text-align: right;\n",
       "    }\n",
       "</style>\n",
       "<table border=\"1\" class=\"dataframe\">\n",
       "  <thead>\n",
       "    <tr style=\"text-align: right;\">\n",
       "      <th></th>\n",
       "      <th>LoginAlias</th>\n",
       "      <th>ManagerLoginAlias</th>\n",
       "      <th>FirstName</th>\n",
       "      <th>LastName</th>\n",
       "      <th>Skills</th>\n",
       "    </tr>\n",
       "  </thead>\n",
       "  <tbody>\n",
       "    <tr>\n",
       "      <th>0</th>\n",
       "      <td>janed</td>\n",
       "      <td>marthar</td>\n",
       "      <td>Jane</td>\n",
       "      <td>Doe</td>\n",
       "      <td>[software]</td>\n",
       "    </tr>\n",
       "  </tbody>\n",
       "</table>\n",
       "</div>"
      ],
      "text/plain": [
       "  LoginAlias ManagerLoginAlias FirstName LastName      Skills\n",
       "0      janed           marthar      Jane      Doe  [software]"
      ]
     },
     "execution_count": 8,
     "metadata": {},
     "output_type": "execute_result"
    }
   ],
   "source": [
    "dt.query_items(\"janed\", to_pandas=True)"
   ]
  }
 ],
 "metadata": {
  "kernelspec": {
   "display_name": "base",
   "language": "python",
   "name": "python3"
  },
  "language_info": {
   "codemirror_mode": {
    "name": "ipython",
    "version": 3
   },
   "file_extension": ".py",
   "mimetype": "text/x-python",
   "name": "python",
   "nbconvert_exporter": "python",
   "pygments_lexer": "ipython3",
   "version": "3.9.12"
  },
  "orig_nbformat": 4
 },
 "nbformat": 4,
 "nbformat_minor": 2
}
