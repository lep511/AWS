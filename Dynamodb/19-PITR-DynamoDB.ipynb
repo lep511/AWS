{
 "cells": [
  {
   "attachments": {},
   "cell_type": "markdown",
   "metadata": {},
   "source": [
    "## Recuperación puntual (PITR) para Amazon DynamoDB\n",
    "\n",
    "Amazon DynamoDB le permite realizar backups continuos de los datos de las tablas mediante la recuperación puntual (PITR). Cuando habilita PITR, DynamoDB realiza una copia de seguridad automática de los datos de la tabla con una granularidad por segundo, de manera que puede restaurar a cualquier segundo dado en los 35 días anteriores.\n",
    "\n",
    "PITR le ayuda a protegerse contra escrituras y eliminaciones accidentales. Por ejemplo, si un script de prueba escribe accidentalmente en una tabla de DynamoDB de producción o si alguien realiza una llamada \"DeleteItem\" por error, PITR le protege. \n",
    "\n",
    "Con PITR, puede realizar copias de seguridad de tablas con cientos de terabytes de datos, sin que ello afecte al rendimiento o la disponibilidad de sus aplicaciones de producción. También puede recuperar tablas de DynamoDB habilitadas para PITR que se hayan eliminado en los 35 días anteriores y restaurar tablas al estado en el que se encontraban justo antes de su eliminación.\n",
    "\n",
    "Los precios de las copias de seguridad continuas se detallan en las páginas de precios de DynamoDB. Los precios varían según la región y se basan en el tamaño actual de la tabla y los índices. Por ejemplo, en el este de Estados Unidos (norte de Virginia) se pagan 0,20 dólares por GB en función del tamaño de los datos y de todos los índices secundarios locales.\n",
    "\n",
    "Hay que tener en cuenta algunas cosas:\n",
    "\n",
    "* PITR funciona con tablas encriptadas.\n",
    "\n",
    "* Si desactivas PITR y lo vuelves a activar más tarde, restableces la hora de inicio a partir de la cual puedes recuperarte.\n",
    "\n",
    "* Al igual que las copias de seguridad bajo demanda, la activación de esta función no afecta al rendimiento ni a la disponibilidad.\n",
    "\n",
    "* La configuración de streaming, la configuración de Time To Live, la configuración de PITR, las etiquetas, las alarmas de Amazon CloudWatch y las políticas de escalado automático no se copian en la tabla restaurada."
   ]
  },
  {
   "cell_type": "code",
   "execution_count": 45,
   "metadata": {},
   "outputs": [],
   "source": [
    "import boto3\n",
    "from botocore.exceptions import ClientError\n",
    "import pandas as pd\n",
    "from spdynamodb import DynamoTable\n",
    "import json\n",
    "from decimal import Decimal\n",
    "from datetime import datetime\n",
    "import time"
   ]
  },
  {
   "cell_type": "code",
   "execution_count": 23,
   "metadata": {},
   "outputs": [
    {
     "name": "stdout",
     "output_type": "stream",
     "text": [
      "Table created successfully!\n"
     ]
    }
   ],
   "source": [
    "dt=DynamoTable()\n",
    "try:\n",
    "    dt.select_table('VerySuperImportantTable')\n",
    "    print(dt)\n",
    "except:\n",
    "    dt.create_table(\n",
    "        table_name='VerySuperImportantTable',\n",
    "        partition_key='PK',\n",
    "        partition_key_type='S',\n",
    "        sort_key='SK',\n",
    "        sort_key_type='S'\n",
    "    )"
   ]
  },
  {
   "cell_type": "code",
   "execution_count": 42,
   "metadata": {},
   "outputs": [],
   "source": [
    "df = pd.read_csv('data.csv')\n",
    "dt.batch_pandas(df)"
   ]
  },
  {
   "attachments": {},
   "cell_type": "markdown",
   "metadata": {},
   "source": [
    "Imaginemos un escenario en el que tengo muchos perfiles de usuario antiguos que quiero eliminar de mi tabla de DynamoDB. En lugar de eliminarlos directamente, puedo habilitar PITR y, a continuación, eliminar los perfiles de usuario. Si me doy cuenta de que he cometido un error, puedo restaurar la tabla a un momento anterior y recuperar los perfiles de usuario eliminados."
   ]
  },
  {
   "cell_type": "code",
   "execution_count": 36,
   "metadata": {},
   "outputs": [
    {
     "data": {
      "text/plain": [
       "{'ContinuousBackupsDescription': {'ContinuousBackupsStatus': 'ENABLED',\n",
       "  'PointInTimeRecoveryDescription': {'PointInTimeRecoveryStatus': 'ENABLED',\n",
       "   'EarliestRestorableDateTime': datetime.datetime(2023, 6, 27, 13, 20, 41, tzinfo=tzlocal()),\n",
       "   'LatestRestorableDateTime': datetime.datetime(2023, 6, 27, 13, 20, 41, tzinfo=tzlocal())}},\n",
       " 'ResponseMetadata': {'RequestId': 'NK1NA3282NRGK9V3KJ6V4QRMI7VV4KQNSO5AEMVJF66Q9ASUAAJG',\n",
       "  'HTTPStatusCode': 200,\n",
       "  'HTTPHeaders': {'server': 'Server',\n",
       "   'date': 'Tue, 27 Jun 2023 16:20:41 GMT',\n",
       "   'content-type': 'application/x-amz-json-1.0',\n",
       "   'content-length': '227',\n",
       "   'connection': 'keep-alive',\n",
       "   'x-amzn-requestid': 'NK1NA3282NRGK9V3KJ6V4QRMI7VV4KQNSO5AEMVJF66Q9ASUAAJG',\n",
       "   'x-amz-crc32': '3161676638'},\n",
       "  'RetryAttempts': 0}}"
      ]
     },
     "execution_count": 36,
     "metadata": {},
     "output_type": "execute_result"
    }
   ],
   "source": [
    "# Enable PITR\n",
    "dynamo_client = boto3.client('dynamodb', region_name='us-east-1')\n",
    "dynamo_client.update_continuous_backups(\n",
    "    TableName='VerySuperImportantTable',\n",
    "    PointInTimeRecoverySpecification={\n",
    "        'PointInTimeRecoveryEnabled': True\n",
    "    }\n",
    ")"
   ]
  },
  {
   "cell_type": "code",
   "execution_count": null,
   "metadata": {},
   "outputs": [],
   "source": [
    "dt.status_pitr"
   ]
  },
  {
   "cell_type": "code",
   "execution_count": 46,
   "metadata": {},
   "outputs": [],
   "source": [
    "now = datetime.now()\n",
    "time.sleep(3)\n",
    "items = dt.table.scan(\n",
    "    FilterExpression=\"GSI1SK >= :date\",\n",
    "    ExpressionAttributeValues={\":date\": \"1900-12-10\"},\n",
    ")['Items']"
   ]
  },
  {
   "cell_type": "code",
   "execution_count": 47,
   "metadata": {},
   "outputs": [
    {
     "name": "stdout",
     "output_type": "stream",
     "text": [
      "Deleting 10 Items! Dangerous.\n"
     ]
    }
   ],
   "source": [
    "print(\"Deleting {} Items! Dangerous.\".format(len(items)))\n",
    "with dt.table.batch_writer() as batch:\n",
    "    for item in items:\n",
    "        itm = [item['PK'], item['SK']]\n",
    "        batch.delete_item(Key={'PK': itm[0], 'SK': itm[1]})"
   ]
  },
  {
   "cell_type": "code",
   "execution_count": 48,
   "metadata": {},
   "outputs": [
    {
     "name": "stdout",
     "output_type": "stream",
     "text": [
      "There are 0 items in the table.\n"
     ]
    }
   ],
   "source": [
    "all_items = dt.table.scan()['Items']\n",
    "print(\"There are {} items in the table.\".format(len(all_items)))"
   ]
  },
  {
   "cell_type": "code",
   "execution_count": 53,
   "metadata": {},
   "outputs": [
    {
     "data": {
      "text/plain": [
       "'2023-06-27T13:38:2706Z'"
      ]
     },
     "execution_count": 53,
     "metadata": {},
     "output_type": "execute_result"
    }
   ],
   "source": [
    "now.strftime(\"%Y-%m-%dT%H:%M:%S%mZ\")"
   ]
  },
  {
   "cell_type": "code",
   "execution_count": 54,
   "metadata": {},
   "outputs": [
    {
     "data": {
      "text/plain": [
       "{'TableDescription': {'AttributeDefinitions': [{'AttributeName': 'SK',\n",
       "    'AttributeType': 'S'},\n",
       "   {'AttributeName': 'PK', 'AttributeType': 'S'}],\n",
       "  'TableName': 'VerySuperImportantTable-restored',\n",
       "  'KeySchema': [{'AttributeName': 'PK', 'KeyType': 'HASH'},\n",
       "   {'AttributeName': 'SK', 'KeyType': 'RANGE'}],\n",
       "  'TableStatus': 'CREATING',\n",
       "  'CreationDateTime': datetime.datetime(2023, 6, 27, 13, 42, 14, 450000, tzinfo=tzlocal()),\n",
       "  'ProvisionedThroughput': {'NumberOfDecreasesToday': 0,\n",
       "   'ReadCapacityUnits': 5,\n",
       "   'WriteCapacityUnits': 5},\n",
       "  'TableSizeBytes': 0,\n",
       "  'ItemCount': 0,\n",
       "  'TableArn': 'arn:aws:dynamodb:us-east-1:266147702039:table/VerySuperImportantTable-restored',\n",
       "  'TableId': '4af7258e-5274-4a7c-8f62-f5022824d3f6',\n",
       "  'BillingModeSummary': {'BillingMode': 'PROVISIONED'},\n",
       "  'RestoreSummary': {'SourceTableArn': 'arn:aws:dynamodb:us-east-1:266147702039:table/VerySuperImportantTable',\n",
       "   'RestoreDateTime': datetime.datetime(2023, 6, 27, 13, 37, 14, 541000, tzinfo=tzlocal()),\n",
       "   'RestoreInProgress': True}},\n",
       " 'ResponseMetadata': {'RequestId': '0KTQRO2PB43QNGRTI2J7184AE3VV4KQNSO5AEMVJF66Q9ASUAAJG',\n",
       "  'HTTPStatusCode': 200,\n",
       "  'HTTPHeaders': {'server': 'Server',\n",
       "   'date': 'Tue, 27 Jun 2023 16:42:14 GMT',\n",
       "   'content-type': 'application/x-amz-json-1.0',\n",
       "   'content-length': '826',\n",
       "   'connection': 'keep-alive',\n",
       "   'x-amzn-requestid': '0KTQRO2PB43QNGRTI2J7184AE3VV4KQNSO5AEMVJF66Q9ASUAAJG',\n",
       "   'x-amz-crc32': '331860509'},\n",
       "  'RetryAttempts': 0}}"
      ]
     },
     "execution_count": 54,
     "metadata": {},
     "output_type": "execute_result"
    }
   ],
   "source": [
    "# Restore the table\n",
    "target_table = 'VerySuperImportantTable-restored'\n",
    "dynamo_client.restore_table_to_point_in_time(\n",
    "    TargetTableName=target_table,\n",
    "    SourceTableName='VerySuperImportantTable',\n",
    "    UseLatestRestorableTime=True\n",
    ")"
   ]
  },
  {
   "cell_type": "code",
   "execution_count": 55,
   "metadata": {},
   "outputs": [
    {
     "name": "stdout",
     "output_type": "stream",
     "text": [
      "- Table name: VerySuperImportantTable-restored            \n",
      "- Table arn: arn:aws:dynamodb:us-east-1:266147702039:table/VerySuperImportantTable-restored            \n",
      "- Table creation: 2023-06-27 13:42:14            \n",
      "- [{'AttributeName': 'PK', 'KeyType': 'HASH'}, {'AttributeName': 'SK', 'KeyType': 'RANGE'}]            \n",
      "- [{'AttributeName': 'PK', 'AttributeType': 'S'}, {'AttributeName': 'SK', 'AttributeType': 'S'}]            \n",
      "- Point-in-time recovery status: DISABLED  |  Delete protection: False\n"
     ]
    }
   ],
   "source": [
    "dt.select_table(target_table)\n",
    "print(dt)"
   ]
  },
  {
   "cell_type": "code",
   "execution_count": 57,
   "metadata": {},
   "outputs": [
    {
     "name": "stdout",
     "output_type": "stream",
     "text": [
      "There are 10 items in the table.\n"
     ]
    }
   ],
   "source": [
    "all_items = dt.table.scan()['Items']\n",
    "print(\"There are {} items in the table.\".format(len(all_items)))"
   ]
  },
  {
   "attachments": {},
   "cell_type": "markdown",
   "metadata": {},
   "source": [
    "#### Eliminación de una tabla con la recuperación a un momento dado habilitada\n",
    "\n",
    "Cuando se elimina una tabla que tiene habilitada la recuperación a un momento dado, DynamoDB crea automáticamente una instantánea de copia de seguridad, denominada system backup (copia de seguridad del sistema) y la mantiene durante 35 días (sin costo adicional). Puede utilizarla para restaurar la tabla eliminada al estado en el que se encontraba junto antes de la eliminación. Todas las copias de seguridad del sistema siguen una convención de nomenclatura estándar de nombre-tabla$DeletedTableBackup."
   ]
  },
  {
   "cell_type": "code",
   "execution_count": 58,
   "metadata": {},
   "outputs": [
    {
     "name": "stdout",
     "output_type": "stream",
     "text": [
      "Table deleted.\n"
     ]
    }
   ],
   "source": [
    "# Delete dynamodb table\n",
    "response = dynamo_client.delete_table(\n",
    "    TableName='VerySuperImportantTable' \n",
    ")\n",
    "if response['ResponseMetadata']['HTTPStatusCode'] == 200:\n",
    "    print(\"Table deleted.\")"
   ]
  },
  {
   "attachments": {},
   "cell_type": "markdown",
   "metadata": {},
   "source": [
    "En la consola de DynamoDB, puede ver las copias de seguridad en la pestaña Backups"
   ]
  }
 ],
 "metadata": {
  "kernelspec": {
   "display_name": "personal",
   "language": "python",
   "name": "python3"
  },
  "language_info": {
   "codemirror_mode": {
    "name": "ipython",
    "version": 3
   },
   "file_extension": ".py",
   "mimetype": "text/x-python",
   "name": "python",
   "nbconvert_exporter": "python",
   "pygments_lexer": "ipython3",
   "version": "3.11.3"
  },
  "orig_nbformat": 4
 },
 "nbformat": 4,
 "nbformat_minor": 2
}
