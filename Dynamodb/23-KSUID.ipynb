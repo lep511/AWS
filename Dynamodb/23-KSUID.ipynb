{
 "cells": [
  {
   "cell_type": "markdown",
   "metadata": {},
   "source": [
    "## KSUID (K-Sortable Unique Identifiers)\n",
    "\n",
    "KSUID es la abreviatura de K-Sortable Unique IDentifier. Es un tipo de identificador único global similar a un UUID RFC 4122, construido desde cero para ser ordenado \"naturalmente\" por generación de marca de tiempo sin ningún tipo de lógica especial.\n",
    "\n",
    "Fue desarrollado originalmente por [Segment](https://segment.com/) y ahora es de código abierto. Segment lo usa para identificar de forma única los eventos de los usuarios en su plataforma.\n",
    "\n",
    "### ID únicos y ordenables\n",
    "\n",
    "Una necesidad común es tener IDs únicos y ordenables.  Esto ocurre cuando se necesita un identificador único para un elemento (e idealmente un mecanismo que sea amigable con la URL) pero también se quiere poder ordenar un grupo de estos elementos cronológicamente.\n",
    "\n",
    "Hay algunas opciones en este ámbito, pero yo prefiero la implementación de KSUID de la gente de Segment. Un KSUID es un un identificador único al que se antepone una marca de tiempo, pero que también contiene suficiente aleatoriedad para que las colisiones sean muy improbables. En total, se obtiene una cadena de 27 caracteres que es más única que un UUIDv4, al tiempo que conserva la ordenación lexicográfica.\n",
    "\n",
    "**¿Por qué utilizar un KSUID?**\n",
    "\n",
    "* Ordenable por fecha y hora\n",
    "* 128 bits de datos aleatorios\n",
    "* Representaciones portables y clasificables por lexografía"
   ]
  },
  {
   "cell_type": "code",
   "execution_count": 1,
   "metadata": {},
   "outputs": [],
   "source": [
    "#!pip install svix-ksuid\n",
    "from ksuid import Ksuid\n",
    "from ksuid import KsuidMs"
   ]
  },
  {
   "cell_type": "code",
   "execution_count": 2,
   "metadata": {},
   "outputs": [],
   "source": [
    "import boto3\n",
    "from botocore.exceptions import ClientError\n",
    "from spdynamodb import DynamoTable\n",
    "import json\n",
    "from decimal import Decimal\n",
    "from datetime import datetime, timedelta\n",
    "import time\n",
    "import random"
   ]
  },
  {
   "cell_type": "code",
   "execution_count": null,
   "metadata": {},
   "outputs": [],
   "source": [
    "ksuid = Ksuid()\n",
    "ksuidms = KsuidMs()"
   ]
  },
  {
   "cell_type": "code",
   "execution_count": null,
   "metadata": {},
   "outputs": [],
   "source": [
    "print(f\"Base62: {ksuid}\")\n",
    "print(f\"Datetime: {ksuid.datetime}\")\n",
    "print(f\"Timestamp: {ksuid.timestamp}\")\n",
    "print(f\"Payload: {ksuid.payload}\")"
   ]
  },
  {
   "cell_type": "code",
   "execution_count": null,
   "metadata": {},
   "outputs": [],
   "source": [
    "print(f\"Base62: {ksuidms}\")\n",
    "print(f\"Datetime: {ksuidms.datetime}\")\n",
    "print(f\"Timestamp: {ksuidms.timestamp}\")\n",
    "print(f\"Payload: {ksuidms.payload}\")"
   ]
  },
  {
   "cell_type": "code",
   "execution_count": null,
   "metadata": {},
   "outputs": [],
   "source": [
    "text = '2ScwNkkSeNpOwYxOUsYbr7t16qP'\n",
    "ksuid_1 = Ksuid.from_base62(data=text)\n",
    "print(f'Datetime: {ksuid_1.datetime}')\n",
    "print(f'Timestamp: {ksuid_1.timestamp}')"
   ]
  },
  {
   "cell_type": "markdown",
   "metadata": {},
   "source": [
    "### Ejemplo con DynamoDB"
   ]
  },
  {
   "cell_type": "code",
   "execution_count": 4,
   "metadata": {},
   "outputs": [
    {
     "name": "stdout",
     "output_type": "stream",
     "text": [
      "Table created successfully!\n"
     ]
    }
   ],
   "source": [
    "dt=DynamoTable()\n",
    "try:\n",
    "    dt.select_table('SampleSessionTable')\n",
    "    print(dt)\n",
    "except:\n",
    "    dt.create_table(\n",
    "        table_name='SampleSessionTable',\n",
    "        partition_key='PK',\n",
    "        partition_key_type='S'\n",
    "    )"
   ]
  },
  {
   "cell_type": "code",
   "execution_count": 5,
   "metadata": {},
   "outputs": [],
   "source": [
    "names = ['Alex DeBrie', 'James Dean', 'Laura Dern', 'Oliver Stone', 'Marlon Brando', 'Jane Fonda', 'Jack Nicholson', 'Meryl Streep', 'Robert DeNiro', 'Sigourney Weaver', 'Dustin Hoffman', 'Faye Dunaway', 'Harrison Ford', 'Katharine Hepburn', 'Al Pacino', 'Bette Davis', 'Gene Hackman', 'Ingrid Bergman', 'Anthony Hopkins', 'Greta Garbo', 'Tom Hanks', 'Jodie Foster', 'Cary Grant', 'Vivien Leigh', 'Denzel Washington', 'Grace Kelly', 'Daniel Day-Lewis', 'Sharon Stone', 'Sidney Poitier', 'Nicole Kidman', 'Spencer Tracy', 'Julia Roberts', 'James Stewart', 'Diane Keaton', 'Sean Penn', 'Natalie Portman', 'Gregory Peck', 'Cate Blanchett', 'Laurence Olivier', 'Julianne Moore', 'Humphrey Bogart', 'Kate Winslet', 'Peter OToole', 'Helen Mirren', 'Clark Gable', 'Charlize Theron', 'Paul Newman', 'Audrey Hepburn', 'Denzel Washington', 'Greta Garbo', 'Tom Hanks', 'Jodie Foster', 'Cary Grant', 'Vivien Leigh', 'Denzel Washington', 'Grace Kelly', 'Daniel Day-Lewis', 'Sharon Stone', 'Sidney Poitier', 'Nicole Kidman', 'Spencer Tracy', 'Julia Roberts', 'James Stewart', 'Diane Keaton', 'Sean Penn']\n",
    "user = ['a_debrie', 'j_dean', 'l_dern', 'o_stone', 'm_brando', 'j_fonda', 'j_nicholson', 'm_streep', 'r_deniro', 's_weaver', 'd_hoffman', 'f_dunaway', 'h_ford', 'k_hepburn', 'a_pacino', 'b_davis', 'g_hackman', 'i_bergman', 'a_hopkins', 'g_garbo', 't_hanks', 'j_foster', 'c_grant', 'v_leigh', 'd_washington', 'g_kelly', 'd_day-lewis', 's_stone', 's_poitier', 'n_kidman', 's_tracy', 'j_roberts', 'j_stewart', 'd_keaton', 's_penn', 'n_portman', 'g_peck', 'c_blanchett', 'l_olivier', 'j_moore', 'h_bogart', 'k_winslet', 'p_otoole', 'h_mirren', 'c_gable', 'c_theron', 'p_newman', 'a_hepburn', 'd_washington', 'g_garbo', 't_hanks', 'j_foster', 'c_grant', 'v_leigh', 'd_washington', 'g_kelly', 'd_day-lewis', 's_stone', 's_poitier', 'n_kidman', 's_tracy', 'j_roberts', 'j_stewart', 'd_keaton', 's_penn']\n",
    "all_items = []\n",
    "pk = []\n",
    "\n",
    "# Generate random date \n",
    "start_date = datetime(2023, 1, 1, 00, 00, 00)\n",
    "end_date = datetime(2023, 12, 31, 23, 59, 59)\n",
    "rand_date = [start_date + (end_date - start_date) * random.random() for i in range(int(1400))]\n",
    "\n",
    "for i in range(len(user)):\n",
    "    ksuid = Ksuid()\n",
    "    name = random.choice(names)\n",
    "    r_date = random.choice(rand_date)\n",
    "    r_date_expire = r_date + timedelta(days=7)\n",
    "    Item={\n",
    "            'PK': str(ksuid),\n",
    "            'UserName': user[i],\n",
    "            'Name': names[i],\n",
    "            'SessionToken': str(ksuid),\n",
    "            'CreatedAt': r_date.strftime(\"%Y-%m-%d %H:%M:%S\"),\n",
    "            'ExpiredAt': r_date_expire.strftime(\"%Y-%m-%d %H:%M:%S\")\n",
    "    }\n",
    "    all_items.append(Item)\n",
    "    pk.append('POST#' + str(ksuid))"
   ]
  },
  {
   "cell_type": "code",
   "execution_count": 6,
   "metadata": {},
   "outputs": [
    {
     "name": "stdout",
     "output_type": "stream",
     "text": [
      "Data loaded successfully from session_sample.json.\n"
     ]
    }
   ],
   "source": [
    "# Save to json file\n",
    "with open('session_sample.json', 'w') as outfile:\n",
    "    json.dump(all_items, outfile, indent=4)\n",
    "\n",
    "# Write to DynamoDB table\n",
    "dt.load_json('session_sample.json')"
   ]
  },
  {
   "cell_type": "markdown",
   "metadata": {},
   "source": [
    "### Crear un índice global secundario"
   ]
  },
  {
   "cell_type": "code",
   "execution_count": 15,
   "metadata": {},
   "outputs": [
    {
     "name": "stdout",
     "output_type": "stream",
     "text": [
      "Global secondary index is being created, this may take a few minutes...\n",
      "Global secondary index created. Time elapsed: 10.11 minute\n"
     ]
    }
   ],
   "source": [
    "dt.create_global_secondary_index(\n",
    "    att_name=\"UserName\",\n",
    "    att_type=\"S\",\n",
    "    i_name=\"UserNameIndex\"\n",
    ")\n",
    "\n",
    "status = dt.check_status_gsi()\n",
    "if status == 'CREATING':\n",
    "    print(\"Global secondary index is being created, this may take a few minutes...\")\n",
    "    start = time.time()\n",
    "    while status == 'CREATING':\n",
    "        status = dt.check_status_gsi()\n",
    "        time.sleep(30)\n",
    "end = time.time()\n",
    "minute = (end - start) / 60\n",
    "print(\"Global secondary index created. Time elapsed: {0:.2f} minute\".format(minute))"
   ]
  },
  {
   "cell_type": "code",
   "execution_count": 33,
   "metadata": {},
   "outputs": [],
   "source": [
    "# Query\n",
    "dynamodb_client = boto3.client('dynamodb', region_name='us-east-1')\n",
    "user_name = 's_stone'\n",
    "\n",
    "response = dynamodb_client.query(\n",
    "    TableName='SampleSessionTable',\n",
    "    IndexName='UserNameIndex',\n",
    "    KeyConditionExpression='UserName = :user',\n",
    "    ExpressionAttributeValues={\n",
    "        ':user': {\n",
    "            'S': user_name\n",
    "        }\n",
    "    }\n",
    ")"
   ]
  },
  {
   "cell_type": "markdown",
   "metadata": {},
   "source": [
    "#### Check tokens"
   ]
  },
  {
   "cell_type": "code",
   "execution_count": 34,
   "metadata": {},
   "outputs": [],
   "source": [
    "utc_now = datetime.utcnow()\n",
    "date_expire = utc_now - timedelta(days=7)\n",
    "date_expire = date_expire.strftime(\"%Y-%m-%d %H:%M:%S\")"
   ]
  },
  {
   "cell_type": "code",
   "execution_count": 35,
   "metadata": {},
   "outputs": [
    {
     "name": "stdout",
     "output_type": "stream",
     "text": [
      "s_stone \n",
      "====================\n",
      "2Sg1eNrVLHPFLpvOVcBvVsEH7yI 2023-08-04 11:44:45\n",
      "2Sg1eS1fKUpwir5iTDxCZGvNZBP 2023-11-25 04:50:27\n"
     ]
    }
   ],
   "source": [
    "print(user_name, \"\\n====================\")\n",
    "for item in response['Items']:\n",
    "    if item['ExpiredAt']['S'] < date_expire:\n",
    "        print(item['PK']['S'], item['ExpiredAt']['S'], \"- Expired\")\n",
    "    else:\n",
    "        print(item['PK']['S'], item['ExpiredAt']['S'])"
   ]
  },
  {
   "cell_type": "markdown",
   "metadata": {},
   "source": [
    "#### Ckeck session"
   ]
  },
  {
   "cell_type": "code",
   "execution_count": 20,
   "metadata": {},
   "outputs": [
    {
     "name": "stdout",
     "output_type": "stream",
     "text": [
      "Success!!\n"
     ]
    }
   ],
   "source": [
    "user_name = 's_stone'\n",
    "token = '2Sg1eNrVLHPFLpvOVcBvVsEH7yI'\n",
    "\n",
    "response = dynamodb_client.get_item(\n",
    "        TableName=dt.table_name,\n",
    "        Key={\n",
    "            'PK': {\n",
    "                \"S\": token\n",
    "            } \n",
    "        }\n",
    "    )\n",
    "\n",
    "if response.get('Item'):\n",
    "    if response['Item']['UserName']['S'] == user_name:\n",
    "        if response['Item']['ExpiredAt']['S'] > date_expire:\n",
    "            print(\"Success!!\")\n",
    "        else:\n",
    "            print(\"Token expired\")\n",
    "    else:\n",
    "        print(\"User name not match with token\")\n",
    "else:\n",
    "    print(\"Token not found in database\")"
   ]
  },
  {
   "cell_type": "markdown",
   "metadata": {},
   "source": [
    "#### Delete all tokens from user"
   ]
  },
  {
   "cell_type": "code",
   "execution_count": 21,
   "metadata": {},
   "outputs": [],
   "source": [
    "dynamodb_client = boto3.client('dynamodb', region_name='us-east-1')\n",
    "user_name = 's_penn'\n",
    "\n",
    "response = dynamodb_client.query(\n",
    "    TableName='SampleSessionTable',\n",
    "    IndexName='UserNameIndex',\n",
    "    KeyConditionExpression='UserName = :user',\n",
    "    ExpressionAttributeValues={\n",
    "        ':user': {\n",
    "            'S': user_name\n",
    "        }\n",
    "    }\n",
    ")"
   ]
  },
  {
   "cell_type": "code",
   "execution_count": 22,
   "metadata": {},
   "outputs": [],
   "source": [
    "for item in response['Items']:\n",
    "    dynamodb_client.delete_item(\n",
    "        TableName=dt.table_name,\n",
    "        Key={\n",
    "            'PK': {\n",
    "                \"S\": item['PK']['S']\n",
    "            }\n",
    "        }\n",
    "    )"
   ]
  },
  {
   "cell_type": "code",
   "execution_count": 23,
   "metadata": {},
   "outputs": [],
   "source": [
    "response = dynamodb_client.query(\n",
    "    TableName='SampleSessionTable',\n",
    "    IndexName='UserNameIndex',\n",
    "    KeyConditionExpression='UserName = :user',\n",
    "    ExpressionAttributeValues={\n",
    "        ':user': {\n",
    "            'S': user_name\n",
    "        }\n",
    "    }\n",
    ")\n",
    "\n",
    "print(\"Tokens from\", user_name, \"-\", len(response['Items']))"
   ]
  },
  {
   "cell_type": "markdown",
   "metadata": {},
   "source": [
    "#### Delete all expired tokens"
   ]
  },
  {
   "cell_type": "code",
   "execution_count": 11,
   "metadata": {},
   "outputs": [],
   "source": [
    "params = {\n",
    "    \"TableName\": dt.table_name,\n",
    "    \"FilterExpression\": \"#3deb0 < :3deb0\",\n",
    "    \"ExpressionAttributeNames\": {\"#3deb0\": \"CreatedAt\"},\n",
    "    \"ExpressionAttributeValues\": {\":3deb0\": {\"S\":date_expire}},\n",
    "\t\"Limit\": 100\n",
    "}"
   ]
  },
  {
   "cell_type": "code",
   "execution_count": 13,
   "metadata": {},
   "outputs": [
    {
     "name": "stdout",
     "output_type": "stream",
     "text": [
      "No items to delete.\n"
     ]
    }
   ],
   "source": [
    "total_items = 100\n",
    "count = 0\n",
    "\n",
    "while total_items > 0:\n",
    "    last_evaluated = dynamodb_client.scan(**params) \n",
    "    len_items = len(last_evaluated['Items'])\n",
    "    if len_items == 0 and count == 0:\n",
    "        print(\"No items to delete.\")\n",
    "        break\n",
    "    elif len_items == 0 and count != 0:\n",
    "        print(\"Total items deleted:\", count)\n",
    "        break\n",
    "    else:\n",
    "        print(\"Scanned {0} items\".format(len_items))\n",
    "        for item in last_evaluated['Items']:\n",
    "            try:\n",
    "                dynamodb_client.delete_item(\n",
    "                    TableName=dt.table_name,\n",
    "                    Key={\n",
    "                        'PK': item['PK']\n",
    "                    }\n",
    "                )\n",
    "                count += 1\n",
    "            except ClientError as error:\n",
    "                print(f\"Something went wrong while updating item {item['PK']} - {item['SK']}\")\n",
    "                print(error.response['ResponseMetadata'])\n",
    "            \n",
    "        if last_evaluated.get('LastEvaluatedKey'):\n",
    "            if params.get('ExclusiveStartKey') == last_evaluated.get('LastEvaluatedKey'):\n",
    "                break\n",
    "            params['ExclusiveStartKey'] = last_evaluated.get('LastEvaluatedKey')\n",
    "    total_items -= len_items\n",
    "    if total_items <= 0:\n",
    "        print(\"Total items deleted:\", count)"
   ]
  },
  {
   "cell_type": "markdown",
   "metadata": {},
   "source": [
    "#### Create new token"
   ]
  },
  {
   "cell_type": "code",
   "execution_count": 39,
   "metadata": {},
   "outputs": [],
   "source": [
    "user_name = 's_stone'\n",
    "\n",
    "response = dynamodb_client.query(\n",
    "    TableName='SampleSessionTable',\n",
    "    IndexName='UserNameIndex',\n",
    "    KeyConditionExpression='UserName = :user',\n",
    "    ExpressionAttributeValues={\n",
    "        ':user': {\n",
    "            'S': user_name\n",
    "        }\n",
    "    }\n",
    ")\n",
    "token = response['Items'][0]['PK']['S']"
   ]
  },
  {
   "cell_type": "code",
   "execution_count": 41,
   "metadata": {},
   "outputs": [],
   "source": [
    "r_date = random.choice(rand_date)\n",
    "r_date_expire = r_date + timedelta(days=7)\n",
    "try:\n",
    "    response = dynamodb_client.put_item(\n",
    "        TableName=dt.table_name,\n",
    "        Item={\n",
    "            'PK': {\n",
    "                'S': token\n",
    "            },\n",
    "            'CreatedAt': {\n",
    "                'S': r_date.strftime(\"%Y-%m-%d %H:%M:%S\")\n",
    "            },\n",
    "            'ExpiredAt': {\n",
    "                'S': r_date_expire.strftime(\"%Y-%m-%d %H:%M:%S\")\n",
    "            },\n",
    "            'UserName': {\n",
    "                'S': 's_penn'\n",
    "            },\n",
    "            'Name': {\n",
    "                'S': 'Sean Penn'\n",
    "            }\n",
    "        },\n",
    "        ConditionExpression='attribute_not_exists(PK)'\n",
    "    ) \n",
    "except ClientError as error:\n",
    "    if error.response['Error']['Code'] == 'ConditionalCheckFailedException':\n",
    "        print(\"Token already exists\")\n",
    "    else:\n",
    "        print(f\"Something went wrong while updating item {item['PK']} {error}\")\n",
    "        "
   ]
  }
 ],
 "metadata": {
  "kernelspec": {
   "display_name": "personal",
   "language": "python",
   "name": "python3"
  },
  "language_info": {
   "codemirror_mode": {
    "name": "ipython",
    "version": 3
   },
   "file_extension": ".py",
   "mimetype": "text/x-python",
   "name": "python",
   "nbconvert_exporter": "python",
   "pygments_lexer": "ipython3",
   "version": "3.11.3"
  },
  "orig_nbformat": 4
 },
 "nbformat": 4,
 "nbformat_minor": 2
}
