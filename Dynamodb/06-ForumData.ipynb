{
 "cells": [
  {
   "attachments": {},
   "cell_type": "markdown",
   "metadata": {},
   "source": [
    "## Modelo de datos del foro de debate\n",
    "\n",
    "Este modelo de datos representa un foro de debate. Con este modelo los clientes pueden interaccionar con la comunidad de desarrolladores, plantear preguntas y contestar a las publicaciones de otros clientes. Cada servicio de AWS tiene un foro específico. Cualquier persona puede iniciar un nuevo hilo de debate publicando un mensaje en un foro, y cada hilo recibe un cierto número de respuestas.\n",
    "\n",
    "Los patrones de acceso que este modelo de datos facilita son:\n",
    "\n",
    "* Recuperación de un registro de foro utilizando el nombre del foro, facilitada por una tabla llamada Forum.\n",
    "\n",
    "* Recuperación de un hilo específico o todos los hilos de un foro, facilitada por una tabla llamada Thread.\n",
    "\n",
    "* Busque respuestas utilizando la dirección de correo electrónico del usuario de publicación, facilitado por el índice secundario global de la tabla Respuesta llamado PostedBy-Message-Index.\n",
    "\n",
    "<br>\n",
    "\n",
    "TABLA FORUM\n",
    "<br>\n",
    "\n",
    "![image.png](images/forum_data01.png)\n",
    "\n",
    "<br>\n",
    "TABLA THREAD\n",
    "<br>\n",
    "\n",
    "![image.png](images/forum_data02.png)\n",
    "\n",
    "<br>\n",
    "TABLA REPLY\n",
    "<br>\n",
    "\n",
    "![image.png](images/forum_data03.png)\n",
    "\n",
    "<br>\n",
    "GSI POSTEDBY-MESSAGE-INDEX\n",
    "<br>\n",
    "\n",
    "![image.png](images/forum_data04.png)"
   ]
  },
  {
   "cell_type": "code",
   "execution_count": 1,
   "metadata": {},
   "outputs": [],
   "source": [
    "import pandas as pd\n",
    "from spdynamodb import DynamoTable\n",
    "import json\n",
    "from decimal import Decimal\n",
    "from time import sleep\n",
    "import boto3"
   ]
  },
  {
   "cell_type": "code",
   "execution_count": 2,
   "metadata": {},
   "outputs": [],
   "source": [
    "dt = DynamoTable()\n",
    "try:\n",
    "    dt.select_table('ForumData')\n",
    "    print(dt)\n",
    "except:\n",
    "    dt.create_table(\n",
    "        table_name='ForumData',\n",
    "        partition_key='ForumName',\n",
    "        partition_key_type='S',\n",
    "        sort_key=\"Subject\",\n",
    "        sort_key_type=\"S\"\n",
    ")"
   ]
  },
  {
   "cell_type": "code",
   "execution_count": 3,
   "metadata": {},
   "outputs": [],
   "source": [
    "dt.load_json(\"forum.json\")"
   ]
  },
  {
   "cell_type": "code",
   "execution_count": 5,
   "metadata": {},
   "outputs": [],
   "source": [
    "dt.create_global_secondary_index(\n",
    "    att_name=\"PostedBy\",\n",
    "    att_type=\"S\",\n",
    "    sort_index=\"Subject\",\n",
    "    sort_type=\"S\",\n",
    "    i_name=\"PostedBy-Subject-Index\",\n",
    "    proj_type=[\"Message\", \"ReplyDateTime\"],\n",
    "    i_rcu=1,\n",
    "    i_wcu=1\n",
    ")"
   ]
  },
  {
   "cell_type": "code",
   "execution_count": 6,
   "metadata": {},
   "outputs": [
    {
     "name": "stdout",
     "output_type": "stream",
     "text": [
      "Global secondary index created.\n"
     ]
    }
   ],
   "source": [
    "status = dt.check_status_gsi()\n",
    "while status == 'CREATING':\n",
    "    status = dt.check_status_gsi()\n",
    "    sleep(30)\n",
    "print(\"Global secondary index created.\")"
   ]
  },
  {
   "cell_type": "code",
   "execution_count": 6,
   "metadata": {},
   "outputs": [],
   "source": [
    "dt.create_global_secondary_index(\n",
    "    att_name=\"ForumName\",\n",
    "    att_type=\"S\",\n",
    "    sort_index=\"Title\",\n",
    "    sort_type=\"S\",\n",
    "    i_name=\"Thread-Index\",\n",
    "    i_rcu=10,\n",
    "    i_wcu=10\n",
    ")"
   ]
  },
  {
   "cell_type": "code",
   "execution_count": null,
   "metadata": {},
   "outputs": [],
   "source": [
    "status = dt.check_status_gsi()\n",
    "while status == 'CREATING':\n",
    "    status = dt.check_status_gsi()\n",
    "    sleep(30)\n",
    "print(\"Global secondary index created.\")"
   ]
  },
  {
   "cell_type": "code",
   "execution_count": 8,
   "metadata": {},
   "outputs": [],
   "source": [
    "dt.create_global_secondary_index(\n",
    "    att_name=\"Subject\",\n",
    "    att_type=\"S\",\n",
    "    sort_index=\"ReplyDateTime\",\n",
    "    sort_type=\"S\",\n",
    "    i_name=\"Reply-Date-Index\"\n",
    ")"
   ]
  },
  {
   "cell_type": "code",
   "execution_count": null,
   "metadata": {},
   "outputs": [],
   "source": [
    "status = dt.check_status_gsi()\n",
    "while status == 'CREATING':\n",
    "    status = dt.check_status_gsi()\n",
    "    sleep(30)\n",
    "print(\"Global secondary index created.\")"
   ]
  },
  {
   "cell_type": "code",
   "execution_count": 8,
   "metadata": {},
   "outputs": [
    {
     "data": {
      "text/plain": [
       "'CREATING'"
      ]
     },
     "execution_count": 8,
     "metadata": {},
     "output_type": "execute_result"
    }
   ],
   "source": [
    "dt.check_status_gsi()"
   ]
  },
  {
   "cell_type": "code",
   "execution_count": 4,
   "metadata": {},
   "outputs": [
    {
     "data": {
      "text/html": [
       "<div>\n",
       "<style scoped>\n",
       "    .dataframe tbody tr th:only-of-type {\n",
       "        vertical-align: middle;\n",
       "    }\n",
       "\n",
       "    .dataframe tbody tr th {\n",
       "        vertical-align: top;\n",
       "    }\n",
       "\n",
       "    .dataframe thead th {\n",
       "        text-align: right;\n",
       "    }\n",
       "</style>\n",
       "<table border=\"1\" class=\"dataframe\">\n",
       "  <thead>\n",
       "    <tr style=\"text-align: right;\">\n",
       "      <th></th>\n",
       "      <th>Threads</th>\n",
       "      <th>Category</th>\n",
       "      <th>Messages</th>\n",
       "      <th>Views</th>\n",
       "      <th>ForumName</th>\n",
       "      <th>Subject</th>\n",
       "    </tr>\n",
       "  </thead>\n",
       "  <tbody>\n",
       "    <tr>\n",
       "      <th>0</th>\n",
       "      <td>5</td>\n",
       "      <td>Amazon Web Services</td>\n",
       "      <td>5</td>\n",
       "      <td>667</td>\n",
       "      <td>Amazon Simple Notification Service</td>\n",
       "      <td>FO-CAT</td>\n",
       "    </tr>\n",
       "    <tr>\n",
       "      <th>1</th>\n",
       "      <td>22</td>\n",
       "      <td>Amazon Web Services</td>\n",
       "      <td>7</td>\n",
       "      <td>325</td>\n",
       "      <td>Amazon Simple Queue Service</td>\n",
       "      <td>FO-CAT</td>\n",
       "    </tr>\n",
       "    <tr>\n",
       "      <th>2</th>\n",
       "      <td>12</td>\n",
       "      <td>Amazon Web Services</td>\n",
       "      <td>33</td>\n",
       "      <td>405</td>\n",
       "      <td>Amazon MQ</td>\n",
       "      <td>FO-CAT</td>\n",
       "    </tr>\n",
       "    <tr>\n",
       "      <th>3</th>\n",
       "      <td>28</td>\n",
       "      <td>Amazon Web Services</td>\n",
       "      <td>12</td>\n",
       "      <td>412</td>\n",
       "      <td>AWS Data Pipeline</td>\n",
       "      <td>FO-CAT</td>\n",
       "    </tr>\n",
       "    <tr>\n",
       "      <th>4</th>\n",
       "      <td>55</td>\n",
       "      <td>Amazon Web Services</td>\n",
       "      <td>66</td>\n",
       "      <td>955</td>\n",
       "      <td>Amazon Athena</td>\n",
       "      <td>FO-CAT</td>\n",
       "    </tr>\n",
       "    <tr>\n",
       "      <th>5</th>\n",
       "      <td>30</td>\n",
       "      <td>Amazon Web Services</td>\n",
       "      <td>11</td>\n",
       "      <td>558</td>\n",
       "      <td>AWS Step Functions</td>\n",
       "      <td>FO-CAT</td>\n",
       "    </tr>\n",
       "    <tr>\n",
       "      <th>6</th>\n",
       "      <td>5</td>\n",
       "      <td>Amazon Web Services</td>\n",
       "      <td>13</td>\n",
       "      <td>225</td>\n",
       "      <td>Amazon EMR</td>\n",
       "      <td>FO-CAT</td>\n",
       "    </tr>\n",
       "    <tr>\n",
       "      <th>7</th>\n",
       "      <td>2</td>\n",
       "      <td>Amazon Web Services</td>\n",
       "      <td>4</td>\n",
       "      <td>405</td>\n",
       "      <td>Amazon DynamoDB</td>\n",
       "      <td>FO-CAT</td>\n",
       "    </tr>\n",
       "  </tbody>\n",
       "</table>\n",
       "</div>"
      ],
      "text/plain": [
       "  Threads             Category Messages Views  \\\n",
       "0       5  Amazon Web Services        5   667   \n",
       "1      22  Amazon Web Services        7   325   \n",
       "2      12  Amazon Web Services       33   405   \n",
       "3      28  Amazon Web Services       12   412   \n",
       "4      55  Amazon Web Services       66   955   \n",
       "5      30  Amazon Web Services       11   558   \n",
       "6       5  Amazon Web Services       13   225   \n",
       "7       2  Amazon Web Services        4   405   \n",
       "\n",
       "                            ForumName Subject  \n",
       "0  Amazon Simple Notification Service  FO-CAT  \n",
       "1         Amazon Simple Queue Service  FO-CAT  \n",
       "2                           Amazon MQ  FO-CAT  \n",
       "3                   AWS Data Pipeline  FO-CAT  \n",
       "4                       Amazon Athena  FO-CAT  \n",
       "5                  AWS Step Functions  FO-CAT  \n",
       "6                          Amazon EMR  FO-CAT  \n",
       "7                     Amazon DynamoDB  FO-CAT  "
      ]
     },
     "execution_count": 4,
     "metadata": {},
     "output_type": "execute_result"
    }
   ],
   "source": [
    "dt.query_partiql(\"SELECT * FROM <table> WHERE Subject = ?\", parameters=[\"FO-CAT\"])"
   ]
  }
 ],
 "metadata": {
  "kernelspec": {
   "display_name": "base",
   "language": "python",
   "name": "python3"
  },
  "language_info": {
   "codemirror_mode": {
    "name": "ipython",
    "version": 3
   },
   "file_extension": ".py",
   "mimetype": "text/x-python",
   "name": "python",
   "nbconvert_exporter": "python",
   "pygments_lexer": "ipython3",
   "version": "3.10.8"
  },
  "orig_nbformat": 4
 },
 "nbformat": 4,
 "nbformat_minor": 2
}
