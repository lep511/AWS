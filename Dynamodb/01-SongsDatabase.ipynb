{
 "cells": [
  {
   "attachments": {},
   "cell_type": "markdown",
   "metadata": {},
   "source": [
    "## Modelo de datos de biblioteca de música\n",
    "\n",
    "Este modelo de datos representa una biblioteca de música que tiene una gran colección de canciones y muestra sus canciones más descargadas casi en tiempo real.\n",
    "\n",
    "Los patrones de acceso que este modelo de datos facilita son:\n",
    "\n",
    "* Recuperación de un disco de canción, facilitada por una tabla llamada Songs.\n",
    "\n",
    "* Recuperación de un registro de descarga específico o todos los registros de descarga de una canción, facilitada por una tabla llamada Songs.\n",
    "\n",
    "* Recuperación de un registro de recuento mensual específico de descargas o todos los registros de recuento de descargas mensuales de una canción, facilitada por una tabla llamada Song.\n",
    "\n",
    "* Recuperación de todos los registros (incluidos los registros de canciones, los registros de descargas y los registros de recuento de descargas mensuales) de una canción, facilitada por una tabla llamada Songs.\n",
    "\n",
    "* Buscar la mayoría de las canciones descargadas, facilitado por el índice secundario global de la tabla Canciones llamado DownloadsByMonth."
   ]
  },
  {
   "cell_type": "code",
   "execution_count": 1,
   "metadata": {},
   "outputs": [],
   "source": [
    "import pandas as pd\n",
    "import dynamodb\n",
    "from dynamodb import DynamoTable\n",
    "import json\n",
    "from decimal import Decimal"
   ]
  },
  {
   "cell_type": "code",
   "execution_count": 2,
   "metadata": {},
   "outputs": [
    {
     "name": "stdout",
     "output_type": "stream",
     "text": [
      "- Table name: Songs-c            \n",
      "- Table arn: arn:aws:dynamodb:us-east-1:621304841877:table/Songs-c            \n",
      "- Table creation: 2023-03-06 21:09:05.911000-03:00            \n",
      "- [{'AttributeName': 'Id', 'KeyType': 'HASH'}, {'AttributeName': 'Metadata', 'KeyType': 'RANGE'}]            \n",
      "- [{'AttributeName': 'DownloadMonth', 'AttributeType': 'S'}, {'AttributeName': 'Id', 'AttributeType': 'S'}, {'AttributeName': 'Metadata', 'AttributeType': 'S'}, {'AttributeName': 'TotalDownloadsInMonth', 'AttributeType': 'N'}]\n"
     ]
    }
   ],
   "source": [
    "dt = DynamoTable()\n",
    "try:\n",
    "    dt.select_table('Songs-c')\n",
    "    print(dt)\n",
    "except:\n",
    "    dt.create_table(\n",
    "        table_name='Songs-c',\n",
    "        partition_key='Id',\n",
    "        partition_key_type='S',\n",
    "        sort_key='Metadata',\n",
    "        sort_key_type='S',\n",
    "        provisioned=False\n",
    "    )"
   ]
  },
  {
   "cell_type": "code",
   "execution_count": null,
   "metadata": {},
   "outputs": [],
   "source": [
    "# Itireate over json file and add items to table\n",
    "with open('songs.json') as json_file:\n",
    "    songs = json.load(json_file)\n",
    "songs_form = json.loads(json.dumps(songs), parse_float=Decimal)\n",
    "\n",
    "with dt.table.batch_writer() as batch:\n",
    "    for song in songs_form:\n",
    "        batch.put_item(Item=song)"
   ]
  },
  {
   "cell_type": "code",
   "execution_count": null,
   "metadata": {},
   "outputs": [],
   "source": [
    "df = dt.query_items(query=\"1\", to_pandas=True, consumed_capacity=True)\n",
    "df"
   ]
  },
  {
   "attachments": {},
   "cell_type": "markdown",
   "metadata": {},
   "source": [
    "* DynamoDB permite la creación de índices secundarios para obtener más patrones de acceso a los datos en la tabla. Los índices secundarios son un medio eficaz para agregar flexibilidad de consulta a la tabla de DynamoDB.\n",
    "\n",
    "* DynamoDB tiene dos tipos de índices secundarios: los índices secundarios globales y los índices secundarios locales. En esta sección, se agrega un índice secundario global al atributo de categoría."
   ]
  },
  {
   "cell_type": "code",
   "execution_count": 6,
   "metadata": {},
   "outputs": [
    {
     "data": {
      "text/plain": [
       "{'TableDescription': {'AttributeDefinitions': [{'AttributeName': 'Artist',\n",
       "    'AttributeType': 'S'},\n",
       "   {'AttributeName': 'Id', 'AttributeType': 'S'},\n",
       "   {'AttributeName': 'Metadata', 'AttributeType': 'S'}],\n",
       "  'TableName': 'Songs-c',\n",
       "  'KeySchema': [{'AttributeName': 'Id', 'KeyType': 'HASH'},\n",
       "   {'AttributeName': 'Metadata', 'KeyType': 'RANGE'}],\n",
       "  'TableStatus': 'UPDATING',\n",
       "  'CreationDateTime': datetime.datetime(2023, 3, 6, 21, 9, 5, 911000, tzinfo=tzlocal()),\n",
       "  'ProvisionedThroughput': {'NumberOfDecreasesToday': 0,\n",
       "   'ReadCapacityUnits': 0,\n",
       "   'WriteCapacityUnits': 0},\n",
       "  'TableSizeBytes': 0,\n",
       "  'ItemCount': 0,\n",
       "  'TableArn': 'arn:aws:dynamodb:us-east-1:621304841877:table/Songs-c',\n",
       "  'TableId': '6bac4845-e184-40dd-89a2-002bbedc4e34',\n",
       "  'BillingModeSummary': {'BillingMode': 'PAY_PER_REQUEST',\n",
       "   'LastUpdateToPayPerRequestDateTime': datetime.datetime(2023, 3, 6, 21, 27, 50, 12000, tzinfo=tzlocal())},\n",
       "  'GlobalSecondaryIndexes': [{'IndexName': 'ArtistNameIndex',\n",
       "    'KeySchema': [{'AttributeName': 'Artist', 'KeyType': 'HASH'}],\n",
       "    'Projection': {'ProjectionType': 'INCLUDE', 'NonKeyAttributes': ['Title']},\n",
       "    'IndexStatus': 'CREATING',\n",
       "    'Backfilling': False,\n",
       "    'ProvisionedThroughput': {'NumberOfDecreasesToday': 0,\n",
       "     'ReadCapacityUnits': 0,\n",
       "     'WriteCapacityUnits': 0},\n",
       "    'IndexSizeBytes': 0,\n",
       "    'ItemCount': 0,\n",
       "    'IndexArn': 'arn:aws:dynamodb:us-east-1:621304841877:table/Songs-c/index/ArtistNameIndex'}]},\n",
       " 'ResponseMetadata': {'RequestId': 'DNG9O03RDANBF942NN2I8155EFVV4KQNSO5AEMVJF66Q9ASUAAJG',\n",
       "  'HTTPStatusCode': 200,\n",
       "  'HTTPHeaders': {'server': 'Server',\n",
       "   'date': 'Tue, 07 Mar 2023 01:44:12 GMT',\n",
       "   'content-type': 'application/x-amz-json-1.0',\n",
       "   'content-length': '1302',\n",
       "   'connection': 'keep-alive',\n",
       "   'x-amzn-requestid': 'DNG9O03RDANBF942NN2I8155EFVV4KQNSO5AEMVJF66Q9ASUAAJG',\n",
       "   'x-amz-crc32': '3013199522'},\n",
       "  'RetryAttempts': 0}}"
      ]
     },
     "execution_count": 6,
     "metadata": {},
     "output_type": "execute_result"
    }
   ],
   "source": [
    "dt.create_global_secondary_index(\n",
    "    att_name=\"Artist\",\n",
    "    att_type=\"S\",\n",
    "    i_name=\"ArtistNameIndex\",\n",
    "    proj_type=[\"Title\"],\n",
    "    provisioned=False,\n",
    "    i_rcu=5,\n",
    "    i_wcu=5\n",
    ")"
   ]
  },
  {
   "cell_type": "code",
   "execution_count": 13,
   "metadata": {},
   "outputs": [
    {
     "name": "stderr",
     "output_type": "stream",
     "text": [
      "Global secondary index could not be created in table Songs-c. Here's why: ValidationException: Attempting to create an index which already exists\n"
     ]
    },
    {
     "ename": "ClientError",
     "evalue": "An error occurred (ValidationException) when calling the UpdateTable operation: Attempting to create an index which already exists",
     "output_type": "error",
     "traceback": [
      "\u001b[0;31m---------------------------------------------------------------------------\u001b[0m",
      "\u001b[0;31mClientError\u001b[0m                               Traceback (most recent call last)",
      "\u001b[1;32m/home/lep511/AWS/Dynamodb/01-SongsDatabase.ipynb Celda 8\u001b[0m in \u001b[0;36m1\n\u001b[0;32m----> <a href='vscode-notebook-cell://wsl%2Bdebian/home/lep511/AWS/Dynamodb/01-SongsDatabase.ipynb#W6sdnNjb2RlLXJlbW90ZQ%3D%3D?line=0'>1</a>\u001b[0m dt\u001b[39m.\u001b[39;49mcreate_global_secondary_index(\n\u001b[1;32m      <a href='vscode-notebook-cell://wsl%2Bdebian/home/lep511/AWS/Dynamodb/01-SongsDatabase.ipynb#W6sdnNjb2RlLXJlbW90ZQ%3D%3D?line=1'>2</a>\u001b[0m     att_name\u001b[39m=\u001b[39;49m\u001b[39m\"\u001b[39;49m\u001b[39mDownloadMonth\u001b[39;49m\u001b[39m\"\u001b[39;49m,\n\u001b[1;32m      <a href='vscode-notebook-cell://wsl%2Bdebian/home/lep511/AWS/Dynamodb/01-SongsDatabase.ipynb#W6sdnNjb2RlLXJlbW90ZQ%3D%3D?line=2'>3</a>\u001b[0m     att_type\u001b[39m=\u001b[39;49m\u001b[39m\"\u001b[39;49m\u001b[39mS\u001b[39;49m\u001b[39m\"\u001b[39;49m,\n\u001b[1;32m      <a href='vscode-notebook-cell://wsl%2Bdebian/home/lep511/AWS/Dynamodb/01-SongsDatabase.ipynb#W6sdnNjb2RlLXJlbW90ZQ%3D%3D?line=3'>4</a>\u001b[0m     sort_index\u001b[39m=\u001b[39;49m\u001b[39m\"\u001b[39;49m\u001b[39mTotalDownloadsInMonth\u001b[39;49m\u001b[39m\"\u001b[39;49m,\n\u001b[1;32m      <a href='vscode-notebook-cell://wsl%2Bdebian/home/lep511/AWS/Dynamodb/01-SongsDatabase.ipynb#W6sdnNjb2RlLXJlbW90ZQ%3D%3D?line=4'>5</a>\u001b[0m     sort_type\u001b[39m=\u001b[39;49m\u001b[39m\"\u001b[39;49m\u001b[39mN\u001b[39;49m\u001b[39m\"\u001b[39;49m,\n\u001b[1;32m      <a href='vscode-notebook-cell://wsl%2Bdebian/home/lep511/AWS/Dynamodb/01-SongsDatabase.ipynb#W6sdnNjb2RlLXJlbW90ZQ%3D%3D?line=5'>6</a>\u001b[0m     i_name\u001b[39m=\u001b[39;49m\u001b[39m\"\u001b[39;49m\u001b[39mDownloadsByMonth\u001b[39;49m\u001b[39m\"\u001b[39;49m,\n\u001b[1;32m      <a href='vscode-notebook-cell://wsl%2Bdebian/home/lep511/AWS/Dynamodb/01-SongsDatabase.ipynb#W6sdnNjb2RlLXJlbW90ZQ%3D%3D?line=6'>7</a>\u001b[0m     provisioned\u001b[39m=\u001b[39;49m\u001b[39mFalse\u001b[39;49;00m,\n\u001b[1;32m      <a href='vscode-notebook-cell://wsl%2Bdebian/home/lep511/AWS/Dynamodb/01-SongsDatabase.ipynb#W6sdnNjb2RlLXJlbW90ZQ%3D%3D?line=7'>8</a>\u001b[0m     i_rcu\u001b[39m=\u001b[39;49m\u001b[39m1\u001b[39;49m,\n\u001b[1;32m      <a href='vscode-notebook-cell://wsl%2Bdebian/home/lep511/AWS/Dynamodb/01-SongsDatabase.ipynb#W6sdnNjb2RlLXJlbW90ZQ%3D%3D?line=8'>9</a>\u001b[0m     i_wcu\u001b[39m=\u001b[39;49m\u001b[39m1\u001b[39;49m\n\u001b[1;32m     <a href='vscode-notebook-cell://wsl%2Bdebian/home/lep511/AWS/Dynamodb/01-SongsDatabase.ipynb#W6sdnNjb2RlLXJlbW90ZQ%3D%3D?line=9'>10</a>\u001b[0m )\n",
      "File \u001b[0;32m~/AWS/Dynamodb/dynamodb.py:415\u001b[0m, in \u001b[0;36mDynamoTable.create_global_secondary_index\u001b[0;34m(self, att_name, att_type, i_name, sort_index, sort_type, proj_type, provisioned, i_rcu, i_wcu)\u001b[0m\n\u001b[1;32m    413\u001b[0m \u001b[39mtry\u001b[39;00m:\n\u001b[1;32m    414\u001b[0m     \u001b[39mself\u001b[39m\u001b[39m.\u001b[39mclient \u001b[39m=\u001b[39m boto3\u001b[39m.\u001b[39mclient(\u001b[39m'\u001b[39m\u001b[39mdynamodb\u001b[39m\u001b[39m'\u001b[39m, region_name\u001b[39m=\u001b[39m\u001b[39mself\u001b[39m\u001b[39m.\u001b[39mregion)\n\u001b[0;32m--> 415\u001b[0m     resp \u001b[39m=\u001b[39m \u001b[39mself\u001b[39;49m\u001b[39m.\u001b[39;49mclient\u001b[39m.\u001b[39;49mupdate_table(\n\u001b[1;32m    416\u001b[0m         TableName \u001b[39m=\u001b[39;49m \u001b[39mself\u001b[39;49m\u001b[39m.\u001b[39;49mtable_name,\n\u001b[1;32m    417\u001b[0m         AttributeDefinitions\u001b[39m=\u001b[39;49matt_definition,\n\u001b[1;32m    418\u001b[0m         GlobalSecondaryIndexUpdates\u001b[39m=\u001b[39;49mgsi_main\n\u001b[1;32m    419\u001b[0m     )\n\u001b[1;32m    420\u001b[0m     \u001b[39mself\u001b[39m\u001b[39m.\u001b[39mtable\u001b[39m.\u001b[39mreload()\n\u001b[1;32m    421\u001b[0m \u001b[39mexcept\u001b[39;00m ClientError \u001b[39mas\u001b[39;00m err:\n",
      "File \u001b[0;32m~/miniconda3/lib/python3.9/site-packages/botocore/client.py:530\u001b[0m, in \u001b[0;36mClientCreator._create_api_method.<locals>._api_call\u001b[0;34m(self, *args, **kwargs)\u001b[0m\n\u001b[1;32m    526\u001b[0m     \u001b[39mraise\u001b[39;00m \u001b[39mTypeError\u001b[39;00m(\n\u001b[1;32m    527\u001b[0m         \u001b[39mf\u001b[39m\u001b[39m\"\u001b[39m\u001b[39m{\u001b[39;00mpy_operation_name\u001b[39m}\u001b[39;00m\u001b[39m() only accepts keyword arguments.\u001b[39m\u001b[39m\"\u001b[39m\n\u001b[1;32m    528\u001b[0m     )\n\u001b[1;32m    529\u001b[0m \u001b[39m# The \"self\" in this scope is referring to the BaseClient.\u001b[39;00m\n\u001b[0;32m--> 530\u001b[0m \u001b[39mreturn\u001b[39;00m \u001b[39mself\u001b[39;49m\u001b[39m.\u001b[39;49m_make_api_call(operation_name, kwargs)\n",
      "File \u001b[0;32m~/miniconda3/lib/python3.9/site-packages/botocore/client.py:960\u001b[0m, in \u001b[0;36mBaseClient._make_api_call\u001b[0;34m(self, operation_name, api_params)\u001b[0m\n\u001b[1;32m    958\u001b[0m     error_code \u001b[39m=\u001b[39m parsed_response\u001b[39m.\u001b[39mget(\u001b[39m\"\u001b[39m\u001b[39mError\u001b[39m\u001b[39m\"\u001b[39m, {})\u001b[39m.\u001b[39mget(\u001b[39m\"\u001b[39m\u001b[39mCode\u001b[39m\u001b[39m\"\u001b[39m)\n\u001b[1;32m    959\u001b[0m     error_class \u001b[39m=\u001b[39m \u001b[39mself\u001b[39m\u001b[39m.\u001b[39mexceptions\u001b[39m.\u001b[39mfrom_code(error_code)\n\u001b[0;32m--> 960\u001b[0m     \u001b[39mraise\u001b[39;00m error_class(parsed_response, operation_name)\n\u001b[1;32m    961\u001b[0m \u001b[39melse\u001b[39;00m:\n\u001b[1;32m    962\u001b[0m     \u001b[39mreturn\u001b[39;00m parsed_response\n",
      "\u001b[0;31mClientError\u001b[0m: An error occurred (ValidationException) when calling the UpdateTable operation: Attempting to create an index which already exists"
     ]
    }
   ],
   "source": [
    "dt.create_global_secondary_index(\n",
    "    att_name=\"DownloadMonth\",\n",
    "    att_type=\"S\",\n",
    "    sort_index=\"TotalDownloadsInMonth\",\n",
    "    sort_type=\"N\",\n",
    "    i_name=\"DownloadsByMonth\",\n",
    "    provisioned=False,\n",
    "    i_rcu=1,\n",
    "    i_wcu=1\n",
    ")"
   ]
  },
  {
   "attachments": {},
   "cell_type": "markdown",
   "metadata": {},
   "source": [
    "Crear un índice secundario global es muy parecido a crear una tabla. Se especifican el nombre del índice, los atributos que estarán dentro del índice, el esquema de la clave del índice y el rendimiento aprovisionado (la capacidad máxima que una aplicación puede consumir de una tabla o de un índice). El rendimiento aprovisionado en cada índice es independiente del rendimiento aprovisionado en una tabla. Esto permite definir el rendimiento con detalle a fin de satisfacer las necesidades de la aplicación."
   ]
  },
  {
   "cell_type": "code",
   "execution_count": 15,
   "metadata": {},
   "outputs": [
    {
     "data": {
      "text/plain": [
       "'ACTIVE'"
      ]
     },
     "execution_count": 15,
     "metadata": {},
     "output_type": "execute_result"
    }
   ],
   "source": [
    "dt.check_status_gsi()"
   ]
  }
 ],
 "metadata": {
  "kernelspec": {
   "display_name": "Python 3",
   "language": "python",
   "name": "python3"
  },
  "language_info": {
   "codemirror_mode": {
    "name": "ipython",
    "version": 3
   },
   "file_extension": ".py",
   "mimetype": "text/x-python",
   "name": "python",
   "nbconvert_exporter": "python",
   "pygments_lexer": "ipython3",
   "version": "3.9.12"
  },
  "orig_nbformat": 4,
  "vscode": {
   "interpreter": {
    "hash": "3ad933181bd8a04b432d3370b9dc3b0662ad032c4dfaa4e4f1596c548f763858"
   }
  }
 },
 "nbformat": 4,
 "nbformat_minor": 2
}
