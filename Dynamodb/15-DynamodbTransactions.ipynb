{
 "cells": [
  {
   "attachments": {},
   "cell_type": "markdown",
   "metadata": {},
   "source": [
    "## Funcionamiento de las Transacciones de Amazon DynamoDB\n",
    "\n",
    "Con Amazon DynamoDB Transactions, puede agrupar varias acciones y enviarlas como una sola operación TransactWriteItems o TransactGetItems de tipo \"todo o nada\". Estas acciones pueden dirigirse a elementos de diferentes tablas, pero no a diferentes cuentas o regiones de AWS, y no puede haber dos acciones dirigidas al mismo elemento. Las acciones se completan de forma atómica, de modo que todas ellas tienen éxito o todas ellas fallan.\n",
    "\n",
    "#### API TransactWriteItems\n",
    "\n",
    "`TransactWriteItems` es una operación de escritura síncrona e idempotente que agrupa hasta 100 acciones de escritura en una única operación de tipo “todo o nada”. Estas acciones pueden estar dirigidas a un máximo de 100 elementos diferenciados en una o varias tablas de DynamoDB en la misma cuenta de AWS y en la misma región. El tamaño total de los elementos de la transacción no puede superar 4 MB. Las acciones se realizan atómicamente, de tal forma que se llevan a cabo correctamente todas o ninguna de ellas.\n",
    "\n",
    "* Una operación `TransactWriteItems` se diferencia de una operación `BatchWriteItem` en que todas las acciones que contiene deben completarse correctamente o, de lo contrario, no se realiza ningún cambio. Con una operación BatchWriteItem, es posible que solo algunas de las acciones del lote se realicen correctamente y otras, no.\n",
    "\n",
    "* Las transacciones no se pueden realizar mediante índices.\n",
    "\n",
    "No se pueden dirigir varias operaciones de la misma transacción al mismo elemento. Por ejemplo, no se puede realizar una acción ConditionCheck y también una acción Update en el mismo elemento de la misma transacción.\n",
    "\n",
    "Puede agregar los tipos de acciones siguientes a una transacción:\n",
    "\n",
    "* *Put*: Inicia una operación PutItem para crear un nuevo elemento o sustituir uno antiguo por otro nuevo, ya sea de forma condicional o sin especificar ninguna condición.\n",
    "\n",
    "* *Update*: Inicia una operación UpdateItem para editar los atributos de un elemento existente o agregar un nuevo elemento a la tabla, si no existe ya. Esta acción se utiliza para agregar, eliminar o actualizar atributos a un elemento existente, de forma condicional o sin condiciones.\n",
    "\n",
    "* *Delete*: Inicia una operación DeleteItem para eliminar un solo elemento de una tabla identificado por su clave principal.\n",
    "\n",
    "* *ConditionCheck*: Comprueba la existencia de un elemento o la condición de atributos concretos del elemento."
   ]
  },
  {
   "attachments": {},
   "cell_type": "markdown",
   "metadata": {},
   "source": [
    "#### Idempotencia\n",
    "Opcionalmente, puede incluir un token de cliente al realizar una llamada a TransactWriteItems para asegurarse de que la solicitud sea idempotente. Hacer que las transacciones sean idempotentes ayuda a evitar errores de aplicaciones si se envía la misma operación varias veces debido a una interrupción de la conexión u otro problema de conectividad.\n",
    "\n",
    "Si la llamada a TransactWriteItems original se realizó correctamente, las llamadas siguientes a TransactWriteItems con el mismo token de cliente también se devolverán correctamente sin hacer ningún cambio. Si se ha establecido el parámetro ReturnConsumedCapacity, la llamada TransactWriteItems inicial devolverá el número de unidades de capacidad de escritura consumidas al realizar los cambios. Las llamadas siguientes a TransactWriteItems con el mismo token de cliente devolverán el número de unidades de capacidad de lectura consumidas al leer el elemento.\n",
    "\n",
    "Información importante sobre la idempotencia:\n",
    "\n",
    "* Un token de cliente es válido durante 10 minutos desde que finaliza la solicitud que lo utiliza. Transcurridos esos 10 minutos, cualquier solicitud que use el mismo token de cliente se tratará como si fuera nueva. No debe reutilizar el mismo token de cliente para la misma solicitud si han pasado 10 minutos.\n",
    "\n",
    "* Si repite una solicitud con el mismo token de cliente dentro del periodo de idempotencia de 10 minutos, pero cambia algún otro parámetro de la solicitud, DynamoDB devolverá una excepción IdempotentParameterMismatch.\n",
    "\n",
    "#### Control de errores de escritura\n",
    "Las transacciones de escritura no se realizarán correctamente en las siguientes circunstancias:\n",
    "\n",
    "* Cuando no se cumple alguna de las condiciones de las expresiones de condición.\n",
    "\n",
    "* Cuando se produce un error de validación de transacción porque hay más de una acción dirigida al mismo elemento en una sola operación TransactWriteItems.\n",
    "\n",
    "* Cuando una solicitud TransactWriteItems está en conflicto con una operación TransactWriteItems en curso para uno o varios elementos de la solicitud TransactWriteItems. En este caso, la solicitud genera un error TransactionCanceledException.\n",
    "\n",
    "* Cuando no hay suficiente capacidad aprovisionada para completar la transacción.\n",
    "\n",
    "* Cuando el tamaño de un elemento es excesivo (más de 400 KB), un índice secundario local (LSI) se vuelve demasiado grande o se produce algún error de validación semejante a causa de los cambios realizados por la transacción.\n",
    "\n",
    "* Cuando hay algún error de usuario, como un formato de datos no válido."
   ]
  },
  {
   "cell_type": "code",
   "execution_count": 1,
   "metadata": {},
   "outputs": [],
   "source": [
    "import boto3\n",
    "from botocore.exceptions import ClientError\n",
    "import pandas as pd\n",
    "import base64\n",
    "from spdynamodb import DynamoTable\n",
    "from datetime import datetime\n",
    "import json\n",
    "import time\n",
    "from decimal import Decimal"
   ]
  },
  {
   "cell_type": "code",
   "execution_count": 2,
   "metadata": {},
   "outputs": [
    {
     "name": "stdout",
     "output_type": "stream",
     "text": [
      "- Table name: Bookks            \n",
      "- Table arn: arn:aws:dynamodb:us-east-1:089715336747:table/Bookks            \n",
      "- Table creation: 2023-05-27 19:49:51            \n",
      "- [{'AttributeName': 'Author', 'KeyType': 'HASH'}, {'AttributeName': 'Title', 'KeyType': 'RANGE'}]            \n",
      "- [{'AttributeName': 'Author', 'AttributeType': 'S'}, {'AttributeName': 'Category', 'AttributeType': 'S'}, {'AttributeName': 'Title', 'AttributeType': 'S'}]            \n",
      "- Point-in-time recovery status: ENABLED  |  Delete protection: False\n"
     ]
    }
   ],
   "source": [
    "#dt = DynamoTable(profile_name='my-profile')\n",
    "dt=DynamoTable()\n",
    "try:\n",
    "    dt.select_table('Bookks')\n",
    "    print(dt)\n",
    "except:\n",
    "    dt.create_table(\n",
    "        table_name='Bookks',\n",
    "        partition_key='Author',\n",
    "        partition_key_type='S',\n",
    "        sort_key='Title',\n",
    "        sort_key_type='S',\n",
    "    )"
   ]
  },
  {
   "cell_type": "code",
   "execution_count": 3,
   "metadata": {},
   "outputs": [
    {
     "name": "stdout",
     "output_type": "stream",
     "text": [
      "Data loaded successfully from partiqlbatch.json.\n"
     ]
    }
   ],
   "source": [
    "dt.load_json(\"partiqlbatch.json\")"
   ]
  },
  {
   "cell_type": "code",
   "execution_count": 4,
   "metadata": {},
   "outputs": [],
   "source": [
    "client = boto3.client('dynamodb', region_name='us-east-1')"
   ]
  },
  {
   "attachments": {},
   "cell_type": "markdown",
   "metadata": {},
   "source": [
    "Las transacciones en DynamoDB respetan el concepto de idempotencia. La idempotencia permite enviar la misma transacción más de una vez, pero DynamoDB solo la ejecutará una vez. Esto resulta especialmente útil cuando se utilizan API que no son idempotentes, como UpdateItem para aumentar o disminuir un campo numérico, por ejemplo. Cuando se ejecuta una transacción se especifica una cadena que representa el ClientRequestToken (también conocido como Idempotency Token). DynamoDB utiliza este token para identificar transacciones duplicadas y evitar que se ejecuten más de una vez. Si se envía una transacción con un ClientRequestToken que ya se ha utilizado, DynamoDB devuelve un error de transacción."
   ]
  },
  {
   "cell_type": "code",
   "execution_count": 5,
   "metadata": {},
   "outputs": [],
   "source": [
    "token = \"TRANSACTION1\""
   ]
  },
  {
   "cell_type": "code",
   "execution_count": 21,
   "metadata": {},
   "outputs": [
    {
     "name": "stdout",
     "output_type": "stream",
     "text": [
      "Books updated.\n",
      "ConsumedCapacity:  [{'TableName': 'Bookks', 'CapacityUnits': 6.0, 'ReadCapacityUnits': 6.0}]\n"
     ]
    }
   ],
   "source": [
    "try:\n",
    "    response = client.transact_write_items(\n",
    "        TransactItems=[\n",
    "            {\n",
    "                'Put': {\n",
    "                    'TableName': 'Bookks',\n",
    "                    'Item': {\n",
    "                        'Author': {'S': 'Franz Kafka'},\n",
    "                        'Title': {'S': 'The Trial'},\n",
    "                        'Category': {'S': 'Fiction'},\n",
    "                        'Formats': {\n",
    "                            'M': {\n",
    "                                'Hardcover': {'S': 'ISBN 978-3-16-148410-0'},\n",
    "                                'Paperback': {'S': 'ISBN 978-3-16-148409-4'},\n",
    "                                'Ebook': {'S': 'ISBN 978-3-16-148408-7'},\n",
    "                            }\n",
    "                        },\n",
    "                        'Year': {'N': '1925'},\n",
    "                        'Pages': {'N': '255'}\n",
    "                    }\n",
    "                }\n",
    "            },\n",
    "            {\n",
    "                'Put': {\n",
    "                    'TableName': 'Bookks',\n",
    "                    'Item': {\n",
    "                        'Author': {'S': 'Franz Kafka'},\n",
    "                        'Title': {'S': 'The Castle'},\n",
    "                        'Category': {'S': 'Fiction'},\n",
    "                        'Formats': {\n",
    "                            'M': {\n",
    "                                'Hardcover': {'S': 'ISBN 978-3-16-148410-0'},\n",
    "                                'Paperback': {'S': 'ISBN 978-3-16-148409-4'},\n",
    "                                'Ebook': {'S': 'ISBN 978-3-16-148408-7'},\n",
    "                            }\n",
    "                        },\n",
    "                        'Year': {'N': '1926'},\n",
    "                        'Pages': {'N': '315'}\n",
    "                    }\n",
    "                }\n",
    "            },\n",
    "            {\n",
    "                'Update': {\n",
    "                    'TableName': 'Bookks',\n",
    "                    'Key': {\n",
    "                        'Author': {'S': 'William Shakespeare'},\n",
    "                        'Title': {'S': 'The Tempest'}\n",
    "                    },\n",
    "                    'UpdateExpression': 'SET #c = :val',\n",
    "                    'ExpressionAttributeNames': {'#c': 'Category'},\n",
    "                    'ExpressionAttributeValues': {':val': {'S': 'Drama'}}\n",
    "                }\n",
    "            }\n",
    "        ],\n",
    "        ClientRequestToken=token,\n",
    "        ReturnConsumedCapacity='TOTAL'\n",
    "    )\n",
    "except ClientError as e:\n",
    "    print('Error:', e.response['Error']['Message'])\n",
    "else:\n",
    "    print('Books updated.')\n",
    "    print(\"ConsumedCapacity: \", response['ConsumedCapacity'])"
   ]
  },
  {
   "attachments": {},
   "cell_type": "markdown",
   "metadata": {},
   "source": [
    "Si ejecuta de nuevo otro comando de transacción, con el mismo valor de cliente-request-token, puede verificar que las otras invocaciones de la transacción son esencialmente ignoradas y los Mensajes atribuidos permanecen iguales."
   ]
  },
  {
   "cell_type": "code",
   "execution_count": 23,
   "metadata": {},
   "outputs": [
    {
     "name": "stdout",
     "output_type": "stream",
     "text": [
      "Error: Specified idempotent token was used with different request parameters within the idempotency window\n"
     ]
    }
   ],
   "source": [
    "try:\n",
    "    response = client.transact_write_items(\n",
    "        TransactItems=[\n",
    "            {\n",
    "                'Put': {\n",
    "                    'TableName': 'Bookks',\n",
    "                    'Item': {\n",
    "                        'Author': {'S': 'Franz Kafka'},\n",
    "                        'Title': {'S': 'The Trial'},\n",
    "                        'Category': {'S': 'Fiction'},\n",
    "                        'Formats': {\n",
    "                            'M': {\n",
    "                                'Hardcover': {'S': 'ISBN 978-3-16-148410-0'}\n",
    "                            }\n",
    "                        },\n",
    "                        'Year': {'N': '1525'},\n",
    "                        'Pages': {'N': '12'}\n",
    "                    }\n",
    "                }\n",
    "            },\n",
    "            {\n",
    "                'Update': {\n",
    "                    'TableName': 'Bookks',\n",
    "                    'Key': {\n",
    "                        'Author': {'S': 'William Shakespeare'},\n",
    "                        'Title': {'S': 'The Tempest'}\n",
    "                    },\n",
    "                    'UpdateExpression': 'SET #c = :val',\n",
    "                    'ExpressionAttributeNames': {'#c': 'Category'},\n",
    "                    'ExpressionAttributeValues': {':val': {'S': 'Terror'}}\n",
    "                }\n",
    "            }\n",
    "        ],\n",
    "        ClientRequestToken=token,\n",
    "        ReturnConsumedCapacity='TOTAL'\n",
    "    )\n",
    "except ClientError as e:\n",
    "    print('Error:', e.response['Error']['Message'])\n",
    "else:\n",
    "    print('Books updated.')\n",
    "    print(\"ConsumedCapacity: \", response['ConsumedCapacity'])"
   ]
  },
  {
   "attachments": {},
   "cell_type": "markdown",
   "metadata": {},
   "source": [
    "#### API TransactGetItems\n",
    "TransactGetItems es una operación de lectura síncrona que agrupa hasta 100 acciones Get. Estas acciones pueden estar dirigidas a un máximo de 100 elementos diferenciados en una o varias tablas de DynamoDB en la misma cuenta y región de AWS. El tamaño total de los elementos de la transacción no puede superar 4 MB.\n",
    "\n",
    "Las acciones Get se realizan atómicamente, de tal forma que se llevan a cabo correctamente todas o ninguna de ellas:\n",
    "\n",
    "* *Get*: Inicia una operación GetItem para recuperar un conjunto de atributos para el elemento que tiene la clave principal especificada. Si no se encuentra ningún elemento que coincida, Get no devuelve ningún dato.\n",
    "\n",
    "#### Control de errores de lectura\n",
    "Las transacciones de lectura no se realizarán correctamente en las siguientes circunstancias:\n",
    "\n",
    "* Cuando una solicitud TransactGetItems está en conflicto con una operación TransactWriteItems en curso para uno o varios elementos de la solicitud TransactGetItems. En este caso, la solicitud genera un error TransactionCanceledException.\n",
    "\n",
    "* Cuando no hay suficiente capacidad aprovisionada para completar la transacción.\n",
    "\n",
    "* Cuando hay algún error de usuario, como un formato de datos no válido."
   ]
  },
  {
   "cell_type": "code",
   "execution_count": 24,
   "metadata": {},
   "outputs": [
    {
     "name": "stdout",
     "output_type": "stream",
     "text": [
      "[\n",
      "    {\n",
      "        \"Item\": {\n",
      "            \"Title\": {\n",
      "                \"S\": \"The Tempest\"\n",
      "            },\n",
      "            \"Formats\": {\n",
      "                \"M\": {\n",
      "                    \"Hardcover\": {\n",
      "                        \"BOOL\": true\n",
      "                    },\n",
      "                    \"Paperback\": {\n",
      "                        \"BOOL\": true\n",
      "                    },\n",
      "                    \"Audiobook\": {\n",
      "                        \"BOOL\": false\n",
      "                    }\n",
      "                }\n",
      "            },\n",
      "            \"Author\": {\n",
      "                \"S\": \"William Shakespeare\"\n",
      "            },\n",
      "            \"Category\": {\n",
      "                \"S\": \"Drama\"\n",
      "            }\n",
      "        }\n",
      "    },\n",
      "    {\n",
      "        \"Item\": {\n",
      "            \"Title\": {\n",
      "                \"S\": \"The Trial\"\n",
      "            },\n",
      "            \"Formats\": {\n",
      "                \"M\": {\n",
      "                    \"Ebook\": {\n",
      "                        \"S\": \"ISBN 978-3-16-148408-7\"\n",
      "                    },\n",
      "                    \"Hardcover\": {\n",
      "                        \"S\": \"ISBN 978-3-16-148410-0\"\n",
      "                    },\n",
      "                    \"Paperback\": {\n",
      "                        \"S\": \"ISBN 978-3-16-148409-4\"\n",
      "                    }\n",
      "                }\n",
      "            },\n",
      "            \"Author\": {\n",
      "                \"S\": \"Franz Kafka\"\n",
      "            },\n",
      "            \"Year\": {\n",
      "                \"N\": \"1925\"\n",
      "            },\n",
      "            \"Pages\": {\n",
      "                \"N\": \"255\"\n",
      "            },\n",
      "            \"Category\": {\n",
      "                \"S\": \"Fiction\"\n",
      "            }\n",
      "        }\n",
      "    }\n",
      "]\n"
     ]
    }
   ],
   "source": [
    "try:\n",
    "    response = client.transact_get_items(\n",
    "        TransactItems=[\n",
    "            {\n",
    "                'Get': {\n",
    "                    'TableName': 'Bookks',\n",
    "                    'Key': {\n",
    "                        'Author': {'S': 'William Shakespeare'},\n",
    "                        'Title': {'S': 'The Tempest'}\n",
    "                    }\n",
    "                }\n",
    "            },\n",
    "            {\n",
    "                'Get': {\n",
    "                    'TableName': 'Bookks',\n",
    "                    'Key': {\n",
    "                        'Author': {'S': 'Franz Kafka'},\n",
    "                        'Title': {'S': 'The Trial'}\n",
    "                    }\n",
    "                }\n",
    "            }\n",
    "        ]\n",
    "    )\n",
    "except ClientError as e:\n",
    "    print(e.response['Error']['Message'])\n",
    "else:\n",
    "    print(json.dumps(response['Responses'], indent=4, default=str))"
   ]
  }
 ],
 "metadata": {
  "kernelspec": {
   "display_name": "myenv",
   "language": "python",
   "name": "python3"
  },
  "language_info": {
   "codemirror_mode": {
    "name": "ipython",
    "version": 3
   },
   "file_extension": ".py",
   "mimetype": "text/x-python",
   "name": "python",
   "nbconvert_exporter": "python",
   "pygments_lexer": "ipython3",
   "version": "3.10.8"
  },
  "orig_nbformat": 4
 },
 "nbformat": 4,
 "nbformat_minor": 2
}
