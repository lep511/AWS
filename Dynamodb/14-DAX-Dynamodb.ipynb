{
 "cells": [
  {
   "attachments": {},
   "cell_type": "markdown",
   "metadata": {},
   "source": [
    "## DynamoDB Accelerator [DAX]\n",
    "\n",
    "El rendimiento es un factor esencial para determinar la calidad general de cada aplicación que desarrollamos. Como su nombre indica, DynamoDB Accelerator, más conocido como DAX, es un potenciador del rendimiento que mejora el tiempo de respuesta de una aplicación de milisegundos a microsegundos. \n",
    "\n",
    "DynamoDB Accelerator es una caché en memoria para Amazon DynamoDB. Está totalmente administrado y es de alta disponibilidad. Cuando se utiliza, DynamoDB Accelerator puede mejorar el desempeño hasta 10 veces, incluso con millones de solicitudes por segundo. Por lo tanto, es ideal para que las aplicaciones de lectura de alto rendimiento obtengan los máximos beneficios.\n",
    "\n",
    "DynamoDB Accelerator también es compatible con las llamadas a la API de DynamoDB existentes, lo que permite al usuario centrarse más en la propia aplicación en lugar de modificar la lógica de la aplicación. Además, los desarrolladores no tienen que realizar la gestión de clústeres, gestionar la invalidación de la caché o el poblamiento de datos, ya que DAX realiza todo el trabajo duro para añadir la aceleración en memoria.\n",
    "\n",
    "Cada clúster DAX puede contener de 1 a 10 nodos. El usuario puede añadir nodos para aumentar el rendimiento en función de sus necesidades. DynamoDB Accelerator es una de las mejores soluciones rentables para maximizar el rendimiento de DynamoDB.\n",
    "\n",
    "### ¿Cuándo utilizar DynamoDB Accelerator (DAX)?\n",
    "\n",
    "* Cuando se crean aplicaciones que requieren el tiempo de respuesta más rápido posible para las lecturas, como las aplicaciones de comercio y los juegos sociales.\n",
    "\n",
    "* Cuando una aplicación requiere lecturas repetidas sobre un gran conjunto de datos, la capacidad de lectura de la base de datos DynamoDB puede excederse, y otras aplicaciones que accedan al mismo conjunto de datos pueden sufrir efectos adversos. Ejemplo: Realización de un análisis prolongado de datos de ventas.\n",
    "\n",
    "* Cuando la aplicación requiere muchas lecturas, el coste es elevado al requerir muchas unidades de capacidad de lectura. Puede costar mucho aumentar el rendimiento de lectura provisionado de la aplicación. Pero, en su lugar, podemos descargar la actividad en un clúster del Acelerador de DynamoDB.\n",
    "\n",
    "* DAX es ideal para aplicaciones como los sitios web de comercio electrónico, donde puede surgir la necesidad de lecturas frecuentes para unos pocos elementos. Este requisito puede darse cuando un artículo en particular está en oferta o cuando hay un conjunto de artículos mejor valorados.\n",
    "\n",
    "### ¿Cuándo no se debe utilizar el acelerador de DynamoDB (DAX)?\n",
    "\n",
    "* Cuando la aplicación no realiza muchas lecturas pero sí muchas escrituras.\n",
    "\n",
    "* Si la aplicación ya dispone de otra solución de almacenamiento en caché con lógica propia del lado del cliente para trabajar.\n",
    "\n",
    "* Cuando no hay necesidad de la respuesta para lecturas en velocidad de microsegundos.\n",
    "\n",
    "* Cuando hay una necesidad de lecturas fuertemente consistentes."
   ]
  },
  {
   "cell_type": "code",
   "execution_count": 1,
   "metadata": {},
   "outputs": [],
   "source": [
    "import boto3\n",
    "from botocore.exceptions import ClientError\n",
    "import pandas as pd\n",
    "import base64\n",
    "from spdynamodb import DynamoTable\n",
    "from datetime import datetime\n",
    "import json\n",
    "import time\n",
    "from decimal import Decimal"
   ]
  },
  {
   "cell_type": "code",
   "execution_count": 3,
   "metadata": {},
   "outputs": [
    {
     "name": "stdout",
     "output_type": "stream",
     "text": [
      "[\n",
      "    {\n",
      "        \"Address\": \"firstdax.sobnuw.dax-clusters.us-east-1.amazonaws.com\",\n",
      "        \"Port\": 9111,\n",
      "        \"URL\": \"daxs://firstdax.sobnuw.dax-clusters.us-east-1.amazonaws.com\"\n",
      "    }\n",
      "]\n"
     ]
    }
   ],
   "source": [
    "!aws dax describe-clusters --query \"Clusters[*].ClusterDiscoveryEndpoint\""
   ]
  },
  {
   "cell_type": "code",
   "execution_count": null,
   "metadata": {},
   "outputs": [],
   "source": []
  },
  {
   "cell_type": "code",
   "execution_count": null,
   "metadata": {},
   "outputs": [],
   "source": []
  },
  {
   "cell_type": "code",
   "execution_count": null,
   "metadata": {},
   "outputs": [],
   "source": []
  },
  {
   "attachments": {},
   "cell_type": "markdown",
   "metadata": {},
   "source": [
    "### Rendimiento del Acelerador de DynamoDB (DAX)\n",
    "El tiempo de respuesta habitual de DynamoDB es de milisegundos. Sin embargo, al utilizar DynamoDB Accelerator, podemos conseguir una mejora del rendimiento de hasta 10 veces, reduciendo el tiempo de respuesta a microsegundos. DynamoDB + DAX es la combinación perfecta para lograr esta mejora del rendimiento incluso con millones de solicitudes por segundo con cargas de trabajo de lectura intensiva\".\n",
    "\n",
    "DynamoDB Accelerator permite que las aplicaciones funcionen de forma rápida y fluida incluso cuando un post de gran tendencia o una noticia famosa envían una cantidad inesperadamente alta de solicitudes. Lo mejor es que no es necesario realizar ningún ajuste para conseguirlo. Tampoco es necesario reescribir la aplicación para acceder a la caché cuando se utiliza DAX.\n",
    "\n",
    "### Precios de DynamoDB Accelerator (DAX)\n",
    "El precio es por nodo-hora consumido y depende del tipo de instancia que seleccione. Cada hora de nodo parcial consumida se facturará como una hora completa. Los precios se aplican a todos los nodos individuales del clúster de DAX. Por ejemplo, si tiene un clúster de DAX de tres nodos, se le cobrará cada uno de ellos (tres nodos en total) por hora. \n",
    "\n",
    "No se cobra la transferencia de datos entre Amazon Elastic Compute Cloud (Amazon EC2) y DAX dentro de la misma zona de disponibilidad. Los cargos por transferencia de datos estándar de Amazon EC2 se aplican cuando se trasladan datos entre una instancia de Amazon EC2 y un nodo de DAX ubicados en diferentes zonas de disponibilidad de la misma región de AWS. Sin embargo, solo se le cobrará por la transferencia de datos dentro o fuera de la instancia de Amazon EC2. No hay cargos por transferencia de datos de DAX por el tráfico que entra al propio nodo de DAX o sale de él.\n",
    "\n",
    "El precio comienza en 0,269 dólares por hora para cada nodo en las regiones de EE. UU. Este (Virginia del Norte) y EE. UU. Oeste (Oregón).\n",
    "\n",
    "### Prácticas recomendadas del Acelerador de DynamoDB (DAX)\n",
    "* Intente tener al menos tres nodos en diferentes zonas de disponibilidad en su clúster DAX: Disponer de varios nodos en distintas regiones garantiza una alta disponibilidad de los datos.\n",
    "\n",
    "* Asegúrese de que DAX está cifrado de forma segura en reposo: El cifrado en reposo proporciona una capa adicional de seguridad sobre los datos.\n",
    "\n",
    "* Revisar y mantener periódicamente las decisiones de escalado del cluster DAX: Tenemos que estimar el tráfico y realizar pruebas de carga y monitorización de la producción, ya que la carga de trabajo puede cambiar con el tiempo, haciendo que el escalado inicial sea inadecuado o incorrecto.\n",
    "\n",
    "### DynamoDB DAX frente a Redis\n",
    "Redis también es una base de datos NoSQL conocida por ofrecer solicitudes por debajo del milisegundo por segundo. DynamoDB Accelerator (DAX) es una caché en memoria para bases de datos NoSQL DynamoDB que mejora el rendimiento de un milisegundo de DynamoDB a microsegundos incluso con cargas de trabajo pesadas.\n",
    "\n",
    "En cuanto a las ventajas de Redis, tiene licencia de código abierto, puede actuar automáticamente como caché y es altamente escalable con fragmentación automática. Por otro lado, AWS gestiona completamente DAX, puede escalar horizontal o verticalmente y es altamente seguro.\n",
    "\n",
    "Redis no tiene cifrado incorporado y puede ser costoso cuando se escala debido a los límites de memoria. Pero también es una buena opción y cuenta con una comunidad masiva de usuarios en todo el mundo. Si el entorno del proyecto se centra principalmente en AWS y NoSQL, entonces DAX sería una solución ideal con DynamoDB y sus lecturas de alto rendimiento.\n",
    "\n",
    "### DynamoDB DAX frente a ElastiCache\n",
    "Aunque tanto DynamoDB DAX como ElastiCache son productos totalmente gestionados de Amazon. Existen varias diferencias entre estos dos tipos de caché en cuanto a cómo y cuándo son aplicables.\n",
    "\n",
    "DAX es adecuada para cargas de trabajo pesadas, especialmente cuando hay lecturas intensivas. Es la caché en memoria ideal para utilizar con DynamoDB. Sin embargo, ElastiCache es compatible tanto con Redis como con Memcached. Y en comparación con DynamoDB DAX, hay más trabajo pesado que hacer, incluida la gestión de las invalidaciones en ElastiCache.\n",
    "\n",
    "#### **PREGUNTAS FRECUENTES**\n",
    "* **¿En qué regiones está disponible DynamoDB Accelerator (DAX)?**\n",
    "DAX está disponible en las regiones de EE. UU. Este (N. Virginia), EE. UU. Este (Ohio), UE (Irlanda), Asia Pacífico (Singapur), Asia Pacífico (Tokio), EE. UU. Oeste (Oregón), EE. UU. Oeste (N. California), Sudamérica (São Paulo), Asia Pacífico (Sídney) y Asia Pacífico (Bombay).\n",
    "\n",
    "* **¿Es posible utilizar DynamoDB Accelerator (DAX) en ocasiones?**\n",
    "Por muy rápido y eficaz que sea el Acelerador de DynamoDB (DAX), hay ciertos casos en los que no podemos utilizarlo. Por ejemplo, no podemos utilizarlo para ninguna operación relacionada con la gestión de tablas. Y es mejor no utilizar DAX cuando una aplicación ya cuenta con otra solución de almacenamiento en caché con lógica del lado del cliente. Y además, no hay soporte para la plataforma EC2-Classic. (DAX solo admite EC2-VPC)\n",
    "\n",
    "* **¿Cuáles son los problemas con el uso de DynamoDB Accelerator (DAX)?**\n",
    "DAX solo funciona con DynamoDB, lo que hace obligatorio el uso de DynamoDB para la aplicación.\n",
    "Las escrituras realizadas en DAX son un poco lentas en comparación con la escritura directa en DynamoDB.\n",
    "No es tan adecuado para aplicaciones de escritura intensiva.\n",
    "¿Requiere VPC el Acelerador de DynamoDB (DAX)?\n",
    "Sí. Los usuarios no pueden conectarse directamente a los clústeres DAX a través de Internet por motivos de seguridad. Para lanzar un clúster DAX, el usuario debe utilizar una Virtual Private Cloud (VPC) y, a continuación, puede controlar el acceso al clúster mediante los grupos de seguridad de Amazon VPC."
   ]
  }
 ],
 "metadata": {
  "kernelspec": {
   "display_name": "myenv",
   "language": "python",
   "name": "python3"
  },
  "language_info": {
   "codemirror_mode": {
    "name": "ipython",
    "version": 3
   },
   "file_extension": ".py",
   "mimetype": "text/x-python",
   "name": "python",
   "nbconvert_exporter": "python",
   "pygments_lexer": "ipython3",
   "version": "3.10.8"
  },
  "orig_nbformat": 4
 },
 "nbformat": 4,
 "nbformat_minor": 2
}
