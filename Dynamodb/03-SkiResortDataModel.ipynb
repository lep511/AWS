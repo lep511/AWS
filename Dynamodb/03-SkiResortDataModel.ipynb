{
 "cells": [
  {
   "attachments": {},
   "cell_type": "markdown",
   "metadata": {},
   "source": [
    "## Modelo de datos de la estación de esquí\n",
    "### Este modelo de datos representa una estación de esquí que tiene una gran colección de datos para cada telesilla recopilada diariamente.\n",
    "\n",
    "Los patrones de acceso que este modelo de datos facilita son:\n",
    "\n",
    "* Recuperación de todos los datos de un remonte determinado o complejo general, dinámico y estático, facilitada por una tabla llamada SkiLifts.\n",
    "\n",
    "* Recuperación de todos los datos dinámicos (incluidos los transportes únicos, la cobertura de nieve, el peligro de avalancha y el estado del ascensor) para un telesilla o el centro vacacional en una fecha específica, facilitada por una tabla llamada SkiLifts.\n",
    "\n",
    "* Recuperación de todos los datos estáticos (incluyendo si el transporte es solo para experimentados, pies verticales que el transporte se eleva y tiempo de conducción en el transporte) para un telesilla específico, facilitado por una mesa llamada SkiLifts.\n",
    "\n",
    "* Recuperación de la fecha de los datos registrados para un remonte específico o el complejo general ordenado por usuarios individuales totales, facilitada por el índice secundario global de la tabla SkiLifts llamado SkiLiftsByRiderss."
   ]
  },
  {
   "cell_type": "code",
   "execution_count": 2,
   "metadata": {},
   "outputs": [],
   "source": [
    "import pandas as pd\n",
    "from spdynamodb import DynamoTable\n",
    "import json\n",
    "from decimal import Decimal\n",
    "from time import sleep"
   ]
  },
  {
   "cell_type": "code",
   "execution_count": 3,
   "metadata": {},
   "outputs": [
    {
     "name": "stdout",
     "output_type": "stream",
     "text": [
      "Table created successfully!\n"
     ]
    }
   ],
   "source": [
    "dt = DynamoTable()\n",
    "try:\n",
    "    dt.select_table('SkiLifts')\n",
    "    print(dt)\n",
    "except:\n",
    "    dt.create_table(\n",
    "        table_name='SkiLifts',\n",
    "        partition_key='Lift',\n",
    "        partition_key_type='S',\n",
    "        sort_key=\"Metadata\",\n",
    "        sort_key_type=\"S\"\n",
    ")"
   ]
  },
  {
   "cell_type": "code",
   "execution_count": 4,
   "metadata": {},
   "outputs": [],
   "source": [
    "dt.load_json(\"ski.json\")"
   ]
  },
  {
   "cell_type": "code",
   "execution_count": 5,
   "metadata": {},
   "outputs": [
    {
     "data": {
      "text/plain": [
       "'PROVISIONED'"
      ]
     },
     "execution_count": 5,
     "metadata": {},
     "output_type": "execute_result"
    }
   ],
   "source": [
    "dt.bill_mode"
   ]
  },
  {
   "cell_type": "code",
   "execution_count": 6,
   "metadata": {},
   "outputs": [],
   "source": [
    "dt.create_global_secondary_index(\n",
    "    att_name=\"Lift\",\n",
    "    att_type=\"S\",\n",
    "    sort_index=\"TotalUniqueLiftRiders\",\n",
    "    sort_type=\"S\",\n",
    "    i_name=\"SkiLiftsByRiders\",\n",
    "    proj_type=[\"Attributes\"]\n",
    ")"
   ]
  },
  {
   "cell_type": "code",
   "execution_count": 7,
   "metadata": {},
   "outputs": [
    {
     "name": "stdout",
     "output_type": "stream",
     "text": [
      "Global secondary index created.\n"
     ]
    }
   ],
   "source": [
    "status = dt.check_status_gsi()\n",
    "while status == 'CREATING':\n",
    "    status = dt.check_status_gsi()\n",
    "    sleep(30)\n",
    "print(\"Global secondary index created.\")"
   ]
  },
  {
   "cell_type": "code",
   "execution_count": 27,
   "metadata": {},
   "outputs": [
    {
     "data": {
      "text/plain": [
       "['SkiLiftsByRiders']"
      ]
     },
     "execution_count": 27,
     "metadata": {},
     "output_type": "execute_result"
    }
   ],
   "source": [
    "dt.list_gsi"
   ]
  },
  {
   "cell_type": "code",
   "execution_count": 5,
   "metadata": {},
   "outputs": [
    {
     "data": {
      "text/html": [
       "<div>\n",
       "<style scoped>\n",
       "    .dataframe tbody tr th:only-of-type {\n",
       "        vertical-align: middle;\n",
       "    }\n",
       "\n",
       "    .dataframe tbody tr th {\n",
       "        vertical-align: top;\n",
       "    }\n",
       "\n",
       "    .dataframe thead th {\n",
       "        text-align: right;\n",
       "    }\n",
       "</style>\n",
       "<table border=\"1\" class=\"dataframe\">\n",
       "  <thead>\n",
       "    <tr style=\"text-align: right;\">\n",
       "      <th></th>\n",
       "      <th>VerticalFeet</th>\n",
       "      <th>Metadata</th>\n",
       "      <th>LiftTime</th>\n",
       "      <th>ExperiencedRidersOnly</th>\n",
       "      <th>Lift</th>\n",
       "    </tr>\n",
       "  </thead>\n",
       "  <tbody>\n",
       "    <tr>\n",
       "      <th>0</th>\n",
       "      <td>900</td>\n",
       "      <td>Static Data</td>\n",
       "      <td>5:45</td>\n",
       "      <td>True</td>\n",
       "      <td>Lift 23</td>\n",
       "    </tr>\n",
       "    <tr>\n",
       "      <th>1</th>\n",
       "      <td>1300</td>\n",
       "      <td>Static Data</td>\n",
       "      <td>7:30</td>\n",
       "      <td>False</td>\n",
       "      <td>Lift 3</td>\n",
       "    </tr>\n",
       "    <tr>\n",
       "      <th>2</th>\n",
       "      <td>1500</td>\n",
       "      <td>Static Data</td>\n",
       "      <td>9:00</td>\n",
       "      <td>False</td>\n",
       "      <td>Lift 16</td>\n",
       "    </tr>\n",
       "  </tbody>\n",
       "</table>\n",
       "</div>"
      ],
      "text/plain": [
       "  VerticalFeet     Metadata LiftTime  ExperiencedRidersOnly     Lift\n",
       "0          900  Static Data     5:45                   True  Lift 23\n",
       "1         1300  Static Data     7:30                  False   Lift 3\n",
       "2         1500  Static Data     9:00                  False  Lift 16"
      ]
     },
     "execution_count": 5,
     "metadata": {},
     "output_type": "execute_result"
    }
   ],
   "source": [
    "dt.query_partiql(\n",
    "    query=\"SELECT * FROM SkiLifts WHERE Metadata = ?\",\n",
    "    parameters=[\"Static Data\"],\n",
    ")"
   ]
  },
  {
   "cell_type": "code",
   "execution_count": 11,
   "metadata": {},
   "outputs": [
    {
     "data": {
      "text/html": [
       "<div>\n",
       "<style scoped>\n",
       "    .dataframe tbody tr th:only-of-type {\n",
       "        vertical-align: middle;\n",
       "    }\n",
       "\n",
       "    .dataframe tbody tr th {\n",
       "        vertical-align: top;\n",
       "    }\n",
       "\n",
       "    .dataframe thead th {\n",
       "        text-align: right;\n",
       "    }\n",
       "</style>\n",
       "<table border=\"1\" class=\"dataframe\">\n",
       "  <thead>\n",
       "    <tr style=\"text-align: right;\">\n",
       "      <th></th>\n",
       "      <th>LiftStatus</th>\n",
       "      <th>Metadata</th>\n",
       "      <th>Lift</th>\n",
       "    </tr>\n",
       "  </thead>\n",
       "  <tbody>\n",
       "    <tr>\n",
       "      <th>0</th>\n",
       "      <td>Closed</td>\n",
       "      <td>01/01/20</td>\n",
       "      <td>Lift 23</td>\n",
       "    </tr>\n",
       "    <tr>\n",
       "      <th>1</th>\n",
       "      <td>Open</td>\n",
       "      <td>02/01/20</td>\n",
       "      <td>Lift 23</td>\n",
       "    </tr>\n",
       "    <tr>\n",
       "      <th>2</th>\n",
       "      <td>Open</td>\n",
       "      <td>01/01/20</td>\n",
       "      <td>Lift 3</td>\n",
       "    </tr>\n",
       "    <tr>\n",
       "      <th>3</th>\n",
       "      <td>Open</td>\n",
       "      <td>02/01/20</td>\n",
       "      <td>Lift 3</td>\n",
       "    </tr>\n",
       "    <tr>\n",
       "      <th>4</th>\n",
       "      <td>NaN</td>\n",
       "      <td>01/01/20</td>\n",
       "      <td>Resort Data</td>\n",
       "    </tr>\n",
       "    <tr>\n",
       "      <th>5</th>\n",
       "      <td>NaN</td>\n",
       "      <td>02/01/20</td>\n",
       "      <td>Resort Data</td>\n",
       "    </tr>\n",
       "    <tr>\n",
       "      <th>6</th>\n",
       "      <td>Open</td>\n",
       "      <td>01/01/20</td>\n",
       "      <td>Lift 16</td>\n",
       "    </tr>\n",
       "    <tr>\n",
       "      <th>7</th>\n",
       "      <td>Open</td>\n",
       "      <td>02/01/20</td>\n",
       "      <td>Lift 16</td>\n",
       "    </tr>\n",
       "  </tbody>\n",
       "</table>\n",
       "</div>"
      ],
      "text/plain": [
       "  LiftStatus  Metadata         Lift\n",
       "0     Closed  01/01/20      Lift 23\n",
       "1       Open  02/01/20      Lift 23\n",
       "2       Open  01/01/20       Lift 3\n",
       "3       Open  02/01/20       Lift 3\n",
       "4        NaN  01/01/20  Resort Data\n",
       "5        NaN  02/01/20  Resort Data\n",
       "6       Open  01/01/20      Lift 16\n",
       "7       Open  02/01/20      Lift 16"
      ]
     },
     "execution_count": 11,
     "metadata": {},
     "output_type": "execute_result"
    }
   ],
   "source": [
    "dt.query_partiql(\n",
    "    query=\"SELECT Lift, LiftStatus, Metadata FROM SkiLifts WHERE Metadata <= ?\",\n",
    "    parameters=[\"02/01/20\"]\n",
    ")"
   ]
  }
 ],
 "metadata": {
  "kernelspec": {
   "display_name": "base",
   "language": "python",
   "name": "python3"
  },
  "language_info": {
   "codemirror_mode": {
    "name": "ipython",
    "version": 3
   },
   "file_extension": ".py",
   "mimetype": "text/x-python",
   "name": "python",
   "nbconvert_exporter": "python",
   "pygments_lexer": "ipython3",
   "version": "3.9.12"
  },
  "orig_nbformat": 4
 },
 "nbformat": 4,
 "nbformat_minor": 2
}
