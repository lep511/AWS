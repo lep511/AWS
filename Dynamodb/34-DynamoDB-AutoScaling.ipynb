{
 "cells": [
  {
   "cell_type": "markdown",
   "metadata": {},
   "source": [
    "## Auto Scaling en DynamoDB\n",
    "\n",
    "Muchas cargas de trabajo de base de datos son de naturaleza cíclica, mientras que otras son difíciles de predecir con antelación. Por ejemplo, tomemos una aplicación de redes sociales en la que la mayoría de los usuarios están activos en el horario diurno. La base de datos debe satisfacer los requisitos de la actividad diurna, pero no se requieren los mismos niveles de rendimiento por la noche. Otro ejemplo: tomemos una nueva aplicación de juegos para móviles cuya adopción está siendo inesperadamente rápida. Si el juego adquiere demasiada popularidad, podría superar los recursos disponibles en la base de datos, lo que daría lugar a un rendimiento lento y a clientes descontentos. Estos tipos de cargas de trabajo suelen requerir intervención manual para escalar los recursos de la base de datos en sentido ascendente o descendente en respuesta a las variaciones en los niveles de uso.\n",
    "\n",
    "El escalado automático de Amazon DynamoDB usa el servicio Auto Scaling de aplicaciones de AWS para ajustar de manera dinámica y automática la capacidad de rendimiento aprovisionada en respuesta a los patrones de tráfico reales. Esto permite a una tabla o índice secundario global (GSI) incrementar su capacidad de lectura y escritura aprovisionada para abastecer incrementos repentinos del tráfico sin limitaciones. Cuando la carga de trabajo disminuye, el Auto Scaling de aplicaciones puede reducir el rendimiento para evitar que tenga que pagar por una capacidad aprovisionada que no se utiliza."
   ]
  },
  {
   "cell_type": "code",
   "execution_count": 1,
   "metadata": {},
   "outputs": [],
   "source": [
    "import boto3\n",
    "from botocore.exceptions import ClientError\n",
    "import pandas as pd\n",
    "import base64\n",
    "from spdynamodb import DynamoTable\n",
    "from datetime import datetime\n",
    "import json\n",
    "dt=DynamoTable()"
   ]
  },
  {
   "cell_type": "code",
   "execution_count": 2,
   "metadata": {},
   "outputs": [
    {
     "name": "stdout",
     "output_type": "stream",
     "text": [
      "Table created successfully!\n"
     ]
    }
   ],
   "source": [
    "dt=DynamoTable()\n",
    "try:\n",
    "    dt.select_table('TestTable')\n",
    "    print(dt)\n",
    "except:\n",
    "    dt.create_table(\n",
    "        table_name='TestTable',\n",
    "        partition_key='PK',\n",
    "        partition_key_type='S',\n",
    "        sort_key='SK',\n",
    "        sort_key_type='S',\n",
    "        provisioned=True,\n",
    "        read_capacity=5,\n",
    "        write_capacity=5\n",
    "    )"
   ]
  },
  {
   "cell_type": "markdown",
   "metadata": {},
   "source": [
    "El escalado automático de Amazon DynamoDB utiliza el servicio AWS Application Auto Scaling para ajustar dinámicamente la capacidad de desempeño provisionada en su nombre, en respuesta a los patrones de tráfico reales. Esto permite que una tabla o un índice secundario global aumente su capacidad de lectura y escritura provisionada para gestionar aumentos repentinos del tráfico, sin estrangulamiento. Cuando la carga de trabajo disminuye, Application Auto Scaling reduce el rendimiento para que no tenga que pagar por la capacidad provisionada no utilizada.\n",
    "\n",
    "Con Application Auto Scaling, se crea una política de escalado para una tabla o un índice secundario global. La política de escalado especifica si desea escalar la capacidad de lectura o la capacidad de escritura (o ambas), así como la configuración mínima y máxima de la unidad de capacidad provisionada para la tabla o el índice. La política de escalado también contiene un objetivo de utilización, es decir, el porcentaje de rendimiento provisionado consumido en un momento dado. El escalado automático de aplicaciones utiliza un algoritmo de seguimiento de objetivos para ajustar el rendimiento provisionado de la tabla (o índice) al alza o a la baja en respuesta a las cargas de trabajo reales, de modo que la utilización real de la capacidad se mantenga en o cerca de su utilización objetivo. Puede establecer los valores de utilización objetivo de autoescalado entre el 20 y el 90 por ciento de su capacidad de lectura y escritura."
   ]
  },
  {
   "cell_type": "markdown",
   "metadata": {},
   "source": [
    "### Registrar un objetivo escalable\n",
    "\n",
    "Ahora, vamos a registrar la capacidad de escritura de la tabla como objetivo escalable con Auto Scaling de aplicaciones. Esto permite que Auto Scaling de aplicaciones ajuste la capacidad de escritura aprovisionada para TestTable, pero solo dentro del rango de entre 5 y 10 unidades de capacidad.\n",
    "\n",
    "**NOTA:** La función Auto Scaling de DynamoDB requiere la presencia de un rol *AWSServiceRoleForApplicationAutoScaling_DynamoDBTable* que lleve a cabo las acciones de escalado automático en su nombre. Este rol se crea automáticamente para usted."
   ]
  },
  {
   "cell_type": "code",
   "execution_count": 8,
   "metadata": {},
   "outputs": [],
   "source": [
    "client = boto3.client('application-autoscaling')"
   ]
  },
  {
   "cell_type": "code",
   "execution_count": 9,
   "metadata": {},
   "outputs": [],
   "source": [
    "service_namespace = \"dynamodb\"\n",
    "resource_id = \"table/TestTable\"\n",
    "scalable_dimension = \"dynamodb:table:WriteCapacityUnits\"\n",
    "min_capacity = 5\n",
    "max_capacity = 10"
   ]
  },
  {
   "cell_type": "code",
   "execution_count": 10,
   "metadata": {},
   "outputs": [
    {
     "name": "stdout",
     "output_type": "stream",
     "text": [
      "{'ScalableTargetARN': 'arn:aws:application-autoscaling:us-east-1:010928219351:scalable-target/0d261df2de8558ed44809f9ba7e892bc09c8', 'ResponseMetadata': {'RequestId': '58bd46e4-c44c-4d13-b5b9-5376fdffc9b9', 'HTTPStatusCode': 200, 'HTTPHeaders': {'x-amzn-requestid': '58bd46e4-c44c-4d13-b5b9-5376fdffc9b9', 'content-type': 'application/x-amz-json-1.1', 'content-length': '131', 'date': 'Sun, 04 Aug 2024 17:58:10 GMT'}, 'RetryAttempts': 0}}\n"
     ]
    }
   ],
   "source": [
    "try:\n",
    "    response = client.register_scalable_target(\n",
    "        ServiceNamespace=service_namespace,\n",
    "        ResourceId=resource_id,\n",
    "        ScalableDimension=scalable_dimension,\n",
    "        MinCapacity=min_capacity,\n",
    "        MaxCapacity=max_capacity\n",
    "    )\n",
    "except Exception as e:\n",
    "    print(f\"Error registering scalable target: {e}\")\n",
    "    response = None"
   ]
  },
  {
   "cell_type": "code",
   "execution_count": null,
   "metadata": {},
   "outputs": [],
   "source": [
    "response"
   ]
  },
  {
   "cell_type": "markdown",
   "metadata": {},
   "source": [
    "También puede registrar un destino escalable en un índice secundario global. Por ejemplo, para un índice secundario global (“test-index”), el ID de recurso y los argumentos de dimensión escalable se actualizan adecuadamente."
   ]
  },
  {
   "cell_type": "code",
   "execution_count": null,
   "metadata": {},
   "outputs": [],
   "source": [
    "resource_id = \"table/TestTable/index/test-index\"\n",
    "scalable_dimension = \"dynamodb:index:WriteCapacityUnits\""
   ]
  },
  {
   "cell_type": "markdown",
   "metadata": {},
   "source": [
    "### Crear una política de escalado\n",
    "\n",
    "En este paso, se crea una política de escalado para TestTable. La política define los detalles según los cuales Auto Scaling de aplicaciones puede ajustar el rendimiento aprovisionado de la tabla y las acciones llevará a cabo para ello. Puede asociar esta política al objetivo escalable definido en el paso anterior (unidades de capacidad de escritura para la tabla TestTable).\n",
    "\n",
    "La política contiene los componentes siguientes:\n",
    "\n",
    "* **PredefinedMetricSpecification**: métrica que puede ajustar Auto Scaling de aplicaciones. Para DynamoDB, los siguientes valores son válidos para PredefinedMetricType:\n",
    "\n",
    "    * DynamoDBReadCapacityUtilization\n",
    "\n",
    "    * DynamoDBWriteCapacityUtilization\n",
    "\n",
    "* **ScaleOutCooldown**: cantidad mínima de tiempo (en segundos) entre cada evento de Auto Scaling de aplicaciones que aumenta el rendimiento aprovisionado. Este parámetro permite que Auto Scaling de aplicaciones aumente de forma continua, pero no drástica, el rendimiento en respuesta a las cargas de trabajo reales. El ajuste predeterminado de ScaleOutCooldown es 0.\n",
    "\n",
    "* **ScaleInCooldown**: cantidad mínima de tiempo (en segundos) entre cada evento de Auto Scaling de aplicaciones que reduce el rendimiento aprovisionado. Este parámetro permite que Auto Scaling de aplicaciones disminuya el rendimiento de manera gradual y predecible. El ajuste predeterminado de ScaleInCooldown es 0.\n",
    "\n",
    "* **TargetValue**: Auto Scaling de aplicaciones se asegura de que la proporción entre capacidad consumida y capacidad aprovisionada se mantenga en este valor o en un valor próximo. TargetValue se define como un porcentaje.\n",
    "\n",
    "Para entender cómo funciona TargetValue, imagine que tiene una tabla con una configuración de rendimiento aprovisionado de 200 unidades de capacidad de escritura. Decide crear una política de escalado para esta tabla, con un valor de TargetValue del 70 %.\n",
    "\n",
    "Ahora, supongamos que comienza a dirigir el tráfico de escritura a la tabla, de tal forma que el rendimiento de escritura real es de 150 unidades de capacidad. La proporción entre capacidad consumida y aprovisionada es ahora de (150/200), es decir, del 75 %. Esta proporción supera su objetivo, de modo que Auto Scaling de aplicaciones aumenta la capacidad de escritura aprovisionada a 215 para que la proporción sea de (150/215), es decir, del 69,77 %; de esta forma se mantiene lo más próxima posible al valor de TargetValue, pero sin superarlo."
   ]
  },
  {
   "cell_type": "code",
   "execution_count": 14,
   "metadata": {},
   "outputs": [],
   "source": [
    "policy_config = {\n",
    "    \"PredefinedMetricSpecification\": {\n",
    "        \"PredefinedMetricType\": \"DynamoDBWriteCapacityUtilization\"\n",
    "    },\n",
    "    \"ScaleOutCooldown\": 60,\n",
    "    \"ScaleInCooldown\": 60,\n",
    "    \"TargetValue\": 50.0\n",
    "}\n",
    "policy_name = \"MyScalingPolicy\"\n",
    "policy_type = \"TargetTrackingScaling\" "
   ]
  },
  {
   "cell_type": "code",
   "execution_count": 15,
   "metadata": {},
   "outputs": [
    {
     "name": "stdout",
     "output_type": "stream",
     "text": [
      "{'PolicyARN': 'arn:aws:autoscaling:us-east-1:010928219351:scalingPolicy:1df2de85-58ed-4480-9f9b-a7e892bc09c8:resource/dynamodb/table/TestTable:policyName/MyScalingPolicy', 'Alarms': [{'AlarmName': 'TargetTracking-table/TestTable-AlarmHigh-99edb256-d32c-4c9e-8824-e95144bb70eb', 'AlarmARN': 'arn:aws:cloudwatch:us-east-1:010928219351:alarm:TargetTracking-table/TestTable-AlarmHigh-99edb256-d32c-4c9e-8824-e95144bb70eb'}, {'AlarmName': 'TargetTracking-table/TestTable-AlarmLow-d91052c3-52a0-4ecd-8d8a-c8858a54b51c', 'AlarmARN': 'arn:aws:cloudwatch:us-east-1:010928219351:alarm:TargetTracking-table/TestTable-AlarmLow-d91052c3-52a0-4ecd-8d8a-c8858a54b51c'}, {'AlarmName': 'TargetTracking-table/TestTable-ProvisionedCapacityHigh-38bd3347-e7c8-4ffb-aa76-6a18100607b9', 'AlarmARN': 'arn:aws:cloudwatch:us-east-1:010928219351:alarm:TargetTracking-table/TestTable-ProvisionedCapacityHigh-38bd3347-e7c8-4ffb-aa76-6a18100607b9'}, {'AlarmName': 'TargetTracking-table/TestTable-ProvisionedCapacityLow-ef938261-f3ce-48ae-a9e0-3218d09ad340', 'AlarmARN': 'arn:aws:cloudwatch:us-east-1:010928219351:alarm:TargetTracking-table/TestTable-ProvisionedCapacityLow-ef938261-f3ce-48ae-a9e0-3218d09ad340'}], 'ResponseMetadata': {'RequestId': '4403521d-ecb0-4a56-a22c-0ccecc42123a', 'HTTPStatusCode': 200, 'HTTPHeaders': {'x-amzn-requestid': '4403521d-ecb0-4a56-a22c-0ccecc42123a', 'content-type': 'application/x-amz-json-1.1', 'content-length': '1165', 'date': 'Sun, 04 Aug 2024 18:02:42 GMT'}, 'RetryAttempts': 0}}\n"
     ]
    }
   ],
   "source": [
    "try:\n",
    "    response = client.put_scaling_policy(\n",
    "        ServiceNamespace=service_namespace,\n",
    "        ResourceId=resource_id,\n",
    "        ScalableDimension=scalable_dimension,\n",
    "        PolicyName=policy_name,\n",
    "        PolicyType=policy_type,\n",
    "        TargetTrackingScalingPolicyConfiguration=policy_config\n",
    "    )\n",
    "except Exception as e:\n",
    "    print(f\"Error putting scaling policy: {e}\")\n",
    "    response = None"
   ]
  },
  {
   "cell_type": "code",
   "execution_count": 16,
   "metadata": {},
   "outputs": [
    {
     "data": {
      "text/plain": [
       "{'PolicyARN': 'arn:aws:autoscaling:us-east-1:010928219351:scalingPolicy:1df2de85-58ed-4480-9f9b-a7e892bc09c8:resource/dynamodb/table/TestTable:policyName/MyScalingPolicy',\n",
       " 'Alarms': [{'AlarmName': 'TargetTracking-table/TestTable-AlarmHigh-99edb256-d32c-4c9e-8824-e95144bb70eb',\n",
       "   'AlarmARN': 'arn:aws:cloudwatch:us-east-1:010928219351:alarm:TargetTracking-table/TestTable-AlarmHigh-99edb256-d32c-4c9e-8824-e95144bb70eb'},\n",
       "  {'AlarmName': 'TargetTracking-table/TestTable-AlarmLow-d91052c3-52a0-4ecd-8d8a-c8858a54b51c',\n",
       "   'AlarmARN': 'arn:aws:cloudwatch:us-east-1:010928219351:alarm:TargetTracking-table/TestTable-AlarmLow-d91052c3-52a0-4ecd-8d8a-c8858a54b51c'},\n",
       "  {'AlarmName': 'TargetTracking-table/TestTable-ProvisionedCapacityHigh-38bd3347-e7c8-4ffb-aa76-6a18100607b9',\n",
       "   'AlarmARN': 'arn:aws:cloudwatch:us-east-1:010928219351:alarm:TargetTracking-table/TestTable-ProvisionedCapacityHigh-38bd3347-e7c8-4ffb-aa76-6a18100607b9'},\n",
       "  {'AlarmName': 'TargetTracking-table/TestTable-ProvisionedCapacityLow-ef938261-f3ce-48ae-a9e0-3218d09ad340',\n",
       "   'AlarmARN': 'arn:aws:cloudwatch:us-east-1:010928219351:alarm:TargetTracking-table/TestTable-ProvisionedCapacityLow-ef938261-f3ce-48ae-a9e0-3218d09ad340'}],\n",
       " 'ResponseMetadata': {'RequestId': '4403521d-ecb0-4a56-a22c-0ccecc42123a',\n",
       "  'HTTPStatusCode': 200,\n",
       "  'HTTPHeaders': {'x-amzn-requestid': '4403521d-ecb0-4a56-a22c-0ccecc42123a',\n",
       "   'content-type': 'application/x-amz-json-1.1',\n",
       "   'content-length': '1165',\n",
       "   'date': 'Sun, 04 Aug 2024 18:02:42 GMT'},\n",
       "  'RetryAttempts': 0}}"
      ]
     },
     "execution_count": 16,
     "metadata": {},
     "output_type": "execute_result"
    }
   ],
   "source": [
    "response"
   ]
  },
  {
   "cell_type": "markdown",
   "metadata": {},
   "source": [
    "En el resultado, observe que Auto Scaling de aplicaciones ha creado dos alarmas de Amazon CloudWatch, una para cada límite (superior e inferior) del rango de escalado objetivo."
   ]
  },
  {
   "cell_type": "code",
   "execution_count": 21,
   "metadata": {},
   "outputs": [
    {
     "data": {
      "text/plain": [
       "{'ScalingPolicies': [{'PolicyARN': 'arn:aws:autoscaling:us-east-1:010928219351:scalingPolicy:1df2de85-58ed-4480-9f9b-a7e892bc09c8:resource/dynamodb/table/TestTable:policyName/MyScalingPolicy',\n",
       "   'PolicyName': 'MyScalingPolicy',\n",
       "   'ServiceNamespace': 'dynamodb',\n",
       "   'ResourceId': 'table/TestTable',\n",
       "   'ScalableDimension': 'dynamodb:table:WriteCapacityUnits',\n",
       "   'PolicyType': 'TargetTrackingScaling',\n",
       "   'TargetTrackingScalingPolicyConfiguration': {'TargetValue': 50.0,\n",
       "    'PredefinedMetricSpecification': {'PredefinedMetricType': 'DynamoDBWriteCapacityUtilization'},\n",
       "    'ScaleOutCooldown': 60,\n",
       "    'ScaleInCooldown': 60},\n",
       "   'Alarms': [{'AlarmName': 'TargetTracking-table/TestTable-AlarmHigh-99edb256-d32c-4c9e-8824-e95144bb70eb',\n",
       "     'AlarmARN': 'arn:aws:cloudwatch:us-east-1:010928219351:alarm:TargetTracking-table/TestTable-AlarmHigh-99edb256-d32c-4c9e-8824-e95144bb70eb'},\n",
       "    {'AlarmName': 'TargetTracking-table/TestTable-AlarmLow-d91052c3-52a0-4ecd-8d8a-c8858a54b51c',\n",
       "     'AlarmARN': 'arn:aws:cloudwatch:us-east-1:010928219351:alarm:TargetTracking-table/TestTable-AlarmLow-d91052c3-52a0-4ecd-8d8a-c8858a54b51c'},\n",
       "    {'AlarmName': 'TargetTracking-table/TestTable-ProvisionedCapacityHigh-38bd3347-e7c8-4ffb-aa76-6a18100607b9',\n",
       "     'AlarmARN': 'arn:aws:cloudwatch:us-east-1:010928219351:alarm:TargetTracking-table/TestTable-ProvisionedCapacityHigh-38bd3347-e7c8-4ffb-aa76-6a18100607b9'},\n",
       "    {'AlarmName': 'TargetTracking-table/TestTable-ProvisionedCapacityLow-ef938261-f3ce-48ae-a9e0-3218d09ad340',\n",
       "     'AlarmARN': 'arn:aws:cloudwatch:us-east-1:010928219351:alarm:TargetTracking-table/TestTable-ProvisionedCapacityLow-ef938261-f3ce-48ae-a9e0-3218d09ad340'}],\n",
       "   'CreationTime': datetime.datetime(2024, 8, 4, 15, 2, 42, 960000, tzinfo=tzlocal())}],\n",
       " 'ResponseMetadata': {'RequestId': '2fd3e4d5-6255-4a30-a67f-281f05d27519',\n",
       "  'HTTPStatusCode': 200,\n",
       "  'HTTPHeaders': {'x-amzn-requestid': '2fd3e4d5-6255-4a30-a67f-281f05d27519',\n",
       "   'content-type': 'application/x-amz-json-1.1',\n",
       "   'content-length': '1602',\n",
       "   'date': 'Sun, 04 Aug 2024 18:07:15 GMT'},\n",
       "  'RetryAttempts': 0}}"
      ]
     },
     "execution_count": 21,
     "metadata": {},
     "output_type": "execute_result"
    }
   ],
   "source": [
    "client.describe_scaling_policies(\n",
    "    ServiceNamespace=service_namespace,\n",
    "    ResourceId=resource_id\n",
    ")"
   ]
  },
  {
   "cell_type": "markdown",
   "metadata": {},
   "source": [
    "### Dirigir tráfico de escritura a TestTable\n",
    "\n",
    "Ahora puede probar la política de escalado escribiendo datos en TestTable."
   ]
  },
  {
   "cell_type": "code",
   "execution_count": 33,
   "metadata": {},
   "outputs": [],
   "source": [
    "dynamodb = boto3.resource('dynamodb')\n",
    "table = dynamodb.Table(\"TestTable\")\n",
    "filler = \"x\" * 100000"
   ]
  },
  {
   "cell_type": "code",
   "execution_count": null,
   "metadata": {},
   "outputs": [],
   "source": [
    "i = 0\n",
    "while (i < 10):\n",
    "    j = 0\n",
    "    while (j < 10):\n",
    "        \n",
    "        table.put_item(\n",
    "            Item={\n",
    "                'PK':str(i),\n",
    "                'SK':str(j),\n",
    "                'filler':{\"S\":filler}\n",
    "            }\n",
    "        )\n",
    "        j += 1\n",
    "    i += 1\n",
    "    print (i, j)"
   ]
  },
  {
   "cell_type": "code",
   "execution_count": 25,
   "metadata": {},
   "outputs": [
    {
     "data": {
      "text/plain": [
       "{'ScalingActivities': [{'ActivityId': '6176ced7-45bd-4f2a-8382-f79d3cee429e',\n",
       "   'ServiceNamespace': 'dynamodb',\n",
       "   'ResourceId': 'table/TestTable',\n",
       "   'ScalableDimension': 'dynamodb:table:WriteCapacityUnits',\n",
       "   'Description': 'Setting write capacity units to 10.',\n",
       "   'Cause': 'monitor alarm TargetTracking-table/TestTable-AlarmHigh-99edb256-d32c-4c9e-8824-e95144bb70eb in state ALARM triggered policy MyScalingPolicy',\n",
       "   'StartTime': datetime.datetime(2024, 8, 4, 15, 14, 38, 930000, tzinfo=tzlocal()),\n",
       "   'EndTime': datetime.datetime(2024, 8, 4, 15, 15, 15, 214000, tzinfo=tzlocal()),\n",
       "   'StatusCode': 'Successful',\n",
       "   'StatusMessage': 'Successfully set write capacity units to 10. Change successfully fulfilled by dynamodb.'}],\n",
       " 'ResponseMetadata': {'RequestId': '9c0d2a02-8ef8-479d-8300-04f9d8da3b1f',\n",
       "  'HTTPStatusCode': 200,\n",
       "  'HTTPHeaders': {'x-amzn-requestid': '9c0d2a02-8ef8-479d-8300-04f9d8da3b1f',\n",
       "   'content-type': 'application/x-amz-json-1.1',\n",
       "   'content-length': '583',\n",
       "   'date': 'Sun, 04 Aug 2024 18:21:48 GMT'},\n",
       "  'RetryAttempts': 0}}"
      ]
     },
     "execution_count": 25,
     "metadata": {},
     "output_type": "execute_result"
    }
   ],
   "source": [
    "client.describe_scaling_activities(\n",
    "    ServiceNamespace=service_namespace,\n",
    "    ResourceId=resource_id\n",
    ")"
   ]
  },
  {
   "cell_type": "markdown",
   "metadata": {},
   "source": [
    "Esto indica que la aplicación de Auto Scaling ha emitido una solicitud UpdateTable a DynamoDB."
   ]
  },
  {
   "cell_type": "code",
   "execution_count": 31,
   "metadata": {},
   "outputs": [
    {
     "data": {
      "text/plain": [
       "{'LastIncreaseDateTime': datetime.datetime(2024, 8, 4, 15, 14, 40, 461000, tzinfo=tzlocal()),\n",
       " 'NumberOfDecreasesToday': 0,\n",
       " 'ReadCapacityUnits': 5,\n",
       " 'WriteCapacityUnits': 10}"
      ]
     },
     "execution_count": 31,
     "metadata": {},
     "output_type": "execute_result"
    }
   ],
   "source": [
    "table_data = dt.table.meta.client.describe_table(TableName=dt.table_name)\n",
    "table_data['Table']['ProvisionedThroughput']"
   ]
  },
  {
   "cell_type": "markdown",
   "metadata": {},
   "source": [
    "WriteCapacityUnits se ha escalado de 5 a 10."
   ]
  }
 ],
 "metadata": {
  "kernelspec": {
   "display_name": "myenv",
   "language": "python",
   "name": "python3"
  },
  "language_info": {
   "codemirror_mode": {
    "name": "ipython",
    "version": 3
   },
   "file_extension": ".py",
   "mimetype": "text/x-python",
   "name": "python",
   "nbconvert_exporter": "python",
   "pygments_lexer": "ipython3",
   "version": "3.12.2"
  }
 },
 "nbformat": 4,
 "nbformat_minor": 2
}
