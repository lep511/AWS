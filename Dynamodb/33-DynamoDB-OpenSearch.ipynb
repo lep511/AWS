{
 "cells": [
  {
   "cell_type": "code",
   "execution_count": 1,
   "metadata": {},
   "outputs": [],
   "source": [
    "import boto3\n",
    "from botocore.exceptions import ClientError\n",
    "import pandas as pd\n",
    "import base64\n",
    "from spdynamodb import DynamoTable\n",
    "from datetime import datetime\n",
    "import json"
   ]
  },
  {
   "cell_type": "code",
   "execution_count": 2,
   "metadata": {},
   "outputs": [
    {
     "name": "stdout",
     "output_type": "stream",
     "text": [
      "- Table name: FooBarTable            \n",
      "- Table arn: arn:aws:dynamodb:us-east-1:637423169504:table/FooBarTable            \n",
      "- Table creation: 2024-07-21 10:38:11            \n",
      "- [{'AttributeName': 'PK', 'KeyType': 'HASH'}, {'AttributeName': 'SK', 'KeyType': 'RANGE'}]            \n",
      "- [{'AttributeName': 'PK', 'AttributeType': 'S'}, {'AttributeName': 'SK', 'AttributeType': 'S'}]            \n",
      "- Point-in-time recovery status: DISABLED  |  Delete protection: False\n",
      "- Stream enabled: True  |  Stream view type: NEW_AND_OLD_IMAGES\n"
     ]
    }
   ],
   "source": [
    "dt=DynamoTable()\n",
    "try:\n",
    "    dt.select_table('FooBarTable')\n",
    "    print(dt)\n",
    "except:\n",
    "    dt.create_table(\n",
    "        table_name='FooBarTable',\n",
    "        partition_key='PK',\n",
    "        partition_key_type='S',\n",
    "        sort_key='SK',\n",
    "        sort_key_type='S',\n",
    "    )"
   ]
  },
  {
   "cell_type": "code",
   "execution_count": 3,
   "metadata": {},
   "outputs": [
    {
     "name": "stdout",
     "output_type": "stream",
     "text": [
      "DynamoDB streams are already NEW_AND_OLD_IMAGES.\n"
     ]
    }
   ],
   "source": [
    "dt.status_stream = 'ON'"
   ]
  },
  {
   "cell_type": "code",
   "execution_count": 4,
   "metadata": {},
   "outputs": [
    {
     "data": {
      "text/plain": [
       "'NEW_AND_OLD_IMAGES'"
      ]
     },
     "execution_count": 4,
     "metadata": {},
     "output_type": "execute_result"
    }
   ],
   "source": [
    "dt.status_stream"
   ]
  },
  {
   "cell_type": "markdown",
   "metadata": {},
   "source": [
    "#### Turn on point-in-time recovery (PITR)\n",
    "To create integrations, you must turn on point-in-time recovery for this table. Additional charges apply."
   ]
  },
  {
   "cell_type": "code",
   "execution_count": 9,
   "metadata": {},
   "outputs": [
    {
     "name": "stdout",
     "output_type": "stream",
     "text": [
      "Point-in-time recovery is already ENABLED.\n"
     ]
    }
   ],
   "source": [
    "dt.status_pitr = \"ENABLED\""
   ]
  },
  {
   "cell_type": "markdown",
   "metadata": {},
   "source": [
    "#### Configure zero-ETL Integration with OpenSearch\n",
    "To set up an integration between DynamoDB and OpenSearch Service, complete the following steps:\n",
    "\n",
    "1. On the DynamoDB console, choose Integrations in the navigation pane.\n",
    "2. Select the DynamoDB table you want to synchronize, then choose Create\n",
    "3. Provide a unique pipeline name and configure the pipeline capacity and compute resources to automatically scale your pipeline based on the current ingestion workload.\n",
    "4. Input the minimum and maximum Ingestion OpenSearch Compute Units (OCUs). In this example, we use the default pipeline capacity settings of minimum 2 Ingestion OCU and maximum 4 Ingestion OCUs.\n",
    "\n",
    "OCU is a basic unit of measure for data ingestion. Each OCU is a combination of approximately 8 GB of memory and 2 vCPUs. OpenSearch Ingestion supports up to 96 OCUs, and it automatically scales up and down based on your ingest workload demand. In general, a single OCU can handle around 1,000 write request units (WCU) on the DynamoDB table.\n",
    "\n",
    "The code in the Pipeline configuration section defaults to the DynamoDB blueprint. For single-table design sources, you can opt to use the Zero-ETL with DynamoDB single table template, which exports a single-table DynamoDB table by conditionally routing table partitions with different schemas to different OpenSearch indexes.\n",
    "\n",
    "The following image displays the Pipeline configuration, pre-configured with the DynamoDB template.\n",
    "\n",
    "<img src=\"https://d2908q01vomqb2.cloudfront.net/887309d048beef83ad3eabf2a79a64a389ab1c9f/2024/07/18/DBBLOG-4305-img4.png\" alt=\"drawing\" width=\"700\"/>"
   ]
  },
  {
   "cell_type": "code",
   "execution_count": null,
   "metadata": {},
   "outputs": [],
   "source": []
  }
 ],
 "metadata": {
  "kernelspec": {
   "display_name": "myenv",
   "language": "python",
   "name": "python3"
  },
  "language_info": {
   "codemirror_mode": {
    "name": "ipython",
    "version": 3
   },
   "file_extension": ".py",
   "mimetype": "text/x-python",
   "name": "python",
   "nbconvert_exporter": "python",
   "pygments_lexer": "ipython3",
   "version": "3.12.2"
  }
 },
 "nbformat": 4,
 "nbformat_minor": 2
}
