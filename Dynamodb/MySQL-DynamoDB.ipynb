{
 "cells": [
  {
   "cell_type": "code",
   "execution_count": 1,
   "metadata": {},
   "outputs": [],
   "source": [
    "import boto3\n",
    "import json\n",
    "import time\n",
    "\n",
    "region_aws = 'us-east-1'\n",
    "\n",
    "ec2 = boto3.resource('ec2', region_name=region_aws)\n",
    "ec2_client = boto3.client('ec2', region_name=region_aws)"
   ]
  },
  {
   "cell_type": "code",
   "execution_count": 3,
   "metadata": {},
   "outputs": [],
   "source": [
    "# create VPC\n",
    "vpc = ec2.create_vpc(CidrBlock='174.19.0.0/24')\n",
    "vpc.create_tags(Tags=[{\"Key\": \"Name\", \"Value\": \"MySQL-DynamoDB\"}])\n",
    "vpc.wait_until_available()"
   ]
  },
  {
   "cell_type": "code",
   "execution_count": 4,
   "metadata": {},
   "outputs": [
    {
     "data": {
      "text/plain": [
       "[ec2.Tag(resource_id='rtb-07713b7a8bc9f31cf', key='Name', value='AWSCookbookVPC-206-RT-2')]"
      ]
     },
     "execution_count": 4,
     "metadata": {},
     "output_type": "execute_result"
    }
   ],
   "source": [
    "# Crear routable\n",
    "routetable_1 = vpc.create_route_table()\n",
    "routetable_1.create_tags(Tags=[{\"Key\": \"Name\", \"Value\": \"MySQL-DynamoDB-RT\"}])"
   ]
  },
  {
   "cell_type": "code",
   "execution_count": 5,
   "metadata": {},
   "outputs": [
    {
     "data": {
      "text/plain": [
       "[ec2.Tag(resource_id='subnet-092ab1f7085360e1f', key='Name', value='AWSCookbook-206-SN-2')]"
      ]
     },
     "execution_count": 5,
     "metadata": {},
     "output_type": "execute_result"
    }
   ],
   "source": [
    "# Crear subredes:\n",
    "subnet_1 = ec2.create_subnet(\n",
    "    CidrBlock='174.19.0.0/24', \n",
    "    VpcId=vpc.id,\n",
    "    AvailabilityZone='us-east-1a'\n",
    ")\n",
    "\n",
    "subnet_1.create_tags(Tags=[{\"Key\": \"Name\", \"Value\": \"MySQL-DynamoDB-SN\"}])"
   ]
  },
  {
   "cell_type": "code",
   "execution_count": 6,
   "metadata": {},
   "outputs": [
    {
     "data": {
      "text/plain": [
       "ec2.RouteTableAssociation(id='rtbassoc-015446f4c4cce2616')"
      ]
     },
     "execution_count": 6,
     "metadata": {},
     "output_type": "execute_result"
    }
   ],
   "source": [
    "# Asociar la tabla de ruta con las subredes:\n",
    "routetable_1.associate_with_subnet(SubnetId = subnet_1.id)"
   ]
  },
  {
   "cell_type": "code",
   "execution_count": 9,
   "metadata": {},
   "outputs": [],
   "source": [
    "# Crear grupo de seguridad\n",
    "security_group_1 = vpc.create_security_group(\n",
    "    GroupName='MySQL-DynamoDB-SG',\n",
    "    Description='Allow SSH access',\n",
    "    VpcId=vpc.id\n",
    ")"
   ]
  },
  {
   "cell_type": "code",
   "execution_count": 12,
   "metadata": {},
   "outputs": [],
   "source": [
    "iam = boto3.client('iam')\n",
    "ssm = boto3.client('ssm')"
   ]
  },
  {
   "cell_type": "code",
   "execution_count": 13,
   "metadata": {},
   "outputs": [],
   "source": [
    "# Create a role\n",
    "role_name = 'MySQL-DynamoDB-Role'\n",
    "policy_document = {\n",
    "  \"Version\": \"2012-10-17\",\n",
    "  \"Statement\": [\n",
    "  {\n",
    "    \"Effect\": \"Allow\",\n",
    "    \"Principal\": {\n",
    "      \"Service\": \"ec2.amazonaws.com\"\n",
    "    },\n",
    "    \"Action\": \"sts:AssumeRole\"\n",
    "  }\n",
    "  ]\n",
    "}\n",
    "\n",
    "ssm_role = iam.create_role(\n",
    "    RoleName=role_name,\n",
    "    AssumeRolePolicyDocument=json.dumps(policy_document)\n",
    ")"
   ]
  },
  {
   "cell_type": "code",
   "execution_count": 14,
   "metadata": {},
   "outputs": [
    {
     "data": {
      "text/plain": [
       "{'ResponseMetadata': {'RequestId': '554d79f1-3926-47de-8cc1-2122115a633a',\n",
       "  'HTTPStatusCode': 200,\n",
       "  'HTTPHeaders': {'x-amzn-requestid': '554d79f1-3926-47de-8cc1-2122115a633a',\n",
       "   'content-type': 'text/xml',\n",
       "   'content-length': '212',\n",
       "   'date': 'Wed, 05 Oct 2022 01:06:43 GMT'},\n",
       "  'RetryAttempts': 0}}"
      ]
     },
     "execution_count": 14,
     "metadata": {},
     "output_type": "execute_result"
    }
   ],
   "source": [
    "# Attach the policy to the role\n",
    "iam.attach_role_policy(\n",
    "    RoleName=role_name,\n",
    "    PolicyArn='arn:aws:iam::aws:policy/AmazonSSMManagedInstanceCore'\n",
    ")"
   ]
  },
  {
   "cell_type": "code",
   "execution_count": 16,
   "metadata": {},
   "outputs": [],
   "source": [
    "# Create an instance profile\n",
    "instance_profile_name = 'Cookbook-SSM-Profile-206'\n",
    "instance_profile = iam.create_instance_profile(\n",
    "    InstanceProfileName=instance_profile_name\n",
    ")"
   ]
  },
  {
   "cell_type": "code",
   "execution_count": 17,
   "metadata": {},
   "outputs": [
    {
     "data": {
      "text/plain": [
       "{'ResponseMetadata': {'RequestId': '9a7f4eee-ed2c-4a98-82b0-9be9f753dba4',\n",
       "  'HTTPStatusCode': 200,\n",
       "  'HTTPHeaders': {'x-amzn-requestid': '9a7f4eee-ed2c-4a98-82b0-9be9f753dba4',\n",
       "   'content-type': 'text/xml',\n",
       "   'content-length': '228',\n",
       "   'date': 'Wed, 05 Oct 2022 01:07:12 GMT'},\n",
       "  'RetryAttempts': 0}}"
      ]
     },
     "execution_count": 17,
     "metadata": {},
     "output_type": "execute_result"
    }
   ],
   "source": [
    "# Add the role that you created to the instance profile:\n",
    "iam.add_role_to_instance_profile(\n",
    "    InstanceProfileName=instance_profile_name,\n",
    "    RoleName=role_name\n",
    ")"
   ]
  },
  {
   "cell_type": "code",
   "execution_count": 18,
   "metadata": {},
   "outputs": [
    {
     "data": {
      "text/plain": [
       "{'ResponseMetadata': {'RequestId': '6624af0c-b26e-4f13-8aba-f519c51f684d',\n",
       "  'HTTPStatusCode': 200,\n",
       "  'HTTPHeaders': {'x-amzn-requestid': '6624af0c-b26e-4f13-8aba-f519c51f684d',\n",
       "   'cache-control': 'no-cache, no-store',\n",
       "   'strict-transport-security': 'max-age=31536000; includeSubDomains',\n",
       "   'content-type': 'text/xml;charset=UTF-8',\n",
       "   'content-length': '237',\n",
       "   'date': 'Wed, 05 Oct 2022 01:07:25 GMT',\n",
       "   'server': 'AmazonEC2'},\n",
       "  'RetryAttempts': 0}}"
      ]
     },
     "execution_count": 18,
     "metadata": {},
     "output_type": "execute_result"
    }
   ],
   "source": [
    "# Enable Dns in VPC\n",
    "vpc.modify_attribute(EnableDnsSupport={'Value': True})\n",
    "vpc.modify_attribute(EnableDnsHostnames={'Value': True})"
   ]
  },
  {
   "cell_type": "code",
   "execution_count": 70,
   "metadata": {},
   "outputs": [
    {
     "data": {
      "text/plain": [
       "{'Return': True,\n",
       " 'SecurityGroupRules': [{'SecurityGroupRuleId': 'sgr-06a04af61a4fe1b73',\n",
       "   'GroupId': 'sg-0534e7ec73b99a91d',\n",
       "   'GroupOwnerId': '329364475115',\n",
       "   'IsEgress': False,\n",
       "   'IpProtocol': 'tcp',\n",
       "   'FromPort': 443,\n",
       "   'ToPort': 443,\n",
       "   'CidrIpv4': '174.19.0.0/16',\n",
       "   'Description': 'Allow HTTPS access'}],\n",
       " 'ResponseMetadata': {'RequestId': '7c1c566b-64fd-4d71-a1db-f226f603c6e5',\n",
       "  'HTTPStatusCode': 200,\n",
       "  'HTTPHeaders': {'x-amzn-requestid': '7c1c566b-64fd-4d71-a1db-f226f603c6e5',\n",
       "   'cache-control': 'no-cache, no-store',\n",
       "   'strict-transport-security': 'max-age=31536000; includeSubDomains',\n",
       "   'content-type': 'text/xml;charset=UTF-8',\n",
       "   'content-length': '783',\n",
       "   'date': 'Wed, 05 Oct 2022 01:53:14 GMT',\n",
       "   'server': 'AmazonEC2'},\n",
       "  'RetryAttempts': 0}}"
      ]
     },
     "execution_count": 70,
     "metadata": {},
     "output_type": "execute_result"
    }
   ],
   "source": [
    "# Create security group enable HHTPS:\n",
    "security_group_https = vpc.create_security_group(\n",
    "    GroupName='AWSCookbook-206-SG-HTTPS',\n",
    "    Description='Allow HTTPS access',\n",
    "    VpcId=vpc.id,\n",
    ")\n",
    "\n",
    "response = ec2_client.authorize_security_group_ingress(\n",
    "    GroupId=security_group_https.id,\n",
    "    IpPermissions=[\n",
    "        {'FromPort': 443,\n",
    "            'IpProtocol': 'tcp',\n",
    "            'IpRanges': [\n",
    "                {\n",
    "                    'CidrIp': vpc.cidr_block,\n",
    "                    'Description': 'Allow HTTPS access'\n",
    "                }\n",
    "            ],\n",
    "            'ToPort': 443\n",
    "        }\n",
    "    ]\n",
    ")"
   ]
  },
  {
   "cell_type": "code",
   "execution_count": 71,
   "metadata": {},
   "outputs": [],
   "source": [
    "# Creates a VPC endpoint for SSM:\n",
    "vpc_endpoint_ssm = ec2_client.create_vpc_endpoint(\n",
    "    VpcId=vpc.id,\n",
    "    ServiceName='com.amazonaws.' + region_aws + '.ssm',\n",
    "    VpcEndpointType='Interface',\n",
    "    SubnetIds=[subnet_1.id, subnet_2.id],\n",
    "    PrivateDnsEnabled=True,\n",
    "    SecurityGroupIds=[security_group_https.id]\n",
    ")\n",
    "# Creates a VPC endpoint for EC2 messages:\n",
    "vpc_endpoint_ec2msg = ec2_client.create_vpc_endpoint(\n",
    "    VpcId=vpc.id,\n",
    "    ServiceName='com.amazonaws.' + region_aws + '.ec2messages',\n",
    "    VpcEndpointType='Interface',\n",
    "    SubnetIds=[subnet_1.id, subnet_2.id],\n",
    "    PrivateDnsEnabled=True,\n",
    "    SecurityGroupIds=[security_group_https.id]\n",
    ")\n",
    "# Creates a VPC endpoint for SSMMessages:\n",
    "vpc_endpoint_ssm = ec2_client.create_vpc_endpoint(\n",
    "    VpcId=vpc.id,\n",
    "    ServiceName='com.amazonaws.' + region_aws + '.ssmmessages',\n",
    "    VpcEndpointType='Interface',\n",
    "    SubnetIds=[subnet_1.id, subnet_2.id],\n",
    "    PrivateDnsEnabled=True,\n",
    "    SecurityGroupIds=[security_group_https.id]\n",
    ")"
   ]
  },
  {
   "cell_type": "code",
   "execution_count": 72,
   "metadata": {},
   "outputs": [],
   "source": [
    "def vpc_endpoint_status(vpc_endpoint_id):\n",
    "    vpc_endpoint = ec2_client.describe_vpc_endpoints(\n",
    "        VpcEndpointIds=[vpc_endpoint_id]\n",
    "    )\n",
    "    return vpc_endpoint['VpcEndpoints'][0]['State']"
   ]
  },
  {
   "cell_type": "code",
   "execution_count": 73,
   "metadata": {},
   "outputs": [
    {
     "name": "stdout",
     "output_type": "stream",
     "text": [
      "Waiting for VPC endpoints to be available...\n",
      "SSM endpoint is not available yet...\n",
      "SSM endpoint is not available yet...\n",
      "SSM endpoint is not available yet...\n",
      "SSM endpoint is not available yet...\n",
      "SSM endpoint is available\n"
     ]
    }
   ],
   "source": [
    "print('Waiting for VPC endpoints to be available...')\n",
    "while vpc_endpoint_status(vpc_endpoint_ssm['VpcEndpoint']['VpcEndpointId']) != 'available':\n",
    "    time.sleep(20)\n",
    "    print('SSM endpoint is not available yet...')   \n",
    "print('SSM endpoint is available')"
   ]
  },
  {
   "cell_type": "code",
   "execution_count": 22,
   "metadata": {},
   "outputs": [],
   "source": [
    "# Consulte en SSM el último ID de AMI de Amazon Linux 2 disponible en su región y guárdelo como variable de entorno:\n",
    "ssm_response = ssm.get_parameter(\n",
    "    Name='/aws/service/ami-amazon-linux-latest/amzn2-ami-hvm-x86_64-gp2'\n",
    ")"
   ]
  },
  {
   "cell_type": "code",
   "execution_count": 11,
   "metadata": {},
   "outputs": [],
   "source": [
    "# Create a key pair\n",
    "key_name = 'AWSCookbook-KeyPair-Instance-206'\n",
    "keypair = ec2.create_key_pair(KeyName=key_name)"
   ]
  },
  {
   "cell_type": "code",
   "execution_count": 25,
   "metadata": {},
   "outputs": [],
   "source": [
    "# Create a EC2 instance:\n",
    "instance_1 = ec2.create_instances(\n",
    "    ImageId=ssm_response['Parameter']['Value'],\n",
    "    MinCount=1,\n",
    "    MaxCount=1,\n",
    "    InstanceType='t2.micro',\n",
    "    KeyName=key_name,\n",
    "    SubnetId=subnet_1.id,\n",
    "    SecurityGroupIds=[security_group_1.id],\n",
    "    IamInstanceProfile={\n",
    "        'Name': instance_profile_name\n",
    "    },\n",
    "    TagSpecifications=[\n",
    "        {\n",
    "            'ResourceType': 'instance',\n",
    "            'Tags': [\n",
    "                {\n",
    "                    'Key': 'Name',\n",
    "                    'Value': 'Cookbook-SSM-Instance-1'\n",
    "                },\n",
    "            ]\n",
    "        },\n",
    "    ]\n",
    ")"
   ]
  },
  {
   "cell_type": "code",
   "execution_count": 76,
   "metadata": {},
   "outputs": [],
   "source": [
    "# Create another EC2 instance:\n",
    "instance_2 = ec2.create_instances(\n",
    "    ImageId=ssm_response['Parameter']['Value'],\n",
    "    MinCount=1,\n",
    "    MaxCount=1,\n",
    "    InstanceType='t2.micro',\n",
    "    KeyName=key_name,\n",
    "    SubnetId=subnet_2.id,\n",
    "    SecurityGroupIds=[security_group_2.id],\n",
    "    IamInstanceProfile={\n",
    "        'Name': instance_profile_name\n",
    "    },\n",
    "    TagSpecifications=[\n",
    "        {\n",
    "            'ResourceType': 'instance',\n",
    "            'Tags': [\n",
    "                {\n",
    "                    'Key': 'Name',\n",
    "                    'Value': 'Cookbook-SSM-Instance-2'\n",
    "                },\n",
    "            ]\n",
    "        },\n",
    "    ]\n",
    ")"
   ]
  },
  {
   "cell_type": "code",
   "execution_count": 33,
   "metadata": {},
   "outputs": [],
   "source": [
    "# Cree una ruta de acceso a la red especificando las dos instancias de EC2 que ha desplegado y el puerto TCP 22:\n",
    "response = ec2_client.create_network_insights_path(\n",
    "    Source = instance_1[0].id,\n",
    "    Destination = instance_2[0].id,\n",
    "    Protocol = 'TCP',\n",
    "    DestinationPort = 22\n",
    ")"
   ]
  },
  {
   "cell_type": "code",
   "execution_count": 37,
   "metadata": {},
   "outputs": [
    {
     "data": {
      "text/plain": [
       "'nip-0a8bdbefd91cbfa48'"
      ]
     },
     "execution_count": 37,
     "metadata": {},
     "output_type": "execute_result"
    }
   ],
   "source": [
    "insights_path_id = response['NetworkInsightsPath']['NetworkInsightsPathId']\n",
    "insights_path_id"
   ]
  },
  {
   "cell_type": "code",
   "execution_count": 38,
   "metadata": {},
   "outputs": [],
   "source": [
    "# Start the network insights analysis between the two instances using the INSIGHTS_PATH_ID created in the previous step:\n",
    "response = ec2_client.start_network_insights_analysis(\n",
    "    NetworkInsightsPathId = insights_path_id\n",
    ")"
   ]
  },
  {
   "cell_type": "code",
   "execution_count": 39,
   "metadata": {},
   "outputs": [],
   "source": [
    "# Wait a few seconds until the analysis is done running and then view the results:\n",
    "response = ec2_client.describe_network_insights_analyses(\n",
    "    NetworkInsightsPathId = insights_path_id\n",
    ")"
   ]
  },
  {
   "cell_type": "code",
   "execution_count": 46,
   "metadata": {},
   "outputs": [],
   "source": [
    "# Save the results to json file:\n",
    "with open('network_insights_analysis.json', 'w') as outfile:\n",
    "    json.dump(response, outfile, indent=4, default=str)"
   ]
  },
  {
   "cell_type": "markdown",
   "metadata": {},
   "source": [
    "En el archivo `network_insights_analysis.json` observe los campos *NetworkPathFound* y *ExplanationCode*:"
   ]
  },
  {
   "cell_type": "code",
   "execution_count": null,
   "metadata": {},
   "outputs": [],
   "source": [
    "# Update the security group attached to instance 2. Add a rule to allow access from instance 1’s security group to TCP port 22 (SSH):\n",
    "response = ec2_client.authorize_security_group_ingress(\n",
    "    GroupId = security_group_2.id,\n",
    "    IpPermissions = [\n",
    "        {\n",
    "            'FromPort': 22,\n",
    "            'IpProtocol': 'tcp',\n",
    "            'IpRanges': ["
   ]
  },
  {
   "cell_type": "code",
   "execution_count": 49,
   "metadata": {},
   "outputs": [],
   "source": [
    "# Actualice el grupo de seguridad adjunto a la instancia 2 \n",
    "# Añada una regla para permitir el acceso desde el grupo de seguridad de la instancia 1 al puerto TCP 22 (SSH):\n",
    "\n",
    "response = ec2_client.authorize_security_group_ingress(\n",
    "    GroupId=security_group_2.id,\n",
    "    IpPermissions=[\n",
    "        {'IpProtocol': 'tcp',\n",
    "            'FromPort': 22,\n",
    "            'ToPort': 22,\n",
    "            'UserIdGroupPairs': [\n",
    "                {\n",
    "                    'Description': 'Allow SSH access',\n",
    "                    'GroupId': security_group_1.id\n",
    "                }\n",
    "            ]\n",
    "        } \n",
    "    ]\n",
    ")"
   ]
  },
  {
   "cell_type": "code",
   "execution_count": 50,
   "metadata": {},
   "outputs": [],
   "source": [
    "# Vuelva a ejecutar el análisis de la red insights\n",
    "# Utilice el mismo INSIGHTS_PATH_ID que utilizó anteriormente:\n",
    "\n",
    "response = ec2_client.start_network_insights_analysis(\n",
    "    NetworkInsightsPathId = insights_path_id\n",
    ")"
   ]
  },
  {
   "cell_type": "code",
   "execution_count": 52,
   "metadata": {},
   "outputs": [],
   "source": [
    "response = ec2_client.describe_network_insights_analyses(\n",
    "    NetworkInsightsPathId = insights_path_id\n",
    ")"
   ]
  },
  {
   "cell_type": "code",
   "execution_count": 53,
   "metadata": {},
   "outputs": [],
   "source": [
    "# Rewrite the results to json file:\n",
    "with open('network_insights_analysis.json', 'w') as outfile:\n",
    "    json.dump(response, outfile, indent=4, default=str)"
   ]
  },
  {
   "cell_type": "markdown",
   "metadata": {},
   "source": [
    "Ahora debería observar un campo `NetworkPathFound` con el valor `true`"
   ]
  },
  {
   "cell_type": "markdown",
   "metadata": {},
   "source": [
    "#### Validación"
   ]
  },
  {
   "cell_type": "code",
   "execution_count": 80,
   "metadata": {},
   "outputs": [
    {
     "name": "stdout",
     "output_type": "stream",
     "text": [
      "En la terminal ejecute el siguiente comando:\n",
      "   aws ssm start-session --target i-0d17a46ea5a6f5c1f\n"
     ]
    }
   ],
   "source": [
    "instance_id = ssm.describe_instance_information()['InstanceInformationList'][0]['InstanceId']\n",
    "print(\"En la terminal ejecute el siguiente comando:\")\n",
    "print(\"   aws ssm start-session --target \" + instance_id)"
   ]
  },
  {
   "cell_type": "code",
   "execution_count": null,
   "metadata": {
    "vscode": {
     "languageId": "shellscript"
    }
   },
   "outputs": [],
   "source": [
    "server=174.19.1.97\n",
    "port=22\n",
    "connect_timeout=5\n",
    "\n",
    "timeout $connect_timeout bash -c \"</dev/tcp/$server/$port\"\n",
    "if [ $? == 0 ];then\n",
    "   echo \"SSH Connection to $server over port $port is possible\"\n",
    "else\n",
    "   echo \"SSH connection to $server over port $port is not possible\"\n",
    "fi"
   ]
  }
 ],
 "metadata": {
  "kernelspec": {
   "display_name": "Python 3.9.12 ('base')",
   "language": "python",
   "name": "python3"
  },
  "language_info": {
   "codemirror_mode": {
    "name": "ipython",
    "version": 3
   },
   "file_extension": ".py",
   "mimetype": "text/x-python",
   "name": "python",
   "nbconvert_exporter": "python",
   "pygments_lexer": "ipython3",
   "version": "3.9.12"
  },
  "orig_nbformat": 4,
  "vscode": {
   "interpreter": {
    "hash": "c9cdd2fa3b32da9704bd8048bdba085d67219855a318f4adc7f095bb5cfa603b"
   }
  }
 },
 "nbformat": 4,
 "nbformat_minor": 2
}
