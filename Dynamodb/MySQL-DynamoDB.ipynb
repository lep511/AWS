{
 "cells": [
  {
   "cell_type": "code",
   "execution_count": 10,
   "metadata": {},
   "outputs": [],
   "source": [
    "import boto3\n",
    "import json\n",
    "import time\n",
    "\n",
    "region_aws = 'us-east-1'\n",
    "\n",
    "ec2 = boto3.resource('ec2', region_name=region_aws)\n",
    "ec2_client = boto3.client('ec2', region_name=region_aws)\n",
    "iam = boto3.client('iam')\n",
    "ssm = boto3.client('ssm')"
   ]
  },
  {
   "cell_type": "code",
   "execution_count": 2,
   "metadata": {},
   "outputs": [],
   "source": [
    "# create VPC\n",
    "vpc = ec2.create_vpc(CidrBlock='174.19.0.0/24')\n",
    "vpc.create_tags(Tags=[{\"Key\": \"Name\", \"Value\": \"MySQL-DynamoDB\"}])\n",
    "vpc.wait_until_available()"
   ]
  },
  {
   "cell_type": "code",
   "execution_count": 3,
   "metadata": {},
   "outputs": [
    {
     "data": {
      "text/plain": [
       "[ec2.Tag(resource_id='rtb-0746c1279820d0329', key='Name', value='MySQL-DynamoDB-RT')]"
      ]
     },
     "execution_count": 3,
     "metadata": {},
     "output_type": "execute_result"
    }
   ],
   "source": [
    "# Crear routable\n",
    "routetable_1 = vpc.create_route_table()\n",
    "routetable_1.create_tags(Tags=[{\"Key\": \"Name\", \"Value\": \"MySQL-DynamoDB-RT\"}])"
   ]
  },
  {
   "cell_type": "code",
   "execution_count": 4,
   "metadata": {},
   "outputs": [
    {
     "data": {
      "text/plain": [
       "[ec2.Tag(resource_id='subnet-02d5d8f804ca6f4ce', key='Name', value='MySQL-DynamoDB-SN')]"
      ]
     },
     "execution_count": 4,
     "metadata": {},
     "output_type": "execute_result"
    }
   ],
   "source": [
    "# Crear subredes:\n",
    "subnet_1 = ec2.create_subnet(\n",
    "    CidrBlock='174.19.0.0/24', \n",
    "    VpcId=vpc.id,\n",
    "    AvailabilityZone='us-east-1a'\n",
    ")\n",
    "\n",
    "subnet_1.create_tags(Tags=[{\"Key\": \"Name\", \"Value\": \"MySQL-DynamoDB-SN\"}])"
   ]
  },
  {
   "cell_type": "code",
   "execution_count": 5,
   "metadata": {},
   "outputs": [
    {
     "data": {
      "text/plain": [
       "ec2.RouteTableAssociation(id='rtbassoc-0f5cc125201e3036a')"
      ]
     },
     "execution_count": 5,
     "metadata": {},
     "output_type": "execute_result"
    }
   ],
   "source": [
    "# Asociar la tabla de ruta con las subredes:\n",
    "routetable_1.associate_with_subnet(SubnetId = subnet_1.id)"
   ]
  },
  {
   "cell_type": "code",
   "execution_count": 7,
   "metadata": {},
   "outputs": [],
   "source": [
    "# Create Internet Gateway\n",
    "igw = ec2.create_internet_gateway()\n",
    "\n",
    "# Attach Internet Gateway to VPC Applicance\n",
    "vpc.attach_internet_gateway(InternetGatewayId=igw.id);"
   ]
  },
  {
   "cell_type": "code",
   "execution_count": 6,
   "metadata": {},
   "outputs": [],
   "source": [
    "# Crear grupo de seguridad\n",
    "security_group_1 = vpc.create_security_group(\n",
    "    GroupName='MySQL-DynamoDB-SG',\n",
    "    Description='Allow SSH access',\n",
    "    VpcId=vpc.id\n",
    ")"
   ]
  },
  {
   "cell_type": "code",
   "execution_count": 8,
   "metadata": {},
   "outputs": [],
   "source": [
    "# Crear una Elastic IP address\n",
    "elastic_ip_1 = ec2_client.allocate_address(Domain='vpc')"
   ]
  },
  {
   "cell_type": "code",
   "execution_count": 9,
   "metadata": {},
   "outputs": [
    {
     "data": {
      "text/plain": [
       "ec2.Route(route_table_id='rtb-0746c1279820d0329', destination_cidr_block='0.0.0.0/0')"
      ]
     },
     "execution_count": 9,
     "metadata": {},
     "output_type": "execute_result"
    }
   ],
   "source": [
    "# Añada una ruta a la tabla de enrutamiento de la VPC Applicance para el internet natgateway\n",
    "routetable_1.create_route(\n",
    "    DestinationCidrBlock='0.0.0.0/0',\n",
    "    GatewayId=igw.id\n",
    ");"
   ]
  },
  {
   "cell_type": "code",
   "execution_count": 24,
   "metadata": {},
   "outputs": [],
   "source": [
    "# Create a role\n",
    "role_name = 'MySQL-DynamoDB-Role'\n",
    "policy_document = {\n",
    "  \"Version\": \"2012-10-17\",\n",
    "  \"Statement\": [\n",
    "  {\n",
    "    \"Effect\": \"Allow\",\n",
    "    \"Principal\": {\n",
    "      \"Service\": \"ec2.amazonaws.com\"\n",
    "    },\n",
    "    \"Action\": \"sts:AssumeRole\"\n",
    "  }\n",
    "  ]\n",
    "}\n",
    "\n",
    "ssm_role = iam.create_role(\n",
    "    RoleName=role_name,\n",
    "    AssumeRolePolicyDocument=json.dumps(policy_document)\n",
    ")"
   ]
  },
  {
   "cell_type": "code",
   "execution_count": 25,
   "metadata": {},
   "outputs": [
    {
     "data": {
      "text/plain": [
       "{'ResponseMetadata': {'RequestId': '9fdde080-a7b5-4f13-8e3a-736c805ecd89',\n",
       "  'HTTPStatusCode': 200,\n",
       "  'HTTPHeaders': {'x-amzn-requestid': '9fdde080-a7b5-4f13-8e3a-736c805ecd89',\n",
       "   'content-type': 'text/xml',\n",
       "   'content-length': '212',\n",
       "   'date': 'Mon, 13 Mar 2023 21:35:16 GMT'},\n",
       "  'RetryAttempts': 0}}"
      ]
     },
     "execution_count": 25,
     "metadata": {},
     "output_type": "execute_result"
    }
   ],
   "source": [
    "# Attach the policy to the role\n",
    "iam.attach_role_policy(\n",
    "    RoleName=role_name,\n",
    "    PolicyArn='arn:aws:iam::aws:policy/AmazonSSMManagedInstanceCore'\n",
    ")"
   ]
  },
  {
   "cell_type": "code",
   "execution_count": 26,
   "metadata": {},
   "outputs": [
    {
     "ename": "EntityAlreadyExistsException",
     "evalue": "An error occurred (EntityAlreadyExists) when calling the CreateInstanceProfile operation: Instance Profile MySQL-DynamoDB-Profile already exists.",
     "output_type": "error",
     "traceback": [
      "\u001b[0;31m---------------------------------------------------------------------------\u001b[0m",
      "\u001b[0;31mEntityAlreadyExistsException\u001b[0m              Traceback (most recent call last)",
      "\u001b[1;32m/home/lep511/AWS/Dynamodb/MySQL-DynamoDB.ipynb Celda 12\u001b[0m in \u001b[0;36m3\n\u001b[1;32m      <a href='vscode-notebook-cell://wsl%2Bdebian/home/lep511/AWS/Dynamodb/MySQL-DynamoDB.ipynb#X12sdnNjb2RlLXJlbW90ZQ%3D%3D?line=0'>1</a>\u001b[0m \u001b[39m# Create an instance profile\u001b[39;00m\n\u001b[1;32m      <a href='vscode-notebook-cell://wsl%2Bdebian/home/lep511/AWS/Dynamodb/MySQL-DynamoDB.ipynb#X12sdnNjb2RlLXJlbW90ZQ%3D%3D?line=1'>2</a>\u001b[0m instance_profile_name \u001b[39m=\u001b[39m \u001b[39m'\u001b[39m\u001b[39mMySQL-DynamoDB-Profile\u001b[39m\u001b[39m'\u001b[39m\n\u001b[0;32m----> <a href='vscode-notebook-cell://wsl%2Bdebian/home/lep511/AWS/Dynamodb/MySQL-DynamoDB.ipynb#X12sdnNjb2RlLXJlbW90ZQ%3D%3D?line=2'>3</a>\u001b[0m instance_profile \u001b[39m=\u001b[39m iam\u001b[39m.\u001b[39;49mcreate_instance_profile(\n\u001b[1;32m      <a href='vscode-notebook-cell://wsl%2Bdebian/home/lep511/AWS/Dynamodb/MySQL-DynamoDB.ipynb#X12sdnNjb2RlLXJlbW90ZQ%3D%3D?line=3'>4</a>\u001b[0m     InstanceProfileName\u001b[39m=\u001b[39;49minstance_profile_name\n\u001b[1;32m      <a href='vscode-notebook-cell://wsl%2Bdebian/home/lep511/AWS/Dynamodb/MySQL-DynamoDB.ipynb#X12sdnNjb2RlLXJlbW90ZQ%3D%3D?line=4'>5</a>\u001b[0m )\n",
      "File \u001b[0;32m~/miniconda3/lib/python3.9/site-packages/botocore/client.py:530\u001b[0m, in \u001b[0;36mClientCreator._create_api_method.<locals>._api_call\u001b[0;34m(self, *args, **kwargs)\u001b[0m\n\u001b[1;32m    526\u001b[0m     \u001b[39mraise\u001b[39;00m \u001b[39mTypeError\u001b[39;00m(\n\u001b[1;32m    527\u001b[0m         \u001b[39mf\u001b[39m\u001b[39m\"\u001b[39m\u001b[39m{\u001b[39;00mpy_operation_name\u001b[39m}\u001b[39;00m\u001b[39m() only accepts keyword arguments.\u001b[39m\u001b[39m\"\u001b[39m\n\u001b[1;32m    528\u001b[0m     )\n\u001b[1;32m    529\u001b[0m \u001b[39m# The \"self\" in this scope is referring to the BaseClient.\u001b[39;00m\n\u001b[0;32m--> 530\u001b[0m \u001b[39mreturn\u001b[39;00m \u001b[39mself\u001b[39;49m\u001b[39m.\u001b[39;49m_make_api_call(operation_name, kwargs)\n",
      "File \u001b[0;32m~/miniconda3/lib/python3.9/site-packages/botocore/client.py:960\u001b[0m, in \u001b[0;36mBaseClient._make_api_call\u001b[0;34m(self, operation_name, api_params)\u001b[0m\n\u001b[1;32m    958\u001b[0m     error_code \u001b[39m=\u001b[39m parsed_response\u001b[39m.\u001b[39mget(\u001b[39m\"\u001b[39m\u001b[39mError\u001b[39m\u001b[39m\"\u001b[39m, {})\u001b[39m.\u001b[39mget(\u001b[39m\"\u001b[39m\u001b[39mCode\u001b[39m\u001b[39m\"\u001b[39m)\n\u001b[1;32m    959\u001b[0m     error_class \u001b[39m=\u001b[39m \u001b[39mself\u001b[39m\u001b[39m.\u001b[39mexceptions\u001b[39m.\u001b[39mfrom_code(error_code)\n\u001b[0;32m--> 960\u001b[0m     \u001b[39mraise\u001b[39;00m error_class(parsed_response, operation_name)\n\u001b[1;32m    961\u001b[0m \u001b[39melse\u001b[39;00m:\n\u001b[1;32m    962\u001b[0m     \u001b[39mreturn\u001b[39;00m parsed_response\n",
      "\u001b[0;31mEntityAlreadyExistsException\u001b[0m: An error occurred (EntityAlreadyExists) when calling the CreateInstanceProfile operation: Instance Profile MySQL-DynamoDB-Profile already exists."
     ]
    }
   ],
   "source": [
    "# Create an instance profile\n",
    "instance_profile_name = 'MySQL-DynamoDB-Profile'\n",
    "instance_profile = iam.create_instance_profile(\n",
    "    InstanceProfileName=instance_profile_name\n",
    ")"
   ]
  },
  {
   "cell_type": "code",
   "execution_count": 27,
   "metadata": {},
   "outputs": [
    {
     "data": {
      "text/plain": [
       "{'ResponseMetadata': {'RequestId': 'c2497aa9-b009-4037-9b63-1c9939e5e16d',\n",
       "  'HTTPStatusCode': 200,\n",
       "  'HTTPHeaders': {'x-amzn-requestid': 'c2497aa9-b009-4037-9b63-1c9939e5e16d',\n",
       "   'content-type': 'text/xml',\n",
       "   'content-length': '228',\n",
       "   'date': 'Mon, 13 Mar 2023 21:35:29 GMT'},\n",
       "  'RetryAttempts': 0}}"
      ]
     },
     "execution_count": 27,
     "metadata": {},
     "output_type": "execute_result"
    }
   ],
   "source": [
    "# Add the role that you created to the instance profile:\n",
    "iam.add_role_to_instance_profile(\n",
    "    InstanceProfileName=instance_profile_name,\n",
    "    RoleName=role_name\n",
    ")"
   ]
  },
  {
   "cell_type": "code",
   "execution_count": 13,
   "metadata": {},
   "outputs": [
    {
     "data": {
      "text/plain": [
       "{'ResponseMetadata': {'RequestId': 'b2cd69bf-92bb-4fd6-ac0c-a7055ddba116',\n",
       "  'HTTPStatusCode': 200,\n",
       "  'HTTPHeaders': {'x-amzn-requestid': 'b2cd69bf-92bb-4fd6-ac0c-a7055ddba116',\n",
       "   'cache-control': 'no-cache, no-store',\n",
       "   'strict-transport-security': 'max-age=31536000; includeSubDomains',\n",
       "   'content-type': 'text/xml;charset=UTF-8',\n",
       "   'content-length': '237',\n",
       "   'date': 'Mon, 13 Mar 2023 21:20:14 GMT',\n",
       "   'server': 'AmazonEC2'},\n",
       "  'RetryAttempts': 0}}"
      ]
     },
     "execution_count": 13,
     "metadata": {},
     "output_type": "execute_result"
    }
   ],
   "source": [
    "# Enable Dns in VPC\n",
    "vpc.modify_attribute(EnableDnsSupport={'Value': True})\n",
    "vpc.modify_attribute(EnableDnsHostnames={'Value': True})"
   ]
  },
  {
   "cell_type": "code",
   "execution_count": 29,
   "metadata": {},
   "outputs": [
    {
     "ename": "ClientError",
     "evalue": "An error occurred (InvalidGroup.Duplicate) when calling the CreateSecurityGroup operation: The security group 'MySQL-DynamoDB' already exists for VPC 'vpc-0d7d59533d0399986'",
     "output_type": "error",
     "traceback": [
      "\u001b[0;31m---------------------------------------------------------------------------\u001b[0m",
      "\u001b[0;31mClientError\u001b[0m                               Traceback (most recent call last)",
      "\u001b[1;32m/home/lep511/AWS/Dynamodb/MySQL-DynamoDB.ipynb Celda 15\u001b[0m in \u001b[0;36m2\n\u001b[1;32m      <a href='vscode-notebook-cell://wsl%2Bdebian/home/lep511/AWS/Dynamodb/MySQL-DynamoDB.ipynb#X15sdnNjb2RlLXJlbW90ZQ%3D%3D?line=0'>1</a>\u001b[0m \u001b[39m# Create security group enable HHTPS:\u001b[39;00m\n\u001b[0;32m----> <a href='vscode-notebook-cell://wsl%2Bdebian/home/lep511/AWS/Dynamodb/MySQL-DynamoDB.ipynb#X15sdnNjb2RlLXJlbW90ZQ%3D%3D?line=1'>2</a>\u001b[0m security_group_https \u001b[39m=\u001b[39m vpc\u001b[39m.\u001b[39;49mcreate_security_group(\n\u001b[1;32m      <a href='vscode-notebook-cell://wsl%2Bdebian/home/lep511/AWS/Dynamodb/MySQL-DynamoDB.ipynb#X15sdnNjb2RlLXJlbW90ZQ%3D%3D?line=2'>3</a>\u001b[0m     GroupName\u001b[39m=\u001b[39;49m\u001b[39m'\u001b[39;49m\u001b[39mMySQL-DynamoDB\u001b[39;49m\u001b[39m'\u001b[39;49m,\n\u001b[1;32m      <a href='vscode-notebook-cell://wsl%2Bdebian/home/lep511/AWS/Dynamodb/MySQL-DynamoDB.ipynb#X15sdnNjb2RlLXJlbW90ZQ%3D%3D?line=3'>4</a>\u001b[0m     Description\u001b[39m=\u001b[39;49m\u001b[39m'\u001b[39;49m\u001b[39mAllow HTTPS access\u001b[39;49m\u001b[39m'\u001b[39;49m,\n\u001b[1;32m      <a href='vscode-notebook-cell://wsl%2Bdebian/home/lep511/AWS/Dynamodb/MySQL-DynamoDB.ipynb#X15sdnNjb2RlLXJlbW90ZQ%3D%3D?line=4'>5</a>\u001b[0m     VpcId\u001b[39m=\u001b[39;49mvpc\u001b[39m.\u001b[39;49mid,\n\u001b[1;32m      <a href='vscode-notebook-cell://wsl%2Bdebian/home/lep511/AWS/Dynamodb/MySQL-DynamoDB.ipynb#X15sdnNjb2RlLXJlbW90ZQ%3D%3D?line=5'>6</a>\u001b[0m )\n\u001b[1;32m      <a href='vscode-notebook-cell://wsl%2Bdebian/home/lep511/AWS/Dynamodb/MySQL-DynamoDB.ipynb#X15sdnNjb2RlLXJlbW90ZQ%3D%3D?line=7'>8</a>\u001b[0m response \u001b[39m=\u001b[39m ec2_client\u001b[39m.\u001b[39mauthorize_security_group_ingress(\n\u001b[1;32m      <a href='vscode-notebook-cell://wsl%2Bdebian/home/lep511/AWS/Dynamodb/MySQL-DynamoDB.ipynb#X15sdnNjb2RlLXJlbW90ZQ%3D%3D?line=8'>9</a>\u001b[0m     GroupId\u001b[39m=\u001b[39msecurity_group_https\u001b[39m.\u001b[39mid,\n\u001b[1;32m     <a href='vscode-notebook-cell://wsl%2Bdebian/home/lep511/AWS/Dynamodb/MySQL-DynamoDB.ipynb#X15sdnNjb2RlLXJlbW90ZQ%3D%3D?line=9'>10</a>\u001b[0m     IpPermissions\u001b[39m=\u001b[39m[\n\u001b[0;32m   (...)\u001b[0m\n\u001b[1;32m     <a href='vscode-notebook-cell://wsl%2Bdebian/home/lep511/AWS/Dynamodb/MySQL-DynamoDB.ipynb#X15sdnNjb2RlLXJlbW90ZQ%3D%3D?line=20'>21</a>\u001b[0m     ]\n\u001b[1;32m     <a href='vscode-notebook-cell://wsl%2Bdebian/home/lep511/AWS/Dynamodb/MySQL-DynamoDB.ipynb#X15sdnNjb2RlLXJlbW90ZQ%3D%3D?line=21'>22</a>\u001b[0m )\n",
      "File \u001b[0;32m~/miniconda3/lib/python3.9/site-packages/boto3/resources/factory.py:580\u001b[0m, in \u001b[0;36mResourceFactory._create_action.<locals>.do_action\u001b[0;34m(self, *args, **kwargs)\u001b[0m\n\u001b[1;32m    579\u001b[0m \u001b[39mdef\u001b[39;00m \u001b[39mdo_action\u001b[39m(\u001b[39mself\u001b[39m, \u001b[39m*\u001b[39margs, \u001b[39m*\u001b[39m\u001b[39m*\u001b[39mkwargs):\n\u001b[0;32m--> 580\u001b[0m     response \u001b[39m=\u001b[39m action(\u001b[39mself\u001b[39;49m, \u001b[39m*\u001b[39;49margs, \u001b[39m*\u001b[39;49m\u001b[39m*\u001b[39;49mkwargs)\n\u001b[1;32m    582\u001b[0m     \u001b[39mif\u001b[39;00m \u001b[39mhasattr\u001b[39m(\u001b[39mself\u001b[39m, \u001b[39m'\u001b[39m\u001b[39mload\u001b[39m\u001b[39m'\u001b[39m):\n\u001b[1;32m    583\u001b[0m         \u001b[39m# Clear cached data. It will be reloaded the next\u001b[39;00m\n\u001b[1;32m    584\u001b[0m         \u001b[39m# time that an attribute is accessed.\u001b[39;00m\n\u001b[1;32m    585\u001b[0m         \u001b[39m# TODO: Make this configurable in the future?\u001b[39;00m\n\u001b[1;32m    586\u001b[0m         \u001b[39mself\u001b[39m\u001b[39m.\u001b[39mmeta\u001b[39m.\u001b[39mdata \u001b[39m=\u001b[39m \u001b[39mNone\u001b[39;00m\n",
      "File \u001b[0;32m~/miniconda3/lib/python3.9/site-packages/boto3/resources/action.py:88\u001b[0m, in \u001b[0;36mServiceAction.__call__\u001b[0;34m(self, parent, *args, **kwargs)\u001b[0m\n\u001b[1;32m     79\u001b[0m params\u001b[39m.\u001b[39mupdate(kwargs)\n\u001b[1;32m     81\u001b[0m logger\u001b[39m.\u001b[39mdebug(\n\u001b[1;32m     82\u001b[0m     \u001b[39m'\u001b[39m\u001b[39mCalling \u001b[39m\u001b[39m%s\u001b[39;00m\u001b[39m:\u001b[39m\u001b[39m%s\u001b[39;00m\u001b[39m with \u001b[39m\u001b[39m%r\u001b[39;00m\u001b[39m'\u001b[39m,\n\u001b[1;32m     83\u001b[0m     parent\u001b[39m.\u001b[39mmeta\u001b[39m.\u001b[39mservice_name,\n\u001b[1;32m     84\u001b[0m     operation_name,\n\u001b[1;32m     85\u001b[0m     params,\n\u001b[1;32m     86\u001b[0m )\n\u001b[0;32m---> 88\u001b[0m response \u001b[39m=\u001b[39m \u001b[39mgetattr\u001b[39;49m(parent\u001b[39m.\u001b[39;49mmeta\u001b[39m.\u001b[39;49mclient, operation_name)(\u001b[39m*\u001b[39;49margs, \u001b[39m*\u001b[39;49m\u001b[39m*\u001b[39;49mparams)\n\u001b[1;32m     90\u001b[0m logger\u001b[39m.\u001b[39mdebug(\u001b[39m'\u001b[39m\u001b[39mResponse: \u001b[39m\u001b[39m%r\u001b[39;00m\u001b[39m'\u001b[39m, response)\n\u001b[1;32m     92\u001b[0m \u001b[39mreturn\u001b[39;00m \u001b[39mself\u001b[39m\u001b[39m.\u001b[39m_response_handler(parent, params, response)\n",
      "File \u001b[0;32m~/miniconda3/lib/python3.9/site-packages/botocore/client.py:530\u001b[0m, in \u001b[0;36mClientCreator._create_api_method.<locals>._api_call\u001b[0;34m(self, *args, **kwargs)\u001b[0m\n\u001b[1;32m    526\u001b[0m     \u001b[39mraise\u001b[39;00m \u001b[39mTypeError\u001b[39;00m(\n\u001b[1;32m    527\u001b[0m         \u001b[39mf\u001b[39m\u001b[39m\"\u001b[39m\u001b[39m{\u001b[39;00mpy_operation_name\u001b[39m}\u001b[39;00m\u001b[39m() only accepts keyword arguments.\u001b[39m\u001b[39m\"\u001b[39m\n\u001b[1;32m    528\u001b[0m     )\n\u001b[1;32m    529\u001b[0m \u001b[39m# The \"self\" in this scope is referring to the BaseClient.\u001b[39;00m\n\u001b[0;32m--> 530\u001b[0m \u001b[39mreturn\u001b[39;00m \u001b[39mself\u001b[39;49m\u001b[39m.\u001b[39;49m_make_api_call(operation_name, kwargs)\n",
      "File \u001b[0;32m~/miniconda3/lib/python3.9/site-packages/botocore/client.py:960\u001b[0m, in \u001b[0;36mBaseClient._make_api_call\u001b[0;34m(self, operation_name, api_params)\u001b[0m\n\u001b[1;32m    958\u001b[0m     error_code \u001b[39m=\u001b[39m parsed_response\u001b[39m.\u001b[39mget(\u001b[39m\"\u001b[39m\u001b[39mError\u001b[39m\u001b[39m\"\u001b[39m, {})\u001b[39m.\u001b[39mget(\u001b[39m\"\u001b[39m\u001b[39mCode\u001b[39m\u001b[39m\"\u001b[39m)\n\u001b[1;32m    959\u001b[0m     error_class \u001b[39m=\u001b[39m \u001b[39mself\u001b[39m\u001b[39m.\u001b[39mexceptions\u001b[39m.\u001b[39mfrom_code(error_code)\n\u001b[0;32m--> 960\u001b[0m     \u001b[39mraise\u001b[39;00m error_class(parsed_response, operation_name)\n\u001b[1;32m    961\u001b[0m \u001b[39melse\u001b[39;00m:\n\u001b[1;32m    962\u001b[0m     \u001b[39mreturn\u001b[39;00m parsed_response\n",
      "\u001b[0;31mClientError\u001b[0m: An error occurred (InvalidGroup.Duplicate) when calling the CreateSecurityGroup operation: The security group 'MySQL-DynamoDB' already exists for VPC 'vpc-0d7d59533d0399986'"
     ]
    }
   ],
   "source": [
    "# Create security group enable HHTPS:\n",
    "security_group_https = vpc.create_security_group(\n",
    "    GroupName='MySQL-DynamoDB',\n",
    "    Description='Allow HTTPS access',\n",
    "    VpcId=vpc.id,\n",
    ")\n",
    "\n",
    "response = ec2_client.authorize_security_group_ingress(\n",
    "    GroupId=security_group_https.id,\n",
    "    IpPermissions=[\n",
    "        {'FromPort': 443,\n",
    "            'IpProtocol': 'tcp',\n",
    "            'IpRanges': [\n",
    "                {\n",
    "                    'CidrIp': vpc.cidr_block,\n",
    "                    'Description': 'Allow HTTPS access'\n",
    "                }\n",
    "            ],\n",
    "            'ToPort': 443\n",
    "        }\n",
    "    ]\n",
    ")"
   ]
  },
  {
   "cell_type": "code",
   "execution_count": 28,
   "metadata": {},
   "outputs": [
    {
     "ename": "ClientError",
     "evalue": "An error occurred (InvalidParameter) when calling the CreateVpcEndpoint operation: private-dns-enabled cannot be set because there is already a conflicting DNS domain for ssm.us-east-1.amazonaws.com in the VPC vpc-0d7d59533d0399986",
     "output_type": "error",
     "traceback": [
      "\u001b[0;31m---------------------------------------------------------------------------\u001b[0m",
      "\u001b[0;31mClientError\u001b[0m                               Traceback (most recent call last)",
      "\u001b[1;32m/home/lep511/AWS/Dynamodb/MySQL-DynamoDB.ipynb Celda 16\u001b[0m in \u001b[0;36m2\n\u001b[1;32m      <a href='vscode-notebook-cell://wsl%2Bdebian/home/lep511/AWS/Dynamodb/MySQL-DynamoDB.ipynb#X16sdnNjb2RlLXJlbW90ZQ%3D%3D?line=0'>1</a>\u001b[0m \u001b[39m# Creates a VPC endpoint for SSM:\u001b[39;00m\n\u001b[0;32m----> <a href='vscode-notebook-cell://wsl%2Bdebian/home/lep511/AWS/Dynamodb/MySQL-DynamoDB.ipynb#X16sdnNjb2RlLXJlbW90ZQ%3D%3D?line=1'>2</a>\u001b[0m vpc_endpoint_ssm \u001b[39m=\u001b[39m ec2_client\u001b[39m.\u001b[39;49mcreate_vpc_endpoint(\n\u001b[1;32m      <a href='vscode-notebook-cell://wsl%2Bdebian/home/lep511/AWS/Dynamodb/MySQL-DynamoDB.ipynb#X16sdnNjb2RlLXJlbW90ZQ%3D%3D?line=2'>3</a>\u001b[0m     VpcId\u001b[39m=\u001b[39;49mvpc\u001b[39m.\u001b[39;49mid,\n\u001b[1;32m      <a href='vscode-notebook-cell://wsl%2Bdebian/home/lep511/AWS/Dynamodb/MySQL-DynamoDB.ipynb#X16sdnNjb2RlLXJlbW90ZQ%3D%3D?line=3'>4</a>\u001b[0m     ServiceName\u001b[39m=\u001b[39;49m\u001b[39m'\u001b[39;49m\u001b[39mcom.amazonaws.\u001b[39;49m\u001b[39m'\u001b[39;49m \u001b[39m+\u001b[39;49m region_aws \u001b[39m+\u001b[39;49m \u001b[39m'\u001b[39;49m\u001b[39m.ssm\u001b[39;49m\u001b[39m'\u001b[39;49m,\n\u001b[1;32m      <a href='vscode-notebook-cell://wsl%2Bdebian/home/lep511/AWS/Dynamodb/MySQL-DynamoDB.ipynb#X16sdnNjb2RlLXJlbW90ZQ%3D%3D?line=4'>5</a>\u001b[0m     VpcEndpointType\u001b[39m=\u001b[39;49m\u001b[39m'\u001b[39;49m\u001b[39mInterface\u001b[39;49m\u001b[39m'\u001b[39;49m,\n\u001b[1;32m      <a href='vscode-notebook-cell://wsl%2Bdebian/home/lep511/AWS/Dynamodb/MySQL-DynamoDB.ipynb#X16sdnNjb2RlLXJlbW90ZQ%3D%3D?line=5'>6</a>\u001b[0m     SubnetIds\u001b[39m=\u001b[39;49m[subnet_1\u001b[39m.\u001b[39;49mid],\n\u001b[1;32m      <a href='vscode-notebook-cell://wsl%2Bdebian/home/lep511/AWS/Dynamodb/MySQL-DynamoDB.ipynb#X16sdnNjb2RlLXJlbW90ZQ%3D%3D?line=6'>7</a>\u001b[0m     PrivateDnsEnabled\u001b[39m=\u001b[39;49m\u001b[39mTrue\u001b[39;49;00m,\n\u001b[1;32m      <a href='vscode-notebook-cell://wsl%2Bdebian/home/lep511/AWS/Dynamodb/MySQL-DynamoDB.ipynb#X16sdnNjb2RlLXJlbW90ZQ%3D%3D?line=7'>8</a>\u001b[0m     SecurityGroupIds\u001b[39m=\u001b[39;49m[security_group_https\u001b[39m.\u001b[39;49mid]\n\u001b[1;32m      <a href='vscode-notebook-cell://wsl%2Bdebian/home/lep511/AWS/Dynamodb/MySQL-DynamoDB.ipynb#X16sdnNjb2RlLXJlbW90ZQ%3D%3D?line=8'>9</a>\u001b[0m )\n\u001b[1;32m     <a href='vscode-notebook-cell://wsl%2Bdebian/home/lep511/AWS/Dynamodb/MySQL-DynamoDB.ipynb#X16sdnNjb2RlLXJlbW90ZQ%3D%3D?line=9'>10</a>\u001b[0m \u001b[39m# Creates a VPC endpoint for EC2 messages:\u001b[39;00m\n\u001b[1;32m     <a href='vscode-notebook-cell://wsl%2Bdebian/home/lep511/AWS/Dynamodb/MySQL-DynamoDB.ipynb#X16sdnNjb2RlLXJlbW90ZQ%3D%3D?line=10'>11</a>\u001b[0m vpc_endpoint_ec2msg \u001b[39m=\u001b[39m ec2_client\u001b[39m.\u001b[39mcreate_vpc_endpoint(\n\u001b[1;32m     <a href='vscode-notebook-cell://wsl%2Bdebian/home/lep511/AWS/Dynamodb/MySQL-DynamoDB.ipynb#X16sdnNjb2RlLXJlbW90ZQ%3D%3D?line=11'>12</a>\u001b[0m     VpcId\u001b[39m=\u001b[39mvpc\u001b[39m.\u001b[39mid,\n\u001b[1;32m     <a href='vscode-notebook-cell://wsl%2Bdebian/home/lep511/AWS/Dynamodb/MySQL-DynamoDB.ipynb#X16sdnNjb2RlLXJlbW90ZQ%3D%3D?line=12'>13</a>\u001b[0m     ServiceName\u001b[39m=\u001b[39m\u001b[39m'\u001b[39m\u001b[39mcom.amazonaws.\u001b[39m\u001b[39m'\u001b[39m \u001b[39m+\u001b[39m region_aws \u001b[39m+\u001b[39m \u001b[39m'\u001b[39m\u001b[39m.ec2messages\u001b[39m\u001b[39m'\u001b[39m,\n\u001b[0;32m   (...)\u001b[0m\n\u001b[1;32m     <a href='vscode-notebook-cell://wsl%2Bdebian/home/lep511/AWS/Dynamodb/MySQL-DynamoDB.ipynb#X16sdnNjb2RlLXJlbW90ZQ%3D%3D?line=16'>17</a>\u001b[0m     SecurityGroupIds\u001b[39m=\u001b[39m[security_group_https\u001b[39m.\u001b[39mid]\n\u001b[1;32m     <a href='vscode-notebook-cell://wsl%2Bdebian/home/lep511/AWS/Dynamodb/MySQL-DynamoDB.ipynb#X16sdnNjb2RlLXJlbW90ZQ%3D%3D?line=17'>18</a>\u001b[0m )\n",
      "File \u001b[0;32m~/miniconda3/lib/python3.9/site-packages/botocore/client.py:530\u001b[0m, in \u001b[0;36mClientCreator._create_api_method.<locals>._api_call\u001b[0;34m(self, *args, **kwargs)\u001b[0m\n\u001b[1;32m    526\u001b[0m     \u001b[39mraise\u001b[39;00m \u001b[39mTypeError\u001b[39;00m(\n\u001b[1;32m    527\u001b[0m         \u001b[39mf\u001b[39m\u001b[39m\"\u001b[39m\u001b[39m{\u001b[39;00mpy_operation_name\u001b[39m}\u001b[39;00m\u001b[39m() only accepts keyword arguments.\u001b[39m\u001b[39m\"\u001b[39m\n\u001b[1;32m    528\u001b[0m     )\n\u001b[1;32m    529\u001b[0m \u001b[39m# The \"self\" in this scope is referring to the BaseClient.\u001b[39;00m\n\u001b[0;32m--> 530\u001b[0m \u001b[39mreturn\u001b[39;00m \u001b[39mself\u001b[39;49m\u001b[39m.\u001b[39;49m_make_api_call(operation_name, kwargs)\n",
      "File \u001b[0;32m~/miniconda3/lib/python3.9/site-packages/botocore/client.py:960\u001b[0m, in \u001b[0;36mBaseClient._make_api_call\u001b[0;34m(self, operation_name, api_params)\u001b[0m\n\u001b[1;32m    958\u001b[0m     error_code \u001b[39m=\u001b[39m parsed_response\u001b[39m.\u001b[39mget(\u001b[39m\"\u001b[39m\u001b[39mError\u001b[39m\u001b[39m\"\u001b[39m, {})\u001b[39m.\u001b[39mget(\u001b[39m\"\u001b[39m\u001b[39mCode\u001b[39m\u001b[39m\"\u001b[39m)\n\u001b[1;32m    959\u001b[0m     error_class \u001b[39m=\u001b[39m \u001b[39mself\u001b[39m\u001b[39m.\u001b[39mexceptions\u001b[39m.\u001b[39mfrom_code(error_code)\n\u001b[0;32m--> 960\u001b[0m     \u001b[39mraise\u001b[39;00m error_class(parsed_response, operation_name)\n\u001b[1;32m    961\u001b[0m \u001b[39melse\u001b[39;00m:\n\u001b[1;32m    962\u001b[0m     \u001b[39mreturn\u001b[39;00m parsed_response\n",
      "\u001b[0;31mClientError\u001b[0m: An error occurred (InvalidParameter) when calling the CreateVpcEndpoint operation: private-dns-enabled cannot be set because there is already a conflicting DNS domain for ssm.us-east-1.amazonaws.com in the VPC vpc-0d7d59533d0399986"
     ]
    }
   ],
   "source": [
    "# Creates a VPC endpoint for SSM:\n",
    "vpc_endpoint_ssm = ec2_client.create_vpc_endpoint(\n",
    "    VpcId=vpc.id,\n",
    "    ServiceName='com.amazonaws.' + region_aws + '.ssm',\n",
    "    VpcEndpointType='Interface',\n",
    "    SubnetIds=[subnet_1.id],\n",
    "    PrivateDnsEnabled=True,\n",
    "    SecurityGroupIds=[security_group_https.id]\n",
    ")\n",
    "# Creates a VPC endpoint for EC2 messages:\n",
    "vpc_endpoint_ec2msg = ec2_client.create_vpc_endpoint(\n",
    "    VpcId=vpc.id,\n",
    "    ServiceName='com.amazonaws.' + region_aws + '.ec2messages',\n",
    "    VpcEndpointType='Interface',\n",
    "    SubnetIds=[subnet_1.id],\n",
    "    PrivateDnsEnabled=True,\n",
    "    SecurityGroupIds=[security_group_https.id]\n",
    ")\n",
    "# Creates a VPC endpoint for SSMMessages:\n",
    "vpc_endpoint_ssm = ec2_client.create_vpc_endpoint(\n",
    "    VpcId=vpc.id,\n",
    "    ServiceName='com.amazonaws.' + region_aws + '.ssmmessages',\n",
    "    VpcEndpointType='Interface',\n",
    "    SubnetIds=[subnet_1.id],\n",
    "    PrivateDnsEnabled=True,\n",
    "    SecurityGroupIds=[security_group_https.id]\n",
    ")"
   ]
  },
  {
   "cell_type": "code",
   "execution_count": 16,
   "metadata": {},
   "outputs": [
    {
     "name": "stdout",
     "output_type": "stream",
     "text": [
      "Waiting for VPC endpoints to be available...\n",
      "\n",
      "SSM endpoint is available!\n"
     ]
    }
   ],
   "source": [
    "def vpc_endpoint_status(vpc_endpoint_id):\n",
    "    vpc_endpoint = ec2_client.describe_vpc_endpoints(\n",
    "        VpcEndpointIds=[vpc_endpoint_id]\n",
    "    )\n",
    "    return vpc_endpoint['VpcEndpoints'][0]['State']\n",
    "\n",
    "print('Waiting for VPC endpoints to be available...')\n",
    "while vpc_endpoint_status(vpc_endpoint_ssm['VpcEndpoint']['VpcEndpointId']) != 'available':\n",
    "    time.sleep(20) \n",
    "print('\\nSSM endpoint is available!')"
   ]
  },
  {
   "cell_type": "code",
   "execution_count": 17,
   "metadata": {},
   "outputs": [],
   "source": [
    "# Consulte en SSM el último ID de AMI de Amazon Linux 2 disponible en su región y guárdelo como variable de entorno:\n",
    "ssm_response = ssm.get_parameter(\n",
    "    Name='/aws/service/ami-amazon-linux-latest/amzn2-ami-hvm-x86_64-gp2'\n",
    ")"
   ]
  },
  {
   "cell_type": "code",
   "execution_count": 18,
   "metadata": {},
   "outputs": [],
   "source": [
    "# Create a key pair\n",
    "key_name = 'MySQL-DynamoDB-KeyPair'\n",
    "keypair = ec2.create_key_pair(KeyName=key_name)"
   ]
  },
  {
   "cell_type": "code",
   "execution_count": 30,
   "metadata": {},
   "outputs": [],
   "source": [
    "# Create a EC2 instance:\n",
    "instance_1 = ec2.create_instances(\n",
    "    ImageId=ssm_response['Parameter']['Value'],\n",
    "    MinCount=1,\n",
    "    MaxCount=1,\n",
    "    InstanceType='t2.micro',\n",
    "    KeyName=key_name,\n",
    "    SubnetId=subnet_1.id,\n",
    "    SecurityGroupIds=[security_group_https.id],\n",
    "    IamInstanceProfile={\n",
    "        'Name': instance_profile_name\n",
    "    },\n",
    "    TagSpecifications=[\n",
    "        {\n",
    "            'ResourceType': 'instance',\n",
    "            'Tags': [\n",
    "                {\n",
    "                    'Key': 'Name',\n",
    "                    'Value': 'OnPrem-Instance'\n",
    "                },\n",
    "            ]\n",
    "        },\n",
    "    ]\n",
    ")"
   ]
  },
  {
   "cell_type": "code",
   "execution_count": 31,
   "metadata": {},
   "outputs": [
    {
     "name": "stdout",
     "output_type": "stream",
     "text": [
      "En la terminal ejecute el siguiente comando:\n",
      "   aws ssm start-session --target i-01b3365c922ddd1ea\n"
     ]
    }
   ],
   "source": [
    "instance_id = ssm.describe_instance_information()['InstanceInformationList'][0]['InstanceId']\n",
    "print(\"En la terminal ejecute el siguiente comando:\")\n",
    "print(\"   aws ssm start-session --target \" + instance_id)"
   ]
  },
  {
   "cell_type": "code",
   "execution_count": null,
   "metadata": {
    "vscode": {
     "languageId": "shellscript"
    }
   },
   "outputs": [],
   "source": [
    "#!/bin/bash\n",
    "sudo su\n",
    "rpm --import https://repo.mysql.com/RPM-GPG-KEY-mysql-2022\n",
    "rpm -Uvh https://repo.mysql.com/mysql80-community-release-el7-3.noarch.rpm\n",
    "yum install -y mysql-community-server\n",
    "systemctl enable mysqld\n",
    "systemctl start mysqld\n",
    "export DbMasterPassword=Password@123\n",
    "export DbMasterUsername=dbuser\n",
    "mysql -u root \"-p$(grep -oP '(?<=root@localhost\\: )\\S+' /var/log/mysqld.log)\" -e \"ALTER USER 'root'@'localhost' IDENTIFIED BY '${DbMasterPassword}'\" --connect-expired-password\n",
    "mysql -u root \"-p${DbMasterPassword}\" -e \"CREATE USER '${DbMasterUsername}' IDENTIFIED BY '${DbMasterPassword}'\"\n",
    "mysql -u root \"-p${DbMasterPassword}\" -e \"GRANT ALL PRIVILEGES ON *.* TO '${DbMasterUsername}'\"\n",
    "mysql -u root \"-p${DbMasterPassword}\" -e \"FLUSH PRIVILEGES\"\n",
    "cd /var/lib/mysql-files/\n",
    "wget https://datasets.imdbws.com/name.basics.tsv.gz\n",
    "wget https://datasets.imdbws.com/title.akas.tsv.gz\n",
    "wwget https://datasets.imdbws.com/title.basics.tsv.gz\n",
    "wwget https://datasets.imdbws.com/title.crew.tsv.gz\n",
    "wwget https://datasets.imdbws.com/title.episode.tsv.gz\n",
    "wwget https://datasets.imdbws.com/title.principals.tsv.gz\n",
    "wwget https://datasets.imdbws.com/title.ratings.tsv.gz\n",
    "wgzip -d *.gz\n",
    "curl -O https://www.amazondynamodblabs.com/static/rdbms-migration/rdbms-migration.zip\n",
    "unzip -q rdbms-migration.zip\n",
    "chmod 775 *.*\n",
    "mysql -u root \"-p${DbMasterPassword}\" -e \"CREATE DATABASE imdb;\"\n",
    "mysql -u root \"-p${DbMasterPassword}\" -e \"CREATE TABLE imdb.title_akas (titleId VARCHAR(200), ordering VARCHAR(200),title VARCHAR(1000), region VARCHAR(1000), language VARCHAR(1000), types VARCHAR(1000),attributes VARCHAR(1000),isOriginalTitle VARCHAR(5),primary key (titleId, ordering));\"\n",
    "mysql -u root \"-p${DbMasterPassword}\" -e \"CREATE TABLE imdb.title_basics (tconst  VARCHAR(200), titleType  VARCHAR(1000),primaryTitle  VARCHAR(1000), originalTitle  VARCHAR(1000), isAdult  VARCHAR(1000), startYear  VARCHAR(1000),endYear  VARCHAR(1000),runtimeMinutes  VARCHAR(1000),genres  VARCHAR(1000),primary key (tconst));\"\n",
    "mysql -u root \"-p${DbMasterPassword}\" -e \"CREATE TABLE imdb.title_crew (tconst  VARCHAR(200), directors  VARCHAR(1000),writers  VARCHAR(1000),primary key (tconst));\"\n",
    "mysql -u root \"-p${DbMasterPassword}\" -e \"CREATE TABLE imdb.title_principals (tconst  VARCHAR(200), ordering  VARCHAR(200),nconst  VARCHAR(200), category  VARCHAR(1000), job  VARCHAR(1000), characters  VARCHAR(1000),primary key (tconst,ordering,nconst));\"\n",
    "mysql -u root \"-p${DbMasterPassword}\" -e \"CREATE TABLE imdb.title_ratings (tconst  VARCHAR(200), averageRating float,numVotes  integer,primary key (tconst));\"\n",
    "mysql -u root \"-p${DbMasterPassword}\" -e \"CREATE TABLE imdb.name_basics (nconst  VARCHAR(200), primaryName  VARCHAR(1000),birthYear  VARCHAR(1000), deathYear  VARCHAR(1000), primaryProfession  VARCHAR(1000), knownForTitles VARCHAR(1000),primary key (nconst));\"\n",
    "mysql -u root \"-p${DbMasterPassword}\" -e \"LOAD DATA INFILE '/var/lib/mysql-files/title_ratings.tsv' IGNORE INTO TABLE imdb.title_ratings FIELDS TERMINATED BY '\\t';\"\n",
    "mysql -u root \"-p${DbMasterPassword}\" -e \"LOAD DATA INFILE '/var/lib/mysql-files/title_basics.tsv'  IGNORE INTO TABLE imdb.title_basics FIELDS TERMINATED BY '\\t';\"\n",
    "mysql -u root \"-p${DbMasterPassword}\" -e \"LOAD DATA INFILE '/var/lib/mysql-files/title_crew.tsv' IGNORE INTO TABLE imdb.title_crew FIELDS TERMINATED BY '\\t';\"\n",
    "mysql -u root \"-p${DbMasterPassword}\" -e \"LOAD DATA INFILE '/var/lib/mysql-files/title_principals.tsv' IGNORE INTO TABLE imdb.title_principals FIELDS TERMINATED BY '\\t';\"\n",
    "mysql -u root \"-p${DbMasterPassword}\" -e \"LOAD DATA INFILE '/var/lib/mysql-files/name_basics.tsv' IGNORE INTO TABLE imdb.name_basics FIELDS TERMINATED BY '\\t';\"\n",
    "mysql -u root \"-p${DbMasterPassword}\" -e \"LOAD DATA INFILE '/var/lib/mysql-files/title_akas.tsv' IGNORE INTO  TABLE imdb.title_akas FIELDS TERMINATED BY '\\t';\""
   ]
  },
  {
   "attachments": {},
   "cell_type": "markdown",
   "metadata": {},
   "source": [
    "Luego ejecute:\n",
    "\n",
    ">> sudo su\n",
    ">> cd /var/lib/mysql-files/\n",
    ">> ls -lrt\n",
    ">> mysql -u dbuser -pPassword@123\n",
    "\n",
    ">> use imdb;\n",
    ">> show tables;"
   ]
  },
  {
   "cell_type": "code",
   "execution_count": null,
   "metadata": {
    "vscode": {
     "languageId": "sql"
    }
   },
   "outputs": [],
   "source": [
    "CREATE VIEW imdb.movies AS\\\n",
    "    SELECT tp.tconst,\\\n",
    "           tp.ordering,\\\n",
    "           tp.nconst,\\\n",
    "           tp.category,\\\n",
    "           tp.job,\\\n",
    "           tp.characters,\\\n",
    "           tb.titleType,\\\n",
    "           tb.primaryTitle,\\\n",
    "           tb.originalTitle,\\\n",
    "           tb.isAdult,\\\n",
    "           tb.startYear,\\\n",
    "           tb.endYear,\\\n",
    "           tb.runtimeMinutes,\\\n",
    "           tb.genres,\\\n",
    "           nm.primaryName,\\\n",
    "           nm.birthYear,\\\n",
    "           nm.deathYear,\\\n",
    "           nm.primaryProfession,\\\n",
    "           tc.directors,\\\n",
    "           tc.writers\\\n",
    "    FROM imdb.title_principals tp\\\n",
    "    LEFT JOIN imdb.title_basics tb ON tp.tconst = tb.tconst\\\n",
    "    LEFT JOIN imdb.name_basics nm ON tp.nconst = nm.nconst\\\n",
    "    LEFT JOIN imdb.title_crew tc ON tc.tconst = tp.tconst;"
   ]
  },
  {
   "attachments": {},
   "cell_type": "markdown",
   "metadata": {},
   "source": [
    "A título ilustrativo, a continuación se muestra un diagrama lógico que representa la relación entre varias tablas de origen que alojan el conjunto de datos IMDb.\n",
    "\n",
    "* La tabla `title_basics` contiene las películas publicadas en EE.UU. después del año 2000. tconst es una clave alfanumérica asignada de forma exclusiva a cada película.\n",
    "* `title_akas` contiene las regiones, los idiomas y los títulos de las películas publicadas. Es una relación 1:many con la tabla title_basics.\n",
    "* `title_ratings` tiene la clasificación de las películas y el recuento de votos. Para este ejercicio, podemos suponer que la información se actualiza con alta frecuencia tras el estreno de la película. Tiene una relación 1:1 con la tabla title_basics\n",
    "* `title_principals` contiene información sobre el reparto y el equipo. Tiene una relación 1:many con la tabla title_basics.\n",
    "* `title_crew` tiene información sobre el guionista y el director. Tiene una relación 1:1 con la tabla title_basics.\n",
    "* `name_basics` tiene información sobre el reparto y el equipo. Cada miembro tiene asignado un valor nconst único.\n",
    "\n",
    "![Image](https://amazon-dynamodb-labs.com/images/migration31.jpg)"
   ]
  },
  {
   "attachments": {},
   "cell_type": "markdown",
   "metadata": {},
   "source": [
    "Utilice el siguiente comando para revisar el recuento de registros de la vista desnormalizada. En este punto, la base de datos de origen está lista para la migración a Amazon DynamoDB:\n",
    "\n",
    ">> select count(*) from imdb.movies;"
   ]
  }
 ],
 "metadata": {
  "kernelspec": {
   "display_name": "Python 3.9.12 ('base')",
   "language": "python",
   "name": "python3"
  },
  "language_info": {
   "codemirror_mode": {
    "name": "ipython",
    "version": 3
   },
   "file_extension": ".py",
   "mimetype": "text/x-python",
   "name": "python",
   "nbconvert_exporter": "python",
   "pygments_lexer": "ipython3",
   "version": "3.9.12"
  },
  "orig_nbformat": 4,
  "vscode": {
   "interpreter": {
    "hash": "c9cdd2fa3b32da9704bd8048bdba085d67219855a318f4adc7f095bb5cfa603b"
   }
  }
 },
 "nbformat": 4,
 "nbformat_minor": 2
}
