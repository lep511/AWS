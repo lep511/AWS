{
 "cells": [
  {
   "cell_type": "code",
   "execution_count": null,
   "metadata": {},
   "outputs": [],
   "source": [
    "import boto3\n",
    "import json\n",
    "import time\n",
    "\n",
    "region_aws = 'us-east-1'\n",
    "ec2 = boto3.client('ec2', region_name=region_aws)"
   ]
  },
  {
   "cell_type": "code",
   "execution_count": null,
   "metadata": {},
   "outputs": [],
   "source": [
    "# Create a key pair\n",
    "key_pair_name = \"my-keypair\"\n",
    "response = ec2.create_key_pair(KeyName=key_pair_name)\n",
    "\n",
    "# Writing to file\n",
    "with open(key_pair_name + \".pem\", \"w\") as file1:\n",
    "    file1.write(response['KeyMaterial'])\n",
    "                         \n",
    "print(\"Status code:\", response['ResponseMetadata']['HTTPStatusCode'])"
   ]
  },
  {
   "cell_type": "code",
   "execution_count": null,
   "metadata": {},
   "outputs": [],
   "source": [
    "!chmod 400 my-keypair.pem"
   ]
  },
  {
   "attachments": {},
   "cell_type": "markdown",
   "metadata": {},
   "source": [
    "En la terminal ejecute:\n",
    "\n",
    "* `sam build`\n",
    "* `sam deploy --guided --capabilities CAPABILITY_NAMED_IAM`"
   ]
  },
  {
   "cell_type": "code",
   "execution_count": null,
   "metadata": {},
   "outputs": [],
   "source": [
    "print(\"Luego ejecute:\\n\")\n",
    "print(\">> sudo su\")\n",
    "print(\">> cd /var/lib/mysql-files/\")\n",
    "print(\">> ls -lrt\")\n",
    "print(\">> mysql -u dbuser -pPassword@123\")\n",
    "print(\"  > use imdb;\")\n",
    "print(\"  > show tables;\")"
   ]
  },
  {
   "attachments": {},
   "cell_type": "markdown",
   "metadata": {},
   "source": [
    "* Luego ejecute los comandos en el archivo `quer1.sql`"
   ]
  },
  {
   "attachments": {},
   "cell_type": "markdown",
   "metadata": {},
   "source": [
    "A título ilustrativo, a continuación se muestra un diagrama lógico que representa la relación entre varias tablas de origen que alojan el conjunto de datos IMDb.\n",
    "\n",
    "* La tabla `title_basics` contiene las películas publicadas en EE.UU. después del año 2000. tconst es una clave alfanumérica asignada de forma exclusiva a cada película.\n",
    "* `title_akas` contiene las regiones, los idiomas y los títulos de las películas publicadas. Es una relación 1:many con la tabla title_basics.\n",
    "* `title_ratings` tiene la clasificación de las películas y el recuento de votos. Para este ejercicio, podemos suponer que la información se actualiza con alta frecuencia tras el estreno de la película. Tiene una relación 1:1 con la tabla title_basics\n",
    "* `title_principals` contiene información sobre el reparto y el equipo. Tiene una relación 1:many con la tabla title_basics.\n",
    "* `title_crew` tiene información sobre el guionista y el director. Tiene una relación 1:1 con la tabla title_basics.\n",
    "* `name_basics` tiene información sobre el reparto y el equipo. Cada miembro tiene asignado un valor nconst único.\n",
    "<br><br>\n",
    "\n",
    "![Image](https://amazon-dynamodb-labs.com/images/migration31.jpg)"
   ]
  },
  {
   "cell_type": "code",
   "execution_count": null,
   "metadata": {},
   "outputs": [],
   "source": [
    "!pip install mysql-connector-python -q"
   ]
  },
  {
   "cell_type": "code",
   "execution_count": null,
   "metadata": {},
   "outputs": [],
   "source": [
    "import os\n",
    "import mysql.connector\n",
    "from mysql.connector import Error\n",
    "import pandas as pd\n",
    "import numpy as np\n",
    "from dynamodb import DynamoTable\n",
    "import math\n",
    "import json"
   ]
  },
  {
   "cell_type": "code",
   "execution_count": null,
   "metadata": {},
   "outputs": [],
   "source": [
    "try:\n",
    "    connection_config_dict = {\n",
    "        'user': 'dbuser',\n",
    "        'password': 'Password@123',\n",
    "        'host': '35.174.107.243',\n",
    "        'database': 'imdb',\n",
    "        'raise_on_warnings': True,\n",
    "        'use_pure': False,\n",
    "        'autocommit': True,\n",
    "        'pool_size': 32\n",
    "    }\n",
    "    connection = mysql.connector.connect(**connection_config_dict)\n",
    "\n",
    "    if connection.is_connected():\n",
    "        db_Info = connection.get_server_info()\n",
    "        print(\"Connected to MySQL Server version \", db_Info)\n",
    "        cursor = connection.cursor()\n",
    "        cursor.execute(\"select database();\")\n",
    "        record = cursor.fetchone()\n",
    "        print(\"Your connected to database: \", record)\n",
    "        cursor = connection.cursor()\n",
    "        # global connection timeout arguments\n",
    "        global_connect_timeout = 'SET GLOBAL connect_timeout=655180'\n",
    "        global_wait_timeout = 'SET GLOBAL connect_timeout=655180'\n",
    "        global_interactive_timeout = 'SET GLOBAL connect_timeout=655180'\n",
    "\n",
    "        cursor.execute(global_connect_timeout)\n",
    "        cursor.execute(global_wait_timeout)\n",
    "        cursor.execute(global_interactive_timeout)\n",
    "\n",
    "        connection.commit()\n",
    "\n",
    "\n",
    "except Error as e:\n",
    "    print(\"Error while connecting to MySQL\", e)"
   ]
  },
  {
   "cell_type": "code",
   "execution_count": null,
   "metadata": {},
   "outputs": [],
   "source": [
    "cursor.execute(\"select count(*) from imdb.movies;\")\n",
    "total_movies = cursor.fetchone()\n",
    "print(\"Total movies: \", total_movies[0])"
   ]
  },
  {
   "cell_type": "code",
   "execution_count": null,
   "metadata": {},
   "outputs": [],
   "source": [
    "query = \"select * from imdb.movies\"\n",
    "result_dataFrame = pd.read_sql(query, connection)"
   ]
  },
  {
   "cell_type": "code",
   "execution_count": null,
   "metadata": {},
   "outputs": [],
   "source": [
    "cursor.close()\n",
    "connection.close()\n",
    "print(\"MySQL connection is closed\")"
   ]
  },
  {
   "cell_type": "code",
   "execution_count": null,
   "metadata": {},
   "outputs": [],
   "source": [
    "# result_dataFrame.to_csv('movies_compress.csv.gz', compression='gzip')"
   ]
  },
  {
   "cell_type": "code",
   "execution_count": null,
   "metadata": {},
   "outputs": [],
   "source": [
    "df = pd.read_csv(\"movies_compress.csv.gz\")\n",
    "df = df.sort_values(by=['tconst']).reset_index().drop('Unnamed: 0', axis=1)\n",
    "df = df.where(pd.notnull(df), None)"
   ]
  },
  {
   "cell_type": "code",
   "execution_count": null,
   "metadata": {},
   "outputs": [],
   "source": [
    "df = df.iloc[0:30000]"
   ]
  },
  {
   "cell_type": "code",
   "execution_count": null,
   "metadata": {},
   "outputs": [],
   "source": [
    "dt = DynamoTable(profile_name=\"my-profile\", region=\"us-east-2\")\n",
    "try:\n",
    "    dt.select_table('movies-d')\n",
    "    print(dt)\n",
    "except:\n",
    "    dt.create_table(\n",
    "        table_name='movies-d',\n",
    "        partition_key='id',\n",
    "        partition_key_type='S',\n",
    "        sort_key=\"sk\",\n",
    "        sort_key_type=\"S\"\n",
    ")"
   ]
  },
  {
   "cell_type": "code",
   "execution_count": null,
   "metadata": {},
   "outputs": [],
   "source": [
    "dm = df.iloc[0]\n",
    "dm"
   ]
  },
  {
   "cell_type": "code",
   "execution_count": null,
   "metadata": {},
   "outputs": [],
   "source": [
    "def generate_json(item):\n",
    "    n_errors = []\n",
    "    js = {\n",
    "        \"id\": item[\"tconst\"],\n",
    "        \"sk\": item[\"nconst\"],\n",
    "    }\n",
    "    if item[\"category\"]: \n",
    "        js[\"category\"] = item[\"category\"]\n",
    "    if item[\"genres\"]: \n",
    "        js[\"genres\"] = item[\"genres\"].split(\",\")\n",
    "    if item[\"job\"]: \n",
    "        js[\"job\"] = item[\"job\"]    \n",
    "    if item[\"characters\"]:\n",
    "        try:\n",
    "            js[\"characters\"] = json.loads(item[\"characters\"])\n",
    "        except:\n",
    "            n_errors.append(item)\n",
    "    if item[\"primaryName\"]:\n",
    "        js[\"primaryName\"] = item[\"primaryName\"]\n",
    "    if item[\"writers\"]: \n",
    "        js[\"writers\"] = item[\"writers\"].split(\",\")\n",
    "    return js, n_errors"
   ]
  },
  {
   "attachments": {},
   "cell_type": "markdown",
   "metadata": {},
   "source": [
    "### Generate json files"
   ]
  },
  {
   "cell_type": "code",
   "execution_count": null,
   "metadata": {},
   "outputs": [],
   "source": [
    "data = []\n",
    "n_count = 0\n",
    "n_end = 4000\n",
    "n_pass = int(len(df) / n_end) + 1\n",
    "n_breake = False\n",
    "\n",
    "for p in range(1, n_pass+1):\n",
    "    print(f\"Pass {p} from {n_pass}\")\n",
    "    if (n_count + n_end) > len(df):\n",
    "        n_c = n_count\n",
    "        n_end = abs(n_c - len(df))\n",
    "        print(n_count + n_end)\n",
    "    for i in range(n_end):\n",
    "        js, errors = generate_json(df.iloc[i+n_count])\n",
    "        data.append(js)\n",
    "    \n",
    "    file_json = \"json_data/data-\" + str(p) + \".json\"\n",
    "    with open(file_json, 'w', encoding='utf-8') as f:\n",
    "        json.dump(data, f, ensure_ascii=False, indent=4)\n",
    "    \n",
    "    data = []\n",
    "    n_count += n_end"
   ]
  },
  {
   "cell_type": "code",
   "execution_count": null,
   "metadata": {},
   "outputs": [],
   "source": [
    "files_json = os.listdir(path=os.getcwd() + \"/json_data\")\n",
    "files_json.sort()\n",
    "count_files_end = len(files_json)\n",
    "for file in files_json:\n",
    "    print(f\"Process: {file}  -  Remaing: {count_files_end} files.\")\n",
    "    dt.load_json(\"json_data/\" + file)\n",
    "    count_files_end -= 1"
   ]
  },
  {
   "cell_type": "code",
   "execution_count": null,
   "metadata": {},
   "outputs": [],
   "source": [
    "len(errors)"
   ]
  }
 ],
 "metadata": {
  "kernelspec": {
   "display_name": "Python 3.9.12 ('base')",
   "language": "python",
   "name": "python3"
  },
  "language_info": {
   "codemirror_mode": {
    "name": "ipython",
    "version": 3
   },
   "file_extension": ".py",
   "mimetype": "text/x-python",
   "name": "python",
   "nbconvert_exporter": "python",
   "pygments_lexer": "ipython3",
   "version": "3.9.12"
  },
  "orig_nbformat": 4,
  "vscode": {
   "interpreter": {
    "hash": "c9cdd2fa3b32da9704bd8048bdba085d67219855a318f4adc7f095bb5cfa603b"
   }
  }
 },
 "nbformat": 4,
 "nbformat_minor": 2
}
