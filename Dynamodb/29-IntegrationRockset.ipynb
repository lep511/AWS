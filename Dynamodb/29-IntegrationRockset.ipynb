{
 "cells": [
  {
   "cell_type": "markdown",
   "metadata": {},
   "source": [
    "## Rockset Pairs with DynamoDB for Complex Analytics\n",
    "\n",
    "#### [Workshop](https://rockset.awsworkshop.io/)\n",
    "\n",
    "While DynamoDB is great for real-time transactions, it can be paired with Rockset for analytical workloads, like complex aggregations and JOINs. Rockset is a real-time analytics database that’s able to ingest data with a data freshness of 1 - 2 seconds and execute heavy analytical SQL queries that JOIN, aggregate, and searche in milliseconds. When data is ingested from DynamoDB, it’s indexed via Rockset’s Converged Index™, so terabytes of deeply nested data are returned in under a second. Rockset’s Converged Index™ indexes all fields in the document via 3 different ways: a row index, columnar index, and an inverted index. Rockset also supports real-time updates, inserts, and deletes.\n",
    "\n",
    "Below is an architecture diagram of what sources you can integrate with Rockset to write and execute queries that JOIN, search, and aggregate. Once the queries are executed on Rockset, you can power real-time applications, like leaderboards, dashboards, personalization, and much more within seconds:\n",
    "\n",
    "![image](https://rockset.awsworkshop.io/images/Picture1.png)\n",
    "\n",
    "### Build Real-time Dashboards\n",
    "\n",
    "We’ll be simulating real-time transactional data that’ll be stored in DynamoDB. Our goal is to analyze that data on Rockset with SQL and then build a real-time dashboard with Grafana. Here’s what our architecture will look like:\n",
    "\n",
    "![image2](https://rockset.awsworkshop.io/images/Picture2.png)"
   ]
  },
  {
   "cell_type": "code",
   "execution_count": 43,
   "metadata": {},
   "outputs": [],
   "source": [
    "import boto3\n",
    "import pandas as pd\n",
    "import json\n",
    "import random\n",
    "from botocore.exceptions import ClientError\n",
    "from spdynamodb import DynamoTable\n",
    "\n",
    "s3 = boto3.resource('s3')\n",
    "sts = boto3.client('sts')"
   ]
  },
  {
   "cell_type": "code",
   "execution_count": null,
   "metadata": {},
   "outputs": [],
   "source": [
    "bucket_name = 'rockset-integration-'+str(random.randint(100000,999999))"
   ]
  },
  {
   "cell_type": "code",
   "execution_count": 3,
   "metadata": {},
   "outputs": [
    {
     "name": "stdout",
     "output_type": "stream",
     "text": [
      "Bucket created successfully: rockset-integration7391\n"
     ]
    }
   ],
   "source": [
    "# Create a bucket S3\n",
    "try:\n",
    "    s3.create_bucket(Bucket=bucket_name)\n",
    "    print(f\"Bucket created successfully: {bucket_name}\")\n",
    "except ClientError as e:\n",
    "    print(f\"Error creating bucket: {e}\")"
   ]
  },
  {
   "cell_type": "code",
   "execution_count": 15,
   "metadata": {},
   "outputs": [
    {
     "name": "stdout",
     "output_type": "stream",
     "text": [
      "- Table name: RocksetTable            \n",
      "- Table arn: arn:aws:dynamodb:us-east-1:572722647136:table/RocksetTable            \n",
      "- Table creation: 2023-12-22 08:15:39            \n",
      "- [{'AttributeName': 'id', 'KeyType': 'HASH'}]            \n",
      "- [{'AttributeName': 'id', 'AttributeType': 'S'}]            \n",
      "- Point-in-time recovery status: DISABLED  |  Delete protection: False\n"
     ]
    }
   ],
   "source": [
    "dt=DynamoTable()\n",
    "table_name='RocksetTable'\n",
    "try:\n",
    "    dt.select_table(table_name)\n",
    "    print(dt)\n",
    "except:\n",
    "    dt.create_table(\n",
    "        table_name='table_name',\n",
    "        partition_key='id',\n",
    "        partition_key_type='S',\n",
    "    ) "
   ]
  },
  {
   "cell_type": "code",
   "execution_count": 14,
   "metadata": {},
   "outputs": [],
   "source": [
    "df = pd.DataFrame({\n",
    "    'id': [\"1001\",\"1002\",\"1003\",\"1004\",\"1005\"],\n",
    "    'Title': ['The Great Gatsby','To Kill a Mockingbird','1984', 'Pride and Prejudice', 'The Odyssey'],\n",
    "    'Author': ['F. Scott Fitzgerald','Harper Lee','George Orwell', 'Jane Austen', 'Homer'],\n",
    "    'Length': [180, 281, 328, 226, 374],\n",
    "    'Published': [1925, 1960, 1949, 1813, 1922],\n",
    "    'Publisher': ['Charles Scribner\\'s Sons','J.B. Lippincott & Co.','Secker & Warburg', 'Penguin','Scribner']\n",
    "})\n",
    "dt.batch_pandas(df)"
   ]
  },
  {
   "cell_type": "markdown",
   "metadata": {},
   "source": [
    "### Configure AWS IAM Policy to setup integration with [Rockset](https://console.rockset.com/)"
   ]
  },
  {
   "cell_type": "code",
   "execution_count": 16,
   "metadata": {},
   "outputs": [],
   "source": []
  },
  {
   "cell_type": "code",
   "execution_count": 18,
   "metadata": {},
   "outputs": [
    {
     "name": "stdout",
     "output_type": "stream",
     "text": [
      "Policy created successfully: RocksetPolicy\n"
     ]
    }
   ],
   "source": [
    "# Create a policy\n",
    "iam = boto3.client('iam')\n",
    "policy_name = 'RocksetPolicy'\n",
    "\n",
    "policy = {\n",
    "    \"Version\": \"2012-10-17\",\n",
    "    \"Statement\": [\n",
    "      {\n",
    "        \"Effect\": \"Allow\",\n",
    "        \"Action\": [\n",
    "          \"dynamodb:GetShardIterator\",\n",
    "          \"dynamodb:Scan\",\n",
    "          \"dynamodb:DescribeStream\",\n",
    "          \"dynamodb:DescribeExport\",\n",
    "          \"dynamodb:GetRecords\",\n",
    "          \"dynamodb:DescribeTable\",\n",
    "          \"dynamodb:DescribeContinuousBackups\",\n",
    "          \"dynamodb:ExportTableToPointInTime\",\n",
    "          \"dynamodb:UpdateTable\",\n",
    "          \"dynamodb:UpdateContinuousBackups\",\n",
    "          \"s3:PutObject\",\n",
    "          \"s3:GetObject\",\n",
    "          \"s3:ListBucket\"\n",
    "      ],\n",
    "      \"Resource\": [\n",
    "          f\"arn:aws:dynamodb:*:*:table/{table_name}\",\n",
    "          f\"arn:aws:dynamodb:*:*:table/{table_name}/stream/*\",\n",
    "          f\"arn:aws:dynamodb:*:*:table/{table_name}/export/*\",\n",
    "          f\"arn:aws:s3:::{bucket_name}\",\n",
    "          f\"arn:aws:s3:::{bucket_name}/*\"\n",
    "      ]\n",
    "      }\n",
    "    ]\n",
    "  }\n",
    "\n",
    "try:\n",
    "    response = iam.create_policy(\n",
    "        PolicyName=policy_name,\n",
    "        PolicyDocument=json.dumps(policy)\n",
    "    )\n",
    "    print(f\"Policy created successfully: {policy_name}\")\n",
    "except ClientError as e:\n",
    "    print(f\"Error creating policy: {e}\")  "
   ]
  },
  {
   "cell_type": "code",
   "execution_count": 19,
   "metadata": {},
   "outputs": [
    {
     "name": "stdout",
     "output_type": "stream",
     "text": [
      "Role created successfully: RocksetRole\n"
     ]
    }
   ],
   "source": [
    "# Create a role for Another AWS Account access\n",
    "role_name = 'RocksetRole'\n",
    "role_description = 'Allows Rockset to access resources in your AWS account'\n",
    "rockset_account_id = '318212636800'\n",
    "rockset_external_id = '4e0e65d62c5b511909afddbe6c904cfffd5097ab6a4266e548620dac4255b889'\n",
    "\n",
    "try:\n",
    "    response = iam.create_role(\n",
    "        RoleName=role_name,\n",
    "        Description=role_description,\n",
    "        AssumeRolePolicyDocument=json.dumps({\n",
    "            \"Version\": \"2012-10-17\",\n",
    "            \"Statement\": [\n",
    "              {\n",
    "                \"Effect\": \"Allow\",\n",
    "                \"Principal\": {\n",
    "                  \"AWS\": f\"arn:aws:iam::{rockset_account_id}:root\"\n",
    "                },\n",
    "                \"Action\": \"sts:AssumeRole\",\n",
    "                \"Condition\": {\n",
    "                  \"StringEquals\": {\n",
    "                    \"sts:ExternalId\": rockset_external_id\n",
    "                  }\n",
    "                }\n",
    "              }\n",
    "            ]\n",
    "          })\n",
    "    )\n",
    "    print(f\"Role created successfully: {role_name}\")\n",
    "\n",
    "except ClientError as e:\n",
    "    print(f\"Error creating role: {e}\")"
   ]
  },
  {
   "cell_type": "code",
   "execution_count": 22,
   "metadata": {},
   "outputs": [
    {
     "name": "stdout",
     "output_type": "stream",
     "text": [
      "Policy attached successfully: RocksetPolicy to RocksetRole\n"
     ]
    }
   ],
   "source": [
    "# Get aws account id\n",
    "account_id = sts.get_caller_identity()['Account']\n",
    "\n",
    "# Attach the policy to the role\n",
    "try:\n",
    "    response = iam.attach_role_policy(\n",
    "        RoleName=role_name,\n",
    "        PolicyArn=f\"arn:aws:iam::{account_id}:policy/{policy_name}\"\n",
    "    )\n",
    "    print(f\"Policy attached successfully: {policy_name} to {role_name}\")\n",
    "\n",
    "except ClientError as e:\n",
    "    print(f\"Error attaching policy: {e}\")"
   ]
  },
  {
   "cell_type": "code",
   "execution_count": 26,
   "metadata": {},
   "outputs": [
    {
     "name": "stdout",
     "output_type": "stream",
     "text": [
      "Role ARN:\n",
      " arn:aws:iam::572722647136:role/RocksetRole\n"
     ]
    }
   ],
   "source": [
    "# Get the role ARN\n",
    "role_arn = iam.get_role(RoleName=role_name)['Role']['Arn']\n",
    "print(f\"Role ARN:\\n {role_arn}\")"
   ]
  },
  {
   "cell_type": "markdown",
   "metadata": {},
   "source": [
    "### S3 Integration\n",
    "\n",
    "Use the role that was previously created."
   ]
  },
  {
   "cell_type": "code",
   "execution_count": 48,
   "metadata": {},
   "outputs": [],
   "source": [
    "# Upload a file to S3\n",
    "file_name = 'IBM.csv'\n",
    "file_path = './'\n",
    "s3.Bucket(bucket_name).upload_file(file_path+file_name, file_name)"
   ]
  },
  {
   "cell_type": "code",
   "execution_count": 50,
   "metadata": {},
   "outputs": [
    {
     "name": "stdout",
     "output_type": "stream",
     "text": [
      "File path:\n",
      " s3://rockset-integration7391/IBM.csv\n"
     ]
    }
   ],
   "source": [
    "file_path = f\"s3://{bucket_name}/{file_name}\"\n",
    "print(f\"File path:\\n {file_path}\")"
   ]
  }
 ],
 "metadata": {
  "kernelspec": {
   "display_name": "personal",
   "language": "python",
   "name": "python3"
  },
  "language_info": {
   "codemirror_mode": {
    "name": "ipython",
    "version": 3
   },
   "file_extension": ".py",
   "mimetype": "text/x-python",
   "name": "python",
   "nbconvert_exporter": "python",
   "pygments_lexer": "ipython3",
   "version": "3.11.3"
  }
 },
 "nbformat": 4,
 "nbformat_minor": 2
}
