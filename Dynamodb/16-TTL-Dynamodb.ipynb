{
 "cells": [
  {
   "attachments": {},
   "cell_type": "markdown",
   "metadata": {},
   "source": [
    "## Uso del período de vida (TTL) de DynamoDB para caducar elementos\n",
    "\n",
    "Período de vida (TTL) para Amazon DynamoDB le permite definir una marca temporal por elemento para determinar cuándo ya no se necesita un elemento. Poco después de la fecha y hora de la marca de tiempo especificadas, DynamoDB elimina el elemento de su tabla y solo consume rendimiento cuando la eliminación se replica a otras regiones. TTL se proporciona sin costo adicional como medio para reducir los volúmenes de datos almacenados reteniendo solo los elementos que permanecen actualizados para las necesidades de su carga de trabajo.\n",
    "\n",
    "TTL es útil si almacena elementos que pierden relevancia después de un tiempo específico. A continuación, se muestran casos de uso de TTL de ejemplo:\n",
    "\n",
    "* Elimine datos del usuario o del sensor después de un año de inactividad en una aplicación.\n",
    "* Archive los elementos caducados en un lago de datos de Amazon S3 a través de Amazon DynamoDB Streams y AWS Lambda.\n",
    "* Retenga la información confidencial durante un periodo determinado de tiempo de acuerdo con las obligaciones contractuales o reglamentarias.\n",
    "\n",
    "Al habilitar TTL en una tabla, DynamoDB requiere que identifique un nombre de atributo específico que el servicio buscará al determinar si un elemento cumple los requisitos para el vencimiento. Además, otros requisitos garantizan que los procesos de TTL en segundo plano utilicen el valor del atributo de TTL. Si un elemento cumple los requisitos para el vencimiento a través de TTL:\n",
    "\n",
    "* El elemento debe contener el atributo especificado cuando se habilitó TTL en la tabla. Por ejemplo, si especifica que una tabla utilice el nombre del atributo expdate como atributo de TTL, pero un elemento no tiene un atributo con ese nombre, el proceso de TTL ignora el elemento.\n",
    "\n",
    "* El valor del atributo de TTL debe ser un tipo de datos Number de nivel superior. Por ejemplo, si especifica que una tabla utilice el nombre del atributo expdate como atributo de TTL, pero el atributo de un elemento es un tipo de datos String, los procesos de TTL ignoran el elemento.\n",
    "\n",
    "* El valor del atributo de TTL debe ser una marca temporal en formato de tiempo Unix en segundos. Si utiliza cualquier otro formato, los procesos de TTL ignoran el elemento. Por ejemplo, si establece el valor del atributo en 1645119622, es decir, jueves 17 de febrero de 2022 17:40:22 h (GMT), el elemento vencerá después de ese momento. Para obtener ayuda para dar formato a las marcas de tiempo de fecha de inicio, puede utilizar herramientas de terceros, como Convertidor de fecha de inicio para obtener un formulario web visual.\n",
    "\n",
    "* El valor del atributo de TTL debe ser una fecha y hora con un vencimiento de no más de cinco años en el pasado. Por ejemplo, si establece el valor del atributo en 1171734022, es decir, 17 de febrero de 2007 17:40:22 h (GMT) y más de cinco años. Como resultado, los procesos de TTL no vencen ese elemento.\n",
    "\n",
    "### Notas de uso\n",
    "\n",
    "Al usar TTL, tenga en cuenta lo siguiente:\n",
    "\n",
    "* Habilitar, desactivar o cambiar la configuración de TTL en una tabla puede tardar aproximadamente una hora en propagarse la configuración y permitir la ejecución de cualquier otra acción relacionada con TTL.\n",
    "\n",
    "* No se puede volver a configurar TTL para buscar un atributo diferente. Debe desactivar TTL y, a continuación, volver a habilitar TTL con el nuevo atributo en el futuro.\n",
    "\n",
    "* Puede utilizar las políticas de AWS Identity and Access Management (IAM) para evitar actualizaciones no autorizadas del atributo de TTL en un elemento o la configuración de TTL. Si permite el acceso solo a acciones especificadas en las políticas de IAM existentes, asegúrese de que las políticas se actualizan para permitir dynamodb:UpdateTimeToLive para roles que necesitan habilitar o desactivar TTL en tablas. Para obtener más información, consulte Uso de políticas basadas en identidad (Políticas de IAM) para Amazon DynamoDB.\n",
    "\n",
    "* Considere si necesita realizar cualquier procesamiento posterior de elementos eliminados a través de Amazon DynamoDB Streams, como archivar elementos en un lago de datos de Amazon S3. Los registros de Streams de eliminaciones de TTL destacan en una transmisión, ya que se marcan como eliminaciones del sistema en vez de eliminaciones normales. Puede filtrar estas eliminaciones del sistema y procesarlas posteriormente mediante una combinación de filtros de eventos de AWS Lambda y una función de AWS Lambda. Para obtener más información acerca de las incorporaciones a los registros de transmisiones, consulte Amazon DynamoDB Streams y Período de vida.\n",
    "\n",
    "* Si la recuperación de datos es un problema, le recomendamos que realice una copia de seguridad de las tablas.\n",
    "\n",
    "    * Para backup de tablas totalmente administradas, utilice on-demand backups (backup en diferido) or continuous backups with point-in-time recovery (Backup continuo con recuperación a un momento dado) de DynamoDB.\n",
    "\n",
    "    * Para una periodo de recuperación de 24 horas, puede utilizar Amazon DynamoDB Streams. Para obtener más información, consulte Amazon DynamoDB Streams y período de vida."
   ]
  },
  {
   "cell_type": "code",
   "execution_count": 11,
   "metadata": {},
   "outputs": [],
   "source": [
    "import boto3\n",
    "import uuid\n",
    "from botocore.exceptions import ClientError\n",
    "import pandas as pd\n",
    "from spdynamodb import DynamoTable\n",
    "import json\n",
    "from decimal import Decimal\n",
    "from datetime import datetime, timedelta\n",
    "import time\n",
    "import random"
   ]
  },
  {
   "cell_type": "code",
   "execution_count": 4,
   "metadata": {},
   "outputs": [
    {
     "name": "stdout",
     "output_type": "stream",
     "text": [
      "Table created successfully!\n"
     ]
    }
   ],
   "source": [
    "dt=DynamoTable()\n",
    "try:\n",
    "    dt.select_table('SessionData')\n",
    "    print(dt)\n",
    "except:\n",
    "    dt.create_table(\n",
    "        table_name='SessionData',\n",
    "        partition_key='UserName',\n",
    "        partition_key_type='S',\n",
    "        sort_key='SessionId',\n",
    "        sort_key_type='S'\n",
    "    )"
   ]
  },
  {
   "cell_type": "code",
   "execution_count": 31,
   "metadata": {},
   "outputs": [],
   "source": [
    "today = datetime.now().strftime('%Y-%m-%d')\n",
    "def generate_data(total_items=300):\n",
    "    count_total = 0  \n",
    "    UserName, SessionId, CreationTime, ExpirationTime, SessionInfo = [], [], [], [], []\n",
    "    for i in range(total_items):\n",
    "        if count_total == total_items:\n",
    "            break\n",
    "        else:\n",
    "            count_total += 1\n",
    "            now_time = datetime.now()\n",
    "            # TTL in 7 days\n",
    "            ttl_time = now_time + timedelta(days=7)\n",
    "            uuid_session = str(uuid.uuid4())\n",
    "            UserName.append('user'+str(random.randint(1, 100)))\n",
    "            SessionId.append(uuid_session)\n",
    "            CreationTime.append(int(now_time.timestamp()))\n",
    "            ExpirationTime.append(int(ttl_time.timestamp()))\n",
    "            SessionInfo.append({'SessionId': uuid_session, 'UserName': 'user'+str(random.randint(1, 100)), 'Date': today})\n",
    "        \n",
    "    df_main = pd.DataFrame(\n",
    "        {\n",
    "            'UserName': UserName,\n",
    "            'SessionId': SessionId,\n",
    "            'CreationTime': CreationTime,\n",
    "            'ExpirationTime': ExpirationTime,\n",
    "            'SessionInfo': SessionInfo\n",
    "        }\n",
    "    )   \n",
    "    return df_main"
   ]
  },
  {
   "cell_type": "code",
   "execution_count": 32,
   "metadata": {},
   "outputs": [],
   "source": [
    "df = generate_data(total_items=300)\n",
    "dt.batch_pandas(df)"
   ]
  },
  {
   "attachments": {},
   "cell_type": "markdown",
   "metadata": {},
   "source": [
    "### Habilitar TTL en la tabla"
   ]
  },
  {
   "cell_type": "code",
   "execution_count": 33,
   "metadata": {},
   "outputs": [],
   "source": [
    "client_dynamodb = boto3.client('dynamodb', region_name='us-east-1')"
   ]
  },
  {
   "cell_type": "code",
   "execution_count": 36,
   "metadata": {},
   "outputs": [
    {
     "data": {
      "text/plain": [
       "{'TimeToLiveSpecification': {'Enabled': True,\n",
       "  'AttributeName': 'ExpirationTime'},\n",
       " 'ResponseMetadata': {'RequestId': 'O4032NV04M2J3AOI3FL4I4I6PRVV4KQNSO5AEMVJF66Q9ASUAAJG',\n",
       "  'HTTPStatusCode': 200,\n",
       "  'HTTPHeaders': {'server': 'Server',\n",
       "   'date': 'Fri, 23 Jun 2023 23:16:50 GMT',\n",
       "   'content-type': 'application/x-amz-json-1.0',\n",
       "   'content-length': '77',\n",
       "   'connection': 'keep-alive',\n",
       "   'x-amzn-requestid': 'O4032NV04M2J3AOI3FL4I4I6PRVV4KQNSO5AEMVJF66Q9ASUAAJG',\n",
       "   'x-amz-crc32': '1019368986'},\n",
       "  'RetryAttempts': 0}}"
      ]
     },
     "execution_count": 36,
     "metadata": {},
     "output_type": "execute_result"
    }
   ],
   "source": [
    "client_dynamodb.update_time_to_live(\n",
    "    TableName=dt.table_name,\n",
    "    TimeToLiveSpecification={\n",
    "        'Enabled': True,\n",
    "        'AttributeName': 'ExpirationTime'\n",
    "    }\n",
    ")"
   ]
  },
  {
   "cell_type": "code",
   "execution_count": null,
   "metadata": {},
   "outputs": [],
   "source": []
  }
 ],
 "metadata": {
  "kernelspec": {
   "display_name": "personal",
   "language": "python",
   "name": "python3"
  },
  "language_info": {
   "codemirror_mode": {
    "name": "ipython",
    "version": 3
   },
   "file_extension": ".py",
   "mimetype": "text/x-python",
   "name": "python",
   "nbconvert_exporter": "python",
   "pygments_lexer": "ipython3",
   "version": "3.11.3"
  },
  "orig_nbformat": 4
 },
 "nbformat": 4,
 "nbformat_minor": 2
}
