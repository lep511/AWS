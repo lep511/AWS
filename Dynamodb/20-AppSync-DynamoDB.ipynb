{
 "cells": [
  {
   "attachments": {},
   "cell_type": "markdown",
   "metadata": {},
   "source": [
    "## API GraphQL de DynamoDB en AWS AppSync\n",
    "\n",
    "AWS AppSync permite a los desarrolladores conectar sus aplicaciones y servicios a datos y eventos con API GraphQL y Pub/Sub seguras, sin servidor y de alto desempeño. Puede hacer lo siguiente con AWS AppSync:\n",
    "\n",
    "* Acceder a datos de una o varias fuentes de datos desde un único punto de enlace de API GraphQL.\n",
    "\n",
    "* Combinar varias API GraphQL de origen en una única API GraphQL fusionada.\n",
    "\n",
    "* Publique actualizaciones de datos en tiempo real en sus aplicaciones.\n",
    "\n",
    "* Aproveche la seguridad, la supervisión, el registro y el rastreo integrados, con almacenamiento en caché opcional para una baja latencia.\n",
    "\n",
    "* Pague únicamente por las solicitudes de API y los mensajes en tiempo real que se entreguen."
   ]
  },
  {
   "cell_type": "code",
   "execution_count": 1,
   "metadata": {},
   "outputs": [],
   "source": [
    "import boto3\n",
    "from botocore.exceptions import ClientError\n",
    "import pandas as pd\n",
    "from spdynamodb import DynamoTable\n",
    "import json\n",
    "from decimal import Decimal\n",
    "from datetime import datetime\n",
    "import time"
   ]
  },
  {
   "cell_type": "code",
   "execution_count": 2,
   "metadata": {},
   "outputs": [
    {
     "name": "stdout",
     "output_type": "stream",
     "text": [
      "Table created successfully!\n"
     ]
    }
   ],
   "source": [
    "dt=DynamoTable()\n",
    "try:\n",
    "    dt.select_table('Books')\n",
    "    print(dt)\n",
    "except:\n",
    "    dt.create_table(\n",
    "        table_name='Books',\n",
    "        partition_key='ISBN',\n",
    "        partition_key_type='S'\n",
    "    )"
   ]
  },
  {
   "cell_type": "code",
   "execution_count": 3,
   "metadata": {},
   "outputs": [
    {
     "name": "stdout",
     "output_type": "stream",
     "text": [
      "Overwriting bookdata.json\n"
     ]
    }
   ],
   "source": [
    "%%writefile bookdata.json\n",
    "[\n",
    "    {\n",
    "        \"ISBN\": \"978-1982121089\",\n",
    "        \"Author\": \"John Grisham\",\n",
    "        \"Title\": \"The Rainmaker\",\n",
    "        \"Category\": \"Suspense\"\n",
    "    },\n",
    "    {\n",
    "        \"ISBN\": \"978-1982121090\",\n",
    "        \"Author\": \"William Shakespeare\",\n",
    "        \"Title\": \"The Tempest\",\n",
    "        \"Category\": \"Romance\"\n",
    "    },\n",
    "    {\n",
    "        \"ISBN\": \"978-1982121091\",\n",
    "        \"Author\": \"Charles Dickens\",\n",
    "        \"Title\": \"Great Expectations\",\n",
    "        \"Category\": \"Romance\"\n",
    "    },\n",
    "    {\n",
    "        \"ISBN\": \"978-1982121092\",\n",
    "        \"Author\": \"James Patterson\",\n",
    "        \"Title\": \"Along Came a Spider\",\n",
    "        \"Category\": \"Suspense\"\n",
    "    },\n",
    "    {\n",
    "        \"ISBN\": \"978-1982121093\",\n",
    "        \"Author\": \"Dr. Seuss\",\n",
    "        \"Title\": \"Green Eggs and Ham\",\n",
    "        \"Category\": \"Children\"\n",
    "    },\n",
    "    {\n",
    "        \"ISBN\": \"978-1982121094\",\n",
    "        \"Author\": \"Julie Simon\",\n",
    "        \"Title\": \"Learn Amazon SageMaker\",\n",
    "        \"Category\": \"Technology\"\n",
    "    }\n",
    "]"
   ]
  },
  {
   "cell_type": "code",
   "execution_count": 4,
   "metadata": {},
   "outputs": [
    {
     "name": "stdout",
     "output_type": "stream",
     "text": [
      "Data loaded successfully from bookdata.json.\n"
     ]
    }
   ],
   "source": [
    "dt.load_json('bookdata.json')"
   ]
  },
  {
   "attachments": {},
   "cell_type": "markdown",
   "metadata": {},
   "source": [
    "### AppSync API\n",
    "\n",
    "Vamos a crear una API seleccionando Build from Scratch, darle un nombre y crearla. AppSync similar a la mayoría de graphQL API, si usted está familiarizado con uno, tiene;\n",
    "\n",
    "* **Fuentes de datos:** Fuente de los datos en AppSync api. Conectaremos dynamoDB mediante esta función. Hay varias fuentes de datos que podemos seleccionar como; Elastic Search, Lambda Function, Bases de datos relacionales, etc.\n",
    "\n",
    "* **Esquema:** Schema es donde creamos qué tipos de datos hay y qué resolver para activar cuando se solicitan ciertas consultas, mutación de GraphQL API.\n",
    "\n",
    "* **Funciones:** Las funciones son operaciones que podemos hacer contra una fuente de datos. Podemos adjuntar funciones como un resolver después de crear una operación dentro del esquema. Veremos esto más adelante en esta historia.\n",
    "\n",
    "En primer lugar, creemos una fuente de datos y definámosla como la tabla `Books` creada anteriormente."
   ]
  },
  {
   "cell_type": "code",
   "execution_count": null,
   "metadata": {},
   "outputs": [],
   "source": [
    "schema {\n",
    "    query: Query\n",
    "    mutation: Mutation\n",
    "}\n",
    "\n",
    "type Query {\n",
    "    getPost(ISBN: ID): Post\n",
    "}\n",
    "\n",
    "type Mutation {\n",
    "    addPost(\n",
    "        ISBN: ID!\n",
    "        Author: String!\n",
    "        Title: String!\n",
    "        Category: String!\n",
    "    ): Post!\n",
    "}\n",
    "\n",
    "type Post {\n",
    "    ISBN: ID!\n",
    "    Author: String\n",
    "    Title: String\n",
    "    Category: String\n",
    "    ups: Int!\n",
    "    downs: Int!\n",
    "    version: Int!\n",
    "}"
   ]
  },
  {
   "attachments": {},
   "cell_type": "markdown",
   "metadata": {},
   "source": [
    "#### Crear una función\n",
    "\n",
    "Escribamos el código del resolvedor para obtener libros, que es una operación de Escaneo contra nuestra fuente de datos que creamos anteriormente. Pero como no podemos adjuntar una fuente de datos directamente a los resolvers de la línea de tuberías, necesitamos crear Funciones. Vayamos al menú de funciones de la barra lateral y creemos una función. Al crear una función, necesitamos utilizar una fuente de datos y un código de función. [Este documento](https://docs.aws.amazon.com/appsync/latest/devguide/js-resolver-reference-dynamodb.html#js-aws-appsync-resolver-reference-dynamodb-scan) contiene algunas de las operaciones que podemos realizar contra la fuente de datos dynamoDB y su formato de resultados.\n",
    "\n",
    "Este es el código de la función:"
   ]
  },
  {
   "cell_type": "code",
   "execution_count": null,
   "metadata": {},
   "outputs": [],
   "source": [
    "import { util } from '@aws-appsync/utils';\n",
    "\n",
    "export function request(ctx) {\n",
    "    return {\n",
    "        operation: \"Scan\",\n",
    "    };\n",
    "}\n",
    "\n",
    "export function response(ctx) {\n",
    "    return ctx.result;\n",
    "}"
   ]
  }
 ],
 "metadata": {
  "kernelspec": {
   "display_name": "personal",
   "language": "python",
   "name": "python3"
  },
  "language_info": {
   "codemirror_mode": {
    "name": "ipython",
    "version": 3
   },
   "file_extension": ".py",
   "mimetype": "text/x-python",
   "name": "python",
   "nbconvert_exporter": "python",
   "pygments_lexer": "ipython3",
   "version": "3.11.3"
  },
  "orig_nbformat": 4
 },
 "nbformat": 4,
 "nbformat_minor": 2
}
