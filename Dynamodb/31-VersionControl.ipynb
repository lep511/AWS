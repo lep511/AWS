{
 "cells": [
  {
   "cell_type": "markdown",
   "metadata": {},
   "source": [
    "## Implementación del control de versiones con Amazon DynamoDB\n",
    "Algunas aplicaciones requieren que registre cambios en los datos a lo largo del tiempo, y puede identificar estos cambios mediante una marca de tiempo o un número para que sea posible recuperar versiones específicas más adelante. Además, debes poder recuperar fácilmente la versión más reciente y el diseño de la aplicación para mantener la integridad de los datos a medida que las versiones aumentan constantemente.\n",
    "\n",
    "En esta publicación se explica cómo diseñar e implementar el control de versiones basado en tiempo y número en Amazon DynamoDB. En los cuatro ejemplos se utiliza una clave principal compuesta para modelar las versiones históricas de los datos y facilitar la recuperación de la versión más reciente de los datos. \n",
    "\n",
    "### Versionado basado en el tiempo\n",
    "Cuando los cambios en los datos se producen de forma secuencial a lo largo del tiempo, puedes utilizar una marca de tiempo para versionar los datos siempre que acompañe a los datos modificados. Por ejemplo, quizás necesites diseñar un modelo de datos para una fábrica que tiene muchas partes, y cada parte envía datos de estado cada 2 minutos. Tienes que almacenar el estado histórico de cada parte en la base de datos. El siguiente modelo de datos ilustra cómo podría modelar estos datos en DynamoDB.\n",
    "\n",
    "![image](https://d2908q01vomqb2.cloudfront.net/887309d048beef83ad3eabf2a79a64a389ab1c9f/2020/12/15/DBBLOG-1276-1.jpg)\n",
    "\n",
    "Cada dato de estado (1) se añade a la colección de elementos de equipo, y la clave de clasificación contiene la marca de tiempo acompañada de los datos de estado. El elemento Metadatos (2) actúa como metadatos para una entidad de equipo, conteniendo atributos específicos de esta entidad, como Nombre, FactoryID y LineID. Este elemento rara vez se actualiza."
   ]
  },
  {
   "cell_type": "code",
   "execution_count": 1,
   "metadata": {},
   "outputs": [],
   "source": [
    "import boto3\n",
    "from botocore.exceptions import ClientError\n",
    "import pandas as pd\n",
    "import base64\n",
    "from spdynamodb import DynamoTable\n",
    "from datetime import datetime\n",
    "import json\n",
    "import time\n",
    "from decimal import Decimal"
   ]
  },
  {
   "cell_type": "code",
   "execution_count": 5,
   "metadata": {},
   "outputs": [],
   "source": [
    "data = [\n",
    "    {'PK': 'Equipment#1', 'SK': '2023-10-03T12:32:00', 'State': 'NORMAL'},\n",
    "    {'PK': 'Equipment#1', 'SK': '2023-11-05T12:12:00', 'State': 'WARNING1'}, \n",
    "    {'PK': 'Equipment#1', 'SK': '2023-11-06T12:05:00', 'State': 'NORMAL'},\n",
    "    {'PK': 'Equipment#6', 'SK': '2024-03-07T22:09:29', 'State': 'ERROR'},\n",
    "    {'PK': 'Equipment#6', 'SK': '2024-03-30T22:09:29', 'State': 'WARNING2'},\n",
    "    {'PK': 'Equipment#118', 'SK': '2023-12-15T08:30:00', 'State': 'NORMAL'},\n",
    "    {'PK': 'Equipment#118', 'SK': '2023-12-16T09:45:00', 'State': 'WARNING1'},\n",
    "    {'PK': 'Equipment#118', 'SK': '2023-12-17T10:20:00', 'State': 'NORMAL'},\n",
    "    {'PK': 'Equipment#118', 'SK': '2023-12-18T11:05:00', 'State': 'ERROR'},\n",
    "    {'PK': 'Equipment#118', 'SK': '2023-12-19T12:15:00', 'State': 'WARNING2'}\n",
    "]\n",
    "\n",
    "equipment1 = {'PK': 'Equipment#1', 'SK': 'Metadata', 'Name': 'Equipment-001', 'FactoryId': 'F#88546'}\n",
    "equipment6 = {'PK': 'Equipment#6', 'SK': 'Metadata', 'Name': 'Equipment-006', 'FactoryId': 'F#56658'}\n",
    "equipment118 = {'PK': 'Equipment#118', 'SK': 'Metadata', 'Name': 'Equipment-118', 'FactoryId': 'F#88985'}"
   ]
  },
  {
   "cell_type": "code",
   "execution_count": 2,
   "metadata": {},
   "outputs": [
    {
     "name": "stdout",
     "output_type": "stream",
     "text": [
      "Table info:\n",
      " - Table name: VersionTable\n",
      " - Table arn: arn:aws:dynamodb:us-east-1:089715336747:table/VersionTable\n",
      " - Table creation: 2024-08-20T13:43:27\n",
      " - Key schema: [{'AttributeName': 'PK', 'KeyType': 'HASH'}, {'AttributeName': 'SK', 'KeyType': 'RANGE'}]\n",
      " - Attribute definitions: [{'AttributeName': 'PK', 'AttributeType': 'S'}, {'AttributeName': 'SK', 'AttributeType': 'S'}]\n",
      " - Table class: STANDARD\n",
      " - Point-in-time recovery status: DISABLED\n",
      " - Delete protection: False\n",
      " - Stream enabled: OFF\n",
      "\n"
     ]
    }
   ],
   "source": [
    "dt = DynamoTable(\n",
    "    table_name='VersionTable'\n",
    "    #profile_name='my-profile'\n",
    ")\n",
    "\n",
    "if not dt.table_name:\n",
    "    dt.create_table(\n",
    "        table_name='VersionTable',\n",
    "        partition_key='PK',\n",
    "        partition_key_type='S',\n",
    "        sort_key='SK',\n",
    "        sort_key_type='S'\n",
    "        #profile_name='my-profile'\n",
    "    )\n",
    "    \n",
    "else:\n",
    "    print(dt)"
   ]
  },
  {
   "cell_type": "code",
   "execution_count": 6,
   "metadata": {},
   "outputs": [
    {
     "name": "stdout",
     "output_type": "stream",
     "text": [
      "Data loaded successfully in 0.14 seconds.\n"
     ]
    }
   ],
   "source": [
    "dt.add_item(equipment1)\n",
    "dt.add_item(equipment6)\n",
    "dt.add_item(equipment118)\n",
    "dt.write_batch(data)"
   ]
  },
  {
   "cell_type": "markdown",
   "metadata": {},
   "source": [
    "El tipo de datos del atributo sort key es String, lo que significa que los elementos de una colección de elementos se ordenan por orden de bytes UTF-8. Cuando se ejecuta una operación de consulta, los resultados se devuelven por defecto en orden ascendente. En el código anterior, para invertir el orden, el parámetro `ScanIndexForward` se establece en false, lo que significa que el elemento con Metadata como clave de ordenación es el primer elemento devuelto, seguido de los elementos con timestamp como clave de ordenación, del más reciente al más antiguo. Para recuperar sólo el elemento con la fecha más reciente en la clave de ordenación, se utiliza la función `begins_with()` en la `KeyConditionExpression`, así como `Limit`, que especifica el número máximo de elementos a evaluar."
   ]
  },
  {
   "cell_type": "code",
   "execution_count": 7,
   "metadata": {},
   "outputs": [
    {
     "data": {
      "text/html": [
       "<div>\n",
       "<style scoped>\n",
       "    .dataframe tbody tr th:only-of-type {\n",
       "        vertical-align: middle;\n",
       "    }\n",
       "\n",
       "    .dataframe tbody tr th {\n",
       "        vertical-align: top;\n",
       "    }\n",
       "\n",
       "    .dataframe thead th {\n",
       "        text-align: right;\n",
       "    }\n",
       "</style>\n",
       "<table border=\"1\" class=\"dataframe\">\n",
       "  <thead>\n",
       "    <tr style=\"text-align: right;\">\n",
       "      <th></th>\n",
       "      <th>State</th>\n",
       "      <th>PK</th>\n",
       "      <th>SK</th>\n",
       "    </tr>\n",
       "  </thead>\n",
       "  <tbody>\n",
       "    <tr>\n",
       "      <th>0</th>\n",
       "      <td>WARNING2</td>\n",
       "      <td>Equipment#118</td>\n",
       "      <td>2023-12-19T12:15:00</td>\n",
       "    </tr>\n",
       "    <tr>\n",
       "      <th>1</th>\n",
       "      <td>ERROR</td>\n",
       "      <td>Equipment#118</td>\n",
       "      <td>2023-12-18T11:05:00</td>\n",
       "    </tr>\n",
       "    <tr>\n",
       "      <th>2</th>\n",
       "      <td>NORMAL</td>\n",
       "      <td>Equipment#118</td>\n",
       "      <td>2023-12-17T10:20:00</td>\n",
       "    </tr>\n",
       "    <tr>\n",
       "      <th>3</th>\n",
       "      <td>WARNING1</td>\n",
       "      <td>Equipment#118</td>\n",
       "      <td>2023-12-16T09:45:00</td>\n",
       "    </tr>\n",
       "    <tr>\n",
       "      <th>4</th>\n",
       "      <td>NORMAL</td>\n",
       "      <td>Equipment#118</td>\n",
       "      <td>2023-12-15T08:30:00</td>\n",
       "    </tr>\n",
       "  </tbody>\n",
       "</table>\n",
       "</div>"
      ],
      "text/plain": [
       "      State             PK                   SK\n",
       "0  WARNING2  Equipment#118  2023-12-19T12:15:00\n",
       "1     ERROR  Equipment#118  2023-12-18T11:05:00\n",
       "2    NORMAL  Equipment#118  2023-12-17T10:20:00\n",
       "3  WARNING1  Equipment#118  2023-12-16T09:45:00\n",
       "4    NORMAL  Equipment#118  2023-12-15T08:30:00"
      ]
     },
     "execution_count": 7,
     "metadata": {},
     "output_type": "execute_result"
    }
   ],
   "source": [
    "result = dt.query(pk_value=\"Equipment#118\", sk_value=\"2023-12*\", to_pandas=True, reverse=False)\n",
    "result"
   ]
  },
  {
   "cell_type": "code",
   "execution_count": 8,
   "metadata": {},
   "outputs": [
    {
     "data": {
      "text/html": [
       "<div>\n",
       "<style scoped>\n",
       "    .dataframe tbody tr th:only-of-type {\n",
       "        vertical-align: middle;\n",
       "    }\n",
       "\n",
       "    .dataframe tbody tr th {\n",
       "        vertical-align: top;\n",
       "    }\n",
       "\n",
       "    .dataframe thead th {\n",
       "        text-align: right;\n",
       "    }\n",
       "</style>\n",
       "<table border=\"1\" class=\"dataframe\">\n",
       "  <thead>\n",
       "    <tr style=\"text-align: right;\">\n",
       "      <th></th>\n",
       "      <th>State</th>\n",
       "      <th>PK</th>\n",
       "      <th>SK</th>\n",
       "      <th>FactoryId</th>\n",
       "      <th>Name</th>\n",
       "    </tr>\n",
       "  </thead>\n",
       "  <tbody>\n",
       "    <tr>\n",
       "      <th>0</th>\n",
       "      <td>ERROR</td>\n",
       "      <td>Equipment#6</td>\n",
       "      <td>2024-03-07T22:09:29</td>\n",
       "      <td>NaN</td>\n",
       "      <td>NaN</td>\n",
       "    </tr>\n",
       "    <tr>\n",
       "      <th>1</th>\n",
       "      <td>WARNING2</td>\n",
       "      <td>Equipment#6</td>\n",
       "      <td>2024-03-30T22:09:29</td>\n",
       "      <td>NaN</td>\n",
       "      <td>NaN</td>\n",
       "    </tr>\n",
       "    <tr>\n",
       "      <th>2</th>\n",
       "      <td>NaN</td>\n",
       "      <td>Equipment#6</td>\n",
       "      <td>Metadata</td>\n",
       "      <td>F#56658</td>\n",
       "      <td>Equipment-006</td>\n",
       "    </tr>\n",
       "  </tbody>\n",
       "</table>\n",
       "</div>"
      ],
      "text/plain": [
       "      State           PK                   SK FactoryId           Name\n",
       "0     ERROR  Equipment#6  2024-03-07T22:09:29       NaN            NaN\n",
       "1  WARNING2  Equipment#6  2024-03-30T22:09:29       NaN            NaN\n",
       "2       NaN  Equipment#6             Metadata   F#56658  Equipment-006"
      ]
     },
     "execution_count": 8,
     "metadata": {},
     "output_type": "execute_result"
    }
   ],
   "source": [
    "result = dt.query(pk_value=\"Equipment#6\", to_pandas=True)\n",
    "result"
   ]
  },
  {
   "cell_type": "markdown",
   "metadata": {},
   "source": [
    "### Versión numérica\n",
    "Por el contrario, algunas aplicaciones requieren una versión basada en números que se actualice a la versión inmediatamente superior después de cada cambio en los datos, incluso aunque se disponga de una marca de tiempo. Para modelar versiones históricas de datos y recuperar fácilmente la versión más reciente de los datos, puede utilizar una clave primaria compuesta para su tabla DynamoDB y seguir el patrón de diseño de control de versiones utilizando prefijos de clave de ordenación.\n",
    "\n",
    "Supongamos que necesita utilizar una versión basada en números en lugar de una versión basada en tiempo para nuestro caso de uso de fábrica, en el que debe almacenar el estado histórico de cada equipo en la base de datos. El siguiente modelo de datos ilustra cómo puede modelar estos datos en DynamoDB."
   ]
  },
  {
   "cell_type": "code",
   "execution_count": 10,
   "metadata": {},
   "outputs": [
    {
     "name": "stdout",
     "output_type": "stream",
     "text": [
      "Table info:\n",
      " - Table name: VersionNumTable\n",
      " - Table arn: arn:aws:dynamodb:us-east-1:089715336747:table/VersionNumTable\n",
      " - Table creation: 2024-08-20T13:45:33\n",
      " - Key schema: [{'AttributeName': 'PK', 'KeyType': 'HASH'}, {'AttributeName': 'SK', 'KeyType': 'RANGE'}]\n",
      " - Attribute definitions: [{'AttributeName': 'PK', 'AttributeType': 'S'}, {'AttributeName': 'SK', 'AttributeType': 'S'}]\n",
      " - Table class: STANDARD\n",
      " - Point-in-time recovery status: DISABLED\n",
      " - Delete protection: False\n",
      " - Stream enabled: OFF\n",
      "\n"
     ]
    }
   ],
   "source": [
    "dt = DynamoTable(\n",
    "    table_name='VersionNumTable'\n",
    "    #profile_name='my-profile'\n",
    ")\n",
    "\n",
    "if not dt.table_name:\n",
    "    dt.create_table(\n",
    "        table_name='VersionNumTable',\n",
    "        partition_key='PK',\n",
    "        partition_key_type='S',\n",
    "        sort_key='SK',\n",
    "        sort_key_type='S'\n",
    "        #profile_name='my-profile'\n",
    "    )\n",
    "    \n",
    "print(dt)"
   ]
  },
  {
   "cell_type": "code",
   "execution_count": 11,
   "metadata": {},
   "outputs": [],
   "source": [
    "data = [\n",
    "    {'PK': 'Equipment#1', 'SK': 'v01', 'Time': '2023-10-03T12:32:00', 'State': 'NORMAL'},\n",
    "    {'PK': 'Equipment#1', 'SK': 'v02', 'Time': '2023-11-05T12:12:00', 'State': 'WARNING1'}, \n",
    "    {'PK': 'Equipment#1', 'SK': 'v03', 'Time': '2023-11-06T12:05:00', 'State': 'NORMAL'},\n",
    "    {'PK': 'Equipment#6', 'SK': 'v01', 'Time': '2024-03-07T22:09:29', 'State': 'ERROR'},\n",
    "    {'PK': 'Equipment#6', 'SK': 'v02', 'Time': '2024-03-30T22:09:29', 'State': 'WARNING2'},\n",
    "    {'PK': 'Equipment#118', 'SK': 'v01', 'Time': '2023-12-15T08:30:00', 'State': 'NORMAL'},\n",
    "    {'PK': 'Equipment#118', 'SK': 'v02', 'Time': '2023-12-16T09:45:00', 'State': 'WARNING1'},\n",
    "    {'PK': 'Equipment#118', 'SK': 'v03', 'Time': '2023-12-17T10:20:00', 'State': 'NORMAL'},\n",
    "    {'PK': 'Equipment#118', 'SK': 'v04', 'Time': '2023-12-18T11:05:00', 'State': 'ERROR'},\n",
    "    {'PK': 'Equipment#118', 'SK': 'v05', 'Time': '2023-12-19T12:15:00', 'State': 'WARNING2'}\n",
    "]\n",
    "\n",
    "equipment1 = {'PK': 'Equipment#1', 'SK': 'Metadata', 'Name': 'Equipment-001', 'FactoryId': 'F#88546'}\n",
    "equipment6 = {'PK': 'Equipment#6', 'SK': 'Metadata', 'Name': 'Equipment-006', 'FactoryId': 'F#56658'}\n",
    "equipment118 = {'PK': 'Equipment#118', 'SK': 'Metadata', 'Name': 'Equipment-118', 'FactoryId': 'F#88985'}"
   ]
  },
  {
   "cell_type": "code",
   "execution_count": 12,
   "metadata": {},
   "outputs": [
    {
     "name": "stdout",
     "output_type": "stream",
     "text": [
      "Data loaded successfully in 0.14 seconds.\n"
     ]
    }
   ],
   "source": [
    "dt.add_item(equipment1)\n",
    "dt.add_item(equipment6)\n",
    "dt.add_item(equipment118)\n",
    "dt.write_batch(data)"
   ]
  },
  {
   "cell_type": "markdown",
   "metadata": {},
   "source": [
    "![image](https://d2908q01vomqb2.cloudfront.net/887309d048beef83ad3eabf2a79a64a389ab1c9f/2020/12/15/DBBLOG-1276-2.jpg)\n",
    "\n",
    "El elemento con la clave de clasificación Metadatos (1) actúa como metadatos para una entidad de equipo, conteniendo atributos específicos de la entidad, como Nombre, FactoryID y LineID. Este elemento rara vez se actualiza.\n",
    "\n",
    "El elemento con v0 en la clave de clasificación (2) contiene una copia de la última revisión del equipo, incluyendo todos sus atributos, y también el atributo Latest, que contiene el número de la última versión. Este elemento siempre se actualiza con el contenido de la versión más reciente.\n",
    "\n",
    "Cada vez que se actualiza el equipo, se añade un nuevo elemento con la versión inmediatamente superior en la clave de clasificación y el contenido actualizado (3)."
   ]
  },
  {
   "cell_type": "code",
   "execution_count": 13,
   "metadata": {},
   "outputs": [
    {
     "name": "stdout",
     "output_type": "stream",
     "text": [
      "Data loaded successfully in 0.14 seconds.\n"
     ]
    }
   ],
   "source": [
    "data_v0 = [\n",
    "    {'PK': 'Equipment#1', 'SK': 'v00', 'Time': '2023-11-06T12:05:00', 'State': 'NORMAL'},\n",
    "    {'PK': 'Equipment#6', 'SK': 'v00', 'Time': '2024-03-30T22:09:29', 'State': 'WARNING2'},\n",
    "    {'PK': 'Equipment#118', 'SK': 'v00', 'Time': '2023-12-19T12:15:00', 'State': 'WARNING2'}\n",
    "]\n",
    "dt.write_batch(data_v0)"
   ]
  },
  {
   "cell_type": "code",
   "execution_count": 17,
   "metadata": {},
   "outputs": [
    {
     "data": {
      "text/plain": [
       "[{'SK': 'v05',\n",
       "  'Time': '2023-12-19T12:15:00',\n",
       "  'PK': 'Equipment#118',\n",
       "  'State': 'WARNING2'}]"
      ]
     },
     "execution_count": 17,
     "metadata": {},
     "output_type": "execute_result"
    }
   ],
   "source": [
    "dt.query(pk_value=\"Equipment#118\", sk_value=\"v*\", reverse=False, limit=1)"
   ]
  },
  {
   "cell_type": "code",
   "execution_count": 18,
   "metadata": {},
   "outputs": [
    {
     "name": "stdout",
     "output_type": "stream",
     "text": [
      "Consumed Capacity: 0.5\n"
     ]
    },
    {
     "data": {
      "text/plain": [
       "{'SK': 'v05',\n",
       " 'Time': '2023-12-19T12:15:00',\n",
       " 'PK': 'Equipment#118',\n",
       " 'State': 'WARNING2'}"
      ]
     },
     "execution_count": 18,
     "metadata": {},
     "output_type": "execute_result"
    }
   ],
   "source": [
    "dt.query(pk_value=\"Equipment#118\", sk_value=\"v05\", consumed_capacity=True)"
   ]
  },
  {
   "cell_type": "markdown",
   "metadata": {},
   "source": [
    "### Conclusión\n",
    "\n",
    "Al diseñar una aplicación, los requisitos que debe satisfacer determinan si debe elegir una versión basada en tiempo o en números. Cuando se utiliza una clave primaria compuesta para una tabla en DynamoDB, una colección de elementos de entidad se modela de forma que se pueda recuperar fácilmente la versión más reciente y, al mismo tiempo, mantener las revisiones históricas. Cuando diseñe e implemente un caso de uso que requiera el control de versiones, tenga en cuenta la frecuencia con la que se añaden nuevas revisiones y la tolerancia de su caso de uso a las versiones incoherentes."
   ]
  }
 ],
 "metadata": {
  "kernelspec": {
   "display_name": "myenv",
   "language": "python",
   "name": "python3"
  },
  "language_info": {
   "codemirror_mode": {
    "name": "ipython",
    "version": 3
   },
   "file_extension": ".py",
   "mimetype": "text/x-python",
   "name": "python",
   "nbconvert_exporter": "python",
   "pygments_lexer": "ipython3",
   "version": "3.12.2"
  }
 },
 "nbformat": 4,
 "nbformat_minor": 2
}
