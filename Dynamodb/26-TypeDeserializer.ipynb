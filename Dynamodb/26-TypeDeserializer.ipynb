{
 "cells": [
  {
   "cell_type": "code",
   "execution_count": 12,
   "metadata": {},
   "outputs": [],
   "source": [
    "import boto3\n",
    "import pandas as pd\n",
    "from botocore.exceptions import ClientError\n",
    "from spdynamodb import DynamoTable\n",
    "import json\n",
    "from decimal import Decimal\n",
    "from datetime import datetime, timedelta\n",
    "import time\n",
    "import random"
   ]
  },
  {
   "cell_type": "code",
   "execution_count": 26,
   "metadata": {},
   "outputs": [
    {
     "name": "stdout",
     "output_type": "stream",
     "text": [
      "- Table name: LogFileScan            \n",
      "- Table arn: arn:aws:dynamodb:us-east-1:089715336747:table/LogFileScan            \n",
      "- Table creation: 2023-09-02 21:16:38            \n",
      "- [{'AttributeName': 'PK', 'KeyType': 'HASH'}]            \n",
      "- [{'AttributeName': 'PK', 'AttributeType': 'S'}]            \n",
      "- Point-in-time recovery status: DISABLED  |  Delete protection: False\n"
     ]
    }
   ],
   "source": [
    "dt=DynamoTable()\n",
    "try:\n",
    "    dt.select_table('LogFileScan')\n",
    "    print(dt)\n",
    "except:\n",
    "    dt.create_table(\n",
    "        table_name='LogFileScan',\n",
    "        partition_key='PK',\n",
    "        partition_key_type='S',\n",
    "        rcu=50,\n",
    "        wcu=50\n",
    "    )"
   ]
  },
  {
   "cell_type": "code",
   "execution_count": 1,
   "metadata": {},
   "outputs": [],
   "source": [
    "from boto3.dynamodb.types import TypeSerializer, TypeDeserializer\n"
   ]
  },
  {
   "cell_type": "code",
   "execution_count": 3,
   "metadata": {},
   "outputs": [
    {
     "data": {
      "text/plain": [
       "{'ResponseMetadata': {'RequestId': '5H6LHEECAFJGLHOFNO2B2PCFJRVV4KQNSO5AEMVJF66Q9ASUAAJG',\n",
       "  'HTTPStatusCode': 200,\n",
       "  'HTTPHeaders': {'server': 'Server',\n",
       "   'date': 'Sun, 03 Sep 2023 00:28:56 GMT',\n",
       "   'content-type': 'application/x-amz-json-1.0',\n",
       "   'content-length': '2',\n",
       "   'connection': 'keep-alive',\n",
       "   'x-amzn-requestid': '5H6LHEECAFJGLHOFNO2B2PCFJRVV4KQNSO5AEMVJF66Q9ASUAAJG',\n",
       "   'x-amz-crc32': '2745614147'},\n",
       "  'RetryAttempts': 0}}"
      ]
     },
     "execution_count": 3,
     "metadata": {},
     "output_type": "execute_result"
    }
   ],
   "source": [
    "dynamodb_client = boto3.client('dynamodb')\n",
    "# Serialize (Marshal) Example\n",
    "item_to_store = {\n",
    "    'PK': 'USER#12345',\n",
    "    'user_id': '12345',\n",
    "    'first_name': 'Terry',\n",
    "    'age': 48,\n",
    "}\n",
    "\n",
    "serializer = TypeSerializer()\n",
    "\n",
    "serialized_item = serializer.serialize(item_to_store)\n",
    "\n",
    "put_item_params = {\n",
    "    'TableName': 'LogFileScan',\n",
    "    'Item': serialized_item['M'],\n",
    "}\n",
    "\n",
    "dynamodb_client.put_item(**put_item_params)"
   ]
  },
  {
   "cell_type": "code",
   "execution_count": 22,
   "metadata": {},
   "outputs": [],
   "source": [
    "get_item_params = {\n",
    "    'TableName': 'LogFileScan',\n",
    "    'Key': {\n",
    "        'PK': {'S': 'USER#12345'},\n",
    "    },\n",
    "}\n",
    "\n",
    "response = dynamodb_client.get_item(**get_item_params)"
   ]
  },
  {
   "cell_type": "code",
   "execution_count": 23,
   "metadata": {},
   "outputs": [],
   "source": [
    "def dynamo_obj_to_python_obj(dynamo_obj: dict) -> dict:\n",
    "    deserializer = TypeDeserializer()\n",
    "    return {\n",
    "        k: deserializer.deserialize(v) \n",
    "        for k, v in dynamo_obj.items()\n",
    "    }  "
   ]
  },
  {
   "cell_type": "code",
   "execution_count": 27,
   "metadata": {},
   "outputs": [
    {
     "data": {
      "text/plain": [
       "{'user_id': '12345',\n",
       " 'PK': 'USER#12345',\n",
       " 'first_name': 'Terry',\n",
       " 'age': Decimal('48')}"
      ]
     },
     "execution_count": 27,
     "metadata": {},
     "output_type": "execute_result"
    }
   ],
   "source": [
    "json_data = dynamo_obj_to_python_obj(response['Item'])\n",
    "json_data"
   ]
  },
  {
   "cell_type": "code",
   "execution_count": 30,
   "metadata": {},
   "outputs": [
    {
     "name": "stdout",
     "output_type": "stream",
     "text": [
      "Consumed Capacity: 0.5\n"
     ]
    },
    {
     "data": {
      "text/plain": [
       "{'user_id': '12345', 'PK': 'USER#12345', 'first_name': 'Terry', 'age': 48}"
      ]
     },
     "execution_count": 30,
     "metadata": {},
     "output_type": "execute_result"
    }
   ],
   "source": [
    "result = dt.query(pk_value=\"USER#12345\")\n",
    "result['Items']"
   ]
  }
 ],
 "metadata": {
  "kernelspec": {
   "display_name": "base",
   "language": "python",
   "name": "python3"
  },
  "language_info": {
   "codemirror_mode": {
    "name": "ipython",
    "version": 3
   },
   "file_extension": ".py",
   "mimetype": "text/x-python",
   "name": "python",
   "nbconvert_exporter": "python",
   "pygments_lexer": "ipython3",
   "version": "3.11.3"
  },
  "orig_nbformat": 4
 },
 "nbformat": 4,
 "nbformat_minor": 2
}
