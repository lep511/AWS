{
 "cells": [
  {
   "attachments": {},
   "cell_type": "markdown",
   "metadata": {},
   "source": [
    "## Modelo de datos de ofertas de tarjetas de crédito\n",
    "#### Este modelo de datos es utilizado por una aplicación de ofertas de tarjetas de crédito.\n",
    "\n",
    "Un proveedor de tarjeta de crédito produce ofertas a lo largo del tiempo. Estas ofertas incluyen transferencias de saldo sin cargos, mayores límites de crédito, tasas de interés más bajas, devolución de efectivo y millas aéreas. Después de que un cliente acepte o rechace estas ofertas, el estado de la oferta correspondiente se actualiza en consecuencia.\n",
    "\n",
    "Los patrones de acceso que este modelo de datos facilita son:\n",
    "\n",
    "* Recuperación de registros de cuenta usando AccountId, según lo facilitado en la tabla principal.\n",
    "\n",
    "* Recuperación de todas las cuentas con pocos elementos previstos, facilitada por el índice secundario AccountIndex.\n",
    "\n",
    "* Recuperación de cuentas y todos los registros de oferta asociados con esas cuentas mediante el uso de AccountId, facilitado por la tabla principal.\n",
    "\n",
    "* Recuperación de cuentas y registros de ofertas específicas asociadas con esas cuentas mediante el uso de AccountId y OfferId, según lo facilitado en la tabla principal.\n",
    "\n",
    "* Recuperación de todos los registros de oferta ACCEPTED/DECLINED de OfferType específicos asociados con cuentas usando AccountId, OfferType, y Status, según lo facilitado por el índice secundario GSI1.\n",
    "\n",
    "* Recuperación de ofertas y registros de elementos de oferta asociados utilizando OfferId, según lo facilitado en la tabla principal.\n",
    "\n",
    "TABLE:\n",
    "<br>\n",
    "\n",
    "![image.png](images/credit_card01.png)\n",
    "\n",
    "GSI AccountIndex:\n",
    "<br>\n",
    "\n",
    "![image.png](images/credit_card02.png)\n",
    "\n",
    "GSI GSI1:\n",
    "<br>\n",
    "\n",
    "![image.png](images/credit_card03.png)"
   ]
  },
  {
   "cell_type": "code",
   "execution_count": 1,
   "metadata": {},
   "outputs": [],
   "source": [
    "import pandas as pd\n",
    "from spdynamodb import DynamoTable\n",
    "import json\n",
    "from decimal import Decimal\n",
    "from time import sleep\n",
    "import boto3"
   ]
  },
  {
   "cell_type": "code",
   "execution_count": null,
   "metadata": {},
   "outputs": [],
   "source": [
    "dt = DynamoTable(profile_name=\"my-profile\")\n",
    "try:\n",
    "    dt.select_table('CreditCardOffers')\n",
    "    print(dt)\n",
    "except:\n",
    "    dt.create_table(\n",
    "        table_name='CreditCardOffers',\n",
    "        partition_key='PK',\n",
    "        partition_key_type='S',\n",
    "        sort_key=\"SK\",\n",
    "        sort_key_type=\"S\"\n",
    ")"
   ]
  },
  {
   "cell_type": "code",
   "execution_count": null,
   "metadata": {},
   "outputs": [],
   "source": [
    "dt.load_json(\"credits.json\")"
   ]
  },
  {
   "cell_type": "code",
   "execution_count": null,
   "metadata": {},
   "outputs": [],
   "source": [
    "dt.create_global_secondary_index(\n",
    "    att_name=\"AccountIndexId\",\n",
    "    att_type=\"S\",\n",
    "    i_name=\"AccountIndex\",\n",
    "    proj_type=[\"FirstName\", \"MiddleName\", \"LastName\", \"Emailid\"],\n",
    "    i_rcu=1,\n",
    "    i_wcu=1\n",
    ")"
   ]
  },
  {
   "cell_type": "code",
   "execution_count": null,
   "metadata": {},
   "outputs": [],
   "source": [
    "status = dt.check_status_gsi()\n",
    "while status == 'CREATING':\n",
    "    status = dt.check_status_gsi()\n",
    "    sleep(30)\n",
    "print(\"Global secondary index created.\")"
   ]
  },
  {
   "cell_type": "code",
   "execution_count": null,
   "metadata": {},
   "outputs": [],
   "source": [
    "dt.create_global_secondary_index(\n",
    "    att_name=\"PK\",\n",
    "    att_type=\"S\",\n",
    "    sort_index=\"GSI1SK\",\n",
    "    sort_type=\"S\",\n",
    "    i_name=\"GSI2\",\n",
    "    provisioned=False\n",
    ")"
   ]
  },
  {
   "cell_type": "code",
   "execution_count": null,
   "metadata": {},
   "outputs": [],
   "source": [
    "status = dt.check_status_gsi()\n",
    "while status == 'CREATING':\n",
    "    status = dt.check_status_gsi()\n",
    "    sleep(30)\n",
    "print(\"Global secondary index created.\")"
   ]
  },
  {
   "cell_type": "code",
   "execution_count": 5,
   "metadata": {},
   "outputs": [
    {
     "data": {
      "text/plain": [
       "['GSI2', 'AccountIndex', 'GSI1']"
      ]
     },
     "execution_count": 5,
     "metadata": {},
     "output_type": "execute_result"
    }
   ],
   "source": [
    "dt.list_gsi"
   ]
  },
  {
   "cell_type": "code",
   "execution_count": null,
   "metadata": {},
   "outputs": [],
   "source": [
    "dt.query_partiql(\n",
    "    query=\"SELECT * FROM CreditCardOffers WHERE Status = ?\",\n",
    "    parameters=['CREATED']\n",
    ")"
   ]
  }
 ],
 "metadata": {
  "kernelspec": {
   "display_name": "base",
   "language": "python",
   "name": "python3"
  },
  "language_info": {
   "codemirror_mode": {
    "name": "ipython",
    "version": 3
   },
   "file_extension": ".py",
   "mimetype": "text/x-python",
   "name": "python",
   "nbconvert_exporter": "python",
   "pygments_lexer": "ipython3",
   "version": "3.9.12"
  },
  "orig_nbformat": 4
 },
 "nbformat": 4,
 "nbformat_minor": 2
}
