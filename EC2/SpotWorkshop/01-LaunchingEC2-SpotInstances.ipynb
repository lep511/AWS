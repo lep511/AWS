{
 "cells": [
  {
   "cell_type": "markdown",
   "metadata": {},
   "source": [
    "## Lanzamiento de instancias spot EC2\n",
    "\n",
    "En este taller aprenderá los fundamentos de las instancias de spot de EC2 y las herramientas recomendadas para lanzar instancias de spot, comprobar la resistencia y ver el historial de precios."
   ]
  },
  {
   "cell_type": "code",
   "execution_count": 1,
   "metadata": {},
   "outputs": [
    {
     "name": "stdout",
     "output_type": "stream",
     "text": [
      "Current AWS region: us-east-1\n"
     ]
    }
   ],
   "source": [
    "import boto3\n",
    "import json\n",
    "import time\n",
    "\n",
    "ec2 = boto3.client('ec2')\n",
    "ec2_resource = boto3.resource('ec2')\n",
    "\n",
    "region = ec2.meta.region_name\n",
    "print(\"Current AWS region:\", region)"
   ]
  },
  {
   "cell_type": "code",
   "execution_count": 2,
   "metadata": {},
   "outputs": [
    {
     "name": "stdout",
     "output_type": "stream",
     "text": [
      "ami-01eccbf80522b562b\n"
     ]
    }
   ],
   "source": [
    "# Looks up the latest Amazon Linux 2 AMI\n",
    "filters = [\n",
    "    {\n",
    "        'Name': 'name',\n",
    "        'Values': ['amzn2-ami-kernel*gp2']\n",
    "    },\n",
    "    {\n",
    "        'Name': 'virtualization-type',\n",
    "        'Values': ['hvm']\n",
    "    },\n",
    "    {\n",
    "        'Name': 'root-device-type',\n",
    "        'Values': ['ebs']\n",
    "    }\n",
    "]\n",
    "\n",
    "# Describe the images with the specified filters\n",
    "response = ec2.describe_images(Owners=['amazon'], Filters=filters)\n",
    "# Sort the images by CreationDate and get the latest ImageId\n",
    "sorted_images = sorted(response['Images'], key=lambda x: x['CreationDate'], reverse=True)\n",
    "latest_ami_id = sorted_images[0]['ImageId']\n",
    "\n",
    "print(latest_ami_id)"
   ]
  },
  {
   "cell_type": "code",
   "execution_count": 3,
   "metadata": {},
   "outputs": [],
   "source": [
    "# Specify the JSON file path\n",
    "file_path = \"launch-template-data.json\"\n",
    "\n",
    "# Read the JSON data from the file\n",
    "with open(file_path, 'r') as file:\n",
    "    data = json.load(file)\n",
    "\n",
    "# Perform the text replacements\n",
    "data[\"ImageId\"] = latest_ami_id\n",
    "\n",
    "# Write the modified JSON data back to the file\n",
    "with open(file_path, 'w') as file:\n",
    "    json.dump(data, file, indent=2)"
   ]
  },
  {
   "cell_type": "markdown",
   "metadata": {},
   "source": [
    "#### Crear la plantilla de lanzamiento"
   ]
  },
  {
   "cell_type": "code",
   "execution_count": 4,
   "metadata": {},
   "outputs": [
    {
     "name": "stdout",
     "output_type": "stream",
     "text": [
      "Launch template created with ID: lt-06aff29dace51fc9c\n"
     ]
    }
   ],
   "source": [
    "# Specify the launch template name\n",
    "template_name = \"TemplateForWebServer\"\n",
    "\n",
    "# Read the launch template data from the JSON file\n",
    "with open(file_path, 'r') as file:\n",
    "    launch_template_data = json.load(file)\n",
    "    \n",
    "# Create the launch template\n",
    "response = ec2.create_launch_template(\n",
    "    LaunchTemplateName=template_name,\n",
    "    VersionDescription=\"Initial version\",\n",
    "    LaunchTemplateData=launch_template_data\n",
    ")\n",
    "\n",
    "launch_template_id = response['LaunchTemplate']['LaunchTemplateId']\n",
    "print(\"Launch template created with ID:\", launch_template_id)"
   ]
  },
  {
   "cell_type": "markdown",
   "metadata": {},
   "source": [
    "### Lanzamiento de instancias spot EC2 a través del grupo EC2 Auto Scaling\n",
    "\n",
    "A la hora de adoptar instancias spot de EC2, le recomendamos que tenga en cuenta el grupo Amazon EC2 Auto Scaling (ASG), ya que ofrece las características de EC2 más actualizadas, como la selección del tipo de instancia basada en atributos, el reequilibrio de la capacidad, las políticas de escalado y muchas más funcionalidades.\n",
    "\n",
    "Los grupos de Amazon EC2 Auto Scaling contienen una colección de instancias de Amazon EC2 que se tratan como una agrupación lógica a efectos de escalado y administración automáticos. Los grupos de Auto Scaling también permiten utilizar las características de Amazon EC2 Auto Scaling, como los reemplazos de comprobación de estado y las políticas de escalado. Tanto el mantenimiento del número de instancias en un grupo de Auto Scaling como el escalado automático son la funcionalidad principal del servicio Amazon EC2 Auto Scaling.\n",
    "\n",
    "#### Uso de la selección de tipos de instancia basada en atributos y grupos de instancia mixtos\n",
    "\n",
    "La flexibilidad de las instancias es una práctica recomendada importante de Spot. Puede utilizar la selección de tipo de instancia basada en atributos (ABIS) para seleccionar automáticamente varios tipos de instancia que se ajusten a sus requisitos. Un caso habitual de uso de grupos de Auto Scaling es con cargas de trabajo que requieren una combinación de capacidad spot y bajo demanda.\n",
    "\n",
    "En este paso se crea un archivo json para crear grupos de Auto Scaling mediante la CLI de AWS. La configuración utiliza la plantilla de lanzamiento que creó en los pasos anteriores y ABIS para elegir cualquier tipo de instancia no GPU de generación actual con 2 vCPU y sin límite de memoria. OnDemandBaseCapacity permite establecer una capacidad inicial de 1 instancia bajo demanda. La capacidad restante es una mezcla de un 25% de instancias bajo demanda y un 75% de instancias spot definidas por el OnDemandPercentageAboveBaseCapacity."
   ]
  },
  {
   "cell_type": "code",
   "execution_count": 5,
   "metadata": {},
   "outputs": [],
   "source": [
    "# Specify the JSON file path\n",
    "policy_file = \"asg-policy.json\"\n",
    "\n",
    "# Read the JSON data from the file\n",
    "with open(policy_file, 'r') as file:\n",
    "    data = json.load(file)\n",
    "\n",
    "data['LaunchTemplate']['LaunchTemplateSpecification']['LaunchTemplateId'] = launch_template_id\n",
    "\n",
    "# Write the modified JSON data back to the file\n",
    "with open(policy_file, 'w') as file:\n",
    "    json.dump(data, file, indent=2)"
   ]
  },
  {
   "cell_type": "markdown",
   "metadata": {},
   "source": [
    "En esta configuración se establece *SpotAllocationStrategy* como precio-capacidad-optimizado. La estrategia de asignación optimizada para precio y capacidad asigna instancias de los grupos de instancias de subasta que ofrecen precios bajos y alta disponibilidad de capacidad. Puede obtener más información sobre la estrategia de asignación optimizada para la capacidad de precio en la entrada del blog Introducción a la estrategia de asignación optimizada para la capacidad de precio para las instancias de subasta de EC2."
   ]
  },
  {
   "cell_type": "code",
   "execution_count": 6,
   "metadata": {},
   "outputs": [
    {
     "name": "stdout",
     "output_type": "stream",
     "text": [
      "Default VPC ID: vpc-0336b7b9a020762c1\n",
      "Subnet 1 ID: subnet-0606112a7ef40b226\n",
      "Subnet 2 ID: subnet-0027e70008e24e870\n"
     ]
    }
   ],
   "source": [
    "# Find the default VPC ID\n",
    "vpcs = ec2.describe_vpcs(Filters=[{'Name': 'isDefault', 'Values': ['true']}])\n",
    "if 'Vpcs' in vpcs:\n",
    "    vpc_id = vpcs['Vpcs'][0]['VpcId']\n",
    "else:\n",
    "    print(\"No default VPC found.\")\n",
    "    vpc_id = None\n",
    "\n",
    "if vpc_id:\n",
    "    # Describe subnets for the VPC\n",
    "    subnets_response = ec2.describe_subnets(Filters=[{'Name': 'vpc-id', 'Values': [vpc_id]}])\n",
    "    \n",
    "    # Extract the first two subnet IDs\n",
    "    subnet_ids = [subnet['SubnetId'] for subnet in subnets_response['Subnets'][:2]]\n",
    "\n",
    "    if len(subnet_ids) >= 2:\n",
    "        subnet_1 = subnet_ids[0]\n",
    "        subnet_2 = subnet_ids[1]\n",
    "    else:\n",
    "        print(\"Not enough subnets found in the VPC.\")\n",
    "        subnet_1 = None\n",
    "        subnet_2 = None\n",
    "else:\n",
    "    subnet_1 = None\n",
    "    subnet_2 = None\n",
    "\n",
    "print(\"Default VPC ID:\", vpc_id)\n",
    "print(\"Subnet 1 ID:\", subnet_1)\n",
    "print(\"Subnet 2 ID:\", subnet_2)"
   ]
  },
  {
   "cell_type": "markdown",
   "metadata": {},
   "source": [
    "Cree un grupo de Auto Scaling en 2 zonas de disponibilidad, tamaño mínimo 2, tamaño máximo 20 y capacidad deseada 10 unidades vCPU."
   ]
  },
  {
   "cell_type": "code",
   "execution_count": 7,
   "metadata": {},
   "outputs": [
    {
     "name": "stdout",
     "output_type": "stream",
     "text": [
      "Auto Scaling group created successfully.\n"
     ]
    }
   ],
   "source": [
    "# Initialize the Auto Scaling client\n",
    "autoscaling = boto3.client('autoscaling')\n",
    "\n",
    "# Define the Auto Scaling group parameters\n",
    "auto_scaling_group_name = 'EC2SpotWorkshopASG'\n",
    "min_size = 2\n",
    "max_size = 20\n",
    "desired_capacity = 10\n",
    "desired_capacity_type = 'vcpu'\n",
    "subnet_ids = [subnet_1, subnet_2]\n",
    "capacity_rebalance = True\n",
    "\n",
    "# Load the mixed instances policy from a JSON file\n",
    "with open(policy_file, 'r') as policy_file:\n",
    "    mixed_instances_policy = json.load(policy_file)\n",
    "\n",
    "# Create the Auto Scaling group\n",
    "response = autoscaling.create_auto_scaling_group(\n",
    "    AutoScalingGroupName=auto_scaling_group_name,\n",
    "    MinSize=min_size,\n",
    "    MaxSize=max_size,\n",
    "    DesiredCapacity=desired_capacity,\n",
    "    DesiredCapacityType=desired_capacity_type,\n",
    "    VPCZoneIdentifier=','.join(subnet_ids),\n",
    "    CapacityRebalance=capacity_rebalance,\n",
    "    MixedInstancesPolicy=mixed_instances_policy\n",
    ")\n",
    "if response['ResponseMetadata']['HTTPStatusCode'] == 200:\n",
    "    print(\"Auto Scaling group created successfully.\")"
   ]
  },
  {
   "cell_type": "markdown",
   "metadata": {},
   "source": [
    "**¿Cuántos grupos de instancias de spot tiene en cuenta el grupo de Autoescalado al aplicar la diversificación de spot?**\n",
    "\n",
    "Un grupo de capacidad de subasta es un conjunto de instancias EC2 no utilizadas con el mismo tipo de instancia (por ejemplo, m5.large) y zona de disponibilidad. En el momento de la creación del taller, nuestro ejemplo coincidía con 35 tipos de instancia y 2 zonas de disponibilidad, lo que hace un total de (35*2)=70 pools de subasta. Aumentar el número de grupos de subasta es clave para adoptar las mejores prácticas de subasta.\n",
    "\n",
    "**¿Cuántas instancias spot vs bajo demanda han sido solicitadas por el grupo Auto Scaling?**\n",
    "\n",
    "La capacidad deseada es de 10 vCPUs, por lo que se aprovisionan 5 instancias que suman 10 vCPUs. De ellas, la primera instancia EC2 es On-Demand según lo solicitado por OnDemandBaseCapacity. El resto de las instancias, siguen una proporción de 25% On-Demand (1 instancia) y 75% Spot (3 instancias) según OnDemandPercentageAboveBaseCapacity."
   ]
  },
  {
   "cell_type": "markdown",
   "metadata": {},
   "source": [
    "Confirmar qué instancias se han creado en el grupo de Autoescalado:"
   ]
  },
  {
   "cell_type": "code",
   "execution_count": null,
   "metadata": {},
   "outputs": [],
   "source": [
    "# Waite 15 seconds for the instances to be created\n",
    "time.sleep(15)\n",
    "response = autoscaling.describe_auto_scaling_groups(AutoScalingGroupNames=[auto_scaling_group_name])\n",
    "if 'Instances' in response['AutoScalingGroups'][0]:\n",
    "    for instance in response['AutoScalingGroups'][0]['Instances']:\n",
    "        print(instance['InstanceId'])\n",
    "        print(instance['InstanceType'])\n",
    "        print(\"-------------------------------\")\n",
    "else:\n",
    "    print(\"No instances created.\")"
   ]
  },
  {
   "cell_type": "markdown",
   "metadata": {},
   "source": [
    "**¿Cómo puede seleccionar manualmente tipos de instancia específicos en lugar de ABIS en su grupo de Autoescalado?**\n",
    "\n",
    "Para crear un grupo de Autoescalado con tipos de instancia específicos/individuales, puede utilizar un archivo json que se indica a continuación. El ejemplo utiliza m5.large, c5.large, r5.large, m4.large, c4.large y r4.large."
   ]
  },
  {
   "cell_type": "code",
   "execution_count": null,
   "metadata": {},
   "outputs": [],
   "source": [
    "new_asg_policy = {\n",
    "   \"LaunchTemplate\":{\n",
    "      \"LaunchTemplateSpecification\":{\n",
    "         \"LaunchTemplateId\":launch_template_id,\n",
    "         \"Version\":\"1\"\n",
    "      },\n",
    "      \"Overrides\":[\n",
    "         {\n",
    "            \"InstanceType\":\"m5.large\"\n",
    "         },\n",
    "         {\n",
    "            \"InstanceType\":\"c5.large\"\n",
    "         },\n",
    "         {\n",
    "            \"InstanceType\":\"r5.large\"\n",
    "         },\n",
    "         {\n",
    "            \"InstanceType\":\"m4.large\"\n",
    "         },\n",
    "         {\n",
    "            \"InstanceType\":\"c4.large\"\n",
    "         },\n",
    "         {\n",
    "            \"InstanceType\":\"r4.large\"\n",
    "         }\n",
    "      ]\n",
    "   },\n",
    "   \"InstancesDistribution\":{\n",
    "      \"OnDemandBaseCapacity\":1,\n",
    "      \"OnDemandPercentageAboveBaseCapacity\":25,\n",
    "      \"SpotAllocationStrategy\":\"price-capacity-optimized\"\n",
    "   }\n",
    "}\n",
    "\n",
    "with open(\"asg-policy_instances_types.json\", 'w') as file:\n",
    "    json.dump(new_asg_policy, file, indent=2)"
   ]
  },
  {
   "cell_type": "markdown",
   "metadata": {},
   "source": [
    "**¿Cómo puede seleccionar una mezcla de tipos de instancia de diferentes tamaños en su grupo de Autoescalado?**\n",
    "\n",
    "Para crear un grupo de Autoescalado con tipos de instancia específicos/individuales, puede utilizar el archivo json que se indica a continuación. Las instancias de ejemplo que tienen 2 vCPUs y 4 vCPUs son m5.large, c5.large, r5.large, m5.xlarge, c5.xlarge y r5.xlarge."
   ]
  },
  {
   "cell_type": "code",
   "execution_count": null,
   "metadata": {},
   "outputs": [],
   "source": [
    "new_asg_policy2 = {\n",
    "   \"LaunchTemplate\":{\n",
    "      \"LaunchTemplateSpecification\":{\n",
    "         \"LaunchTemplateId\":launch_template_id,\n",
    "         \"Version\":\"1\"\n",
    "      },\n",
    "      \"Overrides\":[{\n",
    "         \"InstanceRequirements\": {\n",
    "            \"VCpuCount\": {\n",
    "               \"Min\": 2, \n",
    "               \"Max\": 4\n",
    "            },\n",
    "            \"MemoryMiB\": {\n",
    "               \"Min\": 0\n",
    "            },\n",
    "            \"CpuManufacturers\": [\n",
    "               \"intel\",\n",
    "               \"amd\"\n",
    "            ],\n",
    "            \"InstanceGenerations\": [\n",
    "               \"current\"\n",
    "            ],\n",
    "            \"AcceleratorCount\": {\n",
    "               \"Max\": 0\n",
    "            }\n",
    "         }\n",
    "      }]\n",
    "   },\n",
    "   \"InstancesDistribution\":{\n",
    "      \"OnDemandBaseCapacity\":1,\n",
    "      \"OnDemandPercentageAboveBaseCapacity\":25,\n",
    "      \"SpotAllocationStrategy\":\"capacity-optimized\"\n",
    "   }\n",
    "}\n",
    "\n",
    "with open(\"asg-policy_mixed_types.json\", 'w') as file:\n",
    "    json.dump(new_asg_policy2, file, indent=2)"
   ]
  },
  {
   "cell_type": "markdown",
   "metadata": {},
   "source": [
    "**¿Cómo puede seleccionar la estrategia de asignación de Spot de capacidad optimizada en su grupo de Auto Scaling?**\n",
    "\n",
    "La estrategia de asignación con capacidad optimizada asigna instancias de los grupos de instancias de subasta con la capacidad óptima para el número de instancias que se están lanzando, utilizando datos de capacidad en tiempo real y optimizando la selección de instancias de subasta utilizadas. La estrategia de asignación de Spot con capacidad optimizada funciona bien para cargas de trabajo en las que el coste de una interrupción de Spot es muy significativo. Puede consultar las ventajas de utilizar la optimización de la capacidad en la publicación del blog *[Capacity-Optimized Spot Instance allocation in action at Mobileye and Skyscanner](https://aws.amazon.com/blogs/aws/capacity-optimized-spot-instance-allocation-in-action-at-mobileye-and-skyscanner/)*."
   ]
  },
  {
   "cell_type": "code",
   "execution_count": null,
   "metadata": {},
   "outputs": [],
   "source": [
    "new_asg_policy3 = {\n",
    "   \"LaunchTemplate\":{\n",
    "      \"LaunchTemplateSpecification\":{\n",
    "         \"LaunchTemplateId\":launch_template_id,\n",
    "         \"Version\":\"1\"\n",
    "      },\n",
    "      \"Overrides\":[{\n",
    "         \"InstanceRequirements\": {\n",
    "            \"VCpuCount\": {\n",
    "               \"Min\": 2, \n",
    "               \"Max\": 2\n",
    "            },\n",
    "            \"MemoryMiB\": {\n",
    "               \"Min\": 0\n",
    "            },\n",
    "            \"CpuManufacturers\": [\n",
    "               \"intel\",\n",
    "               \"amd\"\n",
    "            ],\n",
    "            \"InstanceGenerations\": [\n",
    "               \"current\"\n",
    "            ],\n",
    "            \"AcceleratorCount\": {\n",
    "               \"Max\": 0\n",
    "            }\n",
    "         }\n",
    "      }]\n",
    "   },\n",
    "   \"InstancesDistribution\":{\n",
    "      \"OnDemandBaseCapacity\":1,\n",
    "      \"OnDemandPercentageAboveBaseCapacity\":25,\n",
    "      \"SpotAllocationStrategy\":\"capacity-optimized\"\n",
    "   }\n",
    "}\n",
    "\n",
    "with open(\"asg-policy_capacity_optimized.json\", 'w') as file:\n",
    "   json.dump(new_asg_policy3, file, indent=2)"
   ]
  },
  {
   "cell_type": "markdown",
   "metadata": {},
   "source": [
    "### Lecturas opcionales\n",
    "Estas son algunas de las características y funcionalidades que hacen que los grupos de Amazon EC2 Auto Scaling sean la opción adecuada para la mayoría de las cargas de trabajo:\n",
    "\n",
    "* Selección de tipo de instancia basada en atributos: Los grupos de Amazon EC2 Auto Scaling seleccionan una serie de familias y tamaños de instancias en función de un conjunto de atributos de instancia que describen sus requisitos informáticos. [Selección de tipo de instancia basada en atributos](https://docs.aws.amazon.com/autoscaling/ec2/userguide/create-asg-instance-type-requirements.html).\n",
    "\n",
    "* Distribución de instancias y reequilibrio de zonas de disponibilidad: Los grupos de Amazon EC2 Auto Scaling intentan distribuir las instancias de manera uniforme para maximizar la alta disponibilidad de sus cargas de trabajo. [Distribución de instancias y reequilibrio de zonas de disponibilidad](https://docs.aws.amazon.com/autoscaling/ec2/userguide/auto-scaling-benefits.html#AutoScalingBehavior.Rebalancing).\n",
    "\n",
    "* Escalado flexible: El grupo Auto Scaling dispone de un conjunto de APIs enriquecidas para administrar el escalado de tu carga de trabajo, permitiendo a las cargas de trabajo controlar sus necesidades de escalado sean cuales sean, desde Escalado manual, Escalado programado, Escalado dinámico mediante seguimiento de objetivos, Escalado por pasos y Escalado predictivo.\n",
    "\n",
    "* Integración con Elastic Load Balancing: La integración con Elastic Load Balancing distribuye automáticamente el tráfico entrante de su aplicación entre todas las Instancias EC2 que esté ejecutando. Elastic Load Balancing y Amazon EC2 Auto Scaling.\n",
    "\n",
    "* Actualización y sustitución de instancias en función de la vida útil máxima de la instancia: El grupo Auto Scaling reduce el trabajo pesado necesario al actualizar, por ejemplo, la AMI subyacente. La actualización de instancias permite a los usuarios actualizar gradualmente las instancias de un grupo de Auto Scaling. La sustitución de instancias también puede configurarse en función de la vida útil máxima de las instancias, lo que ayuda a los usuarios a aplicar las mejores prácticas de gobernanza.\n",
    "\n",
    "* Protección de escalado: Permite proteger las instancias que aún están funcionando para que no sean seleccionadas para operaciones de escalado de finalización de instancias de Auto Scaling.\n",
    "\n",
    "* Ganchos de ciclo de vida: Permitir que un grupo de Auto Scaling desencadene acciones para que los usuarios puedan administrar el ciclo de vida de las instancias del grupo de Auto Scaling. Ganchos del ciclo de vida de Amazon EC2 Auto Scaling.\n",
    "\n",
    "* Reequilibrio de la capacidad: Amazon EC2 Auto Scaling conoce las notificaciones de recomendación de reequilibrio de instancias EC2. El servicio Amazon EC2 Spot emite estas notificaciones cuando las instancias spot corren un riesgo elevado de interrupción. Cuando el reequilibrio de capacidad está habilitado para un grupo de Auto Scaling, Amazon EC2 Auto Scaling intenta reemplazar de forma proactiva las instancias de subasta del grupo que han recibido una recomendación de reequilibrio, lo que ofrece la oportunidad de reequilibrar la carga de trabajo con nuevas instancias de subasta que no corren un riesgo elevado de interrupción.\n",
    "\n",
    "* Pesos de instancia: Cuando configura un grupo de Auto Scaling para lanzar varios tipos de instancia, tiene la opción de definir el número de unidades de capacidad que cada instancia contribuye a la capacidad deseada del grupo, utilizando la ponderación de instancias. Esto le permite especificar el peso relativo de cada tipo de instancia de forma que se corresponda directamente con el rendimiento de su aplicación. Puede ponderar sus instancias para adaptarlas a las necesidades específicas de su aplicación, por ejemplo, por los núcleos (vCPUs) o por la memoria (GiBs). Pesos de grupo de EC2 Auto Scaling.\n",
    "\n",
    "* Soporte para múltiples Launch Templates: El grupo Auto Scaling soporta múltiples Plantillas de Lanzamiento. Esto permite una flexibilidad extra en cómo se configura el grupo de Auto Scaling, por ejemplo soportando múltiples arquitecturas (i.e Graviton c6g e Intel c5) dentro de un mismo grupo de Auto Scaling. Documentación sobre múltiples plantillas de lanzamiento.\n",
    "\n",
    "* Warm pools: Los Warm pools disminuyen la latencia de la obtención de capacidad en sus cargas de trabajo mediante la gestión de un pool de Instancias EC2 preinicializadas. Siempre que su aplicación necesite escalarse, el grupo de Auto Scaling puede recurrir al warm pool para satisfacer su nueva capacidad deseada. Warm pools para Amazon EC2 Auto Scaling."
   ]
  },
  {
   "cell_type": "markdown",
   "metadata": {},
   "source": [
    "### Sin capacidad Spot disponible\n",
    "\n",
    "El error \"no hay capacidad de subasta disponible\" se produce cuando Amazon EC2 no tiene suficiente capacidad de subasta para satisfacer una solicitud de instancia de subasta o flota de subasta. La capacidad de subasta es la cantidad de capacidad informática de EC2 sobrante y no utilizada que está disponible para los clientes a un precio inferior al de las instancias bajo demanda. Para solucionar este error, realice una de las siguientes acciones:\n",
    "\n",
    "* Mantenga la solicitud como está. La solicitud spot sigue realizando automáticamente la solicitud de lanzamiento hasta que haya capacidad disponible. Cuando la capacidad esté disponible, Amazon EC2 ejecutará la solicitud de subasta. Si se encuentra con el error \"no hay capacidad de spot disponible\" con frecuencia, considere utilizar la siguiente solución.\n",
    "\n",
    "* Sea flexible con los tipos de instancia que solicita y las zonas de disponibilidad que despliega al configurar la carga de trabajo. Por ejemplo, en lugar de solicitar una instancia m5.large en us-east-1a, solicite una instancia m4.large, c5.large, r5.large o t3.xlarge en varias zonas de disponibilidad. Este tipo de solicitud aumenta las posibilidades de que Amazon Web Services (AWS) encuentre y asigne la cantidad necesaria de capacidad informática.\n",
    "\n",
    "* Utilice la estrategia de asignación optimizada de precio y capacidad (práctica recomendada). Esta estrategia de asignación tiene en cuenta tanto el precio como la capacidad para seleccionar los grupos de instancias de spot. Los grupos de instancias de subasta seleccionados son los que tienen menos probabilidades de sufrir interrupciones y el precio más bajo posible. La estrategia optimizada de precio y capacidad mantiene una tasa de interrupción comparable a la estrategia de asignación optimizada de capacidad. Además, con esta estrategia, el precio total de sus instancias de spot suele ser inferior al de la estrategia de capacidad optimizada. Para obtener más información, consulte Estrategias de asignación para instancias de subasta.\n",
    "\n",
    "* Utilice la estrategia de asignación de capacidad optimizada. Esta estrategia de asignación analiza los datos de capacidad en tiempo real para lanzar sus instancias de subasta en pools con la mayor capacidad disponible. La estrategia de asignación de capacidad optimizada reduce las posibilidades de recibir errores de \"no hay capacidad de spot disponible\"."
   ]
  }
 ],
 "metadata": {
  "kernelspec": {
   "display_name": "personal",
   "language": "python",
   "name": "python3"
  },
  "language_info": {
   "codemirror_mode": {
    "name": "ipython",
    "version": 3
   },
   "file_extension": ".py",
   "mimetype": "text/x-python",
   "name": "python",
   "nbconvert_exporter": "python",
   "pygments_lexer": "ipython3",
   "version": "3.11.3"
  }
 },
 "nbformat": 4,
 "nbformat_minor": 2
}
