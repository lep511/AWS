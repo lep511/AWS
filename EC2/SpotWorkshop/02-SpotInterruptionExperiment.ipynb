{
 "cells": [
  {
   "cell_type": "markdown",
   "metadata": {},
   "source": [
    "## Creación de un experimento de interrupción spot\n",
    "\n",
    "Puede lanzar instancias de spot en capacidad EC2 sobrante con grandes descuentos a cambio de devolverlas cuando Amazon EC2 necesite recuperar la capacidad. Cuando Amazon EC2 reclama una instancia de spot, llamamos a este evento una interrupción de instancia de spot.\n",
    "\n",
    "Cuando se utilizan instancias de spot, hay que estar preparado para las interrupciones de las instancias de spot. Un método habitual consiste en probar la resistencia de la aplicación simulando interrupciones de subasta. Puede activar las interrupciones de subasta con AWS Fault Injection Simulator (FIS) apuntando a instancias de subasta individuales o a un subconjunto de instancias administradas por servicios como ASG y EC2 Fleet.\n",
    "\n",
    "Para utilizar AWS FIS, ejecute experimentos en sus recursos de AWS para probar su teoría sobre el desempeño de una aplicación o sistema en condiciones de error. Para ejecutar experimentos, primero debe crear una plantilla de experimento. Una plantilla de experimento es el plano de su experimento. Contiene las acciones, los objetivos y las condiciones de parada del experimento."
   ]
  },
  {
   "cell_type": "code",
   "execution_count": 42,
   "metadata": {},
   "outputs": [
    {
     "name": "stdout",
     "output_type": "stream",
     "text": [
      "Current AWS region: us-east-1\n"
     ]
    }
   ],
   "source": [
    "import boto3\n",
    "from botocore.exceptions import ClientError\n",
    "import json\n",
    "\n",
    "ec2 = boto3.client('ec2')\n",
    "ec2_resource = boto3.resource('ec2')\n",
    "fis = boto3.client('fis')\n",
    "iam = boto3.client('iam')\n",
    "\n",
    "region = ec2.meta.region_name\n",
    "print(\"Current AWS region:\", region)"
   ]
  },
  {
   "cell_type": "markdown",
   "metadata": {},
   "source": [
    "### Crear un rol de IAM para AWS FIS\n",
    "\n",
    "Para utilizar AWS FIS, debe crear un rol de IAM que conceda a AWS FIS los permisos necesarios para que AWS FIS pueda ejecutar experimentos en su nombre. Este rol de experimento se especifica al crear una plantilla de experimento. Para obtener más información, consulte Creación de un rol de IAM para experimentos de AWS FIS."
   ]
  },
  {
   "cell_type": "code",
   "execution_count": 43,
   "metadata": {},
   "outputs": [],
   "source": [
    "policy = {\n",
    "    \"Version\": \"2012-10-17\",\n",
    "    \"Statement\": [\n",
    "        {\n",
    "            \"Sid\": \"AllowFISExperimentRoleAssumeRole\",\n",
    "            \"Effect\": \"Allow\",\n",
    "            \"Principal\": {\n",
    "                \"Service\": [\n",
    "                \"fis.amazonaws.com\"\n",
    "                ]\n",
    "            },\n",
    "            \"Action\": \"sts:AssumeRole\"\n",
    "        }\n",
    "\n",
    "    ]\n",
    "}"
   ]
  },
  {
   "cell_type": "code",
   "execution_count": 44,
   "metadata": {},
   "outputs": [
    {
     "name": "stdout",
     "output_type": "stream",
     "text": [
      "Role already exists: arn:aws:iam::089715336747:role/my-fis-role\n"
     ]
    }
   ],
   "source": [
    "# Create the role\n",
    "try:\n",
    "    response = iam.create_role(\n",
    "        RoleName='my-fis-role',\n",
    "        AssumeRolePolicyDocument=json.dumps(policy),\n",
    "        Description='FIS Experiment Role'\n",
    "    )\n",
    "    role_arn = response['Role']['Arn']\n",
    "except ClientError as e:\n",
    "    if e.response['Error']['Code'] == 'EntityAlreadyExists':\n",
    "        role_arn = iam.get_role(RoleName='my-fis-role')['Role']['Arn']\n",
    "        print(\"Role already exists:\", role_arn)\n",
    "    else:\n",
    "        print(\"Unexpected error: %s\" % e)"
   ]
  },
  {
   "cell_type": "markdown",
   "metadata": {},
   "source": [
    "El experimento requiere acceso para realizar las acciones ec2:RebootInstances, ec2:StopInstances, ec2:StartInstances, ec2:TerminateInstances , y aws:ec2:send-spot-instance-interruptions en una instancia de EC2. Ejecute el siguiente comando para crear el archivo de configuración fis_role_permissions_policy.json para agregar las políticas de permisos requeridas."
   ]
  },
  {
   "cell_type": "code",
   "execution_count": 45,
   "metadata": {},
   "outputs": [],
   "source": [
    "permissions_policy = {\n",
    "    \"Version\": \"2012-10-17\",\n",
    "    \"Statement\": [\n",
    "        {\n",
    "            \"Sid\": \"AllowFISExperimentRoleEC2Actions\",\n",
    "            \"Effect\": \"Allow\",\n",
    "            \"Action\": [\n",
    "                \"ec2:RebootInstances\",\n",
    "                \"ec2:StopInstances\",\n",
    "                \"ec2:StartInstances\",\n",
    "                \"ec2:TerminateInstances\"\n",
    "            ],\n",
    "            \"Resource\": \"arn:aws:ec2:*:*:instance/*\"\n",
    "        },\n",
    "        {\n",
    "            \"Sid\": \"AllowFISExperimentRoleSpotInstanceActions\",\n",
    "            \"Effect\": \"Allow\",\n",
    "            \"Action\": [\n",
    "                \"ec2:SendSpotInstanceInterruptions\"\n",
    "            ],\n",
    "            \"Resource\": \"arn:aws:ec2:*:*:instance/*\"\n",
    "        }\n",
    "    ]\n",
    "}"
   ]
  },
  {
   "cell_type": "code",
   "execution_count": 46,
   "metadata": {},
   "outputs": [],
   "source": [
    "# Put the policy to the role created earlier\n",
    "response = iam.put_role_policy(\n",
    "    RoleName='my-fis-role',\n",
    "    PolicyName='my-fis-policy',\n",
    "    PolicyDocument=json.dumps(permissions_policy)\n",
    ")\n"
   ]
  },
  {
   "cell_type": "markdown",
   "metadata": {},
   "source": [
    "### Cree la plantilla del experimento de interrupción del spot\n",
    "\n",
    "En este paso se crea una plantilla de experimento que envía la interrupción de subasta a las instancias de subasta lanzadas a través del grupo EC2 Auto Scaling o la flota EC2 en capítulos anteriores. La plantilla de experimento de AWS FIS contiene:\n",
    "\n",
    "* **Una acción**, es una actividad que AWS FIS realiza en un recurso de AWS durante un experimento. En este caso, se utiliza una acción preconfigurada aws:ec2:send-spot-instance-interruptions, que envía un aviso de interrupción de instancia de spot a las instancias de spot objetivo dos minutos antes de interrumpirlas. La acción también envía una recomendación de reequilibrio de instancias EC2 basada en el parámetro durationBeforeInterruption. En este caso se establece la acción preconfigurada aws:ec2:send-spot-instance-interruptions con durationBeforeInterruption establecida en 2 minutos. Puede cambiar a un valor superior a 2 minutos para representar una recomendación de reequilibrio de instancia EC2 que se adelante al aviso de interrupción de instancia spot.\n",
    "\n",
    "* **Un objetivo**, es uno o más recursos de AWS en los que el experimento de AWS FIS realiza una acción durante un experimento. En este caso, se establece un objetivo con aws:ec2:spot-instance como tipo de recurso y se filtran las instancias de spot lanzadas a través de ASG utilizando resourceTags establecidas en \"aws:autoscaling:groupName\": \"EC2SpotWorkshopASG\".\n",
    "\n",
    "* **Una condición de parada**, es un mecanismo de AWS FIS para detener un experimento si alcanza un umbral que se define como una alarma de Amazon CloudWatch. En este caso, el experimento se ejecuta sin condición de parada."
   ]
  },
  {
   "cell_type": "code",
   "execution_count": 47,
   "metadata": {},
   "outputs": [],
   "source": [
    "actions = {\n",
    "    \"interruptSpotInstance\": {\n",
    "        \"actionId\": \"aws:ec2:send-spot-instance-interruptions\",\n",
    "        \"parameters\": {\n",
    "            \"durationBeforeInterruption\": \"PT2M\"\n",
    "        },\n",
    "        \"targets\": {\n",
    "            \"SpotInstances\": \"SpotInstancesInASG\"\n",
    "        }\n",
    "    }\n",
    "}\n",
    "targets = {\n",
    "    \"SpotInstancesInASG\": {\n",
    "        \"resourceType\": \"aws:ec2:spot-instance\",\n",
    "        \"resourceTags\": {\n",
    "            \"aws:autoscaling:groupName\": \"EC2SpotWorkshopASG\"\n",
    "        },\n",
    "        \"filters\": [\n",
    "            {\n",
    "                \"path\": \"State.Name\",\n",
    "                \"values\": [\n",
    "                    \"running\"\n",
    "                ]\n",
    "            }\n",
    "        ],\n",
    "        \"selectionMode\": \"PERCENT(50)\"\n",
    "    }\n",
    "}"
   ]
  },
  {
   "cell_type": "code",
   "execution_count": 48,
   "metadata": {},
   "outputs": [],
   "source": [
    "# Create the experiment template\n",
    "response = fis.create_experiment_template(\n",
    "    actions=actions,\n",
    "    targets=targets,\n",
    "    stopConditions=[\n",
    "        {\n",
    "            'source': 'none'\n",
    "        },\n",
    "    ],\n",
    "    roleArn=role_arn,\n",
    "    description=\"Test Spot Instance interruptions\")\n",
    "\n",
    "fis_template_id = response['experimentTemplate']['id']"
   ]
  },
  {
   "cell_type": "markdown",
   "metadata": {},
   "source": [
    "### Ejecutar el experimento Interrupción del spot\n",
    "\n",
    "Para ejecutar el experimento, utilice el comando start-experiment para ejecutar la plantilla creada anteriormente. El experimento puede ejecutarse varias veces para validar los resultados de la ejecución de su aplicación en EC2 Spot."
   ]
  },
  {
   "cell_type": "code",
   "execution_count": 49,
   "metadata": {},
   "outputs": [
    {
     "name": "stdout",
     "output_type": "stream",
     "text": [
      "Experiment started successfully\n"
     ]
    }
   ],
   "source": [
    "response = fis.start_experiment(experimentTemplateId=fis_template_id)\n",
    "if response['ResponseMetadata']['HTTPStatusCode'] == 200:   \n",
    "    print(\"Experiment started successfully\")"
   ]
  },
  {
   "cell_type": "markdown",
   "metadata": {},
   "source": [
    "Como resultado de este experimento, se observa que el 50% de las instancias de spot lanzadas por el grupo Auto Scaling reciben las señales de recomendación de reequilibrio. Tenga en cuenta que esto es inferior a la Cuota de servicio de 5, que es el número máximo de instancia de spot EC2 que puede interrumpir un solo experimento. Cuando se completan las acciones de este experimento\n",
    "\n",
    "* La instancia de spot de destino recibe una señal de recomendación de reequilibrio de instancias.\n",
    "* Se emite un aviso de interrupción de instancia de spot dos minutos antes de que Amazon EC2 termine su instancia.\n",
    "* Transcurridos dos minutos, se termina la instancia de spot."
   ]
  },
  {
   "cell_type": "code",
   "execution_count": null,
   "metadata": {},
   "outputs": [],
   "source": []
  }
 ],
 "metadata": {
  "kernelspec": {
   "display_name": "personal",
   "language": "python",
   "name": "python3"
  },
  "language_info": {
   "codemirror_mode": {
    "name": "ipython",
    "version": 3
   },
   "file_extension": ".py",
   "mimetype": "text/x-python",
   "name": "python",
   "nbconvert_exporter": "python",
   "pygments_lexer": "ipython3",
   "version": "3.11.3"
  }
 },
 "nbformat": 4,
 "nbformat_minor": 2
}
