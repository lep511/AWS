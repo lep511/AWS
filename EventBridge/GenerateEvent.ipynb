{
 "cells": [
  {
   "cell_type": "code",
   "execution_count": 1,
   "metadata": {},
   "outputs": [],
   "source": [
    "import boto3\n",
    "import json"
   ]
  },
  {
   "cell_type": "code",
   "execution_count": 2,
   "metadata": {},
   "outputs": [],
   "source": [
    "session = boto3.Session(profile_name='default')\n",
    "client = session.client('events')"
   ]
  },
  {
   "cell_type": "code",
   "execution_count": 17,
   "metadata": {},
   "outputs": [],
   "source": [
    "event = {\n",
    "    \"orgName\": \"example\",\n",
    "    \"alert\": {\n",
    "        \"monitorName\": \"CPU %\",\n",
    "        \"criticalThreshold\": 95,\n",
    "        \"metricValue\": 100,\n",
    "        \"monitorOperator\": \">\",\n",
    "        \"trigger\": \"monitor\",\n",
    "        \"warningThreshold\": 80,\n",
    "        \"url\": \"https://mackerel.io/orgs/example/alerts/47e3HAJ49Mo\",\n",
    "        \"openedAt\": 1607648320,\n",
    "        \"duration\": 1,\n",
    "        \"createdAt\": 1607648320797,\n",
    "        \"isOpen\": True,\n",
    "        \"metricLabel\": \"CPU %\",\n",
    "        \"id\": \"47e3HAJ49Mo\",\n",
    "        \"closedAt\": None,\n",
    "        \"status\": \"critical\",\n",
    "    },\n",
    "    \"host\": {\n",
    "        \"name\": \"ip-172-31-18-88.ap-northeast-1.compute.internal\",\n",
    "        \"memo\": \"\",\n",
    "        \"isRetired\": False,\n",
    "        \"id\": \"ddddddddddd\",\n",
    "        \"url\": \"https://mackerel.io/orgs/example/hosts/ddddddddddd\",\n",
    "        \"status\": \"working\",\n",
    "        \"roles\": [],\n",
    "    },\n",
    "    \"memo\": \"\",\n",
    "    \"event\": \"alert\",\n",
    "    \"user\": None,\n",
    "    \"resourceInfo\": {\n",
    "        \"service\": \"ec2\",\n",
    "        \"region\": None,\n",
    "        \"account-id\": None,\n",
    "        \"resource-type\": \"instance\",\n",
    "        \"resource-id\": \"i-aaaaaaaaaaaaaaaaa\",\n",
    "    },\n",
    "}\n"
   ]
  },
  {
   "cell_type": "code",
   "execution_count": 18,
   "metadata": {},
   "outputs": [
    {
     "name": "stdout",
     "output_type": "stream",
     "text": [
      "Message sent successfully\n"
     ]
    }
   ],
   "source": [
    "event_bus_name = 'Inventory'\n",
    "response = client.put_events(\n",
    "    Entries=[\n",
    "        {\n",
    "            'Source': 'com.aws.orders',\n",
    "            'DetailType': 'alert',\n",
    "            'Detail': json.dumps(event),\n",
    "            'EventBusName': event_bus_name\n",
    "        }\n",
    "    ]\n",
    ")\n",
    "if response['FailedEntryCount'] == 0:\n",
    "    print('Message sent successfully')\n",
    "else:\n",
    "    print('Failed to send message')"
   ]
  },
  {
   "cell_type": "code",
   "execution_count": 20,
   "metadata": {},
   "outputs": [],
   "source": [
    "# Get schema from json\n",
    "# https://jsonschema.net/home"
   ]
  },
  {
   "cell_type": "code",
   "execution_count": 5,
   "metadata": {},
   "outputs": [],
   "source": [
    "event = {\n",
    "    \"category\": \"lab-supplies\",\n",
    "    \"value\": 415,\n",
    "    \"location\": \"eu-west-1\",\n",
    "    \"new-location\": \"eu-west-2\",\n",
    "    \"timestamp\": \"2020-12-11T12:34:56Z\",   \n",
    "}"
   ]
  },
  {
   "cell_type": "code",
   "execution_count": 8,
   "metadata": {},
   "outputs": [
    {
     "name": "stdout",
     "output_type": "stream",
     "text": [
      "Message sent successfully\n"
     ]
    }
   ],
   "source": [
    "event_bus_name = 'Orders'\n",
    "source = 'com.aws.orders'\n",
    "detail_type = 'Order Notification'\n",
    "\n",
    "response = client.put_events(\n",
    "    Entries=[\n",
    "        {\n",
    "            'Source': source,\n",
    "            'DetailType': detail_type,\n",
    "            'Detail': json.dumps(event),\n",
    "            'EventBusName': event_bus_name\n",
    "        }\n",
    "    ]\n",
    ")\n",
    "\n",
    "if response['FailedEntryCount'] == 0:\n",
    "    print('Message sent successfully')\n",
    "else:\n",
    "    print('Failed to send message')"
   ]
  },
  {
   "cell_type": "code",
   "execution_count": null,
   "metadata": {},
   "outputs": [],
   "source": []
  }
 ],
 "metadata": {
  "kernelspec": {
   "display_name": "myenv",
   "language": "python",
   "name": "python3"
  },
  "language_info": {
   "codemirror_mode": {
    "name": "ipython",
    "version": 3
   },
   "file_extension": ".py",
   "mimetype": "text/x-python",
   "name": "python",
   "nbconvert_exporter": "python",
   "pygments_lexer": "ipython3",
   "version": "3.10.8"
  },
  "orig_nbformat": 4
 },
 "nbformat": 4,
 "nbformat_minor": 2
}
