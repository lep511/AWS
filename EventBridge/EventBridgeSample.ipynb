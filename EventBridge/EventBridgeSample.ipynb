{
 "cells": [
  {
   "cell_type": "code",
   "execution_count": 2,
   "id": "ce78d214-d816-4d67-ad5d-5efe9456a562",
   "metadata": {},
   "outputs": [],
   "source": [
    "import boto3"
   ]
  },
  {
   "cell_type": "code",
   "execution_count": 3,
   "id": "0fe32a17-ecb5-41e8-b932-a04f2acc554f",
   "metadata": {},
   "outputs": [],
   "source": [
    "client = boto3.client('events')"
   ]
  },
  {
   "cell_type": "code",
   "execution_count": 6,
   "id": "b0dad707-ac84-4522-b313-5e6c47597063",
   "metadata": {},
   "outputs": [],
   "source": [
    "event_bus_name = 'Orders'\n",
    "source = 'com.aws.orders'\n",
    "detail_type = 'Order Notification'\n",
    "detail = '{\"category\":\"lab-supplies\",\"value\":415,\"location\":\"eu-west\"}'"
   ]
  },
  {
   "cell_type": "code",
   "execution_count": 7,
   "id": "db026e7d-fa87-47f7-b1a4-1a88fc5bd0e4",
   "metadata": {},
   "outputs": [
    {
     "name": "stdout",
     "output_type": "stream",
     "text": [
      "Event sent to the event bus Orders\n",
      "EventID is 76e9b5c3-c922-cc60-053b-9a0ecdfe6bad\n"
     ]
    }
   ],
   "source": [
    "try:\n",
    "    response = client.put_events(\n",
    "        Entries=[\n",
    "          {\n",
    "            'Source': source,\n",
    "            'DetailType': detail_type,\n",
    "            'Detail': detail,\n",
    "            'EventBusName': event_bus_name\n",
    "          }\n",
    "        ]\n",
    "    )\n",
    "    print('Event sent to the event bus ' + event_bus_name)\n",
    "    print('EventID is ' + response['Entries'][0]['EventId'])\n",
    "except Exception as e:\n",
    "    print(e)"
   ]
  },
  {
   "cell_type": "code",
   "execution_count": 8,
   "id": "25674e90-2683-4426-981d-f638a3939072",
   "metadata": {},
   "outputs": [],
   "source": [
    "detail = '{\"category\":\"lab-supplies-3\",\"value\":325,\"location\":\"eu-west\"}'"
   ]
  },
  {
   "cell_type": "code",
   "execution_count": 10,
   "id": "649d33e5-11c6-444d-80db-a1ad9772330f",
   "metadata": {},
   "outputs": [
    {
     "name": "stdout",
     "output_type": "stream",
     "text": [
      "Event sent to the event bus Orders\n",
      "EventID is 8afb1b98-f239-34be-5029-e4948ed2f9f5\n"
     ]
    }
   ],
   "source": [
    "try:\n",
    "    response = client.put_events(\n",
    "        Entries=[\n",
    "          {\n",
    "            'Source': source,\n",
    "            'DetailType': detail_type,\n",
    "            'Detail': detail,\n",
    "            'EventBusName': event_bus_name\n",
    "          }\n",
    "        ]\n",
    "    )\n",
    "    print('Event sent to the event bus ' + event_bus_name)\n",
    "    print('EventID is ' + response['Entries'][0]['EventId'])\n",
    "except Exception as e:\n",
    "    print(e)"
   ]
  },
  {
   "cell_type": "code",
   "execution_count": null,
   "id": "f6a27bb5-7521-4f48-8d9f-bf6c92b5a298",
   "metadata": {},
   "outputs": [],
   "source": []
  }
 ],
 "metadata": {
  "kernelspec": {
   "display_name": "myenv",
   "language": "python",
   "name": "python3"
  },
  "language_info": {
   "codemirror_mode": {
    "name": "ipython",
    "version": 3
   },
   "file_extension": ".py",
   "mimetype": "text/x-python",
   "name": "python",
   "nbconvert_exporter": "python",
   "pygments_lexer": "ipython3",
   "version": "3.10.8"
  }
 },
 "nbformat": 4,
 "nbformat_minor": 5
}
