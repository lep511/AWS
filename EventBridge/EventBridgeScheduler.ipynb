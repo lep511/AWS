{
 "cells": [
  {
   "cell_type": "markdown",
   "metadata": {},
   "source": [
    "# ¿Qué es EventBridge Scheduler?\n",
    "\n",
    "Amazon EventBridge Scheduler es un programador sin servidor que le permite crear, ejecutar y administrar tareas desde un servicio central y administrado. Altamente escalable, EventBridge Scheduler le permite programar millones de tareas que pueden invocar más de 270 servicios de AWS y más de 6.000 operaciones de API. Sin necesidad de aprovisionar y administrar la infraestructura, ni de integrarse con varios servicios, EventBridge Scheduler le ofrece la posibilidad de realizar programaciones a escala y reducir los costes de mantenimiento.\n",
    "\n",
    "EventBridge Scheduler entrega sus tareas de forma fiable, con mecanismos incorporados que ajustan sus programaciones en función de la disponibilidad de los objetivos descendentes. Con EventBridge Scheduler, puede crear programaciones utilizando expresiones cron y rate para patrones recurrentes, o configurar invocaciones únicas. Puede establecer ventanas de tiempo flexibles para la entrega, definir los límites de reintento y establecer el tiempo máximo de retención para los activadores fallidos. EventBridge Scheduler también le permite crear programaciones que se ejecutan en un horario específico o en un momento determinado, como el inicio de un evento o la finalización de un proceso."
   ]
  },
  {
   "cell_type": "code",
   "execution_count": null,
   "metadata": {},
   "outputs": [],
   "source": [
    "#!pip install botocore --upgrade pip\n",
    "#!pip install boto3 --upgrade pip"
   ]
  },
  {
   "cell_type": "code",
   "execution_count": 1,
   "metadata": {},
   "outputs": [
    {
     "name": "stdout",
     "output_type": "stream",
     "text": [
      "Boto3 version: 1.26.16\n"
     ]
    }
   ],
   "source": [
    "import boto3\n",
    "import logging\n",
    "import json\n",
    "from botocore.exceptions import ClientError\n",
    "print('Boto3 version: {}'.format(boto3.__version__))"
   ]
  },
  {
   "cell_type": "markdown",
   "metadata": {},
   "source": [
    "### Programación de un horario único"
   ]
  },
  {
   "cell_type": "code",
   "execution_count": 2,
   "metadata": {},
   "outputs": [],
   "source": [
    "client = boto3.client('scheduler', region_name='us-east-1')\n",
    "sns = boto3.client('sns', region_name='us-east-1')\n",
    "iam = boto3.client('iam', region_name='us-east-1')"
   ]
  },
  {
   "cell_type": "code",
   "execution_count": 3,
   "metadata": {},
   "outputs": [],
   "source": [
    "# Create a topic\n",
    "topic_name = 'EventBridgeScheduler'\n",
    "response = sns.create_topic(\n",
    "    Name = topic_name\n",
    ")\n",
    "topic_arn = response['TopicArn']\n",
    "while topic_arn == 'pending confirmation':\n",
    "    response = sns.create_topic(\n",
    "        Name = topic_name\n",
    "    )"
   ]
  },
  {
   "cell_type": "code",
   "execution_count": 11,
   "metadata": {},
   "outputs": [],
   "source": [
    "# Create a emaiil susbcription\n",
    "email_address = \"estebanpbuday@yahoo.es\"\n",
    "response = sns.subscribe(\n",
    "    TopicArn = topic_arn,\n",
    "    Protocol = 'email',\n",
    "    Endpoint = email_address\n",
    ")   "
   ]
  },
  {
   "cell_type": "code",
   "execution_count": 5,
   "metadata": {},
   "outputs": [],
   "source": [
    "# Create a role\n",
    "\n",
    "role_name = 'EventBridgeScheduler'\n",
    "assume_role_policy_document = {\n",
    "    \"Version\": \"2012-10-17\",\n",
    "    \"Statement\": [\n",
    "        {\n",
    "            \"Sid\": \"EventBridgeScheduler\",\n",
    "            \"Effect\": \"Allow\",\n",
    "            \"Principal\": {\n",
    "                \"Service\": \"scheduler.amazonaws.com\"\n",
    "            },\n",
    "            \"Action\": \"sts:AssumeRole\"\n",
    "            }\n",
    "        ]\n",
    "    }\n",
    "role_description = 'EventBridge Scheduler Role'\n",
    "tags = [\n",
    "    {\n",
    "        'Key': 'Environment',\n",
    "        'Value': 'Production'\n",
    "    },\n",
    "    {\n",
    "        'Key': 'Name',\n",
    "        'Value': 'EventBridgeScheduler'\n",
    "    }\n",
    "]"
   ]
  },
  {
   "cell_type": "code",
   "execution_count": 6,
   "metadata": {},
   "outputs": [],
   "source": [
    "response = iam.create_role(\n",
    "    RoleName=role_name,\n",
    "    AssumeRolePolicyDocument=json.dumps(assume_role_policy_document),\n",
    "    Description=role_description,\n",
    "    Tags=tags\n",
    ")\n",
    "role_arn = response['Role']['Arn']"
   ]
  },
  {
   "cell_type": "code",
   "execution_count": 15,
   "metadata": {},
   "outputs": [],
   "source": [
    "# Create Schedule\n",
    "\n",
    "event = client.create_schedule(\n",
    "    Name='SendEmailOnce',\n",
    "    ScheduleExpression='rate(15 minutes)',\n",
    "    ScheduleExpressionTimezone='America/Argentina/Buenos_Aires',\n",
    "    FlexibleTimeWindow={\n",
    "            'Mode':'OFF'\n",
    "        },\n",
    "    Target={\n",
    "            'Arn': topic_arn,\n",
    "            'RoleArn': role_arn\n",
    "        }\n",
    ") \n",
    "    "
   ]
  }
 ],
 "metadata": {
  "kernelspec": {
   "display_name": "Python 3.9.12 ('base')",
   "language": "python",
   "name": "python3"
  },
  "language_info": {
   "codemirror_mode": {
    "name": "ipython",
    "version": 3
   },
   "file_extension": ".py",
   "mimetype": "text/x-python",
   "name": "python",
   "nbconvert_exporter": "python",
   "pygments_lexer": "ipython3",
   "version": "3.9.12"
  },
  "orig_nbformat": 4,
  "vscode": {
   "interpreter": {
    "hash": "c9cdd2fa3b32da9704bd8048bdba085d67219855a318f4adc7f095bb5cfa603b"
   }
  }
 },
 "nbformat": 4,
 "nbformat_minor": 2
}
