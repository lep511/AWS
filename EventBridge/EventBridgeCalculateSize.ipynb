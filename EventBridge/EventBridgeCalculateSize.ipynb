{
 "cells": [
  {
   "cell_type": "code",
   "execution_count": 24,
   "id": "ce78d214-d816-4d67-ad5d-5efe9456a562",
   "metadata": {},
   "outputs": [],
   "source": [
    "import boto3\n",
    "import json\n",
    "from botocore.exceptions import ClientError"
   ]
  },
  {
   "cell_type": "code",
   "execution_count": 2,
   "id": "0fe32a17-ecb5-41e8-b932-a04f2acc554f",
   "metadata": {},
   "outputs": [],
   "source": [
    "client = boto3.client('events')"
   ]
  },
  {
   "cell_type": "code",
   "execution_count": 3,
   "id": "b0dad707-ac84-4522-b313-5e6c47597063",
   "metadata": {},
   "outputs": [],
   "source": [
    "event_bus_name = 'Orders'\n",
    "source = 'com.aws.orders'\n",
    "detail_type = 'Order Notification'\n",
    "detail = '{\"category\":\"lab-supplies\",\"value\":415,\"location\":\"eu-west\"}'"
   ]
  },
  {
   "cell_type": "code",
   "execution_count": 4,
   "id": "eaae6a4c",
   "metadata": {},
   "outputs": [],
   "source": [
    "# Create a eventbridge bus\n",
    "def create_eventbridge_bus(bus_name):\n",
    "    \"\"\"\n",
    "    Creates an EventBridge bus with the given name.\n",
    "    \n",
    "    Args:\n",
    "        bus_name (str): The name of the EventBridge bus to create.\n",
    "        \n",
    "    Returns:\n",
    "        dict: The response from EventBridge containing bus details.\n",
    "    \"\"\"\n",
    "    client = boto3.client('events')\n",
    "    \n",
    "    try:\n",
    "        response = client.create_event_bus(\n",
    "            Name=bus_name\n",
    "        )\n",
    "        return response\n",
    "    except client.exceptions.ResourceAlreadyExistsException:\n",
    "        print(f\"EventBridge bus '{bus_name}' already exists.\")\n",
    "        return None"
   ]
  },
  {
   "cell_type": "code",
   "execution_count": 5,
   "id": "37e61944",
   "metadata": {},
   "outputs": [
    {
     "data": {
      "text/plain": [
       "{'EventBusArn': 'arn:aws:events:us-east-1:637423169504:event-bus/Orders',\n",
       " 'ResponseMetadata': {'RequestId': '46b9dc2b-89b0-4c39-9296-8f0b4ce2736d',\n",
       "  'HTTPStatusCode': 200,\n",
       "  'HTTPHeaders': {'x-amzn-requestid': '46b9dc2b-89b0-4c39-9296-8f0b4ce2736d',\n",
       "   'content-type': 'application/x-amz-json-1.1',\n",
       "   'content-length': '72',\n",
       "   'date': 'Mon, 08 Jul 2024 16:27:31 GMT'},\n",
       "  'RetryAttempts': 0}}"
      ]
     },
     "execution_count": 5,
     "metadata": {},
     "output_type": "execute_result"
    }
   ],
   "source": [
    "create_eventbridge_bus(bus_name=event_bus_name)"
   ]
  },
  {
   "cell_type": "code",
   "execution_count": 10,
   "id": "1fece705",
   "metadata": {},
   "outputs": [],
   "source": [
    "# Create an EventBridge Rule\n",
    "rule_event = {\n",
    "  \"source\": [\"com.aws.orders\"],\n",
    "  \"detail\": {\n",
    "    \"category\": [{\n",
    "      \"prefix\": \"lab-supplies\"\n",
    "    }]\n",
    "  }\n",
    "}"
   ]
  },
  {
   "cell_type": "code",
   "execution_count": 6,
   "id": "a8cf936e",
   "metadata": {},
   "outputs": [],
   "source": [
    "detail = {\n",
    "  \"category\": \"lab-supplies-12\",\n",
    "  \"value\": 1500,\n",
    "  \"location\": \"eu-west\"\n",
    "}"
   ]
  },
  {
   "cell_type": "code",
   "execution_count": 7,
   "id": "db026e7d-fa87-47f7-b1a4-1a88fc5bd0e4",
   "metadata": {},
   "outputs": [
    {
     "name": "stdout",
     "output_type": "stream",
     "text": [
      "Event sent to the event bus Orders\n",
      "EventID is e51d5be0-3e37-1ae5-e554-6b37dde79461\n"
     ]
    }
   ],
   "source": [
    "try:\n",
    "    response = client.put_events(\n",
    "        Entries=[\n",
    "          {\n",
    "            'Source': source,\n",
    "            'DetailType': detail_type,\n",
    "            'Detail': json.dumps(detail),\n",
    "            'EventBusName': event_bus_name\n",
    "          }\n",
    "        ]\n",
    "    )\n",
    "    print('Event sent to the event bus ' + event_bus_name)\n",
    "    print('EventID is ' + response['Entries'][0]['EventId'])\n",
    "except Exception as e:\n",
    "    print(e)"
   ]
  },
  {
   "cell_type": "markdown",
   "id": "e5360a78",
   "metadata": {},
   "source": [
    "### Calculating EventBridge PutEvents event entry size\n",
    "You can send custom events to EventBridge by using the PutEvents action. You can batch multiple event entries into one request for efficiency. The total entry size must be less than 256KB. You can calculate the entry size before you send the events."
   ]
  },
  {
   "cell_type": "code",
   "execution_count": 14,
   "id": "11c4f652",
   "metadata": {},
   "outputs": [],
   "source": [
    "def get_size_kb(entry):  # Assuming 'entry' is a dictionary-like object with the necessary keys\n",
    "    size = 0\n",
    "\n",
    "    if entry.get(\"time\"):  # Check if 'Time' key exists and has a value\n",
    "        size += 14  # Size of the timestamp representation (adjust if needed)\n",
    "\n",
    "    size += len(entry.get(\"source\", \"\").encode(\"utf-8\"))  # Length of 'Source' in bytes\n",
    "    size += len(entry.get(\"detail-type\", \"\").encode(\"utf-8\"))  # Length of 'DetailType' in bytes\n",
    "\n",
    "    if entry.get(\"detail\"):\n",
    "        detail_data = json.dumps(entry[\"detail\"]).encode(\"utf-8\")\n",
    "        size += len(detail_data)  # Length of 'Detail' in bytes\n",
    "\n",
    "    if entry.get(\"resources\"):\n",
    "        for resource in entry[\"resources\"]:\n",
    "            if resource:\n",
    "                resource_data = json.dumps(resource).encode(\"utf-8\")\n",
    "                size += len(resource_data) # Length of each resource in bytes\n",
    "        \n",
    "    return round(size / 1024, 2) # Return size in kilobytes\n"
   ]
  },
  {
   "cell_type": "code",
   "execution_count": 72,
   "id": "cd19a2cd",
   "metadata": {},
   "outputs": [],
   "source": [
    "with open(\"users_1k.json\", \"r\") as f:\n",
    "    event_data = f.read()\n",
    "    json_object = json.loads(event_data)"
   ]
  },
  {
   "cell_type": "code",
   "execution_count": 73,
   "id": "68c0b219",
   "metadata": {},
   "outputs": [
    {
     "data": {
      "text/plain": [
       "898"
      ]
     },
     "execution_count": 73,
     "metadata": {},
     "output_type": "execute_result"
    }
   ],
   "source": [
    "len(json_object)"
   ]
  },
  {
   "cell_type": "code",
   "execution_count": 84,
   "id": "e2b1d1f3",
   "metadata": {},
   "outputs": [],
   "source": [
    "event_sample = {\n",
    "    \"version\": \"0\",\n",
    "    \"id\": \"ddbec620-9261-eed9-f7fd-bb4a6024c333\",\n",
    "    \"detail-type\": \"Order Notification\",\n",
    "    \"source\": \"com.aws.orders\",\n",
    "    \"account\": \"637423169504\",\n",
    "    \"time\": \"2024-07-07T16:10:19Z\",\n",
    "    \"region\": \"us-east-1\",\n",
    "    \"resources\": [],\n",
    "    \"detail\": json_object[:750]\n",
    "}"
   ]
  },
  {
   "cell_type": "code",
   "execution_count": 85,
   "id": "56288a2e",
   "metadata": {},
   "outputs": [
    {
     "name": "stdout",
     "output_type": "stream",
     "text": [
      "The size of the event sample is: 248.92 KB\n",
      "Size of the event must be less than 256KB\n"
     ]
    }
   ],
   "source": [
    "size_kb = get_size_kb(event_sample)\n",
    "print(f\"The size of the event sample is: {size_kb} KB\")\n",
    "print(f\"Size of the event must be less than 256KB\")"
   ]
  },
  {
   "cell_type": "code",
   "execution_count": 86,
   "id": "58ef0199",
   "metadata": {},
   "outputs": [],
   "source": [
    "detail = {\n",
    "  \"category\": \"lab-supplies-12\",\n",
    "  \"value\": 1500,\n",
    "  \"location\": \"eu-west\",\n",
    "  \"users\": json_object[:750]\n",
    "}"
   ]
  },
  {
   "cell_type": "code",
   "execution_count": 87,
   "id": "2083bbd9",
   "metadata": {},
   "outputs": [
    {
     "name": "stdout",
     "output_type": "stream",
     "text": [
      "Event sent to the event bus Orders\n",
      "EventID is b9c60c8e-3a13-cd80-b3fe-2c81076c5932\n"
     ]
    }
   ],
   "source": [
    "try:\n",
    "    response = client.put_events(\n",
    "        Entries=[\n",
    "          {\n",
    "            'Source': source,\n",
    "            'DetailType': detail_type,\n",
    "            'Detail': json.dumps(detail),\n",
    "            'EventBusName': event_bus_name\n",
    "          }\n",
    "        ]\n",
    "    )\n",
    "    print('Event sent to the event bus ' + event_bus_name)\n",
    "    print('EventID is ' + response['Entries'][0]['EventId'])\n",
    "except ClientError as e:\n",
    "    print('Error Message: {}'.format(e.response['Error']['Message']))\n",
    "    raise e\n",
    "except Exception as e:\n",
    "    raise e"
   ]
  }
 ],
 "metadata": {
  "kernelspec": {
   "display_name": "myenv",
   "language": "python",
   "name": "python3"
  },
  "language_info": {
   "codemirror_mode": {
    "name": "ipython",
    "version": 3
   },
   "file_extension": ".py",
   "mimetype": "text/x-python",
   "name": "python",
   "nbconvert_exporter": "python",
   "pygments_lexer": "ipython3",
   "version": "3.12.2"
  }
 },
 "nbformat": 4,
 "nbformat_minor": 5
}
