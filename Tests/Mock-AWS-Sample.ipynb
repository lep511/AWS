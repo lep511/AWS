{
 "cells": [
  {
   "attachments": {},
   "cell_type": "markdown",
   "metadata": {},
   "source": [
    "## Moto - Mock AWS Services\n",
    "\n",
    "Moto es una biblioteca que permite que sus pruebas simulen fácilmente los servicios de AWS.\n",
    "\n",
    "Imagina que tienes el siguiente código python que quieres probar:"
   ]
  },
  {
   "cell_type": "code",
   "execution_count": 1,
   "metadata": {},
   "outputs": [],
   "source": [
    "import boto3\n",
    "from moto import mock_s3\n",
    "\n",
    "class MyModel:\n",
    "    def __init__(self, name, value):\n",
    "        self.name = name\n",
    "        self.value = value\n",
    "\n",
    "    def save(self):\n",
    "        s3 = boto3.client(\"s3\", region_name=\"us-east-1\")\n",
    "        s3.put_object(Bucket=\"mybucket\", Key=self.name, Body=self.value)"
   ]
  },
  {
   "cell_type": "code",
   "execution_count": 3,
   "metadata": {},
   "outputs": [],
   "source": [
    "@mock_s3\n",
    "def test_my_model_save():\n",
    "    conn = boto3.resource(\"s3\", region_name=\"us-east-1\")\n",
    "    # We need to create the bucket since this is all in Moto's 'virtual' AWS account\n",
    "    conn.create_bucket(Bucket=\"mybucket\")\n",
    "\n",
    "    model_instance = MyModel(\"steve\", \"is awesome\")\n",
    "    model_instance.save()\n",
    "\n",
    "    body = conn.Object(\"mybucket\", \"steve\").get()[\n",
    "        \"Body\"].read().decode(\"utf-8\")\n",
    "\n",
    "    assert body == \"is awesome\""
   ]
  },
  {
   "cell_type": "code",
   "execution_count": null,
   "metadata": {},
   "outputs": [],
   "source": [
    "def test_my_model_save():\n",
    "    with mock_s3():\n",
    "        conn = boto3.resource(\"s3\", region_name=\"us-east-1\")\n",
    "        conn.create_bucket(Bucket=\"mybucket\")\n",
    "\n",
    "        model_instance = MyModel(\"steve\", \"is awesome\")\n",
    "        model_instance.save()\n",
    "\n",
    "        body = conn.Object(\"mybucket\", \"steve\").get()[\n",
    "            \"Body\"].read().decode(\"utf-8\")\n",
    "\n",
    "        assert body == \"is awesome\""
   ]
  },
  {
   "attachments": {},
   "cell_type": "markdown",
   "metadata": {},
   "source": [
    "* Con el decorador que envuelve la prueba, todas las llamadas a s3 se simulan automáticamente. El simulacro mantiene el estado de los cubos y las claves.\n",
    "<br><br>\n",
    "* Para obtener una lista completa de los servicios y funciones cubiertos, consulte [nuestra cobertura de implantación](https://github.com/getmoto/moto/blob/master/IMPLEMENTATION_COVERAGE.md).\n",
    "<br><br>\n",
    "* La documentación completa puede consultarse aquí: http://docs.getmoto.org/en/latest/"
   ]
  }
 ],
 "metadata": {
  "kernelspec": {
   "display_name": "myenv",
   "language": "python",
   "name": "python3"
  },
  "language_info": {
   "codemirror_mode": {
    "name": "ipython",
    "version": 3
   },
   "file_extension": ".py",
   "mimetype": "text/x-python",
   "name": "python",
   "nbconvert_exporter": "python",
   "pygments_lexer": "ipython3",
   "version": "3.10.8"
  },
  "orig_nbformat": 4
 },
 "nbformat": 4,
 "nbformat_minor": 2
}
