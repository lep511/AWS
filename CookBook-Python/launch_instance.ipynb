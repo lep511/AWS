{
 "cells": [
  {
   "cell_type": "code",
   "execution_count": 50,
   "metadata": {},
   "outputs": [],
   "source": [
    "import boto3\n",
    "import json\n",
    "\n",
    "region_aws = 'us-east-1'\n",
    "\n",
    "ec2 = boto3.resource('ec2', region_name=region_aws)\n",
    "ec2_client = boto3.client('ec2', region_name=region_aws)\n",
    "iam = boto3.client('iam')\n",
    "ssm = boto3.client('ssm')"
   ]
  },
  {
   "cell_type": "code",
   "execution_count": 2,
   "metadata": {},
   "outputs": [],
   "source": [
    "# Create a policy\n",
    "policy_name = 'Cookbook-106-SSM-Role'\n",
    "policy_document = {\n",
    "  \"Version\": \"2012-10-17\",\n",
    "  \"Statement\": [\n",
    "  {\n",
    "    \"Effect\": \"Allow\",\n",
    "    \"Principal\": {\n",
    "      \"Service\": \"ec2.amazonaws.com\"\n",
    "    },\n",
    "    \"Action\": \"sts:AssumeRole\"\n",
    "  }\n",
    "  ]\n",
    "}\n",
    "\n",
    "ssm_role = iam.create_role(\n",
    "    RoleName=policy_name,\n",
    "    AssumeRolePolicyDocument=json.dumps(policy_document)\n",
    ")"
   ]
  },
  {
   "cell_type": "code",
   "execution_count": 3,
   "metadata": {},
   "outputs": [],
   "source": [
    "ssm_role_arn = ssm_role['Role']['Arn']"
   ]
  },
  {
   "cell_type": "code",
   "execution_count": 4,
   "metadata": {},
   "outputs": [
    {
     "data": {
      "text/plain": [
       "{'ResponseMetadata': {'RequestId': '6019a3c3-b10c-4834-a268-f6b3b3510897',\n",
       "  'HTTPStatusCode': 200,\n",
       "  'HTTPHeaders': {'x-amzn-requestid': '6019a3c3-b10c-4834-a268-f6b3b3510897',\n",
       "   'content-type': 'text/xml',\n",
       "   'content-length': '212',\n",
       "   'date': 'Thu, 06 Oct 2022 15:59:00 GMT'},\n",
       "  'RetryAttempts': 0}}"
      ]
     },
     "execution_count": 4,
     "metadata": {},
     "output_type": "execute_result"
    }
   ],
   "source": [
    "# Attach the policy to the role\n",
    "response = iam.attach_role_policy(\n",
    "    RoleName=policy_name,\n",
    "    PolicyArn='arn:aws:iam::aws:policy/AmazonSSMManagedInstanceCore'\n",
    ")"
   ]
  },
  {
   "cell_type": "code",
   "execution_count": 54,
   "metadata": {},
   "outputs": [],
   "source": [
    "instance_profile_name = 'Cookbook-109-SSM-Role'\n",
    "\n",
    "# Create an instance profile\n",
    "instance_profile = iam.create_instance_profile(\n",
    "    InstanceProfileName=instance_profile_name\n",
    ")\n",
    "# Add the role that you created to the instance profile:\n",
    "response = iam.add_role_to_instance_profile(\n",
    "    InstanceProfileName=instance_profile_name,\n",
    "    RoleName=policy_name\n",
    ")"
   ]
  },
  {
   "cell_type": "code",
   "execution_count": 57,
   "metadata": {},
   "outputs": [],
   "source": [
    "# Select a vpc\n",
    "vpc_id = 'vpc-0fc47b87065ca097a'\n",
    "vpc = ec2.Vpc(vpc_id)\n",
    "\n",
    "# Select a subnet\n",
    "subnet = list(vpc.subnets.all())[0]"
   ]
  },
  {
   "cell_type": "code",
   "execution_count": 44,
   "metadata": {},
   "outputs": [],
   "source": [
    "for sn in vpc.subnets.all():\n",
    "    #print(sn.id + \" - \" + sn.availability_zone)\n",
    "    subnet = sn"
   ]
  },
  {
   "cell_type": "code",
   "execution_count": 58,
   "metadata": {},
   "outputs": [
    {
     "data": {
      "text/plain": [
       "{'Return': True,\n",
       " 'SecurityGroupRules': [{'SecurityGroupRuleId': 'sgr-053bb7e6910bc2877',\n",
       "   'GroupId': 'sg-0c4718dd53013bbc2',\n",
       "   'GroupOwnerId': '255224756231',\n",
       "   'IsEgress': False,\n",
       "   'IpProtocol': 'tcp',\n",
       "   'FromPort': 443,\n",
       "   'ToPort': 443,\n",
       "   'CidrIpv4': '10.1.0.0/16',\n",
       "   'Description': 'Allow HTTPS access'}],\n",
       " 'ResponseMetadata': {'RequestId': 'f8b6ccc8-efa2-4b3d-a94f-e5eb7ac108fd',\n",
       "  'HTTPStatusCode': 200,\n",
       "  'HTTPHeaders': {'x-amzn-requestid': 'f8b6ccc8-efa2-4b3d-a94f-e5eb7ac108fd',\n",
       "   'cache-control': 'no-cache, no-store',\n",
       "   'strict-transport-security': 'max-age=31536000; includeSubDomains',\n",
       "   'content-type': 'text/xml;charset=UTF-8',\n",
       "   'content-length': '781',\n",
       "   'date': 'Thu, 06 Oct 2022 16:48:15 GMT',\n",
       "   'server': 'AmazonEC2'},\n",
       "  'RetryAttempts': 0}}"
      ]
     },
     "execution_count": 58,
     "metadata": {},
     "output_type": "execute_result"
    }
   ],
   "source": [
    "# Create security group enable HHTPS:\n",
    "security_group_https = vpc.create_security_group(\n",
    "    GroupName='AWSCookbook-SG-HTTPS',\n",
    "    Description='Allow HTTPS access',\n",
    "    VpcId=vpc.id,\n",
    ")\n",
    "\n",
    "ec2_client.authorize_security_group_ingress(\n",
    "    GroupId=security_group_https.id,\n",
    "    IpPermissions=[\n",
    "        {'FromPort': 443,\n",
    "            'IpProtocol': 'tcp',\n",
    "            'IpRanges': [\n",
    "                {\n",
    "                    'CidrIp': vpc.cidr_block,\n",
    "                    'Description': 'Allow HTTPS access'\n",
    "                }\n",
    "            ],\n",
    "            'ToPort': 443\n",
    "        }\n",
    "    ]\n",
    ")"
   ]
  },
  {
   "cell_type": "code",
   "execution_count": 59,
   "metadata": {},
   "outputs": [
    {
     "data": {
      "text/plain": [
       "{'ResponseMetadata': {'RequestId': 'e1a2d511-62db-42e9-9953-87900f444220',\n",
       "  'HTTPStatusCode': 200,\n",
       "  'HTTPHeaders': {'x-amzn-requestid': 'e1a2d511-62db-42e9-9953-87900f444220',\n",
       "   'cache-control': 'no-cache, no-store',\n",
       "   'strict-transport-security': 'max-age=31536000; includeSubDomains',\n",
       "   'content-type': 'text/xml;charset=UTF-8',\n",
       "   'content-length': '237',\n",
       "   'date': 'Thu, 06 Oct 2022 16:48:26 GMT',\n",
       "   'server': 'AmazonEC2'},\n",
       "  'RetryAttempts': 0}}"
      ]
     },
     "execution_count": 59,
     "metadata": {},
     "output_type": "execute_result"
    }
   ],
   "source": [
    "# Enable Dns in VPC\n",
    "vpc.modify_attribute(EnableDnsSupport={'Value': True})\n",
    "vpc.modify_attribute(EnableDnsHostnames={'Value': True})"
   ]
  },
  {
   "cell_type": "code",
   "execution_count": 60,
   "metadata": {},
   "outputs": [],
   "source": [
    "# Creates a VPC endpoint for SSM:\n",
    "vpc_endpoint_ssm = ec2_client.create_vpc_endpoint(\n",
    "    VpcId=vpc.id,\n",
    "    ServiceName='com.amazonaws.' + region_aws + '.ssm',\n",
    "    VpcEndpointType='Interface',\n",
    "    SubnetIds=[subnet.id],\n",
    "    PrivateDnsEnabled=True,\n",
    "    SecurityGroupIds=[security_group_https.id]\n",
    ")\n",
    "# Creates a VPC endpoint for EC2 messages:\n",
    "vpc_endpoint_ec2msg = ec2_client.create_vpc_endpoint(\n",
    "    VpcId=vpc.id,\n",
    "    ServiceName='com.amazonaws.' + region_aws + '.ec2messages',\n",
    "    VpcEndpointType='Interface',\n",
    "    SubnetIds=[subnet.id],\n",
    "    PrivateDnsEnabled=True,\n",
    "    SecurityGroupIds=[security_group_https.id]\n",
    ")\n",
    "# Creates a VPC endpoint for SSMMessages:\n",
    "vpc_endpoint_ssm = ec2_client.create_vpc_endpoint(\n",
    "    VpcId=vpc.id,\n",
    "    ServiceName='com.amazonaws.' + region_aws + '.ssmmessages',\n",
    "    VpcEndpointType='Interface',\n",
    "    SubnetIds=[subnet.id],\n",
    "    PrivateDnsEnabled=True,\n",
    "    SecurityGroupIds=[security_group_https.id]\n",
    ")"
   ]
  },
  {
   "cell_type": "code",
   "execution_count": 61,
   "metadata": {},
   "outputs": [],
   "source": [
    "# Consulte en SSM el último ID de AMI de Amazon Linux 2 disponible en su región y guárdelo como variable de entorno:\n",
    "ssm_response = ssm.get_parameter(\n",
    "    Name='/aws/service/ami-amazon-linux-latest/amzn2-ami-hvm-x86_64-gp2'\n",
    ")"
   ]
  },
  {
   "cell_type": "code",
   "execution_count": 63,
   "metadata": {},
   "outputs": [],
   "source": [
    "# Create a key pair\n",
    "key_name = 'AWSCookbook-KeyPair-Instance'\n",
    "if key_name not in [key_pair.key_name for key_pair in ec2.key_pairs.all()]:\n",
    "    key_pair = ec2.create_key_pair(KeyName=key_name)\n",
    "    key_pair_file = open(key_name + '.pem', 'w')\n",
    "    key_pair_file.write(key_pair.key_material)\n",
    "    key_pair_file.close()"
   ]
  },
  {
   "cell_type": "code",
   "execution_count": 65,
   "metadata": {},
   "outputs": [],
   "source": [
    "instances = ec2.create_instances(\n",
    "    ImageId=ssm_response['Parameter']['Value'],\n",
    "    MinCount=1,\n",
    "    MaxCount=1,\n",
    "    InstanceType='t2.micro',\n",
    "    KeyName=key_name,\n",
    "    SubnetId=subnet.id,\n",
    "    IamInstanceProfile={\n",
    "        'Name': instance_profile_name\n",
    "    },\n",
    "    TagSpecifications=[\n",
    "        {\n",
    "            'ResourceType': 'instance',\n",
    "            'Tags': [\n",
    "                {\n",
    "                    'Key': 'Name',\n",
    "                    'Value': 'Cookbook-SSM-Instance'\n",
    "                },\n",
    "            ]\n",
    "        },\n",
    "    ]\n",
    ")"
   ]
  },
  {
   "cell_type": "code",
   "execution_count": null,
   "metadata": {},
   "outputs": [],
   "source": [
    "# Creates a VPC endpoint for SSM:\n",
    "vpc_endpoint_ssm = ec2_client.create_vpc_endpoint(\n",
    "    VpcId=vpc.id,\n",
    "    ServiceName='com.amazonaws.' + region_aws + '.ssm',\n",
    "    VpcEndpointType='Interface',\n",
    "    SubnetIds=[subnet.id],\n",
    "    PrivateDnsEnabled=True,\n",
    "    SecurityGroupIds=[security_group_https.id]\n",
    ")"
   ]
  },
  {
   "cell_type": "code",
   "execution_count": null,
   "metadata": {},
   "outputs": [],
   "source": [
    "# Creates a VPC endpoint for EC2 messages:\n",
    "vpc_endpoint_ec2msg = ec2_client.create_vpc_endpoint(\n",
    "    VpcId=vpc.id,\n",
    "    ServiceName='com.amazonaws.' + region_aws + '.ec2messages',\n",
    "    VpcEndpointType='Interface',\n",
    "    SubnetIds=[subnet.id],\n",
    "    PrivateDnsEnabled=True,\n",
    "    SecurityGroupIds=[security_group_https.id]\n",
    ")"
   ]
  },
  {
   "cell_type": "code",
   "execution_count": null,
   "metadata": {},
   "outputs": [],
   "source": [
    "# Creates a VPC endpoint for SSMMessages:\n",
    "vpc_endpoint_ssm = ec2_client.create_vpc_endpoint(\n",
    "    VpcId=vpc.id,\n",
    "    ServiceName='com.amazonaws.' + region_aws + '.ssmmessages',\n",
    "    VpcEndpointType='Interface',\n",
    "    SubnetIds=[subnet.id],\n",
    "    PrivateDnsEnabled=True,\n",
    "    SecurityGroupIds=[security_group_https.id]\n",
    ")"
   ]
  },
  {
   "cell_type": "code",
   "execution_count": 56,
   "metadata": {},
   "outputs": [
    {
     "name": "stdout",
     "output_type": "stream",
     "text": [
      "En la terminal ejecute el siguiente comando:\n",
      "   aws ssm start-session --target i-01b1df1b6208cf192\n"
     ]
    }
   ],
   "source": [
    "instance_id = ssm.describe_instance_information()['InstanceInformationList'][0]['InstanceId']\n",
    "print(\"En la terminal ejecute el siguiente comando:\")\n",
    "print(\"   aws ssm start-session --target \" + instance_id)"
   ]
  }
 ],
 "metadata": {
  "kernelspec": {
   "display_name": "Python 3.9.13 ('base')",
   "language": "python",
   "name": "python3"
  },
  "language_info": {
   "codemirror_mode": {
    "name": "ipython",
    "version": 3
   },
   "file_extension": ".py",
   "mimetype": "text/x-python",
   "name": "python",
   "nbconvert_exporter": "python",
   "pygments_lexer": "ipython3",
   "version": "3.9.13"
  },
  "orig_nbformat": 4,
  "vscode": {
   "interpreter": {
    "hash": "c9cdd2fa3b32da9704bd8048bdba085d67219855a318f4adc7f095bb5cfa603b"
   }
  }
 },
 "nbformat": 4,
 "nbformat_minor": 2
}
