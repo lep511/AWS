{
 "cells": [
  {
   "cell_type": "markdown",
   "metadata": {},
   "source": [
    "### Conexión a las instancias de EC2 mediante el gestor de sesiones de AWS SSM\n",
    "\n",
    "Problema\n",
    "Tiene una instancia EC2 en una subred privada y necesita conectarse a la instancia sin usar SSH a través de Internet. \n",
    "\n",
    "Solución\n",
    "Cree un rol de IAM, adjunte la política AmazonSSMManagedInstanceCore, cree un perfil de instancia EC2, adjunte el rol de IAM que creó al perfil de instancia, asocie el perfil de instancia EC2 a una instancia EC2 y, por último, ejecute el comando aws ssm start-session para conectarse a la instancia.\n",
    "<br>\n",
    "<br>\n",
    "<img src=\"https://learning.oreilly.com/api/v2/epubs/urn:orm:book:9781492092599/files/assets/awsc_0108.png\" width=\"600\">"
   ]
  },
  {
   "cell_type": "code",
   "execution_count": 1,
   "metadata": {},
   "outputs": [],
   "source": [
    "import boto3\n",
    "import json\n",
    "\n",
    "region_aws = 'us-east-1'\n",
    "\n",
    "ec2 = boto3.resource('ec2', region_name=region_aws)\n",
    "ec2_client = boto3.client('ec2', region_name=region_aws)\n",
    "iam = boto3.client('iam')"
   ]
  },
  {
   "cell_type": "code",
   "execution_count": 2,
   "metadata": {},
   "outputs": [],
   "source": [
    "# Create a policy\n",
    "policy_name = 'Cookbook-106-SSM-Role'\n",
    "policy_document = {\n",
    "  \"Version\": \"2012-10-17\",\n",
    "  \"Statement\": [\n",
    "  {\n",
    "    \"Effect\": \"Allow\",\n",
    "    \"Principal\": {\n",
    "      \"Service\": \"ec2.amazonaws.com\"\n",
    "    },\n",
    "    \"Action\": \"sts:AssumeRole\"\n",
    "  }\n",
    "  ]\n",
    "}\n",
    "\n",
    "ssm_role = iam.create_role(\n",
    "    RoleName=policy_name,\n",
    "    AssumeRolePolicyDocument=json.dumps(policy_document)\n",
    ")"
   ]
  },
  {
   "cell_type": "code",
   "execution_count": 3,
   "metadata": {},
   "outputs": [],
   "source": [
    "ssm_role_arn = ssm_role['Role']['Arn']"
   ]
  },
  {
   "cell_type": "code",
   "execution_count": 4,
   "metadata": {},
   "outputs": [
    {
     "data": {
      "text/plain": [
       "{'ResponseMetadata': {'RequestId': 'bc19038e-6d6e-4fa4-8b93-856b5183d93b',\n",
       "  'HTTPStatusCode': 200,\n",
       "  'HTTPHeaders': {'x-amzn-requestid': 'bc19038e-6d6e-4fa4-8b93-856b5183d93b',\n",
       "   'content-type': 'text/xml',\n",
       "   'content-length': '212',\n",
       "   'date': 'Tue, 04 Oct 2022 13:48:12 GMT'},\n",
       "  'RetryAttempts': 0}}"
      ]
     },
     "execution_count": 4,
     "metadata": {},
     "output_type": "execute_result"
    }
   ],
   "source": [
    "# Attach the policy to the role\n",
    "iam.attach_role_policy(\n",
    "    RoleName=policy_name,\n",
    "    PolicyArn='arn:aws:iam::aws:policy/AmazonSSMManagedInstanceCore'\n",
    ")"
   ]
  },
  {
   "cell_type": "code",
   "execution_count": 5,
   "metadata": {},
   "outputs": [],
   "source": [
    "# Create an instance profile\n",
    "instance_profile = iam.create_instance_profile(\n",
    "    InstanceProfileName='Cookbook-106-SSM-Role'\n",
    ")"
   ]
  },
  {
   "cell_type": "code",
   "execution_count": 6,
   "metadata": {},
   "outputs": [
    {
     "data": {
      "text/plain": [
       "{'ResponseMetadata': {'RequestId': 'bf88e940-e56a-4960-8dea-73652e0d0903',\n",
       "  'HTTPStatusCode': 200,\n",
       "  'HTTPHeaders': {'x-amzn-requestid': 'bf88e940-e56a-4960-8dea-73652e0d0903',\n",
       "   'content-type': 'text/xml',\n",
       "   'content-length': '228',\n",
       "   'date': 'Tue, 04 Oct 2022 13:48:21 GMT'},\n",
       "  'RetryAttempts': 0}}"
      ]
     },
     "execution_count": 6,
     "metadata": {},
     "output_type": "execute_result"
    }
   ],
   "source": [
    "# Add the role that you created to the instance profile:\n",
    "iam.add_role_to_instance_profile(\n",
    "    InstanceProfileName='Cookbook-106-SSM-Role',\n",
    "    RoleName=policy_name\n",
    ")"
   ]
  },
  {
   "cell_type": "markdown",
   "metadata": {},
   "source": [
    "El perfil de instancia de EC2 contiene un rol que usted crea. La asociación del perfil de instancia con una instancia le permite definir \"quién soy\", y el rol define \"lo que se me permite hacer\". Ambos son requeridos por IAM para permitir que una instancia EC2 se comunique con otros servicios de AWS utilizando el servicio IAM. Puede obtener una lista de perfiles de instancia en su cuenta ejecutando el comando `list-instance-profiles`."
   ]
  },
  {
   "cell_type": "code",
   "execution_count": 7,
   "metadata": {},
   "outputs": [
    {
     "data": {
      "text/plain": [
       "{'InstanceProfiles': [{'Path': '/',\n",
       "   'InstanceProfileName': 'Cookbook-106-SSM-Role',\n",
       "   'InstanceProfileId': 'AIPAYLG46Z2RRHT5O5QDC',\n",
       "   'Arn': 'arn:aws:iam::573841526435:instance-profile/Cookbook-106-SSM-Role',\n",
       "   'CreateDate': datetime.datetime(2022, 10, 4, 13, 48, 14, tzinfo=tzutc()),\n",
       "   'Roles': [{'Path': '/',\n",
       "     'RoleName': 'Cookbook-106-SSM-Role',\n",
       "     'RoleId': 'AROAYLG46Z2RQDCI446LI',\n",
       "     'Arn': 'arn:aws:iam::573841526435:role/Cookbook-106-SSM-Role',\n",
       "     'CreateDate': datetime.datetime(2022, 10, 4, 13, 48, 8, tzinfo=tzutc()),\n",
       "     'AssumeRolePolicyDocument': {'Version': '2012-10-17',\n",
       "      'Statement': [{'Effect': 'Allow',\n",
       "        'Principal': {'Service': 'ec2.amazonaws.com'},\n",
       "        'Action': 'sts:AssumeRole'}]}}]}],\n",
       " 'IsTruncated': False,\n",
       " 'ResponseMetadata': {'RequestId': '88954326-2e4a-465c-b3fc-dd11088cad87',\n",
       "  'HTTPStatusCode': 200,\n",
       "  'HTTPHeaders': {'x-amzn-requestid': '88954326-2e4a-465c-b3fc-dd11088cad87',\n",
       "   'content-type': 'text/xml',\n",
       "   'content-length': '1309',\n",
       "   'date': 'Tue, 04 Oct 2022 13:48:25 GMT'},\n",
       "  'RetryAttempts': 0}}"
      ]
     },
     "execution_count": 7,
     "metadata": {},
     "output_type": "execute_result"
    }
   ],
   "source": [
    "# List instance profiles\n",
    "iam.list_instance_profiles()"
   ]
  },
  {
   "cell_type": "markdown",
   "metadata": {},
   "source": [
    "Consulte en SSM el último ID de AMI de Amazon Linux 2 disponible en su región y guárdelo como variable de entorno:"
   ]
  },
  {
   "cell_type": "code",
   "execution_count": 8,
   "metadata": {},
   "outputs": [],
   "source": [
    "ssm = boto3.client('ssm')\n",
    "\n",
    "ssm_response = ssm.get_parameter(\n",
    "    Name='/aws/service/ami-amazon-linux-latest/amzn2-ami-hvm-x86_64-gp2'\n",
    ")"
   ]
  },
  {
   "cell_type": "code",
   "execution_count": 9,
   "metadata": {},
   "outputs": [],
   "source": [
    "# Create a key pair\n",
    "keypair = ec2.create_key_pair(KeyName='AWSCookbook-KeyPair-SSM')"
   ]
  },
  {
   "cell_type": "code",
   "execution_count": 10,
   "metadata": {},
   "outputs": [],
   "source": [
    "# Launch an instance in one of your subnets that references the instance profile you created and also uses a Name tag that helps you identify the instance in the console:\n",
    "instance = ec2.create_instances(\n",
    "    ImageId=ssm_response['Parameter']['Value'],\n",
    "    MinCount=1,\n",
    "    MaxCount=1,\n",
    "    InstanceType='t2.micro',\n",
    "    KeyName='AWSCookbook-KeyPair-SSM',\n",
    "    IamInstanceProfile={\n",
    "        'Name': 'Cookbook-106-SSM-Role'\n",
    "    },\n",
    "    TagSpecifications=[\n",
    "        {\n",
    "            'ResourceType': 'instance',\n",
    "            'Tags': [\n",
    "                {\n",
    "                    'Key': 'Name',\n",
    "                    'Value': 'Cookbook-106-SSM-Role'\n",
    "                },\n",
    "            ]\n",
    "        },\n",
    "    ]\n",
    ")"
   ]
  },
  {
   "cell_type": "markdown",
   "metadata": {},
   "source": [
    "Asegúrese de que su instancia EC2 se ha registrado en SSM. Utilice el siguiente comando para comprobar el estado. Este comando debería devolver el ID de la instancia:"
   ]
  },
  {
   "cell_type": "code",
   "execution_count": 14,
   "metadata": {},
   "outputs": [
    {
     "data": {
      "text/plain": [
       "'i-01c3a553ddccacb10'"
      ]
     },
     "execution_count": 14,
     "metadata": {},
     "output_type": "execute_result"
    }
   ],
   "source": [
    "instance_id = ssm.describe_instance_information()['InstanceInformationList'][0]['InstanceId']\n",
    "instance_id"
   ]
  },
  {
   "cell_type": "code",
   "execution_count": 15,
   "metadata": {},
   "outputs": [
    {
     "name": "stdout",
     "output_type": "stream",
     "text": [
      "En la terminal ejecute el siguiente comando:\n",
      "   aws ssm start-session --target i-01c3a553ddccacb10\n"
     ]
    }
   ],
   "source": [
    "print(\"En la terminal ejecute el siguiente comando:\")\n",
    "print(\"   aws ssm start-session --target \" + instance_id)"
   ]
  },
  {
   "cell_type": "markdown",
   "metadata": {},
   "source": [
    "Haz ping a un host en Internet para probar la conectividad a Internet:"
   ]
  },
  {
   "cell_type": "code",
   "execution_count": null,
   "metadata": {
    "vscode": {
     "languageId": "shellscript"
    }
   },
   "outputs": [],
   "source": [
    "ping -c 4 homestarrunner.com"
   ]
  }
 ],
 "metadata": {
  "kernelspec": {
   "display_name": "Python 3.9.12 ('base')",
   "language": "python",
   "name": "python3"
  },
  "language_info": {
   "codemirror_mode": {
    "name": "ipython",
    "version": 3
   },
   "file_extension": ".py",
   "mimetype": "text/x-python",
   "name": "python",
   "nbconvert_exporter": "python",
   "pygments_lexer": "ipython3",
   "version": "3.9.12"
  },
  "orig_nbformat": 4,
  "vscode": {
   "interpreter": {
    "hash": "c9cdd2fa3b32da9704bd8048bdba085d67219855a318f4adc7f095bb5cfa603b"
   }
  }
 },
 "nbformat": 4,
 "nbformat_minor": 2
}
