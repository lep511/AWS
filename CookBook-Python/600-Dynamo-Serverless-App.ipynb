{
 "cells": [
  {
   "cell_type": "markdown",
   "metadata": {},
   "source": [
    "# Serverless Web Apps using Amazon DynamoDB\n",
    "\n",
    "### AMAZON DYNAMODB\n",
    "Amazon DynamoDB es un servicio de base de datos NoSQL ágil y flexible para todas las aplicaciones que necesiten una latencia constante en mili segundos de un solo dígito a cualquier escala. Se trata de una base de datos completamente administrada en la nube, compatible con modelos de almacén de valor de clave y de documentos. Su modelo de datos flexible y su desempeño de confianza lo convierten en un complemento perfecto para aplicaciones móviles, web, de juegos, de tecnología publicitaria y de IoT, entre otras.\n",
    "\n",
    "Puede utilizar Amazon DynamoDB para crear una tabla de base de datos capaz de almacenar y recuperar cualquier cantidad de datos, así como de satisfacer cualquier nivel de tráfico de solicitudes. Amazon DynamoDB distribuye automáticamente los datos y el tráfico de la tabla en una cantidad suficiente de servidores como para manejar la capacidad de solicitudes especificada por el cliente y la cantidad de datos almacenados, al mismo tiempo que mantiene un rendimiento uniforme y rápido.\n",
    "\n",
    "#### TERMINOLOGÍA DE DYNAMODB\n",
    "* **Tables (Tablas)** Al igual que otros sistemas de administración de bases de datos, DynamoDB almacena los datos en tablas. Una tabla es un conjunto de datos. Por ejemplo, en este laboratorio, creará una tabla denominada SuperMission, donde almacenará la información de las misiones. También puede tener una tabla llamada People (Personas) para almacenar datos sobre amigos, familiares o cualquier otra persona de su interés, o una tabla llamada Cars (Automóviles) para almacenar información sobre los vehículos que conducen las personas.\n",
    "\n",
    "* **Items (Elementos)** Cada tabla contiene varios elementos. Un elemento es un grupo de atributos que se identifica de forma única entre todos los demás elementos. En una tabla People (Personas), cada elemento representa una persona. En una tabla Cars (Automóviles), cada elemento representa un automóvil. Los elementos son similares en muchos aspectos a las filas, los registros o las listas ordenadas de otros sistemas de bases de datos relacionales. En DynamoDB, no existe ningún límite con respecto al número de elementos que puede almacenarse en una tabla.\n",
    "\n",
    "* **Attributes (Atributos)** Cada elemento se compone de uno o más atributos. Un atributo es un componente fundamental de los datos que no es necesario seguir dividiendo. En este laboratorio, creará un elemento Mission (Misión) con atributos como SuperHero (Superhéroe), MissionStatus (Estado de la misión), Villain1 (Villano 1), Villain2 (Villano 2), Villain3 (Villano 3) y SecretIdentity (Identidad secreta). Otro ejemplo sería un elemento Department (Departamento) que podría tener atributos, como DepartmentID (ID de departamento), Name (Nombre), Manager (Gerente), etc. Un elemento de una tabla People (Personas) podría contener atributos como PersonID (ID de la persona), LastName (Apellido), FirstName (Nombre), etc. Los atributos de DynamoDB se parecen en muchos aspectos a los campos o las columnas en otros sistemas de administración de bases de datos.\n",
    "\n",
    "* **Primary Key (Clave principal)** Cuando crea una tabla, además del nombre de la tabla, debe especificar una clave principal para esta. Como en otras bases de datos, una clave principal en DynamoDB identifica de forma única a cada elemento de la tabla, de modo que no hay dos elementos que tengan la misma clave. Cuando agregue, actualice o elimine un elemento de la tabla, debe especificar los valores de los atributos de la clave principal de ese elemento. Los valores de clave son obligatorios; no puede omitirlos. DynamoDB admite dos tipos diferentes de claves principales: Partition Key (Clave de partición) y Partition Key and Sort Key (Clave de partición y clave de ordenación).\n",
    "\n",
    "* **Secondary Indexes (Índices secundarios)** En DynamoDB, puede leer datos en una tabla proporcionando los valores de los atributos de la clave principal. Si desea leer los datos utilizando atributos no clave, puede utilizar un índice secundario para hacerlo. Después de crear un índice secundario en una tabla, puede leer datos del índice de la misma manera que lo hace desde la tabla. Al usar índices secundarios, sus aplicaciones pueden usar muchos patrones de consulta diferentes, además de acceder a los datos mediante valores de clave principal.\n",
    "\n",
    "### DOCUMENTACIÓN DE AWS IDENTITY AND ACCESS MANAGEMENT\n",
    "AWS Identity and Access Management (IAM) es un servicio web que permite a los clientes de Amazon Web Services (AWS) administrar los usuarios y los permisos de estos en AWS. El servicio está dirigido a organizaciones con varios usuarios o sistemas en la nube que utilizan productos de AWS como Amazon DynamoDB, AWS Lambda y AWS Management Console. Con IAM, puede administrar de forma centralizada a los usuarios, las credenciales de seguridad, como las claves de acceso, y los permisos que controlan a qué recursos de AWS pueden acceder los usuarios. Para obtener más información, consulte https://aws.amazon.com/iam/.\n",
    "\n",
    "### AWS LAMBDA\n",
    "AWS Lambda es un servicio de cómputo que brinda capacidad de cómputo de tamaño modificable en la nube con el fin de facilitar la informática a escala web para los desarrolladores. Cargue su código en AWS Lambda y este servicio se encargará de aprovisionar y administrar los servidores que utiliza para ejecutar el código. AWS Lambda admite varios lenguajes de codificación: Node.js, Java o Python. Puede utilizar AWS Lambda de dos formas:\n",
    "\n",
    "* Como servicio de cómputo basado en eventos, AWS Lambda ejecuta el código en respuesta a eventos, como la carga de archivos de imagen, como verá en este laboratorio.\n",
    "* Como servicio de cómputo para ejecutar el código en respuesta a solicitudes HTTP mediante Amazon API Gateway o llamadas a la API\n",
    "\n",
    "AWS Lambda le transfiere los beneficios financieros de la escala de Amazon. Lambda solo ejecuta su código cuando es necesario y escala de forma automática, desde unas pocas solicitudes por día hasta miles por segundo. También facilita la creación de desencadenadores de procesamiento de datos para servicios de AWS como Amazon S3 y Amazon DynamoDB, el procesamiento de streaming de datos almacenados en Amazon Kinesis o la creación de su propio backend que opere según la escala, el rendimiento y la seguridad de AWS."
   ]
  },
  {
   "cell_type": "markdown",
   "metadata": {},
   "source": [
    "## Crear la tabla de DynamoDB"
   ]
  },
  {
   "cell_type": "code",
   "execution_count": 65,
   "metadata": {},
   "outputs": [],
   "source": [
    "import boto3\n",
    "import json\n",
    "from zipfile import ZipFile\n",
    "from pprint import pprint\n",
    "\n",
    "dynamo = boto3.client('dynamodb')\n",
    "lambda_client = boto3.client('lambda')\n",
    "iam = boto3.client('iam')\n",
    "\n",
    "table_name = 'SuperMissionTable'"
   ]
  },
  {
   "cell_type": "code",
   "execution_count": 9,
   "metadata": {},
   "outputs": [],
   "source": [
    "# Create dynamodb table\n",
    "response = dynamo.create_table(\n",
    "    TableName=table_name,\n",
    "    AttributeDefinitions=[\n",
    "        {\n",
    "            'AttributeName': 'SuperHero',\n",
    "            'AttributeType': 'S'\n",
    "        },\n",
    "    ],\n",
    "    KeySchema=[\n",
    "        {\n",
    "            'AttributeName': 'SuperHero',\n",
    "            'KeyType': 'HASH'\n",
    "        },\n",
    "    ],\n",
    "    ProvisionedThroughput={\n",
    "        'ReadCapacityUnits': 5,\n",
    "        'WriteCapacityUnits': 5\n",
    "    }\n",
    ")\n",
    "\n",
    "# Wait until the table exists.\n",
    "dynamo.get_waiter('table_exists').wait(TableName=table_name)"
   ]
  },
  {
   "cell_type": "code",
   "execution_count": 63,
   "metadata": {},
   "outputs": [
    {
     "data": {
      "text/plain": [
       "{'ResponseMetadata': {'RequestId': '4GNVAM4FJ898RJFE2JAORLDBHVVV4KQNSO5AEMVJF66Q9ASUAAJG',\n",
       "  'HTTPStatusCode': 200,\n",
       "  'HTTPHeaders': {'server': 'Server',\n",
       "   'date': 'Sun, 16 Oct 2022 22:39:17 GMT',\n",
       "   'content-type': 'application/x-amz-json-1.0',\n",
       "   'content-length': '2',\n",
       "   'connection': 'keep-alive',\n",
       "   'x-amzn-requestid': '4GNVAM4FJ898RJFE2JAORLDBHVVV4KQNSO5AEMVJF66Q9ASUAAJG',\n",
       "   'x-amz-crc32': '2745614147'},\n",
       "  'RetryAttempts': 0}}"
      ]
     },
     "execution_count": 63,
     "metadata": {},
     "output_type": "execute_result"
    }
   ],
   "source": [
    "# Put elements to table\n",
    "dynamo.put_item(\n",
    "    TableName=table_name,\n",
    "    Item={\n",
    "        'SuperHero': {'S': 'Superman'},\n",
    "        'SuperMission': {'S': 'Save the world'},\n",
    "        'SuperPower': {'S': 'Super strength'},\n",
    "        'SuperWeapon': {'S': 'Laser eyes'},\n",
    "        'SuperWeakness': {'S': 'Kryptonite'},\n",
    "        'Villain1': {'S': 'Lex Luthor'},\n",
    "        'Villain2': {'S': 'Brainiac'},\n",
    "        'Villain3': {'S': 'Darkseid'},\n",
    "        'Villain4': {'S': 'Bizarro'},\n",
    "    }\n",
    ")\n",
    "dynamo.put_item(\n",
    "    TableName=table_name,\n",
    "    Item={\n",
    "        'SuperHero': {'S': 'Batman'},\n",
    "        'SuperMission': {'S': 'Save Gotham City'},\n",
    "        'SuperPower': {'S': 'Super intelligence'},\n",
    "        'SuperWeapon': {'S': 'Utility belt'},\n",
    "        'Villain1': {'S': 'Joker'},\n",
    "        'Villain2': {'S': 'Two-Face'},\n",
    "        'Villain3': {'S': 'Penguin'},\n",
    "\n",
    "    }\n",
    ")\n",
    "dynamo.put_item(\n",
    "    TableName=table_name,\n",
    "    Item={\n",
    "        'SuperHero': {'S': 'Spiderman'},\n",
    "        'SuperMission': {'S': 'Catch the bad guys'},\n",
    "        'SuperPower': {'S': 'Super agility'},\n",
    "        'SuperWeapon': {'S': 'Spider web'},\n",
    "        'Villain1': {'S': 'Green Goblin'},\n",
    "        'Villain2': {'S': 'Venom'},\n",
    "    }\n",
    ")\n",
    "dynamo.put_item(\n",
    "    TableName=table_name,\n",
    "    Item={\n",
    "        'SuperHero': {'S': 'Ironman'},\n",
    "        'SuperMission': {'S': 'Save the world'},\n",
    "        'SuperPower': {'S': 'Super intelligence'},\n",
    "        'SuperWeapon': {'S': 'Mark 50'},\n",
    "        'Villain1': {'S': 'Mandarin'},\n",
    "        'Villain2': {'S': 'Whiplash'},\n",
    "        'Villain3': {'S': 'Ultron'},\n",
    "    }\n",
    ")\n",
    "dynamo.put_item(\n",
    "    TableName=table_name,\n",
    "    Item={\n",
    "        'SuperHero': {'S': 'Captain America'},\n",
    "        'SuperMission': {'S': 'Save the world'},\n",
    "        'SuperPower': {'S': 'Super strength'},\n",
    "        'SuperWeapon': {'S': 'Shield'},\n",
    "        'Villain1': {'S': 'Red Skull'},\n",
    "        'Villain2': {'S': 'Hydra'},\n",
    "    }\n",
    ")"
   ]
  },
  {
   "cell_type": "markdown",
   "metadata": {},
   "source": [
    "## Revisar las políticas y los roles de IAM"
   ]
  },
  {
   "cell_type": "code",
   "execution_count": 14,
   "metadata": {},
   "outputs": [],
   "source": [
    "policy_table = {\n",
    "    \"Version\": \"2012-10-17\",\n",
    "    \"Statement\": [\n",
    "        {\n",
    "            \"Action\": [\n",
    "                \"dynamodb:Scan\",\n",
    "                \"s3:GetObject\",\n",
    "                \"s3:PutObject\",\n",
    "                \"dynamodb:BatchWriteItem\"\n",
    "            ],\n",
    "            \"Resource\": [\n",
    "                \"*\"\n",
    "            ],\n",
    "            \"Effect\": \"Allow\"\n",
    "        }\n",
    "    ]\n",
    "}"
   ]
  },
  {
   "cell_type": "markdown",
   "metadata": {},
   "source": [
    "Esta es una política sencilla que concede acceso a las API de análisis, de BatchWriteItem en DynamoDB y las API de GetObject y de PutObject en S3 de su cuenta."
   ]
  },
  {
   "cell_type": "code",
   "execution_count": 26,
   "metadata": {},
   "outputs": [],
   "source": [
    "# Create a policy\n",
    "policy_scan_name = 'Super-DynamoDBScanPolicy'\n",
    "response = iam.create_policy(\n",
    "    PolicyName= policy_scan_name,\n",
    "    PolicyDocument=json.dumps(policy_table)\n",
    ")"
   ]
  },
  {
   "cell_type": "code",
   "execution_count": 27,
   "metadata": {},
   "outputs": [],
   "source": [
    "# Get the ARN from the policy\n",
    "policy_scan_arn = response['Policy']['Arn']"
   ]
  },
  {
   "cell_type": "code",
   "execution_count": 20,
   "metadata": {},
   "outputs": [],
   "source": [
    "policy_query = {\n",
    "    \"Version\": \"2012-10-17\",\n",
    "    \"Statement\": [\n",
    "        {\n",
    "            \"Condition\": {\n",
    "                \"ForAllValues:StringEquals\": {\n",
    "                    \"dynamodb:Attributes\": [\n",
    "                        \"SuperHero\",\n",
    "                        \"MissionStatus\",\n",
    "                        \"Villain1\",\n",
    "                        \"Villain2\",\n",
    "                        \"Villain3\"\n",
    "                    ]\n",
    "                }\n",
    "            },\n",
    "            \"Action\": [\n",
    "                \"dynamodb:Query\"\n",
    "            ],\n",
    "            \"Resource\": \"*\",\n",
    "            \"Effect\": \"Allow\"\n",
    "        }\n",
    "    ]\n",
    "}"
   ]
  },
  {
   "cell_type": "markdown",
   "metadata": {},
   "source": [
    "Esta política permite al usuario o entidad que asume el rol realizar una operación de consulta, pero solo con los atributos especificados. Esta función útil le permite implementar seguridad a nivel de las columnas en sus tablas de DynamoDB. Utilizará este rol en el siguiente laboratorio para habilitar una función de AWS Lambda para leer datos de esta tabla."
   ]
  },
  {
   "cell_type": "code",
   "execution_count": 23,
   "metadata": {},
   "outputs": [],
   "source": [
    "# Create a policy\n",
    "policy_query_name = 'SuperDynamoDBQueryPolicy'\n",
    "response = iam.create_policy(\n",
    "    PolicyName= policy_query_name,\n",
    "    PolicyDocument=json.dumps(policy_query)\n",
    ")"
   ]
  },
  {
   "cell_type": "code",
   "execution_count": 25,
   "metadata": {},
   "outputs": [],
   "source": [
    "# Get the ARN from the policy\n",
    "policy_query_arn = response['Policy']['Arn']"
   ]
  },
  {
   "cell_type": "code",
   "execution_count": 32,
   "metadata": {},
   "outputs": [
    {
     "data": {
      "text/plain": [
       "{'Role': {'Path': '/',\n",
       "  'RoleName': 'SuperDynamoDBRole',\n",
       "  'RoleId': 'AROAWEYWGFCJOIU2ZHBOC',\n",
       "  'Arn': 'arn:aws:iam::422563948690:role/SuperDynamoDBRole',\n",
       "  'CreateDate': datetime.datetime(2022, 10, 16, 21, 36, 38, tzinfo=tzutc()),\n",
       "  'AssumeRolePolicyDocument': {'Version': '2012-10-17',\n",
       "   'Statement': [{'Action': 'sts:AssumeRole',\n",
       "     'Principal': {'Service': 'lambda.amazonaws.com'},\n",
       "     'Effect': 'Allow'}]}},\n",
       " 'ResponseMetadata': {'RequestId': 'e71827fd-6f9c-4ac3-80bf-1ab5a6bffc1c',\n",
       "  'HTTPStatusCode': 200,\n",
       "  'HTTPHeaders': {'x-amzn-requestid': 'e71827fd-6f9c-4ac3-80bf-1ab5a6bffc1c',\n",
       "   'content-type': 'text/xml',\n",
       "   'content-length': '788',\n",
       "   'date': 'Sun, 16 Oct 2022 21:36:37 GMT'},\n",
       "  'RetryAttempts': 0}}"
      ]
     },
     "execution_count": 32,
     "metadata": {},
     "output_type": "execute_result"
    }
   ],
   "source": [
    "# Create SuperDynamoDBRole role\n",
    "role_name = 'SuperDynamoDBRole'\n",
    "assume_role_policy_document = {\n",
    "    \"Version\": \"2012-10-17\",\n",
    "    \"Statement\": [\n",
    "        {\n",
    "            \"Action\": \"sts:AssumeRole\",\n",
    "            \"Principal\": {\n",
    "                \"Service\": \"lambda.amazonaws.com\"\n",
    "            },\n",
    "            \"Effect\": \"Allow\"\n",
    "        }\n",
    "    ]\n",
    "}\n",
    "response = iam.create_role(\n",
    "    RoleName=role_name,\n",
    "    AssumeRolePolicyDocument=json.dumps(assume_role_policy_document)\n",
    ")"
   ]
  },
  {
   "cell_type": "code",
   "execution_count": 38,
   "metadata": {},
   "outputs": [],
   "source": [
    "role_super_dynamo_arn = response['Role']['Arn']"
   ]
  },
  {
   "cell_type": "code",
   "execution_count": null,
   "metadata": {},
   "outputs": [],
   "source": [
    "# Create SuperDynamoDBRole role\n",
    "role_name = 'SuperDynamoDBRole'\n",
    "assume_role_policy_document = {\n",
    "    \"Version\": \"2012-10-17\",\n",
    "    \"Statement\": [\n",
    "        {\n",
    "            \"Action\": \"sts:AssumeRole\",\n",
    "            \"Principal\": {\n",
    "                \"Service\": \"lambda.amazonaws.com\"\n",
    "            },\n",
    "            \"Effect\": \"Allow\"\n",
    "        }\n",
    "    ]\n",
    "}\n",
    "response = iam.create_role(\n",
    "    RoleName=role_name,\n",
    "    AssumeRolePolicyDocument=json.dumps(assume_role_policy_document)\n",
    ")"
   ]
  },
  {
   "cell_type": "code",
   "execution_count": 40,
   "metadata": {},
   "outputs": [],
   "source": [
    "# Create SuperDynamoDbQueryRole role\n",
    "role_name_query = 'SuperDynamoDbQueryRole'\n",
    "response = iam.create_role(\n",
    "    RoleName=role_name_query,\n",
    "    AssumeRolePolicyDocument=json.dumps(assume_role_policy_document)\n",
    ")"
   ]
  },
  {
   "cell_type": "code",
   "execution_count": 41,
   "metadata": {},
   "outputs": [],
   "source": [
    "role_super_dynamo_query_arn = response['Role']['Arn']"
   ]
  },
  {
   "cell_type": "code",
   "execution_count": 42,
   "metadata": {},
   "outputs": [],
   "source": [
    "# Attach policy to role\n",
    "response = iam.attach_role_policy(\n",
    "    RoleName=role_name,\n",
    "    PolicyArn=policy_scan_arn\n",
    ")\n",
    "\n",
    "response = iam.attach_role_policy(\n",
    "    RoleName=role_name_query,\n",
    "    PolicyArn=policy_query_arn\n",
    ")"
   ]
  },
  {
   "cell_type": "markdown",
   "metadata": {},
   "source": [
    "## Crear las funciones Lambda"
   ]
  },
  {
   "cell_type": "markdown",
   "metadata": {},
   "source": [
    "### Primera Función"
   ]
  },
  {
   "cell_type": "code",
   "execution_count": 50,
   "metadata": {},
   "outputs": [],
   "source": [
    "lambda_name = \"SuperDynamoDBFunction\"\n",
    "lambda_py = lambda_name + \".py\"\n",
    "file_lambda = \"lambda.zip\""
   ]
  },
  {
   "cell_type": "code",
   "execution_count": 48,
   "metadata": {},
   "outputs": [
    {
     "name": "stdout",
     "output_type": "stream",
     "text": [
      "Writing SuperDynamoDBFunction.py\n"
     ]
    }
   ],
   "source": [
    "%%writefile SuperDynamoDBFunction.py\n",
    "import boto3\n",
    "import json\n",
    "\n",
    "dynamodb = boto3.resource('dynamodb')\n",
    "table = dynamodb.Table('SuperMissionTable')\n",
    "\n",
    "def lambda_handler(event, context):\n",
    "    response = table.scan()\n",
    "    return response['Items']"
   ]
  },
  {
   "cell_type": "code",
   "execution_count": 52,
   "metadata": {},
   "outputs": [],
   "source": [
    "with ZipFile(file_lambda, 'w') as myzip:\n",
    "    myzip.write(lambda_py)\n",
    "\n",
    "with open(file_lambda, 'rb') as f:\n",
    "    zipped_code = f.read()"
   ]
  },
  {
   "cell_type": "code",
   "execution_count": 54,
   "metadata": {},
   "outputs": [],
   "source": [
    "# Create a lambda function\n",
    "response = lambda_client.create_function(\n",
    "    FunctionName = lambda_name,\n",
    "    Runtime = 'python3.9',\n",
    "    Role = role_super_dynamo_arn,\n",
    "    Handler = lambda_name + '.lambda_handler',\n",
    "    Code = {'ZipFile': zipped_code},\n",
    "    Timeout = 90,\n",
    "    Environment = {\n",
    "        'Variables': {\n",
    "            'Name': lambda_name,\n",
    "            'Environment': 'prod'}\n",
    "    },\n",
    "    Publish=True\n",
    ")"
   ]
  },
  {
   "cell_type": "code",
   "execution_count": 87,
   "metadata": {},
   "outputs": [
    {
     "name": "stdout",
     "output_type": "stream",
     "text": [
      "[{'SuperHero': 'Captain America',\n",
      "  'SuperMission': 'Save the world',\n",
      "  'SuperPower': 'Super strength',\n",
      "  'SuperWeapon': 'Shield',\n",
      "  'Villain1': 'Red Skull',\n",
      "  'Villain2': 'Hydra'},\n",
      " {'SuperHero': 'Batman',\n",
      "  'SuperMission': 'Save Gotham City',\n",
      "  'SuperPower': 'Super intelligence',\n",
      "  'SuperWeapon': 'Utility belt',\n",
      "  'Villain1': 'Joker',\n",
      "  'Villain2': 'Two-Face',\n",
      "  'Villain3': 'Penguin'},\n",
      " {'SuperHero': 'Spiderman',\n",
      "  'SuperMission': 'Catch the bad guys',\n",
      "  'SuperPower': 'Super agility',\n",
      "  'SuperWeapon': 'Spider web',\n",
      "  'Villain1': 'Green Goblin',\n",
      "  'Villain2': 'Venom'},\n",
      " {'SuperHero': 'Ironman',\n",
      "  'SuperMission': 'Save the world',\n",
      "  'SuperPower': 'Super intelligence',\n",
      "  'SuperWeapon': 'Mark 50',\n",
      "  'Villain1': 'Mandarin',\n",
      "  'Villain2': 'Whiplash',\n",
      "  'Villain3': 'Ultron'},\n",
      " {'SuperHero': 'Superman',\n",
      "  'SuperMission': 'Save the world',\n",
      "  'SuperPower': 'Super strength',\n",
      "  'SuperWeakness': 'Kryptonite',\n",
      "  'SuperWeapon': 'Laser eyes',\n",
      "  'Villain1': 'Lex Luthor',\n",
      "  'Villain2': 'Brainiac',\n",
      "  'Villain3': 'Darkseid',\n",
      "  'Villain4': 'Bizarro'}]\n"
     ]
    }
   ],
   "source": [
    "# Test the lambda function\n",
    "response = lambda_client.invoke(\n",
    "    FunctionName='SuperDynamoDBFunction',\n",
    "    InvocationType='RequestResponse',\n",
    "    Payload=json.dumps({\"superhero\": \"Superman\"})\n",
    ")\n",
    "\n",
    "json_data = json.loads(response['Payload'].read())\n",
    "pprint(json_data)"
   ]
  },
  {
   "cell_type": "markdown",
   "metadata": {},
   "source": [
    "### Segunda Función"
   ]
  },
  {
   "cell_type": "code",
   "execution_count": 55,
   "metadata": {},
   "outputs": [],
   "source": [
    "lambda_name = \"MissionDetailsFunction\"\n",
    "lambda_py = lambda_name + \".py\"\n",
    "file_lambda = \"lambda.zip\"\n"
   ]
  },
  {
   "cell_type": "code",
   "execution_count": 60,
   "metadata": {},
   "outputs": [
    {
     "name": "stdout",
     "output_type": "stream",
     "text": [
      "Overwriting MissionDetailsFunction.py\n"
     ]
    }
   ],
   "source": [
    "%%writefile MissionDetailsFunction.py\n",
    "import boto3\n",
    "from boto3.dynamodb.conditions import Key, Attr\n",
    "import json\n",
    "\n",
    "def lambda_handler(event, context):\n",
    "    dynamodb = boto3.resource('dynamodb')\n",
    "    table = dynamodb.Table('SuperMissionTable')\n",
    "\n",
    "    condition = {}\n",
    "    condition[\"SuperHero\"] = event[\"superhero\"]\n",
    "\n",
    "    response = table.query(KeyConditionExpression=Key(\"SuperHero\").eq(condition[\"SuperHero\"]))\n",
    "    return response\n"
   ]
  },
  {
   "cell_type": "code",
   "execution_count": 61,
   "metadata": {},
   "outputs": [],
   "source": [
    "with ZipFile(file_lambda, 'w') as myzip:\n",
    "    myzip.write(lambda_py)\n",
    "\n",
    "with open(file_lambda, 'rb') as f:\n",
    "    zipped_code = f.read()"
   ]
  },
  {
   "cell_type": "code",
   "execution_count": 62,
   "metadata": {},
   "outputs": [],
   "source": [
    "# Create a lambda function\n",
    "response = lambda_client.create_function(\n",
    "    FunctionName = lambda_name,\n",
    "    Runtime = 'python3.9',\n",
    "    Role = role_super_dynamo_query_arn,\n",
    "    Handler = lambda_name + '.lambda_handler',\n",
    "    Code = {'ZipFile': zipped_code},\n",
    "    Timeout = 90,\n",
    "    Environment = {\n",
    "        'Variables': {\n",
    "            'Name': lambda_name,\n",
    "            'Environment': 'prod'}\n",
    "    },\n",
    "    Publish=True\n",
    ")"
   ]
  },
  {
   "cell_type": "code",
   "execution_count": 88,
   "metadata": {},
   "outputs": [
    {
     "name": "stdout",
     "output_type": "stream",
     "text": [
      "{'Count': 1,\n",
      " 'Items': [{'SuperHero': 'Superman',\n",
      "            'SuperMission': 'Save the world',\n",
      "            'SuperPower': 'Super strength',\n",
      "            'SuperWeakness': 'Kryptonite',\n",
      "            'SuperWeapon': 'Laser eyes',\n",
      "            'Villain1': 'Lex Luthor',\n",
      "            'Villain2': 'Brainiac',\n",
      "            'Villain3': 'Darkseid',\n",
      "            'Villain4': 'Bizarro'}],\n",
      " 'ResponseMetadata': {'HTTPHeaders': {'connection': 'keep-alive',\n",
      "                                      'content-length': '324',\n",
      "                                      'content-type': 'application/x-amz-json-1.0',\n",
      "                                      'date': 'Sun, 16 Oct 2022 22:47:10 GMT',\n",
      "                                      'server': 'Server',\n",
      "                                      'x-amz-crc32': '3067554583',\n",
      "                                      'x-amzn-requestid': 'IR9E84AS1791023J51O8K2KUR3VV4KQNSO5AEMVJF66Q9ASUAAJG'},\n",
      "                      'HTTPStatusCode': 200,\n",
      "                      'RequestId': 'IR9E84AS1791023J51O8K2KUR3VV4KQNSO5AEMVJF66Q9ASUAAJG',\n",
      "                      'RetryAttempts': 0},\n",
      " 'ScannedCount': 1}\n"
     ]
    }
   ],
   "source": [
    "# Test the lambda function\n",
    "response = lambda_client.invoke(\n",
    "    FunctionName='MissionDetailsFunction',\n",
    "    InvocationType='RequestResponse',\n",
    "    Payload=json.dumps({\"superhero\": \"Superman\"})\n",
    ")\n",
    "\n",
    "json_data = json.loads(response['Payload'].read())\n",
    "pprint(json_data)"
   ]
  },
  {
   "cell_type": "code",
   "execution_count": 89,
   "metadata": {},
   "outputs": [
    {
     "name": "stdout",
     "output_type": "stream",
     "text": [
      "{'Count': 1,\n",
      " 'Items': [{'SuperHero': 'Ironman',\n",
      "            'SuperMission': 'Save the world',\n",
      "            'SuperPower': 'Super intelligence',\n",
      "            'SuperWeapon': 'Mark 50',\n",
      "            'Villain1': 'Mandarin',\n",
      "            'Villain2': 'Whiplash',\n",
      "            'Villain3': 'Ultron'}],\n",
      " 'ResponseMetadata': {'HTTPHeaders': {'connection': 'keep-alive',\n",
      "                                      'content-length': '258',\n",
      "                                      'content-type': 'application/x-amz-json-1.0',\n",
      "                                      'date': 'Sun, 16 Oct 2022 22:47:25 GMT',\n",
      "                                      'server': 'Server',\n",
      "                                      'x-amz-crc32': '2296869215',\n",
      "                                      'x-amzn-requestid': 'MK380GP305OQ9TMRLDKN2LQCCJVV4KQNSO5AEMVJF66Q9ASUAAJG'},\n",
      "                      'HTTPStatusCode': 200,\n",
      "                      'RequestId': 'MK380GP305OQ9TMRLDKN2LQCCJVV4KQNSO5AEMVJF66Q9ASUAAJG',\n",
      "                      'RetryAttempts': 0},\n",
      " 'ScannedCount': 1}\n"
     ]
    }
   ],
   "source": [
    "response = lambda_client.invoke(\n",
    "    FunctionName='MissionDetailsFunction',\n",
    "    InvocationType='RequestResponse',\n",
    "    Payload=json.dumps({\"superhero\": \"Ironman\"})\n",
    ")\n",
    "\n",
    "json_data = json.loads(response['Payload'].read())\n",
    "pprint(json_data)"
   ]
  }
 ],
 "metadata": {
  "kernelspec": {
   "display_name": "Python 3.9.12 ('base')",
   "language": "python",
   "name": "python3"
  },
  "language_info": {
   "codemirror_mode": {
    "name": "ipython",
    "version": 3
   },
   "file_extension": ".py",
   "mimetype": "text/x-python",
   "name": "python",
   "nbconvert_exporter": "python",
   "pygments_lexer": "ipython3",
   "version": "3.9.12"
  },
  "orig_nbformat": 4,
  "vscode": {
   "interpreter": {
    "hash": "c9cdd2fa3b32da9704bd8048bdba085d67219855a318f4adc7f095bb5cfa603b"
   }
  }
 },
 "nbformat": 4,
 "nbformat_minor": 2
}
