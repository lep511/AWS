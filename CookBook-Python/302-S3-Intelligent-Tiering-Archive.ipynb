{
 "cells": [
  {
   "cell_type": "markdown",
   "metadata": {},
   "source": [
    "### Uso de las políticas de archivo de S3 Intelligent-Tiering para archivar automáticamente los objetos de S3\n",
    "\n",
    "#### Problema\n",
    "Necesita realizar una transición automática de los objetos a los que se accede con poca frecuencia a una clase de almacenamiento de archivo diferente sin que ello afecte al rendimiento o añada una sobrecarga operativa.\n",
    "\n",
    "#### Solución\n",
    "Cree una política para automatizar el archivado de los objetos de S3 en el archivo de S3 Glacier en función de los patrones de acceso a los objetos con más de 90 días de antigüedad, luego aplíquela a su bucket de S3."
   ]
  },
  {
   "cell_type": "code",
   "execution_count": 1,
   "metadata": {},
   "outputs": [],
   "source": [
    "import boto3\n",
    "import json\n",
    "import random\n",
    "from pprint import pprint \n",
    "\n",
    "region_aws = 'us-east-1'\n",
    "\n",
    "ec2 = boto3.resource('ec2', region_name=region_aws)\n",
    "ec2_client = boto3.client('ec2', region_name=region_aws)\n",
    "s3 = boto3.resource('s3')\n",
    "s3_client = boto3.client('s3')"
   ]
  },
  {
   "cell_type": "code",
   "execution_count": 2,
   "metadata": {},
   "outputs": [
    {
     "name": "stdout",
     "output_type": "stream",
     "text": [
      "Bucket name: cookbook-943240\n"
     ]
    }
   ],
   "source": [
    "# Create a bucket\n",
    "bucket_name = 'cookbook-{}'.format(random.randint(10000, 1000000))\n",
    "bucket = s3.create_bucket(Bucket=bucket_name)\n",
    "print(\"Bucket name: {}\".format(bucket_name))"
   ]
  },
  {
   "cell_type": "markdown",
   "metadata": {},
   "source": [
    "Por defecto cuando creamos un bucket, las opciones de **Block all public access** (Bloquear todo el acceso público) están desactivadas por defecto."
   ]
  },
  {
   "cell_type": "code",
   "execution_count": 3,
   "metadata": {},
   "outputs": [],
   "source": [
    "response = s3_client.put_public_access_block(\n",
    "        Bucket=bucket_name,\n",
    "        PublicAccessBlockConfiguration={\n",
    "            'BlockPublicAcls': True,\n",
    "            'IgnorePublicAcls': True,\n",
    "            'BlockPublicPolicy': True,\n",
    "            'RestrictPublicBuckets': True\n",
    "        }\n",
    ")"
   ]
  },
  {
   "cell_type": "code",
   "execution_count": 4,
   "metadata": {},
   "outputs": [],
   "source": [
    "# Create policy\n",
    "policy_bucket = {\n",
    "  \"Id\": \"awscookbook302\",\n",
    "  \"Status\": \"Enabled\",\n",
    "  \"Tierings\": [\n",
    "    {\n",
    "      \"Days\": 90,\n",
    "      \"AccessTier\": \"ARCHIVE_ACCESS\"\n",
    "    }\n",
    "  ]\n",
    "}"
   ]
  },
  {
   "cell_type": "code",
   "execution_count": 5,
   "metadata": {},
   "outputs": [],
   "source": [
    "# Apply the Intelligent-Tiering configuration:\n",
    "response = s3_client.put_bucket_intelligent_tiering_configuration(\n",
    "    Bucket=bucket_name,\n",
    "    Id='awscookbook302',\n",
    "    IntelligentTieringConfiguration=policy_bucket\n",
    ")"
   ]
  },
  {
   "cell_type": "markdown",
   "metadata": {},
   "source": [
    "Asegúrese de que su caso de uso y sus aplicaciones pueden soportar el mayor tiempo de recuperación asociado al nivel de almacenamiento de S3 Glacier. Puede configurar su aplicación para que utilice un mecanismo de recuperación acelerada compatible con el archivo de S3 Glacier para reducir el tiempo de recuperación pero aumentar el coste. Para obtener una lista completa de los tiempos de archivo y cómo configurar el acceso acelerado, consulte el [documento de soporte](https://oreil.ly/tru0v)."
   ]
  },
  {
   "cell_type": "markdown",
   "metadata": {},
   "source": [
    "#### Controles de validación"
   ]
  },
  {
   "cell_type": "code",
   "execution_count": 6,
   "metadata": {},
   "outputs": [],
   "source": [
    "# Get the configuration of Intelligent-Tiering for your bucket:\n",
    "response = s3_client.get_bucket_intelligent_tiering_configuration(\n",
    "    Bucket=bucket_name,\n",
    "    Id='awscookbook302'\n",
    ")"
   ]
  },
  {
   "cell_type": "code",
   "execution_count": 12,
   "metadata": {},
   "outputs": [
    {
     "name": "stdout",
     "output_type": "stream",
     "text": [
      "{'Id': 'awscookbook302',\n",
      " 'Status': 'Enabled',\n",
      " 'Tierings': [{'AccessTier': 'ARCHIVE_ACCESS', 'Days': 90}]}\n"
     ]
    }
   ],
   "source": [
    "pprint(response['IntelligentTieringConfiguration'])"
   ]
  },
  {
   "cell_type": "code",
   "execution_count": 14,
   "metadata": {},
   "outputs": [],
   "source": [
    "# Upload an object to the bucket:\n",
    "s3_client.upload_file('new-report.png', bucket_name, 'new-report.png')"
   ]
  },
  {
   "cell_type": "code",
   "execution_count": 18,
   "metadata": {},
   "outputs": [
    {
     "name": "stdout",
     "output_type": "stream",
     "text": [
      "{'Contents': [{'ETag': '\"75acf5a0dd2f6bdd67c36fa2748a1a19\"',\n",
      "               'Key': 'new-report.png',\n",
      "               'LastModified': datetime.datetime(2022, 10, 16, 14, 15, 47, tzinfo=tzutc()),\n",
      "               'Size': 86065,\n",
      "               'StorageClass': 'STANDARD'}],\n",
      " 'EncodingType': 'url',\n",
      " 'IsTruncated': False,\n",
      " 'KeyCount': 1,\n",
      " 'MaxKeys': 1000,\n",
      " 'Name': 'cookbook-943240',\n",
      " 'Prefix': '',\n",
      " 'ResponseMetadata': {'HTTPHeaders': {'content-type': 'application/xml',\n",
      "                                      'date': 'Sun, 16 Oct 2022 14:18:28 GMT',\n",
      "                                      'server': 'AmazonS3',\n",
      "                                      'transfer-encoding': 'chunked',\n",
      "                                      'x-amz-bucket-region': 'us-east-1',\n",
      "                                      'x-amz-id-2': 'QZT+FuKsWpgH2cF/fgL8X9vyFYfFiNmA8VZ/QVk490t52NKLbOXAQucHPxF9AGLBTZUxijviDT8=',\n",
      "                                      'x-amz-request-id': 'Z4SEKD56G4V04YQ5'},\n",
      "                      'HTTPStatusCode': 200,\n",
      "                      'HostId': 'QZT+FuKsWpgH2cF/fgL8X9vyFYfFiNmA8VZ/QVk490t52NKLbOXAQucHPxF9AGLBTZUxijviDT8=',\n",
      "                      'RequestId': 'Z4SEKD56G4V04YQ5',\n",
      "                      'RetryAttempts': 0}}\n"
     ]
    }
   ],
   "source": [
    "# Check the storage class for the object:\n",
    "response = s3_client.list_objects_v2(\n",
    "    Bucket=bucket_name\n",
    ")\n",
    "\n",
    "pprint(response)"
   ]
  },
  {
   "cell_type": "markdown",
   "metadata": {},
   "source": [
    "### Discusión\n",
    "Un archivo S3 Intelligent-Tiering proporciona un mecanismo automático para la transición de objetos \"fríos\" (a los que se accede con menos frecuencia) a un archivo S3 Glacier. Puede definir el tiempo necesario para la transición de un objeto al archivo (entre 90 y 730 días). Esta función ayuda a cumplir con los requisitos de retención a largo plazo que puede tener para el cumplimiento. Los niveles de almacenamiento disponibles en S3 Intelligent-Tiering se asignan directamente a los niveles de S3:\n",
    "\n",
    "* **Frequent Access** - Optimizado para el acceso frecuente (S3 Standard)\n",
    "* **Infrequent Access** - Optimizado para el acceso poco frecuente (S3 Standard-IA)\n",
    "* **Archive Access** - Para fines de archivo (S3 Glacier)\n",
    "* **Deep Archive Access** - Propósitos de retención a largo plazo (S3 Glacier Deep Archive)\n",
    "\n",
    "Esta configuración de archivo está separada de la configuración principal del nivel de S3 Intelligent-Tiering que se coloca en los objetos, ya que se trata de una configuración específica del bucket. En la receta anterior, usted configuró una regla de ciclo de vida para configurar todos los objetos dentro de un bucket para la transición al nivel de almacenamiento de S3 Intelligent-Tiering. Esta receta añade una configuración adicional para realizar la transición de los objetos a los niveles de almacenamiento de S3 en función de su configuración. Puede utilizar cualquiera de estos métodos por separado o ambos simultáneamente para satisfacer sus propios requisitos.\n",
    "\n",
    "**NOTA:** Los niveles de S3 son específicos del objeto, lo que difiere de que el archivo de Intelligent-Tiering sea específico del cubo. Puede filtrar una configuración de archivo para que se aplique sólo a determinados prefijos, etiquetas de objetos y nombres de objetos si desea incluir o excluir objetos en una configuración. Para más información, consulte el documento de soporte.\n",
    "\n"
   ]
  }
 ],
 "metadata": {
  "kernelspec": {
   "display_name": "Python 3.9.12 ('base')",
   "language": "python",
   "name": "python3"
  },
  "language_info": {
   "codemirror_mode": {
    "name": "ipython",
    "version": 3
   },
   "file_extension": ".py",
   "mimetype": "text/x-python",
   "name": "python",
   "nbconvert_exporter": "python",
   "pygments_lexer": "ipython3",
   "version": "3.9.12"
  },
  "orig_nbformat": 4,
  "vscode": {
   "interpreter": {
    "hash": "c9cdd2fa3b32da9704bd8048bdba085d67219855a318f4adc7f095bb5cfa603b"
   }
  }
 },
 "nbformat": 4,
 "nbformat_minor": 2
}
