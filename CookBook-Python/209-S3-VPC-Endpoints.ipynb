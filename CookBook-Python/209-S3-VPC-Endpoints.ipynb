{
 "cells": [
  {
   "cell_type": "markdown",
   "metadata": {},
   "source": [
    "### Controlar el acceso de red a S3 desde su VPC utilizando puntos finales de VPC\n",
    "\n",
    "#### Problema\n",
    "Los recursos dentro de su VPC deben ser capaces de acceder sólo a un cubo S3 específico. Además, este tráfico de S3 no debe atravesar Internet por razones de seguridad y para mantener bajos los costes de ancho de banda.\n",
    "\n",
    "#### Solución\n",
    "Creará un punto final de la VPC de gateway para S3, lo asociará con una tabla de rutas y personalizará su documento de políticas.\n",
    "\n",
    "<img src=\"https://learning.oreilly.com/api/v2/epubs/urn:orm:book:9781492092599/files/assets/awsc_0213.png\" width=\"500\">"
   ]
  },
  {
   "cell_type": "code",
   "execution_count": 1,
   "metadata": {},
   "outputs": [],
   "source": [
    "import boto3\n",
    "import json\n",
    "import time\n",
    "\n",
    "region_aws = 'us-east-1'\n",
    "\n",
    "ec2 = boto3.resource('ec2', region_name=region_aws)\n",
    "ec2_client = boto3.client('ec2', region_name=region_aws)"
   ]
  },
  {
   "cell_type": "code",
   "execution_count": 2,
   "metadata": {},
   "outputs": [],
   "source": [
    "# create VPC\n",
    "vpc = ec2.create_vpc(CidrBlock='174.17.0.0/16')\n",
    "vpc.create_tags(Tags=[{\"Key\": \"Name\", \"Value\": \"AWSCookBookVPC\"}])\n",
    "vpc.wait_until_available()"
   ]
  },
  {
   "cell_type": "code",
   "execution_count": 9,
   "metadata": {},
   "outputs": [
    {
     "data": {
      "text/plain": [
       "[ec2.Tag(resource_id='rtb-0f6dc00c3dac3aa18', key='Name', value='AWSCookbookVPC-RT-2')]"
      ]
     },
     "execution_count": 9,
     "metadata": {},
     "output_type": "execute_result"
    }
   ],
   "source": [
    "# Crear routable\n",
    "routetable_1 = vpc.create_route_table()\n",
    "routetable_2 = vpc.create_route_table()\n",
    "routetable_1.create_tags(Tags=[{\"Key\": \"Name\", \"Value\": \"AWSCookbookVPC-RT-1\"}])\n",
    "routetable_2.create_tags(Tags=[{\"Key\": \"Name\", \"Value\": \"AWSCookbookVPC-RT-2\"}])"
   ]
  },
  {
   "cell_type": "code",
   "execution_count": 4,
   "metadata": {},
   "outputs": [
    {
     "data": {
      "text/plain": [
       "[ec2.Tag(resource_id='subnet-02db86da144e2b3c9', key='Name', value='AWSCookbook-SN')]"
      ]
     },
     "execution_count": 4,
     "metadata": {},
     "output_type": "execute_result"
    }
   ],
   "source": [
    "# Cree dos subredes:\n",
    "subnet_1 = ec2.create_subnet(\n",
    "    CidrBlock='174.17.0.0/24', \n",
    "    VpcId=vpc.id,\n",
    "    AvailabilityZone='us-east-1a'\n",
    ")\n",
    "\n",
    "subnet_2 = ec2.create_subnet(\n",
    "    CidrBlock='174.17.1.0/24', \n",
    "    VpcId=vpc.id,\n",
    "    AvailabilityZone='us-east-1b'\n",
    ")\n",
    "\n",
    "subnet_1.create_tags(Tags=[{\"Key\": \"Name\", \"Value\": \"AWSCookbook-SN-Private-1\"}])\n",
    "subnet_2.create_tags(Tags=[{\"Key\": \"Name\", \"Value\": \"AWSCookbook-SN-Private-2\"}])"
   ]
  },
  {
   "cell_type": "code",
   "execution_count": 11,
   "metadata": {},
   "outputs": [
    {
     "data": {
      "text/plain": [
       "ec2.RouteTableAssociation(id='rtbassoc-0e9925ee59cec6c2f')"
      ]
     },
     "execution_count": 11,
     "metadata": {},
     "output_type": "execute_result"
    }
   ],
   "source": [
    "# Asociar las tablas de rutas con las subred:\n",
    "routetable_1.associate_with_subnet(SubnetId = subnet_1.id)\n",
    "routetable_2.associate_with_subnet(SubnetId = subnet_2.id)"
   ]
  },
  {
   "cell_type": "code",
   "execution_count": 23,
   "metadata": {},
   "outputs": [],
   "source": [
    "import random\n",
    "# generate random number\n",
    "random_number_1 = random.randint(100, 10000)\n",
    "random_number_2 = random.randint(100, 1000)"
   ]
  },
  {
   "cell_type": "code",
   "execution_count": 25,
   "metadata": {},
   "outputs": [
    {
     "name": "stdout",
     "output_type": "stream",
     "text": [
      "Bucket awscookbookbucket-2874-472 created\n"
     ]
    }
   ],
   "source": [
    "# Crear un bucket de S3\n",
    "s3 = boto3.resource('s3')\n",
    "s3_name = 'awscookbookbucket-' + str(random_number_1) + '-' + str(random_number_2)\n",
    "\n",
    "try:\n",
    "    bucket = s3.create_bucket(\n",
    "        Bucket=s3_name,\n",
    "    )\n",
    "except Exception as e:\n",
    "    print(e)\n",
    "else:\n",
    "    print('Bucket created: {} '.format(bucket.name))"
   ]
  },
  {
   "cell_type": "code",
   "execution_count": 18,
   "metadata": {},
   "outputs": [
    {
     "name": "stdout",
     "output_type": "stream",
     "text": [
      "Crear una instancia EC2 con permisos SSM\n",
      "En la terminal ejecute:\n",
      "    python create_ec2_ssm.py --vpc vpc-0c42dd2366c78bfdb\n"
     ]
    }
   ],
   "source": [
    "print(\"Crear una instancia EC2 con permisos SSM\")\n",
    "print(\"En la terminal ejecute:\")\n",
    "print(\"    python create_ec2_ssm.py --vpc {}\".format(vpc.id))"
   ]
  },
  {
   "cell_type": "markdown",
   "metadata": {},
   "source": [
    "Cree un gateway-endpoint en su VPC y asocie el endpoint con las tablas de rutas aisladas:\n"
   ]
  },
  {
   "cell_type": "code",
   "execution_count": 20,
   "metadata": {},
   "outputs": [],
   "source": [
    "gateway_endpoint = ec2_client.create_vpc_endpoint(\n",
    "    VpcId=vpc.id,\n",
    "    ServiceName='com.amazonaws.{}.s3'.format(region_aws),\n",
    "    VpcEndpointType='Gateway',\n",
    "    RouteTableIds=[\n",
    "        routetable_1.id,\n",
    "        routetable_2.id\n",
    "    ]\n",
    ")\n"
   ]
  },
  {
   "cell_type": "markdown",
   "metadata": {},
   "source": [
    "Cree un archivo de política de punto final de plantilla llamado policy.json con el siguiente contenido. Esto se utiliza para limitar el acceso sólo al bucket de S3 que creó en los pasos de preparación:"
   ]
  },
  {
   "cell_type": "code",
   "execution_count": 30,
   "metadata": {},
   "outputs": [],
   "source": [
    "policy_endpoint = {\n",
    "  \"Statement\": [\n",
    "    {\n",
    "      \"Sid\": \"RestrictToOneBucket\",\n",
    "      \"Principal\": \"*\",\n",
    "      \"Action\": [\n",
    "        \"s3:GetObject\",\n",
    "        \"s3:PutObject\"\n",
    "      ],\n",
    "      \"Effect\": \"Allow\",\n",
    "      \"Resource\": [\"arn:aws:s3:::\" + s3_name + \"/\",\n",
    "                   \"arn:aws:s3:::\" + s3_name + \"/*\"]\n",
    "    }\n",
    "  ]\n",
    "}"
   ]
  },
  {
   "cell_type": "markdown",
   "metadata": {},
   "source": [
    "Modificar el documento de políticas del endpoint. Las políticas del endpoint limitan o restringen los recursos a los que se puede acceder a través del endpoint de la VPC:"
   ]
  },
  {
   "cell_type": "code",
   "execution_count": 35,
   "metadata": {},
   "outputs": [
    {
     "data": {
      "text/plain": [
       "{'Return': True,\n",
       " 'ResponseMetadata': {'RequestId': 'f5426a43-5fb9-4e2e-bd2e-6a53b618df36',\n",
       "  'HTTPStatusCode': 200,\n",
       "  'HTTPHeaders': {'x-amzn-requestid': 'f5426a43-5fb9-4e2e-bd2e-6a53b618df36',\n",
       "   'cache-control': 'no-cache, no-store',\n",
       "   'strict-transport-security': 'max-age=31536000; includeSubDomains',\n",
       "   'vary': 'accept-encoding',\n",
       "   'content-type': 'text/xml;charset=UTF-8',\n",
       "   'transfer-encoding': 'chunked',\n",
       "   'date': 'Mon, 10 Oct 2022 16:29:38 GMT',\n",
       "   'server': 'AmazonEC2'},\n",
       "  'RetryAttempts': 0}}"
      ]
     },
     "execution_count": 35,
     "metadata": {},
     "output_type": "execute_result"
    }
   ],
   "source": [
    "ec2_client.modify_vpc_endpoint(\n",
    "    VpcEndpointId=gateway_endpoint['VpcEndpoint']['VpcEndpointId'],\n",
    "    PolicyDocument=json.dumps(policy_endpoint)\n",
    ")"
   ]
  },
  {
   "cell_type": "markdown",
   "metadata": {},
   "source": [
    "#### Comprobaciones de validación\n",
    "\n",
    "Imprime el nombre de tu S3 Bucket para que puedas referirte a él cuando estés conectado a tu Instancia EC2:"
   ]
  },
  {
   "cell_type": "code",
   "execution_count": 36,
   "metadata": {},
   "outputs": [
    {
     "name": "stdout",
     "output_type": "stream",
     "text": [
      "awscookbookbucket-2874-472\n"
     ]
    }
   ],
   "source": [
    "print(s3_name)"
   ]
  },
  {
   "cell_type": "markdown",
   "metadata": {},
   "source": [
    "Conéctese a la instancia EC2 mediante el gestor de sesiones SSM "
   ]
  },
  {
   "cell_type": "code",
   "execution_count": 37,
   "metadata": {},
   "outputs": [
    {
     "name": "stdout",
     "output_type": "stream",
     "text": [
      "En la terminal ejecute:\n",
      "    python create_ec2_ssm.py --last\n"
     ]
    }
   ],
   "source": [
    "print(\"En la terminal ejecute:\")\n",
    "print(\"    python create_ec2_ssm.py --last\")"
   ]
  },
  {
   "cell_type": "markdown",
   "metadata": {},
   "source": [
    "En la instancia ejecute:"
   ]
  },
  {
   "cell_type": "code",
   "execution_count": null,
   "metadata": {
    "vscode": {
     "languageId": "shellscript"
    }
   },
   "outputs": [],
   "source": [
    "export AWS_DEFAULT_REGION=$(curl \\\n",
    "--silent http://169.254.169.254/latest/dynamic/instance-identity/document \\\n",
    "| awk -F'\"' ' /region/ {print $4}')"
   ]
  },
  {
   "cell_type": "code",
   "execution_count": null,
   "metadata": {
    "vscode": {
     "languageId": "shellscript"
    }
   },
   "outputs": [],
   "source": [
    "BUCKET=$(aws ssm get-parameters \\\n",
    "    --names \"awscookbookbucket\" \\\n",
    "     --query \"Parameters[*].Value\" --output text)"
   ]
  }
 ],
 "metadata": {
  "kernelspec": {
   "display_name": "Python 3.9.12 ('base')",
   "language": "python",
   "name": "python3"
  },
  "language_info": {
   "codemirror_mode": {
    "name": "ipython",
    "version": 3
   },
   "file_extension": ".py",
   "mimetype": "text/x-python",
   "name": "python",
   "nbconvert_exporter": "python",
   "pygments_lexer": "ipython3",
   "version": "3.9.12"
  },
  "orig_nbformat": 4,
  "vscode": {
   "interpreter": {
    "hash": "c9cdd2fa3b32da9704bd8048bdba085d67219855a318f4adc7f095bb5cfa603b"
   }
  }
 },
 "nbformat": 4,
 "nbformat_minor": 2
}
