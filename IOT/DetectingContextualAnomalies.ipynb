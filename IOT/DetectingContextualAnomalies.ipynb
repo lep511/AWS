{
 "cells": [
  {
   "cell_type": "markdown",
   "metadata": {},
   "source": [
    "# AWS IoT Analytics | Detecting Contextual Anomalies\n",
    "\n",
    "Contextual anomaly detection in measured wind speed with a PEWMA model for Time Series data"
   ]
  },
  {
   "cell_type": "markdown",
   "metadata": {},
   "source": [
    "Detecting anomalies in data from IoT devices and processes is key to identifying instrumentation faults, failing devices, operational procedure errors and problematic noisy data that requires preprocessing to remove outliers. One of the challenges with IoT data is understanding what data constitutes an anomaly. There are obvious anomalies, such as when a temperature sensor reboots and registers first its maximum and then a 0 temperature before returning to normal data measurement. However, anomalies that are within the normal operating range of the system, but are outside of the normal operating range when compared to the surrounding measurements, are more difficult to discover.  These are called 'contextual' anomalies and are the target of this Notebook's time series anomaly detection.     \n",
    "\n",
    "The sample data set in this Notebook is a time series wind speed measurement taken by a fleet of wind monitoring sensors throughout the city of San Francisco and maintained by the public utilities commission. "
   ]
  },
  {
   "cell_type": "markdown",
   "metadata": {},
   "source": [
    "## Set-up: Import Required Notebook Libraries"
   ]
  },
  {
   "cell_type": "markdown",
   "metadata": {},
   "source": [
    "<p>This Notebook requires a few basic Python libraries including <a href=\"http://pandas.pydata.org/\">`pandas`</a> and <a href=\"https://matplotlib.org/\">`matplotlib`</a>.</p>\n",
    "\n",
    "The basic operations of `pandas` will be used for data transformation. The library `matplotlib` will be used for data visualization."
   ]
  },
  {
   "cell_type": "code",
   "execution_count": null,
   "metadata": {},
   "outputs": [],
   "source": [
    "from __future__ import unicode_literals, division\n",
    "import pandas as pd\n",
    "import boto3\n",
    "import matplotlib\n",
    "import matplotlib.pyplot as plt\n",
    "import json\n",
    "import random\n",
    "\n",
    "# create IoT Analytics client\n",
    "client = boto3.client('iotanalytics')\n",
    "\n",
    "%matplotlib inline\n",
    "matplotlib.rcParams['figure.figsize'] = (17, 10)"
   ]
  },
  {
   "cell_type": "markdown",
   "metadata": {},
   "source": [
    "## Background: Problem Description and Approach"
   ]
  },
  {
   "cell_type": "markdown",
   "metadata": {},
   "source": [
    "Although anomaly detection is a broad field, time series, particularly streaming time series, is a special case because the baseline for what constitutes normal data is constantly evolving. To handle this case, the Exponentially Weighted Moving Average (EWMA) method was originally designed for signal processing. For IoT data, where physical processes tend to produce particularly noisy data, EWMA is, unfortunately, sensitive to abrupt changes in data trends. For this reason, we'll use a probabilistic approach to EWMA, or PEWMA. This is a modification of the exponentially weighted moving average in which outlier data points are dampened so that they influence the moving average less. \n",
    "\n",
    "<img src=\"https://s3.amazonaws.com/iotanalytics-templates/Logo.png\" style=\"float:left;height:20px;\"></img><b style=\"color:#1A5276;padding-left:5px;\">PRODUCTION NOTE</b> To eliminate outliers in incoming data, PEWMA can be used in the AWS IoT Analytics Pipeline as well. However, this requires storing intermediate state somewhere (for example in DynamoDB) which may introduce lags to data processing. For an example of how to implement PEWMA in AWS Lambda see <a href=\"https://aws.amazon.com/blogs/iot/anomaly-detection-using-aws-iot-and-aws-lambda/\">this blog</a>.\n",
    "\n",
    "In our Notebook, we will be looking for contextual anomalies in sample wind speed data from wind measurement equipment located throughout San Francisco. Contextual anomalies, as mentioned before, are data points which are within the normal range of data but, because of the context of surrounding data, are out of the ordinary.  An example of a contextual anomaly is a wind speed measurement that suddenly jumps from 30 to 70m/s. The 70m/s measurement may not be unusual in itself, but it is unusual in the context of previous measurements which were much lower. "
   ]
  },
  {
   "cell_type": "markdown",
   "metadata": {},
   "source": [
    "## Step 1  |  Loading Data"
   ]
  },
  {
   "cell_type": "code",
   "execution_count": 12,
   "metadata": {},
   "outputs": [],
   "source": [
    "def generate_data(count=100):\n",
    "  for i in range(count):\n",
    "    message = {\n",
    "      \"temperature\": random.randint(0, 55),\n",
    "      \"humidity\": random.randint(90, 100),\n",
    "      \"barometer\": random.randint(998, 1034),\n",
    "      \"wind\": {\n",
    "        \"velocity\": random.randint(10, 140),\n",
    "        \"bearing\": random.randint(0, 360)\n",
    "      }\n",
    "    }\n",
    "\n",
    "    message = bytes(json.dumps(message), 'utf-8')\n",
    "\n",
    "    iot_client=boto3.client('iot-data')\n",
    "    topic_num = str(random.randint(1, 99))\n",
    "    topic = f\"device/{topic_num}/data\"\n",
    "    iot_client.publish(topic=topic, payload=message)\n",
    "  \n",
    "generate_data()"
   ]
  },
  {
   "cell_type": "markdown",
   "metadata": {},
   "source": [
    "### Dataset Description\n",
    "\n",
    "Our sample data set consists of time series wind speed data from a fleet of wind monitoring devices maintained by the <a href=\"https://data.sfgov.org/Energy-and-Environment/Historical-San-Francisco-Wind-Monitoring-Data/rabs-nyxp/data\">San Francisco Public Utility Commission</a>. This is a single variable anomaly detection example. To adapt this Notebook to a multivariate anomaly detection case, check out the multivariate extension to EWMA <a href=\"http://www.tandfonline.com/doi/abs/10.1080/00401706.1992.10485232\">(MEWMA)</a>.\n",
    "\n",
    "\n",
    "To load our data set, we first must specify the names of the data set, timestamp and value columns. In order to need to perform get_dataset_content, you need to grant iot analytics corresponding IAM permission."
   ]
  },
  {
   "cell_type": "code",
   "execution_count": 6,
   "metadata": {},
   "outputs": [],
   "source": [
    "dataset = \"testproject_dataset\"\n",
    "time_col = 'time'\n",
    "value_col = 'temperature' # if empty, the first column (different from time_col) will be used"
   ]
  },
  {
   "cell_type": "markdown",
   "metadata": {},
   "source": [
    "Retrieve the dataset content S3 location and load it into a DataFrame object."
   ]
  },
  {
   "cell_type": "code",
   "execution_count": 9,
   "metadata": {},
   "outputs": [
    {
     "name": "stdout",
     "output_type": "stream",
     "text": [
      "(37, 6)\n"
     ]
    },
    {
     "data": {
      "text/html": [
       "<div>\n",
       "<style scoped>\n",
       "    .dataframe tbody tr th:only-of-type {\n",
       "        vertical-align: middle;\n",
       "    }\n",
       "\n",
       "    .dataframe tbody tr th {\n",
       "        vertical-align: top;\n",
       "    }\n",
       "\n",
       "    .dataframe thead th {\n",
       "        text-align: right;\n",
       "    }\n",
       "</style>\n",
       "<table border=\"1\" class=\"dataframe\">\n",
       "  <thead>\n",
       "    <tr style=\"text-align: right;\">\n",
       "      <th></th>\n",
       "      <th>temperature</th>\n",
       "      <th>humidity</th>\n",
       "      <th>barometer</th>\n",
       "      <th>wind_velocity</th>\n",
       "      <th>wind_bearing</th>\n",
       "      <th>__dt</th>\n",
       "    </tr>\n",
       "  </thead>\n",
       "  <tbody>\n",
       "    <tr>\n",
       "      <th>0</th>\n",
       "      <td>25</td>\n",
       "      <td>96</td>\n",
       "      <td>1023</td>\n",
       "      <td>131</td>\n",
       "      <td>257</td>\n",
       "      <td>2023-10-23 00:00:00.000</td>\n",
       "    </tr>\n",
       "    <tr>\n",
       "      <th>1</th>\n",
       "      <td>12</td>\n",
       "      <td>98</td>\n",
       "      <td>1012</td>\n",
       "      <td>43</td>\n",
       "      <td>46</td>\n",
       "      <td>2023-10-23 00:00:00.000</td>\n",
       "    </tr>\n",
       "    <tr>\n",
       "      <th>2</th>\n",
       "      <td>11</td>\n",
       "      <td>92</td>\n",
       "      <td>1033</td>\n",
       "      <td>25</td>\n",
       "      <td>44</td>\n",
       "      <td>2023-10-23 00:00:00.000</td>\n",
       "    </tr>\n",
       "    <tr>\n",
       "      <th>3</th>\n",
       "      <td>23</td>\n",
       "      <td>92</td>\n",
       "      <td>999</td>\n",
       "      <td>124</td>\n",
       "      <td>175</td>\n",
       "      <td>2023-10-23 00:00:00.000</td>\n",
       "    </tr>\n",
       "    <tr>\n",
       "      <th>4</th>\n",
       "      <td>17</td>\n",
       "      <td>92</td>\n",
       "      <td>1031</td>\n",
       "      <td>19</td>\n",
       "      <td>358</td>\n",
       "      <td>2023-10-23 00:00:00.000</td>\n",
       "    </tr>\n",
       "  </tbody>\n",
       "</table>\n",
       "</div>"
      ],
      "text/plain": [
       "   temperature  humidity  barometer  wind_velocity  wind_bearing  \\\n",
       "0           25        96       1023            131           257   \n",
       "1           12        98       1012             43            46   \n",
       "2           11        92       1033             25            44   \n",
       "3           23        92        999            124           175   \n",
       "4           17        92       1031             19           358   \n",
       "\n",
       "                      __dt  \n",
       "0  2023-10-23 00:00:00.000  \n",
       "1  2023-10-23 00:00:00.000  \n",
       "2  2023-10-23 00:00:00.000  \n",
       "3  2023-10-23 00:00:00.000  \n",
       "4  2023-10-23 00:00:00.000  "
      ]
     },
     "execution_count": 9,
     "metadata": {},
     "output_type": "execute_result"
    }
   ],
   "source": [
    "try:\n",
    "    dataset_url = client.get_dataset_content(datasetName = dataset)['entries'][0]['dataURI']\n",
    "    df = pd.read_csv(dataset_url)\n",
    "    if df.empty:\n",
    "        print('No data found')\n",
    "except:\n",
    "    print('Load sample data')\n",
    "    df = pd.read_csv('https://s3.amazonaws.com/iotanalytics-templates/data/SF36.csv')\n",
    "print(df.shape)\n",
    "df.head()"
   ]
  },
  {
   "cell_type": "markdown",
   "metadata": {},
   "source": [
    "## Step 2  |  Running PEWMA Algorithm"
   ]
  },
  {
   "cell_type": "markdown",
   "metadata": {},
   "source": [
    "Unlike many of the other AWS IoT Analytics Notebook templates, this anomaly detection Notebook doesn't require data processing ahead of running the PEWMA model. Nor does it require training the PEWMA model, because the model determines outliers or anomalies based on a calculated standard deviation. We will, however, need to set some model parameters."
   ]
  },
  {
   "cell_type": "markdown",
   "metadata": {},
   "source": [
    "### Set PEWMA Algorithm Parameters"
   ]
  },
  {
   "cell_type": "markdown",
   "metadata": {},
   "source": [
    "PEWMA requires the input of initialization and fitting parameters. There are 3 key parameters used to configure the PEWMA model. They include the initial sample size to calculate the starting moving average\n",
    "\n",
    "\n",
    "<b>T</b> is the number of data points used to calculate the initial value for the moving average. The default value is 20. <b>Beta</b> is the dampening factor that prevents anomalies from strongly shifting the mean. The larger the value, the more we limit the effect an anomalous data point has on the mean. Beta ranges from 0 to 1. With our sample Data Set we use a default of 0.5. <b>a</b> or <b>alpha</b> is used to specify how much weight to give to the previous value of the mean in determining the moving average.  The closer this parameter is to 1, the smoother the moving average will be. The closer this parameter is to 0, the more quickly the moving average will adjust to changing patterns in the data. The default value is 0.99."
   ]
  },
  {
   "cell_type": "code",
   "execution_count": null,
   "metadata": {},
   "outputs": [],
   "source": [
    "T = 20\t\t# initialization period (in cycles)\n",
    "beta = 0.5\t# lower values make the algorithm behave more like regular EWMA\n",
    "a = 0.99\t# the maximum value of the EWMA a parameter, used for outliers"
   ]
  },
  {
   "cell_type": "markdown",
   "metadata": {},
   "source": [
    "### Set Anomaly Threshold\n",
    "\n",
    "The PEWMA anomaly threshold parameter sets the limit for what we call an anomaly. The lower the value, the more points will be classified as anomalies. Raising the threshold increases the area that is considered normal.\n",
    "\n",
    "Specify z - the number of running standard deviations that should be considered an anomaly "
   ]
  },
  {
   "cell_type": "code",
   "execution_count": null,
   "metadata": {},
   "outputs": [],
   "source": [
    "z = 4"
   ]
  },
  {
   "cell_type": "markdown",
   "metadata": {},
   "source": [
    "### Build PEWMA Algorithm "
   ]
  },
  {
   "cell_type": "markdown",
   "metadata": {},
   "source": [
    "With many of the AWS IoT Analytics Notebook templates, we leverage the power of machine learning packages like MXNet, TensorFlow and Sklearn to simplify running our models. Here, however, we are going to build and run the mathematics for PEWMA ourselves. \n",
    "\n",
    "Below we create a DataFrame and inject the PEWMA calculation along with our configuration parameters. "
   ]
  },
  {
   "cell_type": "code",
   "execution_count": null,
   "metadata": {},
   "outputs": [],
   "source": [
    "from itertools import islice\n",
    "from math import sqrt\n",
    "from scipy.stats import norm\n",
    "\n",
    "# create a DataFrame for the run time variables we'll need to calculate\n",
    "pewm = pd.DataFrame(index=df.index, columns=['Mean', 'Var', 'Std'], dtype=float)\n",
    "pewm.iloc[0] = [df.iloc[0][value_col], 0, 0]\n",
    "t = 0\n",
    "for _, row in islice(df.iterrows(), 1, None):\n",
    "    diff = row[value_col] - pewm.iloc[t].Mean # difference from moving average\n",
    "    p = norm.pdf(diff / pewm.iloc[t].Std) if pewm.iloc[t].Std != 0 else 0 # Prob of observing diff\n",
    "    a_t = a * (1 - beta * p) if t > T else 1 - 1/(t+1) # weight to give to this point\n",
    "    incr = (1 - a_t) * diff\n",
    "   \n",
    "    # Update Mean, Var, Std\n",
    "    pewm.iloc[t+1].Mean = pewm.iloc[t].Mean + incr\n",
    "    pewm.iloc[t+1].Var = a_t * (pewm.iloc[t].Var + diff * incr)\n",
    "    pewm.iloc[t+1].Std = sqrt(pewm.iloc[t+1].Var)\n",
    "    t += 1"
   ]
  },
  {
   "cell_type": "markdown",
   "metadata": {},
   "source": [
    "## Step 3  |  Evaluating Results through Visualization"
   ]
  },
  {
   "cell_type": "markdown",
   "metadata": {},
   "source": [
    "Now that we've built the PEWMA model, we can define what constitutes an anomaly and plot our data set with the identified anomalies. By superimposing the anomalies on the source data set, we can easily evaluate how our configuration of the PEWMA algorithm worked and interpret our results.    "
   ]
  },
  {
   "cell_type": "code",
   "execution_count": null,
   "metadata": {},
   "outputs": [],
   "source": [
    "_, ax = plt.subplots() # initialize plot\n",
    "\n",
    "# Define the boundary for what is considered an anomaly\n",
    "pewm['Mean_plus_zStd'] = pewm.Mean.add(pewm.Std.mul(z))\n",
    "pewm['Mean_minus_zStd'] = pewm.Mean.sub(pewm.Std.mul(z))\n",
    "\n",
    "# Identify anomalies\n",
    "anomalies = df[(df[value_col] > pewm['Mean_plus_zStd']) | (df[value_col] < pewm['Mean_minus_zStd'])]\n",
    "\n",
    "df.plot(y = value_col, ax = ax) # plot raw data\n",
    "pewm.plot(y = 'Mean', ax = ax) # plot moving average\n",
    "if not anomalies.empty:\n",
    "    anomalies.plot(y = value_col, ax = ax, style=['ro']) # plot anomalies as red dots\n",
    "ax.fill_between(df.index, pewm.Mean_plus_zStd, pewm.Mean_minus_zStd, alpha=0.5) # fill the regions showing boundary for anomalies\n",
    "ax.legend(['Actual value', 'Moving average', 'Moving Average + z STD', 'Moving Average - z STD']);\n",
    "if not anomalies.empty:\n",
    "    ax.legend(['Actual value', 'Moving average', 'Anomalies', 'Moving Average ± z STD']);\n",
    "else:\n",
    "    ax.legend(['Actual value', 'Moving average', 'Moving Average ± z STD']);"
   ]
  },
  {
   "cell_type": "markdown",
   "metadata": {
    "collapsed": true
   },
   "source": [
    "With our sample wind speed data set, we can see from the plot that our PEWMA model has a good track record of finding the leading edge of steeper than usual increases in wind speed. "
   ]
  }
 ],
 "metadata": {
  "kernelspec": {
   "display_name": "personal",
   "language": "python",
   "name": "python3"
  },
  "language_info": {
   "codemirror_mode": {
    "name": "ipython",
    "version": 3
   },
   "file_extension": ".py",
   "mimetype": "text/x-python",
   "name": "python",
   "nbconvert_exporter": "python",
   "pygments_lexer": "ipython3",
   "version": "3.11.3"
  }
 },
 "nbformat": 4,
 "nbformat_minor": 2
}
