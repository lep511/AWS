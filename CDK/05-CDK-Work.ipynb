{
 "cells": [
  {
   "cell_type": "markdown",
   "metadata": {},
   "source": [
    "# Trabajar con el CDK de AWS\n",
    "\n",
    "Anteriormente dijimos que componente básico para una aplicación de CDK era el constructor.\n",
    "<br>\n",
    "<br>\n",
    "\n",
    "![Image](https://docs.aws.amazon.com/images/cdk/v2/guide/images/AppStacks.png)\n",
    "\n",
    " * Un constructor representa un componente de la nube e incluye todo lo que AWS CloudFormation necesita para crear el componente. \n",
    " \n",
    " * Un constructor puede representar un único recurso de la nube (como una función Lambda), o puede representar un componente de nivel superior formado por varios recursos de AWS.\n",
    " \n",
    " * Como desarrollador, puede incorporar constructores existentes o crear sus propios constructores. Para crear un nuevo constructor, cree una clase que extienda la clase base del constructor. A continuación, introduzca los parámetros *scope*, *id* y *props* cuando se inicialice el constructor. \n"
   ]
  }
 ],
 "metadata": {
  "kernelspec": {
   "display_name": "Python 3.9.7 ('base')",
   "language": "python",
   "name": "python3"
  },
  "language_info": {
   "name": "python",
   "version": "3.9.7"
  },
  "orig_nbformat": 4,
  "vscode": {
   "interpreter": {
    "hash": "ad2bdc8ecc057115af97d19610ffacc2b4e99fae6737bb82f5d7fb13d2f2c186"
   }
  }
 },
 "nbformat": 4,
 "nbformat_minor": 2
}
