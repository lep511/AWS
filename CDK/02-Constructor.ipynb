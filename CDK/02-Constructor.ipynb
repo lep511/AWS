{
 "cells": [
  {
   "cell_type": "markdown",
   "metadata": {},
   "source": [
    "# ¿Qué son los constructores?\n",
    "\n",
    "Los componentes principales que impulsan las aplicaciones de AWS CDK están compuestos por aplicaciones, pilas y recursos.\n",
    "\n",
    "Los constructos son los principales bloques de construcción utilizados para formar pilas y aplicaciones. Aprenderá cómo estos tres componentes le permiten construir su infraestructura en la nube a través del código. Un constructo representa un componente de la nube y encapsula todo lo que AWS CloudFormation necesita para crear el componente. \n",
    "<br><br>\n",
    "\n",
    "![](https://explore.skillbuilder.aws/files/a/w/aws_prod1_docebosaas_com/1668798000/9f_GkXPBlHtnXJ_bshGRsg/tincan/914789_1658164378_p1g894o0de12q11oomn1h1aeq7kc4_zip/assets/GNfEJOallDVOquac_5okXExLCWWEJUlas.png)\n",
    "\n",
    "Un constructo puede representar un único recurso de la nube de AWS, como un punto de enlace de Amazon VPC, o puede representar un único componente formado por varios recursos de AWS dentro de una vpc.\n",
    "\n",
    "AWS CDK utiliza composiciones para definir construcciones complejas. Una composición establece una jerarquía de construcciones padre-hijo. La composición padre se compone de construcciones o composiciones hijas. Este patrón de anidación puede continuar con composiciones profundamente anidadas en las que se definen construcciones dentro de otras construcciones. \n",
    "\n",
    "Para activar este patrón, puede definir construcciones dentro del ámbito de otra construcción. Este patrón de alcance resulta en una jerarquía de construcciones conocida como árbol de construcciones. En el AWS CDK, la raíz del árbol representa toda su aplicación AWS CDK. Dentro de la aplicación, normalmente se definen una o más pilas. Las pilas son la unidad real de implementación y son similares a las pilas de AWS CloudFormation. Las pilas están formadas por construcciones y composiciones."
   ]
  },
  {
   "cell_type": "code",
   "execution_count": null,
   "metadata": {
    "vscode": {
     "languageId": "shellscript"
    }
   },
   "outputs": [],
   "source": [
    "import * as cdk from 'aws-cdk-lib';\n",
    "import { Construct } from 'constructs';\n",
    "import * as ec2 from 'aws-cdk-lib/aws-ec2';\n",
    "import * as ecs from 'aws-cdk-lib/aws-ecs';\n",
    "import * as ecs_patterns from 'aws-cdk-lib/aws-ecs-patterns';\n",
    "\n",
    "export class CdkPrimerStack extends cdk.Stack {\n",
    "  constructor(scope: Construct, id: string, props?: cdk.StackProps) {\n",
    "    super(scope, id, props);\n",
    "    const vpc = new ec2.Vpc(this, \"MyVpc\", {maxAzs: 2});\n",
    "    const cluster = new ecs.Cluster(this, \"MyCluster\", {vpc: vpc});\n",
    "      new ecs_patterns.ApplicationLoadBalancedFargateService(this, \"MyFargateService\", {\n",
    "          cluster: cluster,\n",
    "          taskImageOptions: { image: ecs.ContainerImage.fromRegistry(\"amazon/amazon-ecs-sample\") },\n",
    "          publicLoadBalancer: true\n",
    "  });\n",
    "  }\n",
    "}"
   ]
  },
  {
   "cell_type": "markdown",
   "metadata": {},
   "source": [
    "La composición de los constructos significa que se pueden definir componentes reutilizables y compartirlos como cualquier otro código. Los equipos de una empresa pueden definir y distribuir construcciones como lo harían con cualquier otro paquete de bibliotecas de código. Cuando un equipo actualiza una biblioteca de código, los desarrolladores de otros equipos pueden obtener la última versión y desplegar cualquier corrección de errores y mejoras.\n",
    "\n",
    "<br>\n",
    "\n",
    "![image.png](https://explore.skillbuilder.aws/files/a/w/aws_prod1_docebosaas_com/1668798000/9f_GkXPBlHtnXJ_bshGRsg/tincan/914789_1658164378_p1g894o0de12q11oomn1h1aeq7kc4_zip/assets/g8SzgB2C-w_cqGoO_PYnrrNsFDAZzhiVn.png)\n",
    "\n",
    "\n",
    "En este ejemplo hay tres equipos que desarrollan aplicaciones y construcciones de AWS CDK. El primer equipo ha definido la composición como un paquete de biblioteca de AWS CDK específico para los protocolos de autenticación de la compañía. Los otros dos equipos importan el paquete de bibliotecas a sus aplicaciones de AWS CDK para garantizar la conformidad de la autenticación."
   ]
  },
  {
   "cell_type": "markdown",
   "metadata": {},
   "source": [
    "### ¿Cómo se utilizan los constructores?\n",
    "\n",
    "Los constructores se implementan en clases que extienden la clase base *Construct*. Se define un constructo instanciando la clase. Todas las construcciones toman tres parámetros cuando se inicializan: scope, id y props.\n",
    "\n",
    "* *Scope:* El primer argumento, scope, es la construcción en la que se crea esta construcción. En la mayoría de los casos, se define una construcción en el ámbito de sí misma, lo que significa que normalmente se pasa esto para el primer argumento.\n",
    "\n",
    "\n",
    "* *Id:* El segundo argumento, id, es el identificador local de la construcción que debe ser único dentro de este ámbito. AWS CDK utiliza este identificador para calcular el ID lógico de AWS CloudFormation para cada recurso definido dentro de este ámbito. En este ejemplo, MyVpc se pasa como el ID.\n",
    "\n",
    "* *Props:* El tercer argumento, props, es un conjunto de propiedades de inicialización que son específicas de cada construcción y definen su configuración inicial. Por ejemplo, la construcción Vpc.Function acepta propiedades como maxAzs, cidr y subnetConfiguration. Puedes explorar las distintas opciones utilizando la función de autocompletar de tu IDE o en la documentación online.\n",
    "\n"
   ]
  },
  {
   "cell_type": "code",
   "execution_count": null,
   "metadata": {
    "vscode": {
     "languageId": "shellscript"
    }
   },
   "outputs": [],
   "source": [
    "import { App, Stack, StackProps } from 'aws-cdk-lib';\n",
    "import * as s3 from 'aws-cdk-lib/aws-s3';\n",
    "\n",
    "class HelloCdkStack extends Stack {\n",
    "  constructor(scope: App, id: string, props?: StackProps) {\n",
    "    super(scope, id, props);\n",
    "\n",
    "    new s3.Bucket(this, 'MyFirstBucket', {\n",
    "      versioned: true\n",
    "    });\n",
    "  }\n",
    "}\n",
    "\n",
    "const app = new App();\n",
    "new HelloCdkStack(app, \"HelloCdkStack\");"
   ]
  },
  {
   "cell_type": "markdown",
   "metadata": {},
   "source": [
    "### Crear tus propios constructores\n",
    "\n",
    "Además de utilizar construcciones existentes como ec2.Vpc, también puede crear sus propias construcciones. Para declarar un nuevo constructo, cree una clase que extienda la clase base del constructo e introduzca el argumento scope, id y props. Puedes crear tus propios constructos cuando lo desees:\n",
    "\n",
    "* Organizar su proyecto.\n",
    "* Agilizar tus procesos de despliegue.\n",
    "* Empaquetar la construcción en un módulo npm. Luego, publicar la construcción en npmjs.org para compartirla con desarrolladores fuera de su organización.\n",
    "\n",
    "<br>\n",
    "\n",
    "![image.png](https://explore.skillbuilder.aws/files/a/w/aws_prod1_docebosaas_com/1668798000/9f_GkXPBlHtnXJ_bshGRsg/tincan/914789_1658164378_p1g894o0de12q11oomn1h1aeq7kc4_zip/assets/r0gaK1wf8USYpC4v_f5J5xiTMN4YLcnYd.png)\n",
    "\n",
    "<br>\n",
    "En este ejemplo, la compañía A y la compañía B utilizan AWS CDK para desarrollar aplicaciones. La compañía A ha desarrollado una aplicación con una construcción personalizada, que incorpora una tabla de Amazon DynamoDB con una función de Lambda. La compañía A ha optado por publicar su construcción personalizada como un módulo npm y publicarlo en npmjs.org, el repositorio npm. La empresa B puede importar la construcción de la empresa A desde npmjs.org a su aplicación y beneficiarse de las mejoras de usabilidad o las correcciones de errores publicadas por la empresa A.\n",
    "\n"
   ]
  },
  {
   "cell_type": "markdown",
   "metadata": {},
   "source": [
    "### Uso de construcciones predefinidas para los recursos de AWS\n",
    "\n",
    "El CDK de AWS incluye la biblioteca AWS Construct para garantizar que los desarrolladores tengan acceso a todos los recursos de AWS mientras crean sus aplicaciones.\n"
   ]
  },
  {
   "cell_type": "code",
   "execution_count": null,
   "metadata": {
    "vscode": {
     "languageId": "shellscript"
    }
   },
   "outputs": [],
   "source": [
    "import { App, Stack, StackProps } from 'aws-cdk-lib';\n",
    "import * as s3 from 'aws-cdk-lib/aws-s3';\n",
    "\n",
    "class HelloCdkStack extends Stack {\n",
    "  constructor(scope: App, id: string, props?: StackProps) {\n",
    "    super(scope, id, props);\n",
    "\n",
    "    const bucket = new s3.Bucket(this, 'MyFirstBucket');\n",
    "  }\n",
    "}"
   ]
  },
  {
   "cell_type": "markdown",
   "metadata": {},
   "source": [
    "Por ejemplo, este fragmento de código muestra cómo la clase s3.Bucket representa un cubo de Amazon Simple Storage Service (Amazon S3) y sus atributos. Los constructos son autocontenidos. Sin embargo, puede agrupar el código de tiempo de ejecución y el código de infraestructura en bibliotecas que otros puedan reutilizar.\n",
    "\n",
    "Para obtener más información sobre la biblioteca de constructos de AWS CDK, consulte la referencia de la API en la documentación de AWS CDK.\n",
    "\n",
    "### Niveles de construcciones\n",
    "\n",
    "La biblioteca contiene tres niveles de construcciones: Construcciones de patrones de AWS CDK, construcciones de recursos de AWS y construcciones de recursos de AWS CloudFormation.\n",
    "\n",
    "<br>\n",
    "\n",
    "![Image](https://explore.skillbuilder.aws/files/a/w/aws_prod1_docebosaas_com/1668798000/9f_GkXPBlHtnXJ_bshGRsg/tincan/914789_1658164378_p1g894o0de12q11oomn1h1aeq7kc4_zip/assets/3rxrYoxfl4Giz_Uc_uAkE2vXFKk14lDy2.png)\n",
    "\n",
    "<br>\n",
    "\n",
    "* LEVEL 3 (L3) - El nivel más alto incluye las construcciones de patrones de AWS CDK. Estas construcciones están diseñadas para ayudarle a completar tareas comunes en AWS utilizando varios recursos, como un clúster de contenedores Fargate que emplea un Application Load Balancer.\n",
    "\n",
    "* LEVEL 2 (L2) - El siguiente nivel incluye los constructos de recursos de AWS. Los constructos de recursos de AWS representan recursos de AWS, ofrecen valores predeterminados convenientes y reducen la necesidad de conocer todos los detalles sobre los recursos de AWS que representan.\n",
    "\n",
    "* LEVEL 1 (L1) - El nivel más bajo incluye las construcciones de recursos de AWS CloudFormation. Estos constructos representan directamente todos los recursos de AWS disponibles en AWS CloudFormation. Las construcciones de recursos de AWS CloudFormation reciben el nombre del servicio de AWS que representan. "
   ]
  },
  {
   "cell_type": "markdown",
   "metadata": {},
   "source": [
    "### Construcciones de patrones de AWS CDK\n",
    "\n",
    "El nivel 3 incluye construcciones de patrones de AWS CDK, desarrolladas por ingenieros de AWS, y proporciona patrones de prácticas recomendadas con opinión por defecto. Estas construcciones de nivel superior reúnen varios recursos y, por lo general, representan arquitecturas de referencia o patrones de diseño para ayudarle a realizar tareas comunes en AWS.\n",
    "\n",
    "La construcción del patrón de AWS CDK para VPC está en el centro con los ingenieros de AWS añadiendo nuevas características. A ambos lados de la construcción del patrón AWS CDK para VPC se encuentran las compañías A y B que reciben correcciones de errores y mejoras de usabilidad también añadidas por los ingenieros de AWS.\n",
    "\n",
    "<br>\n",
    "\n",
    "![Image](https://explore.skillbuilder.aws/files/a/w/aws_prod1_docebosaas_com/1668798000/9f_GkXPBlHtnXJ_bshGRsg/tincan/914789_1658164378_p1g894o0de12q11oomn1h1aeq7kc4_zip/assets/kN0DfN67boa7nI59_7Y9QRQysb7cM3ioa.png)\n",
    "\n",
    "La construcción del patrón de AWS CDK para VPC está en el centro con los ingenieros de AWS añadiendo nuevas características. A ambos lados de la construcción del patrón AWS CDK para VPC se encuentran las compañías A y B que reciben correcciones de errores y mejoras de usabilidad también añadidas por los ingenieros de AWS."
   ]
  },
  {
   "cell_type": "code",
   "execution_count": null,
   "metadata": {
    "vscode": {
     "languageId": "shellscript"
    }
   },
   "outputs": [],
   "source": [
    "      new ecs_patterns.ApplicationLoadBalancedFargateService(this, \"MyFargateService\", {\n",
    "          cluster: cluster,\n",
    "          taskImageOptions: { image: ecs.ContainerImage.fromRegistry(\"amazon/amazon-ecs-sample\") },\n",
    "          publicLoadBalancer: true\n",
    "  });"
   ]
  },
  {
   "cell_type": "markdown",
   "metadata": {},
   "source": [
    "Por ejemplo, la construcción ecs_patterns.ApplicationLoadBalancedFargateService representa una arquitectura que incluye un cluster de contenedores Fargate que emplea un Application Load Balancer.\n",
    "\n",
    "### Construcciones de recursos de AWS\n",
    "\n",
    "Los constructos de recursos de AWS representan los recursos de AWS pero con un nivel superior de propósito. Proporcionan la misma funcionalidad de recursos, pero manejan muchos de los detalles requeridos por las construcciones de recursos de AWS CloudFormation. Las construcciones de recursos de AWS utilizan valores predeterminados establecidos, reduciendo la necesidad de conocer todos los detalles sobre los recursos de AWS que la construcción está representando. Esto proporciona un método conveniente para trabajar con el recurso. "
   ]
  },
  {
   "cell_type": "code",
   "execution_count": null,
   "metadata": {
    "vscode": {
     "languageId": "shellscript"
    }
   },
   "outputs": [],
   "source": [
    "import { App, Stack, StackProps } from 'aws-cdk-lib';\n",
    "import * as s3 from 'aws-cdk-lib/aws-s3';\n",
    "\n",
    "class HelloCdkStack extends Stack {\n",
    "  constructor(scope: App, id: string, props?: StackProps) {\n",
    "    super(scope, id, props);\n",
    "\n",
    "    const bucket = new s3.Bucket(this, 'MyFirstBucket', {\n",
    "        bucketName: 'my-bucket-name-565-998',\n",
    "        publicReadAccess: false,\n",
    "        removalPolicy: cdk.RemovalPolicy.DESTROY,\n",
    "        blockPublicAccess: s3.BlockPublicAccess.BLOCK_ALL\n",
    "    });\n",
    "}"
   ]
  },
  {
   "cell_type": "markdown",
   "metadata": {},
   "source": [
    "Por ejemplo, la clase s3.Bucket representa un cubo de Amazon S3 con propiedades adicionales. En este ejemplo, el nombre del cubo de S3 se especifica como bucketName. Todo el acceso público de lectura a la carpeta está deshabilitado a través de publicReadAccess y blockPublicAccess, y se ha establecido la política de eliminación.\n",
    "\n",
    "**Nota:** removalPolicy para este ejemplo se ha establecido en DESTROY, que es la política de eliminación por defecto."
   ]
  },
  {
   "cell_type": "markdown",
   "metadata": {},
   "source": [
    "### Construcciones de recursos de AWS CloudFormation\n",
    "\n",
    "Las construcciones de recursos de AWS CloudFormation son las construcciones de nivel más bajo (L1). Reflejan los tipos de recursos de AWS CloudFormation y se actualizan con cada versión de AWS CDK. \n",
    "\n",
    "Cuando utiliza recursos de AWS CloudFormation, debe configurar explícitamente las propiedades del recurso. Esto requiere que entienda completamente los detalles del modelo de recursos subyacente. Las construcciones de recursos de AWS CloudFormation se denominan CfnXyz, donde Xyz representa el nombre del recurso.\n",
    "Por ejemplo, s3.CfnBucket representa la construcción de recursos de AWS CloudFormation para un cubo de S3 (AWS::S3::Bucket).\n",
    "\n",
    "### Flujo de trabajo\n",
    "\n",
    "* El flujo de trabajo de desarrollo estándar de AWS CDK es similar al flujo de trabajo común que usted utiliza como desarrollador.\n",
    "\n",
    "* El flujo de trabajo de AWS CDK incluye algunos pasos adicionales para sintetizar su pila en una plantilla de AWS CloudFormation y luego implementarla. \n",
    "\n",
    "<br>\n",
    "\n",
    "![Image](https://explore.skillbuilder.aws/files/a/w/aws_prod1_docebosaas_com/1668798000/9f_GkXPBlHtnXJ_bshGRsg/tincan/914789_1658164378_p1g894o0de12q11oomn1h1aeq7kc4_zip/assets/X-TuPjeoUm0oKqE9_o1GeBcztj7Zu-nXK.png)\n",
    "\n",
    "<br>\n",
    "\n",
    "1. Cree la aplicación a partir de una plantilla proporcionada por AWS CDK.\n",
    "\n",
    "2. Añadir código a la app para crear recursos dentro de la pila.\n",
    "\n",
    "3. Sintetice una o más pilas en la app para crear una plantilla de AWS CloudFormation.\n",
    "\n",
    "4. Implemente una o más pilas en su cuenta de AWS."
   ]
  },
  {
   "cell_type": "markdown",
   "metadata": {},
   "source": [
    "Cada aplicación de AWS CDK está representada por la clase App de AWS CDK. Formadas por una o más pilas, las Apps pueden contener uno o más constructos. El constructo App representa toda la aplicación AWS CDK. Este constructo suele ser la raíz del árbol de constructos."
   ]
  },
  {
   "cell_type": "code",
   "execution_count": null,
   "metadata": {
    "vscode": {
     "languageId": "shellscript"
    }
   },
   "outputs": [],
   "source": [
    "const app = new App();\n",
    "new HelloCdkStack(app, \"HelloCdkStack\");"
   ]
  },
  {
   "cell_type": "markdown",
   "metadata": {},
   "source": [
    "Normalmente, se define una instancia de App en el punto de entrada de su programa y, a continuación, se definen construcciones en las que la app se utiliza como ámbito principal. Puede utilizar la instancia de App para definir una única instancia de su pila."
   ]
  },
  {
   "cell_type": "markdown",
   "metadata": {},
   "source": [
    "### Pilas anidadas\n",
    "\n",
    "AWS CDK obtiene su poder de implementación de AWS CloudFormation. Sin embargo, también está limitado por el límite de recursos de AWS CloudFormation de 200 recursos. Una forma de evitar el límite de recursos es crear una pila anidada.\n",
    "\n",
    "Cada pila anidada puede contener hasta 200 recursos mientras que solo se cuenta como 1 recurso en la pila principal. Durante la síntesis de la aplicación, cada pila anidada se sintetiza en su propia plantilla de AWS CloudFormation. Las pilas anidadas no se tratan como implementaciones independientes y no se pueden implementar o listar individualmente. Sin embargo, las referencias entre las pilas principales y las anidadas se traducen automáticamente en parámetros y salidas de la pila en las plantillas de AWS CloudFormation generadas."
   ]
  }
 ],
 "metadata": {
  "kernelspec": {
   "display_name": "Python 3.9.7 ('base')",
   "language": "python",
   "name": "python3"
  },
  "language_info": {
   "name": "python",
   "version": "3.9.7"
  },
  "orig_nbformat": 4,
  "vscode": {
   "interpreter": {
    "hash": "ad2bdc8ecc057115af97d19610ffacc2b4e99fae6737bb82f5d7fb13d2f2c186"
   }
  }
 },
 "nbformat": 4,
 "nbformat_minor": 2
}
