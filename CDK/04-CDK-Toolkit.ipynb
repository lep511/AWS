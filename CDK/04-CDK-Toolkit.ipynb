{
 "cells": [
  {
   "cell_type": "markdown",
   "metadata": {},
   "source": [
    "# CDK Toolkit\n",
    "\n",
    "El kit de herramientas de AWS CDK es una herramienta de interfaz de línea de comandos utilizada para interactuar con su aplicación. Utilice el kit de herramientas de AWS CDK para:\n",
    "\n",
    "* Crear y ejecutar su aplicación.\n",
    "\n",
    "* Interrogar el modelo de aplicación que ha definido.\n",
    "\n",
    "* Produzca e implemente las plantillas de AWS CloudFormation generadas por el AWS CDK.\n",
    "\n",
    "Para uso general, el comando aws configure es la forma más rápida de configurar su perfil de la CLI de AWS. Cuando ejecuta este comando, la CLI de AWS le solicita su ID de clave de acceso, la clave de acceso secreta, la región de AWS y el formato de salida predeterminado.\n",
    "\n",
    "### Estructura de los comandos de AWS CDK Toolkit\n",
    "\n",
    "Todos los comandos de AWS CDK Toolkit comienzan con cdk seguido de un subcomando. Las opciones y argumentos adicionales pueden seguir al subcomando en cualquier orden.  \n",
    "\n",
    "> cdk init app --language typescript\n",
    "\n",
    "Estructura del comando: cdk inicia el comando, seguido por el subcomando init, y luego --language typescript. Estas tres partes del comando juntas inicializan una aplicación TypeScript AWS CDK. Este comando de ejemplo utiliza la plantilla de aplicación incorporada en el CDK de AWS. Aprenderás más sobre estas plantillas más adelante en esta lección.\n",
    "\n",
    "La implementación de aplicaciones de AWS CDK en su cuenta de AWS puede requerir que aprovisione los recursos que AWS CDK necesita para realizar la implementación. \n",
    "\n",
    "Estos recursos incluyen un bucket de S3 para almacenar funciones de Lambda de gran tamaño u otros activos necesarios y roles de AWS Identity and Access Management (IAM) que conceden los permisos necesarios para realizar las implementaciones.\n",
    "\n",
    "El proceso de aprovisionamiento de estos recursos iniciales se denomina bootstrapping. Sólo es necesario realizar el bootstrap si se está implementando una pila que requiere estos recursos dedicados. El comando cdk bootstrap crea un bucket de Amazon S3 en su región predeterminada, a menos que especifique un perfil que contenga las credenciales o la región necesarias.\n",
    "\n",
    "**Nota:** AWS CDK solo añade objetos al bucket. No elimina objetos del bucket, y no se aplica ninguna política de ciclo de vida por defecto. De vez en cuando, elimine los objetos innecesarios del bucket de S3. No mantener los archivos en el cubo podría suponer cargos adicionales.\n",
    "\n",
    "Al arrancar los recursos, su aplicación puede hacer referencia a los activos en el entorno de AWS en lugar de un entorno de desarrollo local. También puede arrancar un entorno específico. Las credenciales deben configurarse en ~/.aws/credentials para la cuenta y la región especificadas. A continuación, puede especificar un perfil que contenga las credenciales necesarias.\n",
    "\n",
    ">cdk bootstrap # bootstraps cuenta/región por defecto\n",
    "\n",
    ">cdk bootstrap --profile test # bootstraps perfil de prueba cuenta/región\n",
    "\n",
    "Además, el uso de parámetros de línea de comandos con el comando cdk bootstrap ofrece formas de personalizar los recursos de arranque.\n",
    "\n",
    "\n",
    "* --`bootstrap-bucket-name` anula el nombre del bucket de Amazon S3. Puede requerir cambios en su aplicación CDK, consulte \"Sintetizadores de pila\" en la Guía del desarrollador del kit de desarrollo en la nube de AWS.\n",
    "\n",
    "* --`bootstrap-kms-key-id` anula la clave de AWS Key Management Service (AWS KMS) utilizada para cifrar el cubo de S3.\n",
    "\n",
    "* --`tags` añade una o más etiquetas de AWS CloudFormation a los recursos de bootstrap.\n",
    "\n",
    "* --`termination-protection` evita que los recursos bootstrap sean eliminados\n",
    "\n"
   ]
  },
  {
   "cell_type": "markdown",
   "metadata": {},
   "source": [
    "El uso del AWS CDK Toolkit requiere la instalación de AWS CLI y la configuración de un perfil predeterminado con las credenciales de seguridad de su cuenta de AWS (ID de la clave de acceso y clave de acceso secreta).\n",
    "\n",
    "Familiarícese con los siguientes comandos de AWS CDK Toolkit para poder crear e interactuar con las aplicaciones.\n",
    "\n",
    "* `cdk list (ls)` - Enumera las pilas de la aplicación\n",
    "* `cdk synth (synth)` - Genera la plantilla de CloudFormation para la pila\n",
    "* `cdk bootstrap (bootstrap)` - Configura el entorno de despliegue\n",
    "* `cdk deploy (deploy)` - Crea o actualiza la pila\n",
    "* `cdk diff (diff)` - Compara la pila contra la plantilla de CloudFormation\n",
    "* `cdk docs (docs)` - Abre la documentación de la API de CDK en su navegador\n",
    "* `cdk metadata` - Muestra los metadatos de la aplicación\n",
    "* `cdk init (init)` - Crea un nuevo proyecto de CDK\n",
    "* `cdk destroy (destroy)` - Elimina la pila\n",
    "* `cdk context (context)` - Muestra o establece el contexto de la aplicación\n",
    "* `cdk doctor (doctor)` - Verifica que el entorno de CDK esté configurado correctamente\n",
    "* `cdk version (version)` - Muestra la versión de CDK\n",
    "\n"
   ]
  },
  {
   "cell_type": "markdown",
   "metadata": {},
   "source": [
    "### Creación de un nuevo proyecto AWS CDK\n",
    "\n",
    "El proyecto se crea en el directorio actual a partir de una plantilla y un idioma especificados.\n",
    "\n",
    ">cdk init -l typescript\n",
    "\n",
    ">cdk init app --language typescript\n",
    "\n",
    "Hay tres plantillas disponibles en el kit de herramientas de AWS CDK: app, lib y sample-app. App es la plantilla básica para una aplicación de AWS CDK. lib es la plantilla para una biblioteca de construcciones de AWS CDK, y sample-app es una aplicación de AWS CDK de ejemplo con algunas construcciones incorporadas. El AWS CDK por defecto es app si no se especifica ninguna plantilla. Init también requiere que se especifique un lenguaje de código, como C#, F#, Java, JavaScript, Python y TypeScript. Para establecer el lenguaje predeterminado, utilice las opciones de línea de comandos --language o -l.\n",
    "\n",
    "**Nota:** La plantilla lib sólo está disponible para aplicaciones TypeScript.\n",
    "\n",
    "Otras opciones disponibles para el comando cdk init son --list y --generate-only. La opción list responde con una lista de plantillas disponibles. El comando --generate-only, si se establece como verdadero (Predeterminado: falso), sólo genera archivos de proyecto. No ejecuta operaciones adicionales, como configurar un repositorio Git, instalar dependencias o compilar el proyecto."
   ]
  },
  {
   "cell_type": "markdown",
   "metadata": {},
   "source": [
    "###  Sintetizar pilas\n",
    "\n",
    "El comando cdk synth sintetiza una pila definida en su aplicación en una plantilla de AWS CloudFormation. Esta plantilla es necesaria para implementar la pila en los recursos de AWS.\n",
    "\n",
    ">cdk synth # si la aplicación contiene sólo una pila\n",
    "\n",
    ">cdk synth stack1 # Sintetiza sólo la pila seleccionada\n",
    "\n",
    ">cdk synth stack1 stack2 # Sintetiza varias pilas seleccionadas\n",
    "\n",
    ">cdk synth * # todas las pilas de la aplicación\n",
    "\n",
    "El comando cdk synth muestra las plantillas generadas para las pilas especificadas dentro de la terminal. Si su aplicación contiene varias pilas, el uso del comando synth almacena las plantillas en el directorio cdk.out. Ejecute cdk synth --help para ver todas las opciones disponibles en la línea de comandos.\n",
    "\n",
    "**Nota:** El kit de herramientas de AWS CDK ejecuta su aplicación y sintetiza las nuevas plantillas antes de la mayoría de las operaciones (por ejemplo, al implementar o comparar pilas). "
   ]
  },
  {
   "cell_type": "markdown",
   "metadata": {},
   "source": [
    "### Implementación de pilas\n",
    "\n",
    "El comando cdk deploy aprovisiona sus pilas en su cuenta de AWS después de la sintetización exitosa de su aplicación en una plantilla. Este proceso incluye la creación de recursos en la nube, grupos de seguridad y cambios de IAM necesarios para administrar su implementación. \n",
    "\n",
    "El CDK de AWS proporciona opciones adicionales integradas en el comando cdk deploy para ayudarle en sus procesos de canalización de la implementación.\n",
    "\n",
    "Ejemplo:\n",
    "\n",
    ">cdk deploy #deploys stack\n",
    "\n",
    ">cdk deploy stack1 #despliega una sola pila\n",
    "\n",
    ">cdk deploy stack1 stack2 #despliega ambos stack1 y stack2\n",
    "\n",
    ">cdl deploy * #despliega todas las pilas en la carpeta del proyecto.\n",
    "\n",
    "El kit de herramientas de AWS CDK ejecuta tu aplicación y sintetiza plantillas frescas de AWS CloudFormation antes de implementar nada. Por lo tanto, la mayoría de las opciones de línea de comandos que puede utilizar con cdk synth también se pueden utilizar con cdk deploy. Ejecute cdk deploy --help para ver todas las opciones disponibles."
   ]
  },
  {
   "cell_type": "markdown",
   "metadata": {},
   "source": [
    "### Comparación de pilas\n",
    "\n",
    "El comando cdk diff compara una pila definida en su aplicación con la versión actual en desarrollo. \n",
    "\n",
    "Utilice el comando cdk diff también para comparar las pilas actuales desplegadas y las versiones anteriores guardadas. Hay opciones adicionales disponibles para ayudar a determinar las diferencias entre los recursos.\n",
    "\n",
    "Ejemplo:\n",
    "\n",
    ">cdk diff # comparar la(s) pila(s) de su aplicación con el despliegue existente\n",
    "\n",
    ">cdk diff stack1 # comparar la(s) pila(s) de la aplicación especificada con el despliegue existente\n",
    "\n",
    ">cdk diff muestra las diferencias entre las versiones de las pilas\n",
    "\n",
    ">cdk diff muestra las diferencias entre las versiones de la pila\n",
    "\n",
    "La salida de este ejemplo muestra después de ejecutar el comando cdk diff una lista de múltiples adiciones a la VPC, incluyendo subredes privadas y públicas. Estas diferencias sólo tienen efecto cuando se ejecuta el comando cdk deploy. El kit de herramientas de AWS CDK ofrece opciones de línea de comandos adicionales para ayudarle a comparar sus pilas. Ejecute cdk diff --help para ver todas las opciones disponibles."
   ]
  },
  {
   "cell_type": "markdown",
   "metadata": {},
   "source": [
    "### Solución de problemas de la construcción de AWS CDK\n",
    "\n",
    "Utilice el comando cdk doctor para recopilar información que ayude a solucionar problemas con las aplicaciones y pilas de AWS CDK.\n",
    "\n",
    "Ejemplo:\n",
    "\n",
    ">cdk doctor\n",
    "\n",
    "Nota: El comando cdk doctor no incluye opciones."
   ]
  },
  {
   "cell_type": "markdown",
   "metadata": {},
   "source": [
    "### Eliminación de pilas\n",
    "\n",
    "Si ya no utiliza una pila implementada, utilice el comando cdk destroy para eliminar todos los recursos de la pila de su cuenta de AWS.\n",
    "\n",
    "Ejemplo:\n",
    "\n",
    ">cdk destroy # destruye la(s) pila(s) asociada(s) al proyecto\n",
    "\n",
    ">cdk destroy stack stack2 # destruye stack1 y stack2\n",
    "\n",
    ">cdk destroy stack* # destruye todas las pilas en la carpeta del proyecto.  \n",
    "\n",
    "**Nota:** \"/\" también se puede utilizar en lugar de \"*\".\n",
    "\n",
    "Este ejemplo muestra los resultados después de ejecutar el comando cdk destroy. Se eliminan todos los recursos asociados a la pila.\n",
    "\n",
    "**Nota:** A menos que se especifique, AWS CDK solicita la autenticación antes de eliminar cualquier recurso."
   ]
  }
 ],
 "metadata": {
  "kernelspec": {
   "display_name": "Python 3.9.7 ('base')",
   "language": "python",
   "name": "python3"
  },
  "language_info": {
   "name": "python",
   "version": "3.9.7"
  },
  "orig_nbformat": 4,
  "vscode": {
   "interpreter": {
    "hash": "ad2bdc8ecc057115af97d19610ffacc2b4e99fae6737bb82f5d7fb13d2f2c186"
   }
  }
 },
 "nbformat": 4,
 "nbformat_minor": 2
}
