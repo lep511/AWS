{
 "cells": [
  {
   "cell_type": "markdown",
   "metadata": {},
   "source": [
    "# ¿Qué es AWS CDK?\n",
    "\n",
    "* El desarrollo de aplicaciones en la nube es un proceso exigente. Los desarrolladores deben conocer a fondo el proceso de implementación de aplicaciones para garantizar que su aplicación se aprovisiona correctamente en la infraestructura necesaria. \n",
    "\n",
    "* El kit de desarrollo en la nube de AWS (**AWS CDK**) es un marco de desarrollo de software de código abierto para definir la infraestructura de la nube como código. \n",
    "\n",
    "* Mediante AWS CloudFormation, AWS CDK aprovisiona los recursos de la infraestructura de la nube con la ayuda de herramientas de línea de comandos."
   ]
  },
  {
   "cell_type": "markdown",
   "metadata": {},
   "source": [
    "### ¿Qué hace AWS CDK?\n",
    "\n",
    "Compilar su código fuente en un lenguaje ensamblador es un proceso común de desarrollo de código. Piense en AWS CDK como un compilador que compila su código fuente en una plantilla de AWS CloudFormation. \n",
    "\n",
    "Las plantillas de AWS CloudFormation se utilizan para crear la infraestructura de la nube. AWS CDK utiliza entonces las plantillas para crear la infraestructura de la nube. AWS CDK también permite a los desarrolladores utilizar prácticas comunes de desarrollo de código al ofrecer herramientas para comprobar posibles problemas, identificar diferencias de código y arrancar los recursos necesarios para la implementación.\n",
    "<br><br>\n",
    "\n",
    "![Image](https://explore.skillbuilder.aws/files/a/w/aws_prod1_docebosaas_com/1668787200/IMlPC8FanQMrzXjicrMxeQ/tincan/914789_1658164378_p1g894o0de12q11oomn1h1aeq7kc4_zip/assets/Roi43TuNWj6VUFPz_hKhS2tEmTTiYy5l8.png)\n",
    "\n",
    "Este diagrama de ejemplo demuestra la capacidad de AWS CDK para implementar la infraestructura de la nube en la nube de AWS. Un desarrollador interactúa con AWS CDK y sus tres componentes principales (App, Stack y Construct) para sintetizar una plantilla de AWS CloudFormation y luego implementar los recursos de AWS para los usuarios de su organización. En este ejemplo, el desarrollador ha creado una solución bien diseñada que contiene una Amazon Virtual Private Cloud (Amazon VPC), Elastic Load Balancing (ELB) y Amazon Elastic Container Service (Amazon ECS).\n"
   ]
  },
  {
   "cell_type": "markdown",
   "metadata": {},
   "source": [
    "### Marco principal de AWS CDK.\n",
    "\n",
    "Tres componentes básicos conforman el marco central de un proyecto de AWS CDK:\n",
    "\n",
    "* **Constructores** - son los bloques de construcción básicos de las aplicaciones de AWS CDK. Un constructo representa un componente de la nube y encapsula todo lo que AWS CloudFormation necesita para crear el componente. Un constructo puede representar un único recurso en la nube (como una función de AWS Lambda), o puede representar un componente de nivel superior formado por varios recursos de AWS CDK.<br><br> AWS CDK incluye la biblioteca de construcciones de AWS, que contiene construcciones que representan recursos de Amazon Web Services (AWS). Esta biblioteca incluye construcciones que representan todos los recursos disponibles en AWS.\n",
    "\n",
    "* **Stacks** - son una unidad de despliegue en AWS CDK. Todos los recursos de AWS definidos en el ámbito de un stack, directa o indirectamente, se aprovisionan como una sola unidad. Dado que los stacks de AWS CDK se implementan mediante CloudFormation, tienen las mismas limitaciones. Puede definir cualquier número de stacks en una aplicación AWS CDK.\n",
    "\n",
    "* **App** - su aplicación CDK es una app, y está representada por la clase AWS CDK App. Para aprovisionar recursos de infraestructura, todas las construcciones que representan recursos de AWS deben definirse, directa o indirectamente, dentro del ámbito de una construcción de pila."
   ]
  },
  {
   "cell_type": "markdown",
   "metadata": {},
   "source": [
    "### Importancia de AWS CDK para su organización\n",
    "\n",
    "#### Flujo de trabajo\n",
    "\n",
    "* Con AWS CDK, puede utilizar los procesos de revisión de código existentes en su organización para crear una infraestructura en la nube\n",
    "\n",
    "* Reutilice su infraestructura como una biblioteca\n",
    "\n",
    "* Con AWS CDK, puede diseñar sus propios componentes reutilizables que cumplan los requisitos de seguridad, conformidad y gobernanza de su organización. \n",
    "\n",
    "* Puede compartir fácilmente esos componentes en toda su organización. Luego, al estandarizar estos componentes definidos, puede comenzar nuevos proyectos con controles de seguridad, conformidad y gobernanza ya establecidos.\n",
    "\n",
    "#### Ventajas de utilizar AWS CDK\n",
    "\n",
    "Además de incorporar e implementar rápidamente componentes que cumplen con sus requisitos de seguridad, conformidad y gobernanza, AWS CDK ofrece ventajas, entre ellas:\n",
    "\n",
    "\n",
    "* Lograr una implementación más rápida mediante el uso de lenguajes de programación expresivos para definir la infraestructura\n",
    "\n",
    "* Incorporación de características como objetos, bucles y condiciones para mejorar la facilidad con la que puede definir su infraestructura\n",
    "\n",
    "* Permanecer en su entorno de desarrollo integrado (IDE)\n",
    "\n",
    "* Escribir su código de tiempo de ejecución y definir sus recursos de AWS con el mismo lenguaje de programación. AWS CDK admite actualmente TypeScript, JavaScript, Python, Java y C#, el lenguaje principal de .Net, con soporte futuro para otros lenguajes.\n",
    "<br><br>\n",
    "Beneficios adicionales\n",
    "\n",
    "* Utilice la lógica (declaraciones IF, bucles for) al definir su infraestructura.\n",
    "\n",
    "* Utilice técnicas orientadas a objetos para crear un modelo de su sistema.\n",
    "\n",
    "* Defina abstracciones de alto nivel, compártalas y publíquelas en su equipo, empresa o comunidad.\n",
    "\n",
    "* Organice su proyecto en módulos lógicos.\n",
    "\n",
    "* Comparta y reutilice su infraestructura como una biblioteca.\n",
    "\n",
    "* Pruebe el código de su infraestructura utilizando protocolos de estándar abierto.\n",
    "\n",
    "* Utilice su flujo de trabajo de revisión de código existente.\n",
    "\n",
    "* Complete el código dentro de su IDE."
   ]
  },
  {
   "cell_type": "markdown",
   "metadata": {},
   "source": [
    "### Cómo interactúa AWS CDK con los lenguajes de programación admitidos\n",
    "\n",
    "AWS crea la lógica empresarial de los paquetes de la biblioteca AWS Construct en TypeScript y utiliza AWS JSii para proporcionar asignaciones a cada lenguaje de programación compatible.\n",
    "\n",
    "Esta asignación garantiza que el proceso de construcción de AWS CDK sea coherente en todos los lenguajes. De este modo, AWS puede ofrecer un conjunto completo de paquetes de construcción que están disponibles en todos los idiomas. El código que escribe en su proyecto de AWS CDK se construye en el lenguaje de programación que prefiera, y el tiempo de ejecución de JavaScript compilado es una implementación de su código."
   ]
  },
  {
   "cell_type": "markdown",
   "metadata": {},
   "source": [
    "### Demostración de AWS CDK\n",
    "\n",
    "En esta demostración, aprenderá a crear un clúster de Amazon ECS a partir de una imagen en Amazon Elastic Container Registry (Amazon ECR). Utilizará AWS Fargate con un Application Load Balancer orientado a Internet para crear el clúster.\n",
    "\n",
    "#### TypeScript\n",
    "\n",
    "Aunque AWS CDK admite varios lenguajes de cliente, todas las demostraciones y ejemplos incluidos en este curso utilizan TypeScript. TypeScript es un lenguaje cliente totalmente compatible con AWS CDK y se considera estable. Trabajar con AWS CDK en TypeScript significa que puede seguir utilizando herramientas conocidas, como el compilador de Microsoft TypeScript (tsc), Node.js y el administrador de paquetes de Node (npm)\n",
    "\n",
    "#### Kit de herramientas de AWS CDK\n",
    "\n",
    "El kit de herramientas de AWS CDK (comando de la interfaz de línea de comandos (CLI) cdk) es la herramienta principal que se utiliza para interactuar con su aplicación de AWS CDK. Ejecuta su aplicación y produce e implementa las plantillas de AWS CloudFormation que AWS CDK genera.\n",
    "\n",
    "* En una sesión de terminal, ejecute el siguiente comando:\n",
    "\n",
    "    > `npm install -g aws-cdk@1 --force`\n",
    "\n",
    "    > `cdk --version`\n",
    "\n",
    "* En una carpeta vacía inicialice su proyecto AWS CDK ejecutando el comando init en la terminal. Este paso especifica el lenguaje de programación TypeScript. Introduce el siguiente comando en la terminal:\n",
    "\n",
    "    > `cdk init --language typescript`\n",
    "\n",
    "**NOTA:** Con AWS CDK v2 los desarrolladores ya no necesitan instalar paquetes adicionales para los servicios individuales de AWS que utilizan, ya que consolida las partes estables de la biblioteca AWS Construct, incluida la biblioteca principal, en un único paquete aws-cdk-lib. Este enfoque de paquete único también significa que no es necesario sincronizar las versiones de los distintos paquetes de la biblioteca CDK.\n",
    "\n",
    "* En la carpeta abra el archivo `cdk-primer-stack.ts` en el directorio */lib*.\n",
    "\n",
    "* Añade las siguientes importaciones de módulos de Amazon ECS y Amazon EC2 AWS Construct Library al archivo cdk-primer-stack.ts."
   ]
  },
  {
   "cell_type": "code",
   "execution_count": null,
   "metadata": {
    "vscode": {
     "languageId": "shellscript"
    }
   },
   "outputs": [],
   "source": [
    "import * as ec2 from 'aws-cdk-lib/aws-ec2';\n",
    "import * as ecs from 'aws-cdk-lib/aws-ecs';\n",
    "import * as ecs_patterns from 'aws-cdk-lib/aws-ecs-patterns';"
   ]
  },
  {
   "cell_type": "markdown",
   "metadata": {},
   "source": [
    "* Debajo del comentario que indica dónde se incluyen los recursos, añade las siguientes líneas de código al archivo cdk-primer-stack.ts:"
   ]
  },
  {
   "cell_type": "code",
   "execution_count": null,
   "metadata": {
    "vscode": {
     "languageId": "shellscript"
    }
   },
   "outputs": [],
   "source": [
    "    const vpc = new ec2.Vpc(this, \"MyVpc\", {maxAzs: 2});\n",
    "\n",
    "    const cluster = new ecs.Cluster(this, \"MyCluster\", {vpc: vpc});\n",
    "\n",
    "      new ecs_patterns.ApplicationLoadBalancedFargateService(this, \"MyFargateService\", {\n",
    "\n",
    "          cluster: cluster,\n",
    "\n",
    "          taskImageOptions: { image: ecs.ContainerImage.fromRegistry(\"amazon/amazon-ecs-sample\") },\n",
    "\n",
    "          publicLoadBalancer: true\n",
    "\n",
    "  });"
   ]
  },
  {
   "cell_type": "markdown",
   "metadata": {},
   "source": [
    "* Sintetizar el código en una plantilla de AWS CloudFormation utilizando el comando cdk synth. Ejecuta:\n",
    "\n",
    "    > `cdk synth`\n",
    "\n",
    "* Vea la plantilla de AWS CloudFormation sintetizada en la terminal. Las plantillas sintetizadas también pueden localizarse en el directorio cdk.out\n",
    "\n",
    "* Proceso de arranque (*Bootstrapping*): es el proceso de aprovisionamiento de recursos para el CDK de AWS antes de poder implementar las aplicaciones del CDK de AWS en un entorno de AWS. (Un entorno de AWS es una combinación de una cuenta de AWS y una región).\n",
    "\n",
    "    > `cdk bootstrap`\n",
    "\n",
    "* Implemente la pila ejecutando el siguiente comando en la terminal:\n",
    "\n",
    "    > `cdk deploy`\n",
    "\n",
    "La terminal muestra los pasos que AWS CloudFormation utiliza para desplegar su App. Los tiempos de despliegue pueden variar.\n",
    "\n",
    "* Cuando el despliegue se haya completado, en la sección Outputs, pulse Ctrl y haga clic para abrir la URL del balanceador de carga y mostrar la página de la aplicación de muestra.\n",
    "\n",
    "* Inicie sesión en la consola de administración de AWS y busque CloudFormation. Elija CdkPrimerStack y, a continuación, seleccione Recursos para ver los recursos desplegados.\n",
    "\n",
    "* Para evitar cargos inesperados de AWS, elimine la pila AWS CDK recién creada. Para eliminar todos los recursos creados en la pila, ejecute el siguiente comando en el terminal:\n",
    "\n",
    "    > `cdk destroy`"
   ]
  }
 ],
 "metadata": {
  "kernelspec": {
   "display_name": "Python 3.9.7 ('base')",
   "language": "python",
   "name": "python3"
  },
  "language_info": {
   "name": "python",
   "version": "3.9.7"
  },
  "orig_nbformat": 4,
  "vscode": {
   "interpreter": {
    "hash": "ad2bdc8ecc057115af97d19610ffacc2b4e99fae6737bb82f5d7fb13d2f2c186"
   }
  }
 },
 "nbformat": 4,
 "nbformat_minor": 2
}
