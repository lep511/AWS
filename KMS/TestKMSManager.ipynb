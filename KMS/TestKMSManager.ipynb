{
 "cells": [
  {
   "cell_type": "code",
   "execution_count": null,
   "metadata": {},
   "outputs": [],
   "source": [
    "!pip install cryptography"
   ]
  },
  {
   "cell_type": "code",
   "execution_count": 1,
   "metadata": {},
   "outputs": [],
   "source": [
    "import boto3\n",
    "from kmsgm import KMSManager\n",
    "import botocore.exceptions\n",
    "from cryptography.fernet import Fernet\n",
    "import base64\n",
    "\n",
    "s3 = boto3.client('s3')\n",
    "kms_client = boto3.client('kms')\n",
    "kms_manager = KMSManager(kms_client)"
   ]
  },
  {
   "cell_type": "code",
   "execution_count": 2,
   "metadata": {},
   "outputs": [
    {
     "name": "stdout",
     "output_type": "stream",
     "text": [
      "Key 68315a3a-60ce-4afd-a54b-523a90b6fc22 selected.\n",
      "Key 68315a3a-60ce-4afd-a54b-523a90b6fc22 is already Enabled.\n"
     ]
    }
   ],
   "source": [
    "#kms_manager.create_key('alias/my-key')\n",
    "kms_manager.select_key(\"68315a3a-60ce-4afd-a54b-523a90b6fc22\")"
   ]
  },
  {
   "cell_type": "code",
   "execution_count": 3,
   "metadata": {},
   "outputs": [
    {
     "name": "stderr",
     "output_type": "stream",
     "text": [
      "Couldn't create alias alias/cloudtrail-s3-encryption-key. An alias with the name arn:aws:kms:us-east-1:246591893798:alias/cloudtrail-s3-encryption-key already exists\n"
     ]
    }
   ],
   "source": [
    "alias_name = \"alias/cloudtrail-s3-encryption-key\"\n",
    "kms_manager.create_alias(alias_name)"
   ]
  },
  {
   "cell_type": "code",
   "execution_count": 11,
   "metadata": {},
   "outputs": [
    {
     "name": "stdout",
     "output_type": "stream",
     "text": [
      "Got key 68315a3a-60ce-4afd-a54b-523a90b6fc22:\n",
      "{'AWSAccountId': '246591893798',\n",
      " 'Arn': 'arn:aws:kms:us-east-1:246591893798:key/68315a3a-60ce-4afd-a54b-523a90b6fc22',\n",
      " 'CreationDate': datetime.datetime(2024, 4, 3, 17, 54, 27, 576000, tzinfo=tzlocal()),\n",
      " 'CustomerMasterKeySpec': 'SYMMETRIC_DEFAULT',\n",
      " 'Description': '',\n",
      " 'Enabled': True,\n",
      " 'EncryptionAlgorithms': ['SYMMETRIC_DEFAULT'],\n",
      " 'KeyId': '68315a3a-60ce-4afd-a54b-523a90b6fc22',\n",
      " 'KeyManager': 'CUSTOMER',\n",
      " 'KeySpec': 'SYMMETRIC_DEFAULT',\n",
      " 'KeyState': 'Enabled',\n",
      " 'KeyUsage': 'ENCRYPT_DECRYPT',\n",
      " 'MultiRegion': False,\n",
      " 'Origin': 'AWS_KMS'}\n"
     ]
    }
   ],
   "source": [
    "kms_manager.describe_key()"
   ]
  },
  {
   "cell_type": "code",
   "execution_count": 5,
   "metadata": {},
   "outputs": [
    {
     "name": "stdout",
     "output_type": "stream",
     "text": [
      "Key 68315a3a-60ce-4afd-a54b-523a90b6fc22 is already Enabled.\n"
     ]
    }
   ],
   "source": [
    "kms_manager.actual_state = \"Enabled\""
   ]
  },
  {
   "cell_type": "code",
   "execution_count": 6,
   "metadata": {},
   "outputs": [
    {
     "data": {
      "text/plain": [
       "'Enabled'"
      ]
     },
     "execution_count": 6,
     "metadata": {},
     "output_type": "execute_result"
    }
   ],
   "source": [
    "kms_manager.actual_state"
   ]
  },
  {
   "cell_type": "code",
   "execution_count": 6,
   "metadata": {},
   "outputs": [
    {
     "name": "stdout",
     "output_type": "stream",
     "text": [
      "b'\\x01\\x02\\x02\\x00xM\\xa3\\xe9\\xbf\\x81\\xc6Y\\xda\\x95U\\x06\\xe1\\x1714\\x80m\\xac\\x16\\xa4\\x9f\\xa8\\xd7\\x8b\\xeeOd\\xcc\\xe6\\x1d\\xcf\\x87\\x01zN\\xf2\\x85\\xd0\\xfc\\xf3Qy\\x1eL\\x1e\\xf6\\xd8\\xf8x\\x00\\x00\\x00i0g\\x06\\t*\\x86H\\x86\\xf7\\r\\x01\\x07\\x06\\xa0Z0X\\x02\\x01\\x000S\\x06\\t*\\x86H\\x86\\xf7\\r\\x01\\x07\\x010\\x1e\\x06\\t`\\x86H\\x01e\\x03\\x04\\x01.0\\x11\\x04\\x0cL\\x1fp\\xb3\\xbdP\\x91\\xb5@4\\x13\\xcd\\x02\\x01\\x10\\x80&\\xa0\\xdf\\x1ck\\x91\\x9c\\x94\\xed\"3h\\xaa\\x90\\xfdL\\x05V?Ae\\xc5\\x11\\xd8\\xb4\\xf9\\x93\\xa7+\\xc4,\\x18Ff\\xaeP\\x81I7'\n"
     ]
    }
   ],
   "source": [
    "encrpyt_text = kms_manager.encrypt(\"Hello World\")\n",
    "print(encrpyt_text)"
   ]
  },
  {
   "cell_type": "code",
   "execution_count": 7,
   "metadata": {},
   "outputs": [
    {
     "name": "stdout",
     "output_type": "stream",
     "text": [
      "Hello World\n"
     ]
    }
   ],
   "source": [
    "decrypt_text = kms_manager.decrypt(encrpyt_text)\n",
    "print(decrypt_text)\t"
   ]
  },
  {
   "cell_type": "markdown",
   "metadata": {},
   "source": [
    "### Cifrar y descifrar un archivo\n",
    "El programa de ejemplo utiliza claves AWS KMS para cifrar y descifrar un archivo.\n",
    "\n",
    "Se crea una clave maestra, también denominada clave maestra de cliente o CMK, que se utiliza para generar una clave de datos. A continuación, la clave de datos se utiliza para cifrar un archivo de disco. La clave de datos cifrada se almacena dentro del archivo cifrado. Para descifrar el archivo, se descifra la clave de datos y luego se utiliza para descifrar el resto del archivo. Esta forma de utilizar las claves maestra y de datos se denomina cifrado envolvente.\n",
    "\n",
    "Para cifrar y descifrar datos, el ejemplo utiliza el conocido paquete de criptografía de Python. Este paquete no forma parte de la biblioteca estándar de Python y debe instalarse por separado, por ejemplo, con el comando pip.\n",
    "\n",
    "Las claves maestras se crean, administran y almacenan en AWS KMS. Una clave maestra de KMS también se denomina clave maestra de cliente o CMK. Se incurre en un costo de almacenamiento de AWS por cada CMK, por lo tanto, a menudo se utiliza una CMK para administrar varias claves de datos.\n",
    "\n",
    "La función retrieve_cmk de ejemplo busca una CMK existente. Se especifica una descripción de clave cuando se crea una CMK, y esta descripción se utiliza para identificar y recuperar la clave deseada. Si existen muchas CMK, se procesan por lotes hasta que se encuentra la clave deseada o se examinan todas las claves.\n",
    "\n",
    "Si la función de ejemplo encuentra la CMK deseada, devuelve tanto el ID de la CMK como su ARN (Amazon Resource Name). Cualquiera de estos identificadores se puede utilizar para hacer referencia a la CMK en llamadas posteriores a los métodos de AWS KMS."
   ]
  },
  {
   "cell_type": "code",
   "execution_count": 104,
   "metadata": {},
   "outputs": [],
   "source": [
    "def retrieve_cmk(description):\n",
    "    \"\"\"Retrieve an existing KMS CMK based on its description\n",
    "\n",
    "    :param description: Description of CMK specified when the CMK was created\n",
    "    :return Tuple(KeyId, KeyArn) where:\n",
    "        KeyId: CMK ID\n",
    "        KeyArn: Amazon Resource Name of CMK\n",
    "    :return Tuple(None, None) if a CMK with the specified description was\n",
    "    not found\n",
    "    \"\"\"\n",
    "\n",
    "    # Retrieve a list of existing CMKs\n",
    "    # If more than 100 keys exist, retrieve and process them in batches\n",
    "    try:\n",
    "        response = kms_client.list_keys()\n",
    "    except ClientError as e:\n",
    "        print(e)\n",
    "        return None, None\n",
    "\n",
    "    done = False\n",
    "    while not done:\n",
    "        for cmk in response['Keys']:\n",
    "            # Get info about the key, including its description\n",
    "            try:\n",
    "                key_info = kms_client.describe_key(KeyId=cmk['KeyArn'])\n",
    "            except ClientError as e:\n",
    "                print(e)\n",
    "                return None, None\n",
    "\n",
    "            # Is this the key we're looking for?\n",
    "            if key_info['KeyMetadata']['Description'] == description:\n",
    "                return cmk['KeyId'], cmk['KeyArn']\n",
    "\n",
    "        # Are there more keys to retrieve?\n",
    "        if not response['Truncated']:\n",
    "            # No, the CMK was not found\n",
    "            print('A CMK with the specified description was not found')\n",
    "            done = True\n",
    "        else:\n",
    "            # Yes, retrieve another batch\n",
    "            try:\n",
    "                response = kms_client.list_keys(Marker=response['NextMarker'])\n",
    "            except ClientError as e:\n",
    "                print(e)\n",
    "                return None, None\n",
    "\n",
    "    # All existing CMKs were checked and the desired key was not found\n",
    "    return None, None"
   ]
  },
  {
   "cell_type": "code",
   "execution_count": 105,
   "metadata": {},
   "outputs": [
    {
     "name": "stdout",
     "output_type": "stream",
     "text": [
      "68315a3a-60ce-4afd-a54b-523a90b6fc22 | arn:aws:kms:us-east-1:246591893798:key/68315a3a-60ce-4afd-a54b-523a90b6fc22\n"
     ]
    }
   ],
   "source": [
    "cmk_id, cmk_arn = retrieve_cmk(\"My Customer Master Key\")\n",
    "print(cmk_id, \"|\", cmk_arn)"
   ]
  },
  {
   "cell_type": "markdown",
   "metadata": {},
   "source": [
    "#### Create a data key\n",
    "Para cifrar un archivo, la función de ejemplo create_data_key crea una clave de datos. La clave de datos es administrada por el cliente y no incurre en un costo de almacenamiento de AWS. El ejemplo crea una clave de datos para cada archivo que cifra, pero es posible utilizar una única clave de datos para cifrar varios archivos.\n",
    "\n",
    "La función de ejemplo devuelve la clave de datos en forma de texto sin formato y cifrada. La forma de texto plano se utiliza para cifrar los datos. La forma cifrada se almacenará con el archivo cifrado. La clave de datos se asocia a una CMK capaz de descifrar la clave de datos cifrada cuando sea necesario."
   ]
  },
  {
   "cell_type": "code",
   "execution_count": 102,
   "metadata": {},
   "outputs": [],
   "source": [
    "def create_data_key(cmk_id, key_spec='AES_256'):\n",
    "    \"\"\"Generate a data key to use when encrypting and decrypting data\n",
    "\n",
    "    :param cmk_id: KMS CMK ID or ARN under which to generate and encrypt the\n",
    "    data key.\n",
    "    :param key_spec: Length of the data encryption key. Supported values:\n",
    "        'AES_128': Generate a 128-bit symmetric key\n",
    "        'AES_256': Generate a 256-bit symmetric key\n",
    "    :return Tuple(EncryptedDataKey, PlaintextDataKey) where:\n",
    "        EncryptedDataKey: Encrypted CiphertextBlob data key as binary string\n",
    "        PlaintextDataKey: Plaintext base64-encoded data key as binary string\n",
    "    :return Tuple(None, None) if error\n",
    "    \"\"\"\n",
    "\n",
    "    try:\n",
    "        response = kms_client.generate_data_key(KeyId=cmk_id, KeySpec=key_spec)\n",
    "    except ClientError as e:\n",
    "        print(e)\n",
    "        return None, None\n",
    "\n",
    "    # Return the encrypted and plaintext data key\n",
    "    return response['CiphertextBlob'], base64.b64encode(response['Plaintext'])"
   ]
  },
  {
   "cell_type": "code",
   "execution_count": 103,
   "metadata": {},
   "outputs": [],
   "source": [
    "def encrypt_file(filename, cmk_id):\n",
    "    \"\"\"Encrypt a file using an AWS KMS CMK\n",
    "\n",
    "    A data key is generated and associated with the CMK.\n",
    "    The encrypted data key is saved with the encrypted file. This enables the\n",
    "    file to be decrypted at any time in the future and by any program that\n",
    "    has the credentials to decrypt the data key.\n",
    "    The encrypted file is saved to <filename>.encrypted\n",
    "    Limitation: The contents of filename must fit in memory.\n",
    "\n",
    "    :param filename: File to encrypt\n",
    "    :param cmk_id: AWS KMS CMK ID or ARN\n",
    "    :return: True if file was encrypted. Otherwise, False.\n",
    "    \"\"\"\n",
    "    NUM_BYTES_FOR_LEN = 4\n",
    "    \n",
    "    # Read the entire file into memory\n",
    "    try:\n",
    "        with open(filename, 'rb') as file:\n",
    "            file_contents = file.read()\n",
    "    except IOError as e:\n",
    "        print(e)\n",
    "        return False\n",
    "\n",
    "    # Generate a data key associated with the CMK\n",
    "    # The data key is used to encrypt the file. Each file can use its own\n",
    "    # data key or data keys can be shared among files.\n",
    "    # Specify either the CMK ID or ARN\n",
    "    data_key_encrypted, data_key_plaintext = create_data_key(cmk_id)\n",
    "    if data_key_encrypted is None:\n",
    "        return False\n",
    "\n",
    "    # Encrypt the file\n",
    "    f = Fernet(data_key_plaintext)\n",
    "    file_contents_encrypted = f.encrypt(file_contents)\n",
    "\n",
    "    # Write the encrypted data key and encrypted file contents together\n",
    "    try:\n",
    "        with open(filename + '.encrypted', 'wb') as file_encrypted:\n",
    "            file_encrypted.write(len(data_key_encrypted).to_bytes(NUM_BYTES_FOR_LEN,\n",
    "                                                                  byteorder='big'))\n",
    "            file_encrypted.write(data_key_encrypted)\n",
    "            file_encrypted.write(file_contents_encrypted)\n",
    "    except IOError as e:\n",
    "        print(e)\n",
    "        return False\n",
    "\n",
    "    # For the highest security, the data_key_plaintext value should be wiped\n",
    "    # from memory. Unfortunately, this is not possible in Python. However,\n",
    "    # storing the value in a local variable makes it available for garbage\n",
    "    # collection.\n",
    "    return True"
   ]
  },
  {
   "cell_type": "code",
   "execution_count": 25,
   "metadata": {},
   "outputs": [
    {
     "name": "stdout",
     "output_type": "stream",
     "text": [
      "Created new AWS KMS data key\n",
      "File encrypted successfully\n"
     ]
    }
   ],
   "source": [
    "kms_arn = \"arn:aws:kms:us-east-1:246591893798:key/68315a3a-60ce-4afd-a54b-523a90b6fc22\"\n",
    "if encrypt_file(file_name, kms_arn):\n",
    "    print(\"File encrypted successfully\")\n",
    "else:\n",
    "    print(\"File encryption failed\")"
   ]
  },
  {
   "cell_type": "code",
   "execution_count": 30,
   "metadata": {},
   "outputs": [],
   "source": [
    "def decrypt_data_key(data_key_encrypted):\n",
    "    \"\"\"Decrypt an encrypted data key\n",
    "\n",
    "    :param data_key_encrypted: Encrypted ciphertext data key.\n",
    "    :return Plaintext base64-encoded binary data key as binary string\n",
    "    :return None if error\n",
    "    \"\"\"\n",
    "\n",
    "    # Decrypt the data key\n",
    "    kms_client = boto3.client('kms')\n",
    "    try:\n",
    "        response = kms_client.decrypt(CiphertextBlob=data_key_encrypted)\n",
    "    except ClientError as e:\n",
    "        print(e)\n",
    "        return None\n",
    "\n",
    "    # Return plaintext base64-encoded binary data key\n",
    "    return base64.b64encode((response['Plaintext']))"
   ]
  },
  {
   "cell_type": "code",
   "execution_count": 106,
   "metadata": {},
   "outputs": [],
   "source": [
    "def decrypt_file(filename, original_name=False):\n",
    "    \"\"\"Decrypt a file encrypted by encrypt_file()\n",
    "\n",
    "    The encrypted file is read from <filename>.encrypted\n",
    "    The decrypted file is written to <filename>.decrypted\n",
    "\n",
    "    :param filename: File to decrypt\n",
    "    :return: True if file was decrypted. Otherwise, False.\n",
    "    \"\"\"\n",
    "    NUM_BYTES_FOR_LEN = 4\n",
    "    \n",
    "    # Read the encrypted file into memory\n",
    "    try:\n",
    "        with open(filename, 'rb') as file:\n",
    "            file_contents = file.read()\n",
    "    except IOError as e:\n",
    "        print(e)\n",
    "        return False\n",
    "\n",
    "    # The first NUM_BYTES_FOR_LEN bytes contain the integer length of the\n",
    "    # encrypted data key.\n",
    "    # Add NUM_BYTES_FOR_LEN to get index of end of encrypted data key/start\n",
    "    # of encrypted data.\n",
    "    data_key_encrypted_len = int.from_bytes(file_contents[:NUM_BYTES_FOR_LEN],\n",
    "                                            byteorder='big') \\\n",
    "                             + NUM_BYTES_FOR_LEN\n",
    "    data_key_encrypted = file_contents[NUM_BYTES_FOR_LEN:data_key_encrypted_len]\n",
    "\n",
    "    # Decrypt the data key before using it\n",
    "    data_key_plaintext = decrypt_data_key(data_key_encrypted)\n",
    "    if data_key_plaintext is None:\n",
    "        return False\n",
    "\n",
    "    # Decrypt the rest of the file\n",
    "    f = Fernet(data_key_plaintext)\n",
    "    file_contents_decrypted = f.decrypt(file_contents[data_key_encrypted_len:])\n",
    "\n",
    "    # Write the decrypted file contents\n",
    "    try:\n",
    "        if original_name:\n",
    "            filename = original_name\n",
    "        else:\n",
    "            filename += '.decrypted'\n",
    "        with open(filename, 'wb') as file_decrypted:\n",
    "            file_decrypted.write(file_contents_decrypted)\n",
    "    except IOError as e:\n",
    "        print(e)\n",
    "        return False\n",
    "\n",
    "    # The same security issue described at the end of encrypt_file() exists\n",
    "    # here, too, i.e., the wish to wipe the data_key_plaintext value from\n",
    "    # memory.\n",
    "    return filename"
   ]
  },
  {
   "cell_type": "code",
   "execution_count": 45,
   "metadata": {},
   "outputs": [
    {
     "name": "stdout",
     "output_type": "stream",
     "text": [
      "File decrypted successfully\n"
     ]
    }
   ],
   "source": [
    "if decrypt_file(\"sample_file.pdf.encrypted\", \"sample_file_decrypted.pdf\"):\n",
    "    print(\"File decrypted successfully\")\n",
    "else:\n",
    "    print(\"Failed to decrypt file\")"
   ]
  },
  {
   "cell_type": "markdown",
   "metadata": {},
   "source": [
    "### Upload a file to S3\n",
    "\n",
    "El cifrado predeterminado del bucket no anula la configuración de cifrado especificada en la carga de un nuevo objeto. Por ejemplo, si especifica el cifrado AES256 en su solicitud PutObject a un bucket con un cifrado SSE-KMS predeterminado, S3 respetará su solicitud y establecerá el cifrado SSE-S3. Le recomendamos que configure el cifrado predeterminado del bucket para imponer su esquema de cifrado en todas las cargas.\n",
    "\n",
    "Para realizar esto es necesario añadir una declaración a la política del bucket que impondrá el tipo de cifrado. Si copias y pegas la plantilla de abajo, asegúrate de especificar el ACCOUNT_NUMBER en el documento de política JSON de abajo. Recuerde que aplicamos las políticas de cabecera de cifrado al contenido del bucket, no al bucket en sí mismo,-- incluya \"/*\" al final del ARN del bucket."
   ]
  },
  {
   "cell_type": "code",
   "execution_count": 7,
   "metadata": {},
   "outputs": [],
   "source": [
    "policy_s3 = {\n",
    "    \"Sid\": \"DenyIncorrectEncryptionHeader\",\n",
    "    \"Effect\": \"Deny\",\n",
    "    \"Principal\": \"*\",\n",
    "    \"Action\": \"s3:PutObject\",\n",
    "    \"Resource\": \"arn:aws:s3:::workshop-kms-s3-cloudtrail-<ACCOUNT_NUMBER>/*\",\n",
    "    \"Condition\": {\n",
    "        \"StringNotEquals\": {\n",
    "            \"s3:x-amz-server-side-encryption\": \"aws:kms\"\n",
    "        }\n",
    "    }\n",
    "}"
   ]
  },
  {
   "cell_type": "code",
   "execution_count": 17,
   "metadata": {},
   "outputs": [
    {
     "data": {
      "text/plain": [
       "'65573931636c397a64484a70626d633d'"
      ]
     },
     "execution_count": 17,
     "metadata": {},
     "output_type": "execute_result"
    }
   ],
   "source": [
    "context = base64.b64encode(bytes('your_string', 'utf-8'))\n",
    "context.hex()"
   ]
  },
  {
   "cell_type": "code",
   "execution_count": 22,
   "metadata": {},
   "outputs": [],
   "source": [
    "file_name = \"sample_file.pdf.encrypted\"\n",
    "bucket_name = \"workshop-kms-s3-cloudtrail-246591893798\"\n",
    "objectkey = \"sample_file_new.pdf.encrypted\"\n",
    "\n",
    "s3.upload_file(\n",
    "    Filename=file_name, \n",
    "    Bucket=bucket_name, \n",
    "    Key=objectkey, \n",
    "    ExtraArgs={\n",
    "        \"ServerSideEncryption\": \"aws:kms\", \n",
    "        \"SSEKMSKeyId\": cmk_id\n",
    "    }\n",
    ")"
   ]
  }
 ],
 "metadata": {
  "kernelspec": {
   "display_name": "personal",
   "language": "python",
   "name": "python3"
  },
  "language_info": {
   "codemirror_mode": {
    "name": "ipython",
    "version": 3
   },
   "file_extension": ".py",
   "mimetype": "text/x-python",
   "name": "python",
   "nbconvert_exporter": "python",
   "pygments_lexer": "ipython3",
   "version": "3.12.2"
  }
 },
 "nbformat": 4,
 "nbformat_minor": 2
}
