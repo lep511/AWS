{
 "cells": [
  {
   "cell_type": "code",
   "execution_count": 1,
   "metadata": {},
   "outputs": [],
   "source": [
    "import boto3\n",
    "from kmsgm import KMSManager\n",
    "\n",
    "kms_client = boto3.client('kms')\n",
    "kms_manager = KMSManager(kms_client)"
   ]
  },
  {
   "cell_type": "code",
   "execution_count": 2,
   "metadata": {},
   "outputs": [
    {
     "name": "stdout",
     "output_type": "stream",
     "text": [
      "Key f5d74a0b-31b8-418e-b50e-d3a99c608f54 selected.\n",
      "Key f5d74a0b-31b8-418e-b50e-d3a99c608f54 is already Disabled.\n"
     ]
    }
   ],
   "source": [
    "#kms_manager.create_key('alias/my-key')\n",
    "kms_manager.select_key(\"f5d74a0b-31b8-418e-b50e-d3a99c608f54\")"
   ]
  },
  {
   "cell_type": "code",
   "execution_count": 3,
   "metadata": {},
   "outputs": [
    {
     "name": "stdout",
     "output_type": "stream",
     "text": [
      "Created alias alias/my-key for key f5d74a0b-31b8-418e-b50e-d3a99c608f54.\n"
     ]
    }
   ],
   "source": [
    "kms_manager.create_alias(\"alias/my-key\")"
   ]
  },
  {
   "cell_type": "code",
   "execution_count": 4,
   "metadata": {},
   "outputs": [
    {
     "name": "stdout",
     "output_type": "stream",
     "text": [
      "Got key f5d74a0b-31b8-418e-b50e-d3a99c608f54:\n",
      "{'AWSAccountId': '089715336747',\n",
      " 'Arn': 'arn:aws:kms:us-east-1:089715336747:key/f5d74a0b-31b8-418e-b50e-d3a99c608f54',\n",
      " 'CreationDate': datetime.datetime(2024, 3, 5, 16, 4, 13, 685000, tzinfo=tzlocal()),\n",
      " 'CustomerMasterKeySpec': 'SYMMETRIC_DEFAULT',\n",
      " 'Description': 'alias/my-key',\n",
      " 'Enabled': True,\n",
      " 'EncryptionAlgorithms': ['SYMMETRIC_DEFAULT'],\n",
      " 'KeyId': 'f5d74a0b-31b8-418e-b50e-d3a99c608f54',\n",
      " 'KeyManager': 'CUSTOMER',\n",
      " 'KeySpec': 'SYMMETRIC_DEFAULT',\n",
      " 'KeyState': 'Enabled',\n",
      " 'KeyUsage': 'ENCRYPT_DECRYPT',\n",
      " 'MultiRegion': False,\n",
      " 'Origin': 'AWS_KMS'}\n"
     ]
    }
   ],
   "source": [
    "kms_manager.describe_key()"
   ]
  },
  {
   "cell_type": "code",
   "execution_count": 4,
   "metadata": {},
   "outputs": [
    {
     "name": "stdout",
     "output_type": "stream",
     "text": [
      "Key f5d74a0b-31b8-418e-b50e-d3a99c608f54 set to Enabled.\n"
     ]
    }
   ],
   "source": [
    "kms_manager.actual_state = \"Enabled\""
   ]
  },
  {
   "cell_type": "code",
   "execution_count": 5,
   "metadata": {},
   "outputs": [
    {
     "data": {
      "text/plain": [
       "'Enabled'"
      ]
     },
     "execution_count": 5,
     "metadata": {},
     "output_type": "execute_result"
    }
   ],
   "source": [
    "kms_manager.actual_state"
   ]
  },
  {
   "cell_type": "code",
   "execution_count": 8,
   "metadata": {},
   "outputs": [
    {
     "name": "stdout",
     "output_type": "stream",
     "text": [
      "b'\\x01\\x02\\x02\\x00xN;\\x98\\xe5$C\\xd2\\xb12Z\\xb2\\xcf\\xeb\\xcf\\xc1\\xf3\\xdc\\x0c\\xeb\\xea^\\xdbq6\\x84^\\xbc\\xe7\\x93\\xe7>\\x1e\\x01\\x96\\xc9Kw\\xb1\\xdf\\xa8\\x93u\\xfat\\x9e\\xda\\xd1\\x9b\\xd3\\x00\\x00\\x00i0g\\x06\\t*\\x86H\\x86\\xf7\\r\\x01\\x07\\x06\\xa0Z0X\\x02\\x01\\x000S\\x06\\t*\\x86H\\x86\\xf7\\r\\x01\\x07\\x010\\x1e\\x06\\t`\\x86H\\x01e\\x03\\x04\\x01.0\\x11\\x04\\x0c\\xb526#\\x02\\x86H\\xea\\xce?\\xd4;\\x02\\x01\\x10\\x80&\\xc9\\xc1O\\xa9\\t([r\\xfa\\xf8\\x13\\x89\\xc5\\xc8!\\xf2\\x97\\xc0\\xeaj$\\x94~\\xd5\\xf3\\rB\\x1csb\".\\x81\\xe2\\x8b\\xb5\\xcc\\x88'\n"
     ]
    }
   ],
   "source": [
    "encrpyt_text = kms_manager.encrypt(\"Hello World\")\n",
    "print(encrpyt_text)"
   ]
  },
  {
   "cell_type": "code",
   "execution_count": 9,
   "metadata": {},
   "outputs": [
    {
     "name": "stdout",
     "output_type": "stream",
     "text": [
      "Hello World\n"
     ]
    }
   ],
   "source": [
    "decrypt_text = kms_manager.decrypt(encrpyt_text)\n",
    "print(decrypt_text)\t"
   ]
  }
 ],
 "metadata": {
  "kernelspec": {
   "display_name": "personal",
   "language": "python",
   "name": "python3"
  },
  "language_info": {
   "codemirror_mode": {
    "name": "ipython",
    "version": 3
   },
   "file_extension": ".py",
   "mimetype": "text/x-python",
   "name": "python",
   "nbconvert_exporter": "python",
   "pygments_lexer": "ipython3",
   "version": "3.11.3"
  }
 },
 "nbformat": 4,
 "nbformat_minor": 2
}
