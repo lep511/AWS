{
 "cells": [
  {
   "cell_type": "code",
   "execution_count": 5,
   "id": "b1df3ca3-2b40-4014-9d48-ec0241034d4a",
   "metadata": {},
   "outputs": [],
   "source": [
    "import os\n",
    "import boto3\n",
    "from zipfile import ZipFile"
   ]
  },
  {
   "cell_type": "code",
   "execution_count": 1,
   "id": "e278150c-9727-4359-b034-aca1cf7bb837",
   "metadata": {},
   "outputs": [],
   "source": [
    "lambda_name = \"Test\"\n",
    "file_lambda = \"test.zip\"\n",
    "lambda_py = lambda_name + \".py\""
   ]
  },
  {
   "cell_type": "code",
   "execution_count": 3,
   "id": "33a9259c-1f24-456d-bccd-12e30a33524c",
   "metadata": {},
   "outputs": [
    {
     "name": "stdout",
     "output_type": "stream",
     "text": [
      "Writing lambda_py\n"
     ]
    }
   ],
   "source": [
    "%%writefile lambda_py\n",
    "import json\n",
    "import pandas\n",
    "\n",
    "def lambda_handler(event, context):\n",
    "    return {\n",
    "        'statusCode': 200,\n",
    "        'body': json.dumps('Pandas was succesfully imported good job!')"
   ]
  },
  {
   "cell_type": "code",
   "execution_count": 6,
   "id": "e889a432-fa3d-4885-8370-b92950674fbe",
   "metadata": {},
   "outputs": [],
   "source": [
    "os.rename(\"lambda_py\", lambda_py)\n",
    "with ZipFile(file_lambda, 'w') as myzip:\n",
    "    myzip.write(lambda_py)"
   ]
  },
  {
   "cell_type": "code",
   "execution_count": null,
   "id": "f6abf9dc-1ca0-40e5-80c6-12789900ac9d",
   "metadata": {},
   "outputs": [],
   "source": []
  }
 ],
 "metadata": {
  "kernelspec": {
   "display_name": "default:Python",
   "language": "python",
   "name": "conda-env-default-py"
  },
  "language_info": {
   "codemirror_mode": {
    "name": "ipython",
    "version": 3
   },
   "file_extension": ".py",
   "mimetype": "text/x-python",
   "name": "python",
   "nbconvert_exporter": "python",
   "pygments_lexer": "ipython3",
   "version": "3.9.10"
  }
 },
 "nbformat": 4,
 "nbformat_minor": 5
}
