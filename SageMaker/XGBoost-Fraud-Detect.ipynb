{
 "cells": [
  {
   "cell_type": "markdown",
   "id": "2905a583-306c-456b-b838-95e9f69c66c8",
   "metadata": {},
   "source": [
    "## Implementación de un modelo de machine learning en un punto de conexión de inferencia en tiempo real\n",
    "\n",
    "https://aws.amazon.com/es/getting-started/hands-on/machine-learning-tutorial-deploy-model-to-real-time-inference-endpoint/\n",
    "\n",
    "Información general\n",
    "En este tutorial, aprenderá a implementar un modelo de machine learning (ML) entrenado en un punto de conexión de inferencia en tiempo real mediante Amazon SageMaker Studio.\n",
    "\n",
    "SageMaker Studio es un entorno de desarrollo integrado (IDE) para ML que proporciona una interfaz de cuaderno de Jupyter totalmente administrada en la que puede realizar tareas de ciclo de vida de ML de extremo a extremo, incluida la implementación de modelos. \n",
    "SageMaker ofrece diferentes opciones de inferencia para admitir una amplia gama de casos de uso:\n",
    "\n",
    "Inferencia en tiempo real de SageMaker para cargas de trabajo con requisitos de baja latencia del orden de milisegundos.\n",
    "Inferencia sin servidor de SageMaker para cargas de trabajo con patrones de tráfico intermitentes o poco frecuentes.\n",
    "Inferencia asíncrona de SageMaker para inferencias con grandes tamaños de carga o que requieren largos periodos de procesamiento.\n",
    "Transformación por lotes de SageMaker para ejecutar predicciones en lotes de datos.\n",
    "En este tutorial, utilizará la opción Inferencia en tiempo real para implementar un modelo XGBoost de clasificación binaria que ya se ha entrenado en un conjunto de datos sintético de reclamaciones de seguros de automóviles. El conjunto de datos consta de detalles y características extraídas de tablas de reclamaciones y clientes junto con una columna de fraude que indica si una reclamación fue fraudulento o no. El modelo predice la probabilidad de que una reclamación sea fraudulenta. Desempeñará el papel de un ingeniero de machine learning para implementar este modelo y ejecutar inferencias de muestra."
   ]
  },
  {
   "cell_type": "code",
   "execution_count": 3,
   "id": "2ff8055c-ece7-4422-a198-3be567d16dfa",
   "metadata": {
    "tags": []
   },
   "outputs": [
    {
     "name": "stdout",
     "output_type": "stream",
     "text": [
      "\u001b[33mWARNING: Running pip as the 'root' user can result in broken permissions and conflicting behaviour with the system package manager. It is recommended to use a virtual environment instead: https://pip.pypa.io/warnings/venv\u001b[0m\u001b[33m\n",
      "\u001b[0m"
     ]
    }
   ],
   "source": [
    "!pip install --upgrade -q scipy"
   ]
  },
  {
   "cell_type": "code",
   "execution_count": 4,
   "id": "932632e5-8de3-47b7-b79b-4e9345a996ac",
   "metadata": {
    "tags": []
   },
   "outputs": [],
   "source": [
    "import pandas as pd\n",
    "import numpy as np\n",
    "import boto3\n",
    "import sagemaker\n",
    "import time\n",
    "import json\n",
    "import io\n",
    "from io import StringIO\n",
    "import base64\n",
    "import pprint\n",
    "import re\n",
    "\n",
    "from sagemaker.image_uris import retrieve"
   ]
  },
  {
   "cell_type": "code",
   "execution_count": 5,
   "id": "51b6a1a3-c6b9-47fb-894c-d70738ed7f25",
   "metadata": {
    "tags": []
   },
   "outputs": [],
   "source": [
    "sess = sagemaker.Session()\n",
    "write_bucket = sess.default_bucket()\n",
    "write_prefix = \"fraud-detect-demo\"\n",
    "\n",
    "region = sess.boto_region_name\n",
    "s3_client = boto3.client(\"s3\", region_name=region)\n",
    "sm_client = boto3.client(\"sagemaker\", region_name=region)\n",
    "sm_runtime_client = boto3.client(\"sagemaker-runtime\")\n",
    "sm_autoscaling_client = boto3.client(\"application-autoscaling\")"
   ]
  },
  {
   "cell_type": "markdown",
   "id": "f08a90ed-ee3e-4e71-8b49-30adc21a837a",
   "metadata": {},
   "source": [
    "Los conjuntos de datos que usa para el entrenamiento existen en un bucket público de S3 llamado `sagemaker-sample-files`"
   ]
  },
  {
   "cell_type": "code",
   "execution_count": 6,
   "id": "595c2294-ed71-4bd7-8c2a-9a85f6eaaa42",
   "metadata": {
    "tags": []
   },
   "outputs": [],
   "source": [
    "sagemaker_role = sagemaker.get_execution_role()\n",
    "\n",
    "# S3 locations used for parameterizing the notebook run\n",
    "read_bucket = \"sagemaker-sample-files\"\n",
    "read_prefix = \"datasets/tabular/synthetic_automobile_claims\" \n",
    "model_prefix = \"models/xgb-fraud\"\n",
    "\n",
    "data_capture_key = f\"{write_prefix}/data-capture\"\n",
    "\n",
    "# S3 location of trained model artifact\n",
    "model_uri = f\"s3://{read_bucket}/{model_prefix}/fraud-det-xgb-model.tar.gz\"\n",
    "\n",
    "# S3 path where data captured at endpoint will be stored\n",
    "data_capture_uri = f\"s3://{write_bucket}/{data_capture_key}\"\n",
    "\n",
    "# S3 location of test data\n",
    "test_data_uri = f\"s3://{read_bucket}/{read_prefix}/test.csv\""
   ]
  },
  {
   "cell_type": "markdown",
   "id": "f8b826de-ade4-4de2-8cdc-f565ab2f994d",
   "metadata": {},
   "source": [
    "En SageMaker, existen varios métodos para implementar un modelo entrenado en un punto de conexión de inferencia en tiempo real: el SDK de SageMaker, AWS SDK: Boto3 y la consola de SageMaker. Para obtener más información, consulte Implementación de modelos para inferencia en la Guía para desarrolladores de Amazon SageMaker. El SDK de SageMaker tiene más abstracciones en comparación con AWS SDK: Boto3, y este último expone una API de nivel inferior para un mayor control sobre la implementación del modelo. En este tutorial, implementará el modelo mediante AWS SDK: Boto3. Hay tres pasos que debe seguir en secuencia para implementar un modelo:\n",
    "\n",
    "crear un modelo de SageMaker a partir del artefacto del modelo\n",
    "crear una configuración de punto de conexión para especificar propiedades, incluido el tipo de instancia y el recuento\n",
    "crear el punto de conexión mediante la configuración del punto de conexión\n",
    "\n",
    "Para crear un modelo de SageMaker con el artefacto del modelo entrenado almacenado en S3, copie y pegue el siguiente código. El método create_model toma como parámetros el contenedor de Docker que contiene la imagen de entrenamiento (para este modelo, el contenedor XGBoost) y la ubicación de S3 del artefacto del modelo. \n",
    "\n",
    "Para crear un modelo de SageMaker con el artefacto del modelo entrenado almacenado en S3, copie y pegue el siguiente código. El método create_model toma como parámetros el contenedor de Docker que contiene la imagen de entrenamiento (para este modelo, el contenedor XGBoost) y la ubicación de S3 del artefacto del modelo. "
   ]
  },
  {
   "cell_type": "code",
   "execution_count": 7,
   "id": "5eeea96b-dfaf-4df8-985d-4ecba88a4d9f",
   "metadata": {
    "tags": []
   },
   "outputs": [],
   "source": [
    "# Retrieve the SageMaker managed XGBoost image\n",
    "training_image = retrieve(framework=\"xgboost\", region=region, version=\"1.3-1\")\n",
    "\n",
    "# Specify a unique model name that does not exist\n",
    "model_name = \"fraud-detect-xgb\"\n",
    "primary_container = {\n",
    "                     \"Image\": training_image,\n",
    "                     \"ModelDataUrl\": model_uri\n",
    "                    }\n",
    "\n",
    "model_matches = sm_client.list_models(NameContains=model_name)[\"Models\"]\n",
    "if not model_matches:\n",
    "    model = sm_client.create_model(ModelName=model_name,\n",
    "                                   PrimaryContainer=primary_container,\n",
    "                                   ExecutionRoleArn=sagemaker_role)\n",
    "else:\n",
    "    print(f\"Model with name {model_name} already exists! Change model name to create new\")"
   ]
  },
  {
   "cell_type": "markdown",
   "id": "8ad4d33f-175d-41bf-ace0-7a3d07532e78",
   "metadata": {},
   "source": [
    "Después de crear el modelo de SageMaker, copie y pegue el siguiente código para usar el método Boto3 create_endpoint_config a fin de configurar el punto de conexión. Las entradas principales del método create_endpoint_config son el nombre de la configuración del punto de conexión y la información de la variante, como el tipo de instancia de inferencia y el recuento, el nombre del modelo que se implementará y el tráfico compartido que debe manejar el punto de conexión. Junto con esta configuración, también puede configurar la captura de datos al especificar una DataCaptureConfig. Esta característica le permite configurar el punto de conexión en tiempo real para capturar y almacenar las solicitudes o respuestas en Amazon S3. La captura de datos es uno de los pasos para configurar el monitoreo del modelo y, cuando se combina con las métricas de referencia y los trabajos de monitoreo, lo ayuda a monitorear el rendimiento del modelo al comparar las métricas de datos de prueba con las referencias. Tal monitoreo es útil para programar el reentrenamiento del modelo en función de la desviación del modelo o de los datos y con fines de auditoría. En la configuración actual, tanto la entrada (datos de prueba entrantes) como la salida (predicciones del modelo) se capturan y almacenan en su bucket de S3 predeterminado. "
   ]
  },
  {
   "cell_type": "code",
   "execution_count": 9,
   "id": "53f3a61a-3906-4381-8a0d-e2922dd58c45",
   "metadata": {
    "tags": []
   },
   "outputs": [],
   "source": [
    "# Endpoint Config name\n",
    "endpoint_config_name = f\"{model_name}-endpoint-config\"\n",
    "\n",
    "# Endpoint config parameters\n",
    "production_variant_dict = {\n",
    "                           \"VariantName\": \"Alltraffic\",\n",
    "                           \"ModelName\": model_name,\n",
    "                           \"InitialInstanceCount\": 1,\n",
    "                           \"InstanceType\": \"ml.m5.xlarge\",\n",
    "                           \"InitialVariantWeight\": 1\n",
    "                          }\n",
    "\n",
    "# Data capture config parameters\n",
    "data_capture_config_dict = {\n",
    "                            \"EnableCapture\": True,\n",
    "                            \"InitialSamplingPercentage\": 100,\n",
    "                            \"DestinationS3Uri\": data_capture_uri,\n",
    "                            \"CaptureOptions\": [{\"CaptureMode\" : \"Input\"}, {\"CaptureMode\" : \"Output\"}]\n",
    "                           }\n",
    "\n",
    "\n",
    "# Create endpoint config if one with the same name does not exist\n",
    "endpoint_config_matches = sm_client.list_endpoint_configs(NameContains=endpoint_config_name)[\"EndpointConfigs\"]\n",
    "if not endpoint_config_matches:\n",
    "    endpoint_config_response = sm_client.create_endpoint_config(\n",
    "                                                                EndpointConfigName=endpoint_config_name,\n",
    "                                                                ProductionVariants=[production_variant_dict],\n",
    "                                                                DataCaptureConfig=data_capture_config_dict\n",
    "                                                               )\n",
    "else:\n",
    "    print(f\"Endpoint config with name {endpoint_config_name} already exists! Change endpoint config name to create new\")"
   ]
  },
  {
   "cell_type": "markdown",
   "id": "014b983b-00e2-46af-a829-66a05d1ee123",
   "metadata": {},
   "source": [
    "Copie y pegue el siguiente código para crear el punto de conexión. El método create_endpoint toma la configuración del punto de conexión como parámetro e implementa el modelo especificado en la configuración del punto de conexión en una instancia de computación. Se tarda unos 6 minutos en implementar el modelo.\n"
   ]
  },
  {
   "cell_type": "code",
   "execution_count": 10,
   "id": "65740617-1e38-4c22-8242-72b014c46b3d",
   "metadata": {
    "tags": []
   },
   "outputs": [
    {
     "name": "stdout",
     "output_type": "stream",
     "text": [
      "Endpoint Status: Creating...\n",
      "Endpoint Status: Creating...\n",
      "Endpoint Status: Creating...\n",
      "Endpoint Status: InService\n"
     ]
    }
   ],
   "source": [
    "endpoint_name = f\"{model_name}-endpoint\"\n",
    "\n",
    "endpoint_matches = sm_client.list_endpoints(NameContains=endpoint_name)[\"Endpoints\"]\n",
    "if not endpoint_matches:\n",
    "    endpoint_response = sm_client.create_endpoint(\n",
    "                                                  EndpointName=endpoint_name,\n",
    "                                                  EndpointConfigName=endpoint_config_name\n",
    "                                                 )\n",
    "else:\n",
    "    print(f\"Endpoint with name {endpoint_name} already exists! Change endpoint name to create new\")\n",
    "\n",
    "resp = sm_client.describe_endpoint(EndpointName=endpoint_name)\n",
    "status = resp[\"EndpointStatus\"]\n",
    "while status == \"Creating\":\n",
    "    print(f\"Endpoint Status: {status}...\")\n",
    "    time.sleep(60)\n",
    "    resp = sm_client.describe_endpoint(EndpointName=endpoint_name)\n",
    "    status = resp[\"EndpointStatus\"]\n",
    "print(f\"Endpoint Status: {status}\")"
   ]
  },
  {
   "cell_type": "markdown",
   "id": "fac9ca0e-8ac2-4126-88a7-126fe52797c4",
   "metadata": {},
   "source": [
    "Después de que el estado del punto de conexión cambie a InService, puede invocar el punto de conexión mediante la API de REST, AWS SDK: Boto3, SageMaker Studio, la AWS CLI o el SDK para Python de SageMaker. En este tutorial, utilizará AWS SDK: Boto3. Antes de llamar a un punto de conexión, es importante que los datos de prueba tengan el formato adecuado para el punto de conexión con serialización y deserialización. La serialización es el proceso de convertir datos sin procesar en un formato como .csv en secuencias de bytes que el punto de conexión puede usar. La deserialización es el proceso inverso de convertir la secuencia de bytes en un formato legible para humanos. En este tutorial, invocará el punto de conexión mediante el envío de las primeras cinco muestras desde un conjunto de datos de prueba. Para invocar el punto de conexión y obtener resultados de predicción, copie y pegue el siguiente código. Dado que la solicitud al punto de conexión (conjunto de datos de prueba) está en formato .csv, se usa un proceso de serialización csv para crear la carga. Luego, la respuesta se deserializa en una matriz de predicciones. Una vez finalizada la ejecución, la celda devuelve las predicciones del modelo y las etiquetas verdaderas para las muestras de prueba. Tenga en cuenta que el modelo XGBoost devuelve probabilidades en lugar de etiquetas de clase reales. El modelo predijo una probabilidad muy baja de que las muestras de prueba sean reclamaciones fraudulentas y las predicciones están alineadas con las etiquetas verdaderas."
   ]
  },
  {
   "cell_type": "code",
   "execution_count": 12,
   "id": "5551e682-b3cb-4995-a144-9f3fe4338098",
   "metadata": {
    "tags": []
   },
   "outputs": [
    {
     "data": {
      "text/html": [
       "<div>\n",
       "<style scoped>\n",
       "    .dataframe tbody tr th:only-of-type {\n",
       "        vertical-align: middle;\n",
       "    }\n",
       "\n",
       "    .dataframe tbody tr th {\n",
       "        vertical-align: top;\n",
       "    }\n",
       "\n",
       "    .dataframe thead th {\n",
       "        text-align: right;\n",
       "    }\n",
       "</style>\n",
       "<table border=\"1\" class=\"dataframe\">\n",
       "  <thead>\n",
       "    <tr style=\"text-align: right;\">\n",
       "      <th></th>\n",
       "      <th>Prediction</th>\n",
       "      <th>Label</th>\n",
       "    </tr>\n",
       "  </thead>\n",
       "  <tbody>\n",
       "    <tr>\n",
       "      <th>0</th>\n",
       "      <td>0.02243666537106037</td>\n",
       "      <td>0</td>\n",
       "    </tr>\n",
       "    <tr>\n",
       "      <th>1</th>\n",
       "      <td>0.02243666537106037</td>\n",
       "      <td>0</td>\n",
       "    </tr>\n",
       "    <tr>\n",
       "      <th>2</th>\n",
       "      <td>0.0799826979637146</td>\n",
       "      <td>0</td>\n",
       "    </tr>\n",
       "    <tr>\n",
       "      <th>3</th>\n",
       "      <td>0.13931523263454437</td>\n",
       "      <td>0</td>\n",
       "    </tr>\n",
       "    <tr>\n",
       "      <th>4</th>\n",
       "      <td>0.03112351894378662</td>\n",
       "      <td>0</td>\n",
       "    </tr>\n",
       "  </tbody>\n",
       "</table>\n",
       "</div>"
      ],
      "text/plain": [
       "            Prediction  Label\n",
       "0  0.02243666537106037      0\n",
       "1  0.02243666537106037      0\n",
       "2   0.0799826979637146      0\n",
       "3  0.13931523263454437      0\n",
       "4  0.03112351894378662      0"
      ]
     },
     "execution_count": 12,
     "metadata": {},
     "output_type": "execute_result"
    }
   ],
   "source": [
    "# Fetch test data to run predictions with the endpoint\n",
    "test_df = pd.read_csv(test_data_uri)\n",
    "\n",
    "# For content type text/csv, payload should be a string with commas separating the values for each feature\n",
    "# This is the inference request serialization step\n",
    "# CSV serialization\n",
    "csv_file = io.StringIO()\n",
    "test_sample = test_df.drop([\"fraud\"], axis=1).iloc[:5]\n",
    "test_sample.to_csv(csv_file, sep=\",\", header=False, index=False)\n",
    "payload = csv_file.getvalue()\n",
    "response = sm_runtime_client.invoke_endpoint(\n",
    "                                             EndpointName=endpoint_name,\n",
    "                                             Body=payload,\n",
    "                                             ContentType=\"text/csv\",\n",
    "                                             Accept=\"text/csv\"\n",
    "                                            )\n",
    "\n",
    "# This is the inference response deserialization step\n",
    "# This is a bytes object\n",
    "result = response[\"Body\"].read()\n",
    "# Decoding bytes to a string\n",
    "result = result.decode(\"utf-8\")\n",
    "# Converting to list of predictions\n",
    "result = re.split(\",|\\n\",result)\n",
    "\n",
    "prediction_df = pd.DataFrame()\n",
    "prediction_df[\"Prediction\"] = result[:5]\n",
    "prediction_df[\"Label\"] = test_df[\"fraud\"].iloc[:5].values\n",
    "prediction_df"
   ]
  },
  {
   "cell_type": "markdown",
   "id": "1f8d19a6-0a7d-4822-8dde-aa81adfcd714",
   "metadata": {},
   "source": [
    "Para monitorear las métricas de invocación de puntos de conexión con Amazon CloudWatch, abra la consola de SageMaker. En Inference (Inferencia), seleccione **Endpoints** (Puntos de conexión), **fraud-detect-xgb-endpoint**.\n",
    "\n",
    "En la página Endpoint details (Detalles del punto de conexión), en Monitor (Monitorear), elija View invocation metrics (Ver métricas de invocación). Inicialmente, es posible que vea solo un punto en el gráfico de métricas. Pero después de varias invocaciones, verá una línea similar a la de la captura de pantalla de muestra.\n",
    "\n",
    "La página Metrics (Métricas) muestra varias métricas de rendimiento del punto de conexión. Puede elegir diferentes periodos, como más de 1 hora o 3 horas, para visualizar el rendimiento del punto de conexión. Seleccione cualquier métrica para ver su tendencia durante el periodo elegido. En el siguiente paso, elija una de estas métricas para definir las políticas de escalado automático.\n",
    "\n",
    "Debido a que la captura de datos se estableció en la configuración del punto de conexión, tiene una forma de inspeccionar qué carga se envió al punto de conexión junto con su respuesta. Los datos capturados tardan un tiempo en cargarse por completo en S3. Copie y pegue el siguiente código para comprobar si la captura de datos está completa."
   ]
  },
  {
   "cell_type": "code",
   "execution_count": 13,
   "id": "042e6ddf-b869-4a45-b794-b2fb92fcc891",
   "metadata": {
    "tags": []
   },
   "outputs": [
    {
     "name": "stdout",
     "output_type": "stream",
     "text": [
      "Waiting for captures to show up..........................................................................................\n",
      "Found 1 Data Capture Files:\n"
     ]
    }
   ],
   "source": [
    "from sagemaker.s3 import S3Downloader\n",
    "print(\"Waiting for captures to show up\", end=\"\")\n",
    "for _ in range(90):\n",
    "    capture_files = sorted(S3Downloader.list(f\"{data_capture_uri}/{endpoint_name}\"))\n",
    "    if capture_files:\n",
    "        capture_file = S3Downloader.read_file(capture_files[-1]).split(\"\\n\")\n",
    "        capture_record = json.loads(capture_file[0])\n",
    "        if \"inferenceId\" in capture_record[\"eventMetadata\"]:\n",
    "            break\n",
    "    print(\".\", end=\"\", flush=True)\n",
    "    time.sleep(1)\n",
    "print()\n",
    "print(f\"Found {len(capture_files)} Data Capture Files:\")"
   ]
  },
  {
   "cell_type": "markdown",
   "id": "c7bab6d1-c923-4c7a-b68b-82675709f82e",
   "metadata": {},
   "source": [
    "Los datos capturados se almacenan como un archivo separado para cada invocación de punto de conexión en S3 en líneas JSON, un formato delimitado por saltos de línea para almacenar datos estructurados donde cada línea es un valor JSON. Copie y pegue el siguiente código para recuperar los archivos de captura de datos. \n"
   ]
  },
  {
   "cell_type": "code",
   "execution_count": 14,
   "id": "08abd11b-0b95-4280-aecb-0154b67493f8",
   "metadata": {
    "tags": []
   },
   "outputs": [
    {
     "data": {
      "text/plain": [
       "{'captureData': {'endpointInput': {'observedContentType': 'text/csv',\n",
       "   'mode': 'INPUT',\n",
       "   'data': 'MiwwLDAsMSw1ODQwMCwxNDI0Ny43NjY4NjY2NzA4NSw3MjY0Ny43NjY4NjY2NzA4NSw3LDI5LDAsMTEsNDEsMTA4LDAsMSw3NTAsMzAwMCwwLDIsMjAxNCwwLDAsMSwwLDAsMSwwLDAsMCwxLDAsMCwwLDAsMSwwLDAsMSwwLDEsMCwwLDAsMCwwLDAsMCwxCjIsMCwyLDAsMTE1MDAsMTA2NzUuNjcxMzQ2NzM4MTU4LDIyMTc1LjY3MTM0NjczODE2LDExLDI4LDMsMTYsNTQsMTcxLDAsMSw3NTAsMjc1MCwyLDMsMjAxNSwwLDAsMCwwLDEsMSwwLDAsMCwxLDAsMCwwLDAsMSwwLDAsMSwwLDEsMCwwLDAsMCwwLDAsMCwxCjIsMCwwLDEsMTg1MDAsMTAyMDIuMjY2MzUzOTk5Nzc2LDI4NzAyLjI2NjM1Mzk5OTc3LDEsNiw2LDgsNTEsMTk2LDAsMSw3NTAsMzAwMCwwLDEsMjAxMSwwLDAsMCwwLDEsMSwwLDAsMSwwLDAsMCwwLDEsMCwwLDAsMSwwLDEsMCwwLDAsMCwwLDAsMSwwCjEsMCwwLDAsMTYzMDAsOTMzOC4zNDgwNjY0MzU3MTgsMjU2MzguMzQ4MDY2NDM1NzIsOSwxLDYsMyw1NywxMjIsMCwxLDc1MCwzMDAwLDEsMSwyMDE1LDAsMCwwLDEsMCwwLDEsMCwwLDAsMSwwLDAsMCwxLDAsMCwxLDAsMSwwLDAsMCwwLDAsMCwxLDAKMiwxLDAsMCwxNDcwMCwyODE0NS45MjQ5OTQxODIyNSw0Mjg0NS45MjQ5OTQxODIyNSwxMCwyMywyLDE1LDU5LDE0MiwwLDEsNzUwLDMwMDAsMiwzLDIwMTksMCwwLDEsMCwwLDEsMCwwLDEsMCwwLDAsMCwxLDAsMCwwLDAsMSwwLDAsMCwwLDAsMSwwLDEsMAo=',\n",
       "   'encoding': 'BASE64'},\n",
       "  'endpointOutput': {'observedContentType': 'text/csv; charset=utf-8',\n",
       "   'mode': 'OUTPUT',\n",
       "   'data': 'MC4wMjI0MzY2NjUzNzEwNjAzNwowLjAyMjQzNjY2NTM3MTA2MDM3CjAuMDc5OTgyNjk3OTYzNzE0NgowLjEzOTMxNTIzMjYzNDU0NDM3CjAuMDMxMTIzNTE4OTQzNzg2NjIK',\n",
       "   'encoding': 'BASE64'}},\n",
       " 'eventMetadata': {'eventId': 'b54da97a-2c1d-4e59-9c5f-ec34c03a2b3f',\n",
       "  'inferenceTime': '2023-04-13T00:09:53Z'},\n",
       " 'eventVersion': '0'}"
      ]
     },
     "execution_count": 14,
     "metadata": {},
     "output_type": "execute_result"
    }
   ],
   "source": [
    "capture_files = sorted(S3Downloader.list(f\"{data_capture_uri}/{endpoint_name}\"))\n",
    "capture_file = S3Downloader.read_file(capture_files[0]).split(\"\\n\")\n",
    "capture_record = json.loads(capture_file[0])\n",
    "capture_record"
   ]
  },
  {
   "cell_type": "markdown",
   "id": "5e397fa6-13ac-40e5-a12d-f35f61aa7423",
   "metadata": {},
   "source": [
    "El siguiente codigo decodifica los datos de los archivos capturados mediante base64. El código recupera las cinco muestras de prueba que se enviaron como carga y sus predicciones. Esta característica es útil para inspeccionar las cargas de los puntos de conexión con las respuestas del modelo y monitorear el rendimiento del modelo.\n"
   ]
  },
  {
   "cell_type": "code",
   "execution_count": 15,
   "id": "7b938748-548a-470a-90bc-3cec1cf177e8",
   "metadata": {
    "tags": []
   },
   "outputs": [
    {
     "name": "stdout",
     "output_type": "stream",
     "text": [
      "['2,0,0,1,58400,14247.76686667085,72647.76686667085,7,29,0,11,41,108,0,1,750,3000,0,2,2014,0,0,1,0,0,1,0,0,0,1,0,0,0,0,1,0,0,1,0,1,0,0,0,0,0,0,0,1', '2,0,2,0,11500,10675.671346738158,22175.67134673816,11,28,3,16,54,171,0,1,750,2750,2,3,2015,0,0,0,0,1,1,0,0,0,1,0,0,0,0,1,0,0,1,0,1,0,0,0,0,0,0,0,1', '2,0,0,1,18500,10202.266353999776,28702.26635399977,1,6,6,8,51,196,0,1,750,3000,0,1,2011,0,0,0,0,1,1,0,0,1,0,0,0,0,1,0,0,0,1,0,1,0,0,0,0,0,0,1,0', '1,0,0,0,16300,9338.348066435718,25638.34806643572,9,1,6,3,57,122,0,1,750,3000,1,1,2015,0,0,0,1,0,0,1,0,0,0,1,0,0,0,1,0,0,1,0,1,0,0,0,0,0,0,1,0', '2,1,0,0,14700,28145.92499418225,42845.92499418225,10,23,2,15,59,142,0,1,750,3000,2,3,2019,0,0,1,0,0,1,0,0,1,0,0,0,0,1,0,0,0,0,1,0,0,0,0,0,1,0,1,0', '']\n",
      "['0.02243666537106037', '0.02243666537106037', '0.0799826979637146', '0.13931523263454437', '0.03112351894378662', '']\n"
     ]
    }
   ],
   "source": [
    "input_data = capture_record[\"captureData\"][\"endpointInput\"][\"data\"]\n",
    "output_data = capture_record[\"captureData\"][\"endpointOutput\"][\"data\"]\n",
    "input_data_list = base64.b64decode(input_data).decode(\"utf-8\").split(\"\\n\")\n",
    "print(input_data_list)\n",
    "output_data_list = base64.b64decode(output_data).decode(\"utf-8\").split(\"\\n\")\n",
    "print(output_data_list)"
   ]
  },
  {
   "cell_type": "markdown",
   "id": "b1a71bdf-3f0c-441e-b8a0-3e36eaa0b423",
   "metadata": {},
   "source": [
    "### Configurar el escalado automático para el punto de conexión\n",
    "\n",
    "Las cargas de trabajo que utilizan puntos de conexión de inferencia en tiempo real suelen tener requisitos de baja latencia. Además, cuando el tráfico aumenta, los puntos de conexión de inferencia en tiempo real pueden experimentar sobrecarga de CPU, alta latencia o tiempos de espera. Por lo tanto, es importante escalar la capacidad para manejar los cambios de tráfico de manera eficiente con baja latencia. El escalado automático de inferencia de SageMaker monitorea sus cargas de trabajo y ajusta de forma dinámica el recuento de instancias para mantener un rendimiento constante y predecible de los puntos de conexión a un bajo costo. Cuando aumenta la carga de trabajo, el escalado automático pone más instancias en línea y, cuando la carga de trabajo disminuye, elimina las instancias innecesarias, lo que lo ayuda a reducir el costo de computación. En este tutorial, utilizará AWS SDK: Boto3 para configurar el escalado automático en su punto de conexión. SageMaker proporciona varios tipos de escalado automático: escalado de seguimiento de objetivos, escalado por pasos, escalado bajo demanda y escalado programado. En este tutorial, utilizará una política de escalado de seguimiento de objetivos, que se activa cuando una métrica de escalado elegida aumenta por encima de un umbral objetivo elegido.\n",
    "\n",
    "El escalado automático se puede configurar en dos pasos. En primer lugar, configura una política de escalado con detalles del número mínimo, deseado y máximo de instancias por punto de conexión. Copie y pegue el siguiente código para configurar una política de escalado de seguimiento de objetivos. La cantidad máxima especificada de instancias se lanza cuando el tráfico supera los umbrales elegidos, que selecciona en el siguiente paso."
   ]
  },
  {
   "cell_type": "code",
   "execution_count": 16,
   "id": "02247fc7-3ee4-47f4-bf14-400d07ec923a",
   "metadata": {
    "tags": []
   },
   "outputs": [],
   "source": [
    "resp = sm_client.describe_endpoint(EndpointName=endpoint_name)\n",
    "\n",
    "# SageMaker expects resource id to be provided with the following structure\n",
    "resource_id = f\"endpoint/{endpoint_name}/variant/{resp['ProductionVariants'][0]['VariantName']}\"\n",
    "\n",
    "# Scaling configuration\n",
    "scaling_config_response = sm_autoscaling_client.register_scalable_target(\n",
    "                                                          ServiceNamespace=\"sagemaker\",\n",
    "                                                          ResourceId=resource_id,\n",
    "                                                          ScalableDimension=\"sagemaker:variant:DesiredInstanceCount\", \n",
    "                                                          MinCapacity=1,\n",
    "                                                          MaxCapacity=2\n",
    "                                                        )"
   ]
  },
  {
   "cell_type": "markdown",
   "id": "998031d8-f65b-47cf-8f8d-80f4646ea601",
   "metadata": {},
   "source": [
    "Copie y pegue el siguiente código para crear la política de escalado. La métrica de escalado elegida es SageMakerVariantInvocationsPerInstance, que es la cantidad promedio de veces por minuto que se invoca cada instancia de inferencia para una variante del modelo. Cuando este número cruza el umbral elegido de 5, se activa el escalado automático.\n"
   ]
  },
  {
   "cell_type": "code",
   "execution_count": 17,
   "id": "d332edb3-8f3e-44a9-afe7-c0320975d0aa",
   "metadata": {
    "tags": []
   },
   "outputs": [],
   "source": [
    "# Create Scaling Policy\n",
    "policy_name = f\"scaling-policy-{endpoint_name}\"\n",
    "scaling_policy_response = sm_autoscaling_client.put_scaling_policy(\n",
    "                                                PolicyName=policy_name,\n",
    "                                                ServiceNamespace=\"sagemaker\",\n",
    "                                                ResourceId=resource_id,\n",
    "                                                ScalableDimension=\"sagemaker:variant:DesiredInstanceCount\",\n",
    "                                                PolicyType=\"TargetTrackingScaling\",\n",
    "                                                TargetTrackingScalingPolicyConfiguration={\n",
    "                                                    \"TargetValue\": 5.0, # Target for avg invocations per minutes\n",
    "                                                    \"PredefinedMetricSpecification\": {\n",
    "                                                        \"PredefinedMetricType\": \"SageMakerVariantInvocationsPerInstance\",\n",
    "                                                    },\n",
    "                                                    \"ScaleInCooldown\": 600, # Duration in seconds until scale in\n",
    "                                                    \"ScaleOutCooldown\": 60 # Duration in seconds between scale out\n",
    "                                                }\n",
    "                                            )"
   ]
  },
  {
   "cell_type": "code",
   "execution_count": 18,
   "id": "84e8e9fe-d416-446d-badc-fd41857278fb",
   "metadata": {
    "tags": []
   },
   "outputs": [
    {
     "name": "stdout",
     "output_type": "stream",
     "text": [
      "'scaling-policy-fraud-detect-xgb-endpoint'\n",
      "\n",
      "{   'PredefinedMetricSpecification': {   'PredefinedMetricType': 'SageMakerVariantInvocationsPerInstance'},\n",
      "    'ScaleInCooldown': 600,\n",
      "    'ScaleOutCooldown': 60,\n",
      "    'TargetValue': 5.0}\n"
     ]
    }
   ],
   "source": [
    "response = sm_autoscaling_client.describe_scaling_policies(ServiceNamespace=\"sagemaker\")\n",
    "\n",
    "pp = pprint.PrettyPrinter(indent=4, depth=4)\n",
    "for i in response[\"ScalingPolicies\"]:\n",
    "    pp.pprint(i[\"PolicyName\"])\n",
    "    print(\"\")\n",
    "    if(\"TargetTrackingScalingPolicyConfiguration\" in i):\n",
    "        pp.pprint(i[\"TargetTrackingScalingPolicyConfiguration\"])"
   ]
  },
  {
   "cell_type": "markdown",
   "id": "7d9bac2a-6aaa-46fc-9167-134b1b2288f8",
   "metadata": {},
   "source": [
    "El siguiente codigo realizar una prueba de esfuerzo del punto de conexión. El código se ejecuta durante 250 segundos e invoca el punto de conexión de forma repetida mediante el envío de muestras seleccionadas al azar del conjunto de datos de prueba."
   ]
  },
  {
   "cell_type": "code",
   "execution_count": 19,
   "id": "82764e59-e56b-42b3-a630-ed0197111e39",
   "metadata": {
    "tags": []
   },
   "outputs": [
    {
     "name": "stdout",
     "output_type": "stream",
     "text": [
      "Endpoint will be tested for 250 seconds\n"
     ]
    }
   ],
   "source": [
    "request_duration = 250\n",
    "end_time = time.time() + request_duration\n",
    "print(f\"Endpoint will be tested for {request_duration} seconds\")\n",
    "while time.time() < end_time:\n",
    "    csv_file = io.StringIO()\n",
    "    test_sample = test_df.drop([\"fraud\"], axis=1).iloc[[np.random.randint(0, test_df.shape[0])]]\n",
    "    test_sample.to_csv(csv_file, sep=\",\", header=False, index=False)\n",
    "    payload = csv_file.getvalue()\n",
    "    response = sm_runtime_client.invoke_endpoint(\n",
    "                                                 EndpointName=endpoint_name,\n",
    "                                                 Body=payload,\n",
    "                                                 ContentType=\"text/csv\"\n",
    "                                                )"
   ]
  },
  {
   "cell_type": "markdown",
   "id": "ce37a1c7-48cc-4d57-a1a2-a9928f216838",
   "metadata": {},
   "source": [
    "Puede monitorear las métricas de los puntos de conexión con Amazon CloudWatch. Para obtener una lista de las métricas de punto de conexión disponibles, incluidas las de invocación, consulte Métricas de invocación de punto de conexión de SageMaker. En la consola de SageMaker, en Inference (Inferencia), elija Endpoints (Puntos de conexión), fraud-detect-xgb-endpoint. En la página Endpoint details (Detalles del punto de conexión), vaya a la sección Monitor (Monitorear) y elija View invocation metrics (Ver métricas de invocación). En la página Metrics (Métricas), seleccione InvocationsPerInstance (esta es una métrica de monitoreo que eligió cuando configuró la política de escalado) e Invocations (Invocaciones) de la lista de métricas, y luego elija la pestaña Graphed metrics (Métricas gráficas).\n",
    "\n",
    "En la página Graphed metrics (Métricas gráficas), puede inspeccionar visualmente el patrón de tráfico recibido por el punto de conexión y cambiar la granularidad del tiempo, por ejemplo, de los 5 minutos predeterminados a 1 minuto. Es posible que el escalado automático tarde unos minutos en agregar la segunda instancia. Una vez que se agrega la nueva instancia, notará que las invocaciones por instancia son la mitad del total de invocaciones.\n",
    "\n",
    "Cuando el punto de conexión recibe el aumento de la carga, puede comprobar el estado del punto de conexión al ejecutar el código a continuación. Este código comprueba cuándo el estado del punto de conexión cambia de InService a Updating y realiza un seguimiento de los recuentos de instancias. Después de unos minutos, puede ver que el estado cambia de InService a Updating y nuevamente a InService, pero con un mayor número de instancias."
   ]
  },
  {
   "cell_type": "code",
   "execution_count": null,
   "id": "46ec222c-10ab-4e03-bdd3-5fcca34362ce",
   "metadata": {
    "tags": []
   },
   "outputs": [],
   "source": [
    "# Check the instance counts after the endpoint gets more load\n",
    "response = sm_client.describe_endpoint(EndpointName=endpoint_name)\n",
    "endpoint_status = response[\"EndpointStatus\"]\n",
    "request_duration = 250\n",
    "end_time = time.time() + request_duration\n",
    "print(f\"Waiting for Instance count increase for a max of {request_duration} seconds. Please re run this cell in case the count does not change\")\n",
    "while time.time() < end_time:\n",
    "    response = sm_client.describe_endpoint(EndpointName=endpoint_name)\n",
    "    endpoint_status = response[\"EndpointStatus\"]\n",
    "    instance_count = response[\"ProductionVariants\"][0][\"CurrentInstanceCount\"]\n",
    "    print(f\"Status: {endpoint_status}\")\n",
    "    print(f\"Current Instance count: {instance_count}\")\n",
    "    if (endpoint_status==\"InService\") and (instance_count>1):\n",
    "        break\n",
    "    else:\n",
    "        time.sleep(15)"
   ]
  },
  {
   "cell_type": "markdown",
   "id": "0d21ef47-3c54-4ad1-964b-3d39e5ea1fce",
   "metadata": {},
   "source": [
    "## Eliminar los recursos\n",
    "\n",
    "Una práctica recomendada es eliminar los recursos que ya no se utilizan para no incurrir en cargos no deseados.\n",
    "\n",
    "Elimine el modelo, la configuración del punto de conexión y el punto de conexión que creó en este tutorial mediante la ejecución del siguiente bloque de código en su cuaderno. Si no elimina el punto de conexión, su cuenta seguirá acumulando cargos por la instancia de computación que se ejecuta en el punto de conexión."
   ]
  },
  {
   "cell_type": "code",
   "execution_count": null,
   "id": "9ce7c92a-4e9c-4158-bb59-ef51e897c9c7",
   "metadata": {},
   "outputs": [],
   "source": [
    "# Delete model\n",
    "sm_client.delete_model(ModelName=model_name)\n",
    "\n",
    "# Delete endpoint configuration\n",
    "sm_client.delete_endpoint_config(EndpointConfigName=endpoint_config_name)\n",
    "\n",
    "# Delete endpoint\n",
    "sm_client.delete_endpoint(EndpointName=endpoint_name)"
   ]
  }
 ],
 "metadata": {
  "availableInstances": [
   {
    "_defaultOrder": 0,
    "_isFastLaunch": true,
    "category": "General purpose",
    "gpuNum": 0,
    "hideHardwareSpecs": false,
    "memoryGiB": 4,
    "name": "ml.t3.medium",
    "vcpuNum": 2
   },
   {
    "_defaultOrder": 1,
    "_isFastLaunch": false,
    "category": "General purpose",
    "gpuNum": 0,
    "hideHardwareSpecs": false,
    "memoryGiB": 8,
    "name": "ml.t3.large",
    "vcpuNum": 2
   },
   {
    "_defaultOrder": 2,
    "_isFastLaunch": false,
    "category": "General purpose",
    "gpuNum": 0,
    "hideHardwareSpecs": false,
    "memoryGiB": 16,
    "name": "ml.t3.xlarge",
    "vcpuNum": 4
   },
   {
    "_defaultOrder": 3,
    "_isFastLaunch": false,
    "category": "General purpose",
    "gpuNum": 0,
    "hideHardwareSpecs": false,
    "memoryGiB": 32,
    "name": "ml.t3.2xlarge",
    "vcpuNum": 8
   },
   {
    "_defaultOrder": 4,
    "_isFastLaunch": true,
    "category": "General purpose",
    "gpuNum": 0,
    "hideHardwareSpecs": false,
    "memoryGiB": 8,
    "name": "ml.m5.large",
    "vcpuNum": 2
   },
   {
    "_defaultOrder": 5,
    "_isFastLaunch": false,
    "category": "General purpose",
    "gpuNum": 0,
    "hideHardwareSpecs": false,
    "memoryGiB": 16,
    "name": "ml.m5.xlarge",
    "vcpuNum": 4
   },
   {
    "_defaultOrder": 6,
    "_isFastLaunch": false,
    "category": "General purpose",
    "gpuNum": 0,
    "hideHardwareSpecs": false,
    "memoryGiB": 32,
    "name": "ml.m5.2xlarge",
    "vcpuNum": 8
   },
   {
    "_defaultOrder": 7,
    "_isFastLaunch": false,
    "category": "General purpose",
    "gpuNum": 0,
    "hideHardwareSpecs": false,
    "memoryGiB": 64,
    "name": "ml.m5.4xlarge",
    "vcpuNum": 16
   },
   {
    "_defaultOrder": 8,
    "_isFastLaunch": false,
    "category": "General purpose",
    "gpuNum": 0,
    "hideHardwareSpecs": false,
    "memoryGiB": 128,
    "name": "ml.m5.8xlarge",
    "vcpuNum": 32
   },
   {
    "_defaultOrder": 9,
    "_isFastLaunch": false,
    "category": "General purpose",
    "gpuNum": 0,
    "hideHardwareSpecs": false,
    "memoryGiB": 192,
    "name": "ml.m5.12xlarge",
    "vcpuNum": 48
   },
   {
    "_defaultOrder": 10,
    "_isFastLaunch": false,
    "category": "General purpose",
    "gpuNum": 0,
    "hideHardwareSpecs": false,
    "memoryGiB": 256,
    "name": "ml.m5.16xlarge",
    "vcpuNum": 64
   },
   {
    "_defaultOrder": 11,
    "_isFastLaunch": false,
    "category": "General purpose",
    "gpuNum": 0,
    "hideHardwareSpecs": false,
    "memoryGiB": 384,
    "name": "ml.m5.24xlarge",
    "vcpuNum": 96
   },
   {
    "_defaultOrder": 12,
    "_isFastLaunch": false,
    "category": "General purpose",
    "gpuNum": 0,
    "hideHardwareSpecs": false,
    "memoryGiB": 8,
    "name": "ml.m5d.large",
    "vcpuNum": 2
   },
   {
    "_defaultOrder": 13,
    "_isFastLaunch": false,
    "category": "General purpose",
    "gpuNum": 0,
    "hideHardwareSpecs": false,
    "memoryGiB": 16,
    "name": "ml.m5d.xlarge",
    "vcpuNum": 4
   },
   {
    "_defaultOrder": 14,
    "_isFastLaunch": false,
    "category": "General purpose",
    "gpuNum": 0,
    "hideHardwareSpecs": false,
    "memoryGiB": 32,
    "name": "ml.m5d.2xlarge",
    "vcpuNum": 8
   },
   {
    "_defaultOrder": 15,
    "_isFastLaunch": false,
    "category": "General purpose",
    "gpuNum": 0,
    "hideHardwareSpecs": false,
    "memoryGiB": 64,
    "name": "ml.m5d.4xlarge",
    "vcpuNum": 16
   },
   {
    "_defaultOrder": 16,
    "_isFastLaunch": false,
    "category": "General purpose",
    "gpuNum": 0,
    "hideHardwareSpecs": false,
    "memoryGiB": 128,
    "name": "ml.m5d.8xlarge",
    "vcpuNum": 32
   },
   {
    "_defaultOrder": 17,
    "_isFastLaunch": false,
    "category": "General purpose",
    "gpuNum": 0,
    "hideHardwareSpecs": false,
    "memoryGiB": 192,
    "name": "ml.m5d.12xlarge",
    "vcpuNum": 48
   },
   {
    "_defaultOrder": 18,
    "_isFastLaunch": false,
    "category": "General purpose",
    "gpuNum": 0,
    "hideHardwareSpecs": false,
    "memoryGiB": 256,
    "name": "ml.m5d.16xlarge",
    "vcpuNum": 64
   },
   {
    "_defaultOrder": 19,
    "_isFastLaunch": false,
    "category": "General purpose",
    "gpuNum": 0,
    "hideHardwareSpecs": false,
    "memoryGiB": 384,
    "name": "ml.m5d.24xlarge",
    "vcpuNum": 96
   },
   {
    "_defaultOrder": 20,
    "_isFastLaunch": false,
    "category": "General purpose",
    "gpuNum": 0,
    "hideHardwareSpecs": true,
    "memoryGiB": 0,
    "name": "ml.geospatial.interactive",
    "supportedImageNames": [
     "sagemaker-geospatial-v1-0"
    ],
    "vcpuNum": 0
   },
   {
    "_defaultOrder": 21,
    "_isFastLaunch": true,
    "category": "Compute optimized",
    "gpuNum": 0,
    "hideHardwareSpecs": false,
    "memoryGiB": 4,
    "name": "ml.c5.large",
    "vcpuNum": 2
   },
   {
    "_defaultOrder": 22,
    "_isFastLaunch": false,
    "category": "Compute optimized",
    "gpuNum": 0,
    "hideHardwareSpecs": false,
    "memoryGiB": 8,
    "name": "ml.c5.xlarge",
    "vcpuNum": 4
   },
   {
    "_defaultOrder": 23,
    "_isFastLaunch": false,
    "category": "Compute optimized",
    "gpuNum": 0,
    "hideHardwareSpecs": false,
    "memoryGiB": 16,
    "name": "ml.c5.2xlarge",
    "vcpuNum": 8
   },
   {
    "_defaultOrder": 24,
    "_isFastLaunch": false,
    "category": "Compute optimized",
    "gpuNum": 0,
    "hideHardwareSpecs": false,
    "memoryGiB": 32,
    "name": "ml.c5.4xlarge",
    "vcpuNum": 16
   },
   {
    "_defaultOrder": 25,
    "_isFastLaunch": false,
    "category": "Compute optimized",
    "gpuNum": 0,
    "hideHardwareSpecs": false,
    "memoryGiB": 72,
    "name": "ml.c5.9xlarge",
    "vcpuNum": 36
   },
   {
    "_defaultOrder": 26,
    "_isFastLaunch": false,
    "category": "Compute optimized",
    "gpuNum": 0,
    "hideHardwareSpecs": false,
    "memoryGiB": 96,
    "name": "ml.c5.12xlarge",
    "vcpuNum": 48
   },
   {
    "_defaultOrder": 27,
    "_isFastLaunch": false,
    "category": "Compute optimized",
    "gpuNum": 0,
    "hideHardwareSpecs": false,
    "memoryGiB": 144,
    "name": "ml.c5.18xlarge",
    "vcpuNum": 72
   },
   {
    "_defaultOrder": 28,
    "_isFastLaunch": false,
    "category": "Compute optimized",
    "gpuNum": 0,
    "hideHardwareSpecs": false,
    "memoryGiB": 192,
    "name": "ml.c5.24xlarge",
    "vcpuNum": 96
   },
   {
    "_defaultOrder": 29,
    "_isFastLaunch": true,
    "category": "Accelerated computing",
    "gpuNum": 1,
    "hideHardwareSpecs": false,
    "memoryGiB": 16,
    "name": "ml.g4dn.xlarge",
    "vcpuNum": 4
   },
   {
    "_defaultOrder": 30,
    "_isFastLaunch": false,
    "category": "Accelerated computing",
    "gpuNum": 1,
    "hideHardwareSpecs": false,
    "memoryGiB": 32,
    "name": "ml.g4dn.2xlarge",
    "vcpuNum": 8
   },
   {
    "_defaultOrder": 31,
    "_isFastLaunch": false,
    "category": "Accelerated computing",
    "gpuNum": 1,
    "hideHardwareSpecs": false,
    "memoryGiB": 64,
    "name": "ml.g4dn.4xlarge",
    "vcpuNum": 16
   },
   {
    "_defaultOrder": 32,
    "_isFastLaunch": false,
    "category": "Accelerated computing",
    "gpuNum": 1,
    "hideHardwareSpecs": false,
    "memoryGiB": 128,
    "name": "ml.g4dn.8xlarge",
    "vcpuNum": 32
   },
   {
    "_defaultOrder": 33,
    "_isFastLaunch": false,
    "category": "Accelerated computing",
    "gpuNum": 4,
    "hideHardwareSpecs": false,
    "memoryGiB": 192,
    "name": "ml.g4dn.12xlarge",
    "vcpuNum": 48
   },
   {
    "_defaultOrder": 34,
    "_isFastLaunch": false,
    "category": "Accelerated computing",
    "gpuNum": 1,
    "hideHardwareSpecs": false,
    "memoryGiB": 256,
    "name": "ml.g4dn.16xlarge",
    "vcpuNum": 64
   },
   {
    "_defaultOrder": 35,
    "_isFastLaunch": false,
    "category": "Accelerated computing",
    "gpuNum": 1,
    "hideHardwareSpecs": false,
    "memoryGiB": 61,
    "name": "ml.p3.2xlarge",
    "vcpuNum": 8
   },
   {
    "_defaultOrder": 36,
    "_isFastLaunch": false,
    "category": "Accelerated computing",
    "gpuNum": 4,
    "hideHardwareSpecs": false,
    "memoryGiB": 244,
    "name": "ml.p3.8xlarge",
    "vcpuNum": 32
   },
   {
    "_defaultOrder": 37,
    "_isFastLaunch": false,
    "category": "Accelerated computing",
    "gpuNum": 8,
    "hideHardwareSpecs": false,
    "memoryGiB": 488,
    "name": "ml.p3.16xlarge",
    "vcpuNum": 64
   },
   {
    "_defaultOrder": 38,
    "_isFastLaunch": false,
    "category": "Accelerated computing",
    "gpuNum": 8,
    "hideHardwareSpecs": false,
    "memoryGiB": 768,
    "name": "ml.p3dn.24xlarge",
    "vcpuNum": 96
   },
   {
    "_defaultOrder": 39,
    "_isFastLaunch": false,
    "category": "Memory Optimized",
    "gpuNum": 0,
    "hideHardwareSpecs": false,
    "memoryGiB": 16,
    "name": "ml.r5.large",
    "vcpuNum": 2
   },
   {
    "_defaultOrder": 40,
    "_isFastLaunch": false,
    "category": "Memory Optimized",
    "gpuNum": 0,
    "hideHardwareSpecs": false,
    "memoryGiB": 32,
    "name": "ml.r5.xlarge",
    "vcpuNum": 4
   },
   {
    "_defaultOrder": 41,
    "_isFastLaunch": false,
    "category": "Memory Optimized",
    "gpuNum": 0,
    "hideHardwareSpecs": false,
    "memoryGiB": 64,
    "name": "ml.r5.2xlarge",
    "vcpuNum": 8
   },
   {
    "_defaultOrder": 42,
    "_isFastLaunch": false,
    "category": "Memory Optimized",
    "gpuNum": 0,
    "hideHardwareSpecs": false,
    "memoryGiB": 128,
    "name": "ml.r5.4xlarge",
    "vcpuNum": 16
   },
   {
    "_defaultOrder": 43,
    "_isFastLaunch": false,
    "category": "Memory Optimized",
    "gpuNum": 0,
    "hideHardwareSpecs": false,
    "memoryGiB": 256,
    "name": "ml.r5.8xlarge",
    "vcpuNum": 32
   },
   {
    "_defaultOrder": 44,
    "_isFastLaunch": false,
    "category": "Memory Optimized",
    "gpuNum": 0,
    "hideHardwareSpecs": false,
    "memoryGiB": 384,
    "name": "ml.r5.12xlarge",
    "vcpuNum": 48
   },
   {
    "_defaultOrder": 45,
    "_isFastLaunch": false,
    "category": "Memory Optimized",
    "gpuNum": 0,
    "hideHardwareSpecs": false,
    "memoryGiB": 512,
    "name": "ml.r5.16xlarge",
    "vcpuNum": 64
   },
   {
    "_defaultOrder": 46,
    "_isFastLaunch": false,
    "category": "Memory Optimized",
    "gpuNum": 0,
    "hideHardwareSpecs": false,
    "memoryGiB": 768,
    "name": "ml.r5.24xlarge",
    "vcpuNum": 96
   },
   {
    "_defaultOrder": 47,
    "_isFastLaunch": false,
    "category": "Accelerated computing",
    "gpuNum": 1,
    "hideHardwareSpecs": false,
    "memoryGiB": 16,
    "name": "ml.g5.xlarge",
    "vcpuNum": 4
   },
   {
    "_defaultOrder": 48,
    "_isFastLaunch": false,
    "category": "Accelerated computing",
    "gpuNum": 1,
    "hideHardwareSpecs": false,
    "memoryGiB": 32,
    "name": "ml.g5.2xlarge",
    "vcpuNum": 8
   },
   {
    "_defaultOrder": 49,
    "_isFastLaunch": false,
    "category": "Accelerated computing",
    "gpuNum": 1,
    "hideHardwareSpecs": false,
    "memoryGiB": 64,
    "name": "ml.g5.4xlarge",
    "vcpuNum": 16
   },
   {
    "_defaultOrder": 50,
    "_isFastLaunch": false,
    "category": "Accelerated computing",
    "gpuNum": 1,
    "hideHardwareSpecs": false,
    "memoryGiB": 128,
    "name": "ml.g5.8xlarge",
    "vcpuNum": 32
   },
   {
    "_defaultOrder": 51,
    "_isFastLaunch": false,
    "category": "Accelerated computing",
    "gpuNum": 1,
    "hideHardwareSpecs": false,
    "memoryGiB": 256,
    "name": "ml.g5.16xlarge",
    "vcpuNum": 64
   },
   {
    "_defaultOrder": 52,
    "_isFastLaunch": false,
    "category": "Accelerated computing",
    "gpuNum": 4,
    "hideHardwareSpecs": false,
    "memoryGiB": 192,
    "name": "ml.g5.12xlarge",
    "vcpuNum": 48
   },
   {
    "_defaultOrder": 53,
    "_isFastLaunch": false,
    "category": "Accelerated computing",
    "gpuNum": 4,
    "hideHardwareSpecs": false,
    "memoryGiB": 384,
    "name": "ml.g5.24xlarge",
    "vcpuNum": 96
   },
   {
    "_defaultOrder": 54,
    "_isFastLaunch": false,
    "category": "Accelerated computing",
    "gpuNum": 8,
    "hideHardwareSpecs": false,
    "memoryGiB": 768,
    "name": "ml.g5.48xlarge",
    "vcpuNum": 192
   }
  ],
  "instance_type": "ml.m5.8xlarge",
  "kernelspec": {
   "display_name": "Python 3 (Data Science 2.0)",
   "language": "python",
   "name": "python3__SAGEMAKER_INTERNAL__arn:aws:sagemaker:us-east-1:081325390199:image/sagemaker-data-science-38"
  },
  "language_info": {
   "codemirror_mode": {
    "name": "ipython",
    "version": 3
   },
   "file_extension": ".py",
   "mimetype": "text/x-python",
   "name": "python",
   "nbconvert_exporter": "python",
   "pygments_lexer": "ipython3",
   "version": "3.8.13"
  }
 },
 "nbformat": 4,
 "nbformat_minor": 5
}
