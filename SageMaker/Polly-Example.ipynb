{
 "cells": [
  {
   "cell_type": "code",
   "execution_count": 37,
   "id": "a2956040-9e5d-4161-957a-51318debed41",
   "metadata": {
    "tags": []
   },
   "outputs": [],
   "source": [
    "import boto3\n",
    "import sagemaker\n",
    "from botocore.exceptions import BotoCoreError, ClientError\n",
    "from contextlib import closing\n",
    "import os\n",
    "import sys\n",
    "import subprocess\n",
    "from tempfile import gettempdir\n",
    "import IPython\n",
    "import ipywidgets as widgets\n",
    "\n",
    "sess = sagemaker.Session()\n",
    "bucket = sess.default_bucket() "
   ]
  },
  {
   "cell_type": "code",
   "execution_count": 13,
   "id": "38228121-2c58-417f-9538-a440c57c5d92",
   "metadata": {
    "tags": []
   },
   "outputs": [],
   "source": [
    "polly = boto3.client(\"polly\")"
   ]
  },
  {
   "cell_type": "code",
   "execution_count": 61,
   "id": "2216af4b-b3a6-44b4-acda-f39597dcecc0",
   "metadata": {
    "tags": []
   },
   "outputs": [],
   "source": [
    "select_voice = {\n",
    "    \"us-female\":  {\n",
    "        \"name\": \"Joanna\",\n",
    "        \"text\":   \"It was November. Although it was not yet late, the sky was dark when I turned into Laundress Passage. \" +\n",
    "                      \"Father had finished for the day, switched off the shop lights and closed the shutters; but so I would \" +\n",
    "                      \"not come home to darkness he had left on the light over the stairs to the flat.\"\n",
    "    },\n",
    "    \"es-male\":  {\n",
    "        \"name\": \"Andres\",\n",
    "        \"text\": \"Cozzella entrevistó a los nietos de los posaderos que, a finales de los años 40, tras la Segunda Guerra Mundial, \" +\n",
    "                    \"daban de comer a los soldados estadounidenses en el pintoresco barrio de Trastevere, al otro lado del río Tíber, en Roma.\"\n",
    "    },\n",
    "    \"es-female\": {\n",
    "        \"name\": \"Lucia\",\n",
    "        \"text\": \"Al parecer, los soldados pedían un 'desayuno espagueti': huevos, tocineta y pasta. Y en aquella época, aunque el país estaba de 'rodillas', \" +\n",
    "                    \"los italianos podían comprar raciones militares en el mercado negro, que incluían tocino de los estadounidenses y huevo en polvo de los británicos.\"\n",
    "    },\n",
    "    \"us-female-2\":  {\n",
    "        \"name\": \"Emma\",\n",
    "        \"text\":   \" Soldiers were apparently asking for spaghetti breakfast: eggs, bacon and pasta. And at the time, although the country was on its knees, \" + \n",
    "                      \"Italians could buy military rations on the black market that included bacon from Americans and egg powder from the British.\"\n",
    "    },\n",
    "}"
   ]
  },
  {
   "cell_type": "code",
   "execution_count": 63,
   "id": "ecf9a585-14bb-4cc6-9447-e4d20606b860",
   "metadata": {
    "tags": []
   },
   "outputs": [
    {
     "data": {
      "application/vnd.jupyter.widget-view+json": {
       "model_id": "92cc09c002e0478d8b40c6d2a3a13bb6",
       "version_major": 2,
       "version_minor": 0
      },
      "text/plain": [
       "Dropdown(description='Number:', options=(('us-female', {'name': 'Joanna', 'text': 'It was November. Although i…"
      ]
     },
     "metadata": {},
     "output_type": "display_data"
    }
   ],
   "source": [
    "select = widgets.Dropdown(\n",
    "        options=[('us-female', select_voice['us-female']), ('es-male', select_voice['es-male']), ('es-female' ,select_voice['es-female' ]), ('us-female-2' ,select_voice['us-female-2' ])],\n",
    "        value=select_voice['us-female'],\n",
    "        description='Number:',\n",
    ")\n",
    "select"
   ]
  },
  {
   "cell_type": "code",
   "execution_count": 64,
   "id": "6d3bfd59-2adb-4591-b9b1-c4f941094047",
   "metadata": {
    "tags": []
   },
   "outputs": [],
   "source": [
    "try:\n",
    "    # Request speech synthesis\n",
    "    response = polly.synthesize_speech(Text=select.value['text'], OutputFormat=\"mp3\",\n",
    "                                        VoiceId=select.value['name'], Engine='neural')\n",
    "except (BotoCoreError, ClientError) as error:\n",
    "    # The service returned an error, exit gracefully\n",
    "    print(\"ERROR:\", error)"
   ]
  },
  {
   "cell_type": "code",
   "execution_count": 65,
   "id": "6a9a8e24-0ced-42ac-9d18-5f6942ecb95d",
   "metadata": {
    "tags": []
   },
   "outputs": [],
   "source": [
    "# Access the audio stream from the response\n",
    "if \"AudioStream\" in response:\n",
    "    # Note: Closing the stream is important because the service throttles on the\n",
    "    # number of parallel connections. Here we are using contextlib.closing to\n",
    "    # ensure the close method of the stream object will be called automatically\n",
    "    # at the end of the with statement's scope.\n",
    "        with closing(response[\"AudioStream\"]) as stream:\n",
    "            output =  \"speech.mp3\"\n",
    "\n",
    "            try:\n",
    "            # Open a file for writing the output as a binary stream\n",
    "                with open(output, \"wb\") as file:\n",
    "                    file.write(stream.read())\n",
    "            except IOError as error:\n",
    "                # Could not write to file, exit gracefully\n",
    "                print(error)\n",
    "                sys.exit(-1)\n",
    "\n",
    "else:\n",
    "    # The response didn't contain audio data, exit gracefully\n",
    "    print(\"Could not stream audio\")\n",
    "    sys.exit(-1)"
   ]
  },
  {
   "cell_type": "code",
   "execution_count": 66,
   "id": "0b360015-54ea-4a7c-b77e-496381636986",
   "metadata": {
    "tags": []
   },
   "outputs": [
    {
     "data": {
      "text/html": [
       "\n",
       "                <audio  controls=\"controls\" >\n",
       "                    <source src=\"data:audio/mpeg;base64,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\" type=\"audio/mpeg\" />\n",
       "                    Your browser does not support the audio element.\n",
       "                </audio>\n",
       "              "
      ],
      "text/plain": [
       "<IPython.lib.display.Audio object>"
      ]
     },
     "execution_count": 66,
     "metadata": {},
     "output_type": "execute_result"
    }
   ],
   "source": [
    "IPython.display.Audio(output)"
   ]
  }
 ],
 "metadata": {
  "availableInstances": [
   {
    "_defaultOrder": 0,
    "_isFastLaunch": true,
    "category": "General purpose",
    "gpuNum": 0,
    "hideHardwareSpecs": false,
    "memoryGiB": 4,
    "name": "ml.t3.medium",
    "vcpuNum": 2
   },
   {
    "_defaultOrder": 1,
    "_isFastLaunch": false,
    "category": "General purpose",
    "gpuNum": 0,
    "hideHardwareSpecs": false,
    "memoryGiB": 8,
    "name": "ml.t3.large",
    "vcpuNum": 2
   },
   {
    "_defaultOrder": 2,
    "_isFastLaunch": false,
    "category": "General purpose",
    "gpuNum": 0,
    "hideHardwareSpecs": false,
    "memoryGiB": 16,
    "name": "ml.t3.xlarge",
    "vcpuNum": 4
   },
   {
    "_defaultOrder": 3,
    "_isFastLaunch": false,
    "category": "General purpose",
    "gpuNum": 0,
    "hideHardwareSpecs": false,
    "memoryGiB": 32,
    "name": "ml.t3.2xlarge",
    "vcpuNum": 8
   },
   {
    "_defaultOrder": 4,
    "_isFastLaunch": true,
    "category": "General purpose",
    "gpuNum": 0,
    "hideHardwareSpecs": false,
    "memoryGiB": 8,
    "name": "ml.m5.large",
    "vcpuNum": 2
   },
   {
    "_defaultOrder": 5,
    "_isFastLaunch": false,
    "category": "General purpose",
    "gpuNum": 0,
    "hideHardwareSpecs": false,
    "memoryGiB": 16,
    "name": "ml.m5.xlarge",
    "vcpuNum": 4
   },
   {
    "_defaultOrder": 6,
    "_isFastLaunch": false,
    "category": "General purpose",
    "gpuNum": 0,
    "hideHardwareSpecs": false,
    "memoryGiB": 32,
    "name": "ml.m5.2xlarge",
    "vcpuNum": 8
   },
   {
    "_defaultOrder": 7,
    "_isFastLaunch": false,
    "category": "General purpose",
    "gpuNum": 0,
    "hideHardwareSpecs": false,
    "memoryGiB": 64,
    "name": "ml.m5.4xlarge",
    "vcpuNum": 16
   },
   {
    "_defaultOrder": 8,
    "_isFastLaunch": false,
    "category": "General purpose",
    "gpuNum": 0,
    "hideHardwareSpecs": false,
    "memoryGiB": 128,
    "name": "ml.m5.8xlarge",
    "vcpuNum": 32
   },
   {
    "_defaultOrder": 9,
    "_isFastLaunch": false,
    "category": "General purpose",
    "gpuNum": 0,
    "hideHardwareSpecs": false,
    "memoryGiB": 192,
    "name": "ml.m5.12xlarge",
    "vcpuNum": 48
   },
   {
    "_defaultOrder": 10,
    "_isFastLaunch": false,
    "category": "General purpose",
    "gpuNum": 0,
    "hideHardwareSpecs": false,
    "memoryGiB": 256,
    "name": "ml.m5.16xlarge",
    "vcpuNum": 64
   },
   {
    "_defaultOrder": 11,
    "_isFastLaunch": false,
    "category": "General purpose",
    "gpuNum": 0,
    "hideHardwareSpecs": false,
    "memoryGiB": 384,
    "name": "ml.m5.24xlarge",
    "vcpuNum": 96
   },
   {
    "_defaultOrder": 12,
    "_isFastLaunch": false,
    "category": "General purpose",
    "gpuNum": 0,
    "hideHardwareSpecs": false,
    "memoryGiB": 8,
    "name": "ml.m5d.large",
    "vcpuNum": 2
   },
   {
    "_defaultOrder": 13,
    "_isFastLaunch": false,
    "category": "General purpose",
    "gpuNum": 0,
    "hideHardwareSpecs": false,
    "memoryGiB": 16,
    "name": "ml.m5d.xlarge",
    "vcpuNum": 4
   },
   {
    "_defaultOrder": 14,
    "_isFastLaunch": false,
    "category": "General purpose",
    "gpuNum": 0,
    "hideHardwareSpecs": false,
    "memoryGiB": 32,
    "name": "ml.m5d.2xlarge",
    "vcpuNum": 8
   },
   {
    "_defaultOrder": 15,
    "_isFastLaunch": false,
    "category": "General purpose",
    "gpuNum": 0,
    "hideHardwareSpecs": false,
    "memoryGiB": 64,
    "name": "ml.m5d.4xlarge",
    "vcpuNum": 16
   },
   {
    "_defaultOrder": 16,
    "_isFastLaunch": false,
    "category": "General purpose",
    "gpuNum": 0,
    "hideHardwareSpecs": false,
    "memoryGiB": 128,
    "name": "ml.m5d.8xlarge",
    "vcpuNum": 32
   },
   {
    "_defaultOrder": 17,
    "_isFastLaunch": false,
    "category": "General purpose",
    "gpuNum": 0,
    "hideHardwareSpecs": false,
    "memoryGiB": 192,
    "name": "ml.m5d.12xlarge",
    "vcpuNum": 48
   },
   {
    "_defaultOrder": 18,
    "_isFastLaunch": false,
    "category": "General purpose",
    "gpuNum": 0,
    "hideHardwareSpecs": false,
    "memoryGiB": 256,
    "name": "ml.m5d.16xlarge",
    "vcpuNum": 64
   },
   {
    "_defaultOrder": 19,
    "_isFastLaunch": false,
    "category": "General purpose",
    "gpuNum": 0,
    "hideHardwareSpecs": false,
    "memoryGiB": 384,
    "name": "ml.m5d.24xlarge",
    "vcpuNum": 96
   },
   {
    "_defaultOrder": 20,
    "_isFastLaunch": false,
    "category": "General purpose",
    "gpuNum": 0,
    "hideHardwareSpecs": true,
    "memoryGiB": 0,
    "name": "ml.geospatial.interactive",
    "supportedImageNames": [
     "sagemaker-geospatial-v1-0"
    ],
    "vcpuNum": 0
   },
   {
    "_defaultOrder": 21,
    "_isFastLaunch": true,
    "category": "Compute optimized",
    "gpuNum": 0,
    "hideHardwareSpecs": false,
    "memoryGiB": 4,
    "name": "ml.c5.large",
    "vcpuNum": 2
   },
   {
    "_defaultOrder": 22,
    "_isFastLaunch": false,
    "category": "Compute optimized",
    "gpuNum": 0,
    "hideHardwareSpecs": false,
    "memoryGiB": 8,
    "name": "ml.c5.xlarge",
    "vcpuNum": 4
   },
   {
    "_defaultOrder": 23,
    "_isFastLaunch": false,
    "category": "Compute optimized",
    "gpuNum": 0,
    "hideHardwareSpecs": false,
    "memoryGiB": 16,
    "name": "ml.c5.2xlarge",
    "vcpuNum": 8
   },
   {
    "_defaultOrder": 24,
    "_isFastLaunch": false,
    "category": "Compute optimized",
    "gpuNum": 0,
    "hideHardwareSpecs": false,
    "memoryGiB": 32,
    "name": "ml.c5.4xlarge",
    "vcpuNum": 16
   },
   {
    "_defaultOrder": 25,
    "_isFastLaunch": false,
    "category": "Compute optimized",
    "gpuNum": 0,
    "hideHardwareSpecs": false,
    "memoryGiB": 72,
    "name": "ml.c5.9xlarge",
    "vcpuNum": 36
   },
   {
    "_defaultOrder": 26,
    "_isFastLaunch": false,
    "category": "Compute optimized",
    "gpuNum": 0,
    "hideHardwareSpecs": false,
    "memoryGiB": 96,
    "name": "ml.c5.12xlarge",
    "vcpuNum": 48
   },
   {
    "_defaultOrder": 27,
    "_isFastLaunch": false,
    "category": "Compute optimized",
    "gpuNum": 0,
    "hideHardwareSpecs": false,
    "memoryGiB": 144,
    "name": "ml.c5.18xlarge",
    "vcpuNum": 72
   },
   {
    "_defaultOrder": 28,
    "_isFastLaunch": false,
    "category": "Compute optimized",
    "gpuNum": 0,
    "hideHardwareSpecs": false,
    "memoryGiB": 192,
    "name": "ml.c5.24xlarge",
    "vcpuNum": 96
   },
   {
    "_defaultOrder": 29,
    "_isFastLaunch": true,
    "category": "Accelerated computing",
    "gpuNum": 1,
    "hideHardwareSpecs": false,
    "memoryGiB": 16,
    "name": "ml.g4dn.xlarge",
    "vcpuNum": 4
   },
   {
    "_defaultOrder": 30,
    "_isFastLaunch": false,
    "category": "Accelerated computing",
    "gpuNum": 1,
    "hideHardwareSpecs": false,
    "memoryGiB": 32,
    "name": "ml.g4dn.2xlarge",
    "vcpuNum": 8
   },
   {
    "_defaultOrder": 31,
    "_isFastLaunch": false,
    "category": "Accelerated computing",
    "gpuNum": 1,
    "hideHardwareSpecs": false,
    "memoryGiB": 64,
    "name": "ml.g4dn.4xlarge",
    "vcpuNum": 16
   },
   {
    "_defaultOrder": 32,
    "_isFastLaunch": false,
    "category": "Accelerated computing",
    "gpuNum": 1,
    "hideHardwareSpecs": false,
    "memoryGiB": 128,
    "name": "ml.g4dn.8xlarge",
    "vcpuNum": 32
   },
   {
    "_defaultOrder": 33,
    "_isFastLaunch": false,
    "category": "Accelerated computing",
    "gpuNum": 4,
    "hideHardwareSpecs": false,
    "memoryGiB": 192,
    "name": "ml.g4dn.12xlarge",
    "vcpuNum": 48
   },
   {
    "_defaultOrder": 34,
    "_isFastLaunch": false,
    "category": "Accelerated computing",
    "gpuNum": 1,
    "hideHardwareSpecs": false,
    "memoryGiB": 256,
    "name": "ml.g4dn.16xlarge",
    "vcpuNum": 64
   },
   {
    "_defaultOrder": 35,
    "_isFastLaunch": false,
    "category": "Accelerated computing",
    "gpuNum": 1,
    "hideHardwareSpecs": false,
    "memoryGiB": 61,
    "name": "ml.p3.2xlarge",
    "vcpuNum": 8
   },
   {
    "_defaultOrder": 36,
    "_isFastLaunch": false,
    "category": "Accelerated computing",
    "gpuNum": 4,
    "hideHardwareSpecs": false,
    "memoryGiB": 244,
    "name": "ml.p3.8xlarge",
    "vcpuNum": 32
   },
   {
    "_defaultOrder": 37,
    "_isFastLaunch": false,
    "category": "Accelerated computing",
    "gpuNum": 8,
    "hideHardwareSpecs": false,
    "memoryGiB": 488,
    "name": "ml.p3.16xlarge",
    "vcpuNum": 64
   },
   {
    "_defaultOrder": 38,
    "_isFastLaunch": false,
    "category": "Accelerated computing",
    "gpuNum": 8,
    "hideHardwareSpecs": false,
    "memoryGiB": 768,
    "name": "ml.p3dn.24xlarge",
    "vcpuNum": 96
   },
   {
    "_defaultOrder": 39,
    "_isFastLaunch": false,
    "category": "Memory Optimized",
    "gpuNum": 0,
    "hideHardwareSpecs": false,
    "memoryGiB": 16,
    "name": "ml.r5.large",
    "vcpuNum": 2
   },
   {
    "_defaultOrder": 40,
    "_isFastLaunch": false,
    "category": "Memory Optimized",
    "gpuNum": 0,
    "hideHardwareSpecs": false,
    "memoryGiB": 32,
    "name": "ml.r5.xlarge",
    "vcpuNum": 4
   },
   {
    "_defaultOrder": 41,
    "_isFastLaunch": false,
    "category": "Memory Optimized",
    "gpuNum": 0,
    "hideHardwareSpecs": false,
    "memoryGiB": 64,
    "name": "ml.r5.2xlarge",
    "vcpuNum": 8
   },
   {
    "_defaultOrder": 42,
    "_isFastLaunch": false,
    "category": "Memory Optimized",
    "gpuNum": 0,
    "hideHardwareSpecs": false,
    "memoryGiB": 128,
    "name": "ml.r5.4xlarge",
    "vcpuNum": 16
   },
   {
    "_defaultOrder": 43,
    "_isFastLaunch": false,
    "category": "Memory Optimized",
    "gpuNum": 0,
    "hideHardwareSpecs": false,
    "memoryGiB": 256,
    "name": "ml.r5.8xlarge",
    "vcpuNum": 32
   },
   {
    "_defaultOrder": 44,
    "_isFastLaunch": false,
    "category": "Memory Optimized",
    "gpuNum": 0,
    "hideHardwareSpecs": false,
    "memoryGiB": 384,
    "name": "ml.r5.12xlarge",
    "vcpuNum": 48
   },
   {
    "_defaultOrder": 45,
    "_isFastLaunch": false,
    "category": "Memory Optimized",
    "gpuNum": 0,
    "hideHardwareSpecs": false,
    "memoryGiB": 512,
    "name": "ml.r5.16xlarge",
    "vcpuNum": 64
   },
   {
    "_defaultOrder": 46,
    "_isFastLaunch": false,
    "category": "Memory Optimized",
    "gpuNum": 0,
    "hideHardwareSpecs": false,
    "memoryGiB": 768,
    "name": "ml.r5.24xlarge",
    "vcpuNum": 96
   },
   {
    "_defaultOrder": 47,
    "_isFastLaunch": false,
    "category": "Accelerated computing",
    "gpuNum": 1,
    "hideHardwareSpecs": false,
    "memoryGiB": 16,
    "name": "ml.g5.xlarge",
    "vcpuNum": 4
   },
   {
    "_defaultOrder": 48,
    "_isFastLaunch": false,
    "category": "Accelerated computing",
    "gpuNum": 1,
    "hideHardwareSpecs": false,
    "memoryGiB": 32,
    "name": "ml.g5.2xlarge",
    "vcpuNum": 8
   },
   {
    "_defaultOrder": 49,
    "_isFastLaunch": false,
    "category": "Accelerated computing",
    "gpuNum": 1,
    "hideHardwareSpecs": false,
    "memoryGiB": 64,
    "name": "ml.g5.4xlarge",
    "vcpuNum": 16
   },
   {
    "_defaultOrder": 50,
    "_isFastLaunch": false,
    "category": "Accelerated computing",
    "gpuNum": 1,
    "hideHardwareSpecs": false,
    "memoryGiB": 128,
    "name": "ml.g5.8xlarge",
    "vcpuNum": 32
   },
   {
    "_defaultOrder": 51,
    "_isFastLaunch": false,
    "category": "Accelerated computing",
    "gpuNum": 1,
    "hideHardwareSpecs": false,
    "memoryGiB": 256,
    "name": "ml.g5.16xlarge",
    "vcpuNum": 64
   },
   {
    "_defaultOrder": 52,
    "_isFastLaunch": false,
    "category": "Accelerated computing",
    "gpuNum": 4,
    "hideHardwareSpecs": false,
    "memoryGiB": 192,
    "name": "ml.g5.12xlarge",
    "vcpuNum": 48
   },
   {
    "_defaultOrder": 53,
    "_isFastLaunch": false,
    "category": "Accelerated computing",
    "gpuNum": 4,
    "hideHardwareSpecs": false,
    "memoryGiB": 384,
    "name": "ml.g5.24xlarge",
    "vcpuNum": 96
   },
   {
    "_defaultOrder": 54,
    "_isFastLaunch": false,
    "category": "Accelerated computing",
    "gpuNum": 8,
    "hideHardwareSpecs": false,
    "memoryGiB": 768,
    "name": "ml.g5.48xlarge",
    "vcpuNum": 192
   }
  ],
  "instance_type": "ml.m5.4xlarge",
  "kernelspec": {
   "display_name": "Python 3 (Data Science 3.0)",
   "language": "python",
   "name": "python3__SAGEMAKER_INTERNAL__arn:aws:sagemaker:us-east-1:081325390199:image/sagemaker-data-science-310-v1"
  },
  "language_info": {
   "codemirror_mode": {
    "name": "ipython",
    "version": 3
   },
   "file_extension": ".py",
   "mimetype": "text/x-python",
   "name": "python",
   "nbconvert_exporter": "python",
   "pygments_lexer": "ipython3",
   "version": "3.10.6"
  }
 },
 "nbformat": 4,
 "nbformat_minor": 5
}
