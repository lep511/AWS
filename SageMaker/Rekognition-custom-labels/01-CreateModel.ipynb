{
 "cells": [
  {
   "attachments": {},
   "cell_type": "markdown",
   "metadata": {},
   "source": [
    "## ¿Qué es *Amazon Rekognition Custom Labels*?\n",
    "\n",
    "Con las etiquetas personalizadas de *Amazon Rekognition*, puede identificar los objetos, logotipos y escenas en imágenes que sean específicos para las necesidades de su negocio. Por ejemplo, puede encontrar su logotipo en publicaciones de redes sociales, identificar sus productos en las estanterías de las tiendas, clasificar piezas de maquinaria en una cadena de montaje, distinguir plantas sanas e infectadas o detectar personajes animados en imágenes.\n",
    "\n",
    "Desarrollar un modelo personalizado para analizar imágenes es una tarea importante que requiere tiempo, experiencia y recursos. A menudo se tarda meses en completarlo. Además, puede requerir miles o decenas de miles de imágenes etiquetadas a mano para proporcionar al modelo datos suficientes para tomar decisiones con precisión. La generación de estos datos puede tardar meses en recopilarse y puede requerir grandes equipos de etiquetadores para prepararlos para su uso en el aprendizaje automático.\n",
    "\n",
    "*Amazon Rekognition Custom Labels* amplía las capacidades actuales de *Amazon Rekognition*, que ya se ha entrenado con decenas de millones de imágenes de muchas categorías. En lugar de miles de imágenes, puede cargar un pequeño conjunto de imágenes de entrenamiento (normalmente unos cientos de imágenes o menos) que sean específicas para su caso de uso. Para ello, utilice la consola de fácil manejo. Si sus imágenes ya están etiquetadas, *Amazon Rekognition Custom Labels* puede comenzar a entrenar un modelo en poco tiempo. De lo contrario, puede etiquetar las imágenes directamente en la interfaz de etiquetado o utilizar Amazon SageMaker Ground Truth para que las etiquete por usted.\n",
    "\n",
    "Después de que *Amazon Rekognition Custom Labels* comience a entrenarse a partir de su conjunto de imágenes, puede producir un modelo de análisis de imágenes personalizado para usted en tan solo unas horas. Entre bastidores, *Amazon Rekognition Custom Labels* carga e inspecciona automáticamente los datos de entrenamiento, selecciona los algoritmos de aprendizaje automático adecuados, entrena un modelo y proporciona métricas de rendimiento del modelo. A continuación, puede utilizar su modelo personalizado a través de la API de etiquetas personalizadas de *Amazon Rekognition* e integrarlo en sus aplicaciones."
   ]
  },
  {
   "cell_type": "code",
   "execution_count": null,
   "metadata": {
    "vscode": {
     "languageId": "plaintext"
    }
   },
   "outputs": [],
   "source": []
  }
 ],
 "metadata": {
  "language_info": {
   "name": "python"
  },
  "orig_nbformat": 4
 },
 "nbformat": 4,
 "nbformat_minor": 2
}
