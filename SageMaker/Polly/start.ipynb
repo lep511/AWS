{
 "cells": [
  {
   "cell_type": "code",
   "execution_count": 17,
   "metadata": {},
   "outputs": [],
   "source": [
    "import boto3\n",
    "import os\n",
    "import sys\n",
    "from botocore.exceptions import BotoCoreError, ClientError\n",
    "from contextlib import closing\n",
    "from tempfile import gettempdir\n",
    "\n",
    "polly_client = boto3.client(\"polly\")\n",
    "s3 = boto3.resource('s3')"
   ]
  },
  {
   "cell_type": "code",
   "execution_count": 2,
   "metadata": {},
   "outputs": [
    {
     "data": {
      "text/plain": [
       "s3.Bucket(name='test-bucket-49938-556')"
      ]
     },
     "execution_count": 2,
     "metadata": {},
     "output_type": "execute_result"
    }
   ],
   "source": [
    "bucket_name = 'test-bucket-49938-556'\n",
    "s3.create_bucket(Bucket=bucket_name)"
   ]
  },
  {
   "cell_type": "code",
   "execution_count": 15,
   "metadata": {},
   "outputs": [],
   "source": [
    "prompt = \"\"\"As you gear up to build great Conversation Actions for the Google Assistant, \n",
    "find out how to leverage one of the principles that practically defines what it means to be \"conversational\",\n",
    "our ability to take mental leaps, to draw inferences, to be informative, to feel like we’re making progress.\"\"\" "
   ]
  },
  {
   "cell_type": "code",
   "execution_count": 21,
   "metadata": {},
   "outputs": [],
   "source": [
    "audio = polly_client.synthesize_speech(\n",
    "                Text=prompt,\n",
    "                VoiceId='Amy',\n",
    "                Engine = 'neural',\n",
    "                OutputFormat=\"mp3\"\n",
    ")"
   ]
  },
  {
   "cell_type": "code",
   "execution_count": 22,
   "metadata": {},
   "outputs": [],
   "source": [
    "audio_stream = audio[\"AudioStream\"]\n",
    "with open(\"response.mp3\", \"wb\") as file:\n",
    "    file.write(audio_stream.read())"
   ]
  },
  {
   "cell_type": "code",
   "execution_count": 23,
   "metadata": {},
   "outputs": [],
   "source": [
    "prompt = \"\"\"The 4.8-magnitude earthquake that hit near Whitehouse Station, New Jersey, on Friday morning was, \n",
    "in many quarters of New York City, an anecdote generator of seismic intensity. \n",
    "The shaking woke me up; I groggily confirmed my suspicions on X, where all the posts said, \n",
    "basically, “Was that an earthquake?” Minutes later, I was dressed and outdoors, recorder in pocket, \n",
    "to do what I do best: eavesdrop on my neighbors. It wasn’t hard. \n",
    "“Sarah!” the proprietor of a basement-level dry-cleaning establishment said.\"\"\""
   ]
  },
  {
   "cell_type": "code",
   "execution_count": 25,
   "metadata": {},
   "outputs": [],
   "source": [
    "audio = polly_client.synthesize_speech(\n",
    "                Text=prompt,\n",
    "                VoiceId='Amy',\n",
    "                Engine = 'neural',\n",
    "                OutputFormat=\"ogg_vorbis\"\n",
    ")"
   ]
  },
  {
   "cell_type": "code",
   "execution_count": 26,
   "metadata": {},
   "outputs": [],
   "source": [
    "audio_stream = audio[\"AudioStream\"]\n",
    "with open(\"response.ogg\", \"wb\") as file:\n",
    "    file.write(audio_stream.read())"
   ]
  }
 ],
 "metadata": {
  "kernelspec": {
   "display_name": "myenv",
   "language": "python",
   "name": "python3"
  },
  "language_info": {
   "codemirror_mode": {
    "name": "ipython",
    "version": 3
   },
   "file_extension": ".py",
   "mimetype": "text/x-python",
   "name": "python",
   "nbconvert_exporter": "python",
   "pygments_lexer": "ipython3",
   "version": "3.12.2"
  }
 },
 "nbformat": 4,
 "nbformat_minor": 2
}
