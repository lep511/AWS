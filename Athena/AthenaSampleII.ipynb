{
 "cells": [
  {
   "cell_type": "code",
   "execution_count": 36,
   "id": "d2b4129e",
   "metadata": {},
   "outputs": [],
   "source": [
    "import boto3\n",
    "import pandas as pd\n",
    "import time"
   ]
  },
  {
   "cell_type": "code",
   "execution_count": 2,
   "id": "57f8f1c5",
   "metadata": {},
   "outputs": [],
   "source": [
    "athena_client = boto3.client('athena', region_name='us-east-1')"
   ]
  },
  {
   "cell_type": "code",
   "execution_count": 42,
   "id": "6248f091",
   "metadata": {},
   "outputs": [],
   "source": [
    "# Query Execution\n",
    "query = \"\"\"SELECT\n",
    "    httprequest.country,\n",
    "    COUNT(*) AS cantidad\n",
    "FROM \n",
    "    waf_access_logs\n",
    "GROUP BY\n",
    "    httprequest.country\n",
    "ORDER BY cantidad DESC\n",
    "LIMIT 10\"\"\"\n",
    "\n",
    "response = athena_client.start_query_execution(\n",
    "    QueryString=query,\n",
    "    QueryExecutionContext={\n",
    "        'Database': 'glueaccesslogsdatabase-duzex3xzallx'\n",
    "    },\n",
    "    ResultConfiguration={\n",
    "        'OutputLocation': 's3://strengthen-template-athenaoutputlocation-bg4sr3tmokfe'\n",
    "    }\n",
    ")"
   ]
  },
  {
   "cell_type": "code",
   "execution_count": 44,
   "id": "1ad8b3b3",
   "metadata": {},
   "outputs": [],
   "source": [
    "# Query Results\n",
    "query_execution_id = response['QueryExecutionId']\n",
    "query_status = athena_client.get_query_execution(QueryExecutionId=query_execution_id)\n",
    "if query_status['QueryExecution']['Status']['State'] == 'SUCCEEDED':\n",
    "    results_paginator = athena_client.get_paginator('get_query_results')\n",
    "    results_iter = results_paginator.paginate(\n",
    "        QueryExecutionId=query_execution_id,\n",
    "        PaginationConfig={'PageSize': 1000}\n",
    "    )\n",
    "    results_list = []\n",
    "    for results in results_iter:\n",
    "        for row in results['ResultSet']['Rows']:\n",
    "            results_list.append(row['Data'])\n",
    "else:\n",
    "    time.sleep(3)\n",
    "    print('Query still running, please rerun this cell to see results')\n"
   ]
  },
  {
   "cell_type": "code",
   "execution_count": 45,
   "id": "f8ae0f44",
   "metadata": {},
   "outputs": [],
   "source": [
    "df = pd.DataFrame(results_list)\n",
    "cols_name = [col['VarCharValue'] for col in df.iloc[0]]\n",
    "df.columns = cols_name\n",
    "for col in cols_name:\n",
    "    df[col] = df[col].apply(lambda x: x['VarCharValue'])\n",
    "df.drop(0, inplace=True)\n",
    "df.reset_index(drop=True, inplace=True)"
   ]
  },
  {
   "cell_type": "code",
   "execution_count": 46,
   "id": "f096bfd5",
   "metadata": {},
   "outputs": [
    {
     "data": {
      "text/html": [
       "<div>\n",
       "<style scoped>\n",
       "    .dataframe tbody tr th:only-of-type {\n",
       "        vertical-align: middle;\n",
       "    }\n",
       "\n",
       "    .dataframe tbody tr th {\n",
       "        vertical-align: top;\n",
       "    }\n",
       "\n",
       "    .dataframe thead th {\n",
       "        text-align: right;\n",
       "    }\n",
       "</style>\n",
       "<table border=\"1\" class=\"dataframe\">\n",
       "  <thead>\n",
       "    <tr style=\"text-align: right;\">\n",
       "      <th></th>\n",
       "      <th>country</th>\n",
       "      <th>cantidad</th>\n",
       "    </tr>\n",
       "  </thead>\n",
       "  <tbody>\n",
       "    <tr>\n",
       "      <th>0</th>\n",
       "      <td>US</td>\n",
       "      <td>42673</td>\n",
       "    </tr>\n",
       "    <tr>\n",
       "      <th>1</th>\n",
       "      <td>UY</td>\n",
       "      <td>145</td>\n",
       "    </tr>\n",
       "    <tr>\n",
       "      <th>2</th>\n",
       "      <td>FR</td>\n",
       "      <td>106</td>\n",
       "    </tr>\n",
       "    <tr>\n",
       "      <th>3</th>\n",
       "      <td>NL</td>\n",
       "      <td>28</td>\n",
       "    </tr>\n",
       "    <tr>\n",
       "      <th>4</th>\n",
       "      <td>DE</td>\n",
       "      <td>25</td>\n",
       "    </tr>\n",
       "    <tr>\n",
       "      <th>5</th>\n",
       "      <td>PT</td>\n",
       "      <td>14</td>\n",
       "    </tr>\n",
       "    <tr>\n",
       "      <th>6</th>\n",
       "      <td>SG</td>\n",
       "      <td>14</td>\n",
       "    </tr>\n",
       "    <tr>\n",
       "      <th>7</th>\n",
       "      <td>IN</td>\n",
       "      <td>14</td>\n",
       "    </tr>\n",
       "    <tr>\n",
       "      <th>8</th>\n",
       "      <td>AU</td>\n",
       "      <td>13</td>\n",
       "    </tr>\n",
       "    <tr>\n",
       "      <th>9</th>\n",
       "      <td>GB</td>\n",
       "      <td>13</td>\n",
       "    </tr>\n",
       "  </tbody>\n",
       "</table>\n",
       "</div>"
      ],
      "text/plain": [
       "  country cantidad\n",
       "0      US    42673\n",
       "1      UY      145\n",
       "2      FR      106\n",
       "3      NL       28\n",
       "4      DE       25\n",
       "5      PT       14\n",
       "6      SG       14\n",
       "7      IN       14\n",
       "8      AU       13\n",
       "9      GB       13"
      ]
     },
     "execution_count": 46,
     "metadata": {},
     "output_type": "execute_result"
    }
   ],
   "source": [
    "df"
   ]
  },
  {
   "cell_type": "code",
   "execution_count": 48,
   "id": "9a2c082b",
   "metadata": {},
   "outputs": [
    {
     "data": {
      "image/png": "[encoded data removed]",
      "text/plain": [
       "<Figure size 1200x800 with 1 Axes>"
      ]
     },
     "metadata": {},
     "output_type": "display_data"
    }
   ],
   "source": [
    "# Plot log results\n",
    "df.cantidad = df.cantidad.astype(int)\n",
    "df.plot.bar(x='country', y='cantidad', rot=0, figsize=(12, 8));"
   ]
  }
 ],
 "metadata": {
  "kernelspec": {
   "display_name": "personal",
   "language": "python",
   "name": "python3"
  },
  "language_info": {
   "codemirror_mode": {
    "name": "ipython",
    "version": 3
   },
   "file_extension": ".py",
   "mimetype": "text/x-python",
   "name": "python",
   "nbconvert_exporter": "python",
   "pygments_lexer": "ipython3",
   "version": "3.11.3"
  }
 },
 "nbformat": 4,
 "nbformat_minor": 5
}
