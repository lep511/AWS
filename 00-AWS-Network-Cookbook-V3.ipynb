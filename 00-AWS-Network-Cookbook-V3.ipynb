{
 "cells": [
  {
   "cell_type": "markdown",
   "metadata": {},
   "source": [
    "# Redes\n",
    "\n",
    "Muchos temas apasionantes, como la visión por ordenador, el Internet de las cosas (IoT) y los bots de chat con IA, dominan los titulares. Esto hace que se olviden las tecnologías básicas tradicionales. Aunque es fantástico tener muchas capacidades nuevas al alcance de la mano, es importante darse cuenta de que estas tecnologías no serían posibles sin una base sólida de conectividad fiable y segura. El procesamiento de datos sólo es útil si los resultados se entregan de forma fiable y son accesibles a través de una red. Los contenedores son un método fantástico de despliegue de aplicaciones, pero proporcionan la mejor experiencia para los usuarios cuando están conectados en red.\n",
    "\n",
    "Los servicios y características de red dentro de AWS son la columna vertebral de casi todos los grandes servicios que cubrimos en este libro. AWS tiene muchas características excelentes para que conectes lo que quieras, donde quieras y como quieras. Obtener una mejor comprensión de las redes le permitirá tener una mejor comprensión de la nube y por lo tanto estar más cómodo usándola."
   ]
  },
  {
   "cell_type": "code",
   "execution_count": 1,
   "metadata": {},
   "outputs": [],
   "source": [
    "import boto3\n",
    "import json\n",
    "\n",
    "region_aws = 'us-east-1'\n",
    "\n",
    "ec2 = boto3.resource('ec2', region_name=region_aws)\n",
    "ec2_client = boto3.client('ec2', region_name=region_aws)"
   ]
  },
  {
   "cell_type": "markdown",
   "metadata": {},
   "source": [
    "### Definición de su red virtual privada en la nube mediante la creación de una VPC de Amazon\n",
    "\n",
    "<img src=\"https://learning.oreilly.com/api/v2/epubs/urn:orm:book:9781492092599/files/assets/awsc_0201.png\" width=\"650\">"
   ]
  },
  {
   "cell_type": "code",
   "execution_count": 2,
   "metadata": {},
   "outputs": [],
   "source": [
    "# create VPC\n",
    "vpc = ec2.create_vpc(CidrBlock='174.16.0.0/16')\n",
    "vpc.create_tags(Tags=[{\"Key\": \"Name\", \"Value\": \"AWSCookBook\"}])\n",
    "vpc.wait_until_available()"
   ]
  },
  {
   "cell_type": "markdown",
   "metadata": {},
   "source": [
    "*Cuando se crea una VPC, la documentación indica que el mayor tamaño de bloque para los CIDR IPv4 de la VPC es una máscara de red /16 (65.536 direcciones IP). El más pequeño es una máscara de red /28 (16 direcciones IP).*"
   ]
  },
  {
   "cell_type": "code",
   "execution_count": 3,
   "metadata": {},
   "outputs": [
    {
     "name": "stdout",
     "output_type": "stream",
     "text": [
      "{\n",
      "    \"CidrBlock\": \"174.16.0.0/16\",\n",
      "    \"CidrBlockAssociationSet\": [\n",
      "        {\n",
      "            \"AssociationId\": \"vpc-cidr-assoc-04a431a9b0b899e81\",\n",
      "            \"CidrBlock\": \"174.16.0.0/16\",\n",
      "            \"CidrBlockState\": {\n",
      "                \"State\": \"associated\"\n",
      "            }\n",
      "        }\n",
      "    ],\n",
      "    \"DhcpOptionsId\": \"dopt-023e90ceacfaf337c\",\n",
      "    \"InstanceTenancy\": \"default\",\n",
      "    \"IsDefault\": false,\n",
      "    \"OwnerId\": \"899696702655\",\n",
      "    \"State\": \"available\",\n",
      "    \"Tags\": [\n",
      "        {\n",
      "            \"Key\": \"Name\",\n",
      "            \"Value\": \"AWSCookBook\"\n",
      "        }\n",
      "    ],\n",
      "    \"VpcId\": \"vpc-0c4672fb3b1b5a4be\"\n",
      "}\n"
     ]
    }
   ],
   "source": [
    "vpc_decribe = ec2_client.describe_vpcs(VpcIds=[vpc.id])[\"Vpcs\"][0]\n",
    "print(json.dumps(vpc_decribe, sort_keys=True, indent=4))"
   ]
  },
  {
   "cell_type": "markdown",
   "metadata": {},
   "source": [
    "Hay dos razones importantes para seleccionar cuidadosamente los bloques CIDR para su VPC:\n",
    "\n",
    "* Una vez que un bloque CIDR está asociado a una VPC, no puede ser modificado (aunque puede ser ampliado). Si desea modificar un bloque CIDR, deberá eliminarlo (y todos los recursos que contiene) y volver a crearlo.\n",
    "\n",
    "* Si una VPC está conectada a otras redes mediante peering o pasarelas (por ejemplo, Tránsito y VPN), tener rangos de IP superpuestos causará problemas no deseados.\n",
    "\n",
    "Puede añadir espacio IPv4 a la VPC utilizando el comando aws ec2 associate-vpc-cidr-block para especificar el espacio IPv4 adicional. Cuando el espacio IP escasea por el uso y el subaprovisionamiento, es bueno saber que no es necesario dedicar un gran bloque a una VPC, especialmente si no está seguro de que se utilizará todo."
   ]
  },
  {
   "cell_type": "code",
   "execution_count": 4,
   "metadata": {},
   "outputs": [
    {
     "data": {
      "text/plain": [
       "{'CidrBlockAssociation': {'AssociationId': 'vpc-cidr-assoc-058f6ede9746e6a5c',\n",
       "  'CidrBlock': '174.17.0.0/16',\n",
       "  'CidrBlockState': {'State': 'associating'}},\n",
       " 'VpcId': 'vpc-0c4672fb3b1b5a4be',\n",
       " 'ResponseMetadata': {'RequestId': 'c2677a48-1ccd-4823-8c26-1de18d0580e3',\n",
       "  'HTTPStatusCode': 200,\n",
       "  'HTTPHeaders': {'x-amzn-requestid': 'c2677a48-1ccd-4823-8c26-1de18d0580e3',\n",
       "   'cache-control': 'no-cache, no-store',\n",
       "   'strict-transport-security': 'max-age=31536000; includeSubDomains',\n",
       "   'vary': 'accept-encoding',\n",
       "   'content-type': 'text/xml;charset=UTF-8',\n",
       "   'transfer-encoding': 'chunked',\n",
       "   'date': 'Sat, 01 Oct 2022 17:06:31 GMT',\n",
       "   'server': 'AmazonEC2'},\n",
       "  'RetryAttempts': 0}}"
      ]
     },
     "execution_count": 4,
     "metadata": {},
     "output_type": "execute_result"
    }
   ],
   "source": [
    "# Este es un ejemplo de asociación de un bloque CIDR IPv4 adicional a su VPC:\n",
    "ec2_client.associate_vpc_cidr_block(\n",
    "    VpcId=vpc.id,\n",
    "    CidrBlock='174.17.0.0/16'\n",
    ")"
   ]
  },
  {
   "cell_type": "markdown",
   "metadata": {},
   "source": [
    "Amazon VPC admite direcciones IPv4 e IPv6 y tiene cuotas de tamaño de bloque de CIDR diferentes para cada una de ellas. De forma predeterminada, todas las VPC y subredes deben tener bloques de CIDR IPv4. Esto no se puede cambiar. Si lo desea, puede asociar un bloque de CIDR IPv6 a su VPC especificando la opción --amazon-provided-ipv6-cidr-block. \n",
    "\n",
    "Este es un ejemplo de creación de una VPC con un bloque CIDR IPv6:"
   ]
  },
  {
   "cell_type": "code",
   "execution_count": 5,
   "metadata": {},
   "outputs": [],
   "source": [
    "vpc = ec2.create_vpc(CidrBlock='10.10.0.0/16', AmazonProvidedIpv6CidrBlock=True)\n",
    "vpc.create_tags(Tags=[{\"Key\": \"Name\", \"Value\": \"AWSCookBook-IPv6\"}])\n",
    "vpc.wait_until_available()"
   ]
  },
  {
   "cell_type": "markdown",
   "metadata": {},
   "source": [
    "Una VPC es una construcción regional en AWS. Una región es un área geográfica, y las zonas de disponibilidad son centros de datos físicos que residen en una región. Las regiones abarcan todas las zonas de disponibilidad (AZ), que son grupos de centros de datos físicos aislados. El número de AZs por región varía, pero todas las regiones tienen al menos tres. Para obtener la información más actualizada sobre las regiones y las zonas de disponibilidad de AWS, consulte este artículo sobre [\"Regiones y zonas de disponibilidad\"](https://aws.amazon.com/es/about-aws/global-infrastructure/regions_az/).\n",
    "\n",
    "Según la guía del usuario de la VPC, la cuota inicial de bloques CIDR IPv4 por VPC es de 5. Puede aumentarse a 50. El número permitido de bloques CIDR IPv6 por VPC es 1."
   ]
  },
  {
   "cell_type": "markdown",
   "metadata": {},
   "source": [
    "### Creación de un nivel de red con subredes y una tabla de rutas en una VPC\n",
    "\n",
    "Cree una tabla de rutas dentro de su VPC. Cree dos subredes en zonas de disponibilidad separadas en una VPC. Asocie la tabla de rutas con las subredes.\n",
    "\n",
    "<img src=\"https://learning.oreilly.com/api/v2/epubs/urn:orm:book:9781492092599/files/assets/awsc_0202.png\" width=\"650\">\n"
   ]
  },
  {
   "cell_type": "code",
   "execution_count": 6,
   "metadata": {},
   "outputs": [
    {
     "data": {
      "text/plain": [
       "[ec2.Tag(resource_id='rtb-0842226dcf949f4fd', key='Name', value='AWSCookbook-RT')]"
      ]
     },
     "execution_count": 6,
     "metadata": {},
     "output_type": "execute_result"
    }
   ],
   "source": [
    "# Crear una tabla de rutas. Esto le permitirá crear rutas de tráfico personalizadas para las subredes asociadas:\n",
    "routetable = vpc.create_route_table()\n",
    "routetable.create_tags(Tags=[{\"Key\": \"Name\", \"Value\": \"AWSCookbook-RT\"}])"
   ]
  },
  {
   "cell_type": "code",
   "execution_count": 7,
   "metadata": {},
   "outputs": [],
   "source": [
    "# Cree dos subredes, una en cada AZ. Esto definirá los espacios de direcciones para que pueda crear recursos para su VPC:\n",
    "subnet_1 = ec2.create_subnet(\n",
    "    CidrBlock='10.10.0.0/24', \n",
    "    VpcId=vpc.id,\n",
    "    AvailabilityZone='us-east-1a'\n",
    ")\n",
    "subnet_2 = ec2.create_subnet(\n",
    "    CidrBlock='10.10.1.0/24',\n",
    "    VpcId=vpc.id,\n",
    "    AvailabilityZone='us-east-1b'\n",
    ")"
   ]
  },
  {
   "cell_type": "code",
   "execution_count": 8,
   "metadata": {},
   "outputs": [
    {
     "data": {
      "text/plain": [
       "[ec2.Tag(resource_id='subnet-0fb0893334dbb2abf', key='Name', value='AWSCookbook-Subnet-2')]"
      ]
     },
     "execution_count": 8,
     "metadata": {},
     "output_type": "execute_result"
    }
   ],
   "source": [
    "subnet_1.create_tags(Tags=[{\"Key\": \"Name\", \"Value\": \"AWSCookbook-Subnet-1\"}])\n",
    "subnet_2.create_tags(Tags=[{\"Key\": \"Name\", \"Value\": \"AWSCookbook-Subnet-2\"}])"
   ]
  },
  {
   "cell_type": "markdown",
   "metadata": {},
   "source": [
    "En los comandos anteriores, el parámetro `--availability-zone` utiliza una variable de entorno para su región añadiendo caracteres a o b en minúsculas para indicar qué AZ lógica (por ejemplo, us-east-1a) debe aprovisionar cada subred. AWS afirma que estos nombres son aleatorios por cuenta para equilibrar los recursos entre las AZ.\n",
    "\n",
    "Si utiliza varias cuentas de AWS y desea encontrar ID de zona de disponibilidad para una región que sean coherentes, ejecute este comando:"
   ]
  },
  {
   "cell_type": "code",
   "execution_count": 9,
   "metadata": {},
   "outputs": [
    {
     "name": "stdout",
     "output_type": "stream",
     "text": [
      "us-east-1a\n",
      "us-east-1b\n",
      "us-east-1c\n",
      "us-east-1d\n",
      "us-east-1e\n",
      "us-east-1f\n"
     ]
    }
   ],
   "source": [
    "for i in ec2_client.describe_availability_zones()[\"AvailabilityZones\"]:\n",
    "    print(i[\"ZoneName\"])"
   ]
  },
  {
   "cell_type": "code",
   "execution_count": 10,
   "metadata": {},
   "outputs": [
    {
     "data": {
      "text/plain": [
       "ec2.RouteTableAssociation(id='rtbassoc-013a304c524ace097')"
      ]
     },
     "execution_count": 10,
     "metadata": {},
     "output_type": "execute_result"
    }
   ],
   "source": [
    "# Asociar la tabla de rutas con las dos subredes:\n",
    "routetable.associate_with_subnet(SubnetId=subnet_1.id)\n",
    "routetable.associate_with_subnet(SubnetId=subnet_2.id)"
   ]
  },
  {
   "cell_type": "code",
   "execution_count": 11,
   "metadata": {},
   "outputs": [
    {
     "name": "stdout",
     "output_type": "stream",
     "text": [
      "[\n",
      "    {\n",
      "        \"AssignIpv6AddressOnCreation\": false,\n",
      "        \"AvailabilityZone\": \"us-east-1b\",\n",
      "        \"AvailabilityZoneId\": \"use1-az2\",\n",
      "        \"AvailableIpAddressCount\": 251,\n",
      "        \"CidrBlock\": \"10.10.1.0/24\",\n",
      "        \"DefaultForAz\": false,\n",
      "        \"EnableDns64\": false,\n",
      "        \"Ipv6CidrBlockAssociationSet\": [],\n",
      "        \"Ipv6Native\": false,\n",
      "        \"MapCustomerOwnedIpOnLaunch\": false,\n",
      "        \"MapPublicIpOnLaunch\": false,\n",
      "        \"OwnerId\": \"899696702655\",\n",
      "        \"PrivateDnsNameOptionsOnLaunch\": {\n",
      "            \"EnableResourceNameDnsAAAARecord\": false,\n",
      "            \"EnableResourceNameDnsARecord\": false,\n",
      "            \"HostnameType\": \"ip-name\"\n",
      "        },\n",
      "        \"State\": \"available\",\n",
      "        \"SubnetArn\": \"arn:aws:ec2:us-east-1:899696702655:subnet/subnet-0fb0893334dbb2abf\",\n",
      "        \"SubnetId\": \"subnet-0fb0893334dbb2abf\",\n",
      "        \"Tags\": [\n",
      "            {\n",
      "                \"Key\": \"Name\",\n",
      "                \"Value\": \"AWSCookbook-Subnet-2\"\n",
      "            }\n",
      "        ],\n",
      "        \"VpcId\": \"vpc-09ebcbcb231eb359a\"\n",
      "    },\n",
      "    {\n",
      "        \"AssignIpv6AddressOnCreation\": false,\n",
      "        \"AvailabilityZone\": \"us-east-1a\",\n",
      "        \"AvailabilityZoneId\": \"use1-az1\",\n",
      "        \"AvailableIpAddressCount\": 251,\n",
      "        \"CidrBlock\": \"10.10.0.0/24\",\n",
      "        \"DefaultForAz\": false,\n",
      "        \"EnableDns64\": false,\n",
      "        \"Ipv6CidrBlockAssociationSet\": [],\n",
      "        \"Ipv6Native\": false,\n",
      "        \"MapCustomerOwnedIpOnLaunch\": false,\n",
      "        \"MapPublicIpOnLaunch\": false,\n",
      "        \"OwnerId\": \"899696702655\",\n",
      "        \"PrivateDnsNameOptionsOnLaunch\": {\n",
      "            \"EnableResourceNameDnsAAAARecord\": false,\n",
      "            \"EnableResourceNameDnsARecord\": false,\n",
      "            \"HostnameType\": \"ip-name\"\n",
      "        },\n",
      "        \"State\": \"available\",\n",
      "        \"SubnetArn\": \"arn:aws:ec2:us-east-1:899696702655:subnet/subnet-08dbe94610dcd0477\",\n",
      "        \"SubnetId\": \"subnet-08dbe94610dcd0477\",\n",
      "        \"Tags\": [\n",
      "            {\n",
      "                \"Key\": \"Name\",\n",
      "                \"Value\": \"AWSCookbook-Subnet-1\"\n",
      "            }\n",
      "        ],\n",
      "        \"VpcId\": \"vpc-09ebcbcb231eb359a\"\n",
      "    }\n",
      "]\n"
     ]
    }
   ],
   "source": [
    "# Recupere la configuración de las subredes que creó y verifique que están en la misma VPC pero en diferentes AZs:\n",
    "subnet_data = ec2_client.describe_subnets(SubnetIds=[subnet_1.id, subnet_2.id])['Subnets']\n",
    "print(json.dumps(subnet_data, sort_keys=True, indent=4))"
   ]
  },
  {
   "cell_type": "code",
   "execution_count": 12,
   "metadata": {},
   "outputs": [
    {
     "data": {
      "text/plain": [
       "[{'Associations': [{'Main': False,\n",
       "    'RouteTableAssociationId': 'rtbassoc-0c353921fcee53082',\n",
       "    'RouteTableId': 'rtb-0842226dcf949f4fd',\n",
       "    'SubnetId': 'subnet-08dbe94610dcd0477',\n",
       "    'AssociationState': {'State': 'associated'}},\n",
       "   {'Main': False,\n",
       "    'RouteTableAssociationId': 'rtbassoc-013a304c524ace097',\n",
       "    'RouteTableId': 'rtb-0842226dcf949f4fd',\n",
       "    'SubnetId': 'subnet-0fb0893334dbb2abf',\n",
       "    'AssociationState': {'State': 'associated'}}],\n",
       "  'PropagatingVgws': [],\n",
       "  'RouteTableId': 'rtb-0842226dcf949f4fd',\n",
       "  'Routes': [{'DestinationCidrBlock': '10.10.0.0/16',\n",
       "    'GatewayId': 'local',\n",
       "    'Origin': 'CreateRouteTable',\n",
       "    'State': 'active'},\n",
       "   {'DestinationIpv6CidrBlock': '2600:1f18:7d8:cb00::/56',\n",
       "    'GatewayId': 'local',\n",
       "    'Origin': 'CreateRouteTable',\n",
       "    'State': 'active'}],\n",
       "  'Tags': [{'Key': 'Name', 'Value': 'AWSCookbook-RT'}],\n",
       "  'VpcId': 'vpc-09ebcbcb231eb359a',\n",
       "  'OwnerId': '899696702655'}]"
      ]
     },
     "execution_count": 12,
     "metadata": {},
     "output_type": "execute_result"
    }
   ],
   "source": [
    "# Valida que la tabla de rutas que has creado está asociada a las dos subredes:\n",
    "ec2_client.describe_route_tables(RouteTableIds=[routetable.id])['RouteTables']"
   ]
  },
  {
   "cell_type": "markdown",
   "metadata": {},
   "source": [
    "Al diseñar una estrategia de subred, debe elegir tamaños de subred que se ajusten a sus necesidades actuales y tengan en cuenta el crecimiento futuro de su aplicación. Las subredes se utilizan para la colocación de la interfaz de red elástica (ENI) para los recursos de AWS. Esto significa que una ENI concreta vive dentro de una única AZ.\n",
    "\n",
    "AWS reserva las cuatro primeras y la última dirección IP del bloque CIDR de cada subred para características y funcionalidades cuando se crea una subred. Estas no están disponibles para su uso. Según la documentación, estas son las direcciones reservadas en el caso de su ejemplo:\n",
    "\n",
    "* *.0* - Dirección de red.\n",
    "* *.1* - Reservada por AWS para el router de la VPC.\n",
    "* *.2* - Reservada por AWS para la dirección IP del servidor DNS. Siempre se establece el rango de red de la VPC más dos.\n",
    "* *.3* - Reservada por AWS para uso futuro.\n",
    "* *.255* - Dirección de difusión de la red. No se admite la difusión en una VPC.\n",
    "\n",
    "Una subred tiene una tabla de rutas asociada a ella. Las tablas de rutas pueden estar asociadas a una o más subredes y dirigir el tráfico a un destino de su elección (más adelante se hablará de esto con las recetas de pasarela NAT, gateway de Internet y gateway de tránsito). Las entradas dentro de las tablas de rutas se llaman rutas y se definen como pares de Destinos y Objetivos. Al crear la tabla de rutas, se añadió automáticamente una ruta local por defecto que gestiona el tráfico intra-VPC. Tiene la posibilidad de crear rutas personalizadas que se ajusten a sus necesidades. Para obtener una lista completa de los destinos disponibles para utilizar dentro de las tablas de rutas, consulte este [documento de soporte](https://oreil.ly/oKVq1).\n",
    "\n",
    "*Las ENIs reciben una dirección IP de un servidor DHCP administrado por AWS dentro de su VPC. El conjunto de opciones DHCP se configura automáticamente con valores predeterminados para asignar direcciones dentro de las subredes que usted defina.*\n",
    "\n",
    "\n",
    "Cuando se crea una VPC en una región, es una buena práctica repartir las subredes entre las AZ de ese nivel de red. El número de AZs varía según la región, pero la mayoría tienen al menos tres. Un ejemplo de esto en la práctica sería que si tuvieras un tier público y un tier aislado repartidos en dos AZs, tendrías un total de cuatro subredes: 2 tiers × 2 subredes por tier (una por AZ).\n",
    "\n",
    "<img src=\"https://learning.oreilly.com/api/v2/epubs/urn:orm:book:9781492092599/files/assets/awsc_0203.png\" width=\"600\">"
   ]
  },
  {
   "cell_type": "markdown",
   "metadata": {},
   "source": [
    "### Conexión de su VPC a Internet mediante un gateway de Internet\n",
    "\n",
    "Crearás un gateway de internet y lo adjuntarás a tu VPC. A continuación, modificará la tabla de rutas asociada a la subred en la que se encuentra la instancia EC2. Añadirás una ruta que envíe el tráfico de las subredes a la gateway de Internet. Por último, crea una IP elástica (EIP) y asóciala a la instancia:\n",
    "\n",
    "<img src=\"https://learning.oreilly.com/api/v2/epubs/urn:orm:book:9781492092599/files/assets/awsc_0204.png\" width=\"700\">"
   ]
  },
  {
   "cell_type": "code",
   "execution_count": 13,
   "metadata": {},
   "outputs": [],
   "source": [
    "# Crear un gateway de Internet (IGW):\n",
    "internetgateway = ec2.create_internet_gateway(\n",
    "    TagSpecifications=[{\"ResourceType\": \"internet-gateway\", \n",
    "    \"Tags\": [{\n",
    "            \"Key\": \"Name\", \n",
    "            \"Value\": \"AWSCookbook-IGW\"}\n",
    "            ]}\n",
    "    ]\n",
    ")"
   ]
  },
  {
   "cell_type": "code",
   "execution_count": 14,
   "metadata": {},
   "outputs": [
    {
     "data": {
      "text/plain": [
       "{'ResponseMetadata': {'RequestId': '7e546f61-9cca-4223-a0f7-d29e5a4444d4',\n",
       "  'HTTPStatusCode': 200,\n",
       "  'HTTPHeaders': {'x-amzn-requestid': '7e546f61-9cca-4223-a0f7-d29e5a4444d4',\n",
       "   'cache-control': 'no-cache, no-store',\n",
       "   'strict-transport-security': 'max-age=31536000; includeSubDomains',\n",
       "   'content-type': 'text/xml;charset=UTF-8',\n",
       "   'content-length': '243',\n",
       "   'date': 'Sat, 01 Oct 2022 17:07:10 GMT',\n",
       "   'server': 'AmazonEC2'},\n",
       "  'RetryAttempts': 0}}"
      ]
     },
     "execution_count": 14,
     "metadata": {},
     "output_type": "execute_result"
    }
   ],
   "source": [
    "# Adjunte el gateway de Internet a la VPC existente:\n",
    "vpc.attach_internet_gateway(InternetGatewayId=internetgateway.id)"
   ]
  },
  {
   "cell_type": "code",
   "execution_count": 15,
   "metadata": {},
   "outputs": [],
   "source": [
    "# En la tabla de rutas de su VPC, cree una ruta que establezca el destino de la ruta por defecto a la gateway de Internet:\n",
    "route = routetable.create_route(DestinationCidrBlock='0.0.0.0/0', GatewayId=internetgateway.id)"
   ]
  },
  {
   "cell_type": "code",
   "execution_count": 16,
   "metadata": {},
   "outputs": [],
   "source": [
    "# Crear una EIP (dirección IP elástica):\n",
    "allocation_id = ec2_client.allocate_address(Domain='vpc')['AllocationId']"
   ]
  },
  {
   "cell_type": "markdown",
   "metadata": {},
   "source": [
    "*AWS define una dirección IP elástica (EIP) como \"una dirección IPv4 estática diseñada para la computación dinámica en la nube. Una dirección EIP se asigna a su cuenta de AWS y es suya hasta que la libere\".*"
   ]
  },
  {
   "cell_type": "code",
   "execution_count": null,
   "metadata": {},
   "outputs": [],
   "source": [
    "# Asocie el EIP con la instancia EC2 existente:\n",
    "ec2_client.associate_address(\n",
    "    AllocationId = allocation_id, \n",
    "    InstanceId = 'i-00b555777daa2e67c'\n",
    ")"
   ]
  },
  {
   "cell_type": "code",
   "execution_count": null,
   "metadata": {
    "vscode": {
     "languageId": "shellscript"
    }
   },
   "outputs": [],
   "source": [
    "# Haz ping a un host en Internet para probar la conectividad a Internet:\n",
    "ping -c 4 homestarrunner.com"
   ]
  },
  {
   "cell_type": "markdown",
   "metadata": {},
   "source": [
    "La ruta que ha creado en su entrada de la tabla de rutas envía todo el tráfico no local al IGW que proporciona la conectividad a Internet de su VPC. Debido a que estaba trabajando con una instancia EC2 existente en ejecución, necesitaba crear una IP elástica y asociarla con la instancia. Estos pasos permitieron la comunicación por Internet con la instancia sin tener que interactuar con ella. Existe una opción para habilitar la autoasignación de direcciones IPv4 públicas para las instancias recién lanzadas en una subred. Sin embargo, si utiliza la autoasignación, las IPs públicas cambiarán después de cada reinicio de la instancia. Las EIPs asociadas a una instancia no cambiarán tras los reinicios.\n",
    "\n",
    "*NOTA: Las tablas de rutas dan prioridad a la ruta más específica. AWS también permite crear rutas más específicas que la ruta local por defecto.*\n",
    "\n",
    "El grupo de seguridad asociado a su instancia no permite el acceso entrante. Si desea permitir el acceso entrante a Internet a una instancia en una subred pública, tendrá que configurar una regla de entrada de grupo de seguridad para ello.\n",
    "\n",
    "Una subred que tenga una ruta 0.0.0.0/0 asociada a un IGW se considera una subred pública. Se considera una práctica recomendada de seguridad colocar sólo en este tipo de nivel instancias que requieran acceso entrante desde la Internet pública. Los equilibradores de carga orientados al usuario final suelen colocarse en subredes públicas. Una subred pública no sería una opción ideal para un servidor de aplicaciones o una base de datos. En estos casos, puede crear un nivel privado o un nivel aislado que se adapte a sus necesidades con el enrutamiento adecuado y utilizar una gateway NAT para dirigir el tráfico de la subred a la puerta de enlace de Internet sólo cuando se requiera el acceso a Internet saliente."
   ]
  },
  {
   "cell_type": "markdown",
   "metadata": {},
   "source": [
    "### Uso de una gateway NAT para el acceso saliente a Internet desde subredes privadas\n",
    "\n",
    "*Problema*\n",
    "Usted tiene subredes públicas en su VPC que tienen una ruta a un gateway de Internet. Desea aprovechar esta configuración para proporcionar acceso a Internet sólo de salida para una instancia en subredes privadas.\n",
    "\n",
    "*Solución*\n",
    "Cree un gateway NAT en una de las subredes públicas. A continuación, cree una IP elástica y asóciela a la gateway NAT. En la tabla de rutas asociada a las subredes privadas, añada una ruta para el tráfico de salida a Internet que tenga como objetivo la gateway NAT.\n",
    "\n",
    "<img src=\"https://learning.oreilly.com/api/v2/epubs/urn:orm:book:9781492092599/files/assets/awsc_0205.png\" width=\"700\">"
   ]
  },
  {
   "cell_type": "code",
   "execution_count": null,
   "metadata": {
    "vscode": {
     "languageId": "shellscript"
    }
   },
   "outputs": [],
   "source": [
    "# create VPC\n",
    "vpc = ec2.create_vpc(CidrBlock='174.16.0.0/16')\n",
    "vpc.create_tags(Tags=[{\"Key\": \"Name\", \"Value\": \"AWSCookBook\"}])\n",
    "vpc.wait_until_available()"
   ]
  },
  {
   "cell_type": "code",
   "execution_count": 3,
   "metadata": {
    "vscode": {
     "languageId": "shellscript"
    }
   },
   "outputs": [
    {
     "data": {
      "text/plain": [
       "[ec2.Tag(resource_id='rtb-073751320771e8ce3', key='Name', value='AWSCookbook-RT-Private2')]"
      ]
     },
     "execution_count": 3,
     "metadata": {},
     "output_type": "execute_result"
    }
   ],
   "source": [
    "# Crear routables\n",
    "routetable_public = vpc.create_route_table()\n",
    "routetable_public.create_tags(Tags=[{\"Key\": \"Name\", \"Value\": \"AWSCookbook-RT-Public\"}])\n",
    "\n",
    "routetable_private1 = vpc.create_route_table()\n",
    "routetable_private1.create_tags(Tags=[{\"Key\": \"Name\", \"Value\": \"AWSCookbook-RT-Private1\"}])\n",
    "\n",
    "routetable_private2 = vpc.create_route_table()\n",
    "routetable_private2.create_tags(Tags=[{\"Key\": \"Name\", \"Value\": \"AWSCookbook-RT-Private2\"}])"
   ]
  },
  {
   "cell_type": "code",
   "execution_count": 5,
   "metadata": {
    "vscode": {
     "languageId": "shellscript"
    }
   },
   "outputs": [],
   "source": [
    "# Cree cuatro subredes:\n",
    "subnet_1 = ec2.create_subnet(\n",
    "    CidrBlock='174.16.0.0/24', \n",
    "    VpcId=vpc.id,\n",
    "    AvailabilityZone='us-east-1a'\n",
    ")\n",
    "subnet_2 = ec2.create_subnet(\n",
    "    CidrBlock='174.16.1.0/24',\n",
    "    VpcId=vpc.id,\n",
    "    AvailabilityZone='us-east-1b'\n",
    ")\n",
    "subnet_3 = ec2.create_subnet(\n",
    "    CidrBlock='174.16.2.0/24', \n",
    "    VpcId=vpc.id,\n",
    "    AvailabilityZone='us-east-1a'\n",
    ")\n",
    "subnet_4 = ec2.create_subnet(\n",
    "    CidrBlock='174.16.3.0/24',\n",
    "    VpcId=vpc.id,\n",
    "    AvailabilityZone='us-east-1b'\n",
    ")"
   ]
  },
  {
   "cell_type": "code",
   "execution_count": 6,
   "metadata": {
    "vscode": {
     "languageId": "shellscript"
    }
   },
   "outputs": [
    {
     "data": {
      "text/plain": [
       "[ec2.Tag(resource_id='subnet-0c28e67b99af7fc65', key='Name', value='AWSCookbook-Private-SN')]"
      ]
     },
     "execution_count": 6,
     "metadata": {},
     "output_type": "execute_result"
    }
   ],
   "source": [
    "subnet_1.create_tags(Tags=[{\"Key\": \"Name\", \"Value\": \"AWSCookbook-Public-SN\"}])\n",
    "subnet_2.create_tags(Tags=[{\"Key\": \"Name\", \"Value\": \"AWSCookbook-Public-SN\"}])\n",
    "subnet_3.create_tags(Tags=[{\"Key\": \"Name\", \"Value\": \"AWSCookbook-Private-SN\"}])\n",
    "subnet_4.create_tags(Tags=[{\"Key\": \"Name\", \"Value\": \"AWSCookbook-Private-SN\"}])"
   ]
  },
  {
   "cell_type": "code",
   "execution_count": 7,
   "metadata": {
    "vscode": {
     "languageId": "shellscript"
    }
   },
   "outputs": [],
   "source": [
    "# Crear un gateway de Internet (IGW):\n",
    "internetgateway = ec2.create_internet_gateway(\n",
    "    TagSpecifications=[{\"ResourceType\": \"internet-gateway\", \n",
    "    \"Tags\": [{\n",
    "            \"Key\": \"Name\", \n",
    "            \"Value\": \"AWSCookbook-IGW\"}\n",
    "            ]}\n",
    "    ]\n",
    ")"
   ]
  },
  {
   "cell_type": "code",
   "execution_count": 8,
   "metadata": {
    "vscode": {
     "languageId": "shellscript"
    }
   },
   "outputs": [
    {
     "data": {
      "text/plain": [
       "{'ResponseMetadata': {'RequestId': 'ea4b1fe8-dd41-4461-afdb-d3aa7cca47e9',\n",
       "  'HTTPStatusCode': 200,\n",
       "  'HTTPHeaders': {'x-amzn-requestid': 'ea4b1fe8-dd41-4461-afdb-d3aa7cca47e9',\n",
       "   'cache-control': 'no-cache, no-store',\n",
       "   'strict-transport-security': 'max-age=31536000; includeSubDomains',\n",
       "   'content-type': 'text/xml;charset=UTF-8',\n",
       "   'content-length': '243',\n",
       "   'date': 'Mon, 03 Oct 2022 16:52:09 GMT',\n",
       "   'server': 'AmazonEC2'},\n",
       "  'RetryAttempts': 0}}"
      ]
     },
     "execution_count": 8,
     "metadata": {},
     "output_type": "execute_result"
    }
   ],
   "source": [
    "# Adjunte el gateway de Internet a la VPC existente:\n",
    "vpc.attach_internet_gateway(InternetGatewayId=internetgateway.id)"
   ]
  }
 ],
 "metadata": {
  "kernelspec": {
   "display_name": "Python 3.9.12 ('base')",
   "language": "python",
   "name": "python3"
  },
  "language_info": {
   "codemirror_mode": {
    "name": "ipython",
    "version": 3
   },
   "file_extension": ".py",
   "mimetype": "text/x-python",
   "name": "python",
   "nbconvert_exporter": "python",
   "pygments_lexer": "ipython3",
   "version": "3.9.12"
  },
  "orig_nbformat": 4,
  "vscode": {
   "interpreter": {
    "hash": "c9cdd2fa3b32da9704bd8048bdba085d67219855a318f4adc7f095bb5cfa603b"
   }
  }
 },
 "nbformat": 4,
 "nbformat_minor": 2
}
