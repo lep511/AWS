{
 "cells": [
  {
   "cell_type": "code",
   "execution_count": null,
   "id": "f514e080-29a8-4662-98e7-02298c804d47",
   "metadata": {},
   "outputs": [],
   "source": [
    "import json\n",
    "import boto3\n",
    "\n",
    "client = boto3.client('dynamodb')\n",
    "\n",
    "def handler(event, context):\n",
    "  data = client.scan(\n",
    "    TableName='Dragons'\n",
    "  )\n",
    "\n",
    "  response = {\n",
    "      'statusCode': 200,\n",
    "      'body': json.dumps(data),\n",
    "      'headers': {\n",
    "        'Content-Type': 'application/json',\n",
    "        'Access-Control-Allow-Origin': '*'\n",
    "      },\n",
    "  }\n",
    "  \n",
    "  return response"
   ]
  }
 ],
 "metadata": {
  "kernelspec": {
   "display_name": "default:Python",
   "language": "python",
   "name": "conda-env-default-py"
  },
  "language_info": {
   "codemirror_mode": {
    "name": "ipython",
    "version": 3
   },
   "file_extension": ".py",
   "mimetype": "text/x-python",
   "name": "python",
   "nbconvert_exporter": "python",
   "pygments_lexer": "ipython3",
   "version": "3.9.10"
  }
 },
 "nbformat": 4,
 "nbformat_minor": 5
}
