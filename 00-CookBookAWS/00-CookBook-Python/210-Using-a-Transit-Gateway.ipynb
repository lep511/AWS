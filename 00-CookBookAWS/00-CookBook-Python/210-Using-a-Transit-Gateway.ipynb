{
 "cells": [
  {
   "cell_type": "markdown",
   "metadata": {},
   "source": [
    "### Habilitación de las conexiones Cross-VPC transitivas mediante gateway de tránsito\n",
    "\n",
    "#### Problema\n",
    "Necesita implementar el enrutamiento transitivo a través de todas sus VPCs y compartir la salida de Internet desde una VPC de servicios compartidos a sus otras VPCs para reducir el número de gateways NAT que tiene que implementar. \n",
    "\n",
    "#### Solución\n",
    "Implemente una gateway de tránsito de AWS (TGW) y configure los anexos de la VPC de la gateway de tránsito para todas sus VPC. Actualice sus tablas de rutas de VPC de cada VPC para enviar todo el tráfico no local a la gateway de tránsito y habilite el uso compartido de la gateway de NAT en su VPC de servicios compartidos para todas sus VPCs de radio.\n",
    "<br>\n",
    "<br>\n",
    "<img src=\"https://learning.oreilly.com/api/v2/epubs/urn:orm:book:9781492092599/files/assets/awsc_0214.png\" width=\"600\">"
   ]
  },
  {
   "cell_type": "markdown",
   "metadata": {},
   "source": [
    "**NOTA:** La cuota inicial por defecto de VPCs por Región por cuenta es de cinco. Esta solución desplegará tres VPCs. Si ya tiene más de dos VPC, puede decidir entre cuatro opciones: desplegar en una Región diferente, eliminar cualquier VPC existente que ya no sea necesaria, utilizar una cuenta de prueba o solicitar un aumento de cuota."
   ]
  },
  {
   "cell_type": "code",
   "execution_count": 1,
   "metadata": {},
   "outputs": [],
   "source": [
    "import boto3\n",
    "import json\n",
    "import time\n",
    "\n",
    "region_aws = 'us-east-1'\n",
    "\n",
    "ec2 = boto3.resource('ec2', region_name=region_aws)\n",
    "ec2_client = boto3.client('ec2', region_name=region_aws)"
   ]
  },
  {
   "cell_type": "code",
   "execution_count": 2,
   "metadata": {},
   "outputs": [],
   "source": [
    "# create 3 VPC\n",
    "vpc1 = ec2.create_vpc(CidrBlock='10.10.0.0/16')\n",
    "vpc1.create_tags(Tags=[{\"Key\": \"Name\", \"Value\": \"AWSCookBookVPC-1\"}])\n",
    "vpc2 = ec2.create_vpc(CidrBlock='10.11.0.0/16')\n",
    "vpc2.create_tags(Tags=[{\"Key\": \"Name\", \"Value\": \"AWSCookBookVPC-2\"}])\n",
    "vpc3 = ec2.create_vpc(CidrBlock='10.12.0.0/16')\n",
    "vpc3.create_tags(Tags=[{\"Key\": \"Name\", \"Value\": \"AWSCookBookVPC-3\"}])\n",
    "vpc3.wait_until_available()"
   ]
  },
  {
   "cell_type": "code",
   "execution_count": 3,
   "metadata": {},
   "outputs": [],
   "source": [
    "# Crear 4 subredes para VPC1\n",
    "vpc1_subnet_private1 = ec2.create_subnet(\n",
    "    CidrBlock='10.10.0.0/24', \n",
    "    VpcId=vpc1.id,\n",
    "    AvailabilityZone=region_aws+'a'\n",
    ")\n",
    "vpc1_subnet_private2 = ec2.create_subnet(\n",
    "    CidrBlock='10.10.1.0/24',\n",
    "    VpcId=vpc1.id,\n",
    "    AvailabilityZone=region_aws+'b'\n",
    ")\n",
    "vpc1_subnet_private_att_1 = ec2.create_subnet(\n",
    "    CidrBlock='10.10.2.0/24', \n",
    "    VpcId=vpc1.id,\n",
    "    AvailabilityZone=region_aws+'a'\n",
    ")\n",
    "vpc1_subnet_private_att_2 = ec2.create_subnet(\n",
    "    CidrBlock='10.10.3.0/24',\n",
    "    VpcId=vpc1.id,\n",
    "    AvailabilityZone=region_aws+'b'\n",
    ")"
   ]
  },
  {
   "cell_type": "code",
   "execution_count": 4,
   "metadata": {},
   "outputs": [
    {
     "data": {
      "text/plain": [
       "[ec2.Tag(resource_id='subnet-0996ccc4df7d05795', key='Name', value='AWSCookBookVPC-1-Private-Attach-2')]"
      ]
     },
     "execution_count": 4,
     "metadata": {},
     "output_type": "execute_result"
    }
   ],
   "source": [
    "# Create tags\n",
    "vpc1_subnet_private1.create_tags(Tags=[{\"Key\": \"Name\", \"Value\": \"AWSCookBookVPC-1-Private-1\"}])\n",
    "vpc1_subnet_private2.create_tags(Tags=[{\"Key\": \"Name\", \"Value\": \"AWSCookBookVPC-1-Private-2\"}])\n",
    "vpc1_subnet_private_att_1.create_tags(Tags=[{\"Key\": \"Name\", \"Value\": \"AWSCookBookVPC-1-Private-Attach-1\"}])\n",
    "vpc1_subnet_private_att_2.create_tags(Tags=[{\"Key\": \"Name\", \"Value\": \"AWSCookBookVPC-1-Private-Attach-2\"}])"
   ]
  },
  {
   "cell_type": "code",
   "execution_count": 5,
   "metadata": {},
   "outputs": [],
   "source": [
    "# Cree 6 subredes para VPC2:\n",
    "vpc2_subnet_public1 = ec2.create_subnet(\n",
    "    CidrBlock='10.11.0.0/24', \n",
    "    VpcId=vpc2.id,\n",
    "    AvailabilityZone=region_aws+'a'\n",
    ")\n",
    "vpc2_subnet_public2 = ec2.create_subnet(\n",
    "    CidrBlock='10.11.1.0/24',\n",
    "    VpcId=vpc2.id,\n",
    "    AvailabilityZone=region_aws+'b'\n",
    ")\n",
    "vpc2_subnet_private1 = ec2.create_subnet(\n",
    "    CidrBlock='10.11.2.0/24', \n",
    "    VpcId=vpc2.id,\n",
    "    AvailabilityZone=region_aws+'a'\n",
    ")\n",
    "vpc2_subnet_private2 = ec2.create_subnet(\n",
    "    CidrBlock='10.11.3.0/24',\n",
    "    VpcId=vpc2.id,\n",
    "    AvailabilityZone=region_aws+'b'\n",
    ")\n",
    "vpc2_subnet_private_att_1 = ec2.create_subnet(\n",
    "    CidrBlock='10.11.4.0/24',\n",
    "    VpcId=vpc2.id,\n",
    "    AvailabilityZone=region_aws+'a'\n",
    ")\n",
    "vpc2_subnet_private_att_2 = ec2.create_subnet(\n",
    "    CidrBlock='10.11.5.0/24',\n",
    "    VpcId=vpc2.id,\n",
    "    AvailabilityZone=region_aws+'b'\n",
    ")"
   ]
  },
  {
   "cell_type": "code",
   "execution_count": 6,
   "metadata": {},
   "outputs": [
    {
     "data": {
      "text/plain": [
       "[ec2.Tag(resource_id='subnet-07ca98fa90ea72263', key='Name', value='AWSCookBookVPC-2-Private-Attach-2')]"
      ]
     },
     "execution_count": 6,
     "metadata": {},
     "output_type": "execute_result"
    }
   ],
   "source": [
    "# Create tags\n",
    "vpc2_subnet_public1.create_tags(Tags=[{\"Key\": \"Name\", \"Value\": \"AWSCookBookVPC-2-Public-1\"}])\n",
    "vpc2_subnet_public2.create_tags(Tags=[{\"Key\": \"Name\", \"Value\": \"AWSCookBookVPC-2-Public-2\"}])\n",
    "vpc2_subnet_private1.create_tags(Tags=[{\"Key\": \"Name\", \"Value\": \"AWSCookBookVPC-2-Private-1\"}])\n",
    "vpc2_subnet_private2.create_tags(Tags=[{\"Key\": \"Name\", \"Value\": \"AWSCookBookVPC-2-Private-2\"}])\n",
    "vpc2_subnet_private_att_1.create_tags(Tags=[{\"Key\": \"Name\", \"Value\": \"AWSCookBookVPC-2-Private-Attach-1\"}])\n",
    "vpc2_subnet_private_att_2.create_tags(Tags=[{\"Key\": \"Name\", \"Value\": \"AWSCookBookVPC-2-Private-Attach-2\"}])"
   ]
  },
  {
   "cell_type": "code",
   "execution_count": 7,
   "metadata": {},
   "outputs": [],
   "source": [
    "# Cree 4 subredes para VPC3:\n",
    "vpc3_subnet_private1 = ec2.create_subnet(\n",
    "    CidrBlock='10.12.0.0/24', \n",
    "    VpcId=vpc3.id,\n",
    "    AvailabilityZone=region_aws+'a'\n",
    ")\n",
    "vpc3_subnet_private2 = ec2.create_subnet(\n",
    "    CidrBlock='10.12.1.0/24',\n",
    "    VpcId=vpc3.id,\n",
    "    AvailabilityZone=region_aws+'b'\n",
    ")\n",
    "vpc3_subnet_private_att_1 = ec2.create_subnet(\n",
    "    CidrBlock='10.12.2.0/24', \n",
    "    VpcId=vpc3.id,\n",
    "    AvailabilityZone=region_aws+'a'\n",
    ")\n",
    "vpc3_subnet_private_att_2 = ec2.create_subnet(\n",
    "    CidrBlock='10.12.3.0/24',\n",
    "    VpcId=vpc3.id,\n",
    "    AvailabilityZone=region_aws+'b'\n",
    ")"
   ]
  },
  {
   "cell_type": "code",
   "execution_count": 8,
   "metadata": {},
   "outputs": [
    {
     "data": {
      "text/plain": [
       "[ec2.Tag(resource_id='subnet-0c12ba489e8cc1311', key='Name', value='AWSCookBookVPC-3-Private-Attach-2')]"
      ]
     },
     "execution_count": 8,
     "metadata": {},
     "output_type": "execute_result"
    }
   ],
   "source": [
    "# Create tags\n",
    "vpc3_subnet_private1.create_tags(Tags=[{\"Key\": \"Name\", \"Value\": \"AWSCookBookVPC-3-Private-1\"}])\n",
    "vpc3_subnet_private2.create_tags(Tags=[{\"Key\": \"Name\", \"Value\": \"AWSCookBookVPC-3-Private-2\"}])\n",
    "vpc3_subnet_private_att_1.create_tags(Tags=[{\"Key\": \"Name\", \"Value\": \"AWSCookBookVPC-3-Private-Attach-1\"}])\n",
    "vpc3_subnet_private_att_2.create_tags(Tags=[{\"Key\": \"Name\", \"Value\": \"AWSCookBookVPC-3-Private-Attach-2\"}])"
   ]
  },
  {
   "cell_type": "code",
   "execution_count": 9,
   "metadata": {},
   "outputs": [
    {
     "data": {
      "text/plain": [
       "[ec2.Tag(resource_id='rtb-0bfaba1339cd8b54e', key='Name', value='AWSCookBookVPC-3-Private-Route-Table-b')]"
      ]
     },
     "execution_count": 9,
     "metadata": {},
     "output_type": "execute_result"
    }
   ],
   "source": [
    "# Crear routables para VPC1 - private\n",
    "vpc1_route_table_private_1 = ec2.create_route_table(VpcId=vpc1.id)\n",
    "vpc1_route_table_private_1.create_tags(Tags=[{\"Key\": \"Name\", \"Value\": \"AWSCookBookVPC-1-Private-Route-Table-a\"}])\n",
    "vpc1_route_table_private_2 = ec2.create_route_table(VpcId=vpc1.id)\n",
    "vpc1_route_table_private_2.create_tags(Tags=[{\"Key\": \"Name\", \"Value\": \"AWSCookBookVPC-1-Private-Route-Table-b\"}])\n",
    "# Crear routables para VPC1 - attach\n",
    "vpc1_route_table_private_att_1 = ec2.create_route_table(VpcId=vpc1.id)\n",
    "vpc1_route_table_private_att_1.create_tags(Tags=[{\"Key\": \"Name\", \"Value\": \"AWSCookBookVPC-1-Private-Attach-Route-Table-a\"}])\n",
    "vpc1_route_table_private_att_2 = ec2.create_route_table(VpcId=vpc1.id)\n",
    "vpc1_route_table_private_att_2.create_tags(Tags=[{\"Key\": \"Name\", \"Value\": \"AWSCookBookVPC-1-Private-Attach-Route-Table-b\"}])\n",
    "\n",
    "# Crear routables para VPC2 - public\n",
    "vpc2_route_table_public = ec2.create_route_table(VpcId=vpc2.id)\n",
    "vpc2_route_table_public.create_tags(Tags=[{\"Key\": \"Name\", \"Value\": \"AWSCookBookVPC-Public-Route-Table\"}])\n",
    "# Crear routables para VPC2 - private\n",
    "vpc2_route_table_private_1 = ec2.create_route_table(VpcId=vpc2.id)\n",
    "vpc2_route_table_private_1.create_tags(Tags=[{\"Key\": \"Name\", \"Value\": \"AWSCookBookVPC-2-Private-Route-Table-a\"}])\n",
    "vpc2_route_table_private_2 = ec2.create_route_table(VpcId=vpc2.id)\n",
    "vpc2_route_table_private_2.create_tags(Tags=[{\"Key\": \"Name\", \"Value\": \"AWSCookBookVPC-2-Private-Route-Table-b\"}])\n",
    "# Crear routables para VPC2 - attach\n",
    "vpc2_route_table_private_att_1 = ec2.create_route_table(VpcId=vpc2.id)\n",
    "vpc2_route_table_private_att_1.create_tags(Tags=[{\"Key\": \"Name\", \"Value\": \"AWSCookBookVPC-2-Private-Attach-Route-Table-a\"}])\n",
    "vpc2_route_table_private_att_2 = ec2.create_route_table(VpcId=vpc2.id)\n",
    "vpc2_route_table_private_att_2.create_tags(Tags=[{\"Key\": \"Name\", \"Value\": \"AWSCookBookVPC-2-Private-Attach-Route-Table-b\"}])\n",
    "\n",
    "# Crear routables para VPC3 - private\n",
    "vpc3_route_table_private_1 = ec2.create_route_table(VpcId=vpc3.id)\n",
    "vpc3_route_table_private_1.create_tags(Tags=[{\"Key\": \"Name\", \"Value\": \"AWSCookBookVPC-3-Private-Route-Table-a\"}])\n",
    "vpc3_route_table_private_2 = ec2.create_route_table(VpcId=vpc3.id)\n",
    "vpc3_route_table_private_2.create_tags(Tags=[{\"Key\": \"Name\", \"Value\": \"AWSCookBookVPC-3-Private-Route-Table-b\"}])\n",
    "# Crear routables para VPC3 - attach\n",
    "vpc3_route_table_private_att_1 = ec2.create_route_table(VpcId=vpc3.id)\n",
    "vpc3_route_table_private_att_1.create_tags(Tags=[{\"Key\": \"Name\", \"Value\": \"AWSCookBookVPC-3-Private-Attach-Route-Table-a\"}])\n",
    "vpc3_route_table_private_att_2 = ec2.create_route_table(VpcId=vpc3.id)\n",
    "vpc3_route_table_private_att_2.create_tags(Tags=[{\"Key\": \"Name\", \"Value\": \"AWSCookBookVPC-3-Private-Attach-Route-Table-b\"}])\n"
   ]
  },
  {
   "cell_type": "code",
   "execution_count": 10,
   "metadata": {},
   "outputs": [
    {
     "data": {
      "text/plain": [
       "ec2.RouteTableAssociation(id='rtbassoc-0cf654ab950c0b76e')"
      ]
     },
     "execution_count": 10,
     "metadata": {},
     "output_type": "execute_result"
    }
   ],
   "source": [
    "# Asoociar la tabla de rutas a la subred privada de VPC1\n",
    "vpc1_route_table_private_1.associate_with_subnet(SubnetId=vpc1_subnet_private1.id)\n",
    "vpc1_route_table_private_2.associate_with_subnet(SubnetId=vpc1_subnet_private2.id)\n",
    "vpc1_route_table_private_att_1.associate_with_subnet(SubnetId=vpc1_subnet_private_att_1.id)\n",
    "vpc1_route_table_private_att_2.associate_with_subnet(SubnetId=vpc1_subnet_private_att_2.id)\n",
    "\n",
    "\n",
    "# Asoociar la tabla de rutas a la subred privada de VPC2\n",
    "vpc2_route_table_private_1.associate_with_subnet(SubnetId=vpc2_subnet_private1.id)\n",
    "vpc2_route_table_private_2.associate_with_subnet(SubnetId=vpc2_subnet_private2.id)\n",
    "vpc2_route_table_private_att_1.associate_with_subnet(SubnetId=vpc2_subnet_private_att_1.id)\n",
    "vpc2_route_table_private_att_2.associate_with_subnet(SubnetId=vpc2_subnet_private_att_2.id)\n",
    "\n",
    "\n",
    "# Asoociar la tabla de rutas a la subred privada de VPC3\n",
    "vpc3_route_table_private_1.associate_with_subnet(SubnetId=vpc3_subnet_private1.id)\n",
    "vpc3_route_table_private_2.associate_with_subnet(SubnetId=vpc3_subnet_private2.id)\n",
    "vpc3_route_table_private_att_1.associate_with_subnet(SubnetId=vpc3_subnet_private_att_1.id)\n",
    "vpc3_route_table_private_att_2.associate_with_subnet(SubnetId=vpc3_subnet_private_att_2.id)\n",
    "\n",
    "\n",
    "# Asoociar la tabla de rutas a la subred publica de VPC2\n",
    "vpc2_route_table_public.associate_with_subnet(SubnetId=vpc2_subnet_public1.id)\n",
    "vpc2_route_table_public.associate_with_subnet(SubnetId=vpc2_subnet_public2.id)"
   ]
  },
  {
   "cell_type": "code",
   "execution_count": 11,
   "metadata": {},
   "outputs": [],
   "source": [
    "# Create 2 elastic IP\n",
    "eip1 = ec2_client.allocate_address(Domain='vpc')\n",
    "eip2 = ec2_client.allocate_address(Domain='vpc')"
   ]
  },
  {
   "cell_type": "code",
   "execution_count": 12,
   "metadata": {},
   "outputs": [],
   "source": [
    "# Create 2 NAT Gateways\n",
    "nat1 = ec2_client.create_nat_gateway(\n",
    "    AllocationId=eip1['AllocationId'],\n",
    "    SubnetId=vpc2_subnet_public1.id\n",
    ")\n",
    "nat2 = ec2_client.create_nat_gateway(\n",
    "    AllocationId=eip2['AllocationId'],\n",
    "    SubnetId=vpc2_subnet_public2.id\n",
    ")"
   ]
  },
  {
   "cell_type": "code",
   "execution_count": 13,
   "metadata": {},
   "outputs": [
    {
     "data": {
      "text/plain": [
       "[ec2.Tag(resource_id='igw-0788087edb99e361a', key='Name', value='AWSCookBookIGW')]"
      ]
     },
     "execution_count": 13,
     "metadata": {},
     "output_type": "execute_result"
    }
   ],
   "source": [
    "# create 1 internet gateways\n",
    "igw = ec2.create_internet_gateway()\n",
    "igw.create_tags(Tags=[{\"Key\": \"Name\", \"Value\": \"AWSCookBookIGW\"}])"
   ]
  },
  {
   "cell_type": "code",
   "execution_count": null,
   "metadata": {},
   "outputs": [],
   "source": [
    "# attach internet gateway to VPC N° 2\n",
    "response = vpc2.attach_internet_gateway(InternetGatewayId=igw.id)\n",
    "\n",
    "# Cree una ruta de Internet para la tabla de enrutamiento pública:\n",
    "vpc2_route_table_public.create_route(\n",
    "    DestinationCidrBlock='0.0.0.0/0',\n",
    "    GatewayId=igw.id\n",
    ")"
   ]
  },
  {
   "cell_type": "markdown",
   "metadata": {},
   "source": [
    "#### Crear un gateway de tránsito"
   ]
  },
  {
   "cell_type": "code",
   "execution_count": 15,
   "metadata": {},
   "outputs": [],
   "source": [
    "tgw = ec2_client.create_transit_gateway(\n",
    "    Description='AWSCookBookTGW',\n",
    "    Options={\n",
    "        'AmazonSideAsn': 65010,\n",
    "        'AutoAcceptSharedAttachments': 'enable',\n",
    "        'DefaultRouteTableAssociation': 'enable',\n",
    "        'DefaultRouteTablePropagation': 'enable',\n",
    "        'DnsSupport': 'enable',\n",
    "        'VpnEcmpSupport': 'enable'\n",
    "    }\n",
    ")"
   ]
  },
  {
   "cell_type": "code",
   "execution_count": 16,
   "metadata": {},
   "outputs": [],
   "source": [
    "# Tag the transit gateway\n",
    "response = ec2_client.create_tags(\n",
    "    Resources=[tgw['TransitGateway']['TransitGatewayId']],\n",
    "    Tags=[{'Key': 'Name', 'Value': 'AWSCookBookTGW'}]\n",
    ")"
   ]
  },
  {
   "cell_type": "markdown",
   "metadata": {},
   "source": [
    "Espere hasta que el estado del gateway de tránsito esté disponible. Esto puede tardar varios minutos:"
   ]
  },
  {
   "cell_type": "code",
   "execution_count": 19,
   "metadata": {},
   "outputs": [
    {
     "name": "stdout",
     "output_type": "stream",
     "text": [
      "pending...\n",
      "available\n"
     ]
    }
   ],
   "source": [
    "state = \"pending\"\n",
    "print(tgw['TransitGateway']['State'] + \"...\")\n",
    "while state == \"pending\":\n",
    "    # Describe the transit gateway\n",
    "    tgw_state = ec2_client.describe_transit_gateways(\n",
    "        TransitGatewayIds=[\n",
    "            tgw['TransitGateway']['TransitGatewayId'],\n",
    "        ]\n",
    "    )\n",
    "    state = tgw_state['TransitGateways'][0]['State']\n",
    "print(tgw_state['TransitGateways'][0]['State'])"
   ]
  },
  {
   "cell_type": "code",
   "execution_count": 20,
   "metadata": {},
   "outputs": [],
   "source": [
    "# Create a transit gateway attachment for VPC1:\n",
    "tgw_attachment_vpc1 = ec2_client.create_transit_gateway_vpc_attachment(\n",
    "    TransitGatewayId=tgw['TransitGateway']['TransitGatewayId'],\n",
    "    VpcId=vpc1.id,\n",
    "    SubnetIds=[\n",
    "        vpc1_subnet_private_att_1.id,\n",
    "        vpc1_subnet_private_att_2.id,\n",
    "    ],\n",
    ")"
   ]
  },
  {
   "cell_type": "code",
   "execution_count": 21,
   "metadata": {},
   "outputs": [],
   "source": [
    "# Create a transit gateway attachment for VPC2:\n",
    "tgw_attachment_vpc2 = ec2_client.create_transit_gateway_vpc_attachment(\n",
    "    TransitGatewayId=tgw['TransitGateway']['TransitGatewayId'],\n",
    "    VpcId=vpc2.id,\n",
    "    SubnetIds=[\n",
    "        vpc2_subnet_private_att_1.id,\n",
    "        vpc2_subnet_private_att_2.id,\n",
    "    ],\n",
    ")"
   ]
  },
  {
   "cell_type": "code",
   "execution_count": 22,
   "metadata": {},
   "outputs": [],
   "source": [
    "# Create a transit gateway attachment for VPC3:\n",
    "tgw_attachment_vpc3 = ec2_client.create_transit_gateway_vpc_attachment(\n",
    "    TransitGatewayId=tgw['TransitGateway']['TransitGatewayId'],\n",
    "    VpcId=vpc3.id,\n",
    "    SubnetIds=[\n",
    "        vpc3_subnet_private_att_1.id,\n",
    "        vpc3_subnet_private_att_2.id,\n",
    "    ],\n",
    ")"
   ]
  },
  {
   "cell_type": "code",
   "execution_count": 23,
   "metadata": {},
   "outputs": [],
   "source": [
    "# Create Tags for the transit gateway attachments\n",
    "response = ec2_client.create_tags(\n",
    "    Resources=[\n",
    "        tgw_attachment_vpc1['TransitGatewayVpcAttachment']['TransitGatewayAttachmentId']\n",
    "    ],\n",
    "    Tags=[\n",
    "        {'Key': 'Name', 'Value': 'AWSCookBookTGW-Attachment-VPC1'}\n",
    "    ]\n",
    ")\n",
    "\n",
    "response = ec2_client.create_tags(\n",
    "    Resources=[\n",
    "        tgw_attachment_vpc2['TransitGatewayVpcAttachment']['TransitGatewayAttachmentId']\n",
    "    ],\n",
    "    Tags=[\n",
    "        {'Key': 'Name', 'Value': 'AWSCookBookTGW-Attachment-VPC2'}\n",
    "    ]\n",
    ")\n",
    "\n",
    "response = ec2_client.create_tags(\n",
    "    Resources=[\n",
    "        tgw_attachment_vpc3['TransitGatewayVpcAttachment']['TransitGatewayAttachmentId']\n",
    "    ],\n",
    "    Tags=[\n",
    "        {'Key': 'Name', 'Value': 'AWSCookBookTGW-Attachment-VPC3'}\n",
    "    ]\n",
    ")"
   ]
  },
  {
   "cell_type": "markdown",
   "metadata": {},
   "source": [
    "Añade rutas para todas las subredes privadas en las VPCs 1 y 3 para apuntar al TGW para destinos de 0.0.0.0/0. Esto permite la salida consolidada de Internet a través de la puerta de enlace NAT en la VPC2 y el enrutamiento transitivo a otras VPCs:"
   ]
  },
  {
   "cell_type": "code",
   "execution_count": 27,
   "metadata": {},
   "outputs": [
    {
     "data": {
      "text/plain": [
       "ec2.Route(route_table_id='rtb-051746db12798b38f', destination_cidr_block='0.0.0.0/0')"
      ]
     },
     "execution_count": 27,
     "metadata": {},
     "output_type": "execute_result"
    }
   ],
   "source": [
    "vpc1_route_table_private_1.create_route(\n",
    "    DestinationCidrBlock='0.0.0.0/0',\n",
    "    TransitGatewayId=tgw['TransitGateway']['TransitGatewayId']\n",
    ")\n",
    "vpc1_route_table_private_2.create_route(\n",
    "    DestinationCidrBlock='0.0.0.0/0',\n",
    "    TransitGatewayId=tgw['TransitGateway']['TransitGatewayId']\n",
    ")"
   ]
  },
  {
   "cell_type": "code",
   "execution_count": 28,
   "metadata": {},
   "outputs": [
    {
     "data": {
      "text/plain": [
       "ec2.Route(route_table_id='rtb-0bfaba1339cd8b54e', destination_cidr_block='0.0.0.0/0')"
      ]
     },
     "execution_count": 28,
     "metadata": {},
     "output_type": "execute_result"
    }
   ],
   "source": [
    "vpc3_route_table_private_1.create_route(\n",
    "    DestinationCidrBlock='0.0.0.0/0',\n",
    "    TransitGatewayId=tgw['TransitGateway']['TransitGatewayId']\n",
    ")\n",
    "vpc3_route_table_private_2.create_route(\n",
    "    DestinationCidrBlock='0.0.0.0/0',\n",
    "    TransitGatewayId=tgw['TransitGateway']['TransitGatewayId']\n",
    ")"
   ]
  },
  {
   "cell_type": "markdown",
   "metadata": {},
   "source": [
    "Ahora añade una ruta a tu superred 10.10.0.0/24 en las tablas de rutas asociadas a las subredes privadas de la VPC2, apuntando su destino a la gateway de tránsito. Esto es más específico que el destino 0.0.0.0/0 que ya está presente y, por lo tanto, tiene mayor prioridad en las decisiones de enrutamiento. Esto dirige el tráfico con destino a las VPC 1, 2 y 3 al TGW:"
   ]
  },
  {
   "cell_type": "code",
   "execution_count": 29,
   "metadata": {},
   "outputs": [
    {
     "data": {
      "text/plain": [
       "ec2.Route(route_table_id='rtb-047d045989df5034b', destination_cidr_block='10.10.0.0/24')"
      ]
     },
     "execution_count": 29,
     "metadata": {},
     "output_type": "execute_result"
    }
   ],
   "source": [
    "vpc2_route_table_private_1.create_route(\n",
    "    DestinationCidrBlock='10.10.0.0/24',\n",
    "    TransitGatewayId=tgw['TransitGateway']['TransitGatewayId']\n",
    ")\n",
    "vpc2_route_table_private_2.create_route(\n",
    "    DestinationCidrBlock='10.10.0.0/24',\n",
    "    TransitGatewayId=tgw['TransitGateway']['TransitGatewayId']\n",
    ")"
   ]
  },
  {
   "cell_type": "markdown",
   "metadata": {},
   "source": [
    "Consulta las gateways NAT en uso; las necesitaremos para añadir rutas a ellas para el tráfico de Internet:"
   ]
  },
  {
   "cell_type": "code",
   "execution_count": 30,
   "metadata": {},
   "outputs": [],
   "source": [
    "nat1_id = nat1['NatGateway']['NatGatewayId']\n",
    "nat2_id = nat2['NatGateway']['NatGatewayId']"
   ]
  },
  {
   "cell_type": "code",
   "execution_count": 31,
   "metadata": {},
   "outputs": [
    {
     "data": {
      "text/plain": [
       "ec2.Route(route_table_id='rtb-047d045989df5034b', destination_cidr_block='0.0.0.0/0')"
      ]
     },
     "execution_count": 31,
     "metadata": {},
     "output_type": "execute_result"
    }
   ],
   "source": [
    "# Add a route for the attachment subnet in VPC2 to direct internet traffic to the NAT gateway:\n",
    "vpc2_route_table_private_att_1.create_route(\n",
    "    DestinationCidrBlock='0.0.0.0/0',\n",
    "    NatGatewayId=nat1_id\n",
    ")\n",
    "vpc2_route_table_private_att_2.create_route(\n",
    "    DestinationCidrBlock='0.0.0.0/0',\n",
    "    NatGatewayId=nat2_id\n",
    ")"
   ]
  },
  {
   "cell_type": "code",
   "execution_count": 33,
   "metadata": {},
   "outputs": [
    {
     "data": {
      "text/plain": [
       "ec2.Route(route_table_id='rtb-0a848a3cf99ff10ce', destination_cidr_block='10.10.0.0/24')"
      ]
     },
     "execution_count": 33,
     "metadata": {},
     "output_type": "execute_result"
    }
   ],
   "source": [
    "# Add a static route to the route tables associated with the public subnet in VPC2. This enables communication back to the TGW to allow sharing the NAT gateway with all attached VPCs:\n",
    "vpc2_route_table_public.create_route(\n",
    "    DestinationCidrBlock='10.10.0.0/24',\n",
    "    TransitGatewayId=tgw['TransitGateway']['TransitGatewayId']\n",
    ")"
   ]
  },
  {
   "cell_type": "code",
   "execution_count": 34,
   "metadata": {},
   "outputs": [
    {
     "data": {
      "text/plain": [
       "ec2.Route(route_table_id='rtb-047d045989df5034b', destination_cidr_block='10.10.0.0/24')"
      ]
     },
     "execution_count": 34,
     "metadata": {},
     "output_type": "execute_result"
    }
   ],
   "source": [
    "# Add a static route for the private subnets in VPC2 to allow communication back to the TGW attachments from VPC2 private subnets:\n",
    "vpc2_route_table_private_1.create_route(\n",
    "    DestinationCidrBlock='10.10.0.0/24',\n",
    "    TransitGatewayId=tgw['TransitGateway']['TransitGatewayId']\n",
    ")\n",
    "vpc2_route_table_private_2.create_route(\n",
    "    DestinationCidrBlock='10.10.0.0/24',\n",
    "    TransitGatewayId=tgw['TransitGateway']['TransitGatewayId']\n",
    ")"
   ]
  },
  {
   "cell_type": "code",
   "execution_count": 44,
   "metadata": {},
   "outputs": [],
   "source": [
    "# Get the transit route table ID:\n",
    "response = ec2_client.describe_transit_gateways(\n",
    "    TransitGatewayIds=[\n",
    "        tgw['TransitGateway']['TransitGatewayId']\n",
    "    ]\n",
    ")\n",
    "tgw_route_table_id = response['TransitGateways'][0]['Options']['AssociationDefaultRouteTableId']"
   ]
  },
  {
   "cell_type": "code",
   "execution_count": 45,
   "metadata": {
    "tags": []
   },
   "outputs": [],
   "source": [
    "# Add a static route in the transit gateway route table for VPC2 (with the NAT gateways) to send all internet traffic over this path:\n",
    "response = ec2_client.create_transit_gateway_route(\n",
    "    TransitGatewayRouteTableId=tgw_route_table_id,\n",
    "    DestinationCidrBlock='0.0.0.0/0',\n",
    "    TransitGatewayAttachmentId=tgw_attachment_vpc2['TransitGatewayVpcAttachment']['TransitGatewayAttachmentId']\n",
    ")"
   ]
  },
  {
   "cell_type": "markdown",
   "metadata": {},
   "source": [
    "#### Controles de validación"
   ]
  },
  {
   "cell_type": "markdown",
   "metadata": {},
   "source": [
    "Asegúrese de que su instancia EC2 1 se ha registrado en SSM. Utilize el siguiente comando en la terminal:\n",
    "\n",
    "`python create_ec2_ssm.py --vpc <vpc-id> --subnet <subnet-id>`\n",
    "\n",
    "Y en la instancia:\n",
    "\n",
    "`ping -c 4 aws.amazon.com`"
   ]
  },
  {
   "cell_type": "markdown",
   "metadata": {},
   "source": [
    "#### Reto 1\n",
    "Puede limitar qué VPC puede acceder a Internet a través de la gateway NAT en VPC2 modificando las tablas de rutas. Intente añadir una ruta más específica de 10.10.0.0/24 en lugar del destino 0.0.0/0 para la VPC3 para ver cómo puede personalizar el reparto de la salida a Internet.\n",
    "\n",
    "#### Reto 2\n",
    "Es posible que no quiera permitir que VPC1 y VPC3 puedan comunicarse entre sí. Intente añadir una nueva tabla de rutas de gateway de tránsito, actualizando los anexos para conseguirlo.\n",
    "\n",
    "#### Reto 3\n",
    "En la solución, usted desplegó tres VPCs cada una de tamaño /26 de subred dentro de la superred 10.10.0.0/24. Hay espacio para una subred /26 adicional. Intente añadir una VPC adicional con un CIDR /26 con subredes y tablas de rutas; a continuación, adjúntela a la gateway de tránsito."
   ]
  },
  {
   "cell_type": "markdown",
   "metadata": {},
   "source": [
    "### Discusión\n",
    "\n",
    "Los gateway de tránsito le permiten implementar rápidamente una topología de red multi-VPC hub-and-spoke para su red en AWS. Es posible que haya tenido que utilizar muchas conexiones de peering para lograr resultados similares o que haya utilizado software de terceros en instancias en una arquitectura VPC de tránsito. La gateway de tránsito también admite el peering entre regiones de las gateways de tránsito y el uso compartido entre cuentas a través de Resource Access Manager (RAM).\n",
    "\n",
    "Cuando adjuntó sus VPC a la gateway de tránsito, utilizó subredes en cada AZ para la resiliencia. También utilizó subredes de \"adjunto\" dedicadas para los adjuntos de la VPC. Puede adjuntar el gateway de tránsito a cualquier subred dentro de su VPC. El uso de una subred dedicada para estos anexos le da flexibilidad para definir de forma granular las subredes que elija para enrutar a la TGW. Es decir, si usted adjunta la subred privada, ésta siempre tendrá una ruta hacia el TGW; esto podría no ser la intención en base a su caso de uso. En tu caso, has configurado las rutas de tus subredes privadas para que envíen todo el tráfico a la gateway de tránsito, lo que ha permitido compartir la gateway de NAT y la de Internet; esto supone un ahorro de costes respecto a tener que desplegar varias gateways de NAT (por ejemplo, una para cada VPC).\n",
    "\n",
    "Puede conectar su red local o cualquier red virtual directamente a un gateway de tránsito, ya que éste actúa como un centro para todo su tráfico de red de AWS. Puede conectar VPNs IPsec, Direct Connect (DX) y dispositivos de red de terceros a la gateway de tránsito para extender su red AWS a redes que no sean AWS. Esto también le permite consolidar conexiones VPN y/o conexiones Direct Connect conectando una directamente a la gateway de tránsito para acceder a todas sus VPC en una región. TGW admite el protocolo de gateway de frontera (BGP) en estos tipos de extensiones de red para las actualizaciones de rutas dinámicas en ambas direcciones.\n",
    "\n",
    "#### Desafío\n",
    "Cree una cuarta VPC y adjunte su TGW a las subredes en ella. Permita que utilice el gateway NAT existente para llegar a Internet."
   ]
  }
 ],
 "metadata": {
  "kernelspec": {
   "display_name": "Python 3.9.12 ('base')",
   "language": "python",
   "name": "python3"
  },
  "language_info": {
   "codemirror_mode": {
    "name": "ipython",
    "version": 3
   },
   "file_extension": ".py",
   "mimetype": "text/x-python",
   "name": "python",
   "nbconvert_exporter": "python",
   "pygments_lexer": "ipython3",
   "version": "3.9.12"
  },
  "orig_nbformat": 4,
  "vscode": {
   "interpreter": {
    "hash": "c9cdd2fa3b32da9704bd8048bdba085d67219855a318f4adc7f095bb5cfa603b"
   }
  }
 },
 "nbformat": 4,
 "nbformat_minor": 2
}
