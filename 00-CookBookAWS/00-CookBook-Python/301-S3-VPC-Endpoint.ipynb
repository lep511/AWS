{
 "cells": [
  {
   "attachments": {},
   "cell_type": "markdown",
   "metadata": {},
   "source": [
    "![image](https://i.ibb.co/d03v41b/architecture-diagramxx.png)"
   ]
  },
  {
   "cell_type": "code",
   "execution_count": null,
   "metadata": {},
   "outputs": [],
   "source": [
    "import boto3\n",
    "import json\n",
    "import time\n",
    "\n",
    "region_aws = 'us-east-1'\n",
    "\n",
    "session = boto3.Session(profile_name='my-profile')\n",
    "ec2 = session.resource('ec2', region_name=region_aws)\n",
    "ec2_client = session.client('ec2', region_name=region_aws)\n",
    "elbv2 = session.client('elbv2', region_name=region_aws)"
   ]
  },
  {
   "cell_type": "code",
   "execution_count": null,
   "metadata": {},
   "outputs": [],
   "source": [
    "# Create VPC\n",
    "vpc_applic = ec2.create_vpc(CidrBlock='10.10.0.0/16')\n",
    "vpc_applic.create_tags(Tags=[{\"Key\": \"Name\", \"Value\": \"Applicance\"}]);"
   ]
  },
  {
   "cell_type": "code",
   "execution_count": null,
   "metadata": {},
   "outputs": [],
   "source": [
    "# Create 2 subnets in VPC Applicance\n",
    "sn_appliance_transit_a = ec2.create_subnet(\n",
    "    VpcId=vpc_applic.id,\n",
    "    CidrBlock='10.10.1.0/24',\n",
    "    AvailabilityZone=region_aws+'a'\n",
    ")\n",
    "sn_appliance_transit_b = ec2.create_subnet(\n",
    "    VpcId=vpc_applic.id,\n",
    "    CidrBlock='10.10.2.0/24',\n",
    "    AvailabilityZone=region_aws+'b'\n",
    ")"
   ]
  },
  {
   "cell_type": "code",
   "execution_count": null,
   "metadata": {},
   "outputs": [],
   "source": [
    "# Tag subnets\n",
    "sn_appliance_transit_a.create_tags(Tags=[{\"Key\": \"Name\", \"Value\": \"Public-Subnet\"}])\n",
    "sn_appliance_transit_b.create_tags(Tags=[{\"Key\": \"Name\", \"Value\": \"Private-Subnet\"}])"
   ]
  },
  {
   "cell_type": "code",
   "execution_count": null,
   "metadata": {},
   "outputs": [],
   "source": [
    "# Create route table for the VPC Applicance\n",
    "rt_appliance_transit_a = vpc_applic.create_route_table()\n",
    "rt_appliance_transit_b = vpc_applic.create_route_table()\n",
    "\n",
    "# Tags Route Tables\n",
    "rt_appliance_transit_a.create_tags(Tags=[{\"Key\": \"Name\", \"Value\": \"Public-RT\"}])\n",
    "rt_appliance_transit_b.create_tags(Tags=[{\"Key\": \"Name\", \"Value\": \"Private-RT\"}])"
   ]
  },
  {
   "cell_type": "code",
   "execution_count": null,
   "metadata": {},
   "outputs": [],
   "source": [
    "# Attach the route table to the subnets\n",
    "rt_appliance_transit_a.associate_with_subnet(SubnetId=sn_appliance_transit_a.id)\n",
    "rt_appliance_transit_b.associate_with_subnet(SubnetId=sn_appliance_transit_b.id)"
   ]
  },
  {
   "cell_type": "code",
   "execution_count": null,
   "metadata": {},
   "outputs": [],
   "source": [
    "# Create Internet Gateway\n",
    "igw = ec2.create_internet_gateway()\n",
    "\n",
    "# Attach Internet Gateway to VPC Applicance\n",
    "vpc_applic.attach_internet_gateway(InternetGatewayId=igw.id);"
   ]
  },
  {
   "cell_type": "code",
   "execution_count": null,
   "metadata": {},
   "outputs": [],
   "source": [
    "# Crear una Elastic IP address\n",
    "elastic_ip_1 = ec2_client.allocate_address(Domain='vpc')"
   ]
  },
  {
   "cell_type": "code",
   "execution_count": null,
   "metadata": {},
   "outputs": [],
   "source": [
    "# Crear un NAT gateway en VPC Applicance\n",
    "natgateway_1 = ec2_client.create_nat_gateway(\n",
    "    AllocationId=elastic_ip_1['AllocationId'],\n",
    "    SubnetId=sn_appliance_transit_a.id\n",
    ")"
   ]
  },
  {
   "cell_type": "code",
   "execution_count": null,
   "metadata": {},
   "outputs": [],
   "source": [
    "# Añada una ruta a la tabla de enrutamiento de la VPC Applicance para el internet natgateway\n",
    "rt_appliance_transit_a.create_route(\n",
    "    DestinationCidrBlock='0.0.0.0/0',\n",
    "    GatewayId=igw.id\n",
    ")"
   ]
  },
  {
   "cell_type": "code",
   "execution_count": null,
   "metadata": {},
   "outputs": [],
   "source": [
    "# Añada una ruta a la tabla de enrutamiento de la VPC Applicance para el NAT gateway\n",
    "rt_appliance_transit_b.create_route(\n",
    "    DestinationCidrBlock='0.0.0.0/0',\n",
    "    NatGatewayId=natgateway_1['NatGateway']['NatGatewayId']\n",
    ")"
   ]
  },
  {
   "attachments": {},
   "cell_type": "markdown",
   "metadata": {},
   "source": [
    "#### Create EC2 instance"
   ]
  },
  {
   "cell_type": "code",
   "execution_count": 27,
   "metadata": {},
   "outputs": [
    {
     "name": "stdout",
     "output_type": "stream",
     "text": [
      "En la terminal ejecute el siguiente comando:\n",
      "    python create_ec2_ssm.py --vpc vpc-0a2ca46f02d3021a8 --subnet subnet-09c8a6922c24fae40 --tag SSM-Public-Instance\n"
     ]
    }
   ],
   "source": [
    "# Create public instance in subnet public\n",
    "print(\"En la terminal ejecute el siguiente comando:\")\n",
    "print(\"    python create_ec2_ssm.py --vpc {} --subnet {} --tag SSM-Public-Instance\".format(vpc_applic.id, sn_appliance_transit_a.id))"
   ]
  },
  {
   "cell_type": "code",
   "execution_count": 29,
   "metadata": {},
   "outputs": [
    {
     "name": "stdout",
     "output_type": "stream",
     "text": [
      "En la terminal ejecute el siguiente comando:\n",
      "    python create_ec2_ssm.py --vpc vpc-0a2ca46f02d3021a8 --subnet subnet-039213c0c26355992 --tag SSM-Private-Instance\n"
     ]
    }
   ],
   "source": [
    "# Create private instance in subnet private\n",
    "print(\"En la terminal ejecute el siguiente comando:\")\n",
    "print(\"    python create_ec2_ssm.py --vpc {} --subnet {} --tag SSM-Private-Instance\".format(vpc_applic.id, sn_appliance_transit_b.id))"
   ]
  },
  {
   "cell_type": "code",
   "execution_count": 35,
   "metadata": {},
   "outputs": [
    {
     "name": "stdout",
     "output_type": "stream",
     "text": [
      "i-0ff007cb78ed339c2 {'Code': 16, 'Name': 'running'} [{'Key': 'SSM', 'Value': 'true'}, {'Key': 'Name', 'Value': 'SSM-Private-Instance'}]\n",
      "i-0c7b0f824facf448b {'Code': 16, 'Name': 'running'} [{'Key': 'Name', 'Value': 'SSM-Public-Instance'}, {'Key': 'SSM', 'Value': 'true'}]\n",
      "i-078e399b6bc4f1121 {'Code': 16, 'Name': 'running'} [{'Key': 'Name', 'Value': 'SSM-Public-Instance-2'}, {'Key': 'SSM', 'Value': 'true'}]\n"
     ]
    }
   ],
   "source": [
    "# List all instances\n",
    "for instance in ec2.instances.all():\n",
    "    print(instance.id, instance.state, instance.tags)"
   ]
  },
  {
   "cell_type": "code",
   "execution_count": 36,
   "metadata": {},
   "outputs": [
    {
     "name": "stdout",
     "output_type": "stream",
     "text": [
      "Para conectarse a la instancia ejecute: \n",
      "    aws ssm start-session --target i-0e0e0e0e0e0e0e0e0\n"
     ]
    }
   ],
   "source": [
    "print(\"Para conectarse a la instancia ejecute: \\n    aws ssm start-session --target i-0e0e0e0e0e0e0e0e0\")"
   ]
  }
 ],
 "metadata": {
  "kernelspec": {
   "display_name": "personal",
   "language": "python",
   "name": "python3"
  },
  "language_info": {
   "codemirror_mode": {
    "name": "ipython",
    "version": 3
   },
   "file_extension": ".py",
   "mimetype": "text/x-python",
   "name": "python",
   "nbconvert_exporter": "python",
   "pygments_lexer": "ipython3",
   "version": "3.11.3"
  },
  "orig_nbformat": 4
 },
 "nbformat": 4,
 "nbformat_minor": 2
}
