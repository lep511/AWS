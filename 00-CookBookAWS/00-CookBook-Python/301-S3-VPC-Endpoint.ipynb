{
 "cells": [
  {
   "attachments": {},
   "cell_type": "markdown",
   "metadata": {},
   "source": [
    "![image](https://i.ibb.co/d03v41b/architecture-diagramxx.png)"
   ]
  },
  {
   "cell_type": "code",
   "execution_count": 34,
   "metadata": {},
   "outputs": [],
   "source": [
    "import boto3\n",
    "import json\n",
    "import time\n",
    "import random\n",
    "from botocore.exceptions import ClientError\n",
    "\n",
    "region_aws = 'us-east-1'\n",
    "\n",
    "session = boto3.Session(profile_name='default')\n",
    "ec2 = session.resource('ec2', region_name=region_aws)\n",
    "ec2_client = session.client('ec2', region_name=region_aws)\n",
    "elbv2 = session.client('elbv2', region_name=region_aws)\n",
    "s3 = session.resource('s3', region_name=region_aws)"
   ]
  },
  {
   "cell_type": "code",
   "execution_count": 24,
   "metadata": {},
   "outputs": [
    {
     "name": "stdout",
     "output_type": "stream",
     "text": [
      "Bucket: s3.Bucket(name='cookbook-bucket-329036')\n"
     ]
    }
   ],
   "source": [
    "# Create bucket\n",
    "bucket = 'cookbook-bucket-{}'.format(random.randint(10000, 1000000))\n",
    "bucket = s3.create_bucket(Bucket=bucket)\n",
    "print(f\"Bucket: {bucket}\")"
   ]
  },
  {
   "cell_type": "code",
   "execution_count": 2,
   "metadata": {},
   "outputs": [],
   "source": [
    "# Create VPC\n",
    "vpc_applic = ec2.create_vpc(CidrBlock='10.10.0.0/16')\n",
    "vpc_applic.create_tags(Tags=[{\"Key\": \"Name\", \"Value\": \"Applicance\"}]);"
   ]
  },
  {
   "cell_type": "code",
   "execution_count": 3,
   "metadata": {},
   "outputs": [],
   "source": [
    "# Create 2 subnets in VPC Applicance\n",
    "sn_appliance_transit_a = ec2.create_subnet(\n",
    "    VpcId=vpc_applic.id,\n",
    "    CidrBlock='10.10.1.0/24',\n",
    "    AvailabilityZone=region_aws+'a'\n",
    ")\n",
    "sn_appliance_transit_b = ec2.create_subnet(\n",
    "    VpcId=vpc_applic.id,\n",
    "    CidrBlock='10.10.2.0/24',\n",
    "    AvailabilityZone=region_aws+'b'\n",
    ")"
   ]
  },
  {
   "cell_type": "code",
   "execution_count": 4,
   "metadata": {},
   "outputs": [
    {
     "data": {
      "text/plain": [
       "[ec2.Tag(resource_id='subnet-0740ce2a7e9681695', key='Name', value='Private-Subnet')]"
      ]
     },
     "execution_count": 4,
     "metadata": {},
     "output_type": "execute_result"
    }
   ],
   "source": [
    "# Tag subnets\n",
    "sn_appliance_transit_a.create_tags(Tags=[{\"Key\": \"Name\", \"Value\": \"Public-Subnet\"}])\n",
    "sn_appliance_transit_b.create_tags(Tags=[{\"Key\": \"Name\", \"Value\": \"Private-Subnet\"}])"
   ]
  },
  {
   "cell_type": "code",
   "execution_count": 5,
   "metadata": {},
   "outputs": [
    {
     "data": {
      "text/plain": [
       "[ec2.Tag(resource_id='rtb-0d095a64a1fde27e8', key='Name', value='Private-RT')]"
      ]
     },
     "execution_count": 5,
     "metadata": {},
     "output_type": "execute_result"
    }
   ],
   "source": [
    "# Create route table for the VPC Applicance\n",
    "rt_appliance_transit_a = vpc_applic.create_route_table()\n",
    "rt_appliance_transit_b = vpc_applic.create_route_table()\n",
    "\n",
    "# Tags Route Tables\n",
    "rt_appliance_transit_a.create_tags(Tags=[{\"Key\": \"Name\", \"Value\": \"Public-RT\"}])\n",
    "rt_appliance_transit_b.create_tags(Tags=[{\"Key\": \"Name\", \"Value\": \"Private-RT\"}])"
   ]
  },
  {
   "cell_type": "code",
   "execution_count": 6,
   "metadata": {},
   "outputs": [
    {
     "data": {
      "text/plain": [
       "ec2.RouteTableAssociation(id='rtbassoc-0ba2fcff789034a86')"
      ]
     },
     "execution_count": 6,
     "metadata": {},
     "output_type": "execute_result"
    }
   ],
   "source": [
    "# Attach the route table to the subnets\n",
    "rt_appliance_transit_a.associate_with_subnet(SubnetId=sn_appliance_transit_a.id)\n",
    "rt_appliance_transit_b.associate_with_subnet(SubnetId=sn_appliance_transit_b.id)"
   ]
  },
  {
   "cell_type": "code",
   "execution_count": 7,
   "metadata": {},
   "outputs": [],
   "source": [
    "# Create Internet Gateway\n",
    "igw = ec2.create_internet_gateway()\n",
    "\n",
    "# Attach Internet Gateway to VPC Applicance\n",
    "vpc_applic.attach_internet_gateway(InternetGatewayId=igw.id);"
   ]
  },
  {
   "cell_type": "code",
   "execution_count": 8,
   "metadata": {},
   "outputs": [],
   "source": [
    "# Crear una Elastic IP address\n",
    "elastic_ip_1 = ec2_client.allocate_address(Domain='vpc')"
   ]
  },
  {
   "cell_type": "code",
   "execution_count": 9,
   "metadata": {},
   "outputs": [],
   "source": [
    "# Crear un NAT gateway en VPC Applicance\n",
    "natgateway_1 = ec2_client.create_nat_gateway(\n",
    "    AllocationId=elastic_ip_1['AllocationId'],\n",
    "    SubnetId=sn_appliance_transit_a.id\n",
    ")"
   ]
  },
  {
   "cell_type": "code",
   "execution_count": 10,
   "metadata": {},
   "outputs": [
    {
     "data": {
      "text/plain": [
       "ec2.Route(route_table_id='rtb-0095dd7d7585af23d', destination_cidr_block='0.0.0.0/0')"
      ]
     },
     "execution_count": 10,
     "metadata": {},
     "output_type": "execute_result"
    }
   ],
   "source": [
    "# Añada una ruta a la tabla de enrutamiento de la VPC Applicance para el internet natgateway\n",
    "rt_appliance_transit_a.create_route(\n",
    "    DestinationCidrBlock='0.0.0.0/0',\n",
    "    GatewayId=igw.id\n",
    ")"
   ]
  },
  {
   "cell_type": "code",
   "execution_count": 11,
   "metadata": {},
   "outputs": [
    {
     "data": {
      "text/plain": [
       "ec2.Route(route_table_id='rtb-0d095a64a1fde27e8', destination_cidr_block='0.0.0.0/0')"
      ]
     },
     "execution_count": 11,
     "metadata": {},
     "output_type": "execute_result"
    }
   ],
   "source": [
    "# Añada una ruta a la tabla de enrutamiento de la VPC Applicance para el NAT gateway\n",
    "rt_appliance_transit_b.create_route(\n",
    "    DestinationCidrBlock='0.0.0.0/0',\n",
    "    NatGatewayId=natgateway_1['NatGateway']['NatGatewayId']\n",
    ")"
   ]
  },
  {
   "cell_type": "code",
   "execution_count": 39,
   "metadata": {},
   "outputs": [],
   "source": [
    "# Create a gateway endpoint in your VPC and associate the endpoint with the isolated route tables\n",
    "response = ec2_client.create_vpc_endpoint(\n",
    "    VpcId=vpc_applic.id,\n",
    "    ServiceName='com.amazonaws.' + region_aws + '.s3',\n",
    "    RouteTableIds=[\n",
    "        rt_appliance_transit_a.id\n",
    "    ]       \n",
    ")\n",
    "vpc_endpoint_id = response['VpcEndpoint']['VpcEndpointId']"
   ]
  },
  {
   "cell_type": "code",
   "execution_count": 40,
   "metadata": {},
   "outputs": [
    {
     "data": {
      "text/plain": [
       "{'ResponseMetadata': {'RequestId': '5E9R41K33W969P77',\n",
       "  'HostId': 'POYaC7PDJRLSXvjX6+Cjuay6FJRtDMXWBS21OML0Cuc4uMjjJzhxCD/Xnnlbjt1ceblrP42Bg9I=',\n",
       "  'HTTPStatusCode': 204,\n",
       "  'HTTPHeaders': {'x-amz-id-2': 'POYaC7PDJRLSXvjX6+Cjuay6FJRtDMXWBS21OML0Cuc4uMjjJzhxCD/Xnnlbjt1ceblrP42Bg9I=',\n",
       "   'x-amz-request-id': '5E9R41K33W969P77',\n",
       "   'date': 'Mon, 31 Jul 2023 15:40:18 GMT',\n",
       "   'server': 'AmazonS3'},\n",
       "  'RetryAttempts': 0}}"
      ]
     },
     "execution_count": 40,
     "metadata": {},
     "output_type": "execute_result"
    }
   ],
   "source": [
    "policy = {\n",
    "    \"Statement\": [\n",
    "        {\n",
    "            \"Action\": \"s3:*\",\n",
    "            \"Effect\": \"Deny\",\n",
    "            \"Resource\": f\"arn:aws:s3:::{bucket.name}/*\",\n",
    "            \"Condition\": {\n",
    "                \"StringNotEquals\": {\n",
    "                    \"aws:sourceVpce\": vpc_endpoint_id\n",
    "                }\n",
    "            },\n",
    "            \"Principal\": \"*\"\n",
    "        }\n",
    "    ]\n",
    "}\n",
    "\n",
    "bucket.Policy().put(Policy=json.dumps(policy))"
   ]
  },
  {
   "cell_type": "code",
   "execution_count": 42,
   "metadata": {},
   "outputs": [
    {
     "name": "stdout",
     "output_type": "stream",
     "text": [
      "Error: Failed to upload ip-ranges.json to cookbook-bucket-329036/ip-ranges.json: An error occurred (AccessDenied) when calling the PutObject operation: Access Denied\n"
     ]
    }
   ],
   "source": [
    "try:\n",
    "    key_name = 'ip-ranges.json'\n",
    "    response = bucket.upload_file(key_name, key_name)\n",
    "    pprint(response)\n",
    "except ClientError as e:\n",
    "    print(f\"Error: {e}\")\n",
    "except Exception as e:\n",
    "    print(f\"Error: {e}\")"
   ]
  },
  {
   "cell_type": "code",
   "execution_count": 50,
   "metadata": {},
   "outputs": [
    {
     "name": "stdout",
     "output_type": "stream",
     "text": [
      "En la terminal ejecute el siguiente comando:\n",
      "    python3 create_ec2_ssm.py --vpc vpc-08bdc04dfe3308d3b --subnet subnet-0427c3d261a2cc764 --region us-east-1\n"
     ]
    }
   ],
   "source": [
    "print(\"En la terminal ejecute el siguiente comando:\")\n",
    "print(f\"    python3 create_ec2_ssm.py --vpc {vpc_applic.id} --subnet {sn_appliance_transit_a.id} --region {region_aws}\")"
   ]
  },
  {
   "cell_type": "code",
   "execution_count": 51,
   "metadata": {},
   "outputs": [
    {
     "data": {
      "text/plain": [
       "'cookbook-bucket-329036'"
      ]
     },
     "execution_count": 51,
     "metadata": {},
     "output_type": "execute_result"
    }
   ],
   "source": [
    "bucket.name"
   ]
  }
 ],
 "metadata": {
  "kernelspec": {
   "display_name": "personal",
   "language": "python",
   "name": "python3"
  },
  "language_info": {
   "codemirror_mode": {
    "name": "ipython",
    "version": 3
   },
   "file_extension": ".py",
   "mimetype": "text/x-python",
   "name": "python",
   "nbconvert_exporter": "python",
   "pygments_lexer": "ipython3",
   "version": "3.11.3"
  },
  "orig_nbformat": 4
 },
 "nbformat": 4,
 "nbformat_minor": 2
}
