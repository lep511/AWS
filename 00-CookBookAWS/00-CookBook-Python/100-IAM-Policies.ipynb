{
 "cells": [
  {
   "attachments": {},
   "cell_type": "markdown",
   "metadata": {},
   "source": [
    "### Politicas basadas en recursos\n",
    "\n",
    "Se trata de políticas insertadas asociadas a los recursos de AWS. Los ejemplos más comunes de políticas basadas en recursos son las políticas de bucket de Amazon S3 y las políticas de confianza de roles de IAM. Las políticas basadas en recursos conceden permisos a la entidad principal especificada en la política; por lo tanto, se requiere el elemento Principal en la política. \n",
    "\n",
    "* Conceden permiso a las entidades principales o cuentas (cuentas iguales o diferentes).\n",
    "\n",
    "La política basada en recursos que aparece a continuación se asocia a un bucket de Amazon S3. Según la política, solo el usuario de IAM carlossalzar puede acceder a este bucket. "
   ]
  },
  {
   "cell_type": "code",
   "execution_count": null,
   "metadata": {},
   "outputs": [],
   "source": [
    "#pip install boto3 --upgrade"
   ]
  },
  {
   "cell_type": "code",
   "execution_count": 1,
   "metadata": {},
   "outputs": [],
   "source": [
    "import boto3\n",
    "import json\n",
    "from botocore.exceptions import ClientError"
   ]
  },
  {
   "cell_type": "code",
   "execution_count": 2,
   "metadata": {},
   "outputs": [],
   "source": [
    "s3 = boto3.client('s3')\n",
    "# Create a bucket\n",
    "bucket_name = 'my-bucket-test-494300'\n",
    "try:\n",
    "    s3.create_bucket(Bucket=bucket_name)\n",
    "except ClientError as e:\n",
    "    print(e)"
   ]
  },
  {
   "cell_type": "code",
   "execution_count": 19,
   "metadata": {},
   "outputs": [],
   "source": [
    "policy_document_s3 = {\n",
    "    \"Version\": \"2012-10-17\",\n",
    "    \"Statement\": [\n",
    "        {\n",
    "            \"Sid\": \"Example permissions\",\n",
    "            \"Effect\": \"Allow\", \n",
    "            \"Action\": \"s3:*\",\n",
    "            \"Principal\": {\n",
    "                \"AWS\": \"arn:aws:iam::089715336747:user/carlossalzar\"\n",
    "            },\n",
    "            \"Resource\": [\n",
    "                f\"arn:aws:s3:::{bucket_name}\",\n",
    "                f\"arn:aws:s3:::{bucket_name}/*\"\n",
    "            ]\n",
    "        }\n",
    "    ]\n",
    "}"
   ]
  },
  {
   "cell_type": "code",
   "execution_count": 20,
   "metadata": {},
   "outputs": [],
   "source": [
    "# Put the policy to the bucket\n",
    "try:\n",
    "    s3.put_bucket_policy(\n",
    "        Bucket=bucket_name,\n",
    "        Policy=json.dumps(policy_document_s3)\n",
    "    )\n",
    "except ClientError as e:\n",
    "    print(e)"
   ]
  },
  {
   "attachments": {},
   "cell_type": "markdown",
   "metadata": {},
   "source": [
    "### Limite de permisos\n",
    "\n",
    "Un límite de permisos establece la cantidad máxima de permisos que una política basada en identidades puede conceder a una entidad de IAM. Esta entidad solo puede realizar las acciones que le permitan tanto sus políticas basadas en identidades como sus límites de permisos. Las políticas basadas en recursos que definen al usuario o rol como entidad principal no están limitadas por el límite de permisos.\n",
    "\n",
    "* Restringe los permisos para la entidad de IAM asociada a ella.\n",
    "\n",
    "Por ejemplo, supongamos que a uno de los usuarios de IAM se le debe permitir administrar solo Amazon S3, Amazon CloudWatch y Amazon EC2. Para aplicar esta regla, puede utilizar la política administrada por el cliente siguiente:"
   ]
  },
  {
   "cell_type": "code",
   "execution_count": null,
   "metadata": {},
   "outputs": [],
   "source": [
    "{\n",
    "    \"Version\": \"2012-10-17\",\n",
    "    \"Statement\": [\n",
    "        {\n",
    "            \"Effect\": \"Allow\",\n",
    "            \"Action\": [\n",
    "                \"s3:*\",\n",
    "                \"ec2:*\",\n",
    "                \"cloudwatch:*\"\n",
    "            ],\n",
    "            \"Resource\": \"*\"\n",
    "        }\n",
    "    ]\n",
    "}"
   ]
  },
  {
   "attachments": {},
   "cell_type": "markdown",
   "metadata": {},
   "source": [
    "Luego, agregue el bloque de condiciones que aparece a continuación a la política del usuario de IAM. El usuario nunca podrá realizar operaciones en ningún otro servicio, incluido IAM, aunque tenga una política de permisos que lo permita."
   ]
  },
  {
   "cell_type": "code",
   "execution_count": 1,
   "metadata": {},
   "outputs": [
    {
     "data": {
      "text/plain": [
       "{'Condition': {'StringEquals': {'iam:PermissionsBoundary': 'arn:aws:iam::089715336747:policy/test-policy'}}}"
      ]
     },
     "execution_count": 1,
     "metadata": {},
     "output_type": "execute_result"
    }
   ],
   "source": [
    "{\n",
    "    \"Condition\": {\n",
    "        \"StringEquals\": {\"iam:PermissionsBoundary\": \"arn:aws:iam::089715336747:policy/test-policy\"}\n",
    "    }\n",
    "}"
   ]
  },
  {
   "attachments": {},
   "cell_type": "markdown",
   "metadata": {},
   "source": [
    "### Acesso a objetos en S3 basado en las etiquetas\n",
    "\n",
    "Amazon S3 almacena datos en una estructura plana; se crea un bucket y el bucket almacena objetos. Amazon S3 no tiene una jerarquía de subcubetas o carpetas; sin embargo, herramientas como la consola de administración de AWS pueden emular una jerarquía de carpetas para presentar carpetas en un bucket utilizando los nombres de los objetos (también conocidos como claves). Para simplificar, puede pensar en el nombre de un objeto como la ruta completa de un archivo en un sistema de archivos tradicional.\n",
    "\n",
    "Esta política concede el acceso completo de consola sólo a su carpeta (/home/DepartamentTagValue) y a la de nadie más. Aunque podría simplemente conceder a cada usuario acceso a su propio bucket, tenga en cuenta que una cuenta de AWS puede tener hasta 100 buckets por defecto. Mediante la creación de carpetas de inicio y la concesión de los permisos adecuados, puede hacer que cientos de usuarios compartan un único bucket."
   ]
  },
  {
   "cell_type": "code",
   "execution_count": null,
   "metadata": {},
   "outputs": [],
   "source": [
    "{\n",
    "    \"Version\": \"2012-10-17\",\n",
    "    \"Statement\": [\n",
    "        {\n",
    "            \"Sid\": \"S3ConsoleAccess\",\n",
    "            \"Effect\": \"Allow\",\n",
    "            \"Action\": [\n",
    "                \"s3:ListAllMyBuckets\"\n",
    "            ],\n",
    "            \"Resource\": \"*\"\n",
    "        },\n",
    "        {\n",
    "            \"Sid\": \"ListObjectsInBucket\",\n",
    "            \"Effect\": \"Allow\",\n",
    "            \"Action\": \"s3:ListBucket\",\n",
    "            \"Resource\": \"arn:aws:s3:::workshop-redshift-394-33\",\n",
    "            \"Condition\": {\n",
    "                \"StringLike\": {\n",
    "                    \"s3:prefix\": [\n",
    "                        \"\",\n",
    "                        \"home/\",\n",
    "                        \"home/${aws:PrincipalTag/Department}/*\"\n",
    "                    ]\n",
    "                }\n",
    "            }\n",
    "        },\n",
    "        {\n",
    "            \"Sid\": \"AllowAllS3ActionsInUserFolder\",\n",
    "            \"Effect\": \"Allow\",\n",
    "            \"Action\": \"s3:*\",\n",
    "            \"Resource\": [\n",
    "                \"arn:aws:s3:::workshop-redshift-394-33/home/${aws:PrincipalTag/Department}\",\n",
    "                \"arn:aws:s3:::workshop-redshift-394-33/home/${aws:PrincipalTag/Department}/*\"\n",
    "            ]\n",
    "        }\n",
    "    ]\n",
    "}"
   ]
  }
 ],
 "metadata": {
  "kernelspec": {
   "display_name": "myenv",
   "language": "python",
   "name": "python3"
  },
  "language_info": {
   "codemirror_mode": {
    "name": "ipython",
    "version": 3
   },
   "file_extension": ".py",
   "mimetype": "text/x-python",
   "name": "python",
   "nbconvert_exporter": "python",
   "pygments_lexer": "ipython3",
   "version": "3.10.8"
  },
  "orig_nbformat": 4
 },
 "nbformat": 4,
 "nbformat_minor": 2
}
