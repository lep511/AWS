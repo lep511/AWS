{
 "cells": [
  {
   "cell_type": "markdown",
   "metadata": {},
   "source": [
    "## Access Analyzer\n",
    "\n",
    "### ¿Qué es AWS IAM Access Analyzer?\n",
    "\n",
    "AWS IAM Access Analyzer es un servicio de AWS que utiliza el razonamiento automatizado para analizar matemáticamente las políticas de control de acceso adjuntas a los recursos y determina a qué recursos se puede acceder públicamente o desde otras cuentas.\n",
    "\n",
    "Access Analyzer también es capaz de validar tanto las políticas basadas en identidades como las basadas en recursos con más de 100 comprobaciones, cada una de ellas diseñada para mejorar su postura de seguridad y ayudarle a simplificar la administración de políticas a escala.\n",
    "\n",
    "En este taller, utilizará estas dos características de Access Analyzer para validar las políticas de IAM en las plantillas de CloudFormation. Validar las políticas de IAM antes de implementarlas puede ayudar a evitar la implementación de recursos de AWS que permitan el acceso externo o políticas de IAM que no sigan las prácticas recomendadas.\n",
    "\n",
    "Puede validar sus políticas mediante las comprobaciones de políticas de AWS IAM Access Analyzer. Access Analyzer valida su política con respecto a la gramática y las prácticas recomendadas de la política de IAM. Puede ver los resultados de la comprobación de validación de políticas que incluyen advertencias de seguridad, errores, advertencias generales y sugerencias para su política. Estos resultados proporcionan recomendaciones prácticas que le ayudarán a crear políticas funcionales y conformes a las mejores prácticas de seguridad."
   ]
  },
  {
   "cell_type": "code",
   "execution_count": 42,
   "metadata": {},
   "outputs": [],
   "source": [
    "import boto3\n",
    "import json\n",
    "from botocore.exceptions import ClientError\n",
    "from pprint import pprint\n",
    "\n",
    "# Create session\n",
    "session = boto3.Session(profile_name='badbob')\n",
    "client = session.client('accessanalyzer')"
   ]
  },
  {
   "cell_type": "code",
   "execution_count": 36,
   "metadata": {},
   "outputs": [],
   "source": [
    "def check_response(response):\n",
    "    if len(response['findings']) == 0:\n",
    "        print('No errors have been found.')\n",
    "    else:\n",
    "        for find in response['findings']:\n",
    "            pprint(find)"
   ]
  },
  {
   "cell_type": "code",
   "execution_count": 25,
   "metadata": {},
   "outputs": [],
   "source": [
    "sample_policy = {\n",
    "    \"Version\": \"2012-10-17\",\n",
    "    \"Statement\": [\n",
    "        {\n",
    "            \"Effect\": \"Allow\",\n",
    "            \"Action\": [\n",
    "                \"ec2:RunInstance\"\n",
    "            ],\n",
    "            \"Resource\": \"arn:aws:ec2:*:*:instance/my-custom-instance\"\n",
    "        }\n",
    "    ]\n",
    "}"
   ]
  },
  {
   "cell_type": "code",
   "execution_count": 26,
   "metadata": {},
   "outputs": [
    {
     "name": "stdout",
     "output_type": "stream",
     "text": [
      "{'findingDetails': 'The action ec2:RunInstance does not exist.',\n",
      " 'findingType': 'ERROR',\n",
      " 'issueCode': 'INVALID_ACTION',\n",
      " 'learnMoreLink': 'https://docs.aws.amazon.com/IAM/latest/UserGuide/access-analyzer-reference-policy-checks.html#access-analyzer-reference-policy-checks-error-invalid-action',\n",
      " 'locations': [{'path': [{'value': 'Statement'},\n",
      "                         {'index': 0},\n",
      "                         {'value': 'Action'},\n",
      "                         {'index': 0}],\n",
      "                'span': {'end': {'column': 88, 'line': 1, 'offset': 88},\n",
      "                         'start': {'column': 71, 'line': 1, 'offset': 71}}}]}\n"
     ]
    }
   ],
   "source": [
    "response = client.validate_policy(\n",
    "    locale='EN',\n",
    "    policyDocument=json.dumps(sample_policy),\n",
    "    policyType='IDENTITY_POLICY'\n",
    ")\n",
    "\n",
    "check_response(response)"
   ]
  },
  {
   "cell_type": "markdown",
   "metadata": {},
   "source": [
    "*Access Analyzer* ha encontrado un problema con la política de ejemplo: utilizaba la acción ec2:RunInstance que no existe. La salida del comando validate-policy incluye detalles sobre el hallazgo, así como la ubicación dentro del JSON de la política IAM donde se puede localizar el problema. Access Analyzer clasifica los hallazgos en cuatro tipos diferentes y el tipo **ERROR** es el más grave."
   ]
  },
  {
   "cell_type": "code",
   "execution_count": 28,
   "metadata": {},
   "outputs": [
    {
     "name": "stdout",
     "output_type": "stream",
     "text": [
      "No findings found.\n"
     ]
    }
   ],
   "source": [
    "# Correct policy\n",
    "sample_policy = {\n",
    "    \"Version\": \"2012-10-17\",\n",
    "    \"Statement\": [\n",
    "        {\n",
    "            \"Effect\": \"Allow\",\n",
    "            \"Action\": [\n",
    "                \"ec2:RunInstances\"\n",
    "            ],\n",
    "            \"Resource\": \"arn:aws:ec2:*:*:instance/my-custom-instance\"\n",
    "        }\n",
    "    ]\n",
    "}\n",
    "\n",
    "response = client.validate_policy(\n",
    "    locale='EN',\n",
    "    policyDocument=json.dumps(sample_policy),\n",
    "    policyType='IDENTITY_POLICY'\n",
    ")\n",
    "\n",
    "check_response(response)"
   ]
  },
  {
   "cell_type": "markdown",
   "metadata": {},
   "source": [
    "### Validación de las políticas de control de servicios (SCP)\n",
    "\n",
    "Los SCP tienen una sintaxis admitida [ligeramente diferente](https://docs.aws.amazon.com/organizations/latest/userguide/orgs_manage_policies_scps_syntax.html) y, por lo tanto, tienen diferentes comprobaciones de validación de políticas."
   ]
  },
  {
   "cell_type": "code",
   "execution_count": 33,
   "metadata": {},
   "outputs": [],
   "source": [
    "scp_sample = {\n",
    "    \"Version\": \"2012-10-17\",\n",
    "    \"Statement\": [{\n",
    "        \"Principal\": \"*\",\n",
    "        \"Effect\": \"Deny\",\n",
    "        \"Action\": [\n",
    "            \"ec2:CreateInternetGateway\"\n",
    "        ],\n",
    "        \"Resource\": \"*\"\n",
    "    }]\n",
    "}"
   ]
  },
  {
   "cell_type": "code",
   "execution_count": 34,
   "metadata": {},
   "outputs": [
    {
     "name": "stdout",
     "output_type": "stream",
     "text": [
      "{'findingDetails': 'SCPs do not support specifying principals. Remove the '\n",
      "                   'Principal or NotPrincipal element.',\n",
      " 'findingType': 'ERROR',\n",
      " 'issueCode': 'SCP_SYNTAX_ERROR_PRINCIPAL',\n",
      " 'learnMoreLink': 'https://docs.aws.amazon.com/IAM/latest/UserGuide/access-analyzer-reference-policy-checks.html#access-analyzer-reference-policy-checks-error-scp-syntax-error-principal',\n",
      " 'locations': [{'path': [{'value': 'Statement'},\n",
      "                         {'index': 0},\n",
      "                         {'value': 'Principal'}],\n",
      "                'span': {'end': {'column': 57, 'line': 1, 'offset': 57},\n",
      "                         'start': {'column': 54, 'line': 1, 'offset': 54}}}]}\n"
     ]
    }
   ],
   "source": [
    "response = client.validate_policy(\n",
    "    locale='EN',\n",
    "    policyDocument=json.dumps(scp_sample),\n",
    "    policyType='SERVICE_CONTROL_POLICY'\n",
    ")\n",
    "\n",
    "check_response(response)"
   ]
  },
  {
   "cell_type": "code",
   "execution_count": 37,
   "metadata": {},
   "outputs": [
    {
     "name": "stdout",
     "output_type": "stream",
     "text": [
      "No errors have been found.\n"
     ]
    }
   ],
   "source": [
    "# Correct scp policy\n",
    "scp_sample = {\n",
    "    \"Version\": \"2012-10-17\",\n",
    "    \"Statement\": [{\n",
    "        \"Effect\": \"Deny\",\n",
    "        \"Action\": [\n",
    "            \"ec2:CreateInternetGateway\"\n",
    "        ],\n",
    "        \"Resource\": \"*\"\n",
    "    }]\n",
    "}\n",
    "\n",
    "response = client.validate_policy(\n",
    "    locale='EN',\n",
    "    policyDocument=json.dumps(scp_sample),\n",
    "    policyType='SERVICE_CONTROL_POLICY'\n",
    ")\n",
    "\n",
    "check_response(response)"
   ]
  },
  {
   "cell_type": "markdown",
   "metadata": {},
   "source": [
    "### Crear un analizador"
   ]
  },
  {
   "cell_type": "code",
   "execution_count": 51,
   "metadata": {},
   "outputs": [
    {
     "name": "stdout",
     "output_type": "stream",
     "text": [
      "Using an existing analyser: IAMAAEnable-X6txYUGu3Jlq\n"
     ]
    }
   ],
   "source": [
    "try:\n",
    "    response = client.create_analyzer(\n",
    "        type='ACCOUNT',\n",
    "        analyzerName='AccessAnalyzerCICDWorkshop'\n",
    "    )\n",
    "except ClientError as e:\n",
    "    if e.response['Error']['Code'] == 'ServiceQuotaExceededException':\n",
    "        response = client.list_analyzers(\n",
    "            type='ACCOUNT'\n",
    "        )\n",
    "        analyzer_name = response['analyzers'][0]['name']\n",
    "        analyzer_arn = response['analyzers'][0]['arn']\n",
    "        print(f'Using an existing analyser: {analyzer_name}')\n",
    "except Exception as e:\n",
    "    print(e)"
   ]
  },
  {
   "cell_type": "code",
   "execution_count": 57,
   "metadata": {},
   "outputs": [],
   "source": [
    "ACCOUNT_ID = session.client('sts').get_caller_identity().get('Account')\n",
    "\n",
    "queue_policy = {\n",
    "    \"Version\": \"2012-10-17\",\n",
    "    \"Id\": \"MyQueuePolicy\",\n",
    "    \"Statement\": [{\n",
    "        \"Sid\":\"AllowSendMessage\",\n",
    "        \"Effect\": \"Allow\",\n",
    "        \"Principal\": {\n",
    "            \"AWS\": \"111122223333\"\n",
    "        },\n",
    "        \"Action\": \"sqs:SendMessage\",\n",
    "        \"Resource\": f\"arn:aws:sqs:us-east-1:{ACCOUNT_ID}:MyQueue\"\n",
    "    }]\n",
    "}"
   ]
  },
  {
   "cell_type": "code",
   "execution_count": 61,
   "metadata": {},
   "outputs": [
    {
     "ename": "TypeError",
     "evalue": "unhashable type: 'dict'",
     "output_type": "error",
     "traceback": [
      "\u001b[0;31m---------------------------------------------------------------------------\u001b[0m",
      "\u001b[0;31mTypeError\u001b[0m                                 Traceback (most recent call last)",
      "Cell \u001b[0;32mIn[61], line 4\u001b[0m\n\u001b[1;32m      1\u001b[0m response \u001b[39m=\u001b[39m client\u001b[39m.\u001b[39mcreate_access_preview(\n\u001b[1;32m      2\u001b[0m     analyzerArn\u001b[39m=\u001b[39manalyzer_arn,\n\u001b[1;32m      3\u001b[0m     configurations\u001b[39m=\u001b[39m{\n\u001b[0;32m----> 4\u001b[0m         \u001b[39m'\u001b[39m\u001b[39mstring\u001b[39m\u001b[39m'\u001b[39m: {\n\u001b[1;32m      5\u001b[0m             {\n\u001b[1;32m      6\u001b[0m                 \u001b[39m'\u001b[39m\u001b[39msqsQueue\u001b[39m\u001b[39m'\u001b[39m: {\n\u001b[1;32m      7\u001b[0m                     \u001b[39m'\u001b[39m\u001b[39mqueuePolicy\u001b[39m\u001b[39m'\u001b[39m: json\u001b[39m.\u001b[39mdumps(queue_policy)\n\u001b[1;32m      8\u001b[0m             }  \n\u001b[1;32m      9\u001b[0m         }\n\u001b[1;32m     10\u001b[0m     } \n\u001b[1;32m     11\u001b[0m     } \n\u001b[1;32m     12\u001b[0m )\n",
      "\u001b[0;31mTypeError\u001b[0m: unhashable type: 'dict'"
     ]
    }
   ],
   "source": [
    "response = client.create_access_preview(\n",
    "    analyzerArn=analyzer_arn,\n",
    "    configurations={\n",
    "        'string': {\n",
    "            {\n",
    "                'sqsQueue': {\n",
    "                    'queuePolicy': json.dumps(queue_policy)\n",
    "            }  \n",
    "        }\n",
    "    } \n",
    "    } \n",
    ")"
   ]
  }
 ],
 "metadata": {
  "kernelspec": {
   "display_name": "personal",
   "language": "python",
   "name": "python3"
  },
  "language_info": {
   "codemirror_mode": {
    "name": "ipython",
    "version": 3
   },
   "file_extension": ".py",
   "mimetype": "text/x-python",
   "name": "python",
   "nbconvert_exporter": "python",
   "pygments_lexer": "ipython3",
   "version": "3.11.3"
  },
  "orig_nbformat": 4
 },
 "nbformat": 4,
 "nbformat_minor": 2
}
