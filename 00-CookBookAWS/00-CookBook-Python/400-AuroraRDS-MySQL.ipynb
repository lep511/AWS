{
 "cells": [
  {
   "cell_type": "code",
   "execution_count": 1,
   "metadata": {},
   "outputs": [],
   "source": [
    "import boto3\n",
    "import json\n",
    "\n",
    "client = boto3.client('rds')"
   ]
  },
  {
   "attachments": {},
   "cell_type": "markdown",
   "metadata": {},
   "source": [
    "#### Use AWS Secrets Manager to generate a complex password:"
   ]
  },
  {
   "cell_type": "code",
   "execution_count": 5,
   "metadata": {},
   "outputs": [],
   "source": [
    "secret_manager = boto3.client('secretsmanager')\n",
    "response = secret_manager.get_random_password(\n",
    "    ExcludePunctuation=True,\n",
    "    PasswordLength=41)\n",
    "admin_password = response['RandomPassword']"
   ]
  },
  {
   "cell_type": "markdown",
   "metadata": {},
   "source": [
    "#### Create a VPC"
   ]
  },
  {
   "cell_type": "code",
   "execution_count": 9,
   "metadata": {},
   "outputs": [],
   "source": [
    "# create VPC\n",
    "region_aws = 'us-east-1'\n",
    "\n",
    "ec2 = boto3.resource('ec2', region_name=region_aws)\n",
    "ec2_client = boto3.client('ec2', region_name=region_aws)"
   ]
  },
  {
   "cell_type": "code",
   "execution_count": 10,
   "metadata": {},
   "outputs": [],
   "source": [
    "vpc = ec2.create_vpc(CidrBlock='174.17.0.0/16')\n",
    "vpc.create_tags(Tags=[{\"Key\": \"Name\", \"Value\": \"AWSCookBookVPC\"}])\n",
    "vpc.wait_until_available()"
   ]
  },
  {
   "cell_type": "code",
   "execution_count": 11,
   "metadata": {},
   "outputs": [
    {
     "data": {
      "text/plain": [
       "[ec2.Tag(resource_id='rtb-05707f5d7cd6c12b9', key='Name', value='AWSCookbookVPC-RT-2')]"
      ]
     },
     "execution_count": 11,
     "metadata": {},
     "output_type": "execute_result"
    }
   ],
   "source": [
    "# Crear routable\n",
    "routetable_1 = vpc.create_route_table()\n",
    "routetable_2 = vpc.create_route_table()\n",
    "routetable_1.create_tags(Tags=[{\"Key\": \"Name\", \"Value\": \"AWSCookbookVPC-RT-1\"}])\n",
    "routetable_2.create_tags(Tags=[{\"Key\": \"Name\", \"Value\": \"AWSCookbookVPC-RT-2\"}])"
   ]
  },
  {
   "cell_type": "code",
   "execution_count": 14,
   "metadata": {},
   "outputs": [],
   "source": [
    "# Create two subnets\n",
    "subnet_1 = ec2.create_subnet(\n",
    "    CidrBlock='174.17.5.0/24', \n",
    "    VpcId=vpc.id,\n",
    "    AvailabilityZone= region_aws + 'a'\n",
    ")\n",
    "\n",
    "subnet_2 = ec2.create_subnet(\n",
    "    CidrBlock='174.17.6.0/24', \n",
    "    VpcId=vpc.id,\n",
    "    AvailabilityZone= region_aws + 'b'\n",
    ")\n",
    "subnet_1.create_tags(Tags=[{\"Key\": \"Name\", \"Value\": \"AWSCookbook-SN-Private-1\"}])\n",
    "subnet_2.create_tags(Tags=[{\"Key\": \"Name\", \"Value\": \"AWSCookbook-SN-Private-2\"}])"
   ]
  },
  {
   "cell_type": "code",
   "execution_count": 16,
   "metadata": {},
   "outputs": [
    {
     "data": {
      "text/plain": [
       "ec2.RouteTableAssociation(id='rtbassoc-0b3f8212518fbe196')"
      ]
     },
     "execution_count": 16,
     "metadata": {},
     "output_type": "execute_result"
    }
   ],
   "source": [
    "# Asociar las tablas de rutas con las subred:\n",
    "routetable_1.associate_with_subnet(SubnetId = subnet_1.id)\n",
    "routetable_2.associate_with_subnet(SubnetId = subnet_2.id)"
   ]
  },
  {
   "attachments": {},
   "cell_type": "markdown",
   "metadata": {},
   "source": [
    "#### Create a database subnet group"
   ]
  },
  {
   "cell_type": "code",
   "execution_count": 17,
   "metadata": {},
   "outputs": [],
   "source": [
    "# Create a database subnet group specifying the VPC subnets to use for the cluster. \n",
    "# Database subnet groups simplify the placement of RDS elastic network interfaces (ENIs)\n",
    "\n",
    "client_rds = boto3.client('rds')\n",
    "subnet_group_name = 'database-subnet-group-01'\n",
    "\n",
    "response = client_rds.create_db_subnet_group(\n",
    "    DBSubnetGroupName=subnet_group_name,\n",
    "    DBSubnetGroupDescription='Subnet group for database instance',\n",
    "    SubnetIds=[\n",
    "        subnet_1.id,\n",
    "        subnet_2.id\n",
    "    ]\n",
    ")"
   ]
  },
  {
   "cell_type": "code",
   "execution_count": 20,
   "metadata": {},
   "outputs": [],
   "source": [
    "# Create a VPC security group for the database\n",
    "response = ec2_client.create_security_group(\n",
    "    GroupName='database-security-group-01',\n",
    "    Description='Security group for database instance',\n",
    "    VpcId=vpc.id\n",
    ")\n",
    "vpc_security_group_id = response['GroupId']"
   ]
  },
  {
   "cell_type": "code",
   "execution_count": 28,
   "metadata": {},
   "outputs": [],
   "source": [
    "# Create a database cluster, specifying an engine-mode of serverless:\n",
    "db_cluster_identifier = 'database-cluster-01'\n",
    "\n",
    "response = client.create_db_cluster(\n",
    "    DBClusterIdentifier=db_cluster_identifier,\n",
    "    Engine='aurora-postgresql',\n",
    "    EngineMode='serverless',\n",
    "    EngineVersion='10.14',\n",
    "    MasterUsername='dbadmin',\n",
    "    MasterUserPassword=admin_password,\n",
    "    DBSubnetGroupName=subnet_group_name,\n",
    "    VpcSecurityGroupIds=[\n",
    "        vpc_security_group_id\n",
    "    ]\n",
    ")"
   ]
  },
  {
   "cell_type": "code",
   "execution_count": 30,
   "metadata": {},
   "outputs": [
    {
     "name": "stdout",
     "output_type": "stream",
     "text": [
      "Waiting for database cluster to be available...\n",
      "Database cluster is available.\n"
     ]
    }
   ],
   "source": [
    "# Wait for the database cluster to be available\n",
    "print('Waiting for database cluster to be available...')\n",
    "while True:\n",
    "    response = client.describe_db_clusters(\n",
    "        DBClusterIdentifier='database-cluster-01'\n",
    "    )\n",
    "    status = response['DBClusters'][0]['Status']\n",
    "    if status == 'available':\n",
    "        print('Database cluster is available.')\n",
    "        break"
   ]
  },
  {
   "cell_type": "code",
   "execution_count": 33,
   "metadata": {},
   "outputs": [],
   "source": [
    "# Modify the database to automatically scale with new autoscaling capacity targets (8 min, 16 max) \n",
    "# and enable AutoPause after five minutes of inactivity\n",
    "\n",
    "response = client.modify_db_cluster(\n",
    "    DBClusterIdentifier=db_cluster_identifier,\n",
    "    ScalingConfiguration={\n",
    "        'MinCapacity': 8,\n",
    "        'MaxCapacity': 16,\n",
    "        'AutoPause': True,\n",
    "        'SecondsUntilAutoPause': 300,\n",
    "        'TimeoutAction': 'ForceApplyCapacityChange'\n",
    "    }\n",
    ")"
   ]
  },
  {
   "cell_type": "code",
   "execution_count": 35,
   "metadata": {},
   "outputs": [],
   "source": [
    "# Describe the database cluster to get the endpoint\n",
    "response = client.describe_db_clusters(\n",
    "    DBClusterIdentifier=db_cluster_identifier\n",
    ")"
   ]
  },
  {
   "cell_type": "code",
   "execution_count": 40,
   "metadata": {},
   "outputs": [
    {
     "name": "stdout",
     "output_type": "stream",
     "text": [
      "Capacity units: 0\n"
     ]
    }
   ],
   "source": [
    "# Wait at least five minutes and observe that the database’s capacity has scaled down to 0:\n",
    "# Capacity units are the number of Aurora Replicas that are available for use\n",
    "print(\"Capacity units:\", response['DBClusters'][0]['Capacity'])"
   ]
  },
  {
   "attachments": {},
   "cell_type": "markdown",
   "metadata": {},
   "source": [
    "#### Create EC2 instance"
   ]
  },
  {
   "cell_type": "code",
   "execution_count": 59,
   "metadata": {},
   "outputs": [
    {
     "name": "stdout",
     "output_type": "stream",
     "text": [
      "En la terminal ejecute el siguiente comando:\n",
      "    python create_ec2_ssm.py --vpc vpc-09c2992bbf8edd40f --tag SSM-Instance-Region1\n"
     ]
    }
   ],
   "source": [
    "print(\"En la terminal ejecute el siguiente comando:\")\n",
    "print(\"    python create_ec2_ssm.py --vpc {} --tag SSM-Instance-Region1\".format(vpc.id))"
   ]
  },
  {
   "cell_type": "code",
   "execution_count": 62,
   "metadata": {},
   "outputs": [],
   "source": [
    "account_id = boto3.client('sts').get_caller_identity().get('Account')\n",
    "instance_id = 'i-0d834f699966cd2f3' # Instance ID from the previous step\n",
    "instance = ec2.Instance(instance_id)"
   ]
  },
  {
   "cell_type": "code",
   "execution_count": 65,
   "metadata": {},
   "outputs": [],
   "source": [
    "# Grant your EC2 instance’s security group access to the default PostgreSQL port\n",
    "response = ec2_client.authorize_security_group_ingress(\n",
    "    GroupId=instance.security_groups[0]['GroupId'],\n",
    "    IpProtocol='tcp',\n",
    "    FromPort=5432,\n",
    "    ToPort=5432\n",
    ")"
   ]
  },
  {
   "cell_type": "code",
   "execution_count": 67,
   "metadata": {},
   "outputs": [
    {
     "name": "stdout",
     "output_type": "stream",
     "text": [
      "En la terminal ejecute el siguiente comando:\n",
      "    aws ssm start-session --target i-0d834f699966cd2f3\n"
     ]
    }
   ],
   "source": [
    "print(\"En la terminal ejecute el siguiente comando:\")\n",
    "print(\"    aws ssm start-session --target {}\".format(instance_id))"
   ]
  },
  {
   "cell_type": "code",
   "execution_count": 54,
   "metadata": {},
   "outputs": [],
   "source": [
    "# List the endpoints for the database cluster\n",
    "response = client.describe_db_clusters(\n",
    "    DBClusterIdentifier=db_cluster_identifier\n",
    ")\n",
    "endpoints = response['DBClusters'][0]['Endpoint']"
   ]
  },
  {
   "cell_type": "code",
   "execution_count": 57,
   "metadata": {},
   "outputs": [],
   "source": [
    "!pip install psycopg2 -q"
   ]
  },
  {
   "cell_type": "code",
   "execution_count": 78,
   "metadata": {},
   "outputs": [
    {
     "name": "stdout",
     "output_type": "stream",
     "text": [
      "Error while connecting to PostgreSQL connection to server at \"database-cluster-01.cluster-cfmpgxqena19.us-east-1.rds.amazonaws.com\" (174.17.5.15), port 5432 failed: Connection timed out (0x0000274C/10060)\n",
      "\tIs the server running on that host and accepting TCP/IP connections?\n",
      "connection to server at \"database-cluster-01.cluster-cfmpgxqena19.us-east-1.rds.amazonaws.com\" (174.17.6.87), port 5432 failed: Connection timed out (0x0000274C/10060)\n",
      "\tIs the server running on that host and accepting TCP/IP connections?\n",
      "\n"
     ]
    }
   ],
   "source": [
    "# Connect to the database cluster using the endpoint\n",
    "import psycopg2\n",
    "from psycopg2 import Error\n",
    "\n",
    "try:\n",
    "    conn = psycopg2.connect(\n",
    "        user=\"dbadmin\",\n",
    "        password=admin_password,\n",
    "        host=endpoints,\n",
    "        port=\"5432\",\n",
    "        database=\"postgres\"\n",
    "    )\n",
    "    cursor = conn.cursor()\n",
    "    print(\"PostgreSQL server information\")\n",
    "    print(conn.get_dsn_parameters(), \"\\n\")\n",
    "    cursor.execute(\"SELECT version();\")\n",
    "    record = cursor.fetchone()\n",
    "    print(\"You are connected to - \", record, \"\\n\")\n",
    "\n",
    "except (Exception, Error) as error:\n",
    "    print(\"Error while connecting to PostgreSQL\", error)"
   ]
  }
 ],
 "metadata": {
  "kernelspec": {
   "display_name": "base",
   "language": "python",
   "name": "python3"
  },
  "language_info": {
   "codemirror_mode": {
    "name": "ipython",
    "version": 3
   },
   "file_extension": ".py",
   "mimetype": "text/x-python",
   "name": "python",
   "nbconvert_exporter": "python",
   "pygments_lexer": "ipython3",
   "version": "3.10.8"
  },
  "orig_nbformat": 4
 },
 "nbformat": 4,
 "nbformat_minor": 2
}
