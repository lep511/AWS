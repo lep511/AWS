{
 "cells": [
  {
   "attachments": {},
   "cell_type": "markdown",
   "metadata": {},
   "source": [
    "## Límites de permisos de IAM delegando la creación de roles\n",
    "\n",
    "Este laboratorio práctico le guiará a través de los pasos para configurar un ejemplo de límite de permisos de AWS Identity and Access Management (IAM). AWS admite límites de permisos para entidades de IAM (usuarios o roles). Un límite de permisos es una función avanzada en la que se utiliza una política administrada para establecer los permisos máximos que una política basada en identidades puede conceder a una entidad de IAM. Cuando se establece un límite de permisos para una entidad, la entidad sólo puede realizar las acciones permitidas por la política. En este laboratorio usted creará una serie de políticas adjuntas a un rol que puede ser asumido por un individuo tal como un desarrollador, el desarrollador puede entonces usar este rol para crear roles de usuario adicionales que están restringidos a servicios y regiones específicas. Esto le permite delegar el acceso para crear roles y políticas de IAM, sin que excedan los permisos en el límite de permisos. También utilizaremos un estándar de nomenclatura con un prefijo, lo que facilitará el control y la organización de las políticas y roles que creen los desarrolladores."
   ]
  },
  {
   "cell_type": "code",
   "execution_count": 3,
   "metadata": {},
   "outputs": [],
   "source": [
    "import boto3\n",
    "import json\n",
    "from botocore.exceptions import ClientError\n",
    "\n",
    "iam = boto3.client('iam')"
   ]
  },
  {
   "attachments": {},
   "cell_type": "markdown",
   "metadata": {},
   "source": [
    "Esta política se utilizará para el límite de permisos cuando el rol de desarrollador cree su propio rol de usuario con sus permisos delegados. En este laboratorio usando AWS IAM solo vamos a permitir las regiones us-east-1 (Norte de Virginia) y us-west-1 (Norte de California). Las únicas acciones de servicio que vamos a permitir en estas regiones son AWS EC2 y AWS Lambda, ten en cuenta que estos servicios requieren acciones de soporte adicionales si fueras a reutilizar esta política después de este laboratorio, dependiendo de tus necesidades."
   ]
  },
  {
   "cell_type": "code",
   "execution_count": 4,
   "metadata": {},
   "outputs": [],
   "source": [
    "policy = {\n",
    "    \"Version\": \"2012-10-17\",\n",
    "    \"Statement\": [\n",
    "        {\n",
    "            \"Sid\": \"EC2RestrictRegion\",\n",
    "            \"Effect\": \"Allow\",\n",
    "            \"Action\": \"ec2:*\",\n",
    "            \"Resource\": \"*\",\n",
    "            \"Condition\": {\n",
    "                \"StringEquals\": {\n",
    "                    \"aws:RequestedRegion\": [\n",
    "                        \"us-east-1\",\n",
    "                        \"us-west-1\"\n",
    "                    ]\n",
    "                }\n",
    "            }\n",
    "        },\n",
    "        {\n",
    "            \"Sid\": \"LambdaRestrictRegion\",\n",
    "            \"Effect\": \"Allow\",\n",
    "            \"Action\": \"lambda:*\",\n",
    "            \"Resource\": \"*\",\n",
    "            \"Condition\": {\n",
    "                \"StringEquals\": {\n",
    "                    \"aws:RequestedRegion\": [\n",
    "                        \"us-east-1\",\n",
    "                        \"us-west-1\"\n",
    "                    ]\n",
    "                }\n",
    "            }\n",
    "        }\n",
    "    ]\n",
    "}\n"
   ]
  },
  {
   "cell_type": "code",
   "execution_count": 5,
   "metadata": {},
   "outputs": [
    {
     "name": "stdout",
     "output_type": "stream",
     "text": [
      "Policy created successfully\n"
     ]
    }
   ],
   "source": [
    "policy_name = 'restrict-region-boundary'\n",
    "response = iam.create_policy(\n",
    "        PolicyName=policy_name,\n",
    "        PolicyDocument=json.dumps(policy)\n",
    ")\n",
    "if response['ResponseMetadata']['HTTPStatusCode'] == 200:\n",
    "    print(\"Policy created successfully\")"
   ]
  },
  {
   "attachments": {},
   "cell_type": "markdown",
   "metadata": {},
   "source": [
    "### Crear política restringida IAM de desarrollador\n",
    "\n",
    "Esta política se adjuntará al rol de desarrollador, y permitirá al desarrollador crear políticas y roles con un prefijo de nombre app1, y sólo si se adjunta el límite de permiso restrict-region-boundary. Los prefijos de nombres son útiles cuando tienes diferentes equipos o, en este caso, diferentes aplicaciones ejecutándose en la misma cuenta de AWS. Pueden ser utilizados para mantener sus recursos de aspecto ordenado, y también en la política de IAM como el recurso como lo estamos haciendo aquí."
   ]
  },
  {
   "cell_type": "code",
   "execution_count": 7,
   "metadata": {},
   "outputs": [],
   "source": [
    "policy2 = {\n",
    "    \"Version\": \"2012-10-17\",\n",
    "    \"Statement\": [\n",
    "        {\n",
    "            \"Sid\": \"CreatePolicy\",\n",
    "            \"Effect\": \"Allow\",\n",
    "            \"Action\": [\n",
    "                \"iam:CreatePolicy\",\n",
    "                \"iam:CreatePolicyVersion\",\n",
    "                \"iam:DeletePolicyVersion\"\n",
    "            ],\n",
    "            \"Resource\": \"arn:aws:iam::089715336747:policy/app1*\"\n",
    "        },\n",
    "        {\n",
    "            \"Sid\": \"CreateRole\",\n",
    "            \"Effect\": \"Allow\",\n",
    "            \"Action\": [\n",
    "                \"iam:CreateRole\"\n",
    "            ],\n",
    "            \"Resource\": \"arn:aws:iam::089715336747:role/app1*\",\n",
    "            \"Condition\": {\n",
    "                \"StringEquals\": {\n",
    "                    \"iam:PermissionsBoundary\": \"arn:aws:iam::089715336747:policy/restrict-region-boundary\"\n",
    "                }\n",
    "            }\n",
    "        },\n",
    "        {\n",
    "            \"Sid\": \"AttachDetachRolePolicy\",\n",
    "            \"Effect\": \"Allow\",\n",
    "            \"Action\": [\n",
    "                \"iam:DetachRolePolicy\",\n",
    "                \"iam:AttachRolePolicy\"\n",
    "            ],\n",
    "            \"Resource\": \"arn:aws:iam::089715336747:role/app1*\",\n",
    "            \"Condition\": {\n",
    "                \"ArnEquals\": {\n",
    "                    \"iam:PolicyARN\": [\n",
    "                        \"arn:aws:iam::089715336747:policy/*\",\n",
    "                        \"arn:aws:iam::aws:policy/*\"\n",
    "                    ]\n",
    "                }\n",
    "            }\n",
    "        }      \n",
    "    ]\n",
    "}\n"
   ]
  },
  {
   "cell_type": "code",
   "execution_count": 8,
   "metadata": {},
   "outputs": [
    {
     "name": "stdout",
     "output_type": "stream",
     "text": [
      "Policy created successfully\n"
     ]
    }
   ],
   "source": [
    "policy_name2 = 'createrole-restrict-region-boundary'\n",
    "response = iam.create_policy(\n",
    "        PolicyName=policy_name2,\n",
    "        PolicyDocument=json.dumps(policy2)\n",
    ")\n",
    "if response['ResponseMetadata']['HTTPStatusCode'] == 200:\n",
    "    print(\"Policy created successfully\")"
   ]
  },
  {
   "attachments": {},
   "cell_type": "markdown",
   "metadata": {},
   "source": [
    "### Crear una política de acceso a la consola IAM para desarrolladores\n",
    "\n",
    "Esta política permite acciones de servicio IAM de tipo lista y lectura para que puedas ver lo que has creado usando la consola."
   ]
  },
  {
   "cell_type": "code",
   "execution_count": 9,
   "metadata": {},
   "outputs": [],
   "source": [
    "policy3 = {\n",
    "    \"Version\": \"2012-10-17\",\n",
    "    \"Statement\": [\n",
    "        {\n",
    "            \"Sid\": \"Get\",\n",
    "            \"Effect\": \"Allow\",\n",
    "            \"Action\": [\n",
    "                \"iam:ListPolicies\",\n",
    "                \"iam:GetRole\",\n",
    "                \"iam:GetPolicyVersion\",\n",
    "                \"iam:ListRoleTags\",\n",
    "                \"iam:GetPolicy\",\n",
    "                \"iam:ListPolicyVersions\",\n",
    "                \"iam:ListAttachedRolePolicies\",\n",
    "                \"iam:ListRoles\",\n",
    "                \"iam:ListRolePolicies\",\n",
    "                \"iam:GetRolePolicy\"\n",
    "            ],\n",
    "            \"Resource\": \"*\"\n",
    "        }\n",
    "    ]\n",
    "}"
   ]
  },
  {
   "cell_type": "code",
   "execution_count": 11,
   "metadata": {},
   "outputs": [
    {
     "name": "stdout",
     "output_type": "stream",
     "text": [
      "Policy created successfully\n"
     ]
    }
   ],
   "source": [
    "role_name3 = 'iam-restricted-list-read'\n",
    "response = iam.create_policy(\n",
    "    PolicyName=role_name3,\n",
    "    PolicyDocument=json.dumps(policy3)\n",
    ")\n",
    "if response['ResponseMetadata']['HTTPStatusCode'] == 200:\n",
    "    print(\"Policy created successfully\")"
   ]
  },
  {
   "cell_type": "code",
   "execution_count": null,
   "metadata": {},
   "outputs": [],
   "source": [
    "policy_name = 'dynamodb-policy-test-sample'\n",
    "try:\n",
    "    response = iam.create_policy(\n",
    "        PolicyName=policy_name,\n",
    "        PolicyDocument=json.dumps(policy)\n",
    "    )\n",
    "    print(f\"Policy {policy_name} created successfully. Arn: {response['Policy']['Arn']}\")\n",
    "\n",
    "except ClientError as e:\n",
    "    if e.response['Error']['Code'] == 'EntityAlreadyExists':\n",
    "        #Update policy\n",
    "        account_id = boto3.client('sts').get_caller_identity().get('Account')\n",
    "        response = iam.get_policy(PolicyArn=f\"arn:aws:iam::{account_id}:policy/{policy_name}\")\n",
    "        policy_arn = response['Policy']['Arn']\n",
    "        # Delete all policy versions except the default version\n",
    "        response = iam.list_policy_versions(PolicyArn=f\"arn:aws:iam::{account_id}:policy/{policy_name}\")\n",
    "        for version in response['Versions']:\n",
    "            if not version['IsDefaultVersion']:\n",
    "                response = iam.delete_policy_version(\n",
    "                    PolicyArn=policy_arn,\n",
    "                    VersionId=version['VersionId']\n",
    "                )   \n",
    "        response = iam.create_policy_version(\n",
    "            PolicyArn=policy_arn,\n",
    "            PolicyDocument=json.dumps(policy),\n",
    "            SetAsDefault=True\n",
    "        )\n",
    "        print(f\"Policy {policy_name} updated successfully. Arn: {policy_arn}\")\n",
    "    else:\n",
    "        print(\"Unexpected error: %s\" % e)"
   ]
  }
 ],
 "metadata": {
  "kernelspec": {
   "display_name": "myenv",
   "language": "python",
   "name": "python3"
  },
  "language_info": {
   "codemirror_mode": {
    "name": "ipython",
    "version": 3
   },
   "file_extension": ".py",
   "mimetype": "text/x-python",
   "name": "python",
   "nbconvert_exporter": "python",
   "pygments_lexer": "ipython3",
   "version": "3.10.8"
  },
  "orig_nbformat": 4
 },
 "nbformat": 4,
 "nbformat_minor": 2
}
