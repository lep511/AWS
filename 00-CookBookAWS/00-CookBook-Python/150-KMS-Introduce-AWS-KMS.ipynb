{
 "cells": [
  {
   "cell_type": "markdown",
   "metadata": {},
   "source": [
    "## Introducción a AWS KMS\n",
    "\n",
    "AWS Key Management Service (AWS KMS) es un servicio administrado que le facilita la creación y el control de las claves criptográficas que se utilizan para proteger sus datos. AWS KMS utiliza módulos de seguridad de hardware (HSM) para proteger y validar sus claves de AWS KMS conforme al programa de validación de módulos criptográficos FIPS 140-2, excepto en las regiones de China (Pekín) y China (Ningxia).\n",
    "\n",
    "Al utilizar AWS KMS, obtiene más control sobre el acceso a los datos que cifra. Puede utilizar las características criptográficas y de administración de claves directamente en sus aplicaciones o a través de los servicios de AWS integrados con AWS KMS. Tanto si escribe aplicaciones para AWS como si utiliza servicios de AWS, AWS KMS le permite mantener el control sobre quién puede utilizar sus claves de AWS KMS y obtener acceso a sus datos cifrados.\n",
    "\n",
    "AWS KMS se integra con AWS CloudTrail, un servicio que entrega archivos de registro a su bucket de Amazon S3 designado. Mediante CloudTrail puede monitorizar e investigar cómo y cuándo se han utilizado sus claves KMS y quién las ha utilizado."
   ]
  },
  {
   "cell_type": "code",
   "execution_count": 7,
   "metadata": {},
   "outputs": [],
   "source": [
    "import boto3\n",
    "import json\n",
    "import base64"
   ]
  },
  {
   "cell_type": "code",
   "execution_count": 6,
   "metadata": {},
   "outputs": [],
   "source": [
    "# Create session\n",
    "session = boto3.Session(profile_name='badbob')\n",
    "kms_client = session.client('kms')"
   ]
  },
  {
   "cell_type": "code",
   "execution_count": 9,
   "metadata": {},
   "outputs": [],
   "source": [
    "# Create key\n",
    " \n",
    "response = kms_client.create_key(\n",
    "    Description='My KMS key',\n",
    "    KeyUsage='ENCRYPT_DECRYPT',\n",
    "    Origin='AWS_KMS'\n",
    ")\n",
    "\n",
    "key_id = response['KeyMetadata']['KeyId']\n",
    "    "
   ]
  },
  {
   "cell_type": "markdown",
   "metadata": {},
   "source": [
    "Los alias de las llaves son muy útiles. Son más fáciles de recordar cuando se opera con claves. Y lo que es más importante, al rotar claves, como veremos más adelante en esta sección, no tendremos que actualizar nuestro código para actualizar los nuevos KeyIDs o referencias ARN. Usando alias en nuestro código para llamar a las CMKs por ellos, y actualizando los alias CMKs para que apunten a la nueva clave generada, la cantidad de cambios en nuestro código se minimiza."
   ]
  },
  {
   "cell_type": "code",
   "execution_count": 11,
   "metadata": {},
   "outputs": [
    {
     "data": {
      "text/plain": [
       "{'ResponseMetadata': {'RequestId': '59d60b0f-6fd1-47f8-8be4-0aaba6e57e25',\n",
       "  'HTTPStatusCode': 200,\n",
       "  'HTTPHeaders': {'x-amzn-requestid': '59d60b0f-6fd1-47f8-8be4-0aaba6e57e25',\n",
       "   'cache-control': 'no-cache, no-store, must-revalidate, private',\n",
       "   'expires': '0',\n",
       "   'pragma': 'no-cache',\n",
       "   'date': 'Fri, 28 Jul 2023 14:26:39 GMT',\n",
       "   'content-type': 'application/x-amz-json-1.1',\n",
       "   'content-length': '0',\n",
       "   'connection': 'keep-alive'},\n",
       "  'RetryAttempts': 0}}"
      ]
     },
     "execution_count": 11,
     "metadata": {},
     "output_type": "execute_result"
    }
   ],
   "source": [
    "# Create alias for key\n",
    "kms_client.create_alias(\n",
    "    AliasName='alias/MyKeyAlias',\n",
    "    TargetKeyId=key_id\n",
    ")"
   ]
  },
  {
   "cell_type": "markdown",
   "metadata": {},
   "source": [
    "La **rotación de claves** es muy importante en la administración de claves y una práctica recomendada de seguridad. En AWS KMS existen diferentes formas de rotar las claves en función de cómo se crearon.\n",
    "\n",
    "En el caso de las CMK creadas con material de clave de AWS, AWS KMS también guarda el material criptográfico más antiguo de la CMK, por lo que se puede utilizar para descifrar los datos que cifró. La rotación automática de claves conserva las propiedades de la CMK: el ID de la clave, el ARN de la clave, la región, las políticas y los permisos no cambian cuando se rota la clave, por lo que no es necesario actualizar manualmente el alias de la CMK para que apunte a una CMK recién generada."
   ]
  },
  {
   "cell_type": "code",
   "execution_count": 13,
   "metadata": {},
   "outputs": [
    {
     "data": {
      "text/plain": [
       "{'ResponseMetadata': {'RequestId': '16f71b4a-e8f3-4f3a-be79-a42528b36d69',\n",
       "  'HTTPStatusCode': 200,\n",
       "  'HTTPHeaders': {'x-amzn-requestid': '16f71b4a-e8f3-4f3a-be79-a42528b36d69',\n",
       "   'cache-control': 'no-cache, no-store, must-revalidate, private',\n",
       "   'expires': '0',\n",
       "   'pragma': 'no-cache',\n",
       "   'date': 'Fri, 28 Jul 2023 14:31:45 GMT',\n",
       "   'content-type': 'application/x-amz-json-1.1',\n",
       "   'content-length': '0',\n",
       "   'connection': 'keep-alive'},\n",
       "  'RetryAttempts': 0}}"
      ]
     },
     "execution_count": 13,
     "metadata": {},
     "output_type": "execute_result"
    }
   ],
   "source": [
    "# Rotate key every 30 days\n",
    "kms_client.enable_key_rotation(\n",
    "    KeyId=key_id\n",
    ")  "
   ]
  },
  {
   "cell_type": "markdown",
   "metadata": {},
   "source": [
    "Otra forma de rotar las CMKs construidas con material de llave AWS es generar una nueva llave, luego actualizar el Alias para la CMK."
   ]
  },
  {
   "cell_type": "code",
   "execution_count": 14,
   "metadata": {},
   "outputs": [],
   "source": [
    "# Create key\n",
    " \n",
    "response = kms_client.create_key(\n",
    "    Description='My new KMS key',\n",
    "    KeyUsage='ENCRYPT_DECRYPT',\n",
    "    Origin='AWS_KMS'\n",
    ")\n",
    "\n",
    "key_id_new = response['KeyMetadata']['KeyId']"
   ]
  },
  {
   "cell_type": "code",
   "execution_count": 15,
   "metadata": {},
   "outputs": [
    {
     "data": {
      "text/plain": [
       "{'ResponseMetadata': {'RequestId': 'b0ffff69-a40b-4857-b326-aed9aba10e31',\n",
       "  'HTTPStatusCode': 200,\n",
       "  'HTTPHeaders': {'x-amzn-requestid': 'b0ffff69-a40b-4857-b326-aed9aba10e31',\n",
       "   'cache-control': 'no-cache, no-store, must-revalidate, private',\n",
       "   'expires': '0',\n",
       "   'pragma': 'no-cache',\n",
       "   'date': 'Fri, 28 Jul 2023 14:36:24 GMT',\n",
       "   'content-type': 'application/x-amz-json-1.1',\n",
       "   'content-length': '0',\n",
       "   'connection': 'keep-alive'},\n",
       "  'RetryAttempts': 0}}"
      ]
     },
     "execution_count": 15,
     "metadata": {},
     "output_type": "execute_result"
    }
   ],
   "source": [
    "# Update alias\n",
    "kms_client.update_alias(\n",
    "    AliasName='alias/MyKeyAlias',\n",
    "    TargetKeyId=key_id_new\n",
    ")"
   ]
  },
  {
   "cell_type": "markdown",
   "metadata": {},
   "source": [
    "La eliminación de claves maestras de cliente es una operación muy delicada. Sólo debes borrar una CMK cuando estés seguro de que ya no necesitas utilizarla."
   ]
  },
  {
   "cell_type": "code",
   "execution_count": 16,
   "metadata": {},
   "outputs": [
    {
     "data": {
      "text/plain": [
       "{'ResponseMetadata': {'RequestId': '8d8e34b3-7e5a-41fe-84f0-1857a96bb896',\n",
       "  'HTTPStatusCode': 200,\n",
       "  'HTTPHeaders': {'x-amzn-requestid': '8d8e34b3-7e5a-41fe-84f0-1857a96bb896',\n",
       "   'cache-control': 'no-cache, no-store, must-revalidate, private',\n",
       "   'expires': '0',\n",
       "   'pragma': 'no-cache',\n",
       "   'date': 'Fri, 28 Jul 2023 14:38:55 GMT',\n",
       "   'content-type': 'application/x-amz-json-1.1',\n",
       "   'content-length': '0',\n",
       "   'connection': 'keep-alive'},\n",
       "  'RetryAttempts': 0}}"
      ]
     },
     "execution_count": 16,
     "metadata": {},
     "output_type": "execute_result"
    }
   ],
   "source": [
    "kms_client.disable_key(\n",
    "    KeyId=key_id\n",
    ")"
   ]
  },
  {
   "cell_type": "markdown",
   "metadata": {},
   "source": [
    "Para la operación de eliminación, AWS KMS impone un periodo de espera. Para eliminar una CMK en AWS KMS tiene que programar la eliminación de una clave. Puede establecer el periodo de espera desde un mínimo de 7 días hasta un máximo de 30 días (por defecto)."
   ]
  },
  {
   "cell_type": "code",
   "execution_count": 17,
   "metadata": {},
   "outputs": [
    {
     "data": {
      "text/plain": [
       "{'KeyId': 'arn:aws:kms:us-east-1:535781350567:key/7de9c751-e0e6-4703-9719-51e67bdca218',\n",
       " 'DeletionDate': datetime.datetime(2023, 8, 4, 11, 45, 2, 233000, tzinfo=tzlocal()),\n",
       " 'KeyState': 'PendingDeletion',\n",
       " 'PendingWindowInDays': 7,\n",
       " 'ResponseMetadata': {'RequestId': '31bbd22a-9bdc-44f6-b641-ebdee29f43bd',\n",
       "  'HTTPStatusCode': 200,\n",
       "  'HTTPHeaders': {'x-amzn-requestid': '31bbd22a-9bdc-44f6-b641-ebdee29f43bd',\n",
       "   'cache-control': 'no-cache, no-store, must-revalidate, private',\n",
       "   'expires': '0',\n",
       "   'pragma': 'no-cache',\n",
       "   'date': 'Fri, 28 Jul 2023 14:45:02 GMT',\n",
       "   'content-type': 'application/x-amz-json-1.1',\n",
       "   'content-length': '172',\n",
       "   'connection': 'keep-alive'},\n",
       "  'RetryAttempts': 0}}"
      ]
     },
     "execution_count": 17,
     "metadata": {},
     "output_type": "execute_result"
    }
   ],
   "source": [
    "kms_client.schedule_key_deletion(\n",
    "    KeyId=key_id,\n",
    "    PendingWindowInDays=7\n",
    ")"
   ]
  }
 ],
 "metadata": {
  "kernelspec": {
   "display_name": "personal",
   "language": "python",
   "name": "python3"
  },
  "language_info": {
   "codemirror_mode": {
    "name": "ipython",
    "version": 3
   },
   "file_extension": ".py",
   "mimetype": "text/x-python",
   "name": "python",
   "nbconvert_exporter": "python",
   "pygments_lexer": "ipython3",
   "version": "3.11.3"
  },
  "orig_nbformat": 4
 },
 "nbformat": 4,
 "nbformat_minor": 2
}
