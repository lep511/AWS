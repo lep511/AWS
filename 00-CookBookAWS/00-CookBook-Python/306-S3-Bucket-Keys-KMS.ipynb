{
 "cells": [
  {
   "cell_type": "markdown",
   "metadata": {},
   "source": [
    "### Uso de claves de bucket de Amazon S3 con KMS para cifrar objetos\n",
    "\n",
    "#### Problema\n",
    "Necesita cifrar los objetos de S3 en reposo con una clave gestionada por el cliente (CMK) del Servicio de Administración de Claves (KMS) y asegurarse de que todos los objetos del bucket se cifran con la clave KMS de forma rentable.\n",
    "\n",
    "#### Solución\n",
    "Cree una clave gestionada por el cliente de KMS, configure su cubo de S3 para utilizar claves de cubo de S3 que hagan referencia a su CMK de KMS de AWS y configure una política de cubo de S3 que requiera el uso de KMS para todas las operaciones de S3:PutObject.\n",
    "<br>\n",
    "<br>\n",
    "<img src=\"https://learning.oreilly.com/api/v2/epubs/urn:orm:book:9781492092599/files/assets/awsc_0310.png\" width=\"550\">\n"
   ]
  },
  {
   "cell_type": "code",
   "execution_count": 3,
   "metadata": {},
   "outputs": [],
   "source": [
    "import boto3\n",
    "import json\n",
    "import random\n",
    "\n",
    "\n",
    "region_aws = 'us-east-1'\n",
    "\n",
    "kms = boto3.client('kms', region_name=region_aws)\n",
    "s3 = boto3.resource('s3')\n",
    "s3_client = boto3.client('s3')\n",
    "s3control = boto3.client('s3control', region_name=region_aws)\n",
    "ec2 = boto3.resource('ec2', region_name=region_aws)\n",
    "ec2_client = boto3.client('ec2', region_name=region_aws)"
   ]
  },
  {
   "cell_type": "code",
   "execution_count": 2,
   "metadata": {},
   "outputs": [
    {
     "name": "stdout",
     "output_type": "stream",
     "text": [
      "Bucket name: cookbook-141647\n"
     ]
    }
   ],
   "source": [
    "# Create a bucket\n",
    "bucket_name = 'cookbook-{}'.format(random.randint(10000, 1000000))\n",
    "bucket = s3.create_bucket(Bucket=bucket_name)\n",
    "print(\"Bucket name: {}\".format(bucket_name))\n",
    "\n",
    "# Por defecto cuando creamos un bucket, las opciones de **Block all public access** (Bloquear todo el acceso público) \n",
    "# están desactivadas por defecto.\n",
    "\n",
    "response = s3_client.put_public_access_block(\n",
    "        Bucket=bucket_name,\n",
    "        PublicAccessBlockConfiguration={\n",
    "            'BlockPublicAcls': True,\n",
    "            'IgnorePublicAcls': True,\n",
    "            'BlockPublicPolicy': True,\n",
    "            'RestrictPublicBuckets': True\n",
    "        }\n",
    ")"
   ]
  },
  {
   "cell_type": "markdown",
   "metadata": {},
   "source": [
    "Crear una clave KMS para utilizarla en su bucket de S3 y almacene el ID de la clave en una variable de entorno:"
   ]
  },
  {
   "cell_type": "code",
   "execution_count": 5,
   "metadata": {},
   "outputs": [
    {
     "name": "stdout",
     "output_type": "stream",
     "text": [
      "Key ID: b22ae65e-6ede-49b6-9eb7-c10eb646b4ba\n"
     ]
    }
   ],
   "source": [
    "response = kms.create_key(\n",
    "    Description='AWSCookbook - This key is used to encrypt objects in S3',\n",
    "    Tags=[\n",
    "        {\n",
    "            'TagKey': 'Name',\n",
    "            'TagValue': 'AWSCookbook306Key'\n",
    "        },\n",
    "    ]\n",
    ")\n",
    "key_id = response['KeyMetadata']['KeyId']\n",
    "print(\"Key ID: {}\".format(key_id))"
   ]
  },
  {
   "cell_type": "code",
   "execution_count": 6,
   "metadata": {},
   "outputs": [],
   "source": [
    "# Create an alias to reference your key:\n",
    "response = kms.create_alias(\n",
    "    AliasName='alias/awscookbook306',\n",
    "    TargetKeyId=key_id\n",
    ")"
   ]
  },
  {
   "cell_type": "markdown",
   "metadata": {},
   "source": [
    "Configure el bucket de S3 para utilizar una clave de bucket especificando su ID de clave KMS:"
   ]
  },
  {
   "cell_type": "code",
   "execution_count": 12,
   "metadata": {},
   "outputs": [],
   "source": [
    "response = s3_client.put_bucket_encryption(\n",
    "    Bucket=bucket_name,\n",
    "    ServerSideEncryptionConfiguration={\n",
    "        'Rules': [\n",
    "            {\n",
    "                'ApplyServerSideEncryptionByDefault': {\n",
    "                    'SSEAlgorithm': 'aws:kms',\n",
    "                    'KMSMasterKeyID': key_id\n",
    "                },\n",
    "                'BucketKeyEnabled': True\n",
    "            },\n",
    "        ]\n",
    "    }\n",
    ")\n"
   ]
  },
  {
   "cell_type": "markdown",
   "metadata": {},
   "source": [
    "Cree una plantilla de política para el bucket para forzar el cifrado de todos los objetos:"
   ]
  },
  {
   "cell_type": "code",
   "execution_count": 13,
   "metadata": {},
   "outputs": [],
   "source": [
    "policy_s3_encryption = {\n",
    "  \"Version\": \"2012-10-17\",\n",
    "  \"Id\": \"PutObjectPolicy\",\n",
    "  \"Statement\": [\n",
    "    {\n",
    "      \"Sid\": \"DenyUnEncryptedObjectUploads\",\n",
    "      \"Effect\": \"Deny\",\n",
    "      \"Principal\": \"*\",\n",
    "      \"Action\": \"s3:PutObject\",\n",
    "      \"Resource\": \"arn:aws:s3:::{}/*\".format(bucket_name),\n",
    "      \"Condition\": {\n",
    "        \"StringNotEquals\": {\n",
    "          \"s3:x-amz-server-side-encryption\": \"aws:kms\"\n",
    "        }\n",
    "      }\n",
    "    }\n",
    "  ]\n",
    "}"
   ]
  },
  {
   "cell_type": "code",
   "execution_count": 15,
   "metadata": {},
   "outputs": [],
   "source": [
    "# Apply the bucket policy to force encryption on all uploads:\n",
    "response = s3_client.put_bucket_policy(\n",
    "    Bucket=bucket_name,\n",
    "    Policy=json.dumps(policy_s3_encryption)\n",
    ")"
   ]
  },
  {
   "cell_type": "markdown",
   "metadata": {},
   "source": [
    "#### Controles de validación\n",
    "\n",
    "Suba un objeto al bucket de S3 con encriptación desde la línea de comandos. Verás que la subida se ha realizado con éxito:"
   ]
  },
  {
   "cell_type": "code",
   "execution_count": 19,
   "metadata": {},
   "outputs": [
    {
     "name": "stdout",
     "output_type": "stream",
     "text": [
      "En la terminal ejecute el siguiente comando:\n",
      "aws s3 cp new-report.png s3://cookbook-141647/test-file.png --sse aws:kms --sse-kms-key-id b22ae65e-6ede-49b6-9eb7-c10eb646b4ba\n"
     ]
    }
   ],
   "source": [
    "print(\"En la terminal ejecute el siguiente comando:\")\n",
    "print(\"aws s3 cp new-report.png s3://{}/test-file.png --sse aws:kms --sse-kms-key-id {}\".format(bucket_name, key_id))"
   ]
  },
  {
   "cell_type": "markdown",
   "metadata": {},
   "source": [
    "Ahora, suba un objeto al bucket de S3 sin cifrar. Notarás que recibes un error en la línea de comandos. Esto indica que la política de bucket que configuraste está funcionando correctamente:"
   ]
  },
  {
   "cell_type": "code",
   "execution_count": 20,
   "metadata": {},
   "outputs": [
    {
     "name": "stdout",
     "output_type": "stream",
     "text": [
      "En la terminal ejecute el siguiente comando:\n",
      "aws s3 cp new-report.png s3://cookbook-141647/test-file.png\n"
     ]
    }
   ],
   "source": [
    "print(\"En la terminal ejecute el siguiente comando:\")\n",
    "print(\"aws s3 cp new-report.png s3://{}/test-file.png\".format(bucket_name))"
   ]
  },
  {
   "cell_type": "markdown",
   "metadata": {},
   "source": [
    "#### Discusión\n",
    "Al aplicar el cifrado a su bucket de S3, podría haber optado por utilizar una CMK administrada por AWS que Amazon S3 crea en su cuenta de AWS y administra por usted. Al igual que la CMK gestionada por el cliente, su CMK gestionada por AWS es única para su cuenta de AWS y su región. Solo Amazon S3 tiene permiso para utilizar esta CMK en su nombre. Puede crear, rotar y desactivar las CMK gestionadas por el cliente auditables desde la consola de AWS KMS. La documentación de S3 ofrece una explicación exhaustiva de las diferencias entre los tipos de cifrado admitidos en S3.\n",
    "\n",
    "Cuando se encriptan los datos, estos están protegidos, pero hay que proteger la clave de encriptación. El [cifrado de sobre](https://docs.aws.amazon.com/es_es/kms/latest/developerguide/concepts.html#enveloping) es la práctica de cifrar los datos de texto plano con una clave de datos, y luego cifrar la clave de datos bajo otra clave."
   ]
  }
 ],
 "metadata": {
  "kernelspec": {
   "display_name": "Python 3.9.12 ('base')",
   "language": "python",
   "name": "python3"
  },
  "language_info": {
   "codemirror_mode": {
    "name": "ipython",
    "version": 3
   },
   "file_extension": ".py",
   "mimetype": "text/x-python",
   "name": "python",
   "nbconvert_exporter": "python",
   "pygments_lexer": "ipython3",
   "version": "3.9.12"
  },
  "orig_nbformat": 4,
  "vscode": {
   "interpreter": {
    "hash": "c9cdd2fa3b32da9704bd8048bdba085d67219855a318f4adc7f095bb5cfa603b"
   }
  }
 },
 "nbformat": 4,
 "nbformat_minor": 2
}
