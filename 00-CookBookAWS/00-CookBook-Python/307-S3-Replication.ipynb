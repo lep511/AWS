{
 "cells": [
  {
   "attachments": {},
   "cell_type": "markdown",
   "metadata": {},
   "source": [
    "# Replicación de objetos\n",
    "\n",
    "**[LINK](https://docs.aws.amazon.com/es_es/AmazonS3/latest/userguide/replication.html)**\n",
    "\n",
    "Con la replicación es posible copiar objetos entre buckets de Amazon S3 de forma automática y asincrónica. Los buckets que están configurados para reproducción de objetos pueden pertenecer a la misma Cuenta de AWS o a cuentas diferentes. Puede replicar objetos en un solo bucket de destino o en varios buckets de destino. Los buckets de destino pueden estar en diferentes Regiones de AWS o dentro de la misma región que el bucket de origen.\n",
    "\n",
    "Para replicar automáticamente objetos nuevos a medida que se escriben en el bucket, utilice la replicación en directo, como la replicación entre regiones (CRR). Para replicar objetos existentes en un bucket diferente bajo demanda, utilice la replicación por lotes de S3. Para obtener más información sobre la replicación de objetos existentes, consulte Cuándo utilizar la replicación por lotes de S3.\n",
    "\n",
    "Para habilitar la CRR, agregue una configuración de replicación al bucket de origen. La configuración mínima, debe proporcionar lo siguiente:\n",
    "\n",
    "* El bucket o buckets de destino en los que desea que Amazon S3 replique objetos\n",
    "* Un rol de AWS Identity and Access Management (IAM) que Amazon S3 pueda asumir para reproducir objetos en su nombre\n",
    "\n",
    "La replicación puede ayudarle a hacer lo siguiente:\n",
    "\n",
    "* Replicar objetos reteniendo los metadatos: puede utilizar la replicación para realizar copias de los objetos en las que se retengan todos los metadatos, como las horas de creación del objeto original y los ID de versión. Esta capacidad es importante si debe asegurarse de que la réplica sea idéntica al objeto de origen.\n",
    "\n",
    "* Replicar objetos en diferentes clases de almacenamiento: puede utilizar la replicación para colocar objetos directamente en S3 Glacier Flexible Retrieval, S3 Glacier Deep Archive u otra clase de almacenamiento en los buckets de destino. También puede replicar los datos en la misma clase de almacenamiento y utilizar las políticas de ciclo de vida en los buckets de destino para mover objetos a una clase de almacenamiento con menos actividad conforme adquieren antigüedad.\n",
    "\n",
    "* Mantener copias de objetos con distintos propietarios: independientemente de quién sea el propietario del objeto de origen, puede indicar a Amazon S3 que cambie la propiedad de la réplica a la Cuenta de AWS que posee el bucket de destino. Esto se conoce como la opción de invalidación del propietario. Puede usar esta opción para restringir el acceso a las réplicas de objetos.\n",
    "\n",
    "* Mantener los objetos almacenados en varias Regiones de AWS: para garantizar las diferencias geográficas en el lugar donde se guardan los datos, puede establecer varios buckets de destino en diferentes Regiones de AWS. Esta característica podría ayudarle a cumplir ciertos requisitos de conformidad.\n",
    "\n",
    "* Replicar objetos en 15 minutos: para replicar sus datos en la misma Región de AWS o en distintas regiones dentro de un periodo predecible, puede utilizar el control de tiempo de replicación de S3 (S3 RTC). S3 RTC replica el 99,99 % de los objetos nuevos almacenados en Amazon S3) en un plazo de 15 minutos (con el respaldo de un acuerdo de nivel de servicio). Para obtener más información, consulte Cumplimiento de los requisitos de conformidad mediante el control de tiempo de replicación de S3 (S3 RTC).\n",
    "* Sincronizar buckets, replicar objetos existentes y replicar objetos que fallaron o se replicaron anteriormente: para sincronizar buckets y replicar objetos existentes, utilice la replicación por lotes como acción de replicación bajo demanda. Para obtener más información sobre cuándo utilizar la replicación por lotes, consulte Cuándo utilizar la replicación por lotes de S3.\n",
    "\n",
    "* Replicar objetos y realizar una conmutación por error a un bucket en otra Región de AWS: para mantener todos los metadatos y objetos sincronizados entre los buckets durante la replicación de datos, utilice las reglas de replicación bidireccional (también conocidas como replicación bidireccional) antes de configurar los controles de conmutación por error de los puntos de acceso multirregionales de Amazon S3. Las reglas de replicación bidireccional ayudan a garantizar que, cuando se escriben datos en el bucket de S3 al que se transfiere el tráfico por error, esos datos se repliquen de nuevo en el bucket de origen."
   ]
  },
  {
   "cell_type": "code",
   "execution_count": 17,
   "metadata": {},
   "outputs": [],
   "source": [
    "import boto3\n",
    "import json\n",
    "import random\n",
    "from botocore.exceptions import ClientError\n",
    "\n",
    "region_aws = 'us-east-1'\n",
    "s3 = boto3.resource('s3')\n",
    "s3_client = boto3.client('s3')"
   ]
  },
  {
   "attachments": {},
   "cell_type": "markdown",
   "metadata": {},
   "source": [
    "### Crear dos bucket"
   ]
  },
  {
   "cell_type": "code",
   "execution_count": 5,
   "metadata": {},
   "outputs": [],
   "source": [
    "bucket_orig = 'cookbook-orig-{}'.format(random.randint(10000, 1000000))\n",
    "bucket = s3.create_bucket(Bucket=bucket_orig)\n",
    "bucket_dest = 'cookbook-dest-{}'.format(random.randint(10000, 1000000))\n",
    "bucket = s3.create_bucket(Bucket=bucket_dest)\n",
    "print(f\"Bucket de origen: {bucket_orig} \\nBucket de destino: {bucket_dest}\")"
   ]
  },
  {
   "attachments": {},
   "cell_type": "markdown",
   "metadata": {},
   "source": [
    "### Habilitar el control de versiones en S3"
   ]
  },
  {
   "cell_type": "code",
   "execution_count": 15,
   "metadata": {},
   "outputs": [
    {
     "name": "stdout",
     "output_type": "stream",
     "text": [
      "Versioning habilitado en el bucket cookbook-885384\n",
      "Versioning habilitado en el bucket cookbook-112194\n"
     ]
    }
   ],
   "source": [
    "bucket_versioning = s3.BucketVersioning(bucket_orig)\n",
    "response = bucket_versioning.enable()\n",
    "if response['ResponseMetadata']['HTTPStatusCode'] == 200:\n",
    "    print('Versioning habilitado en el bucket {}'.format(bucket_orig))\n",
    "    \n",
    "bucket_versioning = s3.BucketVersioning(bucket_dest)\n",
    "response = bucket_versioning.enable()\n",
    "if response['ResponseMetadata']['HTTPStatusCode'] == 200:\n",
    "    print('Versioning habilitado en el bucket {}'.format(bucket_dest))"
   ]
  },
  {
   "attachments": {},
   "cell_type": "markdown",
   "metadata": {},
   "source": [
    "### Cree un rol de IAM. \n",
    "Especifique este rol en la configuración de replicación que agregue al bucket de origen más adelante. Amazon S3 asume este rol para replicar objetos en su nombre."
   ]
  },
  {
   "cell_type": "code",
   "execution_count": 16,
   "metadata": {},
   "outputs": [],
   "source": [
    "s3_trust_policy = {\n",
    "   \"Version\":\"2012-10-17\",\n",
    "   \"Statement\":[\n",
    "      {\n",
    "         \"Effect\":\"Allow\",\n",
    "         \"Principal\":{\n",
    "            \"Service\":\"s3.amazonaws.com\"\n",
    "         },\n",
    "         \"Action\":\"sts:AssumeRole\"\n",
    "      }\n",
    "   ]\n",
    "}"
   ]
  },
  {
   "cell_type": "code",
   "execution_count": 18,
   "metadata": {},
   "outputs": [
    {
     "name": "stdout",
     "output_type": "stream",
     "text": [
      "Role s3-replication-role created\n"
     ]
    }
   ],
   "source": [
    "# Cretae role\n",
    "iam = boto3.client('iam')\n",
    "role_name = 's3-replication-role'\n",
    "\n",
    "try:\n",
    "    response = iam.create_role(\n",
    "        RoleName=role_name,\n",
    "        AssumeRolePolicyDocument=json.dumps(s3_trust_policy),\n",
    "        Description='Role for S3 replication'\n",
    "    )\n",
    "    print('Role {} created'.format(role_name))\n",
    "except ClientError as e:\n",
    "    print(\"Unexpected error: %s\" % e)"
   ]
  },
  {
   "cell_type": "code",
   "execution_count": 30,
   "metadata": {},
   "outputs": [],
   "source": [
    "s3_role_permissions_policy = {\n",
    "   \"Version\":\"2012-10-17\",\n",
    "   \"Statement\":[\n",
    "      {\n",
    "         \"Effect\":\"Allow\",\n",
    "         \"Action\":[\n",
    "            \"s3:GetObjectVersionForReplication\",\n",
    "            \"s3:GetObjectVersionAcl\",\n",
    "            \"s3:GetObjectVersionTagging\"\n",
    "         ],\n",
    "         \"Resource\":[\n",
    "            f\"arn:aws:s3:::{bucket_orig}/*\"\n",
    "         ]\n",
    "      },\n",
    "      {\n",
    "         \"Effect\":\"Allow\",\n",
    "         \"Action\":[\n",
    "            \"s3:ListBucket\",\n",
    "            \"s3:GetReplicationConfiguration\"\n",
    "         ],\n",
    "         \"Resource\":[\n",
    "            f\"arn:aws:s3:::{bucket_orig}\"\n",
    "         ]\n",
    "      },\n",
    "      {\n",
    "         \"Effect\":\"Allow\",\n",
    "         \"Action\":[\n",
    "            \"s3:ReplicateObject\",\n",
    "            \"s3:ReplicateDelete\",\n",
    "            \"s3:ReplicateTags\"\n",
    "         ],\n",
    "         \"Resource\":f\"arn:aws:s3:::{bucket_dest}/*\"\n",
    "      }\n",
    "   ]\n",
    "}"
   ]
  },
  {
   "cell_type": "code",
   "execution_count": 32,
   "metadata": {},
   "outputs": [
    {
     "name": "stdout",
     "output_type": "stream",
     "text": [
      "Policy attached to role s3-replication-role\n"
     ]
    }
   ],
   "source": [
    "# Attach policy to role\n",
    "\n",
    "try:\n",
    "    response = iam.put_role_policy(\n",
    "        RoleName=role_name,\n",
    "        PolicyName='s3-replication-policy',\n",
    "        PolicyDocument=json.dumps(s3_role_permissions_policy)\n",
    "    )\n",
    "    print('Policy attached to role {}'.format(role_name))\n",
    "except ClientError as e:\n",
    "    print(e.response['Error']['Message'])"
   ]
  },
  {
   "cell_type": "markdown",
   "metadata": {},
   "source": [
    "### Agregue la configuración de replicación al bucket source"
   ]
  },
  {
   "cell_type": "code",
   "execution_count": 41,
   "metadata": {},
   "outputs": [],
   "source": [
    "# Get role ARN\n",
    "arn_role = iam.get_role(RoleName=role_name)['Role']['Arn']\n",
    "\n",
    "replication_configuration = {\n",
    "  \"Role\": arn_role,\n",
    "  \"Rules\": [\n",
    "    {\n",
    "      \"Status\": \"Enabled\",\n",
    "      \"Priority\": 1,\n",
    "      \"DeleteMarkerReplication\": { \"Status\": \"Disabled\" },\n",
    "      \"Filter\" : { \"Prefix\": \"Tax\"},\n",
    "      \"Destination\": {\n",
    "        \"Bucket\": f\"arn:aws:s3:::{bucket_dest}\"\n",
    "      }\n",
    "    }\n",
    "  ]\n",
    "}"
   ]
  },
  {
   "cell_type": "code",
   "execution_count": 42,
   "metadata": {},
   "outputs": [
    {
     "name": "stdout",
     "output_type": "stream",
     "text": [
      "Replication configuration created\n"
     ]
    }
   ],
   "source": [
    "# Put bucket replication configuration\n",
    "try:\n",
    "    response = s3_client.put_bucket_replication(\n",
    "        Bucket=bucket_orig,\n",
    "        ReplicationConfiguration=replication_configuration\n",
    "    )\n",
    "    print('Replication configuration created')\n",
    "except ClientError as e:\n",
    "    print(e.response['Error']['Message'])\n",
    "    print('Replication configuration not created')\n",
    "    raise e"
   ]
  },
  {
   "attachments": {},
   "cell_type": "markdown",
   "metadata": {},
   "source": [
    "* Para recuperar la configuración de replicación, utilice el comando get-bucket-replication."
   ]
  },
  {
   "cell_type": "code",
   "execution_count": 45,
   "metadata": {},
   "outputs": [
    {
     "data": {
      "text/plain": [
       "{'ResponseMetadata': {'RequestId': '93N64SPYAYGZN5Y8',\n",
       "  'HostId': '9k8wpg8mVw8iWFaKtwDLPeIDQXdAjzTLLSmRhEFwDRChg/6+UBecwGpq3wj8PpiZdCxXKoMpPrk=',\n",
       "  'HTTPStatusCode': 200,\n",
       "  'HTTPHeaders': {'x-amz-id-2': '9k8wpg8mVw8iWFaKtwDLPeIDQXdAjzTLLSmRhEFwDRChg/6+UBecwGpq3wj8PpiZdCxXKoMpPrk=',\n",
       "   'x-amz-request-id': '93N64SPYAYGZN5Y8',\n",
       "   'date': 'Sun, 23 Apr 2023 17:24:55 GMT',\n",
       "   'transfer-encoding': 'chunked',\n",
       "   'server': 'AmazonS3'},\n",
       "  'RetryAttempts': 0},\n",
       " 'ReplicationConfiguration': {'Role': 'arn:aws:iam::305985460937:role/s3-replication-role',\n",
       "  'Rules': [{'ID': 'YmVhNGY5NGYtZTcwNS00NjQzLWEzOWMtMWQ0OGI0MGRlYmIw',\n",
       "    'Priority': 1,\n",
       "    'Filter': {'Prefix': 'Tax'},\n",
       "    'Status': 'Enabled',\n",
       "    'Destination': {'Bucket': 'arn:aws:s3:::cookbook-112194'},\n",
       "    'DeleteMarkerReplication': {'Status': 'Disabled'}}]}}"
      ]
     },
     "execution_count": 45,
     "metadata": {},
     "output_type": "execute_result"
    }
   ],
   "source": [
    "get_bucket_replication = s3_client.get_bucket_replication(Bucket=bucket_orig)\n",
    "get_bucket_replication"
   ]
  },
  {
   "attachments": {},
   "cell_type": "markdown",
   "metadata": {},
   "source": [
    "### Pruebe la configuración en la consola de Amazon S3:\n",
    "\n",
    "* Inicie sesión en la AWS Management Console y abra la consola de Amazon S3 en https://console.aws.amazon.com/s3/.\n",
    "\n",
    "* En el bucket *cookbook-orig-XXXXX*, cree una carpeta llamada Tax.\n",
    "\n",
    "* Agregue objetos de ejemplo a la carpeta Tax en el bucket *cookbook-orig-XXXXX*.\n",
    "\n",
    "En el bucket *cookbook-dest-XXXXX*, compruebe lo siguiente:\n",
    "\n",
    "* Que Amazon S3 haya replicado los objetos.\n",
    "\n",
    "* En las properties (propiedades) del objeto, que Replication Status (Estado de replicación) está establecido en Replica (lo que lo identifica como un objeto de réplica).\n",
    "\n",
    "* En las propiedades del objeto, que la sección de permisos no muestra ningún permiso. Esto significa que la réplica aún pertenece al propietario del bucket source y que el propietario del bucket *cookbook-dest-XXXXX* no tiene permisos en la réplica del objeto. Puede agregar opciones de configuración adicionales para indicar a Amazon S3 que cambie la titularidad de la réplica. Para ver un ejemplo, consulte [Cambio del propietario de la réplica cuando los buckets de origen y destino son propiedad de diferentes cuentas](https://docs.aws.amazon.com/es_es/AmazonS3/latest/userguide/replication-walkthrough-3.html)."
   ]
  }
 ],
 "metadata": {
  "kernelspec": {
   "display_name": "myenv",
   "language": "python",
   "name": "python3"
  },
  "language_info": {
   "codemirror_mode": {
    "name": "ipython",
    "version": 3
   },
   "file_extension": ".py",
   "mimetype": "text/x-python",
   "name": "python",
   "nbconvert_exporter": "python",
   "pygments_lexer": "ipython3",
   "version": "3.10.8"
  },
  "orig_nbformat": 4
 },
 "nbformat": 4,
 "nbformat_minor": 2
}
