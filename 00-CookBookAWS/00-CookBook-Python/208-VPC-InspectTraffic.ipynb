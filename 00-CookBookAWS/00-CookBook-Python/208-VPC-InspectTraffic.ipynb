{
 "cells": [
  {
   "cell_type": "markdown",
   "metadata": {},
   "source": [
    "### Las mejoras de enrutamiento de Amazon VPC permiten inspeccionar el tráfico entre subredes en una VPC\n",
    "\n",
    "#### [Link](https://aws.amazon.com/es/blogs/aws/inspect-subnet-to-subnet-traffic-with-amazon-vpc-more-specific-routing/)\n",
    "\n",
    "Desde diciembre de 2019, Amazon Virtual Private Cloud (Amazon VPC) le ha permitido enrutar todo el tráfico de entrada (también conocido como tráfico norte - sur) a una interfaz de red específica. Puede utilizar esta capacidad por varias razones. Por ejemplo, para inspeccionar el tráfico entrante mediante un dispositivo de sistema de detección de intrusiones (IDS) o para dirigir el tráfico entrante a un firewall.\n",
    "\n",
    "Desde que lanzamos esta función, muchos de ustedes nos pidieron que proporcionáramos una capacidad similar para analizar el tráfico que fluye de una subred a otra dentro de su VPC, también conocido como tráfico este-oeste. Hasta hoy, no era posible porque una ruta en una tabla de enrutamiento no puede ser más específica que la ruta local predeterminada (consulte la documentación de la VPC para obtener más detalles). En lenguaje llano, significa que ninguna ruta puede tener un destino que utilice un rango CIDR menor que la ruta local por defecto (que es el rango CIDR de toda la VPC). Por ejemplo, cuando el rango VPC es 10.0.0/16 y una subred tiene 10.0.1.0/24, una ruta a 10.0.1.0/24 es más específica que una ruta a 10.0.0/16.\n",
    "\n",
    "Las tablas de enrutamiento ya no tienen esta restricción. Las rutas en una tabla de enrutamiento pueden tener rutas más específicas que la ruta local por defecto. Puede utilizar esta ruta más específica para enviar todo el tráfico a un dispositivo o servicio dedicado para inspeccionar, analizar o filtrar todo el tráfico que fluye entre dos subredes (tráfico este-oeste). El destino de la ruta puede ser la interfaz de red (ENI) conectada a un dispositivo que haya construido o adquirido, un punto final de AWS Gateway Load Balancer (GWLB) para distribuir el tráfico a varios dispositivos por motivos de rendimiento o alta disponibilidad, un firewall de red de AWS o una puerta de enlace NAT. También permite insertar un dispositivo entre una subred y un AWS Transit Gateway.\n",
    "\n",
    "Es posible encadenar appliances para tener más de un tipo de análisis entre subredes de origen y destino. Por ejemplo, es posible que primero desee filtrar el tráfico mediante un firewall (administrado por AWS o un dispositivo de firewall de terceros), en segundo lugar enviar el tráfico a un sistema de detección y prevención de intrusiones y, por último, realizar una inspección profunda de paquetes. Puede acceder a los dispositivos virtuales desde nuestra red de socios de AWS y AWS Marketplace.\n",
    "\n",
    "Cuando encadenas appliances, cada appliance y cada endpoint tienen que estar en subredes separadas."
   ]
  },
  {
   "cell_type": "code",
   "execution_count": 1,
   "metadata": {},
   "outputs": [],
   "source": [
    "import boto3\n",
    "import json\n",
    "\n",
    "ec2_r1 = boto3.resource('ec2')\n",
    "ec2_client_r1 = boto3.client('ec2')"
   ]
  },
  {
   "cell_type": "markdown",
   "metadata": {},
   "source": [
    "#### Crear una VPC\n",
    "\n",
    "Para el propósito de este ejemplo vamos a suponer que tengo una VPC con tres subredes. La primera subred es pública y tiene un host bastión. Requiere acceso a recursos, como una API o una base de datos en la segunda subred. La segunda subred es privada. Alberga los recursos que necesita el bastión. Escribí un simple script CDK para ayudarte a desplegar esta configuración.\n",
    "\n",
    "![image](https://d2908q01vomqb2.cloudfront.net/da4b9237bacccdf19c0760cab7aec4a8359010b0/2021/05/24/illustration-1.png)"
   ]
  },
  {
   "cell_type": "code",
   "execution_count": 2,
   "metadata": {},
   "outputs": [],
   "source": [
    "vpc_r1 = ec2_r1.create_vpc(CidrBlock='10.10.0.0/16')"
   ]
  },
  {
   "cell_type": "code",
   "execution_count": 3,
   "metadata": {},
   "outputs": [
    {
     "data": {
      "text/plain": [
       "[ec2.Tag(resource_id='vpc-03fea7e7026d9f7b7', key='Name', value='RoutingDemoVPC')]"
      ]
     },
     "execution_count": 3,
     "metadata": {},
     "output_type": "execute_result"
    }
   ],
   "source": [
    "# Tag the VPC\n",
    "vpc_r1.create_tags(Tags=[{\"Key\": \"Name\", \"Value\": \"RoutingDemoVPC\"}])"
   ]
  },
  {
   "cell_type": "code",
   "execution_count": 4,
   "metadata": {},
   "outputs": [],
   "source": [
    "# Crear 3 subredes para la VPC\n",
    "vpc_subnet_public = ec2_r1.create_subnet(\n",
    "    CidrBlock='10.10.1.0/24',\n",
    "    VpcId=vpc_r1.id,\n",
    "    AvailabilityZone='us-east-1a'\n",
    ")\n",
    "vpc_subnet_private_appliance = ec2_r1.create_subnet(\n",
    "    CidrBlock='10.10.2.0/24', \n",
    "    VpcId=vpc_r1.id,\n",
    "    AvailabilityZone='us-east-1a'\n",
    ")\n",
    "vpc_subnet_private_application = ec2_r1.create_subnet(\n",
    "    CidrBlock='10.10.3.0/24', \n",
    "    VpcId=vpc_r1.id,\n",
    "    AvailabilityZone='us-east-1a'\n",
    ")"
   ]
  },
  {
   "cell_type": "code",
   "execution_count": 5,
   "metadata": {},
   "outputs": [
    {
     "data": {
      "text/plain": [
       "[ec2.Tag(resource_id='subnet-0efe80915dda30b88', key='Name', value='RoutingDemoVPC-Application')]"
      ]
     },
     "execution_count": 5,
     "metadata": {},
     "output_type": "execute_result"
    }
   ],
   "source": [
    "# Create tags\n",
    "vpc_subnet_public.create_tags(Tags=[{\"Key\": \"Name\", \"Value\": \"RoutingDemoVPC-Bastion\"}])\n",
    "vpc_subnet_private_appliance.create_tags(Tags=[{\"Key\": \"Name\", \"Value\": \"RoutingDemoVPC-Appliance\"}])\n",
    "vpc_subnet_private_application.create_tags(Tags=[{\"Key\": \"Name\", \"Value\": \"RoutingDemoVPC-Application\"}])"
   ]
  },
  {
   "cell_type": "code",
   "execution_count": 6,
   "metadata": {},
   "outputs": [
    {
     "data": {
      "text/plain": [
       "[ec2.Tag(resource_id='rtb-0aaac0706422ac0e7', key='Name', value='RoutingDemoVPC-Application')]"
      ]
     },
     "execution_count": 6,
     "metadata": {},
     "output_type": "execute_result"
    }
   ],
   "source": [
    "# Crear routables para la VPC\n",
    "vpc_route_table_public = ec2_r1.create_route_table(VpcId=vpc_r1.id)\n",
    "vpc_route_table_public.create_tags(Tags=[{\"Key\": \"Name\", \"Value\": \"RoutingDemoVPC-Public-Bastion\"}])\n",
    "vpc_route_table_appliance = ec2_r1.create_route_table(VpcId=vpc_r1.id)\n",
    "vpc_route_table_appliance.create_tags(Tags=[{\"Key\": \"Name\", \"Value\": \"RoutingDemoVPC-Appliance\"}])\n",
    "vpc_route_table_application = ec2_r1.create_route_table(VpcId=vpc_r1.id)\n",
    "vpc_route_table_application.create_tags(Tags=[{\"Key\": \"Name\", \"Value\": \"RoutingDemoVPC-Application\"}])"
   ]
  },
  {
   "cell_type": "code",
   "execution_count": 7,
   "metadata": {},
   "outputs": [
    {
     "data": {
      "text/plain": [
       "ec2.RouteTableAssociation(id='rtbassoc-0156e899eec8ec74f')"
      ]
     },
     "execution_count": 7,
     "metadata": {},
     "output_type": "execute_result"
    }
   ],
   "source": [
    "# Asoociar la tabla de rutas a la subredes\n",
    "vpc_route_table_public.associate_with_subnet(SubnetId=vpc_subnet_public.id)\n",
    "vpc_route_table_appliance.associate_with_subnet(SubnetId=vpc_subnet_private_appliance.id)\n",
    "vpc_route_table_application.associate_with_subnet(SubnetId=vpc_subnet_private_application.id)"
   ]
  },
  {
   "cell_type": "code",
   "execution_count": 8,
   "metadata": {},
   "outputs": [],
   "source": [
    "# Crear un gateway de Internet (IGW):\n",
    "internetgateway = ec2_r1.create_internet_gateway(\n",
    "    TagSpecifications=[{\"ResourceType\": \"internet-gateway\", \n",
    "    \"Tags\": [{\n",
    "            \"Key\": \"Name\", \n",
    "            \"Value\": \"RoutingDemo-IGW\"}\n",
    "            ]}\n",
    "    ]\n",
    ")"
   ]
  },
  {
   "cell_type": "code",
   "execution_count": 9,
   "metadata": {},
   "outputs": [
    {
     "data": {
      "text/plain": [
       "{'ResponseMetadata': {'RequestId': 'b2e40fba-01f4-494f-b8db-5aee2b6d6d4d',\n",
       "  'HTTPStatusCode': 200,\n",
       "  'HTTPHeaders': {'x-amzn-requestid': 'b2e40fba-01f4-494f-b8db-5aee2b6d6d4d',\n",
       "   'cache-control': 'no-cache, no-store',\n",
       "   'strict-transport-security': 'max-age=31536000; includeSubDomains',\n",
       "   'content-type': 'text/xml;charset=UTF-8',\n",
       "   'content-length': '243',\n",
       "   'date': 'Wed, 18 Oct 2023 13:48:22 GMT',\n",
       "   'server': 'AmazonEC2'},\n",
       "  'RetryAttempts': 0}}"
      ]
     },
     "execution_count": 9,
     "metadata": {},
     "output_type": "execute_result"
    }
   ],
   "source": [
    "# Adjunte el gateway de Internet a la VPC existente:\n",
    "vpc_r1.attach_internet_gateway(InternetGatewayId=internetgateway.id)"
   ]
  },
  {
   "cell_type": "code",
   "execution_count": 10,
   "metadata": {},
   "outputs": [
    {
     "data": {
      "text/plain": [
       "ec2.Route(route_table_id='rtb-03ed45c637509b3eb', destination_cidr_block='0.0.0.0/0')"
      ]
     },
     "execution_count": 10,
     "metadata": {},
     "output_type": "execute_result"
    }
   ],
   "source": [
    "# Cree una ruta de Internet para la tabla de enrutamiento pública:\n",
    "vpc_route_table_public.create_route(\n",
    "    DestinationCidrBlock='0.0.0.0/0',\n",
    "    GatewayId=internetgateway.id\n",
    ")"
   ]
  },
  {
   "cell_type": "code",
   "execution_count": 11,
   "metadata": {},
   "outputs": [],
   "source": [
    "# Crear una Elastic IP address\n",
    "elastic_ip = ec2_client_r1.allocate_address(Domain='vpc')"
   ]
  },
  {
   "cell_type": "code",
   "execution_count": 12,
   "metadata": {},
   "outputs": [],
   "source": [
    "# Crear un NAT gateway\n",
    "natgateway = ec2_client_r1.create_nat_gateway(\n",
    "    AllocationId=elastic_ip['AllocationId'],\n",
    "    SubnetId=vpc_subnet_private_application.id\n",
    ")"
   ]
  },
  {
   "cell_type": "code",
   "execution_count": 15,
   "metadata": {},
   "outputs": [
    {
     "data": {
      "text/plain": [
       "ec2.Route(route_table_id='rtb-0aaac0706422ac0e7', destination_cidr_block='0.0.0.0/0')"
      ]
     },
     "execution_count": 15,
     "metadata": {},
     "output_type": "execute_result"
    }
   ],
   "source": [
    "# Asociar la tabla de rutas de la subred privada a la puerta de enlace NAT\n",
    "natgateway_id = natgateway['NatGateway']['NatGatewayId']\n",
    "vpc_route_table_application.create_route(\n",
    "    DestinationCidrBlock='0.0.0.0/0',\n",
    "    NatGatewayId=natgateway_id\n",
    ")"
   ]
  },
  {
   "cell_type": "code",
   "execution_count": 16,
   "metadata": {},
   "outputs": [],
   "source": [
    "# Crear una interfaz de red (ENI) para la instancia de la aplicación \n",
    "network_interface = ec2_client_r1.create_network_interface(\n",
    "    SubnetId=vpc_subnet_private_appliance.id,\n",
    "    Description='RoutingDemoVPC-Appliance-ENI'\n",
    ")"
   ]
  },
  {
   "cell_type": "code",
   "execution_count": 18,
   "metadata": {},
   "outputs": [
    {
     "data": {
      "text/plain": [
       "ec2.Route(route_table_id='rtb-0aaac0706422ac0e7', destination_cidr_block='10.10.1.0/24')"
      ]
     },
     "execution_count": 18,
     "metadata": {},
     "output_type": "execute_result"
    }
   ],
   "source": [
    "vpc_route_table_application.create_route(\n",
    "    DestinationCidrBlock='10.10.1.0/24',\n",
    "    NetworkInterfaceId=network_interface['NetworkInterface']['NetworkInterfaceId']\n",
    ")"
   ]
  },
  {
   "cell_type": "code",
   "execution_count": 19,
   "metadata": {},
   "outputs": [
    {
     "data": {
      "text/plain": [
       "ec2.Route(route_table_id='rtb-03ed45c637509b3eb', destination_cidr_block='10.10.3.0/24')"
      ]
     },
     "execution_count": 19,
     "metadata": {},
     "output_type": "execute_result"
    }
   ],
   "source": [
    "vpc_route_table_public.create_route(\n",
    "    DestinationCidrBlock='10.10.3.0/24',\n",
    "    NetworkInterfaceId=network_interface['NetworkInterface']['NetworkInterfaceId']\n",
    ")"
   ]
  },
  {
   "cell_type": "markdown",
   "metadata": {},
   "source": [
    "#### Crear 3 instancias de EC2 en cada subred"
   ]
  },
  {
   "cell_type": "code",
   "execution_count": 23,
   "metadata": {},
   "outputs": [
    {
     "name": "stdout",
     "output_type": "stream",
     "text": [
      "En la terminal ejecute el siguiente comando:\n",
      "    python create_ec2_ssm.py --vpc vpc-03fea7e7026d9f7b7 --subnet subnet-0e2b8f25d75c0d610 --tag BastionHost\n",
      "    python create_ec2_ssm.py --vpc vpc-03fea7e7026d9f7b7 --subnet subnet-05d347081705bb23a --tag Appliance\n",
      "    python create_ec2_ssm.py --vpc vpc-03fea7e7026d9f7b7 --subnet subnet-0efe80915dda30b88 --tag Application\n"
     ]
    }
   ],
   "source": [
    "print(\"En la terminal ejecute el siguiente comando:\")\n",
    "print(f\"    python create_ec2_ssm.py --vpc {vpc_r1.id} --subnet {vpc_subnet_public.id} --tag BastionHost\")\n",
    "print(f\"    python create_ec2_ssm.py --vpc {vpc_r1.id} --subnet {vpc_subnet_private_appliance.id} --tag Appliance\")\n",
    "print(f\"    python create_ec2_ssm.py --vpc {vpc_r1.id} --subnet {vpc_subnet_private_application.id} --tag Application\")"
   ]
  },
  {
   "cell_type": "code",
   "execution_count": null,
   "metadata": {},
   "outputs": [],
   "source": [
    "# Cambie el id de la instancia con el que acaba de crear\n",
    "account_id = boto3.client('sts').get_caller_identity().get('Account')\n",
    "instance_id = 'i-0423abb2c223f061c'"
   ]
  },
  {
   "cell_type": "code",
   "execution_count": 24,
   "metadata": {},
   "outputs": [
    {
     "data": {
      "text/plain": [
       "ec2.Vpc(id='vpc-03fea7e7026d9f7b7')"
      ]
     },
     "execution_count": 24,
     "metadata": {},
     "output_type": "execute_result"
    }
   ],
   "source": [
    "vpc_r1"
   ]
  }
 ],
 "metadata": {
  "kernelspec": {
   "display_name": "Python 3.9.12 ('base')",
   "language": "python",
   "name": "python3"
  },
  "language_info": {
   "codemirror_mode": {
    "name": "ipython",
    "version": 3
   },
   "file_extension": ".py",
   "mimetype": "text/x-python",
   "name": "python",
   "nbconvert_exporter": "python",
   "pygments_lexer": "ipython3",
   "version": "3.11.3"
  },
  "orig_nbformat": 4,
  "vscode": {
   "interpreter": {
    "hash": "c9cdd2fa3b32da9704bd8048bdba085d67219855a318f4adc7f095bb5cfa603b"
   }
  }
 },
 "nbformat": 4,
 "nbformat_minor": 2
}
