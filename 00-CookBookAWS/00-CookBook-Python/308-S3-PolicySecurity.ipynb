{
 "cells": [
  {
   "cell_type": "markdown",
   "metadata": {},
   "source": [
    "### Requiere HTTPS\n",
    "\n",
    "En este ejercicio crearemos una Política de S3 Bucket que requiere que las conexiones utilicen HTTPS."
   ]
  },
  {
   "cell_type": "code",
   "execution_count": 48,
   "metadata": {},
   "outputs": [],
   "source": [
    "import boto3\n",
    "import json\n",
    "import random\n",
    "from pprint import pprint\n",
    "from botocore.exceptions import ClientError\n",
    "\n",
    "region_aws = 'us-east-1'\n",
    "s3 = boto3.resource('s3', region_name=region_aws)\n",
    "s3_client = boto3.client('s3', region_name=region_aws)\n",
    "transfer = boto3.s3.transfer.S3Transfer(client=s3_client)"
   ]
  },
  {
   "cell_type": "code",
   "execution_count": 38,
   "metadata": {},
   "outputs": [
    {
     "name": "stdout",
     "output_type": "stream",
     "text": [
      "Bucket: s3.Bucket(name='cookbook-bucket-68492')\n"
     ]
    }
   ],
   "source": [
    "bucket = 'cookbook-bucket-{}'.format(random.randint(10000, 1000000))\n",
    "bucket = s3.create_bucket(Bucket=bucket)\n",
    "print(f\"Bucket: {bucket}\")"
   ]
  },
  {
   "cell_type": "code",
   "execution_count": 39,
   "metadata": {},
   "outputs": [
    {
     "data": {
      "text/plain": [
       "{'ResponseMetadata': {'RequestId': '61NMT9QJZXADADW9',\n",
       "  'HostId': 'xOcNoDs0GUiAM/PGN9kbmL+shlHswLZhr5+PVMoWsWFjNMjseoRBWqxIxTn3n8tQTR/CGYS1hH4=',\n",
       "  'HTTPStatusCode': 204,\n",
       "  'HTTPHeaders': {'x-amz-id-2': 'xOcNoDs0GUiAM/PGN9kbmL+shlHswLZhr5+PVMoWsWFjNMjseoRBWqxIxTn3n8tQTR/CGYS1hH4=',\n",
       "   'x-amz-request-id': '61NMT9QJZXADADW9',\n",
       "   'date': 'Mon, 31 Jul 2023 13:41:32 GMT',\n",
       "   'server': 'AmazonS3'},\n",
       "  'RetryAttempts': 0}}"
      ]
     },
     "execution_count": 39,
     "metadata": {},
     "output_type": "execute_result"
    }
   ],
   "source": [
    "policy = {\n",
    "    \"Statement\": [\n",
    "    {\n",
    "    \"Action\": \"s3:*\",\n",
    "    \"Effect\": \"Deny\",\n",
    "    \"Principal\": \"*\",\n",
    "    \"Resource\": f\"arn:aws:s3:::{bucket.name}/*\",\n",
    "    \"Condition\": {\n",
    "        \"Bool\": {\n",
    "            \"aws:SecureTransport\": False\n",
    "            }\n",
    "        }\n",
    "        }\n",
    "    ]\n",
    "}\n",
    "\n",
    "bucket.Policy().put(Policy=json.dumps(policy))"
   ]
  },
  {
   "cell_type": "markdown",
   "metadata": {},
   "source": [
    "#### Test http"
   ]
  },
  {
   "cell_type": "code",
   "execution_count": 46,
   "metadata": {},
   "outputs": [
    {
     "name": "stdout",
     "output_type": "stream",
     "text": [
      "Error: An error occurred (403) when calling the HeadObject operation: Forbidden\n"
     ]
    }
   ],
   "source": [
    "s3_http = boto3.client('s3', endpoint_url='http://s3.amazonaws.com', region_name=region_aws)\n",
    "\n",
    "# Upload a sample file\n",
    "key_name = 'ip-ranges.json'\n",
    "bucket.upload_file(key_name, key_name)\n",
    "\n",
    "try:\n",
    "    response = s3_http.head_object(\n",
    "        Bucket=bucket.name,\n",
    "        Key=key_name\n",
    "    )\n",
    "    pprint(response)\n",
    "except ClientError as e:\n",
    "    print(f\"Error: {e}\")"
   ]
  },
  {
   "cell_type": "markdown",
   "metadata": {},
   "source": [
    "* El comando debería devolver un error 403 ya que el endpoint-url es HTTP."
   ]
  },
  {
   "cell_type": "markdown",
   "metadata": {},
   "source": [
    "#### Test https"
   ]
  },
  {
   "cell_type": "code",
   "execution_count": 49,
   "metadata": {},
   "outputs": [
    {
     "name": "stdout",
     "output_type": "stream",
     "text": [
      "{'AcceptRanges': 'bytes',\n",
      " 'ContentLength': 1348061,\n",
      " 'ContentType': 'binary/octet-stream',\n",
      " 'ETag': '\"a4c4f220536a3a2bbfb53e6772039d1d\"',\n",
      " 'LastModified': datetime.datetime(2023, 7, 31, 13, 52, 11, tzinfo=tzutc()),\n",
      " 'Metadata': {},\n",
      " 'ResponseMetadata': {'HTTPHeaders': {'accept-ranges': 'bytes',\n",
      "                                      'content-length': '1348061',\n",
      "                                      'content-type': 'binary/octet-stream',\n",
      "                                      'date': 'Mon, 31 Jul 2023 13:52:13 GMT',\n",
      "                                      'etag': '\"a4c4f220536a3a2bbfb53e6772039d1d\"',\n",
      "                                      'last-modified': 'Mon, 31 Jul 2023 '\n",
      "                                                       '13:52:11 GMT',\n",
      "                                      'server': 'AmazonS3',\n",
      "                                      'x-amz-id-2': 'F1dwPvJf1qIZUr3yGro0eLuTVpYdW8KlHSi9p2ac0mftUoDA61XngGWOsKIjR+KCN7c+q6mZ0Hg=',\n",
      "                                      'x-amz-request-id': 'A1WE7V85ERVTQYG7',\n",
      "                                      'x-amz-server-side-encryption': 'AES256'},\n",
      "                      'HTTPStatusCode': 200,\n",
      "                      'HostId': 'F1dwPvJf1qIZUr3yGro0eLuTVpYdW8KlHSi9p2ac0mftUoDA61XngGWOsKIjR+KCN7c+q6mZ0Hg=',\n",
      "                      'RequestId': 'A1WE7V85ERVTQYG7',\n",
      "                      'RetryAttempts': 0},\n",
      " 'ServerSideEncryption': 'AES256'}\n"
     ]
    }
   ],
   "source": [
    "s3_https = boto3.client('s3', endpoint_url='https://s3.amazonaws.com', region_name=region_aws)\n",
    "\n",
    "# Upload a sample file\n",
    "key_name = 'ip-ranges.json'\n",
    "bucket.upload_file(key_name, key_name)\n",
    "\n",
    "try:\n",
    "    response = s3_https.head_object(\n",
    "        Bucket=bucket.name,\n",
    "        Key=key_name\n",
    "    )\n",
    "    pprint(response)\n",
    "except ClientError as e:\n",
    "    print(f\"Error: {e}\")"
   ]
  },
  {
   "cell_type": "markdown",
   "metadata": {},
   "source": [
    "### Require SSE-S3 Encryption\n",
    "\n",
    "En este ejercicio vamos a crear una Política de S3 Bucket que requiere cifrado de datos en reposo."
   ]
  },
  {
   "cell_type": "code",
   "execution_count": 52,
   "metadata": {},
   "outputs": [
    {
     "data": {
      "text/plain": [
       "{'ResponseMetadata': {'RequestId': '1FEB21CS86AVZKK5',\n",
       "  'HostId': 'gqkC3STMi/jNcz1zi3lw6279bXd+8rL1/8kh5H9mvBBlQd8VLMxcV5kLbWNoz5JkVnAJ5uYtakY=',\n",
       "  'HTTPStatusCode': 204,\n",
       "  'HTTPHeaders': {'x-amz-id-2': 'gqkC3STMi/jNcz1zi3lw6279bXd+8rL1/8kh5H9mvBBlQd8VLMxcV5kLbWNoz5JkVnAJ5uYtakY=',\n",
       "   'x-amz-request-id': '1FEB21CS86AVZKK5',\n",
       "   'date': 'Mon, 31 Jul 2023 13:56:23 GMT',\n",
       "   'server': 'AmazonS3'},\n",
       "  'RetryAttempts': 0}}"
      ]
     },
     "execution_count": 52,
     "metadata": {},
     "output_type": "execute_result"
    }
   ],
   "source": [
    "policy = {\n",
    "    \"Statement\": [\n",
    "        {\n",
    "            \"Effect\": \"Deny\",\n",
    "            \"Principal\": \"*\",\n",
    "            \"Action\": \"s3:PutObject\",\n",
    "            \"Resource\": f\"arn:aws:s3:::{bucket.name}/*\",\n",
    "            \"Condition\": {\n",
    "                \"StringNotEquals\": {\n",
    "                    \"s3:x-amz-server-side-encryption\": \"AES256\"\n",
    "                }\n",
    "            }\n",
    "        }\n",
    "    ]\n",
    "}\n",
    "\n",
    "bucket.Policy().put(Policy=json.dumps(policy))"
   ]
  },
  {
   "cell_type": "markdown",
   "metadata": {},
   "source": [
    "#### Sin encriptación SSE-S3"
   ]
  },
  {
   "cell_type": "code",
   "execution_count": 66,
   "metadata": {},
   "outputs": [
    {
     "name": "stdout",
     "output_type": "stream",
     "text": [
      "Failed to upload sample-file.txt to cookbook-bucket-68492/sample-file.txt: An error occurred (AccessDenied) when calling the PutObject operation: Access Denied\n"
     ]
    }
   ],
   "source": [
    "sample_file_content = 'This is a sample file content to illustrate the use of S3 Policy Security'\n",
    "sample_file_name = 'sample-file.txt'\n",
    "with open(sample_file_name, 'w') as f:\n",
    "    f.write(sample_file_content)\n",
    "\n",
    "try:\n",
    "    transfer.upload_file(sample_file_name,\n",
    "                     bucket.name, \n",
    "                     sample_file_name\n",
    "    )\n",
    "except ClientError as e:\n",
    "    print(f'Error uploading file {sample_file_name} to S3 bucket {bucket.name}: {e}')\n",
    "except Exception as e:\n",
    "    print(e) "
   ]
  },
  {
   "cell_type": "markdown",
   "metadata": {},
   "source": [
    "* La petición debería fallar, ya que el objeto no está encriptado usando encriptación SSE-S3 como requiere su política de buckets."
   ]
  },
  {
   "cell_type": "markdown",
   "metadata": {},
   "source": [
    "#### Con encriptación SSE-S3"
   ]
  },
  {
   "cell_type": "code",
   "execution_count": 67,
   "metadata": {},
   "outputs": [],
   "source": [
    "try:\n",
    "    transfer.upload_file(sample_file_name,\n",
    "                     bucket.name, \n",
    "                     sample_file_name,\n",
    "                     extra_args={'ServerSideEncryption':'AES256'}\n",
    "    )\n",
    "except ClientError as e:\n",
    "    print(f'Error uploading file {sample_file_name} to S3 bucket {bucket.name}: {e}')\n",
    "except Exception as e:\n",
    "    print(e) "
   ]
  },
  {
   "cell_type": "markdown",
   "metadata": {},
   "source": [
    "* El comando tuvo éxito porque el PUT utilizó SSE-S3."
   ]
  }
 ],
 "metadata": {
  "kernelspec": {
   "display_name": "personal",
   "language": "python",
   "name": "python3"
  },
  "language_info": {
   "codemirror_mode": {
    "name": "ipython",
    "version": 3
   },
   "file_extension": ".py",
   "mimetype": "text/x-python",
   "name": "python",
   "nbconvert_exporter": "python",
   "pygments_lexer": "ipython3",
   "version": "3.11.3"
  },
  "orig_nbformat": 4
 },
 "nbformat": 4,
 "nbformat_minor": 2
}
