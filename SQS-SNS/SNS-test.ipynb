{
 "cells": [
  {
   "cell_type": "code",
   "execution_count": 22,
   "id": "d7819bd0-6e31-46cf-9056-2fc6f01d37bf",
   "metadata": {
    "tags": []
   },
   "outputs": [],
   "source": [
    "import boto3\n",
    "import json\n",
    "from botocore.client import ClientError"
   ]
  },
  {
   "cell_type": "code",
   "execution_count": 3,
   "id": "c5e45920-cdb7-42b1-a60e-c7fdb687fd0d",
   "metadata": {
    "tags": []
   },
   "outputs": [],
   "source": [
    "sns = boto3.client(\"sns\")"
   ]
  },
  {
   "cell_type": "markdown",
   "id": "5a1eb728-0f50-49ab-ae7b-5cc758f5c2da",
   "metadata": {},
   "source": [
    "### Topics: listing, creating & deleting"
   ]
  },
  {
   "cell_type": "code",
   "execution_count": 4,
   "id": "47e83122-1427-4d74-ab95-0282c1cbeb9b",
   "metadata": {
    "tags": []
   },
   "outputs": [],
   "source": [
    "# Create topic\n",
    "response = sns.create_topic(Name=\"new_topic\")\n",
    "topic_arn = response[\"TopicArn\"]\n",
    "\n",
    "# List topics\n",
    "response = sns.list_topics()\n",
    "topics = response[\"Topics\"]\n",
    "\n",
    "# Delete topics\n",
    "# sns.delete_topic(TopicArn=topic_arn)"
   ]
  },
  {
   "cell_type": "markdown",
   "id": "c8694c67-07ca-4c24-ba8b-17777577f565",
   "metadata": {},
   "source": [
    "### Subscriptions: listing, creating & deleting"
   ]
  },
  {
   "cell_type": "code",
   "execution_count": 8,
   "id": "ac547f69-c266-4b10-9995-0d0f7f696046",
   "metadata": {
    "tags": []
   },
   "outputs": [],
   "source": [
    "# Create SMS subscription\n",
    "response = sns.subscribe(TopicArn=topic_arn, Protocol=\"SMS\", Endpoint=\"+59891324637\")\n",
    "subscription_arn = response[\"SubscriptionArn\"]\n",
    "\n",
    "# Create email subscription\n",
    "response = sns.subscribe(TopicArn=topic_arn, Protocol=\"email\", Endpoint=\"estebanpbuday@yahoo.es\")\n",
    "subscription_arn = response[\"SubscriptionArn\"]"
   ]
  },
  {
   "cell_type": "code",
   "execution_count": 12,
   "id": "b42d4ad2-109e-4481-a836-aeab8a65949c",
   "metadata": {
    "tags": []
   },
   "outputs": [
    {
     "data": {
      "text/plain": [
       "[{'SubscriptionArn': 'arn:aws:sns:us-east-1:763864518324:new_topic:9521d287-db8e-4a67-a847-20258ee7a234',\n",
       "  'Owner': '763864518324',\n",
       "  'Protocol': 'sms',\n",
       "  'Endpoint': '+59891324637',\n",
       "  'TopicArn': 'arn:aws:sns:us-east-1:763864518324:new_topic'},\n",
       " {'SubscriptionArn': 'PendingConfirmation',\n",
       "  'Owner': '763864518324',\n",
       "  'Protocol': 'email',\n",
       "  'Endpoint': 'estebanpbuday@yahoo.es',\n",
       "  'TopicArn': 'arn:aws:sns:us-east-1:763864518324:new_topic'}]"
      ]
     },
     "execution_count": 12,
     "metadata": {},
     "output_type": "execute_result"
    }
   ],
   "source": [
    "# List all subscriptions\n",
    "response = sns.list_subscriptions()\n",
    "subscriptions = response[\"Subscriptions\"]\n",
    "subscriptions"
   ]
  },
  {
   "cell_type": "code",
   "execution_count": 13,
   "id": "db8e6eed-d366-4a99-ae25-5ba358ee293d",
   "metadata": {
    "tags": []
   },
   "outputs": [
    {
     "data": {
      "text/plain": [
       "[{'SubscriptionArn': 'PendingConfirmation',\n",
       "  'Owner': '763864518324',\n",
       "  'Protocol': 'email',\n",
       "  'Endpoint': 'estebanpbuday@yahoo.es',\n",
       "  'TopicArn': 'arn:aws:sns:us-east-1:763864518324:new_topic'},\n",
       " {'SubscriptionArn': 'arn:aws:sns:us-east-1:763864518324:new_topic:9521d287-db8e-4a67-a847-20258ee7a234',\n",
       "  'Owner': '763864518324',\n",
       "  'Protocol': 'sms',\n",
       "  'Endpoint': '+59891324637',\n",
       "  'TopicArn': 'arn:aws:sns:us-east-1:763864518324:new_topic'}]"
      ]
     },
     "execution_count": 13,
     "metadata": {},
     "output_type": "execute_result"
    }
   ],
   "source": [
    "# List subscriptions by topic\n",
    "response = sns.list_subscriptions_by_topic(TopicArn=topic_arn)\n",
    "subscriptions = response[\"Subscriptions\"]\n",
    "subscriptions"
   ]
  },
  {
   "cell_type": "code",
   "execution_count": 14,
   "id": "5c0aa9ac-f3c2-498e-87d0-80a8763f4628",
   "metadata": {
    "tags": []
   },
   "outputs": [],
   "source": [
    "# Delete subscription\n",
    "# sns.unsubscribe(SubscriptionArn=subscription_arn)"
   ]
  },
  {
   "cell_type": "code",
   "execution_count": 15,
   "id": "2de0a83c-0e86-4b55-a387-ebcf608c9179",
   "metadata": {
    "tags": []
   },
   "outputs": [],
   "source": [
    "# Delete multiple subscriptions (here: all SMS ones)\n",
    "# for sub in subscriptions:\n",
    "# \tif sub[\"Protocol\"] == \"sms\":\n",
    "# \t\tsns.unsubscribe(sub[\"SubscriptionArn\"])"
   ]
  },
  {
   "cell_type": "code",
   "execution_count": 16,
   "id": "030f756a-a2d6-460e-88eb-53bcbf95bd66",
   "metadata": {
    "tags": []
   },
   "outputs": [
    {
     "data": {
      "text/plain": [
       "{'MessageId': '80f537b0-6721-5ab1-96b1-6b2fec84371b',\n",
       " 'ResponseMetadata': {'RequestId': 'ea68dd6e-ca29-5fa5-b9ec-81f1418c520f',\n",
       "  'HTTPStatusCode': 200,\n",
       "  'HTTPHeaders': {'x-amzn-requestid': 'ea68dd6e-ca29-5fa5-b9ec-81f1418c520f',\n",
       "   'content-type': 'text/xml',\n",
       "   'content-length': '294',\n",
       "   'date': 'Thu, 30 Mar 2023 13:06:45 GMT'},\n",
       "  'RetryAttempts': 0}}"
      ]
     },
     "execution_count": 16,
     "metadata": {},
     "output_type": "execute_result"
    }
   ],
   "source": [
    "# Publishing to topics\n",
    "sns.publish(TopicArn=topic_arn, \n",
    "            Message=\"message text\", \n",
    "            Subject=\"subject used in emails only\")"
   ]
  },
  {
   "cell_type": "code",
   "execution_count": 17,
   "id": "15b580dd-4221-44fb-93e0-b6c41fbb5db2",
   "metadata": {
    "tags": []
   },
   "outputs": [
    {
     "data": {
      "text/plain": [
       "{'MessageId': '5afd11cd-9690-52a6-b197-4d521d6c4155',\n",
       " 'ResponseMetadata': {'RequestId': '3bc7c6f2-d95b-534c-91ea-9a6d52a780bf',\n",
       "  'HTTPStatusCode': 200,\n",
       "  'HTTPHeaders': {'x-amzn-requestid': '3bc7c6f2-d95b-534c-91ea-9a6d52a780bf',\n",
       "   'content-type': 'text/xml',\n",
       "   'content-length': '294',\n",
       "   'date': 'Thu, 30 Mar 2023 13:08:11 GMT'},\n",
       "  'RetryAttempts': 0}}"
      ]
     },
     "execution_count": 17,
     "metadata": {},
     "output_type": "execute_result"
    }
   ],
   "source": [
    "# Send a single SMS (no topic, no subscription needed)\n",
    "sns.publish(PhoneNumber=\"+59898941069\", \n",
    "            Message=\"message text\")"
   ]
  },
  {
   "cell_type": "code",
   "execution_count": 31,
   "id": "d508581a-b06c-41af-bf9f-1400780beeb2",
   "metadata": {
    "tags": []
   },
   "outputs": [],
   "source": [
    "class SnsWrapper:\n",
    "    \"\"\"Encapsulates Amazon SNS topic and subscription functions.\"\"\"\n",
    "    def __init__(self, sns_resource):\n",
    "        \"\"\"\n",
    "        :param sns_resource: A Boto3 Amazon SNS resource.\n",
    "        \"\"\"\n",
    "        self.sns_resource = sns_resource\n",
    "\n",
    "    def publish_text_message(self, phone_number, message):\n",
    "        \"\"\"\n",
    "        Publishes a text message directly to a phone number without need for a\n",
    "        subscription.\n",
    "\n",
    "        :param phone_number: The phone number that receives the message. This must be\n",
    "                             in E.164 format. For example, a United States phone\n",
    "                             number might be +12065550101.\n",
    "        :param message: The message to send.\n",
    "        :return: The ID of the message.\n",
    "        \"\"\"\n",
    "        try:\n",
    "            response = self.sns_resource.meta.client.publish(\n",
    "                PhoneNumber=phone_number, Message=message)\n",
    "            message_id = response['MessageId']\n",
    "            print(f\"Published message to {phone_number}\")\n",
    "        except ClientError:\n",
    "            print(\"Couldn't publish message to %s.\", phone_number)\n",
    "            raise\n",
    "        else:\n",
    "            return message_id"
   ]
  },
  {
   "cell_type": "code",
   "execution_count": 32,
   "id": "dd2b20ed-a224-4c69-85bf-765ed7685b38",
   "metadata": {
    "tags": []
   },
   "outputs": [],
   "source": [
    "resource_sns = boto3.resource('sns')\n",
    "cm = SnsWrapper(resource_sns)"
   ]
  },
  {
   "cell_type": "code",
   "execution_count": 33,
   "id": "d1a8e366-e620-4ded-9bcb-0b9d8d3cc53c",
   "metadata": {
    "tags": []
   },
   "outputs": [
    {
     "name": "stdout",
     "output_type": "stream",
     "text": [
      "Published message to 59898941069\n"
     ]
    },
    {
     "data": {
      "text/plain": [
       "'29a87be2-329a-5e25-8478-277dbccfdfe5'"
      ]
     },
     "execution_count": 33,
     "metadata": {},
     "output_type": "execute_result"
    }
   ],
   "source": [
    "cm.publish_text_message(\"59898941069\", \"dsdss\")"
   ]
  }
 ],
 "metadata": {
  "availableInstances": [
   {
    "_defaultOrder": 0,
    "_isFastLaunch": true,
    "category": "General purpose",
    "gpuNum": 0,
    "hideHardwareSpecs": false,
    "memoryGiB": 4,
    "name": "ml.t3.medium",
    "vcpuNum": 2
   },
   {
    "_defaultOrder": 1,
    "_isFastLaunch": false,
    "category": "General purpose",
    "gpuNum": 0,
    "hideHardwareSpecs": false,
    "memoryGiB": 8,
    "name": "ml.t3.large",
    "vcpuNum": 2
   },
   {
    "_defaultOrder": 2,
    "_isFastLaunch": false,
    "category": "General purpose",
    "gpuNum": 0,
    "hideHardwareSpecs": false,
    "memoryGiB": 16,
    "name": "ml.t3.xlarge",
    "vcpuNum": 4
   },
   {
    "_defaultOrder": 3,
    "_isFastLaunch": false,
    "category": "General purpose",
    "gpuNum": 0,
    "hideHardwareSpecs": false,
    "memoryGiB": 32,
    "name": "ml.t3.2xlarge",
    "vcpuNum": 8
   },
   {
    "_defaultOrder": 4,
    "_isFastLaunch": true,
    "category": "General purpose",
    "gpuNum": 0,
    "hideHardwareSpecs": false,
    "memoryGiB": 8,
    "name": "ml.m5.large",
    "vcpuNum": 2
   },
   {
    "_defaultOrder": 5,
    "_isFastLaunch": false,
    "category": "General purpose",
    "gpuNum": 0,
    "hideHardwareSpecs": false,
    "memoryGiB": 16,
    "name": "ml.m5.xlarge",
    "vcpuNum": 4
   },
   {
    "_defaultOrder": 6,
    "_isFastLaunch": false,
    "category": "General purpose",
    "gpuNum": 0,
    "hideHardwareSpecs": false,
    "memoryGiB": 32,
    "name": "ml.m5.2xlarge",
    "vcpuNum": 8
   },
   {
    "_defaultOrder": 7,
    "_isFastLaunch": false,
    "category": "General purpose",
    "gpuNum": 0,
    "hideHardwareSpecs": false,
    "memoryGiB": 64,
    "name": "ml.m5.4xlarge",
    "vcpuNum": 16
   },
   {
    "_defaultOrder": 8,
    "_isFastLaunch": false,
    "category": "General purpose",
    "gpuNum": 0,
    "hideHardwareSpecs": false,
    "memoryGiB": 128,
    "name": "ml.m5.8xlarge",
    "vcpuNum": 32
   },
   {
    "_defaultOrder": 9,
    "_isFastLaunch": false,
    "category": "General purpose",
    "gpuNum": 0,
    "hideHardwareSpecs": false,
    "memoryGiB": 192,
    "name": "ml.m5.12xlarge",
    "vcpuNum": 48
   },
   {
    "_defaultOrder": 10,
    "_isFastLaunch": false,
    "category": "General purpose",
    "gpuNum": 0,
    "hideHardwareSpecs": false,
    "memoryGiB": 256,
    "name": "ml.m5.16xlarge",
    "vcpuNum": 64
   },
   {
    "_defaultOrder": 11,
    "_isFastLaunch": false,
    "category": "General purpose",
    "gpuNum": 0,
    "hideHardwareSpecs": false,
    "memoryGiB": 384,
    "name": "ml.m5.24xlarge",
    "vcpuNum": 96
   },
   {
    "_defaultOrder": 12,
    "_isFastLaunch": false,
    "category": "General purpose",
    "gpuNum": 0,
    "hideHardwareSpecs": false,
    "memoryGiB": 8,
    "name": "ml.m5d.large",
    "vcpuNum": 2
   },
   {
    "_defaultOrder": 13,
    "_isFastLaunch": false,
    "category": "General purpose",
    "gpuNum": 0,
    "hideHardwareSpecs": false,
    "memoryGiB": 16,
    "name": "ml.m5d.xlarge",
    "vcpuNum": 4
   },
   {
    "_defaultOrder": 14,
    "_isFastLaunch": false,
    "category": "General purpose",
    "gpuNum": 0,
    "hideHardwareSpecs": false,
    "memoryGiB": 32,
    "name": "ml.m5d.2xlarge",
    "vcpuNum": 8
   },
   {
    "_defaultOrder": 15,
    "_isFastLaunch": false,
    "category": "General purpose",
    "gpuNum": 0,
    "hideHardwareSpecs": false,
    "memoryGiB": 64,
    "name": "ml.m5d.4xlarge",
    "vcpuNum": 16
   },
   {
    "_defaultOrder": 16,
    "_isFastLaunch": false,
    "category": "General purpose",
    "gpuNum": 0,
    "hideHardwareSpecs": false,
    "memoryGiB": 128,
    "name": "ml.m5d.8xlarge",
    "vcpuNum": 32
   },
   {
    "_defaultOrder": 17,
    "_isFastLaunch": false,
    "category": "General purpose",
    "gpuNum": 0,
    "hideHardwareSpecs": false,
    "memoryGiB": 192,
    "name": "ml.m5d.12xlarge",
    "vcpuNum": 48
   },
   {
    "_defaultOrder": 18,
    "_isFastLaunch": false,
    "category": "General purpose",
    "gpuNum": 0,
    "hideHardwareSpecs": false,
    "memoryGiB": 256,
    "name": "ml.m5d.16xlarge",
    "vcpuNum": 64
   },
   {
    "_defaultOrder": 19,
    "_isFastLaunch": false,
    "category": "General purpose",
    "gpuNum": 0,
    "hideHardwareSpecs": false,
    "memoryGiB": 384,
    "name": "ml.m5d.24xlarge",
    "vcpuNum": 96
   },
   {
    "_defaultOrder": 20,
    "_isFastLaunch": false,
    "category": "General purpose",
    "gpuNum": 0,
    "hideHardwareSpecs": true,
    "memoryGiB": 0,
    "name": "ml.geospatial.interactive",
    "supportedImageNames": [
     "sagemaker-geospatial-v1-0"
    ],
    "vcpuNum": 0
   },
   {
    "_defaultOrder": 21,
    "_isFastLaunch": true,
    "category": "Compute optimized",
    "gpuNum": 0,
    "hideHardwareSpecs": false,
    "memoryGiB": 4,
    "name": "ml.c5.large",
    "vcpuNum": 2
   },
   {
    "_defaultOrder": 22,
    "_isFastLaunch": false,
    "category": "Compute optimized",
    "gpuNum": 0,
    "hideHardwareSpecs": false,
    "memoryGiB": 8,
    "name": "ml.c5.xlarge",
    "vcpuNum": 4
   },
   {
    "_defaultOrder": 23,
    "_isFastLaunch": false,
    "category": "Compute optimized",
    "gpuNum": 0,
    "hideHardwareSpecs": false,
    "memoryGiB": 16,
    "name": "ml.c5.2xlarge",
    "vcpuNum": 8
   },
   {
    "_defaultOrder": 24,
    "_isFastLaunch": false,
    "category": "Compute optimized",
    "gpuNum": 0,
    "hideHardwareSpecs": false,
    "memoryGiB": 32,
    "name": "ml.c5.4xlarge",
    "vcpuNum": 16
   },
   {
    "_defaultOrder": 25,
    "_isFastLaunch": false,
    "category": "Compute optimized",
    "gpuNum": 0,
    "hideHardwareSpecs": false,
    "memoryGiB": 72,
    "name": "ml.c5.9xlarge",
    "vcpuNum": 36
   },
   {
    "_defaultOrder": 26,
    "_isFastLaunch": false,
    "category": "Compute optimized",
    "gpuNum": 0,
    "hideHardwareSpecs": false,
    "memoryGiB": 96,
    "name": "ml.c5.12xlarge",
    "vcpuNum": 48
   },
   {
    "_defaultOrder": 27,
    "_isFastLaunch": false,
    "category": "Compute optimized",
    "gpuNum": 0,
    "hideHardwareSpecs": false,
    "memoryGiB": 144,
    "name": "ml.c5.18xlarge",
    "vcpuNum": 72
   },
   {
    "_defaultOrder": 28,
    "_isFastLaunch": false,
    "category": "Compute optimized",
    "gpuNum": 0,
    "hideHardwareSpecs": false,
    "memoryGiB": 192,
    "name": "ml.c5.24xlarge",
    "vcpuNum": 96
   },
   {
    "_defaultOrder": 29,
    "_isFastLaunch": true,
    "category": "Accelerated computing",
    "gpuNum": 1,
    "hideHardwareSpecs": false,
    "memoryGiB": 16,
    "name": "ml.g4dn.xlarge",
    "vcpuNum": 4
   },
   {
    "_defaultOrder": 30,
    "_isFastLaunch": false,
    "category": "Accelerated computing",
    "gpuNum": 1,
    "hideHardwareSpecs": false,
    "memoryGiB": 32,
    "name": "ml.g4dn.2xlarge",
    "vcpuNum": 8
   },
   {
    "_defaultOrder": 31,
    "_isFastLaunch": false,
    "category": "Accelerated computing",
    "gpuNum": 1,
    "hideHardwareSpecs": false,
    "memoryGiB": 64,
    "name": "ml.g4dn.4xlarge",
    "vcpuNum": 16
   },
   {
    "_defaultOrder": 32,
    "_isFastLaunch": false,
    "category": "Accelerated computing",
    "gpuNum": 1,
    "hideHardwareSpecs": false,
    "memoryGiB": 128,
    "name": "ml.g4dn.8xlarge",
    "vcpuNum": 32
   },
   {
    "_defaultOrder": 33,
    "_isFastLaunch": false,
    "category": "Accelerated computing",
    "gpuNum": 4,
    "hideHardwareSpecs": false,
    "memoryGiB": 192,
    "name": "ml.g4dn.12xlarge",
    "vcpuNum": 48
   },
   {
    "_defaultOrder": 34,
    "_isFastLaunch": false,
    "category": "Accelerated computing",
    "gpuNum": 1,
    "hideHardwareSpecs": false,
    "memoryGiB": 256,
    "name": "ml.g4dn.16xlarge",
    "vcpuNum": 64
   },
   {
    "_defaultOrder": 35,
    "_isFastLaunch": false,
    "category": "Accelerated computing",
    "gpuNum": 1,
    "hideHardwareSpecs": false,
    "memoryGiB": 61,
    "name": "ml.p3.2xlarge",
    "vcpuNum": 8
   },
   {
    "_defaultOrder": 36,
    "_isFastLaunch": false,
    "category": "Accelerated computing",
    "gpuNum": 4,
    "hideHardwareSpecs": false,
    "memoryGiB": 244,
    "name": "ml.p3.8xlarge",
    "vcpuNum": 32
   },
   {
    "_defaultOrder": 37,
    "_isFastLaunch": false,
    "category": "Accelerated computing",
    "gpuNum": 8,
    "hideHardwareSpecs": false,
    "memoryGiB": 488,
    "name": "ml.p3.16xlarge",
    "vcpuNum": 64
   },
   {
    "_defaultOrder": 38,
    "_isFastLaunch": false,
    "category": "Accelerated computing",
    "gpuNum": 8,
    "hideHardwareSpecs": false,
    "memoryGiB": 768,
    "name": "ml.p3dn.24xlarge",
    "vcpuNum": 96
   },
   {
    "_defaultOrder": 39,
    "_isFastLaunch": false,
    "category": "Memory Optimized",
    "gpuNum": 0,
    "hideHardwareSpecs": false,
    "memoryGiB": 16,
    "name": "ml.r5.large",
    "vcpuNum": 2
   },
   {
    "_defaultOrder": 40,
    "_isFastLaunch": false,
    "category": "Memory Optimized",
    "gpuNum": 0,
    "hideHardwareSpecs": false,
    "memoryGiB": 32,
    "name": "ml.r5.xlarge",
    "vcpuNum": 4
   },
   {
    "_defaultOrder": 41,
    "_isFastLaunch": false,
    "category": "Memory Optimized",
    "gpuNum": 0,
    "hideHardwareSpecs": false,
    "memoryGiB": 64,
    "name": "ml.r5.2xlarge",
    "vcpuNum": 8
   },
   {
    "_defaultOrder": 42,
    "_isFastLaunch": false,
    "category": "Memory Optimized",
    "gpuNum": 0,
    "hideHardwareSpecs": false,
    "memoryGiB": 128,
    "name": "ml.r5.4xlarge",
    "vcpuNum": 16
   },
   {
    "_defaultOrder": 43,
    "_isFastLaunch": false,
    "category": "Memory Optimized",
    "gpuNum": 0,
    "hideHardwareSpecs": false,
    "memoryGiB": 256,
    "name": "ml.r5.8xlarge",
    "vcpuNum": 32
   },
   {
    "_defaultOrder": 44,
    "_isFastLaunch": false,
    "category": "Memory Optimized",
    "gpuNum": 0,
    "hideHardwareSpecs": false,
    "memoryGiB": 384,
    "name": "ml.r5.12xlarge",
    "vcpuNum": 48
   },
   {
    "_defaultOrder": 45,
    "_isFastLaunch": false,
    "category": "Memory Optimized",
    "gpuNum": 0,
    "hideHardwareSpecs": false,
    "memoryGiB": 512,
    "name": "ml.r5.16xlarge",
    "vcpuNum": 64
   },
   {
    "_defaultOrder": 46,
    "_isFastLaunch": false,
    "category": "Memory Optimized",
    "gpuNum": 0,
    "hideHardwareSpecs": false,
    "memoryGiB": 768,
    "name": "ml.r5.24xlarge",
    "vcpuNum": 96
   },
   {
    "_defaultOrder": 47,
    "_isFastLaunch": false,
    "category": "Accelerated computing",
    "gpuNum": 1,
    "hideHardwareSpecs": false,
    "memoryGiB": 16,
    "name": "ml.g5.xlarge",
    "vcpuNum": 4
   },
   {
    "_defaultOrder": 48,
    "_isFastLaunch": false,
    "category": "Accelerated computing",
    "gpuNum": 1,
    "hideHardwareSpecs": false,
    "memoryGiB": 32,
    "name": "ml.g5.2xlarge",
    "vcpuNum": 8
   },
   {
    "_defaultOrder": 49,
    "_isFastLaunch": false,
    "category": "Accelerated computing",
    "gpuNum": 1,
    "hideHardwareSpecs": false,
    "memoryGiB": 64,
    "name": "ml.g5.4xlarge",
    "vcpuNum": 16
   },
   {
    "_defaultOrder": 50,
    "_isFastLaunch": false,
    "category": "Accelerated computing",
    "gpuNum": 1,
    "hideHardwareSpecs": false,
    "memoryGiB": 128,
    "name": "ml.g5.8xlarge",
    "vcpuNum": 32
   },
   {
    "_defaultOrder": 51,
    "_isFastLaunch": false,
    "category": "Accelerated computing",
    "gpuNum": 1,
    "hideHardwareSpecs": false,
    "memoryGiB": 256,
    "name": "ml.g5.16xlarge",
    "vcpuNum": 64
   },
   {
    "_defaultOrder": 52,
    "_isFastLaunch": false,
    "category": "Accelerated computing",
    "gpuNum": 4,
    "hideHardwareSpecs": false,
    "memoryGiB": 192,
    "name": "ml.g5.12xlarge",
    "vcpuNum": 48
   },
   {
    "_defaultOrder": 53,
    "_isFastLaunch": false,
    "category": "Accelerated computing",
    "gpuNum": 4,
    "hideHardwareSpecs": false,
    "memoryGiB": 384,
    "name": "ml.g5.24xlarge",
    "vcpuNum": 96
   },
   {
    "_defaultOrder": 54,
    "_isFastLaunch": false,
    "category": "Accelerated computing",
    "gpuNum": 8,
    "hideHardwareSpecs": false,
    "memoryGiB": 768,
    "name": "ml.g5.48xlarge",
    "vcpuNum": 192
   }
  ],
  "instance_type": "ml.m5.large",
  "kernelspec": {
   "display_name": "Python 3 (Data Science 3.0)",
   "language": "python",
   "name": "python3__SAGEMAKER_INTERNAL__arn:aws:sagemaker:us-east-1:081325390199:image/sagemaker-data-science-310-v1"
  },
  "language_info": {
   "codemirror_mode": {
    "name": "ipython",
    "version": 3
   },
   "file_extension": ".py",
   "mimetype": "text/x-python",
   "name": "python",
   "nbconvert_exporter": "python",
   "pygments_lexer": "ipython3",
   "version": "3.10.6"
  }
 },
 "nbformat": 4,
 "nbformat_minor": 5
}
