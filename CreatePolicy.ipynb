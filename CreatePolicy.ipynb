{
 "cells": [
  {
   "cell_type": "code",
   "execution_count": 7,
   "metadata": {},
   "outputs": [],
   "source": [
    "import json\n",
    "import logging\n",
    "import operator\n",
    "import pprint\n",
    "import time\n",
    "\n",
    "import boto3\n",
    "from botocore.exceptions import ClientError\n",
    "\n",
    "logger = logging.getLogger(__name__)\n",
    "iam = boto3.resource('iam')"
   ]
  },
  {
   "cell_type": "code",
   "execution_count": 10,
   "metadata": {},
   "outputs": [],
   "source": [
    "def create_role(role_name, allowed_services):\n",
    "    \"\"\"\n",
    "    Creates a role that lets a list of specified services assume the role.\n",
    "    :param role_name: The name of the role.\n",
    "    :param allowed_services: The services that can assume the role.\n",
    "    :return: The newly created role.\n",
    "    \"\"\"\n",
    "    trust_policy = {\n",
    "        'Version': '2012-10-17',\n",
    "        'Statement': [{\n",
    "                'Effect': 'Allow',\n",
    "                'Principal': {'Service': service},\n",
    "                'Action': 'sts:AssumeRole'\n",
    "            } for service in allowed_services\n",
    "        ]\n",
    "    }\n",
    "\n",
    "    try:\n",
    "        role = iam.create_role(\n",
    "            RoleName=role_name,\n",
    "            AssumeRolePolicyDocument=json.dumps(trust_policy))\n",
    "        logger.info(\"Created role %s.\", role.name)\n",
    "    except ClientError:\n",
    "        logger.exception(\"Couldn't create role %s.\", role_name)\n",
    "        raise\n",
    "    else:\n",
    "        return role"
   ]
  },
  {
   "cell_type": "code",
   "execution_count": 12,
   "metadata": {},
   "outputs": [],
   "source": [
    "def attach_policy(role_name, policy_arn):\n",
    "    \"\"\"\n",
    "    Attaches a policy to a role.\n",
    "    :param role_name: The name of the role. **Note** this is the name, not the ARN.\n",
    "    :param policy_arn: The ARN of the policy.\n",
    "    \"\"\"\n",
    "    try:\n",
    "        iam.Role(role_name).attach_policy(PolicyArn=policy_arn)\n",
    "        logger.info(\"Attached policy %s to role %s.\", policy_arn, role_name)\n",
    "    except ClientError:\n",
    "        logger.exception(\"Couldn't attach policy %s to role %s.\", policy_arn, role_name)\n",
    "        raise"
   ]
  },
  {
   "cell_type": "code",
   "execution_count": 15,
   "metadata": {},
   "outputs": [],
   "source": [
    "role_name = \"lambda-vpc-role\""
   ]
  },
  {
   "cell_type": "code",
   "execution_count": 16,
   "metadata": {},
   "outputs": [
    {
     "data": {
      "text/plain": [
       "iam.Role(name='lambda-vpc-role')"
      ]
     },
     "execution_count": 16,
     "metadata": {},
     "output_type": "execute_result"
    }
   ],
   "source": [
    "create_role(role_name, ['lambda.amazonaws.com'])"
   ]
  },
  {
   "cell_type": "code",
   "execution_count": 17,
   "metadata": {},
   "outputs": [],
   "source": [
    "attach_policy(role_name, 'arn:aws:iam::aws:policy/service-role/AWSLambdaVPCAccessExecutionRole')"
   ]
  }
 ],
 "metadata": {
  "kernelspec": {
   "display_name": "Python 3.9.12 ('base')",
   "language": "python",
   "name": "python3"
  },
  "language_info": {
   "codemirror_mode": {
    "name": "ipython",
    "version": 3
   },
   "file_extension": ".py",
   "mimetype": "text/x-python",
   "name": "python",
   "nbconvert_exporter": "python",
   "pygments_lexer": "ipython3",
   "version": "3.9.12"
  },
  "orig_nbformat": 4,
  "vscode": {
   "interpreter": {
    "hash": "c9cdd2fa3b32da9704bd8048bdba085d67219855a318f4adc7f095bb5cfa603b"
   }
  }
 },
 "nbformat": 4,
 "nbformat_minor": 2
}
